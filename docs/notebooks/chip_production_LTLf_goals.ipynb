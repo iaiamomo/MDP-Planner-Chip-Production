{
 "cells": [
  {
   "cell_type": "code",
   "execution_count": 5,
   "metadata": {},
   "outputs": [],
   "source": [
    "from typing import Set\n",
    "# Python imports, put at the top for simplicity\n",
    "from logaut import ltl2dfa\n",
    "from pylogics.parsers import parse_ltl\n",
    "import pylogics.parsers.ldl\n",
    "import logaut\n",
    "\n",
    "from mdp_dp_rl.algorithms.dp.dp_analytic import DPAnalytic\n",
    "from stochastic_service_composition.declare_utils import *\n",
    "from stochastic_service_composition.dfa_target import from_symbolic_automaton_to_declare_automaton\n",
    "from stochastic_service_composition.dfa_target import mdp_from_dfa\n",
    "from docs.notebooks.utils import render_service, render_composition_mdp, render_mdp_dfa, \\\n",
    "    print_policy_data, print_value_function, print_q_value_function\n",
    "from stochastic_service_composition.composition_mdp import comp_mdp\n",
    "from stochastic_service_composition.services import build_service_from_transitions, Service\n",
    "from stochastic_service_composition.target import build_target_from_transitions, target_from_dfa\n"
   ]
  },
  {
   "cell_type": "markdown",
   "metadata": {},
   "source": [
    "## Use case for \"Stochastic Service Composition with Industrial APIs\" - Chip Production.\n",
    "\n",
    "In this notebook, we present the implementation of the use case for \"Stochastic Service Composition with Industrial APIs\" about chip production."
   ]
  },
  {
   "cell_type": "markdown",
   "metadata": {},
   "source": [
    "# Available Services\n",
    "\n",
    "In the following we provide definitions about available services:"
   ]
  },
  {
   "cell_type": "code",
   "execution_count": 6,
   "metadata": {},
   "outputs": [],
   "source": [
    "LOW_PROB = 0.05\n",
    "\n",
    "# probabilities of being broken after an action\n",
    "DEFAULT_BROKEN_PROB = LOW_PROB\n",
    "BROKEN_PROB = 0.5\n",
    "HIGH_BROKEN_PROB = 0.7\n",
    "\n",
    "# default probability of being unemployable after the configuration\n",
    "DEFAULT_UNEMPLOYABLE_PROB = LOW_PROB\n",
    "HIGH_UNEMPLOYABLE_PROB = 0.5\n",
    "\n",
    "# costs of the machines that perform their job in different countries\n",
    "#DEFAULT_USA_REWARD = -1.0\n",
    "WAR_REWARD = -3.0\n",
    "USA_REWARD = -1.0\n",
    "HIGH_USA_REWARD = -5.0\n",
    "UK_REWARD = -6.8\n",
    "CHINA_REWARD = -11.7\n",
    "TAIWAN_REWARD = -12.2\n",
    "RUSSIA_REWARD = -9.12 # we have to take into the account political problems\n",
    "NORWAY_REWARD = -7.16\n",
    "AUSTRALIA_REWARD = -14.0\n",
    "INDIA_REWARD = -13.1\n",
    "BELGIUM_REWARD = -7.6\n",
    "SWITZERLAND_REWARD = -8.0\n",
    "CANADA_REWARD = -1.8\n",
    "PERU_REWARD = -6.0\n",
    "AUSTRIA_REWARD = -8.38\n",
    "BRAZIL_REWARD = -6.7\n",
    "FRANCE_REWARD = -7.6\n",
    "MALAYSIA_REWARD = -14.73\n",
    "TURKEY_REWARD = -10.16\n",
    "KAZAKHSTAN_REWARD = -10.4\n",
    "CHILE_REWARD = -7.8\n",
    "BOLIVIA_REWARD = -6.8\n",
    "ARGENTINA_REWARD = -8.55\n",
    "MOROCCO_REWARD = -7.9\n",
    "JAPAN_REWARD = -10.1\n",
    "SOUTH_KOREA = -10.7\n",
    "NETHERLANDS_REWARD = -7.5\n",
    "\n",
    "# default reward when the service becomes broken\n",
    "DEFAULT_BROKEN_REWARD = -10.0"
   ]
  },
  {
   "cell_type": "code",
   "execution_count": 7,
   "metadata": {},
   "outputs": [],
   "source": [
    "# all the atomic actions for the task\n",
    "PICK_BUY_DESIGN = \"pick_buy_design\"\n",
    "PICK_SILICON = \"pick_silicon\"\n",
    "PICK_WAFER = \"pick_wafer\"\n",
    "PICK_BORON = \"pick_boron\"\n",
    "PICK_PHOSPHOR = \"pick_phosphor\"\n",
    "PICK_ALUMINUM = \"pick_aluminum\"\n",
    "PICK_RESIST = \"pick_resist\"\n",
    "PICK_PLASTIC = \"pick_plastic\"\n",
    "PICK_CHEMICALS = \"pick_chemicals\"\n",
    "PICK_COPPER_FRAME = \"pick_copper_frame\"\n",
    "CLEANING = \"cleaning\"\n",
    "CONFIG_FILM_DEPOSITION = \"config_film_deposition\"\n",
    "CHECKED_FILM_DEPOSITION = \"checked_film_deposition\"\n",
    "FILM_DEPOSITION = \"film_deposition\"\n",
    "CONFIG_RESIST_COATING = \"config_resist_coating\"\n",
    "CHECKED_RESIST_COATING = \"checked_resist_coating\"\n",
    "RESIST_COATING = \"resist_coating\"\n",
    "EXPOSURE = \"exposure\"\n",
    "CHECK_EXPOSURE = \"check_exposure\"\n",
    "CONFIG_DEVELOPMENT = \"config_development\"\n",
    "CHECKED_DEVELOPMENT = \"checked_development\"\n",
    "DEVELOPMENT = \"development\"\n",
    "ETCHING = \"etching\"\n",
    "CHECK_ETCHING = \"check_etching\"\n",
    "CONFIG_IMPURITIES_IMPLANTATION = \"config_impurities_implantation\"\n",
    "CHECKED_IMPURITIES_IMPLANTATION = \"checked_impurities_implantation\"\n",
    "IMPURITIES_IMPLANTATION = \"impurities_implantation\"\n",
    "ACTIVATION = \"activation\"\n",
    "RESIST_STRIPPING = \"resist_stripping\"\n",
    "CHECK_RESIST_STRIPPING = \"check_resist_stripping\"\n",
    "ASSEMBLY = \"assembly\"\n",
    "TESTING =\"testing\"\n",
    "PACKAGING = \"packaging\"\n",
    "\n",
    "SYMBOLS_PHASE_1 = [\n",
    "    PICK_BUY_DESIGN,\n",
    "    PICK_SILICON,\n",
    "    PICK_WAFER,\n",
    "    PICK_BORON,\n",
    "    PICK_PHOSPHOR,\n",
    "    PICK_ALUMINUM,\n",
    "    PICK_RESIST,\n",
    "    PICK_PLASTIC,\n",
    "    PICK_CHEMICALS,\n",
    "    PICK_COPPER_FRAME\n",
    "]\n",
    "\n",
    "SYMBOLS_PHASE_2 = [\n",
    "    CLEANING,\n",
    "    FILM_DEPOSITION,\n",
    "    RESIST_COATING\n",
    "#    EXPOSURE,\n",
    "#   DEVELOPMENT,\n",
    "#   ETCHING,\n",
    "#    IMPURITIES_IMPLANTATION,\n",
    "#    ACTIVATION,\n",
    "#    RESIST_STRIPPING,\n",
    "#    ASSEMBLY,\n",
    "#    TESTING,\n",
    "#    PACKAGING\n",
    "]"
   ]
  },
  {
   "cell_type": "code",
   "execution_count": 8,
   "metadata": {},
   "outputs": [],
   "source": [
    "# service names\n",
    "DESIGN_SERVICE_NAME_USA = \"design_usa\"                                      # human\n",
    "DESIGN_SERVICE_NAME_UK = \"design_uk\"                                        # human\n",
    "DESIGN_SERVICE_NAME_CHINA = \"design_china\"                                  # human\n",
    "DESIGN_SERVICE_NAME_TAIWAN = \"design_taiwan\"                                # human\n",
    "SILICON_SERVICE_NAME_CHINA = \"silicon_china\"                                # warehouse\n",
    "SILICON_SERVICE_NAME_RUSSIA = \"silicon_russia\"                              # warehouse\n",
    "SILICON_SERVICE_NAME_NORWAY = \"silicon_norway\"                              # warehouse\n",
    "SILICON_SERVICE_NAME_USA = \"silicon_usa\"                                    # warehouse\n",
    "SILICON_SERVICE_NAME_FRANCE = \"silicon_france\"                              # warehouse\n",
    "SILICON_SERVICE_NAME_BRAZIL = \"silicon_brazil\"                              # warehouse\n",
    "SILICON_SERVICE_NAME_MALAYSIA = \"silicon_malaysia\"                          # warehouse\n",
    "WAFER_SERVICE_NAME_JAPAN = \"wafer_japan\"                                    # warehouse\n",
    "WAFER_SERVICE_NAME_SOUTH_KOREA = \"wafer_south_korea\"                        # warehouse\n",
    "BORON_SERVICE_NAME_TURKEY = \"boron_turkey\"                                  # warehouse\n",
    "BORON_SERVICE_NAME_USA = \"boron_usa\"                                        # warehouse\n",
    "BORON_SERVICE_NAME_KAZAKHSTAN = \"boron_kazakhstan\"                          # warehouse\n",
    "BORON_SERVICE_NAME_CHILE = \"boron_chile\"                                    # warehouse\n",
    "BORON_SERVICE_NAME_CHINA = \"boron_china\"                                    # warehouse\n",
    "BORON_SERVICE_NAME_ARGENTINA = \"boron_argentina\"                            # warehouse\n",
    "BORON_SERVICE_NAME_RUSSIA = \"boron_russia\"                                  # warehouse\n",
    "BORON_SERVICE_NAME_BOLIVIA = \"boron_bolivia\"                                # warehouse\n",
    "PHOSPHOR_SERVICE_NAME_MOROCCO = \"phosphor_morocco\"                          # warehouse\n",
    "PHOSPHOR_SERVICE_NAME_CHINA = \"phosphor_china\"                              # warehouse\n",
    "PHOSPHOR_SERVICE_NAME_USA = \"phosphor_usa\"                                  # warehouse\n",
    "ALUMINUM_SERVICE_NAME_AUSTRALIA = \"aluminum_australia\"                      # warehouse\n",
    "ALUMINUM_SERVICE_NAME_INDIA = \"aluminum_india\"                              # warehouse\n",
    "ALUMINUM_SERVICE_NAME_BRAZIL = \"aluminum_brazil\"                            # warehouse\n",
    "RESIST_SERVICE_NAME_USA = \"resist_usa\"                                      # warehouse\n",
    "RESIST_SERVICE_NAME_BELGIUM = \"resist_belgium\"                              # warehouse\n",
    "RESIST_SERVICE_NAME_AUSTRIA = \"resist_austria\"                              # warehouse\n",
    "RESIST_SERVICE_NAME_INDIA = \"resist_india\"                                  # warehouse\n",
    "RESIST_SERVICE_NAME_SWITZERLAND = \"resist_switzerland\"                      # warehouse\n",
    "RESIST_SERVICE_NAME_CANADA = \"resist_canada\"                                # warehouse\n",
    "PLASTIC_SERVICE_NAME_CHINA = \"plastic_china\"                                # warehouse\n",
    "PLASTIC_SERVICE_NAME_INDIA = \"plastic_india\"                                # warehouse\n",
    "CHEMICALS_SERVICE_NAME_USA = \"chemicals_usa\"                                # warehouse\n",
    "CHEMICALS_SERVICE_NAME_CANADA = \"chemicals_canada\"                          # warehouse\n",
    "COPPER_FRAME_SERVICE_NAME_USA = \"copper_frame_usa\"                          # warehouse\n",
    "COPPER_FRAME_SERVICE_NAME_CHINA = \"copper_frame_china\"                      # warehouse\n",
    "COPPER_FRAME_SERVICE_NAME_PERU = \"copper_frame_peru\"                        # warehouse\n",
    "COPPER_FRAME_SERVICE_NAME_CHILE = \"copper_frame_chile\"                      # warehouse\n",
    "CLEANING_SERVICE_NAME = \"cleaning_human\"                                    # human\n",
    "FILM_DEPOSITION1_SERVICE_NAME = \"film_deposition_machine1\"                  # machine\n",
    "FILM_DEPOSITION2_SERVICE_NAME = \"film_deposition_machine2\"                  # machine\n",
    "RESIST_COATING1_SERVICE_NAME = \"resist_coating_machine1\"                    # machine\n",
    "RESIST_COATING2_SERVICE_NAME = \"resist_coating_machine2\"                    # machine\n",
    "EXPOSURE_SERVICE_NAME = \"exposure_machine\"                                  # machine\n",
    "DEVELOPMENT1_SERVICE_NAME = \"development1_machine\"                          # machine\n",
    "DEVELOPMENT2_SERVICE_NAME = \"development2_machine\"                          # machine\n",
    "ETCHING1_SERVICE_NAME = \"etching1_machine\"                                  # machine\n",
    "ETCHING2_SERVICE_NAME = \"etching2_machine\"                                  # machine\n",
    "IMPURITIES_IMPLANTATION_SERVICE_NAME = \"impurities_implantation_machine\"    # machine\n",
    "ACTIVATION_SERVICE_NAME = \"activation_human\"                                # human\n",
    "RESIST_STRIPPING_SERVICE_NAME = \"resist_stripping_machine\"                  # machine\n",
    "ASSEMBLY_SERVICE_NAME = \"assembly_human\"                                    # human\n",
    "TESTING_SERVICE_NAME = \"testing_human\"                                      # human\n",
    "PACKAGING_SERVICE_NAME = \"packaging_human\"                                  # human"
   ]
  },
  {
   "cell_type": "markdown",
   "metadata": {},
   "source": [
    "We have different type of services:\n",
    "\n",
    "- generic breakable machines;\n",
    "- complex breakable machines;\n",
    "- warehouse machines;\n",
    "- human workers"
   ]
  },
  {
   "cell_type": "code",
   "execution_count": 9,
   "metadata": {},
   "outputs": [],
   "source": [
    "def build_generic_breakable_service(service_name: str, action_name: str, broken_prob: float, broken_reward: float, action_reward: float):\n",
    "    assert 0.0 <= broken_prob <= 1.0\n",
    "    deterministic_prob = 1.0\n",
    "    success_prob = deterministic_prob - broken_prob\n",
    "    transitions = {\n",
    "        \"available\": {\n",
    "          action_name: ({\"done\": success_prob, \"broken\": broken_prob}, action_reward),\n",
    "        },\n",
    "        \"broken\": {\n",
    "            f\"check_{action_name}\": ({\"available\": 1.0}, broken_reward),\n",
    "        },\n",
    "        \"done\": {\n",
    "            f\"check_{action_name}\": ({\"available\": 1.0}, 0.0),\n",
    "        }\n",
    "    }\n",
    "    final_states = {\"available\"}\n",
    "    initial_state = \"available\"\n",
    "    return build_service_from_transitions(transitions, initial_state, final_states)  # type: ignore\n",
    "\n",
    "def build_complex_breakable_service(service_name: str, action_name: str, broken_prob: float, unemployable_prob: float, broken_reward: float, action_reward: float) -> Service:\n",
    "    assert 0.0 <= broken_prob <= 1.0\n",
    "    deterministic_prob = 1.0\n",
    "    configure_success_prob = deterministic_prob - unemployable_prob\n",
    "    op_success_prob = deterministic_prob - broken_prob\n",
    "    transitions = {\n",
    "        \"ready\": { # current state\n",
    "            f\"config_{action_name}\": # action\n",
    "                (\n",
    "                    {\n",
    "                        \"configured\": deterministic_prob # next state : prob\n",
    "                    },\n",
    "                    0.0\n",
    "                ),\n",
    "        },\n",
    "        \"configured\": {\n",
    "            f\"checked_{action_name}\":\n",
    "                (\n",
    "                    {\n",
    "                    \"executing\": configure_success_prob,\n",
    "                    \"broken\": unemployable_prob\n",
    "                    } if unemployable_prob > 0.0 else {\"executing\": configure_success_prob},\n",
    "                    0.0\n",
    "                ),\n",
    "        },\n",
    "        \"executing\": {\n",
    "            action_name: # operation\n",
    "                (\n",
    "                    {\n",
    "                        \"ready\": op_success_prob,\n",
    "                        \"broken\": broken_prob\n",
    "                    } if broken_prob > 0.0 else {\"ready\": op_success_prob},\n",
    "                    action_reward\n",
    "                ),\n",
    "        },\n",
    "        \"broken\": {\n",
    "            f\"restore_{action_name}\":\n",
    "               (\n",
    "                   {\n",
    "                       \"repairing\": deterministic_prob\n",
    "                   },\n",
    "                   broken_reward\n",
    "               ),\n",
    "        },\n",
    "        \"repairing\": {\n",
    "            f\"repaired_{action_name}\":\n",
    "                (\n",
    "                    {\n",
    "                        \"ready\": deterministic_prob\n",
    "                    },\n",
    "                    0.0\n",
    "                ),\n",
    "        },\n",
    "\n",
    "    }\n",
    "    final_states = {\"ready\"}\n",
    "    initial_state = \"ready\"\n",
    "    return build_service_from_transitions(transitions, initial_state, final_states)  # type: ignore\n",
    "\n",
    "def build_generic_service_one_state(\n",
    "    service_name: str,\n",
    "    operation_names: Set[str],\n",
    "    action_reward: float,\n",
    ") -> Service:\n",
    "    \"\"\"Build the one state device.\"\"\"\n",
    "    transitions = {\n",
    "        \"ready\": {\n",
    "            operation_name: ({\"ready\": 1.0}, action_reward) for operation_name in operation_names\n",
    "        },\n",
    "    }\n",
    "    final_states = {\"ready\"}\n",
    "    initial_state = \"ready\"\n",
    "    return build_service_from_transitions(transitions, initial_state, final_states)  # type: ignore"
   ]
  },
  {
   "cell_type": "code",
   "execution_count": 10,
   "metadata": {},
   "outputs": [
    {
     "data": {
      "text/plain": "<IPython.core.display.SVG object>",
      "image/svg+xml": "<svg xmlns=\"http://www.w3.org/2000/svg\" xmlns:xlink=\"http://www.w3.org/1999/xlink\" width=\"209pt\" height=\"110pt\" viewBox=\"0.00 0.00 209.05 110.09\">\n<g id=\"graph0\" class=\"graph\" transform=\"scale(1 1) rotate(0) translate(4 106.09)\">\n<polygon fill=\"white\" stroke=\"none\" points=\"-4,4 -4,-106.09 205.05,-106.09 205.05,4 -4,4\"/>\n<!-- fake -->\n<g id=\"node1\" class=\"node\">\n<title>fake</title>\n</g>\n<!-- ready -->\n<g id=\"node2\" class=\"node\">\n<title>ready</title>\n<ellipse fill=\"none\" stroke=\"black\" cx=\"125.55\" cy=\"-34.55\" rx=\"30.59\" ry=\"30.59\"/>\n<ellipse fill=\"none\" stroke=\"black\" cx=\"125.55\" cy=\"-34.55\" rx=\"34.59\" ry=\"34.59\"/>\n<text text-anchor=\"middle\" x=\"125.55\" y=\"-30.85\" font-family=\"Times New Roman,serif\" font-size=\"14.00\">ready</text>\n</g>\n<!-- fake&#45;&gt;ready -->\n<g id=\"edge1\" class=\"edge\">\n<title>fake-&gt;ready</title>\n<path fill=\"none\" stroke=\"black\" stroke-width=\"2\" d=\"M54.38,-34.55C62.06,-34.55 70.67,-34.55 79.17,-34.55\"/>\n<polygon fill=\"black\" stroke=\"black\" stroke-width=\"2\" points=\"77.55,-38.05 87.55,-34.55 77.55,-31.05 77.55,-38.05\"/>\n</g>\n<!-- ready&#45;&gt;ready -->\n<g id=\"edge2\" class=\"edge\">\n<title>ready-&gt;ready</title>\n<path fill=\"none\" stroke=\"black\" d=\"M115.61,-68.16C115.76,-78.74 119.07,-87.09 125.55,-87.09 129.49,-87.09 132.27,-83.99 133.86,-79.17\"/>\n<polygon fill=\"black\" stroke=\"black\" points=\"137.27,-80.06 135.27,-69.65 130.35,-79.03 137.27,-80.06\"/>\n<text text-anchor=\"middle\" x=\"125.55\" y=\"-90.89\" font-family=\"Times New Roman,serif\" font-size=\"14.00\">pick_buy_design, 1.0, -1.0</text>\n</g>\n</g>\n</svg>"
     },
     "metadata": {},
     "output_type": "display_data"
    },
    {
     "data": {
      "text/plain": "<IPython.core.display.SVG object>",
      "image/svg+xml": "<svg xmlns=\"http://www.w3.org/2000/svg\" xmlns:xlink=\"http://www.w3.org/1999/xlink\" width=\"209pt\" height=\"110pt\" viewBox=\"0.00 0.00 209.05 110.09\">\n<g id=\"graph0\" class=\"graph\" transform=\"scale(1 1) rotate(0) translate(4 106.09)\">\n<polygon fill=\"white\" stroke=\"none\" points=\"-4,4 -4,-106.09 205.05,-106.09 205.05,4 -4,4\"/>\n<!-- fake -->\n<g id=\"node1\" class=\"node\">\n<title>fake</title>\n</g>\n<!-- ready -->\n<g id=\"node2\" class=\"node\">\n<title>ready</title>\n<ellipse fill=\"none\" stroke=\"black\" cx=\"125.55\" cy=\"-34.55\" rx=\"30.59\" ry=\"30.59\"/>\n<ellipse fill=\"none\" stroke=\"black\" cx=\"125.55\" cy=\"-34.55\" rx=\"34.59\" ry=\"34.59\"/>\n<text text-anchor=\"middle\" x=\"125.55\" y=\"-30.85\" font-family=\"Times New Roman,serif\" font-size=\"14.00\">ready</text>\n</g>\n<!-- fake&#45;&gt;ready -->\n<g id=\"edge1\" class=\"edge\">\n<title>fake-&gt;ready</title>\n<path fill=\"none\" stroke=\"black\" stroke-width=\"2\" d=\"M54.38,-34.55C62.06,-34.55 70.67,-34.55 79.17,-34.55\"/>\n<polygon fill=\"black\" stroke=\"black\" stroke-width=\"2\" points=\"77.55,-38.05 87.55,-34.55 77.55,-31.05 77.55,-38.05\"/>\n</g>\n<!-- ready&#45;&gt;ready -->\n<g id=\"edge2\" class=\"edge\">\n<title>ready-&gt;ready</title>\n<path fill=\"none\" stroke=\"black\" d=\"M115.61,-68.16C115.76,-78.74 119.07,-87.09 125.55,-87.09 129.49,-87.09 132.27,-83.99 133.86,-79.17\"/>\n<polygon fill=\"black\" stroke=\"black\" points=\"137.27,-80.06 135.27,-69.65 130.35,-79.03 137.27,-80.06\"/>\n<text text-anchor=\"middle\" x=\"125.55\" y=\"-90.89\" font-family=\"Times New Roman,serif\" font-size=\"14.00\">pick_buy_design, 1.0, -6.8</text>\n</g>\n</g>\n</svg>"
     },
     "metadata": {},
     "output_type": "display_data"
    },
    {
     "data": {
      "text/plain": "<IPython.core.display.SVG object>",
      "image/svg+xml": "<svg xmlns=\"http://www.w3.org/2000/svg\" xmlns:xlink=\"http://www.w3.org/1999/xlink\" width=\"212pt\" height=\"110pt\" viewBox=\"0.00 0.00 212.05 110.09\">\n<g id=\"graph0\" class=\"graph\" transform=\"scale(1 1) rotate(0) translate(4 106.09)\">\n<polygon fill=\"white\" stroke=\"none\" points=\"-4,4 -4,-106.09 208.05,-106.09 208.05,4 -4,4\"/>\n<!-- fake -->\n<g id=\"node1\" class=\"node\">\n<title>fake</title>\n</g>\n<!-- ready -->\n<g id=\"node2\" class=\"node\">\n<title>ready</title>\n<ellipse fill=\"none\" stroke=\"black\" cx=\"125.55\" cy=\"-34.55\" rx=\"30.59\" ry=\"30.59\"/>\n<ellipse fill=\"none\" stroke=\"black\" cx=\"125.55\" cy=\"-34.55\" rx=\"34.59\" ry=\"34.59\"/>\n<text text-anchor=\"middle\" x=\"125.55\" y=\"-30.85\" font-family=\"Times New Roman,serif\" font-size=\"14.00\">ready</text>\n</g>\n<!-- fake&#45;&gt;ready -->\n<g id=\"edge1\" class=\"edge\">\n<title>fake-&gt;ready</title>\n<path fill=\"none\" stroke=\"black\" stroke-width=\"2\" d=\"M54.38,-34.55C62.06,-34.55 70.67,-34.55 79.17,-34.55\"/>\n<polygon fill=\"black\" stroke=\"black\" stroke-width=\"2\" points=\"77.55,-38.05 87.55,-34.55 77.55,-31.05 77.55,-38.05\"/>\n</g>\n<!-- ready&#45;&gt;ready -->\n<g id=\"edge2\" class=\"edge\">\n<title>ready-&gt;ready</title>\n<path fill=\"none\" stroke=\"black\" d=\"M115.61,-68.16C115.76,-78.74 119.07,-87.09 125.55,-87.09 129.49,-87.09 132.27,-83.99 133.86,-79.17\"/>\n<polygon fill=\"black\" stroke=\"black\" points=\"137.27,-80.06 135.27,-69.65 130.35,-79.03 137.27,-80.06\"/>\n<text text-anchor=\"middle\" x=\"125.55\" y=\"-90.89\" font-family=\"Times New Roman,serif\" font-size=\"14.00\">pick_buy_design, 1.0, -11.7</text>\n</g>\n</g>\n</svg>"
     },
     "metadata": {},
     "output_type": "display_data"
    },
    {
     "data": {
      "text/plain": "<IPython.core.display.SVG object>",
      "image/svg+xml": "<svg xmlns=\"http://www.w3.org/2000/svg\" xmlns:xlink=\"http://www.w3.org/1999/xlink\" width=\"212pt\" height=\"110pt\" viewBox=\"0.00 0.00 212.05 110.09\">\n<g id=\"graph0\" class=\"graph\" transform=\"scale(1 1) rotate(0) translate(4 106.09)\">\n<polygon fill=\"white\" stroke=\"none\" points=\"-4,4 -4,-106.09 208.05,-106.09 208.05,4 -4,4\"/>\n<!-- fake -->\n<g id=\"node1\" class=\"node\">\n<title>fake</title>\n</g>\n<!-- ready -->\n<g id=\"node2\" class=\"node\">\n<title>ready</title>\n<ellipse fill=\"none\" stroke=\"black\" cx=\"125.55\" cy=\"-34.55\" rx=\"30.59\" ry=\"30.59\"/>\n<ellipse fill=\"none\" stroke=\"black\" cx=\"125.55\" cy=\"-34.55\" rx=\"34.59\" ry=\"34.59\"/>\n<text text-anchor=\"middle\" x=\"125.55\" y=\"-30.85\" font-family=\"Times New Roman,serif\" font-size=\"14.00\">ready</text>\n</g>\n<!-- fake&#45;&gt;ready -->\n<g id=\"edge1\" class=\"edge\">\n<title>fake-&gt;ready</title>\n<path fill=\"none\" stroke=\"black\" stroke-width=\"2\" d=\"M54.38,-34.55C62.06,-34.55 70.67,-34.55 79.17,-34.55\"/>\n<polygon fill=\"black\" stroke=\"black\" stroke-width=\"2\" points=\"77.55,-38.05 87.55,-34.55 77.55,-31.05 77.55,-38.05\"/>\n</g>\n<!-- ready&#45;&gt;ready -->\n<g id=\"edge2\" class=\"edge\">\n<title>ready-&gt;ready</title>\n<path fill=\"none\" stroke=\"black\" d=\"M115.61,-68.16C115.76,-78.74 119.07,-87.09 125.55,-87.09 129.49,-87.09 132.27,-83.99 133.86,-79.17\"/>\n<polygon fill=\"black\" stroke=\"black\" points=\"137.27,-80.06 135.27,-69.65 130.35,-79.03 137.27,-80.06\"/>\n<text text-anchor=\"middle\" x=\"125.55\" y=\"-90.89\" font-family=\"Times New Roman,serif\" font-size=\"14.00\">pick_buy_design, 1.0, -12.2</text>\n</g>\n</g>\n</svg>"
     },
     "metadata": {},
     "output_type": "display_data"
    }
   ],
   "source": [
    "def design_service(name: str, action_reward: float) -> Service:\n",
    "    \"\"\"Build the design device.\"\"\"\n",
    "    return build_generic_service_one_state(\n",
    "        name,\n",
    "        {PICK_BUY_DESIGN},\n",
    "        action_reward=action_reward\n",
    "    )\n",
    "\n",
    "service_design_usa = design_service(DESIGN_SERVICE_NAME_USA, USA_REWARD)\n",
    "service_design_uk = design_service(DESIGN_SERVICE_NAME_UK, UK_REWARD)\n",
    "service_design_china = design_service(DESIGN_SERVICE_NAME_CHINA, CHINA_REWARD)\n",
    "service_design_taiwan = design_service(DESIGN_SERVICE_NAME_TAIWAN, TAIWAN_REWARD)\n",
    "render_service(service_design_usa)\n",
    "render_service(service_design_uk)\n",
    "render_service(service_design_china)\n",
    "render_service(service_design_taiwan)"
   ]
  },
  {
   "cell_type": "code",
   "execution_count": 11,
   "metadata": {},
   "outputs": [
    {
     "data": {
      "text/plain": "<IPython.core.display.SVG object>",
      "image/svg+xml": "<svg xmlns=\"http://www.w3.org/2000/svg\" xmlns:xlink=\"http://www.w3.org/1999/xlink\" width=\"198pt\" height=\"110pt\" viewBox=\"0.00 0.00 198.05 110.09\">\n<g id=\"graph0\" class=\"graph\" transform=\"scale(1 1) rotate(0) translate(4 106.09)\">\n<polygon fill=\"white\" stroke=\"none\" points=\"-4,4 -4,-106.09 194.05,-106.09 194.05,4 -4,4\"/>\n<!-- fake -->\n<g id=\"node1\" class=\"node\">\n<title>fake</title>\n</g>\n<!-- ready -->\n<g id=\"node2\" class=\"node\">\n<title>ready</title>\n<ellipse fill=\"none\" stroke=\"black\" cx=\"125.55\" cy=\"-34.55\" rx=\"30.59\" ry=\"30.59\"/>\n<ellipse fill=\"none\" stroke=\"black\" cx=\"125.55\" cy=\"-34.55\" rx=\"34.59\" ry=\"34.59\"/>\n<text text-anchor=\"middle\" x=\"125.55\" y=\"-30.85\" font-family=\"Times New Roman,serif\" font-size=\"14.00\">ready</text>\n</g>\n<!-- fake&#45;&gt;ready -->\n<g id=\"edge1\" class=\"edge\">\n<title>fake-&gt;ready</title>\n<path fill=\"none\" stroke=\"black\" stroke-width=\"2\" d=\"M54.38,-34.55C62.06,-34.55 70.67,-34.55 79.17,-34.55\"/>\n<polygon fill=\"black\" stroke=\"black\" stroke-width=\"2\" points=\"77.55,-38.05 87.55,-34.55 77.55,-31.05 77.55,-38.05\"/>\n</g>\n<!-- ready&#45;&gt;ready -->\n<g id=\"edge2\" class=\"edge\">\n<title>ready-&gt;ready</title>\n<path fill=\"none\" stroke=\"black\" d=\"M115.61,-68.16C115.76,-78.74 119.07,-87.09 125.55,-87.09 129.49,-87.09 132.27,-83.99 133.86,-79.17\"/>\n<polygon fill=\"black\" stroke=\"black\" points=\"137.27,-80.06 135.27,-69.65 130.35,-79.03 137.27,-80.06\"/>\n<text text-anchor=\"middle\" x=\"125.55\" y=\"-90.89\" font-family=\"Times New Roman,serif\" font-size=\"14.00\">pick_silicon, 1.0, -11.7</text>\n</g>\n</g>\n</svg>"
     },
     "metadata": {},
     "output_type": "display_data"
    },
    {
     "data": {
      "text/plain": "<IPython.core.display.SVG object>",
      "image/svg+xml": "<svg xmlns=\"http://www.w3.org/2000/svg\" xmlns:xlink=\"http://www.w3.org/1999/xlink\" width=\"202pt\" height=\"110pt\" viewBox=\"0.00 0.00 201.55 110.09\">\n<g id=\"graph0\" class=\"graph\" transform=\"scale(1 1) rotate(0) translate(4 106.09)\">\n<polygon fill=\"white\" stroke=\"none\" points=\"-4,4 -4,-106.09 197.55,-106.09 197.55,4 -4,4\"/>\n<!-- fake -->\n<g id=\"node1\" class=\"node\">\n<title>fake</title>\n</g>\n<!-- ready -->\n<g id=\"node2\" class=\"node\">\n<title>ready</title>\n<ellipse fill=\"none\" stroke=\"black\" cx=\"125.55\" cy=\"-34.55\" rx=\"30.59\" ry=\"30.59\"/>\n<ellipse fill=\"none\" stroke=\"black\" cx=\"125.55\" cy=\"-34.55\" rx=\"34.59\" ry=\"34.59\"/>\n<text text-anchor=\"middle\" x=\"125.55\" y=\"-30.85\" font-family=\"Times New Roman,serif\" font-size=\"14.00\">ready</text>\n</g>\n<!-- fake&#45;&gt;ready -->\n<g id=\"edge1\" class=\"edge\">\n<title>fake-&gt;ready</title>\n<path fill=\"none\" stroke=\"black\" stroke-width=\"2\" d=\"M54.38,-34.55C62.06,-34.55 70.67,-34.55 79.17,-34.55\"/>\n<polygon fill=\"black\" stroke=\"black\" stroke-width=\"2\" points=\"77.55,-38.05 87.55,-34.55 77.55,-31.05 77.55,-38.05\"/>\n</g>\n<!-- ready&#45;&gt;ready -->\n<g id=\"edge2\" class=\"edge\">\n<title>ready-&gt;ready</title>\n<path fill=\"none\" stroke=\"black\" d=\"M115.61,-68.16C115.76,-78.74 119.07,-87.09 125.55,-87.09 129.49,-87.09 132.27,-83.99 133.86,-79.17\"/>\n<polygon fill=\"black\" stroke=\"black\" points=\"137.27,-80.06 135.27,-69.65 130.35,-79.03 137.27,-80.06\"/>\n<text text-anchor=\"middle\" x=\"125.55\" y=\"-90.89\" font-family=\"Times New Roman,serif\" font-size=\"14.00\">pick_silicon, 1.0, -12.12</text>\n</g>\n</g>\n</svg>"
     },
     "metadata": {},
     "output_type": "display_data"
    },
    {
     "data": {
      "text/plain": "<IPython.core.display.SVG object>",
      "image/svg+xml": "<svg xmlns=\"http://www.w3.org/2000/svg\" xmlns:xlink=\"http://www.w3.org/1999/xlink\" width=\"198pt\" height=\"110pt\" viewBox=\"0.00 0.00 198.05 110.09\">\n<g id=\"graph0\" class=\"graph\" transform=\"scale(1 1) rotate(0) translate(4 106.09)\">\n<polygon fill=\"white\" stroke=\"none\" points=\"-4,4 -4,-106.09 194.05,-106.09 194.05,4 -4,4\"/>\n<!-- fake -->\n<g id=\"node1\" class=\"node\">\n<title>fake</title>\n</g>\n<!-- ready -->\n<g id=\"node2\" class=\"node\">\n<title>ready</title>\n<ellipse fill=\"none\" stroke=\"black\" cx=\"125.55\" cy=\"-34.55\" rx=\"30.59\" ry=\"30.59\"/>\n<ellipse fill=\"none\" stroke=\"black\" cx=\"125.55\" cy=\"-34.55\" rx=\"34.59\" ry=\"34.59\"/>\n<text text-anchor=\"middle\" x=\"125.55\" y=\"-30.85\" font-family=\"Times New Roman,serif\" font-size=\"14.00\">ready</text>\n</g>\n<!-- fake&#45;&gt;ready -->\n<g id=\"edge1\" class=\"edge\">\n<title>fake-&gt;ready</title>\n<path fill=\"none\" stroke=\"black\" stroke-width=\"2\" d=\"M54.38,-34.55C62.06,-34.55 70.67,-34.55 79.17,-34.55\"/>\n<polygon fill=\"black\" stroke=\"black\" stroke-width=\"2\" points=\"77.55,-38.05 87.55,-34.55 77.55,-31.05 77.55,-38.05\"/>\n</g>\n<!-- ready&#45;&gt;ready -->\n<g id=\"edge2\" class=\"edge\">\n<title>ready-&gt;ready</title>\n<path fill=\"none\" stroke=\"black\" d=\"M115.61,-68.16C115.76,-78.74 119.07,-87.09 125.55,-87.09 129.49,-87.09 132.27,-83.99 133.86,-79.17\"/>\n<polygon fill=\"black\" stroke=\"black\" points=\"137.27,-80.06 135.27,-69.65 130.35,-79.03 137.27,-80.06\"/>\n<text text-anchor=\"middle\" x=\"125.55\" y=\"-90.89\" font-family=\"Times New Roman,serif\" font-size=\"14.00\">pick_silicon, 1.0, -7.16</text>\n</g>\n</g>\n</svg>"
     },
     "metadata": {},
     "output_type": "display_data"
    },
    {
     "data": {
      "text/plain": "<IPython.core.display.SVG object>",
      "image/svg+xml": "<svg xmlns=\"http://www.w3.org/2000/svg\" xmlns:xlink=\"http://www.w3.org/1999/xlink\" width=\"195pt\" height=\"110pt\" viewBox=\"0.00 0.00 194.55 110.09\">\n<g id=\"graph0\" class=\"graph\" transform=\"scale(1 1) rotate(0) translate(4 106.09)\">\n<polygon fill=\"white\" stroke=\"none\" points=\"-4,4 -4,-106.09 190.55,-106.09 190.55,4 -4,4\"/>\n<!-- fake -->\n<g id=\"node1\" class=\"node\">\n<title>fake</title>\n</g>\n<!-- ready -->\n<g id=\"node2\" class=\"node\">\n<title>ready</title>\n<ellipse fill=\"none\" stroke=\"black\" cx=\"125.55\" cy=\"-34.55\" rx=\"30.59\" ry=\"30.59\"/>\n<ellipse fill=\"none\" stroke=\"black\" cx=\"125.55\" cy=\"-34.55\" rx=\"34.59\" ry=\"34.59\"/>\n<text text-anchor=\"middle\" x=\"125.55\" y=\"-30.85\" font-family=\"Times New Roman,serif\" font-size=\"14.00\">ready</text>\n</g>\n<!-- fake&#45;&gt;ready -->\n<g id=\"edge1\" class=\"edge\">\n<title>fake-&gt;ready</title>\n<path fill=\"none\" stroke=\"black\" stroke-width=\"2\" d=\"M54.38,-34.55C62.06,-34.55 70.67,-34.55 79.17,-34.55\"/>\n<polygon fill=\"black\" stroke=\"black\" stroke-width=\"2\" points=\"77.55,-38.05 87.55,-34.55 77.55,-31.05 77.55,-38.05\"/>\n</g>\n<!-- ready&#45;&gt;ready -->\n<g id=\"edge2\" class=\"edge\">\n<title>ready-&gt;ready</title>\n<path fill=\"none\" stroke=\"black\" d=\"M115.61,-68.16C115.76,-78.74 119.07,-87.09 125.55,-87.09 129.49,-87.09 132.27,-83.99 133.86,-79.17\"/>\n<polygon fill=\"black\" stroke=\"black\" points=\"137.27,-80.06 135.27,-69.65 130.35,-79.03 137.27,-80.06\"/>\n<text text-anchor=\"middle\" x=\"125.55\" y=\"-90.89\" font-family=\"Times New Roman,serif\" font-size=\"14.00\">pick_silicon, 1.0, -1.0</text>\n</g>\n</g>\n</svg>"
     },
     "metadata": {},
     "output_type": "display_data"
    },
    {
     "data": {
      "text/plain": "<IPython.core.display.SVG object>",
      "image/svg+xml": "<svg xmlns=\"http://www.w3.org/2000/svg\" xmlns:xlink=\"http://www.w3.org/1999/xlink\" width=\"195pt\" height=\"110pt\" viewBox=\"0.00 0.00 194.55 110.09\">\n<g id=\"graph0\" class=\"graph\" transform=\"scale(1 1) rotate(0) translate(4 106.09)\">\n<polygon fill=\"white\" stroke=\"none\" points=\"-4,4 -4,-106.09 190.55,-106.09 190.55,4 -4,4\"/>\n<!-- fake -->\n<g id=\"node1\" class=\"node\">\n<title>fake</title>\n</g>\n<!-- ready -->\n<g id=\"node2\" class=\"node\">\n<title>ready</title>\n<ellipse fill=\"none\" stroke=\"black\" cx=\"125.55\" cy=\"-34.55\" rx=\"30.59\" ry=\"30.59\"/>\n<ellipse fill=\"none\" stroke=\"black\" cx=\"125.55\" cy=\"-34.55\" rx=\"34.59\" ry=\"34.59\"/>\n<text text-anchor=\"middle\" x=\"125.55\" y=\"-30.85\" font-family=\"Times New Roman,serif\" font-size=\"14.00\">ready</text>\n</g>\n<!-- fake&#45;&gt;ready -->\n<g id=\"edge1\" class=\"edge\">\n<title>fake-&gt;ready</title>\n<path fill=\"none\" stroke=\"black\" stroke-width=\"2\" d=\"M54.38,-34.55C62.06,-34.55 70.67,-34.55 79.17,-34.55\"/>\n<polygon fill=\"black\" stroke=\"black\" stroke-width=\"2\" points=\"77.55,-38.05 87.55,-34.55 77.55,-31.05 77.55,-38.05\"/>\n</g>\n<!-- ready&#45;&gt;ready -->\n<g id=\"edge2\" class=\"edge\">\n<title>ready-&gt;ready</title>\n<path fill=\"none\" stroke=\"black\" d=\"M115.61,-68.16C115.76,-78.74 119.07,-87.09 125.55,-87.09 129.49,-87.09 132.27,-83.99 133.86,-79.17\"/>\n<polygon fill=\"black\" stroke=\"black\" points=\"137.27,-80.06 135.27,-69.65 130.35,-79.03 137.27,-80.06\"/>\n<text text-anchor=\"middle\" x=\"125.55\" y=\"-90.89\" font-family=\"Times New Roman,serif\" font-size=\"14.00\">pick_silicon, 1.0, -6.7</text>\n</g>\n</g>\n</svg>"
     },
     "metadata": {},
     "output_type": "display_data"
    },
    {
     "data": {
      "text/plain": "<IPython.core.display.SVG object>",
      "image/svg+xml": "<svg xmlns=\"http://www.w3.org/2000/svg\" xmlns:xlink=\"http://www.w3.org/1999/xlink\" width=\"195pt\" height=\"110pt\" viewBox=\"0.00 0.00 194.55 110.09\">\n<g id=\"graph0\" class=\"graph\" transform=\"scale(1 1) rotate(0) translate(4 106.09)\">\n<polygon fill=\"white\" stroke=\"none\" points=\"-4,4 -4,-106.09 190.55,-106.09 190.55,4 -4,4\"/>\n<!-- fake -->\n<g id=\"node1\" class=\"node\">\n<title>fake</title>\n</g>\n<!-- ready -->\n<g id=\"node2\" class=\"node\">\n<title>ready</title>\n<ellipse fill=\"none\" stroke=\"black\" cx=\"125.55\" cy=\"-34.55\" rx=\"30.59\" ry=\"30.59\"/>\n<ellipse fill=\"none\" stroke=\"black\" cx=\"125.55\" cy=\"-34.55\" rx=\"34.59\" ry=\"34.59\"/>\n<text text-anchor=\"middle\" x=\"125.55\" y=\"-30.85\" font-family=\"Times New Roman,serif\" font-size=\"14.00\">ready</text>\n</g>\n<!-- fake&#45;&gt;ready -->\n<g id=\"edge1\" class=\"edge\">\n<title>fake-&gt;ready</title>\n<path fill=\"none\" stroke=\"black\" stroke-width=\"2\" d=\"M54.38,-34.55C62.06,-34.55 70.67,-34.55 79.17,-34.55\"/>\n<polygon fill=\"black\" stroke=\"black\" stroke-width=\"2\" points=\"77.55,-38.05 87.55,-34.55 77.55,-31.05 77.55,-38.05\"/>\n</g>\n<!-- ready&#45;&gt;ready -->\n<g id=\"edge2\" class=\"edge\">\n<title>ready-&gt;ready</title>\n<path fill=\"none\" stroke=\"black\" d=\"M115.61,-68.16C115.76,-78.74 119.07,-87.09 125.55,-87.09 129.49,-87.09 132.27,-83.99 133.86,-79.17\"/>\n<polygon fill=\"black\" stroke=\"black\" points=\"137.27,-80.06 135.27,-69.65 130.35,-79.03 137.27,-80.06\"/>\n<text text-anchor=\"middle\" x=\"125.55\" y=\"-90.89\" font-family=\"Times New Roman,serif\" font-size=\"14.00\">pick_silicon, 1.0, -7.6</text>\n</g>\n</g>\n</svg>"
     },
     "metadata": {},
     "output_type": "display_data"
    },
    {
     "data": {
      "text/plain": "<IPython.core.display.SVG object>",
      "image/svg+xml": "<svg xmlns=\"http://www.w3.org/2000/svg\" xmlns:xlink=\"http://www.w3.org/1999/xlink\" width=\"202pt\" height=\"110pt\" viewBox=\"0.00 0.00 201.55 110.09\">\n<g id=\"graph0\" class=\"graph\" transform=\"scale(1 1) rotate(0) translate(4 106.09)\">\n<polygon fill=\"white\" stroke=\"none\" points=\"-4,4 -4,-106.09 197.55,-106.09 197.55,4 -4,4\"/>\n<!-- fake -->\n<g id=\"node1\" class=\"node\">\n<title>fake</title>\n</g>\n<!-- ready -->\n<g id=\"node2\" class=\"node\">\n<title>ready</title>\n<ellipse fill=\"none\" stroke=\"black\" cx=\"125.55\" cy=\"-34.55\" rx=\"30.59\" ry=\"30.59\"/>\n<ellipse fill=\"none\" stroke=\"black\" cx=\"125.55\" cy=\"-34.55\" rx=\"34.59\" ry=\"34.59\"/>\n<text text-anchor=\"middle\" x=\"125.55\" y=\"-30.85\" font-family=\"Times New Roman,serif\" font-size=\"14.00\">ready</text>\n</g>\n<!-- fake&#45;&gt;ready -->\n<g id=\"edge1\" class=\"edge\">\n<title>fake-&gt;ready</title>\n<path fill=\"none\" stroke=\"black\" stroke-width=\"2\" d=\"M54.38,-34.55C62.06,-34.55 70.67,-34.55 79.17,-34.55\"/>\n<polygon fill=\"black\" stroke=\"black\" stroke-width=\"2\" points=\"77.55,-38.05 87.55,-34.55 77.55,-31.05 77.55,-38.05\"/>\n</g>\n<!-- ready&#45;&gt;ready -->\n<g id=\"edge2\" class=\"edge\">\n<title>ready-&gt;ready</title>\n<path fill=\"none\" stroke=\"black\" d=\"M115.61,-68.16C115.76,-78.74 119.07,-87.09 125.55,-87.09 129.49,-87.09 132.27,-83.99 133.86,-79.17\"/>\n<polygon fill=\"black\" stroke=\"black\" points=\"137.27,-80.06 135.27,-69.65 130.35,-79.03 137.27,-80.06\"/>\n<text text-anchor=\"middle\" x=\"125.55\" y=\"-90.89\" font-family=\"Times New Roman,serif\" font-size=\"14.00\">pick_silicon, 1.0, -14.73</text>\n</g>\n</g>\n</svg>"
     },
     "metadata": {},
     "output_type": "display_data"
    }
   ],
   "source": [
    "def silicon_warehouse_service(name: str, action_reward) -> Service:\n",
    "    \"\"\"Build the silicon warehouse device.\"\"\"\n",
    "    return build_generic_service_one_state(\n",
    "        name,\n",
    "        {PICK_SILICON},\n",
    "        action_reward=action_reward\n",
    "    )\n",
    "\n",
    "service_silicon_china = silicon_warehouse_service(SILICON_SERVICE_NAME_CHINA, CHINA_REWARD)\n",
    "service_silicon_russia = silicon_warehouse_service(SILICON_SERVICE_NAME_RUSSIA, RUSSIA_REWARD + WAR_REWARD)\n",
    "service_silicon_norway = silicon_warehouse_service(SILICON_SERVICE_NAME_NORWAY, NORWAY_REWARD)\n",
    "service_silicon_usa = silicon_warehouse_service(SILICON_SERVICE_NAME_USA, USA_REWARD)\n",
    "service_silicon_brazil = silicon_warehouse_service(SILICON_SERVICE_NAME_BRAZIL, BRAZIL_REWARD)\n",
    "service_silicon_france = silicon_warehouse_service(SILICON_SERVICE_NAME_FRANCE, FRANCE_REWARD)\n",
    "service_silicon_malaysia = silicon_warehouse_service(SILICON_SERVICE_NAME_MALAYSIA, MALAYSIA_REWARD)\n",
    "render_service(service_silicon_china)\n",
    "render_service(service_silicon_russia)\n",
    "render_service(service_silicon_norway)\n",
    "render_service(service_silicon_usa)\n",
    "render_service(service_silicon_brazil)\n",
    "render_service(service_silicon_france)\n",
    "render_service(service_silicon_malaysia)"
   ]
  },
  {
   "cell_type": "code",
   "execution_count": 12,
   "metadata": {},
   "outputs": [
    {
     "data": {
      "text/plain": "<IPython.core.display.SVG object>",
      "image/svg+xml": "<svg xmlns=\"http://www.w3.org/2000/svg\" xmlns:xlink=\"http://www.w3.org/1999/xlink\" width=\"196pt\" height=\"110pt\" viewBox=\"0.00 0.00 195.55 110.09\">\n<g id=\"graph0\" class=\"graph\" transform=\"scale(1 1) rotate(0) translate(4 106.09)\">\n<polygon fill=\"white\" stroke=\"none\" points=\"-4,4 -4,-106.09 191.55,-106.09 191.55,4 -4,4\"/>\n<!-- fake -->\n<g id=\"node1\" class=\"node\">\n<title>fake</title>\n</g>\n<!-- ready -->\n<g id=\"node2\" class=\"node\">\n<title>ready</title>\n<ellipse fill=\"none\" stroke=\"black\" cx=\"125.55\" cy=\"-34.55\" rx=\"30.59\" ry=\"30.59\"/>\n<ellipse fill=\"none\" stroke=\"black\" cx=\"125.55\" cy=\"-34.55\" rx=\"34.59\" ry=\"34.59\"/>\n<text text-anchor=\"middle\" x=\"125.55\" y=\"-30.85\" font-family=\"Times New Roman,serif\" font-size=\"14.00\">ready</text>\n</g>\n<!-- fake&#45;&gt;ready -->\n<g id=\"edge1\" class=\"edge\">\n<title>fake-&gt;ready</title>\n<path fill=\"none\" stroke=\"black\" stroke-width=\"2\" d=\"M54.38,-34.55C62.06,-34.55 70.67,-34.55 79.17,-34.55\"/>\n<polygon fill=\"black\" stroke=\"black\" stroke-width=\"2\" points=\"77.55,-38.05 87.55,-34.55 77.55,-31.05 77.55,-38.05\"/>\n</g>\n<!-- ready&#45;&gt;ready -->\n<g id=\"edge2\" class=\"edge\">\n<title>ready-&gt;ready</title>\n<path fill=\"none\" stroke=\"black\" d=\"M115.61,-68.16C115.76,-78.74 119.07,-87.09 125.55,-87.09 129.49,-87.09 132.27,-83.99 133.86,-79.17\"/>\n<polygon fill=\"black\" stroke=\"black\" points=\"137.27,-80.06 135.27,-69.65 130.35,-79.03 137.27,-80.06\"/>\n<text text-anchor=\"middle\" x=\"125.55\" y=\"-90.89\" font-family=\"Times New Roman,serif\" font-size=\"14.00\">pick_wafer, 1.0, -10.1</text>\n</g>\n</g>\n</svg>"
     },
     "metadata": {},
     "output_type": "display_data"
    },
    {
     "data": {
      "text/plain": "<IPython.core.display.SVG object>",
      "image/svg+xml": "<svg xmlns=\"http://www.w3.org/2000/svg\" xmlns:xlink=\"http://www.w3.org/1999/xlink\" width=\"196pt\" height=\"110pt\" viewBox=\"0.00 0.00 195.55 110.09\">\n<g id=\"graph0\" class=\"graph\" transform=\"scale(1 1) rotate(0) translate(4 106.09)\">\n<polygon fill=\"white\" stroke=\"none\" points=\"-4,4 -4,-106.09 191.55,-106.09 191.55,4 -4,4\"/>\n<!-- fake -->\n<g id=\"node1\" class=\"node\">\n<title>fake</title>\n</g>\n<!-- ready -->\n<g id=\"node2\" class=\"node\">\n<title>ready</title>\n<ellipse fill=\"none\" stroke=\"black\" cx=\"125.55\" cy=\"-34.55\" rx=\"30.59\" ry=\"30.59\"/>\n<ellipse fill=\"none\" stroke=\"black\" cx=\"125.55\" cy=\"-34.55\" rx=\"34.59\" ry=\"34.59\"/>\n<text text-anchor=\"middle\" x=\"125.55\" y=\"-30.85\" font-family=\"Times New Roman,serif\" font-size=\"14.00\">ready</text>\n</g>\n<!-- fake&#45;&gt;ready -->\n<g id=\"edge1\" class=\"edge\">\n<title>fake-&gt;ready</title>\n<path fill=\"none\" stroke=\"black\" stroke-width=\"2\" d=\"M54.38,-34.55C62.06,-34.55 70.67,-34.55 79.17,-34.55\"/>\n<polygon fill=\"black\" stroke=\"black\" stroke-width=\"2\" points=\"77.55,-38.05 87.55,-34.55 77.55,-31.05 77.55,-38.05\"/>\n</g>\n<!-- ready&#45;&gt;ready -->\n<g id=\"edge2\" class=\"edge\">\n<title>ready-&gt;ready</title>\n<path fill=\"none\" stroke=\"black\" d=\"M115.61,-68.16C115.76,-78.74 119.07,-87.09 125.55,-87.09 129.49,-87.09 132.27,-83.99 133.86,-79.17\"/>\n<polygon fill=\"black\" stroke=\"black\" points=\"137.27,-80.06 135.27,-69.65 130.35,-79.03 137.27,-80.06\"/>\n<text text-anchor=\"middle\" x=\"125.55\" y=\"-90.89\" font-family=\"Times New Roman,serif\" font-size=\"14.00\">pick_wafer, 1.0, -10.7</text>\n</g>\n</g>\n</svg>"
     },
     "metadata": {},
     "output_type": "display_data"
    }
   ],
   "source": [
    "def wafer_warehouse_service(name: str, action_reward: float) -> Service:\n",
    "    \"\"\"Build the wafer warehouse device.\"\"\"\n",
    "    return build_generic_service_one_state(\n",
    "        name,\n",
    "        {PICK_WAFER},\n",
    "        action_reward=action_reward\n",
    "    )\n",
    "\n",
    "service_wafer_japan = wafer_warehouse_service(WAFER_SERVICE_NAME_JAPAN, JAPAN_REWARD)\n",
    "service_wafer_south_korea = wafer_warehouse_service(WAFER_SERVICE_NAME_SOUTH_KOREA, SOUTH_KOREA)\n",
    "render_service(service_wafer_japan)\n",
    "render_service(service_wafer_south_korea)"
   ]
  },
  {
   "cell_type": "code",
   "execution_count": 13,
   "metadata": {},
   "outputs": [
    {
     "data": {
      "text/plain": "<IPython.core.display.SVG object>",
      "image/svg+xml": "<svg xmlns=\"http://www.w3.org/2000/svg\" xmlns:xlink=\"http://www.w3.org/1999/xlink\" width=\"200pt\" height=\"110pt\" viewBox=\"0.00 0.00 200.05 110.09\">\n<g id=\"graph0\" class=\"graph\" transform=\"scale(1 1) rotate(0) translate(4 106.09)\">\n<polygon fill=\"white\" stroke=\"none\" points=\"-4,4 -4,-106.09 196.05,-106.09 196.05,4 -4,4\"/>\n<!-- fake -->\n<g id=\"node1\" class=\"node\">\n<title>fake</title>\n</g>\n<!-- ready -->\n<g id=\"node2\" class=\"node\">\n<title>ready</title>\n<ellipse fill=\"none\" stroke=\"black\" cx=\"125.55\" cy=\"-34.55\" rx=\"30.59\" ry=\"30.59\"/>\n<ellipse fill=\"none\" stroke=\"black\" cx=\"125.55\" cy=\"-34.55\" rx=\"34.59\" ry=\"34.59\"/>\n<text text-anchor=\"middle\" x=\"125.55\" y=\"-30.85\" font-family=\"Times New Roman,serif\" font-size=\"14.00\">ready</text>\n</g>\n<!-- fake&#45;&gt;ready -->\n<g id=\"edge1\" class=\"edge\">\n<title>fake-&gt;ready</title>\n<path fill=\"none\" stroke=\"black\" stroke-width=\"2\" d=\"M54.38,-34.55C62.06,-34.55 70.67,-34.55 79.17,-34.55\"/>\n<polygon fill=\"black\" stroke=\"black\" stroke-width=\"2\" points=\"77.55,-38.05 87.55,-34.55 77.55,-31.05 77.55,-38.05\"/>\n</g>\n<!-- ready&#45;&gt;ready -->\n<g id=\"edge2\" class=\"edge\">\n<title>ready-&gt;ready</title>\n<path fill=\"none\" stroke=\"black\" d=\"M115.61,-68.16C115.76,-78.74 119.07,-87.09 125.55,-87.09 129.49,-87.09 132.27,-83.99 133.86,-79.17\"/>\n<polygon fill=\"black\" stroke=\"black\" points=\"137.27,-80.06 135.27,-69.65 130.35,-79.03 137.27,-80.06\"/>\n<text text-anchor=\"middle\" x=\"125.55\" y=\"-90.89\" font-family=\"Times New Roman,serif\" font-size=\"14.00\">pick_boron, 1.0, -10.16</text>\n</g>\n</g>\n</svg>"
     },
     "metadata": {},
     "output_type": "display_data"
    },
    {
     "data": {
      "text/plain": "<IPython.core.display.SVG object>",
      "image/svg+xml": "<svg xmlns=\"http://www.w3.org/2000/svg\" xmlns:xlink=\"http://www.w3.org/1999/xlink\" width=\"194pt\" height=\"110pt\" viewBox=\"0.00 0.00 193.55 110.09\">\n<g id=\"graph0\" class=\"graph\" transform=\"scale(1 1) rotate(0) translate(4 106.09)\">\n<polygon fill=\"white\" stroke=\"none\" points=\"-4,4 -4,-106.09 189.55,-106.09 189.55,4 -4,4\"/>\n<!-- fake -->\n<g id=\"node1\" class=\"node\">\n<title>fake</title>\n</g>\n<!-- ready -->\n<g id=\"node2\" class=\"node\">\n<title>ready</title>\n<ellipse fill=\"none\" stroke=\"black\" cx=\"125.55\" cy=\"-34.55\" rx=\"30.59\" ry=\"30.59\"/>\n<ellipse fill=\"none\" stroke=\"black\" cx=\"125.55\" cy=\"-34.55\" rx=\"34.59\" ry=\"34.59\"/>\n<text text-anchor=\"middle\" x=\"125.55\" y=\"-30.85\" font-family=\"Times New Roman,serif\" font-size=\"14.00\">ready</text>\n</g>\n<!-- fake&#45;&gt;ready -->\n<g id=\"edge1\" class=\"edge\">\n<title>fake-&gt;ready</title>\n<path fill=\"none\" stroke=\"black\" stroke-width=\"2\" d=\"M54.38,-34.55C62.06,-34.55 70.67,-34.55 79.17,-34.55\"/>\n<polygon fill=\"black\" stroke=\"black\" stroke-width=\"2\" points=\"77.55,-38.05 87.55,-34.55 77.55,-31.05 77.55,-38.05\"/>\n</g>\n<!-- ready&#45;&gt;ready -->\n<g id=\"edge2\" class=\"edge\">\n<title>ready-&gt;ready</title>\n<path fill=\"none\" stroke=\"black\" d=\"M115.61,-68.16C115.76,-78.74 119.07,-87.09 125.55,-87.09 129.49,-87.09 132.27,-83.99 133.86,-79.17\"/>\n<polygon fill=\"black\" stroke=\"black\" points=\"137.27,-80.06 135.27,-69.65 130.35,-79.03 137.27,-80.06\"/>\n<text text-anchor=\"middle\" x=\"125.55\" y=\"-90.89\" font-family=\"Times New Roman,serif\" font-size=\"14.00\">pick_boron, 1.0, -1.0</text>\n</g>\n</g>\n</svg>"
     },
     "metadata": {},
     "output_type": "display_data"
    },
    {
     "data": {
      "text/plain": "<IPython.core.display.SVG object>",
      "image/svg+xml": "<svg xmlns=\"http://www.w3.org/2000/svg\" xmlns:xlink=\"http://www.w3.org/1999/xlink\" width=\"197pt\" height=\"110pt\" viewBox=\"0.00 0.00 197.05 110.09\">\n<g id=\"graph0\" class=\"graph\" transform=\"scale(1 1) rotate(0) translate(4 106.09)\">\n<polygon fill=\"white\" stroke=\"none\" points=\"-4,4 -4,-106.09 193.05,-106.09 193.05,4 -4,4\"/>\n<!-- fake -->\n<g id=\"node1\" class=\"node\">\n<title>fake</title>\n</g>\n<!-- ready -->\n<g id=\"node2\" class=\"node\">\n<title>ready</title>\n<ellipse fill=\"none\" stroke=\"black\" cx=\"125.55\" cy=\"-34.55\" rx=\"30.59\" ry=\"30.59\"/>\n<ellipse fill=\"none\" stroke=\"black\" cx=\"125.55\" cy=\"-34.55\" rx=\"34.59\" ry=\"34.59\"/>\n<text text-anchor=\"middle\" x=\"125.55\" y=\"-30.85\" font-family=\"Times New Roman,serif\" font-size=\"14.00\">ready</text>\n</g>\n<!-- fake&#45;&gt;ready -->\n<g id=\"edge1\" class=\"edge\">\n<title>fake-&gt;ready</title>\n<path fill=\"none\" stroke=\"black\" stroke-width=\"2\" d=\"M54.38,-34.55C62.06,-34.55 70.67,-34.55 79.17,-34.55\"/>\n<polygon fill=\"black\" stroke=\"black\" stroke-width=\"2\" points=\"77.55,-38.05 87.55,-34.55 77.55,-31.05 77.55,-38.05\"/>\n</g>\n<!-- ready&#45;&gt;ready -->\n<g id=\"edge2\" class=\"edge\">\n<title>ready-&gt;ready</title>\n<path fill=\"none\" stroke=\"black\" d=\"M115.61,-68.16C115.76,-78.74 119.07,-87.09 125.55,-87.09 129.49,-87.09 132.27,-83.99 133.86,-79.17\"/>\n<polygon fill=\"black\" stroke=\"black\" points=\"137.27,-80.06 135.27,-69.65 130.35,-79.03 137.27,-80.06\"/>\n<text text-anchor=\"middle\" x=\"125.55\" y=\"-90.89\" font-family=\"Times New Roman,serif\" font-size=\"14.00\">pick_boron, 1.0, -10.4</text>\n</g>\n</g>\n</svg>"
     },
     "metadata": {},
     "output_type": "display_data"
    },
    {
     "data": {
      "text/plain": "<IPython.core.display.SVG object>",
      "image/svg+xml": "<svg xmlns=\"http://www.w3.org/2000/svg\" xmlns:xlink=\"http://www.w3.org/1999/xlink\" width=\"194pt\" height=\"110pt\" viewBox=\"0.00 0.00 193.55 110.09\">\n<g id=\"graph0\" class=\"graph\" transform=\"scale(1 1) rotate(0) translate(4 106.09)\">\n<polygon fill=\"white\" stroke=\"none\" points=\"-4,4 -4,-106.09 189.55,-106.09 189.55,4 -4,4\"/>\n<!-- fake -->\n<g id=\"node1\" class=\"node\">\n<title>fake</title>\n</g>\n<!-- ready -->\n<g id=\"node2\" class=\"node\">\n<title>ready</title>\n<ellipse fill=\"none\" stroke=\"black\" cx=\"125.55\" cy=\"-34.55\" rx=\"30.59\" ry=\"30.59\"/>\n<ellipse fill=\"none\" stroke=\"black\" cx=\"125.55\" cy=\"-34.55\" rx=\"34.59\" ry=\"34.59\"/>\n<text text-anchor=\"middle\" x=\"125.55\" y=\"-30.85\" font-family=\"Times New Roman,serif\" font-size=\"14.00\">ready</text>\n</g>\n<!-- fake&#45;&gt;ready -->\n<g id=\"edge1\" class=\"edge\">\n<title>fake-&gt;ready</title>\n<path fill=\"none\" stroke=\"black\" stroke-width=\"2\" d=\"M54.38,-34.55C62.06,-34.55 70.67,-34.55 79.17,-34.55\"/>\n<polygon fill=\"black\" stroke=\"black\" stroke-width=\"2\" points=\"77.55,-38.05 87.55,-34.55 77.55,-31.05 77.55,-38.05\"/>\n</g>\n<!-- ready&#45;&gt;ready -->\n<g id=\"edge2\" class=\"edge\">\n<title>ready-&gt;ready</title>\n<path fill=\"none\" stroke=\"black\" d=\"M115.61,-68.16C115.76,-78.74 119.07,-87.09 125.55,-87.09 129.49,-87.09 132.27,-83.99 133.86,-79.17\"/>\n<polygon fill=\"black\" stroke=\"black\" points=\"137.27,-80.06 135.27,-69.65 130.35,-79.03 137.27,-80.06\"/>\n<text text-anchor=\"middle\" x=\"125.55\" y=\"-90.89\" font-family=\"Times New Roman,serif\" font-size=\"14.00\">pick_boron, 1.0, -7.8</text>\n</g>\n</g>\n</svg>"
     },
     "metadata": {},
     "output_type": "display_data"
    },
    {
     "data": {
      "text/plain": "<IPython.core.display.SVG object>",
      "image/svg+xml": "<svg xmlns=\"http://www.w3.org/2000/svg\" xmlns:xlink=\"http://www.w3.org/1999/xlink\" width=\"197pt\" height=\"110pt\" viewBox=\"0.00 0.00 197.05 110.09\">\n<g id=\"graph0\" class=\"graph\" transform=\"scale(1 1) rotate(0) translate(4 106.09)\">\n<polygon fill=\"white\" stroke=\"none\" points=\"-4,4 -4,-106.09 193.05,-106.09 193.05,4 -4,4\"/>\n<!-- fake -->\n<g id=\"node1\" class=\"node\">\n<title>fake</title>\n</g>\n<!-- ready -->\n<g id=\"node2\" class=\"node\">\n<title>ready</title>\n<ellipse fill=\"none\" stroke=\"black\" cx=\"125.55\" cy=\"-34.55\" rx=\"30.59\" ry=\"30.59\"/>\n<ellipse fill=\"none\" stroke=\"black\" cx=\"125.55\" cy=\"-34.55\" rx=\"34.59\" ry=\"34.59\"/>\n<text text-anchor=\"middle\" x=\"125.55\" y=\"-30.85\" font-family=\"Times New Roman,serif\" font-size=\"14.00\">ready</text>\n</g>\n<!-- fake&#45;&gt;ready -->\n<g id=\"edge1\" class=\"edge\">\n<title>fake-&gt;ready</title>\n<path fill=\"none\" stroke=\"black\" stroke-width=\"2\" d=\"M54.38,-34.55C62.06,-34.55 70.67,-34.55 79.17,-34.55\"/>\n<polygon fill=\"black\" stroke=\"black\" stroke-width=\"2\" points=\"77.55,-38.05 87.55,-34.55 77.55,-31.05 77.55,-38.05\"/>\n</g>\n<!-- ready&#45;&gt;ready -->\n<g id=\"edge2\" class=\"edge\">\n<title>ready-&gt;ready</title>\n<path fill=\"none\" stroke=\"black\" d=\"M115.61,-68.16C115.76,-78.74 119.07,-87.09 125.55,-87.09 129.49,-87.09 132.27,-83.99 133.86,-79.17\"/>\n<polygon fill=\"black\" stroke=\"black\" points=\"137.27,-80.06 135.27,-69.65 130.35,-79.03 137.27,-80.06\"/>\n<text text-anchor=\"middle\" x=\"125.55\" y=\"-90.89\" font-family=\"Times New Roman,serif\" font-size=\"14.00\">pick_boron, 1.0, -11.7</text>\n</g>\n</g>\n</svg>"
     },
     "metadata": {},
     "output_type": "display_data"
    },
    {
     "data": {
      "text/plain": "<IPython.core.display.SVG object>",
      "image/svg+xml": "<svg xmlns=\"http://www.w3.org/2000/svg\" xmlns:xlink=\"http://www.w3.org/1999/xlink\" width=\"194pt\" height=\"110pt\" viewBox=\"0.00 0.00 193.55 110.09\">\n<g id=\"graph0\" class=\"graph\" transform=\"scale(1 1) rotate(0) translate(4 106.09)\">\n<polygon fill=\"white\" stroke=\"none\" points=\"-4,4 -4,-106.09 189.55,-106.09 189.55,4 -4,4\"/>\n<!-- fake -->\n<g id=\"node1\" class=\"node\">\n<title>fake</title>\n</g>\n<!-- ready -->\n<g id=\"node2\" class=\"node\">\n<title>ready</title>\n<ellipse fill=\"none\" stroke=\"black\" cx=\"125.55\" cy=\"-34.55\" rx=\"30.59\" ry=\"30.59\"/>\n<ellipse fill=\"none\" stroke=\"black\" cx=\"125.55\" cy=\"-34.55\" rx=\"34.59\" ry=\"34.59\"/>\n<text text-anchor=\"middle\" x=\"125.55\" y=\"-30.85\" font-family=\"Times New Roman,serif\" font-size=\"14.00\">ready</text>\n</g>\n<!-- fake&#45;&gt;ready -->\n<g id=\"edge1\" class=\"edge\">\n<title>fake-&gt;ready</title>\n<path fill=\"none\" stroke=\"black\" stroke-width=\"2\" d=\"M54.38,-34.55C62.06,-34.55 70.67,-34.55 79.17,-34.55\"/>\n<polygon fill=\"black\" stroke=\"black\" stroke-width=\"2\" points=\"77.55,-38.05 87.55,-34.55 77.55,-31.05 77.55,-38.05\"/>\n</g>\n<!-- ready&#45;&gt;ready -->\n<g id=\"edge2\" class=\"edge\">\n<title>ready-&gt;ready</title>\n<path fill=\"none\" stroke=\"black\" d=\"M115.61,-68.16C115.76,-78.74 119.07,-87.09 125.55,-87.09 129.49,-87.09 132.27,-83.99 133.86,-79.17\"/>\n<polygon fill=\"black\" stroke=\"black\" points=\"137.27,-80.06 135.27,-69.65 130.35,-79.03 137.27,-80.06\"/>\n<text text-anchor=\"middle\" x=\"125.55\" y=\"-90.89\" font-family=\"Times New Roman,serif\" font-size=\"14.00\">pick_boron, 1.0, -6.8</text>\n</g>\n</g>\n</svg>"
     },
     "metadata": {},
     "output_type": "display_data"
    },
    {
     "data": {
      "text/plain": "<IPython.core.display.SVG object>",
      "image/svg+xml": "<svg xmlns=\"http://www.w3.org/2000/svg\" xmlns:xlink=\"http://www.w3.org/1999/xlink\" width=\"197pt\" height=\"110pt\" viewBox=\"0.00 0.00 197.05 110.09\">\n<g id=\"graph0\" class=\"graph\" transform=\"scale(1 1) rotate(0) translate(4 106.09)\">\n<polygon fill=\"white\" stroke=\"none\" points=\"-4,4 -4,-106.09 193.05,-106.09 193.05,4 -4,4\"/>\n<!-- fake -->\n<g id=\"node1\" class=\"node\">\n<title>fake</title>\n</g>\n<!-- ready -->\n<g id=\"node2\" class=\"node\">\n<title>ready</title>\n<ellipse fill=\"none\" stroke=\"black\" cx=\"125.55\" cy=\"-34.55\" rx=\"30.59\" ry=\"30.59\"/>\n<ellipse fill=\"none\" stroke=\"black\" cx=\"125.55\" cy=\"-34.55\" rx=\"34.59\" ry=\"34.59\"/>\n<text text-anchor=\"middle\" x=\"125.55\" y=\"-30.85\" font-family=\"Times New Roman,serif\" font-size=\"14.00\">ready</text>\n</g>\n<!-- fake&#45;&gt;ready -->\n<g id=\"edge1\" class=\"edge\">\n<title>fake-&gt;ready</title>\n<path fill=\"none\" stroke=\"black\" stroke-width=\"2\" d=\"M54.38,-34.55C62.06,-34.55 70.67,-34.55 79.17,-34.55\"/>\n<polygon fill=\"black\" stroke=\"black\" stroke-width=\"2\" points=\"77.55,-38.05 87.55,-34.55 77.55,-31.05 77.55,-38.05\"/>\n</g>\n<!-- ready&#45;&gt;ready -->\n<g id=\"edge2\" class=\"edge\">\n<title>ready-&gt;ready</title>\n<path fill=\"none\" stroke=\"black\" d=\"M115.61,-68.16C115.76,-78.74 119.07,-87.09 125.55,-87.09 129.49,-87.09 132.27,-83.99 133.86,-79.17\"/>\n<polygon fill=\"black\" stroke=\"black\" points=\"137.27,-80.06 135.27,-69.65 130.35,-79.03 137.27,-80.06\"/>\n<text text-anchor=\"middle\" x=\"125.55\" y=\"-90.89\" font-family=\"Times New Roman,serif\" font-size=\"14.00\">pick_boron, 1.0, -8.55</text>\n</g>\n</g>\n</svg>"
     },
     "metadata": {},
     "output_type": "display_data"
    },
    {
     "data": {
      "text/plain": "<IPython.core.display.SVG object>",
      "image/svg+xml": "<svg xmlns=\"http://www.w3.org/2000/svg\" xmlns:xlink=\"http://www.w3.org/1999/xlink\" width=\"200pt\" height=\"110pt\" viewBox=\"0.00 0.00 200.05 110.09\">\n<g id=\"graph0\" class=\"graph\" transform=\"scale(1 1) rotate(0) translate(4 106.09)\">\n<polygon fill=\"white\" stroke=\"none\" points=\"-4,4 -4,-106.09 196.05,-106.09 196.05,4 -4,4\"/>\n<!-- fake -->\n<g id=\"node1\" class=\"node\">\n<title>fake</title>\n</g>\n<!-- ready -->\n<g id=\"node2\" class=\"node\">\n<title>ready</title>\n<ellipse fill=\"none\" stroke=\"black\" cx=\"125.55\" cy=\"-34.55\" rx=\"30.59\" ry=\"30.59\"/>\n<ellipse fill=\"none\" stroke=\"black\" cx=\"125.55\" cy=\"-34.55\" rx=\"34.59\" ry=\"34.59\"/>\n<text text-anchor=\"middle\" x=\"125.55\" y=\"-30.85\" font-family=\"Times New Roman,serif\" font-size=\"14.00\">ready</text>\n</g>\n<!-- fake&#45;&gt;ready -->\n<g id=\"edge1\" class=\"edge\">\n<title>fake-&gt;ready</title>\n<path fill=\"none\" stroke=\"black\" stroke-width=\"2\" d=\"M54.38,-34.55C62.06,-34.55 70.67,-34.55 79.17,-34.55\"/>\n<polygon fill=\"black\" stroke=\"black\" stroke-width=\"2\" points=\"77.55,-38.05 87.55,-34.55 77.55,-31.05 77.55,-38.05\"/>\n</g>\n<!-- ready&#45;&gt;ready -->\n<g id=\"edge2\" class=\"edge\">\n<title>ready-&gt;ready</title>\n<path fill=\"none\" stroke=\"black\" d=\"M115.61,-68.16C115.76,-78.74 119.07,-87.09 125.55,-87.09 129.49,-87.09 132.27,-83.99 133.86,-79.17\"/>\n<polygon fill=\"black\" stroke=\"black\" points=\"137.27,-80.06 135.27,-69.65 130.35,-79.03 137.27,-80.06\"/>\n<text text-anchor=\"middle\" x=\"125.55\" y=\"-90.89\" font-family=\"Times New Roman,serif\" font-size=\"14.00\">pick_boron, 1.0, -12.12</text>\n</g>\n</g>\n</svg>"
     },
     "metadata": {},
     "output_type": "display_data"
    }
   ],
   "source": [
    "def boron_warehouse_service(name: str, action_reward: float) -> Service:\n",
    "    \"\"\"Build the boron warehouse device.\"\"\"\n",
    "    return build_generic_service_one_state(\n",
    "        name,\n",
    "        {PICK_BORON},\n",
    "        action_reward=action_reward\n",
    "    )\n",
    "\n",
    "service_boron_turkey = boron_warehouse_service(BORON_SERVICE_NAME_TURKEY, TURKEY_REWARD)\n",
    "service_boron_usa = boron_warehouse_service(BORON_SERVICE_NAME_USA, USA_REWARD)\n",
    "service_boron_kazakhstan = boron_warehouse_service(BORON_SERVICE_NAME_KAZAKHSTAN, KAZAKHSTAN_REWARD)\n",
    "service_boron_chile = boron_warehouse_service(BORON_SERVICE_NAME_CHILE, CHILE_REWARD)\n",
    "service_boron_china = boron_warehouse_service(BORON_SERVICE_NAME_CHINA, CHINA_REWARD)\n",
    "service_boron_bolivia = boron_warehouse_service(BORON_SERVICE_NAME_BOLIVIA, BOLIVIA_REWARD)\n",
    "service_boron_argentina = boron_warehouse_service(BORON_SERVICE_NAME_ARGENTINA, ARGENTINA_REWARD)\n",
    "service_boron_russia = boron_warehouse_service(BORON_SERVICE_NAME_RUSSIA, RUSSIA_REWARD + WAR_REWARD)\n",
    "render_service(service_boron_turkey)\n",
    "render_service(service_boron_usa)\n",
    "render_service(service_boron_kazakhstan)\n",
    "render_service(service_boron_chile)\n",
    "render_service(service_boron_china)\n",
    "render_service(service_boron_bolivia)\n",
    "render_service(service_boron_argentina)\n",
    "render_service(service_boron_russia)"
   ]
  },
  {
   "cell_type": "code",
   "execution_count": 14,
   "metadata": {},
   "outputs": [
    {
     "data": {
      "text/plain": "<IPython.core.display.SVG object>",
      "image/svg+xml": "<svg xmlns=\"http://www.w3.org/2000/svg\" xmlns:xlink=\"http://www.w3.org/1999/xlink\" width=\"204pt\" height=\"110pt\" viewBox=\"0.00 0.00 203.55 110.09\">\n<g id=\"graph0\" class=\"graph\" transform=\"scale(1 1) rotate(0) translate(4 106.09)\">\n<polygon fill=\"white\" stroke=\"none\" points=\"-4,4 -4,-106.09 199.55,-106.09 199.55,4 -4,4\"/>\n<!-- fake -->\n<g id=\"node1\" class=\"node\">\n<title>fake</title>\n</g>\n<!-- ready -->\n<g id=\"node2\" class=\"node\">\n<title>ready</title>\n<ellipse fill=\"none\" stroke=\"black\" cx=\"125.55\" cy=\"-34.55\" rx=\"30.59\" ry=\"30.59\"/>\n<ellipse fill=\"none\" stroke=\"black\" cx=\"125.55\" cy=\"-34.55\" rx=\"34.59\" ry=\"34.59\"/>\n<text text-anchor=\"middle\" x=\"125.55\" y=\"-30.85\" font-family=\"Times New Roman,serif\" font-size=\"14.00\">ready</text>\n</g>\n<!-- fake&#45;&gt;ready -->\n<g id=\"edge1\" class=\"edge\">\n<title>fake-&gt;ready</title>\n<path fill=\"none\" stroke=\"black\" stroke-width=\"2\" d=\"M54.38,-34.55C62.06,-34.55 70.67,-34.55 79.17,-34.55\"/>\n<polygon fill=\"black\" stroke=\"black\" stroke-width=\"2\" points=\"77.55,-38.05 87.55,-34.55 77.55,-31.05 77.55,-38.05\"/>\n</g>\n<!-- ready&#45;&gt;ready -->\n<g id=\"edge2\" class=\"edge\">\n<title>ready-&gt;ready</title>\n<path fill=\"none\" stroke=\"black\" d=\"M115.61,-68.16C115.76,-78.74 119.07,-87.09 125.55,-87.09 129.49,-87.09 132.27,-83.99 133.86,-79.17\"/>\n<polygon fill=\"black\" stroke=\"black\" points=\"137.27,-80.06 135.27,-69.65 130.35,-79.03 137.27,-80.06\"/>\n<text text-anchor=\"middle\" x=\"125.55\" y=\"-90.89\" font-family=\"Times New Roman,serif\" font-size=\"14.00\">pick_phosphor, 1.0, -7.9</text>\n</g>\n</g>\n</svg>"
     },
     "metadata": {},
     "output_type": "display_data"
    },
    {
     "data": {
      "text/plain": "<IPython.core.display.SVG object>",
      "image/svg+xml": "<svg xmlns=\"http://www.w3.org/2000/svg\" xmlns:xlink=\"http://www.w3.org/1999/xlink\" width=\"207pt\" height=\"110pt\" viewBox=\"0.00 0.00 207.05 110.09\">\n<g id=\"graph0\" class=\"graph\" transform=\"scale(1 1) rotate(0) translate(4 106.09)\">\n<polygon fill=\"white\" stroke=\"none\" points=\"-4,4 -4,-106.09 203.05,-106.09 203.05,4 -4,4\"/>\n<!-- fake -->\n<g id=\"node1\" class=\"node\">\n<title>fake</title>\n</g>\n<!-- ready -->\n<g id=\"node2\" class=\"node\">\n<title>ready</title>\n<ellipse fill=\"none\" stroke=\"black\" cx=\"125.55\" cy=\"-34.55\" rx=\"30.59\" ry=\"30.59\"/>\n<ellipse fill=\"none\" stroke=\"black\" cx=\"125.55\" cy=\"-34.55\" rx=\"34.59\" ry=\"34.59\"/>\n<text text-anchor=\"middle\" x=\"125.55\" y=\"-30.85\" font-family=\"Times New Roman,serif\" font-size=\"14.00\">ready</text>\n</g>\n<!-- fake&#45;&gt;ready -->\n<g id=\"edge1\" class=\"edge\">\n<title>fake-&gt;ready</title>\n<path fill=\"none\" stroke=\"black\" stroke-width=\"2\" d=\"M54.38,-34.55C62.06,-34.55 70.67,-34.55 79.17,-34.55\"/>\n<polygon fill=\"black\" stroke=\"black\" stroke-width=\"2\" points=\"77.55,-38.05 87.55,-34.55 77.55,-31.05 77.55,-38.05\"/>\n</g>\n<!-- ready&#45;&gt;ready -->\n<g id=\"edge2\" class=\"edge\">\n<title>ready-&gt;ready</title>\n<path fill=\"none\" stroke=\"black\" d=\"M115.61,-68.16C115.76,-78.74 119.07,-87.09 125.55,-87.09 129.49,-87.09 132.27,-83.99 133.86,-79.17\"/>\n<polygon fill=\"black\" stroke=\"black\" points=\"137.27,-80.06 135.27,-69.65 130.35,-79.03 137.27,-80.06\"/>\n<text text-anchor=\"middle\" x=\"125.55\" y=\"-90.89\" font-family=\"Times New Roman,serif\" font-size=\"14.00\">pick_phosphor, 1.0, -11.7</text>\n</g>\n</g>\n</svg>"
     },
     "metadata": {},
     "output_type": "display_data"
    },
    {
     "data": {
      "text/plain": "<IPython.core.display.SVG object>",
      "image/svg+xml": "<svg xmlns=\"http://www.w3.org/2000/svg\" xmlns:xlink=\"http://www.w3.org/1999/xlink\" width=\"204pt\" height=\"110pt\" viewBox=\"0.00 0.00 203.55 110.09\">\n<g id=\"graph0\" class=\"graph\" transform=\"scale(1 1) rotate(0) translate(4 106.09)\">\n<polygon fill=\"white\" stroke=\"none\" points=\"-4,4 -4,-106.09 199.55,-106.09 199.55,4 -4,4\"/>\n<!-- fake -->\n<g id=\"node1\" class=\"node\">\n<title>fake</title>\n</g>\n<!-- ready -->\n<g id=\"node2\" class=\"node\">\n<title>ready</title>\n<ellipse fill=\"none\" stroke=\"black\" cx=\"125.55\" cy=\"-34.55\" rx=\"30.59\" ry=\"30.59\"/>\n<ellipse fill=\"none\" stroke=\"black\" cx=\"125.55\" cy=\"-34.55\" rx=\"34.59\" ry=\"34.59\"/>\n<text text-anchor=\"middle\" x=\"125.55\" y=\"-30.85\" font-family=\"Times New Roman,serif\" font-size=\"14.00\">ready</text>\n</g>\n<!-- fake&#45;&gt;ready -->\n<g id=\"edge1\" class=\"edge\">\n<title>fake-&gt;ready</title>\n<path fill=\"none\" stroke=\"black\" stroke-width=\"2\" d=\"M54.38,-34.55C62.06,-34.55 70.67,-34.55 79.17,-34.55\"/>\n<polygon fill=\"black\" stroke=\"black\" stroke-width=\"2\" points=\"77.55,-38.05 87.55,-34.55 77.55,-31.05 77.55,-38.05\"/>\n</g>\n<!-- ready&#45;&gt;ready -->\n<g id=\"edge2\" class=\"edge\">\n<title>ready-&gt;ready</title>\n<path fill=\"none\" stroke=\"black\" d=\"M115.61,-68.16C115.76,-78.74 119.07,-87.09 125.55,-87.09 129.49,-87.09 132.27,-83.99 133.86,-79.17\"/>\n<polygon fill=\"black\" stroke=\"black\" points=\"137.27,-80.06 135.27,-69.65 130.35,-79.03 137.27,-80.06\"/>\n<text text-anchor=\"middle\" x=\"125.55\" y=\"-90.89\" font-family=\"Times New Roman,serif\" font-size=\"14.00\">pick_phosphor, 1.0, -1.0</text>\n</g>\n</g>\n</svg>"
     },
     "metadata": {},
     "output_type": "display_data"
    }
   ],
   "source": [
    "def phosphor_warehouse_service(name: str, action_reward: float) -> Service:\n",
    "    \"\"\"Build the phosphor warehouse device.\"\"\"\n",
    "    return build_generic_service_one_state(\n",
    "        name,\n",
    "        {PICK_PHOSPHOR},\n",
    "        action_reward=action_reward\n",
    "    )\n",
    "\n",
    "service_phosphor_morocco = phosphor_warehouse_service(PHOSPHOR_SERVICE_NAME_MOROCCO, MOROCCO_REWARD)\n",
    "service_phosphor_china = phosphor_warehouse_service(PHOSPHOR_SERVICE_NAME_CHINA, CHINA_REWARD)\n",
    "service_phosphor_usa = phosphor_warehouse_service(PHOSPHOR_SERVICE_NAME_USA, USA_REWARD)\n",
    "render_service(service_phosphor_morocco)\n",
    "render_service(service_phosphor_china)\n",
    "render_service(service_phosphor_usa)"
   ]
  },
  {
   "cell_type": "code",
   "execution_count": 15,
   "outputs": [
    {
     "data": {
      "text/plain": "<IPython.core.display.SVG object>",
      "image/svg+xml": "<svg xmlns=\"http://www.w3.org/2000/svg\" xmlns:xlink=\"http://www.w3.org/1999/xlink\" width=\"207pt\" height=\"110pt\" viewBox=\"0.00 0.00 206.55 110.09\">\n<g id=\"graph0\" class=\"graph\" transform=\"scale(1 1) rotate(0) translate(4 106.09)\">\n<polygon fill=\"white\" stroke=\"none\" points=\"-4,4 -4,-106.09 202.55,-106.09 202.55,4 -4,4\"/>\n<!-- fake -->\n<g id=\"node1\" class=\"node\">\n<title>fake</title>\n</g>\n<!-- ready -->\n<g id=\"node2\" class=\"node\">\n<title>ready</title>\n<ellipse fill=\"none\" stroke=\"black\" cx=\"125.55\" cy=\"-34.55\" rx=\"30.59\" ry=\"30.59\"/>\n<ellipse fill=\"none\" stroke=\"black\" cx=\"125.55\" cy=\"-34.55\" rx=\"34.59\" ry=\"34.59\"/>\n<text text-anchor=\"middle\" x=\"125.55\" y=\"-30.85\" font-family=\"Times New Roman,serif\" font-size=\"14.00\">ready</text>\n</g>\n<!-- fake&#45;&gt;ready -->\n<g id=\"edge1\" class=\"edge\">\n<title>fake-&gt;ready</title>\n<path fill=\"none\" stroke=\"black\" stroke-width=\"2\" d=\"M54.38,-34.55C62.06,-34.55 70.67,-34.55 79.17,-34.55\"/>\n<polygon fill=\"black\" stroke=\"black\" stroke-width=\"2\" points=\"77.55,-38.05 87.55,-34.55 77.55,-31.05 77.55,-38.05\"/>\n</g>\n<!-- ready&#45;&gt;ready -->\n<g id=\"edge2\" class=\"edge\">\n<title>ready-&gt;ready</title>\n<path fill=\"none\" stroke=\"black\" d=\"M115.61,-68.16C115.76,-78.74 119.07,-87.09 125.55,-87.09 129.49,-87.09 132.27,-83.99 133.86,-79.17\"/>\n<polygon fill=\"black\" stroke=\"black\" points=\"137.27,-80.06 135.27,-69.65 130.35,-79.03 137.27,-80.06\"/>\n<text text-anchor=\"middle\" x=\"125.55\" y=\"-90.89\" font-family=\"Times New Roman,serif\" font-size=\"14.00\">pick_aluminum, 1.0, -14.0</text>\n</g>\n</g>\n</svg>"
     },
     "metadata": {},
     "output_type": "display_data"
    },
    {
     "data": {
      "text/plain": "<IPython.core.display.SVG object>",
      "image/svg+xml": "<svg xmlns=\"http://www.w3.org/2000/svg\" xmlns:xlink=\"http://www.w3.org/1999/xlink\" width=\"207pt\" height=\"110pt\" viewBox=\"0.00 0.00 206.55 110.09\">\n<g id=\"graph0\" class=\"graph\" transform=\"scale(1 1) rotate(0) translate(4 106.09)\">\n<polygon fill=\"white\" stroke=\"none\" points=\"-4,4 -4,-106.09 202.55,-106.09 202.55,4 -4,4\"/>\n<!-- fake -->\n<g id=\"node1\" class=\"node\">\n<title>fake</title>\n</g>\n<!-- ready -->\n<g id=\"node2\" class=\"node\">\n<title>ready</title>\n<ellipse fill=\"none\" stroke=\"black\" cx=\"125.55\" cy=\"-34.55\" rx=\"30.59\" ry=\"30.59\"/>\n<ellipse fill=\"none\" stroke=\"black\" cx=\"125.55\" cy=\"-34.55\" rx=\"34.59\" ry=\"34.59\"/>\n<text text-anchor=\"middle\" x=\"125.55\" y=\"-30.85\" font-family=\"Times New Roman,serif\" font-size=\"14.00\">ready</text>\n</g>\n<!-- fake&#45;&gt;ready -->\n<g id=\"edge1\" class=\"edge\">\n<title>fake-&gt;ready</title>\n<path fill=\"none\" stroke=\"black\" stroke-width=\"2\" d=\"M54.38,-34.55C62.06,-34.55 70.67,-34.55 79.17,-34.55\"/>\n<polygon fill=\"black\" stroke=\"black\" stroke-width=\"2\" points=\"77.55,-38.05 87.55,-34.55 77.55,-31.05 77.55,-38.05\"/>\n</g>\n<!-- ready&#45;&gt;ready -->\n<g id=\"edge2\" class=\"edge\">\n<title>ready-&gt;ready</title>\n<path fill=\"none\" stroke=\"black\" d=\"M115.61,-68.16C115.76,-78.74 119.07,-87.09 125.55,-87.09 129.49,-87.09 132.27,-83.99 133.86,-79.17\"/>\n<polygon fill=\"black\" stroke=\"black\" points=\"137.27,-80.06 135.27,-69.65 130.35,-79.03 137.27,-80.06\"/>\n<text text-anchor=\"middle\" x=\"125.55\" y=\"-90.89\" font-family=\"Times New Roman,serif\" font-size=\"14.00\">pick_aluminum, 1.0, -13.1</text>\n</g>\n</g>\n</svg>"
     },
     "metadata": {},
     "output_type": "display_data"
    },
    {
     "data": {
      "text/plain": "<IPython.core.display.SVG object>",
      "image/svg+xml": "<svg xmlns=\"http://www.w3.org/2000/svg\" xmlns:xlink=\"http://www.w3.org/1999/xlink\" width=\"203pt\" height=\"110pt\" viewBox=\"0.00 0.00 203.05 110.09\">\n<g id=\"graph0\" class=\"graph\" transform=\"scale(1 1) rotate(0) translate(4 106.09)\">\n<polygon fill=\"white\" stroke=\"none\" points=\"-4,4 -4,-106.09 199.05,-106.09 199.05,4 -4,4\"/>\n<!-- fake -->\n<g id=\"node1\" class=\"node\">\n<title>fake</title>\n</g>\n<!-- ready -->\n<g id=\"node2\" class=\"node\">\n<title>ready</title>\n<ellipse fill=\"none\" stroke=\"black\" cx=\"125.55\" cy=\"-34.55\" rx=\"30.59\" ry=\"30.59\"/>\n<ellipse fill=\"none\" stroke=\"black\" cx=\"125.55\" cy=\"-34.55\" rx=\"34.59\" ry=\"34.59\"/>\n<text text-anchor=\"middle\" x=\"125.55\" y=\"-30.85\" font-family=\"Times New Roman,serif\" font-size=\"14.00\">ready</text>\n</g>\n<!-- fake&#45;&gt;ready -->\n<g id=\"edge1\" class=\"edge\">\n<title>fake-&gt;ready</title>\n<path fill=\"none\" stroke=\"black\" stroke-width=\"2\" d=\"M54.38,-34.55C62.06,-34.55 70.67,-34.55 79.17,-34.55\"/>\n<polygon fill=\"black\" stroke=\"black\" stroke-width=\"2\" points=\"77.55,-38.05 87.55,-34.55 77.55,-31.05 77.55,-38.05\"/>\n</g>\n<!-- ready&#45;&gt;ready -->\n<g id=\"edge2\" class=\"edge\">\n<title>ready-&gt;ready</title>\n<path fill=\"none\" stroke=\"black\" d=\"M115.61,-68.16C115.76,-78.74 119.07,-87.09 125.55,-87.09 129.49,-87.09 132.27,-83.99 133.86,-79.17\"/>\n<polygon fill=\"black\" stroke=\"black\" points=\"137.27,-80.06 135.27,-69.65 130.35,-79.03 137.27,-80.06\"/>\n<text text-anchor=\"middle\" x=\"125.55\" y=\"-90.89\" font-family=\"Times New Roman,serif\" font-size=\"14.00\">pick_aluminum, 1.0, -6.7</text>\n</g>\n</g>\n</svg>"
     },
     "metadata": {},
     "output_type": "display_data"
    }
   ],
   "source": [
    "def aluminum_warehouse_service(name: str, action_reward: float) -> Service:\n",
    "    \"\"\"Build the aluminum warehouse device.\"\"\"\n",
    "    return build_generic_service_one_state(\n",
    "        name,\n",
    "        {PICK_ALUMINUM},\n",
    "        action_reward=action_reward\n",
    "    )\n",
    "\n",
    "service_aluminum_australia = aluminum_warehouse_service(ALUMINUM_SERVICE_NAME_AUSTRALIA, AUSTRALIA_REWARD)\n",
    "service_aluminum_india = aluminum_warehouse_service(ALUMINUM_SERVICE_NAME_INDIA, INDIA_REWARD)\n",
    "service_aluminum_brazil = aluminum_warehouse_service(ALUMINUM_SERVICE_NAME_BRAZIL, BRAZIL_REWARD)\n",
    "render_service(service_aluminum_australia)\n",
    "render_service(service_aluminum_india)\n",
    "render_service(service_aluminum_brazil)"
   ],
   "metadata": {
    "collapsed": false
   }
  },
  {
   "cell_type": "code",
   "execution_count": 16,
   "metadata": {},
   "outputs": [
    {
     "data": {
      "text/plain": "<IPython.core.display.SVG object>",
      "image/svg+xml": "<svg xmlns=\"http://www.w3.org/2000/svg\" xmlns:xlink=\"http://www.w3.org/1999/xlink\" width=\"191pt\" height=\"110pt\" viewBox=\"0.00 0.00 191.05 110.09\">\n<g id=\"graph0\" class=\"graph\" transform=\"scale(1 1) rotate(0) translate(4 106.09)\">\n<polygon fill=\"white\" stroke=\"none\" points=\"-4,4 -4,-106.09 187.05,-106.09 187.05,4 -4,4\"/>\n<!-- fake -->\n<g id=\"node1\" class=\"node\">\n<title>fake</title>\n</g>\n<!-- ready -->\n<g id=\"node2\" class=\"node\">\n<title>ready</title>\n<ellipse fill=\"none\" stroke=\"black\" cx=\"125.55\" cy=\"-34.55\" rx=\"30.59\" ry=\"30.59\"/>\n<ellipse fill=\"none\" stroke=\"black\" cx=\"125.55\" cy=\"-34.55\" rx=\"34.59\" ry=\"34.59\"/>\n<text text-anchor=\"middle\" x=\"125.55\" y=\"-30.85\" font-family=\"Times New Roman,serif\" font-size=\"14.00\">ready</text>\n</g>\n<!-- fake&#45;&gt;ready -->\n<g id=\"edge1\" class=\"edge\">\n<title>fake-&gt;ready</title>\n<path fill=\"none\" stroke=\"black\" stroke-width=\"2\" d=\"M54.38,-34.55C62.06,-34.55 70.67,-34.55 79.17,-34.55\"/>\n<polygon fill=\"black\" stroke=\"black\" stroke-width=\"2\" points=\"77.55,-38.05 87.55,-34.55 77.55,-31.05 77.55,-38.05\"/>\n</g>\n<!-- ready&#45;&gt;ready -->\n<g id=\"edge2\" class=\"edge\">\n<title>ready-&gt;ready</title>\n<path fill=\"none\" stroke=\"black\" d=\"M115.61,-68.16C115.76,-78.74 119.07,-87.09 125.55,-87.09 129.49,-87.09 132.27,-83.99 133.86,-79.17\"/>\n<polygon fill=\"black\" stroke=\"black\" points=\"137.27,-80.06 135.27,-69.65 130.35,-79.03 137.27,-80.06\"/>\n<text text-anchor=\"middle\" x=\"125.55\" y=\"-90.89\" font-family=\"Times New Roman,serif\" font-size=\"14.00\">pick_resist, 1.0, -1.0</text>\n</g>\n</g>\n</svg>"
     },
     "metadata": {},
     "output_type": "display_data"
    },
    {
     "data": {
      "text/plain": "<IPython.core.display.SVG object>",
      "image/svg+xml": "<svg xmlns=\"http://www.w3.org/2000/svg\" xmlns:xlink=\"http://www.w3.org/1999/xlink\" width=\"191pt\" height=\"110pt\" viewBox=\"0.00 0.00 191.05 110.09\">\n<g id=\"graph0\" class=\"graph\" transform=\"scale(1 1) rotate(0) translate(4 106.09)\">\n<polygon fill=\"white\" stroke=\"none\" points=\"-4,4 -4,-106.09 187.05,-106.09 187.05,4 -4,4\"/>\n<!-- fake -->\n<g id=\"node1\" class=\"node\">\n<title>fake</title>\n</g>\n<!-- ready -->\n<g id=\"node2\" class=\"node\">\n<title>ready</title>\n<ellipse fill=\"none\" stroke=\"black\" cx=\"125.55\" cy=\"-34.55\" rx=\"30.59\" ry=\"30.59\"/>\n<ellipse fill=\"none\" stroke=\"black\" cx=\"125.55\" cy=\"-34.55\" rx=\"34.59\" ry=\"34.59\"/>\n<text text-anchor=\"middle\" x=\"125.55\" y=\"-30.85\" font-family=\"Times New Roman,serif\" font-size=\"14.00\">ready</text>\n</g>\n<!-- fake&#45;&gt;ready -->\n<g id=\"edge1\" class=\"edge\">\n<title>fake-&gt;ready</title>\n<path fill=\"none\" stroke=\"black\" stroke-width=\"2\" d=\"M54.38,-34.55C62.06,-34.55 70.67,-34.55 79.17,-34.55\"/>\n<polygon fill=\"black\" stroke=\"black\" stroke-width=\"2\" points=\"77.55,-38.05 87.55,-34.55 77.55,-31.05 77.55,-38.05\"/>\n</g>\n<!-- ready&#45;&gt;ready -->\n<g id=\"edge2\" class=\"edge\">\n<title>ready-&gt;ready</title>\n<path fill=\"none\" stroke=\"black\" d=\"M115.61,-68.16C115.76,-78.74 119.07,-87.09 125.55,-87.09 129.49,-87.09 132.27,-83.99 133.86,-79.17\"/>\n<polygon fill=\"black\" stroke=\"black\" points=\"137.27,-80.06 135.27,-69.65 130.35,-79.03 137.27,-80.06\"/>\n<text text-anchor=\"middle\" x=\"125.55\" y=\"-90.89\" font-family=\"Times New Roman,serif\" font-size=\"14.00\">pick_resist, 1.0, -7.6</text>\n</g>\n</g>\n</svg>"
     },
     "metadata": {},
     "output_type": "display_data"
    },
    {
     "data": {
      "text/plain": "<IPython.core.display.SVG object>",
      "image/svg+xml": "<svg xmlns=\"http://www.w3.org/2000/svg\" xmlns:xlink=\"http://www.w3.org/1999/xlink\" width=\"195pt\" height=\"110pt\" viewBox=\"0.00 0.00 194.55 110.09\">\n<g id=\"graph0\" class=\"graph\" transform=\"scale(1 1) rotate(0) translate(4 106.09)\">\n<polygon fill=\"white\" stroke=\"none\" points=\"-4,4 -4,-106.09 190.55,-106.09 190.55,4 -4,4\"/>\n<!-- fake -->\n<g id=\"node1\" class=\"node\">\n<title>fake</title>\n</g>\n<!-- ready -->\n<g id=\"node2\" class=\"node\">\n<title>ready</title>\n<ellipse fill=\"none\" stroke=\"black\" cx=\"125.55\" cy=\"-34.55\" rx=\"30.59\" ry=\"30.59\"/>\n<ellipse fill=\"none\" stroke=\"black\" cx=\"125.55\" cy=\"-34.55\" rx=\"34.59\" ry=\"34.59\"/>\n<text text-anchor=\"middle\" x=\"125.55\" y=\"-30.85\" font-family=\"Times New Roman,serif\" font-size=\"14.00\">ready</text>\n</g>\n<!-- fake&#45;&gt;ready -->\n<g id=\"edge1\" class=\"edge\">\n<title>fake-&gt;ready</title>\n<path fill=\"none\" stroke=\"black\" stroke-width=\"2\" d=\"M54.38,-34.55C62.06,-34.55 70.67,-34.55 79.17,-34.55\"/>\n<polygon fill=\"black\" stroke=\"black\" stroke-width=\"2\" points=\"77.55,-38.05 87.55,-34.55 77.55,-31.05 77.55,-38.05\"/>\n</g>\n<!-- ready&#45;&gt;ready -->\n<g id=\"edge2\" class=\"edge\">\n<title>ready-&gt;ready</title>\n<path fill=\"none\" stroke=\"black\" d=\"M115.61,-68.16C115.76,-78.74 119.07,-87.09 125.55,-87.09 129.49,-87.09 132.27,-83.99 133.86,-79.17\"/>\n<polygon fill=\"black\" stroke=\"black\" points=\"137.27,-80.06 135.27,-69.65 130.35,-79.03 137.27,-80.06\"/>\n<text text-anchor=\"middle\" x=\"125.55\" y=\"-90.89\" font-family=\"Times New Roman,serif\" font-size=\"14.00\">pick_resist, 1.0, -8.38</text>\n</g>\n</g>\n</svg>"
     },
     "metadata": {},
     "output_type": "display_data"
    },
    {
     "data": {
      "text/plain": "<IPython.core.display.SVG object>",
      "image/svg+xml": "<svg xmlns=\"http://www.w3.org/2000/svg\" xmlns:xlink=\"http://www.w3.org/1999/xlink\" width=\"195pt\" height=\"110pt\" viewBox=\"0.00 0.00 194.55 110.09\">\n<g id=\"graph0\" class=\"graph\" transform=\"scale(1 1) rotate(0) translate(4 106.09)\">\n<polygon fill=\"white\" stroke=\"none\" points=\"-4,4 -4,-106.09 190.55,-106.09 190.55,4 -4,4\"/>\n<!-- fake -->\n<g id=\"node1\" class=\"node\">\n<title>fake</title>\n</g>\n<!-- ready -->\n<g id=\"node2\" class=\"node\">\n<title>ready</title>\n<ellipse fill=\"none\" stroke=\"black\" cx=\"125.55\" cy=\"-34.55\" rx=\"30.59\" ry=\"30.59\"/>\n<ellipse fill=\"none\" stroke=\"black\" cx=\"125.55\" cy=\"-34.55\" rx=\"34.59\" ry=\"34.59\"/>\n<text text-anchor=\"middle\" x=\"125.55\" y=\"-30.85\" font-family=\"Times New Roman,serif\" font-size=\"14.00\">ready</text>\n</g>\n<!-- fake&#45;&gt;ready -->\n<g id=\"edge1\" class=\"edge\">\n<title>fake-&gt;ready</title>\n<path fill=\"none\" stroke=\"black\" stroke-width=\"2\" d=\"M54.38,-34.55C62.06,-34.55 70.67,-34.55 79.17,-34.55\"/>\n<polygon fill=\"black\" stroke=\"black\" stroke-width=\"2\" points=\"77.55,-38.05 87.55,-34.55 77.55,-31.05 77.55,-38.05\"/>\n</g>\n<!-- ready&#45;&gt;ready -->\n<g id=\"edge2\" class=\"edge\">\n<title>ready-&gt;ready</title>\n<path fill=\"none\" stroke=\"black\" d=\"M115.61,-68.16C115.76,-78.74 119.07,-87.09 125.55,-87.09 129.49,-87.09 132.27,-83.99 133.86,-79.17\"/>\n<polygon fill=\"black\" stroke=\"black\" points=\"137.27,-80.06 135.27,-69.65 130.35,-79.03 137.27,-80.06\"/>\n<text text-anchor=\"middle\" x=\"125.55\" y=\"-90.89\" font-family=\"Times New Roman,serif\" font-size=\"14.00\">pick_resist, 1.0, -13.1</text>\n</g>\n</g>\n</svg>"
     },
     "metadata": {},
     "output_type": "display_data"
    },
    {
     "data": {
      "text/plain": "<IPython.core.display.SVG object>",
      "image/svg+xml": "<svg xmlns=\"http://www.w3.org/2000/svg\" xmlns:xlink=\"http://www.w3.org/1999/xlink\" width=\"191pt\" height=\"110pt\" viewBox=\"0.00 0.00 191.05 110.09\">\n<g id=\"graph0\" class=\"graph\" transform=\"scale(1 1) rotate(0) translate(4 106.09)\">\n<polygon fill=\"white\" stroke=\"none\" points=\"-4,4 -4,-106.09 187.05,-106.09 187.05,4 -4,4\"/>\n<!-- fake -->\n<g id=\"node1\" class=\"node\">\n<title>fake</title>\n</g>\n<!-- ready -->\n<g id=\"node2\" class=\"node\">\n<title>ready</title>\n<ellipse fill=\"none\" stroke=\"black\" cx=\"125.55\" cy=\"-34.55\" rx=\"30.59\" ry=\"30.59\"/>\n<ellipse fill=\"none\" stroke=\"black\" cx=\"125.55\" cy=\"-34.55\" rx=\"34.59\" ry=\"34.59\"/>\n<text text-anchor=\"middle\" x=\"125.55\" y=\"-30.85\" font-family=\"Times New Roman,serif\" font-size=\"14.00\">ready</text>\n</g>\n<!-- fake&#45;&gt;ready -->\n<g id=\"edge1\" class=\"edge\">\n<title>fake-&gt;ready</title>\n<path fill=\"none\" stroke=\"black\" stroke-width=\"2\" d=\"M54.38,-34.55C62.06,-34.55 70.67,-34.55 79.17,-34.55\"/>\n<polygon fill=\"black\" stroke=\"black\" stroke-width=\"2\" points=\"77.55,-38.05 87.55,-34.55 77.55,-31.05 77.55,-38.05\"/>\n</g>\n<!-- ready&#45;&gt;ready -->\n<g id=\"edge2\" class=\"edge\">\n<title>ready-&gt;ready</title>\n<path fill=\"none\" stroke=\"black\" d=\"M115.61,-68.16C115.76,-78.74 119.07,-87.09 125.55,-87.09 129.49,-87.09 132.27,-83.99 133.86,-79.17\"/>\n<polygon fill=\"black\" stroke=\"black\" points=\"137.27,-80.06 135.27,-69.65 130.35,-79.03 137.27,-80.06\"/>\n<text text-anchor=\"middle\" x=\"125.55\" y=\"-90.89\" font-family=\"Times New Roman,serif\" font-size=\"14.00\">pick_resist, 1.0, -8.0</text>\n</g>\n</g>\n</svg>"
     },
     "metadata": {},
     "output_type": "display_data"
    },
    {
     "data": {
      "text/plain": "<IPython.core.display.SVG object>",
      "image/svg+xml": "<svg xmlns=\"http://www.w3.org/2000/svg\" xmlns:xlink=\"http://www.w3.org/1999/xlink\" width=\"191pt\" height=\"110pt\" viewBox=\"0.00 0.00 191.05 110.09\">\n<g id=\"graph0\" class=\"graph\" transform=\"scale(1 1) rotate(0) translate(4 106.09)\">\n<polygon fill=\"white\" stroke=\"none\" points=\"-4,4 -4,-106.09 187.05,-106.09 187.05,4 -4,4\"/>\n<!-- fake -->\n<g id=\"node1\" class=\"node\">\n<title>fake</title>\n</g>\n<!-- ready -->\n<g id=\"node2\" class=\"node\">\n<title>ready</title>\n<ellipse fill=\"none\" stroke=\"black\" cx=\"125.55\" cy=\"-34.55\" rx=\"30.59\" ry=\"30.59\"/>\n<ellipse fill=\"none\" stroke=\"black\" cx=\"125.55\" cy=\"-34.55\" rx=\"34.59\" ry=\"34.59\"/>\n<text text-anchor=\"middle\" x=\"125.55\" y=\"-30.85\" font-family=\"Times New Roman,serif\" font-size=\"14.00\">ready</text>\n</g>\n<!-- fake&#45;&gt;ready -->\n<g id=\"edge1\" class=\"edge\">\n<title>fake-&gt;ready</title>\n<path fill=\"none\" stroke=\"black\" stroke-width=\"2\" d=\"M54.38,-34.55C62.06,-34.55 70.67,-34.55 79.17,-34.55\"/>\n<polygon fill=\"black\" stroke=\"black\" stroke-width=\"2\" points=\"77.55,-38.05 87.55,-34.55 77.55,-31.05 77.55,-38.05\"/>\n</g>\n<!-- ready&#45;&gt;ready -->\n<g id=\"edge2\" class=\"edge\">\n<title>ready-&gt;ready</title>\n<path fill=\"none\" stroke=\"black\" d=\"M115.61,-68.16C115.76,-78.74 119.07,-87.09 125.55,-87.09 129.49,-87.09 132.27,-83.99 133.86,-79.17\"/>\n<polygon fill=\"black\" stroke=\"black\" points=\"137.27,-80.06 135.27,-69.65 130.35,-79.03 137.27,-80.06\"/>\n<text text-anchor=\"middle\" x=\"125.55\" y=\"-90.89\" font-family=\"Times New Roman,serif\" font-size=\"14.00\">pick_resist, 1.0, -1.8</text>\n</g>\n</g>\n</svg>"
     },
     "metadata": {},
     "output_type": "display_data"
    }
   ],
   "source": [
    "def resist_warehouse_service(name: str, action_reward: float) -> Service:\n",
    "    \"\"\"Build the resist warehouse device.\"\"\"\n",
    "    return build_generic_service_one_state(\n",
    "        name,\n",
    "        {PICK_RESIST},\n",
    "        action_reward=action_reward\n",
    "    )\n",
    "\n",
    "\n",
    "service_resist_usa = resist_warehouse_service(RESIST_SERVICE_NAME_USA, USA_REWARD)\n",
    "service_resist_belgium = resist_warehouse_service(RESIST_SERVICE_NAME_BELGIUM, BELGIUM_REWARD)\n",
    "service_resist_austria = resist_warehouse_service(RESIST_SERVICE_NAME_AUSTRIA, AUSTRIA_REWARD)\n",
    "service_resist_india = resist_warehouse_service(RESIST_SERVICE_NAME_INDIA, INDIA_REWARD)\n",
    "service_resist_switzerland = resist_warehouse_service(RESIST_SERVICE_NAME_SWITZERLAND, SWITZERLAND_REWARD)\n",
    "service_resist_canada = resist_warehouse_service(RESIST_SERVICE_NAME_CANADA, CANADA_REWARD)\n",
    "render_service(service_resist_usa)\n",
    "render_service(service_resist_belgium)\n",
    "render_service(service_resist_austria)\n",
    "render_service(service_resist_india)\n",
    "render_service(service_resist_switzerland)\n",
    "render_service(service_resist_canada)"
   ]
  },
  {
   "cell_type": "code",
   "execution_count": 17,
   "outputs": [
    {
     "data": {
      "text/plain": "<IPython.core.display.SVG object>",
      "image/svg+xml": "<svg xmlns=\"http://www.w3.org/2000/svg\" xmlns:xlink=\"http://www.w3.org/1999/xlink\" width=\"198pt\" height=\"110pt\" viewBox=\"0.00 0.00 198.05 110.09\">\n<g id=\"graph0\" class=\"graph\" transform=\"scale(1 1) rotate(0) translate(4 106.09)\">\n<polygon fill=\"white\" stroke=\"none\" points=\"-4,4 -4,-106.09 194.05,-106.09 194.05,4 -4,4\"/>\n<!-- fake -->\n<g id=\"node1\" class=\"node\">\n<title>fake</title>\n</g>\n<!-- ready -->\n<g id=\"node2\" class=\"node\">\n<title>ready</title>\n<ellipse fill=\"none\" stroke=\"black\" cx=\"125.55\" cy=\"-34.55\" rx=\"30.59\" ry=\"30.59\"/>\n<ellipse fill=\"none\" stroke=\"black\" cx=\"125.55\" cy=\"-34.55\" rx=\"34.59\" ry=\"34.59\"/>\n<text text-anchor=\"middle\" x=\"125.55\" y=\"-30.85\" font-family=\"Times New Roman,serif\" font-size=\"14.00\">ready</text>\n</g>\n<!-- fake&#45;&gt;ready -->\n<g id=\"edge1\" class=\"edge\">\n<title>fake-&gt;ready</title>\n<path fill=\"none\" stroke=\"black\" stroke-width=\"2\" d=\"M54.38,-34.55C62.06,-34.55 70.67,-34.55 79.17,-34.55\"/>\n<polygon fill=\"black\" stroke=\"black\" stroke-width=\"2\" points=\"77.55,-38.05 87.55,-34.55 77.55,-31.05 77.55,-38.05\"/>\n</g>\n<!-- ready&#45;&gt;ready -->\n<g id=\"edge2\" class=\"edge\">\n<title>ready-&gt;ready</title>\n<path fill=\"none\" stroke=\"black\" d=\"M115.61,-68.16C115.76,-78.74 119.07,-87.09 125.55,-87.09 129.49,-87.09 132.27,-83.99 133.86,-79.17\"/>\n<polygon fill=\"black\" stroke=\"black\" points=\"137.27,-80.06 135.27,-69.65 130.35,-79.03 137.27,-80.06\"/>\n<text text-anchor=\"middle\" x=\"125.55\" y=\"-90.89\" font-family=\"Times New Roman,serif\" font-size=\"14.00\">pick_plastic, 1.0, -11.7</text>\n</g>\n</g>\n</svg>"
     },
     "metadata": {},
     "output_type": "display_data"
    },
    {
     "data": {
      "text/plain": "<IPython.core.display.SVG object>",
      "image/svg+xml": "<svg xmlns=\"http://www.w3.org/2000/svg\" xmlns:xlink=\"http://www.w3.org/1999/xlink\" width=\"198pt\" height=\"110pt\" viewBox=\"0.00 0.00 198.05 110.09\">\n<g id=\"graph0\" class=\"graph\" transform=\"scale(1 1) rotate(0) translate(4 106.09)\">\n<polygon fill=\"white\" stroke=\"none\" points=\"-4,4 -4,-106.09 194.05,-106.09 194.05,4 -4,4\"/>\n<!-- fake -->\n<g id=\"node1\" class=\"node\">\n<title>fake</title>\n</g>\n<!-- ready -->\n<g id=\"node2\" class=\"node\">\n<title>ready</title>\n<ellipse fill=\"none\" stroke=\"black\" cx=\"125.55\" cy=\"-34.55\" rx=\"30.59\" ry=\"30.59\"/>\n<ellipse fill=\"none\" stroke=\"black\" cx=\"125.55\" cy=\"-34.55\" rx=\"34.59\" ry=\"34.59\"/>\n<text text-anchor=\"middle\" x=\"125.55\" y=\"-30.85\" font-family=\"Times New Roman,serif\" font-size=\"14.00\">ready</text>\n</g>\n<!-- fake&#45;&gt;ready -->\n<g id=\"edge1\" class=\"edge\">\n<title>fake-&gt;ready</title>\n<path fill=\"none\" stroke=\"black\" stroke-width=\"2\" d=\"M54.38,-34.55C62.06,-34.55 70.67,-34.55 79.17,-34.55\"/>\n<polygon fill=\"black\" stroke=\"black\" stroke-width=\"2\" points=\"77.55,-38.05 87.55,-34.55 77.55,-31.05 77.55,-38.05\"/>\n</g>\n<!-- ready&#45;&gt;ready -->\n<g id=\"edge2\" class=\"edge\">\n<title>ready-&gt;ready</title>\n<path fill=\"none\" stroke=\"black\" d=\"M115.61,-68.16C115.76,-78.74 119.07,-87.09 125.55,-87.09 129.49,-87.09 132.27,-83.99 133.86,-79.17\"/>\n<polygon fill=\"black\" stroke=\"black\" points=\"137.27,-80.06 135.27,-69.65 130.35,-79.03 137.27,-80.06\"/>\n<text text-anchor=\"middle\" x=\"125.55\" y=\"-90.89\" font-family=\"Times New Roman,serif\" font-size=\"14.00\">pick_plastic, 1.0, -13.1</text>\n</g>\n</g>\n</svg>"
     },
     "metadata": {},
     "output_type": "display_data"
    }
   ],
   "source": [
    "def plastic_warehouse_service(name: str, action_reward: float) -> Service:\n",
    "    \"\"\"Build the plastic warehouse device.\"\"\"\n",
    "    return build_generic_service_one_state(\n",
    "        name,\n",
    "        {PICK_PLASTIC},\n",
    "        action_reward=action_reward\n",
    "    )\n",
    "\n",
    "\n",
    "service_plastic_china = plastic_warehouse_service(PLASTIC_SERVICE_NAME_CHINA, CHINA_REWARD)\n",
    "service_plastic_india = plastic_warehouse_service(PLASTIC_SERVICE_NAME_INDIA, INDIA_REWARD)\n",
    "render_service(service_plastic_china)\n",
    "render_service(service_plastic_india)"
   ],
   "metadata": {
    "collapsed": false
   }
  },
  {
   "cell_type": "code",
   "execution_count": 18,
   "outputs": [
    {
     "data": {
      "text/plain": "<IPython.core.display.SVG object>",
      "image/svg+xml": "<svg xmlns=\"http://www.w3.org/2000/svg\" xmlns:xlink=\"http://www.w3.org/1999/xlink\" width=\"204pt\" height=\"110pt\" viewBox=\"0.00 0.00 204.05 110.09\">\n<g id=\"graph0\" class=\"graph\" transform=\"scale(1 1) rotate(0) translate(4 106.09)\">\n<polygon fill=\"white\" stroke=\"none\" points=\"-4,4 -4,-106.09 200.05,-106.09 200.05,4 -4,4\"/>\n<!-- fake -->\n<g id=\"node1\" class=\"node\">\n<title>fake</title>\n</g>\n<!-- ready -->\n<g id=\"node2\" class=\"node\">\n<title>ready</title>\n<ellipse fill=\"none\" stroke=\"black\" cx=\"125.55\" cy=\"-34.55\" rx=\"30.59\" ry=\"30.59\"/>\n<ellipse fill=\"none\" stroke=\"black\" cx=\"125.55\" cy=\"-34.55\" rx=\"34.59\" ry=\"34.59\"/>\n<text text-anchor=\"middle\" x=\"125.55\" y=\"-30.85\" font-family=\"Times New Roman,serif\" font-size=\"14.00\">ready</text>\n</g>\n<!-- fake&#45;&gt;ready -->\n<g id=\"edge1\" class=\"edge\">\n<title>fake-&gt;ready</title>\n<path fill=\"none\" stroke=\"black\" stroke-width=\"2\" d=\"M54.38,-34.55C62.06,-34.55 70.67,-34.55 79.17,-34.55\"/>\n<polygon fill=\"black\" stroke=\"black\" stroke-width=\"2\" points=\"77.55,-38.05 87.55,-34.55 77.55,-31.05 77.55,-38.05\"/>\n</g>\n<!-- ready&#45;&gt;ready -->\n<g id=\"edge2\" class=\"edge\">\n<title>ready-&gt;ready</title>\n<path fill=\"none\" stroke=\"black\" d=\"M115.61,-68.16C115.76,-78.74 119.07,-87.09 125.55,-87.09 129.49,-87.09 132.27,-83.99 133.86,-79.17\"/>\n<polygon fill=\"black\" stroke=\"black\" points=\"137.27,-80.06 135.27,-69.65 130.35,-79.03 137.27,-80.06\"/>\n<text text-anchor=\"middle\" x=\"125.55\" y=\"-90.89\" font-family=\"Times New Roman,serif\" font-size=\"14.00\">pick_chemicals, 1.0, -1.0</text>\n</g>\n</g>\n</svg>"
     },
     "metadata": {},
     "output_type": "display_data"
    },
    {
     "data": {
      "text/plain": "<IPython.core.display.SVG object>",
      "image/svg+xml": "<svg xmlns=\"http://www.w3.org/2000/svg\" xmlns:xlink=\"http://www.w3.org/1999/xlink\" width=\"204pt\" height=\"110pt\" viewBox=\"0.00 0.00 204.05 110.09\">\n<g id=\"graph0\" class=\"graph\" transform=\"scale(1 1) rotate(0) translate(4 106.09)\">\n<polygon fill=\"white\" stroke=\"none\" points=\"-4,4 -4,-106.09 200.05,-106.09 200.05,4 -4,4\"/>\n<!-- fake -->\n<g id=\"node1\" class=\"node\">\n<title>fake</title>\n</g>\n<!-- ready -->\n<g id=\"node2\" class=\"node\">\n<title>ready</title>\n<ellipse fill=\"none\" stroke=\"black\" cx=\"125.55\" cy=\"-34.55\" rx=\"30.59\" ry=\"30.59\"/>\n<ellipse fill=\"none\" stroke=\"black\" cx=\"125.55\" cy=\"-34.55\" rx=\"34.59\" ry=\"34.59\"/>\n<text text-anchor=\"middle\" x=\"125.55\" y=\"-30.85\" font-family=\"Times New Roman,serif\" font-size=\"14.00\">ready</text>\n</g>\n<!-- fake&#45;&gt;ready -->\n<g id=\"edge1\" class=\"edge\">\n<title>fake-&gt;ready</title>\n<path fill=\"none\" stroke=\"black\" stroke-width=\"2\" d=\"M54.38,-34.55C62.06,-34.55 70.67,-34.55 79.17,-34.55\"/>\n<polygon fill=\"black\" stroke=\"black\" stroke-width=\"2\" points=\"77.55,-38.05 87.55,-34.55 77.55,-31.05 77.55,-38.05\"/>\n</g>\n<!-- ready&#45;&gt;ready -->\n<g id=\"edge2\" class=\"edge\">\n<title>ready-&gt;ready</title>\n<path fill=\"none\" stroke=\"black\" d=\"M115.61,-68.16C115.76,-78.74 119.07,-87.09 125.55,-87.09 129.49,-87.09 132.27,-83.99 133.86,-79.17\"/>\n<polygon fill=\"black\" stroke=\"black\" points=\"137.27,-80.06 135.27,-69.65 130.35,-79.03 137.27,-80.06\"/>\n<text text-anchor=\"middle\" x=\"125.55\" y=\"-90.89\" font-family=\"Times New Roman,serif\" font-size=\"14.00\">pick_chemicals, 1.0, -1.8</text>\n</g>\n</g>\n</svg>"
     },
     "metadata": {},
     "output_type": "display_data"
    }
   ],
   "source": [
    "def chemicals_warehouse_service(name: str, action_reward: float) -> Service:\n",
    "    \"\"\"Build the chemicals warehouse device.\"\"\"\n",
    "    return build_generic_service_one_state(\n",
    "        name,\n",
    "        {PICK_CHEMICALS},\n",
    "        action_reward=action_reward\n",
    "    )\n",
    "\n",
    "\n",
    "service_chemicals_usa = chemicals_warehouse_service(CHEMICALS_SERVICE_NAME_USA, USA_REWARD)\n",
    "service_chemicals_canada = chemicals_warehouse_service(CHEMICALS_SERVICE_NAME_CANADA, CANADA_REWARD)\n",
    "render_service(service_chemicals_usa)\n",
    "render_service(service_chemicals_canada)"
   ],
   "metadata": {
    "collapsed": false
   }
  },
  {
   "cell_type": "code",
   "execution_count": 19,
   "outputs": [
    {
     "data": {
      "text/plain": "<IPython.core.display.SVG object>",
      "image/svg+xml": "<svg xmlns=\"http://www.w3.org/2000/svg\" xmlns:xlink=\"http://www.w3.org/1999/xlink\" width=\"216pt\" height=\"110pt\" viewBox=\"0.00 0.00 216.05 110.09\">\n<g id=\"graph0\" class=\"graph\" transform=\"scale(1 1) rotate(0) translate(4 106.09)\">\n<polygon fill=\"white\" stroke=\"none\" points=\"-4,4 -4,-106.09 212.05,-106.09 212.05,4 -4,4\"/>\n<!-- fake -->\n<g id=\"node1\" class=\"node\">\n<title>fake</title>\n</g>\n<!-- ready -->\n<g id=\"node2\" class=\"node\">\n<title>ready</title>\n<ellipse fill=\"none\" stroke=\"black\" cx=\"125.55\" cy=\"-34.55\" rx=\"30.59\" ry=\"30.59\"/>\n<ellipse fill=\"none\" stroke=\"black\" cx=\"125.55\" cy=\"-34.55\" rx=\"34.59\" ry=\"34.59\"/>\n<text text-anchor=\"middle\" x=\"125.55\" y=\"-30.85\" font-family=\"Times New Roman,serif\" font-size=\"14.00\">ready</text>\n</g>\n<!-- fake&#45;&gt;ready -->\n<g id=\"edge1\" class=\"edge\">\n<title>fake-&gt;ready</title>\n<path fill=\"none\" stroke=\"black\" stroke-width=\"2\" d=\"M54.38,-34.55C62.06,-34.55 70.67,-34.55 79.17,-34.55\"/>\n<polygon fill=\"black\" stroke=\"black\" stroke-width=\"2\" points=\"77.55,-38.05 87.55,-34.55 77.55,-31.05 77.55,-38.05\"/>\n</g>\n<!-- ready&#45;&gt;ready -->\n<g id=\"edge2\" class=\"edge\">\n<title>ready-&gt;ready</title>\n<path fill=\"none\" stroke=\"black\" d=\"M115.61,-68.16C115.76,-78.74 119.07,-87.09 125.55,-87.09 129.49,-87.09 132.27,-83.99 133.86,-79.17\"/>\n<polygon fill=\"black\" stroke=\"black\" points=\"137.27,-80.06 135.27,-69.65 130.35,-79.03 137.27,-80.06\"/>\n<text text-anchor=\"middle\" x=\"125.55\" y=\"-90.89\" font-family=\"Times New Roman,serif\" font-size=\"14.00\">pick_copper_frame, 1.0, -1.0</text>\n</g>\n</g>\n</svg>"
     },
     "metadata": {},
     "output_type": "display_data"
    },
    {
     "data": {
      "text/plain": "<IPython.core.display.SVG object>",
      "image/svg+xml": "<svg xmlns=\"http://www.w3.org/2000/svg\" xmlns:xlink=\"http://www.w3.org/1999/xlink\" width=\"220pt\" height=\"110pt\" viewBox=\"0.00 0.00 219.55 110.09\">\n<g id=\"graph0\" class=\"graph\" transform=\"scale(1 1) rotate(0) translate(4 106.09)\">\n<polygon fill=\"white\" stroke=\"none\" points=\"-4,4 -4,-106.09 215.55,-106.09 215.55,4 -4,4\"/>\n<!-- fake -->\n<g id=\"node1\" class=\"node\">\n<title>fake</title>\n</g>\n<!-- ready -->\n<g id=\"node2\" class=\"node\">\n<title>ready</title>\n<ellipse fill=\"none\" stroke=\"black\" cx=\"125.55\" cy=\"-34.55\" rx=\"30.59\" ry=\"30.59\"/>\n<ellipse fill=\"none\" stroke=\"black\" cx=\"125.55\" cy=\"-34.55\" rx=\"34.59\" ry=\"34.59\"/>\n<text text-anchor=\"middle\" x=\"125.55\" y=\"-30.85\" font-family=\"Times New Roman,serif\" font-size=\"14.00\">ready</text>\n</g>\n<!-- fake&#45;&gt;ready -->\n<g id=\"edge1\" class=\"edge\">\n<title>fake-&gt;ready</title>\n<path fill=\"none\" stroke=\"black\" stroke-width=\"2\" d=\"M54.38,-34.55C62.06,-34.55 70.67,-34.55 79.17,-34.55\"/>\n<polygon fill=\"black\" stroke=\"black\" stroke-width=\"2\" points=\"77.55,-38.05 87.55,-34.55 77.55,-31.05 77.55,-38.05\"/>\n</g>\n<!-- ready&#45;&gt;ready -->\n<g id=\"edge2\" class=\"edge\">\n<title>ready-&gt;ready</title>\n<path fill=\"none\" stroke=\"black\" d=\"M115.61,-68.16C115.76,-78.74 119.07,-87.09 125.55,-87.09 129.49,-87.09 132.27,-83.99 133.86,-79.17\"/>\n<polygon fill=\"black\" stroke=\"black\" points=\"137.27,-80.06 135.27,-69.65 130.35,-79.03 137.27,-80.06\"/>\n<text text-anchor=\"middle\" x=\"125.55\" y=\"-90.89\" font-family=\"Times New Roman,serif\" font-size=\"14.00\">pick_copper_frame, 1.0, -11.7</text>\n</g>\n</g>\n</svg>"
     },
     "metadata": {},
     "output_type": "display_data"
    },
    {
     "data": {
      "text/plain": "<IPython.core.display.SVG object>",
      "image/svg+xml": "<svg xmlns=\"http://www.w3.org/2000/svg\" xmlns:xlink=\"http://www.w3.org/1999/xlink\" width=\"216pt\" height=\"110pt\" viewBox=\"0.00 0.00 216.05 110.09\">\n<g id=\"graph0\" class=\"graph\" transform=\"scale(1 1) rotate(0) translate(4 106.09)\">\n<polygon fill=\"white\" stroke=\"none\" points=\"-4,4 -4,-106.09 212.05,-106.09 212.05,4 -4,4\"/>\n<!-- fake -->\n<g id=\"node1\" class=\"node\">\n<title>fake</title>\n</g>\n<!-- ready -->\n<g id=\"node2\" class=\"node\">\n<title>ready</title>\n<ellipse fill=\"none\" stroke=\"black\" cx=\"125.55\" cy=\"-34.55\" rx=\"30.59\" ry=\"30.59\"/>\n<ellipse fill=\"none\" stroke=\"black\" cx=\"125.55\" cy=\"-34.55\" rx=\"34.59\" ry=\"34.59\"/>\n<text text-anchor=\"middle\" x=\"125.55\" y=\"-30.85\" font-family=\"Times New Roman,serif\" font-size=\"14.00\">ready</text>\n</g>\n<!-- fake&#45;&gt;ready -->\n<g id=\"edge1\" class=\"edge\">\n<title>fake-&gt;ready</title>\n<path fill=\"none\" stroke=\"black\" stroke-width=\"2\" d=\"M54.38,-34.55C62.06,-34.55 70.67,-34.55 79.17,-34.55\"/>\n<polygon fill=\"black\" stroke=\"black\" stroke-width=\"2\" points=\"77.55,-38.05 87.55,-34.55 77.55,-31.05 77.55,-38.05\"/>\n</g>\n<!-- ready&#45;&gt;ready -->\n<g id=\"edge2\" class=\"edge\">\n<title>ready-&gt;ready</title>\n<path fill=\"none\" stroke=\"black\" d=\"M115.61,-68.16C115.76,-78.74 119.07,-87.09 125.55,-87.09 129.49,-87.09 132.27,-83.99 133.86,-79.17\"/>\n<polygon fill=\"black\" stroke=\"black\" points=\"137.27,-80.06 135.27,-69.65 130.35,-79.03 137.27,-80.06\"/>\n<text text-anchor=\"middle\" x=\"125.55\" y=\"-90.89\" font-family=\"Times New Roman,serif\" font-size=\"14.00\">pick_copper_frame, 1.0, -6.0</text>\n</g>\n</g>\n</svg>"
     },
     "metadata": {},
     "output_type": "display_data"
    },
    {
     "data": {
      "text/plain": "<IPython.core.display.SVG object>",
      "image/svg+xml": "<svg xmlns=\"http://www.w3.org/2000/svg\" xmlns:xlink=\"http://www.w3.org/1999/xlink\" width=\"216pt\" height=\"110pt\" viewBox=\"0.00 0.00 216.05 110.09\">\n<g id=\"graph0\" class=\"graph\" transform=\"scale(1 1) rotate(0) translate(4 106.09)\">\n<polygon fill=\"white\" stroke=\"none\" points=\"-4,4 -4,-106.09 212.05,-106.09 212.05,4 -4,4\"/>\n<!-- fake -->\n<g id=\"node1\" class=\"node\">\n<title>fake</title>\n</g>\n<!-- ready -->\n<g id=\"node2\" class=\"node\">\n<title>ready</title>\n<ellipse fill=\"none\" stroke=\"black\" cx=\"125.55\" cy=\"-34.55\" rx=\"30.59\" ry=\"30.59\"/>\n<ellipse fill=\"none\" stroke=\"black\" cx=\"125.55\" cy=\"-34.55\" rx=\"34.59\" ry=\"34.59\"/>\n<text text-anchor=\"middle\" x=\"125.55\" y=\"-30.85\" font-family=\"Times New Roman,serif\" font-size=\"14.00\">ready</text>\n</g>\n<!-- fake&#45;&gt;ready -->\n<g id=\"edge1\" class=\"edge\">\n<title>fake-&gt;ready</title>\n<path fill=\"none\" stroke=\"black\" stroke-width=\"2\" d=\"M54.38,-34.55C62.06,-34.55 70.67,-34.55 79.17,-34.55\"/>\n<polygon fill=\"black\" stroke=\"black\" stroke-width=\"2\" points=\"77.55,-38.05 87.55,-34.55 77.55,-31.05 77.55,-38.05\"/>\n</g>\n<!-- ready&#45;&gt;ready -->\n<g id=\"edge2\" class=\"edge\">\n<title>ready-&gt;ready</title>\n<path fill=\"none\" stroke=\"black\" d=\"M115.61,-68.16C115.76,-78.74 119.07,-87.09 125.55,-87.09 129.49,-87.09 132.27,-83.99 133.86,-79.17\"/>\n<polygon fill=\"black\" stroke=\"black\" points=\"137.27,-80.06 135.27,-69.65 130.35,-79.03 137.27,-80.06\"/>\n<text text-anchor=\"middle\" x=\"125.55\" y=\"-90.89\" font-family=\"Times New Roman,serif\" font-size=\"14.00\">pick_copper_frame, 1.0, -7.8</text>\n</g>\n</g>\n</svg>"
     },
     "metadata": {},
     "output_type": "display_data"
    }
   ],
   "source": [
    "def copper_frame_warehouse_service(name: str, action_reward: float) -> Service:\n",
    "    \"\"\"Build the copper frame warehouse device.\"\"\"\n",
    "    return build_generic_service_one_state(\n",
    "        name,\n",
    "        {PICK_COPPER_FRAME},\n",
    "        action_reward=action_reward\n",
    "    )\n",
    "\n",
    "\n",
    "service_copper_frame_usa = copper_frame_warehouse_service(COPPER_FRAME_SERVICE_NAME_USA, USA_REWARD)\n",
    "service_copper_frame_china = copper_frame_warehouse_service(COPPER_FRAME_SERVICE_NAME_CHINA, CHINA_REWARD)\n",
    "service_copper_frame_peru = copper_frame_warehouse_service(COPPER_FRAME_SERVICE_NAME_PERU, PERU_REWARD)\n",
    "service_copper_frame_chile = copper_frame_warehouse_service(COPPER_FRAME_SERVICE_NAME_CHILE, CHILE_REWARD)\n",
    "render_service(service_copper_frame_usa)\n",
    "render_service(service_copper_frame_china)\n",
    "render_service(service_copper_frame_peru)\n",
    "render_service(service_copper_frame_chile)"
   ],
   "metadata": {
    "collapsed": false
   }
  },
  {
   "cell_type": "code",
   "execution_count": 20,
   "metadata": {},
   "outputs": [
    {
     "data": {
      "text/plain": "<IPython.core.display.SVG object>",
      "image/svg+xml": "<svg xmlns=\"http://www.w3.org/2000/svg\" xmlns:xlink=\"http://www.w3.org/1999/xlink\" width=\"184pt\" height=\"110pt\" viewBox=\"0.00 0.00 183.55 110.09\">\n<g id=\"graph0\" class=\"graph\" transform=\"scale(1 1) rotate(0) translate(4 106.09)\">\n<polygon fill=\"white\" stroke=\"none\" points=\"-4,4 -4,-106.09 179.55,-106.09 179.55,4 -4,4\"/>\n<!-- fake -->\n<g id=\"node1\" class=\"node\">\n<title>fake</title>\n</g>\n<!-- ready -->\n<g id=\"node2\" class=\"node\">\n<title>ready</title>\n<ellipse fill=\"none\" stroke=\"black\" cx=\"125.55\" cy=\"-34.55\" rx=\"30.59\" ry=\"30.59\"/>\n<ellipse fill=\"none\" stroke=\"black\" cx=\"125.55\" cy=\"-34.55\" rx=\"34.59\" ry=\"34.59\"/>\n<text text-anchor=\"middle\" x=\"125.55\" y=\"-30.85\" font-family=\"Times New Roman,serif\" font-size=\"14.00\">ready</text>\n</g>\n<!-- fake&#45;&gt;ready -->\n<g id=\"edge1\" class=\"edge\">\n<title>fake-&gt;ready</title>\n<path fill=\"none\" stroke=\"black\" stroke-width=\"2\" d=\"M54.38,-34.55C62.06,-34.55 70.67,-34.55 79.17,-34.55\"/>\n<polygon fill=\"black\" stroke=\"black\" stroke-width=\"2\" points=\"77.55,-38.05 87.55,-34.55 77.55,-31.05 77.55,-38.05\"/>\n</g>\n<!-- ready&#45;&gt;ready -->\n<g id=\"edge2\" class=\"edge\">\n<title>ready-&gt;ready</title>\n<path fill=\"none\" stroke=\"black\" d=\"M115.61,-68.16C115.76,-78.74 119.07,-87.09 125.55,-87.09 129.49,-87.09 132.27,-83.99 133.86,-79.17\"/>\n<polygon fill=\"black\" stroke=\"black\" points=\"137.27,-80.06 135.27,-69.65 130.35,-79.03 137.27,-80.06\"/>\n<text text-anchor=\"middle\" x=\"125.55\" y=\"-90.89\" font-family=\"Times New Roman,serif\" font-size=\"14.00\">cleaning, 1.0, -1.0</text>\n</g>\n</g>\n</svg>"
     },
     "metadata": {},
     "output_type": "display_data"
    }
   ],
   "source": [
    "def cleaning_service(name: str = CLEANING_SERVICE_NAME, action_reward: float = USA_REWARD) -> Service:\n",
    "    \"\"\"Build the human cleaning device.\"\"\"\n",
    "    return build_generic_service_one_state(\n",
    "        name,\n",
    "        {CLEANING},\n",
    "        action_reward=action_reward\n",
    "    )\n",
    "\n",
    "\n",
    "service_cleaning = cleaning_service()\n",
    "render_service(service_cleaning)\n"
   ]
  },
  {
   "cell_type": "code",
   "execution_count": 21,
   "metadata": {},
   "outputs": [
    {
     "data": {
      "text/plain": "<IPython.core.display.SVG object>",
      "image/svg+xml": "<svg xmlns=\"http://www.w3.org/2000/svg\" xmlns:xlink=\"http://www.w3.org/1999/xlink\" width=\"1535pt\" height=\"213pt\" viewBox=\"0.00 0.00 1535.38 213.29\">\n<g id=\"graph0\" class=\"graph\" transform=\"scale(1 1) rotate(0) translate(4 209.29)\">\n<polygon fill=\"white\" stroke=\"none\" points=\"-4,4 -4,-209.29 1531.38,-209.29 1531.38,4 -4,4\"/>\n<!-- fake -->\n<g id=\"node1\" class=\"node\">\n<title>fake</title>\n</g>\n<!-- ready -->\n<g id=\"node2\" class=\"node\">\n<title>ready</title>\n<ellipse fill=\"none\" stroke=\"black\" cx=\"125.55\" cy=\"-72.25\" rx=\"30.59\" ry=\"30.59\"/>\n<ellipse fill=\"none\" stroke=\"black\" cx=\"125.55\" cy=\"-72.25\" rx=\"34.59\" ry=\"34.59\"/>\n<text text-anchor=\"middle\" x=\"125.55\" y=\"-68.55\" font-family=\"Times New Roman,serif\" font-size=\"14.00\">ready</text>\n</g>\n<!-- fake&#45;&gt;ready -->\n<g id=\"edge1\" class=\"edge\">\n<title>fake-&gt;ready</title>\n<path fill=\"none\" stroke=\"black\" stroke-width=\"2\" d=\"M54.38,-72.25C62.06,-72.25 70.67,-72.25 79.17,-72.25\"/>\n<polygon fill=\"black\" stroke=\"black\" stroke-width=\"2\" points=\"77.55,-75.75 87.55,-72.25 77.55,-68.75 77.55,-75.75\"/>\n</g>\n<!-- configured -->\n<g id=\"node6\" class=\"node\">\n<title>configured</title>\n<ellipse fill=\"none\" stroke=\"black\" cx=\"450.09\" cy=\"-155.25\" rx=\"50.09\" ry=\"50.09\"/>\n<text text-anchor=\"middle\" x=\"450.09\" y=\"-151.55\" font-family=\"Times New Roman,serif\" font-size=\"14.00\">configured</text>\n</g>\n<!-- ready&#45;&gt;configured -->\n<g id=\"edge2\" class=\"edge\">\n<title>ready-&gt;configured</title>\n<path fill=\"none\" stroke=\"black\" d=\"M159.25,-81.21C165.5,-82.9 172,-84.64 178.09,-86.25 251.01,-105.43 335.19,-126.73 390.13,-140.52\"/>\n<polygon fill=\"black\" stroke=\"black\" points=\"389.04,-143.86 399.59,-142.89 390.74,-137.07 389.04,-143.86\"/>\n<text text-anchor=\"middle\" x=\"268.09\" y=\"-134.05\" font-family=\"Times New Roman,serif\" font-size=\"14.00\">config_film_deposition, 1.0, 0.0</text>\n</g>\n<!-- executing -->\n<g id=\"node3\" class=\"node\">\n<title>executing</title>\n<ellipse fill=\"none\" stroke=\"black\" cx=\"857.09\" cy=\"-104.25\" rx=\"44.69\" ry=\"44.69\"/>\n<text text-anchor=\"middle\" x=\"857.09\" y=\"-100.55\" font-family=\"Times New Roman,serif\" font-size=\"14.00\">executing</text>\n</g>\n<!-- executing&#45;&gt;ready -->\n<g id=\"edge5\" class=\"edge\">\n<title>executing-&gt;ready</title>\n<path fill=\"none\" stroke=\"black\" d=\"M812.1,-100.54C748.56,-95.35 627.41,-85.99 524.09,-81.25 396.44,-75.38 245.55,-73.29 171.77,-72.59\"/>\n<polygon fill=\"black\" stroke=\"black\" points=\"172.14,-69.09 162.11,-72.5 172.08,-76.09 172.14,-69.09\"/>\n<text text-anchor=\"middle\" x=\"450.09\" y=\"-85.05\" font-family=\"Times New Roman,serif\" font-size=\"14.00\">film_deposition, 0.95, -1.0</text>\n</g>\n<!-- broken -->\n<g id=\"node5\" class=\"node\">\n<title>broken</title>\n<ellipse fill=\"none\" stroke=\"black\" cx=\"1176.49\" cy=\"-104.25\" rx=\"36.29\" ry=\"36.29\"/>\n<text text-anchor=\"middle\" x=\"1176.49\" y=\"-100.55\" font-family=\"Times New Roman,serif\" font-size=\"14.00\">broken</text>\n</g>\n<!-- executing&#45;&gt;broken -->\n<g id=\"edge6\" class=\"edge\">\n<title>executing-&gt;broken</title>\n<path fill=\"none\" stroke=\"black\" d=\"M902.23,-104.25C961.92,-104.25 1067.9,-104.25 1128.85,-104.25\"/>\n<polygon fill=\"black\" stroke=\"black\" points=\"1128.54,-107.75 1138.54,-104.25 1128.54,-100.75 1128.54,-107.75\"/>\n<text text-anchor=\"middle\" x=\"1048.09\" y=\"-108.05\" font-family=\"Times New Roman,serif\" font-size=\"14.00\">film_deposition, 0.05, -1.0</text>\n</g>\n<!-- repairing -->\n<g id=\"node4\" class=\"node\">\n<title>repairing</title>\n<ellipse fill=\"none\" stroke=\"black\" cx=\"1485.13\" cy=\"-42.25\" rx=\"42.49\" ry=\"42.49\"/>\n<text text-anchor=\"middle\" x=\"1485.13\" y=\"-38.55\" font-family=\"Times New Roman,serif\" font-size=\"14.00\">repairing</text>\n</g>\n<!-- repairing&#45;&gt;ready -->\n<g id=\"edge8\" class=\"edge\">\n<title>repairing-&gt;ready</title>\n<path fill=\"none\" stroke=\"black\" d=\"M1442.51,-38.7C1383.56,-33.98 1272.38,-26.25 1177.49,-26.25 449.09,-26.25 449.09,-26.25 449.09,-26.25 348.45,-26.25 231.9,-48.47 170.17,-62.02\"/>\n<polygon fill=\"black\" stroke=\"black\" points=\"169.77,-58.52 160.77,-64.11 171.29,-65.36 169.77,-58.52\"/>\n<text text-anchor=\"middle\" x=\"857.09\" y=\"-30.05\" font-family=\"Times New Roman,serif\" font-size=\"14.00\">repaired_film_deposition, 1.0, 0.0</text>\n</g>\n<!-- broken&#45;&gt;repairing -->\n<g id=\"edge7\" class=\"edge\">\n<title>broken-&gt;repairing</title>\n<path fill=\"none\" stroke=\"black\" d=\"M1212.37,-97.19C1266.01,-86.35 1369.11,-65.5 1431.76,-52.84\"/>\n<polygon fill=\"black\" stroke=\"black\" points=\"1432.37,-56.28 1441.48,-50.87 1430.98,-49.42 1432.37,-56.28\"/>\n<text text-anchor=\"middle\" x=\"1327.89\" y=\"-96.05\" font-family=\"Times New Roman,serif\" font-size=\"14.00\">restore_film_deposition, 1.0, -10.0</text>\n</g>\n<!-- configured&#45;&gt;executing -->\n<g id=\"edge3\" class=\"edge\">\n<title>configured-&gt;executing</title>\n<path fill=\"none\" stroke=\"black\" d=\"M499.95,-149.09C575.85,-139.54 721.6,-121.18 801.09,-111.17\"/>\n<polygon fill=\"black\" stroke=\"black\" points=\"801.34,-114.67 810.82,-109.95 800.46,-107.72 801.34,-114.67\"/>\n<text text-anchor=\"middle\" x=\"641.09\" y=\"-146.05\" font-family=\"Times New Roman,serif\" font-size=\"14.00\">checked_film_deposition, 0.95, 0.0</text>\n</g>\n<!-- configured&#45;&gt;broken -->\n<g id=\"edge4\" class=\"edge\">\n<title>configured-&gt;broken</title>\n<path fill=\"none\" stroke=\"black\" d=\"M500.4,-159.34C590.99,-166.01 789.88,-176.75 956.09,-158.25 1031.03,-149.91 1049.52,-143.71 1122.09,-123.25 1125.16,-122.38 1128.3,-121.43 1131.45,-120.44\"/>\n<polygon fill=\"black\" stroke=\"black\" points=\"1132.28,-123.85 1140.66,-117.38 1130.07,-117.21 1132.28,-123.85\"/>\n<text text-anchor=\"middle\" x=\"857.09\" y=\"-172.05\" font-family=\"Times New Roman,serif\" font-size=\"14.00\">checked_film_deposition, 0.05, 0.0</text>\n</g>\n</g>\n</svg>"
     },
     "metadata": {},
     "output_type": "display_data"
    },
    {
     "data": {
      "text/plain": "<IPython.core.display.SVG object>",
      "image/svg+xml": "<svg xmlns=\"http://www.w3.org/2000/svg\" xmlns:xlink=\"http://www.w3.org/1999/xlink\" width=\"1523pt\" height=\"213pt\" viewBox=\"0.00 0.00 1523.38 213.29\">\n<g id=\"graph0\" class=\"graph\" transform=\"scale(1 1) rotate(0) translate(4 209.29)\">\n<polygon fill=\"white\" stroke=\"none\" points=\"-4,4 -4,-209.29 1519.38,-209.29 1519.38,4 -4,4\"/>\n<!-- fake -->\n<g id=\"node1\" class=\"node\">\n<title>fake</title>\n</g>\n<!-- ready -->\n<g id=\"node2\" class=\"node\">\n<title>ready</title>\n<ellipse fill=\"none\" stroke=\"black\" cx=\"125.55\" cy=\"-72.25\" rx=\"30.59\" ry=\"30.59\"/>\n<ellipse fill=\"none\" stroke=\"black\" cx=\"125.55\" cy=\"-72.25\" rx=\"34.59\" ry=\"34.59\"/>\n<text text-anchor=\"middle\" x=\"125.55\" y=\"-68.55\" font-family=\"Times New Roman,serif\" font-size=\"14.00\">ready</text>\n</g>\n<!-- fake&#45;&gt;ready -->\n<g id=\"edge1\" class=\"edge\">\n<title>fake-&gt;ready</title>\n<path fill=\"none\" stroke=\"black\" stroke-width=\"2\" d=\"M54.38,-72.25C62.06,-72.25 70.67,-72.25 79.17,-72.25\"/>\n<polygon fill=\"black\" stroke=\"black\" stroke-width=\"2\" points=\"77.55,-75.75 87.55,-72.25 77.55,-68.75 77.55,-75.75\"/>\n</g>\n<!-- configured -->\n<g id=\"node6\" class=\"node\">\n<title>configured</title>\n<ellipse fill=\"none\" stroke=\"black\" cx=\"447.09\" cy=\"-155.25\" rx=\"50.09\" ry=\"50.09\"/>\n<text text-anchor=\"middle\" x=\"447.09\" y=\"-151.55\" font-family=\"Times New Roman,serif\" font-size=\"14.00\">configured</text>\n</g>\n<!-- ready&#45;&gt;configured -->\n<g id=\"edge2\" class=\"edge\">\n<title>ready-&gt;configured</title>\n<path fill=\"none\" stroke=\"black\" d=\"M159.25,-81.2C165.5,-82.89 172,-84.63 178.09,-86.25 249.86,-105.23 332.62,-126.43 386.97,-140.26\"/>\n<polygon fill=\"black\" stroke=\"black\" points=\"386.1,-143.65 396.65,-142.72 387.82,-136.87 386.1,-143.65\"/>\n<text text-anchor=\"middle\" x=\"268.09\" y=\"-136.05\" font-family=\"Times New Roman,serif\" font-size=\"14.00\">config_film_deposition, 1.0, 0.0</text>\n</g>\n<!-- executing -->\n<g id=\"node3\" class=\"node\">\n<title>executing</title>\n<ellipse fill=\"none\" stroke=\"black\" cx=\"851.09\" cy=\"-104.25\" rx=\"44.69\" ry=\"44.69\"/>\n<text text-anchor=\"middle\" x=\"851.09\" y=\"-100.55\" font-family=\"Times New Roman,serif\" font-size=\"14.00\">executing</text>\n</g>\n<!-- executing&#45;&gt;ready -->\n<g id=\"edge5\" class=\"edge\">\n<title>executing-&gt;ready</title>\n<path fill=\"none\" stroke=\"black\" d=\"M806.1,-100.55C742.56,-95.36 621.41,-86.01 518.09,-81.25 392.95,-75.48 245.13,-73.35 172.09,-72.61\"/>\n<polygon fill=\"black\" stroke=\"black\" points=\"172.16,-69.11 162.12,-72.51 172.09,-76.11 172.16,-69.11\"/>\n<text text-anchor=\"middle\" x=\"447.09\" y=\"-85.05\" font-family=\"Times New Roman,serif\" font-size=\"14.00\">film_deposition, 0.5, -5.0</text>\n</g>\n<!-- broken -->\n<g id=\"node5\" class=\"node\">\n<title>broken</title>\n<ellipse fill=\"none\" stroke=\"black\" cx=\"1164.49\" cy=\"-104.25\" rx=\"36.29\" ry=\"36.29\"/>\n<text text-anchor=\"middle\" x=\"1164.49\" y=\"-100.55\" font-family=\"Times New Roman,serif\" font-size=\"14.00\">broken</text>\n</g>\n<!-- executing&#45;&gt;broken -->\n<g id=\"edge6\" class=\"edge\">\n<title>executing-&gt;broken</title>\n<path fill=\"none\" stroke=\"black\" d=\"M896.05,-104.25C954.36,-104.25 1056.87,-104.25 1116.61,-104.25\"/>\n<polygon fill=\"black\" stroke=\"black\" points=\"1116.45,-107.75 1126.45,-104.25 1116.45,-100.75 1116.45,-107.75\"/>\n<text text-anchor=\"middle\" x=\"1039.09\" y=\"-108.05\" font-family=\"Times New Roman,serif\" font-size=\"14.00\">film_deposition, 0.5, -5.0</text>\n</g>\n<!-- repairing -->\n<g id=\"node4\" class=\"node\">\n<title>repairing</title>\n<ellipse fill=\"none\" stroke=\"black\" cx=\"1473.13\" cy=\"-42.25\" rx=\"42.49\" ry=\"42.49\"/>\n<text text-anchor=\"middle\" x=\"1473.13\" y=\"-38.55\" font-family=\"Times New Roman,serif\" font-size=\"14.00\">repairing</text>\n</g>\n<!-- repairing&#45;&gt;ready -->\n<g id=\"edge8\" class=\"edge\">\n<title>repairing-&gt;ready</title>\n<path fill=\"none\" stroke=\"black\" d=\"M1430.51,-38.7C1371.56,-33.98 1260.38,-26.25 1165.49,-26.25 446.09,-26.25 446.09,-26.25 446.09,-26.25 346.84,-26.25 232,-48.26 170.62,-61.83\"/>\n<polygon fill=\"black\" stroke=\"black\" points=\"169.91,-58.4 160.92,-64.01 171.44,-65.23 169.91,-58.4\"/>\n<text text-anchor=\"middle\" x=\"851.09\" y=\"-30.05\" font-family=\"Times New Roman,serif\" font-size=\"14.00\">repaired_film_deposition, 1.0, 0.0</text>\n</g>\n<!-- broken&#45;&gt;repairing -->\n<g id=\"edge7\" class=\"edge\">\n<title>broken-&gt;repairing</title>\n<path fill=\"none\" stroke=\"black\" d=\"M1200.37,-97.19C1254.01,-86.35 1357.11,-65.5 1419.76,-52.84\"/>\n<polygon fill=\"black\" stroke=\"black\" points=\"1420.37,-56.28 1429.48,-50.87 1418.98,-49.42 1420.37,-56.28\"/>\n<text text-anchor=\"middle\" x=\"1315.89\" y=\"-96.05\" font-family=\"Times New Roman,serif\" font-size=\"14.00\">restore_film_deposition, 1.0, -10.0</text>\n</g>\n<!-- configured&#45;&gt;executing -->\n<g id=\"edge3\" class=\"edge\">\n<title>configured-&gt;executing</title>\n<path fill=\"none\" stroke=\"black\" d=\"M496.99,-149.04C572.37,-139.48 716.51,-121.19 795.31,-111.2\"/>\n<polygon fill=\"black\" stroke=\"black\" points=\"795.47,-114.7 804.95,-109.97 794.59,-107.76 795.47,-114.7\"/>\n<text text-anchor=\"middle\" x=\"635.09\" y=\"-146.05\" font-family=\"Times New Roman,serif\" font-size=\"14.00\">checked_film_deposition, 0.95, 0.0</text>\n</g>\n<!-- configured&#45;&gt;broken -->\n<g id=\"edge4\" class=\"edge\">\n<title>configured-&gt;broken</title>\n<path fill=\"none\" stroke=\"black\" d=\"M497.47,-159.46C587.71,-166.3 785.16,-177.24 950.09,-158.25 1022.41,-149.92 1040.11,-143.27 1110.09,-123.25 1113.15,-122.37 1116.29,-121.41 1119.44,-120.41\"/>\n<polygon fill=\"black\" stroke=\"black\" points=\"1120.27,-123.82 1128.65,-117.34 1118.06,-117.18 1120.27,-123.82\"/>\n<text text-anchor=\"middle\" x=\"851.09\" y=\"-172.05\" font-family=\"Times New Roman,serif\" font-size=\"14.00\">checked_film_deposition, 0.05, 0.0</text>\n</g>\n</g>\n</svg>"
     },
     "metadata": {},
     "output_type": "display_data"
    }
   ],
   "source": [
    "def film_deposition_service(name: str, broken_prob: float, unemployable_prob: float, broken_reward: float,\n",
    "                            action_reward: float) -> Service:\n",
    "    \"\"\"Build the film deposition device.\"\"\"\n",
    "    return build_complex_breakable_service(name, FILM_DEPOSITION, broken_prob=broken_prob,\n",
    "                                           unemployable_prob=unemployable_prob, broken_reward=broken_reward,\n",
    "                                           action_reward=action_reward)\n",
    "\n",
    "\n",
    "service_film_deposition1 = film_deposition_service(FILM_DEPOSITION1_SERVICE_NAME, DEFAULT_BROKEN_PROB,\n",
    "                                                   DEFAULT_UNEMPLOYABLE_PROB, DEFAULT_BROKEN_REWARD, USA_REWARD)\n",
    "service_film_deposition2 = film_deposition_service(FILM_DEPOSITION2_SERVICE_NAME, BROKEN_PROB, DEFAULT_UNEMPLOYABLE_PROB, DEFAULT_BROKEN_REWARD, HIGH_USA_REWARD)\n",
    "render_service(service_film_deposition1)\n",
    "render_service(service_film_deposition2)"
   ]
  },
  {
   "cell_type": "code",
   "execution_count": 22,
   "metadata": {},
   "outputs": [
    {
     "data": {
      "text/plain": "<IPython.core.display.SVG object>",
      "image/svg+xml": "<svg xmlns=\"http://www.w3.org/2000/svg\" xmlns:xlink=\"http://www.w3.org/1999/xlink\" width=\"1477pt\" height=\"213pt\" viewBox=\"0.00 0.00 1477.38 213.29\">\n<g id=\"graph0\" class=\"graph\" transform=\"scale(1 1) rotate(0) translate(4 209.29)\">\n<polygon fill=\"white\" stroke=\"none\" points=\"-4,4 -4,-209.29 1473.38,-209.29 1473.38,4 -4,4\"/>\n<!-- fake -->\n<g id=\"node1\" class=\"node\">\n<title>fake</title>\n</g>\n<!-- ready -->\n<g id=\"node2\" class=\"node\">\n<title>ready</title>\n<ellipse fill=\"none\" stroke=\"black\" cx=\"125.55\" cy=\"-72.25\" rx=\"30.59\" ry=\"30.59\"/>\n<ellipse fill=\"none\" stroke=\"black\" cx=\"125.55\" cy=\"-72.25\" rx=\"34.59\" ry=\"34.59\"/>\n<text text-anchor=\"middle\" x=\"125.55\" y=\"-68.55\" font-family=\"Times New Roman,serif\" font-size=\"14.00\">ready</text>\n</g>\n<!-- fake&#45;&gt;ready -->\n<g id=\"edge1\" class=\"edge\">\n<title>fake-&gt;ready</title>\n<path fill=\"none\" stroke=\"black\" stroke-width=\"2\" d=\"M54.38,-72.25C62.06,-72.25 70.67,-72.25 79.17,-72.25\"/>\n<polygon fill=\"black\" stroke=\"black\" stroke-width=\"2\" points=\"77.55,-75.75 87.55,-72.25 77.55,-68.75 77.55,-75.75\"/>\n</g>\n<!-- configured -->\n<g id=\"node6\" class=\"node\">\n<title>configured</title>\n<ellipse fill=\"none\" stroke=\"black\" cx=\"435.59\" cy=\"-155.25\" rx=\"50.09\" ry=\"50.09\"/>\n<text text-anchor=\"middle\" x=\"435.59\" y=\"-151.55\" font-family=\"Times New Roman,serif\" font-size=\"14.00\">configured</text>\n</g>\n<!-- ready&#45;&gt;configured -->\n<g id=\"edge2\" class=\"edge\">\n<title>ready-&gt;configured</title>\n<path fill=\"none\" stroke=\"black\" d=\"M159.27,-81.15C165.52,-82.84 172.01,-84.6 178.09,-86.25 245.9,-104.58 323.83,-125.52 375.83,-139.48\"/>\n<polygon fill=\"black\" stroke=\"black\" points=\"374.81,-142.83 385.38,-142.04 376.63,-136.07 374.81,-142.83\"/>\n<text text-anchor=\"middle\" x=\"263.09\" y=\"-134.05\" font-family=\"Times New Roman,serif\" font-size=\"14.00\">config_resist_coating, 1.0, 0.0</text>\n</g>\n<!-- executing -->\n<g id=\"node3\" class=\"node\">\n<title>executing</title>\n<ellipse fill=\"none\" stroke=\"black\" cx=\"823.09\" cy=\"-104.25\" rx=\"44.69\" ry=\"44.69\"/>\n<text text-anchor=\"middle\" x=\"823.09\" y=\"-100.55\" font-family=\"Times New Roman,serif\" font-size=\"14.00\">executing</text>\n</g>\n<!-- executing&#45;&gt;ready -->\n<g id=\"edge5\" class=\"edge\">\n<title>executing-&gt;ready</title>\n<path fill=\"none\" stroke=\"black\" d=\"M778.29,-100.39C717.17,-95.17 602.79,-85.95 505.09,-81.25 384.74,-75.45 242.67,-73.34 171.68,-72.61\"/>\n<polygon fill=\"black\" stroke=\"black\" points=\"172.05,-69.11 162.01,-72.51 171.98,-76.11 172.05,-69.11\"/>\n<text text-anchor=\"middle\" x=\"435.59\" y=\"-85.05\" font-family=\"Times New Roman,serif\" font-size=\"14.00\">resist_coating, 0.95, -1.0</text>\n</g>\n<!-- broken -->\n<g id=\"node5\" class=\"node\">\n<title>broken</title>\n<ellipse fill=\"none\" stroke=\"black\" cx=\"1128.49\" cy=\"-104.25\" rx=\"36.29\" ry=\"36.29\"/>\n<text text-anchor=\"middle\" x=\"1128.49\" y=\"-100.55\" font-family=\"Times New Roman,serif\" font-size=\"14.00\">broken</text>\n</g>\n<!-- executing&#45;&gt;broken -->\n<g id=\"edge6\" class=\"edge\">\n<title>executing-&gt;broken</title>\n<path fill=\"none\" stroke=\"black\" d=\"M868.21,-104.25C924.79,-104.25 1022.52,-104.25 1080.47,-104.25\"/>\n<polygon fill=\"black\" stroke=\"black\" points=\"1080.34,-107.75 1090.34,-104.25 1080.34,-100.75 1080.34,-107.75\"/>\n<text text-anchor=\"middle\" x=\"1004.59\" y=\"-108.05\" font-family=\"Times New Roman,serif\" font-size=\"14.00\">resist_coating, 0.05, -1.0</text>\n</g>\n<!-- repairing -->\n<g id=\"node4\" class=\"node\">\n<title>repairing</title>\n<ellipse fill=\"none\" stroke=\"black\" cx=\"1427.13\" cy=\"-42.25\" rx=\"42.49\" ry=\"42.49\"/>\n<text text-anchor=\"middle\" x=\"1427.13\" y=\"-38.55\" font-family=\"Times New Roman,serif\" font-size=\"14.00\">repairing</text>\n</g>\n<!-- repairing&#45;&gt;ready -->\n<g id=\"edge8\" class=\"edge\">\n<title>repairing-&gt;ready</title>\n<path fill=\"none\" stroke=\"black\" d=\"M1384.42,-38.58C1327.04,-33.85 1220.52,-26.25 1129.49,-26.25 434.59,-26.25 434.59,-26.25 434.59,-26.25 339.6,-26.25 229.92,-47.91 170.44,-61.5\"/>\n<polygon fill=\"black\" stroke=\"black\" points=\"170.01,-58.01 161.06,-63.68 171.59,-64.83 170.01,-58.01\"/>\n<text text-anchor=\"middle\" x=\"823.09\" y=\"-30.05\" font-family=\"Times New Roman,serif\" font-size=\"14.00\">repaired_resist_coating, 1.0, 0.0</text>\n</g>\n<!-- broken&#45;&gt;repairing -->\n<g id=\"edge7\" class=\"edge\">\n<title>broken-&gt;repairing</title>\n<path fill=\"none\" stroke=\"black\" d=\"M1164.39,-96.95C1216.19,-86.13 1313.76,-65.73 1374.04,-53.13\"/>\n<polygon fill=\"black\" stroke=\"black\" points=\"1374.65,-56.58 1383.72,-51.11 1373.22,-49.73 1374.65,-56.58\"/>\n<text text-anchor=\"middle\" x=\"1274.89\" y=\"-96.05\" font-family=\"Times New Roman,serif\" font-size=\"14.00\">restore_resist_coating, 1.0, -10.0</text>\n</g>\n<!-- configured&#45;&gt;executing -->\n<g id=\"edge3\" class=\"edge\">\n<title>configured-&gt;executing</title>\n<path fill=\"none\" stroke=\"black\" d=\"M485.42,-148.79C557.49,-139.25 691.94,-121.46 767.3,-111.5\"/>\n<polygon fill=\"black\" stroke=\"black\" points=\"767.46,-115 776.92,-110.22 766.54,-108.06 767.46,-115\"/>\n<text text-anchor=\"middle\" x=\"617.09\" y=\"-146.05\" font-family=\"Times New Roman,serif\" font-size=\"14.00\">checked_resist_coating, 0.95, 0.0</text>\n</g>\n<!-- configured&#45;&gt;broken -->\n<g id=\"edge4\" class=\"edge\">\n<title>configured-&gt;broken</title>\n<path fill=\"none\" stroke=\"black\" d=\"M485.93,-159.54C573.23,-166.24 760.5,-176.64 917.09,-158.25 988.1,-149.9 1005.4,-143.04 1074.09,-123.25 1077.15,-122.36 1080.29,-121.4 1083.44,-120.39\"/>\n<polygon fill=\"black\" stroke=\"black\" points=\"1084.27,-123.81 1092.65,-117.32 1082.05,-117.17 1084.27,-123.81\"/>\n<text text-anchor=\"middle\" x=\"823.09\" y=\"-172.05\" font-family=\"Times New Roman,serif\" font-size=\"14.00\">checked_resist_coating, 0.05, 0.0</text>\n</g>\n</g>\n</svg>"
     },
     "metadata": {},
     "output_type": "display_data"
    },
    {
     "data": {
      "text/plain": "<IPython.core.display.SVG object>",
      "image/svg+xml": "<svg xmlns=\"http://www.w3.org/2000/svg\" xmlns:xlink=\"http://www.w3.org/1999/xlink\" width=\"1477pt\" height=\"213pt\" viewBox=\"0.00 0.00 1477.38 213.29\">\n<g id=\"graph0\" class=\"graph\" transform=\"scale(1 1) rotate(0) translate(4 209.29)\">\n<polygon fill=\"white\" stroke=\"none\" points=\"-4,4 -4,-209.29 1473.38,-209.29 1473.38,4 -4,4\"/>\n<!-- fake -->\n<g id=\"node1\" class=\"node\">\n<title>fake</title>\n</g>\n<!-- ready -->\n<g id=\"node2\" class=\"node\">\n<title>ready</title>\n<ellipse fill=\"none\" stroke=\"black\" cx=\"125.55\" cy=\"-72.25\" rx=\"30.59\" ry=\"30.59\"/>\n<ellipse fill=\"none\" stroke=\"black\" cx=\"125.55\" cy=\"-72.25\" rx=\"34.59\" ry=\"34.59\"/>\n<text text-anchor=\"middle\" x=\"125.55\" y=\"-68.55\" font-family=\"Times New Roman,serif\" font-size=\"14.00\">ready</text>\n</g>\n<!-- fake&#45;&gt;ready -->\n<g id=\"edge1\" class=\"edge\">\n<title>fake-&gt;ready</title>\n<path fill=\"none\" stroke=\"black\" stroke-width=\"2\" d=\"M54.38,-72.25C62.06,-72.25 70.67,-72.25 79.17,-72.25\"/>\n<polygon fill=\"black\" stroke=\"black\" stroke-width=\"2\" points=\"77.55,-75.75 87.55,-72.25 77.55,-68.75 77.55,-75.75\"/>\n</g>\n<!-- configured -->\n<g id=\"node6\" class=\"node\">\n<title>configured</title>\n<ellipse fill=\"none\" stroke=\"black\" cx=\"435.59\" cy=\"-155.25\" rx=\"50.09\" ry=\"50.09\"/>\n<text text-anchor=\"middle\" x=\"435.59\" y=\"-151.55\" font-family=\"Times New Roman,serif\" font-size=\"14.00\">configured</text>\n</g>\n<!-- ready&#45;&gt;configured -->\n<g id=\"edge2\" class=\"edge\">\n<title>ready-&gt;configured</title>\n<path fill=\"none\" stroke=\"black\" d=\"M159.27,-81.15C165.52,-82.84 172.01,-84.6 178.09,-86.25 245.9,-104.58 323.83,-125.52 375.83,-139.48\"/>\n<polygon fill=\"black\" stroke=\"black\" points=\"374.81,-142.83 385.38,-142.04 376.63,-136.07 374.81,-142.83\"/>\n<text text-anchor=\"middle\" x=\"263.09\" y=\"-134.05\" font-family=\"Times New Roman,serif\" font-size=\"14.00\">config_resist_coating, 1.0, 0.0</text>\n</g>\n<!-- executing -->\n<g id=\"node3\" class=\"node\">\n<title>executing</title>\n<ellipse fill=\"none\" stroke=\"black\" cx=\"823.09\" cy=\"-104.25\" rx=\"44.69\" ry=\"44.69\"/>\n<text text-anchor=\"middle\" x=\"823.09\" y=\"-100.55\" font-family=\"Times New Roman,serif\" font-size=\"14.00\">executing</text>\n</g>\n<!-- executing&#45;&gt;ready -->\n<g id=\"edge5\" class=\"edge\">\n<title>executing-&gt;ready</title>\n<path fill=\"none\" stroke=\"black\" d=\"M778.29,-100.39C717.17,-95.17 602.79,-85.95 505.09,-81.25 384.74,-75.45 242.67,-73.34 171.68,-72.61\"/>\n<polygon fill=\"black\" stroke=\"black\" points=\"172.05,-69.11 162.01,-72.51 171.98,-76.11 172.05,-69.11\"/>\n<text text-anchor=\"middle\" x=\"435.59\" y=\"-85.05\" font-family=\"Times New Roman,serif\" font-size=\"14.00\">resist_coating, 0.95, -5.0</text>\n</g>\n<!-- broken -->\n<g id=\"node5\" class=\"node\">\n<title>broken</title>\n<ellipse fill=\"none\" stroke=\"black\" cx=\"1128.49\" cy=\"-104.25\" rx=\"36.29\" ry=\"36.29\"/>\n<text text-anchor=\"middle\" x=\"1128.49\" y=\"-100.55\" font-family=\"Times New Roman,serif\" font-size=\"14.00\">broken</text>\n</g>\n<!-- executing&#45;&gt;broken -->\n<g id=\"edge6\" class=\"edge\">\n<title>executing-&gt;broken</title>\n<path fill=\"none\" stroke=\"black\" d=\"M868.21,-104.25C924.79,-104.25 1022.52,-104.25 1080.47,-104.25\"/>\n<polygon fill=\"black\" stroke=\"black\" points=\"1080.34,-107.75 1090.34,-104.25 1080.34,-100.75 1080.34,-107.75\"/>\n<text text-anchor=\"middle\" x=\"1004.59\" y=\"-108.05\" font-family=\"Times New Roman,serif\" font-size=\"14.00\">resist_coating, 0.05, -5.0</text>\n</g>\n<!-- repairing -->\n<g id=\"node4\" class=\"node\">\n<title>repairing</title>\n<ellipse fill=\"none\" stroke=\"black\" cx=\"1427.13\" cy=\"-42.25\" rx=\"42.49\" ry=\"42.49\"/>\n<text text-anchor=\"middle\" x=\"1427.13\" y=\"-38.55\" font-family=\"Times New Roman,serif\" font-size=\"14.00\">repairing</text>\n</g>\n<!-- repairing&#45;&gt;ready -->\n<g id=\"edge8\" class=\"edge\">\n<title>repairing-&gt;ready</title>\n<path fill=\"none\" stroke=\"black\" d=\"M1384.42,-38.58C1327.04,-33.85 1220.52,-26.25 1129.49,-26.25 434.59,-26.25 434.59,-26.25 434.59,-26.25 339.6,-26.25 229.92,-47.91 170.44,-61.5\"/>\n<polygon fill=\"black\" stroke=\"black\" points=\"170.01,-58.01 161.06,-63.68 171.59,-64.83 170.01,-58.01\"/>\n<text text-anchor=\"middle\" x=\"823.09\" y=\"-30.05\" font-family=\"Times New Roman,serif\" font-size=\"14.00\">repaired_resist_coating, 1.0, 0.0</text>\n</g>\n<!-- broken&#45;&gt;repairing -->\n<g id=\"edge7\" class=\"edge\">\n<title>broken-&gt;repairing</title>\n<path fill=\"none\" stroke=\"black\" d=\"M1164.39,-96.95C1216.19,-86.13 1313.76,-65.73 1374.04,-53.13\"/>\n<polygon fill=\"black\" stroke=\"black\" points=\"1374.65,-56.58 1383.72,-51.11 1373.22,-49.73 1374.65,-56.58\"/>\n<text text-anchor=\"middle\" x=\"1274.89\" y=\"-96.05\" font-family=\"Times New Roman,serif\" font-size=\"14.00\">restore_resist_coating, 1.0, -10.0</text>\n</g>\n<!-- configured&#45;&gt;executing -->\n<g id=\"edge3\" class=\"edge\">\n<title>configured-&gt;executing</title>\n<path fill=\"none\" stroke=\"black\" d=\"M485.42,-148.79C557.49,-139.25 691.94,-121.46 767.3,-111.5\"/>\n<polygon fill=\"black\" stroke=\"black\" points=\"767.46,-115 776.92,-110.22 766.54,-108.06 767.46,-115\"/>\n<text text-anchor=\"middle\" x=\"617.09\" y=\"-146.05\" font-family=\"Times New Roman,serif\" font-size=\"14.00\">checked_resist_coating, 0.95, 0.0</text>\n</g>\n<!-- configured&#45;&gt;broken -->\n<g id=\"edge4\" class=\"edge\">\n<title>configured-&gt;broken</title>\n<path fill=\"none\" stroke=\"black\" d=\"M485.93,-159.54C573.23,-166.24 760.5,-176.64 917.09,-158.25 988.1,-149.9 1005.4,-143.04 1074.09,-123.25 1077.15,-122.36 1080.29,-121.4 1083.44,-120.39\"/>\n<polygon fill=\"black\" stroke=\"black\" points=\"1084.27,-123.81 1092.65,-117.32 1082.05,-117.17 1084.27,-123.81\"/>\n<text text-anchor=\"middle\" x=\"823.09\" y=\"-172.05\" font-family=\"Times New Roman,serif\" font-size=\"14.00\">checked_resist_coating, 0.05, 0.0</text>\n</g>\n</g>\n</svg>"
     },
     "metadata": {},
     "output_type": "display_data"
    }
   ],
   "source": [
    "def resist_coating_service(name: str, broken_prob: float, unemployable_prob: float, broken_reward: float,\n",
    "                           action_reward: float) -> Service:\n",
    "    \"\"\"Build the resist coating device.\"\"\"\n",
    "    return build_complex_breakable_service(name, RESIST_COATING, broken_prob=broken_prob,\n",
    "                                           unemployable_prob=unemployable_prob, broken_reward=broken_reward,\n",
    "                                           action_reward=action_reward)\n",
    "\n",
    "\n",
    "service_resist_coating1 = resist_coating_service(RESIST_COATING1_SERVICE_NAME, DEFAULT_BROKEN_PROB,\n",
    "                                                 DEFAULT_UNEMPLOYABLE_PROB, DEFAULT_BROKEN_REWARD, USA_REWARD)\n",
    "service_resist_coating2 = resist_coating_service(RESIST_COATING2_SERVICE_NAME, DEFAULT_BROKEN_PROB,\n",
    "                                                 DEFAULT_UNEMPLOYABLE_PROB, DEFAULT_BROKEN_REWARD, HIGH_USA_REWARD)\n",
    "render_service(service_resist_coating1)\n",
    "render_service(service_resist_coating2)"
   ]
  },
  {
   "cell_type": "code",
   "execution_count": 23,
   "metadata": {},
   "outputs": [
    {
     "data": {
      "text/plain": "<IPython.core.display.SVG object>",
      "image/svg+xml": "<svg xmlns=\"http://www.w3.org/2000/svg\" xmlns:xlink=\"http://www.w3.org/1999/xlink\" width=\"452pt\" height=\"164pt\" viewBox=\"0.00 0.00 451.99 163.99\">\n<g id=\"graph0\" class=\"graph\" transform=\"scale(1 1) rotate(0) translate(4 159.99)\">\n<polygon fill=\"white\" stroke=\"none\" points=\"-4,4 -4,-159.99 447.99,-159.99 447.99,4 -4,4\"/>\n<!-- fake -->\n<g id=\"node1\" class=\"node\">\n<title>fake</title>\n</g>\n<!-- available -->\n<g id=\"node3\" class=\"node\">\n<title>available</title>\n<ellipse fill=\"none\" stroke=\"black\" cx=\"136.6\" cy=\"-70.6\" rx=\"41.68\" ry=\"41.68\"/>\n<ellipse fill=\"none\" stroke=\"black\" cx=\"136.6\" cy=\"-70.6\" rx=\"45.69\" ry=\"45.69\"/>\n<text text-anchor=\"middle\" x=\"136.6\" y=\"-66.9\" font-family=\"Times New Roman,serif\" font-size=\"14.00\">available</text>\n</g>\n<!-- fake&#45;&gt;available -->\n<g id=\"edge1\" class=\"edge\">\n<title>fake-&gt;available</title>\n<path fill=\"none\" stroke=\"black\" stroke-width=\"2\" d=\"M54.32,-70.6C61.93,-70.6 70.55,-70.6 79.26,-70.6\"/>\n<polygon fill=\"black\" stroke=\"black\" stroke-width=\"2\" points=\"77.65,-74.1 87.65,-70.6 77.65,-67.1 77.65,-74.1\"/>\n</g>\n<!-- broken -->\n<g id=\"node2\" class=\"node\">\n<title>broken</title>\n<ellipse fill=\"none\" stroke=\"black\" cx=\"407.59\" cy=\"-119.6\" rx=\"36.29\" ry=\"36.29\"/>\n<text text-anchor=\"middle\" x=\"407.59\" y=\"-115.9\" font-family=\"Times New Roman,serif\" font-size=\"14.00\">broken</text>\n</g>\n<!-- broken&#45;&gt;available -->\n<g id=\"edge4\" class=\"edge\">\n<title>broken-&gt;available</title>\n<path fill=\"none\" stroke=\"black\" d=\"M377.9,-98.41C370.23,-93.73 361.69,-89.36 353.19,-86.6 324.67,-77.34 247.77,-73.41 193.99,-71.76\"/>\n<polygon fill=\"black\" stroke=\"black\" points=\"194.16,-68.26 184.07,-71.47 193.96,-75.26 194.16,-68.26\"/>\n<text text-anchor=\"middle\" x=\"276.69\" y=\"-90.4\" font-family=\"Times New Roman,serif\" font-size=\"14.00\">check_exposure, 1.0, -10.0</text>\n</g>\n<!-- available&#45;&gt;broken -->\n<g id=\"edge3\" class=\"edge\">\n<title>available-&gt;broken</title>\n<path fill=\"none\" stroke=\"black\" d=\"M175.48,-95.25C183.37,-99.37 191.84,-103.12 200.19,-105.6 253.22,-121.35 317.15,-123.22 359.67,-122.2\"/>\n<polygon fill=\"black\" stroke=\"black\" points=\"359.67,-125.7 369.55,-121.9 359.45,-118.71 359.67,-125.7\"/>\n<text text-anchor=\"middle\" x=\"276.69\" y=\"-125.4\" font-family=\"Times New Roman,serif\" font-size=\"14.00\">exposure, 0.05, -1.0</text>\n</g>\n<!-- done -->\n<g id=\"node4\" class=\"node\">\n<title>done</title>\n<ellipse fill=\"none\" stroke=\"black\" cx=\"407.59\" cy=\"-28.6\" rx=\"28.7\" ry=\"28.7\"/>\n<text text-anchor=\"middle\" x=\"407.59\" y=\"-24.9\" font-family=\"Times New Roman,serif\" font-size=\"14.00\">done</text>\n</g>\n<!-- available&#45;&gt;done -->\n<g id=\"edge2\" class=\"edge\">\n<title>available-&gt;done</title>\n<path fill=\"none\" stroke=\"black\" d=\"M180.47,-57.26C187.03,-55.52 193.76,-53.89 200.19,-52.6 257.78,-41.05 325.6,-34.48 367.34,-31.23\"/>\n<polygon fill=\"black\" stroke=\"black\" points=\"367.43,-34.74 377.14,-30.5 366.91,-27.76 367.43,-34.74\"/>\n<text text-anchor=\"middle\" x=\"276.69\" y=\"-56.4\" font-family=\"Times New Roman,serif\" font-size=\"14.00\">exposure, 0.95, -1.0</text>\n</g>\n<!-- done&#45;&gt;available -->\n<g id=\"edge5\" class=\"edge\">\n<title>done-&gt;available</title>\n<path fill=\"none\" stroke=\"black\" d=\"M380.11,-19.65C339.77,-7.53 261.17,10.01 200.19,-13.6 191.33,-17.03 182.94,-22.37 175.37,-28.43\"/>\n<polygon fill=\"black\" stroke=\"black\" points=\"173.27,-25.61 168,-34.81 177.85,-30.9 173.27,-25.61\"/>\n<text text-anchor=\"middle\" x=\"276.69\" y=\"-17.4\" font-family=\"Times New Roman,serif\" font-size=\"14.00\">check_exposure, 1.0, 0.0</text>\n</g>\n</g>\n</svg>"
     },
     "metadata": {},
     "output_type": "display_data"
    }
   ],
   "source": [
    "def exposure_service(name: str = EXPOSURE_SERVICE_NAME, broken_prob: float = DEFAULT_BROKEN_PROB,\n",
    "                     broken_reward: float = DEFAULT_BROKEN_REWARD,\n",
    "                     action_reward: float = USA_REWARD) -> Service:\n",
    "    \"\"\"Build the exposure device.\"\"\"\n",
    "    return build_generic_breakable_service(name, EXPOSURE, broken_prob=broken_prob, broken_reward=broken_reward,\n",
    "                                           action_reward=action_reward)\n",
    "\n",
    "\n",
    "service_exposure = exposure_service()\n",
    "render_service(service_exposure)"
   ]
  },
  {
   "cell_type": "code",
   "execution_count": 24,
   "metadata": {},
   "outputs": [
    {
     "data": {
      "text/plain": "<IPython.core.display.SVG object>",
      "image/svg+xml": "<svg xmlns=\"http://www.w3.org/2000/svg\" xmlns:xlink=\"http://www.w3.org/1999/xlink\" width=\"1441pt\" height=\"213pt\" viewBox=\"0.00 0.00 1441.38 213.29\">\n<g id=\"graph0\" class=\"graph\" transform=\"scale(1 1) rotate(0) translate(4 209.29)\">\n<polygon fill=\"white\" stroke=\"none\" points=\"-4,4 -4,-209.29 1437.38,-209.29 1437.38,4 -4,4\"/>\n<!-- fake -->\n<g id=\"node1\" class=\"node\">\n<title>fake</title>\n</g>\n<!-- ready -->\n<g id=\"node2\" class=\"node\">\n<title>ready</title>\n<ellipse fill=\"none\" stroke=\"black\" cx=\"125.55\" cy=\"-72.25\" rx=\"30.59\" ry=\"30.59\"/>\n<ellipse fill=\"none\" stroke=\"black\" cx=\"125.55\" cy=\"-72.25\" rx=\"34.59\" ry=\"34.59\"/>\n<text text-anchor=\"middle\" x=\"125.55\" y=\"-68.55\" font-family=\"Times New Roman,serif\" font-size=\"14.00\">ready</text>\n</g>\n<!-- fake&#45;&gt;ready -->\n<g id=\"edge1\" class=\"edge\">\n<title>fake-&gt;ready</title>\n<path fill=\"none\" stroke=\"black\" stroke-width=\"2\" d=\"M54.38,-72.25C62.06,-72.25 70.67,-72.25 79.17,-72.25\"/>\n<polygon fill=\"black\" stroke=\"black\" stroke-width=\"2\" points=\"77.55,-75.75 87.55,-72.25 77.55,-68.75 77.55,-75.75\"/>\n</g>\n<!-- configured -->\n<g id=\"node6\" class=\"node\">\n<title>configured</title>\n<ellipse fill=\"none\" stroke=\"black\" cx=\"426.59\" cy=\"-155.25\" rx=\"50.09\" ry=\"50.09\"/>\n<text text-anchor=\"middle\" x=\"426.59\" y=\"-151.55\" font-family=\"Times New Roman,serif\" font-size=\"14.00\">configured</text>\n</g>\n<!-- ready&#45;&gt;configured -->\n<g id=\"edge2\" class=\"edge\">\n<title>ready-&gt;configured</title>\n<path fill=\"none\" stroke=\"black\" d=\"M159.41,-81.37C209.36,-95.23 305.14,-121.81 367.15,-139.02\"/>\n<polygon fill=\"black\" stroke=\"black\" points=\"365.91,-142.31 376.48,-141.61 367.78,-135.57 365.91,-142.31\"/>\n<text text-anchor=\"middle\" x=\"260.09\" y=\"-134.05\" font-family=\"Times New Roman,serif\" font-size=\"14.00\">config_development, 1.0, 0.0</text>\n</g>\n<!-- executing -->\n<g id=\"node3\" class=\"node\">\n<title>executing</title>\n<ellipse fill=\"none\" stroke=\"black\" cx=\"802.09\" cy=\"-104.25\" rx=\"44.69\" ry=\"44.69\"/>\n<text text-anchor=\"middle\" x=\"802.09\" y=\"-100.55\" font-family=\"Times New Roman,serif\" font-size=\"14.00\">executing</text>\n</g>\n<!-- executing&#45;&gt;ready -->\n<g id=\"edge5\" class=\"edge\">\n<title>executing-&gt;ready</title>\n<path fill=\"none\" stroke=\"black\" d=\"M757.27,-100.28C697.58,-95.04 587.35,-85.92 493.09,-81.25 377.4,-75.51 240.98,-73.38 171.75,-72.63\"/>\n<polygon fill=\"black\" stroke=\"black\" points=\"171.98,-69.13 161.94,-72.53 171.9,-76.13 171.98,-69.13\"/>\n<text text-anchor=\"middle\" x=\"426.59\" y=\"-85.05\" font-family=\"Times New Roman,serif\" font-size=\"14.00\">development, 0.95, -1.0</text>\n</g>\n<!-- broken -->\n<g id=\"node5\" class=\"node\">\n<title>broken</title>\n<ellipse fill=\"none\" stroke=\"black\" cx=\"1098.49\" cy=\"-104.25\" rx=\"36.29\" ry=\"36.29\"/>\n<text text-anchor=\"middle\" x=\"1098.49\" y=\"-100.55\" font-family=\"Times New Roman,serif\" font-size=\"14.00\">broken</text>\n</g>\n<!-- executing&#45;&gt;broken -->\n<g id=\"edge6\" class=\"edge\">\n<title>executing-&gt;broken</title>\n<path fill=\"none\" stroke=\"black\" d=\"M847.17,-104.25C901.83,-104.25 994.61,-104.25 1050.56,-104.25\"/>\n<polygon fill=\"black\" stroke=\"black\" points=\"1050.4,-107.75 1060.4,-104.25 1050.4,-100.75 1050.4,-107.75\"/>\n<text text-anchor=\"middle\" x=\"977.59\" y=\"-108.05\" font-family=\"Times New Roman,serif\" font-size=\"14.00\">development, 0.05, -1.0</text>\n</g>\n<!-- repairing -->\n<g id=\"node4\" class=\"node\">\n<title>repairing</title>\n<ellipse fill=\"none\" stroke=\"black\" cx=\"1391.13\" cy=\"-42.25\" rx=\"42.49\" ry=\"42.49\"/>\n<text text-anchor=\"middle\" x=\"1391.13\" y=\"-38.55\" font-family=\"Times New Roman,serif\" font-size=\"14.00\">repairing</text>\n</g>\n<!-- repairing&#45;&gt;ready -->\n<g id=\"edge8\" class=\"edge\">\n<title>repairing-&gt;ready</title>\n<path fill=\"none\" stroke=\"black\" d=\"M1348.78,-38.54C1292.45,-33.81 1188.43,-26.25 1099.49,-26.25 425.59,-26.25 425.59,-26.25 425.59,-26.25 334,-26.25 228.44,-47.59 170.43,-61.2\"/>\n<polygon fill=\"black\" stroke=\"black\" points=\"169.87,-57.73 160.95,-63.46 171.49,-64.54 169.87,-57.73\"/>\n<text text-anchor=\"middle\" x=\"802.09\" y=\"-30.05\" font-family=\"Times New Roman,serif\" font-size=\"14.00\">repaired_development, 1.0, 0.0</text>\n</g>\n<!-- broken&#45;&gt;repairing -->\n<g id=\"edge7\" class=\"edge\">\n<title>broken-&gt;repairing</title>\n<path fill=\"none\" stroke=\"black\" d=\"M1134.26,-96.83C1184.94,-86.02 1279.44,-65.86 1338.33,-53.3\"/>\n<polygon fill=\"black\" stroke=\"black\" points=\"1338.72,-56.79 1347.77,-51.28 1337.26,-49.95 1338.72,-56.79\"/>\n<text text-anchor=\"middle\" x=\"1241.89\" y=\"-96.05\" font-family=\"Times New Roman,serif\" font-size=\"14.00\">restore_development, 1.0, -10.0</text>\n</g>\n<!-- configured&#45;&gt;executing -->\n<g id=\"edge3\" class=\"edge\">\n<title>configured-&gt;executing</title>\n<path fill=\"none\" stroke=\"black\" d=\"M476.42,-148.58C546.06,-139.07 673.5,-121.67 746.28,-111.73\"/>\n<polygon fill=\"black\" stroke=\"black\" points=\"746.54,-115.23 755.98,-110.41 745.6,-108.29 746.54,-115.23\"/>\n<text text-anchor=\"middle\" x=\"602.09\" y=\"-146.05\" font-family=\"Times New Roman,serif\" font-size=\"14.00\">checked_development, 0.95, 0.0</text>\n</g>\n<!-- configured&#45;&gt;broken -->\n<g id=\"edge4\" class=\"edge\">\n<title>configured-&gt;broken</title>\n<path fill=\"none\" stroke=\"black\" d=\"M476.75,-159.66C561.92,-166.4 742.28,-176.64 893.09,-158.25 961.48,-149.9 977.98,-142.6 1044.09,-123.25 1047.15,-122.35 1050.28,-121.38 1053.43,-120.37\"/>\n<polygon fill=\"black\" stroke=\"black\" points=\"1054.27,-123.78 1062.64,-117.28 1052.04,-117.14 1054.27,-123.78\"/>\n<text text-anchor=\"middle\" x=\"802.09\" y=\"-172.05\" font-family=\"Times New Roman,serif\" font-size=\"14.00\">checked_development, 0.05, 0.0</text>\n</g>\n</g>\n</svg>"
     },
     "metadata": {},
     "output_type": "display_data"
    },
    {
     "data": {
      "text/plain": "<IPython.core.display.SVG object>",
      "image/svg+xml": "<svg xmlns=\"http://www.w3.org/2000/svg\" xmlns:xlink=\"http://www.w3.org/1999/xlink\" width=\"1441pt\" height=\"213pt\" viewBox=\"0.00 0.00 1441.38 213.29\">\n<g id=\"graph0\" class=\"graph\" transform=\"scale(1 1) rotate(0) translate(4 209.29)\">\n<polygon fill=\"white\" stroke=\"none\" points=\"-4,4 -4,-209.29 1437.38,-209.29 1437.38,4 -4,4\"/>\n<!-- fake -->\n<g id=\"node1\" class=\"node\">\n<title>fake</title>\n</g>\n<!-- ready -->\n<g id=\"node2\" class=\"node\">\n<title>ready</title>\n<ellipse fill=\"none\" stroke=\"black\" cx=\"125.55\" cy=\"-72.25\" rx=\"30.59\" ry=\"30.59\"/>\n<ellipse fill=\"none\" stroke=\"black\" cx=\"125.55\" cy=\"-72.25\" rx=\"34.59\" ry=\"34.59\"/>\n<text text-anchor=\"middle\" x=\"125.55\" y=\"-68.55\" font-family=\"Times New Roman,serif\" font-size=\"14.00\">ready</text>\n</g>\n<!-- fake&#45;&gt;ready -->\n<g id=\"edge1\" class=\"edge\">\n<title>fake-&gt;ready</title>\n<path fill=\"none\" stroke=\"black\" stroke-width=\"2\" d=\"M54.38,-72.25C62.06,-72.25 70.67,-72.25 79.17,-72.25\"/>\n<polygon fill=\"black\" stroke=\"black\" stroke-width=\"2\" points=\"77.55,-75.75 87.55,-72.25 77.55,-68.75 77.55,-75.75\"/>\n</g>\n<!-- configured -->\n<g id=\"node6\" class=\"node\">\n<title>configured</title>\n<ellipse fill=\"none\" stroke=\"black\" cx=\"426.59\" cy=\"-155.25\" rx=\"50.09\" ry=\"50.09\"/>\n<text text-anchor=\"middle\" x=\"426.59\" y=\"-151.55\" font-family=\"Times New Roman,serif\" font-size=\"14.00\">configured</text>\n</g>\n<!-- ready&#45;&gt;configured -->\n<g id=\"edge2\" class=\"edge\">\n<title>ready-&gt;configured</title>\n<path fill=\"none\" stroke=\"black\" d=\"M159.41,-81.37C209.36,-95.23 305.14,-121.81 367.15,-139.02\"/>\n<polygon fill=\"black\" stroke=\"black\" points=\"365.91,-142.31 376.48,-141.61 367.78,-135.57 365.91,-142.31\"/>\n<text text-anchor=\"middle\" x=\"260.09\" y=\"-134.05\" font-family=\"Times New Roman,serif\" font-size=\"14.00\">config_development, 1.0, 0.0</text>\n</g>\n<!-- executing -->\n<g id=\"node3\" class=\"node\">\n<title>executing</title>\n<ellipse fill=\"none\" stroke=\"black\" cx=\"802.09\" cy=\"-104.25\" rx=\"44.69\" ry=\"44.69\"/>\n<text text-anchor=\"middle\" x=\"802.09\" y=\"-100.55\" font-family=\"Times New Roman,serif\" font-size=\"14.00\">executing</text>\n</g>\n<!-- executing&#45;&gt;ready -->\n<g id=\"edge5\" class=\"edge\">\n<title>executing-&gt;ready</title>\n<path fill=\"none\" stroke=\"black\" d=\"M757.27,-100.28C697.58,-95.04 587.35,-85.92 493.09,-81.25 377.4,-75.51 240.98,-73.38 171.75,-72.63\"/>\n<polygon fill=\"black\" stroke=\"black\" points=\"171.98,-69.13 161.94,-72.53 171.9,-76.13 171.98,-69.13\"/>\n<text text-anchor=\"middle\" x=\"426.59\" y=\"-85.05\" font-family=\"Times New Roman,serif\" font-size=\"14.00\">development, 0.95, -5.0</text>\n</g>\n<!-- broken -->\n<g id=\"node5\" class=\"node\">\n<title>broken</title>\n<ellipse fill=\"none\" stroke=\"black\" cx=\"1098.49\" cy=\"-104.25\" rx=\"36.29\" ry=\"36.29\"/>\n<text text-anchor=\"middle\" x=\"1098.49\" y=\"-100.55\" font-family=\"Times New Roman,serif\" font-size=\"14.00\">broken</text>\n</g>\n<!-- executing&#45;&gt;broken -->\n<g id=\"edge6\" class=\"edge\">\n<title>executing-&gt;broken</title>\n<path fill=\"none\" stroke=\"black\" d=\"M847.17,-104.25C901.83,-104.25 994.61,-104.25 1050.56,-104.25\"/>\n<polygon fill=\"black\" stroke=\"black\" points=\"1050.4,-107.75 1060.4,-104.25 1050.4,-100.75 1050.4,-107.75\"/>\n<text text-anchor=\"middle\" x=\"977.59\" y=\"-108.05\" font-family=\"Times New Roman,serif\" font-size=\"14.00\">development, 0.05, -5.0</text>\n</g>\n<!-- repairing -->\n<g id=\"node4\" class=\"node\">\n<title>repairing</title>\n<ellipse fill=\"none\" stroke=\"black\" cx=\"1391.13\" cy=\"-42.25\" rx=\"42.49\" ry=\"42.49\"/>\n<text text-anchor=\"middle\" x=\"1391.13\" y=\"-38.55\" font-family=\"Times New Roman,serif\" font-size=\"14.00\">repairing</text>\n</g>\n<!-- repairing&#45;&gt;ready -->\n<g id=\"edge8\" class=\"edge\">\n<title>repairing-&gt;ready</title>\n<path fill=\"none\" stroke=\"black\" d=\"M1348.78,-38.54C1292.45,-33.81 1188.43,-26.25 1099.49,-26.25 425.59,-26.25 425.59,-26.25 425.59,-26.25 334,-26.25 228.44,-47.59 170.43,-61.2\"/>\n<polygon fill=\"black\" stroke=\"black\" points=\"169.87,-57.73 160.95,-63.46 171.49,-64.54 169.87,-57.73\"/>\n<text text-anchor=\"middle\" x=\"802.09\" y=\"-30.05\" font-family=\"Times New Roman,serif\" font-size=\"14.00\">repaired_development, 1.0, 0.0</text>\n</g>\n<!-- broken&#45;&gt;repairing -->\n<g id=\"edge7\" class=\"edge\">\n<title>broken-&gt;repairing</title>\n<path fill=\"none\" stroke=\"black\" d=\"M1134.26,-96.83C1184.94,-86.02 1279.44,-65.86 1338.33,-53.3\"/>\n<polygon fill=\"black\" stroke=\"black\" points=\"1338.72,-56.79 1347.77,-51.28 1337.26,-49.95 1338.72,-56.79\"/>\n<text text-anchor=\"middle\" x=\"1241.89\" y=\"-96.05\" font-family=\"Times New Roman,serif\" font-size=\"14.00\">restore_development, 1.0, -10.0</text>\n</g>\n<!-- configured&#45;&gt;executing -->\n<g id=\"edge3\" class=\"edge\">\n<title>configured-&gt;executing</title>\n<path fill=\"none\" stroke=\"black\" d=\"M476.42,-148.58C546.06,-139.07 673.5,-121.67 746.28,-111.73\"/>\n<polygon fill=\"black\" stroke=\"black\" points=\"746.54,-115.23 755.98,-110.41 745.6,-108.29 746.54,-115.23\"/>\n<text text-anchor=\"middle\" x=\"602.09\" y=\"-146.05\" font-family=\"Times New Roman,serif\" font-size=\"14.00\">checked_development, 0.95, 0.0</text>\n</g>\n<!-- configured&#45;&gt;broken -->\n<g id=\"edge4\" class=\"edge\">\n<title>configured-&gt;broken</title>\n<path fill=\"none\" stroke=\"black\" d=\"M476.75,-159.66C561.92,-166.4 742.28,-176.64 893.09,-158.25 961.48,-149.9 977.98,-142.6 1044.09,-123.25 1047.15,-122.35 1050.28,-121.38 1053.43,-120.37\"/>\n<polygon fill=\"black\" stroke=\"black\" points=\"1054.27,-123.78 1062.64,-117.28 1052.04,-117.14 1054.27,-123.78\"/>\n<text text-anchor=\"middle\" x=\"802.09\" y=\"-172.05\" font-family=\"Times New Roman,serif\" font-size=\"14.00\">checked_development, 0.05, 0.0</text>\n</g>\n</g>\n</svg>"
     },
     "metadata": {},
     "output_type": "display_data"
    }
   ],
   "source": [
    "def development_service(name: str, broken_prob: float, unemployable_prob: float, broken_reward: float,\n",
    "                        action_reward: float) -> Service:\n",
    "    \"\"\"Build the development device.\"\"\"\n",
    "    return build_complex_breakable_service(name, DEVELOPMENT, broken_prob=broken_prob,\n",
    "                                           unemployable_prob=unemployable_prob, broken_reward=broken_reward,\n",
    "                                           action_reward=action_reward)\n",
    "\n",
    "\n",
    "service_development1 = development_service(DEVELOPMENT1_SERVICE_NAME, DEFAULT_BROKEN_PROB, DEFAULT_UNEMPLOYABLE_PROB,\n",
    "                                           DEFAULT_BROKEN_REWARD, USA_REWARD)\n",
    "service_development2 = development_service(DEVELOPMENT2_SERVICE_NAME, DEFAULT_BROKEN_PROB, DEFAULT_UNEMPLOYABLE_PROB, DEFAULT_BROKEN_REWARD, HIGH_USA_REWARD)\n",
    "render_service(service_development1)\n",
    "render_service(service_development2)\n"
   ]
  },
  {
   "cell_type": "code",
   "execution_count": 25,
   "metadata": {},
   "outputs": [
    {
     "data": {
      "text/plain": "<IPython.core.display.SVG object>",
      "image/svg+xml": "<svg xmlns=\"http://www.w3.org/2000/svg\" xmlns:xlink=\"http://www.w3.org/1999/xlink\" width=\"441pt\" height=\"164pt\" viewBox=\"0.00 0.00 440.99 163.99\">\n<g id=\"graph0\" class=\"graph\" transform=\"scale(1 1) rotate(0) translate(4 159.99)\">\n<polygon fill=\"white\" stroke=\"none\" points=\"-4,4 -4,-159.99 436.99,-159.99 436.99,4 -4,4\"/>\n<!-- fake -->\n<g id=\"node1\" class=\"node\">\n<title>fake</title>\n</g>\n<!-- available -->\n<g id=\"node3\" class=\"node\">\n<title>available</title>\n<ellipse fill=\"none\" stroke=\"black\" cx=\"136.6\" cy=\"-70.6\" rx=\"41.68\" ry=\"41.68\"/>\n<ellipse fill=\"none\" stroke=\"black\" cx=\"136.6\" cy=\"-70.6\" rx=\"45.69\" ry=\"45.69\"/>\n<text text-anchor=\"middle\" x=\"136.6\" y=\"-66.9\" font-family=\"Times New Roman,serif\" font-size=\"14.00\">available</text>\n</g>\n<!-- fake&#45;&gt;available -->\n<g id=\"edge1\" class=\"edge\">\n<title>fake-&gt;available</title>\n<path fill=\"none\" stroke=\"black\" stroke-width=\"2\" d=\"M54.32,-70.6C61.93,-70.6 70.55,-70.6 79.26,-70.6\"/>\n<polygon fill=\"black\" stroke=\"black\" stroke-width=\"2\" points=\"77.65,-74.1 87.65,-70.6 77.65,-67.1 77.65,-74.1\"/>\n</g>\n<!-- broken -->\n<g id=\"node2\" class=\"node\">\n<title>broken</title>\n<ellipse fill=\"none\" stroke=\"black\" cx=\"396.59\" cy=\"-119.6\" rx=\"36.29\" ry=\"36.29\"/>\n<text text-anchor=\"middle\" x=\"396.59\" y=\"-115.9\" font-family=\"Times New Roman,serif\" font-size=\"14.00\">broken</text>\n</g>\n<!-- broken&#45;&gt;available -->\n<g id=\"edge4\" class=\"edge\">\n<title>broken-&gt;available</title>\n<path fill=\"none\" stroke=\"black\" d=\"M366.89,-98.43C359.22,-93.76 350.69,-89.37 342.19,-86.6 293.9,-70.82 235.93,-67.65 194.04,-67.95\"/>\n<polygon fill=\"black\" stroke=\"black\" points=\"194.14,-64.44 184.19,-68.09 194.24,-71.44 194.14,-64.44\"/>\n<text text-anchor=\"middle\" x=\"271.19\" y=\"-90.4\" font-family=\"Times New Roman,serif\" font-size=\"14.00\">check_etching, 1.0, -10.0</text>\n</g>\n<!-- available&#45;&gt;broken -->\n<g id=\"edge3\" class=\"edge\">\n<title>available-&gt;broken</title>\n<path fill=\"none\" stroke=\"black\" d=\"M175.49,-95.22C183.38,-99.35 191.84,-103.1 200.19,-105.6 249.42,-120.32 308.6,-122.54 348.84,-121.89\"/>\n<polygon fill=\"black\" stroke=\"black\" points=\"348.75,-125.39 358.66,-121.66 348.58,-118.4 348.75,-125.39\"/>\n<text text-anchor=\"middle\" x=\"271.19\" y=\"-125.4\" font-family=\"Times New Roman,serif\" font-size=\"14.00\">etching, 0.05, -1.0</text>\n</g>\n<!-- done -->\n<g id=\"node4\" class=\"node\">\n<title>done</title>\n<ellipse fill=\"none\" stroke=\"black\" cx=\"396.59\" cy=\"-28.6\" rx=\"28.7\" ry=\"28.7\"/>\n<text text-anchor=\"middle\" x=\"396.59\" y=\"-24.9\" font-family=\"Times New Roman,serif\" font-size=\"14.00\">done</text>\n</g>\n<!-- available&#45;&gt;done -->\n<g id=\"edge2\" class=\"edge\">\n<title>available-&gt;done</title>\n<path fill=\"none\" stroke=\"black\" d=\"M180.48,-57.3C187.04,-55.55 193.77,-53.91 200.19,-52.6 253.72,-41.68 316.58,-35.04 356.25,-31.59\"/>\n<polygon fill=\"black\" stroke=\"black\" points=\"356.36,-35.1 366.03,-30.77 355.77,-28.12 356.36,-35.1\"/>\n<text text-anchor=\"middle\" x=\"271.19\" y=\"-56.4\" font-family=\"Times New Roman,serif\" font-size=\"14.00\">etching, 0.95, -1.0</text>\n</g>\n<!-- done&#45;&gt;available -->\n<g id=\"edge5\" class=\"edge\">\n<title>done-&gt;available</title>\n<path fill=\"none\" stroke=\"black\" d=\"M368.95,-19.76C330.34,-8.46 257.22,7.19 200.19,-14.6 191.48,-17.93 183.21,-23.09 175.71,-28.96\"/>\n<polygon fill=\"black\" stroke=\"black\" points=\"173.8,-25.99 168.43,-35.13 178.32,-31.33 173.8,-25.99\"/>\n<text text-anchor=\"middle\" x=\"271.19\" y=\"-18.4\" font-family=\"Times New Roman,serif\" font-size=\"14.00\">check_etching, 1.0, 0.0</text>\n</g>\n</g>\n</svg>"
     },
     "metadata": {},
     "output_type": "display_data"
    },
    {
     "data": {
      "text/plain": "<IPython.core.display.SVG object>",
      "image/svg+xml": "<svg xmlns=\"http://www.w3.org/2000/svg\" xmlns:xlink=\"http://www.w3.org/1999/xlink\" width=\"441pt\" height=\"164pt\" viewBox=\"0.00 0.00 440.99 163.99\">\n<g id=\"graph0\" class=\"graph\" transform=\"scale(1 1) rotate(0) translate(4 159.99)\">\n<polygon fill=\"white\" stroke=\"none\" points=\"-4,4 -4,-159.99 436.99,-159.99 436.99,4 -4,4\"/>\n<!-- fake -->\n<g id=\"node1\" class=\"node\">\n<title>fake</title>\n</g>\n<!-- available -->\n<g id=\"node3\" class=\"node\">\n<title>available</title>\n<ellipse fill=\"none\" stroke=\"black\" cx=\"136.6\" cy=\"-70.6\" rx=\"41.68\" ry=\"41.68\"/>\n<ellipse fill=\"none\" stroke=\"black\" cx=\"136.6\" cy=\"-70.6\" rx=\"45.69\" ry=\"45.69\"/>\n<text text-anchor=\"middle\" x=\"136.6\" y=\"-66.9\" font-family=\"Times New Roman,serif\" font-size=\"14.00\">available</text>\n</g>\n<!-- fake&#45;&gt;available -->\n<g id=\"edge1\" class=\"edge\">\n<title>fake-&gt;available</title>\n<path fill=\"none\" stroke=\"black\" stroke-width=\"2\" d=\"M54.32,-70.6C61.93,-70.6 70.55,-70.6 79.26,-70.6\"/>\n<polygon fill=\"black\" stroke=\"black\" stroke-width=\"2\" points=\"77.65,-74.1 87.65,-70.6 77.65,-67.1 77.65,-74.1\"/>\n</g>\n<!-- broken -->\n<g id=\"node2\" class=\"node\">\n<title>broken</title>\n<ellipse fill=\"none\" stroke=\"black\" cx=\"396.59\" cy=\"-119.6\" rx=\"36.29\" ry=\"36.29\"/>\n<text text-anchor=\"middle\" x=\"396.59\" y=\"-115.9\" font-family=\"Times New Roman,serif\" font-size=\"14.00\">broken</text>\n</g>\n<!-- broken&#45;&gt;available -->\n<g id=\"edge4\" class=\"edge\">\n<title>broken-&gt;available</title>\n<path fill=\"none\" stroke=\"black\" d=\"M366.89,-98.43C359.22,-93.76 350.69,-89.37 342.19,-86.6 293.9,-70.82 235.93,-67.65 194.04,-67.95\"/>\n<polygon fill=\"black\" stroke=\"black\" points=\"194.14,-64.44 184.19,-68.09 194.24,-71.44 194.14,-64.44\"/>\n<text text-anchor=\"middle\" x=\"271.19\" y=\"-90.4\" font-family=\"Times New Roman,serif\" font-size=\"14.00\">check_etching, 1.0, -10.0</text>\n</g>\n<!-- available&#45;&gt;broken -->\n<g id=\"edge3\" class=\"edge\">\n<title>available-&gt;broken</title>\n<path fill=\"none\" stroke=\"black\" d=\"M175.49,-95.22C183.38,-99.35 191.84,-103.1 200.19,-105.6 249.42,-120.32 308.6,-122.54 348.84,-121.89\"/>\n<polygon fill=\"black\" stroke=\"black\" points=\"348.75,-125.39 358.66,-121.66 348.58,-118.4 348.75,-125.39\"/>\n<text text-anchor=\"middle\" x=\"271.19\" y=\"-125.4\" font-family=\"Times New Roman,serif\" font-size=\"14.00\">etching, 0.5, -5.0</text>\n</g>\n<!-- done -->\n<g id=\"node4\" class=\"node\">\n<title>done</title>\n<ellipse fill=\"none\" stroke=\"black\" cx=\"396.59\" cy=\"-28.6\" rx=\"28.7\" ry=\"28.7\"/>\n<text text-anchor=\"middle\" x=\"396.59\" y=\"-24.9\" font-family=\"Times New Roman,serif\" font-size=\"14.00\">done</text>\n</g>\n<!-- available&#45;&gt;done -->\n<g id=\"edge2\" class=\"edge\">\n<title>available-&gt;done</title>\n<path fill=\"none\" stroke=\"black\" d=\"M180.48,-57.3C187.04,-55.55 193.77,-53.91 200.19,-52.6 253.72,-41.68 316.58,-35.04 356.25,-31.59\"/>\n<polygon fill=\"black\" stroke=\"black\" points=\"356.36,-35.1 366.03,-30.77 355.77,-28.12 356.36,-35.1\"/>\n<text text-anchor=\"middle\" x=\"271.19\" y=\"-56.4\" font-family=\"Times New Roman,serif\" font-size=\"14.00\">etching, 0.5, -5.0</text>\n</g>\n<!-- done&#45;&gt;available -->\n<g id=\"edge5\" class=\"edge\">\n<title>done-&gt;available</title>\n<path fill=\"none\" stroke=\"black\" d=\"M368.95,-19.76C330.34,-8.46 257.22,7.19 200.19,-14.6 191.48,-17.93 183.21,-23.09 175.71,-28.96\"/>\n<polygon fill=\"black\" stroke=\"black\" points=\"173.8,-25.99 168.43,-35.13 178.32,-31.33 173.8,-25.99\"/>\n<text text-anchor=\"middle\" x=\"271.19\" y=\"-18.4\" font-family=\"Times New Roman,serif\" font-size=\"14.00\">check_etching, 1.0, 0.0</text>\n</g>\n</g>\n</svg>"
     },
     "metadata": {},
     "output_type": "display_data"
    }
   ],
   "source": [
    "def etching_service(name: str, broken_prob: float, broken_reward: float, action_reward: float) -> Service:\n",
    "    \"\"\"Build the etching device.\"\"\"\n",
    "    return build_generic_breakable_service(name, ETCHING, broken_prob=broken_prob, broken_reward=broken_reward,\n",
    "                                           action_reward=action_reward)\n",
    "\n",
    "\n",
    "service_etching1 = etching_service(ETCHING1_SERVICE_NAME, DEFAULT_BROKEN_PROB, DEFAULT_BROKEN_REWARD,\n",
    "                                   USA_REWARD)\n",
    "service_etching2 = etching_service(ETCHING2_SERVICE_NAME, BROKEN_PROB, DEFAULT_BROKEN_REWARD, HIGH_USA_REWARD)\n",
    "render_service(service_etching1)\n",
    "render_service(service_etching2)\n"
   ]
  },
  {
   "cell_type": "code",
   "execution_count": 26,
   "metadata": {},
   "outputs": [
    {
     "data": {
      "text/plain": "<IPython.core.display.SVG object>",
      "image/svg+xml": "<svg xmlns=\"http://www.w3.org/2000/svg\" xmlns:xlink=\"http://www.w3.org/1999/xlink\" width=\"1787pt\" height=\"213pt\" viewBox=\"0.00 0.00 1787.38 213.29\">\n<g id=\"graph0\" class=\"graph\" transform=\"scale(1 1) rotate(0) translate(4 209.29)\">\n<polygon fill=\"white\" stroke=\"none\" points=\"-4,4 -4,-209.29 1783.38,-209.29 1783.38,4 -4,4\"/>\n<!-- fake -->\n<g id=\"node1\" class=\"node\">\n<title>fake</title>\n</g>\n<!-- ready -->\n<g id=\"node2\" class=\"node\">\n<title>ready</title>\n<ellipse fill=\"none\" stroke=\"black\" cx=\"125.55\" cy=\"-72.25\" rx=\"30.59\" ry=\"30.59\"/>\n<ellipse fill=\"none\" stroke=\"black\" cx=\"125.55\" cy=\"-72.25\" rx=\"34.59\" ry=\"34.59\"/>\n<text text-anchor=\"middle\" x=\"125.55\" y=\"-68.55\" font-family=\"Times New Roman,serif\" font-size=\"14.00\">ready</text>\n</g>\n<!-- fake&#45;&gt;ready -->\n<g id=\"edge1\" class=\"edge\">\n<title>fake-&gt;ready</title>\n<path fill=\"none\" stroke=\"black\" stroke-width=\"2\" d=\"M54.38,-72.25C62.06,-72.25 70.67,-72.25 79.17,-72.25\"/>\n<polygon fill=\"black\" stroke=\"black\" stroke-width=\"2\" points=\"77.55,-75.75 87.55,-72.25 77.55,-68.75 77.55,-75.75\"/>\n</g>\n<!-- configured -->\n<g id=\"node6\" class=\"node\">\n<title>configured</title>\n<ellipse fill=\"none\" stroke=\"black\" cx=\"513.09\" cy=\"-155.25\" rx=\"50.09\" ry=\"50.09\"/>\n<text text-anchor=\"middle\" x=\"513.09\" y=\"-151.55\" font-family=\"Times New Roman,serif\" font-size=\"14.00\">configured</text>\n</g>\n<!-- ready&#45;&gt;configured -->\n<g id=\"edge2\" class=\"edge\">\n<title>ready-&gt;configured</title>\n<path fill=\"none\" stroke=\"black\" d=\"M159.19,-81.44C165.45,-83.11 171.96,-84.78 178.09,-86.25 273.5,-109.03 385.3,-131.22 452.32,-144.05\"/>\n<polygon fill=\"black\" stroke=\"black\" points=\"451.52,-147.46 462,-145.89 452.84,-140.58 451.52,-147.46\"/>\n<text text-anchor=\"middle\" x=\"289.09\" y=\"-136.05\" font-family=\"Times New Roman,serif\" font-size=\"14.00\">config_impurities_implantation, 1.0, 0.0</text>\n</g>\n<!-- executing -->\n<g id=\"node3\" class=\"node\">\n<title>executing</title>\n<ellipse fill=\"none\" stroke=\"black\" cx=\"1004.09\" cy=\"-104.25\" rx=\"44.69\" ry=\"44.69\"/>\n<text text-anchor=\"middle\" x=\"1004.09\" y=\"-100.55\" font-family=\"Times New Roman,serif\" font-size=\"14.00\">executing</text>\n</g>\n<!-- executing&#45;&gt;ready -->\n<g id=\"edge5\" class=\"edge\">\n<title>executing-&gt;ready</title>\n<path fill=\"none\" stroke=\"black\" d=\"M959.28,-101.13C886.43,-96.07 735.77,-86.15 608.09,-81.25 447.69,-75.08 257.07,-73.1 171.75,-72.5\"/>\n<polygon fill=\"black\" stroke=\"black\" points=\"171.96,-69 161.94,-72.43 171.91,-76 171.96,-69\"/>\n<text text-anchor=\"middle\" x=\"513.09\" y=\"-85.05\" font-family=\"Times New Roman,serif\" font-size=\"14.00\">impurities_implantation, 0.95, -1.0</text>\n</g>\n<!-- broken -->\n<g id=\"node5\" class=\"node\">\n<title>broken</title>\n<ellipse fill=\"none\" stroke=\"black\" cx=\"1386.49\" cy=\"-104.25\" rx=\"36.29\" ry=\"36.29\"/>\n<text text-anchor=\"middle\" x=\"1386.49\" y=\"-100.55\" font-family=\"Times New Roman,serif\" font-size=\"14.00\">broken</text>\n</g>\n<!-- executing&#45;&gt;broken -->\n<g id=\"edge6\" class=\"edge\">\n<title>executing-&gt;broken</title>\n<path fill=\"none\" stroke=\"black\" d=\"M1049.1,-104.25C1121.32,-104.25 1264.33,-104.25 1338.46,-104.25\"/>\n<polygon fill=\"black\" stroke=\"black\" points=\"1338.24,-107.75 1348.24,-104.25 1338.24,-100.75 1338.24,-107.75\"/>\n<text text-anchor=\"middle\" x=\"1237.09\" y=\"-108.05\" font-family=\"Times New Roman,serif\" font-size=\"14.00\">impurities_implantation, 0.05, -1.0</text>\n</g>\n<!-- repairing -->\n<g id=\"node4\" class=\"node\">\n<title>repairing</title>\n<ellipse fill=\"none\" stroke=\"black\" cx=\"1737.13\" cy=\"-42.25\" rx=\"42.49\" ry=\"42.49\"/>\n<text text-anchor=\"middle\" x=\"1737.13\" y=\"-38.55\" font-family=\"Times New Roman,serif\" font-size=\"14.00\">repairing</text>\n</g>\n<!-- repairing&#45;&gt;ready -->\n<g id=\"edge8\" class=\"edge\">\n<title>repairing-&gt;ready</title>\n<path fill=\"none\" stroke=\"black\" d=\"M1694.3,-39.09C1628.89,-34.42 1498.37,-26.25 1387.49,-26.25 512.09,-26.25 512.09,-26.25 512.09,-26.25 387.9,-26.25 242.77,-50.07 171.17,-63.43\"/>\n<polygon fill=\"black\" stroke=\"black\" points=\"170.57,-59.98 161.4,-65.28 171.87,-66.86 170.57,-59.98\"/>\n<text text-anchor=\"middle\" x=\"1004.09\" y=\"-30.05\" font-family=\"Times New Roman,serif\" font-size=\"14.00\">repaired_impurities_implantation, 1.0, 0.0</text>\n</g>\n<!-- broken&#45;&gt;repairing -->\n<g id=\"edge7\" class=\"edge\">\n<title>broken-&gt;repairing</title>\n<path fill=\"none\" stroke=\"black\" d=\"M1422.52,-98.02C1484.06,-87.07 1611.91,-64.34 1683.91,-51.53\"/>\n<polygon fill=\"black\" stroke=\"black\" points=\"1684.25,-55.03 1693.48,-49.83 1683.02,-48.14 1684.25,-55.03\"/>\n<text text-anchor=\"middle\" x=\"1558.89\" y=\"-97.05\" font-family=\"Times New Roman,serif\" font-size=\"14.00\">restore_impurities_implantation, 1.0, -10.0</text>\n</g>\n<!-- configured&#45;&gt;executing -->\n<g id=\"edge3\" class=\"edge\">\n<title>configured-&gt;executing</title>\n<path fill=\"none\" stroke=\"black\" d=\"M563.22,-150.12C655.03,-140.55 852.03,-120 948.12,-109.98\"/>\n<polygon fill=\"black\" stroke=\"black\" points=\"948.24,-113.49 957.82,-108.97 947.51,-106.52 948.24,-113.49\"/>\n<text text-anchor=\"middle\" x=\"746.09\" y=\"-146.05\" font-family=\"Times New Roman,serif\" font-size=\"14.00\">checked_impurities_implantation, 0.95, 0.0</text>\n</g>\n<!-- configured&#45;&gt;broken -->\n<g id=\"edge4\" class=\"edge\">\n<title>configured-&gt;broken</title>\n<path fill=\"none\" stroke=\"black\" d=\"M563.25,-158.61C667.08,-165.03 916.29,-176.82 1124.09,-158.25 1217.47,-149.9 1241.36,-146.83 1332.09,-123.25 1335.17,-122.45 1338.33,-121.54 1341.49,-120.58\"/>\n<polygon fill=\"black\" stroke=\"black\" points=\"1342.29,-124 1350.72,-117.58 1340.13,-117.34 1342.29,-124\"/>\n<text text-anchor=\"middle\" x=\"1004.09\" y=\"-171.05\" font-family=\"Times New Roman,serif\" font-size=\"14.00\">checked_impurities_implantation, 0.05, 0.0</text>\n</g>\n</g>\n</svg>"
     },
     "metadata": {},
     "output_type": "display_data"
    }
   ],
   "source": [
    "def impurities_implantation_service(name: str, broken_prob: float, unemployable_prob: float, broken_reward: float,\n",
    "                                    action_reward: float) -> Service:\n",
    "    \"\"\"Build the impurities implantation device.\"\"\"\n",
    "    return build_complex_breakable_service(name, IMPURITIES_IMPLANTATION, broken_prob=broken_prob,\n",
    "                                           unemployable_prob=unemployable_prob, broken_reward=broken_reward,\n",
    "                                           action_reward=action_reward)\n",
    "\n",
    "\n",
    "service_impurities_implantation = impurities_implantation_service(IMPURITIES_IMPLANTATION_SERVICE_NAME,\n",
    "                                                                   DEFAULT_BROKEN_PROB, DEFAULT_UNEMPLOYABLE_PROB,\n",
    "                                                                   DEFAULT_BROKEN_REWARD, USA_REWARD)\n",
    "render_service(service_impurities_implantation)"
   ]
  },
  {
   "cell_type": "code",
   "execution_count": 27,
   "metadata": {},
   "outputs": [
    {
     "data": {
      "text/plain": "<IPython.core.display.SVG object>",
      "image/svg+xml": "<svg xmlns=\"http://www.w3.org/2000/svg\" xmlns:xlink=\"http://www.w3.org/1999/xlink\" width=\"188pt\" height=\"110pt\" viewBox=\"0.00 0.00 187.55 110.09\">\n<g id=\"graph0\" class=\"graph\" transform=\"scale(1 1) rotate(0) translate(4 106.09)\">\n<polygon fill=\"white\" stroke=\"none\" points=\"-4,4 -4,-106.09 183.55,-106.09 183.55,4 -4,4\"/>\n<!-- fake -->\n<g id=\"node1\" class=\"node\">\n<title>fake</title>\n</g>\n<!-- ready -->\n<g id=\"node2\" class=\"node\">\n<title>ready</title>\n<ellipse fill=\"none\" stroke=\"black\" cx=\"125.55\" cy=\"-34.55\" rx=\"30.59\" ry=\"30.59\"/>\n<ellipse fill=\"none\" stroke=\"black\" cx=\"125.55\" cy=\"-34.55\" rx=\"34.59\" ry=\"34.59\"/>\n<text text-anchor=\"middle\" x=\"125.55\" y=\"-30.85\" font-family=\"Times New Roman,serif\" font-size=\"14.00\">ready</text>\n</g>\n<!-- fake&#45;&gt;ready -->\n<g id=\"edge1\" class=\"edge\">\n<title>fake-&gt;ready</title>\n<path fill=\"none\" stroke=\"black\" stroke-width=\"2\" d=\"M54.38,-34.55C62.06,-34.55 70.67,-34.55 79.17,-34.55\"/>\n<polygon fill=\"black\" stroke=\"black\" stroke-width=\"2\" points=\"77.55,-38.05 87.55,-34.55 77.55,-31.05 77.55,-38.05\"/>\n</g>\n<!-- ready&#45;&gt;ready -->\n<g id=\"edge2\" class=\"edge\">\n<title>ready-&gt;ready</title>\n<path fill=\"none\" stroke=\"black\" d=\"M115.61,-68.16C115.76,-78.74 119.07,-87.09 125.55,-87.09 129.49,-87.09 132.27,-83.99 133.86,-79.17\"/>\n<polygon fill=\"black\" stroke=\"black\" points=\"137.27,-80.06 135.27,-69.65 130.35,-79.03 137.27,-80.06\"/>\n<text text-anchor=\"middle\" x=\"125.55\" y=\"-90.89\" font-family=\"Times New Roman,serif\" font-size=\"14.00\">activation, 1.0, -1.0</text>\n</g>\n</g>\n</svg>"
     },
     "metadata": {},
     "output_type": "display_data"
    }
   ],
   "source": [
    "def activation_service(name: str = ACTIVATION_SERVICE_NAME, action_reward: float = USA_REWARD) -> Service:\n",
    "    \"\"\"Build the human activation device.\"\"\"\n",
    "    return build_generic_service_one_state(\n",
    "        name,\n",
    "        {ACTIVATION},\n",
    "        action_reward=action_reward\n",
    "    )\n",
    "\n",
    "\n",
    "service_activation = activation_service()\n",
    "render_service(service_activation)\n"
   ]
  },
  {
   "cell_type": "code",
   "execution_count": 28,
   "metadata": {},
   "outputs": [
    {
     "data": {
      "text/plain": "<IPython.core.display.SVG object>",
      "image/svg+xml": "<svg xmlns=\"http://www.w3.org/2000/svg\" xmlns:xlink=\"http://www.w3.org/1999/xlink\" width=\"486pt\" height=\"166pt\" viewBox=\"0.00 0.00 485.99 166.07\">\n<g id=\"graph0\" class=\"graph\" transform=\"scale(1 1) rotate(0) translate(4 162.07)\">\n<polygon fill=\"white\" stroke=\"none\" points=\"-4,4 -4,-162.07 481.99,-162.07 481.99,4 -4,4\"/>\n<!-- fake -->\n<g id=\"node1\" class=\"node\">\n<title>fake</title>\n</g>\n<!-- available -->\n<g id=\"node3\" class=\"node\">\n<title>available</title>\n<ellipse fill=\"none\" stroke=\"black\" cx=\"136.6\" cy=\"-72.67\" rx=\"41.68\" ry=\"41.68\"/>\n<ellipse fill=\"none\" stroke=\"black\" cx=\"136.6\" cy=\"-72.67\" rx=\"45.69\" ry=\"45.69\"/>\n<text text-anchor=\"middle\" x=\"136.6\" y=\"-68.97\" font-family=\"Times New Roman,serif\" font-size=\"14.00\">available</text>\n</g>\n<!-- fake&#45;&gt;available -->\n<g id=\"edge1\" class=\"edge\">\n<title>fake-&gt;available</title>\n<path fill=\"none\" stroke=\"black\" stroke-width=\"2\" d=\"M54.32,-72.67C61.93,-72.67 70.55,-72.67 79.26,-72.67\"/>\n<polygon fill=\"black\" stroke=\"black\" stroke-width=\"2\" points=\"77.65,-76.17 87.65,-72.67 77.65,-69.17 77.65,-76.17\"/>\n</g>\n<!-- broken -->\n<g id=\"node2\" class=\"node\">\n<title>broken</title>\n<ellipse fill=\"none\" stroke=\"black\" cx=\"441.59\" cy=\"-121.67\" rx=\"36.29\" ry=\"36.29\"/>\n<text text-anchor=\"middle\" x=\"441.59\" y=\"-117.97\" font-family=\"Times New Roman,serif\" font-size=\"14.00\">broken</text>\n</g>\n<!-- broken&#45;&gt;available -->\n<g id=\"edge4\" class=\"edge\">\n<title>broken-&gt;available</title>\n<path fill=\"none\" stroke=\"black\" d=\"M411.92,-100.43C404.24,-95.75 395.71,-91.39 387.19,-88.67 352.53,-77.62 256.3,-74.18 193.96,-73.12\"/>\n<polygon fill=\"black\" stroke=\"black\" points=\"194.3,-69.63 184.25,-72.98 194.2,-76.63 194.3,-69.63\"/>\n<text text-anchor=\"middle\" x=\"293.69\" y=\"-92.47\" font-family=\"Times New Roman,serif\" font-size=\"14.00\">check_resist_stripping, 1.0, -10.0</text>\n</g>\n<!-- available&#45;&gt;broken -->\n<g id=\"edge3\" class=\"edge\">\n<title>available-&gt;broken</title>\n<path fill=\"none\" stroke=\"black\" d=\"M175.46,-97.39C183.35,-101.51 191.83,-105.23 200.19,-107.67 265.4,-126.71 344.67,-127.22 393.88,-125.05\"/>\n<polygon fill=\"black\" stroke=\"black\" points=\"393.8,-128.56 403.61,-124.57 393.45,-121.57 393.8,-128.56\"/>\n<text text-anchor=\"middle\" x=\"293.69\" y=\"-129.47\" font-family=\"Times New Roman,serif\" font-size=\"14.00\">resist_stripping, 0.05, -1.0</text>\n</g>\n<!-- done -->\n<g id=\"node4\" class=\"node\">\n<title>done</title>\n<ellipse fill=\"none\" stroke=\"black\" cx=\"441.59\" cy=\"-30.67\" rx=\"28.7\" ry=\"28.7\"/>\n<text text-anchor=\"middle\" x=\"441.59\" y=\"-26.97\" font-family=\"Times New Roman,serif\" font-size=\"14.00\">done</text>\n</g>\n<!-- available&#45;&gt;done -->\n<g id=\"edge2\" class=\"edge\">\n<title>available-&gt;done</title>\n<path fill=\"none\" stroke=\"black\" d=\"M180.45,-59.25C187.02,-57.51 193.75,-55.91 200.19,-54.67 270.25,-41.22 353.33,-35.05 401.21,-32.42\"/>\n<polygon fill=\"black\" stroke=\"black\" points=\"401.28,-35.92 411.08,-31.91 400.91,-28.93 401.28,-35.92\"/>\n<text text-anchor=\"middle\" x=\"293.69\" y=\"-58.47\" font-family=\"Times New Roman,serif\" font-size=\"14.00\">resist_stripping, 0.95, -1.0</text>\n</g>\n<!-- done&#45;&gt;available -->\n<g id=\"edge5\" class=\"edge\">\n<title>done-&gt;available</title>\n<path fill=\"none\" stroke=\"black\" d=\"M413.85,-21.7C368.23,-7.94 273.21,13.95 200.19,-14.67 191.17,-18.21 182.67,-23.73 175.02,-29.98\"/>\n<polygon fill=\"black\" stroke=\"black\" points=\"172.74,-27.33 167.58,-36.58 177.38,-32.56 172.74,-27.33\"/>\n<text text-anchor=\"middle\" x=\"293.69\" y=\"-18.47\" font-family=\"Times New Roman,serif\" font-size=\"14.00\">check_resist_stripping, 1.0, 0.0</text>\n</g>\n</g>\n</svg>"
     },
     "metadata": {},
     "output_type": "display_data"
    }
   ],
   "source": [
    "def resist_stripping_service(name: str, broken_prob: float, broken_reward: float, action_reward: float) -> Service:\n",
    "    \"\"\"Build the resist stripping device.\"\"\"\n",
    "    return build_generic_breakable_service(name, RESIST_STRIPPING, broken_prob=broken_prob, broken_reward=broken_reward,\n",
    "                                           action_reward=action_reward)\n",
    "\n",
    "\n",
    "service_resist_stripping = resist_stripping_service(RESIST_STRIPPING_SERVICE_NAME, DEFAULT_BROKEN_PROB,\n",
    "                                                     DEFAULT_BROKEN_REWARD, USA_REWARD)\n",
    "render_service(service_resist_stripping)"
   ]
  },
  {
   "cell_type": "code",
   "execution_count": 29,
   "metadata": {},
   "outputs": [
    {
     "data": {
      "text/plain": "<IPython.core.display.SVG object>",
      "image/svg+xml": "<svg xmlns=\"http://www.w3.org/2000/svg\" xmlns:xlink=\"http://www.w3.org/1999/xlink\" width=\"187pt\" height=\"110pt\" viewBox=\"0.00 0.00 186.55 110.09\">\n<g id=\"graph0\" class=\"graph\" transform=\"scale(1 1) rotate(0) translate(4 106.09)\">\n<polygon fill=\"white\" stroke=\"none\" points=\"-4,4 -4,-106.09 182.55,-106.09 182.55,4 -4,4\"/>\n<!-- fake -->\n<g id=\"node1\" class=\"node\">\n<title>fake</title>\n</g>\n<!-- ready -->\n<g id=\"node2\" class=\"node\">\n<title>ready</title>\n<ellipse fill=\"none\" stroke=\"black\" cx=\"125.55\" cy=\"-34.55\" rx=\"30.59\" ry=\"30.59\"/>\n<ellipse fill=\"none\" stroke=\"black\" cx=\"125.55\" cy=\"-34.55\" rx=\"34.59\" ry=\"34.59\"/>\n<text text-anchor=\"middle\" x=\"125.55\" y=\"-30.85\" font-family=\"Times New Roman,serif\" font-size=\"14.00\">ready</text>\n</g>\n<!-- fake&#45;&gt;ready -->\n<g id=\"edge1\" class=\"edge\">\n<title>fake-&gt;ready</title>\n<path fill=\"none\" stroke=\"black\" stroke-width=\"2\" d=\"M54.38,-34.55C62.06,-34.55 70.67,-34.55 79.17,-34.55\"/>\n<polygon fill=\"black\" stroke=\"black\" stroke-width=\"2\" points=\"77.55,-38.05 87.55,-34.55 77.55,-31.05 77.55,-38.05\"/>\n</g>\n<!-- ready&#45;&gt;ready -->\n<g id=\"edge2\" class=\"edge\">\n<title>ready-&gt;ready</title>\n<path fill=\"none\" stroke=\"black\" d=\"M115.61,-68.16C115.76,-78.74 119.07,-87.09 125.55,-87.09 129.49,-87.09 132.27,-83.99 133.86,-79.17\"/>\n<polygon fill=\"black\" stroke=\"black\" points=\"137.27,-80.06 135.27,-69.65 130.35,-79.03 137.27,-80.06\"/>\n<text text-anchor=\"middle\" x=\"125.55\" y=\"-90.89\" font-family=\"Times New Roman,serif\" font-size=\"14.00\">assembly, 1.0, -1.0</text>\n</g>\n</g>\n</svg>"
     },
     "metadata": {},
     "output_type": "display_data"
    }
   ],
   "source": [
    "def assembly_service(name: str = ASSEMBLY_SERVICE_NAME, action_reward: float = USA_REWARD) -> Service:\n",
    "    \"\"\"Build the human assembly device.\"\"\"\n",
    "    return build_generic_service_one_state(\n",
    "        name,\n",
    "        {ASSEMBLY},\n",
    "        action_reward=action_reward\n",
    "    )\n",
    "\n",
    "\n",
    "service_assembly = assembly_service()\n",
    "render_service(service_assembly)"
   ]
  },
  {
   "cell_type": "code",
   "execution_count": 30,
   "metadata": {},
   "outputs": [
    {
     "data": {
      "text/plain": "<IPython.core.display.SVG object>",
      "image/svg+xml": "<svg xmlns=\"http://www.w3.org/2000/svg\" xmlns:xlink=\"http://www.w3.org/1999/xlink\" width=\"179pt\" height=\"110pt\" viewBox=\"0.00 0.00 179.05 110.09\">\n<g id=\"graph0\" class=\"graph\" transform=\"scale(1 1) rotate(0) translate(4 106.09)\">\n<polygon fill=\"white\" stroke=\"none\" points=\"-4,4 -4,-106.09 175.05,-106.09 175.05,4 -4,4\"/>\n<!-- fake -->\n<g id=\"node1\" class=\"node\">\n<title>fake</title>\n</g>\n<!-- ready -->\n<g id=\"node2\" class=\"node\">\n<title>ready</title>\n<ellipse fill=\"none\" stroke=\"black\" cx=\"125.55\" cy=\"-34.55\" rx=\"30.59\" ry=\"30.59\"/>\n<ellipse fill=\"none\" stroke=\"black\" cx=\"125.55\" cy=\"-34.55\" rx=\"34.59\" ry=\"34.59\"/>\n<text text-anchor=\"middle\" x=\"125.55\" y=\"-30.85\" font-family=\"Times New Roman,serif\" font-size=\"14.00\">ready</text>\n</g>\n<!-- fake&#45;&gt;ready -->\n<g id=\"edge1\" class=\"edge\">\n<title>fake-&gt;ready</title>\n<path fill=\"none\" stroke=\"black\" stroke-width=\"2\" d=\"M54.38,-34.55C62.06,-34.55 70.67,-34.55 79.17,-34.55\"/>\n<polygon fill=\"black\" stroke=\"black\" stroke-width=\"2\" points=\"77.55,-38.05 87.55,-34.55 77.55,-31.05 77.55,-38.05\"/>\n</g>\n<!-- ready&#45;&gt;ready -->\n<g id=\"edge2\" class=\"edge\">\n<title>ready-&gt;ready</title>\n<path fill=\"none\" stroke=\"black\" d=\"M115.61,-68.16C115.76,-78.74 119.07,-87.09 125.55,-87.09 129.49,-87.09 132.27,-83.99 133.86,-79.17\"/>\n<polygon fill=\"black\" stroke=\"black\" points=\"137.27,-80.06 135.27,-69.65 130.35,-79.03 137.27,-80.06\"/>\n<text text-anchor=\"middle\" x=\"125.55\" y=\"-90.89\" font-family=\"Times New Roman,serif\" font-size=\"14.00\">testing, 1.0, -1.0</text>\n</g>\n</g>\n</svg>"
     },
     "metadata": {},
     "output_type": "display_data"
    }
   ],
   "source": [
    "def testing_service(name: str = TESTING_SERVICE_NAME, action_reward: float = USA_REWARD) -> Service:\n",
    "    \"\"\"Build the human testing device.\"\"\"\n",
    "    return build_generic_service_one_state(\n",
    "        name,\n",
    "        {TESTING},\n",
    "        action_reward=action_reward\n",
    "    )\n",
    "\n",
    "\n",
    "service_testing = testing_service()\n",
    "render_service(service_testing)\n"
   ]
  },
  {
   "cell_type": "code",
   "execution_count": 31,
   "metadata": {},
   "outputs": [
    {
     "data": {
      "text/plain": "<IPython.core.display.SVG object>",
      "image/svg+xml": "<svg xmlns=\"http://www.w3.org/2000/svg\" xmlns:xlink=\"http://www.w3.org/1999/xlink\" width=\"189pt\" height=\"110pt\" viewBox=\"0.00 0.00 189.05 110.09\">\n<g id=\"graph0\" class=\"graph\" transform=\"scale(1 1) rotate(0) translate(4 106.09)\">\n<polygon fill=\"white\" stroke=\"none\" points=\"-4,4 -4,-106.09 185.05,-106.09 185.05,4 -4,4\"/>\n<!-- fake -->\n<g id=\"node1\" class=\"node\">\n<title>fake</title>\n</g>\n<!-- ready -->\n<g id=\"node2\" class=\"node\">\n<title>ready</title>\n<ellipse fill=\"none\" stroke=\"black\" cx=\"125.55\" cy=\"-34.55\" rx=\"30.59\" ry=\"30.59\"/>\n<ellipse fill=\"none\" stroke=\"black\" cx=\"125.55\" cy=\"-34.55\" rx=\"34.59\" ry=\"34.59\"/>\n<text text-anchor=\"middle\" x=\"125.55\" y=\"-30.85\" font-family=\"Times New Roman,serif\" font-size=\"14.00\">ready</text>\n</g>\n<!-- fake&#45;&gt;ready -->\n<g id=\"edge1\" class=\"edge\">\n<title>fake-&gt;ready</title>\n<path fill=\"none\" stroke=\"black\" stroke-width=\"2\" d=\"M54.38,-34.55C62.06,-34.55 70.67,-34.55 79.17,-34.55\"/>\n<polygon fill=\"black\" stroke=\"black\" stroke-width=\"2\" points=\"77.55,-38.05 87.55,-34.55 77.55,-31.05 77.55,-38.05\"/>\n</g>\n<!-- ready&#45;&gt;ready -->\n<g id=\"edge2\" class=\"edge\">\n<title>ready-&gt;ready</title>\n<path fill=\"none\" stroke=\"black\" d=\"M115.61,-68.16C115.76,-78.74 119.07,-87.09 125.55,-87.09 129.49,-87.09 132.27,-83.99 133.86,-79.17\"/>\n<polygon fill=\"black\" stroke=\"black\" points=\"137.27,-80.06 135.27,-69.65 130.35,-79.03 137.27,-80.06\"/>\n<text text-anchor=\"middle\" x=\"125.55\" y=\"-90.89\" font-family=\"Times New Roman,serif\" font-size=\"14.00\">packaging, 1.0, -1.0</text>\n</g>\n</g>\n</svg>"
     },
     "metadata": {},
     "output_type": "display_data"
    }
   ],
   "source": [
    "def packaging_service(name: str = PACKAGING_SERVICE_NAME, action_reward: float = USA_REWARD) -> Service:\n",
    "    \"\"\"Build the human packaging device.\"\"\"\n",
    "    return build_generic_service_one_state(\n",
    "        name,\n",
    "        {PACKAGING},\n",
    "        action_reward=action_reward\n",
    "    )\n",
    "\n",
    "\n",
    "service_packaging = packaging_service()\n",
    "render_service(service_packaging)"
   ]
  },
  {
   "cell_type": "markdown",
   "metadata": {},
   "source": [
    "# First Phase - Raw materials and design assortment\n",
    "## Target Specification\n",
    "The target specification of the first phase is defined as follows:"
   ]
  },
  {
   "cell_type": "code",
   "execution_count": 69,
   "metadata": {},
   "outputs": [
    {
     "data": {
      "text/plain": "<IPython.core.display.SVG object>",
      "image/svg+xml": "<svg xmlns=\"http://www.w3.org/2000/svg\" xmlns:xlink=\"http://www.w3.org/1999/xlink\" width=\"2047pt\" height=\"74pt\" viewBox=\"0.00 0.00 2047.00 74.00\">\n<g id=\"graph0\" class=\"graph\" transform=\"scale(1 1) rotate(0) translate(4 70)\">\n<polygon fill=\"white\" stroke=\"none\" points=\"-4,4 -4,-70 2043,-70 2043,4 -4,4\"/>\n<!-- fake -->\n<g id=\"node1\" class=\"node\">\n<title>fake</title>\n</g>\n<!-- 0 -->\n<g id=\"node2\" class=\"node\">\n<title>0</title>\n<polygon fill=\"none\" stroke=\"black\" points=\"145,-36 91,-36 91,0 145,0 145,-36\"/>\n<text text-anchor=\"middle\" x=\"118\" y=\"-14.3\" font-family=\"Times New Roman,serif\" font-size=\"14.00\">0</text>\n</g>\n<!-- fake&#45;&gt;0 -->\n<g id=\"edge1\" class=\"edge\">\n<title>fake-&gt;0</title>\n<path fill=\"none\" stroke=\"black\" stroke-width=\"2\" d=\"M54.22,-18C62.12,-18 70.94,-18 79.43,-18\"/>\n<polygon fill=\"black\" stroke=\"black\" stroke-width=\"2\" points=\"77.63,-21.5 87.63,-18 77.63,-14.5 77.63,-21.5\"/>\n</g>\n<!-- 2 -->\n<g id=\"node3\" class=\"node\">\n<title>2</title>\n<polygon fill=\"none\" stroke=\"black\" points=\"374,-66 320,-66 320,-30 374,-30 374,-66\"/>\n<text text-anchor=\"middle\" x=\"347\" y=\"-44.3\" font-family=\"Times New Roman,serif\" font-size=\"14.00\">2</text>\n</g>\n<!-- 0&#45;&gt;2 -->\n<g id=\"edge2\" class=\"edge\">\n<title>0-&gt;2</title>\n<path fill=\"none\" stroke=\"black\" d=\"M145.48,-21.5C185.72,-26.82 262.43,-36.95 308.42,-43.03\"/>\n<polygon fill=\"black\" stroke=\"black\" points=\"307.81,-46.48 318.18,-44.32 308.73,-39.54 307.81,-46.48\"/>\n<text text-anchor=\"middle\" x=\"232.5\" y=\"-44.8\" font-family=\"Times New Roman,serif\" font-size=\"14.00\">pick_buy_design,0.0,1.0</text>\n</g>\n<!-- 3 -->\n<g id=\"node4\" class=\"node\">\n<title>3</title>\n<polygon fill=\"none\" stroke=\"black\" points=\"574,-66 520,-66 520,-30 574,-30 574,-66\"/>\n<text text-anchor=\"middle\" x=\"547\" y=\"-44.3\" font-family=\"Times New Roman,serif\" font-size=\"14.00\">3</text>\n</g>\n<!-- 2&#45;&gt;3 -->\n<g id=\"edge3\" class=\"edge\">\n<title>2-&gt;3</title>\n<path fill=\"none\" stroke=\"black\" d=\"M374.29,-48C408.61,-48 468.91,-48 508.15,-48\"/>\n<polygon fill=\"black\" stroke=\"black\" points=\"508.08,-51.5 518.08,-48 508.08,-44.5 508.08,-51.5\"/>\n<text text-anchor=\"middle\" x=\"447\" y=\"-51.8\" font-family=\"Times New Roman,serif\" font-size=\"14.00\">pick_silicon,0.0,1.0</text>\n</g>\n<!-- 4 -->\n<g id=\"node5\" class=\"node\">\n<title>4</title>\n<polygon fill=\"none\" stroke=\"black\" points=\"769,-66 715,-66 715,-30 769,-30 769,-66\"/>\n<text text-anchor=\"middle\" x=\"742\" y=\"-44.3\" font-family=\"Times New Roman,serif\" font-size=\"14.00\">4</text>\n</g>\n<!-- 3&#45;&gt;4 -->\n<g id=\"edge4\" class=\"edge\">\n<title>3-&gt;4</title>\n<path fill=\"none\" stroke=\"black\" d=\"M574.43,-48C607.83,-48 665.53,-48 703.48,-48\"/>\n<polygon fill=\"black\" stroke=\"black\" points=\"703.07,-51.5 713.07,-48 703.07,-44.5 703.07,-51.5\"/>\n<text text-anchor=\"middle\" x=\"644.5\" y=\"-51.8\" font-family=\"Times New Roman,serif\" font-size=\"14.00\">pick_wafer,0.0,1.0</text>\n</g>\n<!-- 5 -->\n<g id=\"node6\" class=\"node\">\n<title>5</title>\n<polygon fill=\"none\" stroke=\"black\" points=\"967,-66 913,-66 913,-30 967,-30 967,-66\"/>\n<text text-anchor=\"middle\" x=\"940\" y=\"-44.3\" font-family=\"Times New Roman,serif\" font-size=\"14.00\">5</text>\n</g>\n<!-- 4&#45;&gt;5 -->\n<g id=\"edge5\" class=\"edge\">\n<title>4-&gt;5</title>\n<path fill=\"none\" stroke=\"black\" d=\"M769.43,-48C803.43,-48 862.69,-48 901.38,-48\"/>\n<polygon fill=\"black\" stroke=\"black\" points=\"901.16,-51.5 911.16,-48 901.16,-44.5 901.16,-51.5\"/>\n<text text-anchor=\"middle\" x=\"841\" y=\"-51.8\" font-family=\"Times New Roman,serif\" font-size=\"14.00\">pick_boron,0.0,1.0</text>\n</g>\n<!-- 6 -->\n<g id=\"node7\" class=\"node\">\n<title>6</title>\n<polygon fill=\"none\" stroke=\"black\" points=\"1210,-66 1156,-66 1156,-30 1210,-30 1210,-66\"/>\n<text text-anchor=\"middle\" x=\"1183\" y=\"-44.3\" font-family=\"Times New Roman,serif\" font-size=\"14.00\">6</text>\n</g>\n<!-- 5&#45;&gt;6 -->\n<g id=\"edge6\" class=\"edge\">\n<title>5-&gt;6</title>\n<path fill=\"none\" stroke=\"black\" d=\"M967.25,-48C1010.08,-48 1095.13,-48 1144.38,-48\"/>\n<polygon fill=\"black\" stroke=\"black\" points=\"1144.27,-51.5 1154.27,-48 1144.27,-44.5 1144.27,-51.5\"/>\n<text text-anchor=\"middle\" x=\"1061.5\" y=\"-51.8\" font-family=\"Times New Roman,serif\" font-size=\"14.00\">pick_phosphor,0.0,1.0</text>\n</g>\n<!-- 7 -->\n<g id=\"node8\" class=\"node\">\n<title>7</title>\n<polygon fill=\"none\" stroke=\"black\" points=\"1427,-66 1373,-66 1373,-30 1427,-30 1427,-66\"/>\n<text text-anchor=\"middle\" x=\"1400\" y=\"-44.3\" font-family=\"Times New Roman,serif\" font-size=\"14.00\">7</text>\n</g>\n<!-- 6&#45;&gt;7 -->\n<g id=\"edge7\" class=\"edge\">\n<title>6-&gt;7</title>\n<path fill=\"none\" stroke=\"black\" d=\"M1210.36,-48C1248.18,-48 1318.04,-48 1361.31,-48\"/>\n<polygon fill=\"black\" stroke=\"black\" points=\"1361.24,-51.5 1371.24,-48 1361.24,-44.5 1361.24,-51.5\"/>\n<text text-anchor=\"middle\" x=\"1291.5\" y=\"-51.8\" font-family=\"Times New Roman,serif\" font-size=\"14.00\">pick_aluminum,0.0,1.0</text>\n</g>\n<!-- 8 -->\n<g id=\"node9\" class=\"node\">\n<title>8</title>\n<polygon fill=\"none\" stroke=\"black\" points=\"1620,-66 1566,-66 1566,-30 1620,-30 1620,-66\"/>\n<text text-anchor=\"middle\" x=\"1593\" y=\"-44.3\" font-family=\"Times New Roman,serif\" font-size=\"14.00\">8</text>\n</g>\n<!-- 7&#45;&gt;8 -->\n<g id=\"edge8\" class=\"edge\">\n<title>7-&gt;8</title>\n<path fill=\"none\" stroke=\"black\" d=\"M1427.16,-48C1459.98,-48 1516.5,-48 1554.07,-48\"/>\n<polygon fill=\"black\" stroke=\"black\" points=\"1554.03,-51.5 1564.03,-48 1554.03,-44.5 1554.03,-51.5\"/>\n<text text-anchor=\"middle\" x=\"1496.5\" y=\"-51.8\" font-family=\"Times New Roman,serif\" font-size=\"14.00\">pick_resist,0.0,1.0</text>\n</g>\n<!-- 9 -->\n<g id=\"node10\" class=\"node\">\n<title>9</title>\n<polygon fill=\"none\" stroke=\"black\" points=\"1820,-66 1766,-66 1766,-30 1820,-30 1820,-66\"/>\n<text text-anchor=\"middle\" x=\"1793\" y=\"-44.3\" font-family=\"Times New Roman,serif\" font-size=\"14.00\">9</text>\n</g>\n<!-- 8&#45;&gt;9 -->\n<g id=\"edge9\" class=\"edge\">\n<title>8-&gt;9</title>\n<path fill=\"none\" stroke=\"black\" d=\"M1620.29,-48C1654.61,-48 1714.91,-48 1754.15,-48\"/>\n<polygon fill=\"black\" stroke=\"black\" points=\"1754.08,-51.5 1764.08,-48 1754.08,-44.5 1754.08,-51.5\"/>\n<text text-anchor=\"middle\" x=\"1693\" y=\"-51.8\" font-family=\"Times New Roman,serif\" font-size=\"14.00\">pick_plastic,0.0,1.0</text>\n</g>\n<!-- 10 -->\n<g id=\"node11\" class=\"node\">\n<title>10</title>\n<polygon fill=\"none\" stroke=\"black\" points=\"2039,-36 1985,-36 1985,0 2039,0 2039,-36\"/>\n<text text-anchor=\"middle\" x=\"2012\" y=\"-14.3\" font-family=\"Times New Roman,serif\" font-size=\"14.00\">10</text>\n</g>\n<!-- 9&#45;&gt;10 -->\n<g id=\"edge10\" class=\"edge\">\n<title>9-&gt;10</title>\n<path fill=\"none\" stroke=\"black\" d=\"M1820.18,-44.38C1858.38,-39.1 1929.62,-29.25 1973.42,-23.19\"/>\n<polygon fill=\"black\" stroke=\"black\" points=\"1973.81,-26.68 1983.23,-21.84 1972.85,-19.74 1973.81,-26.68\"/>\n<text text-anchor=\"middle\" x=\"1902.5\" y=\"-44.8\" font-family=\"Times New Roman,serif\" font-size=\"14.00\">pick_chemicals,0.0,1.0</text>\n</g>\n<!-- 10&#45;&gt;0 -->\n<g id=\"edge11\" class=\"edge\">\n<title>10-&gt;0</title>\n<path fill=\"none\" stroke=\"black\" d=\"M1984.66,-14.8C1943.87,-10.13 1862.94,-2 1794,-2 346,-2 346,-2 346,-2 279.09,-2 201.36,-9 156.41,-13.74\"/>\n<polygon fill=\"black\" stroke=\"black\" points=\"156.25,-10.24 146.68,-14.79 157,-17.2 156.25,-10.24\"/>\n<text text-anchor=\"middle\" x=\"1061.5\" y=\"-5.8\" font-family=\"Times New Roman,serif\" font-size=\"14.00\">pick_copper_frame,1.0,1.0</text>\n</g>\n</g>\n</svg>"
     },
     "metadata": {},
     "output_type": "display_data"
    }
   ],
   "source": [
    "#constraints = [\n",
    "#    build_declare_assumption(set(SYMBOLS_PHASE_1)),\n",
    "#    *[exactly_once(x) for x in SYMBOLS_PHASE_1],\n",
    "#]\n",
    "#\n",
    "#for i in range(len(SYMBOLS_PHASE_1)-1):\n",
    "#    for j in range(i, len(SYMBOLS_PHASE_1)):\n",
    "#        if i == 9:\n",
    "#            constraints.append(alt_precedence(SYMBOLS_PHASE_1[i], SYMBOLS_PHASE_1[0]))\n",
    "#        else:\n",
    "#            constraints.append(alt_precedence(SYMBOLS_PHASE_1[i], SYMBOLS_PHASE_1[j]))\n",
    "#formula = pylogics.parsers.ltl.parse_ltl(\" & \".join(constraints))\n",
    "#automaton = logaut.core.ltl2dfa(formula, backend=\"lydia\")\n",
    "#declare_automaton = from_symbolic_automaton_to_declare_automaton(automaton, set(SYMBOLS_PHASE_1))\n",
    "#render_mdp_dfa(mdp_from_dfa(declare_automaton), no_sink=True)\n",
    "\n",
    "formula_str = \"<\"\n",
    "regex_seq = \"\"\n",
    "for symbol_index, symbol in enumerate(SYMBOLS_PHASE_1):\n",
    "    all_but_symbol = set(SYMBOLS_PHASE_1).difference({symbol})\n",
    "    item = symbol + \"&\" + \" & \".join(map(lambda x: \"!\" + x, all_but_symbol))\n",
    "    regex_seq = regex_seq + (\";\" if symbol_index != 0 else \"\") + item\n",
    "formula_str = f\"<({regex_seq})*>end\"\n",
    "formula = pylogics.parsers.ldl.parse_ldl(formula_str)\n",
    "automaton = logaut.core.ldl2dfa(formula, backend=\"lydia\")\n",
    "declare_automaton = from_symbolic_automaton_to_declare_automaton(automaton, set(SYMBOLS_PHASE_1))\n",
    "render_mdp_dfa(mdp_from_dfa(declare_automaton), no_sink=True)"
   ]
  },
  {
   "cell_type": "markdown",
   "metadata": {},
   "source": [
    "\n",
    "## Composition MDP\n",
    "The Composition MDP is constructed in this way:"
   ]
  },
  {
   "cell_type": "code",
   "execution_count": 70,
   "metadata": {},
   "outputs": [
    {
     "name": "stdout",
     "output_type": "stream",
     "text": [
      "Start build system service  1680192273304001100\n",
      "Stop build system service 1680192273304001100\n"
     ]
    },
    {
     "data": {
      "text/plain": "<IPython.core.display.SVG object>",
      "image/svg+xml": "<svg xmlns=\"http://www.w3.org/2000/svg\" xmlns:xlink=\"http://www.w3.org/1999/xlink\" width=\"20431pt\" height=\"559pt\" viewBox=\"0.00 0.00 20431.00 559.00\">\n<g id=\"graph0\" class=\"graph\" transform=\"scale(1 1) rotate(0) translate(4 555)\">\n<polygon fill=\"white\" stroke=\"none\" points=\"-4,4 -4,-555 20427,-555 20427,4 -4,4\"/>\n<!-- fake -->\n<g id=\"node1\" class=\"node\">\n<title>fake</title>\n</g>\n<!-- 0 -->\n<g id=\"node12\" class=\"node\">\n<title>0</title>\n<ellipse fill=\"none\" stroke=\"black\" cx=\"2977\" cy=\"-18\" rx=\"27\" ry=\"18\"/>\n<text text-anchor=\"middle\" x=\"2977\" y=\"-14.3\" font-family=\"Times New Roman,serif\" font-size=\"14.00\">0</text>\n</g>\n<!-- fake&#45;&gt;0 -->\n<g id=\"edge1\" class=\"edge\">\n<title>fake-&gt;0</title>\n<path fill=\"none\" stroke=\"black\" stroke-width=\"2\" d=\"M955.25,-18C1173.13,-18 2679.94,-18 2938.33,-18\"/>\n<polygon fill=\"black\" stroke=\"black\" stroke-width=\"2\" points=\"2936.66,-21.5 2946.66,-18 2936.66,-14.5 2936.66,-21.5\"/>\n</g>\n<!-- ((&#39;ready&#39;, &#39;ready&#39;, &#39;ready&#39;, &#39;ready&#39;, &#39;ready&#39;, &#39;ready&#39;, &#39;ready&#39;, &#39;ready&#39;, &#39;ready&#39;, &#39;ready&#39;, &#39;ready&#39;, &#39;ready&#39;, &#39;ready&#39;, &#39;ready&#39;, &#39;ready&#39;, &#39;ready&#39;, &#39;ready&#39;, &#39;ready&#39;, &#39;ready&#39;, &#39;ready&#39;, &#39;ready&#39;, &#39;ready&#39;, &#39;ready&#39;, &#39;ready&#39;, &#39;ready&#39;, &#39;ready&#39;, &#39;ready&#39;, &#39;ready&#39;, &#39;ready&#39;, &#39;ready&#39;, &#39;ready&#39;, &#39;ready&#39;, &#39;ready&#39;, &#39;ready&#39;, &#39;ready&#39;, &#39;ready&#39;, &#39;ready&#39;, &#39;ready&#39;, &#39;ready&#39;, &#39;ready&#39;, &#39;ready&#39;), 8) -->\n<g id=\"node2\" class=\"node\">\n<title>(('ready', 'ready', 'ready', 'ready', 'ready', 'ready', 'ready', 'ready', 'ready', 'ready', 'ready', 'ready', 'ready', 'ready', 'ready', 'ready', 'ready', 'ready', 'ready', 'ready', 'ready', 'ready', 'ready', 'ready', 'ready', 'ready', 'ready', 'ready', 'ready', 'ready', 'ready', 'ready', 'ready', 'ready', 'ready', 'ready', 'ready', 'ready', 'ready', 'ready', 'ready'), 8)</title>\n<polygon fill=\"none\" stroke=\"black\" points=\"1856,-215 0,-215 0,-179 1856,-179 1856,-215\"/>\n<text text-anchor=\"middle\" x=\"928\" y=\"-193.3\" font-family=\"Times New Roman,serif\" font-size=\"14.00\">(('ready', 'ready', 'ready', 'ready', 'ready', 'ready', 'ready', 'ready', 'ready', 'ready', 'ready', 'ready', 'ready', 'ready', 'ready', 'ready', 'ready', 'ready', 'ready', 'ready', 'ready', 'ready', 'ready', 'ready', 'ready', 'ready', 'ready', 'ready', 'ready', 'ready', 'ready', 'ready', 'ready', 'ready', 'ready', 'ready', 'ready', 'ready', 'ready', 'ready', 'ready'), 8)</text>\n</g>\n<!-- ((&#39;ready&#39;, &#39;ready&#39;, &#39;ready&#39;, &#39;ready&#39;, &#39;ready&#39;, &#39;ready&#39;, &#39;ready&#39;, &#39;ready&#39;, &#39;ready&#39;, &#39;ready&#39;, &#39;ready&#39;, &#39;ready&#39;, &#39;ready&#39;, &#39;ready&#39;, &#39;ready&#39;, &#39;ready&#39;, &#39;ready&#39;, &#39;ready&#39;, &#39;ready&#39;, &#39;ready&#39;, &#39;ready&#39;, &#39;ready&#39;, &#39;ready&#39;, &#39;ready&#39;, &#39;ready&#39;, &#39;ready&#39;, &#39;ready&#39;, &#39;ready&#39;, &#39;ready&#39;, &#39;ready&#39;, &#39;ready&#39;, &#39;ready&#39;, &#39;ready&#39;, &#39;ready&#39;, &#39;ready&#39;, &#39;ready&#39;, &#39;ready&#39;, &#39;ready&#39;, &#39;ready&#39;, &#39;ready&#39;, &#39;ready&#39;), 9) -->\n<g id=\"node9\" class=\"node\">\n<title>(('ready', 'ready', 'ready', 'ready', 'ready', 'ready', 'ready', 'ready', 'ready', 'ready', 'ready', 'ready', 'ready', 'ready', 'ready', 'ready', 'ready', 'ready', 'ready', 'ready', 'ready', 'ready', 'ready', 'ready', 'ready', 'ready', 'ready', 'ready', 'ready', 'ready', 'ready', 'ready', 'ready', 'ready', 'ready', 'ready', 'ready', 'ready', 'ready', 'ready', 'ready'), 9)</title>\n<polygon fill=\"none\" stroke=\"black\" points=\"3905,-331 2049,-331 2049,-295 3905,-295 3905,-331\"/>\n<text text-anchor=\"middle\" x=\"2977\" y=\"-309.3\" font-family=\"Times New Roman,serif\" font-size=\"14.00\">(('ready', 'ready', 'ready', 'ready', 'ready', 'ready', 'ready', 'ready', 'ready', 'ready', 'ready', 'ready', 'ready', 'ready', 'ready', 'ready', 'ready', 'ready', 'ready', 'ready', 'ready', 'ready', 'ready', 'ready', 'ready', 'ready', 'ready', 'ready', 'ready', 'ready', 'ready', 'ready', 'ready', 'ready', 'ready', 'ready', 'ready', 'ready', 'ready', 'ready', 'ready'), 9)</text>\n</g>\n<!-- ((&#39;ready&#39;, &#39;ready&#39;, &#39;ready&#39;, &#39;ready&#39;, &#39;ready&#39;, &#39;ready&#39;, &#39;ready&#39;, &#39;ready&#39;, &#39;ready&#39;, &#39;ready&#39;, &#39;ready&#39;, &#39;ready&#39;, &#39;ready&#39;, &#39;ready&#39;, &#39;ready&#39;, &#39;ready&#39;, &#39;ready&#39;, &#39;ready&#39;, &#39;ready&#39;, &#39;ready&#39;, &#39;ready&#39;, &#39;ready&#39;, &#39;ready&#39;, &#39;ready&#39;, &#39;ready&#39;, &#39;ready&#39;, &#39;ready&#39;, &#39;ready&#39;, &#39;ready&#39;, &#39;ready&#39;, &#39;ready&#39;, &#39;ready&#39;, &#39;ready&#39;, &#39;ready&#39;, &#39;ready&#39;, &#39;ready&#39;, &#39;ready&#39;, &#39;ready&#39;, &#39;ready&#39;, &#39;ready&#39;, &#39;ready&#39;), 8)&#45;&gt;((&#39;ready&#39;, &#39;ready&#39;, &#39;ready&#39;, &#39;ready&#39;, &#39;ready&#39;, &#39;ready&#39;, &#39;ready&#39;, &#39;ready&#39;, &#39;ready&#39;, &#39;ready&#39;, &#39;ready&#39;, &#39;ready&#39;, &#39;ready&#39;, &#39;ready&#39;, &#39;ready&#39;, &#39;ready&#39;, &#39;ready&#39;, &#39;ready&#39;, &#39;ready&#39;, &#39;ready&#39;, &#39;ready&#39;, &#39;ready&#39;, &#39;ready&#39;, &#39;ready&#39;, &#39;ready&#39;, &#39;ready&#39;, &#39;ready&#39;, &#39;ready&#39;, &#39;ready&#39;, &#39;ready&#39;, &#39;ready&#39;, &#39;ready&#39;, &#39;ready&#39;, &#39;ready&#39;, &#39;ready&#39;, &#39;ready&#39;, &#39;ready&#39;, &#39;ready&#39;, &#39;ready&#39;, &#39;ready&#39;, &#39;ready&#39;), 9) -->\n<g id=\"edge35\" class=\"edge\">\n<title>(('ready', 'ready', 'ready', 'ready', 'ready', 'ready', 'ready', 'ready', 'ready', 'ready', 'ready', 'ready', 'ready', 'ready', 'ready', 'ready', 'ready', 'ready', 'ready', 'ready', 'ready', 'ready', 'ready', 'ready', 'ready', 'ready', 'ready', 'ready', 'ready', 'ready', 'ready', 'ready', 'ready', 'ready', 'ready', 'ready', 'ready', 'ready', 'ready', 'ready', 'ready'), 8)-&gt;(('ready', 'ready', 'ready', 'ready', 'ready', 'ready', 'ready', 'ready', 'ready', 'ready', 'ready', 'ready', 'ready', 'ready', 'ready', 'ready', 'ready', 'ready', 'ready', 'ready', 'ready', 'ready', 'ready', 'ready', 'ready', 'ready', 'ready', 'ready', 'ready', 'ready', 'ready', 'ready', 'ready', 'ready', 'ready', 'ready', 'ready', 'ready', 'ready', 'ready', 'ready'), 9)</title>\n<path fill=\"none\" stroke=\"black\" d=\"M1056.27,-215.48C1237.42,-240.82 1580.26,-285.24 1874,-303 1927.27,-306.22 1982.01,-308.86 2037.27,-311\"/>\n<polygon fill=\"black\" stroke=\"black\" points=\"2037.06,-314.5 2047.18,-311.38 2037.32,-307.5 2037.06,-314.5\"/>\n<text text-anchor=\"middle\" x=\"1952.5\" y=\"-313.8\" font-family=\"Times New Roman,serif\" font-size=\"14.00\">('pick_plastic', 33),-11.7,1.0</text>\n</g>\n<!-- ((&#39;ready&#39;, &#39;ready&#39;, &#39;ready&#39;, &#39;ready&#39;, &#39;ready&#39;, &#39;ready&#39;, &#39;ready&#39;, &#39;ready&#39;, &#39;ready&#39;, &#39;ready&#39;, &#39;ready&#39;, &#39;ready&#39;, &#39;ready&#39;, &#39;ready&#39;, &#39;ready&#39;, &#39;ready&#39;, &#39;ready&#39;, &#39;ready&#39;, &#39;ready&#39;, &#39;ready&#39;, &#39;ready&#39;, &#39;ready&#39;, &#39;ready&#39;, &#39;ready&#39;, &#39;ready&#39;, &#39;ready&#39;, &#39;ready&#39;, &#39;ready&#39;, &#39;ready&#39;, &#39;ready&#39;, &#39;ready&#39;, &#39;ready&#39;, &#39;ready&#39;, &#39;ready&#39;, &#39;ready&#39;, &#39;ready&#39;, &#39;ready&#39;, &#39;ready&#39;, &#39;ready&#39;, &#39;ready&#39;, &#39;ready&#39;), 8)&#45;&gt;((&#39;ready&#39;, &#39;ready&#39;, &#39;ready&#39;, &#39;ready&#39;, &#39;ready&#39;, &#39;ready&#39;, &#39;ready&#39;, &#39;ready&#39;, &#39;ready&#39;, &#39;ready&#39;, &#39;ready&#39;, &#39;ready&#39;, &#39;ready&#39;, &#39;ready&#39;, &#39;ready&#39;, &#39;ready&#39;, &#39;ready&#39;, &#39;ready&#39;, &#39;ready&#39;, &#39;ready&#39;, &#39;ready&#39;, &#39;ready&#39;, &#39;ready&#39;, &#39;ready&#39;, &#39;ready&#39;, &#39;ready&#39;, &#39;ready&#39;, &#39;ready&#39;, &#39;ready&#39;, &#39;ready&#39;, &#39;ready&#39;, &#39;ready&#39;, &#39;ready&#39;, &#39;ready&#39;, &#39;ready&#39;, &#39;ready&#39;, &#39;ready&#39;, &#39;ready&#39;, &#39;ready&#39;, &#39;ready&#39;, &#39;ready&#39;), 9) -->\n<g id=\"edge36\" class=\"edge\">\n<title>(('ready', 'ready', 'ready', 'ready', 'ready', 'ready', 'ready', 'ready', 'ready', 'ready', 'ready', 'ready', 'ready', 'ready', 'ready', 'ready', 'ready', 'ready', 'ready', 'ready', 'ready', 'ready', 'ready', 'ready', 'ready', 'ready', 'ready', 'ready', 'ready', 'ready', 'ready', 'ready', 'ready', 'ready', 'ready', 'ready', 'ready', 'ready', 'ready', 'ready', 'ready'), 8)-&gt;(('ready', 'ready', 'ready', 'ready', 'ready', 'ready', 'ready', 'ready', 'ready', 'ready', 'ready', 'ready', 'ready', 'ready', 'ready', 'ready', 'ready', 'ready', 'ready', 'ready', 'ready', 'ready', 'ready', 'ready', 'ready', 'ready', 'ready', 'ready', 'ready', 'ready', 'ready', 'ready', 'ready', 'ready', 'ready', 'ready', 'ready', 'ready', 'ready', 'ready', 'ready'), 9)</title>\n<path fill=\"none\" stroke=\"black\" d=\"M1160.44,-215.49C1351.68,-230.33 1630.35,-250.93 1874,-265 2069.08,-276.27 2283.73,-286.18 2471.35,-294.02\"/>\n<polygon fill=\"black\" stroke=\"black\" points=\"2471.17,-297.52 2481.31,-294.44 2471.46,-290.52 2471.17,-297.52\"/>\n<text text-anchor=\"middle\" x=\"1952.5\" y=\"-276.8\" font-family=\"Times New Roman,serif\" font-size=\"14.00\">('pick_plastic', 34),-13.1,1.0</text>\n</g>\n<!-- ((&#39;ready&#39;, &#39;ready&#39;, &#39;ready&#39;, &#39;ready&#39;, &#39;ready&#39;, &#39;ready&#39;, &#39;ready&#39;, &#39;ready&#39;, &#39;ready&#39;, &#39;ready&#39;, &#39;ready&#39;, &#39;ready&#39;, &#39;ready&#39;, &#39;ready&#39;, &#39;ready&#39;, &#39;ready&#39;, &#39;ready&#39;, &#39;ready&#39;, &#39;ready&#39;, &#39;ready&#39;, &#39;ready&#39;, &#39;ready&#39;, &#39;ready&#39;, &#39;ready&#39;, &#39;ready&#39;, &#39;ready&#39;, &#39;ready&#39;, &#39;ready&#39;, &#39;ready&#39;, &#39;ready&#39;, &#39;ready&#39;, &#39;ready&#39;, &#39;ready&#39;, &#39;ready&#39;, &#39;ready&#39;, &#39;ready&#39;, &#39;ready&#39;, &#39;ready&#39;, &#39;ready&#39;, &#39;ready&#39;, &#39;ready&#39;), 7) -->\n<g id=\"node3\" class=\"node\">\n<title>(('ready', 'ready', 'ready', 'ready', 'ready', 'ready', 'ready', 'ready', 'ready', 'ready', 'ready', 'ready', 'ready', 'ready', 'ready', 'ready', 'ready', 'ready', 'ready', 'ready', 'ready', 'ready', 'ready', 'ready', 'ready', 'ready', 'ready', 'ready', 'ready', 'ready', 'ready', 'ready', 'ready', 'ready', 'ready', 'ready', 'ready', 'ready', 'ready', 'ready', 'ready'), 7)</title>\n<polygon fill=\"none\" stroke=\"black\" points=\"20423,-234 18567,-234 18567,-198 20423,-198 20423,-234\"/>\n<text text-anchor=\"middle\" x=\"19495\" y=\"-212.3\" font-family=\"Times New Roman,serif\" font-size=\"14.00\">(('ready', 'ready', 'ready', 'ready', 'ready', 'ready', 'ready', 'ready', 'ready', 'ready', 'ready', 'ready', 'ready', 'ready', 'ready', 'ready', 'ready', 'ready', 'ready', 'ready', 'ready', 'ready', 'ready', 'ready', 'ready', 'ready', 'ready', 'ready', 'ready', 'ready', 'ready', 'ready', 'ready', 'ready', 'ready', 'ready', 'ready', 'ready', 'ready', 'ready', 'ready'), 7)</text>\n</g>\n<!-- ((&#39;ready&#39;, &#39;ready&#39;, &#39;ready&#39;, &#39;ready&#39;, &#39;ready&#39;, &#39;ready&#39;, &#39;ready&#39;, &#39;ready&#39;, &#39;ready&#39;, &#39;ready&#39;, &#39;ready&#39;, &#39;ready&#39;, &#39;ready&#39;, &#39;ready&#39;, &#39;ready&#39;, &#39;ready&#39;, &#39;ready&#39;, &#39;ready&#39;, &#39;ready&#39;, &#39;ready&#39;, &#39;ready&#39;, &#39;ready&#39;, &#39;ready&#39;, &#39;ready&#39;, &#39;ready&#39;, &#39;ready&#39;, &#39;ready&#39;, &#39;ready&#39;, &#39;ready&#39;, &#39;ready&#39;, &#39;ready&#39;, &#39;ready&#39;, &#39;ready&#39;, &#39;ready&#39;, &#39;ready&#39;, &#39;ready&#39;, &#39;ready&#39;, &#39;ready&#39;, &#39;ready&#39;, &#39;ready&#39;, &#39;ready&#39;), 7)&#45;&gt;((&#39;ready&#39;, &#39;ready&#39;, &#39;ready&#39;, &#39;ready&#39;, &#39;ready&#39;, &#39;ready&#39;, &#39;ready&#39;, &#39;ready&#39;, &#39;ready&#39;, &#39;ready&#39;, &#39;ready&#39;, &#39;ready&#39;, &#39;ready&#39;, &#39;ready&#39;, &#39;ready&#39;, &#39;ready&#39;, &#39;ready&#39;, &#39;ready&#39;, &#39;ready&#39;, &#39;ready&#39;, &#39;ready&#39;, &#39;ready&#39;, &#39;ready&#39;, &#39;ready&#39;, &#39;ready&#39;, &#39;ready&#39;, &#39;ready&#39;, &#39;ready&#39;, &#39;ready&#39;, &#39;ready&#39;, &#39;ready&#39;, &#39;ready&#39;, &#39;ready&#39;, &#39;ready&#39;, &#39;ready&#39;, &#39;ready&#39;, &#39;ready&#39;, &#39;ready&#39;, &#39;ready&#39;, &#39;ready&#39;, &#39;ready&#39;), 8) -->\n<g id=\"edge29\" class=\"edge\">\n<title>(('ready', 'ready', 'ready', 'ready', 'ready', 'ready', 'ready', 'ready', 'ready', 'ready', 'ready', 'ready', 'ready', 'ready', 'ready', 'ready', 'ready', 'ready', 'ready', 'ready', 'ready', 'ready', 'ready', 'ready', 'ready', 'ready', 'ready', 'ready', 'ready', 'ready', 'ready', 'ready', 'ready', 'ready', 'ready', 'ready', 'ready', 'ready', 'ready', 'ready', 'ready'), 7)-&gt;(('ready', 'ready', 'ready', 'ready', 'ready', 'ready', 'ready', 'ready', 'ready', 'ready', 'ready', 'ready', 'ready', 'ready', 'ready', 'ready', 'ready', 'ready', 'ready', 'ready', 'ready', 'ready', 'ready', 'ready', 'ready', 'ready', 'ready', 'ready', 'ready', 'ready', 'ready', 'ready', 'ready', 'ready', 'ready', 'ready', 'ready', 'ready', 'ready', 'ready', 'ready'), 8)</title>\n<path fill=\"none\" stroke=\"black\" d=\"M18826.79,-234.5C18422.38,-244.16 17896.03,-254 17429,-254 2976,-254 2976,-254 2976,-254 2417.37,-254 1773.32,-232.53 1359.17,-215.94\"/>\n<polygon fill=\"black\" stroke=\"black\" points=\"1359.54,-212.45 1349.41,-215.55 1359.26,-219.45 1359.54,-212.45\"/>\n<text text-anchor=\"middle\" x=\"10235\" y=\"-257.8\" font-family=\"Times New Roman,serif\" font-size=\"14.00\">('pick_resist', 27),-1.0,1.0</text>\n</g>\n<!-- ((&#39;ready&#39;, &#39;ready&#39;, &#39;ready&#39;, &#39;ready&#39;, &#39;ready&#39;, &#39;ready&#39;, &#39;ready&#39;, &#39;ready&#39;, &#39;ready&#39;, &#39;ready&#39;, &#39;ready&#39;, &#39;ready&#39;, &#39;ready&#39;, &#39;ready&#39;, &#39;ready&#39;, &#39;ready&#39;, &#39;ready&#39;, &#39;ready&#39;, &#39;ready&#39;, &#39;ready&#39;, &#39;ready&#39;, &#39;ready&#39;, &#39;ready&#39;, &#39;ready&#39;, &#39;ready&#39;, &#39;ready&#39;, &#39;ready&#39;, &#39;ready&#39;, &#39;ready&#39;, &#39;ready&#39;, &#39;ready&#39;, &#39;ready&#39;, &#39;ready&#39;, &#39;ready&#39;, &#39;ready&#39;, &#39;ready&#39;, &#39;ready&#39;, &#39;ready&#39;, &#39;ready&#39;, &#39;ready&#39;, &#39;ready&#39;), 7)&#45;&gt;((&#39;ready&#39;, &#39;ready&#39;, &#39;ready&#39;, &#39;ready&#39;, &#39;ready&#39;, &#39;ready&#39;, &#39;ready&#39;, &#39;ready&#39;, &#39;ready&#39;, &#39;ready&#39;, &#39;ready&#39;, &#39;ready&#39;, &#39;ready&#39;, &#39;ready&#39;, &#39;ready&#39;, &#39;ready&#39;, &#39;ready&#39;, &#39;ready&#39;, &#39;ready&#39;, &#39;ready&#39;, &#39;ready&#39;, &#39;ready&#39;, &#39;ready&#39;, &#39;ready&#39;, &#39;ready&#39;, &#39;ready&#39;, &#39;ready&#39;, &#39;ready&#39;, &#39;ready&#39;, &#39;ready&#39;, &#39;ready&#39;, &#39;ready&#39;, &#39;ready&#39;, &#39;ready&#39;, &#39;ready&#39;, &#39;ready&#39;, &#39;ready&#39;, &#39;ready&#39;, &#39;ready&#39;, &#39;ready&#39;, &#39;ready&#39;), 8) -->\n<g id=\"edge30\" class=\"edge\">\n<title>(('ready', 'ready', 'ready', 'ready', 'ready', 'ready', 'ready', 'ready', 'ready', 'ready', 'ready', 'ready', 'ready', 'ready', 'ready', 'ready', 'ready', 'ready', 'ready', 'ready', 'ready', 'ready', 'ready', 'ready', 'ready', 'ready', 'ready', 'ready', 'ready', 'ready', 'ready', 'ready', 'ready', 'ready', 'ready', 'ready', 'ready', 'ready', 'ready', 'ready', 'ready'), 7)-&gt;(('ready', 'ready', 'ready', 'ready', 'ready', 'ready', 'ready', 'ready', 'ready', 'ready', 'ready', 'ready', 'ready', 'ready', 'ready', 'ready', 'ready', 'ready', 'ready', 'ready', 'ready', 'ready', 'ready', 'ready', 'ready', 'ready', 'ready', 'ready', 'ready', 'ready', 'ready', 'ready', 'ready', 'ready', 'ready', 'ready', 'ready', 'ready', 'ready', 'ready', 'ready'), 8)</title>\n<path fill=\"none\" stroke=\"black\" d=\"M18566.59,-216C18210.83,-216 17801.06,-216 17429,-216 2976,-216 2976,-216 2976,-216 2613.87,-216 2215.73,-212.99 1867.6,-209.37\"/>\n<polygon fill=\"black\" stroke=\"black\" points=\"1867.83,-205.87 1857.79,-209.26 1867.76,-212.87 1867.83,-205.87\"/>\n<text text-anchor=\"middle\" x=\"10235\" y=\"-219.8\" font-family=\"Times New Roman,serif\" font-size=\"14.00\">('pick_resist', 28),-8.0,1.0</text>\n</g>\n<!-- ((&#39;ready&#39;, &#39;ready&#39;, &#39;ready&#39;, &#39;ready&#39;, &#39;ready&#39;, &#39;ready&#39;, &#39;ready&#39;, &#39;ready&#39;, &#39;ready&#39;, &#39;ready&#39;, &#39;ready&#39;, &#39;ready&#39;, &#39;ready&#39;, &#39;ready&#39;, &#39;ready&#39;, &#39;ready&#39;, &#39;ready&#39;, &#39;ready&#39;, &#39;ready&#39;, &#39;ready&#39;, &#39;ready&#39;, &#39;ready&#39;, &#39;ready&#39;, &#39;ready&#39;, &#39;ready&#39;, &#39;ready&#39;, &#39;ready&#39;, &#39;ready&#39;, &#39;ready&#39;, &#39;ready&#39;, &#39;ready&#39;, &#39;ready&#39;, &#39;ready&#39;, &#39;ready&#39;, &#39;ready&#39;, &#39;ready&#39;, &#39;ready&#39;, &#39;ready&#39;, &#39;ready&#39;, &#39;ready&#39;, &#39;ready&#39;), 7)&#45;&gt;((&#39;ready&#39;, &#39;ready&#39;, &#39;ready&#39;, &#39;ready&#39;, &#39;ready&#39;, &#39;ready&#39;, &#39;ready&#39;, &#39;ready&#39;, &#39;ready&#39;, &#39;ready&#39;, &#39;ready&#39;, &#39;ready&#39;, &#39;ready&#39;, &#39;ready&#39;, &#39;ready&#39;, &#39;ready&#39;, &#39;ready&#39;, &#39;ready&#39;, &#39;ready&#39;, &#39;ready&#39;, &#39;ready&#39;, &#39;ready&#39;, &#39;ready&#39;, &#39;ready&#39;, &#39;ready&#39;, &#39;ready&#39;, &#39;ready&#39;, &#39;ready&#39;, &#39;ready&#39;, &#39;ready&#39;, &#39;ready&#39;, &#39;ready&#39;, &#39;ready&#39;, &#39;ready&#39;, &#39;ready&#39;, &#39;ready&#39;, &#39;ready&#39;, &#39;ready&#39;, &#39;ready&#39;, &#39;ready&#39;, &#39;ready&#39;), 8) -->\n<g id=\"edge31\" class=\"edge\">\n<title>(('ready', 'ready', 'ready', 'ready', 'ready', 'ready', 'ready', 'ready', 'ready', 'ready', 'ready', 'ready', 'ready', 'ready', 'ready', 'ready', 'ready', 'ready', 'ready', 'ready', 'ready', 'ready', 'ready', 'ready', 'ready', 'ready', 'ready', 'ready', 'ready', 'ready', 'ready', 'ready', 'ready', 'ready', 'ready', 'ready', 'ready', 'ready', 'ready', 'ready', 'ready'), 7)-&gt;(('ready', 'ready', 'ready', 'ready', 'ready', 'ready', 'ready', 'ready', 'ready', 'ready', 'ready', 'ready', 'ready', 'ready', 'ready', 'ready', 'ready', 'ready', 'ready', 'ready', 'ready', 'ready', 'ready', 'ready', 'ready', 'ready', 'ready', 'ready', 'ready', 'ready', 'ready', 'ready', 'ready', 'ready', 'ready', 'ready', 'ready', 'ready', 'ready', 'ready', 'ready'), 8)</title>\n<path fill=\"none\" stroke=\"black\" d=\"M18826.79,-197.5C18422.38,-187.84 17896.03,-178 17429,-178 2976,-178 2976,-178 2976,-178 2613.87,-178 2215.73,-181.01 1867.6,-184.63\"/>\n<polygon fill=\"black\" stroke=\"black\" points=\"1867.76,-181.13 1857.79,-184.74 1867.83,-188.13 1867.76,-181.13\"/>\n<text text-anchor=\"middle\" x=\"10235\" y=\"-181.8\" font-family=\"Times New Roman,serif\" font-size=\"14.00\">('pick_resist', 29),-13.1,1.0</text>\n</g>\n<!-- ((&#39;ready&#39;, &#39;ready&#39;, &#39;ready&#39;, &#39;ready&#39;, &#39;ready&#39;, &#39;ready&#39;, &#39;ready&#39;, &#39;ready&#39;, &#39;ready&#39;, &#39;ready&#39;, &#39;ready&#39;, &#39;ready&#39;, &#39;ready&#39;, &#39;ready&#39;, &#39;ready&#39;, &#39;ready&#39;, &#39;ready&#39;, &#39;ready&#39;, &#39;ready&#39;, &#39;ready&#39;, &#39;ready&#39;, &#39;ready&#39;, &#39;ready&#39;, &#39;ready&#39;, &#39;ready&#39;, &#39;ready&#39;, &#39;ready&#39;, &#39;ready&#39;, &#39;ready&#39;, &#39;ready&#39;, &#39;ready&#39;, &#39;ready&#39;, &#39;ready&#39;, &#39;ready&#39;, &#39;ready&#39;, &#39;ready&#39;, &#39;ready&#39;, &#39;ready&#39;, &#39;ready&#39;, &#39;ready&#39;, &#39;ready&#39;), 7)&#45;&gt;((&#39;ready&#39;, &#39;ready&#39;, &#39;ready&#39;, &#39;ready&#39;, &#39;ready&#39;, &#39;ready&#39;, &#39;ready&#39;, &#39;ready&#39;, &#39;ready&#39;, &#39;ready&#39;, &#39;ready&#39;, &#39;ready&#39;, &#39;ready&#39;, &#39;ready&#39;, &#39;ready&#39;, &#39;ready&#39;, &#39;ready&#39;, &#39;ready&#39;, &#39;ready&#39;, &#39;ready&#39;, &#39;ready&#39;, &#39;ready&#39;, &#39;ready&#39;, &#39;ready&#39;, &#39;ready&#39;, &#39;ready&#39;, &#39;ready&#39;, &#39;ready&#39;, &#39;ready&#39;, &#39;ready&#39;, &#39;ready&#39;, &#39;ready&#39;, &#39;ready&#39;, &#39;ready&#39;, &#39;ready&#39;, &#39;ready&#39;, &#39;ready&#39;, &#39;ready&#39;, &#39;ready&#39;, &#39;ready&#39;, &#39;ready&#39;), 8) -->\n<g id=\"edge32\" class=\"edge\">\n<title>(('ready', 'ready', 'ready', 'ready', 'ready', 'ready', 'ready', 'ready', 'ready', 'ready', 'ready', 'ready', 'ready', 'ready', 'ready', 'ready', 'ready', 'ready', 'ready', 'ready', 'ready', 'ready', 'ready', 'ready', 'ready', 'ready', 'ready', 'ready', 'ready', 'ready', 'ready', 'ready', 'ready', 'ready', 'ready', 'ready', 'ready', 'ready', 'ready', 'ready', 'ready'), 7)-&gt;(('ready', 'ready', 'ready', 'ready', 'ready', 'ready', 'ready', 'ready', 'ready', 'ready', 'ready', 'ready', 'ready', 'ready', 'ready', 'ready', 'ready', 'ready', 'ready', 'ready', 'ready', 'ready', 'ready', 'ready', 'ready', 'ready', 'ready', 'ready', 'ready', 'ready', 'ready', 'ready', 'ready', 'ready', 'ready', 'ready', 'ready', 'ready', 'ready', 'ready', 'ready'), 8)</title>\n<path fill=\"none\" stroke=\"black\" d=\"M19184.52,-197.51C18780.78,-175.01 18052.33,-140 17429,-140 2976,-140 2976,-140 2976,-140 2417.37,-140 1773.32,-161.47 1359.17,-178.06\"/>\n<polygon fill=\"black\" stroke=\"black\" points=\"1359.26,-174.55 1349.41,-178.45 1359.54,-181.55 1359.26,-174.55\"/>\n<text text-anchor=\"middle\" x=\"10235\" y=\"-143.8\" font-family=\"Times New Roman,serif\" font-size=\"14.00\">('pick_resist', 30),-1.8,1.0</text>\n</g>\n<!-- ((&#39;ready&#39;, &#39;ready&#39;, &#39;ready&#39;, &#39;ready&#39;, &#39;ready&#39;, &#39;ready&#39;, &#39;ready&#39;, &#39;ready&#39;, &#39;ready&#39;, &#39;ready&#39;, &#39;ready&#39;, &#39;ready&#39;, &#39;ready&#39;, &#39;ready&#39;, &#39;ready&#39;, &#39;ready&#39;, &#39;ready&#39;, &#39;ready&#39;, &#39;ready&#39;, &#39;ready&#39;, &#39;ready&#39;, &#39;ready&#39;, &#39;ready&#39;, &#39;ready&#39;, &#39;ready&#39;, &#39;ready&#39;, &#39;ready&#39;, &#39;ready&#39;, &#39;ready&#39;, &#39;ready&#39;, &#39;ready&#39;, &#39;ready&#39;, &#39;ready&#39;, &#39;ready&#39;, &#39;ready&#39;, &#39;ready&#39;, &#39;ready&#39;, &#39;ready&#39;, &#39;ready&#39;, &#39;ready&#39;, &#39;ready&#39;), 7)&#45;&gt;((&#39;ready&#39;, &#39;ready&#39;, &#39;ready&#39;, &#39;ready&#39;, &#39;ready&#39;, &#39;ready&#39;, &#39;ready&#39;, &#39;ready&#39;, &#39;ready&#39;, &#39;ready&#39;, &#39;ready&#39;, &#39;ready&#39;, &#39;ready&#39;, &#39;ready&#39;, &#39;ready&#39;, &#39;ready&#39;, &#39;ready&#39;, &#39;ready&#39;, &#39;ready&#39;, &#39;ready&#39;, &#39;ready&#39;, &#39;ready&#39;, &#39;ready&#39;, &#39;ready&#39;, &#39;ready&#39;, &#39;ready&#39;, &#39;ready&#39;, &#39;ready&#39;, &#39;ready&#39;, &#39;ready&#39;, &#39;ready&#39;, &#39;ready&#39;, &#39;ready&#39;, &#39;ready&#39;, &#39;ready&#39;, &#39;ready&#39;, &#39;ready&#39;, &#39;ready&#39;, &#39;ready&#39;, &#39;ready&#39;, &#39;ready&#39;), 8) -->\n<g id=\"edge33\" class=\"edge\">\n<title>(('ready', 'ready', 'ready', 'ready', 'ready', 'ready', 'ready', 'ready', 'ready', 'ready', 'ready', 'ready', 'ready', 'ready', 'ready', 'ready', 'ready', 'ready', 'ready', 'ready', 'ready', 'ready', 'ready', 'ready', 'ready', 'ready', 'ready', 'ready', 'ready', 'ready', 'ready', 'ready', 'ready', 'ready', 'ready', 'ready', 'ready', 'ready', 'ready', 'ready', 'ready'), 7)-&gt;(('ready', 'ready', 'ready', 'ready', 'ready', 'ready', 'ready', 'ready', 'ready', 'ready', 'ready', 'ready', 'ready', 'ready', 'ready', 'ready', 'ready', 'ready', 'ready', 'ready', 'ready', 'ready', 'ready', 'ready', 'ready', 'ready', 'ready', 'ready', 'ready', 'ready', 'ready', 'ready', 'ready', 'ready', 'ready', 'ready', 'ready', 'ready', 'ready', 'ready', 'ready'), 8)</title>\n<path fill=\"none\" stroke=\"black\" d=\"M19300.15,-197.52C19073.82,-176.68 18688.12,-143.42 18356,-126 17944.43,-104.41 17841.14,-102 17429,-102 2976,-102 2976,-102 2976,-102 2329.11,-102 1568.46,-149.93 1182.01,-177.7\"/>\n<polygon fill=\"black\" stroke=\"black\" points=\"1181.91,-174.2 1172.19,-178.41 1182.42,-181.18 1181.91,-174.2\"/>\n<text text-anchor=\"middle\" x=\"10235\" y=\"-105.8\" font-family=\"Times New Roman,serif\" font-size=\"14.00\">('pick_resist', 31),-7.6,1.0</text>\n</g>\n<!-- ((&#39;ready&#39;, &#39;ready&#39;, &#39;ready&#39;, &#39;ready&#39;, &#39;ready&#39;, &#39;ready&#39;, &#39;ready&#39;, &#39;ready&#39;, &#39;ready&#39;, &#39;ready&#39;, &#39;ready&#39;, &#39;ready&#39;, &#39;ready&#39;, &#39;ready&#39;, &#39;ready&#39;, &#39;ready&#39;, &#39;ready&#39;, &#39;ready&#39;, &#39;ready&#39;, &#39;ready&#39;, &#39;ready&#39;, &#39;ready&#39;, &#39;ready&#39;, &#39;ready&#39;, &#39;ready&#39;, &#39;ready&#39;, &#39;ready&#39;, &#39;ready&#39;, &#39;ready&#39;, &#39;ready&#39;, &#39;ready&#39;, &#39;ready&#39;, &#39;ready&#39;, &#39;ready&#39;, &#39;ready&#39;, &#39;ready&#39;, &#39;ready&#39;, &#39;ready&#39;, &#39;ready&#39;, &#39;ready&#39;, &#39;ready&#39;), 7)&#45;&gt;((&#39;ready&#39;, &#39;ready&#39;, &#39;ready&#39;, &#39;ready&#39;, &#39;ready&#39;, &#39;ready&#39;, &#39;ready&#39;, &#39;ready&#39;, &#39;ready&#39;, &#39;ready&#39;, &#39;ready&#39;, &#39;ready&#39;, &#39;ready&#39;, &#39;ready&#39;, &#39;ready&#39;, &#39;ready&#39;, &#39;ready&#39;, &#39;ready&#39;, &#39;ready&#39;, &#39;ready&#39;, &#39;ready&#39;, &#39;ready&#39;, &#39;ready&#39;, &#39;ready&#39;, &#39;ready&#39;, &#39;ready&#39;, &#39;ready&#39;, &#39;ready&#39;, &#39;ready&#39;, &#39;ready&#39;, &#39;ready&#39;, &#39;ready&#39;, &#39;ready&#39;, &#39;ready&#39;, &#39;ready&#39;, &#39;ready&#39;, &#39;ready&#39;, &#39;ready&#39;, &#39;ready&#39;, &#39;ready&#39;, &#39;ready&#39;), 8) -->\n<g id=\"edge34\" class=\"edge\">\n<title>(('ready', 'ready', 'ready', 'ready', 'ready', 'ready', 'ready', 'ready', 'ready', 'ready', 'ready', 'ready', 'ready', 'ready', 'ready', 'ready', 'ready', 'ready', 'ready', 'ready', 'ready', 'ready', 'ready', 'ready', 'ready', 'ready', 'ready', 'ready', 'ready', 'ready', 'ready', 'ready', 'ready', 'ready', 'ready', 'ready', 'ready', 'ready', 'ready', 'ready', 'ready'), 7)-&gt;(('ready', 'ready', 'ready', 'ready', 'ready', 'ready', 'ready', 'ready', 'ready', 'ready', 'ready', 'ready', 'ready', 'ready', 'ready', 'ready', 'ready', 'ready', 'ready', 'ready', 'ready', 'ready', 'ready', 'ready', 'ready', 'ready', 'ready', 'ready', 'ready', 'ready', 'ready', 'ready', 'ready', 'ready', 'ready', 'ready', 'ready', 'ready', 'ready', 'ready', 'ready'), 8)</title>\n<path fill=\"none\" stroke=\"black\" d=\"M19362.91,-197.54C19151.51,-168.6 18721.94,-113.27 18356,-88 17944.84,-59.61 17841.14,-64 17429,-64 2976,-64 2976,-64 2976,-64 2285.31,-64 1466.28,-140.33 1109.79,-177.34\"/>\n<polygon fill=\"black\" stroke=\"black\" points=\"1109.69,-173.83 1100.1,-178.35 1110.41,-180.8 1109.69,-173.83\"/>\n<text text-anchor=\"middle\" x=\"10235\" y=\"-67.8\" font-family=\"Times New Roman,serif\" font-size=\"14.00\">('pick_resist', 32),-8.38,1.0</text>\n</g>\n<!-- ((&#39;ready&#39;, &#39;ready&#39;, &#39;ready&#39;, &#39;ready&#39;, &#39;ready&#39;, &#39;ready&#39;, &#39;ready&#39;, &#39;ready&#39;, &#39;ready&#39;, &#39;ready&#39;, &#39;ready&#39;, &#39;ready&#39;, &#39;ready&#39;, &#39;ready&#39;, &#39;ready&#39;, &#39;ready&#39;, &#39;ready&#39;, &#39;ready&#39;, &#39;ready&#39;, &#39;ready&#39;, &#39;ready&#39;, &#39;ready&#39;, &#39;ready&#39;, &#39;ready&#39;, &#39;ready&#39;, &#39;ready&#39;, &#39;ready&#39;, &#39;ready&#39;, &#39;ready&#39;, &#39;ready&#39;, &#39;ready&#39;, &#39;ready&#39;, &#39;ready&#39;, &#39;ready&#39;, &#39;ready&#39;, &#39;ready&#39;, &#39;ready&#39;, &#39;ready&#39;, &#39;ready&#39;, &#39;ready&#39;, &#39;ready&#39;), 4) -->\n<g id=\"node4\" class=\"node\">\n<title>(('ready', 'ready', 'ready', 'ready', 'ready', 'ready', 'ready', 'ready', 'ready', 'ready', 'ready', 'ready', 'ready', 'ready', 'ready', 'ready', 'ready', 'ready', 'ready', 'ready', 'ready', 'ready', 'ready', 'ready', 'ready', 'ready', 'ready', 'ready', 'ready', 'ready', 'ready', 'ready', 'ready', 'ready', 'ready', 'ready', 'ready', 'ready', 'ready', 'ready', 'ready'), 4)</title>\n<polygon fill=\"none\" stroke=\"black\" points=\"14235,-435 12379,-435 12379,-399 14235,-399 14235,-435\"/>\n<text text-anchor=\"middle\" x=\"13307\" y=\"-413.3\" font-family=\"Times New Roman,serif\" font-size=\"14.00\">(('ready', 'ready', 'ready', 'ready', 'ready', 'ready', 'ready', 'ready', 'ready', 'ready', 'ready', 'ready', 'ready', 'ready', 'ready', 'ready', 'ready', 'ready', 'ready', 'ready', 'ready', 'ready', 'ready', 'ready', 'ready', 'ready', 'ready', 'ready', 'ready', 'ready', 'ready', 'ready', 'ready', 'ready', 'ready', 'ready', 'ready', 'ready', 'ready', 'ready', 'ready'), 4)</text>\n</g>\n<!-- ((&#39;ready&#39;, &#39;ready&#39;, &#39;ready&#39;, &#39;ready&#39;, &#39;ready&#39;, &#39;ready&#39;, &#39;ready&#39;, &#39;ready&#39;, &#39;ready&#39;, &#39;ready&#39;, &#39;ready&#39;, &#39;ready&#39;, &#39;ready&#39;, &#39;ready&#39;, &#39;ready&#39;, &#39;ready&#39;, &#39;ready&#39;, &#39;ready&#39;, &#39;ready&#39;, &#39;ready&#39;, &#39;ready&#39;, &#39;ready&#39;, &#39;ready&#39;, &#39;ready&#39;, &#39;ready&#39;, &#39;ready&#39;, &#39;ready&#39;, &#39;ready&#39;, &#39;ready&#39;, &#39;ready&#39;, &#39;ready&#39;, &#39;ready&#39;, &#39;ready&#39;, &#39;ready&#39;, &#39;ready&#39;, &#39;ready&#39;, &#39;ready&#39;, &#39;ready&#39;, &#39;ready&#39;, &#39;ready&#39;, &#39;ready&#39;), 5) -->\n<g id=\"node10\" class=\"node\">\n<title>(('ready', 'ready', 'ready', 'ready', 'ready', 'ready', 'ready', 'ready', 'ready', 'ready', 'ready', 'ready', 'ready', 'ready', 'ready', 'ready', 'ready', 'ready', 'ready', 'ready', 'ready', 'ready', 'ready', 'ready', 'ready', 'ready', 'ready', 'ready', 'ready', 'ready', 'ready', 'ready', 'ready', 'ready', 'ready', 'ready', 'ready', 'ready', 'ready', 'ready', 'ready'), 5)</title>\n<polygon fill=\"none\" stroke=\"black\" points=\"16289,-419 14433,-419 14433,-383 16289,-383 16289,-419\"/>\n<text text-anchor=\"middle\" x=\"15361\" y=\"-397.3\" font-family=\"Times New Roman,serif\" font-size=\"14.00\">(('ready', 'ready', 'ready', 'ready', 'ready', 'ready', 'ready', 'ready', 'ready', 'ready', 'ready', 'ready', 'ready', 'ready', 'ready', 'ready', 'ready', 'ready', 'ready', 'ready', 'ready', 'ready', 'ready', 'ready', 'ready', 'ready', 'ready', 'ready', 'ready', 'ready', 'ready', 'ready', 'ready', 'ready', 'ready', 'ready', 'ready', 'ready', 'ready', 'ready', 'ready'), 5)</text>\n</g>\n<!-- ((&#39;ready&#39;, &#39;ready&#39;, &#39;ready&#39;, &#39;ready&#39;, &#39;ready&#39;, &#39;ready&#39;, &#39;ready&#39;, &#39;ready&#39;, &#39;ready&#39;, &#39;ready&#39;, &#39;ready&#39;, &#39;ready&#39;, &#39;ready&#39;, &#39;ready&#39;, &#39;ready&#39;, &#39;ready&#39;, &#39;ready&#39;, &#39;ready&#39;, &#39;ready&#39;, &#39;ready&#39;, &#39;ready&#39;, &#39;ready&#39;, &#39;ready&#39;, &#39;ready&#39;, &#39;ready&#39;, &#39;ready&#39;, &#39;ready&#39;, &#39;ready&#39;, &#39;ready&#39;, &#39;ready&#39;, &#39;ready&#39;, &#39;ready&#39;, &#39;ready&#39;, &#39;ready&#39;, &#39;ready&#39;, &#39;ready&#39;, &#39;ready&#39;, &#39;ready&#39;, &#39;ready&#39;, &#39;ready&#39;, &#39;ready&#39;), 4)&#45;&gt;((&#39;ready&#39;, &#39;ready&#39;, &#39;ready&#39;, &#39;ready&#39;, &#39;ready&#39;, &#39;ready&#39;, &#39;ready&#39;, &#39;ready&#39;, &#39;ready&#39;, &#39;ready&#39;, &#39;ready&#39;, &#39;ready&#39;, &#39;ready&#39;, &#39;ready&#39;, &#39;ready&#39;, &#39;ready&#39;, &#39;ready&#39;, &#39;ready&#39;, &#39;ready&#39;, &#39;ready&#39;, &#39;ready&#39;, &#39;ready&#39;, &#39;ready&#39;, &#39;ready&#39;, &#39;ready&#39;, &#39;ready&#39;, &#39;ready&#39;, &#39;ready&#39;, &#39;ready&#39;, &#39;ready&#39;, &#39;ready&#39;, &#39;ready&#39;, &#39;ready&#39;, &#39;ready&#39;, &#39;ready&#39;, &#39;ready&#39;, &#39;ready&#39;, &#39;ready&#39;, &#39;ready&#39;, &#39;ready&#39;, &#39;ready&#39;), 5) -->\n<g id=\"edge15\" class=\"edge\">\n<title>(('ready', 'ready', 'ready', 'ready', 'ready', 'ready', 'ready', 'ready', 'ready', 'ready', 'ready', 'ready', 'ready', 'ready', 'ready', 'ready', 'ready', 'ready', 'ready', 'ready', 'ready', 'ready', 'ready', 'ready', 'ready', 'ready', 'ready', 'ready', 'ready', 'ready', 'ready', 'ready', 'ready', 'ready', 'ready', 'ready', 'ready', 'ready', 'ready', 'ready', 'ready'), 4)-&gt;(('ready', 'ready', 'ready', 'ready', 'ready', 'ready', 'ready', 'ready', 'ready', 'ready', 'ready', 'ready', 'ready', 'ready', 'ready', 'ready', 'ready', 'ready', 'ready', 'ready', 'ready', 'ready', 'ready', 'ready', 'ready', 'ready', 'ready', 'ready', 'ready', 'ready', 'ready', 'ready', 'ready', 'ready', 'ready', 'ready', 'ready', 'ready', 'ready', 'ready', 'ready'), 5)</title>\n<path fill=\"none\" stroke=\"black\" d=\"M13391.85,-435.49C13576.41,-474.02 14031.9,-557.23 14415,-531 14718.08,-510.25 15072.03,-452.49 15248.33,-421.41\"/>\n<polygon fill=\"black\" stroke=\"black\" points=\"15248.7,-424.9 15257.93,-419.71 15247.48,-418.01 15248.7,-424.9\"/>\n<text text-anchor=\"middle\" x=\"14334\" y=\"-539.8\" font-family=\"Times New Roman,serif\" font-size=\"14.00\">('pick_boron', 13),-11.7,1.0</text>\n</g>\n<!-- ((&#39;ready&#39;, &#39;ready&#39;, &#39;ready&#39;, &#39;ready&#39;, &#39;ready&#39;, &#39;ready&#39;, &#39;ready&#39;, &#39;ready&#39;, &#39;ready&#39;, &#39;ready&#39;, &#39;ready&#39;, &#39;ready&#39;, &#39;ready&#39;, &#39;ready&#39;, &#39;ready&#39;, &#39;ready&#39;, &#39;ready&#39;, &#39;ready&#39;, &#39;ready&#39;, &#39;ready&#39;, &#39;ready&#39;, &#39;ready&#39;, &#39;ready&#39;, &#39;ready&#39;, &#39;ready&#39;, &#39;ready&#39;, &#39;ready&#39;, &#39;ready&#39;, &#39;ready&#39;, &#39;ready&#39;, &#39;ready&#39;, &#39;ready&#39;, &#39;ready&#39;, &#39;ready&#39;, &#39;ready&#39;, &#39;ready&#39;, &#39;ready&#39;, &#39;ready&#39;, &#39;ready&#39;, &#39;ready&#39;, &#39;ready&#39;), 4)&#45;&gt;((&#39;ready&#39;, &#39;ready&#39;, &#39;ready&#39;, &#39;ready&#39;, &#39;ready&#39;, &#39;ready&#39;, &#39;ready&#39;, &#39;ready&#39;, &#39;ready&#39;, &#39;ready&#39;, &#39;ready&#39;, &#39;ready&#39;, &#39;ready&#39;, &#39;ready&#39;, &#39;ready&#39;, &#39;ready&#39;, &#39;ready&#39;, &#39;ready&#39;, &#39;ready&#39;, &#39;ready&#39;, &#39;ready&#39;, &#39;ready&#39;, &#39;ready&#39;, &#39;ready&#39;, &#39;ready&#39;, &#39;ready&#39;, &#39;ready&#39;, &#39;ready&#39;, &#39;ready&#39;, &#39;ready&#39;, &#39;ready&#39;, &#39;ready&#39;, &#39;ready&#39;, &#39;ready&#39;, &#39;ready&#39;, &#39;ready&#39;, &#39;ready&#39;, &#39;ready&#39;, &#39;ready&#39;, &#39;ready&#39;, &#39;ready&#39;), 5) -->\n<g id=\"edge16\" class=\"edge\">\n<title>(('ready', 'ready', 'ready', 'ready', 'ready', 'ready', 'ready', 'ready', 'ready', 'ready', 'ready', 'ready', 'ready', 'ready', 'ready', 'ready', 'ready', 'ready', 'ready', 'ready', 'ready', 'ready', 'ready', 'ready', 'ready', 'ready', 'ready', 'ready', 'ready', 'ready', 'ready', 'ready', 'ready', 'ready', 'ready', 'ready', 'ready', 'ready', 'ready', 'ready', 'ready'), 4)-&gt;(('ready', 'ready', 'ready', 'ready', 'ready', 'ready', 'ready', 'ready', 'ready', 'ready', 'ready', 'ready', 'ready', 'ready', 'ready', 'ready', 'ready', 'ready', 'ready', 'ready', 'ready', 'ready', 'ready', 'ready', 'ready', 'ready', 'ready', 'ready', 'ready', 'ready', 'ready', 'ready', 'ready', 'ready', 'ready', 'ready', 'ready', 'ready', 'ready', 'ready', 'ready'), 5)</title>\n<path fill=\"none\" stroke=\"black\" d=\"M13435.33,-435.45C13641.14,-463.09 14059.76,-510.25 14415,-493 14693.73,-479.46 15017.07,-443.6 15204.13,-420.85\"/>\n<polygon fill=\"black\" stroke=\"black\" points=\"15204.42,-424.35 15213.92,-419.66 15203.57,-417.4 15204.42,-424.35\"/>\n<text text-anchor=\"middle\" x=\"14334\" y=\"-499.8\" font-family=\"Times New Roman,serif\" font-size=\"14.00\">('pick_boron', 14),-1.0,1.0</text>\n</g>\n<!-- ((&#39;ready&#39;, &#39;ready&#39;, &#39;ready&#39;, &#39;ready&#39;, &#39;ready&#39;, &#39;ready&#39;, &#39;ready&#39;, &#39;ready&#39;, &#39;ready&#39;, &#39;ready&#39;, &#39;ready&#39;, &#39;ready&#39;, &#39;ready&#39;, &#39;ready&#39;, &#39;ready&#39;, &#39;ready&#39;, &#39;ready&#39;, &#39;ready&#39;, &#39;ready&#39;, &#39;ready&#39;, &#39;ready&#39;, &#39;ready&#39;, &#39;ready&#39;, &#39;ready&#39;, &#39;ready&#39;, &#39;ready&#39;, &#39;ready&#39;, &#39;ready&#39;, &#39;ready&#39;, &#39;ready&#39;, &#39;ready&#39;, &#39;ready&#39;, &#39;ready&#39;, &#39;ready&#39;, &#39;ready&#39;, &#39;ready&#39;, &#39;ready&#39;, &#39;ready&#39;, &#39;ready&#39;, &#39;ready&#39;, &#39;ready&#39;), 4)&#45;&gt;((&#39;ready&#39;, &#39;ready&#39;, &#39;ready&#39;, &#39;ready&#39;, &#39;ready&#39;, &#39;ready&#39;, &#39;ready&#39;, &#39;ready&#39;, &#39;ready&#39;, &#39;ready&#39;, &#39;ready&#39;, &#39;ready&#39;, &#39;ready&#39;, &#39;ready&#39;, &#39;ready&#39;, &#39;ready&#39;, &#39;ready&#39;, &#39;ready&#39;, &#39;ready&#39;, &#39;ready&#39;, &#39;ready&#39;, &#39;ready&#39;, &#39;ready&#39;, &#39;ready&#39;, &#39;ready&#39;, &#39;ready&#39;, &#39;ready&#39;, &#39;ready&#39;, &#39;ready&#39;, &#39;ready&#39;, &#39;ready&#39;, &#39;ready&#39;, &#39;ready&#39;, &#39;ready&#39;, &#39;ready&#39;, &#39;ready&#39;, &#39;ready&#39;, &#39;ready&#39;, &#39;ready&#39;, &#39;ready&#39;, &#39;ready&#39;), 5) -->\n<g id=\"edge17\" class=\"edge\">\n<title>(('ready', 'ready', 'ready', 'ready', 'ready', 'ready', 'ready', 'ready', 'ready', 'ready', 'ready', 'ready', 'ready', 'ready', 'ready', 'ready', 'ready', 'ready', 'ready', 'ready', 'ready', 'ready', 'ready', 'ready', 'ready', 'ready', 'ready', 'ready', 'ready', 'ready', 'ready', 'ready', 'ready', 'ready', 'ready', 'ready', 'ready', 'ready', 'ready', 'ready', 'ready'), 4)-&gt;(('ready', 'ready', 'ready', 'ready', 'ready', 'ready', 'ready', 'ready', 'ready', 'ready', 'ready', 'ready', 'ready', 'ready', 'ready', 'ready', 'ready', 'ready', 'ready', 'ready', 'ready', 'ready', 'ready', 'ready', 'ready', 'ready', 'ready', 'ready', 'ready', 'ready', 'ready', 'ready', 'ready', 'ready', 'ready', 'ready', 'ready', 'ready', 'ready', 'ready', 'ready'), 5)</title>\n<path fill=\"none\" stroke=\"black\" d=\"M13573.59,-435.48C13797.82,-448.84 14127.39,-463.21 14415,-455 14644.5,-448.45 14904.98,-432.96 15094.25,-420.25\"/>\n<polygon fill=\"black\" stroke=\"black\" points=\"15094.23,-423.76 15103.97,-419.59 15093.76,-416.77 15094.23,-423.76\"/>\n<text text-anchor=\"middle\" x=\"14334\" y=\"-460.8\" font-family=\"Times New Roman,serif\" font-size=\"14.00\">('pick_boron', 15),-7.8,1.0</text>\n</g>\n<!-- ((&#39;ready&#39;, &#39;ready&#39;, &#39;ready&#39;, &#39;ready&#39;, &#39;ready&#39;, &#39;ready&#39;, &#39;ready&#39;, &#39;ready&#39;, &#39;ready&#39;, &#39;ready&#39;, &#39;ready&#39;, &#39;ready&#39;, &#39;ready&#39;, &#39;ready&#39;, &#39;ready&#39;, &#39;ready&#39;, &#39;ready&#39;, &#39;ready&#39;, &#39;ready&#39;, &#39;ready&#39;, &#39;ready&#39;, &#39;ready&#39;, &#39;ready&#39;, &#39;ready&#39;, &#39;ready&#39;, &#39;ready&#39;, &#39;ready&#39;, &#39;ready&#39;, &#39;ready&#39;, &#39;ready&#39;, &#39;ready&#39;, &#39;ready&#39;, &#39;ready&#39;, &#39;ready&#39;, &#39;ready&#39;, &#39;ready&#39;, &#39;ready&#39;, &#39;ready&#39;, &#39;ready&#39;, &#39;ready&#39;, &#39;ready&#39;), 4)&#45;&gt;((&#39;ready&#39;, &#39;ready&#39;, &#39;ready&#39;, &#39;ready&#39;, &#39;ready&#39;, &#39;ready&#39;, &#39;ready&#39;, &#39;ready&#39;, &#39;ready&#39;, &#39;ready&#39;, &#39;ready&#39;, &#39;ready&#39;, &#39;ready&#39;, &#39;ready&#39;, &#39;ready&#39;, &#39;ready&#39;, &#39;ready&#39;, &#39;ready&#39;, &#39;ready&#39;, &#39;ready&#39;, &#39;ready&#39;, &#39;ready&#39;, &#39;ready&#39;, &#39;ready&#39;, &#39;ready&#39;, &#39;ready&#39;, &#39;ready&#39;, &#39;ready&#39;, &#39;ready&#39;, &#39;ready&#39;, &#39;ready&#39;, &#39;ready&#39;, &#39;ready&#39;, &#39;ready&#39;, &#39;ready&#39;, &#39;ready&#39;, &#39;ready&#39;, &#39;ready&#39;, &#39;ready&#39;, &#39;ready&#39;, &#39;ready&#39;), 5) -->\n<g id=\"edge18\" class=\"edge\">\n<title>(('ready', 'ready', 'ready', 'ready', 'ready', 'ready', 'ready', 'ready', 'ready', 'ready', 'ready', 'ready', 'ready', 'ready', 'ready', 'ready', 'ready', 'ready', 'ready', 'ready', 'ready', 'ready', 'ready', 'ready', 'ready', 'ready', 'ready', 'ready', 'ready', 'ready', 'ready', 'ready', 'ready', 'ready', 'ready', 'ready', 'ready', 'ready', 'ready', 'ready', 'ready'), 4)-&gt;(('ready', 'ready', 'ready', 'ready', 'ready', 'ready', 'ready', 'ready', 'ready', 'ready', 'ready', 'ready', 'ready', 'ready', 'ready', 'ready', 'ready', 'ready', 'ready', 'ready', 'ready', 'ready', 'ready', 'ready', 'ready', 'ready', 'ready', 'ready', 'ready', 'ready', 'ready', 'ready', 'ready', 'ready', 'ready', 'ready', 'ready', 'ready', 'ready', 'ready', 'ready'), 5)</title>\n<path fill=\"none\" stroke=\"black\" d=\"M14235.16,-418.15C14296.02,-417.87 14356.38,-417.5 14415,-417 14417.1,-416.98 14419.2,-416.96 14421.31,-416.95\"/>\n<polygon fill=\"black\" stroke=\"black\" points=\"14421.11,-420.45 14431.08,-416.86 14421.05,-413.45 14421.11,-420.45\"/>\n<text text-anchor=\"middle\" x=\"14334\" y=\"-421.8\" font-family=\"Times New Roman,serif\" font-size=\"14.00\">('pick_boron', 16),-10.4,1.0</text>\n</g>\n<!-- ((&#39;ready&#39;, &#39;ready&#39;, &#39;ready&#39;, &#39;ready&#39;, &#39;ready&#39;, &#39;ready&#39;, &#39;ready&#39;, &#39;ready&#39;, &#39;ready&#39;, &#39;ready&#39;, &#39;ready&#39;, &#39;ready&#39;, &#39;ready&#39;, &#39;ready&#39;, &#39;ready&#39;, &#39;ready&#39;, &#39;ready&#39;, &#39;ready&#39;, &#39;ready&#39;, &#39;ready&#39;, &#39;ready&#39;, &#39;ready&#39;, &#39;ready&#39;, &#39;ready&#39;, &#39;ready&#39;, &#39;ready&#39;, &#39;ready&#39;, &#39;ready&#39;, &#39;ready&#39;, &#39;ready&#39;, &#39;ready&#39;, &#39;ready&#39;, &#39;ready&#39;, &#39;ready&#39;, &#39;ready&#39;, &#39;ready&#39;, &#39;ready&#39;, &#39;ready&#39;, &#39;ready&#39;, &#39;ready&#39;, &#39;ready&#39;), 4)&#45;&gt;((&#39;ready&#39;, &#39;ready&#39;, &#39;ready&#39;, &#39;ready&#39;, &#39;ready&#39;, &#39;ready&#39;, &#39;ready&#39;, &#39;ready&#39;, &#39;ready&#39;, &#39;ready&#39;, &#39;ready&#39;, &#39;ready&#39;, &#39;ready&#39;, &#39;ready&#39;, &#39;ready&#39;, &#39;ready&#39;, &#39;ready&#39;, &#39;ready&#39;, &#39;ready&#39;, &#39;ready&#39;, &#39;ready&#39;, &#39;ready&#39;, &#39;ready&#39;, &#39;ready&#39;, &#39;ready&#39;, &#39;ready&#39;, &#39;ready&#39;, &#39;ready&#39;, &#39;ready&#39;, &#39;ready&#39;, &#39;ready&#39;, &#39;ready&#39;, &#39;ready&#39;, &#39;ready&#39;, &#39;ready&#39;, &#39;ready&#39;, &#39;ready&#39;, &#39;ready&#39;, &#39;ready&#39;, &#39;ready&#39;, &#39;ready&#39;), 5) -->\n<g id=\"edge19\" class=\"edge\">\n<title>(('ready', 'ready', 'ready', 'ready', 'ready', 'ready', 'ready', 'ready', 'ready', 'ready', 'ready', 'ready', 'ready', 'ready', 'ready', 'ready', 'ready', 'ready', 'ready', 'ready', 'ready', 'ready', 'ready', 'ready', 'ready', 'ready', 'ready', 'ready', 'ready', 'ready', 'ready', 'ready', 'ready', 'ready', 'ready', 'ready', 'ready', 'ready', 'ready', 'ready', 'ready'), 4)-&gt;(('ready', 'ready', 'ready', 'ready', 'ready', 'ready', 'ready', 'ready', 'ready', 'ready', 'ready', 'ready', 'ready', 'ready', 'ready', 'ready', 'ready', 'ready', 'ready', 'ready', 'ready', 'ready', 'ready', 'ready', 'ready', 'ready', 'ready', 'ready', 'ready', 'ready', 'ready', 'ready', 'ready', 'ready', 'ready', 'ready', 'ready', 'ready', 'ready', 'ready', 'ready'), 5)</title>\n<path fill=\"none\" stroke=\"black\" d=\"M14206.77,-398.5C14222.3,-398.32 14237.72,-398.15 14253,-398 14307.95,-397.45 14364.44,-397.06 14421.43,-396.8\"/>\n<polygon fill=\"black\" stroke=\"black\" points=\"14421.34,-400.3 14431.32,-396.75 14421.31,-393.3 14421.34,-400.3\"/>\n<text text-anchor=\"middle\" x=\"14334\" y=\"-401.8\" font-family=\"Times New Roman,serif\" font-size=\"14.00\">('pick_boron', 17),-12.12,1.0</text>\n</g>\n<!-- ((&#39;ready&#39;, &#39;ready&#39;, &#39;ready&#39;, &#39;ready&#39;, &#39;ready&#39;, &#39;ready&#39;, &#39;ready&#39;, &#39;ready&#39;, &#39;ready&#39;, &#39;ready&#39;, &#39;ready&#39;, &#39;ready&#39;, &#39;ready&#39;, &#39;ready&#39;, &#39;ready&#39;, &#39;ready&#39;, &#39;ready&#39;, &#39;ready&#39;, &#39;ready&#39;, &#39;ready&#39;, &#39;ready&#39;, &#39;ready&#39;, &#39;ready&#39;, &#39;ready&#39;, &#39;ready&#39;, &#39;ready&#39;, &#39;ready&#39;, &#39;ready&#39;, &#39;ready&#39;, &#39;ready&#39;, &#39;ready&#39;, &#39;ready&#39;, &#39;ready&#39;, &#39;ready&#39;, &#39;ready&#39;, &#39;ready&#39;, &#39;ready&#39;, &#39;ready&#39;, &#39;ready&#39;, &#39;ready&#39;, &#39;ready&#39;), 4)&#45;&gt;((&#39;ready&#39;, &#39;ready&#39;, &#39;ready&#39;, &#39;ready&#39;, &#39;ready&#39;, &#39;ready&#39;, &#39;ready&#39;, &#39;ready&#39;, &#39;ready&#39;, &#39;ready&#39;, &#39;ready&#39;, &#39;ready&#39;, &#39;ready&#39;, &#39;ready&#39;, &#39;ready&#39;, &#39;ready&#39;, &#39;ready&#39;, &#39;ready&#39;, &#39;ready&#39;, &#39;ready&#39;, &#39;ready&#39;, &#39;ready&#39;, &#39;ready&#39;, &#39;ready&#39;, &#39;ready&#39;, &#39;ready&#39;, &#39;ready&#39;, &#39;ready&#39;, &#39;ready&#39;, &#39;ready&#39;, &#39;ready&#39;, &#39;ready&#39;, &#39;ready&#39;, &#39;ready&#39;, &#39;ready&#39;, &#39;ready&#39;, &#39;ready&#39;, &#39;ready&#39;, &#39;ready&#39;, &#39;ready&#39;, &#39;ready&#39;), 5) -->\n<g id=\"edge20\" class=\"edge\">\n<title>(('ready', 'ready', 'ready', 'ready', 'ready', 'ready', 'ready', 'ready', 'ready', 'ready', 'ready', 'ready', 'ready', 'ready', 'ready', 'ready', 'ready', 'ready', 'ready', 'ready', 'ready', 'ready', 'ready', 'ready', 'ready', 'ready', 'ready', 'ready', 'ready', 'ready', 'ready', 'ready', 'ready', 'ready', 'ready', 'ready', 'ready', 'ready', 'ready', 'ready', 'ready'), 4)-&gt;(('ready', 'ready', 'ready', 'ready', 'ready', 'ready', 'ready', 'ready', 'ready', 'ready', 'ready', 'ready', 'ready', 'ready', 'ready', 'ready', 'ready', 'ready', 'ready', 'ready', 'ready', 'ready', 'ready', 'ready', 'ready', 'ready', 'ready', 'ready', 'ready', 'ready', 'ready', 'ready', 'ready', 'ready', 'ready', 'ready', 'ready', 'ready', 'ready', 'ready', 'ready'), 5)</title>\n<path fill=\"none\" stroke=\"black\" d=\"M13661,-398.51C13838.56,-390.11 14057.12,-381.14 14253,-377 14465.08,-372.51 14700.02,-376.35 14898.7,-382.18\"/>\n<polygon fill=\"black\" stroke=\"black\" points=\"14898.32,-385.67 14908.42,-382.46 14898.52,-378.67 14898.32,-385.67\"/>\n<text text-anchor=\"middle\" x=\"14334\" y=\"-380.8\" font-family=\"Times New Roman,serif\" font-size=\"14.00\">('pick_boron', 18),-8.55,1.0</text>\n</g>\n<!-- ((&#39;ready&#39;, &#39;ready&#39;, &#39;ready&#39;, &#39;ready&#39;, &#39;ready&#39;, &#39;ready&#39;, &#39;ready&#39;, &#39;ready&#39;, &#39;ready&#39;, &#39;ready&#39;, &#39;ready&#39;, &#39;ready&#39;, &#39;ready&#39;, &#39;ready&#39;, &#39;ready&#39;, &#39;ready&#39;, &#39;ready&#39;, &#39;ready&#39;, &#39;ready&#39;, &#39;ready&#39;, &#39;ready&#39;, &#39;ready&#39;, &#39;ready&#39;, &#39;ready&#39;, &#39;ready&#39;, &#39;ready&#39;, &#39;ready&#39;, &#39;ready&#39;, &#39;ready&#39;, &#39;ready&#39;, &#39;ready&#39;, &#39;ready&#39;, &#39;ready&#39;, &#39;ready&#39;, &#39;ready&#39;, &#39;ready&#39;, &#39;ready&#39;, &#39;ready&#39;, &#39;ready&#39;, &#39;ready&#39;, &#39;ready&#39;), 4)&#45;&gt;((&#39;ready&#39;, &#39;ready&#39;, &#39;ready&#39;, &#39;ready&#39;, &#39;ready&#39;, &#39;ready&#39;, &#39;ready&#39;, &#39;ready&#39;, &#39;ready&#39;, &#39;ready&#39;, &#39;ready&#39;, &#39;ready&#39;, &#39;ready&#39;, &#39;ready&#39;, &#39;ready&#39;, &#39;ready&#39;, &#39;ready&#39;, &#39;ready&#39;, &#39;ready&#39;, &#39;ready&#39;, &#39;ready&#39;, &#39;ready&#39;, &#39;ready&#39;, &#39;ready&#39;, &#39;ready&#39;, &#39;ready&#39;, &#39;ready&#39;, &#39;ready&#39;, &#39;ready&#39;, &#39;ready&#39;, &#39;ready&#39;, &#39;ready&#39;, &#39;ready&#39;, &#39;ready&#39;, &#39;ready&#39;, &#39;ready&#39;, &#39;ready&#39;, &#39;ready&#39;, &#39;ready&#39;, &#39;ready&#39;, &#39;ready&#39;), 5) -->\n<g id=\"edge21\" class=\"edge\">\n<title>(('ready', 'ready', 'ready', 'ready', 'ready', 'ready', 'ready', 'ready', 'ready', 'ready', 'ready', 'ready', 'ready', 'ready', 'ready', 'ready', 'ready', 'ready', 'ready', 'ready', 'ready', 'ready', 'ready', 'ready', 'ready', 'ready', 'ready', 'ready', 'ready', 'ready', 'ready', 'ready', 'ready', 'ready', 'ready', 'ready', 'ready', 'ready', 'ready', 'ready', 'ready'), 4)-&gt;(('ready', 'ready', 'ready', 'ready', 'ready', 'ready', 'ready', 'ready', 'ready', 'ready', 'ready', 'ready', 'ready', 'ready', 'ready', 'ready', 'ready', 'ready', 'ready', 'ready', 'ready', 'ready', 'ready', 'ready', 'ready', 'ready', 'ready', 'ready', 'ready', 'ready', 'ready', 'ready', 'ready', 'ready', 'ready', 'ready', 'ready', 'ready', 'ready', 'ready', 'ready'), 5)</title>\n<path fill=\"none\" stroke=\"black\" d=\"M13531.2,-398.52C13722.56,-383.65 14005.7,-363.97 14253,-356 14555.01,-346.26 14903.24,-365.42 15127.22,-381.68\"/>\n<polygon fill=\"black\" stroke=\"black\" points=\"15126.72,-385.15 15136.95,-382.39 15127.23,-378.17 15126.72,-385.15\"/>\n<text text-anchor=\"middle\" x=\"14334\" y=\"-359.8\" font-family=\"Times New Roman,serif\" font-size=\"14.00\">('pick_boron', 19),-6.8,1.0</text>\n</g>\n<!-- ((&#39;ready&#39;, &#39;ready&#39;, &#39;ready&#39;, &#39;ready&#39;, &#39;ready&#39;, &#39;ready&#39;, &#39;ready&#39;, &#39;ready&#39;, &#39;ready&#39;, &#39;ready&#39;, &#39;ready&#39;, &#39;ready&#39;, &#39;ready&#39;, &#39;ready&#39;, &#39;ready&#39;, &#39;ready&#39;, &#39;ready&#39;, &#39;ready&#39;, &#39;ready&#39;, &#39;ready&#39;, &#39;ready&#39;, &#39;ready&#39;, &#39;ready&#39;, &#39;ready&#39;, &#39;ready&#39;, &#39;ready&#39;, &#39;ready&#39;, &#39;ready&#39;, &#39;ready&#39;, &#39;ready&#39;, &#39;ready&#39;, &#39;ready&#39;, &#39;ready&#39;, &#39;ready&#39;, &#39;ready&#39;, &#39;ready&#39;, &#39;ready&#39;, &#39;ready&#39;, &#39;ready&#39;, &#39;ready&#39;, &#39;ready&#39;), 4)&#45;&gt;((&#39;ready&#39;, &#39;ready&#39;, &#39;ready&#39;, &#39;ready&#39;, &#39;ready&#39;, &#39;ready&#39;, &#39;ready&#39;, &#39;ready&#39;, &#39;ready&#39;, &#39;ready&#39;, &#39;ready&#39;, &#39;ready&#39;, &#39;ready&#39;, &#39;ready&#39;, &#39;ready&#39;, &#39;ready&#39;, &#39;ready&#39;, &#39;ready&#39;, &#39;ready&#39;, &#39;ready&#39;, &#39;ready&#39;, &#39;ready&#39;, &#39;ready&#39;, &#39;ready&#39;, &#39;ready&#39;, &#39;ready&#39;, &#39;ready&#39;, &#39;ready&#39;, &#39;ready&#39;, &#39;ready&#39;, &#39;ready&#39;, &#39;ready&#39;, &#39;ready&#39;, &#39;ready&#39;, &#39;ready&#39;, &#39;ready&#39;, &#39;ready&#39;, &#39;ready&#39;, &#39;ready&#39;, &#39;ready&#39;, &#39;ready&#39;), 5) -->\n<g id=\"edge22\" class=\"edge\">\n<title>(('ready', 'ready', 'ready', 'ready', 'ready', 'ready', 'ready', 'ready', 'ready', 'ready', 'ready', 'ready', 'ready', 'ready', 'ready', 'ready', 'ready', 'ready', 'ready', 'ready', 'ready', 'ready', 'ready', 'ready', 'ready', 'ready', 'ready', 'ready', 'ready', 'ready', 'ready', 'ready', 'ready', 'ready', 'ready', 'ready', 'ready', 'ready', 'ready', 'ready', 'ready'), 4)-&gt;(('ready', 'ready', 'ready', 'ready', 'ready', 'ready', 'ready', 'ready', 'ready', 'ready', 'ready', 'ready', 'ready', 'ready', 'ready', 'ready', 'ready', 'ready', 'ready', 'ready', 'ready', 'ready', 'ready', 'ready', 'ready', 'ready', 'ready', 'ready', 'ready', 'ready', 'ready', 'ready', 'ready', 'ready', 'ready', 'ready', 'ready', 'ready', 'ready', 'ready', 'ready'), 5)</title>\n<path fill=\"none\" stroke=\"black\" d=\"M13469.08,-398.52C13656.94,-377.98 13976.99,-346.1 14253,-334 14591.97,-319.14 14988.82,-356.49 15203.24,-381.21\"/>\n<polygon fill=\"black\" stroke=\"black\" points=\"15202.74,-384.67 15213.07,-382.35 15203.54,-377.72 15202.74,-384.67\"/>\n<text text-anchor=\"middle\" x=\"14334\" y=\"-337.8\" font-family=\"Times New Roman,serif\" font-size=\"14.00\">('pick_boron', 20),-10.16,1.0</text>\n</g>\n<!-- ((&#39;ready&#39;, &#39;ready&#39;, &#39;ready&#39;, &#39;ready&#39;, &#39;ready&#39;, &#39;ready&#39;, &#39;ready&#39;, &#39;ready&#39;, &#39;ready&#39;, &#39;ready&#39;, &#39;ready&#39;, &#39;ready&#39;, &#39;ready&#39;, &#39;ready&#39;, &#39;ready&#39;, &#39;ready&#39;, &#39;ready&#39;, &#39;ready&#39;, &#39;ready&#39;, &#39;ready&#39;, &#39;ready&#39;, &#39;ready&#39;, &#39;ready&#39;, &#39;ready&#39;, &#39;ready&#39;, &#39;ready&#39;, &#39;ready&#39;, &#39;ready&#39;, &#39;ready&#39;, &#39;ready&#39;, &#39;ready&#39;, &#39;ready&#39;, &#39;ready&#39;, &#39;ready&#39;, &#39;ready&#39;, &#39;ready&#39;, &#39;ready&#39;, &#39;ready&#39;, &#39;ready&#39;, &#39;ready&#39;, &#39;ready&#39;), 10) -->\n<g id=\"node5\" class=\"node\">\n<title>(('ready', 'ready', 'ready', 'ready', 'ready', 'ready', 'ready', 'ready', 'ready', 'ready', 'ready', 'ready', 'ready', 'ready', 'ready', 'ready', 'ready', 'ready', 'ready', 'ready', 'ready', 'ready', 'ready', 'ready', 'ready', 'ready', 'ready', 'ready', 'ready', 'ready', 'ready', 'ready', 'ready', 'ready', 'ready', 'ready', 'ready', 'ready', 'ready', 'ready', 'ready'), 10)</title>\n<polygon fill=\"none\" stroke=\"black\" points=\"5972,-368 4110,-368 4110,-332 5972,-332 5972,-368\"/>\n<text text-anchor=\"middle\" x=\"5041\" y=\"-346.3\" font-family=\"Times New Roman,serif\" font-size=\"14.00\">(('ready', 'ready', 'ready', 'ready', 'ready', 'ready', 'ready', 'ready', 'ready', 'ready', 'ready', 'ready', 'ready', 'ready', 'ready', 'ready', 'ready', 'ready', 'ready', 'ready', 'ready', 'ready', 'ready', 'ready', 'ready', 'ready', 'ready', 'ready', 'ready', 'ready', 'ready', 'ready', 'ready', 'ready', 'ready', 'ready', 'ready', 'ready', 'ready', 'ready', 'ready'), 10)</text>\n</g>\n<!-- ((&#39;ready&#39;, &#39;ready&#39;, &#39;ready&#39;, &#39;ready&#39;, &#39;ready&#39;, &#39;ready&#39;, &#39;ready&#39;, &#39;ready&#39;, &#39;ready&#39;, &#39;ready&#39;, &#39;ready&#39;, &#39;ready&#39;, &#39;ready&#39;, &#39;ready&#39;, &#39;ready&#39;, &#39;ready&#39;, &#39;ready&#39;, &#39;ready&#39;, &#39;ready&#39;, &#39;ready&#39;, &#39;ready&#39;, &#39;ready&#39;, &#39;ready&#39;, &#39;ready&#39;, &#39;ready&#39;, &#39;ready&#39;, &#39;ready&#39;, &#39;ready&#39;, &#39;ready&#39;, &#39;ready&#39;, &#39;ready&#39;, &#39;ready&#39;, &#39;ready&#39;, &#39;ready&#39;, &#39;ready&#39;, &#39;ready&#39;, &#39;ready&#39;, &#39;ready&#39;, &#39;ready&#39;, &#39;ready&#39;, &#39;ready&#39;), 0) -->\n<g id=\"node6\" class=\"node\">\n<title>(('ready', 'ready', 'ready', 'ready', 'ready', 'ready', 'ready', 'ready', 'ready', 'ready', 'ready', 'ready', 'ready', 'ready', 'ready', 'ready', 'ready', 'ready', 'ready', 'ready', 'ready', 'ready', 'ready', 'ready', 'ready', 'ready', 'ready', 'ready', 'ready', 'ready', 'ready', 'ready', 'ready', 'ready', 'ready', 'ready', 'ready', 'ready', 'ready', 'ready', 'ready'), 0)</title>\n<polygon fill=\"none\" stroke=\"black\" points=\"8064,-404 6208,-404 6208,-368 8064,-368 8064,-404\"/>\n<text text-anchor=\"middle\" x=\"7136\" y=\"-382.3\" font-family=\"Times New Roman,serif\" font-size=\"14.00\">(('ready', 'ready', 'ready', 'ready', 'ready', 'ready', 'ready', 'ready', 'ready', 'ready', 'ready', 'ready', 'ready', 'ready', 'ready', 'ready', 'ready', 'ready', 'ready', 'ready', 'ready', 'ready', 'ready', 'ready', 'ready', 'ready', 'ready', 'ready', 'ready', 'ready', 'ready', 'ready', 'ready', 'ready', 'ready', 'ready', 'ready', 'ready', 'ready', 'ready', 'ready'), 0)</text>\n</g>\n<!-- ((&#39;ready&#39;, &#39;ready&#39;, &#39;ready&#39;, &#39;ready&#39;, &#39;ready&#39;, &#39;ready&#39;, &#39;ready&#39;, &#39;ready&#39;, &#39;ready&#39;, &#39;ready&#39;, &#39;ready&#39;, &#39;ready&#39;, &#39;ready&#39;, &#39;ready&#39;, &#39;ready&#39;, &#39;ready&#39;, &#39;ready&#39;, &#39;ready&#39;, &#39;ready&#39;, &#39;ready&#39;, &#39;ready&#39;, &#39;ready&#39;, &#39;ready&#39;, &#39;ready&#39;, &#39;ready&#39;, &#39;ready&#39;, &#39;ready&#39;, &#39;ready&#39;, &#39;ready&#39;, &#39;ready&#39;, &#39;ready&#39;, &#39;ready&#39;, &#39;ready&#39;, &#39;ready&#39;, &#39;ready&#39;, &#39;ready&#39;, &#39;ready&#39;, &#39;ready&#39;, &#39;ready&#39;, &#39;ready&#39;, &#39;ready&#39;), 10)&#45;&gt;((&#39;ready&#39;, &#39;ready&#39;, &#39;ready&#39;, &#39;ready&#39;, &#39;ready&#39;, &#39;ready&#39;, &#39;ready&#39;, &#39;ready&#39;, &#39;ready&#39;, &#39;ready&#39;, &#39;ready&#39;, &#39;ready&#39;, &#39;ready&#39;, &#39;ready&#39;, &#39;ready&#39;, &#39;ready&#39;, &#39;ready&#39;, &#39;ready&#39;, &#39;ready&#39;, &#39;ready&#39;, &#39;ready&#39;, &#39;ready&#39;, &#39;ready&#39;, &#39;ready&#39;, &#39;ready&#39;, &#39;ready&#39;, &#39;ready&#39;, &#39;ready&#39;, &#39;ready&#39;, &#39;ready&#39;, &#39;ready&#39;, &#39;ready&#39;, &#39;ready&#39;, &#39;ready&#39;, &#39;ready&#39;, &#39;ready&#39;, &#39;ready&#39;, &#39;ready&#39;, &#39;ready&#39;, &#39;ready&#39;, &#39;ready&#39;), 0) -->\n<g id=\"edge39\" class=\"edge\">\n<title>(('ready', 'ready', 'ready', 'ready', 'ready', 'ready', 'ready', 'ready', 'ready', 'ready', 'ready', 'ready', 'ready', 'ready', 'ready', 'ready', 'ready', 'ready', 'ready', 'ready', 'ready', 'ready', 'ready', 'ready', 'ready', 'ready', 'ready', 'ready', 'ready', 'ready', 'ready', 'ready', 'ready', 'ready', 'ready', 'ready', 'ready', 'ready', 'ready', 'ready', 'ready'), 10)-&gt;(('ready', 'ready', 'ready', 'ready', 'ready', 'ready', 'ready', 'ready', 'ready', 'ready', 'ready', 'ready', 'ready', 'ready', 'ready', 'ready', 'ready', 'ready', 'ready', 'ready', 'ready', 'ready', 'ready', 'ready', 'ready', 'ready', 'ready', 'ready', 'ready', 'ready', 'ready', 'ready', 'ready', 'ready', 'ready', 'ready', 'ready', 'ready', 'ready', 'ready', 'ready'), 0)</title>\n<path fill=\"none\" stroke=\"black\" d=\"M5302.63,-368.5C5492.97,-381.05 5757.36,-396.5 5990,-403 6164.53,-407.87 6354.06,-407.4 6527.76,-404.68\"/>\n<polygon fill=\"black\" stroke=\"black\" points=\"6527.73,-408.18 6537.67,-404.52 6527.61,-401.18 6527.73,-408.18\"/>\n<text text-anchor=\"middle\" x=\"6090\" y=\"-409.8\" font-family=\"Times New Roman,serif\" font-size=\"14.00\">('pick_copper_frame', 37),-6.8,1.0</text>\n</g>\n<!-- ((&#39;ready&#39;, &#39;ready&#39;, &#39;ready&#39;, &#39;ready&#39;, &#39;ready&#39;, &#39;ready&#39;, &#39;ready&#39;, &#39;ready&#39;, &#39;ready&#39;, &#39;ready&#39;, &#39;ready&#39;, &#39;ready&#39;, &#39;ready&#39;, &#39;ready&#39;, &#39;ready&#39;, &#39;ready&#39;, &#39;ready&#39;, &#39;ready&#39;, &#39;ready&#39;, &#39;ready&#39;, &#39;ready&#39;, &#39;ready&#39;, &#39;ready&#39;, &#39;ready&#39;, &#39;ready&#39;, &#39;ready&#39;, &#39;ready&#39;, &#39;ready&#39;, &#39;ready&#39;, &#39;ready&#39;, &#39;ready&#39;, &#39;ready&#39;, &#39;ready&#39;, &#39;ready&#39;, &#39;ready&#39;, &#39;ready&#39;, &#39;ready&#39;, &#39;ready&#39;, &#39;ready&#39;, &#39;ready&#39;, &#39;ready&#39;), 10)&#45;&gt;((&#39;ready&#39;, &#39;ready&#39;, &#39;ready&#39;, &#39;ready&#39;, &#39;ready&#39;, &#39;ready&#39;, &#39;ready&#39;, &#39;ready&#39;, &#39;ready&#39;, &#39;ready&#39;, &#39;ready&#39;, &#39;ready&#39;, &#39;ready&#39;, &#39;ready&#39;, &#39;ready&#39;, &#39;ready&#39;, &#39;ready&#39;, &#39;ready&#39;, &#39;ready&#39;, &#39;ready&#39;, &#39;ready&#39;, &#39;ready&#39;, &#39;ready&#39;, &#39;ready&#39;, &#39;ready&#39;, &#39;ready&#39;, &#39;ready&#39;, &#39;ready&#39;, &#39;ready&#39;, &#39;ready&#39;, &#39;ready&#39;, &#39;ready&#39;, &#39;ready&#39;, &#39;ready&#39;, &#39;ready&#39;, &#39;ready&#39;, &#39;ready&#39;, &#39;ready&#39;, &#39;ready&#39;, &#39;ready&#39;, &#39;ready&#39;), 0) -->\n<g id=\"edge40\" class=\"edge\">\n<title>(('ready', 'ready', 'ready', 'ready', 'ready', 'ready', 'ready', 'ready', 'ready', 'ready', 'ready', 'ready', 'ready', 'ready', 'ready', 'ready', 'ready', 'ready', 'ready', 'ready', 'ready', 'ready', 'ready', 'ready', 'ready', 'ready', 'ready', 'ready', 'ready', 'ready', 'ready', 'ready', 'ready', 'ready', 'ready', 'ready', 'ready', 'ready', 'ready', 'ready', 'ready'), 10)-&gt;(('ready', 'ready', 'ready', 'ready', 'ready', 'ready', 'ready', 'ready', 'ready', 'ready', 'ready', 'ready', 'ready', 'ready', 'ready', 'ready', 'ready', 'ready', 'ready', 'ready', 'ready', 'ready', 'ready', 'ready', 'ready', 'ready', 'ready', 'ready', 'ready', 'ready', 'ready', 'ready', 'ready', 'ready', 'ready', 'ready', 'ready', 'ready', 'ready', 'ready', 'ready'), 0)</title>\n<path fill=\"none\" stroke=\"black\" d=\"M5972.21,-366C6046.59,-367.28 6121.76,-368.57 6196.2,-369.85\"/>\n<polygon fill=\"black\" stroke=\"black\" points=\"6196.09,-373.35 6206.15,-370.02 6196.21,-366.35 6196.09,-373.35\"/>\n<text text-anchor=\"middle\" x=\"6090\" y=\"-372.8\" font-family=\"Times New Roman,serif\" font-size=\"14.00\">('pick_copper_frame', 38),-10.7,1.0</text>\n</g>\n<!-- ((&#39;ready&#39;, &#39;ready&#39;, &#39;ready&#39;, &#39;ready&#39;, &#39;ready&#39;, &#39;ready&#39;, &#39;ready&#39;, &#39;ready&#39;, &#39;ready&#39;, &#39;ready&#39;, &#39;ready&#39;, &#39;ready&#39;, &#39;ready&#39;, &#39;ready&#39;, &#39;ready&#39;, &#39;ready&#39;, &#39;ready&#39;, &#39;ready&#39;, &#39;ready&#39;, &#39;ready&#39;, &#39;ready&#39;, &#39;ready&#39;, &#39;ready&#39;, &#39;ready&#39;, &#39;ready&#39;, &#39;ready&#39;, &#39;ready&#39;, &#39;ready&#39;, &#39;ready&#39;, &#39;ready&#39;, &#39;ready&#39;, &#39;ready&#39;, &#39;ready&#39;, &#39;ready&#39;, &#39;ready&#39;, &#39;ready&#39;, &#39;ready&#39;, &#39;ready&#39;, &#39;ready&#39;, &#39;ready&#39;, &#39;ready&#39;), 10)&#45;&gt;((&#39;ready&#39;, &#39;ready&#39;, &#39;ready&#39;, &#39;ready&#39;, &#39;ready&#39;, &#39;ready&#39;, &#39;ready&#39;, &#39;ready&#39;, &#39;ready&#39;, &#39;ready&#39;, &#39;ready&#39;, &#39;ready&#39;, &#39;ready&#39;, &#39;ready&#39;, &#39;ready&#39;, &#39;ready&#39;, &#39;ready&#39;, &#39;ready&#39;, &#39;ready&#39;, &#39;ready&#39;, &#39;ready&#39;, &#39;ready&#39;, &#39;ready&#39;, &#39;ready&#39;, &#39;ready&#39;, &#39;ready&#39;, &#39;ready&#39;, &#39;ready&#39;, &#39;ready&#39;, &#39;ready&#39;, &#39;ready&#39;, &#39;ready&#39;, &#39;ready&#39;, &#39;ready&#39;, &#39;ready&#39;, &#39;ready&#39;, &#39;ready&#39;, &#39;ready&#39;, &#39;ready&#39;, &#39;ready&#39;, &#39;ready&#39;), 0) -->\n<g id=\"edge41\" class=\"edge\">\n<title>(('ready', 'ready', 'ready', 'ready', 'ready', 'ready', 'ready', 'ready', 'ready', 'ready', 'ready', 'ready', 'ready', 'ready', 'ready', 'ready', 'ready', 'ready', 'ready', 'ready', 'ready', 'ready', 'ready', 'ready', 'ready', 'ready', 'ready', 'ready', 'ready', 'ready', 'ready', 'ready', 'ready', 'ready', 'ready', 'ready', 'ready', 'ready', 'ready', 'ready', 'ready'), 10)-&gt;(('ready', 'ready', 'ready', 'ready', 'ready', 'ready', 'ready', 'ready', 'ready', 'ready', 'ready', 'ready', 'ready', 'ready', 'ready', 'ready', 'ready', 'ready', 'ready', 'ready', 'ready', 'ready', 'ready', 'ready', 'ready', 'ready', 'ready', 'ready', 'ready', 'ready', 'ready', 'ready', 'ready', 'ready', 'ready', 'ready', 'ready', 'ready', 'ready', 'ready', 'ready'), 0)</title>\n<path fill=\"none\" stroke=\"black\" d=\"M5972.45,-343.91C6046.07,-344.54 6119.26,-345.54 6190,-347 6378.05,-350.88 6587.01,-359.09 6760.53,-366.99\"/>\n<polygon fill=\"black\" stroke=\"black\" points=\"6760.24,-370.48 6770.39,-367.44 6760.56,-363.49 6760.24,-370.48\"/>\n<text text-anchor=\"middle\" x=\"6090\" y=\"-350.8\" font-family=\"Times New Roman,serif\" font-size=\"14.00\">('pick_copper_frame', 39),-5.0,1.0</text>\n</g>\n<!-- ((&#39;ready&#39;, &#39;ready&#39;, &#39;ready&#39;, &#39;ready&#39;, &#39;ready&#39;, &#39;ready&#39;, &#39;ready&#39;, &#39;ready&#39;, &#39;ready&#39;, &#39;ready&#39;, &#39;ready&#39;, &#39;ready&#39;, &#39;ready&#39;, &#39;ready&#39;, &#39;ready&#39;, &#39;ready&#39;, &#39;ready&#39;, &#39;ready&#39;, &#39;ready&#39;, &#39;ready&#39;, &#39;ready&#39;, &#39;ready&#39;, &#39;ready&#39;, &#39;ready&#39;, &#39;ready&#39;, &#39;ready&#39;, &#39;ready&#39;, &#39;ready&#39;, &#39;ready&#39;, &#39;ready&#39;, &#39;ready&#39;, &#39;ready&#39;, &#39;ready&#39;, &#39;ready&#39;, &#39;ready&#39;, &#39;ready&#39;, &#39;ready&#39;, &#39;ready&#39;, &#39;ready&#39;, &#39;ready&#39;, &#39;ready&#39;), 10)&#45;&gt;((&#39;ready&#39;, &#39;ready&#39;, &#39;ready&#39;, &#39;ready&#39;, &#39;ready&#39;, &#39;ready&#39;, &#39;ready&#39;, &#39;ready&#39;, &#39;ready&#39;, &#39;ready&#39;, &#39;ready&#39;, &#39;ready&#39;, &#39;ready&#39;, &#39;ready&#39;, &#39;ready&#39;, &#39;ready&#39;, &#39;ready&#39;, &#39;ready&#39;, &#39;ready&#39;, &#39;ready&#39;, &#39;ready&#39;, &#39;ready&#39;, &#39;ready&#39;, &#39;ready&#39;, &#39;ready&#39;, &#39;ready&#39;, &#39;ready&#39;, &#39;ready&#39;, &#39;ready&#39;, &#39;ready&#39;, &#39;ready&#39;, &#39;ready&#39;, &#39;ready&#39;, &#39;ready&#39;, &#39;ready&#39;, &#39;ready&#39;, &#39;ready&#39;, &#39;ready&#39;, &#39;ready&#39;, &#39;ready&#39;, &#39;ready&#39;), 0) -->\n<g id=\"edge42\" class=\"edge\">\n<title>(('ready', 'ready', 'ready', 'ready', 'ready', 'ready', 'ready', 'ready', 'ready', 'ready', 'ready', 'ready', 'ready', 'ready', 'ready', 'ready', 'ready', 'ready', 'ready', 'ready', 'ready', 'ready', 'ready', 'ready', 'ready', 'ready', 'ready', 'ready', 'ready', 'ready', 'ready', 'ready', 'ready', 'ready', 'ready', 'ready', 'ready', 'ready', 'ready', 'ready', 'ready'), 10)-&gt;(('ready', 'ready', 'ready', 'ready', 'ready', 'ready', 'ready', 'ready', 'ready', 'ready', 'ready', 'ready', 'ready', 'ready', 'ready', 'ready', 'ready', 'ready', 'ready', 'ready', 'ready', 'ready', 'ready', 'ready', 'ready', 'ready', 'ready', 'ready', 'ready', 'ready', 'ready', 'ready', 'ready', 'ready', 'ready', 'ready', 'ready', 'ready', 'ready', 'ready', 'ready'), 0)</title>\n<path fill=\"none\" stroke=\"black\" d=\"M5420.15,-331.5C5644.04,-323.11 5933.22,-316.72 6190,-325 6432.47,-332.82 6709.39,-351.89 6900.48,-366.65\"/>\n<polygon fill=\"black\" stroke=\"black\" points=\"6900.05,-370.12 6910.29,-367.4 6900.59,-363.14 6900.05,-370.12\"/>\n<text text-anchor=\"middle\" x=\"6090\" y=\"-328.8\" font-family=\"Times New Roman,serif\" font-size=\"14.00\">('pick_copper_frame', 40),0.0,1.0</text>\n</g>\n<!-- ((&#39;ready&#39;, &#39;ready&#39;, &#39;ready&#39;, &#39;ready&#39;, &#39;ready&#39;, &#39;ready&#39;, &#39;ready&#39;, &#39;ready&#39;, &#39;ready&#39;, &#39;ready&#39;, &#39;ready&#39;, &#39;ready&#39;, &#39;ready&#39;, &#39;ready&#39;, &#39;ready&#39;, &#39;ready&#39;, &#39;ready&#39;, &#39;ready&#39;, &#39;ready&#39;, &#39;ready&#39;, &#39;ready&#39;, &#39;ready&#39;, &#39;ready&#39;, &#39;ready&#39;, &#39;ready&#39;, &#39;ready&#39;, &#39;ready&#39;, &#39;ready&#39;, &#39;ready&#39;, &#39;ready&#39;, &#39;ready&#39;, &#39;ready&#39;, &#39;ready&#39;, &#39;ready&#39;, &#39;ready&#39;, &#39;ready&#39;, &#39;ready&#39;, &#39;ready&#39;, &#39;ready&#39;, &#39;ready&#39;, &#39;ready&#39;), 2) -->\n<g id=\"node11\" class=\"node\">\n<title>(('ready', 'ready', 'ready', 'ready', 'ready', 'ready', 'ready', 'ready', 'ready', 'ready', 'ready', 'ready', 'ready', 'ready', 'ready', 'ready', 'ready', 'ready', 'ready', 'ready', 'ready', 'ready', 'ready', 'ready', 'ready', 'ready', 'ready', 'ready', 'ready', 'ready', 'ready', 'ready', 'ready', 'ready', 'ready', 'ready', 'ready', 'ready', 'ready', 'ready', 'ready'), 2)</title>\n<polygon fill=\"none\" stroke=\"black\" points=\"10135,-429 8279,-429 8279,-393 10135,-393 10135,-429\"/>\n<text text-anchor=\"middle\" x=\"9207\" y=\"-407.3\" font-family=\"Times New Roman,serif\" font-size=\"14.00\">(('ready', 'ready', 'ready', 'ready', 'ready', 'ready', 'ready', 'ready', 'ready', 'ready', 'ready', 'ready', 'ready', 'ready', 'ready', 'ready', 'ready', 'ready', 'ready', 'ready', 'ready', 'ready', 'ready', 'ready', 'ready', 'ready', 'ready', 'ready', 'ready', 'ready', 'ready', 'ready', 'ready', 'ready', 'ready', 'ready', 'ready', 'ready', 'ready', 'ready', 'ready'), 2)</text>\n</g>\n<!-- ((&#39;ready&#39;, &#39;ready&#39;, &#39;ready&#39;, &#39;ready&#39;, &#39;ready&#39;, &#39;ready&#39;, &#39;ready&#39;, &#39;ready&#39;, &#39;ready&#39;, &#39;ready&#39;, &#39;ready&#39;, &#39;ready&#39;, &#39;ready&#39;, &#39;ready&#39;, &#39;ready&#39;, &#39;ready&#39;, &#39;ready&#39;, &#39;ready&#39;, &#39;ready&#39;, &#39;ready&#39;, &#39;ready&#39;, &#39;ready&#39;, &#39;ready&#39;, &#39;ready&#39;, &#39;ready&#39;, &#39;ready&#39;, &#39;ready&#39;, &#39;ready&#39;, &#39;ready&#39;, &#39;ready&#39;, &#39;ready&#39;, &#39;ready&#39;, &#39;ready&#39;, &#39;ready&#39;, &#39;ready&#39;, &#39;ready&#39;, &#39;ready&#39;, &#39;ready&#39;, &#39;ready&#39;, &#39;ready&#39;, &#39;ready&#39;), 0)&#45;&gt;((&#39;ready&#39;, &#39;ready&#39;, &#39;ready&#39;, &#39;ready&#39;, &#39;ready&#39;, &#39;ready&#39;, &#39;ready&#39;, &#39;ready&#39;, &#39;ready&#39;, &#39;ready&#39;, &#39;ready&#39;, &#39;ready&#39;, &#39;ready&#39;, &#39;ready&#39;, &#39;ready&#39;, &#39;ready&#39;, &#39;ready&#39;, &#39;ready&#39;, &#39;ready&#39;, &#39;ready&#39;, &#39;ready&#39;, &#39;ready&#39;, &#39;ready&#39;, &#39;ready&#39;, &#39;ready&#39;, &#39;ready&#39;, &#39;ready&#39;, &#39;ready&#39;, &#39;ready&#39;, &#39;ready&#39;, &#39;ready&#39;, &#39;ready&#39;, &#39;ready&#39;, &#39;ready&#39;, &#39;ready&#39;, &#39;ready&#39;, &#39;ready&#39;, &#39;ready&#39;, &#39;ready&#39;, &#39;ready&#39;, &#39;ready&#39;), 2) -->\n<g id=\"edge2\" class=\"edge\">\n<title>(('ready', 'ready', 'ready', 'ready', 'ready', 'ready', 'ready', 'ready', 'ready', 'ready', 'ready', 'ready', 'ready', 'ready', 'ready', 'ready', 'ready', 'ready', 'ready', 'ready', 'ready', 'ready', 'ready', 'ready', 'ready', 'ready', 'ready', 'ready', 'ready', 'ready', 'ready', 'ready', 'ready', 'ready', 'ready', 'ready', 'ready', 'ready', 'ready', 'ready', 'ready'), 0)-&gt;(('ready', 'ready', 'ready', 'ready', 'ready', 'ready', 'ready', 'ready', 'ready', 'ready', 'ready', 'ready', 'ready', 'ready', 'ready', 'ready', 'ready', 'ready', 'ready', 'ready', 'ready', 'ready', 'ready', 'ready', 'ready', 'ready', 'ready', 'ready', 'ready', 'ready', 'ready', 'ready', 'ready', 'ready', 'ready', 'ready', 'ready', 'ready', 'ready', 'ready', 'ready'), 2)</title>\n<path fill=\"none\" stroke=\"black\" d=\"M7454.84,-404.49C7638.12,-414.23 7872.96,-425.14 8082,-430 8258.48,-434.11 8450.57,-432.94 8625.21,-429.71\"/>\n<polygon fill=\"black\" stroke=\"black\" points=\"8625.24,-433.21 8635.18,-429.52 8625.11,-426.21 8625.24,-433.21\"/>\n<text text-anchor=\"middle\" x=\"8171.5\" y=\"-435.8\" font-family=\"Times New Roman,serif\" font-size=\"14.00\">('pick_buy_design', 0),-1.0,1.0</text>\n</g>\n<!-- ((&#39;ready&#39;, &#39;ready&#39;, &#39;ready&#39;, &#39;ready&#39;, &#39;ready&#39;, &#39;ready&#39;, &#39;ready&#39;, &#39;ready&#39;, &#39;ready&#39;, &#39;ready&#39;, &#39;ready&#39;, &#39;ready&#39;, &#39;ready&#39;, &#39;ready&#39;, &#39;ready&#39;, &#39;ready&#39;, &#39;ready&#39;, &#39;ready&#39;, &#39;ready&#39;, &#39;ready&#39;, &#39;ready&#39;, &#39;ready&#39;, &#39;ready&#39;, &#39;ready&#39;, &#39;ready&#39;, &#39;ready&#39;, &#39;ready&#39;, &#39;ready&#39;, &#39;ready&#39;, &#39;ready&#39;, &#39;ready&#39;, &#39;ready&#39;, &#39;ready&#39;, &#39;ready&#39;, &#39;ready&#39;, &#39;ready&#39;, &#39;ready&#39;, &#39;ready&#39;, &#39;ready&#39;, &#39;ready&#39;, &#39;ready&#39;), 0)&#45;&gt;((&#39;ready&#39;, &#39;ready&#39;, &#39;ready&#39;, &#39;ready&#39;, &#39;ready&#39;, &#39;ready&#39;, &#39;ready&#39;, &#39;ready&#39;, &#39;ready&#39;, &#39;ready&#39;, &#39;ready&#39;, &#39;ready&#39;, &#39;ready&#39;, &#39;ready&#39;, &#39;ready&#39;, &#39;ready&#39;, &#39;ready&#39;, &#39;ready&#39;, &#39;ready&#39;, &#39;ready&#39;, &#39;ready&#39;, &#39;ready&#39;, &#39;ready&#39;, &#39;ready&#39;, &#39;ready&#39;, &#39;ready&#39;, &#39;ready&#39;, &#39;ready&#39;, &#39;ready&#39;, &#39;ready&#39;, &#39;ready&#39;, &#39;ready&#39;, &#39;ready&#39;, &#39;ready&#39;, &#39;ready&#39;, &#39;ready&#39;, &#39;ready&#39;, &#39;ready&#39;, &#39;ready&#39;, &#39;ready&#39;, &#39;ready&#39;), 2) -->\n<g id=\"edge3\" class=\"edge\">\n<title>(('ready', 'ready', 'ready', 'ready', 'ready', 'ready', 'ready', 'ready', 'ready', 'ready', 'ready', 'ready', 'ready', 'ready', 'ready', 'ready', 'ready', 'ready', 'ready', 'ready', 'ready', 'ready', 'ready', 'ready', 'ready', 'ready', 'ready', 'ready', 'ready', 'ready', 'ready', 'ready', 'ready', 'ready', 'ready', 'ready', 'ready', 'ready', 'ready', 'ready', 'ready'), 0)-&gt;(('ready', 'ready', 'ready', 'ready', 'ready', 'ready', 'ready', 'ready', 'ready', 'ready', 'ready', 'ready', 'ready', 'ready', 'ready', 'ready', 'ready', 'ready', 'ready', 'ready', 'ready', 'ready', 'ready', 'ready', 'ready', 'ready', 'ready', 'ready', 'ready', 'ready', 'ready', 'ready', 'ready', 'ready', 'ready', 'ready', 'ready', 'ready', 'ready', 'ready', 'ready'), 2)</title>\n<path fill=\"none\" stroke=\"black\" d=\"M8064.46,-397.21C8131.91,-398.02 8199.98,-398.84 8267.5,-399.66\"/>\n<polygon fill=\"black\" stroke=\"black\" points=\"8267.22,-403.16 8277.26,-399.78 8267.31,-396.16 8267.22,-403.16\"/>\n<text text-anchor=\"middle\" x=\"8171.5\" y=\"-402.8\" font-family=\"Times New Roman,serif\" font-size=\"14.00\">('pick_buy_design', 1),-6.8,1.0</text>\n</g>\n<!-- ((&#39;ready&#39;, &#39;ready&#39;, &#39;ready&#39;, &#39;ready&#39;, &#39;ready&#39;, &#39;ready&#39;, &#39;ready&#39;, &#39;ready&#39;, &#39;ready&#39;, &#39;ready&#39;, &#39;ready&#39;, &#39;ready&#39;, &#39;ready&#39;, &#39;ready&#39;, &#39;ready&#39;, &#39;ready&#39;, &#39;ready&#39;, &#39;ready&#39;, &#39;ready&#39;, &#39;ready&#39;, &#39;ready&#39;, &#39;ready&#39;, &#39;ready&#39;, &#39;ready&#39;, &#39;ready&#39;, &#39;ready&#39;, &#39;ready&#39;, &#39;ready&#39;, &#39;ready&#39;, &#39;ready&#39;, &#39;ready&#39;, &#39;ready&#39;, &#39;ready&#39;, &#39;ready&#39;, &#39;ready&#39;, &#39;ready&#39;, &#39;ready&#39;, &#39;ready&#39;, &#39;ready&#39;, &#39;ready&#39;, &#39;ready&#39;), 0)&#45;&gt;((&#39;ready&#39;, &#39;ready&#39;, &#39;ready&#39;, &#39;ready&#39;, &#39;ready&#39;, &#39;ready&#39;, &#39;ready&#39;, &#39;ready&#39;, &#39;ready&#39;, &#39;ready&#39;, &#39;ready&#39;, &#39;ready&#39;, &#39;ready&#39;, &#39;ready&#39;, &#39;ready&#39;, &#39;ready&#39;, &#39;ready&#39;, &#39;ready&#39;, &#39;ready&#39;, &#39;ready&#39;, &#39;ready&#39;, &#39;ready&#39;, &#39;ready&#39;, &#39;ready&#39;, &#39;ready&#39;, &#39;ready&#39;, &#39;ready&#39;, &#39;ready&#39;, &#39;ready&#39;, &#39;ready&#39;, &#39;ready&#39;, &#39;ready&#39;, &#39;ready&#39;, &#39;ready&#39;, &#39;ready&#39;, &#39;ready&#39;, &#39;ready&#39;, &#39;ready&#39;, &#39;ready&#39;, &#39;ready&#39;, &#39;ready&#39;), 2) -->\n<g id=\"edge4\" class=\"edge\">\n<title>(('ready', 'ready', 'ready', 'ready', 'ready', 'ready', 'ready', 'ready', 'ready', 'ready', 'ready', 'ready', 'ready', 'ready', 'ready', 'ready', 'ready', 'ready', 'ready', 'ready', 'ready', 'ready', 'ready', 'ready', 'ready', 'ready', 'ready', 'ready', 'ready', 'ready', 'ready', 'ready', 'ready', 'ready', 'ready', 'ready', 'ready', 'ready', 'ready', 'ready', 'ready'), 0)-&gt;(('ready', 'ready', 'ready', 'ready', 'ready', 'ready', 'ready', 'ready', 'ready', 'ready', 'ready', 'ready', 'ready', 'ready', 'ready', 'ready', 'ready', 'ready', 'ready', 'ready', 'ready', 'ready', 'ready', 'ready', 'ready', 'ready', 'ready', 'ready', 'ready', 'ready', 'ready', 'ready', 'ready', 'ready', 'ready', 'ready', 'ready', 'ready', 'ready', 'ready', 'ready'), 2)</title>\n<path fill=\"none\" stroke=\"black\" d=\"M8064.35,-375.81C8130.9,-376.18 8196.98,-376.88 8261,-378 8422.59,-380.82 8599.66,-386.35 8756.4,-392.09\"/>\n<polygon fill=\"black\" stroke=\"black\" points=\"8756.01,-395.58 8766.13,-392.45 8756.27,-388.59 8756.01,-395.58\"/>\n<text text-anchor=\"middle\" x=\"8171.5\" y=\"-381.8\" font-family=\"Times New Roman,serif\" font-size=\"14.00\">('pick_buy_design', 2),-11.7,1.0</text>\n</g>\n<!-- ((&#39;ready&#39;, &#39;ready&#39;, &#39;ready&#39;, &#39;ready&#39;, &#39;ready&#39;, &#39;ready&#39;, &#39;ready&#39;, &#39;ready&#39;, &#39;ready&#39;, &#39;ready&#39;, &#39;ready&#39;, &#39;ready&#39;, &#39;ready&#39;, &#39;ready&#39;, &#39;ready&#39;, &#39;ready&#39;, &#39;ready&#39;, &#39;ready&#39;, &#39;ready&#39;, &#39;ready&#39;, &#39;ready&#39;, &#39;ready&#39;, &#39;ready&#39;, &#39;ready&#39;, &#39;ready&#39;, &#39;ready&#39;, &#39;ready&#39;, &#39;ready&#39;, &#39;ready&#39;, &#39;ready&#39;, &#39;ready&#39;, &#39;ready&#39;, &#39;ready&#39;, &#39;ready&#39;, &#39;ready&#39;, &#39;ready&#39;, &#39;ready&#39;, &#39;ready&#39;, &#39;ready&#39;, &#39;ready&#39;, &#39;ready&#39;), 0)&#45;&gt;((&#39;ready&#39;, &#39;ready&#39;, &#39;ready&#39;, &#39;ready&#39;, &#39;ready&#39;, &#39;ready&#39;, &#39;ready&#39;, &#39;ready&#39;, &#39;ready&#39;, &#39;ready&#39;, &#39;ready&#39;, &#39;ready&#39;, &#39;ready&#39;, &#39;ready&#39;, &#39;ready&#39;, &#39;ready&#39;, &#39;ready&#39;, &#39;ready&#39;, &#39;ready&#39;, &#39;ready&#39;, &#39;ready&#39;, &#39;ready&#39;, &#39;ready&#39;, &#39;ready&#39;, &#39;ready&#39;, &#39;ready&#39;, &#39;ready&#39;, &#39;ready&#39;, &#39;ready&#39;, &#39;ready&#39;, &#39;ready&#39;, &#39;ready&#39;, &#39;ready&#39;, &#39;ready&#39;, &#39;ready&#39;, &#39;ready&#39;, &#39;ready&#39;, &#39;ready&#39;, &#39;ready&#39;, &#39;ready&#39;, &#39;ready&#39;), 2) -->\n<g id=\"edge5\" class=\"edge\">\n<title>(('ready', 'ready', 'ready', 'ready', 'ready', 'ready', 'ready', 'ready', 'ready', 'ready', 'ready', 'ready', 'ready', 'ready', 'ready', 'ready', 'ready', 'ready', 'ready', 'ready', 'ready', 'ready', 'ready', 'ready', 'ready', 'ready', 'ready', 'ready', 'ready', 'ready', 'ready', 'ready', 'ready', 'ready', 'ready', 'ready', 'ready', 'ready', 'ready', 'ready', 'ready'), 0)-&gt;(('ready', 'ready', 'ready', 'ready', 'ready', 'ready', 'ready', 'ready', 'ready', 'ready', 'ready', 'ready', 'ready', 'ready', 'ready', 'ready', 'ready', 'ready', 'ready', 'ready', 'ready', 'ready', 'ready', 'ready', 'ready', 'ready', 'ready', 'ready', 'ready', 'ready', 'ready', 'ready', 'ready', 'ready', 'ready', 'ready', 'ready', 'ready', 'ready', 'ready', 'ready'), 2)</title>\n<path fill=\"none\" stroke=\"black\" d=\"M7479.81,-367.5C7702.45,-357.87 7998.92,-349.52 8261,-357 8490.5,-363.55 8750.98,-379.04 8940.25,-391.75\"/>\n<polygon fill=\"black\" stroke=\"black\" points=\"8939.76,-395.23 8949.97,-392.41 8940.23,-388.24 8939.76,-395.23\"/>\n<text text-anchor=\"middle\" x=\"8171.5\" y=\"-360.8\" font-family=\"Times New Roman,serif\" font-size=\"14.00\">('pick_buy_design', 3),-12.2,1.0</text>\n</g>\n<!-- ((&#39;ready&#39;, &#39;ready&#39;, &#39;ready&#39;, &#39;ready&#39;, &#39;ready&#39;, &#39;ready&#39;, &#39;ready&#39;, &#39;ready&#39;, &#39;ready&#39;, &#39;ready&#39;, &#39;ready&#39;, &#39;ready&#39;, &#39;ready&#39;, &#39;ready&#39;, &#39;ready&#39;, &#39;ready&#39;, &#39;ready&#39;, &#39;ready&#39;, &#39;ready&#39;, &#39;ready&#39;, &#39;ready&#39;, &#39;ready&#39;, &#39;ready&#39;, &#39;ready&#39;, &#39;ready&#39;, &#39;ready&#39;, &#39;ready&#39;, &#39;ready&#39;, &#39;ready&#39;, &#39;ready&#39;, &#39;ready&#39;, &#39;ready&#39;, &#39;ready&#39;, &#39;ready&#39;, &#39;ready&#39;, &#39;ready&#39;, &#39;ready&#39;, &#39;ready&#39;, &#39;ready&#39;, &#39;ready&#39;, &#39;ready&#39;), 3) -->\n<g id=\"node7\" class=\"node\">\n<title>(('ready', 'ready', 'ready', 'ready', 'ready', 'ready', 'ready', 'ready', 'ready', 'ready', 'ready', 'ready', 'ready', 'ready', 'ready', 'ready', 'ready', 'ready', 'ready', 'ready', 'ready', 'ready', 'ready', 'ready', 'ready', 'ready', 'ready', 'ready', 'ready', 'ready', 'ready', 'ready', 'ready', 'ready', 'ready', 'ready', 'ready', 'ready', 'ready', 'ready', 'ready'), 3)</title>\n<polygon fill=\"none\" stroke=\"black\" points=\"12191,-429 10335,-429 10335,-393 12191,-393 12191,-429\"/>\n<text text-anchor=\"middle\" x=\"11263\" y=\"-407.3\" font-family=\"Times New Roman,serif\" font-size=\"14.00\">(('ready', 'ready', 'ready', 'ready', 'ready', 'ready', 'ready', 'ready', 'ready', 'ready', 'ready', 'ready', 'ready', 'ready', 'ready', 'ready', 'ready', 'ready', 'ready', 'ready', 'ready', 'ready', 'ready', 'ready', 'ready', 'ready', 'ready', 'ready', 'ready', 'ready', 'ready', 'ready', 'ready', 'ready', 'ready', 'ready', 'ready', 'ready', 'ready', 'ready', 'ready'), 3)</text>\n</g>\n<!-- ((&#39;ready&#39;, &#39;ready&#39;, &#39;ready&#39;, &#39;ready&#39;, &#39;ready&#39;, &#39;ready&#39;, &#39;ready&#39;, &#39;ready&#39;, &#39;ready&#39;, &#39;ready&#39;, &#39;ready&#39;, &#39;ready&#39;, &#39;ready&#39;, &#39;ready&#39;, &#39;ready&#39;, &#39;ready&#39;, &#39;ready&#39;, &#39;ready&#39;, &#39;ready&#39;, &#39;ready&#39;, &#39;ready&#39;, &#39;ready&#39;, &#39;ready&#39;, &#39;ready&#39;, &#39;ready&#39;, &#39;ready&#39;, &#39;ready&#39;, &#39;ready&#39;, &#39;ready&#39;, &#39;ready&#39;, &#39;ready&#39;, &#39;ready&#39;, &#39;ready&#39;, &#39;ready&#39;, &#39;ready&#39;, &#39;ready&#39;, &#39;ready&#39;, &#39;ready&#39;, &#39;ready&#39;, &#39;ready&#39;, &#39;ready&#39;), 3)&#45;&gt;((&#39;ready&#39;, &#39;ready&#39;, &#39;ready&#39;, &#39;ready&#39;, &#39;ready&#39;, &#39;ready&#39;, &#39;ready&#39;, &#39;ready&#39;, &#39;ready&#39;, &#39;ready&#39;, &#39;ready&#39;, &#39;ready&#39;, &#39;ready&#39;, &#39;ready&#39;, &#39;ready&#39;, &#39;ready&#39;, &#39;ready&#39;, &#39;ready&#39;, &#39;ready&#39;, &#39;ready&#39;, &#39;ready&#39;, &#39;ready&#39;, &#39;ready&#39;, &#39;ready&#39;, &#39;ready&#39;, &#39;ready&#39;, &#39;ready&#39;, &#39;ready&#39;, &#39;ready&#39;, &#39;ready&#39;, &#39;ready&#39;, &#39;ready&#39;, &#39;ready&#39;, &#39;ready&#39;, &#39;ready&#39;, &#39;ready&#39;, &#39;ready&#39;, &#39;ready&#39;, &#39;ready&#39;, &#39;ready&#39;, &#39;ready&#39;), 4) -->\n<g id=\"edge13\" class=\"edge\">\n<title>(('ready', 'ready', 'ready', 'ready', 'ready', 'ready', 'ready', 'ready', 'ready', 'ready', 'ready', 'ready', 'ready', 'ready', 'ready', 'ready', 'ready', 'ready', 'ready', 'ready', 'ready', 'ready', 'ready', 'ready', 'ready', 'ready', 'ready', 'ready', 'ready', 'ready', 'ready', 'ready', 'ready', 'ready', 'ready', 'ready', 'ready', 'ready', 'ready', 'ready', 'ready'), 3)-&gt;(('ready', 'ready', 'ready', 'ready', 'ready', 'ready', 'ready', 'ready', 'ready', 'ready', 'ready', 'ready', 'ready', 'ready', 'ready', 'ready', 'ready', 'ready', 'ready', 'ready', 'ready', 'ready', 'ready', 'ready', 'ready', 'ready', 'ready', 'ready', 'ready', 'ready', 'ready', 'ready', 'ready', 'ready', 'ready', 'ready', 'ready', 'ready', 'ready', 'ready', 'ready'), 4)</title>\n<path fill=\"none\" stroke=\"black\" d=\"M12191.27,-413.72C12249.82,-413.9 12308.79,-414.07 12367.4,-414.24\"/>\n<polygon fill=\"black\" stroke=\"black\" points=\"12367.2,-417.74 12377.21,-414.27 12367.22,-410.74 12367.2,-417.74\"/>\n<text text-anchor=\"middle\" x=\"12285\" y=\"-417.8\" font-family=\"Times New Roman,serif\" font-size=\"14.00\">('pick_wafer', 11),-10.1,1.0</text>\n</g>\n<!-- ((&#39;ready&#39;, &#39;ready&#39;, &#39;ready&#39;, &#39;ready&#39;, &#39;ready&#39;, &#39;ready&#39;, &#39;ready&#39;, &#39;ready&#39;, &#39;ready&#39;, &#39;ready&#39;, &#39;ready&#39;, &#39;ready&#39;, &#39;ready&#39;, &#39;ready&#39;, &#39;ready&#39;, &#39;ready&#39;, &#39;ready&#39;, &#39;ready&#39;, &#39;ready&#39;, &#39;ready&#39;, &#39;ready&#39;, &#39;ready&#39;, &#39;ready&#39;, &#39;ready&#39;, &#39;ready&#39;, &#39;ready&#39;, &#39;ready&#39;, &#39;ready&#39;, &#39;ready&#39;, &#39;ready&#39;, &#39;ready&#39;, &#39;ready&#39;, &#39;ready&#39;, &#39;ready&#39;, &#39;ready&#39;, &#39;ready&#39;, &#39;ready&#39;, &#39;ready&#39;, &#39;ready&#39;, &#39;ready&#39;, &#39;ready&#39;), 3)&#45;&gt;((&#39;ready&#39;, &#39;ready&#39;, &#39;ready&#39;, &#39;ready&#39;, &#39;ready&#39;, &#39;ready&#39;, &#39;ready&#39;, &#39;ready&#39;, &#39;ready&#39;, &#39;ready&#39;, &#39;ready&#39;, &#39;ready&#39;, &#39;ready&#39;, &#39;ready&#39;, &#39;ready&#39;, &#39;ready&#39;, &#39;ready&#39;, &#39;ready&#39;, &#39;ready&#39;, &#39;ready&#39;, &#39;ready&#39;, &#39;ready&#39;, &#39;ready&#39;, &#39;ready&#39;, &#39;ready&#39;, &#39;ready&#39;, &#39;ready&#39;, &#39;ready&#39;, &#39;ready&#39;, &#39;ready&#39;, &#39;ready&#39;, &#39;ready&#39;, &#39;ready&#39;, &#39;ready&#39;, &#39;ready&#39;, &#39;ready&#39;, &#39;ready&#39;, &#39;ready&#39;, &#39;ready&#39;, &#39;ready&#39;, &#39;ready&#39;), 4) -->\n<g id=\"edge14\" class=\"edge\">\n<title>(('ready', 'ready', 'ready', 'ready', 'ready', 'ready', 'ready', 'ready', 'ready', 'ready', 'ready', 'ready', 'ready', 'ready', 'ready', 'ready', 'ready', 'ready', 'ready', 'ready', 'ready', 'ready', 'ready', 'ready', 'ready', 'ready', 'ready', 'ready', 'ready', 'ready', 'ready', 'ready', 'ready', 'ready', 'ready', 'ready', 'ready', 'ready', 'ready', 'ready', 'ready'), 3)-&gt;(('ready', 'ready', 'ready', 'ready', 'ready', 'ready', 'ready', 'ready', 'ready', 'ready', 'ready', 'ready', 'ready', 'ready', 'ready', 'ready', 'ready', 'ready', 'ready', 'ready', 'ready', 'ready', 'ready', 'ready', 'ready', 'ready', 'ready', 'ready', 'ready', 'ready', 'ready', 'ready', 'ready', 'ready', 'ready', 'ready', 'ready', 'ready', 'ready', 'ready', 'ready'), 4)</title>\n<path fill=\"none\" stroke=\"black\" d=\"M12191.3,-393.02C12248.72,-393.03 12305.65,-393.33 12361,-394 12443.73,-395.01 12530.53,-396.51 12616.58,-398.27\"/>\n<polygon fill=\"black\" stroke=\"black\" points=\"12616.31,-401.77 12626.38,-398.47 12616.45,-394.77 12616.31,-401.77\"/>\n<text text-anchor=\"middle\" x=\"12285\" y=\"-397.8\" font-family=\"Times New Roman,serif\" font-size=\"14.00\">('pick_wafer', 12),-10.7,1.0</text>\n</g>\n<!-- ((&#39;ready&#39;, &#39;ready&#39;, &#39;ready&#39;, &#39;ready&#39;, &#39;ready&#39;, &#39;ready&#39;, &#39;ready&#39;, &#39;ready&#39;, &#39;ready&#39;, &#39;ready&#39;, &#39;ready&#39;, &#39;ready&#39;, &#39;ready&#39;, &#39;ready&#39;, &#39;ready&#39;, &#39;ready&#39;, &#39;ready&#39;, &#39;ready&#39;, &#39;ready&#39;, &#39;ready&#39;, &#39;ready&#39;, &#39;ready&#39;, &#39;ready&#39;, &#39;ready&#39;, &#39;ready&#39;, &#39;ready&#39;, &#39;ready&#39;, &#39;ready&#39;, &#39;ready&#39;, &#39;ready&#39;, &#39;ready&#39;, &#39;ready&#39;, &#39;ready&#39;, &#39;ready&#39;, &#39;ready&#39;, &#39;ready&#39;, &#39;ready&#39;, &#39;ready&#39;, &#39;ready&#39;, &#39;ready&#39;, &#39;ready&#39;), 6) -->\n<g id=\"node8\" class=\"node\">\n<title>(('ready', 'ready', 'ready', 'ready', 'ready', 'ready', 'ready', 'ready', 'ready', 'ready', 'ready', 'ready', 'ready', 'ready', 'ready', 'ready', 'ready', 'ready', 'ready', 'ready', 'ready', 'ready', 'ready', 'ready', 'ready', 'ready', 'ready', 'ready', 'ready', 'ready', 'ready', 'ready', 'ready', 'ready', 'ready', 'ready', 'ready', 'ready', 'ready', 'ready', 'ready'), 6)</title>\n<polygon fill=\"none\" stroke=\"black\" points=\"18356,-371 16500,-371 16500,-335 18356,-335 18356,-371\"/>\n<text text-anchor=\"middle\" x=\"17428\" y=\"-349.3\" font-family=\"Times New Roman,serif\" font-size=\"14.00\">(('ready', 'ready', 'ready', 'ready', 'ready', 'ready', 'ready', 'ready', 'ready', 'ready', 'ready', 'ready', 'ready', 'ready', 'ready', 'ready', 'ready', 'ready', 'ready', 'ready', 'ready', 'ready', 'ready', 'ready', 'ready', 'ready', 'ready', 'ready', 'ready', 'ready', 'ready', 'ready', 'ready', 'ready', 'ready', 'ready', 'ready', 'ready', 'ready', 'ready', 'ready'), 6)</text>\n</g>\n<!-- ((&#39;ready&#39;, &#39;ready&#39;, &#39;ready&#39;, &#39;ready&#39;, &#39;ready&#39;, &#39;ready&#39;, &#39;ready&#39;, &#39;ready&#39;, &#39;ready&#39;, &#39;ready&#39;, &#39;ready&#39;, &#39;ready&#39;, &#39;ready&#39;, &#39;ready&#39;, &#39;ready&#39;, &#39;ready&#39;, &#39;ready&#39;, &#39;ready&#39;, &#39;ready&#39;, &#39;ready&#39;, &#39;ready&#39;, &#39;ready&#39;, &#39;ready&#39;, &#39;ready&#39;, &#39;ready&#39;, &#39;ready&#39;, &#39;ready&#39;, &#39;ready&#39;, &#39;ready&#39;, &#39;ready&#39;, &#39;ready&#39;, &#39;ready&#39;, &#39;ready&#39;, &#39;ready&#39;, &#39;ready&#39;, &#39;ready&#39;, &#39;ready&#39;, &#39;ready&#39;, &#39;ready&#39;, &#39;ready&#39;, &#39;ready&#39;), 6)&#45;&gt;((&#39;ready&#39;, &#39;ready&#39;, &#39;ready&#39;, &#39;ready&#39;, &#39;ready&#39;, &#39;ready&#39;, &#39;ready&#39;, &#39;ready&#39;, &#39;ready&#39;, &#39;ready&#39;, &#39;ready&#39;, &#39;ready&#39;, &#39;ready&#39;, &#39;ready&#39;, &#39;ready&#39;, &#39;ready&#39;, &#39;ready&#39;, &#39;ready&#39;, &#39;ready&#39;, &#39;ready&#39;, &#39;ready&#39;, &#39;ready&#39;, &#39;ready&#39;, &#39;ready&#39;, &#39;ready&#39;, &#39;ready&#39;, &#39;ready&#39;, &#39;ready&#39;, &#39;ready&#39;, &#39;ready&#39;, &#39;ready&#39;, &#39;ready&#39;, &#39;ready&#39;, &#39;ready&#39;, &#39;ready&#39;, &#39;ready&#39;, &#39;ready&#39;, &#39;ready&#39;, &#39;ready&#39;, &#39;ready&#39;, &#39;ready&#39;), 7) -->\n<g id=\"edge26\" class=\"edge\">\n<title>(('ready', 'ready', 'ready', 'ready', 'ready', 'ready', 'ready', 'ready', 'ready', 'ready', 'ready', 'ready', 'ready', 'ready', 'ready', 'ready', 'ready', 'ready', 'ready', 'ready', 'ready', 'ready', 'ready', 'ready', 'ready', 'ready', 'ready', 'ready', 'ready', 'ready', 'ready', 'ready', 'ready', 'ready', 'ready', 'ready', 'ready', 'ready', 'ready', 'ready', 'ready'), 6)-&gt;(('ready', 'ready', 'ready', 'ready', 'ready', 'ready', 'ready', 'ready', 'ready', 'ready', 'ready', 'ready', 'ready', 'ready', 'ready', 'ready', 'ready', 'ready', 'ready', 'ready', 'ready', 'ready', 'ready', 'ready', 'ready', 'ready', 'ready', 'ready', 'ready', 'ready', 'ready', 'ready', 'ready', 'ready', 'ready', 'ready', 'ready', 'ready', 'ready', 'ready', 'ready'), 7)</title>\n<path fill=\"none\" stroke=\"black\" d=\"M18356.42,-351.75C18421.63,-348.99 18486.33,-345.46 18549,-341 18847.97,-319.7 19196.91,-265.97 19375.47,-236.36\"/>\n<polygon fill=\"black\" stroke=\"black\" points=\"19375.94,-239.83 19385.23,-234.74 19374.79,-232.93 19375.94,-239.83\"/>\n<text text-anchor=\"middle\" x=\"18461.5\" y=\"-352.8\" font-family=\"Times New Roman,serif\" font-size=\"14.00\">('pick_aluminum', 24),-14.0,1.0</text>\n</g>\n<!-- ((&#39;ready&#39;, &#39;ready&#39;, &#39;ready&#39;, &#39;ready&#39;, &#39;ready&#39;, &#39;ready&#39;, &#39;ready&#39;, &#39;ready&#39;, &#39;ready&#39;, &#39;ready&#39;, &#39;ready&#39;, &#39;ready&#39;, &#39;ready&#39;, &#39;ready&#39;, &#39;ready&#39;, &#39;ready&#39;, &#39;ready&#39;, &#39;ready&#39;, &#39;ready&#39;, &#39;ready&#39;, &#39;ready&#39;, &#39;ready&#39;, &#39;ready&#39;, &#39;ready&#39;, &#39;ready&#39;, &#39;ready&#39;, &#39;ready&#39;, &#39;ready&#39;, &#39;ready&#39;, &#39;ready&#39;, &#39;ready&#39;, &#39;ready&#39;, &#39;ready&#39;, &#39;ready&#39;, &#39;ready&#39;, &#39;ready&#39;, &#39;ready&#39;, &#39;ready&#39;, &#39;ready&#39;, &#39;ready&#39;, &#39;ready&#39;), 6)&#45;&gt;((&#39;ready&#39;, &#39;ready&#39;, &#39;ready&#39;, &#39;ready&#39;, &#39;ready&#39;, &#39;ready&#39;, &#39;ready&#39;, &#39;ready&#39;, &#39;ready&#39;, &#39;ready&#39;, &#39;ready&#39;, &#39;ready&#39;, &#39;ready&#39;, &#39;ready&#39;, &#39;ready&#39;, &#39;ready&#39;, &#39;ready&#39;, &#39;ready&#39;, &#39;ready&#39;, &#39;ready&#39;, &#39;ready&#39;, &#39;ready&#39;, &#39;ready&#39;, &#39;ready&#39;, &#39;ready&#39;, &#39;ready&#39;, &#39;ready&#39;, &#39;ready&#39;, &#39;ready&#39;, &#39;ready&#39;, &#39;ready&#39;, &#39;ready&#39;, &#39;ready&#39;, &#39;ready&#39;, &#39;ready&#39;, &#39;ready&#39;, &#39;ready&#39;, &#39;ready&#39;, &#39;ready&#39;, &#39;ready&#39;, &#39;ready&#39;), 7) -->\n<g id=\"edge27\" class=\"edge\">\n<title>(('ready', 'ready', 'ready', 'ready', 'ready', 'ready', 'ready', 'ready', 'ready', 'ready', 'ready', 'ready', 'ready', 'ready', 'ready', 'ready', 'ready', 'ready', 'ready', 'ready', 'ready', 'ready', 'ready', 'ready', 'ready', 'ready', 'ready', 'ready', 'ready', 'ready', 'ready', 'ready', 'ready', 'ready', 'ready', 'ready', 'ready', 'ready', 'ready', 'ready', 'ready'), 6)-&gt;(('ready', 'ready', 'ready', 'ready', 'ready', 'ready', 'ready', 'ready', 'ready', 'ready', 'ready', 'ready', 'ready', 'ready', 'ready', 'ready', 'ready', 'ready', 'ready', 'ready', 'ready', 'ready', 'ready', 'ready', 'ready', 'ready', 'ready', 'ready', 'ready', 'ready', 'ready', 'ready', 'ready', 'ready', 'ready', 'ready', 'ready', 'ready', 'ready', 'ready', 'ready'), 7)</title>\n<path fill=\"none\" stroke=\"black\" d=\"M17958.08,-334.51C18144.9,-326.63 18356.39,-316.16 18549,-303 18813.31,-284.94 19118.41,-255.25 19308.79,-235.66\"/>\n<polygon fill=\"black\" stroke=\"black\" points=\"19308.93,-239.16 19318.52,-234.65 19308.21,-232.2 19308.93,-239.16\"/>\n<text text-anchor=\"middle\" x=\"18461.5\" y=\"-315.8\" font-family=\"Times New Roman,serif\" font-size=\"14.00\">('pick_aluminum', 25),-6.7,1.0</text>\n</g>\n<!-- ((&#39;ready&#39;, &#39;ready&#39;, &#39;ready&#39;, &#39;ready&#39;, &#39;ready&#39;, &#39;ready&#39;, &#39;ready&#39;, &#39;ready&#39;, &#39;ready&#39;, &#39;ready&#39;, &#39;ready&#39;, &#39;ready&#39;, &#39;ready&#39;, &#39;ready&#39;, &#39;ready&#39;, &#39;ready&#39;, &#39;ready&#39;, &#39;ready&#39;, &#39;ready&#39;, &#39;ready&#39;, &#39;ready&#39;, &#39;ready&#39;, &#39;ready&#39;, &#39;ready&#39;, &#39;ready&#39;, &#39;ready&#39;, &#39;ready&#39;, &#39;ready&#39;, &#39;ready&#39;, &#39;ready&#39;, &#39;ready&#39;, &#39;ready&#39;, &#39;ready&#39;, &#39;ready&#39;, &#39;ready&#39;, &#39;ready&#39;, &#39;ready&#39;, &#39;ready&#39;, &#39;ready&#39;, &#39;ready&#39;, &#39;ready&#39;), 6)&#45;&gt;((&#39;ready&#39;, &#39;ready&#39;, &#39;ready&#39;, &#39;ready&#39;, &#39;ready&#39;, &#39;ready&#39;, &#39;ready&#39;, &#39;ready&#39;, &#39;ready&#39;, &#39;ready&#39;, &#39;ready&#39;, &#39;ready&#39;, &#39;ready&#39;, &#39;ready&#39;, &#39;ready&#39;, &#39;ready&#39;, &#39;ready&#39;, &#39;ready&#39;, &#39;ready&#39;, &#39;ready&#39;, &#39;ready&#39;, &#39;ready&#39;, &#39;ready&#39;, &#39;ready&#39;, &#39;ready&#39;, &#39;ready&#39;, &#39;ready&#39;, &#39;ready&#39;, &#39;ready&#39;, &#39;ready&#39;, &#39;ready&#39;, &#39;ready&#39;, &#39;ready&#39;, &#39;ready&#39;, &#39;ready&#39;, &#39;ready&#39;, &#39;ready&#39;, &#39;ready&#39;, &#39;ready&#39;, &#39;ready&#39;, &#39;ready&#39;), 7) -->\n<g id=\"edge28\" class=\"edge\">\n<title>(('ready', 'ready', 'ready', 'ready', 'ready', 'ready', 'ready', 'ready', 'ready', 'ready', 'ready', 'ready', 'ready', 'ready', 'ready', 'ready', 'ready', 'ready', 'ready', 'ready', 'ready', 'ready', 'ready', 'ready', 'ready', 'ready', 'ready', 'ready', 'ready', 'ready', 'ready', 'ready', 'ready', 'ready', 'ready', 'ready', 'ready', 'ready', 'ready', 'ready', 'ready'), 6)-&gt;(('ready', 'ready', 'ready', 'ready', 'ready', 'ready', 'ready', 'ready', 'ready', 'ready', 'ready', 'ready', 'ready', 'ready', 'ready', 'ready', 'ready', 'ready', 'ready', 'ready', 'ready', 'ready', 'ready', 'ready', 'ready', 'ready', 'ready', 'ready', 'ready', 'ready', 'ready', 'ready', 'ready', 'ready', 'ready', 'ready', 'ready', 'ready', 'ready', 'ready', 'ready'), 7)</title>\n<path fill=\"none\" stroke=\"black\" d=\"M17670.74,-334.53C17861.63,-320.14 18134.78,-300 18374,-284 18638.49,-266.32 18938.26,-248.22 19161.06,-235.14\"/>\n<polygon fill=\"black\" stroke=\"black\" points=\"19160.99,-238.65 19170.77,-234.57 19160.58,-231.67 19160.99,-238.65\"/>\n<text text-anchor=\"middle\" x=\"18461.5\" y=\"-287.8\" font-family=\"Times New Roman,serif\" font-size=\"14.00\">('pick_aluminum', 26),-13.1,1.0</text>\n</g>\n<!-- ((&#39;ready&#39;, &#39;ready&#39;, &#39;ready&#39;, &#39;ready&#39;, &#39;ready&#39;, &#39;ready&#39;, &#39;ready&#39;, &#39;ready&#39;, &#39;ready&#39;, &#39;ready&#39;, &#39;ready&#39;, &#39;ready&#39;, &#39;ready&#39;, &#39;ready&#39;, &#39;ready&#39;, &#39;ready&#39;, &#39;ready&#39;, &#39;ready&#39;, &#39;ready&#39;, &#39;ready&#39;, &#39;ready&#39;, &#39;ready&#39;, &#39;ready&#39;, &#39;ready&#39;, &#39;ready&#39;, &#39;ready&#39;, &#39;ready&#39;, &#39;ready&#39;, &#39;ready&#39;, &#39;ready&#39;, &#39;ready&#39;, &#39;ready&#39;, &#39;ready&#39;, &#39;ready&#39;, &#39;ready&#39;, &#39;ready&#39;, &#39;ready&#39;, &#39;ready&#39;, &#39;ready&#39;, &#39;ready&#39;, &#39;ready&#39;), 9)&#45;&gt;((&#39;ready&#39;, &#39;ready&#39;, &#39;ready&#39;, &#39;ready&#39;, &#39;ready&#39;, &#39;ready&#39;, &#39;ready&#39;, &#39;ready&#39;, &#39;ready&#39;, &#39;ready&#39;, &#39;ready&#39;, &#39;ready&#39;, &#39;ready&#39;, &#39;ready&#39;, &#39;ready&#39;, &#39;ready&#39;, &#39;ready&#39;, &#39;ready&#39;, &#39;ready&#39;, &#39;ready&#39;, &#39;ready&#39;, &#39;ready&#39;, &#39;ready&#39;, &#39;ready&#39;, &#39;ready&#39;, &#39;ready&#39;, &#39;ready&#39;, &#39;ready&#39;, &#39;ready&#39;, &#39;ready&#39;, &#39;ready&#39;, &#39;ready&#39;, &#39;ready&#39;, &#39;ready&#39;, &#39;ready&#39;, &#39;ready&#39;, &#39;ready&#39;, &#39;ready&#39;, &#39;ready&#39;, &#39;ready&#39;, &#39;ready&#39;), 10) -->\n<g id=\"edge37\" class=\"edge\">\n<title>(('ready', 'ready', 'ready', 'ready', 'ready', 'ready', 'ready', 'ready', 'ready', 'ready', 'ready', 'ready', 'ready', 'ready', 'ready', 'ready', 'ready', 'ready', 'ready', 'ready', 'ready', 'ready', 'ready', 'ready', 'ready', 'ready', 'ready', 'ready', 'ready', 'ready', 'ready', 'ready', 'ready', 'ready', 'ready', 'ready', 'ready', 'ready', 'ready', 'ready', 'ready'), 9)-&gt;(('ready', 'ready', 'ready', 'ready', 'ready', 'ready', 'ready', 'ready', 'ready', 'ready', 'ready', 'ready', 'ready', 'ready', 'ready', 'ready', 'ready', 'ready', 'ready', 'ready', 'ready', 'ready', 'ready', 'ready', 'ready', 'ready', 'ready', 'ready', 'ready', 'ready', 'ready', 'ready', 'ready', 'ready', 'ready', 'ready', 'ready', 'ready', 'ready', 'ready', 'ready'), 10)</title>\n<path fill=\"none\" stroke=\"black\" d=\"M3905.33,-329.64C3969.53,-330.79 4034.28,-331.95 4098.56,-333.11\"/>\n<polygon fill=\"black\" stroke=\"black\" points=\"4098.13,-336.6 4108.19,-333.28 4098.26,-329.6 4098.13,-336.6\"/>\n<text text-anchor=\"middle\" x=\"4007.5\" y=\"-335.8\" font-family=\"Times New Roman,serif\" font-size=\"14.00\">('pick_chemicals', 35),-1.8,1.0</text>\n</g>\n<!-- ((&#39;ready&#39;, &#39;ready&#39;, &#39;ready&#39;, &#39;ready&#39;, &#39;ready&#39;, &#39;ready&#39;, &#39;ready&#39;, &#39;ready&#39;, &#39;ready&#39;, &#39;ready&#39;, &#39;ready&#39;, &#39;ready&#39;, &#39;ready&#39;, &#39;ready&#39;, &#39;ready&#39;, &#39;ready&#39;, &#39;ready&#39;, &#39;ready&#39;, &#39;ready&#39;, &#39;ready&#39;, &#39;ready&#39;, &#39;ready&#39;, &#39;ready&#39;, &#39;ready&#39;, &#39;ready&#39;, &#39;ready&#39;, &#39;ready&#39;, &#39;ready&#39;, &#39;ready&#39;, &#39;ready&#39;, &#39;ready&#39;, &#39;ready&#39;, &#39;ready&#39;, &#39;ready&#39;, &#39;ready&#39;, &#39;ready&#39;, &#39;ready&#39;, &#39;ready&#39;, &#39;ready&#39;, &#39;ready&#39;, &#39;ready&#39;), 9)&#45;&gt;((&#39;ready&#39;, &#39;ready&#39;, &#39;ready&#39;, &#39;ready&#39;, &#39;ready&#39;, &#39;ready&#39;, &#39;ready&#39;, &#39;ready&#39;, &#39;ready&#39;, &#39;ready&#39;, &#39;ready&#39;, &#39;ready&#39;, &#39;ready&#39;, &#39;ready&#39;, &#39;ready&#39;, &#39;ready&#39;, &#39;ready&#39;, &#39;ready&#39;, &#39;ready&#39;, &#39;ready&#39;, &#39;ready&#39;, &#39;ready&#39;, &#39;ready&#39;, &#39;ready&#39;, &#39;ready&#39;, &#39;ready&#39;, &#39;ready&#39;, &#39;ready&#39;, &#39;ready&#39;, &#39;ready&#39;, &#39;ready&#39;, &#39;ready&#39;, &#39;ready&#39;, &#39;ready&#39;, &#39;ready&#39;, &#39;ready&#39;, &#39;ready&#39;, &#39;ready&#39;, &#39;ready&#39;, &#39;ready&#39;, &#39;ready&#39;), 10) -->\n<g id=\"edge38\" class=\"edge\">\n<title>(('ready', 'ready', 'ready', 'ready', 'ready', 'ready', 'ready', 'ready', 'ready', 'ready', 'ready', 'ready', 'ready', 'ready', 'ready', 'ready', 'ready', 'ready', 'ready', 'ready', 'ready', 'ready', 'ready', 'ready', 'ready', 'ready', 'ready', 'ready', 'ready', 'ready', 'ready', 'ready', 'ready', 'ready', 'ready', 'ready', 'ready', 'ready', 'ready', 'ready', 'ready'), 9)-&gt;(('ready', 'ready', 'ready', 'ready', 'ready', 'ready', 'ready', 'ready', 'ready', 'ready', 'ready', 'ready', 'ready', 'ready', 'ready', 'ready', 'ready', 'ready', 'ready', 'ready', 'ready', 'ready', 'ready', 'ready', 'ready', 'ready', 'ready', 'ready', 'ready', 'ready', 'ready', 'ready', 'ready', 'ready', 'ready', 'ready', 'ready', 'ready', 'ready', 'ready', 'ready'), 10)</title>\n<path fill=\"none\" stroke=\"black\" d=\"M3905.41,-311.02C3911.29,-311.01 3917.16,-311.01 3923,-311 3998.11,-310.92 4016.9,-309.46 4092,-311 4280.65,-314.88 4490.27,-323.09 4664.34,-330.99\"/>\n<polygon fill=\"black\" stroke=\"black\" points=\"4664.09,-334.48 4674.24,-331.44 4664.41,-327.49 4664.09,-334.48\"/>\n<text text-anchor=\"middle\" x=\"4007.5\" y=\"-314.8\" font-family=\"Times New Roman,serif\" font-size=\"14.00\">('pick_chemicals', 36),-1.0,1.0</text>\n</g>\n<!-- ((&#39;ready&#39;, &#39;ready&#39;, &#39;ready&#39;, &#39;ready&#39;, &#39;ready&#39;, &#39;ready&#39;, &#39;ready&#39;, &#39;ready&#39;, &#39;ready&#39;, &#39;ready&#39;, &#39;ready&#39;, &#39;ready&#39;, &#39;ready&#39;, &#39;ready&#39;, &#39;ready&#39;, &#39;ready&#39;, &#39;ready&#39;, &#39;ready&#39;, &#39;ready&#39;, &#39;ready&#39;, &#39;ready&#39;, &#39;ready&#39;, &#39;ready&#39;, &#39;ready&#39;, &#39;ready&#39;, &#39;ready&#39;, &#39;ready&#39;, &#39;ready&#39;, &#39;ready&#39;, &#39;ready&#39;, &#39;ready&#39;, &#39;ready&#39;, &#39;ready&#39;, &#39;ready&#39;, &#39;ready&#39;, &#39;ready&#39;, &#39;ready&#39;, &#39;ready&#39;, &#39;ready&#39;, &#39;ready&#39;, &#39;ready&#39;), 5)&#45;&gt;((&#39;ready&#39;, &#39;ready&#39;, &#39;ready&#39;, &#39;ready&#39;, &#39;ready&#39;, &#39;ready&#39;, &#39;ready&#39;, &#39;ready&#39;, &#39;ready&#39;, &#39;ready&#39;, &#39;ready&#39;, &#39;ready&#39;, &#39;ready&#39;, &#39;ready&#39;, &#39;ready&#39;, &#39;ready&#39;, &#39;ready&#39;, &#39;ready&#39;, &#39;ready&#39;, &#39;ready&#39;, &#39;ready&#39;, &#39;ready&#39;, &#39;ready&#39;, &#39;ready&#39;, &#39;ready&#39;, &#39;ready&#39;, &#39;ready&#39;, &#39;ready&#39;, &#39;ready&#39;, &#39;ready&#39;, &#39;ready&#39;, &#39;ready&#39;, &#39;ready&#39;, &#39;ready&#39;, &#39;ready&#39;, &#39;ready&#39;, &#39;ready&#39;, &#39;ready&#39;, &#39;ready&#39;, &#39;ready&#39;, &#39;ready&#39;), 6) -->\n<g id=\"edge23\" class=\"edge\">\n<title>(('ready', 'ready', 'ready', 'ready', 'ready', 'ready', 'ready', 'ready', 'ready', 'ready', 'ready', 'ready', 'ready', 'ready', 'ready', 'ready', 'ready', 'ready', 'ready', 'ready', 'ready', 'ready', 'ready', 'ready', 'ready', 'ready', 'ready', 'ready', 'ready', 'ready', 'ready', 'ready', 'ready', 'ready', 'ready', 'ready', 'ready', 'ready', 'ready', 'ready', 'ready'), 5)-&gt;(('ready', 'ready', 'ready', 'ready', 'ready', 'ready', 'ready', 'ready', 'ready', 'ready', 'ready', 'ready', 'ready', 'ready', 'ready', 'ready', 'ready', 'ready', 'ready', 'ready', 'ready', 'ready', 'ready', 'ready', 'ready', 'ready', 'ready', 'ready', 'ready', 'ready', 'ready', 'ready', 'ready', 'ready', 'ready', 'ready', 'ready', 'ready', 'ready', 'ready', 'ready'), 6)</title>\n<path fill=\"none\" stroke=\"black\" d=\"M16289.48,-392.06C16354.63,-390.87 16419.31,-389.52 16482,-388 16644.08,-384.06 16821.74,-377.95 16978.84,-371.93\"/>\n<polygon fill=\"black\" stroke=\"black\" points=\"16978.75,-375.44 16988.6,-371.56 16978.48,-368.44 16978.75,-375.44\"/>\n<text text-anchor=\"middle\" x=\"16394.5\" y=\"-394.8\" font-family=\"Times New Roman,serif\" font-size=\"14.00\">('pick_phosphor', 21),-11.7,1.0</text>\n</g>\n<!-- ((&#39;ready&#39;, &#39;ready&#39;, &#39;ready&#39;, &#39;ready&#39;, &#39;ready&#39;, &#39;ready&#39;, &#39;ready&#39;, &#39;ready&#39;, &#39;ready&#39;, &#39;ready&#39;, &#39;ready&#39;, &#39;ready&#39;, &#39;ready&#39;, &#39;ready&#39;, &#39;ready&#39;, &#39;ready&#39;, &#39;ready&#39;, &#39;ready&#39;, &#39;ready&#39;, &#39;ready&#39;, &#39;ready&#39;, &#39;ready&#39;, &#39;ready&#39;, &#39;ready&#39;, &#39;ready&#39;, &#39;ready&#39;, &#39;ready&#39;, &#39;ready&#39;, &#39;ready&#39;, &#39;ready&#39;, &#39;ready&#39;, &#39;ready&#39;, &#39;ready&#39;, &#39;ready&#39;, &#39;ready&#39;, &#39;ready&#39;, &#39;ready&#39;, &#39;ready&#39;, &#39;ready&#39;, &#39;ready&#39;, &#39;ready&#39;), 5)&#45;&gt;((&#39;ready&#39;, &#39;ready&#39;, &#39;ready&#39;, &#39;ready&#39;, &#39;ready&#39;, &#39;ready&#39;, &#39;ready&#39;, &#39;ready&#39;, &#39;ready&#39;, &#39;ready&#39;, &#39;ready&#39;, &#39;ready&#39;, &#39;ready&#39;, &#39;ready&#39;, &#39;ready&#39;, &#39;ready&#39;, &#39;ready&#39;, &#39;ready&#39;, &#39;ready&#39;, &#39;ready&#39;, &#39;ready&#39;, &#39;ready&#39;, &#39;ready&#39;, &#39;ready&#39;, &#39;ready&#39;, &#39;ready&#39;, &#39;ready&#39;, &#39;ready&#39;, &#39;ready&#39;, &#39;ready&#39;, &#39;ready&#39;, &#39;ready&#39;, &#39;ready&#39;, &#39;ready&#39;, &#39;ready&#39;, &#39;ready&#39;, &#39;ready&#39;, &#39;ready&#39;, &#39;ready&#39;, &#39;ready&#39;, &#39;ready&#39;), 6) -->\n<g id=\"edge24\" class=\"edge\">\n<title>(('ready', 'ready', 'ready', 'ready', 'ready', 'ready', 'ready', 'ready', 'ready', 'ready', 'ready', 'ready', 'ready', 'ready', 'ready', 'ready', 'ready', 'ready', 'ready', 'ready', 'ready', 'ready', 'ready', 'ready', 'ready', 'ready', 'ready', 'ready', 'ready', 'ready', 'ready', 'ready', 'ready', 'ready', 'ready', 'ready', 'ready', 'ready', 'ready', 'ready', 'ready'), 5)-&gt;(('ready', 'ready', 'ready', 'ready', 'ready', 'ready', 'ready', 'ready', 'ready', 'ready', 'ready', 'ready', 'ready', 'ready', 'ready', 'ready', 'ready', 'ready', 'ready', 'ready', 'ready', 'ready', 'ready', 'ready', 'ready', 'ready', 'ready', 'ready', 'ready', 'ready', 'ready', 'ready', 'ready', 'ready', 'ready', 'ready', 'ready', 'ready', 'ready', 'ready', 'ready'), 6)</title>\n<path fill=\"none\" stroke=\"black\" d=\"M15854.25,-382.51C15999.99,-377.52 16159.92,-372.54 16307,-369 16366.02,-367.58 16426.8,-366.27 16488.08,-365.07\"/>\n<polygon fill=\"black\" stroke=\"black\" points=\"16488.09,-368.57 16498.02,-364.87 16487.95,-361.57 16488.09,-368.57\"/>\n<text text-anchor=\"middle\" x=\"16394.5\" y=\"-372.8\" font-family=\"Times New Roman,serif\" font-size=\"14.00\">('pick_phosphor', 22),-7.9,1.0</text>\n</g>\n<!-- ((&#39;ready&#39;, &#39;ready&#39;, &#39;ready&#39;, &#39;ready&#39;, &#39;ready&#39;, &#39;ready&#39;, &#39;ready&#39;, &#39;ready&#39;, &#39;ready&#39;, &#39;ready&#39;, &#39;ready&#39;, &#39;ready&#39;, &#39;ready&#39;, &#39;ready&#39;, &#39;ready&#39;, &#39;ready&#39;, &#39;ready&#39;, &#39;ready&#39;, &#39;ready&#39;, &#39;ready&#39;, &#39;ready&#39;, &#39;ready&#39;, &#39;ready&#39;, &#39;ready&#39;, &#39;ready&#39;, &#39;ready&#39;, &#39;ready&#39;, &#39;ready&#39;, &#39;ready&#39;, &#39;ready&#39;, &#39;ready&#39;, &#39;ready&#39;, &#39;ready&#39;, &#39;ready&#39;, &#39;ready&#39;, &#39;ready&#39;, &#39;ready&#39;, &#39;ready&#39;, &#39;ready&#39;, &#39;ready&#39;, &#39;ready&#39;), 5)&#45;&gt;((&#39;ready&#39;, &#39;ready&#39;, &#39;ready&#39;, &#39;ready&#39;, &#39;ready&#39;, &#39;ready&#39;, &#39;ready&#39;, &#39;ready&#39;, &#39;ready&#39;, &#39;ready&#39;, &#39;ready&#39;, &#39;ready&#39;, &#39;ready&#39;, &#39;ready&#39;, &#39;ready&#39;, &#39;ready&#39;, &#39;ready&#39;, &#39;ready&#39;, &#39;ready&#39;, &#39;ready&#39;, &#39;ready&#39;, &#39;ready&#39;, &#39;ready&#39;, &#39;ready&#39;, &#39;ready&#39;, &#39;ready&#39;, &#39;ready&#39;, &#39;ready&#39;, &#39;ready&#39;, &#39;ready&#39;, &#39;ready&#39;, &#39;ready&#39;, &#39;ready&#39;, &#39;ready&#39;, &#39;ready&#39;, &#39;ready&#39;, &#39;ready&#39;, &#39;ready&#39;, &#39;ready&#39;, &#39;ready&#39;, &#39;ready&#39;), 6) -->\n<g id=\"edge25\" class=\"edge\">\n<title>(('ready', 'ready', 'ready', 'ready', 'ready', 'ready', 'ready', 'ready', 'ready', 'ready', 'ready', 'ready', 'ready', 'ready', 'ready', 'ready', 'ready', 'ready', 'ready', 'ready', 'ready', 'ready', 'ready', 'ready', 'ready', 'ready', 'ready', 'ready', 'ready', 'ready', 'ready', 'ready', 'ready', 'ready', 'ready', 'ready', 'ready', 'ready', 'ready', 'ready', 'ready'), 5)-&gt;(('ready', 'ready', 'ready', 'ready', 'ready', 'ready', 'ready', 'ready', 'ready', 'ready', 'ready', 'ready', 'ready', 'ready', 'ready', 'ready', 'ready', 'ready', 'ready', 'ready', 'ready', 'ready', 'ready', 'ready', 'ready', 'ready', 'ready', 'ready', 'ready', 'ready', 'ready', 'ready', 'ready', 'ready', 'ready', 'ready', 'ready', 'ready', 'ready', 'ready', 'ready'), 6)</title>\n<path fill=\"none\" stroke=\"black\" d=\"M15611.53,-382.51C15801.95,-369.36 16070.86,-352.87 16307,-346 16366.12,-344.28 16427.01,-343.07 16488.41,-342.27\"/>\n<polygon fill=\"black\" stroke=\"black\" points=\"16488.41,-345.77 16498.36,-342.14 16488.32,-338.77 16488.41,-345.77\"/>\n<text text-anchor=\"middle\" x=\"16394.5\" y=\"-349.8\" font-family=\"Times New Roman,serif\" font-size=\"14.00\">('pick_phosphor', 23),-1.0,1.0</text>\n</g>\n<!-- ((&#39;ready&#39;, &#39;ready&#39;, &#39;ready&#39;, &#39;ready&#39;, &#39;ready&#39;, &#39;ready&#39;, &#39;ready&#39;, &#39;ready&#39;, &#39;ready&#39;, &#39;ready&#39;, &#39;ready&#39;, &#39;ready&#39;, &#39;ready&#39;, &#39;ready&#39;, &#39;ready&#39;, &#39;ready&#39;, &#39;ready&#39;, &#39;ready&#39;, &#39;ready&#39;, &#39;ready&#39;, &#39;ready&#39;, &#39;ready&#39;, &#39;ready&#39;, &#39;ready&#39;, &#39;ready&#39;, &#39;ready&#39;, &#39;ready&#39;, &#39;ready&#39;, &#39;ready&#39;, &#39;ready&#39;, &#39;ready&#39;, &#39;ready&#39;, &#39;ready&#39;, &#39;ready&#39;, &#39;ready&#39;, &#39;ready&#39;, &#39;ready&#39;, &#39;ready&#39;, &#39;ready&#39;, &#39;ready&#39;, &#39;ready&#39;), 2)&#45;&gt;((&#39;ready&#39;, &#39;ready&#39;, &#39;ready&#39;, &#39;ready&#39;, &#39;ready&#39;, &#39;ready&#39;, &#39;ready&#39;, &#39;ready&#39;, &#39;ready&#39;, &#39;ready&#39;, &#39;ready&#39;, &#39;ready&#39;, &#39;ready&#39;, &#39;ready&#39;, &#39;ready&#39;, &#39;ready&#39;, &#39;ready&#39;, &#39;ready&#39;, &#39;ready&#39;, &#39;ready&#39;, &#39;ready&#39;, &#39;ready&#39;, &#39;ready&#39;, &#39;ready&#39;, &#39;ready&#39;, &#39;ready&#39;, &#39;ready&#39;, &#39;ready&#39;, &#39;ready&#39;, &#39;ready&#39;, &#39;ready&#39;, &#39;ready&#39;, &#39;ready&#39;, &#39;ready&#39;, &#39;ready&#39;, &#39;ready&#39;, &#39;ready&#39;, &#39;ready&#39;, &#39;ready&#39;, &#39;ready&#39;, &#39;ready&#39;), 3) -->\n<g id=\"edge6\" class=\"edge\">\n<title>(('ready', 'ready', 'ready', 'ready', 'ready', 'ready', 'ready', 'ready', 'ready', 'ready', 'ready', 'ready', 'ready', 'ready', 'ready', 'ready', 'ready', 'ready', 'ready', 'ready', 'ready', 'ready', 'ready', 'ready', 'ready', 'ready', 'ready', 'ready', 'ready', 'ready', 'ready', 'ready', 'ready', 'ready', 'ready', 'ready', 'ready', 'ready', 'ready', 'ready', 'ready'), 2)-&gt;(('ready', 'ready', 'ready', 'ready', 'ready', 'ready', 'ready', 'ready', 'ready', 'ready', 'ready', 'ready', 'ready', 'ready', 'ready', 'ready', 'ready', 'ready', 'ready', 'ready', 'ready', 'ready', 'ready', 'ready', 'ready', 'ready', 'ready', 'ready', 'ready', 'ready', 'ready', 'ready', 'ready', 'ready', 'ready', 'ready', 'ready', 'ready', 'ready', 'ready', 'ready'), 3)</title>\n<path fill=\"none\" stroke=\"black\" d=\"M9352.57,-429.48C9537.7,-452.12 9868.58,-489.19 10153,-503 10513.78,-520.52 10939.11,-463.38 11142.26,-431.28\"/>\n<polygon fill=\"black\" stroke=\"black\" points=\"11142.72,-434.76 11152.05,-429.73 11141.63,-427.84 11142.72,-434.76\"/>\n<text text-anchor=\"middle\" x=\"10235\" y=\"-509.8\" font-family=\"Times New Roman,serif\" font-size=\"14.00\">('pick_silicon', 4),-11.7,1.0</text>\n</g>\n<!-- ((&#39;ready&#39;, &#39;ready&#39;, &#39;ready&#39;, &#39;ready&#39;, &#39;ready&#39;, &#39;ready&#39;, &#39;ready&#39;, &#39;ready&#39;, &#39;ready&#39;, &#39;ready&#39;, &#39;ready&#39;, &#39;ready&#39;, &#39;ready&#39;, &#39;ready&#39;, &#39;ready&#39;, &#39;ready&#39;, &#39;ready&#39;, &#39;ready&#39;, &#39;ready&#39;, &#39;ready&#39;, &#39;ready&#39;, &#39;ready&#39;, &#39;ready&#39;, &#39;ready&#39;, &#39;ready&#39;, &#39;ready&#39;, &#39;ready&#39;, &#39;ready&#39;, &#39;ready&#39;, &#39;ready&#39;, &#39;ready&#39;, &#39;ready&#39;, &#39;ready&#39;, &#39;ready&#39;, &#39;ready&#39;, &#39;ready&#39;, &#39;ready&#39;, &#39;ready&#39;, &#39;ready&#39;, &#39;ready&#39;, &#39;ready&#39;), 2)&#45;&gt;((&#39;ready&#39;, &#39;ready&#39;, &#39;ready&#39;, &#39;ready&#39;, &#39;ready&#39;, &#39;ready&#39;, &#39;ready&#39;, &#39;ready&#39;, &#39;ready&#39;, &#39;ready&#39;, &#39;ready&#39;, &#39;ready&#39;, &#39;ready&#39;, &#39;ready&#39;, &#39;ready&#39;, &#39;ready&#39;, &#39;ready&#39;, &#39;ready&#39;, &#39;ready&#39;, &#39;ready&#39;, &#39;ready&#39;, &#39;ready&#39;, &#39;ready&#39;, &#39;ready&#39;, &#39;ready&#39;, &#39;ready&#39;, &#39;ready&#39;, &#39;ready&#39;, &#39;ready&#39;, &#39;ready&#39;, &#39;ready&#39;, &#39;ready&#39;, &#39;ready&#39;, &#39;ready&#39;, &#39;ready&#39;, &#39;ready&#39;, &#39;ready&#39;, &#39;ready&#39;, &#39;ready&#39;, &#39;ready&#39;, &#39;ready&#39;), 3) -->\n<g id=\"edge7\" class=\"edge\">\n<title>(('ready', 'ready', 'ready', 'ready', 'ready', 'ready', 'ready', 'ready', 'ready', 'ready', 'ready', 'ready', 'ready', 'ready', 'ready', 'ready', 'ready', 'ready', 'ready', 'ready', 'ready', 'ready', 'ready', 'ready', 'ready', 'ready', 'ready', 'ready', 'ready', 'ready', 'ready', 'ready', 'ready', 'ready', 'ready', 'ready', 'ready', 'ready', 'ready', 'ready', 'ready'), 2)-&gt;(('ready', 'ready', 'ready', 'ready', 'ready', 'ready', 'ready', 'ready', 'ready', 'ready', 'ready', 'ready', 'ready', 'ready', 'ready', 'ready', 'ready', 'ready', 'ready', 'ready', 'ready', 'ready', 'ready', 'ready', 'ready', 'ready', 'ready', 'ready', 'ready', 'ready', 'ready', 'ready', 'ready', 'ready', 'ready', 'ready', 'ready', 'ready', 'ready', 'ready', 'ready'), 3)</title>\n<path fill=\"none\" stroke=\"black\" d=\"M9401.24,-429.46C9622.44,-448.48 9995.7,-474.17 10317,-465 10546.5,-458.45 10806.98,-442.96 10996.25,-430.25\"/>\n<polygon fill=\"black\" stroke=\"black\" points=\"10996.23,-433.76 11005.97,-429.59 10995.76,-426.77 10996.23,-433.76\"/>\n<text text-anchor=\"middle\" x=\"10235\" y=\"-469.8\" font-family=\"Times New Roman,serif\" font-size=\"14.00\">('pick_silicon', 5),-12.12,1.0</text>\n</g>\n<!-- ((&#39;ready&#39;, &#39;ready&#39;, &#39;ready&#39;, &#39;ready&#39;, &#39;ready&#39;, &#39;ready&#39;, &#39;ready&#39;, &#39;ready&#39;, &#39;ready&#39;, &#39;ready&#39;, &#39;ready&#39;, &#39;ready&#39;, &#39;ready&#39;, &#39;ready&#39;, &#39;ready&#39;, &#39;ready&#39;, &#39;ready&#39;, &#39;ready&#39;, &#39;ready&#39;, &#39;ready&#39;, &#39;ready&#39;, &#39;ready&#39;, &#39;ready&#39;, &#39;ready&#39;, &#39;ready&#39;, &#39;ready&#39;, &#39;ready&#39;, &#39;ready&#39;, &#39;ready&#39;, &#39;ready&#39;, &#39;ready&#39;, &#39;ready&#39;, &#39;ready&#39;, &#39;ready&#39;, &#39;ready&#39;, &#39;ready&#39;, &#39;ready&#39;, &#39;ready&#39;, &#39;ready&#39;, &#39;ready&#39;, &#39;ready&#39;), 2)&#45;&gt;((&#39;ready&#39;, &#39;ready&#39;, &#39;ready&#39;, &#39;ready&#39;, &#39;ready&#39;, &#39;ready&#39;, &#39;ready&#39;, &#39;ready&#39;, &#39;ready&#39;, &#39;ready&#39;, &#39;ready&#39;, &#39;ready&#39;, &#39;ready&#39;, &#39;ready&#39;, &#39;ready&#39;, &#39;ready&#39;, &#39;ready&#39;, &#39;ready&#39;, &#39;ready&#39;, &#39;ready&#39;, &#39;ready&#39;, &#39;ready&#39;, &#39;ready&#39;, &#39;ready&#39;, &#39;ready&#39;, &#39;ready&#39;, &#39;ready&#39;, &#39;ready&#39;, &#39;ready&#39;, &#39;ready&#39;, &#39;ready&#39;, &#39;ready&#39;, &#39;ready&#39;, &#39;ready&#39;, &#39;ready&#39;, &#39;ready&#39;, &#39;ready&#39;, &#39;ready&#39;, &#39;ready&#39;, &#39;ready&#39;, &#39;ready&#39;), 3) -->\n<g id=\"edge8\" class=\"edge\">\n<title>(('ready', 'ready', 'ready', 'ready', 'ready', 'ready', 'ready', 'ready', 'ready', 'ready', 'ready', 'ready', 'ready', 'ready', 'ready', 'ready', 'ready', 'ready', 'ready', 'ready', 'ready', 'ready', 'ready', 'ready', 'ready', 'ready', 'ready', 'ready', 'ready', 'ready', 'ready', 'ready', 'ready', 'ready', 'ready', 'ready', 'ready', 'ready', 'ready', 'ready', 'ready'), 2)-&gt;(('ready', 'ready', 'ready', 'ready', 'ready', 'ready', 'ready', 'ready', 'ready', 'ready', 'ready', 'ready', 'ready', 'ready', 'ready', 'ready', 'ready', 'ready', 'ready', 'ready', 'ready', 'ready', 'ready', 'ready', 'ready', 'ready', 'ready', 'ready', 'ready', 'ready', 'ready', 'ready', 'ready', 'ready', 'ready', 'ready', 'ready', 'ready', 'ready', 'ready', 'ready'), 3)</title>\n<path fill=\"none\" stroke=\"black\" d=\"M10135.4,-426.85C10141.29,-426.9 10147.15,-426.95 10153,-427 10208.62,-427.47 10265.82,-427.63 10323.51,-427.55\"/>\n<polygon fill=\"black\" stroke=\"black\" points=\"10323.17,-431.05 10333.16,-427.53 10323.16,-424.05 10323.17,-431.05\"/>\n<text text-anchor=\"middle\" x=\"10235\" y=\"-430.8\" font-family=\"Times New Roman,serif\" font-size=\"14.00\">('pick_silicon', 6),-7.16,1.0</text>\n</g>\n<!-- ((&#39;ready&#39;, &#39;ready&#39;, &#39;ready&#39;, &#39;ready&#39;, &#39;ready&#39;, &#39;ready&#39;, &#39;ready&#39;, &#39;ready&#39;, &#39;ready&#39;, &#39;ready&#39;, &#39;ready&#39;, &#39;ready&#39;, &#39;ready&#39;, &#39;ready&#39;, &#39;ready&#39;, &#39;ready&#39;, &#39;ready&#39;, &#39;ready&#39;, &#39;ready&#39;, &#39;ready&#39;, &#39;ready&#39;, &#39;ready&#39;, &#39;ready&#39;, &#39;ready&#39;, &#39;ready&#39;, &#39;ready&#39;, &#39;ready&#39;, &#39;ready&#39;, &#39;ready&#39;, &#39;ready&#39;, &#39;ready&#39;, &#39;ready&#39;, &#39;ready&#39;, &#39;ready&#39;, &#39;ready&#39;, &#39;ready&#39;, &#39;ready&#39;, &#39;ready&#39;, &#39;ready&#39;, &#39;ready&#39;, &#39;ready&#39;), 2)&#45;&gt;((&#39;ready&#39;, &#39;ready&#39;, &#39;ready&#39;, &#39;ready&#39;, &#39;ready&#39;, &#39;ready&#39;, &#39;ready&#39;, &#39;ready&#39;, &#39;ready&#39;, &#39;ready&#39;, &#39;ready&#39;, &#39;ready&#39;, &#39;ready&#39;, &#39;ready&#39;, &#39;ready&#39;, &#39;ready&#39;, &#39;ready&#39;, &#39;ready&#39;, &#39;ready&#39;, &#39;ready&#39;, &#39;ready&#39;, &#39;ready&#39;, &#39;ready&#39;, &#39;ready&#39;, &#39;ready&#39;, &#39;ready&#39;, &#39;ready&#39;, &#39;ready&#39;, &#39;ready&#39;, &#39;ready&#39;, &#39;ready&#39;, &#39;ready&#39;, &#39;ready&#39;, &#39;ready&#39;, &#39;ready&#39;, &#39;ready&#39;, &#39;ready&#39;, &#39;ready&#39;, &#39;ready&#39;, &#39;ready&#39;, &#39;ready&#39;), 3) -->\n<g id=\"edge9\" class=\"edge\">\n<title>(('ready', 'ready', 'ready', 'ready', 'ready', 'ready', 'ready', 'ready', 'ready', 'ready', 'ready', 'ready', 'ready', 'ready', 'ready', 'ready', 'ready', 'ready', 'ready', 'ready', 'ready', 'ready', 'ready', 'ready', 'ready', 'ready', 'ready', 'ready', 'ready', 'ready', 'ready', 'ready', 'ready', 'ready', 'ready', 'ready', 'ready', 'ready', 'ready', 'ready', 'ready'), 2)-&gt;(('ready', 'ready', 'ready', 'ready', 'ready', 'ready', 'ready', 'ready', 'ready', 'ready', 'ready', 'ready', 'ready', 'ready', 'ready', 'ready', 'ready', 'ready', 'ready', 'ready', 'ready', 'ready', 'ready', 'ready', 'ready', 'ready', 'ready', 'ready', 'ready', 'ready', 'ready', 'ready', 'ready', 'ready', 'ready', 'ready', 'ready', 'ready', 'ready', 'ready', 'ready'), 3)</title>\n<path fill=\"none\" stroke=\"black\" d=\"M10135.41,-408.03C10141.29,-408.02 10147.16,-408.01 10153,-408 10208.62,-407.91 10265.81,-407.88 10323.5,-407.9\"/>\n<polygon fill=\"black\" stroke=\"black\" points=\"10323.15,-411.4 10333.15,-407.9 10323.15,-404.4 10323.15,-411.4\"/>\n<text text-anchor=\"middle\" x=\"10235\" y=\"-411.8\" font-family=\"Times New Roman,serif\" font-size=\"14.00\">('pick_silicon', 7),-1.0,1.0</text>\n</g>\n<!-- ((&#39;ready&#39;, &#39;ready&#39;, &#39;ready&#39;, &#39;ready&#39;, &#39;ready&#39;, &#39;ready&#39;, &#39;ready&#39;, &#39;ready&#39;, &#39;ready&#39;, &#39;ready&#39;, &#39;ready&#39;, &#39;ready&#39;, &#39;ready&#39;, &#39;ready&#39;, &#39;ready&#39;, &#39;ready&#39;, &#39;ready&#39;, &#39;ready&#39;, &#39;ready&#39;, &#39;ready&#39;, &#39;ready&#39;, &#39;ready&#39;, &#39;ready&#39;, &#39;ready&#39;, &#39;ready&#39;, &#39;ready&#39;, &#39;ready&#39;, &#39;ready&#39;, &#39;ready&#39;, &#39;ready&#39;, &#39;ready&#39;, &#39;ready&#39;, &#39;ready&#39;, &#39;ready&#39;, &#39;ready&#39;, &#39;ready&#39;, &#39;ready&#39;, &#39;ready&#39;, &#39;ready&#39;, &#39;ready&#39;, &#39;ready&#39;), 2)&#45;&gt;((&#39;ready&#39;, &#39;ready&#39;, &#39;ready&#39;, &#39;ready&#39;, &#39;ready&#39;, &#39;ready&#39;, &#39;ready&#39;, &#39;ready&#39;, &#39;ready&#39;, &#39;ready&#39;, &#39;ready&#39;, &#39;ready&#39;, &#39;ready&#39;, &#39;ready&#39;, &#39;ready&#39;, &#39;ready&#39;, &#39;ready&#39;, &#39;ready&#39;, &#39;ready&#39;, &#39;ready&#39;, &#39;ready&#39;, &#39;ready&#39;, &#39;ready&#39;, &#39;ready&#39;, &#39;ready&#39;, &#39;ready&#39;, &#39;ready&#39;, &#39;ready&#39;, &#39;ready&#39;, &#39;ready&#39;, &#39;ready&#39;, &#39;ready&#39;, &#39;ready&#39;, &#39;ready&#39;, &#39;ready&#39;, &#39;ready&#39;, &#39;ready&#39;, &#39;ready&#39;, &#39;ready&#39;, &#39;ready&#39;, &#39;ready&#39;), 3) -->\n<g id=\"edge10\" class=\"edge\">\n<title>(('ready', 'ready', 'ready', 'ready', 'ready', 'ready', 'ready', 'ready', 'ready', 'ready', 'ready', 'ready', 'ready', 'ready', 'ready', 'ready', 'ready', 'ready', 'ready', 'ready', 'ready', 'ready', 'ready', 'ready', 'ready', 'ready', 'ready', 'ready', 'ready', 'ready', 'ready', 'ready', 'ready', 'ready', 'ready', 'ready', 'ready', 'ready', 'ready', 'ready', 'ready'), 2)-&gt;(('ready', 'ready', 'ready', 'ready', 'ready', 'ready', 'ready', 'ready', 'ready', 'ready', 'ready', 'ready', 'ready', 'ready', 'ready', 'ready', 'ready', 'ready', 'ready', 'ready', 'ready', 'ready', 'ready', 'ready', 'ready', 'ready', 'ready', 'ready', 'ready', 'ready', 'ready', 'ready', 'ready', 'ready', 'ready', 'ready', 'ready', 'ready', 'ready', 'ready', 'ready'), 3)</title>\n<path fill=\"none\" stroke=\"black\" d=\"M9886.11,-392.51C9975.86,-390.64 10066.64,-389.05 10153,-388 10331.98,-385.82 10527.17,-388.26 10703.23,-392.24\"/>\n<polygon fill=\"black\" stroke=\"black\" points=\"10702.93,-395.74 10713.01,-392.47 10703.1,-388.74 10702.93,-395.74\"/>\n<text text-anchor=\"middle\" x=\"10235\" y=\"-391.8\" font-family=\"Times New Roman,serif\" font-size=\"14.00\">('pick_silicon', 8),-6.7,1.0</text>\n</g>\n<!-- ((&#39;ready&#39;, &#39;ready&#39;, &#39;ready&#39;, &#39;ready&#39;, &#39;ready&#39;, &#39;ready&#39;, &#39;ready&#39;, &#39;ready&#39;, &#39;ready&#39;, &#39;ready&#39;, &#39;ready&#39;, &#39;ready&#39;, &#39;ready&#39;, &#39;ready&#39;, &#39;ready&#39;, &#39;ready&#39;, &#39;ready&#39;, &#39;ready&#39;, &#39;ready&#39;, &#39;ready&#39;, &#39;ready&#39;, &#39;ready&#39;, &#39;ready&#39;, &#39;ready&#39;, &#39;ready&#39;, &#39;ready&#39;, &#39;ready&#39;, &#39;ready&#39;, &#39;ready&#39;, &#39;ready&#39;, &#39;ready&#39;, &#39;ready&#39;, &#39;ready&#39;, &#39;ready&#39;, &#39;ready&#39;, &#39;ready&#39;, &#39;ready&#39;, &#39;ready&#39;, &#39;ready&#39;, &#39;ready&#39;, &#39;ready&#39;), 2)&#45;&gt;((&#39;ready&#39;, &#39;ready&#39;, &#39;ready&#39;, &#39;ready&#39;, &#39;ready&#39;, &#39;ready&#39;, &#39;ready&#39;, &#39;ready&#39;, &#39;ready&#39;, &#39;ready&#39;, &#39;ready&#39;, &#39;ready&#39;, &#39;ready&#39;, &#39;ready&#39;, &#39;ready&#39;, &#39;ready&#39;, &#39;ready&#39;, &#39;ready&#39;, &#39;ready&#39;, &#39;ready&#39;, &#39;ready&#39;, &#39;ready&#39;, &#39;ready&#39;, &#39;ready&#39;, &#39;ready&#39;, &#39;ready&#39;, &#39;ready&#39;, &#39;ready&#39;, &#39;ready&#39;, &#39;ready&#39;, &#39;ready&#39;, &#39;ready&#39;, &#39;ready&#39;, &#39;ready&#39;, &#39;ready&#39;, &#39;ready&#39;, &#39;ready&#39;, &#39;ready&#39;, &#39;ready&#39;, &#39;ready&#39;, &#39;ready&#39;), 3) -->\n<g id=\"edge11\" class=\"edge\">\n<title>(('ready', 'ready', 'ready', 'ready', 'ready', 'ready', 'ready', 'ready', 'ready', 'ready', 'ready', 'ready', 'ready', 'ready', 'ready', 'ready', 'ready', 'ready', 'ready', 'ready', 'ready', 'ready', 'ready', 'ready', 'ready', 'ready', 'ready', 'ready', 'ready', 'ready', 'ready', 'ready', 'ready', 'ready', 'ready', 'ready', 'ready', 'ready', 'ready', 'ready', 'ready'), 2)-&gt;(('ready', 'ready', 'ready', 'ready', 'ready', 'ready', 'ready', 'ready', 'ready', 'ready', 'ready', 'ready', 'ready', 'ready', 'ready', 'ready', 'ready', 'ready', 'ready', 'ready', 'ready', 'ready', 'ready', 'ready', 'ready', 'ready', 'ready', 'ready', 'ready', 'ready', 'ready', 'ready', 'ready', 'ready', 'ready', 'ready', 'ready', 'ready', 'ready', 'ready', 'ready'), 3)</title>\n<path fill=\"none\" stroke=\"black\" d=\"M9458.16,-392.52C9682.88,-378.01 10021.92,-361.29 10317,-368 10518.73,-372.59 10744.5,-382.68 10924.76,-391.93\"/>\n<polygon fill=\"black\" stroke=\"black\" points=\"10924.35,-395.41 10934.51,-392.43 10924.71,-388.42 10924.35,-395.41\"/>\n<text text-anchor=\"middle\" x=\"10235\" y=\"-371.8\" font-family=\"Times New Roman,serif\" font-size=\"14.00\">('pick_silicon', 9),-7.6,1.0</text>\n</g>\n<!-- ((&#39;ready&#39;, &#39;ready&#39;, &#39;ready&#39;, &#39;ready&#39;, &#39;ready&#39;, &#39;ready&#39;, &#39;ready&#39;, &#39;ready&#39;, &#39;ready&#39;, &#39;ready&#39;, &#39;ready&#39;, &#39;ready&#39;, &#39;ready&#39;, &#39;ready&#39;, &#39;ready&#39;, &#39;ready&#39;, &#39;ready&#39;, &#39;ready&#39;, &#39;ready&#39;, &#39;ready&#39;, &#39;ready&#39;, &#39;ready&#39;, &#39;ready&#39;, &#39;ready&#39;, &#39;ready&#39;, &#39;ready&#39;, &#39;ready&#39;, &#39;ready&#39;, &#39;ready&#39;, &#39;ready&#39;, &#39;ready&#39;, &#39;ready&#39;, &#39;ready&#39;, &#39;ready&#39;, &#39;ready&#39;, &#39;ready&#39;, &#39;ready&#39;, &#39;ready&#39;, &#39;ready&#39;, &#39;ready&#39;, &#39;ready&#39;), 2)&#45;&gt;((&#39;ready&#39;, &#39;ready&#39;, &#39;ready&#39;, &#39;ready&#39;, &#39;ready&#39;, &#39;ready&#39;, &#39;ready&#39;, &#39;ready&#39;, &#39;ready&#39;, &#39;ready&#39;, &#39;ready&#39;, &#39;ready&#39;, &#39;ready&#39;, &#39;ready&#39;, &#39;ready&#39;, &#39;ready&#39;, &#39;ready&#39;, &#39;ready&#39;, &#39;ready&#39;, &#39;ready&#39;, &#39;ready&#39;, &#39;ready&#39;, &#39;ready&#39;, &#39;ready&#39;, &#39;ready&#39;, &#39;ready&#39;, &#39;ready&#39;, &#39;ready&#39;, &#39;ready&#39;, &#39;ready&#39;, &#39;ready&#39;, &#39;ready&#39;, &#39;ready&#39;, &#39;ready&#39;, &#39;ready&#39;, &#39;ready&#39;, &#39;ready&#39;, &#39;ready&#39;, &#39;ready&#39;, &#39;ready&#39;, &#39;ready&#39;), 3) -->\n<g id=\"edge12\" class=\"edge\">\n<title>(('ready', 'ready', 'ready', 'ready', 'ready', 'ready', 'ready', 'ready', 'ready', 'ready', 'ready', 'ready', 'ready', 'ready', 'ready', 'ready', 'ready', 'ready', 'ready', 'ready', 'ready', 'ready', 'ready', 'ready', 'ready', 'ready', 'ready', 'ready', 'ready', 'ready', 'ready', 'ready', 'ready', 'ready', 'ready', 'ready', 'ready', 'ready', 'ready', 'ready', 'ready'), 2)-&gt;(('ready', 'ready', 'ready', 'ready', 'ready', 'ready', 'ready', 'ready', 'ready', 'ready', 'ready', 'ready', 'ready', 'ready', 'ready', 'ready', 'ready', 'ready', 'ready', 'ready', 'ready', 'ready', 'ready', 'ready', 'ready', 'ready', 'ready', 'ready', 'ready', 'ready', 'ready', 'ready', 'ready', 'ready', 'ready', 'ready', 'ready', 'ready', 'ready', 'ready', 'ready'), 3)</title>\n<path fill=\"none\" stroke=\"black\" d=\"M9420.31,-392.5C9611.7,-376.81 9900.94,-355.53 10153,-347 10485.01,-335.77 10872.33,-368.63 11090.2,-391.33\"/>\n<polygon fill=\"black\" stroke=\"black\" points=\"11089.6,-394.78 11099.91,-392.35 11090.33,-387.82 11089.6,-394.78\"/>\n<text text-anchor=\"middle\" x=\"10235\" y=\"-350.8\" font-family=\"Times New Roman,serif\" font-size=\"14.00\">('pick_silicon', 10),-14.73,1.0</text>\n</g>\n</g>\n</svg>"
     },
     "metadata": {},
     "output_type": "display_data"
    }
   ],
   "source": [
    "from stochastic_service_composition.rendering import mdp_to_graphviz\n",
    "\n",
    "all_services = [\n",
    "    # 0\n",
    "    design_service(DESIGN_SERVICE_NAME_USA, USA_REWARD),\n",
    "    # 1\n",
    "    design_service(DESIGN_SERVICE_NAME_UK, UK_REWARD),\n",
    "    # 2\n",
    "    design_service(DESIGN_SERVICE_NAME_CHINA, CHINA_REWARD),\n",
    "    # 3\n",
    "    design_service(DESIGN_SERVICE_NAME_TAIWAN, TAIWAN_REWARD),\n",
    "    # 4\n",
    "    silicon_warehouse_service(SILICON_SERVICE_NAME_CHINA, CHINA_REWARD),\n",
    "    # 5\n",
    "    silicon_warehouse_service(SILICON_SERVICE_NAME_RUSSIA, RUSSIA_REWARD + WAR_REWARD),\n",
    "    # 6\n",
    "    silicon_warehouse_service(SILICON_SERVICE_NAME_NORWAY, NORWAY_REWARD),\n",
    "    # 7\n",
    "    silicon_warehouse_service(SILICON_SERVICE_NAME_USA, USA_REWARD),\n",
    "    # 8\n",
    "    silicon_warehouse_service(SILICON_SERVICE_NAME_BRAZIL, BRAZIL_REWARD),\n",
    "    # 9\n",
    "    silicon_warehouse_service(SILICON_SERVICE_NAME_FRANCE, FRANCE_REWARD),\n",
    "    # 10\n",
    "    silicon_warehouse_service(SILICON_SERVICE_NAME_MALAYSIA, MALAYSIA_REWARD),\n",
    "    # 11\n",
    "    wafer_warehouse_service(WAFER_SERVICE_NAME_JAPAN, JAPAN_REWARD),\n",
    "    # 12\n",
    "    wafer_warehouse_service(WAFER_SERVICE_NAME_SOUTH_KOREA, SOUTH_KOREA),\n",
    "    # 13\n",
    "    boron_warehouse_service(BORON_SERVICE_NAME_CHINA, CHINA_REWARD),\n",
    "    # 14\n",
    "    boron_warehouse_service(BORON_SERVICE_NAME_USA, USA_REWARD),\n",
    "    # 15\n",
    "    boron_warehouse_service(BORON_SERVICE_NAME_CHILE, CHILE_REWARD),\n",
    "    # 16\n",
    "    boron_warehouse_service(BORON_SERVICE_NAME_KAZAKHSTAN, KAZAKHSTAN_REWARD),\n",
    "    # 17\n",
    "    boron_warehouse_service(BORON_SERVICE_NAME_RUSSIA, RUSSIA_REWARD + WAR_REWARD),\n",
    "    # 18\n",
    "    boron_warehouse_service(BORON_SERVICE_NAME_ARGENTINA, ARGENTINA_REWARD),\n",
    "    # 19\n",
    "    boron_warehouse_service(BORON_SERVICE_NAME_BOLIVIA, BOLIVIA_REWARD),\n",
    "    # 20\n",
    "    boron_warehouse_service(BORON_SERVICE_NAME_TURKEY, TURKEY_REWARD),\n",
    "    # 21\n",
    "    phosphor_warehouse_service(PHOSPHOR_SERVICE_NAME_CHINA, CHINA_REWARD),\n",
    "    # 22\n",
    "    phosphor_warehouse_service(PHOSPHOR_SERVICE_NAME_MOROCCO, MOROCCO_REWARD),\n",
    "    # 23\n",
    "    phosphor_warehouse_service(PHOSPHOR_SERVICE_NAME_USA, USA_REWARD),\n",
    "    # 24\n",
    "    aluminum_warehouse_service(ALUMINUM_SERVICE_NAME_AUSTRALIA, AUSTRALIA_REWARD),\n",
    "    # 25\n",
    "    aluminum_warehouse_service(ALUMINUM_SERVICE_NAME_BRAZIL, BRAZIL_REWARD),\n",
    "    # 26\n",
    "    aluminum_warehouse_service(ALUMINUM_SERVICE_NAME_INDIA, INDIA_REWARD),\n",
    "    # 27\n",
    "    resist_warehouse_service(RESIST_SERVICE_NAME_USA, USA_REWARD),\n",
    "    # 28\n",
    "    resist_warehouse_service(RESIST_SERVICE_NAME_SWITZERLAND, SWITZERLAND_REWARD),\n",
    "    # 29\n",
    "    resist_warehouse_service(RESIST_SERVICE_NAME_INDIA, INDIA_REWARD),\n",
    "    # 30\n",
    "    resist_warehouse_service(RESIST_SERVICE_NAME_CANADA, CANADA_REWARD),\n",
    "    # 31\n",
    "    resist_warehouse_service(RESIST_SERVICE_NAME_BELGIUM, BELGIUM_REWARD),\n",
    "    # 32\n",
    "    resist_warehouse_service(RESIST_SERVICE_NAME_AUSTRIA, AUSTRIA_REWARD),\n",
    "    # 33\n",
    "    plastic_warehouse_service(PLASTIC_SERVICE_NAME_CHINA, CHINA_REWARD),\n",
    "    # 34\n",
    "    plastic_warehouse_service(PLASTIC_SERVICE_NAME_INDIA, INDIA_REWARD),\n",
    "    # 35\n",
    "    chemicals_warehouse_service(CHEMICALS_SERVICE_NAME_CANADA, CANADA_REWARD),\n",
    "    # 36\n",
    "    chemicals_warehouse_service(CHEMICALS_SERVICE_NAME_USA, USA_REWARD),\n",
    "    # 37\n",
    "    copper_frame_warehouse_service(COPPER_FRAME_SERVICE_NAME_CHILE, CHILE_REWARD),\n",
    "    # 38\n",
    "    copper_frame_warehouse_service(COPPER_FRAME_SERVICE_NAME_CHINA, CHINA_REWARD),\n",
    "    # 39\n",
    "    copper_frame_warehouse_service(COPPER_FRAME_SERVICE_NAME_PERU, PERU_REWARD),\n",
    "    # 40\n",
    "    copper_frame_warehouse_service(COPPER_FRAME_SERVICE_NAME_USA, USA_REWARD)\n",
    "]\n",
    "# trimmed_declare_automaton = declare_automaton.trim()\n",
    "# trimmed_declare_automaton.to_graphviz().render(\"dfa-trimmed\")\n",
    "# stochastic_target = target_from_dfa(trimmed_declare_automaton)\n",
    "# mdp = composition_mdp(stochastic_target, *all_services, gamma=0.9)\n",
    "mdp = comp_mdp(declare_automaton, all_services, gamma=0.9)\n",
    "render_composition_mdp(mdp)"
   ]
  },
  {
   "cell_type": "markdown",
   "metadata": {},
   "source": [
    "# Optimal policy\n",
    "Calculation of optimal policy:"
   ]
  },
  {
   "cell_type": "code",
   "execution_count": 71,
   "metadata": {},
   "outputs": [],
   "source": [
    "opn = DPAnalytic(mdp, 1e-4)\n",
    "opt_policy = opn.get_optimal_policy_vi()\n",
    "value_function = opn.get_value_func_dict(opt_policy)\n",
    "q_value_function = opn.get_act_value_func_dict(opt_policy)\n"
   ]
  },
  {
   "cell_type": "code",
   "execution_count": 73,
   "metadata": {},
   "outputs": [
    {
     "name": "stdout",
     "output_type": "stream",
     "text": [
      "Policy:\n",
      "State=(('ready', 'ready', 'ready', 'ready', 'ready', 'ready', 'ready', 'ready', 'ready', 'ready', 'ready', 'ready', 'ready', 'ready', 'ready', 'ready', 'ready', 'ready', 'ready', 'ready', 'ready', 'ready', 'ready', 'ready', 'ready', 'ready', 'ready', 'ready', 'ready', 'ready', 'ready', 'ready', 'ready', 'ready', 'ready', 'ready', 'ready', 'ready', 'ready', 'ready', 'ready'), 0),\tAction=('pick_buy_design', 0)\n",
      "State=(('ready', 'ready', 'ready', 'ready', 'ready', 'ready', 'ready', 'ready', 'ready', 'ready', 'ready', 'ready', 'ready', 'ready', 'ready', 'ready', 'ready', 'ready', 'ready', 'ready', 'ready', 'ready', 'ready', 'ready', 'ready', 'ready', 'ready', 'ready', 'ready', 'ready', 'ready', 'ready', 'ready', 'ready', 'ready', 'ready', 'ready', 'ready', 'ready', 'ready', 'ready'), 2),\tAction=('pick_silicon', 7)\n",
      "State=(('ready', 'ready', 'ready', 'ready', 'ready', 'ready', 'ready', 'ready', 'ready', 'ready', 'ready', 'ready', 'ready', 'ready', 'ready', 'ready', 'ready', 'ready', 'ready', 'ready', 'ready', 'ready', 'ready', 'ready', 'ready', 'ready', 'ready', 'ready', 'ready', 'ready', 'ready', 'ready', 'ready', 'ready', 'ready', 'ready', 'ready', 'ready', 'ready', 'ready', 'ready'), 3),\tAction=('pick_wafer', 11)\n",
      "State=(('ready', 'ready', 'ready', 'ready', 'ready', 'ready', 'ready', 'ready', 'ready', 'ready', 'ready', 'ready', 'ready', 'ready', 'ready', 'ready', 'ready', 'ready', 'ready', 'ready', 'ready', 'ready', 'ready', 'ready', 'ready', 'ready', 'ready', 'ready', 'ready', 'ready', 'ready', 'ready', 'ready', 'ready', 'ready', 'ready', 'ready', 'ready', 'ready', 'ready', 'ready'), 4),\tAction=('pick_boron', 14)\n",
      "State=(('ready', 'ready', 'ready', 'ready', 'ready', 'ready', 'ready', 'ready', 'ready', 'ready', 'ready', 'ready', 'ready', 'ready', 'ready', 'ready', 'ready', 'ready', 'ready', 'ready', 'ready', 'ready', 'ready', 'ready', 'ready', 'ready', 'ready', 'ready', 'ready', 'ready', 'ready', 'ready', 'ready', 'ready', 'ready', 'ready', 'ready', 'ready', 'ready', 'ready', 'ready'), 5),\tAction=('pick_phosphor', 23)\n",
      "State=(('ready', 'ready', 'ready', 'ready', 'ready', 'ready', 'ready', 'ready', 'ready', 'ready', 'ready', 'ready', 'ready', 'ready', 'ready', 'ready', 'ready', 'ready', 'ready', 'ready', 'ready', 'ready', 'ready', 'ready', 'ready', 'ready', 'ready', 'ready', 'ready', 'ready', 'ready', 'ready', 'ready', 'ready', 'ready', 'ready', 'ready', 'ready', 'ready', 'ready', 'ready'), 6),\tAction=('pick_aluminum', 25)\n",
      "State=(('ready', 'ready', 'ready', 'ready', 'ready', 'ready', 'ready', 'ready', 'ready', 'ready', 'ready', 'ready', 'ready', 'ready', 'ready', 'ready', 'ready', 'ready', 'ready', 'ready', 'ready', 'ready', 'ready', 'ready', 'ready', 'ready', 'ready', 'ready', 'ready', 'ready', 'ready', 'ready', 'ready', 'ready', 'ready', 'ready', 'ready', 'ready', 'ready', 'ready', 'ready'), 7),\tAction=('pick_resist', 27)\n",
      "State=(('ready', 'ready', 'ready', 'ready', 'ready', 'ready', 'ready', 'ready', 'ready', 'ready', 'ready', 'ready', 'ready', 'ready', 'ready', 'ready', 'ready', 'ready', 'ready', 'ready', 'ready', 'ready', 'ready', 'ready', 'ready', 'ready', 'ready', 'ready', 'ready', 'ready', 'ready', 'ready', 'ready', 'ready', 'ready', 'ready', 'ready', 'ready', 'ready', 'ready', 'ready'), 8),\tAction=('pick_plastic', 33)\n",
      "State=(('ready', 'ready', 'ready', 'ready', 'ready', 'ready', 'ready', 'ready', 'ready', 'ready', 'ready', 'ready', 'ready', 'ready', 'ready', 'ready', 'ready', 'ready', 'ready', 'ready', 'ready', 'ready', 'ready', 'ready', 'ready', 'ready', 'ready', 'ready', 'ready', 'ready', 'ready', 'ready', 'ready', 'ready', 'ready', 'ready', 'ready', 'ready', 'ready', 'ready', 'ready'), 9),\tAction=('pick_chemicals', 36)\n",
      "State=(('ready', 'ready', 'ready', 'ready', 'ready', 'ready', 'ready', 'ready', 'ready', 'ready', 'ready', 'ready', 'ready', 'ready', 'ready', 'ready', 'ready', 'ready', 'ready', 'ready', 'ready', 'ready', 'ready', 'ready', 'ready', 'ready', 'ready', 'ready', 'ready', 'ready', 'ready', 'ready', 'ready', 'ready', 'ready', 'ready', 'ready', 'ready', 'ready', 'ready', 'ready'), 10),\tAction=('pick_copper_frame', 40)\n"
     ]
    }
   ],
   "source": [
    "print_policy_data(opt_policy)"
   ]
  },
  {
   "cell_type": "markdown",
   "metadata": {},
   "source": [
    "# Value Function\n",
    "Calculation of Value Function:"
   ]
  },
  {
   "cell_type": "code",
   "execution_count": 74,
   "metadata": {},
   "outputs": [
    {
     "name": "stdout",
     "output_type": "stream",
     "text": [
      "Value function:\n",
      "State=(('ready', 'ready', 'ready', 'ready', 'ready', 'ready', 'ready', 'ready', 'ready', 'ready', 'ready', 'ready', 'ready', 'ready', 'ready', 'ready', 'ready', 'ready', 'ready', 'ready', 'ready', 'ready', 'ready', 'ready', 'ready', 'ready', 'ready', 'ready', 'ready', 'ready', 'ready', 'ready', 'ready', 'ready', 'ready', 'ready', 'ready', 'ready', 'ready', 'ready', 'ready'), 8),\tvalue=-37.201805049598214\n",
      "State=(('ready', 'ready', 'ready', 'ready', 'ready', 'ready', 'ready', 'ready', 'ready', 'ready', 'ready', 'ready', 'ready', 'ready', 'ready', 'ready', 'ready', 'ready', 'ready', 'ready', 'ready', 'ready', 'ready', 'ready', 'ready', 'ready', 'ready', 'ready', 'ready', 'ready', 'ready', 'ready', 'ready', 'ready', 'ready', 'ready', 'ready', 'ready', 'ready', 'ready', 'ready'), 7),\tvalue=-34.4816245446384\n",
      "State=(('ready', 'ready', 'ready', 'ready', 'ready', 'ready', 'ready', 'ready', 'ready', 'ready', 'ready', 'ready', 'ready', 'ready', 'ready', 'ready', 'ready', 'ready', 'ready', 'ready', 'ready', 'ready', 'ready', 'ready', 'ready', 'ready', 'ready', 'ready', 'ready', 'ready', 'ready', 'ready', 'ready', 'ready', 'ready', 'ready', 'ready', 'ready', 'ready', 'ready', 'ready'), 4),\tvalue=-32.464104293041395\n",
      "State=(('ready', 'ready', 'ready', 'ready', 'ready', 'ready', 'ready', 'ready', 'ready', 'ready', 'ready', 'ready', 'ready', 'ready', 'ready', 'ready', 'ready', 'ready', 'ready', 'ready', 'ready', 'ready', 'ready', 'ready', 'ready', 'ready', 'ready', 'ready', 'ready', 'ready', 'ready', 'ready', 'ready', 'ready', 'ready', 'ready', 'ready', 'ready', 'ready', 'ready', 'ready'), 10),\tvalue=-30.372598826664465\n",
      "State=(('ready', 'ready', 'ready', 'ready', 'ready', 'ready', 'ready', 'ready', 'ready', 'ready', 'ready', 'ready', 'ready', 'ready', 'ready', 'ready', 'ready', 'ready', 'ready', 'ready', 'ready', 'ready', 'ready', 'ready', 'ready', 'ready', 'ready', 'ready', 'ready', 'ready', 'ready', 'ready', 'ready', 'ready', 'ready', 'ready', 'ready', 'ready', 'ready', 'ready', 'ready'), 0),\tvalue=-33.747332029627174\n",
      "State=(('ready', 'ready', 'ready', 'ready', 'ready', 'ready', 'ready', 'ready', 'ready', 'ready', 'ready', 'ready', 'ready', 'ready', 'ready', 'ready', 'ready', 'ready', 'ready', 'ready', 'ready', 'ready', 'ready', 'ready', 'ready', 'ready', 'ready', 'ready', 'ready', 'ready', 'ready', 'ready', 'ready', 'ready', 'ready', 'ready', 'ready', 'ready', 'ready', 'ready', 'ready'), 3),\tvalue=-39.31769386373726\n",
      "State=(('ready', 'ready', 'ready', 'ready', 'ready', 'ready', 'ready', 'ready', 'ready', 'ready', 'ready', 'ready', 'ready', 'ready', 'ready', 'ready', 'ready', 'ready', 'ready', 'ready', 'ready', 'ready', 'ready', 'ready', 'ready', 'ready', 'ready', 'ready', 'ready', 'ready', 'ready', 'ready', 'ready', 'ready', 'ready', 'ready', 'ready', 'ready', 'ready', 'ready', 'ready'), 6),\tvalue=-37.733462090174555\n",
      "State=(('ready', 'ready', 'ready', 'ready', 'ready', 'ready', 'ready', 'ready', 'ready', 'ready', 'ready', 'ready', 'ready', 'ready', 'ready', 'ready', 'ready', 'ready', 'ready', 'ready', 'ready', 'ready', 'ready', 'ready', 'ready', 'ready', 'ready', 'ready', 'ready', 'ready', 'ready', 'ready', 'ready', 'ready', 'ready', 'ready', 'ready', 'ready', 'ready', 'ready', 'ready'), 9),\tvalue=-28.335338943998018\n",
      "State=(('ready', 'ready', 'ready', 'ready', 'ready', 'ready', 'ready', 'ready', 'ready', 'ready', 'ready', 'ready', 'ready', 'ready', 'ready', 'ready', 'ready', 'ready', 'ready', 'ready', 'ready', 'ready', 'ready', 'ready', 'ready', 'ready', 'ready', 'ready', 'ready', 'ready', 'ready', 'ready', 'ready', 'ready', 'ready', 'ready', 'ready', 'ready', 'ready', 'ready', 'ready'), 5),\tvalue=-34.9601158811571\n",
      "State=(('ready', 'ready', 'ready', 'ready', 'ready', 'ready', 'ready', 'ready', 'ready', 'ready', 'ready', 'ready', 'ready', 'ready', 'ready', 'ready', 'ready', 'ready', 'ready', 'ready', 'ready', 'ready', 'ready', 'ready', 'ready', 'ready', 'ready', 'ready', 'ready', 'ready', 'ready', 'ready', 'ready', 'ready', 'ready', 'ready', 'ready', 'ready', 'ready', 'ready', 'ready'), 2),\tvalue=-36.38592447736353\n"
     ]
    }
   ],
   "source": [
    "print_value_function(value_function)"
   ]
  },
  {
   "cell_type": "code",
   "execution_count": 75,
   "metadata": {},
   "outputs": [
    {
     "name": "stdout",
     "output_type": "stream",
     "text": [
      "Q-value function:\n",
      "State=(('ready', 'ready', 'ready', 'ready', 'ready', 'ready', 'ready', 'ready', 'ready', 'ready', 'ready', 'ready', 'ready', 'ready', 'ready', 'ready', 'ready', 'ready', 'ready', 'ready', 'ready', 'ready', 'ready', 'ready', 'ready', 'ready', 'ready', 'ready', 'ready', 'ready', 'ready', 'ready', 'ready', 'ready', 'ready', 'ready', 'ready', 'ready', 'ready', 'ready', 'ready'), 0):\n",
      "\tAction=('pick_buy_design', 0),\tValue=-33.74733202962718\n",
      "\tAction=('pick_buy_design', 1),\tValue=-39.54733202962718\n",
      "\tAction=('pick_buy_design', 2),\tValue=-44.44733202962718\n",
      "\tAction=('pick_buy_design', 3),\tValue=-44.94733202962718\n",
      "\n",
      "State=(('ready', 'ready', 'ready', 'ready', 'ready', 'ready', 'ready', 'ready', 'ready', 'ready', 'ready', 'ready', 'ready', 'ready', 'ready', 'ready', 'ready', 'ready', 'ready', 'ready', 'ready', 'ready', 'ready', 'ready', 'ready', 'ready', 'ready', 'ready', 'ready', 'ready', 'ready', 'ready', 'ready', 'ready', 'ready', 'ready', 'ready', 'ready', 'ready', 'ready', 'ready'), 2):\n",
      "\tAction=('pick_silicon', 4),\tValue=-47.085924477363534\n",
      "\tAction=('pick_silicon', 5),\tValue=-47.505924477363536\n",
      "\tAction=('pick_silicon', 6),\tValue=-42.54592447736354\n",
      "\tAction=('pick_silicon', 7),\tValue=-36.38592447736354\n",
      "\tAction=('pick_silicon', 8),\tValue=-42.08592447736354\n",
      "\tAction=('pick_silicon', 9),\tValue=-42.98592447736354\n",
      "\tAction=('pick_silicon', 10),\tValue=-50.115924477363535\n",
      "\n",
      "State=(('ready', 'ready', 'ready', 'ready', 'ready', 'ready', 'ready', 'ready', 'ready', 'ready', 'ready', 'ready', 'ready', 'ready', 'ready', 'ready', 'ready', 'ready', 'ready', 'ready', 'ready', 'ready', 'ready', 'ready', 'ready', 'ready', 'ready', 'ready', 'ready', 'ready', 'ready', 'ready', 'ready', 'ready', 'ready', 'ready', 'ready', 'ready', 'ready', 'ready', 'ready'), 3):\n",
      "\tAction=('pick_wafer', 11),\tValue=-39.317693863737254\n",
      "\tAction=('pick_wafer', 12),\tValue=-39.917693863737256\n",
      "\n",
      "State=(('ready', 'ready', 'ready', 'ready', 'ready', 'ready', 'ready', 'ready', 'ready', 'ready', 'ready', 'ready', 'ready', 'ready', 'ready', 'ready', 'ready', 'ready', 'ready', 'ready', 'ready', 'ready', 'ready', 'ready', 'ready', 'ready', 'ready', 'ready', 'ready', 'ready', 'ready', 'ready', 'ready', 'ready', 'ready', 'ready', 'ready', 'ready', 'ready', 'ready', 'ready'), 4):\n",
      "\tAction=('pick_boron', 13),\tValue=-43.16410429304139\n",
      "\tAction=('pick_boron', 14),\tValue=-32.46410429304139\n",
      "\tAction=('pick_boron', 15),\tValue=-39.26410429304139\n",
      "\tAction=('pick_boron', 16),\tValue=-41.86410429304139\n",
      "\tAction=('pick_boron', 17),\tValue=-43.58410429304139\n",
      "\tAction=('pick_boron', 18),\tValue=-40.01410429304139\n",
      "\tAction=('pick_boron', 19),\tValue=-38.26410429304139\n",
      "\tAction=('pick_boron', 20),\tValue=-41.62410429304139\n",
      "\n",
      "State=(('ready', 'ready', 'ready', 'ready', 'ready', 'ready', 'ready', 'ready', 'ready', 'ready', 'ready', 'ready', 'ready', 'ready', 'ready', 'ready', 'ready', 'ready', 'ready', 'ready', 'ready', 'ready', 'ready', 'ready', 'ready', 'ready', 'ready', 'ready', 'ready', 'ready', 'ready', 'ready', 'ready', 'ready', 'ready', 'ready', 'ready', 'ready', 'ready', 'ready', 'ready'), 5):\n",
      "\tAction=('pick_phosphor', 21),\tValue=-45.6601158811571\n",
      "\tAction=('pick_phosphor', 22),\tValue=-41.8601158811571\n",
      "\tAction=('pick_phosphor', 23),\tValue=-34.9601158811571\n",
      "\n",
      "State=(('ready', 'ready', 'ready', 'ready', 'ready', 'ready', 'ready', 'ready', 'ready', 'ready', 'ready', 'ready', 'ready', 'ready', 'ready', 'ready', 'ready', 'ready', 'ready', 'ready', 'ready', 'ready', 'ready', 'ready', 'ready', 'ready', 'ready', 'ready', 'ready', 'ready', 'ready', 'ready', 'ready', 'ready', 'ready', 'ready', 'ready', 'ready', 'ready', 'ready', 'ready'), 6):\n",
      "\tAction=('pick_aluminum', 24),\tValue=-45.03346209017456\n",
      "\tAction=('pick_aluminum', 25),\tValue=-37.73346209017456\n",
      "\tAction=('pick_aluminum', 26),\tValue=-44.13346209017456\n",
      "\n",
      "State=(('ready', 'ready', 'ready', 'ready', 'ready', 'ready', 'ready', 'ready', 'ready', 'ready', 'ready', 'ready', 'ready', 'ready', 'ready', 'ready', 'ready', 'ready', 'ready', 'ready', 'ready', 'ready', 'ready', 'ready', 'ready', 'ready', 'ready', 'ready', 'ready', 'ready', 'ready', 'ready', 'ready', 'ready', 'ready', 'ready', 'ready', 'ready', 'ready', 'ready', 'ready'), 7):\n",
      "\tAction=('pick_resist', 27),\tValue=-34.48162454463839\n",
      "\tAction=('pick_resist', 28),\tValue=-41.48162454463839\n",
      "\tAction=('pick_resist', 29),\tValue=-46.581624544638395\n",
      "\tAction=('pick_resist', 30),\tValue=-35.28162454463839\n",
      "\tAction=('pick_resist', 31),\tValue=-41.081624544638395\n",
      "\tAction=('pick_resist', 32),\tValue=-41.861624544638396\n",
      "\n",
      "State=(('ready', 'ready', 'ready', 'ready', 'ready', 'ready', 'ready', 'ready', 'ready', 'ready', 'ready', 'ready', 'ready', 'ready', 'ready', 'ready', 'ready', 'ready', 'ready', 'ready', 'ready', 'ready', 'ready', 'ready', 'ready', 'ready', 'ready', 'ready', 'ready', 'ready', 'ready', 'ready', 'ready', 'ready', 'ready', 'ready', 'ready', 'ready', 'ready', 'ready', 'ready'), 8):\n",
      "\tAction=('pick_plastic', 33),\tValue=-37.20180504959822\n",
      "\tAction=('pick_plastic', 34),\tValue=-38.60180504959822\n",
      "\n",
      "State=(('ready', 'ready', 'ready', 'ready', 'ready', 'ready', 'ready', 'ready', 'ready', 'ready', 'ready', 'ready', 'ready', 'ready', 'ready', 'ready', 'ready', 'ready', 'ready', 'ready', 'ready', 'ready', 'ready', 'ready', 'ready', 'ready', 'ready', 'ready', 'ready', 'ready', 'ready', 'ready', 'ready', 'ready', 'ready', 'ready', 'ready', 'ready', 'ready', 'ready', 'ready'), 9):\n",
      "\tAction=('pick_chemicals', 35),\tValue=-29.13533894399802\n",
      "\tAction=('pick_chemicals', 36),\tValue=-28.335338943998018\n",
      "\n",
      "State=(('ready', 'ready', 'ready', 'ready', 'ready', 'ready', 'ready', 'ready', 'ready', 'ready', 'ready', 'ready', 'ready', 'ready', 'ready', 'ready', 'ready', 'ready', 'ready', 'ready', 'ready', 'ready', 'ready', 'ready', 'ready', 'ready', 'ready', 'ready', 'ready', 'ready', 'ready', 'ready', 'ready', 'ready', 'ready', 'ready', 'ready', 'ready', 'ready', 'ready', 'ready'), 10):\n",
      "\tAction=('pick_copper_frame', 37),\tValue=-37.172598826664455\n",
      "\tAction=('pick_copper_frame', 38),\tValue=-41.07259882666446\n",
      "\tAction=('pick_copper_frame', 39),\tValue=-35.37259882666446\n",
      "\tAction=('pick_copper_frame', 40),\tValue=-30.372598826664458\n",
      "\n"
     ]
    }
   ],
   "source": [
    "print_q_value_function(q_value_function)"
   ]
  },
  {
   "cell_type": "markdown",
   "source": [
    "From the calculation of the optimal policy of the raw materials and design assortment phase we observe that:\n",
    "- the planner preferred using service `service_design_usa` (service `0`) because it was more convenient choose the service located in the USA than the services of other costly countries;\n",
    "- the planner preferred using service `service_silicon_usa` (service `7`) because it was more convenient pick the silicon from the warehouse located in the USA instead of picking it from other costly countries;\n",
    "- the planner preferred using service `service_wafer_japan` (service `11`) because it was more convenient pick the wafer from the Japan instead of picking it from South Korea;\n",
    "- the planner preferred using service `service_boron_usa` (service `14`) because it was more convenient pick the boron from the warehouse located in the USA instead of picking it from other costly countries;\n",
    "- the planner preferred using service `service_phosphor_usa` (service `23`) because it was more convenient pick the phosphor from the warehouse located in the USA instead of picking it from other costly countries;\n",
    "- the planner preferred using service `service_aluminum_brazil` (service `25`) because it was more convenient pick the aluminum from the warehouse located in Brazil instead of picking it from other costly countries;\n",
    "- the planner preferred using service `service_resist_usa` (service `27`) because it was more convenient pick the resist from the warehouse located in the USA instead of picking it from other costly countries;\n",
    "- the planner preferred using service `service_plastic_china` (service `33`) because it was more convenient pick the plastic from the warehouse located in China instead of picking it from India;\n",
    "- the planner preferred using service `service_chemicals_usa` (service `36`) because it was more convenient pick the chemicals from the warehouse located in the USA instead of picking it from Canada;\n",
    "- the planner preferred using service `service_copper_frame_usa` (service `40`) because it was more convenient pick the copper frame from the warehouse located in the USA instead of picking it from other costly countries."
   ],
   "metadata": {
    "collapsed": false
   }
  },
  {
   "cell_type": "markdown",
   "metadata": {},
   "source": [
    "# Second phase - Manufacturing Process\n",
    "## Target Specification\n",
    "The target specification of the second phase is structured as follows:\n"
   ]
  },
  {
   "cell_type": "code",
   "execution_count": 28,
   "metadata": {},
   "outputs": [
    {
     "data": {
      "text/plain": "<IPython.core.display.SVG object>",
      "image/svg+xml": "<svg xmlns=\"http://www.w3.org/2000/svg\" xmlns:xlink=\"http://www.w3.org/1999/xlink\" width=\"761pt\" height=\"44pt\" viewBox=\"0.00 0.00 761.00 44.00\">\n<g id=\"graph0\" class=\"graph\" transform=\"scale(1 1) rotate(0) translate(4 40)\">\n<polygon fill=\"white\" stroke=\"none\" points=\"-4,4 -4,-40 757,-40 757,4 -4,4\"/>\n<!-- fake -->\n<g id=\"node1\" class=\"node\">\n<title>fake</title>\n</g>\n<!-- 0 -->\n<g id=\"node2\" class=\"node\">\n<title>0</title>\n<polygon fill=\"none\" stroke=\"black\" points=\"145,-36 91,-36 91,0 145,0 145,-36\"/>\n<text text-anchor=\"middle\" x=\"118\" y=\"-14.3\" font-family=\"Times New Roman,serif\" font-size=\"14.00\">0</text>\n</g>\n<!-- fake&#45;&gt;0 -->\n<g id=\"edge1\" class=\"edge\">\n<title>fake-&gt;0</title>\n<path fill=\"none\" stroke=\"black\" stroke-width=\"2\" d=\"M54.22,-18C62.12,-18 70.94,-18 79.43,-18\"/>\n<polygon fill=\"black\" stroke=\"black\" stroke-width=\"2\" points=\"77.63,-21.5 87.63,-18 77.63,-14.5 77.63,-21.5\"/>\n</g>\n<!-- 2 -->\n<g id=\"node3\" class=\"node\">\n<title>2</title>\n<polygon fill=\"none\" stroke=\"black\" points=\"323,-36 269,-36 269,0 323,0 323,-36\"/>\n<text text-anchor=\"middle\" x=\"296\" y=\"-14.3\" font-family=\"Times New Roman,serif\" font-size=\"14.00\">2</text>\n</g>\n<!-- 0&#45;&gt;2 -->\n<g id=\"edge2\" class=\"edge\">\n<title>0-&gt;2</title>\n<path fill=\"none\" stroke=\"black\" d=\"M145.35,-18C175.11,-18 223.79,-18 257.51,-18\"/>\n<polygon fill=\"black\" stroke=\"black\" points=\"257.25,-21.5 267.25,-18 257.25,-14.5 257.25,-21.5\"/>\n<text text-anchor=\"middle\" x=\"207\" y=\"-21.8\" font-family=\"Times New Roman,serif\" font-size=\"14.00\">cleaning,0.0,1.0</text>\n</g>\n<!-- 3 -->\n<g id=\"node4\" class=\"node\">\n<title>3</title>\n<polygon fill=\"none\" stroke=\"black\" points=\"543,-36 489,-36 489,0 543,0 543,-36\"/>\n<text text-anchor=\"middle\" x=\"516\" y=\"-14.3\" font-family=\"Times New Roman,serif\" font-size=\"14.00\">3</text>\n</g>\n<!-- 2&#45;&gt;3 -->\n<g id=\"edge3\" class=\"edge\">\n<title>2-&gt;3</title>\n<path fill=\"none\" stroke=\"black\" d=\"M323.3,-18C361.68,-18 433.25,-18 477.25,-18\"/>\n<polygon fill=\"black\" stroke=\"black\" points=\"477.1,-21.5 487.1,-18 477.1,-14.5 477.1,-21.5\"/>\n<text text-anchor=\"middle\" x=\"406\" y=\"-21.8\" font-family=\"Times New Roman,serif\" font-size=\"14.00\">film_deposition,0.0,1.0</text>\n</g>\n<!-- 4 -->\n<g id=\"node5\" class=\"node\">\n<title>4</title>\n<polygon fill=\"none\" stroke=\"black\" points=\"753,-36 699,-36 699,0 753,0 753,-36\"/>\n<text text-anchor=\"middle\" x=\"726\" y=\"-14.3\" font-family=\"Times New Roman,serif\" font-size=\"14.00\">4</text>\n</g>\n<!-- 3&#45;&gt;4 -->\n<g id=\"edge4\" class=\"edge\">\n<title>3-&gt;4</title>\n<path fill=\"none\" stroke=\"black\" d=\"M543.34,-18C579.74,-18 645.61,-18 687.23,-18\"/>\n<polygon fill=\"black\" stroke=\"black\" points=\"687.03,-21.5 697.03,-18 687.03,-14.5 687.03,-21.5\"/>\n<text text-anchor=\"middle\" x=\"621\" y=\"-21.8\" font-family=\"Times New Roman,serif\" font-size=\"14.00\">resist_coating,1.0,1.0</text>\n</g>\n</g>\n</svg>"
     },
     "metadata": {},
     "output_type": "display_data"
    }
   ],
   "source": [
    "constraints = [\n",
    "    build_declare_assumption(set(SYMBOLS_PHASE_2)),\n",
    "    *[exactly_once(x) for x in SYMBOLS_PHASE_2],\n",
    "]\n",
    "\n",
    "for i in range(len(SYMBOLS_PHASE_2) - 1):\n",
    "    for j in range(i, len(SYMBOLS_PHASE_2)):\n",
    "        constraints.append(alt_precedence(SYMBOLS_PHASE_2[i], SYMBOLS_PHASE_2[j]))\n",
    "formula = pylogics.parsers.ltl.parse_ltl(\" & \".join(constraints))\n",
    "automaton = logaut.core.ltl2dfa(formula, backend=\"lydia\")\n",
    "declare_automaton = from_symbolic_automaton_to_declare_automaton(automaton, set(SYMBOLS_PHASE_2))\n",
    "render_mdp_dfa(mdp_from_dfa(declare_automaton), no_sink=True)"
   ]
  },
  {
   "cell_type": "code",
   "execution_count": 30,
   "metadata": {},
   "outputs": [
    {
     "name": "stdout",
     "output_type": "stream",
     "text": [
      "Start build system service  1680170979006034100\n",
      "Stop build system service 1680170979006034100\n"
     ]
    },
    {
     "ename": "KeyError",
     "evalue": "4",
     "output_type": "error",
     "traceback": [
      "\u001B[1;31m---------------------------------------------------------------------------\u001B[0m",
      "\u001B[1;31mKeyError\u001B[0m                                  Traceback (most recent call last)",
      "Cell \u001B[1;32mIn[30], line 39\u001B[0m\n\u001B[0;32m      1\u001B[0m all_services \u001B[38;5;241m=\u001B[39m [\n\u001B[0;32m      2\u001B[0m     \u001B[38;5;66;03m# 0\u001B[39;00m\n\u001B[0;32m      3\u001B[0m     cleaning_service(CLEANING_SERVICE_NAME, USA_REWARD),\n\u001B[1;32m   (...)\u001B[0m\n\u001B[0;32m     33\u001B[0m \u001B[38;5;66;03m#    packaging_service(PACKAGING_SERVICE_NAME, USA_REWARD)\u001B[39;00m\n\u001B[0;32m     34\u001B[0m ]\n\u001B[0;32m     35\u001B[0m \u001B[38;5;66;03m# trimmed_declare_automaton = declare_automaton.trim()\u001B[39;00m\n\u001B[0;32m     36\u001B[0m \u001B[38;5;66;03m# stochastic_target = target_from_dfa(trimmed_declare_automaton)\u001B[39;00m\n\u001B[0;32m     37\u001B[0m \u001B[38;5;66;03m# mdp = composition_mdp(stochastic_target, *all_services, gamma=0.9)\u001B[39;00m\n\u001B[0;32m     38\u001B[0m \u001B[38;5;66;03m#mdp = comp_mdp(declare_automaton, all_services, gamma=0.9)\u001B[39;00m\n\u001B[1;32m---> 39\u001B[0m mdp \u001B[38;5;241m=\u001B[39m \u001B[43mcomp_mdp\u001B[49m\u001B[43m(\u001B[49m\u001B[43mdeclare_automaton\u001B[49m\u001B[43m,\u001B[49m\u001B[43m \u001B[49m\u001B[43mall_services\u001B[49m\u001B[43m,\u001B[49m\u001B[43m \u001B[49m\u001B[43mgamma\u001B[49m\u001B[38;5;241;43m=\u001B[39;49m\u001B[38;5;241;43m0.9\u001B[39;49m\u001B[43m)\u001B[49m\n\u001B[0;32m     40\u001B[0m render_composition_mdp(mdp)\n\u001B[0;32m     41\u001B[0m \u001B[38;5;66;03m#print(\"Number of states: \", len(mdp.all_states))\u001B[39;00m\n",
      "File \u001B[1;32mc:\\users\\silo\\mdp-planner-chip-production\\stochastic_service_composition\\composition_mdp.py:181\u001B[0m, in \u001B[0;36mcomp_mdp\u001B[1;34m(dfa, services, gamma)\u001B[0m\n\u001B[0;32m    176\u001B[0m next_system_state_trans \u001B[38;5;241m=\u001B[39m system_service\u001B[38;5;241m.\u001B[39mtransition_function[\n\u001B[0;32m    177\u001B[0m     cur_system_state\n\u001B[0;32m    178\u001B[0m ]\u001B[38;5;241m.\u001B[39mitems()\n\u001B[0;32m    180\u001B[0m \u001B[38;5;66;03m# optimization: filter services, consider only the ones that can do the next DFA action\u001B[39;00m\n\u001B[1;32m--> 181\u001B[0m next_dfa_actions \u001B[38;5;241m=\u001B[39m \u001B[38;5;28mset\u001B[39m(\u001B[43mdfa\u001B[49m\u001B[38;5;241;43m.\u001B[39;49m\u001B[43mtransition_function\u001B[49m\u001B[43m[\u001B[49m\u001B[43mcur_dfa_state\u001B[49m\u001B[43m]\u001B[49m\u001B[38;5;241m.\u001B[39mkeys())\n\u001B[0;32m    182\u001B[0m allowed_services \u001B[38;5;241m=\u001B[39m \u001B[38;5;28mset\u001B[39m()\n\u001B[0;32m    183\u001B[0m \u001B[38;5;28;01mfor\u001B[39;00m next_dfa_action \u001B[38;5;129;01min\u001B[39;00m next_dfa_actions:\n",
      "\u001B[1;31mKeyError\u001B[0m: 4"
     ]
    }
   ],
   "source": [
    "all_services = [\n",
    "    # 0\n",
    "    cleaning_service(CLEANING_SERVICE_NAME, USA_REWARD),\n",
    "    # 1\n",
    "    film_deposition_service(FILM_DEPOSITION1_SERVICE_NAME, DEFAULT_BROKEN_PROB, DEFAULT_UNEMPLOYABLE_PROB, DEFAULT_BROKEN_REWARD, USA_REWARD),\n",
    "    # 2\n",
    "    film_deposition_service(FILM_DEPOSITION2_SERVICE_NAME, BROKEN_PROB, DEFAULT_UNEMPLOYABLE_PROB, DEFAULT_BROKEN_REWARD, HIGH_USA_REWARD),\n",
    "    # 3\n",
    "    resist_coating_service(RESIST_COATING1_SERVICE_NAME, DEFAULT_BROKEN_PROB, DEFAULT_UNEMPLOYABLE_PROB, DEFAULT_BROKEN_REWARD, USA_REWARD),\n",
    "    # 4\n",
    "#    resist_coating_service(RESIST_COATING2_SERVICE_NAME, DEFAULT_BROKEN_PROB, DEFAULT_UNEMPLOYABLE_PROB, DEFAULT_BROKEN_REWARD, HIGH_USA_REWARD),\n",
    "#    # 5\n",
    "#    exposure_service(EXPOSURE_SERVICE_NAME, DEFAULT_BROKEN_PROB, DEFAULT_BROKEN_REWARD, USA_REWARD),\n",
    "#    # 6\n",
    "#    development_service(DEVELOPMENT1_SERVICE_NAME, DEFAULT_BROKEN_PROB, DEFAULT_UNEMPLOYABLE_PROB, DEFAULT_BROKEN_REWARD, USA_REWARD),\n",
    "#    # 7\n",
    "#    development_service(DEVELOPMENT2_SERVICE_NAME, DEFAULT_BROKEN_PROB, DEFAULT_UNEMPLOYABLE_PROB, DEFAULT_BROKEN_REWARD, HIGH_USA_REWARD),\n",
    "#    # 8\n",
    "#    etching_service(ETCHING1_SERVICE_NAME, DEFAULT_BROKEN_PROB, DEFAULT_BROKEN_REWARD, USA_REWARD),\n",
    "#    # 9\n",
    "#    etching_service(ETCHING2_SERVICE_NAME, BROKEN_PROB, DEFAULT_BROKEN_REWARD, HIGH_USA_REWARD),\n",
    "#    # 10\n",
    "#    impurities_implantation_service(IMPURITIES_IMPLANTATION_SERVICE_NAME, DEFAULT_BROKEN_PROB, DEFAULT_UNEMPLOYABLE_PROB,DEFAULT_BROKEN_REWARD, USA_REWARD),\n",
    "#    # 11\n",
    "#    activation_service(ACTIVATION_SERVICE_NAME, USA_REWARD),\n",
    "#    # 12\n",
    "#    resist_stripping_service(RESIST_STRIPPING_SERVICE_NAME, DEFAULT_BROKEN_PROB, DEFAULT_BROKEN_REWARD, USA_REWARD),\n",
    "#    # 13\n",
    "#    assembly_service(ASSEMBLY_SERVICE_NAME, USA_REWARD),\n",
    "#    # 14\n",
    "#    testing_service(TESTING_SERVICE_NAME, USA_REWARD),\n",
    "#    # 15\n",
    "#    packaging_service(PACKAGING_SERVICE_NAME, USA_REWARD)\n",
    "]\n",
    "# trimmed_declare_automaton = declare_automaton.trim()\n",
    "# stochastic_target = target_from_dfa(trimmed_declare_automaton)\n",
    "# mdp = composition_mdp(stochastic_target, *all_services, gamma=0.9)\n",
    "#mdp = comp_mdp(declare_automaton, all_services, gamma=0.9)\n",
    "mdp = comp_mdp(declare_automaton, all_services, gamma=0.9)\n",
    "render_composition_mdp(mdp)\n",
    "#print(\"Number of states: \", len(mdp.all_states))"
   ]
  },
  {
   "cell_type": "markdown",
   "metadata": {},
   "source": [
    "# Optimal policy\n",
    "Calculation of optimal policy:"
   ]
  },
  {
   "cell_type": "code",
   "execution_count": null,
   "metadata": {},
   "outputs": [],
   "source": [
    "opn = DPAnalytic(mdp, 1e-4)\n",
    "opt_policy = opn.get_optimal_policy_vi()\n",
    "value_function = opn.get_value_func_dict(opt_policy)\n",
    "q_value_function = opn.get_act_value_func_dict(opt_policy)"
   ]
  },
  {
   "cell_type": "code",
   "execution_count": null,
   "metadata": {},
   "outputs": [],
   "source": [
    "print_policy_data(opt_policy)"
   ]
  },
  {
   "cell_type": "markdown",
   "metadata": {},
   "source": [
    "# Value Function\n",
    "Calculation of Value Function:"
   ]
  },
  {
   "cell_type": "code",
   "execution_count": null,
   "metadata": {},
   "outputs": [],
   "source": [
    "print_value_function(value_function)"
   ]
  },
  {
   "cell_type": "code",
   "execution_count": null,
   "metadata": {},
   "outputs": [],
   "source": [
    "print_q_value_function(q_value_function)"
   ]
  }
 ],
 "metadata": {
  "kernelspec": {
   "display_name": "Python 3 (ipykernel)",
   "language": "python",
   "name": "python3"
  },
  "language_info": {
   "codemirror_mode": {
    "name": "ipython",
    "version": 3
   },
   "file_extension": ".py",
   "mimetype": "text/x-python",
   "name": "python",
   "nbconvert_exporter": "python",
   "pygments_lexer": "ipython3",
   "version": "3.10.6"
  }
 },
 "nbformat": 4,
 "nbformat_minor": 1
}
