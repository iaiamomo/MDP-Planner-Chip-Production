{
 "cells": [
  {
   "cell_type": "code",
   "execution_count": 1,
   "metadata": {},
   "outputs": [],
   "source": [
    "from typing import Set\n",
    "# Python imports, put at the top for simplicity\n",
    "from logaut import ltl2dfa\n",
    "from pylogics.parsers import parse_ltl\n",
    "import pylogics.parsers.ldl\n",
    "import logaut\n",
    "\n",
    "from mdp_dp_rl.algorithms.dp.dp_analytic import DPAnalytic\n",
    "from stochastic_service_composition.declare_utils import *\n",
    "from stochastic_service_composition.dfa_target import from_symbolic_automaton_to_declare_automaton\n",
    "from stochastic_service_composition.dfa_target import mdp_from_dfa\n",
    "from docs.notebooks.utils import render_service, render_target, render_composition_mdp, render_mdp_dfa, \\\n",
    "    print_policy_data, print_value_function, print_q_value_function, render_comp_mdp\n",
    "from stochastic_service_composition.composition_mdp import composition_mdp, comp_mdp\n",
    "from stochastic_service_composition.services import build_service_from_transitions, Service\n",
    "from stochastic_service_composition.target import build_target_from_transitions, target_from_dfa\n"
   ]
  },
  {
   "cell_type": "markdown",
   "metadata": {},
   "source": [
    "## Use case for \"Stochastic Service Composition with Industrial APIs\" - Chip Production.\n",
    "\n",
    "In this notebook, we present the implementation of the use case for \"Stochastic Service Composition with Industrial APIs\" about chip production."
   ]
  },
  {
   "cell_type": "markdown",
   "metadata": {},
   "source": [
    "# Available Services\n",
    "\n",
    "In the following we provide definitions about available services:"
   ]
  },
  {
   "cell_type": "code",
   "execution_count": 2,
   "metadata": {},
   "outputs": [],
   "source": [
    "LOW_PROB = 0.05\n",
    "\n",
    "# probabilities of being broken after an action\n",
    "DEFAULT_BROKEN_PROB = LOW_PROB\n",
    "BROKEN_PROB = 0.5\n",
    "HIGH_BROKEN_PROB = 0.7\n",
    "\n",
    "# default probability of being unemployable after the configuration\n",
    "DEFAULT_UNEMPLOYABLE_PROB = LOW_PROB\n",
    "HIGH_UNEMPLOYABLE_PROB = 0.5\n",
    "\n",
    "# costs of the machines that perform their job in different countries\n",
    "DEFAULT_USA_REWARD = -1.0\n",
    "WAR_REWARD = -3.0\n",
    "USA_REWARD = -2.0\n",
    "HIGH_USA_REWARD = -5.0\n",
    "UK_REWARD = -6.8\n",
    "CHINA_REWARD = -11.7\n",
    "TAIWAN_REWARD = -12.2\n",
    "RUSSIA_REWARD = -9.12 # we have to take into the account political problems\n",
    "NORWAY_REWARD = -7.16\n",
    "AUSTRALIA_REWARD = -14.0\n",
    "INDIA_REWARD = -13.1\n",
    "BELGIUM_REWARD = -7.6\n",
    "SWITZERLAND_REWARD = -8.0\n",
    "CANADA_REWARD = -1.8\n",
    "PERU_REWARD = -6.0\n",
    "AUSTRIA_REWARD = -8.38\n",
    "BRAZIL_REWARD = -6.7\n",
    "FRANCE_REWARD = -7.6\n",
    "MALAYSIA_REWARD = -14.73\n",
    "TURKEY_REWARD = -10.16\n",
    "KAZAKHSTAN_REWARD = -10.4\n",
    "CHILE_REWARD = -7.8\n",
    "BOLIVIA_REWARD = -6.8\n",
    "ARGENTINA_REWARD = -8.55\n",
    "MOROCCO_REWARD = -7.9\n",
    "JAPAN_REWARD = -10.1\n",
    "SOUTH_KOREA = -10.7\n",
    "NETHERLANDS_REWARD = -7.5\n",
    "\n",
    "# default reward when the service becomes broken\n",
    "DEFAULT_BROKEN_REWARD = -10.0"
   ]
  },
  {
   "cell_type": "code",
   "execution_count": 3,
   "metadata": {},
   "outputs": [],
   "source": [
    "# all the atomic actions for the task\n",
    "PICK_BUY_DESIGN = \"pick_buy_design\"\n",
    "PICK_SILICON = \"pick_silicon\"\n",
    "PICK_WAFER = \"pick_wafer\"\n",
    "PICK_BORON = \"pick_boron\"\n",
    "PICK_PHOSPHOR = \"pick_phosphor\"\n",
    "PICK_ALUMINUM = \"pick_aluminum\"\n",
    "PICK_RESIST = \"pick_resist\"\n",
    "PICK_PLASTIC = \"pick_plastic\"\n",
    "PICK_CHEMICALS = \"pick_chemicals\"\n",
    "PICK_COPPER_FRAME = \"pick_copper_frame\"\n",
    "CLEANING = \"cleaning\"\n",
    "CONFIG_FILM_DEPOSITION = \"config_film_deposition\"\n",
    "CHECKED_FILM_DEPOSITION = \"checked_film_deposition\"\n",
    "FILM_DEPOSITION = \"film_deposition\"\n",
    "CONFIG_RESIST_COATING = \"config_resist_coating\"\n",
    "CHECKED_RESIST_COATING = \"checked_resist_coating\"\n",
    "RESIST_COATING = \"resist_coating\"\n",
    "EXPOSURE = \"exposure\"\n",
    "CHECK_EXPOSURE = \"check_exposure\"\n",
    "CONFIG_DEVELOPMENT = \"config_development\"\n",
    "CHECKED_DEVELOPMENT = \"checked_development\"\n",
    "DEVELOPMENT = \"development\"\n",
    "ETCHING = \"etching\"\n",
    "CHECK_ETCHING = \"check_etching\"\n",
    "CONFIG_IMPURITIES_IMPLANTATION = \"config_impurities_implantation\"\n",
    "CHECKED_IMPURITIES_IMPLANTATION = \"checked_impurities_implantation\"\n",
    "IMPURITIES_IMPLANTATION = \"impurities_implantation\"\n",
    "ACTIVATION = \"activation\"\n",
    "RESIST_STRIPPING = \"resist_stripping\"\n",
    "CHECK_RESIST_STRIPPING = \"check_resist_stripping\"\n",
    "ASSEMBLY = \"assembly\"\n",
    "TESTING =\"testing\"\n",
    "PACKAGING = \"packaging\"\n",
    "\n",
    "SYMBOLS_PHASE_1 = [\n",
    "    PICK_BUY_DESIGN,\n",
    "    PICK_SILICON,\n",
    "    PICK_WAFER,\n",
    "    PICK_BORON,\n",
    "    PICK_PHOSPHOR,\n",
    "    PICK_ALUMINUM,\n",
    "    PICK_RESIST,\n",
    "    PICK_PLASTIC,\n",
    "    PICK_CHEMICALS,\n",
    "    PICK_COPPER_FRAME\n",
    "]\n",
    "\n",
    "SYMBOLS_PHASE_2 = [\n",
    "    CLEANING,\n",
    "    CONFIG_FILM_DEPOSITION,\n",
    "    CHECKED_FILM_DEPOSITION,\n",
    "    FILM_DEPOSITION,\n",
    "    CONFIG_RESIST_COATING,\n",
    "    CHECKED_RESIST_COATING,\n",
    "    RESIST_COATING,\n",
    "    EXPOSURE,\n",
    "    CHECK_EXPOSURE,\n",
    "    CONFIG_DEVELOPMENT,\n",
    "    CHECKED_DEVELOPMENT,\n",
    "    DEVELOPMENT,\n",
    "    ETCHING,\n",
    "    CHECK_ETCHING,\n",
    "    CONFIG_IMPURITIES_IMPLANTATION,\n",
    "    CHECKED_IMPURITIES_IMPLANTATION,\n",
    "    IMPURITIES_IMPLANTATION,\n",
    "    ACTIVATION,\n",
    "    RESIST_STRIPPING,\n",
    "    CHECK_RESIST_STRIPPING,\n",
    "    ASSEMBLY,\n",
    "    TESTING,\n",
    "    PACKAGING\n",
    "]"
   ]
  },
  {
   "cell_type": "code",
   "execution_count": 4,
   "metadata": {},
   "outputs": [],
   "source": [
    "# service names\n",
    "DESIGN_SERVICE_NAME_USA = \"design_usa\"                                      # human\n",
    "DESIGN_SERVICE_NAME_UK = \"design_uk\"                                        # human\n",
    "DESIGN_SERVICE_NAME_CHINA = \"design_china\"                                  # human\n",
    "DESIGN_SERVICE_NAME_TAIWAN = \"design_taiwan\"                                # human\n",
    "SILICON_SERVICE_NAME_CHINA = \"silicon_china\"                                # warehouse\n",
    "SILICON_SERVICE_NAME_RUSSIA = \"silicon_russia\"                              # warehouse\n",
    "SILICON_SERVICE_NAME_NORWAY = \"silicon_norway\"                              # warehouse\n",
    "SILICON_SERVICE_NAME_USA = \"silicon_usa\"                                    # warehouse\n",
    "SILICON_SERVICE_NAME_FRANCE = \"silicon_france\"                              # warehouse\n",
    "SILICON_SERVICE_NAME_BRAZIL = \"silicon_brazil\"                              # warehouse\n",
    "SILICON_SERVICE_NAME_MALAYSIA = \"silicon_malaysia\"                          # warehouse\n",
    "WAFER_SERVICE_NAME_JAPAN = \"wafer_japan\"                                    # warehouse\n",
    "WAFER_SERVICE_NAME_SOUTH_KOREA = \"wafer_south_korea\"                        # warehouse\n",
    "BORON_SERVICE_NAME_TURKEY = \"boron_turkey\"                                  # warehouse\n",
    "BORON_SERVICE_NAME_USA = \"boron_usa\"                                        # warehouse\n",
    "BORON_SERVICE_NAME_KAZAKHSTAN = \"boron_kazakhstan\"                          # warehouse\n",
    "BORON_SERVICE_NAME_CHILE = \"boron_chile\"                                    # warehouse\n",
    "BORON_SERVICE_NAME_CHINA = \"boron_china\"                                    # warehouse\n",
    "BORON_SERVICE_NAME_ARGENTINA = \"boron_argentina\"                            # warehouse\n",
    "BORON_SERVICE_NAME_RUSSIA = \"boron_russia\"                                  # warehouse\n",
    "BORON_SERVICE_NAME_BOLIVIA = \"boron_bolivia\"                                # warehouse\n",
    "PHOSPHOR_SERVICE_NAME_MOROCCO = \"phosphor_morocco\"                          # warehouse\n",
    "PHOSPHOR_SERVICE_NAME_CHINA = \"phosphor_china\"                              # warehouse\n",
    "PHOSPHOR_SERVICE_NAME_USA = \"phosphor_usa\"                                  # warehouse\n",
    "ALUMINUM_SERVICE_NAME_AUSTRALIA = \"aluminum_australia\"                      # warehouse\n",
    "ALUMINUM_SERVICE_NAME_INDIA = \"aluminum_india\"                              # warehouse\n",
    "ALUMINUM_SERVICE_NAME_BRAZIL = \"aluminum_brazil\"                            # warehouse\n",
    "RESIST_SERVICE_NAME_USA = \"resist_usa\"                                      # warehouse\n",
    "RESIST_SERVICE_NAME_BELGIUM = \"resist_belgium\"                              # warehouse\n",
    "RESIST_SERVICE_NAME_AUSTRIA = \"resist_austria\"                              # warehouse\n",
    "RESIST_SERVICE_NAME_INDIA = \"resist_india\"                                  # warehouse\n",
    "RESIST_SERVICE_NAME_SWITZERLAND = \"resist_switzerland\"                      # warehouse\n",
    "RESIST_SERVICE_NAME_CANADA = \"resist_canada\"                                # warehouse\n",
    "PLASTIC_SERVICE_NAME_CHINA = \"plastic_china\"                                # warehouse\n",
    "PLASTIC_SERVICE_NAME_INDIA = \"plastic_india\"                                # warehouse\n",
    "CHEMICALS_SERVICE_NAME_USA = \"chemicals_usa\"                                # warehouse\n",
    "CHEMICALS_SERVICE_NAME_CANADA = \"chemicals_canada\"                          # warehouse\n",
    "COPPER_FRAME_SERVICE_NAME_USA = \"copper_frame_usa\"                          # warehouse\n",
    "COPPER_FRAME_SERVICE_NAME_CHINA = \"copper_frame_china\"                      # warehouse\n",
    "COPPER_FRAME_SERVICE_NAME_PERU = \"copper_frame_peru\"                        # warehouse\n",
    "COPPER_FRAME_SERVICE_NAME_CHILE = \"copper_frame_chile\"                      # warehouse\n",
    "CLEANING_SERVICE_NAME = \"cleaning_human\"                                    # human\n",
    "FILM_DEPOSITION1_SERVICE_NAME = \"film_deposition_machine1\"                  # machine\n",
    "FILM_DEPOSITION2_SERVICE_NAME = \"film_deposition_machine2\"                  # machine\n",
    "RESIST_COATING1_SERVICE_NAME = \"resist_coating_machine1\"                    # machine\n",
    "RESIST_COATING2_SERVICE_NAME = \"resist_coating_machine2\"                    # machine\n",
    "EXPOSURE_SERVICE_NAME = \"exposure_machine\"                                  # machine\n",
    "DEVELOPMENT1_SERVICE_NAME = \"development1_machine\"                          # machine\n",
    "DEVELOPMENT2_SERVICE_NAME = \"development2_machine\"                          # machine\n",
    "ETCHING1_SERVICE_NAME = \"etching1_machine\"                                  # machine\n",
    "ETCHING2_SERVICE_NAME = \"etching2_machine\"                                  # machine\n",
    "IMPURITIES_IMPLANTATION_SERVICE_NAME = \"impurities_implantation_machine\"    # machine\n",
    "ACTIVATION_SERVICE_NAME = \"activation_human\"                                # human\n",
    "RESIST_STRIPPING_SERVICE_NAME = \"resist_stripping_machine\"                  # machine\n",
    "ASSEMBLY_SERVICE_NAME = \"assembly_human\"                                    # human\n",
    "TESTING_SERVICE_NAME = \"testing_human\"                                      # human\n",
    "PACKAGING_SERVICE_NAME = \"packaging_human\"                                  # human"
   ]
  },
  {
   "cell_type": "markdown",
   "metadata": {},
   "source": [
    "We have different type of services:\n",
    "\n",
    "- generic breakable machines;\n",
    "- complex breakable machines;\n",
    "- warehouse machines;\n",
    "- human workers"
   ]
  },
  {
   "cell_type": "code",
   "execution_count": 5,
   "metadata": {},
   "outputs": [],
   "source": [
    "def build_generic_breakable_service(service_name: str, action_name: str, broken_prob: float, broken_reward: float, action_reward: float):\n",
    "    assert 0.0 <= broken_prob <= 1.0\n",
    "    deterministic_prob = 1.0\n",
    "    success_prob = deterministic_prob - broken_prob\n",
    "    transitions = {\n",
    "        \"available\": {\n",
    "          action_name: ({\"done\": success_prob, \"broken\": broken_prob}, action_reward),\n",
    "        },\n",
    "        \"broken\": {\n",
    "            f\"check_{action_name}\": ({\"available\": 1.0}, broken_reward),\n",
    "        },\n",
    "        \"done\": {\n",
    "            f\"check_{action_name}\": ({\"available\": 1.0}, 0.0),\n",
    "        }\n",
    "    }\n",
    "    final_states = {\"available\"}\n",
    "    initial_state = \"available\"\n",
    "    return build_service_from_transitions(transitions, initial_state, final_states)  # type: ignore\n",
    "\n",
    "def build_complex_breakable_service(service_name: str, action_name: str, broken_prob: float, unemployable_prob: float, broken_reward: float, action_reward: float) -> Service:\n",
    "    assert 0.0 <= broken_prob <= 1.0\n",
    "    deterministic_prob = 1.0\n",
    "    configure_success_prob = deterministic_prob - unemployable_prob\n",
    "    op_success_prob = deterministic_prob - broken_prob\n",
    "    transitions = {\n",
    "        \"ready\": { # current state\n",
    "            f\"config_{action_name}\": # action\n",
    "                (\n",
    "                    {\n",
    "                        \"configured\": deterministic_prob # next state : prob\n",
    "                    },\n",
    "                    0.0\n",
    "                ),\n",
    "        },\n",
    "        \"configured\": {\n",
    "            f\"checked_{action_name}\":\n",
    "                (\n",
    "                    {\n",
    "                    \"executing\": configure_success_prob,\n",
    "                    \"broken\": unemployable_prob\n",
    "                    } if unemployable_prob > 0.0 else {\"executing\": configure_success_prob},\n",
    "                    0.0\n",
    "                ),\n",
    "        },\n",
    "        \"executing\": {\n",
    "            action_name: # operation\n",
    "                (\n",
    "                    {\n",
    "                        \"ready\": op_success_prob,\n",
    "                        \"broken\": broken_prob\n",
    "                    } if broken_prob > 0.0 else {\"ready\": op_success_prob},\n",
    "                    action_reward\n",
    "                ),\n",
    "        },\n",
    "        \"broken\": {\n",
    "            f\"restore_{action_name}\":\n",
    "               (\n",
    "                   {\n",
    "                       \"repairing\": deterministic_prob\n",
    "                   },\n",
    "                   broken_reward\n",
    "               ),\n",
    "        },\n",
    "        \"repairing\": {\n",
    "            f\"repaired_{action_name}\":\n",
    "                (\n",
    "                    {\n",
    "                        \"ready\": deterministic_prob\n",
    "                    },\n",
    "                    0.0\n",
    "                ),\n",
    "        },\n",
    "\n",
    "    }\n",
    "    final_states = {\"ready\"}\n",
    "    initial_state = \"ready\"\n",
    "    return build_service_from_transitions(transitions, initial_state, final_states)  # type: ignore\n",
    "\n",
    "def build_generic_service_one_state(\n",
    "    service_name: str,\n",
    "    operation_names: Set[str],\n",
    "    action_reward: float,\n",
    ") -> Service:\n",
    "    \"\"\"Build the one state device.\"\"\"\n",
    "    transitions = {\n",
    "        \"ready\": {\n",
    "            operation_name: ({\"ready\": 1.0}, action_reward) for operation_name in operation_names\n",
    "        },\n",
    "    }\n",
    "    final_states = {\"ready\"}\n",
    "    initial_state = \"ready\"\n",
    "    return build_service_from_transitions(transitions, initial_state, final_states)  # type: ignore"
   ]
  },
  {
   "cell_type": "code",
   "execution_count": 6,
   "metadata": {},
   "outputs": [
    {
     "data": {
      "text/plain": "<IPython.core.display.SVG object>",
      "image/svg+xml": "<svg xmlns=\"http://www.w3.org/2000/svg\" xmlns:xlink=\"http://www.w3.org/1999/xlink\" width=\"239pt\" height=\"123pt\" viewBox=\"0.00 0.00 239.14 123.09\">\n<g id=\"graph0\" class=\"graph\" transform=\"scale(1 1) rotate(0) translate(4 119.09)\">\n<title>%3</title>\n<polygon fill=\"white\" stroke=\"transparent\" points=\"-4,4 -4,-119.09 235.14,-119.09 235.14,4 -4,4\"/>\n<!-- fake -->\n<g id=\"node1\" class=\"node\">\n<title>fake</title>\n</g>\n<!-- ready -->\n<g id=\"node2\" class=\"node\">\n<title>ready</title>\n<ellipse fill=\"none\" stroke=\"black\" cx=\"139.14\" cy=\"-41.05\" rx=\"37.09\" ry=\"37.09\"/>\n<ellipse fill=\"none\" stroke=\"black\" cx=\"139.14\" cy=\"-41.05\" rx=\"41.09\" ry=\"41.09\"/>\n<text text-anchor=\"middle\" x=\"139.14\" y=\"-37.35\" font-family=\"Times,serif\" font-size=\"14.00\">ready</text>\n</g>\n<!-- fake&#45;&gt;ready -->\n<g id=\"edge1\" class=\"edge\">\n<title>fake-&gt;ready</title>\n<path fill=\"none\" stroke=\"black\" stroke-width=\"2\" d=\"M61.24,-41.05C69.48,-41.05 78.65,-41.05 87.72,-41.05\"/>\n<polygon fill=\"black\" stroke=\"black\" stroke-width=\"2\" points=\"87.85,-44.55 97.85,-41.05 87.85,-37.55 87.85,-44.55\"/>\n</g>\n<!-- ready&#45;&gt;ready -->\n<g id=\"edge2\" class=\"edge\">\n<title>ready-&gt;ready</title>\n<path fill=\"none\" stroke=\"black\" d=\"M128.33,-80.79C128.85,-91.73 132.46,-100.09 139.14,-100.09 143.53,-100.09 146.59,-96.49 148.32,-90.92\"/>\n<polygon fill=\"black\" stroke=\"black\" points=\"151.82,-91.21 149.95,-80.79 144.91,-90.1 151.82,-91.21\"/>\n<text text-anchor=\"middle\" x=\"139.14\" y=\"-103.89\" font-family=\"Times,serif\" font-size=\"14.00\">pick_buy_design, 1.0, -2.0</text>\n</g>\n</g>\n</svg>"
     },
     "metadata": {},
     "output_type": "display_data"
    },
    {
     "data": {
      "text/plain": "<IPython.core.display.SVG object>",
      "image/svg+xml": "<svg xmlns=\"http://www.w3.org/2000/svg\" xmlns:xlink=\"http://www.w3.org/1999/xlink\" width=\"239pt\" height=\"123pt\" viewBox=\"0.00 0.00 239.14 123.09\">\n<g id=\"graph0\" class=\"graph\" transform=\"scale(1 1) rotate(0) translate(4 119.09)\">\n<title>%3</title>\n<polygon fill=\"white\" stroke=\"transparent\" points=\"-4,4 -4,-119.09 235.14,-119.09 235.14,4 -4,4\"/>\n<!-- fake -->\n<g id=\"node1\" class=\"node\">\n<title>fake</title>\n</g>\n<!-- ready -->\n<g id=\"node2\" class=\"node\">\n<title>ready</title>\n<ellipse fill=\"none\" stroke=\"black\" cx=\"139.14\" cy=\"-41.05\" rx=\"37.09\" ry=\"37.09\"/>\n<ellipse fill=\"none\" stroke=\"black\" cx=\"139.14\" cy=\"-41.05\" rx=\"41.09\" ry=\"41.09\"/>\n<text text-anchor=\"middle\" x=\"139.14\" y=\"-37.35\" font-family=\"Times,serif\" font-size=\"14.00\">ready</text>\n</g>\n<!-- fake&#45;&gt;ready -->\n<g id=\"edge1\" class=\"edge\">\n<title>fake-&gt;ready</title>\n<path fill=\"none\" stroke=\"black\" stroke-width=\"2\" d=\"M61.24,-41.05C69.48,-41.05 78.65,-41.05 87.72,-41.05\"/>\n<polygon fill=\"black\" stroke=\"black\" stroke-width=\"2\" points=\"87.85,-44.55 97.85,-41.05 87.85,-37.55 87.85,-44.55\"/>\n</g>\n<!-- ready&#45;&gt;ready -->\n<g id=\"edge2\" class=\"edge\">\n<title>ready-&gt;ready</title>\n<path fill=\"none\" stroke=\"black\" d=\"M128.33,-80.79C128.85,-91.73 132.46,-100.09 139.14,-100.09 143.53,-100.09 146.59,-96.49 148.32,-90.92\"/>\n<polygon fill=\"black\" stroke=\"black\" points=\"151.82,-91.21 149.95,-80.79 144.91,-90.1 151.82,-91.21\"/>\n<text text-anchor=\"middle\" x=\"139.14\" y=\"-103.89\" font-family=\"Times,serif\" font-size=\"14.00\">pick_buy_design, 1.0, -6.8</text>\n</g>\n</g>\n</svg>"
     },
     "metadata": {},
     "output_type": "display_data"
    },
    {
     "data": {
      "text/plain": "<IPython.core.display.SVG object>",
      "image/svg+xml": "<svg xmlns=\"http://www.w3.org/2000/svg\" xmlns:xlink=\"http://www.w3.org/1999/xlink\" width=\"244pt\" height=\"123pt\" viewBox=\"0.00 0.00 243.64 123.09\">\n<g id=\"graph0\" class=\"graph\" transform=\"scale(1 1) rotate(0) translate(4 119.09)\">\n<title>%3</title>\n<polygon fill=\"white\" stroke=\"transparent\" points=\"-4,4 -4,-119.09 239.64,-119.09 239.64,4 -4,4\"/>\n<!-- fake -->\n<g id=\"node1\" class=\"node\">\n<title>fake</title>\n</g>\n<!-- ready -->\n<g id=\"node2\" class=\"node\">\n<title>ready</title>\n<ellipse fill=\"none\" stroke=\"black\" cx=\"139.14\" cy=\"-41.05\" rx=\"37.09\" ry=\"37.09\"/>\n<ellipse fill=\"none\" stroke=\"black\" cx=\"139.14\" cy=\"-41.05\" rx=\"41.09\" ry=\"41.09\"/>\n<text text-anchor=\"middle\" x=\"139.14\" y=\"-37.35\" font-family=\"Times,serif\" font-size=\"14.00\">ready</text>\n</g>\n<!-- fake&#45;&gt;ready -->\n<g id=\"edge1\" class=\"edge\">\n<title>fake-&gt;ready</title>\n<path fill=\"none\" stroke=\"black\" stroke-width=\"2\" d=\"M61.24,-41.05C69.48,-41.05 78.65,-41.05 87.72,-41.05\"/>\n<polygon fill=\"black\" stroke=\"black\" stroke-width=\"2\" points=\"87.85,-44.55 97.85,-41.05 87.85,-37.55 87.85,-44.55\"/>\n</g>\n<!-- ready&#45;&gt;ready -->\n<g id=\"edge2\" class=\"edge\">\n<title>ready-&gt;ready</title>\n<path fill=\"none\" stroke=\"black\" d=\"M128.33,-80.79C128.85,-91.73 132.46,-100.09 139.14,-100.09 143.53,-100.09 146.59,-96.49 148.32,-90.92\"/>\n<polygon fill=\"black\" stroke=\"black\" points=\"151.82,-91.21 149.95,-80.79 144.91,-90.1 151.82,-91.21\"/>\n<text text-anchor=\"middle\" x=\"139.14\" y=\"-103.89\" font-family=\"Times,serif\" font-size=\"14.00\">pick_buy_design, 1.0, -11.7</text>\n</g>\n</g>\n</svg>"
     },
     "metadata": {},
     "output_type": "display_data"
    },
    {
     "data": {
      "text/plain": "<IPython.core.display.SVG object>",
      "image/svg+xml": "<svg xmlns=\"http://www.w3.org/2000/svg\" xmlns:xlink=\"http://www.w3.org/1999/xlink\" width=\"244pt\" height=\"123pt\" viewBox=\"0.00 0.00 243.64 123.09\">\n<g id=\"graph0\" class=\"graph\" transform=\"scale(1 1) rotate(0) translate(4 119.09)\">\n<title>%3</title>\n<polygon fill=\"white\" stroke=\"transparent\" points=\"-4,4 -4,-119.09 239.64,-119.09 239.64,4 -4,4\"/>\n<!-- fake -->\n<g id=\"node1\" class=\"node\">\n<title>fake</title>\n</g>\n<!-- ready -->\n<g id=\"node2\" class=\"node\">\n<title>ready</title>\n<ellipse fill=\"none\" stroke=\"black\" cx=\"139.14\" cy=\"-41.05\" rx=\"37.09\" ry=\"37.09\"/>\n<ellipse fill=\"none\" stroke=\"black\" cx=\"139.14\" cy=\"-41.05\" rx=\"41.09\" ry=\"41.09\"/>\n<text text-anchor=\"middle\" x=\"139.14\" y=\"-37.35\" font-family=\"Times,serif\" font-size=\"14.00\">ready</text>\n</g>\n<!-- fake&#45;&gt;ready -->\n<g id=\"edge1\" class=\"edge\">\n<title>fake-&gt;ready</title>\n<path fill=\"none\" stroke=\"black\" stroke-width=\"2\" d=\"M61.24,-41.05C69.48,-41.05 78.65,-41.05 87.72,-41.05\"/>\n<polygon fill=\"black\" stroke=\"black\" stroke-width=\"2\" points=\"87.85,-44.55 97.85,-41.05 87.85,-37.55 87.85,-44.55\"/>\n</g>\n<!-- ready&#45;&gt;ready -->\n<g id=\"edge2\" class=\"edge\">\n<title>ready-&gt;ready</title>\n<path fill=\"none\" stroke=\"black\" d=\"M128.33,-80.79C128.85,-91.73 132.46,-100.09 139.14,-100.09 143.53,-100.09 146.59,-96.49 148.32,-90.92\"/>\n<polygon fill=\"black\" stroke=\"black\" points=\"151.82,-91.21 149.95,-80.79 144.91,-90.1 151.82,-91.21\"/>\n<text text-anchor=\"middle\" x=\"139.14\" y=\"-103.89\" font-family=\"Times,serif\" font-size=\"14.00\">pick_buy_design, 1.0, -12.2</text>\n</g>\n</g>\n</svg>"
     },
     "metadata": {},
     "output_type": "display_data"
    }
   ],
   "source": [
    "def design_service(name: str, action_reward: float) -> Service:\n",
    "    \"\"\"Build the design device.\"\"\"\n",
    "    return build_generic_service_one_state(\n",
    "        name,\n",
    "        {PICK_BUY_DESIGN},\n",
    "        action_reward=action_reward\n",
    "    )\n",
    "\n",
    "service_design_usa = design_service(DESIGN_SERVICE_NAME_USA, USA_REWARD)\n",
    "service_design_uk = design_service(DESIGN_SERVICE_NAME_UK, UK_REWARD)\n",
    "service_design_china = design_service(DESIGN_SERVICE_NAME_CHINA, CHINA_REWARD)\n",
    "service_design_taiwan = design_service(DESIGN_SERVICE_NAME_TAIWAN, TAIWAN_REWARD)\n",
    "render_service(service_design_usa)\n",
    "render_service(service_design_uk)\n",
    "render_service(service_design_china)\n",
    "render_service(service_design_taiwan)"
   ]
  },
  {
   "cell_type": "code",
   "execution_count": 7,
   "metadata": {},
   "outputs": [
    {
     "data": {
      "text/plain": "<IPython.core.display.SVG object>",
      "image/svg+xml": "<svg xmlns=\"http://www.w3.org/2000/svg\" xmlns:xlink=\"http://www.w3.org/1999/xlink\" width=\"227pt\" height=\"123pt\" viewBox=\"0.00 0.00 226.64 123.09\">\n<g id=\"graph0\" class=\"graph\" transform=\"scale(1 1) rotate(0) translate(4 119.09)\">\n<title>%3</title>\n<polygon fill=\"white\" stroke=\"transparent\" points=\"-4,4 -4,-119.09 222.64,-119.09 222.64,4 -4,4\"/>\n<!-- fake -->\n<g id=\"node1\" class=\"node\">\n<title>fake</title>\n</g>\n<!-- ready -->\n<g id=\"node2\" class=\"node\">\n<title>ready</title>\n<ellipse fill=\"none\" stroke=\"black\" cx=\"139.14\" cy=\"-41.05\" rx=\"37.09\" ry=\"37.09\"/>\n<ellipse fill=\"none\" stroke=\"black\" cx=\"139.14\" cy=\"-41.05\" rx=\"41.09\" ry=\"41.09\"/>\n<text text-anchor=\"middle\" x=\"139.14\" y=\"-37.35\" font-family=\"Times,serif\" font-size=\"14.00\">ready</text>\n</g>\n<!-- fake&#45;&gt;ready -->\n<g id=\"edge1\" class=\"edge\">\n<title>fake-&gt;ready</title>\n<path fill=\"none\" stroke=\"black\" stroke-width=\"2\" d=\"M61.24,-41.05C69.48,-41.05 78.65,-41.05 87.72,-41.05\"/>\n<polygon fill=\"black\" stroke=\"black\" stroke-width=\"2\" points=\"87.85,-44.55 97.85,-41.05 87.85,-37.55 87.85,-44.55\"/>\n</g>\n<!-- ready&#45;&gt;ready -->\n<g id=\"edge2\" class=\"edge\">\n<title>ready-&gt;ready</title>\n<path fill=\"none\" stroke=\"black\" d=\"M128.33,-80.79C128.85,-91.73 132.46,-100.09 139.14,-100.09 143.53,-100.09 146.59,-96.49 148.32,-90.92\"/>\n<polygon fill=\"black\" stroke=\"black\" points=\"151.82,-91.21 149.95,-80.79 144.91,-90.1 151.82,-91.21\"/>\n<text text-anchor=\"middle\" x=\"139.14\" y=\"-103.89\" font-family=\"Times,serif\" font-size=\"14.00\">pick_silicon, 1.0, -11.7</text>\n</g>\n</g>\n</svg>"
     },
     "metadata": {},
     "output_type": "display_data"
    },
    {
     "data": {
      "text/plain": "<IPython.core.display.SVG object>",
      "image/svg+xml": "<svg xmlns=\"http://www.w3.org/2000/svg\" xmlns:xlink=\"http://www.w3.org/1999/xlink\" width=\"231pt\" height=\"123pt\" viewBox=\"0.00 0.00 231.14 123.09\">\n<g id=\"graph0\" class=\"graph\" transform=\"scale(1 1) rotate(0) translate(4 119.09)\">\n<title>%3</title>\n<polygon fill=\"white\" stroke=\"transparent\" points=\"-4,4 -4,-119.09 227.14,-119.09 227.14,4 -4,4\"/>\n<!-- fake -->\n<g id=\"node1\" class=\"node\">\n<title>fake</title>\n</g>\n<!-- ready -->\n<g id=\"node2\" class=\"node\">\n<title>ready</title>\n<ellipse fill=\"none\" stroke=\"black\" cx=\"139.14\" cy=\"-41.05\" rx=\"37.09\" ry=\"37.09\"/>\n<ellipse fill=\"none\" stroke=\"black\" cx=\"139.14\" cy=\"-41.05\" rx=\"41.09\" ry=\"41.09\"/>\n<text text-anchor=\"middle\" x=\"139.14\" y=\"-37.35\" font-family=\"Times,serif\" font-size=\"14.00\">ready</text>\n</g>\n<!-- fake&#45;&gt;ready -->\n<g id=\"edge1\" class=\"edge\">\n<title>fake-&gt;ready</title>\n<path fill=\"none\" stroke=\"black\" stroke-width=\"2\" d=\"M61.24,-41.05C69.48,-41.05 78.65,-41.05 87.72,-41.05\"/>\n<polygon fill=\"black\" stroke=\"black\" stroke-width=\"2\" points=\"87.85,-44.55 97.85,-41.05 87.85,-37.55 87.85,-44.55\"/>\n</g>\n<!-- ready&#45;&gt;ready -->\n<g id=\"edge2\" class=\"edge\">\n<title>ready-&gt;ready</title>\n<path fill=\"none\" stroke=\"black\" d=\"M128.33,-80.79C128.85,-91.73 132.46,-100.09 139.14,-100.09 143.53,-100.09 146.59,-96.49 148.32,-90.92\"/>\n<polygon fill=\"black\" stroke=\"black\" points=\"151.82,-91.21 149.95,-80.79 144.91,-90.1 151.82,-91.21\"/>\n<text text-anchor=\"middle\" x=\"139.14\" y=\"-103.89\" font-family=\"Times,serif\" font-size=\"14.00\">pick_silicon, 1.0, -12.12</text>\n</g>\n</g>\n</svg>"
     },
     "metadata": {},
     "output_type": "display_data"
    },
    {
     "data": {
      "text/plain": "<IPython.core.display.SVG object>",
      "image/svg+xml": "<svg xmlns=\"http://www.w3.org/2000/svg\" xmlns:xlink=\"http://www.w3.org/1999/xlink\" width=\"227pt\" height=\"123pt\" viewBox=\"0.00 0.00 226.64 123.09\">\n<g id=\"graph0\" class=\"graph\" transform=\"scale(1 1) rotate(0) translate(4 119.09)\">\n<title>%3</title>\n<polygon fill=\"white\" stroke=\"transparent\" points=\"-4,4 -4,-119.09 222.64,-119.09 222.64,4 -4,4\"/>\n<!-- fake -->\n<g id=\"node1\" class=\"node\">\n<title>fake</title>\n</g>\n<!-- ready -->\n<g id=\"node2\" class=\"node\">\n<title>ready</title>\n<ellipse fill=\"none\" stroke=\"black\" cx=\"139.14\" cy=\"-41.05\" rx=\"37.09\" ry=\"37.09\"/>\n<ellipse fill=\"none\" stroke=\"black\" cx=\"139.14\" cy=\"-41.05\" rx=\"41.09\" ry=\"41.09\"/>\n<text text-anchor=\"middle\" x=\"139.14\" y=\"-37.35\" font-family=\"Times,serif\" font-size=\"14.00\">ready</text>\n</g>\n<!-- fake&#45;&gt;ready -->\n<g id=\"edge1\" class=\"edge\">\n<title>fake-&gt;ready</title>\n<path fill=\"none\" stroke=\"black\" stroke-width=\"2\" d=\"M61.24,-41.05C69.48,-41.05 78.65,-41.05 87.72,-41.05\"/>\n<polygon fill=\"black\" stroke=\"black\" stroke-width=\"2\" points=\"87.85,-44.55 97.85,-41.05 87.85,-37.55 87.85,-44.55\"/>\n</g>\n<!-- ready&#45;&gt;ready -->\n<g id=\"edge2\" class=\"edge\">\n<title>ready-&gt;ready</title>\n<path fill=\"none\" stroke=\"black\" d=\"M128.33,-80.79C128.85,-91.73 132.46,-100.09 139.14,-100.09 143.53,-100.09 146.59,-96.49 148.32,-90.92\"/>\n<polygon fill=\"black\" stroke=\"black\" points=\"151.82,-91.21 149.95,-80.79 144.91,-90.1 151.82,-91.21\"/>\n<text text-anchor=\"middle\" x=\"139.14\" y=\"-103.89\" font-family=\"Times,serif\" font-size=\"14.00\">pick_silicon, 1.0, -7.16</text>\n</g>\n</g>\n</svg>"
     },
     "metadata": {},
     "output_type": "display_data"
    },
    {
     "data": {
      "text/plain": "<IPython.core.display.SVG object>",
      "image/svg+xml": "<svg xmlns=\"http://www.w3.org/2000/svg\" xmlns:xlink=\"http://www.w3.org/1999/xlink\" width=\"222pt\" height=\"123pt\" viewBox=\"0.00 0.00 222.14 123.09\">\n<g id=\"graph0\" class=\"graph\" transform=\"scale(1 1) rotate(0) translate(4 119.09)\">\n<title>%3</title>\n<polygon fill=\"white\" stroke=\"transparent\" points=\"-4,4 -4,-119.09 218.14,-119.09 218.14,4 -4,4\"/>\n<!-- fake -->\n<g id=\"node1\" class=\"node\">\n<title>fake</title>\n</g>\n<!-- ready -->\n<g id=\"node2\" class=\"node\">\n<title>ready</title>\n<ellipse fill=\"none\" stroke=\"black\" cx=\"139.14\" cy=\"-41.05\" rx=\"37.09\" ry=\"37.09\"/>\n<ellipse fill=\"none\" stroke=\"black\" cx=\"139.14\" cy=\"-41.05\" rx=\"41.09\" ry=\"41.09\"/>\n<text text-anchor=\"middle\" x=\"139.14\" y=\"-37.35\" font-family=\"Times,serif\" font-size=\"14.00\">ready</text>\n</g>\n<!-- fake&#45;&gt;ready -->\n<g id=\"edge1\" class=\"edge\">\n<title>fake-&gt;ready</title>\n<path fill=\"none\" stroke=\"black\" stroke-width=\"2\" d=\"M61.24,-41.05C69.48,-41.05 78.65,-41.05 87.72,-41.05\"/>\n<polygon fill=\"black\" stroke=\"black\" stroke-width=\"2\" points=\"87.85,-44.55 97.85,-41.05 87.85,-37.55 87.85,-44.55\"/>\n</g>\n<!-- ready&#45;&gt;ready -->\n<g id=\"edge2\" class=\"edge\">\n<title>ready-&gt;ready</title>\n<path fill=\"none\" stroke=\"black\" d=\"M128.33,-80.79C128.85,-91.73 132.46,-100.09 139.14,-100.09 143.53,-100.09 146.59,-96.49 148.32,-90.92\"/>\n<polygon fill=\"black\" stroke=\"black\" points=\"151.82,-91.21 149.95,-80.79 144.91,-90.1 151.82,-91.21\"/>\n<text text-anchor=\"middle\" x=\"139.14\" y=\"-103.89\" font-family=\"Times,serif\" font-size=\"14.00\">pick_silicon, 1.0, -2.0</text>\n</g>\n</g>\n</svg>"
     },
     "metadata": {},
     "output_type": "display_data"
    },
    {
     "data": {
      "text/plain": "<IPython.core.display.SVG object>",
      "image/svg+xml": "<svg xmlns=\"http://www.w3.org/2000/svg\" xmlns:xlink=\"http://www.w3.org/1999/xlink\" width=\"222pt\" height=\"123pt\" viewBox=\"0.00 0.00 222.14 123.09\">\n<g id=\"graph0\" class=\"graph\" transform=\"scale(1 1) rotate(0) translate(4 119.09)\">\n<title>%3</title>\n<polygon fill=\"white\" stroke=\"transparent\" points=\"-4,4 -4,-119.09 218.14,-119.09 218.14,4 -4,4\"/>\n<!-- fake -->\n<g id=\"node1\" class=\"node\">\n<title>fake</title>\n</g>\n<!-- ready -->\n<g id=\"node2\" class=\"node\">\n<title>ready</title>\n<ellipse fill=\"none\" stroke=\"black\" cx=\"139.14\" cy=\"-41.05\" rx=\"37.09\" ry=\"37.09\"/>\n<ellipse fill=\"none\" stroke=\"black\" cx=\"139.14\" cy=\"-41.05\" rx=\"41.09\" ry=\"41.09\"/>\n<text text-anchor=\"middle\" x=\"139.14\" y=\"-37.35\" font-family=\"Times,serif\" font-size=\"14.00\">ready</text>\n</g>\n<!-- fake&#45;&gt;ready -->\n<g id=\"edge1\" class=\"edge\">\n<title>fake-&gt;ready</title>\n<path fill=\"none\" stroke=\"black\" stroke-width=\"2\" d=\"M61.24,-41.05C69.48,-41.05 78.65,-41.05 87.72,-41.05\"/>\n<polygon fill=\"black\" stroke=\"black\" stroke-width=\"2\" points=\"87.85,-44.55 97.85,-41.05 87.85,-37.55 87.85,-44.55\"/>\n</g>\n<!-- ready&#45;&gt;ready -->\n<g id=\"edge2\" class=\"edge\">\n<title>ready-&gt;ready</title>\n<path fill=\"none\" stroke=\"black\" d=\"M128.33,-80.79C128.85,-91.73 132.46,-100.09 139.14,-100.09 143.53,-100.09 146.59,-96.49 148.32,-90.92\"/>\n<polygon fill=\"black\" stroke=\"black\" points=\"151.82,-91.21 149.95,-80.79 144.91,-90.1 151.82,-91.21\"/>\n<text text-anchor=\"middle\" x=\"139.14\" y=\"-103.89\" font-family=\"Times,serif\" font-size=\"14.00\">pick_silicon, 1.0, -6.7</text>\n</g>\n</g>\n</svg>"
     },
     "metadata": {},
     "output_type": "display_data"
    },
    {
     "data": {
      "text/plain": "<IPython.core.display.SVG object>",
      "image/svg+xml": "<svg xmlns=\"http://www.w3.org/2000/svg\" xmlns:xlink=\"http://www.w3.org/1999/xlink\" width=\"222pt\" height=\"123pt\" viewBox=\"0.00 0.00 222.14 123.09\">\n<g id=\"graph0\" class=\"graph\" transform=\"scale(1 1) rotate(0) translate(4 119.09)\">\n<title>%3</title>\n<polygon fill=\"white\" stroke=\"transparent\" points=\"-4,4 -4,-119.09 218.14,-119.09 218.14,4 -4,4\"/>\n<!-- fake -->\n<g id=\"node1\" class=\"node\">\n<title>fake</title>\n</g>\n<!-- ready -->\n<g id=\"node2\" class=\"node\">\n<title>ready</title>\n<ellipse fill=\"none\" stroke=\"black\" cx=\"139.14\" cy=\"-41.05\" rx=\"37.09\" ry=\"37.09\"/>\n<ellipse fill=\"none\" stroke=\"black\" cx=\"139.14\" cy=\"-41.05\" rx=\"41.09\" ry=\"41.09\"/>\n<text text-anchor=\"middle\" x=\"139.14\" y=\"-37.35\" font-family=\"Times,serif\" font-size=\"14.00\">ready</text>\n</g>\n<!-- fake&#45;&gt;ready -->\n<g id=\"edge1\" class=\"edge\">\n<title>fake-&gt;ready</title>\n<path fill=\"none\" stroke=\"black\" stroke-width=\"2\" d=\"M61.24,-41.05C69.48,-41.05 78.65,-41.05 87.72,-41.05\"/>\n<polygon fill=\"black\" stroke=\"black\" stroke-width=\"2\" points=\"87.85,-44.55 97.85,-41.05 87.85,-37.55 87.85,-44.55\"/>\n</g>\n<!-- ready&#45;&gt;ready -->\n<g id=\"edge2\" class=\"edge\">\n<title>ready-&gt;ready</title>\n<path fill=\"none\" stroke=\"black\" d=\"M128.33,-80.79C128.85,-91.73 132.46,-100.09 139.14,-100.09 143.53,-100.09 146.59,-96.49 148.32,-90.92\"/>\n<polygon fill=\"black\" stroke=\"black\" points=\"151.82,-91.21 149.95,-80.79 144.91,-90.1 151.82,-91.21\"/>\n<text text-anchor=\"middle\" x=\"139.14\" y=\"-103.89\" font-family=\"Times,serif\" font-size=\"14.00\">pick_silicon, 1.0, -7.6</text>\n</g>\n</g>\n</svg>"
     },
     "metadata": {},
     "output_type": "display_data"
    },
    {
     "data": {
      "text/plain": "<IPython.core.display.SVG object>",
      "image/svg+xml": "<svg xmlns=\"http://www.w3.org/2000/svg\" xmlns:xlink=\"http://www.w3.org/1999/xlink\" width=\"231pt\" height=\"123pt\" viewBox=\"0.00 0.00 231.14 123.09\">\n<g id=\"graph0\" class=\"graph\" transform=\"scale(1 1) rotate(0) translate(4 119.09)\">\n<title>%3</title>\n<polygon fill=\"white\" stroke=\"transparent\" points=\"-4,4 -4,-119.09 227.14,-119.09 227.14,4 -4,4\"/>\n<!-- fake -->\n<g id=\"node1\" class=\"node\">\n<title>fake</title>\n</g>\n<!-- ready -->\n<g id=\"node2\" class=\"node\">\n<title>ready</title>\n<ellipse fill=\"none\" stroke=\"black\" cx=\"139.14\" cy=\"-41.05\" rx=\"37.09\" ry=\"37.09\"/>\n<ellipse fill=\"none\" stroke=\"black\" cx=\"139.14\" cy=\"-41.05\" rx=\"41.09\" ry=\"41.09\"/>\n<text text-anchor=\"middle\" x=\"139.14\" y=\"-37.35\" font-family=\"Times,serif\" font-size=\"14.00\">ready</text>\n</g>\n<!-- fake&#45;&gt;ready -->\n<g id=\"edge1\" class=\"edge\">\n<title>fake-&gt;ready</title>\n<path fill=\"none\" stroke=\"black\" stroke-width=\"2\" d=\"M61.24,-41.05C69.48,-41.05 78.65,-41.05 87.72,-41.05\"/>\n<polygon fill=\"black\" stroke=\"black\" stroke-width=\"2\" points=\"87.85,-44.55 97.85,-41.05 87.85,-37.55 87.85,-44.55\"/>\n</g>\n<!-- ready&#45;&gt;ready -->\n<g id=\"edge2\" class=\"edge\">\n<title>ready-&gt;ready</title>\n<path fill=\"none\" stroke=\"black\" d=\"M128.33,-80.79C128.85,-91.73 132.46,-100.09 139.14,-100.09 143.53,-100.09 146.59,-96.49 148.32,-90.92\"/>\n<polygon fill=\"black\" stroke=\"black\" points=\"151.82,-91.21 149.95,-80.79 144.91,-90.1 151.82,-91.21\"/>\n<text text-anchor=\"middle\" x=\"139.14\" y=\"-103.89\" font-family=\"Times,serif\" font-size=\"14.00\">pick_silicon, 1.0, -14.73</text>\n</g>\n</g>\n</svg>"
     },
     "metadata": {},
     "output_type": "display_data"
    }
   ],
   "source": [
    "def silicon_warehouse_service(name: str, action_reward) -> Service:\n",
    "    \"\"\"Build the silicon warehouse device.\"\"\"\n",
    "    return build_generic_service_one_state(\n",
    "        name,\n",
    "        {PICK_SILICON},\n",
    "        action_reward=action_reward\n",
    "    )\n",
    "\n",
    "service_silicon_china = silicon_warehouse_service(SILICON_SERVICE_NAME_CHINA, CHINA_REWARD)\n",
    "service_silicon_russia = silicon_warehouse_service(SILICON_SERVICE_NAME_RUSSIA, RUSSIA_REWARD + WAR_REWARD)\n",
    "service_silicon_norway = silicon_warehouse_service(SILICON_SERVICE_NAME_NORWAY, NORWAY_REWARD)\n",
    "service_silicon_usa = silicon_warehouse_service(SILICON_SERVICE_NAME_USA, USA_REWARD)\n",
    "service_silicon_brazil = silicon_warehouse_service(SILICON_SERVICE_NAME_BRAZIL, BRAZIL_REWARD)\n",
    "service_silicon_france = silicon_warehouse_service(SILICON_SERVICE_NAME_FRANCE, FRANCE_REWARD)\n",
    "service_silicon_malaysia = silicon_warehouse_service(SILICON_SERVICE_NAME_MALAYSIA, MALAYSIA_REWARD)\n",
    "render_service(service_silicon_china)\n",
    "render_service(service_silicon_russia)\n",
    "render_service(service_silicon_norway)\n",
    "render_service(service_silicon_usa)\n",
    "render_service(service_silicon_brazil)\n",
    "render_service(service_silicon_france)\n",
    "render_service(service_silicon_malaysia)"
   ]
  },
  {
   "cell_type": "code",
   "execution_count": 8,
   "metadata": {},
   "outputs": [
    {
     "data": {
      "text/plain": "<IPython.core.display.SVG object>",
      "image/svg+xml": "<svg xmlns=\"http://www.w3.org/2000/svg\" xmlns:xlink=\"http://www.w3.org/1999/xlink\" width=\"223pt\" height=\"123pt\" viewBox=\"0.00 0.00 223.14 123.09\">\n<g id=\"graph0\" class=\"graph\" transform=\"scale(1 1) rotate(0) translate(4 119.09)\">\n<title>%3</title>\n<polygon fill=\"white\" stroke=\"transparent\" points=\"-4,4 -4,-119.09 219.14,-119.09 219.14,4 -4,4\"/>\n<!-- fake -->\n<g id=\"node1\" class=\"node\">\n<title>fake</title>\n</g>\n<!-- ready -->\n<g id=\"node2\" class=\"node\">\n<title>ready</title>\n<ellipse fill=\"none\" stroke=\"black\" cx=\"139.14\" cy=\"-41.05\" rx=\"37.09\" ry=\"37.09\"/>\n<ellipse fill=\"none\" stroke=\"black\" cx=\"139.14\" cy=\"-41.05\" rx=\"41.09\" ry=\"41.09\"/>\n<text text-anchor=\"middle\" x=\"139.14\" y=\"-37.35\" font-family=\"Times,serif\" font-size=\"14.00\">ready</text>\n</g>\n<!-- fake&#45;&gt;ready -->\n<g id=\"edge1\" class=\"edge\">\n<title>fake-&gt;ready</title>\n<path fill=\"none\" stroke=\"black\" stroke-width=\"2\" d=\"M61.24,-41.05C69.48,-41.05 78.65,-41.05 87.72,-41.05\"/>\n<polygon fill=\"black\" stroke=\"black\" stroke-width=\"2\" points=\"87.85,-44.55 97.85,-41.05 87.85,-37.55 87.85,-44.55\"/>\n</g>\n<!-- ready&#45;&gt;ready -->\n<g id=\"edge2\" class=\"edge\">\n<title>ready-&gt;ready</title>\n<path fill=\"none\" stroke=\"black\" d=\"M128.33,-80.79C128.85,-91.73 132.46,-100.09 139.14,-100.09 143.53,-100.09 146.59,-96.49 148.32,-90.92\"/>\n<polygon fill=\"black\" stroke=\"black\" points=\"151.82,-91.21 149.95,-80.79 144.91,-90.1 151.82,-91.21\"/>\n<text text-anchor=\"middle\" x=\"139.14\" y=\"-103.89\" font-family=\"Times,serif\" font-size=\"14.00\">pick_wafer, 1.0, -10.1</text>\n</g>\n</g>\n</svg>"
     },
     "metadata": {},
     "output_type": "display_data"
    },
    {
     "data": {
      "text/plain": "<IPython.core.display.SVG object>",
      "image/svg+xml": "<svg xmlns=\"http://www.w3.org/2000/svg\" xmlns:xlink=\"http://www.w3.org/1999/xlink\" width=\"223pt\" height=\"123pt\" viewBox=\"0.00 0.00 223.14 123.09\">\n<g id=\"graph0\" class=\"graph\" transform=\"scale(1 1) rotate(0) translate(4 119.09)\">\n<title>%3</title>\n<polygon fill=\"white\" stroke=\"transparent\" points=\"-4,4 -4,-119.09 219.14,-119.09 219.14,4 -4,4\"/>\n<!-- fake -->\n<g id=\"node1\" class=\"node\">\n<title>fake</title>\n</g>\n<!-- ready -->\n<g id=\"node2\" class=\"node\">\n<title>ready</title>\n<ellipse fill=\"none\" stroke=\"black\" cx=\"139.14\" cy=\"-41.05\" rx=\"37.09\" ry=\"37.09\"/>\n<ellipse fill=\"none\" stroke=\"black\" cx=\"139.14\" cy=\"-41.05\" rx=\"41.09\" ry=\"41.09\"/>\n<text text-anchor=\"middle\" x=\"139.14\" y=\"-37.35\" font-family=\"Times,serif\" font-size=\"14.00\">ready</text>\n</g>\n<!-- fake&#45;&gt;ready -->\n<g id=\"edge1\" class=\"edge\">\n<title>fake-&gt;ready</title>\n<path fill=\"none\" stroke=\"black\" stroke-width=\"2\" d=\"M61.24,-41.05C69.48,-41.05 78.65,-41.05 87.72,-41.05\"/>\n<polygon fill=\"black\" stroke=\"black\" stroke-width=\"2\" points=\"87.85,-44.55 97.85,-41.05 87.85,-37.55 87.85,-44.55\"/>\n</g>\n<!-- ready&#45;&gt;ready -->\n<g id=\"edge2\" class=\"edge\">\n<title>ready-&gt;ready</title>\n<path fill=\"none\" stroke=\"black\" d=\"M128.33,-80.79C128.85,-91.73 132.46,-100.09 139.14,-100.09 143.53,-100.09 146.59,-96.49 148.32,-90.92\"/>\n<polygon fill=\"black\" stroke=\"black\" points=\"151.82,-91.21 149.95,-80.79 144.91,-90.1 151.82,-91.21\"/>\n<text text-anchor=\"middle\" x=\"139.14\" y=\"-103.89\" font-family=\"Times,serif\" font-size=\"14.00\">pick_wafer, 1.0, -10.7</text>\n</g>\n</g>\n</svg>"
     },
     "metadata": {},
     "output_type": "display_data"
    }
   ],
   "source": [
    "def wafer_warehouse_service(name: str, action_reward: float) -> Service:\n",
    "    \"\"\"Build the wafer warehouse device.\"\"\"\n",
    "    return build_generic_service_one_state(\n",
    "        name,\n",
    "        {PICK_WAFER},\n",
    "        action_reward=action_reward\n",
    "    )\n",
    "\n",
    "service_wafer_japan = wafer_warehouse_service(WAFER_SERVICE_NAME_JAPAN, JAPAN_REWARD)\n",
    "service_wafer_south_korea = wafer_warehouse_service(WAFER_SERVICE_NAME_SOUTH_KOREA, SOUTH_KOREA)\n",
    "render_service(service_wafer_japan)\n",
    "render_service(service_wafer_south_korea)"
   ]
  },
  {
   "cell_type": "code",
   "execution_count": 9,
   "metadata": {},
   "outputs": [
    {
     "data": {
      "text/plain": "<IPython.core.display.SVG object>",
      "image/svg+xml": "<svg xmlns=\"http://www.w3.org/2000/svg\" xmlns:xlink=\"http://www.w3.org/1999/xlink\" width=\"229pt\" height=\"123pt\" viewBox=\"0.00 0.00 228.64 123.09\">\n<g id=\"graph0\" class=\"graph\" transform=\"scale(1 1) rotate(0) translate(4 119.09)\">\n<title>%3</title>\n<polygon fill=\"white\" stroke=\"transparent\" points=\"-4,4 -4,-119.09 224.64,-119.09 224.64,4 -4,4\"/>\n<!-- fake -->\n<g id=\"node1\" class=\"node\">\n<title>fake</title>\n</g>\n<!-- ready -->\n<g id=\"node2\" class=\"node\">\n<title>ready</title>\n<ellipse fill=\"none\" stroke=\"black\" cx=\"139.14\" cy=\"-41.05\" rx=\"37.09\" ry=\"37.09\"/>\n<ellipse fill=\"none\" stroke=\"black\" cx=\"139.14\" cy=\"-41.05\" rx=\"41.09\" ry=\"41.09\"/>\n<text text-anchor=\"middle\" x=\"139.14\" y=\"-37.35\" font-family=\"Times,serif\" font-size=\"14.00\">ready</text>\n</g>\n<!-- fake&#45;&gt;ready -->\n<g id=\"edge1\" class=\"edge\">\n<title>fake-&gt;ready</title>\n<path fill=\"none\" stroke=\"black\" stroke-width=\"2\" d=\"M61.24,-41.05C69.48,-41.05 78.65,-41.05 87.72,-41.05\"/>\n<polygon fill=\"black\" stroke=\"black\" stroke-width=\"2\" points=\"87.85,-44.55 97.85,-41.05 87.85,-37.55 87.85,-44.55\"/>\n</g>\n<!-- ready&#45;&gt;ready -->\n<g id=\"edge2\" class=\"edge\">\n<title>ready-&gt;ready</title>\n<path fill=\"none\" stroke=\"black\" d=\"M128.33,-80.79C128.85,-91.73 132.46,-100.09 139.14,-100.09 143.53,-100.09 146.59,-96.49 148.32,-90.92\"/>\n<polygon fill=\"black\" stroke=\"black\" points=\"151.82,-91.21 149.95,-80.79 144.91,-90.1 151.82,-91.21\"/>\n<text text-anchor=\"middle\" x=\"139.14\" y=\"-103.89\" font-family=\"Times,serif\" font-size=\"14.00\">pick_boron, 1.0, -10.16</text>\n</g>\n</g>\n</svg>"
     },
     "metadata": {},
     "output_type": "display_data"
    },
    {
     "data": {
      "text/plain": "<IPython.core.display.SVG object>",
      "image/svg+xml": "<svg xmlns=\"http://www.w3.org/2000/svg\" xmlns:xlink=\"http://www.w3.org/1999/xlink\" width=\"220pt\" height=\"123pt\" viewBox=\"0.00 0.00 219.64 123.09\">\n<g id=\"graph0\" class=\"graph\" transform=\"scale(1 1) rotate(0) translate(4 119.09)\">\n<title>%3</title>\n<polygon fill=\"white\" stroke=\"transparent\" points=\"-4,4 -4,-119.09 215.64,-119.09 215.64,4 -4,4\"/>\n<!-- fake -->\n<g id=\"node1\" class=\"node\">\n<title>fake</title>\n</g>\n<!-- ready -->\n<g id=\"node2\" class=\"node\">\n<title>ready</title>\n<ellipse fill=\"none\" stroke=\"black\" cx=\"139.14\" cy=\"-41.05\" rx=\"37.09\" ry=\"37.09\"/>\n<ellipse fill=\"none\" stroke=\"black\" cx=\"139.14\" cy=\"-41.05\" rx=\"41.09\" ry=\"41.09\"/>\n<text text-anchor=\"middle\" x=\"139.14\" y=\"-37.35\" font-family=\"Times,serif\" font-size=\"14.00\">ready</text>\n</g>\n<!-- fake&#45;&gt;ready -->\n<g id=\"edge1\" class=\"edge\">\n<title>fake-&gt;ready</title>\n<path fill=\"none\" stroke=\"black\" stroke-width=\"2\" d=\"M61.24,-41.05C69.48,-41.05 78.65,-41.05 87.72,-41.05\"/>\n<polygon fill=\"black\" stroke=\"black\" stroke-width=\"2\" points=\"87.85,-44.55 97.85,-41.05 87.85,-37.55 87.85,-44.55\"/>\n</g>\n<!-- ready&#45;&gt;ready -->\n<g id=\"edge2\" class=\"edge\">\n<title>ready-&gt;ready</title>\n<path fill=\"none\" stroke=\"black\" d=\"M128.33,-80.79C128.85,-91.73 132.46,-100.09 139.14,-100.09 143.53,-100.09 146.59,-96.49 148.32,-90.92\"/>\n<polygon fill=\"black\" stroke=\"black\" points=\"151.82,-91.21 149.95,-80.79 144.91,-90.1 151.82,-91.21\"/>\n<text text-anchor=\"middle\" x=\"139.14\" y=\"-103.89\" font-family=\"Times,serif\" font-size=\"14.00\">pick_boron, 1.0, -2.0</text>\n</g>\n</g>\n</svg>"
     },
     "metadata": {},
     "output_type": "display_data"
    },
    {
     "data": {
      "text/plain": "<IPython.core.display.SVG object>",
      "image/svg+xml": "<svg xmlns=\"http://www.w3.org/2000/svg\" xmlns:xlink=\"http://www.w3.org/1999/xlink\" width=\"224pt\" height=\"123pt\" viewBox=\"0.00 0.00 224.14 123.09\">\n<g id=\"graph0\" class=\"graph\" transform=\"scale(1 1) rotate(0) translate(4 119.09)\">\n<title>%3</title>\n<polygon fill=\"white\" stroke=\"transparent\" points=\"-4,4 -4,-119.09 220.14,-119.09 220.14,4 -4,4\"/>\n<!-- fake -->\n<g id=\"node1\" class=\"node\">\n<title>fake</title>\n</g>\n<!-- ready -->\n<g id=\"node2\" class=\"node\">\n<title>ready</title>\n<ellipse fill=\"none\" stroke=\"black\" cx=\"139.14\" cy=\"-41.05\" rx=\"37.09\" ry=\"37.09\"/>\n<ellipse fill=\"none\" stroke=\"black\" cx=\"139.14\" cy=\"-41.05\" rx=\"41.09\" ry=\"41.09\"/>\n<text text-anchor=\"middle\" x=\"139.14\" y=\"-37.35\" font-family=\"Times,serif\" font-size=\"14.00\">ready</text>\n</g>\n<!-- fake&#45;&gt;ready -->\n<g id=\"edge1\" class=\"edge\">\n<title>fake-&gt;ready</title>\n<path fill=\"none\" stroke=\"black\" stroke-width=\"2\" d=\"M61.24,-41.05C69.48,-41.05 78.65,-41.05 87.72,-41.05\"/>\n<polygon fill=\"black\" stroke=\"black\" stroke-width=\"2\" points=\"87.85,-44.55 97.85,-41.05 87.85,-37.55 87.85,-44.55\"/>\n</g>\n<!-- ready&#45;&gt;ready -->\n<g id=\"edge2\" class=\"edge\">\n<title>ready-&gt;ready</title>\n<path fill=\"none\" stroke=\"black\" d=\"M128.33,-80.79C128.85,-91.73 132.46,-100.09 139.14,-100.09 143.53,-100.09 146.59,-96.49 148.32,-90.92\"/>\n<polygon fill=\"black\" stroke=\"black\" points=\"151.82,-91.21 149.95,-80.79 144.91,-90.1 151.82,-91.21\"/>\n<text text-anchor=\"middle\" x=\"139.14\" y=\"-103.89\" font-family=\"Times,serif\" font-size=\"14.00\">pick_boron, 1.0, -10.4</text>\n</g>\n</g>\n</svg>"
     },
     "metadata": {},
     "output_type": "display_data"
    },
    {
     "data": {
      "text/plain": "<IPython.core.display.SVG object>",
      "image/svg+xml": "<svg xmlns=\"http://www.w3.org/2000/svg\" xmlns:xlink=\"http://www.w3.org/1999/xlink\" width=\"220pt\" height=\"123pt\" viewBox=\"0.00 0.00 219.64 123.09\">\n<g id=\"graph0\" class=\"graph\" transform=\"scale(1 1) rotate(0) translate(4 119.09)\">\n<title>%3</title>\n<polygon fill=\"white\" stroke=\"transparent\" points=\"-4,4 -4,-119.09 215.64,-119.09 215.64,4 -4,4\"/>\n<!-- fake -->\n<g id=\"node1\" class=\"node\">\n<title>fake</title>\n</g>\n<!-- ready -->\n<g id=\"node2\" class=\"node\">\n<title>ready</title>\n<ellipse fill=\"none\" stroke=\"black\" cx=\"139.14\" cy=\"-41.05\" rx=\"37.09\" ry=\"37.09\"/>\n<ellipse fill=\"none\" stroke=\"black\" cx=\"139.14\" cy=\"-41.05\" rx=\"41.09\" ry=\"41.09\"/>\n<text text-anchor=\"middle\" x=\"139.14\" y=\"-37.35\" font-family=\"Times,serif\" font-size=\"14.00\">ready</text>\n</g>\n<!-- fake&#45;&gt;ready -->\n<g id=\"edge1\" class=\"edge\">\n<title>fake-&gt;ready</title>\n<path fill=\"none\" stroke=\"black\" stroke-width=\"2\" d=\"M61.24,-41.05C69.48,-41.05 78.65,-41.05 87.72,-41.05\"/>\n<polygon fill=\"black\" stroke=\"black\" stroke-width=\"2\" points=\"87.85,-44.55 97.85,-41.05 87.85,-37.55 87.85,-44.55\"/>\n</g>\n<!-- ready&#45;&gt;ready -->\n<g id=\"edge2\" class=\"edge\">\n<title>ready-&gt;ready</title>\n<path fill=\"none\" stroke=\"black\" d=\"M128.33,-80.79C128.85,-91.73 132.46,-100.09 139.14,-100.09 143.53,-100.09 146.59,-96.49 148.32,-90.92\"/>\n<polygon fill=\"black\" stroke=\"black\" points=\"151.82,-91.21 149.95,-80.79 144.91,-90.1 151.82,-91.21\"/>\n<text text-anchor=\"middle\" x=\"139.14\" y=\"-103.89\" font-family=\"Times,serif\" font-size=\"14.00\">pick_boron, 1.0, -7.8</text>\n</g>\n</g>\n</svg>"
     },
     "metadata": {},
     "output_type": "display_data"
    },
    {
     "data": {
      "text/plain": "<IPython.core.display.SVG object>",
      "image/svg+xml": "<svg xmlns=\"http://www.w3.org/2000/svg\" xmlns:xlink=\"http://www.w3.org/1999/xlink\" width=\"224pt\" height=\"123pt\" viewBox=\"0.00 0.00 224.14 123.09\">\n<g id=\"graph0\" class=\"graph\" transform=\"scale(1 1) rotate(0) translate(4 119.09)\">\n<title>%3</title>\n<polygon fill=\"white\" stroke=\"transparent\" points=\"-4,4 -4,-119.09 220.14,-119.09 220.14,4 -4,4\"/>\n<!-- fake -->\n<g id=\"node1\" class=\"node\">\n<title>fake</title>\n</g>\n<!-- ready -->\n<g id=\"node2\" class=\"node\">\n<title>ready</title>\n<ellipse fill=\"none\" stroke=\"black\" cx=\"139.14\" cy=\"-41.05\" rx=\"37.09\" ry=\"37.09\"/>\n<ellipse fill=\"none\" stroke=\"black\" cx=\"139.14\" cy=\"-41.05\" rx=\"41.09\" ry=\"41.09\"/>\n<text text-anchor=\"middle\" x=\"139.14\" y=\"-37.35\" font-family=\"Times,serif\" font-size=\"14.00\">ready</text>\n</g>\n<!-- fake&#45;&gt;ready -->\n<g id=\"edge1\" class=\"edge\">\n<title>fake-&gt;ready</title>\n<path fill=\"none\" stroke=\"black\" stroke-width=\"2\" d=\"M61.24,-41.05C69.48,-41.05 78.65,-41.05 87.72,-41.05\"/>\n<polygon fill=\"black\" stroke=\"black\" stroke-width=\"2\" points=\"87.85,-44.55 97.85,-41.05 87.85,-37.55 87.85,-44.55\"/>\n</g>\n<!-- ready&#45;&gt;ready -->\n<g id=\"edge2\" class=\"edge\">\n<title>ready-&gt;ready</title>\n<path fill=\"none\" stroke=\"black\" d=\"M128.33,-80.79C128.85,-91.73 132.46,-100.09 139.14,-100.09 143.53,-100.09 146.59,-96.49 148.32,-90.92\"/>\n<polygon fill=\"black\" stroke=\"black\" points=\"151.82,-91.21 149.95,-80.79 144.91,-90.1 151.82,-91.21\"/>\n<text text-anchor=\"middle\" x=\"139.14\" y=\"-103.89\" font-family=\"Times,serif\" font-size=\"14.00\">pick_boron, 1.0, -11.7</text>\n</g>\n</g>\n</svg>"
     },
     "metadata": {},
     "output_type": "display_data"
    },
    {
     "data": {
      "text/plain": "<IPython.core.display.SVG object>",
      "image/svg+xml": "<svg xmlns=\"http://www.w3.org/2000/svg\" xmlns:xlink=\"http://www.w3.org/1999/xlink\" width=\"220pt\" height=\"123pt\" viewBox=\"0.00 0.00 219.64 123.09\">\n<g id=\"graph0\" class=\"graph\" transform=\"scale(1 1) rotate(0) translate(4 119.09)\">\n<title>%3</title>\n<polygon fill=\"white\" stroke=\"transparent\" points=\"-4,4 -4,-119.09 215.64,-119.09 215.64,4 -4,4\"/>\n<!-- fake -->\n<g id=\"node1\" class=\"node\">\n<title>fake</title>\n</g>\n<!-- ready -->\n<g id=\"node2\" class=\"node\">\n<title>ready</title>\n<ellipse fill=\"none\" stroke=\"black\" cx=\"139.14\" cy=\"-41.05\" rx=\"37.09\" ry=\"37.09\"/>\n<ellipse fill=\"none\" stroke=\"black\" cx=\"139.14\" cy=\"-41.05\" rx=\"41.09\" ry=\"41.09\"/>\n<text text-anchor=\"middle\" x=\"139.14\" y=\"-37.35\" font-family=\"Times,serif\" font-size=\"14.00\">ready</text>\n</g>\n<!-- fake&#45;&gt;ready -->\n<g id=\"edge1\" class=\"edge\">\n<title>fake-&gt;ready</title>\n<path fill=\"none\" stroke=\"black\" stroke-width=\"2\" d=\"M61.24,-41.05C69.48,-41.05 78.65,-41.05 87.72,-41.05\"/>\n<polygon fill=\"black\" stroke=\"black\" stroke-width=\"2\" points=\"87.85,-44.55 97.85,-41.05 87.85,-37.55 87.85,-44.55\"/>\n</g>\n<!-- ready&#45;&gt;ready -->\n<g id=\"edge2\" class=\"edge\">\n<title>ready-&gt;ready</title>\n<path fill=\"none\" stroke=\"black\" d=\"M128.33,-80.79C128.85,-91.73 132.46,-100.09 139.14,-100.09 143.53,-100.09 146.59,-96.49 148.32,-90.92\"/>\n<polygon fill=\"black\" stroke=\"black\" points=\"151.82,-91.21 149.95,-80.79 144.91,-90.1 151.82,-91.21\"/>\n<text text-anchor=\"middle\" x=\"139.14\" y=\"-103.89\" font-family=\"Times,serif\" font-size=\"14.00\">pick_boron, 1.0, -6.8</text>\n</g>\n</g>\n</svg>"
     },
     "metadata": {},
     "output_type": "display_data"
    },
    {
     "data": {
      "text/plain": "<IPython.core.display.SVG object>",
      "image/svg+xml": "<svg xmlns=\"http://www.w3.org/2000/svg\" xmlns:xlink=\"http://www.w3.org/1999/xlink\" width=\"224pt\" height=\"123pt\" viewBox=\"0.00 0.00 224.14 123.09\">\n<g id=\"graph0\" class=\"graph\" transform=\"scale(1 1) rotate(0) translate(4 119.09)\">\n<title>%3</title>\n<polygon fill=\"white\" stroke=\"transparent\" points=\"-4,4 -4,-119.09 220.14,-119.09 220.14,4 -4,4\"/>\n<!-- fake -->\n<g id=\"node1\" class=\"node\">\n<title>fake</title>\n</g>\n<!-- ready -->\n<g id=\"node2\" class=\"node\">\n<title>ready</title>\n<ellipse fill=\"none\" stroke=\"black\" cx=\"139.14\" cy=\"-41.05\" rx=\"37.09\" ry=\"37.09\"/>\n<ellipse fill=\"none\" stroke=\"black\" cx=\"139.14\" cy=\"-41.05\" rx=\"41.09\" ry=\"41.09\"/>\n<text text-anchor=\"middle\" x=\"139.14\" y=\"-37.35\" font-family=\"Times,serif\" font-size=\"14.00\">ready</text>\n</g>\n<!-- fake&#45;&gt;ready -->\n<g id=\"edge1\" class=\"edge\">\n<title>fake-&gt;ready</title>\n<path fill=\"none\" stroke=\"black\" stroke-width=\"2\" d=\"M61.24,-41.05C69.48,-41.05 78.65,-41.05 87.72,-41.05\"/>\n<polygon fill=\"black\" stroke=\"black\" stroke-width=\"2\" points=\"87.85,-44.55 97.85,-41.05 87.85,-37.55 87.85,-44.55\"/>\n</g>\n<!-- ready&#45;&gt;ready -->\n<g id=\"edge2\" class=\"edge\">\n<title>ready-&gt;ready</title>\n<path fill=\"none\" stroke=\"black\" d=\"M128.33,-80.79C128.85,-91.73 132.46,-100.09 139.14,-100.09 143.53,-100.09 146.59,-96.49 148.32,-90.92\"/>\n<polygon fill=\"black\" stroke=\"black\" points=\"151.82,-91.21 149.95,-80.79 144.91,-90.1 151.82,-91.21\"/>\n<text text-anchor=\"middle\" x=\"139.14\" y=\"-103.89\" font-family=\"Times,serif\" font-size=\"14.00\">pick_boron, 1.0, -8.55</text>\n</g>\n</g>\n</svg>"
     },
     "metadata": {},
     "output_type": "display_data"
    },
    {
     "data": {
      "text/plain": "<IPython.core.display.SVG object>",
      "image/svg+xml": "<svg xmlns=\"http://www.w3.org/2000/svg\" xmlns:xlink=\"http://www.w3.org/1999/xlink\" width=\"229pt\" height=\"123pt\" viewBox=\"0.00 0.00 228.64 123.09\">\n<g id=\"graph0\" class=\"graph\" transform=\"scale(1 1) rotate(0) translate(4 119.09)\">\n<title>%3</title>\n<polygon fill=\"white\" stroke=\"transparent\" points=\"-4,4 -4,-119.09 224.64,-119.09 224.64,4 -4,4\"/>\n<!-- fake -->\n<g id=\"node1\" class=\"node\">\n<title>fake</title>\n</g>\n<!-- ready -->\n<g id=\"node2\" class=\"node\">\n<title>ready</title>\n<ellipse fill=\"none\" stroke=\"black\" cx=\"139.14\" cy=\"-41.05\" rx=\"37.09\" ry=\"37.09\"/>\n<ellipse fill=\"none\" stroke=\"black\" cx=\"139.14\" cy=\"-41.05\" rx=\"41.09\" ry=\"41.09\"/>\n<text text-anchor=\"middle\" x=\"139.14\" y=\"-37.35\" font-family=\"Times,serif\" font-size=\"14.00\">ready</text>\n</g>\n<!-- fake&#45;&gt;ready -->\n<g id=\"edge1\" class=\"edge\">\n<title>fake-&gt;ready</title>\n<path fill=\"none\" stroke=\"black\" stroke-width=\"2\" d=\"M61.24,-41.05C69.48,-41.05 78.65,-41.05 87.72,-41.05\"/>\n<polygon fill=\"black\" stroke=\"black\" stroke-width=\"2\" points=\"87.85,-44.55 97.85,-41.05 87.85,-37.55 87.85,-44.55\"/>\n</g>\n<!-- ready&#45;&gt;ready -->\n<g id=\"edge2\" class=\"edge\">\n<title>ready-&gt;ready</title>\n<path fill=\"none\" stroke=\"black\" d=\"M128.33,-80.79C128.85,-91.73 132.46,-100.09 139.14,-100.09 143.53,-100.09 146.59,-96.49 148.32,-90.92\"/>\n<polygon fill=\"black\" stroke=\"black\" points=\"151.82,-91.21 149.95,-80.79 144.91,-90.1 151.82,-91.21\"/>\n<text text-anchor=\"middle\" x=\"139.14\" y=\"-103.89\" font-family=\"Times,serif\" font-size=\"14.00\">pick_boron, 1.0, -12.12</text>\n</g>\n</g>\n</svg>"
     },
     "metadata": {},
     "output_type": "display_data"
    }
   ],
   "source": [
    "def boron_warehouse_service(name: str, action_reward: float) -> Service:\n",
    "    \"\"\"Build the boron warehouse device.\"\"\"\n",
    "    return build_generic_service_one_state(\n",
    "        name,\n",
    "        {PICK_BORON},\n",
    "        action_reward=action_reward\n",
    "    )\n",
    "\n",
    "service_boron_turkey = boron_warehouse_service(BORON_SERVICE_NAME_TURKEY, TURKEY_REWARD)\n",
    "service_boron_usa = boron_warehouse_service(BORON_SERVICE_NAME_USA, USA_REWARD)\n",
    "service_boron_kazakhstan = boron_warehouse_service(BORON_SERVICE_NAME_KAZAKHSTAN, KAZAKHSTAN_REWARD)\n",
    "service_boron_chile = boron_warehouse_service(BORON_SERVICE_NAME_CHILE, CHILE_REWARD)\n",
    "service_boron_china = boron_warehouse_service(BORON_SERVICE_NAME_CHINA, CHINA_REWARD)\n",
    "service_boron_bolivia = boron_warehouse_service(BORON_SERVICE_NAME_BOLIVIA, BOLIVIA_REWARD)\n",
    "service_boron_argentina = boron_warehouse_service(BORON_SERVICE_NAME_ARGENTINA, ARGENTINA_REWARD)\n",
    "service_boron_russia = boron_warehouse_service(BORON_SERVICE_NAME_RUSSIA, RUSSIA_REWARD + WAR_REWARD)\n",
    "render_service(service_boron_turkey)\n",
    "render_service(service_boron_usa)\n",
    "render_service(service_boron_kazakhstan)\n",
    "render_service(service_boron_chile)\n",
    "render_service(service_boron_china)\n",
    "render_service(service_boron_bolivia)\n",
    "render_service(service_boron_argentina)\n",
    "render_service(service_boron_russia)"
   ]
  },
  {
   "cell_type": "code",
   "execution_count": 10,
   "metadata": {},
   "outputs": [
    {
     "data": {
      "text/plain": "<IPython.core.display.SVG object>",
      "image/svg+xml": "<svg xmlns=\"http://www.w3.org/2000/svg\" xmlns:xlink=\"http://www.w3.org/1999/xlink\" width=\"232pt\" height=\"123pt\" viewBox=\"0.00 0.00 231.64 123.09\">\n<g id=\"graph0\" class=\"graph\" transform=\"scale(1 1) rotate(0) translate(4 119.09)\">\n<title>%3</title>\n<polygon fill=\"white\" stroke=\"transparent\" points=\"-4,4 -4,-119.09 227.64,-119.09 227.64,4 -4,4\"/>\n<!-- fake -->\n<g id=\"node1\" class=\"node\">\n<title>fake</title>\n</g>\n<!-- ready -->\n<g id=\"node2\" class=\"node\">\n<title>ready</title>\n<ellipse fill=\"none\" stroke=\"black\" cx=\"139.14\" cy=\"-41.05\" rx=\"37.09\" ry=\"37.09\"/>\n<ellipse fill=\"none\" stroke=\"black\" cx=\"139.14\" cy=\"-41.05\" rx=\"41.09\" ry=\"41.09\"/>\n<text text-anchor=\"middle\" x=\"139.14\" y=\"-37.35\" font-family=\"Times,serif\" font-size=\"14.00\">ready</text>\n</g>\n<!-- fake&#45;&gt;ready -->\n<g id=\"edge1\" class=\"edge\">\n<title>fake-&gt;ready</title>\n<path fill=\"none\" stroke=\"black\" stroke-width=\"2\" d=\"M61.24,-41.05C69.48,-41.05 78.65,-41.05 87.72,-41.05\"/>\n<polygon fill=\"black\" stroke=\"black\" stroke-width=\"2\" points=\"87.85,-44.55 97.85,-41.05 87.85,-37.55 87.85,-44.55\"/>\n</g>\n<!-- ready&#45;&gt;ready -->\n<g id=\"edge2\" class=\"edge\">\n<title>ready-&gt;ready</title>\n<path fill=\"none\" stroke=\"black\" d=\"M128.33,-80.79C128.85,-91.73 132.46,-100.09 139.14,-100.09 143.53,-100.09 146.59,-96.49 148.32,-90.92\"/>\n<polygon fill=\"black\" stroke=\"black\" points=\"151.82,-91.21 149.95,-80.79 144.91,-90.1 151.82,-91.21\"/>\n<text text-anchor=\"middle\" x=\"139.14\" y=\"-103.89\" font-family=\"Times,serif\" font-size=\"14.00\">pick_phosphor, 1.0, -7.9</text>\n</g>\n</g>\n</svg>"
     },
     "metadata": {},
     "output_type": "display_data"
    },
    {
     "data": {
      "text/plain": "<IPython.core.display.SVG object>",
      "image/svg+xml": "<svg xmlns=\"http://www.w3.org/2000/svg\" xmlns:xlink=\"http://www.w3.org/1999/xlink\" width=\"236pt\" height=\"123pt\" viewBox=\"0.00 0.00 236.14 123.09\">\n<g id=\"graph0\" class=\"graph\" transform=\"scale(1 1) rotate(0) translate(4 119.09)\">\n<title>%3</title>\n<polygon fill=\"white\" stroke=\"transparent\" points=\"-4,4 -4,-119.09 232.14,-119.09 232.14,4 -4,4\"/>\n<!-- fake -->\n<g id=\"node1\" class=\"node\">\n<title>fake</title>\n</g>\n<!-- ready -->\n<g id=\"node2\" class=\"node\">\n<title>ready</title>\n<ellipse fill=\"none\" stroke=\"black\" cx=\"139.14\" cy=\"-41.05\" rx=\"37.09\" ry=\"37.09\"/>\n<ellipse fill=\"none\" stroke=\"black\" cx=\"139.14\" cy=\"-41.05\" rx=\"41.09\" ry=\"41.09\"/>\n<text text-anchor=\"middle\" x=\"139.14\" y=\"-37.35\" font-family=\"Times,serif\" font-size=\"14.00\">ready</text>\n</g>\n<!-- fake&#45;&gt;ready -->\n<g id=\"edge1\" class=\"edge\">\n<title>fake-&gt;ready</title>\n<path fill=\"none\" stroke=\"black\" stroke-width=\"2\" d=\"M61.24,-41.05C69.48,-41.05 78.65,-41.05 87.72,-41.05\"/>\n<polygon fill=\"black\" stroke=\"black\" stroke-width=\"2\" points=\"87.85,-44.55 97.85,-41.05 87.85,-37.55 87.85,-44.55\"/>\n</g>\n<!-- ready&#45;&gt;ready -->\n<g id=\"edge2\" class=\"edge\">\n<title>ready-&gt;ready</title>\n<path fill=\"none\" stroke=\"black\" d=\"M128.33,-80.79C128.85,-91.73 132.46,-100.09 139.14,-100.09 143.53,-100.09 146.59,-96.49 148.32,-90.92\"/>\n<polygon fill=\"black\" stroke=\"black\" points=\"151.82,-91.21 149.95,-80.79 144.91,-90.1 151.82,-91.21\"/>\n<text text-anchor=\"middle\" x=\"139.14\" y=\"-103.89\" font-family=\"Times,serif\" font-size=\"14.00\">pick_phosphor, 1.0, -11.7</text>\n</g>\n</g>\n</svg>"
     },
     "metadata": {},
     "output_type": "display_data"
    },
    {
     "data": {
      "text/plain": "<IPython.core.display.SVG object>",
      "image/svg+xml": "<svg xmlns=\"http://www.w3.org/2000/svg\" xmlns:xlink=\"http://www.w3.org/1999/xlink\" width=\"232pt\" height=\"123pt\" viewBox=\"0.00 0.00 231.64 123.09\">\n<g id=\"graph0\" class=\"graph\" transform=\"scale(1 1) rotate(0) translate(4 119.09)\">\n<title>%3</title>\n<polygon fill=\"white\" stroke=\"transparent\" points=\"-4,4 -4,-119.09 227.64,-119.09 227.64,4 -4,4\"/>\n<!-- fake -->\n<g id=\"node1\" class=\"node\">\n<title>fake</title>\n</g>\n<!-- ready -->\n<g id=\"node2\" class=\"node\">\n<title>ready</title>\n<ellipse fill=\"none\" stroke=\"black\" cx=\"139.14\" cy=\"-41.05\" rx=\"37.09\" ry=\"37.09\"/>\n<ellipse fill=\"none\" stroke=\"black\" cx=\"139.14\" cy=\"-41.05\" rx=\"41.09\" ry=\"41.09\"/>\n<text text-anchor=\"middle\" x=\"139.14\" y=\"-37.35\" font-family=\"Times,serif\" font-size=\"14.00\">ready</text>\n</g>\n<!-- fake&#45;&gt;ready -->\n<g id=\"edge1\" class=\"edge\">\n<title>fake-&gt;ready</title>\n<path fill=\"none\" stroke=\"black\" stroke-width=\"2\" d=\"M61.24,-41.05C69.48,-41.05 78.65,-41.05 87.72,-41.05\"/>\n<polygon fill=\"black\" stroke=\"black\" stroke-width=\"2\" points=\"87.85,-44.55 97.85,-41.05 87.85,-37.55 87.85,-44.55\"/>\n</g>\n<!-- ready&#45;&gt;ready -->\n<g id=\"edge2\" class=\"edge\">\n<title>ready-&gt;ready</title>\n<path fill=\"none\" stroke=\"black\" d=\"M128.33,-80.79C128.85,-91.73 132.46,-100.09 139.14,-100.09 143.53,-100.09 146.59,-96.49 148.32,-90.92\"/>\n<polygon fill=\"black\" stroke=\"black\" points=\"151.82,-91.21 149.95,-80.79 144.91,-90.1 151.82,-91.21\"/>\n<text text-anchor=\"middle\" x=\"139.14\" y=\"-103.89\" font-family=\"Times,serif\" font-size=\"14.00\">pick_phosphor, 1.0, -2.0</text>\n</g>\n</g>\n</svg>"
     },
     "metadata": {},
     "output_type": "display_data"
    }
   ],
   "source": [
    "def phosphor_warehouse_service(name: str, action_reward: float) -> Service:\n",
    "    \"\"\"Build the phosphor warehouse device.\"\"\"\n",
    "    return build_generic_service_one_state(\n",
    "        name,\n",
    "        {PICK_PHOSPHOR},\n",
    "        action_reward=action_reward\n",
    "    )\n",
    "\n",
    "service_phosphor_morocco = phosphor_warehouse_service(PHOSPHOR_SERVICE_NAME_MOROCCO, MOROCCO_REWARD)\n",
    "service_phosphor_china = phosphor_warehouse_service(PHOSPHOR_SERVICE_NAME_CHINA, CHINA_REWARD)\n",
    "service_phosphor_usa = phosphor_warehouse_service(PHOSPHOR_SERVICE_NAME_USA, USA_REWARD)\n",
    "render_service(service_phosphor_morocco)\n",
    "render_service(service_phosphor_china)\n",
    "render_service(service_phosphor_usa)"
   ]
  },
  {
   "cell_type": "code",
   "execution_count": 11,
   "outputs": [
    {
     "data": {
      "text/plain": "<IPython.core.display.SVG object>",
      "image/svg+xml": "<svg xmlns=\"http://www.w3.org/2000/svg\" xmlns:xlink=\"http://www.w3.org/1999/xlink\" width=\"239pt\" height=\"123pt\" viewBox=\"0.00 0.00 239.14 123.09\">\n<g id=\"graph0\" class=\"graph\" transform=\"scale(1 1) rotate(0) translate(4 119.09)\">\n<title>%3</title>\n<polygon fill=\"white\" stroke=\"transparent\" points=\"-4,4 -4,-119.09 235.14,-119.09 235.14,4 -4,4\"/>\n<!-- fake -->\n<g id=\"node1\" class=\"node\">\n<title>fake</title>\n</g>\n<!-- ready -->\n<g id=\"node2\" class=\"node\">\n<title>ready</title>\n<ellipse fill=\"none\" stroke=\"black\" cx=\"139.14\" cy=\"-41.05\" rx=\"37.09\" ry=\"37.09\"/>\n<ellipse fill=\"none\" stroke=\"black\" cx=\"139.14\" cy=\"-41.05\" rx=\"41.09\" ry=\"41.09\"/>\n<text text-anchor=\"middle\" x=\"139.14\" y=\"-37.35\" font-family=\"Times,serif\" font-size=\"14.00\">ready</text>\n</g>\n<!-- fake&#45;&gt;ready -->\n<g id=\"edge1\" class=\"edge\">\n<title>fake-&gt;ready</title>\n<path fill=\"none\" stroke=\"black\" stroke-width=\"2\" d=\"M61.24,-41.05C69.48,-41.05 78.65,-41.05 87.72,-41.05\"/>\n<polygon fill=\"black\" stroke=\"black\" stroke-width=\"2\" points=\"87.85,-44.55 97.85,-41.05 87.85,-37.55 87.85,-44.55\"/>\n</g>\n<!-- ready&#45;&gt;ready -->\n<g id=\"edge2\" class=\"edge\">\n<title>ready-&gt;ready</title>\n<path fill=\"none\" stroke=\"black\" d=\"M128.33,-80.79C128.85,-91.73 132.46,-100.09 139.14,-100.09 143.53,-100.09 146.59,-96.49 148.32,-90.92\"/>\n<polygon fill=\"black\" stroke=\"black\" points=\"151.82,-91.21 149.95,-80.79 144.91,-90.1 151.82,-91.21\"/>\n<text text-anchor=\"middle\" x=\"139.14\" y=\"-103.89\" font-family=\"Times,serif\" font-size=\"14.00\">pick_aluminum, 1.0, -14.0</text>\n</g>\n</g>\n</svg>"
     },
     "metadata": {},
     "output_type": "display_data"
    },
    {
     "data": {
      "text/plain": "<IPython.core.display.SVG object>",
      "image/svg+xml": "<svg xmlns=\"http://www.w3.org/2000/svg\" xmlns:xlink=\"http://www.w3.org/1999/xlink\" width=\"239pt\" height=\"123pt\" viewBox=\"0.00 0.00 239.14 123.09\">\n<g id=\"graph0\" class=\"graph\" transform=\"scale(1 1) rotate(0) translate(4 119.09)\">\n<title>%3</title>\n<polygon fill=\"white\" stroke=\"transparent\" points=\"-4,4 -4,-119.09 235.14,-119.09 235.14,4 -4,4\"/>\n<!-- fake -->\n<g id=\"node1\" class=\"node\">\n<title>fake</title>\n</g>\n<!-- ready -->\n<g id=\"node2\" class=\"node\">\n<title>ready</title>\n<ellipse fill=\"none\" stroke=\"black\" cx=\"139.14\" cy=\"-41.05\" rx=\"37.09\" ry=\"37.09\"/>\n<ellipse fill=\"none\" stroke=\"black\" cx=\"139.14\" cy=\"-41.05\" rx=\"41.09\" ry=\"41.09\"/>\n<text text-anchor=\"middle\" x=\"139.14\" y=\"-37.35\" font-family=\"Times,serif\" font-size=\"14.00\">ready</text>\n</g>\n<!-- fake&#45;&gt;ready -->\n<g id=\"edge1\" class=\"edge\">\n<title>fake-&gt;ready</title>\n<path fill=\"none\" stroke=\"black\" stroke-width=\"2\" d=\"M61.24,-41.05C69.48,-41.05 78.65,-41.05 87.72,-41.05\"/>\n<polygon fill=\"black\" stroke=\"black\" stroke-width=\"2\" points=\"87.85,-44.55 97.85,-41.05 87.85,-37.55 87.85,-44.55\"/>\n</g>\n<!-- ready&#45;&gt;ready -->\n<g id=\"edge2\" class=\"edge\">\n<title>ready-&gt;ready</title>\n<path fill=\"none\" stroke=\"black\" d=\"M128.33,-80.79C128.85,-91.73 132.46,-100.09 139.14,-100.09 143.53,-100.09 146.59,-96.49 148.32,-90.92\"/>\n<polygon fill=\"black\" stroke=\"black\" points=\"151.82,-91.21 149.95,-80.79 144.91,-90.1 151.82,-91.21\"/>\n<text text-anchor=\"middle\" x=\"139.14\" y=\"-103.89\" font-family=\"Times,serif\" font-size=\"14.00\">pick_aluminum, 1.0, -13.1</text>\n</g>\n</g>\n</svg>"
     },
     "metadata": {},
     "output_type": "display_data"
    },
    {
     "data": {
      "text/plain": "<IPython.core.display.SVG object>",
      "image/svg+xml": "<svg xmlns=\"http://www.w3.org/2000/svg\" xmlns:xlink=\"http://www.w3.org/1999/xlink\" width=\"235pt\" height=\"123pt\" viewBox=\"0.00 0.00 234.64 123.09\">\n<g id=\"graph0\" class=\"graph\" transform=\"scale(1 1) rotate(0) translate(4 119.09)\">\n<title>%3</title>\n<polygon fill=\"white\" stroke=\"transparent\" points=\"-4,4 -4,-119.09 230.64,-119.09 230.64,4 -4,4\"/>\n<!-- fake -->\n<g id=\"node1\" class=\"node\">\n<title>fake</title>\n</g>\n<!-- ready -->\n<g id=\"node2\" class=\"node\">\n<title>ready</title>\n<ellipse fill=\"none\" stroke=\"black\" cx=\"139.14\" cy=\"-41.05\" rx=\"37.09\" ry=\"37.09\"/>\n<ellipse fill=\"none\" stroke=\"black\" cx=\"139.14\" cy=\"-41.05\" rx=\"41.09\" ry=\"41.09\"/>\n<text text-anchor=\"middle\" x=\"139.14\" y=\"-37.35\" font-family=\"Times,serif\" font-size=\"14.00\">ready</text>\n</g>\n<!-- fake&#45;&gt;ready -->\n<g id=\"edge1\" class=\"edge\">\n<title>fake-&gt;ready</title>\n<path fill=\"none\" stroke=\"black\" stroke-width=\"2\" d=\"M61.24,-41.05C69.48,-41.05 78.65,-41.05 87.72,-41.05\"/>\n<polygon fill=\"black\" stroke=\"black\" stroke-width=\"2\" points=\"87.85,-44.55 97.85,-41.05 87.85,-37.55 87.85,-44.55\"/>\n</g>\n<!-- ready&#45;&gt;ready -->\n<g id=\"edge2\" class=\"edge\">\n<title>ready-&gt;ready</title>\n<path fill=\"none\" stroke=\"black\" d=\"M128.33,-80.79C128.85,-91.73 132.46,-100.09 139.14,-100.09 143.53,-100.09 146.59,-96.49 148.32,-90.92\"/>\n<polygon fill=\"black\" stroke=\"black\" points=\"151.82,-91.21 149.95,-80.79 144.91,-90.1 151.82,-91.21\"/>\n<text text-anchor=\"middle\" x=\"139.14\" y=\"-103.89\" font-family=\"Times,serif\" font-size=\"14.00\">pick_aluminum, 1.0, -6.7</text>\n</g>\n</g>\n</svg>"
     },
     "metadata": {},
     "output_type": "display_data"
    }
   ],
   "source": [
    "def aluminum_warehouse_service(name: str, action_reward: float) -> Service:\n",
    "    \"\"\"Build the aluminum warehouse device.\"\"\"\n",
    "    return build_generic_service_one_state(\n",
    "        name,\n",
    "        {PICK_ALUMINUM},\n",
    "        action_reward=action_reward\n",
    "    )\n",
    "\n",
    "service_aluminum_australia = aluminum_warehouse_service(ALUMINUM_SERVICE_NAME_AUSTRALIA, AUSTRALIA_REWARD)\n",
    "service_aluminum_india = aluminum_warehouse_service(ALUMINUM_SERVICE_NAME_INDIA, INDIA_REWARD)\n",
    "service_aluminum_brazil = aluminum_warehouse_service(ALUMINUM_SERVICE_NAME_BRAZIL, BRAZIL_REWARD)\n",
    "render_service(service_aluminum_australia)\n",
    "render_service(service_aluminum_india)\n",
    "render_service(service_aluminum_brazil)"
   ],
   "metadata": {
    "collapsed": false
   }
  },
  {
   "cell_type": "code",
   "execution_count": 12,
   "metadata": {},
   "outputs": [
    {
     "data": {
      "text/plain": "<IPython.core.display.SVG object>",
      "image/svg+xml": "<svg xmlns=\"http://www.w3.org/2000/svg\" xmlns:xlink=\"http://www.w3.org/1999/xlink\" width=\"220pt\" height=\"123pt\" viewBox=\"0.00 0.00 219.64 123.09\">\n<g id=\"graph0\" class=\"graph\" transform=\"scale(1 1) rotate(0) translate(4 119.09)\">\n<title>%3</title>\n<polygon fill=\"white\" stroke=\"transparent\" points=\"-4,4 -4,-119.09 215.64,-119.09 215.64,4 -4,4\"/>\n<!-- fake -->\n<g id=\"node1\" class=\"node\">\n<title>fake</title>\n</g>\n<!-- ready -->\n<g id=\"node2\" class=\"node\">\n<title>ready</title>\n<ellipse fill=\"none\" stroke=\"black\" cx=\"139.14\" cy=\"-41.05\" rx=\"37.09\" ry=\"37.09\"/>\n<ellipse fill=\"none\" stroke=\"black\" cx=\"139.14\" cy=\"-41.05\" rx=\"41.09\" ry=\"41.09\"/>\n<text text-anchor=\"middle\" x=\"139.14\" y=\"-37.35\" font-family=\"Times,serif\" font-size=\"14.00\">ready</text>\n</g>\n<!-- fake&#45;&gt;ready -->\n<g id=\"edge1\" class=\"edge\">\n<title>fake-&gt;ready</title>\n<path fill=\"none\" stroke=\"black\" stroke-width=\"2\" d=\"M61.24,-41.05C69.48,-41.05 78.65,-41.05 87.72,-41.05\"/>\n<polygon fill=\"black\" stroke=\"black\" stroke-width=\"2\" points=\"87.85,-44.55 97.85,-41.05 87.85,-37.55 87.85,-44.55\"/>\n</g>\n<!-- ready&#45;&gt;ready -->\n<g id=\"edge2\" class=\"edge\">\n<title>ready-&gt;ready</title>\n<path fill=\"none\" stroke=\"black\" d=\"M128.33,-80.79C128.85,-91.73 132.46,-100.09 139.14,-100.09 143.53,-100.09 146.59,-96.49 148.32,-90.92\"/>\n<polygon fill=\"black\" stroke=\"black\" points=\"151.82,-91.21 149.95,-80.79 144.91,-90.1 151.82,-91.21\"/>\n<text text-anchor=\"middle\" x=\"139.14\" y=\"-103.89\" font-family=\"Times,serif\" font-size=\"14.00\">pick_resist, 1.0, -2.0</text>\n</g>\n</g>\n</svg>"
     },
     "metadata": {},
     "output_type": "display_data"
    },
    {
     "data": {
      "text/plain": "<IPython.core.display.SVG object>",
      "image/svg+xml": "<svg xmlns=\"http://www.w3.org/2000/svg\" xmlns:xlink=\"http://www.w3.org/1999/xlink\" width=\"220pt\" height=\"123pt\" viewBox=\"0.00 0.00 219.64 123.09\">\n<g id=\"graph0\" class=\"graph\" transform=\"scale(1 1) rotate(0) translate(4 119.09)\">\n<title>%3</title>\n<polygon fill=\"white\" stroke=\"transparent\" points=\"-4,4 -4,-119.09 215.64,-119.09 215.64,4 -4,4\"/>\n<!-- fake -->\n<g id=\"node1\" class=\"node\">\n<title>fake</title>\n</g>\n<!-- ready -->\n<g id=\"node2\" class=\"node\">\n<title>ready</title>\n<ellipse fill=\"none\" stroke=\"black\" cx=\"139.14\" cy=\"-41.05\" rx=\"37.09\" ry=\"37.09\"/>\n<ellipse fill=\"none\" stroke=\"black\" cx=\"139.14\" cy=\"-41.05\" rx=\"41.09\" ry=\"41.09\"/>\n<text text-anchor=\"middle\" x=\"139.14\" y=\"-37.35\" font-family=\"Times,serif\" font-size=\"14.00\">ready</text>\n</g>\n<!-- fake&#45;&gt;ready -->\n<g id=\"edge1\" class=\"edge\">\n<title>fake-&gt;ready</title>\n<path fill=\"none\" stroke=\"black\" stroke-width=\"2\" d=\"M61.24,-41.05C69.48,-41.05 78.65,-41.05 87.72,-41.05\"/>\n<polygon fill=\"black\" stroke=\"black\" stroke-width=\"2\" points=\"87.85,-44.55 97.85,-41.05 87.85,-37.55 87.85,-44.55\"/>\n</g>\n<!-- ready&#45;&gt;ready -->\n<g id=\"edge2\" class=\"edge\">\n<title>ready-&gt;ready</title>\n<path fill=\"none\" stroke=\"black\" d=\"M128.33,-80.79C128.85,-91.73 132.46,-100.09 139.14,-100.09 143.53,-100.09 146.59,-96.49 148.32,-90.92\"/>\n<polygon fill=\"black\" stroke=\"black\" points=\"151.82,-91.21 149.95,-80.79 144.91,-90.1 151.82,-91.21\"/>\n<text text-anchor=\"middle\" x=\"139.14\" y=\"-103.89\" font-family=\"Times,serif\" font-size=\"14.00\">pick_resist, 1.0, -7.6</text>\n</g>\n</g>\n</svg>"
     },
     "metadata": {},
     "output_type": "display_data"
    },
    {
     "data": {
      "text/plain": "<IPython.core.display.SVG object>",
      "image/svg+xml": "<svg xmlns=\"http://www.w3.org/2000/svg\" xmlns:xlink=\"http://www.w3.org/1999/xlink\" width=\"224pt\" height=\"123pt\" viewBox=\"0.00 0.00 224.14 123.09\">\n<g id=\"graph0\" class=\"graph\" transform=\"scale(1 1) rotate(0) translate(4 119.09)\">\n<title>%3</title>\n<polygon fill=\"white\" stroke=\"transparent\" points=\"-4,4 -4,-119.09 220.14,-119.09 220.14,4 -4,4\"/>\n<!-- fake -->\n<g id=\"node1\" class=\"node\">\n<title>fake</title>\n</g>\n<!-- ready -->\n<g id=\"node2\" class=\"node\">\n<title>ready</title>\n<ellipse fill=\"none\" stroke=\"black\" cx=\"139.14\" cy=\"-41.05\" rx=\"37.09\" ry=\"37.09\"/>\n<ellipse fill=\"none\" stroke=\"black\" cx=\"139.14\" cy=\"-41.05\" rx=\"41.09\" ry=\"41.09\"/>\n<text text-anchor=\"middle\" x=\"139.14\" y=\"-37.35\" font-family=\"Times,serif\" font-size=\"14.00\">ready</text>\n</g>\n<!-- fake&#45;&gt;ready -->\n<g id=\"edge1\" class=\"edge\">\n<title>fake-&gt;ready</title>\n<path fill=\"none\" stroke=\"black\" stroke-width=\"2\" d=\"M61.24,-41.05C69.48,-41.05 78.65,-41.05 87.72,-41.05\"/>\n<polygon fill=\"black\" stroke=\"black\" stroke-width=\"2\" points=\"87.85,-44.55 97.85,-41.05 87.85,-37.55 87.85,-44.55\"/>\n</g>\n<!-- ready&#45;&gt;ready -->\n<g id=\"edge2\" class=\"edge\">\n<title>ready-&gt;ready</title>\n<path fill=\"none\" stroke=\"black\" d=\"M128.33,-80.79C128.85,-91.73 132.46,-100.09 139.14,-100.09 143.53,-100.09 146.59,-96.49 148.32,-90.92\"/>\n<polygon fill=\"black\" stroke=\"black\" points=\"151.82,-91.21 149.95,-80.79 144.91,-90.1 151.82,-91.21\"/>\n<text text-anchor=\"middle\" x=\"139.14\" y=\"-103.89\" font-family=\"Times,serif\" font-size=\"14.00\">pick_resist, 1.0, -8.38</text>\n</g>\n</g>\n</svg>"
     },
     "metadata": {},
     "output_type": "display_data"
    },
    {
     "data": {
      "text/plain": "<IPython.core.display.SVG object>",
      "image/svg+xml": "<svg xmlns=\"http://www.w3.org/2000/svg\" xmlns:xlink=\"http://www.w3.org/1999/xlink\" width=\"224pt\" height=\"123pt\" viewBox=\"0.00 0.00 224.14 123.09\">\n<g id=\"graph0\" class=\"graph\" transform=\"scale(1 1) rotate(0) translate(4 119.09)\">\n<title>%3</title>\n<polygon fill=\"white\" stroke=\"transparent\" points=\"-4,4 -4,-119.09 220.14,-119.09 220.14,4 -4,4\"/>\n<!-- fake -->\n<g id=\"node1\" class=\"node\">\n<title>fake</title>\n</g>\n<!-- ready -->\n<g id=\"node2\" class=\"node\">\n<title>ready</title>\n<ellipse fill=\"none\" stroke=\"black\" cx=\"139.14\" cy=\"-41.05\" rx=\"37.09\" ry=\"37.09\"/>\n<ellipse fill=\"none\" stroke=\"black\" cx=\"139.14\" cy=\"-41.05\" rx=\"41.09\" ry=\"41.09\"/>\n<text text-anchor=\"middle\" x=\"139.14\" y=\"-37.35\" font-family=\"Times,serif\" font-size=\"14.00\">ready</text>\n</g>\n<!-- fake&#45;&gt;ready -->\n<g id=\"edge1\" class=\"edge\">\n<title>fake-&gt;ready</title>\n<path fill=\"none\" stroke=\"black\" stroke-width=\"2\" d=\"M61.24,-41.05C69.48,-41.05 78.65,-41.05 87.72,-41.05\"/>\n<polygon fill=\"black\" stroke=\"black\" stroke-width=\"2\" points=\"87.85,-44.55 97.85,-41.05 87.85,-37.55 87.85,-44.55\"/>\n</g>\n<!-- ready&#45;&gt;ready -->\n<g id=\"edge2\" class=\"edge\">\n<title>ready-&gt;ready</title>\n<path fill=\"none\" stroke=\"black\" d=\"M128.33,-80.79C128.85,-91.73 132.46,-100.09 139.14,-100.09 143.53,-100.09 146.59,-96.49 148.32,-90.92\"/>\n<polygon fill=\"black\" stroke=\"black\" points=\"151.82,-91.21 149.95,-80.79 144.91,-90.1 151.82,-91.21\"/>\n<text text-anchor=\"middle\" x=\"139.14\" y=\"-103.89\" font-family=\"Times,serif\" font-size=\"14.00\">pick_resist, 1.0, -13.1</text>\n</g>\n</g>\n</svg>"
     },
     "metadata": {},
     "output_type": "display_data"
    },
    {
     "data": {
      "text/plain": "<IPython.core.display.SVG object>",
      "image/svg+xml": "<svg xmlns=\"http://www.w3.org/2000/svg\" xmlns:xlink=\"http://www.w3.org/1999/xlink\" width=\"220pt\" height=\"123pt\" viewBox=\"0.00 0.00 219.64 123.09\">\n<g id=\"graph0\" class=\"graph\" transform=\"scale(1 1) rotate(0) translate(4 119.09)\">\n<title>%3</title>\n<polygon fill=\"white\" stroke=\"transparent\" points=\"-4,4 -4,-119.09 215.64,-119.09 215.64,4 -4,4\"/>\n<!-- fake -->\n<g id=\"node1\" class=\"node\">\n<title>fake</title>\n</g>\n<!-- ready -->\n<g id=\"node2\" class=\"node\">\n<title>ready</title>\n<ellipse fill=\"none\" stroke=\"black\" cx=\"139.14\" cy=\"-41.05\" rx=\"37.09\" ry=\"37.09\"/>\n<ellipse fill=\"none\" stroke=\"black\" cx=\"139.14\" cy=\"-41.05\" rx=\"41.09\" ry=\"41.09\"/>\n<text text-anchor=\"middle\" x=\"139.14\" y=\"-37.35\" font-family=\"Times,serif\" font-size=\"14.00\">ready</text>\n</g>\n<!-- fake&#45;&gt;ready -->\n<g id=\"edge1\" class=\"edge\">\n<title>fake-&gt;ready</title>\n<path fill=\"none\" stroke=\"black\" stroke-width=\"2\" d=\"M61.24,-41.05C69.48,-41.05 78.65,-41.05 87.72,-41.05\"/>\n<polygon fill=\"black\" stroke=\"black\" stroke-width=\"2\" points=\"87.85,-44.55 97.85,-41.05 87.85,-37.55 87.85,-44.55\"/>\n</g>\n<!-- ready&#45;&gt;ready -->\n<g id=\"edge2\" class=\"edge\">\n<title>ready-&gt;ready</title>\n<path fill=\"none\" stroke=\"black\" d=\"M128.33,-80.79C128.85,-91.73 132.46,-100.09 139.14,-100.09 143.53,-100.09 146.59,-96.49 148.32,-90.92\"/>\n<polygon fill=\"black\" stroke=\"black\" points=\"151.82,-91.21 149.95,-80.79 144.91,-90.1 151.82,-91.21\"/>\n<text text-anchor=\"middle\" x=\"139.14\" y=\"-103.89\" font-family=\"Times,serif\" font-size=\"14.00\">pick_resist, 1.0, -8.0</text>\n</g>\n</g>\n</svg>"
     },
     "metadata": {},
     "output_type": "display_data"
    },
    {
     "data": {
      "text/plain": "<IPython.core.display.SVG object>",
      "image/svg+xml": "<svg xmlns=\"http://www.w3.org/2000/svg\" xmlns:xlink=\"http://www.w3.org/1999/xlink\" width=\"220pt\" height=\"123pt\" viewBox=\"0.00 0.00 219.64 123.09\">\n<g id=\"graph0\" class=\"graph\" transform=\"scale(1 1) rotate(0) translate(4 119.09)\">\n<title>%3</title>\n<polygon fill=\"white\" stroke=\"transparent\" points=\"-4,4 -4,-119.09 215.64,-119.09 215.64,4 -4,4\"/>\n<!-- fake -->\n<g id=\"node1\" class=\"node\">\n<title>fake</title>\n</g>\n<!-- ready -->\n<g id=\"node2\" class=\"node\">\n<title>ready</title>\n<ellipse fill=\"none\" stroke=\"black\" cx=\"139.14\" cy=\"-41.05\" rx=\"37.09\" ry=\"37.09\"/>\n<ellipse fill=\"none\" stroke=\"black\" cx=\"139.14\" cy=\"-41.05\" rx=\"41.09\" ry=\"41.09\"/>\n<text text-anchor=\"middle\" x=\"139.14\" y=\"-37.35\" font-family=\"Times,serif\" font-size=\"14.00\">ready</text>\n</g>\n<!-- fake&#45;&gt;ready -->\n<g id=\"edge1\" class=\"edge\">\n<title>fake-&gt;ready</title>\n<path fill=\"none\" stroke=\"black\" stroke-width=\"2\" d=\"M61.24,-41.05C69.48,-41.05 78.65,-41.05 87.72,-41.05\"/>\n<polygon fill=\"black\" stroke=\"black\" stroke-width=\"2\" points=\"87.85,-44.55 97.85,-41.05 87.85,-37.55 87.85,-44.55\"/>\n</g>\n<!-- ready&#45;&gt;ready -->\n<g id=\"edge2\" class=\"edge\">\n<title>ready-&gt;ready</title>\n<path fill=\"none\" stroke=\"black\" d=\"M128.33,-80.79C128.85,-91.73 132.46,-100.09 139.14,-100.09 143.53,-100.09 146.59,-96.49 148.32,-90.92\"/>\n<polygon fill=\"black\" stroke=\"black\" points=\"151.82,-91.21 149.95,-80.79 144.91,-90.1 151.82,-91.21\"/>\n<text text-anchor=\"middle\" x=\"139.14\" y=\"-103.89\" font-family=\"Times,serif\" font-size=\"14.00\">pick_resist, 1.0, -1.8</text>\n</g>\n</g>\n</svg>"
     },
     "metadata": {},
     "output_type": "display_data"
    }
   ],
   "source": [
    "def resist_warehouse_service(name: str, action_reward: float) -> Service:\n",
    "    \"\"\"Build the resist warehouse device.\"\"\"\n",
    "    return build_generic_service_one_state(\n",
    "        name,\n",
    "        {PICK_RESIST},\n",
    "        action_reward=action_reward\n",
    "    )\n",
    "\n",
    "\n",
    "service_resist_usa = resist_warehouse_service(RESIST_SERVICE_NAME_USA, USA_REWARD)\n",
    "service_resist_belgium = resist_warehouse_service(RESIST_SERVICE_NAME_BELGIUM, BELGIUM_REWARD)\n",
    "service_resist_austria = resist_warehouse_service(RESIST_SERVICE_NAME_AUSTRIA, AUSTRIA_REWARD)\n",
    "service_resist_india = resist_warehouse_service(RESIST_SERVICE_NAME_INDIA, INDIA_REWARD)\n",
    "service_resist_switzerland = resist_warehouse_service(RESIST_SERVICE_NAME_SWITZERLAND, SWITZERLAND_REWARD)\n",
    "service_resist_canada = resist_warehouse_service(RESIST_SERVICE_NAME_CANADA, CANADA_REWARD)\n",
    "render_service(service_resist_usa)\n",
    "render_service(service_resist_belgium)\n",
    "render_service(service_resist_austria)\n",
    "render_service(service_resist_india)\n",
    "render_service(service_resist_switzerland)\n",
    "render_service(service_resist_canada)"
   ]
  },
  {
   "cell_type": "code",
   "execution_count": 13,
   "outputs": [
    {
     "data": {
      "text/plain": "<IPython.core.display.SVG object>",
      "image/svg+xml": "<svg xmlns=\"http://www.w3.org/2000/svg\" xmlns:xlink=\"http://www.w3.org/1999/xlink\" width=\"227pt\" height=\"123pt\" viewBox=\"0.00 0.00 227.14 123.09\">\n<g id=\"graph0\" class=\"graph\" transform=\"scale(1 1) rotate(0) translate(4 119.09)\">\n<title>%3</title>\n<polygon fill=\"white\" stroke=\"transparent\" points=\"-4,4 -4,-119.09 223.14,-119.09 223.14,4 -4,4\"/>\n<!-- fake -->\n<g id=\"node1\" class=\"node\">\n<title>fake</title>\n</g>\n<!-- ready -->\n<g id=\"node2\" class=\"node\">\n<title>ready</title>\n<ellipse fill=\"none\" stroke=\"black\" cx=\"139.14\" cy=\"-41.05\" rx=\"37.09\" ry=\"37.09\"/>\n<ellipse fill=\"none\" stroke=\"black\" cx=\"139.14\" cy=\"-41.05\" rx=\"41.09\" ry=\"41.09\"/>\n<text text-anchor=\"middle\" x=\"139.14\" y=\"-37.35\" font-family=\"Times,serif\" font-size=\"14.00\">ready</text>\n</g>\n<!-- fake&#45;&gt;ready -->\n<g id=\"edge1\" class=\"edge\">\n<title>fake-&gt;ready</title>\n<path fill=\"none\" stroke=\"black\" stroke-width=\"2\" d=\"M61.24,-41.05C69.48,-41.05 78.65,-41.05 87.72,-41.05\"/>\n<polygon fill=\"black\" stroke=\"black\" stroke-width=\"2\" points=\"87.85,-44.55 97.85,-41.05 87.85,-37.55 87.85,-44.55\"/>\n</g>\n<!-- ready&#45;&gt;ready -->\n<g id=\"edge2\" class=\"edge\">\n<title>ready-&gt;ready</title>\n<path fill=\"none\" stroke=\"black\" d=\"M128.33,-80.79C128.85,-91.73 132.46,-100.09 139.14,-100.09 143.53,-100.09 146.59,-96.49 148.32,-90.92\"/>\n<polygon fill=\"black\" stroke=\"black\" points=\"151.82,-91.21 149.95,-80.79 144.91,-90.1 151.82,-91.21\"/>\n<text text-anchor=\"middle\" x=\"139.14\" y=\"-103.89\" font-family=\"Times,serif\" font-size=\"14.00\">pick_plastic, 1.0, -11.7</text>\n</g>\n</g>\n</svg>"
     },
     "metadata": {},
     "output_type": "display_data"
    },
    {
     "data": {
      "text/plain": "<IPython.core.display.SVG object>",
      "image/svg+xml": "<svg xmlns=\"http://www.w3.org/2000/svg\" xmlns:xlink=\"http://www.w3.org/1999/xlink\" width=\"227pt\" height=\"123pt\" viewBox=\"0.00 0.00 227.14 123.09\">\n<g id=\"graph0\" class=\"graph\" transform=\"scale(1 1) rotate(0) translate(4 119.09)\">\n<title>%3</title>\n<polygon fill=\"white\" stroke=\"transparent\" points=\"-4,4 -4,-119.09 223.14,-119.09 223.14,4 -4,4\"/>\n<!-- fake -->\n<g id=\"node1\" class=\"node\">\n<title>fake</title>\n</g>\n<!-- ready -->\n<g id=\"node2\" class=\"node\">\n<title>ready</title>\n<ellipse fill=\"none\" stroke=\"black\" cx=\"139.14\" cy=\"-41.05\" rx=\"37.09\" ry=\"37.09\"/>\n<ellipse fill=\"none\" stroke=\"black\" cx=\"139.14\" cy=\"-41.05\" rx=\"41.09\" ry=\"41.09\"/>\n<text text-anchor=\"middle\" x=\"139.14\" y=\"-37.35\" font-family=\"Times,serif\" font-size=\"14.00\">ready</text>\n</g>\n<!-- fake&#45;&gt;ready -->\n<g id=\"edge1\" class=\"edge\">\n<title>fake-&gt;ready</title>\n<path fill=\"none\" stroke=\"black\" stroke-width=\"2\" d=\"M61.24,-41.05C69.48,-41.05 78.65,-41.05 87.72,-41.05\"/>\n<polygon fill=\"black\" stroke=\"black\" stroke-width=\"2\" points=\"87.85,-44.55 97.85,-41.05 87.85,-37.55 87.85,-44.55\"/>\n</g>\n<!-- ready&#45;&gt;ready -->\n<g id=\"edge2\" class=\"edge\">\n<title>ready-&gt;ready</title>\n<path fill=\"none\" stroke=\"black\" d=\"M128.33,-80.79C128.85,-91.73 132.46,-100.09 139.14,-100.09 143.53,-100.09 146.59,-96.49 148.32,-90.92\"/>\n<polygon fill=\"black\" stroke=\"black\" points=\"151.82,-91.21 149.95,-80.79 144.91,-90.1 151.82,-91.21\"/>\n<text text-anchor=\"middle\" x=\"139.14\" y=\"-103.89\" font-family=\"Times,serif\" font-size=\"14.00\">pick_plastic, 1.0, -13.1</text>\n</g>\n</g>\n</svg>"
     },
     "metadata": {},
     "output_type": "display_data"
    }
   ],
   "source": [
    "def plastic_warehouse_service(name: str, action_reward: float) -> Service:\n",
    "    \"\"\"Build the plastic warehouse device.\"\"\"\n",
    "    return build_generic_service_one_state(\n",
    "        name,\n",
    "        {PICK_PLASTIC},\n",
    "        action_reward=action_reward\n",
    "    )\n",
    "\n",
    "\n",
    "service_plastic_china = plastic_warehouse_service(PLASTIC_SERVICE_NAME_CHINA, CHINA_REWARD)\n",
    "service_plastic_india = plastic_warehouse_service(PLASTIC_SERVICE_NAME_INDIA, INDIA_REWARD)\n",
    "render_service(service_plastic_china)\n",
    "render_service(service_plastic_india)"
   ],
   "metadata": {
    "collapsed": false
   }
  },
  {
   "cell_type": "code",
   "execution_count": 14,
   "outputs": [
    {
     "data": {
      "text/plain": "<IPython.core.display.SVG object>",
      "image/svg+xml": "<svg xmlns=\"http://www.w3.org/2000/svg\" xmlns:xlink=\"http://www.w3.org/1999/xlink\" width=\"235pt\" height=\"123pt\" viewBox=\"0.00 0.00 234.64 123.09\">\n<g id=\"graph0\" class=\"graph\" transform=\"scale(1 1) rotate(0) translate(4 119.09)\">\n<title>%3</title>\n<polygon fill=\"white\" stroke=\"transparent\" points=\"-4,4 -4,-119.09 230.64,-119.09 230.64,4 -4,4\"/>\n<!-- fake -->\n<g id=\"node1\" class=\"node\">\n<title>fake</title>\n</g>\n<!-- ready -->\n<g id=\"node2\" class=\"node\">\n<title>ready</title>\n<ellipse fill=\"none\" stroke=\"black\" cx=\"139.14\" cy=\"-41.05\" rx=\"37.09\" ry=\"37.09\"/>\n<ellipse fill=\"none\" stroke=\"black\" cx=\"139.14\" cy=\"-41.05\" rx=\"41.09\" ry=\"41.09\"/>\n<text text-anchor=\"middle\" x=\"139.14\" y=\"-37.35\" font-family=\"Times,serif\" font-size=\"14.00\">ready</text>\n</g>\n<!-- fake&#45;&gt;ready -->\n<g id=\"edge1\" class=\"edge\">\n<title>fake-&gt;ready</title>\n<path fill=\"none\" stroke=\"black\" stroke-width=\"2\" d=\"M61.24,-41.05C69.48,-41.05 78.65,-41.05 87.72,-41.05\"/>\n<polygon fill=\"black\" stroke=\"black\" stroke-width=\"2\" points=\"87.85,-44.55 97.85,-41.05 87.85,-37.55 87.85,-44.55\"/>\n</g>\n<!-- ready&#45;&gt;ready -->\n<g id=\"edge2\" class=\"edge\">\n<title>ready-&gt;ready</title>\n<path fill=\"none\" stroke=\"black\" d=\"M128.33,-80.79C128.85,-91.73 132.46,-100.09 139.14,-100.09 143.53,-100.09 146.59,-96.49 148.32,-90.92\"/>\n<polygon fill=\"black\" stroke=\"black\" points=\"151.82,-91.21 149.95,-80.79 144.91,-90.1 151.82,-91.21\"/>\n<text text-anchor=\"middle\" x=\"139.14\" y=\"-103.89\" font-family=\"Times,serif\" font-size=\"14.00\">pick_chemicals, 1.0, -2.0</text>\n</g>\n</g>\n</svg>"
     },
     "metadata": {},
     "output_type": "display_data"
    },
    {
     "data": {
      "text/plain": "<IPython.core.display.SVG object>",
      "image/svg+xml": "<svg xmlns=\"http://www.w3.org/2000/svg\" xmlns:xlink=\"http://www.w3.org/1999/xlink\" width=\"235pt\" height=\"123pt\" viewBox=\"0.00 0.00 234.64 123.09\">\n<g id=\"graph0\" class=\"graph\" transform=\"scale(1 1) rotate(0) translate(4 119.09)\">\n<title>%3</title>\n<polygon fill=\"white\" stroke=\"transparent\" points=\"-4,4 -4,-119.09 230.64,-119.09 230.64,4 -4,4\"/>\n<!-- fake -->\n<g id=\"node1\" class=\"node\">\n<title>fake</title>\n</g>\n<!-- ready -->\n<g id=\"node2\" class=\"node\">\n<title>ready</title>\n<ellipse fill=\"none\" stroke=\"black\" cx=\"139.14\" cy=\"-41.05\" rx=\"37.09\" ry=\"37.09\"/>\n<ellipse fill=\"none\" stroke=\"black\" cx=\"139.14\" cy=\"-41.05\" rx=\"41.09\" ry=\"41.09\"/>\n<text text-anchor=\"middle\" x=\"139.14\" y=\"-37.35\" font-family=\"Times,serif\" font-size=\"14.00\">ready</text>\n</g>\n<!-- fake&#45;&gt;ready -->\n<g id=\"edge1\" class=\"edge\">\n<title>fake-&gt;ready</title>\n<path fill=\"none\" stroke=\"black\" stroke-width=\"2\" d=\"M61.24,-41.05C69.48,-41.05 78.65,-41.05 87.72,-41.05\"/>\n<polygon fill=\"black\" stroke=\"black\" stroke-width=\"2\" points=\"87.85,-44.55 97.85,-41.05 87.85,-37.55 87.85,-44.55\"/>\n</g>\n<!-- ready&#45;&gt;ready -->\n<g id=\"edge2\" class=\"edge\">\n<title>ready-&gt;ready</title>\n<path fill=\"none\" stroke=\"black\" d=\"M128.33,-80.79C128.85,-91.73 132.46,-100.09 139.14,-100.09 143.53,-100.09 146.59,-96.49 148.32,-90.92\"/>\n<polygon fill=\"black\" stroke=\"black\" points=\"151.82,-91.21 149.95,-80.79 144.91,-90.1 151.82,-91.21\"/>\n<text text-anchor=\"middle\" x=\"139.14\" y=\"-103.89\" font-family=\"Times,serif\" font-size=\"14.00\">pick_chemicals, 1.0, -1.8</text>\n</g>\n</g>\n</svg>"
     },
     "metadata": {},
     "output_type": "display_data"
    }
   ],
   "source": [
    "def chemicals_warehouse_service(name: str, action_reward: float) -> Service:\n",
    "    \"\"\"Build the chemicals warehouse device.\"\"\"\n",
    "    return build_generic_service_one_state(\n",
    "        name,\n",
    "        {PICK_CHEMICALS},\n",
    "        action_reward=action_reward\n",
    "    )\n",
    "\n",
    "\n",
    "service_chemicals_usa = chemicals_warehouse_service(CHEMICALS_SERVICE_NAME_USA, USA_REWARD)\n",
    "service_chemicals_canada = chemicals_warehouse_service(CHEMICALS_SERVICE_NAME_CANADA, CANADA_REWARD)\n",
    "render_service(service_chemicals_usa)\n",
    "render_service(service_chemicals_canada)"
   ],
   "metadata": {
    "collapsed": false
   }
  },
  {
   "cell_type": "code",
   "execution_count": 15,
   "outputs": [
    {
     "data": {
      "text/plain": "<IPython.core.display.SVG object>",
      "image/svg+xml": "<svg xmlns=\"http://www.w3.org/2000/svg\" xmlns:xlink=\"http://www.w3.org/1999/xlink\" width=\"248pt\" height=\"123pt\" viewBox=\"0.00 0.00 248.14 123.09\">\n<g id=\"graph0\" class=\"graph\" transform=\"scale(1 1) rotate(0) translate(4 119.09)\">\n<title>%3</title>\n<polygon fill=\"white\" stroke=\"transparent\" points=\"-4,4 -4,-119.09 244.14,-119.09 244.14,4 -4,4\"/>\n<!-- fake -->\n<g id=\"node1\" class=\"node\">\n<title>fake</title>\n</g>\n<!-- ready -->\n<g id=\"node2\" class=\"node\">\n<title>ready</title>\n<ellipse fill=\"none\" stroke=\"black\" cx=\"139.14\" cy=\"-41.05\" rx=\"37.09\" ry=\"37.09\"/>\n<ellipse fill=\"none\" stroke=\"black\" cx=\"139.14\" cy=\"-41.05\" rx=\"41.09\" ry=\"41.09\"/>\n<text text-anchor=\"middle\" x=\"139.14\" y=\"-37.35\" font-family=\"Times,serif\" font-size=\"14.00\">ready</text>\n</g>\n<!-- fake&#45;&gt;ready -->\n<g id=\"edge1\" class=\"edge\">\n<title>fake-&gt;ready</title>\n<path fill=\"none\" stroke=\"black\" stroke-width=\"2\" d=\"M61.24,-41.05C69.48,-41.05 78.65,-41.05 87.72,-41.05\"/>\n<polygon fill=\"black\" stroke=\"black\" stroke-width=\"2\" points=\"87.85,-44.55 97.85,-41.05 87.85,-37.55 87.85,-44.55\"/>\n</g>\n<!-- ready&#45;&gt;ready -->\n<g id=\"edge2\" class=\"edge\">\n<title>ready-&gt;ready</title>\n<path fill=\"none\" stroke=\"black\" d=\"M128.33,-80.79C128.85,-91.73 132.46,-100.09 139.14,-100.09 143.53,-100.09 146.59,-96.49 148.32,-90.92\"/>\n<polygon fill=\"black\" stroke=\"black\" points=\"151.82,-91.21 149.95,-80.79 144.91,-90.1 151.82,-91.21\"/>\n<text text-anchor=\"middle\" x=\"139.14\" y=\"-103.89\" font-family=\"Times,serif\" font-size=\"14.00\">pick_copper_frame, 1.0, -2.0</text>\n</g>\n</g>\n</svg>"
     },
     "metadata": {},
     "output_type": "display_data"
    },
    {
     "data": {
      "text/plain": "<IPython.core.display.SVG object>",
      "image/svg+xml": "<svg xmlns=\"http://www.w3.org/2000/svg\" xmlns:xlink=\"http://www.w3.org/1999/xlink\" width=\"253pt\" height=\"123pt\" viewBox=\"0.00 0.00 252.64 123.09\">\n<g id=\"graph0\" class=\"graph\" transform=\"scale(1 1) rotate(0) translate(4 119.09)\">\n<title>%3</title>\n<polygon fill=\"white\" stroke=\"transparent\" points=\"-4,4 -4,-119.09 248.64,-119.09 248.64,4 -4,4\"/>\n<!-- fake -->\n<g id=\"node1\" class=\"node\">\n<title>fake</title>\n</g>\n<!-- ready -->\n<g id=\"node2\" class=\"node\">\n<title>ready</title>\n<ellipse fill=\"none\" stroke=\"black\" cx=\"139.14\" cy=\"-41.05\" rx=\"37.09\" ry=\"37.09\"/>\n<ellipse fill=\"none\" stroke=\"black\" cx=\"139.14\" cy=\"-41.05\" rx=\"41.09\" ry=\"41.09\"/>\n<text text-anchor=\"middle\" x=\"139.14\" y=\"-37.35\" font-family=\"Times,serif\" font-size=\"14.00\">ready</text>\n</g>\n<!-- fake&#45;&gt;ready -->\n<g id=\"edge1\" class=\"edge\">\n<title>fake-&gt;ready</title>\n<path fill=\"none\" stroke=\"black\" stroke-width=\"2\" d=\"M61.24,-41.05C69.48,-41.05 78.65,-41.05 87.72,-41.05\"/>\n<polygon fill=\"black\" stroke=\"black\" stroke-width=\"2\" points=\"87.85,-44.55 97.85,-41.05 87.85,-37.55 87.85,-44.55\"/>\n</g>\n<!-- ready&#45;&gt;ready -->\n<g id=\"edge2\" class=\"edge\">\n<title>ready-&gt;ready</title>\n<path fill=\"none\" stroke=\"black\" d=\"M128.33,-80.79C128.85,-91.73 132.46,-100.09 139.14,-100.09 143.53,-100.09 146.59,-96.49 148.32,-90.92\"/>\n<polygon fill=\"black\" stroke=\"black\" points=\"151.82,-91.21 149.95,-80.79 144.91,-90.1 151.82,-91.21\"/>\n<text text-anchor=\"middle\" x=\"139.14\" y=\"-103.89\" font-family=\"Times,serif\" font-size=\"14.00\">pick_copper_frame, 1.0, -11.7</text>\n</g>\n</g>\n</svg>"
     },
     "metadata": {},
     "output_type": "display_data"
    },
    {
     "data": {
      "text/plain": "<IPython.core.display.SVG object>",
      "image/svg+xml": "<svg xmlns=\"http://www.w3.org/2000/svg\" xmlns:xlink=\"http://www.w3.org/1999/xlink\" width=\"248pt\" height=\"123pt\" viewBox=\"0.00 0.00 248.14 123.09\">\n<g id=\"graph0\" class=\"graph\" transform=\"scale(1 1) rotate(0) translate(4 119.09)\">\n<title>%3</title>\n<polygon fill=\"white\" stroke=\"transparent\" points=\"-4,4 -4,-119.09 244.14,-119.09 244.14,4 -4,4\"/>\n<!-- fake -->\n<g id=\"node1\" class=\"node\">\n<title>fake</title>\n</g>\n<!-- ready -->\n<g id=\"node2\" class=\"node\">\n<title>ready</title>\n<ellipse fill=\"none\" stroke=\"black\" cx=\"139.14\" cy=\"-41.05\" rx=\"37.09\" ry=\"37.09\"/>\n<ellipse fill=\"none\" stroke=\"black\" cx=\"139.14\" cy=\"-41.05\" rx=\"41.09\" ry=\"41.09\"/>\n<text text-anchor=\"middle\" x=\"139.14\" y=\"-37.35\" font-family=\"Times,serif\" font-size=\"14.00\">ready</text>\n</g>\n<!-- fake&#45;&gt;ready -->\n<g id=\"edge1\" class=\"edge\">\n<title>fake-&gt;ready</title>\n<path fill=\"none\" stroke=\"black\" stroke-width=\"2\" d=\"M61.24,-41.05C69.48,-41.05 78.65,-41.05 87.72,-41.05\"/>\n<polygon fill=\"black\" stroke=\"black\" stroke-width=\"2\" points=\"87.85,-44.55 97.85,-41.05 87.85,-37.55 87.85,-44.55\"/>\n</g>\n<!-- ready&#45;&gt;ready -->\n<g id=\"edge2\" class=\"edge\">\n<title>ready-&gt;ready</title>\n<path fill=\"none\" stroke=\"black\" d=\"M128.33,-80.79C128.85,-91.73 132.46,-100.09 139.14,-100.09 143.53,-100.09 146.59,-96.49 148.32,-90.92\"/>\n<polygon fill=\"black\" stroke=\"black\" points=\"151.82,-91.21 149.95,-80.79 144.91,-90.1 151.82,-91.21\"/>\n<text text-anchor=\"middle\" x=\"139.14\" y=\"-103.89\" font-family=\"Times,serif\" font-size=\"14.00\">pick_copper_frame, 1.0, -6.0</text>\n</g>\n</g>\n</svg>"
     },
     "metadata": {},
     "output_type": "display_data"
    },
    {
     "data": {
      "text/plain": "<IPython.core.display.SVG object>",
      "image/svg+xml": "<svg xmlns=\"http://www.w3.org/2000/svg\" xmlns:xlink=\"http://www.w3.org/1999/xlink\" width=\"248pt\" height=\"123pt\" viewBox=\"0.00 0.00 248.14 123.09\">\n<g id=\"graph0\" class=\"graph\" transform=\"scale(1 1) rotate(0) translate(4 119.09)\">\n<title>%3</title>\n<polygon fill=\"white\" stroke=\"transparent\" points=\"-4,4 -4,-119.09 244.14,-119.09 244.14,4 -4,4\"/>\n<!-- fake -->\n<g id=\"node1\" class=\"node\">\n<title>fake</title>\n</g>\n<!-- ready -->\n<g id=\"node2\" class=\"node\">\n<title>ready</title>\n<ellipse fill=\"none\" stroke=\"black\" cx=\"139.14\" cy=\"-41.05\" rx=\"37.09\" ry=\"37.09\"/>\n<ellipse fill=\"none\" stroke=\"black\" cx=\"139.14\" cy=\"-41.05\" rx=\"41.09\" ry=\"41.09\"/>\n<text text-anchor=\"middle\" x=\"139.14\" y=\"-37.35\" font-family=\"Times,serif\" font-size=\"14.00\">ready</text>\n</g>\n<!-- fake&#45;&gt;ready -->\n<g id=\"edge1\" class=\"edge\">\n<title>fake-&gt;ready</title>\n<path fill=\"none\" stroke=\"black\" stroke-width=\"2\" d=\"M61.24,-41.05C69.48,-41.05 78.65,-41.05 87.72,-41.05\"/>\n<polygon fill=\"black\" stroke=\"black\" stroke-width=\"2\" points=\"87.85,-44.55 97.85,-41.05 87.85,-37.55 87.85,-44.55\"/>\n</g>\n<!-- ready&#45;&gt;ready -->\n<g id=\"edge2\" class=\"edge\">\n<title>ready-&gt;ready</title>\n<path fill=\"none\" stroke=\"black\" d=\"M128.33,-80.79C128.85,-91.73 132.46,-100.09 139.14,-100.09 143.53,-100.09 146.59,-96.49 148.32,-90.92\"/>\n<polygon fill=\"black\" stroke=\"black\" points=\"151.82,-91.21 149.95,-80.79 144.91,-90.1 151.82,-91.21\"/>\n<text text-anchor=\"middle\" x=\"139.14\" y=\"-103.89\" font-family=\"Times,serif\" font-size=\"14.00\">pick_copper_frame, 1.0, -7.8</text>\n</g>\n</g>\n</svg>"
     },
     "metadata": {},
     "output_type": "display_data"
    }
   ],
   "source": [
    "def copper_frame_warehouse_service(name: str, action_reward: float) -> Service:\n",
    "    \"\"\"Build the copper frame warehouse device.\"\"\"\n",
    "    return build_generic_service_one_state(\n",
    "        name,\n",
    "        {PICK_COPPER_FRAME},\n",
    "        action_reward=action_reward\n",
    "    )\n",
    "\n",
    "\n",
    "service_copper_frame_usa = copper_frame_warehouse_service(COPPER_FRAME_SERVICE_NAME_USA, USA_REWARD)\n",
    "service_copper_frame_china = copper_frame_warehouse_service(COPPER_FRAME_SERVICE_NAME_CHINA, CHINA_REWARD)\n",
    "service_copper_frame_peru = copper_frame_warehouse_service(COPPER_FRAME_SERVICE_NAME_PERU, PERU_REWARD)\n",
    "service_copper_frame_chile = copper_frame_warehouse_service(COPPER_FRAME_SERVICE_NAME_CHILE, CHILE_REWARD)\n",
    "render_service(service_copper_frame_usa)\n",
    "render_service(service_copper_frame_china)\n",
    "render_service(service_copper_frame_peru)\n",
    "render_service(service_copper_frame_chile)"
   ],
   "metadata": {
    "collapsed": false
   }
  },
  {
   "cell_type": "code",
   "execution_count": 16,
   "metadata": {},
   "outputs": [
    {
     "data": {
      "text/plain": "<IPython.core.display.SVG object>",
      "image/svg+xml": "<svg xmlns=\"http://www.w3.org/2000/svg\" xmlns:xlink=\"http://www.w3.org/1999/xlink\" width=\"211pt\" height=\"123pt\" viewBox=\"0.00 0.00 211.14 123.09\">\n<g id=\"graph0\" class=\"graph\" transform=\"scale(1 1) rotate(0) translate(4 119.09)\">\n<title>%3</title>\n<polygon fill=\"white\" stroke=\"transparent\" points=\"-4,4 -4,-119.09 207.14,-119.09 207.14,4 -4,4\"/>\n<!-- fake -->\n<g id=\"node1\" class=\"node\">\n<title>fake</title>\n</g>\n<!-- ready -->\n<g id=\"node2\" class=\"node\">\n<title>ready</title>\n<ellipse fill=\"none\" stroke=\"black\" cx=\"139.14\" cy=\"-41.05\" rx=\"37.09\" ry=\"37.09\"/>\n<ellipse fill=\"none\" stroke=\"black\" cx=\"139.14\" cy=\"-41.05\" rx=\"41.09\" ry=\"41.09\"/>\n<text text-anchor=\"middle\" x=\"139.14\" y=\"-37.35\" font-family=\"Times,serif\" font-size=\"14.00\">ready</text>\n</g>\n<!-- fake&#45;&gt;ready -->\n<g id=\"edge1\" class=\"edge\">\n<title>fake-&gt;ready</title>\n<path fill=\"none\" stroke=\"black\" stroke-width=\"2\" d=\"M61.24,-41.05C69.48,-41.05 78.65,-41.05 87.72,-41.05\"/>\n<polygon fill=\"black\" stroke=\"black\" stroke-width=\"2\" points=\"87.85,-44.55 97.85,-41.05 87.85,-37.55 87.85,-44.55\"/>\n</g>\n<!-- ready&#45;&gt;ready -->\n<g id=\"edge2\" class=\"edge\">\n<title>ready-&gt;ready</title>\n<path fill=\"none\" stroke=\"black\" d=\"M128.33,-80.79C128.85,-91.73 132.46,-100.09 139.14,-100.09 143.53,-100.09 146.59,-96.49 148.32,-90.92\"/>\n<polygon fill=\"black\" stroke=\"black\" points=\"151.82,-91.21 149.95,-80.79 144.91,-90.1 151.82,-91.21\"/>\n<text text-anchor=\"middle\" x=\"139.14\" y=\"-103.89\" font-family=\"Times,serif\" font-size=\"14.00\">cleaning, 1.0, -2.0</text>\n</g>\n</g>\n</svg>"
     },
     "metadata": {},
     "output_type": "display_data"
    }
   ],
   "source": [
    "def cleaning_service(name: str = CLEANING_SERVICE_NAME, action_reward: float = USA_REWARD) -> Service:\n",
    "    \"\"\"Build the human cleaning device.\"\"\"\n",
    "    return build_generic_service_one_state(\n",
    "        name,\n",
    "        {CLEANING},\n",
    "        action_reward=action_reward\n",
    "    )\n",
    "\n",
    "\n",
    "service_cleaning = cleaning_service()\n",
    "render_service(service_cleaning)\n"
   ]
  },
  {
   "cell_type": "code",
   "execution_count": 17,
   "metadata": {},
   "outputs": [
    {
     "data": {
      "text/plain": "<IPython.core.display.SVG object>",
      "image/svg+xml": "<svg xmlns=\"http://www.w3.org/2000/svg\" xmlns:xlink=\"http://www.w3.org/1999/xlink\" width=\"1851pt\" height=\"251pt\" viewBox=\"0.00 0.00 1850.87 250.90\">\n<g id=\"graph0\" class=\"graph\" transform=\"scale(1 1) rotate(0) translate(4 246.9)\">\n<title>%3</title>\n<polygon fill=\"white\" stroke=\"transparent\" points=\"-4,4 -4,-246.9 1846.87,-246.9 1846.87,4 -4,4\"/>\n<!-- fake -->\n<g id=\"node1\" class=\"node\">\n<title>fake</title>\n</g>\n<!-- ready -->\n<g id=\"node4\" class=\"node\">\n<title>ready</title>\n<ellipse fill=\"none\" stroke=\"black\" cx=\"139.14\" cy=\"-139.9\" rx=\"37.09\" ry=\"37.09\"/>\n<ellipse fill=\"none\" stroke=\"black\" cx=\"139.14\" cy=\"-139.9\" rx=\"41.09\" ry=\"41.09\"/>\n<text text-anchor=\"middle\" x=\"139.14\" y=\"-136.2\" font-family=\"Times,serif\" font-size=\"14.00\">ready</text>\n</g>\n<!-- fake&#45;&gt;ready -->\n<g id=\"edge1\" class=\"edge\">\n<title>fake-&gt;ready</title>\n<path fill=\"none\" stroke=\"black\" stroke-width=\"2\" d=\"M61.24,-139.9C69.48,-139.9 78.65,-139.9 87.72,-139.9\"/>\n<polygon fill=\"black\" stroke=\"black\" stroke-width=\"2\" points=\"87.85,-143.4 97.85,-139.9 87.85,-136.4 87.85,-143.4\"/>\n</g>\n<!-- configured -->\n<g id=\"node2\" class=\"node\">\n<title>configured</title>\n<ellipse fill=\"none\" stroke=\"black\" cx=\"529.69\" cy=\"-139.9\" rx=\"59.59\" ry=\"59.59\"/>\n<text text-anchor=\"middle\" x=\"529.69\" y=\"-136.2\" font-family=\"Times,serif\" font-size=\"14.00\">configured</text>\n</g>\n<!-- broken -->\n<g id=\"node5\" class=\"node\">\n<title>broken</title>\n<ellipse fill=\"none\" stroke=\"black\" cx=\"1412.08\" cy=\"-147.9\" rx=\"42.79\" ry=\"42.79\"/>\n<text text-anchor=\"middle\" x=\"1412.08\" y=\"-144.2\" font-family=\"Times,serif\" font-size=\"14.00\">broken</text>\n</g>\n<!-- configured&#45;&gt;broken -->\n<g id=\"edge4\" class=\"edge\">\n<title>configured-&gt;broken</title>\n<path fill=\"none\" stroke=\"black\" d=\"M589.82,-140.43C752.44,-141.91 1204.52,-146.02 1358.75,-147.42\"/>\n<polygon fill=\"black\" stroke=\"black\" points=\"1358.87,-150.92 1368.9,-147.51 1358.93,-143.92 1358.87,-150.92\"/>\n<text text-anchor=\"middle\" x=\"1025.69\" y=\"-148.7\" font-family=\"Times,serif\" font-size=\"14.00\">checked_film_deposition, 0.05, 0.0</text>\n</g>\n<!-- executing -->\n<g id=\"node6\" class=\"node\">\n<title>executing</title>\n<ellipse fill=\"none\" stroke=\"black\" cx=\"1025.69\" cy=\"-55.9\" rx=\"55.79\" ry=\"55.79\"/>\n<text text-anchor=\"middle\" x=\"1025.69\" y=\"-52.2\" font-family=\"Times,serif\" font-size=\"14.00\">executing</text>\n</g>\n<!-- configured&#45;&gt;executing -->\n<g id=\"edge3\" class=\"edge\">\n<title>configured-&gt;executing</title>\n<path fill=\"none\" stroke=\"black\" d=\"M588.6,-128.49C605.24,-125.29 623.42,-121.88 640.19,-118.9 752.53,-98.92 883.75,-77.92 960.21,-65.91\"/>\n<polygon fill=\"black\" stroke=\"black\" points=\"960.83,-69.36 970.17,-64.35 959.75,-62.44 960.83,-69.36\"/>\n<text text-anchor=\"middle\" x=\"762.69\" y=\"-122.7\" font-family=\"Times,serif\" font-size=\"14.00\">checked_film_deposition, 0.95, 0.0</text>\n</g>\n<!-- repairing -->\n<g id=\"node3\" class=\"node\">\n<title>repairing</title>\n<ellipse fill=\"none\" stroke=\"black\" cx=\"1788.93\" cy=\"-183.9\" rx=\"53.89\" ry=\"53.89\"/>\n<text text-anchor=\"middle\" x=\"1788.93\" y=\"-180.2\" font-family=\"Times,serif\" font-size=\"14.00\">repairing</text>\n</g>\n<!-- repairing&#45;&gt;ready -->\n<g id=\"edge8\" class=\"edge\">\n<title>repairing-&gt;ready</title>\n<path fill=\"none\" stroke=\"black\" d=\"M1735.7,-193.93C1663.47,-206.92 1528.9,-227.9 1413.08,-227.9 528.69,-227.9 528.69,-227.9 528.69,-227.9 403.01,-227.9 260,-183.56 187.57,-157.83\"/>\n<polygon fill=\"black\" stroke=\"black\" points=\"188.42,-154.42 177.83,-154.33 186.05,-161 188.42,-154.42\"/>\n<text text-anchor=\"middle\" x=\"1025.69\" y=\"-231.7\" font-family=\"Times,serif\" font-size=\"14.00\">repaired_film_deposition, 1.0, 0.0</text>\n</g>\n<!-- ready&#45;&gt;configured -->\n<g id=\"edge2\" class=\"edge\">\n<title>ready-&gt;configured</title>\n<path fill=\"none\" stroke=\"black\" d=\"M180.26,-139.9C246.17,-139.9 378.17,-139.9 459.43,-139.9\"/>\n<polygon fill=\"black\" stroke=\"black\" points=\"459.57,-143.4 469.57,-139.9 459.57,-136.4 459.57,-143.4\"/>\n<text text-anchor=\"middle\" x=\"308.69\" y=\"-143.7\" font-family=\"Times,serif\" font-size=\"14.00\">config_film_deposition, 1.0, 0.0</text>\n</g>\n<!-- broken&#45;&gt;repairing -->\n<g id=\"edge7\" class=\"edge\">\n<title>broken-&gt;repairing</title>\n<path fill=\"none\" stroke=\"black\" d=\"M1454.99,-151.92C1520.72,-158.23 1648.45,-170.5 1725.17,-177.87\"/>\n<polygon fill=\"black\" stroke=\"black\" points=\"1724.9,-181.36 1735.19,-178.83 1725.57,-174.39 1724.9,-181.36\"/>\n<text text-anchor=\"middle\" x=\"1594.98\" y=\"-180.7\" font-family=\"Times,serif\" font-size=\"14.00\">restore_film_deposition, 1.0, -10.0</text>\n</g>\n<!-- executing&#45;&gt;ready -->\n<g id=\"edge5\" class=\"edge\">\n<title>executing-&gt;ready</title>\n<path fill=\"none\" stroke=\"black\" d=\"M969.67,-50.88C865.25,-42.48 631.42,-28.96 437.19,-55.9 346.86,-68.42 245.38,-101.41 187.47,-122.12\"/>\n<polygon fill=\"black\" stroke=\"black\" points=\"186.09,-118.9 177.87,-125.58 188.47,-125.48 186.09,-118.9\"/>\n<text text-anchor=\"middle\" x=\"529.69\" y=\"-59.7\" font-family=\"Times,serif\" font-size=\"14.00\">film_deposition, 0.95, -1.0</text>\n</g>\n<!-- executing&#45;&gt;broken -->\n<g id=\"edge6\" class=\"edge\">\n<title>executing-&gt;broken</title>\n<path fill=\"none\" stroke=\"black\" d=\"M1081.47,-62.13C1146.89,-70.57 1259.03,-88.22 1351.19,-118.9 1355.68,-120.39 1360.27,-122.15 1364.8,-124.05\"/>\n<polygon fill=\"black\" stroke=\"black\" points=\"1363.44,-127.27 1374,-128.11 1366.27,-120.87 1363.44,-127.27\"/>\n<text text-anchor=\"middle\" x=\"1258.69\" y=\"-122.7\" font-family=\"Times,serif\" font-size=\"14.00\">film_deposition, 0.05, -1.0</text>\n</g>\n</g>\n</svg>"
     },
     "metadata": {},
     "output_type": "display_data"
    },
    {
     "data": {
      "text/plain": "<IPython.core.display.SVG object>",
      "image/svg+xml": "<svg xmlns=\"http://www.w3.org/2000/svg\" xmlns:xlink=\"http://www.w3.org/1999/xlink\" width=\"1818pt\" height=\"251pt\" viewBox=\"0.00 0.00 1817.87 250.90\">\n<g id=\"graph0\" class=\"graph\" transform=\"scale(1 1) rotate(0) translate(4 246.9)\">\n<title>%3</title>\n<polygon fill=\"white\" stroke=\"transparent\" points=\"-4,4 -4,-246.9 1813.87,-246.9 1813.87,4 -4,4\"/>\n<!-- fake -->\n<g id=\"node1\" class=\"node\">\n<title>fake</title>\n</g>\n<!-- ready -->\n<g id=\"node4\" class=\"node\">\n<title>ready</title>\n<ellipse fill=\"none\" stroke=\"black\" cx=\"139.14\" cy=\"-139.9\" rx=\"37.09\" ry=\"37.09\"/>\n<ellipse fill=\"none\" stroke=\"black\" cx=\"139.14\" cy=\"-139.9\" rx=\"41.09\" ry=\"41.09\"/>\n<text text-anchor=\"middle\" x=\"139.14\" y=\"-136.2\" font-family=\"Times,serif\" font-size=\"14.00\">ready</text>\n</g>\n<!-- fake&#45;&gt;ready -->\n<g id=\"edge1\" class=\"edge\">\n<title>fake-&gt;ready</title>\n<path fill=\"none\" stroke=\"black\" stroke-width=\"2\" d=\"M61.24,-139.9C69.48,-139.9 78.65,-139.9 87.72,-139.9\"/>\n<polygon fill=\"black\" stroke=\"black\" stroke-width=\"2\" points=\"87.85,-143.4 97.85,-139.9 87.85,-136.4 87.85,-143.4\"/>\n</g>\n<!-- configured -->\n<g id=\"node2\" class=\"node\">\n<title>configured</title>\n<ellipse fill=\"none\" stroke=\"black\" cx=\"525.19\" cy=\"-139.9\" rx=\"59.59\" ry=\"59.59\"/>\n<text text-anchor=\"middle\" x=\"525.19\" y=\"-136.2\" font-family=\"Times,serif\" font-size=\"14.00\">configured</text>\n</g>\n<!-- broken -->\n<g id=\"node5\" class=\"node\">\n<title>broken</title>\n<ellipse fill=\"none\" stroke=\"black\" cx=\"1379.08\" cy=\"-147.9\" rx=\"42.79\" ry=\"42.79\"/>\n<text text-anchor=\"middle\" x=\"1379.08\" y=\"-144.2\" font-family=\"Times,serif\" font-size=\"14.00\">broken</text>\n</g>\n<!-- configured&#45;&gt;broken -->\n<g id=\"edge4\" class=\"edge\">\n<title>configured-&gt;broken</title>\n<path fill=\"none\" stroke=\"black\" d=\"M585.08,-140.45C743.23,-141.93 1175.39,-145.99 1325.71,-147.4\"/>\n<polygon fill=\"black\" stroke=\"black\" points=\"1326.01,-150.91 1336.04,-147.5 1326.07,-143.91 1326.01,-150.91\"/>\n<text text-anchor=\"middle\" x=\"1004.69\" y=\"-148.7\" font-family=\"Times,serif\" font-size=\"14.00\">checked_film_deposition, 0.5, 0.0</text>\n</g>\n<!-- executing -->\n<g id=\"node6\" class=\"node\">\n<title>executing</title>\n<ellipse fill=\"none\" stroke=\"black\" cx=\"1004.69\" cy=\"-55.9\" rx=\"55.79\" ry=\"55.79\"/>\n<text text-anchor=\"middle\" x=\"1004.69\" y=\"-52.2\" font-family=\"Times,serif\" font-size=\"14.00\">executing</text>\n</g>\n<!-- configured&#45;&gt;executing -->\n<g id=\"edge3\" class=\"edge\">\n<title>configured-&gt;executing</title>\n<path fill=\"none\" stroke=\"black\" d=\"M583.9,-128.03C599.25,-124.96 615.83,-121.73 631.19,-118.9 738.99,-99 864.81,-78.23 939.17,-66.21\"/>\n<polygon fill=\"black\" stroke=\"black\" points=\"940,-69.62 949.31,-64.57 938.88,-62.71 940,-69.62\"/>\n<text text-anchor=\"middle\" x=\"749.19\" y=\"-122.7\" font-family=\"Times,serif\" font-size=\"14.00\">checked_film_deposition, 0.5, 0.0</text>\n</g>\n<!-- repairing -->\n<g id=\"node3\" class=\"node\">\n<title>repairing</title>\n<ellipse fill=\"none\" stroke=\"black\" cx=\"1755.93\" cy=\"-183.9\" rx=\"53.89\" ry=\"53.89\"/>\n<text text-anchor=\"middle\" x=\"1755.93\" y=\"-180.2\" font-family=\"Times,serif\" font-size=\"14.00\">repairing</text>\n</g>\n<!-- repairing&#45;&gt;ready -->\n<g id=\"edge8\" class=\"edge\">\n<title>repairing-&gt;ready</title>\n<path fill=\"none\" stroke=\"black\" d=\"M1702.7,-193.93C1630.47,-206.92 1495.9,-227.9 1380.08,-227.9 524.19,-227.9 524.19,-227.9 524.19,-227.9 400.06,-227.9 258.94,-183.68 187.28,-157.93\"/>\n<polygon fill=\"black\" stroke=\"black\" points=\"188.24,-154.55 177.64,-154.43 185.85,-161.13 188.24,-154.55\"/>\n<text text-anchor=\"middle\" x=\"1004.69\" y=\"-231.7\" font-family=\"Times,serif\" font-size=\"14.00\">repaired_film_deposition, 1.0, 0.0</text>\n</g>\n<!-- ready&#45;&gt;configured -->\n<g id=\"edge2\" class=\"edge\">\n<title>ready-&gt;configured</title>\n<path fill=\"none\" stroke=\"black\" d=\"M180.52,-139.9C245.67,-139.9 374.77,-139.9 454.86,-139.9\"/>\n<polygon fill=\"black\" stroke=\"black\" points=\"455.35,-143.4 465.35,-139.9 455.35,-136.4 455.35,-143.4\"/>\n<text text-anchor=\"middle\" x=\"308.69\" y=\"-143.7\" font-family=\"Times,serif\" font-size=\"14.00\">config_film_deposition, 1.0, 0.0</text>\n</g>\n<!-- broken&#45;&gt;repairing -->\n<g id=\"edge7\" class=\"edge\">\n<title>broken-&gt;repairing</title>\n<path fill=\"none\" stroke=\"black\" d=\"M1421.99,-151.92C1487.72,-158.23 1615.45,-170.5 1692.17,-177.87\"/>\n<polygon fill=\"black\" stroke=\"black\" points=\"1691.9,-181.36 1702.19,-178.83 1692.57,-174.39 1691.9,-181.36\"/>\n<text text-anchor=\"middle\" x=\"1561.98\" y=\"-180.7\" font-family=\"Times,serif\" font-size=\"14.00\">restore_film_deposition, 1.0, -10.0</text>\n</g>\n<!-- executing&#45;&gt;ready -->\n<g id=\"edge5\" class=\"edge\">\n<title>executing-&gt;ready</title>\n<path fill=\"none\" stroke=\"black\" d=\"M948.66,-50.9C847.02,-42.79 623.26,-30.09 437.19,-55.9 346.86,-68.42 245.38,-101.41 187.47,-122.12\"/>\n<polygon fill=\"black\" stroke=\"black\" points=\"186.09,-118.9 177.87,-125.58 188.47,-125.48 186.09,-118.9\"/>\n<text text-anchor=\"middle\" x=\"525.19\" y=\"-59.7\" font-family=\"Times,serif\" font-size=\"14.00\">film_deposition, 0.5, -2.0</text>\n</g>\n<!-- executing&#45;&gt;broken -->\n<g id=\"edge6\" class=\"edge\">\n<title>executing-&gt;broken</title>\n<path fill=\"none\" stroke=\"black\" d=\"M1060.41,-62.67C1123.66,-71.46 1230.34,-89.3 1318.19,-118.9 1322.67,-120.41 1327.26,-122.18 1331.79,-124.08\"/>\n<polygon fill=\"black\" stroke=\"black\" points=\"1330.43,-127.31 1340.99,-128.15 1333.26,-120.91 1330.43,-127.31\"/>\n<text text-anchor=\"middle\" x=\"1230.19\" y=\"-122.7\" font-family=\"Times,serif\" font-size=\"14.00\">film_deposition, 0.5, -2.0</text>\n</g>\n</g>\n</svg>"
     },
     "metadata": {},
     "output_type": "display_data"
    }
   ],
   "source": [
    "def film_deposition_service(name: str, broken_prob: float, unemployable_prob: float, broken_reward: float,\n",
    "                            action_reward: float) -> Service:\n",
    "    \"\"\"Build the film deposition device.\"\"\"\n",
    "    return build_complex_breakable_service(name, FILM_DEPOSITION, broken_prob=broken_prob,\n",
    "                                           unemployable_prob=unemployable_prob, broken_reward=broken_reward,\n",
    "                                           action_reward=action_reward)\n",
    "\n",
    "\n",
    "service_film_deposition1 = film_deposition_service(FILM_DEPOSITION1_SERVICE_NAME, DEFAULT_BROKEN_PROB,\n",
    "                                                   DEFAULT_UNEMPLOYABLE_PROB, DEFAULT_BROKEN_REWARD, DEFAULT_USA_REWARD)\n",
    "service_film_deposition2 = film_deposition_service(FILM_DEPOSITION2_SERVICE_NAME, BROKEN_PROB, HIGH_UNEMPLOYABLE_PROB, DEFAULT_BROKEN_REWARD, USA_REWARD)\n",
    "render_service(service_film_deposition1)\n",
    "render_service(service_film_deposition2)"
   ]
  },
  {
   "cell_type": "code",
   "execution_count": 18,
   "metadata": {},
   "outputs": [
    {
     "data": {
      "text/plain": "<IPython.core.display.SVG object>",
      "image/svg+xml": "<svg xmlns=\"http://www.w3.org/2000/svg\" xmlns:xlink=\"http://www.w3.org/1999/xlink\" width=\"1802pt\" height=\"251pt\" viewBox=\"0.00 0.00 1801.87 250.90\">\n<g id=\"graph0\" class=\"graph\" transform=\"scale(1 1) rotate(0) translate(4 246.9)\">\n<title>%3</title>\n<polygon fill=\"white\" stroke=\"transparent\" points=\"-4,4 -4,-246.9 1797.87,-246.9 1797.87,4 -4,4\"/>\n<!-- fake -->\n<g id=\"node1\" class=\"node\">\n<title>fake</title>\n</g>\n<!-- ready -->\n<g id=\"node4\" class=\"node\">\n<title>ready</title>\n<ellipse fill=\"none\" stroke=\"black\" cx=\"139.14\" cy=\"-139.9\" rx=\"37.09\" ry=\"37.09\"/>\n<ellipse fill=\"none\" stroke=\"black\" cx=\"139.14\" cy=\"-139.9\" rx=\"41.09\" ry=\"41.09\"/>\n<text text-anchor=\"middle\" x=\"139.14\" y=\"-136.2\" font-family=\"Times,serif\" font-size=\"14.00\">ready</text>\n</g>\n<!-- fake&#45;&gt;ready -->\n<g id=\"edge1\" class=\"edge\">\n<title>fake-&gt;ready</title>\n<path fill=\"none\" stroke=\"black\" stroke-width=\"2\" d=\"M61.24,-139.9C69.48,-139.9 78.65,-139.9 87.72,-139.9\"/>\n<polygon fill=\"black\" stroke=\"black\" stroke-width=\"2\" points=\"87.85,-143.4 97.85,-139.9 87.85,-136.4 87.85,-143.4\"/>\n</g>\n<!-- configured -->\n<g id=\"node2\" class=\"node\">\n<title>configured</title>\n<ellipse fill=\"none\" stroke=\"black\" cx=\"517.69\" cy=\"-139.9\" rx=\"59.59\" ry=\"59.59\"/>\n<text text-anchor=\"middle\" x=\"517.69\" y=\"-136.2\" font-family=\"Times,serif\" font-size=\"14.00\">configured</text>\n</g>\n<!-- broken -->\n<g id=\"node5\" class=\"node\">\n<title>broken</title>\n<ellipse fill=\"none\" stroke=\"black\" cx=\"1372.08\" cy=\"-147.9\" rx=\"42.79\" ry=\"42.79\"/>\n<text text-anchor=\"middle\" x=\"1372.08\" y=\"-144.2\" font-family=\"Times,serif\" font-size=\"14.00\">broken</text>\n</g>\n<!-- configured&#45;&gt;broken -->\n<g id=\"edge4\" class=\"edge\">\n<title>configured-&gt;broken</title>\n<path fill=\"none\" stroke=\"black\" d=\"M577.61,-140.45C735.86,-141.93 1168.27,-145.99 1318.68,-147.4\"/>\n<polygon fill=\"black\" stroke=\"black\" points=\"1318.98,-150.91 1329.01,-147.5 1319.05,-143.91 1318.98,-150.91\"/>\n<text text-anchor=\"middle\" x=\"997.69\" y=\"-148.7\" font-family=\"Times,serif\" font-size=\"14.00\">checked_resist_coating, 0.05, 0.0</text>\n</g>\n<!-- executing -->\n<g id=\"node6\" class=\"node\">\n<title>executing</title>\n<ellipse fill=\"none\" stroke=\"black\" cx=\"997.69\" cy=\"-55.9\" rx=\"55.79\" ry=\"55.79\"/>\n<text text-anchor=\"middle\" x=\"997.69\" y=\"-52.2\" font-family=\"Times,serif\" font-size=\"14.00\">executing</text>\n</g>\n<!-- configured&#45;&gt;executing -->\n<g id=\"edge3\" class=\"edge\">\n<title>configured-&gt;executing</title>\n<path fill=\"none\" stroke=\"black\" d=\"M576.4,-128.09C591.9,-125.01 608.67,-121.75 624.19,-118.9 732,-99.05 857.82,-78.27 932.17,-66.23\"/>\n<polygon fill=\"black\" stroke=\"black\" points=\"933,-69.64 942.31,-64.59 931.88,-62.73 933,-69.64\"/>\n<text text-anchor=\"middle\" x=\"742.69\" y=\"-122.7\" font-family=\"Times,serif\" font-size=\"14.00\">checked_resist_coating, 0.95, 0.0</text>\n</g>\n<!-- repairing -->\n<g id=\"node3\" class=\"node\">\n<title>repairing</title>\n<ellipse fill=\"none\" stroke=\"black\" cx=\"1739.93\" cy=\"-183.9\" rx=\"53.89\" ry=\"53.89\"/>\n<text text-anchor=\"middle\" x=\"1739.93\" y=\"-180.2\" font-family=\"Times,serif\" font-size=\"14.00\">repairing</text>\n</g>\n<!-- repairing&#45;&gt;ready -->\n<g id=\"edge8\" class=\"edge\">\n<title>repairing-&gt;ready</title>\n<path fill=\"none\" stroke=\"black\" d=\"M1686.76,-194.16C1616,-207.16 1485.51,-227.9 1373.08,-227.9 516.69,-227.9 516.69,-227.9 516.69,-227.9 395.34,-227.9 257.64,-184.03 187.17,-158.24\"/>\n<polygon fill=\"black\" stroke=\"black\" points=\"188.27,-154.91 177.68,-154.72 185.84,-161.48 188.27,-154.91\"/>\n<text text-anchor=\"middle\" x=\"997.69\" y=\"-231.7\" font-family=\"Times,serif\" font-size=\"14.00\">repaired_resist_coating, 1.0, 0.0</text>\n</g>\n<!-- ready&#45;&gt;configured -->\n<g id=\"edge2\" class=\"edge\">\n<title>ready-&gt;configured</title>\n<path fill=\"none\" stroke=\"black\" d=\"M180.44,-139.9C244.17,-139.9 369.01,-139.9 447.35,-139.9\"/>\n<polygon fill=\"black\" stroke=\"black\" points=\"447.61,-143.4 457.61,-139.9 447.61,-136.4 447.61,-143.4\"/>\n<text text-anchor=\"middle\" x=\"304.69\" y=\"-143.7\" font-family=\"Times,serif\" font-size=\"14.00\">config_resist_coating, 1.0, 0.0</text>\n</g>\n<!-- broken&#45;&gt;repairing -->\n<g id=\"edge7\" class=\"edge\">\n<title>broken-&gt;repairing</title>\n<path fill=\"none\" stroke=\"black\" d=\"M1415.05,-152.02C1478.95,-158.31 1601.1,-170.33 1675.76,-177.68\"/>\n<polygon fill=\"black\" stroke=\"black\" points=\"1675.67,-181.19 1685.96,-178.68 1676.36,-174.22 1675.67,-181.19\"/>\n<text text-anchor=\"middle\" x=\"1550.48\" y=\"-179.7\" font-family=\"Times,serif\" font-size=\"14.00\">restore_resist_coating, 1.0, -10.0</text>\n</g>\n<!-- executing&#45;&gt;ready -->\n<g id=\"edge5\" class=\"edge\">\n<title>executing-&gt;ready</title>\n<path fill=\"none\" stroke=\"black\" d=\"M941.94,-50.8C840.28,-42.46 615.73,-29.34 429.19,-55.9 341.83,-68.33 243.95,-100.91 187.45,-121.65\"/>\n<polygon fill=\"black\" stroke=\"black\" points=\"185.89,-118.49 177.73,-125.25 188.32,-125.06 185.89,-118.49\"/>\n<text text-anchor=\"middle\" x=\"517.69\" y=\"-59.7\" font-family=\"Times,serif\" font-size=\"14.00\">resist_coating, 0.95, -1.0</text>\n</g>\n<!-- executing&#45;&gt;broken -->\n<g id=\"edge6\" class=\"edge\">\n<title>executing-&gt;broken</title>\n<path fill=\"none\" stroke=\"black\" d=\"M1053.41,-62.67C1116.66,-71.46 1223.34,-89.3 1311.19,-118.9 1315.67,-120.41 1320.26,-122.18 1324.79,-124.08\"/>\n<polygon fill=\"black\" stroke=\"black\" points=\"1323.43,-127.31 1333.99,-128.15 1326.26,-120.91 1323.43,-127.31\"/>\n<text text-anchor=\"middle\" x=\"1222.69\" y=\"-122.7\" font-family=\"Times,serif\" font-size=\"14.00\">resist_coating, 0.05, -1.0</text>\n</g>\n</g>\n</svg>"
     },
     "metadata": {},
     "output_type": "display_data"
    },
    {
     "data": {
      "text/plain": "<IPython.core.display.SVG object>",
      "image/svg+xml": "<svg xmlns=\"http://www.w3.org/2000/svg\" xmlns:xlink=\"http://www.w3.org/1999/xlink\" width=\"1802pt\" height=\"251pt\" viewBox=\"0.00 0.00 1801.87 250.90\">\n<g id=\"graph0\" class=\"graph\" transform=\"scale(1 1) rotate(0) translate(4 246.9)\">\n<title>%3</title>\n<polygon fill=\"white\" stroke=\"transparent\" points=\"-4,4 -4,-246.9 1797.87,-246.9 1797.87,4 -4,4\"/>\n<!-- fake -->\n<g id=\"node1\" class=\"node\">\n<title>fake</title>\n</g>\n<!-- ready -->\n<g id=\"node4\" class=\"node\">\n<title>ready</title>\n<ellipse fill=\"none\" stroke=\"black\" cx=\"139.14\" cy=\"-139.9\" rx=\"37.09\" ry=\"37.09\"/>\n<ellipse fill=\"none\" stroke=\"black\" cx=\"139.14\" cy=\"-139.9\" rx=\"41.09\" ry=\"41.09\"/>\n<text text-anchor=\"middle\" x=\"139.14\" y=\"-136.2\" font-family=\"Times,serif\" font-size=\"14.00\">ready</text>\n</g>\n<!-- fake&#45;&gt;ready -->\n<g id=\"edge1\" class=\"edge\">\n<title>fake-&gt;ready</title>\n<path fill=\"none\" stroke=\"black\" stroke-width=\"2\" d=\"M61.24,-139.9C69.48,-139.9 78.65,-139.9 87.72,-139.9\"/>\n<polygon fill=\"black\" stroke=\"black\" stroke-width=\"2\" points=\"87.85,-143.4 97.85,-139.9 87.85,-136.4 87.85,-143.4\"/>\n</g>\n<!-- configured -->\n<g id=\"node2\" class=\"node\">\n<title>configured</title>\n<ellipse fill=\"none\" stroke=\"black\" cx=\"517.69\" cy=\"-139.9\" rx=\"59.59\" ry=\"59.59\"/>\n<text text-anchor=\"middle\" x=\"517.69\" y=\"-136.2\" font-family=\"Times,serif\" font-size=\"14.00\">configured</text>\n</g>\n<!-- broken -->\n<g id=\"node5\" class=\"node\">\n<title>broken</title>\n<ellipse fill=\"none\" stroke=\"black\" cx=\"1372.08\" cy=\"-147.9\" rx=\"42.79\" ry=\"42.79\"/>\n<text text-anchor=\"middle\" x=\"1372.08\" y=\"-144.2\" font-family=\"Times,serif\" font-size=\"14.00\">broken</text>\n</g>\n<!-- configured&#45;&gt;broken -->\n<g id=\"edge4\" class=\"edge\">\n<title>configured-&gt;broken</title>\n<path fill=\"none\" stroke=\"black\" d=\"M577.61,-140.45C735.86,-141.93 1168.27,-145.99 1318.68,-147.4\"/>\n<polygon fill=\"black\" stroke=\"black\" points=\"1318.98,-150.91 1329.01,-147.5 1319.05,-143.91 1318.98,-150.91\"/>\n<text text-anchor=\"middle\" x=\"997.69\" y=\"-148.7\" font-family=\"Times,serif\" font-size=\"14.00\">checked_resist_coating, 0.05, 0.0</text>\n</g>\n<!-- executing -->\n<g id=\"node6\" class=\"node\">\n<title>executing</title>\n<ellipse fill=\"none\" stroke=\"black\" cx=\"997.69\" cy=\"-55.9\" rx=\"55.79\" ry=\"55.79\"/>\n<text text-anchor=\"middle\" x=\"997.69\" y=\"-52.2\" font-family=\"Times,serif\" font-size=\"14.00\">executing</text>\n</g>\n<!-- configured&#45;&gt;executing -->\n<g id=\"edge3\" class=\"edge\">\n<title>configured-&gt;executing</title>\n<path fill=\"none\" stroke=\"black\" d=\"M576.4,-128.09C591.9,-125.01 608.67,-121.75 624.19,-118.9 732,-99.05 857.82,-78.27 932.17,-66.23\"/>\n<polygon fill=\"black\" stroke=\"black\" points=\"933,-69.64 942.31,-64.59 931.88,-62.73 933,-69.64\"/>\n<text text-anchor=\"middle\" x=\"742.69\" y=\"-122.7\" font-family=\"Times,serif\" font-size=\"14.00\">checked_resist_coating, 0.95, 0.0</text>\n</g>\n<!-- repairing -->\n<g id=\"node3\" class=\"node\">\n<title>repairing</title>\n<ellipse fill=\"none\" stroke=\"black\" cx=\"1739.93\" cy=\"-183.9\" rx=\"53.89\" ry=\"53.89\"/>\n<text text-anchor=\"middle\" x=\"1739.93\" y=\"-180.2\" font-family=\"Times,serif\" font-size=\"14.00\">repairing</text>\n</g>\n<!-- repairing&#45;&gt;ready -->\n<g id=\"edge8\" class=\"edge\">\n<title>repairing-&gt;ready</title>\n<path fill=\"none\" stroke=\"black\" d=\"M1686.76,-194.16C1616,-207.16 1485.51,-227.9 1373.08,-227.9 516.69,-227.9 516.69,-227.9 516.69,-227.9 395.34,-227.9 257.64,-184.03 187.17,-158.24\"/>\n<polygon fill=\"black\" stroke=\"black\" points=\"188.27,-154.91 177.68,-154.72 185.84,-161.48 188.27,-154.91\"/>\n<text text-anchor=\"middle\" x=\"997.69\" y=\"-231.7\" font-family=\"Times,serif\" font-size=\"14.00\">repaired_resist_coating, 1.0, 0.0</text>\n</g>\n<!-- ready&#45;&gt;configured -->\n<g id=\"edge2\" class=\"edge\">\n<title>ready-&gt;configured</title>\n<path fill=\"none\" stroke=\"black\" d=\"M180.44,-139.9C244.17,-139.9 369.01,-139.9 447.35,-139.9\"/>\n<polygon fill=\"black\" stroke=\"black\" points=\"447.61,-143.4 457.61,-139.9 447.61,-136.4 447.61,-143.4\"/>\n<text text-anchor=\"middle\" x=\"304.69\" y=\"-143.7\" font-family=\"Times,serif\" font-size=\"14.00\">config_resist_coating, 1.0, 0.0</text>\n</g>\n<!-- broken&#45;&gt;repairing -->\n<g id=\"edge7\" class=\"edge\">\n<title>broken-&gt;repairing</title>\n<path fill=\"none\" stroke=\"black\" d=\"M1415.05,-152.02C1478.95,-158.31 1601.1,-170.33 1675.76,-177.68\"/>\n<polygon fill=\"black\" stroke=\"black\" points=\"1675.67,-181.19 1685.96,-178.68 1676.36,-174.22 1675.67,-181.19\"/>\n<text text-anchor=\"middle\" x=\"1550.48\" y=\"-179.7\" font-family=\"Times,serif\" font-size=\"14.00\">restore_resist_coating, 1.0, -10.0</text>\n</g>\n<!-- executing&#45;&gt;ready -->\n<g id=\"edge5\" class=\"edge\">\n<title>executing-&gt;ready</title>\n<path fill=\"none\" stroke=\"black\" d=\"M941.94,-50.8C840.28,-42.46 615.73,-29.34 429.19,-55.9 341.83,-68.33 243.95,-100.91 187.45,-121.65\"/>\n<polygon fill=\"black\" stroke=\"black\" points=\"185.89,-118.49 177.73,-125.25 188.32,-125.06 185.89,-118.49\"/>\n<text text-anchor=\"middle\" x=\"517.69\" y=\"-59.7\" font-family=\"Times,serif\" font-size=\"14.00\">resist_coating, 0.95, -2.0</text>\n</g>\n<!-- executing&#45;&gt;broken -->\n<g id=\"edge6\" class=\"edge\">\n<title>executing-&gt;broken</title>\n<path fill=\"none\" stroke=\"black\" d=\"M1053.41,-62.67C1116.66,-71.46 1223.34,-89.3 1311.19,-118.9 1315.67,-120.41 1320.26,-122.18 1324.79,-124.08\"/>\n<polygon fill=\"black\" stroke=\"black\" points=\"1323.43,-127.31 1333.99,-128.15 1326.26,-120.91 1323.43,-127.31\"/>\n<text text-anchor=\"middle\" x=\"1222.69\" y=\"-122.7\" font-family=\"Times,serif\" font-size=\"14.00\">resist_coating, 0.05, -2.0</text>\n</g>\n</g>\n</svg>"
     },
     "metadata": {},
     "output_type": "display_data"
    }
   ],
   "source": [
    "def resist_coating_service(name: str, broken_prob: float, unemployable_prob: float, broken_reward: float,\n",
    "                           action_reward: float) -> Service:\n",
    "    \"\"\"Build the resist coating device.\"\"\"\n",
    "    return build_complex_breakable_service(name, RESIST_COATING, broken_prob=broken_prob,\n",
    "                                           unemployable_prob=unemployable_prob, broken_reward=broken_reward,\n",
    "                                           action_reward=action_reward)\n",
    "\n",
    "\n",
    "service_resist_coating1 = resist_coating_service(RESIST_COATING1_SERVICE_NAME, DEFAULT_BROKEN_PROB,\n",
    "                                                 DEFAULT_UNEMPLOYABLE_PROB, DEFAULT_BROKEN_REWARD, DEFAULT_USA_REWARD)\n",
    "service_resist_coating2 = resist_coating_service(RESIST_COATING2_SERVICE_NAME, DEFAULT_BROKEN_PROB,\n",
    "                                                 DEFAULT_UNEMPLOYABLE_PROB, DEFAULT_BROKEN_REWARD, USA_REWARD)\n",
    "render_service(service_resist_coating1)\n",
    "render_service(service_resist_coating2)"
   ]
  },
  {
   "cell_type": "code",
   "execution_count": 19,
   "metadata": {},
   "outputs": [
    {
     "data": {
      "text/plain": "<IPython.core.display.SVG object>",
      "image/svg+xml": "<svg xmlns=\"http://www.w3.org/2000/svg\" xmlns:xlink=\"http://www.w3.org/1999/xlink\" width=\"530pt\" height=\"183pt\" viewBox=\"0.00 0.00 529.88 183.04\">\n<g id=\"graph0\" class=\"graph\" transform=\"scale(1 1) rotate(0) translate(4 179.04)\">\n<title>%3</title>\n<polygon fill=\"white\" stroke=\"transparent\" points=\"-4,4 -4,-179.04 525.88,-179.04 525.88,4 -4,4\"/>\n<!-- fake -->\n<g id=\"node1\" class=\"node\">\n<title>fake</title>\n</g>\n<!-- available -->\n<g id=\"node4\" class=\"node\">\n<title>available</title>\n<ellipse fill=\"none\" stroke=\"black\" cx=\"154.09\" cy=\"-80.15\" rx=\"51.99\" ry=\"51.99\"/>\n<ellipse fill=\"none\" stroke=\"black\" cx=\"154.09\" cy=\"-80.15\" rx=\"55.99\" ry=\"55.99\"/>\n<text text-anchor=\"middle\" x=\"154.09\" y=\"-76.45\" font-family=\"Times,serif\" font-size=\"14.00\">available</text>\n</g>\n<!-- fake&#45;&gt;available -->\n<g id=\"edge1\" class=\"edge\">\n<title>fake-&gt;available</title>\n<path fill=\"none\" stroke=\"black\" stroke-width=\"2\" d=\"M61.28,-80.15C69.43,-80.15 78.61,-80.15 87.92,-80.15\"/>\n<polygon fill=\"black\" stroke=\"black\" stroke-width=\"2\" points=\"88.04,-83.65 98.04,-80.15 88.04,-76.65 88.04,-83.65\"/>\n</g>\n<!-- broken -->\n<g id=\"node2\" class=\"node\">\n<title>broken</title>\n<ellipse fill=\"none\" stroke=\"black\" cx=\"478.98\" cy=\"-132.15\" rx=\"42.79\" ry=\"42.79\"/>\n<text text-anchor=\"middle\" x=\"478.98\" y=\"-128.45\" font-family=\"Times,serif\" font-size=\"14.00\">broken</text>\n</g>\n<!-- broken&#45;&gt;available -->\n<g id=\"edge4\" class=\"edge\">\n<title>broken-&gt;available</title>\n<path fill=\"none\" stroke=\"black\" d=\"M443.53,-107.65C435.51,-103.05 426.78,-98.84 418.09,-96.15 382.58,-85.13 286.13,-81.65 220.44,-80.58\"/>\n<polygon fill=\"black\" stroke=\"black\" points=\"220.23,-77.08 210.18,-80.43 220.12,-84.08 220.23,-77.08\"/>\n<text text-anchor=\"middle\" x=\"323.09\" y=\"-99.95\" font-family=\"Times,serif\" font-size=\"14.00\">check_exposure, 1.0, -10.0</text>\n</g>\n<!-- done -->\n<g id=\"node3\" class=\"node\">\n<title>done</title>\n<ellipse fill=\"none\" stroke=\"black\" cx=\"478.98\" cy=\"-33.15\" rx=\"33.29\" ry=\"33.29\"/>\n<text text-anchor=\"middle\" x=\"478.98\" y=\"-29.45\" font-family=\"Times,serif\" font-size=\"14.00\">done</text>\n</g>\n<!-- done&#45;&gt;available -->\n<g id=\"edge5\" class=\"edge\">\n<title>done-&gt;available</title>\n<path fill=\"none\" stroke=\"black\" d=\"M446.87,-24.04C398.47,-11.5 302.93,6.67 228.09,-20.15 218.82,-23.47 209.89,-28.53 201.64,-34.33\"/>\n<polygon fill=\"black\" stroke=\"black\" points=\"199.53,-31.53 193.64,-40.34 203.73,-37.13 199.53,-31.53\"/>\n<text text-anchor=\"middle\" x=\"323.09\" y=\"-23.95\" font-family=\"Times,serif\" font-size=\"14.00\">check_exposure, 1.0, 0.0</text>\n</g>\n<!-- available&#45;&gt;broken -->\n<g id=\"edge3\" class=\"edge\">\n<title>available-&gt;broken</title>\n<path fill=\"none\" stroke=\"black\" d=\"M203.6,-106.5C211.59,-109.94 219.93,-113 228.09,-115.15 294.77,-132.71 374.72,-135.04 425.92,-134.27\"/>\n<polygon fill=\"black\" stroke=\"black\" points=\"426.15,-137.76 436.08,-134.07 426.02,-130.76 426.15,-137.76\"/>\n<text text-anchor=\"middle\" x=\"323.09\" y=\"-137.95\" font-family=\"Times,serif\" font-size=\"14.00\">exposure, 0.05, -1.0</text>\n</g>\n<!-- available&#45;&gt;done -->\n<g id=\"edge2\" class=\"edge\">\n<title>available-&gt;done</title>\n<path fill=\"none\" stroke=\"black\" d=\"M208.34,-66.19C214.96,-64.7 221.66,-63.31 228.09,-62.15 266.89,-55.14 375.26,-43.59 435.77,-37.39\"/>\n<polygon fill=\"black\" stroke=\"black\" points=\"436.18,-40.87 445.77,-36.37 435.47,-33.91 436.18,-40.87\"/>\n<text text-anchor=\"middle\" x=\"323.09\" y=\"-65.95\" font-family=\"Times,serif\" font-size=\"14.00\">exposure, 0.95, -1.0</text>\n</g>\n</g>\n</svg>"
     },
     "metadata": {},
     "output_type": "display_data"
    }
   ],
   "source": [
    "def exposure_service(name: str = EXPOSURE_SERVICE_NAME, broken_prob: float = DEFAULT_BROKEN_PROB,\n",
    "                     broken_reward: float = DEFAULT_BROKEN_REWARD,\n",
    "                     action_reward: float = DEFAULT_USA_REWARD) -> Service:\n",
    "    \"\"\"Build the exposure device.\"\"\"\n",
    "    return build_generic_breakable_service(name, EXPOSURE, broken_prob=broken_prob, broken_reward=broken_reward,\n",
    "                                           action_reward=action_reward)\n",
    "\n",
    "\n",
    "service_exposure = exposure_service()\n",
    "render_service(service_exposure)"
   ]
  },
  {
   "cell_type": "code",
   "execution_count": 20,
   "metadata": {},
   "outputs": [
    {
     "data": {
      "text/plain": "<IPython.core.display.SVG object>",
      "image/svg+xml": "<svg xmlns=\"http://www.w3.org/2000/svg\" xmlns:xlink=\"http://www.w3.org/1999/xlink\" width=\"1755pt\" height=\"251pt\" viewBox=\"0.00 0.00 1754.87 250.90\">\n<g id=\"graph0\" class=\"graph\" transform=\"scale(1 1) rotate(0) translate(4 246.9)\">\n<title>%3</title>\n<polygon fill=\"white\" stroke=\"transparent\" points=\"-4,4 -4,-246.9 1750.87,-246.9 1750.87,4 -4,4\"/>\n<!-- fake -->\n<g id=\"node1\" class=\"node\">\n<title>fake</title>\n</g>\n<!-- ready -->\n<g id=\"node4\" class=\"node\">\n<title>ready</title>\n<ellipse fill=\"none\" stroke=\"black\" cx=\"139.14\" cy=\"-139.9\" rx=\"37.09\" ry=\"37.09\"/>\n<ellipse fill=\"none\" stroke=\"black\" cx=\"139.14\" cy=\"-139.9\" rx=\"41.09\" ry=\"41.09\"/>\n<text text-anchor=\"middle\" x=\"139.14\" y=\"-136.2\" font-family=\"Times,serif\" font-size=\"14.00\">ready</text>\n</g>\n<!-- fake&#45;&gt;ready -->\n<g id=\"edge1\" class=\"edge\">\n<title>fake-&gt;ready</title>\n<path fill=\"none\" stroke=\"black\" stroke-width=\"2\" d=\"M61.24,-139.9C69.48,-139.9 78.65,-139.9 87.72,-139.9\"/>\n<polygon fill=\"black\" stroke=\"black\" stroke-width=\"2\" points=\"87.85,-143.4 97.85,-139.9 87.85,-136.4 87.85,-143.4\"/>\n</g>\n<!-- configured -->\n<g id=\"node2\" class=\"node\">\n<title>configured</title>\n<ellipse fill=\"none\" stroke=\"black\" cx=\"505.69\" cy=\"-139.9\" rx=\"59.59\" ry=\"59.59\"/>\n<text text-anchor=\"middle\" x=\"505.69\" y=\"-136.2\" font-family=\"Times,serif\" font-size=\"14.00\">configured</text>\n</g>\n<!-- broken -->\n<g id=\"node5\" class=\"node\">\n<title>broken</title>\n<ellipse fill=\"none\" stroke=\"black\" cx=\"1332.08\" cy=\"-147.9\" rx=\"42.79\" ry=\"42.79\"/>\n<text text-anchor=\"middle\" x=\"1332.08\" y=\"-144.2\" font-family=\"Times,serif\" font-size=\"14.00\">broken</text>\n</g>\n<!-- configured&#45;&gt;broken -->\n<g id=\"edge4\" class=\"edge\">\n<title>configured-&gt;broken</title>\n<path fill=\"none\" stroke=\"black\" d=\"M565.65,-140.47C719.68,-141.96 1132.33,-145.97 1278.7,-147.39\"/>\n<polygon fill=\"black\" stroke=\"black\" points=\"1278.74,-150.89 1288.77,-147.48 1278.81,-143.89 1278.74,-150.89\"/>\n<text text-anchor=\"middle\" x=\"969.69\" y=\"-148.7\" font-family=\"Times,serif\" font-size=\"14.00\">checked_development, 0.05, 0.0</text>\n</g>\n<!-- executing -->\n<g id=\"node6\" class=\"node\">\n<title>executing</title>\n<ellipse fill=\"none\" stroke=\"black\" cx=\"969.69\" cy=\"-55.9\" rx=\"55.79\" ry=\"55.79\"/>\n<text text-anchor=\"middle\" x=\"969.69\" y=\"-52.2\" font-family=\"Times,serif\" font-size=\"14.00\">executing</text>\n</g>\n<!-- configured&#45;&gt;executing -->\n<g id=\"edge3\" class=\"edge\">\n<title>configured-&gt;executing</title>\n<path fill=\"none\" stroke=\"black\" d=\"M564.33,-127.65C578.64,-124.69 593.96,-121.61 608.19,-118.9 711.39,-99.21 831.69,-78.67 903.93,-66.59\"/>\n<polygon fill=\"black\" stroke=\"black\" points=\"904.95,-69.97 914.24,-64.87 903.8,-63.06 904.95,-69.97\"/>\n<text text-anchor=\"middle\" x=\"722.69\" y=\"-122.7\" font-family=\"Times,serif\" font-size=\"14.00\">checked_development, 0.95, 0.0</text>\n</g>\n<!-- repairing -->\n<g id=\"node3\" class=\"node\">\n<title>repairing</title>\n<ellipse fill=\"none\" stroke=\"black\" cx=\"1692.93\" cy=\"-183.9\" rx=\"53.89\" ry=\"53.89\"/>\n<text text-anchor=\"middle\" x=\"1692.93\" y=\"-180.2\" font-family=\"Times,serif\" font-size=\"14.00\">repairing</text>\n</g>\n<!-- repairing&#45;&gt;ready -->\n<g id=\"edge8\" class=\"edge\">\n<title>repairing-&gt;ready</title>\n<path fill=\"none\" stroke=\"black\" d=\"M1639.87,-194.32C1570.28,-207.33 1442.92,-227.9 1333.08,-227.9 504.69,-227.9 504.69,-227.9 504.69,-227.9 387.87,-227.9 255.72,-184.67 187.12,-158.81\"/>\n<polygon fill=\"black\" stroke=\"black\" points=\"188.06,-155.42 177.47,-155.12 185.57,-161.96 188.06,-155.42\"/>\n<text text-anchor=\"middle\" x=\"969.69\" y=\"-231.7\" font-family=\"Times,serif\" font-size=\"14.00\">repaired_development, 1.0, 0.0</text>\n</g>\n<!-- ready&#45;&gt;configured -->\n<g id=\"edge2\" class=\"edge\">\n<title>ready-&gt;configured</title>\n<path fill=\"none\" stroke=\"black\" d=\"M180.2,-139.9C241.58,-139.9 359.73,-139.9 435.26,-139.9\"/>\n<polygon fill=\"black\" stroke=\"black\" points=\"435.63,-143.4 445.63,-139.9 435.63,-136.4 435.63,-143.4\"/>\n<text text-anchor=\"middle\" x=\"300.69\" y=\"-143.7\" font-family=\"Times,serif\" font-size=\"14.00\">config_development, 1.0, 0.0</text>\n</g>\n<!-- broken&#45;&gt;repairing -->\n<g id=\"edge7\" class=\"edge\">\n<title>broken-&gt;repairing</title>\n<path fill=\"none\" stroke=\"black\" d=\"M1374.95,-152.1C1437.55,-158.37 1555.97,-170.26 1629.01,-177.58\"/>\n<polygon fill=\"black\" stroke=\"black\" points=\"1628.7,-181.07 1639,-178.59 1629.4,-174.1 1628.7,-181.07\"/>\n<text text-anchor=\"middle\" x=\"1506.98\" y=\"-179.7\" font-family=\"Times,serif\" font-size=\"14.00\">restore_development, 1.0, -10.0</text>\n</g>\n<!-- executing&#45;&gt;ready -->\n<g id=\"edge5\" class=\"edge\">\n<title>executing-&gt;ready</title>\n<path fill=\"none\" stroke=\"black\" d=\"M913.91,-50.68C814.92,-42.42 599.89,-29.76 421.19,-55.9 336.57,-68.27 242.04,-100.55 187.01,-121.3\"/>\n<polygon fill=\"black\" stroke=\"black\" points=\"185.64,-118.08 177.53,-124.91 188.13,-124.62 185.64,-118.08\"/>\n<text text-anchor=\"middle\" x=\"505.69\" y=\"-59.7\" font-family=\"Times,serif\" font-size=\"14.00\">development, 0.95, -1.0</text>\n</g>\n<!-- executing&#45;&gt;broken -->\n<g id=\"edge6\" class=\"edge\">\n<title>executing-&gt;broken</title>\n<path fill=\"none\" stroke=\"black\" d=\"M1025.22,-63.23C1086.26,-72.37 1187.57,-90.37 1271.19,-118.9 1275.67,-120.42 1280.25,-122.21 1284.78,-124.12\"/>\n<polygon fill=\"black\" stroke=\"black\" points=\"1283.41,-127.34 1293.97,-128.2 1286.25,-120.94 1283.41,-127.34\"/>\n<text text-anchor=\"middle\" x=\"1186.69\" y=\"-122.7\" font-family=\"Times,serif\" font-size=\"14.00\">development, 0.05, -1.0</text>\n</g>\n</g>\n</svg>"
     },
     "metadata": {},
     "output_type": "display_data"
    },
    {
     "data": {
      "text/plain": "<IPython.core.display.SVG object>",
      "image/svg+xml": "<svg xmlns=\"http://www.w3.org/2000/svg\" xmlns:xlink=\"http://www.w3.org/1999/xlink\" width=\"1737pt\" height=\"251pt\" viewBox=\"0.00 0.00 1736.87 250.90\">\n<g id=\"graph0\" class=\"graph\" transform=\"scale(1 1) rotate(0) translate(4 246.9)\">\n<title>%3</title>\n<polygon fill=\"white\" stroke=\"transparent\" points=\"-4,4 -4,-246.9 1732.87,-246.9 1732.87,4 -4,4\"/>\n<!-- fake -->\n<g id=\"node1\" class=\"node\">\n<title>fake</title>\n</g>\n<!-- ready -->\n<g id=\"node4\" class=\"node\">\n<title>ready</title>\n<ellipse fill=\"none\" stroke=\"black\" cx=\"139.14\" cy=\"-139.9\" rx=\"37.09\" ry=\"37.09\"/>\n<ellipse fill=\"none\" stroke=\"black\" cx=\"139.14\" cy=\"-139.9\" rx=\"41.09\" ry=\"41.09\"/>\n<text text-anchor=\"middle\" x=\"139.14\" y=\"-136.2\" font-family=\"Times,serif\" font-size=\"14.00\">ready</text>\n</g>\n<!-- fake&#45;&gt;ready -->\n<g id=\"edge1\" class=\"edge\">\n<title>fake-&gt;ready</title>\n<path fill=\"none\" stroke=\"black\" stroke-width=\"2\" d=\"M61.24,-139.9C69.48,-139.9 78.65,-139.9 87.72,-139.9\"/>\n<polygon fill=\"black\" stroke=\"black\" stroke-width=\"2\" points=\"87.85,-143.4 97.85,-139.9 87.85,-136.4 87.85,-143.4\"/>\n</g>\n<!-- configured -->\n<g id=\"node2\" class=\"node\">\n<title>configured</title>\n<ellipse fill=\"none\" stroke=\"black\" cx=\"501.19\" cy=\"-139.9\" rx=\"59.59\" ry=\"59.59\"/>\n<text text-anchor=\"middle\" x=\"501.19\" y=\"-136.2\" font-family=\"Times,serif\" font-size=\"14.00\">configured</text>\n</g>\n<!-- broken -->\n<g id=\"node5\" class=\"node\">\n<title>broken</title>\n<ellipse fill=\"none\" stroke=\"black\" cx=\"1314.08\" cy=\"-147.9\" rx=\"42.79\" ry=\"42.79\"/>\n<text text-anchor=\"middle\" x=\"1314.08\" y=\"-144.2\" font-family=\"Times,serif\" font-size=\"14.00\">broken</text>\n</g>\n<!-- configured&#45;&gt;broken -->\n<g id=\"edge4\" class=\"edge\">\n<title>configured-&gt;broken</title>\n<path fill=\"none\" stroke=\"black\" d=\"M561.16,-140.48C713.16,-141.98 1116.46,-145.96 1260.79,-147.38\"/>\n<polygon fill=\"black\" stroke=\"black\" points=\"1261.1,-150.88 1271.13,-147.48 1261.17,-143.88 1261.1,-150.88\"/>\n<text text-anchor=\"middle\" x=\"960.69\" y=\"-148.7\" font-family=\"Times,serif\" font-size=\"14.00\">checked_development, 0.05, 0.0</text>\n</g>\n<!-- executing -->\n<g id=\"node6\" class=\"node\">\n<title>executing</title>\n<ellipse fill=\"none\" stroke=\"black\" cx=\"960.69\" cy=\"-55.9\" rx=\"55.79\" ry=\"55.79\"/>\n<text text-anchor=\"middle\" x=\"960.69\" y=\"-52.2\" font-family=\"Times,serif\" font-size=\"14.00\">executing</text>\n</g>\n<!-- configured&#45;&gt;executing -->\n<g id=\"edge3\" class=\"edge\">\n<title>configured-&gt;executing</title>\n<path fill=\"none\" stroke=\"black\" d=\"M559.81,-127.02C572.75,-124.24 586.42,-121.39 599.19,-118.9 702.3,-98.73 822.63,-78.33 894.9,-66.41\"/>\n<polygon fill=\"black\" stroke=\"black\" points=\"895.91,-69.79 905.21,-64.72 894.77,-62.89 895.91,-69.79\"/>\n<text text-anchor=\"middle\" x=\"713.69\" y=\"-122.7\" font-family=\"Times,serif\" font-size=\"14.00\">checked_development, 0.95, 0.0</text>\n</g>\n<!-- repairing -->\n<g id=\"node3\" class=\"node\">\n<title>repairing</title>\n<ellipse fill=\"none\" stroke=\"black\" cx=\"1674.93\" cy=\"-183.9\" rx=\"53.89\" ry=\"53.89\"/>\n<text text-anchor=\"middle\" x=\"1674.93\" y=\"-180.2\" font-family=\"Times,serif\" font-size=\"14.00\">repairing</text>\n</g>\n<!-- repairing&#45;&gt;ready -->\n<g id=\"edge8\" class=\"edge\">\n<title>repairing-&gt;ready</title>\n<path fill=\"none\" stroke=\"black\" d=\"M1621.87,-194.32C1552.28,-207.33 1424.92,-227.9 1315.08,-227.9 500.19,-227.9 500.19,-227.9 500.19,-227.9 384.88,-227.9 254.6,-184.78 186.79,-158.91\"/>\n<polygon fill=\"black\" stroke=\"black\" points=\"187.84,-155.56 177.25,-155.22 185.32,-162.09 187.84,-155.56\"/>\n<text text-anchor=\"middle\" x=\"960.69\" y=\"-231.7\" font-family=\"Times,serif\" font-size=\"14.00\">repaired_development, 1.0, 0.0</text>\n</g>\n<!-- ready&#45;&gt;configured -->\n<g id=\"edge2\" class=\"edge\">\n<title>ready-&gt;configured</title>\n<path fill=\"none\" stroke=\"black\" d=\"M180.4,-139.9C241.03,-139.9 356.61,-139.9 430.95,-139.9\"/>\n<polygon fill=\"black\" stroke=\"black\" points=\"431.16,-143.4 441.16,-139.9 431.16,-136.4 431.16,-143.4\"/>\n<text text-anchor=\"middle\" x=\"300.69\" y=\"-143.7\" font-family=\"Times,serif\" font-size=\"14.00\">config_development, 1.0, 0.0</text>\n</g>\n<!-- broken&#45;&gt;repairing -->\n<g id=\"edge7\" class=\"edge\">\n<title>broken-&gt;repairing</title>\n<path fill=\"none\" stroke=\"black\" d=\"M1356.95,-152.1C1419.55,-158.37 1537.97,-170.26 1611.01,-177.58\"/>\n<polygon fill=\"black\" stroke=\"black\" points=\"1610.7,-181.07 1621,-178.59 1611.4,-174.1 1610.7,-181.07\"/>\n<text text-anchor=\"middle\" x=\"1488.98\" y=\"-179.7\" font-family=\"Times,serif\" font-size=\"14.00\">restore_development, 1.0, -10.0</text>\n</g>\n<!-- executing&#45;&gt;ready -->\n<g id=\"edge5\" class=\"edge\">\n<title>executing-&gt;ready</title>\n<path fill=\"none\" stroke=\"black\" d=\"M904.65,-50.67C806.77,-42.54 596.25,-30.29 421.19,-55.9 336.57,-68.27 242.04,-100.55 187.01,-121.3\"/>\n<polygon fill=\"black\" stroke=\"black\" points=\"185.64,-118.08 177.53,-124.91 188.13,-124.62 185.64,-118.08\"/>\n<text text-anchor=\"middle\" x=\"501.19\" y=\"-59.7\" font-family=\"Times,serif\" font-size=\"14.00\">development, 0.5, -5.0</text>\n</g>\n<!-- executing&#45;&gt;broken -->\n<g id=\"edge6\" class=\"edge\">\n<title>executing-&gt;broken</title>\n<path fill=\"none\" stroke=\"black\" d=\"M1016.2,-63.69C1075.56,-73.1 1172.79,-91.19 1253.19,-118.9 1257.48,-120.37 1261.87,-122.08 1266.22,-123.92\"/>\n<polygon fill=\"black\" stroke=\"black\" points=\"1265.08,-127.24 1275.64,-128.09 1267.91,-120.84 1265.08,-127.24\"/>\n<text text-anchor=\"middle\" x=\"1173.19\" y=\"-122.7\" font-family=\"Times,serif\" font-size=\"14.00\">development, 0.5, -5.0</text>\n</g>\n</g>\n</svg>"
     },
     "metadata": {},
     "output_type": "display_data"
    }
   ],
   "source": [
    "def development_service(name: str, broken_prob: float, unemployable_prob: float, broken_reward: float,\n",
    "                        action_reward: float) -> Service:\n",
    "    \"\"\"Build the development device.\"\"\"\n",
    "    return build_complex_breakable_service(name, DEVELOPMENT, broken_prob=broken_prob,\n",
    "                                           unemployable_prob=unemployable_prob, broken_reward=broken_reward,\n",
    "                                           action_reward=action_reward)\n",
    "\n",
    "\n",
    "service_development1 = development_service(DEVELOPMENT1_SERVICE_NAME, DEFAULT_BROKEN_PROB, DEFAULT_UNEMPLOYABLE_PROB,\n",
    "                                           DEFAULT_BROKEN_REWARD, DEFAULT_USA_REWARD)\n",
    "service_development2 = development_service(DEVELOPMENT2_SERVICE_NAME, BROKEN_PROB, DEFAULT_UNEMPLOYABLE_PROB, DEFAULT_BROKEN_REWARD, HIGH_USA_REWARD)\n",
    "render_service(service_development1)\n",
    "render_service(service_development2)\n"
   ]
  },
  {
   "cell_type": "code",
   "execution_count": 21,
   "metadata": {},
   "outputs": [
    {
     "data": {
      "text/plain": "<IPython.core.display.SVG object>",
      "image/svg+xml": "<svg xmlns=\"http://www.w3.org/2000/svg\" xmlns:xlink=\"http://www.w3.org/1999/xlink\" width=\"518pt\" height=\"183pt\" viewBox=\"0.00 0.00 517.88 183.04\">\n<g id=\"graph0\" class=\"graph\" transform=\"scale(1 1) rotate(0) translate(4 179.04)\">\n<title>%3</title>\n<polygon fill=\"white\" stroke=\"transparent\" points=\"-4,4 -4,-179.04 513.88,-179.04 513.88,4 -4,4\"/>\n<!-- fake -->\n<g id=\"node1\" class=\"node\">\n<title>fake</title>\n</g>\n<!-- available -->\n<g id=\"node4\" class=\"node\">\n<title>available</title>\n<ellipse fill=\"none\" stroke=\"black\" cx=\"154.09\" cy=\"-80.15\" rx=\"51.99\" ry=\"51.99\"/>\n<ellipse fill=\"none\" stroke=\"black\" cx=\"154.09\" cy=\"-80.15\" rx=\"55.99\" ry=\"55.99\"/>\n<text text-anchor=\"middle\" x=\"154.09\" y=\"-76.45\" font-family=\"Times,serif\" font-size=\"14.00\">available</text>\n</g>\n<!-- fake&#45;&gt;available -->\n<g id=\"edge1\" class=\"edge\">\n<title>fake-&gt;available</title>\n<path fill=\"none\" stroke=\"black\" stroke-width=\"2\" d=\"M61.28,-80.15C69.43,-80.15 78.61,-80.15 87.92,-80.15\"/>\n<polygon fill=\"black\" stroke=\"black\" stroke-width=\"2\" points=\"88.04,-83.65 98.04,-80.15 88.04,-76.65 88.04,-83.65\"/>\n</g>\n<!-- broken -->\n<g id=\"node2\" class=\"node\">\n<title>broken</title>\n<ellipse fill=\"none\" stroke=\"black\" cx=\"466.98\" cy=\"-132.15\" rx=\"42.79\" ry=\"42.79\"/>\n<text text-anchor=\"middle\" x=\"466.98\" y=\"-128.45\" font-family=\"Times,serif\" font-size=\"14.00\">broken</text>\n</g>\n<!-- broken&#45;&gt;available -->\n<g id=\"edge4\" class=\"edge\">\n<title>broken-&gt;available</title>\n<path fill=\"none\" stroke=\"black\" d=\"M431.52,-107.67C423.51,-103.07 414.77,-98.86 406.09,-96.15 372.72,-85.74 282.93,-82.09 220.34,-80.82\"/>\n<polygon fill=\"black\" stroke=\"black\" points=\"220.21,-77.32 210.15,-80.63 220.08,-84.31 220.21,-77.32\"/>\n<text text-anchor=\"middle\" x=\"317.09\" y=\"-99.95\" font-family=\"Times,serif\" font-size=\"14.00\">check_etching, 1.0, -10.0</text>\n</g>\n<!-- done -->\n<g id=\"node3\" class=\"node\">\n<title>done</title>\n<ellipse fill=\"none\" stroke=\"black\" cx=\"466.98\" cy=\"-33.15\" rx=\"33.29\" ry=\"33.29\"/>\n<text text-anchor=\"middle\" x=\"466.98\" y=\"-29.45\" font-family=\"Times,serif\" font-size=\"14.00\">done</text>\n</g>\n<!-- done&#45;&gt;available -->\n<g id=\"edge5\" class=\"edge\">\n<title>done-&gt;available</title>\n<path fill=\"none\" stroke=\"black\" d=\"M434.84,-23.95C388.31,-11.85 298.57,5.1 228.09,-20.15 218.82,-23.47 209.89,-28.53 201.64,-34.33\"/>\n<polygon fill=\"black\" stroke=\"black\" points=\"199.53,-31.53 193.64,-40.34 203.73,-37.13 199.53,-31.53\"/>\n<text text-anchor=\"middle\" x=\"317.09\" y=\"-23.95\" font-family=\"Times,serif\" font-size=\"14.00\">check_etching, 1.0, 0.0</text>\n</g>\n<!-- available&#45;&gt;broken -->\n<g id=\"edge3\" class=\"edge\">\n<title>available-&gt;broken</title>\n<path fill=\"none\" stroke=\"black\" d=\"M203.6,-106.48C211.59,-109.91 219.93,-112.99 228.09,-115.15 290.49,-131.69 365.12,-134.39 413.94,-133.97\"/>\n<polygon fill=\"black\" stroke=\"black\" points=\"414,-137.47 423.95,-133.84 413.9,-130.47 414,-137.47\"/>\n<text text-anchor=\"middle\" x=\"317.09\" y=\"-136.95\" font-family=\"Times,serif\" font-size=\"14.00\">etching, 0.05, -1.0</text>\n</g>\n<!-- available&#45;&gt;done -->\n<g id=\"edge2\" class=\"edge\">\n<title>available-&gt;done</title>\n<path fill=\"none\" stroke=\"black\" d=\"M208.35,-66.23C214.97,-64.73 221.67,-63.33 228.09,-62.15 264.57,-55.45 365.63,-44.01 423.62,-37.69\"/>\n<polygon fill=\"black\" stroke=\"black\" points=\"424.01,-41.17 433.57,-36.61 423.25,-34.21 424.01,-41.17\"/>\n<text text-anchor=\"middle\" x=\"317.09\" y=\"-65.95\" font-family=\"Times,serif\" font-size=\"14.00\">etching, 0.95, -1.0</text>\n</g>\n</g>\n</svg>"
     },
     "metadata": {},
     "output_type": "display_data"
    },
    {
     "data": {
      "text/plain": "<IPython.core.display.SVG object>",
      "image/svg+xml": "<svg xmlns=\"http://www.w3.org/2000/svg\" xmlns:xlink=\"http://www.w3.org/1999/xlink\" width=\"518pt\" height=\"183pt\" viewBox=\"0.00 0.00 517.88 183.04\">\n<g id=\"graph0\" class=\"graph\" transform=\"scale(1 1) rotate(0) translate(4 179.04)\">\n<title>%3</title>\n<polygon fill=\"white\" stroke=\"transparent\" points=\"-4,4 -4,-179.04 513.88,-179.04 513.88,4 -4,4\"/>\n<!-- fake -->\n<g id=\"node1\" class=\"node\">\n<title>fake</title>\n</g>\n<!-- available -->\n<g id=\"node4\" class=\"node\">\n<title>available</title>\n<ellipse fill=\"none\" stroke=\"black\" cx=\"154.09\" cy=\"-80.15\" rx=\"51.99\" ry=\"51.99\"/>\n<ellipse fill=\"none\" stroke=\"black\" cx=\"154.09\" cy=\"-80.15\" rx=\"55.99\" ry=\"55.99\"/>\n<text text-anchor=\"middle\" x=\"154.09\" y=\"-76.45\" font-family=\"Times,serif\" font-size=\"14.00\">available</text>\n</g>\n<!-- fake&#45;&gt;available -->\n<g id=\"edge1\" class=\"edge\">\n<title>fake-&gt;available</title>\n<path fill=\"none\" stroke=\"black\" stroke-width=\"2\" d=\"M61.28,-80.15C69.43,-80.15 78.61,-80.15 87.92,-80.15\"/>\n<polygon fill=\"black\" stroke=\"black\" stroke-width=\"2\" points=\"88.04,-83.65 98.04,-80.15 88.04,-76.65 88.04,-83.65\"/>\n</g>\n<!-- broken -->\n<g id=\"node2\" class=\"node\">\n<title>broken</title>\n<ellipse fill=\"none\" stroke=\"black\" cx=\"466.98\" cy=\"-132.15\" rx=\"42.79\" ry=\"42.79\"/>\n<text text-anchor=\"middle\" x=\"466.98\" y=\"-128.45\" font-family=\"Times,serif\" font-size=\"14.00\">broken</text>\n</g>\n<!-- broken&#45;&gt;available -->\n<g id=\"edge4\" class=\"edge\">\n<title>broken-&gt;available</title>\n<path fill=\"none\" stroke=\"black\" d=\"M431.52,-107.67C423.51,-103.07 414.77,-98.86 406.09,-96.15 372.72,-85.74 282.93,-82.09 220.34,-80.82\"/>\n<polygon fill=\"black\" stroke=\"black\" points=\"220.21,-77.32 210.15,-80.63 220.08,-84.31 220.21,-77.32\"/>\n<text text-anchor=\"middle\" x=\"317.09\" y=\"-99.95\" font-family=\"Times,serif\" font-size=\"14.00\">check_etching, 1.0, -10.0</text>\n</g>\n<!-- done -->\n<g id=\"node3\" class=\"node\">\n<title>done</title>\n<ellipse fill=\"none\" stroke=\"black\" cx=\"466.98\" cy=\"-33.15\" rx=\"33.29\" ry=\"33.29\"/>\n<text text-anchor=\"middle\" x=\"466.98\" y=\"-29.45\" font-family=\"Times,serif\" font-size=\"14.00\">done</text>\n</g>\n<!-- done&#45;&gt;available -->\n<g id=\"edge5\" class=\"edge\">\n<title>done-&gt;available</title>\n<path fill=\"none\" stroke=\"black\" d=\"M434.84,-23.95C388.31,-11.85 298.57,5.1 228.09,-20.15 218.82,-23.47 209.89,-28.53 201.64,-34.33\"/>\n<polygon fill=\"black\" stroke=\"black\" points=\"199.53,-31.53 193.64,-40.34 203.73,-37.13 199.53,-31.53\"/>\n<text text-anchor=\"middle\" x=\"317.09\" y=\"-23.95\" font-family=\"Times,serif\" font-size=\"14.00\">check_etching, 1.0, 0.0</text>\n</g>\n<!-- available&#45;&gt;broken -->\n<g id=\"edge3\" class=\"edge\">\n<title>available-&gt;broken</title>\n<path fill=\"none\" stroke=\"black\" d=\"M203.6,-106.48C211.59,-109.91 219.93,-112.99 228.09,-115.15 290.49,-131.69 365.12,-134.39 413.94,-133.97\"/>\n<polygon fill=\"black\" stroke=\"black\" points=\"414,-137.47 423.95,-133.84 413.9,-130.47 414,-137.47\"/>\n<text text-anchor=\"middle\" x=\"317.09\" y=\"-136.95\" font-family=\"Times,serif\" font-size=\"14.00\">etching, 0.5, -5.0</text>\n</g>\n<!-- available&#45;&gt;done -->\n<g id=\"edge2\" class=\"edge\">\n<title>available-&gt;done</title>\n<path fill=\"none\" stroke=\"black\" d=\"M208.35,-66.23C214.97,-64.73 221.67,-63.33 228.09,-62.15 264.57,-55.45 365.63,-44.01 423.62,-37.69\"/>\n<polygon fill=\"black\" stroke=\"black\" points=\"424.01,-41.17 433.57,-36.61 423.25,-34.21 424.01,-41.17\"/>\n<text text-anchor=\"middle\" x=\"317.09\" y=\"-65.95\" font-family=\"Times,serif\" font-size=\"14.00\">etching, 0.5, -5.0</text>\n</g>\n</g>\n</svg>"
     },
     "metadata": {},
     "output_type": "display_data"
    }
   ],
   "source": [
    "def etching_service(name: str, broken_prob: float, broken_reward: float, action_reward: float) -> Service:\n",
    "    \"\"\"Build the etching device.\"\"\"\n",
    "    return build_generic_breakable_service(name, ETCHING, broken_prob=broken_prob, broken_reward=broken_reward,\n",
    "                                           action_reward=action_reward)\n",
    "\n",
    "\n",
    "service_etching1 = etching_service(ETCHING1_SERVICE_NAME, DEFAULT_BROKEN_PROB, DEFAULT_BROKEN_REWARD,\n",
    "                                   DEFAULT_USA_REWARD)\n",
    "service_etching2 = etching_service(ETCHING2_SERVICE_NAME, BROKEN_PROB, DEFAULT_BROKEN_REWARD, HIGH_USA_REWARD)\n",
    "render_service(service_etching1)\n",
    "render_service(service_etching2)\n"
   ]
  },
  {
   "cell_type": "code",
   "execution_count": 22,
   "metadata": {},
   "outputs": [
    {
     "data": {
      "text/plain": "<IPython.core.display.SVG object>",
      "image/svg+xml": "<svg xmlns=\"http://www.w3.org/2000/svg\" xmlns:xlink=\"http://www.w3.org/1999/xlink\" width=\"2229pt\" height=\"251pt\" viewBox=\"0.00 0.00 2228.87 250.90\">\n<g id=\"graph0\" class=\"graph\" transform=\"scale(1 1) rotate(0) translate(4 246.9)\">\n<title>%3</title>\n<polygon fill=\"white\" stroke=\"transparent\" points=\"-4,4 -4,-246.9 2224.87,-246.9 2224.87,4 -4,4\"/>\n<!-- fake -->\n<g id=\"node1\" class=\"node\">\n<title>fake</title>\n</g>\n<!-- ready -->\n<g id=\"node4\" class=\"node\">\n<title>ready</title>\n<ellipse fill=\"none\" stroke=\"black\" cx=\"139.14\" cy=\"-139.9\" rx=\"37.09\" ry=\"37.09\"/>\n<ellipse fill=\"none\" stroke=\"black\" cx=\"139.14\" cy=\"-139.9\" rx=\"41.09\" ry=\"41.09\"/>\n<text text-anchor=\"middle\" x=\"139.14\" y=\"-136.2\" font-family=\"Times,serif\" font-size=\"14.00\">ready</text>\n</g>\n<!-- fake&#45;&gt;ready -->\n<g id=\"edge1\" class=\"edge\">\n<title>fake-&gt;ready</title>\n<path fill=\"none\" stroke=\"black\" stroke-width=\"2\" d=\"M61.24,-139.9C69.48,-139.9 78.65,-139.9 87.72,-139.9\"/>\n<polygon fill=\"black\" stroke=\"black\" stroke-width=\"2\" points=\"87.85,-143.4 97.85,-139.9 87.85,-136.4 87.85,-143.4\"/>\n</g>\n<!-- configured -->\n<g id=\"node2\" class=\"node\">\n<title>configured</title>\n<ellipse fill=\"none\" stroke=\"black\" cx=\"624.19\" cy=\"-139.9\" rx=\"59.59\" ry=\"59.59\"/>\n<text text-anchor=\"middle\" x=\"624.19\" y=\"-136.2\" font-family=\"Times,serif\" font-size=\"14.00\">configured</text>\n</g>\n<!-- broken -->\n<g id=\"node5\" class=\"node\">\n<title>broken</title>\n<ellipse fill=\"none\" stroke=\"black\" cx=\"1727.08\" cy=\"-147.9\" rx=\"42.79\" ry=\"42.79\"/>\n<text text-anchor=\"middle\" x=\"1727.08\" y=\"-144.2\" font-family=\"Times,serif\" font-size=\"14.00\">broken</text>\n</g>\n<!-- configured&#45;&gt;broken -->\n<g id=\"edge4\" class=\"edge\">\n<title>configured-&gt;broken</title>\n<path fill=\"none\" stroke=\"black\" d=\"M683.99,-140.32C877.18,-141.73 1490.5,-146.18 1673.83,-147.52\"/>\n<polygon fill=\"black\" stroke=\"black\" points=\"1673.99,-151.02 1684.02,-147.59 1674.04,-144.02 1673.99,-151.02\"/>\n<text text-anchor=\"middle\" x=\"1246.19\" y=\"-148.7\" font-family=\"Times,serif\" font-size=\"14.00\">checked_impurities_implantation, 0.05, 0.0</text>\n</g>\n<!-- executing -->\n<g id=\"node6\" class=\"node\">\n<title>executing</title>\n<ellipse fill=\"none\" stroke=\"black\" cx=\"1246.19\" cy=\"-55.9\" rx=\"55.79\" ry=\"55.79\"/>\n<text text-anchor=\"middle\" x=\"1246.19\" y=\"-52.2\" font-family=\"Times,serif\" font-size=\"14.00\">executing</text>\n</g>\n<!-- configured&#45;&gt;executing -->\n<g id=\"edge3\" class=\"edge\">\n<title>configured-&gt;executing</title>\n<path fill=\"none\" stroke=\"black\" d=\"M683.47,-130.99C708.86,-127.16 738.98,-122.71 766.19,-118.9 914.3,-98.13 1088.48,-75.72 1180.55,-64.04\"/>\n<polygon fill=\"black\" stroke=\"black\" points=\"1181.07,-67.5 1190.55,-62.77 1180.19,-60.56 1181.07,-67.5\"/>\n<text text-anchor=\"middle\" x=\"920.19\" y=\"-122.7\" font-family=\"Times,serif\" font-size=\"14.00\">checked_impurities_implantation, 0.95, 0.0</text>\n</g>\n<!-- repairing -->\n<g id=\"node3\" class=\"node\">\n<title>repairing</title>\n<ellipse fill=\"none\" stroke=\"black\" cx=\"2166.93\" cy=\"-183.9\" rx=\"53.89\" ry=\"53.89\"/>\n<text text-anchor=\"middle\" x=\"2166.93\" y=\"-180.2\" font-family=\"Times,serif\" font-size=\"14.00\">repairing</text>\n</g>\n<!-- repairing&#45;&gt;ready -->\n<g id=\"edge8\" class=\"edge\">\n<title>repairing-&gt;ready</title>\n<path fill=\"none\" stroke=\"black\" d=\"M2113.69,-193.22C2107.4,-194.2 2101.05,-195.12 2094.98,-195.9 1932.62,-216.67 1891.77,-227.9 1728.08,-227.9 623.19,-227.9 623.19,-227.9 623.19,-227.9 431.83,-227.9 384.06,-204.42 198.19,-158.9 194.79,-158.06 191.3,-157.13 187.81,-156.13\"/>\n<polygon fill=\"black\" stroke=\"black\" points=\"188.58,-152.71 178,-153.2 186.57,-159.42 188.58,-152.71\"/>\n<text text-anchor=\"middle\" x=\"1246.19\" y=\"-231.7\" font-family=\"Times,serif\" font-size=\"14.00\">repaired_impurities_implantation, 1.0, 0.0</text>\n</g>\n<!-- ready&#45;&gt;configured -->\n<g id=\"edge2\" class=\"edge\">\n<title>ready-&gt;configured</title>\n<path fill=\"none\" stroke=\"black\" d=\"M180.49,-139.9C262.92,-139.9 451.46,-139.9 553.88,-139.9\"/>\n<polygon fill=\"black\" stroke=\"black\" points=\"554.12,-143.4 564.12,-139.9 554.12,-136.4 554.12,-143.4\"/>\n<text text-anchor=\"middle\" x=\"340.19\" y=\"-143.7\" font-family=\"Times,serif\" font-size=\"14.00\">config_impurities_implantation, 1.0, 0.0</text>\n</g>\n<!-- broken&#45;&gt;repairing -->\n<g id=\"edge7\" class=\"edge\">\n<title>broken-&gt;repairing</title>\n<path fill=\"none\" stroke=\"black\" d=\"M1770.07,-151.35C1847.25,-157.69 2012.07,-171.25 2102.8,-178.7\"/>\n<polygon fill=\"black\" stroke=\"black\" points=\"2102.7,-182.21 2112.95,-179.54 2103.27,-175.23 2102.7,-182.21\"/>\n<text text-anchor=\"middle\" x=\"1941.48\" y=\"-180.7\" font-family=\"Times,serif\" font-size=\"14.00\">restore_impurities_implantation, 1.0, -10.0</text>\n</g>\n<!-- executing&#45;&gt;ready -->\n<g id=\"edge5\" class=\"edge\">\n<title>executing-&gt;ready</title>\n<path fill=\"none\" stroke=\"black\" d=\"M1190.26,-51.62C1066.55,-42.91 756.85,-26.35 500.19,-55.9 386.54,-68.98 256.61,-104.56 188.17,-124.97\"/>\n<polygon fill=\"black\" stroke=\"black\" points=\"187.09,-121.64 178.52,-127.87 189.11,-128.34 187.09,-121.64\"/>\n<text text-anchor=\"middle\" x=\"624.19\" y=\"-59.7\" font-family=\"Times,serif\" font-size=\"14.00\">impurities_implantation, 0.95, -1.0</text>\n</g>\n<!-- executing&#45;&gt;broken -->\n<g id=\"edge6\" class=\"edge\">\n<title>executing-&gt;broken</title>\n<path fill=\"none\" stroke=\"black\" d=\"M1302.26,-58.88C1383.5,-64.47 1539.52,-79.7 1666.19,-118.9 1670.71,-120.29 1675.32,-121.99 1679.87,-123.85\"/>\n<polygon fill=\"black\" stroke=\"black\" points=\"1678.52,-127.08 1689.09,-127.85 1681.31,-120.66 1678.52,-127.08\"/>\n<text text-anchor=\"middle\" x=\"1542.19\" y=\"-122.7\" font-family=\"Times,serif\" font-size=\"14.00\">impurities_implantation, 0.05, -1.0</text>\n</g>\n</g>\n</svg>"
     },
     "metadata": {},
     "output_type": "display_data"
    }
   ],
   "source": [
    "def impurities_implantation_service(name: str, broken_prob: float, unemployable_prob: float, broken_reward: float,\n",
    "                                    action_reward: float) -> Service:\n",
    "    \"\"\"Build the impurities implantation device.\"\"\"\n",
    "    return build_complex_breakable_service(name, IMPURITIES_IMPLANTATION, broken_prob=broken_prob,\n",
    "                                           unemployable_prob=unemployable_prob, broken_reward=broken_reward,\n",
    "                                           action_reward=action_reward)\n",
    "\n",
    "\n",
    "service_impurities_implantation = impurities_implantation_service(IMPURITIES_IMPLANTATION_SERVICE_NAME,\n",
    "                                                                   DEFAULT_BROKEN_PROB, DEFAULT_UNEMPLOYABLE_PROB,\n",
    "                                                                   DEFAULT_BROKEN_REWARD, DEFAULT_USA_REWARD)\n",
    "render_service(service_impurities_implantation)"
   ]
  },
  {
   "cell_type": "code",
   "execution_count": 23,
   "metadata": {},
   "outputs": [
    {
     "data": {
      "text/plain": "<IPython.core.display.SVG object>",
      "image/svg+xml": "<svg xmlns=\"http://www.w3.org/2000/svg\" xmlns:xlink=\"http://www.w3.org/1999/xlink\" width=\"217pt\" height=\"123pt\" viewBox=\"0.00 0.00 216.64 123.09\">\n<g id=\"graph0\" class=\"graph\" transform=\"scale(1 1) rotate(0) translate(4 119.09)\">\n<title>%3</title>\n<polygon fill=\"white\" stroke=\"transparent\" points=\"-4,4 -4,-119.09 212.64,-119.09 212.64,4 -4,4\"/>\n<!-- fake -->\n<g id=\"node1\" class=\"node\">\n<title>fake</title>\n</g>\n<!-- ready -->\n<g id=\"node2\" class=\"node\">\n<title>ready</title>\n<ellipse fill=\"none\" stroke=\"black\" cx=\"139.14\" cy=\"-41.05\" rx=\"37.09\" ry=\"37.09\"/>\n<ellipse fill=\"none\" stroke=\"black\" cx=\"139.14\" cy=\"-41.05\" rx=\"41.09\" ry=\"41.09\"/>\n<text text-anchor=\"middle\" x=\"139.14\" y=\"-37.35\" font-family=\"Times,serif\" font-size=\"14.00\">ready</text>\n</g>\n<!-- fake&#45;&gt;ready -->\n<g id=\"edge1\" class=\"edge\">\n<title>fake-&gt;ready</title>\n<path fill=\"none\" stroke=\"black\" stroke-width=\"2\" d=\"M61.24,-41.05C69.48,-41.05 78.65,-41.05 87.72,-41.05\"/>\n<polygon fill=\"black\" stroke=\"black\" stroke-width=\"2\" points=\"87.85,-44.55 97.85,-41.05 87.85,-37.55 87.85,-44.55\"/>\n</g>\n<!-- ready&#45;&gt;ready -->\n<g id=\"edge2\" class=\"edge\">\n<title>ready-&gt;ready</title>\n<path fill=\"none\" stroke=\"black\" d=\"M128.33,-80.79C128.85,-91.73 132.46,-100.09 139.14,-100.09 143.53,-100.09 146.59,-96.49 148.32,-90.92\"/>\n<polygon fill=\"black\" stroke=\"black\" points=\"151.82,-91.21 149.95,-80.79 144.91,-90.1 151.82,-91.21\"/>\n<text text-anchor=\"middle\" x=\"139.14\" y=\"-103.89\" font-family=\"Times,serif\" font-size=\"14.00\">activation, 1.0, -2.0</text>\n</g>\n</g>\n</svg>"
     },
     "metadata": {},
     "output_type": "display_data"
    }
   ],
   "source": [
    "def activation_service(name: str = ACTIVATION_SERVICE_NAME, action_reward: float = USA_REWARD) -> Service:\n",
    "    \"\"\"Build the human activation device.\"\"\"\n",
    "    return build_generic_service_one_state(\n",
    "        name,\n",
    "        {ACTIVATION},\n",
    "        action_reward=action_reward\n",
    "    )\n",
    "\n",
    "\n",
    "service_activation = activation_service()\n",
    "render_service(service_activation)\n"
   ]
  },
  {
   "cell_type": "code",
   "execution_count": 24,
   "metadata": {},
   "outputs": [
    {
     "data": {
      "text/plain": "<IPython.core.display.SVG object>",
      "image/svg+xml": "<svg xmlns=\"http://www.w3.org/2000/svg\" xmlns:xlink=\"http://www.w3.org/1999/xlink\" width=\"577pt\" height=\"183pt\" viewBox=\"0.00 0.00 576.88 183.04\">\n<g id=\"graph0\" class=\"graph\" transform=\"scale(1 1) rotate(0) translate(4 179.04)\">\n<title>%3</title>\n<polygon fill=\"white\" stroke=\"transparent\" points=\"-4,4 -4,-179.04 572.88,-179.04 572.88,4 -4,4\"/>\n<!-- fake -->\n<g id=\"node1\" class=\"node\">\n<title>fake</title>\n</g>\n<!-- available -->\n<g id=\"node4\" class=\"node\">\n<title>available</title>\n<ellipse fill=\"none\" stroke=\"black\" cx=\"154.09\" cy=\"-80.15\" rx=\"51.99\" ry=\"51.99\"/>\n<ellipse fill=\"none\" stroke=\"black\" cx=\"154.09\" cy=\"-80.15\" rx=\"55.99\" ry=\"55.99\"/>\n<text text-anchor=\"middle\" x=\"154.09\" y=\"-76.45\" font-family=\"Times,serif\" font-size=\"14.00\">available</text>\n</g>\n<!-- fake&#45;&gt;available -->\n<g id=\"edge1\" class=\"edge\">\n<title>fake-&gt;available</title>\n<path fill=\"none\" stroke=\"black\" stroke-width=\"2\" d=\"M61.28,-80.15C69.43,-80.15 78.61,-80.15 87.92,-80.15\"/>\n<polygon fill=\"black\" stroke=\"black\" stroke-width=\"2\" points=\"88.04,-83.65 98.04,-80.15 88.04,-76.65 88.04,-83.65\"/>\n</g>\n<!-- broken -->\n<g id=\"node2\" class=\"node\">\n<title>broken</title>\n<ellipse fill=\"none\" stroke=\"black\" cx=\"525.98\" cy=\"-132.15\" rx=\"42.79\" ry=\"42.79\"/>\n<text text-anchor=\"middle\" x=\"525.98\" y=\"-128.45\" font-family=\"Times,serif\" font-size=\"14.00\">broken</text>\n</g>\n<!-- broken&#45;&gt;available -->\n<g id=\"edge4\" class=\"edge\">\n<title>broken-&gt;available</title>\n<path fill=\"none\" stroke=\"black\" d=\"M490.55,-107.59C482.53,-102.99 473.79,-98.8 465.09,-96.15 421,-82.68 297.41,-80.07 220.25,-79.82\"/>\n<polygon fill=\"black\" stroke=\"black\" points=\"220.16,-76.32 210.15,-79.8 220.15,-83.32 220.16,-76.32\"/>\n<text text-anchor=\"middle\" x=\"346.59\" y=\"-99.95\" font-family=\"Times,serif\" font-size=\"14.00\">check_resist_stripping, 1.0, -10.0</text>\n</g>\n<!-- done -->\n<g id=\"node3\" class=\"node\">\n<title>done</title>\n<ellipse fill=\"none\" stroke=\"black\" cx=\"525.98\" cy=\"-33.15\" rx=\"33.29\" ry=\"33.29\"/>\n<text text-anchor=\"middle\" x=\"525.98\" y=\"-29.45\" font-family=\"Times,serif\" font-size=\"14.00\">done</text>\n</g>\n<!-- done&#45;&gt;available -->\n<g id=\"edge5\" class=\"edge\">\n<title>done-&gt;available</title>\n<path fill=\"none\" stroke=\"black\" d=\"M493.92,-24.3C438.59,-10.14 320.13,12.83 228.09,-20.15 218.82,-23.47 209.89,-28.53 201.64,-34.33\"/>\n<polygon fill=\"black\" stroke=\"black\" points=\"199.53,-31.53 193.64,-40.34 203.73,-37.13 199.53,-31.53\"/>\n<text text-anchor=\"middle\" x=\"346.59\" y=\"-23.95\" font-family=\"Times,serif\" font-size=\"14.00\">check_resist_stripping, 1.0, 0.0</text>\n</g>\n<!-- available&#45;&gt;broken -->\n<g id=\"edge3\" class=\"edge\">\n<title>available-&gt;broken</title>\n<path fill=\"none\" stroke=\"black\" d=\"M203.58,-106.58C211.57,-110 219.92,-113.04 228.09,-115.15 311.74,-136.7 412.87,-137.34 472.9,-135.2\"/>\n<polygon fill=\"black\" stroke=\"black\" points=\"473.04,-138.7 482.89,-134.8 472.76,-131.7 473.04,-138.7\"/>\n<text text-anchor=\"middle\" x=\"346.59\" y=\"-138.95\" font-family=\"Times,serif\" font-size=\"14.00\">resist_stripping, 0.05, -1.0</text>\n</g>\n<!-- available&#45;&gt;done -->\n<g id=\"edge2\" class=\"edge\">\n<title>available-&gt;done</title>\n<path fill=\"none\" stroke=\"black\" d=\"M208.32,-66.07C214.95,-64.6 221.65,-63.25 228.09,-62.15 332.4,-44.32 359.77,-49.53 465.09,-39.15 470.88,-38.58 476.99,-37.97 483.01,-37.37\"/>\n<polygon fill=\"black\" stroke=\"black\" points=\"483.36,-40.85 492.97,-36.37 482.67,-33.88 483.36,-40.85\"/>\n<text text-anchor=\"middle\" x=\"346.59\" y=\"-65.95\" font-family=\"Times,serif\" font-size=\"14.00\">resist_stripping, 0.95, -1.0</text>\n</g>\n</g>\n</svg>"
     },
     "metadata": {},
     "output_type": "display_data"
    }
   ],
   "source": [
    "def resist_stripping_service(name: str, broken_prob: float, broken_reward: float, action_reward: float) -> Service:\n",
    "    \"\"\"Build the resist stripping device.\"\"\"\n",
    "    return build_generic_breakable_service(name, RESIST_STRIPPING, broken_prob=broken_prob, broken_reward=broken_reward,\n",
    "                                           action_reward=action_reward)\n",
    "\n",
    "\n",
    "service_resist_stripping = resist_stripping_service(RESIST_STRIPPING_SERVICE_NAME, DEFAULT_BROKEN_PROB,\n",
    "                                                     DEFAULT_BROKEN_REWARD, DEFAULT_USA_REWARD)\n",
    "render_service(service_resist_stripping)"
   ]
  },
  {
   "cell_type": "code",
   "execution_count": 25,
   "metadata": {},
   "outputs": [
    {
     "data": {
      "text/plain": "<IPython.core.display.SVG object>",
      "image/svg+xml": "<svg xmlns=\"http://www.w3.org/2000/svg\" xmlns:xlink=\"http://www.w3.org/1999/xlink\" width=\"214pt\" height=\"123pt\" viewBox=\"0.00 0.00 213.64 123.09\">\n<g id=\"graph0\" class=\"graph\" transform=\"scale(1 1) rotate(0) translate(4 119.09)\">\n<title>%3</title>\n<polygon fill=\"white\" stroke=\"transparent\" points=\"-4,4 -4,-119.09 209.64,-119.09 209.64,4 -4,4\"/>\n<!-- fake -->\n<g id=\"node1\" class=\"node\">\n<title>fake</title>\n</g>\n<!-- ready -->\n<g id=\"node2\" class=\"node\">\n<title>ready</title>\n<ellipse fill=\"none\" stroke=\"black\" cx=\"139.14\" cy=\"-41.05\" rx=\"37.09\" ry=\"37.09\"/>\n<ellipse fill=\"none\" stroke=\"black\" cx=\"139.14\" cy=\"-41.05\" rx=\"41.09\" ry=\"41.09\"/>\n<text text-anchor=\"middle\" x=\"139.14\" y=\"-37.35\" font-family=\"Times,serif\" font-size=\"14.00\">ready</text>\n</g>\n<!-- fake&#45;&gt;ready -->\n<g id=\"edge1\" class=\"edge\">\n<title>fake-&gt;ready</title>\n<path fill=\"none\" stroke=\"black\" stroke-width=\"2\" d=\"M61.24,-41.05C69.48,-41.05 78.65,-41.05 87.72,-41.05\"/>\n<polygon fill=\"black\" stroke=\"black\" stroke-width=\"2\" points=\"87.85,-44.55 97.85,-41.05 87.85,-37.55 87.85,-44.55\"/>\n</g>\n<!-- ready&#45;&gt;ready -->\n<g id=\"edge2\" class=\"edge\">\n<title>ready-&gt;ready</title>\n<path fill=\"none\" stroke=\"black\" d=\"M128.33,-80.79C128.85,-91.73 132.46,-100.09 139.14,-100.09 143.53,-100.09 146.59,-96.49 148.32,-90.92\"/>\n<polygon fill=\"black\" stroke=\"black\" points=\"151.82,-91.21 149.95,-80.79 144.91,-90.1 151.82,-91.21\"/>\n<text text-anchor=\"middle\" x=\"139.14\" y=\"-103.89\" font-family=\"Times,serif\" font-size=\"14.00\">assembly, 1.0, -2.0</text>\n</g>\n</g>\n</svg>"
     },
     "metadata": {},
     "output_type": "display_data"
    }
   ],
   "source": [
    "def assembly_service(name: str = ASSEMBLY_SERVICE_NAME, action_reward: float = USA_REWARD) -> Service:\n",
    "    \"\"\"Build the human assembly device.\"\"\"\n",
    "    return build_generic_service_one_state(\n",
    "        name,\n",
    "        {ASSEMBLY},\n",
    "        action_reward=action_reward\n",
    "    )\n",
    "\n",
    "\n",
    "service_assembly = assembly_service()\n",
    "render_service(service_assembly)"
   ]
  },
  {
   "cell_type": "code",
   "execution_count": 26,
   "metadata": {},
   "outputs": [
    {
     "data": {
      "text/plain": "<IPython.core.display.SVG object>",
      "image/svg+xml": "<svg xmlns=\"http://www.w3.org/2000/svg\" xmlns:xlink=\"http://www.w3.org/1999/xlink\" width=\"206pt\" height=\"123pt\" viewBox=\"0.00 0.00 206.14 123.09\">\n<g id=\"graph0\" class=\"graph\" transform=\"scale(1 1) rotate(0) translate(4 119.09)\">\n<title>%3</title>\n<polygon fill=\"white\" stroke=\"transparent\" points=\"-4,4 -4,-119.09 202.14,-119.09 202.14,4 -4,4\"/>\n<!-- fake -->\n<g id=\"node1\" class=\"node\">\n<title>fake</title>\n</g>\n<!-- ready -->\n<g id=\"node2\" class=\"node\">\n<title>ready</title>\n<ellipse fill=\"none\" stroke=\"black\" cx=\"139.14\" cy=\"-41.05\" rx=\"37.09\" ry=\"37.09\"/>\n<ellipse fill=\"none\" stroke=\"black\" cx=\"139.14\" cy=\"-41.05\" rx=\"41.09\" ry=\"41.09\"/>\n<text text-anchor=\"middle\" x=\"139.14\" y=\"-37.35\" font-family=\"Times,serif\" font-size=\"14.00\">ready</text>\n</g>\n<!-- fake&#45;&gt;ready -->\n<g id=\"edge1\" class=\"edge\">\n<title>fake-&gt;ready</title>\n<path fill=\"none\" stroke=\"black\" stroke-width=\"2\" d=\"M61.24,-41.05C69.48,-41.05 78.65,-41.05 87.72,-41.05\"/>\n<polygon fill=\"black\" stroke=\"black\" stroke-width=\"2\" points=\"87.85,-44.55 97.85,-41.05 87.85,-37.55 87.85,-44.55\"/>\n</g>\n<!-- ready&#45;&gt;ready -->\n<g id=\"edge2\" class=\"edge\">\n<title>ready-&gt;ready</title>\n<path fill=\"none\" stroke=\"black\" d=\"M128.33,-80.79C128.85,-91.73 132.46,-100.09 139.14,-100.09 143.53,-100.09 146.59,-96.49 148.32,-90.92\"/>\n<polygon fill=\"black\" stroke=\"black\" points=\"151.82,-91.21 149.95,-80.79 144.91,-90.1 151.82,-91.21\"/>\n<text text-anchor=\"middle\" x=\"139.14\" y=\"-103.89\" font-family=\"Times,serif\" font-size=\"14.00\">testing, 1.0, -2.0</text>\n</g>\n</g>\n</svg>"
     },
     "metadata": {},
     "output_type": "display_data"
    }
   ],
   "source": [
    "def testing_service(name: str = TESTING_SERVICE_NAME, action_reward: float = USA_REWARD) -> Service:\n",
    "    \"\"\"Build the human testing device.\"\"\"\n",
    "    return build_generic_service_one_state(\n",
    "        name,\n",
    "        {TESTING},\n",
    "        action_reward=action_reward\n",
    "    )\n",
    "\n",
    "\n",
    "service_testing = testing_service()\n",
    "render_service(service_testing)\n"
   ]
  },
  {
   "cell_type": "code",
   "execution_count": 27,
   "metadata": {},
   "outputs": [
    {
     "data": {
      "text/plain": "<IPython.core.display.SVG object>",
      "image/svg+xml": "<svg xmlns=\"http://www.w3.org/2000/svg\" xmlns:xlink=\"http://www.w3.org/1999/xlink\" width=\"218pt\" height=\"123pt\" viewBox=\"0.00 0.00 217.64 123.09\">\n<g id=\"graph0\" class=\"graph\" transform=\"scale(1 1) rotate(0) translate(4 119.09)\">\n<title>%3</title>\n<polygon fill=\"white\" stroke=\"transparent\" points=\"-4,4 -4,-119.09 213.64,-119.09 213.64,4 -4,4\"/>\n<!-- fake -->\n<g id=\"node1\" class=\"node\">\n<title>fake</title>\n</g>\n<!-- ready -->\n<g id=\"node2\" class=\"node\">\n<title>ready</title>\n<ellipse fill=\"none\" stroke=\"black\" cx=\"139.14\" cy=\"-41.05\" rx=\"37.09\" ry=\"37.09\"/>\n<ellipse fill=\"none\" stroke=\"black\" cx=\"139.14\" cy=\"-41.05\" rx=\"41.09\" ry=\"41.09\"/>\n<text text-anchor=\"middle\" x=\"139.14\" y=\"-37.35\" font-family=\"Times,serif\" font-size=\"14.00\">ready</text>\n</g>\n<!-- fake&#45;&gt;ready -->\n<g id=\"edge1\" class=\"edge\">\n<title>fake-&gt;ready</title>\n<path fill=\"none\" stroke=\"black\" stroke-width=\"2\" d=\"M61.24,-41.05C69.48,-41.05 78.65,-41.05 87.72,-41.05\"/>\n<polygon fill=\"black\" stroke=\"black\" stroke-width=\"2\" points=\"87.85,-44.55 97.85,-41.05 87.85,-37.55 87.85,-44.55\"/>\n</g>\n<!-- ready&#45;&gt;ready -->\n<g id=\"edge2\" class=\"edge\">\n<title>ready-&gt;ready</title>\n<path fill=\"none\" stroke=\"black\" d=\"M128.33,-80.79C128.85,-91.73 132.46,-100.09 139.14,-100.09 143.53,-100.09 146.59,-96.49 148.32,-90.92\"/>\n<polygon fill=\"black\" stroke=\"black\" points=\"151.82,-91.21 149.95,-80.79 144.91,-90.1 151.82,-91.21\"/>\n<text text-anchor=\"middle\" x=\"139.14\" y=\"-103.89\" font-family=\"Times,serif\" font-size=\"14.00\">packaging, 1.0, -2.0</text>\n</g>\n</g>\n</svg>"
     },
     "metadata": {},
     "output_type": "display_data"
    }
   ],
   "source": [
    "def packaging_service(name: str = PACKAGING_SERVICE_NAME, action_reward: float = USA_REWARD) -> Service:\n",
    "    \"\"\"Build the human packaging device.\"\"\"\n",
    "    return build_generic_service_one_state(\n",
    "        name,\n",
    "        {PACKAGING},\n",
    "        action_reward=action_reward\n",
    "    )\n",
    "\n",
    "\n",
    "service_packaging = packaging_service()\n",
    "render_service(service_packaging)"
   ]
  },
  {
   "cell_type": "markdown",
   "metadata": {},
   "source": [
    "# First Phase - Raw materials and design assortment\n",
    "## Target Specification\n",
    "The target specification of the first phase is defined as follows:"
   ]
  },
  {
   "cell_type": "code",
   "execution_count": 28,
   "metadata": {},
   "outputs": [
    {
     "data": {
      "text/plain": "<IPython.core.display.SVG object>",
      "image/svg+xml": "<svg xmlns=\"http://www.w3.org/2000/svg\" xmlns:xlink=\"http://www.w3.org/1999/xlink\" width=\"2565pt\" height=\"44pt\" viewBox=\"0.00 0.00 2565.09 44.00\">\n<g id=\"graph0\" class=\"graph\" transform=\"scale(1 1) rotate(0) translate(4 40)\">\n<title>%3</title>\n<polygon fill=\"white\" stroke=\"transparent\" points=\"-4,4 -4,-40 2561.09,-40 2561.09,4 -4,4\"/>\n<!-- fake -->\n<g id=\"node1\" class=\"node\">\n<title>fake</title>\n</g>\n<!-- 0 -->\n<g id=\"node2\" class=\"node\">\n<title>0</title>\n<polygon fill=\"none\" stroke=\"black\" points=\"152.09,-36 98.09,-36 98.09,0 152.09,0 152.09,-36\"/>\n<text text-anchor=\"middle\" x=\"125.09\" y=\"-14.3\" font-family=\"Times,serif\" font-size=\"14.00\">0</text>\n</g>\n<!-- fake&#45;&gt;0 -->\n<g id=\"edge1\" class=\"edge\">\n<title>fake-&gt;0</title>\n<path fill=\"none\" stroke=\"black\" stroke-width=\"2\" d=\"M61.34,-18C69.68,-18 78.84,-18 87.52,-18\"/>\n<polygon fill=\"black\" stroke=\"black\" stroke-width=\"2\" points=\"87.79,-21.5 97.79,-18 87.79,-14.5 87.79,-21.5\"/>\n</g>\n<!-- 2 -->\n<g id=\"node3\" class=\"node\">\n<title>2</title>\n<polygon fill=\"none\" stroke=\"black\" points=\"413.09,-36 359.09,-36 359.09,0 413.09,0 413.09,-36\"/>\n<text text-anchor=\"middle\" x=\"386.09\" y=\"-14.3\" font-family=\"Times,serif\" font-size=\"14.00\">2</text>\n</g>\n<!-- 0&#45;&gt;2 -->\n<g id=\"edge2\" class=\"edge\">\n<title>0-&gt;2</title>\n<path fill=\"none\" stroke=\"black\" d=\"M152.35,-18C198.8,-18 295.51,-18 348.47,-18\"/>\n<polygon fill=\"black\" stroke=\"black\" points=\"348.77,-21.5 358.77,-18 348.77,-14.5 348.77,-21.5\"/>\n<text text-anchor=\"middle\" x=\"255.59\" y=\"-21.8\" font-family=\"Times,serif\" font-size=\"14.00\">pick_buy_design,0.0,1.0</text>\n</g>\n<!-- 3 -->\n<g id=\"node4\" class=\"node\">\n<title>3</title>\n<polygon fill=\"none\" stroke=\"black\" points=\"639.09,-36 585.09,-36 585.09,0 639.09,0 639.09,-36\"/>\n<text text-anchor=\"middle\" x=\"612.09\" y=\"-14.3\" font-family=\"Times,serif\" font-size=\"14.00\">3</text>\n</g>\n<!-- 2&#45;&gt;3 -->\n<g id=\"edge3\" class=\"edge\">\n<title>2-&gt;3</title>\n<path fill=\"none\" stroke=\"black\" d=\"M413.23,-18C453.08,-18 529.18,-18 574.51,-18\"/>\n<polygon fill=\"black\" stroke=\"black\" points=\"574.78,-21.5 584.78,-18 574.78,-14.5 574.78,-21.5\"/>\n<text text-anchor=\"middle\" x=\"499.09\" y=\"-21.8\" font-family=\"Times,serif\" font-size=\"14.00\">pick_silicon,0.0,1.0</text>\n</g>\n<!-- 4 -->\n<g id=\"node5\" class=\"node\">\n<title>4</title>\n<polygon fill=\"none\" stroke=\"black\" points=\"859.09,-36 805.09,-36 805.09,0 859.09,0 859.09,-36\"/>\n<text text-anchor=\"middle\" x=\"832.09\" y=\"-14.3\" font-family=\"Times,serif\" font-size=\"14.00\">4</text>\n</g>\n<!-- 3&#45;&gt;4 -->\n<g id=\"edge4\" class=\"edge\">\n<title>3-&gt;4</title>\n<path fill=\"none\" stroke=\"black\" d=\"M639.39,-18C678.2,-18 750.96,-18 794.82,-18\"/>\n<polygon fill=\"black\" stroke=\"black\" points=\"795.04,-21.5 805.04,-18 795.04,-14.5 795.04,-21.5\"/>\n<text text-anchor=\"middle\" x=\"722.09\" y=\"-21.8\" font-family=\"Times,serif\" font-size=\"14.00\">pick_wafer,0.0,1.0</text>\n</g>\n<!-- 5 -->\n<g id=\"node6\" class=\"node\">\n<title>5</title>\n<polygon fill=\"none\" stroke=\"black\" points=\"1081.09,-36 1027.09,-36 1027.09,0 1081.09,0 1081.09,-36\"/>\n<text text-anchor=\"middle\" x=\"1054.09\" y=\"-14.3\" font-family=\"Times,serif\" font-size=\"14.00\">5</text>\n</g>\n<!-- 4&#45;&gt;5 -->\n<g id=\"edge5\" class=\"edge\">\n<title>4-&gt;5</title>\n<path fill=\"none\" stroke=\"black\" d=\"M859.2,-18C898.39,-18 972.59,-18 1016.96,-18\"/>\n<polygon fill=\"black\" stroke=\"black\" points=\"1017.03,-21.5 1027.03,-18 1017.03,-14.5 1017.03,-21.5\"/>\n<text text-anchor=\"middle\" x=\"943.09\" y=\"-21.8\" font-family=\"Times,serif\" font-size=\"14.00\">pick_boron,0.0,1.0</text>\n</g>\n<!-- 6 -->\n<g id=\"node7\" class=\"node\">\n<title>6</title>\n<polygon fill=\"none\" stroke=\"black\" points=\"1327.09,-36 1273.09,-36 1273.09,0 1327.09,0 1327.09,-36\"/>\n<text text-anchor=\"middle\" x=\"1300.09\" y=\"-14.3\" font-family=\"Times,serif\" font-size=\"14.00\">6</text>\n</g>\n<!-- 5&#45;&gt;6 -->\n<g id=\"edge6\" class=\"edge\">\n<title>5-&gt;6</title>\n<path fill=\"none\" stroke=\"black\" d=\"M1081.21,-18C1124.85,-18 1212.7,-18 1262.49,-18\"/>\n<polygon fill=\"black\" stroke=\"black\" points=\"1262.8,-21.5 1272.8,-18 1262.8,-14.5 1262.8,-21.5\"/>\n<text text-anchor=\"middle\" x=\"1177.09\" y=\"-21.8\" font-family=\"Times,serif\" font-size=\"14.00\">pick_phosphor,0.0,1.0</text>\n</g>\n<!-- 7 -->\n<g id=\"node8\" class=\"node\">\n<title>7</title>\n<polygon fill=\"none\" stroke=\"black\" points=\"1579.09,-36 1525.09,-36 1525.09,0 1579.09,0 1579.09,-36\"/>\n<text text-anchor=\"middle\" x=\"1552.09\" y=\"-14.3\" font-family=\"Times,serif\" font-size=\"14.00\">7</text>\n</g>\n<!-- 6&#45;&gt;7 -->\n<g id=\"edge7\" class=\"edge\">\n<title>6-&gt;7</title>\n<path fill=\"none\" stroke=\"black\" d=\"M1327.38,-18C1372.2,-18 1463.53,-18 1514.55,-18\"/>\n<polygon fill=\"black\" stroke=\"black\" points=\"1514.79,-21.5 1524.79,-18 1514.79,-14.5 1514.79,-21.5\"/>\n<text text-anchor=\"middle\" x=\"1426.09\" y=\"-21.8\" font-family=\"Times,serif\" font-size=\"14.00\">pick_aluminum,0.0,1.0</text>\n</g>\n<!-- 8 -->\n<g id=\"node9\" class=\"node\">\n<title>8</title>\n<polygon fill=\"none\" stroke=\"black\" points=\"1800.09,-36 1746.09,-36 1746.09,0 1800.09,0 1800.09,-36\"/>\n<text text-anchor=\"middle\" x=\"1773.09\" y=\"-14.3\" font-family=\"Times,serif\" font-size=\"14.00\">8</text>\n</g>\n<!-- 7&#45;&gt;8 -->\n<g id=\"edge8\" class=\"edge\">\n<title>7-&gt;8</title>\n<path fill=\"none\" stroke=\"black\" d=\"M1579.51,-18C1618.5,-18 1691.59,-18 1735.65,-18\"/>\n<polygon fill=\"black\" stroke=\"black\" points=\"1735.93,-21.5 1745.93,-18 1735.93,-14.5 1735.93,-21.5\"/>\n<text text-anchor=\"middle\" x=\"1662.59\" y=\"-21.8\" font-family=\"Times,serif\" font-size=\"14.00\">pick_resist,0.0,1.0</text>\n</g>\n<!-- 9 -->\n<g id=\"node10\" class=\"node\">\n<title>9</title>\n<polygon fill=\"none\" stroke=\"black\" points=\"2028.09,-36 1974.09,-36 1974.09,0 2028.09,0 2028.09,-36\"/>\n<text text-anchor=\"middle\" x=\"2001.09\" y=\"-14.3\" font-family=\"Times,serif\" font-size=\"14.00\">9</text>\n</g>\n<!-- 8&#45;&gt;9 -->\n<g id=\"edge9\" class=\"edge\">\n<title>8-&gt;9</title>\n<path fill=\"none\" stroke=\"black\" d=\"M1800.46,-18C1840.86,-18 1918.19,-18 1963.84,-18\"/>\n<polygon fill=\"black\" stroke=\"black\" points=\"1963.9,-21.5 1973.9,-18 1963.9,-14.5 1963.9,-21.5\"/>\n<text text-anchor=\"middle\" x=\"1887.09\" y=\"-21.8\" font-family=\"Times,serif\" font-size=\"14.00\">pick_plastic,0.0,1.0</text>\n</g>\n<!-- 10 -->\n<g id=\"node11\" class=\"node\">\n<title>10</title>\n<polygon fill=\"none\" stroke=\"black\" points=\"2279.09,-36 2225.09,-36 2225.09,0 2279.09,0 2279.09,-36\"/>\n<text text-anchor=\"middle\" x=\"2252.09\" y=\"-14.3\" font-family=\"Times,serif\" font-size=\"14.00\">10</text>\n</g>\n<!-- 9&#45;&gt;10 -->\n<g id=\"edge10\" class=\"edge\">\n<title>9-&gt;10</title>\n<path fill=\"none\" stroke=\"black\" d=\"M2028.27,-18C2072.92,-18 2163.88,-18 2214.69,-18\"/>\n<polygon fill=\"black\" stroke=\"black\" points=\"2214.89,-21.5 2224.89,-18 2214.89,-14.5 2214.89,-21.5\"/>\n<text text-anchor=\"middle\" x=\"2126.59\" y=\"-21.8\" font-family=\"Times,serif\" font-size=\"14.00\">pick_chemicals,0.0,1.0</text>\n</g>\n<!-- 11 -->\n<g id=\"node12\" class=\"node\">\n<title>11</title>\n<polygon fill=\"none\" stroke=\"black\" points=\"2557.09,-36 2503.09,-36 2503.09,0 2557.09,0 2557.09,-36\"/>\n<text text-anchor=\"middle\" x=\"2530.09\" y=\"-14.3\" font-family=\"Times,serif\" font-size=\"14.00\">11</text>\n</g>\n<!-- 10&#45;&gt;11 -->\n<g id=\"edge11\" class=\"edge\">\n<title>10-&gt;11</title>\n<path fill=\"none\" stroke=\"black\" d=\"M2279.56,-18C2329.12,-18 2436.01,-18 2492.45,-18\"/>\n<polygon fill=\"black\" stroke=\"black\" points=\"2492.71,-21.5 2502.71,-18 2492.71,-14.5 2492.71,-21.5\"/>\n<text text-anchor=\"middle\" x=\"2391.09\" y=\"-21.8\" font-family=\"Times,serif\" font-size=\"14.00\">pick_copper_frame,1.0,1.0</text>\n</g>\n</g>\n</svg>"
     },
     "metadata": {},
     "output_type": "display_data"
    }
   ],
   "source": [
    "constraints = [\n",
    "    build_declare_assumption(set(SYMBOLS_PHASE_1)),\n",
    "    *[exactly_once(x) for x in SYMBOLS_PHASE_1],\n",
    "]\n",
    "\n",
    "for i in range(len(SYMBOLS_PHASE_1) - 1):\n",
    "    for j in range(i, len(SYMBOLS_PHASE_1)):\n",
    "        constraints.append(alt_precedence(SYMBOLS_PHASE_1[i], SYMBOLS_PHASE_1[j]))\n",
    "formula = pylogics.parsers.ltl.parse_ltl(\" & \".join(constraints))\n",
    "automaton = logaut.core.ltl2dfa(formula, backend=\"lydia\")\n",
    "declare_automaton = from_symbolic_automaton_to_declare_automaton(automaton, set(SYMBOLS_PHASE_1))\n",
    "render_mdp_dfa(mdp_from_dfa(declare_automaton), no_sink=True)"
   ]
  },
  {
   "cell_type": "markdown",
   "metadata": {},
   "source": [
    "\n",
    "## Composition MDP\n",
    "The Composition MDP is constructed in this way:"
   ]
  },
  {
   "cell_type": "code",
   "execution_count": 29,
   "metadata": {},
   "outputs": [
    {
     "data": {
      "text/plain": "<IPython.core.display.SVG object>",
      "image/svg+xml": "<svg xmlns=\"http://www.w3.org/2000/svg\" xmlns:xlink=\"http://www.w3.org/1999/xlink\" width=\"28944pt\" height=\"245pt\" viewBox=\"0.00 0.00 28944.50 245.00\">\n<g id=\"graph0\" class=\"graph\" transform=\"scale(1 1) rotate(0) translate(4 241)\">\n<title>%3</title>\n<polygon fill=\"white\" stroke=\"transparent\" points=\"-4,4 -4,-241 28940.5,-241 28940.5,4 -4,4\"/>\n<!-- fake -->\n<g id=\"node1\" class=\"node\">\n<title>fake</title>\n</g>\n<!-- 0 -->\n<g id=\"node14\" class=\"node\">\n<title>0</title>\n<ellipse fill=\"none\" stroke=\"black\" cx=\"3832\" cy=\"-18\" rx=\"27\" ry=\"18\"/>\n<text text-anchor=\"middle\" x=\"3832\" y=\"-14.3\" font-family=\"Times,serif\" font-size=\"14.00\">0</text>\n</g>\n<!-- fake&#45;&gt;0 -->\n<g id=\"edge1\" class=\"edge\">\n<title>fake-&gt;0</title>\n<path fill=\"none\" stroke=\"black\" stroke-width=\"2\" d=\"M1222.63,-18C1491.01,-18 3499.21,-18 3794.73,-18\"/>\n<polygon fill=\"black\" stroke=\"black\" stroke-width=\"2\" points=\"3794.89,-21.5 3804.89,-18 3794.89,-14.5 3794.89,-21.5\"/>\n</g>\n<!-- ((&#39;ready&#39;, &#39;ready&#39;, &#39;ready&#39;, &#39;ready&#39;, &#39;ready&#39;, &#39;ready&#39;, &#39;ready&#39;, &#39;ready&#39;, &#39;ready&#39;, &#39;ready&#39;, &#39;ready&#39;, &#39;ready&#39;, &#39;ready&#39;, &#39;ready&#39;, &#39;ready&#39;, &#39;ready&#39;, &#39;ready&#39;, &#39;ready&#39;, &#39;ready&#39;, &#39;ready&#39;, &#39;ready&#39;, &#39;ready&#39;, &#39;ready&#39;, &#39;ready&#39;, &#39;ready&#39;, &#39;ready&#39;, &#39;ready&#39;, &#39;ready&#39;, &#39;ready&#39;, &#39;ready&#39;, &#39;ready&#39;, &#39;ready&#39;, &#39;ready&#39;, &#39;ready&#39;, &#39;ready&#39;, &#39;ready&#39;, &#39;ready&#39;, &#39;ready&#39;, &#39;ready&#39;, &#39;ready&#39;, &#39;ready&#39;), 11) -->\n<g id=\"node2\" class=\"node\">\n<title>(('ready', 'ready', 'ready', 'ready', 'ready', 'ready', 'ready', 'ready', 'ready', 'ready', 'ready', 'ready', 'ready', 'ready', 'ready', 'ready', 'ready', 'ready', 'ready', 'ready', 'ready', 'ready', 'ready', 'ready', 'ready', 'ready', 'ready', 'ready', 'ready', 'ready', 'ready', 'ready', 'ready', 'ready', 'ready', 'ready', 'ready', 'ready', 'ready', 'ready', 'ready'), 11)</title>\n<polygon fill=\"none\" stroke=\"black\" points=\"28695,-126 26302,-126 26302,-90 28695,-90 28695,-126\"/>\n<text text-anchor=\"middle\" x=\"27498.5\" y=\"-104.3\" font-family=\"Times,serif\" font-size=\"14.00\">(('ready', 'ready', 'ready', 'ready', 'ready', 'ready', 'ready', 'ready', 'ready', 'ready', 'ready', 'ready', 'ready', 'ready', 'ready', 'ready', 'ready', 'ready', 'ready', 'ready', 'ready', 'ready', 'ready', 'ready', 'ready', 'ready', 'ready', 'ready', 'ready', 'ready', 'ready', 'ready', 'ready', 'ready', 'ready', 'ready', 'ready', 'ready', 'ready', 'ready', 'ready'), 11)</text>\n</g>\n<!-- &#45;1 -->\n<g id=\"node12\" class=\"node\">\n<title>-1</title>\n<polygon fill=\"none\" stroke=\"black\" points=\"28901,-100.54 28901,-115.46 28885.18,-126 28862.82,-126 28847,-115.46 28847,-100.54 28862.82,-90 28885.18,-90 28901,-100.54\"/>\n<polygon fill=\"none\" stroke=\"black\" points=\"28905,-98.4 28905,-117.6 28886.39,-130 28861.61,-130 28843,-117.6 28843,-98.4 28861.61,-86 28886.39,-86 28905,-98.4\"/>\n<text text-anchor=\"middle\" x=\"28874\" y=\"-104.3\" font-family=\"Times,serif\" font-size=\"14.00\">-1</text>\n</g>\n<!-- ((&#39;ready&#39;, &#39;ready&#39;, &#39;ready&#39;, &#39;ready&#39;, &#39;ready&#39;, &#39;ready&#39;, &#39;ready&#39;, &#39;ready&#39;, &#39;ready&#39;, &#39;ready&#39;, &#39;ready&#39;, &#39;ready&#39;, &#39;ready&#39;, &#39;ready&#39;, &#39;ready&#39;, &#39;ready&#39;, &#39;ready&#39;, &#39;ready&#39;, &#39;ready&#39;, &#39;ready&#39;, &#39;ready&#39;, &#39;ready&#39;, &#39;ready&#39;, &#39;ready&#39;, &#39;ready&#39;, &#39;ready&#39;, &#39;ready&#39;, &#39;ready&#39;, &#39;ready&#39;, &#39;ready&#39;, &#39;ready&#39;, &#39;ready&#39;, &#39;ready&#39;, &#39;ready&#39;, &#39;ready&#39;, &#39;ready&#39;, &#39;ready&#39;, &#39;ready&#39;, &#39;ready&#39;, &#39;ready&#39;, &#39;ready&#39;), 11)&#45;&gt;&#45;1 -->\n<g id=\"edge43\" class=\"edge\">\n<title>(('ready', 'ready', 'ready', 'ready', 'ready', 'ready', 'ready', 'ready', 'ready', 'ready', 'ready', 'ready', 'ready', 'ready', 'ready', 'ready', 'ready', 'ready', 'ready', 'ready', 'ready', 'ready', 'ready', 'ready', 'ready', 'ready', 'ready', 'ready', 'ready', 'ready', 'ready', 'ready', 'ready', 'ready', 'ready', 'ready', 'ready', 'ready', 'ready', 'ready', 'ready'), 11)-&gt;-1</title>\n<path fill=\"none\" stroke=\"black\" d=\"M28695.2,-108C28754.1,-108 28801.62,-108 28832.66,-108\"/>\n<polygon fill=\"black\" stroke=\"black\" points=\"28832.95,-111.5 28842.95,-108 28832.95,-104.5 28832.95,-111.5\"/>\n<text text-anchor=\"middle\" x=\"28769\" y=\"-111.8\" font-family=\"Times,serif\" font-size=\"14.00\">undefined,0.0,1</text>\n</g>\n<!-- ((&#39;ready&#39;, &#39;ready&#39;, &#39;ready&#39;, &#39;ready&#39;, &#39;ready&#39;, &#39;ready&#39;, &#39;ready&#39;, &#39;ready&#39;, &#39;ready&#39;, &#39;ready&#39;, &#39;ready&#39;, &#39;ready&#39;, &#39;ready&#39;, &#39;ready&#39;, &#39;ready&#39;, &#39;ready&#39;, &#39;ready&#39;, &#39;ready&#39;, &#39;ready&#39;, &#39;ready&#39;, &#39;ready&#39;, &#39;ready&#39;, &#39;ready&#39;, &#39;ready&#39;, &#39;ready&#39;, &#39;ready&#39;, &#39;ready&#39;, &#39;ready&#39;, &#39;ready&#39;, &#39;ready&#39;, &#39;ready&#39;, &#39;ready&#39;, &#39;ready&#39;, &#39;ready&#39;, &#39;ready&#39;, &#39;ready&#39;, &#39;ready&#39;, &#39;ready&#39;, &#39;ready&#39;, &#39;ready&#39;, &#39;ready&#39;), 7) -->\n<g id=\"node3\" class=\"node\">\n<title>(('ready', 'ready', 'ready', 'ready', 'ready', 'ready', 'ready', 'ready', 'ready', 'ready', 'ready', 'ready', 'ready', 'ready', 'ready', 'ready', 'ready', 'ready', 'ready', 'ready', 'ready', 'ready', 'ready', 'ready', 'ready', 'ready', 'ready', 'ready', 'ready', 'ready', 'ready', 'ready', 'ready', 'ready', 'ready', 'ready', 'ready', 'ready', 'ready', 'ready', 'ready'), 7)</title>\n<polygon fill=\"none\" stroke=\"black\" points=\"18153,-126 15769,-126 15769,-90 18153,-90 18153,-126\"/>\n<text text-anchor=\"middle\" x=\"16961\" y=\"-104.3\" font-family=\"Times,serif\" font-size=\"14.00\">(('ready', 'ready', 'ready', 'ready', 'ready', 'ready', 'ready', 'ready', 'ready', 'ready', 'ready', 'ready', 'ready', 'ready', 'ready', 'ready', 'ready', 'ready', 'ready', 'ready', 'ready', 'ready', 'ready', 'ready', 'ready', 'ready', 'ready', 'ready', 'ready', 'ready', 'ready', 'ready', 'ready', 'ready', 'ready', 'ready', 'ready', 'ready', 'ready', 'ready', 'ready'), 7)</text>\n</g>\n<!-- ((&#39;ready&#39;, &#39;ready&#39;, &#39;ready&#39;, &#39;ready&#39;, &#39;ready&#39;, &#39;ready&#39;, &#39;ready&#39;, &#39;ready&#39;, &#39;ready&#39;, &#39;ready&#39;, &#39;ready&#39;, &#39;ready&#39;, &#39;ready&#39;, &#39;ready&#39;, &#39;ready&#39;, &#39;ready&#39;, &#39;ready&#39;, &#39;ready&#39;, &#39;ready&#39;, &#39;ready&#39;, &#39;ready&#39;, &#39;ready&#39;, &#39;ready&#39;, &#39;ready&#39;, &#39;ready&#39;, &#39;ready&#39;, &#39;ready&#39;, &#39;ready&#39;, &#39;ready&#39;, &#39;ready&#39;, &#39;ready&#39;, &#39;ready&#39;, &#39;ready&#39;, &#39;ready&#39;, &#39;ready&#39;, &#39;ready&#39;, &#39;ready&#39;, &#39;ready&#39;, &#39;ready&#39;, &#39;ready&#39;, &#39;ready&#39;), 8) -->\n<g id=\"node11\" class=\"node\">\n<title>(('ready', 'ready', 'ready', 'ready', 'ready', 'ready', 'ready', 'ready', 'ready', 'ready', 'ready', 'ready', 'ready', 'ready', 'ready', 'ready', 'ready', 'ready', 'ready', 'ready', 'ready', 'ready', 'ready', 'ready', 'ready', 'ready', 'ready', 'ready', 'ready', 'ready', 'ready', 'ready', 'ready', 'ready', 'ready', 'ready', 'ready', 'ready', 'ready', 'ready', 'ready'), 8)</title>\n<polygon fill=\"none\" stroke=\"black\" points=\"20763,-126 18379,-126 18379,-90 20763,-90 20763,-126\"/>\n<text text-anchor=\"middle\" x=\"19571\" y=\"-104.3\" font-family=\"Times,serif\" font-size=\"14.00\">(('ready', 'ready', 'ready', 'ready', 'ready', 'ready', 'ready', 'ready', 'ready', 'ready', 'ready', 'ready', 'ready', 'ready', 'ready', 'ready', 'ready', 'ready', 'ready', 'ready', 'ready', 'ready', 'ready', 'ready', 'ready', 'ready', 'ready', 'ready', 'ready', 'ready', 'ready', 'ready', 'ready', 'ready', 'ready', 'ready', 'ready', 'ready', 'ready', 'ready', 'ready'), 8)</text>\n</g>\n<!-- ((&#39;ready&#39;, &#39;ready&#39;, &#39;ready&#39;, &#39;ready&#39;, &#39;ready&#39;, &#39;ready&#39;, &#39;ready&#39;, &#39;ready&#39;, &#39;ready&#39;, &#39;ready&#39;, &#39;ready&#39;, &#39;ready&#39;, &#39;ready&#39;, &#39;ready&#39;, &#39;ready&#39;, &#39;ready&#39;, &#39;ready&#39;, &#39;ready&#39;, &#39;ready&#39;, &#39;ready&#39;, &#39;ready&#39;, &#39;ready&#39;, &#39;ready&#39;, &#39;ready&#39;, &#39;ready&#39;, &#39;ready&#39;, &#39;ready&#39;, &#39;ready&#39;, &#39;ready&#39;, &#39;ready&#39;, &#39;ready&#39;, &#39;ready&#39;, &#39;ready&#39;, &#39;ready&#39;, &#39;ready&#39;, &#39;ready&#39;, &#39;ready&#39;, &#39;ready&#39;, &#39;ready&#39;, &#39;ready&#39;, &#39;ready&#39;), 7)&#45;&gt;((&#39;ready&#39;, &#39;ready&#39;, &#39;ready&#39;, &#39;ready&#39;, &#39;ready&#39;, &#39;ready&#39;, &#39;ready&#39;, &#39;ready&#39;, &#39;ready&#39;, &#39;ready&#39;, &#39;ready&#39;, &#39;ready&#39;, &#39;ready&#39;, &#39;ready&#39;, &#39;ready&#39;, &#39;ready&#39;, &#39;ready&#39;, &#39;ready&#39;, &#39;ready&#39;, &#39;ready&#39;, &#39;ready&#39;, &#39;ready&#39;, &#39;ready&#39;, &#39;ready&#39;, &#39;ready&#39;, &#39;ready&#39;, &#39;ready&#39;, &#39;ready&#39;, &#39;ready&#39;, &#39;ready&#39;, &#39;ready&#39;, &#39;ready&#39;, &#39;ready&#39;, &#39;ready&#39;, &#39;ready&#39;, &#39;ready&#39;, &#39;ready&#39;, &#39;ready&#39;, &#39;ready&#39;, &#39;ready&#39;, &#39;ready&#39;), 8) -->\n<g id=\"edge29\" class=\"edge\">\n<title>(('ready', 'ready', 'ready', 'ready', 'ready', 'ready', 'ready', 'ready', 'ready', 'ready', 'ready', 'ready', 'ready', 'ready', 'ready', 'ready', 'ready', 'ready', 'ready', 'ready', 'ready', 'ready', 'ready', 'ready', 'ready', 'ready', 'ready', 'ready', 'ready', 'ready', 'ready', 'ready', 'ready', 'ready', 'ready', 'ready', 'ready', 'ready', 'ready', 'ready', 'ready'), 7)-&gt;(('ready', 'ready', 'ready', 'ready', 'ready', 'ready', 'ready', 'ready', 'ready', 'ready', 'ready', 'ready', 'ready', 'ready', 'ready', 'ready', 'ready', 'ready', 'ready', 'ready', 'ready', 'ready', 'ready', 'ready', 'ready', 'ready', 'ready', 'ready', 'ready', 'ready', 'ready', 'ready', 'ready', 'ready', 'ready', 'ready', 'ready', 'ready', 'ready', 'ready', 'ready'), 8)</title>\n<path fill=\"none\" stroke=\"black\" d=\"M17133.11,-126.01C17396.68,-151.7 17917.95,-194.36 18361,-181 18697.62,-170.85 19086.24,-144.83 19330.05,-126.77\"/>\n<polygon fill=\"black\" stroke=\"black\" points=\"19330.39,-130.25 19340.1,-126.02 19329.87,-123.27 19330.39,-130.25\"/>\n<text text-anchor=\"middle\" x=\"18266\" y=\"-186.8\" font-family=\"Times,serif\" font-size=\"14.00\">('pick_resist', 27),-2.0,1.0</text>\n</g>\n<!-- ((&#39;ready&#39;, &#39;ready&#39;, &#39;ready&#39;, &#39;ready&#39;, &#39;ready&#39;, &#39;ready&#39;, &#39;ready&#39;, &#39;ready&#39;, &#39;ready&#39;, &#39;ready&#39;, &#39;ready&#39;, &#39;ready&#39;, &#39;ready&#39;, &#39;ready&#39;, &#39;ready&#39;, &#39;ready&#39;, &#39;ready&#39;, &#39;ready&#39;, &#39;ready&#39;, &#39;ready&#39;, &#39;ready&#39;, &#39;ready&#39;, &#39;ready&#39;, &#39;ready&#39;, &#39;ready&#39;, &#39;ready&#39;, &#39;ready&#39;, &#39;ready&#39;, &#39;ready&#39;, &#39;ready&#39;, &#39;ready&#39;, &#39;ready&#39;, &#39;ready&#39;, &#39;ready&#39;, &#39;ready&#39;, &#39;ready&#39;, &#39;ready&#39;, &#39;ready&#39;, &#39;ready&#39;, &#39;ready&#39;, &#39;ready&#39;), 7)&#45;&gt;((&#39;ready&#39;, &#39;ready&#39;, &#39;ready&#39;, &#39;ready&#39;, &#39;ready&#39;, &#39;ready&#39;, &#39;ready&#39;, &#39;ready&#39;, &#39;ready&#39;, &#39;ready&#39;, &#39;ready&#39;, &#39;ready&#39;, &#39;ready&#39;, &#39;ready&#39;, &#39;ready&#39;, &#39;ready&#39;, &#39;ready&#39;, &#39;ready&#39;, &#39;ready&#39;, &#39;ready&#39;, &#39;ready&#39;, &#39;ready&#39;, &#39;ready&#39;, &#39;ready&#39;, &#39;ready&#39;, &#39;ready&#39;, &#39;ready&#39;, &#39;ready&#39;, &#39;ready&#39;, &#39;ready&#39;, &#39;ready&#39;, &#39;ready&#39;, &#39;ready&#39;, &#39;ready&#39;, &#39;ready&#39;, &#39;ready&#39;, &#39;ready&#39;, &#39;ready&#39;, &#39;ready&#39;, &#39;ready&#39;, &#39;ready&#39;), 8) -->\n<g id=\"edge30\" class=\"edge\">\n<title>(('ready', 'ready', 'ready', 'ready', 'ready', 'ready', 'ready', 'ready', 'ready', 'ready', 'ready', 'ready', 'ready', 'ready', 'ready', 'ready', 'ready', 'ready', 'ready', 'ready', 'ready', 'ready', 'ready', 'ready', 'ready', 'ready', 'ready', 'ready', 'ready', 'ready', 'ready', 'ready', 'ready', 'ready', 'ready', 'ready', 'ready', 'ready', 'ready', 'ready', 'ready'), 7)-&gt;(('ready', 'ready', 'ready', 'ready', 'ready', 'ready', 'ready', 'ready', 'ready', 'ready', 'ready', 'ready', 'ready', 'ready', 'ready', 'ready', 'ready', 'ready', 'ready', 'ready', 'ready', 'ready', 'ready', 'ready', 'ready', 'ready', 'ready', 'ready', 'ready', 'ready', 'ready', 'ready', 'ready', 'ready', 'ready', 'ready', 'ready', 'ready', 'ready', 'ready', 'ready'), 8)</title>\n<path fill=\"none\" stroke=\"black\" d=\"M17471.13,-126.01C17686.96,-132.8 17941.22,-139.67 18171,-143 18507.7,-147.87 18889.9,-137.21 19169.63,-126.41\"/>\n<polygon fill=\"black\" stroke=\"black\" points=\"19170.09,-129.89 19179.95,-126 19169.82,-122.9 19170.09,-129.89\"/>\n<text text-anchor=\"middle\" x=\"18266\" y=\"-147.8\" font-family=\"Times,serif\" font-size=\"14.00\">('pick_resist', 28),-8.0,1.0</text>\n</g>\n<!-- ((&#39;ready&#39;, &#39;ready&#39;, &#39;ready&#39;, &#39;ready&#39;, &#39;ready&#39;, &#39;ready&#39;, &#39;ready&#39;, &#39;ready&#39;, &#39;ready&#39;, &#39;ready&#39;, &#39;ready&#39;, &#39;ready&#39;, &#39;ready&#39;, &#39;ready&#39;, &#39;ready&#39;, &#39;ready&#39;, &#39;ready&#39;, &#39;ready&#39;, &#39;ready&#39;, &#39;ready&#39;, &#39;ready&#39;, &#39;ready&#39;, &#39;ready&#39;, &#39;ready&#39;, &#39;ready&#39;, &#39;ready&#39;, &#39;ready&#39;, &#39;ready&#39;, &#39;ready&#39;, &#39;ready&#39;, &#39;ready&#39;, &#39;ready&#39;, &#39;ready&#39;, &#39;ready&#39;, &#39;ready&#39;, &#39;ready&#39;, &#39;ready&#39;, &#39;ready&#39;, &#39;ready&#39;, &#39;ready&#39;, &#39;ready&#39;), 7)&#45;&gt;((&#39;ready&#39;, &#39;ready&#39;, &#39;ready&#39;, &#39;ready&#39;, &#39;ready&#39;, &#39;ready&#39;, &#39;ready&#39;, &#39;ready&#39;, &#39;ready&#39;, &#39;ready&#39;, &#39;ready&#39;, &#39;ready&#39;, &#39;ready&#39;, &#39;ready&#39;, &#39;ready&#39;, &#39;ready&#39;, &#39;ready&#39;, &#39;ready&#39;, &#39;ready&#39;, &#39;ready&#39;, &#39;ready&#39;, &#39;ready&#39;, &#39;ready&#39;, &#39;ready&#39;, &#39;ready&#39;, &#39;ready&#39;, &#39;ready&#39;, &#39;ready&#39;, &#39;ready&#39;, &#39;ready&#39;, &#39;ready&#39;, &#39;ready&#39;, &#39;ready&#39;, &#39;ready&#39;, &#39;ready&#39;, &#39;ready&#39;, &#39;ready&#39;, &#39;ready&#39;, &#39;ready&#39;, &#39;ready&#39;, &#39;ready&#39;), 8) -->\n<g id=\"edge31\" class=\"edge\">\n<title>(('ready', 'ready', 'ready', 'ready', 'ready', 'ready', 'ready', 'ready', 'ready', 'ready', 'ready', 'ready', 'ready', 'ready', 'ready', 'ready', 'ready', 'ready', 'ready', 'ready', 'ready', 'ready', 'ready', 'ready', 'ready', 'ready', 'ready', 'ready', 'ready', 'ready', 'ready', 'ready', 'ready', 'ready', 'ready', 'ready', 'ready', 'ready', 'ready', 'ready', 'ready'), 7)-&gt;(('ready', 'ready', 'ready', 'ready', 'ready', 'ready', 'ready', 'ready', 'ready', 'ready', 'ready', 'ready', 'ready', 'ready', 'ready', 'ready', 'ready', 'ready', 'ready', 'ready', 'ready', 'ready', 'ready', 'ready', 'ready', 'ready', 'ready', 'ready', 'ready', 'ready', 'ready', 'ready', 'ready', 'ready', 'ready', 'ready', 'ready', 'ready', 'ready', 'ready', 'ready'), 8)</title>\n<path fill=\"none\" stroke=\"black\" d=\"M18153.43,-108C18225.06,-108 18297.15,-108 18368.82,-108\"/>\n<polygon fill=\"black\" stroke=\"black\" points=\"18368.93,-111.5 18378.93,-108 18368.93,-104.5 18368.93,-111.5\"/>\n<text text-anchor=\"middle\" x=\"18266\" y=\"-111.8\" font-family=\"Times,serif\" font-size=\"14.00\">('pick_resist', 29),-13.1,1.0</text>\n</g>\n<!-- ((&#39;ready&#39;, &#39;ready&#39;, &#39;ready&#39;, &#39;ready&#39;, &#39;ready&#39;, &#39;ready&#39;, &#39;ready&#39;, &#39;ready&#39;, &#39;ready&#39;, &#39;ready&#39;, &#39;ready&#39;, &#39;ready&#39;, &#39;ready&#39;, &#39;ready&#39;, &#39;ready&#39;, &#39;ready&#39;, &#39;ready&#39;, &#39;ready&#39;, &#39;ready&#39;, &#39;ready&#39;, &#39;ready&#39;, &#39;ready&#39;, &#39;ready&#39;, &#39;ready&#39;, &#39;ready&#39;, &#39;ready&#39;, &#39;ready&#39;, &#39;ready&#39;, &#39;ready&#39;, &#39;ready&#39;, &#39;ready&#39;, &#39;ready&#39;, &#39;ready&#39;, &#39;ready&#39;, &#39;ready&#39;, &#39;ready&#39;, &#39;ready&#39;, &#39;ready&#39;, &#39;ready&#39;, &#39;ready&#39;, &#39;ready&#39;), 7)&#45;&gt;((&#39;ready&#39;, &#39;ready&#39;, &#39;ready&#39;, &#39;ready&#39;, &#39;ready&#39;, &#39;ready&#39;, &#39;ready&#39;, &#39;ready&#39;, &#39;ready&#39;, &#39;ready&#39;, &#39;ready&#39;, &#39;ready&#39;, &#39;ready&#39;, &#39;ready&#39;, &#39;ready&#39;, &#39;ready&#39;, &#39;ready&#39;, &#39;ready&#39;, &#39;ready&#39;, &#39;ready&#39;, &#39;ready&#39;, &#39;ready&#39;, &#39;ready&#39;, &#39;ready&#39;, &#39;ready&#39;, &#39;ready&#39;, &#39;ready&#39;, &#39;ready&#39;, &#39;ready&#39;, &#39;ready&#39;, &#39;ready&#39;, &#39;ready&#39;, &#39;ready&#39;, &#39;ready&#39;, &#39;ready&#39;, &#39;ready&#39;, &#39;ready&#39;, &#39;ready&#39;, &#39;ready&#39;, &#39;ready&#39;, &#39;ready&#39;), 8) -->\n<g id=\"edge32\" class=\"edge\">\n<title>(('ready', 'ready', 'ready', 'ready', 'ready', 'ready', 'ready', 'ready', 'ready', 'ready', 'ready', 'ready', 'ready', 'ready', 'ready', 'ready', 'ready', 'ready', 'ready', 'ready', 'ready', 'ready', 'ready', 'ready', 'ready', 'ready', 'ready', 'ready', 'ready', 'ready', 'ready', 'ready', 'ready', 'ready', 'ready', 'ready', 'ready', 'ready', 'ready', 'ready', 'ready'), 7)-&gt;(('ready', 'ready', 'ready', 'ready', 'ready', 'ready', 'ready', 'ready', 'ready', 'ready', 'ready', 'ready', 'ready', 'ready', 'ready', 'ready', 'ready', 'ready', 'ready', 'ready', 'ready', 'ready', 'ready', 'ready', 'ready', 'ready', 'ready', 'ready', 'ready', 'ready', 'ready', 'ready', 'ready', 'ready', 'ready', 'ready', 'ready', 'ready', 'ready', 'ready', 'ready'), 8)</title>\n<path fill=\"none\" stroke=\"black\" d=\"M17870.69,-90C18033.93,-88.38 18202.51,-87.75 18361,-89 18394.2,-89.26 18427.9,-89.56 18461.93,-89.9\"/>\n<polygon fill=\"black\" stroke=\"black\" points=\"18461.99,-93.4 18472.02,-90 18462.06,-86.4 18461.99,-93.4\"/>\n<text text-anchor=\"middle\" x=\"18266\" y=\"-92.8\" font-family=\"Times,serif\" font-size=\"14.00\">('pick_resist', 30),-1.8,1.0</text>\n</g>\n<!-- ((&#39;ready&#39;, &#39;ready&#39;, &#39;ready&#39;, &#39;ready&#39;, &#39;ready&#39;, &#39;ready&#39;, &#39;ready&#39;, &#39;ready&#39;, &#39;ready&#39;, &#39;ready&#39;, &#39;ready&#39;, &#39;ready&#39;, &#39;ready&#39;, &#39;ready&#39;, &#39;ready&#39;, &#39;ready&#39;, &#39;ready&#39;, &#39;ready&#39;, &#39;ready&#39;, &#39;ready&#39;, &#39;ready&#39;, &#39;ready&#39;, &#39;ready&#39;, &#39;ready&#39;, &#39;ready&#39;, &#39;ready&#39;, &#39;ready&#39;, &#39;ready&#39;, &#39;ready&#39;, &#39;ready&#39;, &#39;ready&#39;, &#39;ready&#39;, &#39;ready&#39;, &#39;ready&#39;, &#39;ready&#39;, &#39;ready&#39;, &#39;ready&#39;, &#39;ready&#39;, &#39;ready&#39;, &#39;ready&#39;, &#39;ready&#39;), 7)&#45;&gt;((&#39;ready&#39;, &#39;ready&#39;, &#39;ready&#39;, &#39;ready&#39;, &#39;ready&#39;, &#39;ready&#39;, &#39;ready&#39;, &#39;ready&#39;, &#39;ready&#39;, &#39;ready&#39;, &#39;ready&#39;, &#39;ready&#39;, &#39;ready&#39;, &#39;ready&#39;, &#39;ready&#39;, &#39;ready&#39;, &#39;ready&#39;, &#39;ready&#39;, &#39;ready&#39;, &#39;ready&#39;, &#39;ready&#39;, &#39;ready&#39;, &#39;ready&#39;, &#39;ready&#39;, &#39;ready&#39;, &#39;ready&#39;, &#39;ready&#39;, &#39;ready&#39;, &#39;ready&#39;, &#39;ready&#39;, &#39;ready&#39;, &#39;ready&#39;, &#39;ready&#39;, &#39;ready&#39;, &#39;ready&#39;, &#39;ready&#39;, &#39;ready&#39;, &#39;ready&#39;, &#39;ready&#39;, &#39;ready&#39;, &#39;ready&#39;), 8) -->\n<g id=\"edge33\" class=\"edge\">\n<title>(('ready', 'ready', 'ready', 'ready', 'ready', 'ready', 'ready', 'ready', 'ready', 'ready', 'ready', 'ready', 'ready', 'ready', 'ready', 'ready', 'ready', 'ready', 'ready', 'ready', 'ready', 'ready', 'ready', 'ready', 'ready', 'ready', 'ready', 'ready', 'ready', 'ready', 'ready', 'ready', 'ready', 'ready', 'ready', 'ready', 'ready', 'ready', 'ready', 'ready', 'ready'), 7)-&gt;(('ready', 'ready', 'ready', 'ready', 'ready', 'ready', 'ready', 'ready', 'ready', 'ready', 'ready', 'ready', 'ready', 'ready', 'ready', 'ready', 'ready', 'ready', 'ready', 'ready', 'ready', 'ready', 'ready', 'ready', 'ready', 'ready', 'ready', 'ready', 'ready', 'ready', 'ready', 'ready', 'ready', 'ready', 'ready', 'ready', 'ready', 'ready', 'ready', 'ready', 'ready'), 8)</title>\n<path fill=\"none\" stroke=\"black\" d=\"M17412.97,-90C17640.27,-81.8 17920.21,-73.04 18171,-69 18526.79,-63.26 18933.36,-76.85 19216.16,-89.54\"/>\n<polygon fill=\"black\" stroke=\"black\" points=\"19216.02,-93.03 19226.17,-89.99 19216.34,-86.04 19216.02,-93.03\"/>\n<text text-anchor=\"middle\" x=\"18266\" y=\"-72.8\" font-family=\"Times,serif\" font-size=\"14.00\">('pick_resist', 31),-7.6,1.0</text>\n</g>\n<!-- ((&#39;ready&#39;, &#39;ready&#39;, &#39;ready&#39;, &#39;ready&#39;, &#39;ready&#39;, &#39;ready&#39;, &#39;ready&#39;, &#39;ready&#39;, &#39;ready&#39;, &#39;ready&#39;, &#39;ready&#39;, &#39;ready&#39;, &#39;ready&#39;, &#39;ready&#39;, &#39;ready&#39;, &#39;ready&#39;, &#39;ready&#39;, &#39;ready&#39;, &#39;ready&#39;, &#39;ready&#39;, &#39;ready&#39;, &#39;ready&#39;, &#39;ready&#39;, &#39;ready&#39;, &#39;ready&#39;, &#39;ready&#39;, &#39;ready&#39;, &#39;ready&#39;, &#39;ready&#39;, &#39;ready&#39;, &#39;ready&#39;, &#39;ready&#39;, &#39;ready&#39;, &#39;ready&#39;, &#39;ready&#39;, &#39;ready&#39;, &#39;ready&#39;, &#39;ready&#39;, &#39;ready&#39;, &#39;ready&#39;, &#39;ready&#39;), 7)&#45;&gt;((&#39;ready&#39;, &#39;ready&#39;, &#39;ready&#39;, &#39;ready&#39;, &#39;ready&#39;, &#39;ready&#39;, &#39;ready&#39;, &#39;ready&#39;, &#39;ready&#39;, &#39;ready&#39;, &#39;ready&#39;, &#39;ready&#39;, &#39;ready&#39;, &#39;ready&#39;, &#39;ready&#39;, &#39;ready&#39;, &#39;ready&#39;, &#39;ready&#39;, &#39;ready&#39;, &#39;ready&#39;, &#39;ready&#39;, &#39;ready&#39;, &#39;ready&#39;, &#39;ready&#39;, &#39;ready&#39;, &#39;ready&#39;, &#39;ready&#39;, &#39;ready&#39;, &#39;ready&#39;, &#39;ready&#39;, &#39;ready&#39;, &#39;ready&#39;, &#39;ready&#39;, &#39;ready&#39;, &#39;ready&#39;, &#39;ready&#39;, &#39;ready&#39;, &#39;ready&#39;, &#39;ready&#39;, &#39;ready&#39;, &#39;ready&#39;), 8) -->\n<g id=\"edge34\" class=\"edge\">\n<title>(('ready', 'ready', 'ready', 'ready', 'ready', 'ready', 'ready', 'ready', 'ready', 'ready', 'ready', 'ready', 'ready', 'ready', 'ready', 'ready', 'ready', 'ready', 'ready', 'ready', 'ready', 'ready', 'ready', 'ready', 'ready', 'ready', 'ready', 'ready', 'ready', 'ready', 'ready', 'ready', 'ready', 'ready', 'ready', 'ready', 'ready', 'ready', 'ready', 'ready', 'ready'), 7)-&gt;(('ready', 'ready', 'ready', 'ready', 'ready', 'ready', 'ready', 'ready', 'ready', 'ready', 'ready', 'ready', 'ready', 'ready', 'ready', 'ready', 'ready', 'ready', 'ready', 'ready', 'ready', 'ready', 'ready', 'ready', 'ready', 'ready', 'ready', 'ready', 'ready', 'ready', 'ready', 'ready', 'ready', 'ready', 'ready', 'ready', 'ready', 'ready', 'ready', 'ready', 'ready'), 8)</title>\n<path fill=\"none\" stroke=\"black\" d=\"M17244.91,-89.99C17489.84,-75.34 17853.63,-55.87 18171,-48 18587.06,-37.68 19072.3,-68 19348.12,-89.21\"/>\n<polygon fill=\"black\" stroke=\"black\" points=\"19348.01,-92.72 19358.25,-90 19348.55,-85.74 19348.01,-92.72\"/>\n<text text-anchor=\"middle\" x=\"18266\" y=\"-51.8\" font-family=\"Times,serif\" font-size=\"14.00\">('pick_resist', 32),-8.38,1.0</text>\n</g>\n<!-- ((&#39;ready&#39;, &#39;ready&#39;, &#39;ready&#39;, &#39;ready&#39;, &#39;ready&#39;, &#39;ready&#39;, &#39;ready&#39;, &#39;ready&#39;, &#39;ready&#39;, &#39;ready&#39;, &#39;ready&#39;, &#39;ready&#39;, &#39;ready&#39;, &#39;ready&#39;, &#39;ready&#39;, &#39;ready&#39;, &#39;ready&#39;, &#39;ready&#39;, &#39;ready&#39;, &#39;ready&#39;, &#39;ready&#39;, &#39;ready&#39;, &#39;ready&#39;, &#39;ready&#39;, &#39;ready&#39;, &#39;ready&#39;, &#39;ready&#39;, &#39;ready&#39;, &#39;ready&#39;, &#39;ready&#39;, &#39;ready&#39;, &#39;ready&#39;, &#39;ready&#39;, &#39;ready&#39;, &#39;ready&#39;, &#39;ready&#39;, &#39;ready&#39;, &#39;ready&#39;, &#39;ready&#39;, &#39;ready&#39;, &#39;ready&#39;), 10) -->\n<g id=\"node4\" class=\"node\">\n<title>(('ready', 'ready', 'ready', 'ready', 'ready', 'ready', 'ready', 'ready', 'ready', 'ready', 'ready', 'ready', 'ready', 'ready', 'ready', 'ready', 'ready', 'ready', 'ready', 'ready', 'ready', 'ready', 'ready', 'ready', 'ready', 'ready', 'ready', 'ready', 'ready', 'ready', 'ready', 'ready', 'ready', 'ready', 'ready', 'ready', 'ready', 'ready', 'ready', 'ready', 'ready'), 10)</title>\n<polygon fill=\"none\" stroke=\"black\" points=\"26019,-126 23626,-126 23626,-90 26019,-90 26019,-126\"/>\n<text text-anchor=\"middle\" x=\"24822.5\" y=\"-104.3\" font-family=\"Times,serif\" font-size=\"14.00\">(('ready', 'ready', 'ready', 'ready', 'ready', 'ready', 'ready', 'ready', 'ready', 'ready', 'ready', 'ready', 'ready', 'ready', 'ready', 'ready', 'ready', 'ready', 'ready', 'ready', 'ready', 'ready', 'ready', 'ready', 'ready', 'ready', 'ready', 'ready', 'ready', 'ready', 'ready', 'ready', 'ready', 'ready', 'ready', 'ready', 'ready', 'ready', 'ready', 'ready', 'ready'), 10)</text>\n</g>\n<!-- ((&#39;ready&#39;, &#39;ready&#39;, &#39;ready&#39;, &#39;ready&#39;, &#39;ready&#39;, &#39;ready&#39;, &#39;ready&#39;, &#39;ready&#39;, &#39;ready&#39;, &#39;ready&#39;, &#39;ready&#39;, &#39;ready&#39;, &#39;ready&#39;, &#39;ready&#39;, &#39;ready&#39;, &#39;ready&#39;, &#39;ready&#39;, &#39;ready&#39;, &#39;ready&#39;, &#39;ready&#39;, &#39;ready&#39;, &#39;ready&#39;, &#39;ready&#39;, &#39;ready&#39;, &#39;ready&#39;, &#39;ready&#39;, &#39;ready&#39;, &#39;ready&#39;, &#39;ready&#39;, &#39;ready&#39;, &#39;ready&#39;, &#39;ready&#39;, &#39;ready&#39;, &#39;ready&#39;, &#39;ready&#39;, &#39;ready&#39;, &#39;ready&#39;, &#39;ready&#39;, &#39;ready&#39;, &#39;ready&#39;, &#39;ready&#39;), 10)&#45;&gt;((&#39;ready&#39;, &#39;ready&#39;, &#39;ready&#39;, &#39;ready&#39;, &#39;ready&#39;, &#39;ready&#39;, &#39;ready&#39;, &#39;ready&#39;, &#39;ready&#39;, &#39;ready&#39;, &#39;ready&#39;, &#39;ready&#39;, &#39;ready&#39;, &#39;ready&#39;, &#39;ready&#39;, &#39;ready&#39;, &#39;ready&#39;, &#39;ready&#39;, &#39;ready&#39;, &#39;ready&#39;, &#39;ready&#39;, &#39;ready&#39;, &#39;ready&#39;, &#39;ready&#39;, &#39;ready&#39;, &#39;ready&#39;, &#39;ready&#39;, &#39;ready&#39;, &#39;ready&#39;, &#39;ready&#39;, &#39;ready&#39;, &#39;ready&#39;, &#39;ready&#39;, &#39;ready&#39;, &#39;ready&#39;, &#39;ready&#39;, &#39;ready&#39;, &#39;ready&#39;, &#39;ready&#39;, &#39;ready&#39;, &#39;ready&#39;), 11) -->\n<g id=\"edge39\" class=\"edge\">\n<title>(('ready', 'ready', 'ready', 'ready', 'ready', 'ready', 'ready', 'ready', 'ready', 'ready', 'ready', 'ready', 'ready', 'ready', 'ready', 'ready', 'ready', 'ready', 'ready', 'ready', 'ready', 'ready', 'ready', 'ready', 'ready', 'ready', 'ready', 'ready', 'ready', 'ready', 'ready', 'ready', 'ready', 'ready', 'ready', 'ready', 'ready', 'ready', 'ready', 'ready', 'ready'), 10)-&gt;(('ready', 'ready', 'ready', 'ready', 'ready', 'ready', 'ready', 'ready', 'ready', 'ready', 'ready', 'ready', 'ready', 'ready', 'ready', 'ready', 'ready', 'ready', 'ready', 'ready', 'ready', 'ready', 'ready', 'ready', 'ready', 'ready', 'ready', 'ready', 'ready', 'ready', 'ready', 'ready', 'ready', 'ready', 'ready', 'ready', 'ready', 'ready', 'ready', 'ready', 'ready'), 11)</title>\n<path fill=\"none\" stroke=\"black\" d=\"M25227.58,-126.01C25520.76,-137.04 25926.89,-148.15 26284,-143 26511.03,-139.73 26761.87,-133.01 26976.29,-126.33\"/>\n<polygon fill=\"black\" stroke=\"black\" points=\"26976.58,-129.82 26986.47,-126.01 26976.37,-122.82 26976.58,-129.82\"/>\n<text text-anchor=\"middle\" x=\"26160.5\" y=\"-147.8\" font-family=\"Times,serif\" font-size=\"14.00\">('pick_copper_frame', 37),-6.8,1.0</text>\n</g>\n<!-- ((&#39;ready&#39;, &#39;ready&#39;, &#39;ready&#39;, &#39;ready&#39;, &#39;ready&#39;, &#39;ready&#39;, &#39;ready&#39;, &#39;ready&#39;, &#39;ready&#39;, &#39;ready&#39;, &#39;ready&#39;, &#39;ready&#39;, &#39;ready&#39;, &#39;ready&#39;, &#39;ready&#39;, &#39;ready&#39;, &#39;ready&#39;, &#39;ready&#39;, &#39;ready&#39;, &#39;ready&#39;, &#39;ready&#39;, &#39;ready&#39;, &#39;ready&#39;, &#39;ready&#39;, &#39;ready&#39;, &#39;ready&#39;, &#39;ready&#39;, &#39;ready&#39;, &#39;ready&#39;, &#39;ready&#39;, &#39;ready&#39;, &#39;ready&#39;, &#39;ready&#39;, &#39;ready&#39;, &#39;ready&#39;, &#39;ready&#39;, &#39;ready&#39;, &#39;ready&#39;, &#39;ready&#39;, &#39;ready&#39;, &#39;ready&#39;), 10)&#45;&gt;((&#39;ready&#39;, &#39;ready&#39;, &#39;ready&#39;, &#39;ready&#39;, &#39;ready&#39;, &#39;ready&#39;, &#39;ready&#39;, &#39;ready&#39;, &#39;ready&#39;, &#39;ready&#39;, &#39;ready&#39;, &#39;ready&#39;, &#39;ready&#39;, &#39;ready&#39;, &#39;ready&#39;, &#39;ready&#39;, &#39;ready&#39;, &#39;ready&#39;, &#39;ready&#39;, &#39;ready&#39;, &#39;ready&#39;, &#39;ready&#39;, &#39;ready&#39;, &#39;ready&#39;, &#39;ready&#39;, &#39;ready&#39;, &#39;ready&#39;, &#39;ready&#39;, &#39;ready&#39;, &#39;ready&#39;, &#39;ready&#39;, &#39;ready&#39;, &#39;ready&#39;, &#39;ready&#39;, &#39;ready&#39;, &#39;ready&#39;, &#39;ready&#39;, &#39;ready&#39;, &#39;ready&#39;, &#39;ready&#39;, &#39;ready&#39;), 11) -->\n<g id=\"edge40\" class=\"edge\">\n<title>(('ready', 'ready', 'ready', 'ready', 'ready', 'ready', 'ready', 'ready', 'ready', 'ready', 'ready', 'ready', 'ready', 'ready', 'ready', 'ready', 'ready', 'ready', 'ready', 'ready', 'ready', 'ready', 'ready', 'ready', 'ready', 'ready', 'ready', 'ready', 'ready', 'ready', 'ready', 'ready', 'ready', 'ready', 'ready', 'ready', 'ready', 'ready', 'ready', 'ready', 'ready'), 10)-&gt;(('ready', 'ready', 'ready', 'ready', 'ready', 'ready', 'ready', 'ready', 'ready', 'ready', 'ready', 'ready', 'ready', 'ready', 'ready', 'ready', 'ready', 'ready', 'ready', 'ready', 'ready', 'ready', 'ready', 'ready', 'ready', 'ready', 'ready', 'ready', 'ready', 'ready', 'ready', 'ready', 'ready', 'ready', 'ready', 'ready', 'ready', 'ready', 'ready', 'ready', 'ready'), 11)</title>\n<path fill=\"none\" stroke=\"black\" d=\"M26019.23,-108C26109.72,-108 26201.08,-108 26291.64,-108\"/>\n<polygon fill=\"black\" stroke=\"black\" points=\"26291.82,-111.5 26301.82,-108 26291.82,-104.5 26291.82,-111.5\"/>\n<text text-anchor=\"middle\" x=\"26160.5\" y=\"-111.8\" font-family=\"Times,serif\" font-size=\"14.00\">('pick_copper_frame', 38),-10.7,1.0</text>\n</g>\n<!-- ((&#39;ready&#39;, &#39;ready&#39;, &#39;ready&#39;, &#39;ready&#39;, &#39;ready&#39;, &#39;ready&#39;, &#39;ready&#39;, &#39;ready&#39;, &#39;ready&#39;, &#39;ready&#39;, &#39;ready&#39;, &#39;ready&#39;, &#39;ready&#39;, &#39;ready&#39;, &#39;ready&#39;, &#39;ready&#39;, &#39;ready&#39;, &#39;ready&#39;, &#39;ready&#39;, &#39;ready&#39;, &#39;ready&#39;, &#39;ready&#39;, &#39;ready&#39;, &#39;ready&#39;, &#39;ready&#39;, &#39;ready&#39;, &#39;ready&#39;, &#39;ready&#39;, &#39;ready&#39;, &#39;ready&#39;, &#39;ready&#39;, &#39;ready&#39;, &#39;ready&#39;, &#39;ready&#39;, &#39;ready&#39;, &#39;ready&#39;, &#39;ready&#39;, &#39;ready&#39;, &#39;ready&#39;, &#39;ready&#39;, &#39;ready&#39;), 10)&#45;&gt;((&#39;ready&#39;, &#39;ready&#39;, &#39;ready&#39;, &#39;ready&#39;, &#39;ready&#39;, &#39;ready&#39;, &#39;ready&#39;, &#39;ready&#39;, &#39;ready&#39;, &#39;ready&#39;, &#39;ready&#39;, &#39;ready&#39;, &#39;ready&#39;, &#39;ready&#39;, &#39;ready&#39;, &#39;ready&#39;, &#39;ready&#39;, &#39;ready&#39;, &#39;ready&#39;, &#39;ready&#39;, &#39;ready&#39;, &#39;ready&#39;, &#39;ready&#39;, &#39;ready&#39;, &#39;ready&#39;, &#39;ready&#39;, &#39;ready&#39;, &#39;ready&#39;, &#39;ready&#39;, &#39;ready&#39;, &#39;ready&#39;, &#39;ready&#39;, &#39;ready&#39;, &#39;ready&#39;, &#39;ready&#39;, &#39;ready&#39;, &#39;ready&#39;, &#39;ready&#39;, &#39;ready&#39;, &#39;ready&#39;, &#39;ready&#39;), 11) -->\n<g id=\"edge41\" class=\"edge\">\n<title>(('ready', 'ready', 'ready', 'ready', 'ready', 'ready', 'ready', 'ready', 'ready', 'ready', 'ready', 'ready', 'ready', 'ready', 'ready', 'ready', 'ready', 'ready', 'ready', 'ready', 'ready', 'ready', 'ready', 'ready', 'ready', 'ready', 'ready', 'ready', 'ready', 'ready', 'ready', 'ready', 'ready', 'ready', 'ready', 'ready', 'ready', 'ready', 'ready', 'ready', 'ready'), 10)-&gt;(('ready', 'ready', 'ready', 'ready', 'ready', 'ready', 'ready', 'ready', 'ready', 'ready', 'ready', 'ready', 'ready', 'ready', 'ready', 'ready', 'ready', 'ready', 'ready', 'ready', 'ready', 'ready', 'ready', 'ready', 'ready', 'ready', 'ready', 'ready', 'ready', 'ready', 'ready', 'ready', 'ready', 'ready', 'ready', 'ready', 'ready', 'ready', 'ready', 'ready', 'ready'), 11)</title>\n<path fill=\"none\" stroke=\"black\" d=\"M25925.57,-90C25963.16,-89.62 26000.39,-89.29 26037,-89 26201.87,-87.71 26377.2,-88.3 26547.04,-89.9\"/>\n<polygon fill=\"black\" stroke=\"black\" points=\"26547.15,-93.4 26557.18,-90 26547.22,-86.4 26547.15,-93.4\"/>\n<text text-anchor=\"middle\" x=\"26160.5\" y=\"-92.8\" font-family=\"Times,serif\" font-size=\"14.00\">('pick_copper_frame', 39),-5.0,1.0</text>\n</g>\n<!-- ((&#39;ready&#39;, &#39;ready&#39;, &#39;ready&#39;, &#39;ready&#39;, &#39;ready&#39;, &#39;ready&#39;, &#39;ready&#39;, &#39;ready&#39;, &#39;ready&#39;, &#39;ready&#39;, &#39;ready&#39;, &#39;ready&#39;, &#39;ready&#39;, &#39;ready&#39;, &#39;ready&#39;, &#39;ready&#39;, &#39;ready&#39;, &#39;ready&#39;, &#39;ready&#39;, &#39;ready&#39;, &#39;ready&#39;, &#39;ready&#39;, &#39;ready&#39;, &#39;ready&#39;, &#39;ready&#39;, &#39;ready&#39;, &#39;ready&#39;, &#39;ready&#39;, &#39;ready&#39;, &#39;ready&#39;, &#39;ready&#39;, &#39;ready&#39;, &#39;ready&#39;, &#39;ready&#39;, &#39;ready&#39;, &#39;ready&#39;, &#39;ready&#39;, &#39;ready&#39;, &#39;ready&#39;, &#39;ready&#39;, &#39;ready&#39;), 10)&#45;&gt;((&#39;ready&#39;, &#39;ready&#39;, &#39;ready&#39;, &#39;ready&#39;, &#39;ready&#39;, &#39;ready&#39;, &#39;ready&#39;, &#39;ready&#39;, &#39;ready&#39;, &#39;ready&#39;, &#39;ready&#39;, &#39;ready&#39;, &#39;ready&#39;, &#39;ready&#39;, &#39;ready&#39;, &#39;ready&#39;, &#39;ready&#39;, &#39;ready&#39;, &#39;ready&#39;, &#39;ready&#39;, &#39;ready&#39;, &#39;ready&#39;, &#39;ready&#39;, &#39;ready&#39;, &#39;ready&#39;, &#39;ready&#39;, &#39;ready&#39;, &#39;ready&#39;, &#39;ready&#39;, &#39;ready&#39;, &#39;ready&#39;, &#39;ready&#39;, &#39;ready&#39;, &#39;ready&#39;, &#39;ready&#39;, &#39;ready&#39;, &#39;ready&#39;, &#39;ready&#39;, &#39;ready&#39;, &#39;ready&#39;, &#39;ready&#39;), 11) -->\n<g id=\"edge42\" class=\"edge\">\n<title>(('ready', 'ready', 'ready', 'ready', 'ready', 'ready', 'ready', 'ready', 'ready', 'ready', 'ready', 'ready', 'ready', 'ready', 'ready', 'ready', 'ready', 'ready', 'ready', 'ready', 'ready', 'ready', 'ready', 'ready', 'ready', 'ready', 'ready', 'ready', 'ready', 'ready', 'ready', 'ready', 'ready', 'ready', 'ready', 'ready', 'ready', 'ready', 'ready', 'ready', 'ready'), 10)-&gt;(('ready', 'ready', 'ready', 'ready', 'ready', 'ready', 'ready', 'ready', 'ready', 'ready', 'ready', 'ready', 'ready', 'ready', 'ready', 'ready', 'ready', 'ready', 'ready', 'ready', 'ready', 'ready', 'ready', 'ready', 'ready', 'ready', 'ready', 'ready', 'ready', 'ready', 'ready', 'ready', 'ready', 'ready', 'ready', 'ready', 'ready', 'ready', 'ready', 'ready', 'ready'), 11)</title>\n<path fill=\"none\" stroke=\"black\" d=\"M25276.14,-90C25504.29,-81.8 25785.28,-73.04 26037,-69 26409.86,-63.01 26836.15,-76.76 27131.52,-89.56\"/>\n<polygon fill=\"black\" stroke=\"black\" points=\"27131.39,-93.05 27141.53,-89.99 27131.7,-86.06 27131.39,-93.05\"/>\n<text text-anchor=\"middle\" x=\"26160.5\" y=\"-72.8\" font-family=\"Times,serif\" font-size=\"14.00\">('pick_copper_frame', 40),-1.0,1.0</text>\n</g>\n<!-- ((&#39;ready&#39;, &#39;ready&#39;, &#39;ready&#39;, &#39;ready&#39;, &#39;ready&#39;, &#39;ready&#39;, &#39;ready&#39;, &#39;ready&#39;, &#39;ready&#39;, &#39;ready&#39;, &#39;ready&#39;, &#39;ready&#39;, &#39;ready&#39;, &#39;ready&#39;, &#39;ready&#39;, &#39;ready&#39;, &#39;ready&#39;, &#39;ready&#39;, &#39;ready&#39;, &#39;ready&#39;, &#39;ready&#39;, &#39;ready&#39;, &#39;ready&#39;, &#39;ready&#39;, &#39;ready&#39;, &#39;ready&#39;, &#39;ready&#39;, &#39;ready&#39;, &#39;ready&#39;, &#39;ready&#39;, &#39;ready&#39;, &#39;ready&#39;, &#39;ready&#39;, &#39;ready&#39;, &#39;ready&#39;, &#39;ready&#39;, &#39;ready&#39;, &#39;ready&#39;, &#39;ready&#39;, &#39;ready&#39;, &#39;ready&#39;), 0) -->\n<g id=\"node5\" class=\"node\">\n<title>(('ready', 'ready', 'ready', 'ready', 'ready', 'ready', 'ready', 'ready', 'ready', 'ready', 'ready', 'ready', 'ready', 'ready', 'ready', 'ready', 'ready', 'ready', 'ready', 'ready', 'ready', 'ready', 'ready', 'ready', 'ready', 'ready', 'ready', 'ready', 'ready', 'ready', 'ready', 'ready', 'ready', 'ready', 'ready', 'ready', 'ready', 'ready', 'ready', 'ready', 'ready'), 0)</title>\n<polygon fill=\"none\" stroke=\"black\" points=\"2384,-126 0,-126 0,-90 2384,-90 2384,-126\"/>\n<text text-anchor=\"middle\" x=\"1192\" y=\"-104.3\" font-family=\"Times,serif\" font-size=\"14.00\">(('ready', 'ready', 'ready', 'ready', 'ready', 'ready', 'ready', 'ready', 'ready', 'ready', 'ready', 'ready', 'ready', 'ready', 'ready', 'ready', 'ready', 'ready', 'ready', 'ready', 'ready', 'ready', 'ready', 'ready', 'ready', 'ready', 'ready', 'ready', 'ready', 'ready', 'ready', 'ready', 'ready', 'ready', 'ready', 'ready', 'ready', 'ready', 'ready', 'ready', 'ready'), 0)</text>\n</g>\n<!-- ((&#39;ready&#39;, &#39;ready&#39;, &#39;ready&#39;, &#39;ready&#39;, &#39;ready&#39;, &#39;ready&#39;, &#39;ready&#39;, &#39;ready&#39;, &#39;ready&#39;, &#39;ready&#39;, &#39;ready&#39;, &#39;ready&#39;, &#39;ready&#39;, &#39;ready&#39;, &#39;ready&#39;, &#39;ready&#39;, &#39;ready&#39;, &#39;ready&#39;, &#39;ready&#39;, &#39;ready&#39;, &#39;ready&#39;, &#39;ready&#39;, &#39;ready&#39;, &#39;ready&#39;, &#39;ready&#39;, &#39;ready&#39;, &#39;ready&#39;, &#39;ready&#39;, &#39;ready&#39;, &#39;ready&#39;, &#39;ready&#39;, &#39;ready&#39;, &#39;ready&#39;, &#39;ready&#39;, &#39;ready&#39;, &#39;ready&#39;, &#39;ready&#39;, &#39;ready&#39;, &#39;ready&#39;, &#39;ready&#39;, &#39;ready&#39;), 2) -->\n<g id=\"node9\" class=\"node\">\n<title>(('ready', 'ready', 'ready', 'ready', 'ready', 'ready', 'ready', 'ready', 'ready', 'ready', 'ready', 'ready', 'ready', 'ready', 'ready', 'ready', 'ready', 'ready', 'ready', 'ready', 'ready', 'ready', 'ready', 'ready', 'ready', 'ready', 'ready', 'ready', 'ready', 'ready', 'ready', 'ready', 'ready', 'ready', 'ready', 'ready', 'ready', 'ready', 'ready', 'ready', 'ready'), 2)</title>\n<polygon fill=\"none\" stroke=\"black\" points=\"5024,-126 2640,-126 2640,-90 5024,-90 5024,-126\"/>\n<text text-anchor=\"middle\" x=\"3832\" y=\"-104.3\" font-family=\"Times,serif\" font-size=\"14.00\">(('ready', 'ready', 'ready', 'ready', 'ready', 'ready', 'ready', 'ready', 'ready', 'ready', 'ready', 'ready', 'ready', 'ready', 'ready', 'ready', 'ready', 'ready', 'ready', 'ready', 'ready', 'ready', 'ready', 'ready', 'ready', 'ready', 'ready', 'ready', 'ready', 'ready', 'ready', 'ready', 'ready', 'ready', 'ready', 'ready', 'ready', 'ready', 'ready', 'ready', 'ready'), 2)</text>\n</g>\n<!-- ((&#39;ready&#39;, &#39;ready&#39;, &#39;ready&#39;, &#39;ready&#39;, &#39;ready&#39;, &#39;ready&#39;, &#39;ready&#39;, &#39;ready&#39;, &#39;ready&#39;, &#39;ready&#39;, &#39;ready&#39;, &#39;ready&#39;, &#39;ready&#39;, &#39;ready&#39;, &#39;ready&#39;, &#39;ready&#39;, &#39;ready&#39;, &#39;ready&#39;, &#39;ready&#39;, &#39;ready&#39;, &#39;ready&#39;, &#39;ready&#39;, &#39;ready&#39;, &#39;ready&#39;, &#39;ready&#39;, &#39;ready&#39;, &#39;ready&#39;, &#39;ready&#39;, &#39;ready&#39;, &#39;ready&#39;, &#39;ready&#39;, &#39;ready&#39;, &#39;ready&#39;, &#39;ready&#39;, &#39;ready&#39;, &#39;ready&#39;, &#39;ready&#39;, &#39;ready&#39;, &#39;ready&#39;, &#39;ready&#39;, &#39;ready&#39;), 0)&#45;&gt;((&#39;ready&#39;, &#39;ready&#39;, &#39;ready&#39;, &#39;ready&#39;, &#39;ready&#39;, &#39;ready&#39;, &#39;ready&#39;, &#39;ready&#39;, &#39;ready&#39;, &#39;ready&#39;, &#39;ready&#39;, &#39;ready&#39;, &#39;ready&#39;, &#39;ready&#39;, &#39;ready&#39;, &#39;ready&#39;, &#39;ready&#39;, &#39;ready&#39;, &#39;ready&#39;, &#39;ready&#39;, &#39;ready&#39;, &#39;ready&#39;, &#39;ready&#39;, &#39;ready&#39;, &#39;ready&#39;, &#39;ready&#39;, &#39;ready&#39;, &#39;ready&#39;, &#39;ready&#39;, &#39;ready&#39;, &#39;ready&#39;, &#39;ready&#39;, &#39;ready&#39;, &#39;ready&#39;, &#39;ready&#39;, &#39;ready&#39;, &#39;ready&#39;, &#39;ready&#39;, &#39;ready&#39;, &#39;ready&#39;, &#39;ready&#39;), 2) -->\n<g id=\"edge2\" class=\"edge\">\n<title>(('ready', 'ready', 'ready', 'ready', 'ready', 'ready', 'ready', 'ready', 'ready', 'ready', 'ready', 'ready', 'ready', 'ready', 'ready', 'ready', 'ready', 'ready', 'ready', 'ready', 'ready', 'ready', 'ready', 'ready', 'ready', 'ready', 'ready', 'ready', 'ready', 'ready', 'ready', 'ready', 'ready', 'ready', 'ready', 'ready', 'ready', 'ready', 'ready', 'ready', 'ready'), 0)-&gt;(('ready', 'ready', 'ready', 'ready', 'ready', 'ready', 'ready', 'ready', 'ready', 'ready', 'ready', 'ready', 'ready', 'ready', 'ready', 'ready', 'ready', 'ready', 'ready', 'ready', 'ready', 'ready', 'ready', 'ready', 'ready', 'ready', 'ready', 'ready', 'ready', 'ready', 'ready', 'ready', 'ready', 'ready', 'ready', 'ready', 'ready', 'ready', 'ready', 'ready', 'ready'), 2)</title>\n<path fill=\"none\" stroke=\"black\" d=\"M1589.89,-126.01C1876.63,-137 2273.21,-148.05 2622,-143 2848.19,-139.73 3098.1,-133.01 3311.72,-126.33\"/>\n<polygon fill=\"black\" stroke=\"black\" points=\"3311.98,-129.82 3321.87,-126.01 3311.76,-122.83 3311.98,-129.82\"/>\n<text text-anchor=\"middle\" x=\"2512\" y=\"-147.8\" font-family=\"Times,serif\" font-size=\"14.00\">('pick_buy_design', 0),-2.0,1.0</text>\n</g>\n<!-- ((&#39;ready&#39;, &#39;ready&#39;, &#39;ready&#39;, &#39;ready&#39;, &#39;ready&#39;, &#39;ready&#39;, &#39;ready&#39;, &#39;ready&#39;, &#39;ready&#39;, &#39;ready&#39;, &#39;ready&#39;, &#39;ready&#39;, &#39;ready&#39;, &#39;ready&#39;, &#39;ready&#39;, &#39;ready&#39;, &#39;ready&#39;, &#39;ready&#39;, &#39;ready&#39;, &#39;ready&#39;, &#39;ready&#39;, &#39;ready&#39;, &#39;ready&#39;, &#39;ready&#39;, &#39;ready&#39;, &#39;ready&#39;, &#39;ready&#39;, &#39;ready&#39;, &#39;ready&#39;, &#39;ready&#39;, &#39;ready&#39;, &#39;ready&#39;, &#39;ready&#39;, &#39;ready&#39;, &#39;ready&#39;, &#39;ready&#39;, &#39;ready&#39;, &#39;ready&#39;, &#39;ready&#39;, &#39;ready&#39;, &#39;ready&#39;), 0)&#45;&gt;((&#39;ready&#39;, &#39;ready&#39;, &#39;ready&#39;, &#39;ready&#39;, &#39;ready&#39;, &#39;ready&#39;, &#39;ready&#39;, &#39;ready&#39;, &#39;ready&#39;, &#39;ready&#39;, &#39;ready&#39;, &#39;ready&#39;, &#39;ready&#39;, &#39;ready&#39;, &#39;ready&#39;, &#39;ready&#39;, &#39;ready&#39;, &#39;ready&#39;, &#39;ready&#39;, &#39;ready&#39;, &#39;ready&#39;, &#39;ready&#39;, &#39;ready&#39;, &#39;ready&#39;, &#39;ready&#39;, &#39;ready&#39;, &#39;ready&#39;, &#39;ready&#39;, &#39;ready&#39;, &#39;ready&#39;, &#39;ready&#39;, &#39;ready&#39;, &#39;ready&#39;, &#39;ready&#39;, &#39;ready&#39;, &#39;ready&#39;, &#39;ready&#39;, &#39;ready&#39;, &#39;ready&#39;, &#39;ready&#39;, &#39;ready&#39;), 2) -->\n<g id=\"edge3\" class=\"edge\">\n<title>(('ready', 'ready', 'ready', 'ready', 'ready', 'ready', 'ready', 'ready', 'ready', 'ready', 'ready', 'ready', 'ready', 'ready', 'ready', 'ready', 'ready', 'ready', 'ready', 'ready', 'ready', 'ready', 'ready', 'ready', 'ready', 'ready', 'ready', 'ready', 'ready', 'ready', 'ready', 'ready', 'ready', 'ready', 'ready', 'ready', 'ready', 'ready', 'ready', 'ready', 'ready'), 0)-&gt;(('ready', 'ready', 'ready', 'ready', 'ready', 'ready', 'ready', 'ready', 'ready', 'ready', 'ready', 'ready', 'ready', 'ready', 'ready', 'ready', 'ready', 'ready', 'ready', 'ready', 'ready', 'ready', 'ready', 'ready', 'ready', 'ready', 'ready', 'ready', 'ready', 'ready', 'ready', 'ready', 'ready', 'ready', 'ready', 'ready', 'ready', 'ready', 'ready', 'ready', 'ready'), 2)</title>\n<path fill=\"none\" stroke=\"black\" d=\"M2384.18,-108C2465.7,-108 2547.89,-108 2629.47,-108\"/>\n<polygon fill=\"black\" stroke=\"black\" points=\"2629.93,-111.5 2639.93,-108 2629.93,-104.5 2629.93,-111.5\"/>\n<text text-anchor=\"middle\" x=\"2512\" y=\"-111.8\" font-family=\"Times,serif\" font-size=\"14.00\">('pick_buy_design', 1),-6.8,1.0</text>\n</g>\n<!-- ((&#39;ready&#39;, &#39;ready&#39;, &#39;ready&#39;, &#39;ready&#39;, &#39;ready&#39;, &#39;ready&#39;, &#39;ready&#39;, &#39;ready&#39;, &#39;ready&#39;, &#39;ready&#39;, &#39;ready&#39;, &#39;ready&#39;, &#39;ready&#39;, &#39;ready&#39;, &#39;ready&#39;, &#39;ready&#39;, &#39;ready&#39;, &#39;ready&#39;, &#39;ready&#39;, &#39;ready&#39;, &#39;ready&#39;, &#39;ready&#39;, &#39;ready&#39;, &#39;ready&#39;, &#39;ready&#39;, &#39;ready&#39;, &#39;ready&#39;, &#39;ready&#39;, &#39;ready&#39;, &#39;ready&#39;, &#39;ready&#39;, &#39;ready&#39;, &#39;ready&#39;, &#39;ready&#39;, &#39;ready&#39;, &#39;ready&#39;, &#39;ready&#39;, &#39;ready&#39;, &#39;ready&#39;, &#39;ready&#39;, &#39;ready&#39;), 0)&#45;&gt;((&#39;ready&#39;, &#39;ready&#39;, &#39;ready&#39;, &#39;ready&#39;, &#39;ready&#39;, &#39;ready&#39;, &#39;ready&#39;, &#39;ready&#39;, &#39;ready&#39;, &#39;ready&#39;, &#39;ready&#39;, &#39;ready&#39;, &#39;ready&#39;, &#39;ready&#39;, &#39;ready&#39;, &#39;ready&#39;, &#39;ready&#39;, &#39;ready&#39;, &#39;ready&#39;, &#39;ready&#39;, &#39;ready&#39;, &#39;ready&#39;, &#39;ready&#39;, &#39;ready&#39;, &#39;ready&#39;, &#39;ready&#39;, &#39;ready&#39;, &#39;ready&#39;, &#39;ready&#39;, &#39;ready&#39;, &#39;ready&#39;, &#39;ready&#39;, &#39;ready&#39;, &#39;ready&#39;, &#39;ready&#39;, &#39;ready&#39;, &#39;ready&#39;, &#39;ready&#39;, &#39;ready&#39;, &#39;ready&#39;, &#39;ready&#39;), 2) -->\n<g id=\"edge4\" class=\"edge\">\n<title>(('ready', 'ready', 'ready', 'ready', 'ready', 'ready', 'ready', 'ready', 'ready', 'ready', 'ready', 'ready', 'ready', 'ready', 'ready', 'ready', 'ready', 'ready', 'ready', 'ready', 'ready', 'ready', 'ready', 'ready', 'ready', 'ready', 'ready', 'ready', 'ready', 'ready', 'ready', 'ready', 'ready', 'ready', 'ready', 'ready', 'ready', 'ready', 'ready', 'ready', 'ready'), 0)-&gt;(('ready', 'ready', 'ready', 'ready', 'ready', 'ready', 'ready', 'ready', 'ready', 'ready', 'ready', 'ready', 'ready', 'ready', 'ready', 'ready', 'ready', 'ready', 'ready', 'ready', 'ready', 'ready', 'ready', 'ready', 'ready', 'ready', 'ready', 'ready', 'ready', 'ready', 'ready', 'ready', 'ready', 'ready', 'ready', 'ready', 'ready', 'ready', 'ready', 'ready', 'ready'), 2)</title>\n<path fill=\"none\" stroke=\"black\" d=\"M2116.87,-90C2284.94,-88.35 2458.72,-87.72 2622,-89 2655.2,-89.26 2688.9,-89.56 2722.93,-89.9\"/>\n<polygon fill=\"black\" stroke=\"black\" points=\"2722.99,-93.4 2733.02,-90 2723.06,-86.4 2722.99,-93.4\"/>\n<text text-anchor=\"middle\" x=\"2512\" y=\"-92.8\" font-family=\"Times,serif\" font-size=\"14.00\">('pick_buy_design', 2),-11.7,1.0</text>\n</g>\n<!-- ((&#39;ready&#39;, &#39;ready&#39;, &#39;ready&#39;, &#39;ready&#39;, &#39;ready&#39;, &#39;ready&#39;, &#39;ready&#39;, &#39;ready&#39;, &#39;ready&#39;, &#39;ready&#39;, &#39;ready&#39;, &#39;ready&#39;, &#39;ready&#39;, &#39;ready&#39;, &#39;ready&#39;, &#39;ready&#39;, &#39;ready&#39;, &#39;ready&#39;, &#39;ready&#39;, &#39;ready&#39;, &#39;ready&#39;, &#39;ready&#39;, &#39;ready&#39;, &#39;ready&#39;, &#39;ready&#39;, &#39;ready&#39;, &#39;ready&#39;, &#39;ready&#39;, &#39;ready&#39;, &#39;ready&#39;, &#39;ready&#39;, &#39;ready&#39;, &#39;ready&#39;, &#39;ready&#39;, &#39;ready&#39;, &#39;ready&#39;, &#39;ready&#39;, &#39;ready&#39;, &#39;ready&#39;, &#39;ready&#39;, &#39;ready&#39;), 0)&#45;&gt;((&#39;ready&#39;, &#39;ready&#39;, &#39;ready&#39;, &#39;ready&#39;, &#39;ready&#39;, &#39;ready&#39;, &#39;ready&#39;, &#39;ready&#39;, &#39;ready&#39;, &#39;ready&#39;, &#39;ready&#39;, &#39;ready&#39;, &#39;ready&#39;, &#39;ready&#39;, &#39;ready&#39;, &#39;ready&#39;, &#39;ready&#39;, &#39;ready&#39;, &#39;ready&#39;, &#39;ready&#39;, &#39;ready&#39;, &#39;ready&#39;, &#39;ready&#39;, &#39;ready&#39;, &#39;ready&#39;, &#39;ready&#39;, &#39;ready&#39;, &#39;ready&#39;, &#39;ready&#39;, &#39;ready&#39;, &#39;ready&#39;, &#39;ready&#39;, &#39;ready&#39;, &#39;ready&#39;, &#39;ready&#39;, &#39;ready&#39;, &#39;ready&#39;, &#39;ready&#39;, &#39;ready&#39;, &#39;ready&#39;, &#39;ready&#39;), 2) -->\n<g id=\"edge5\" class=\"edge\">\n<title>(('ready', 'ready', 'ready', 'ready', 'ready', 'ready', 'ready', 'ready', 'ready', 'ready', 'ready', 'ready', 'ready', 'ready', 'ready', 'ready', 'ready', 'ready', 'ready', 'ready', 'ready', 'ready', 'ready', 'ready', 'ready', 'ready', 'ready', 'ready', 'ready', 'ready', 'ready', 'ready', 'ready', 'ready', 'ready', 'ready', 'ready', 'ready', 'ready', 'ready', 'ready'), 0)-&gt;(('ready', 'ready', 'ready', 'ready', 'ready', 'ready', 'ready', 'ready', 'ready', 'ready', 'ready', 'ready', 'ready', 'ready', 'ready', 'ready', 'ready', 'ready', 'ready', 'ready', 'ready', 'ready', 'ready', 'ready', 'ready', 'ready', 'ready', 'ready', 'ready', 'ready', 'ready', 'ready', 'ready', 'ready', 'ready', 'ready', 'ready', 'ready', 'ready', 'ready', 'ready'), 2)</title>\n<path fill=\"none\" stroke=\"black\" d=\"M1542.75,-89.98C1832.02,-77.12 2253.65,-63.06 2622,-69 2869.12,-72.98 3144.54,-81.55 3370.01,-89.64\"/>\n<polygon fill=\"black\" stroke=\"black\" points=\"3369.92,-93.14 3380.03,-90 3370.17,-86.14 3369.92,-93.14\"/>\n<text text-anchor=\"middle\" x=\"2512\" y=\"-72.8\" font-family=\"Times,serif\" font-size=\"14.00\">('pick_buy_design', 3),-12.2,1.0</text>\n</g>\n<!-- ((&#39;ready&#39;, &#39;ready&#39;, &#39;ready&#39;, &#39;ready&#39;, &#39;ready&#39;, &#39;ready&#39;, &#39;ready&#39;, &#39;ready&#39;, &#39;ready&#39;, &#39;ready&#39;, &#39;ready&#39;, &#39;ready&#39;, &#39;ready&#39;, &#39;ready&#39;, &#39;ready&#39;, &#39;ready&#39;, &#39;ready&#39;, &#39;ready&#39;, &#39;ready&#39;, &#39;ready&#39;, &#39;ready&#39;, &#39;ready&#39;, &#39;ready&#39;, &#39;ready&#39;, &#39;ready&#39;, &#39;ready&#39;, &#39;ready&#39;, &#39;ready&#39;, &#39;ready&#39;, &#39;ready&#39;, &#39;ready&#39;, &#39;ready&#39;, &#39;ready&#39;, &#39;ready&#39;, &#39;ready&#39;, &#39;ready&#39;, &#39;ready&#39;, &#39;ready&#39;, &#39;ready&#39;, &#39;ready&#39;, &#39;ready&#39;), 3) -->\n<g id=\"node6\" class=\"node\">\n<title>(('ready', 'ready', 'ready', 'ready', 'ready', 'ready', 'ready', 'ready', 'ready', 'ready', 'ready', 'ready', 'ready', 'ready', 'ready', 'ready', 'ready', 'ready', 'ready', 'ready', 'ready', 'ready', 'ready', 'ready', 'ready', 'ready', 'ready', 'ready', 'ready', 'ready', 'ready', 'ready', 'ready', 'ready', 'ready', 'ready', 'ready', 'ready', 'ready', 'ready', 'ready'), 3)</title>\n<polygon fill=\"none\" stroke=\"black\" points=\"7648,-126 5264,-126 5264,-90 7648,-90 7648,-126\"/>\n<text text-anchor=\"middle\" x=\"6456\" y=\"-104.3\" font-family=\"Times,serif\" font-size=\"14.00\">(('ready', 'ready', 'ready', 'ready', 'ready', 'ready', 'ready', 'ready', 'ready', 'ready', 'ready', 'ready', 'ready', 'ready', 'ready', 'ready', 'ready', 'ready', 'ready', 'ready', 'ready', 'ready', 'ready', 'ready', 'ready', 'ready', 'ready', 'ready', 'ready', 'ready', 'ready', 'ready', 'ready', 'ready', 'ready', 'ready', 'ready', 'ready', 'ready', 'ready', 'ready'), 3)</text>\n</g>\n<!-- ((&#39;ready&#39;, &#39;ready&#39;, &#39;ready&#39;, &#39;ready&#39;, &#39;ready&#39;, &#39;ready&#39;, &#39;ready&#39;, &#39;ready&#39;, &#39;ready&#39;, &#39;ready&#39;, &#39;ready&#39;, &#39;ready&#39;, &#39;ready&#39;, &#39;ready&#39;, &#39;ready&#39;, &#39;ready&#39;, &#39;ready&#39;, &#39;ready&#39;, &#39;ready&#39;, &#39;ready&#39;, &#39;ready&#39;, &#39;ready&#39;, &#39;ready&#39;, &#39;ready&#39;, &#39;ready&#39;, &#39;ready&#39;, &#39;ready&#39;, &#39;ready&#39;, &#39;ready&#39;, &#39;ready&#39;, &#39;ready&#39;, &#39;ready&#39;, &#39;ready&#39;, &#39;ready&#39;, &#39;ready&#39;, &#39;ready&#39;, &#39;ready&#39;, &#39;ready&#39;, &#39;ready&#39;, &#39;ready&#39;, &#39;ready&#39;), 4) -->\n<g id=\"node13\" class=\"node\">\n<title>(('ready', 'ready', 'ready', 'ready', 'ready', 'ready', 'ready', 'ready', 'ready', 'ready', 'ready', 'ready', 'ready', 'ready', 'ready', 'ready', 'ready', 'ready', 'ready', 'ready', 'ready', 'ready', 'ready', 'ready', 'ready', 'ready', 'ready', 'ready', 'ready', 'ready', 'ready', 'ready', 'ready', 'ready', 'ready', 'ready', 'ready', 'ready', 'ready', 'ready', 'ready'), 4)</title>\n<polygon fill=\"none\" stroke=\"black\" points=\"10258,-126 7874,-126 7874,-90 10258,-90 10258,-126\"/>\n<text text-anchor=\"middle\" x=\"9066\" y=\"-104.3\" font-family=\"Times,serif\" font-size=\"14.00\">(('ready', 'ready', 'ready', 'ready', 'ready', 'ready', 'ready', 'ready', 'ready', 'ready', 'ready', 'ready', 'ready', 'ready', 'ready', 'ready', 'ready', 'ready', 'ready', 'ready', 'ready', 'ready', 'ready', 'ready', 'ready', 'ready', 'ready', 'ready', 'ready', 'ready', 'ready', 'ready', 'ready', 'ready', 'ready', 'ready', 'ready', 'ready', 'ready', 'ready', 'ready'), 4)</text>\n</g>\n<!-- ((&#39;ready&#39;, &#39;ready&#39;, &#39;ready&#39;, &#39;ready&#39;, &#39;ready&#39;, &#39;ready&#39;, &#39;ready&#39;, &#39;ready&#39;, &#39;ready&#39;, &#39;ready&#39;, &#39;ready&#39;, &#39;ready&#39;, &#39;ready&#39;, &#39;ready&#39;, &#39;ready&#39;, &#39;ready&#39;, &#39;ready&#39;, &#39;ready&#39;, &#39;ready&#39;, &#39;ready&#39;, &#39;ready&#39;, &#39;ready&#39;, &#39;ready&#39;, &#39;ready&#39;, &#39;ready&#39;, &#39;ready&#39;, &#39;ready&#39;, &#39;ready&#39;, &#39;ready&#39;, &#39;ready&#39;, &#39;ready&#39;, &#39;ready&#39;, &#39;ready&#39;, &#39;ready&#39;, &#39;ready&#39;, &#39;ready&#39;, &#39;ready&#39;, &#39;ready&#39;, &#39;ready&#39;, &#39;ready&#39;, &#39;ready&#39;), 3)&#45;&gt;((&#39;ready&#39;, &#39;ready&#39;, &#39;ready&#39;, &#39;ready&#39;, &#39;ready&#39;, &#39;ready&#39;, &#39;ready&#39;, &#39;ready&#39;, &#39;ready&#39;, &#39;ready&#39;, &#39;ready&#39;, &#39;ready&#39;, &#39;ready&#39;, &#39;ready&#39;, &#39;ready&#39;, &#39;ready&#39;, &#39;ready&#39;, &#39;ready&#39;, &#39;ready&#39;, &#39;ready&#39;, &#39;ready&#39;, &#39;ready&#39;, &#39;ready&#39;, &#39;ready&#39;, &#39;ready&#39;, &#39;ready&#39;, &#39;ready&#39;, &#39;ready&#39;, &#39;ready&#39;, &#39;ready&#39;, &#39;ready&#39;, &#39;ready&#39;, &#39;ready&#39;, &#39;ready&#39;, &#39;ready&#39;, &#39;ready&#39;, &#39;ready&#39;, &#39;ready&#39;, &#39;ready&#39;, &#39;ready&#39;, &#39;ready&#39;), 4) -->\n<g id=\"edge13\" class=\"edge\">\n<title>(('ready', 'ready', 'ready', 'ready', 'ready', 'ready', 'ready', 'ready', 'ready', 'ready', 'ready', 'ready', 'ready', 'ready', 'ready', 'ready', 'ready', 'ready', 'ready', 'ready', 'ready', 'ready', 'ready', 'ready', 'ready', 'ready', 'ready', 'ready', 'ready', 'ready', 'ready', 'ready', 'ready', 'ready', 'ready', 'ready', 'ready', 'ready', 'ready', 'ready', 'ready'), 3)-&gt;(('ready', 'ready', 'ready', 'ready', 'ready', 'ready', 'ready', 'ready', 'ready', 'ready', 'ready', 'ready', 'ready', 'ready', 'ready', 'ready', 'ready', 'ready', 'ready', 'ready', 'ready', 'ready', 'ready', 'ready', 'ready', 'ready', 'ready', 'ready', 'ready', 'ready', 'ready', 'ready', 'ready', 'ready', 'ready', 'ready', 'ready', 'ready', 'ready', 'ready', 'ready'), 4)</title>\n<path fill=\"none\" stroke=\"black\" d=\"M7648.43,-108C7720.06,-108 7792.15,-108 7863.82,-108\"/>\n<polygon fill=\"black\" stroke=\"black\" points=\"7863.93,-111.5 7873.93,-108 7863.93,-104.5 7863.93,-111.5\"/>\n<text text-anchor=\"middle\" x=\"7761\" y=\"-111.8\" font-family=\"Times,serif\" font-size=\"14.00\">('pick_wafer', 11),-10.1,1.0</text>\n</g>\n<!-- ((&#39;ready&#39;, &#39;ready&#39;, &#39;ready&#39;, &#39;ready&#39;, &#39;ready&#39;, &#39;ready&#39;, &#39;ready&#39;, &#39;ready&#39;, &#39;ready&#39;, &#39;ready&#39;, &#39;ready&#39;, &#39;ready&#39;, &#39;ready&#39;, &#39;ready&#39;, &#39;ready&#39;, &#39;ready&#39;, &#39;ready&#39;, &#39;ready&#39;, &#39;ready&#39;, &#39;ready&#39;, &#39;ready&#39;, &#39;ready&#39;, &#39;ready&#39;, &#39;ready&#39;, &#39;ready&#39;, &#39;ready&#39;, &#39;ready&#39;, &#39;ready&#39;, &#39;ready&#39;, &#39;ready&#39;, &#39;ready&#39;, &#39;ready&#39;, &#39;ready&#39;, &#39;ready&#39;, &#39;ready&#39;, &#39;ready&#39;, &#39;ready&#39;, &#39;ready&#39;, &#39;ready&#39;, &#39;ready&#39;, &#39;ready&#39;), 3)&#45;&gt;((&#39;ready&#39;, &#39;ready&#39;, &#39;ready&#39;, &#39;ready&#39;, &#39;ready&#39;, &#39;ready&#39;, &#39;ready&#39;, &#39;ready&#39;, &#39;ready&#39;, &#39;ready&#39;, &#39;ready&#39;, &#39;ready&#39;, &#39;ready&#39;, &#39;ready&#39;, &#39;ready&#39;, &#39;ready&#39;, &#39;ready&#39;, &#39;ready&#39;, &#39;ready&#39;, &#39;ready&#39;, &#39;ready&#39;, &#39;ready&#39;, &#39;ready&#39;, &#39;ready&#39;, &#39;ready&#39;, &#39;ready&#39;, &#39;ready&#39;, &#39;ready&#39;, &#39;ready&#39;, &#39;ready&#39;, &#39;ready&#39;, &#39;ready&#39;, &#39;ready&#39;, &#39;ready&#39;, &#39;ready&#39;, &#39;ready&#39;, &#39;ready&#39;, &#39;ready&#39;, &#39;ready&#39;, &#39;ready&#39;, &#39;ready&#39;), 4) -->\n<g id=\"edge14\" class=\"edge\">\n<title>(('ready', 'ready', 'ready', 'ready', 'ready', 'ready', 'ready', 'ready', 'ready', 'ready', 'ready', 'ready', 'ready', 'ready', 'ready', 'ready', 'ready', 'ready', 'ready', 'ready', 'ready', 'ready', 'ready', 'ready', 'ready', 'ready', 'ready', 'ready', 'ready', 'ready', 'ready', 'ready', 'ready', 'ready', 'ready', 'ready', 'ready', 'ready', 'ready', 'ready', 'ready'), 3)-&gt;(('ready', 'ready', 'ready', 'ready', 'ready', 'ready', 'ready', 'ready', 'ready', 'ready', 'ready', 'ready', 'ready', 'ready', 'ready', 'ready', 'ready', 'ready', 'ready', 'ready', 'ready', 'ready', 'ready', 'ready', 'ready', 'ready', 'ready', 'ready', 'ready', 'ready', 'ready', 'ready', 'ready', 'ready', 'ready', 'ready', 'ready', 'ready', 'ready', 'ready', 'ready'), 4)</title>\n<path fill=\"none\" stroke=\"black\" d=\"M7365.69,-90C7528.93,-88.38 7697.51,-87.75 7856,-89 7889.2,-89.26 7922.9,-89.56 7956.93,-89.9\"/>\n<polygon fill=\"black\" stroke=\"black\" points=\"7956.99,-93.4 7967.02,-90 7957.06,-86.4 7956.99,-93.4\"/>\n<text text-anchor=\"middle\" x=\"7761\" y=\"-92.8\" font-family=\"Times,serif\" font-size=\"14.00\">('pick_wafer', 12),-10.7,1.0</text>\n</g>\n<!-- ((&#39;ready&#39;, &#39;ready&#39;, &#39;ready&#39;, &#39;ready&#39;, &#39;ready&#39;, &#39;ready&#39;, &#39;ready&#39;, &#39;ready&#39;, &#39;ready&#39;, &#39;ready&#39;, &#39;ready&#39;, &#39;ready&#39;, &#39;ready&#39;, &#39;ready&#39;, &#39;ready&#39;, &#39;ready&#39;, &#39;ready&#39;, &#39;ready&#39;, &#39;ready&#39;, &#39;ready&#39;, &#39;ready&#39;, &#39;ready&#39;, &#39;ready&#39;, &#39;ready&#39;, &#39;ready&#39;, &#39;ready&#39;, &#39;ready&#39;, &#39;ready&#39;, &#39;ready&#39;, &#39;ready&#39;, &#39;ready&#39;, &#39;ready&#39;, &#39;ready&#39;, &#39;ready&#39;, &#39;ready&#39;, &#39;ready&#39;, &#39;ready&#39;, &#39;ready&#39;, &#39;ready&#39;, &#39;ready&#39;, &#39;ready&#39;), 9) -->\n<g id=\"node7\" class=\"node\">\n<title>(('ready', 'ready', 'ready', 'ready', 'ready', 'ready', 'ready', 'ready', 'ready', 'ready', 'ready', 'ready', 'ready', 'ready', 'ready', 'ready', 'ready', 'ready', 'ready', 'ready', 'ready', 'ready', 'ready', 'ready', 'ready', 'ready', 'ready', 'ready', 'ready', 'ready', 'ready', 'ready', 'ready', 'ready', 'ready', 'ready', 'ready', 'ready', 'ready', 'ready', 'ready'), 9)</title>\n<polygon fill=\"none\" stroke=\"black\" points=\"23379,-126 20995,-126 20995,-90 23379,-90 23379,-126\"/>\n<text text-anchor=\"middle\" x=\"22187\" y=\"-104.3\" font-family=\"Times,serif\" font-size=\"14.00\">(('ready', 'ready', 'ready', 'ready', 'ready', 'ready', 'ready', 'ready', 'ready', 'ready', 'ready', 'ready', 'ready', 'ready', 'ready', 'ready', 'ready', 'ready', 'ready', 'ready', 'ready', 'ready', 'ready', 'ready', 'ready', 'ready', 'ready', 'ready', 'ready', 'ready', 'ready', 'ready', 'ready', 'ready', 'ready', 'ready', 'ready', 'ready', 'ready', 'ready', 'ready'), 9)</text>\n</g>\n<!-- ((&#39;ready&#39;, &#39;ready&#39;, &#39;ready&#39;, &#39;ready&#39;, &#39;ready&#39;, &#39;ready&#39;, &#39;ready&#39;, &#39;ready&#39;, &#39;ready&#39;, &#39;ready&#39;, &#39;ready&#39;, &#39;ready&#39;, &#39;ready&#39;, &#39;ready&#39;, &#39;ready&#39;, &#39;ready&#39;, &#39;ready&#39;, &#39;ready&#39;, &#39;ready&#39;, &#39;ready&#39;, &#39;ready&#39;, &#39;ready&#39;, &#39;ready&#39;, &#39;ready&#39;, &#39;ready&#39;, &#39;ready&#39;, &#39;ready&#39;, &#39;ready&#39;, &#39;ready&#39;, &#39;ready&#39;, &#39;ready&#39;, &#39;ready&#39;, &#39;ready&#39;, &#39;ready&#39;, &#39;ready&#39;, &#39;ready&#39;, &#39;ready&#39;, &#39;ready&#39;, &#39;ready&#39;, &#39;ready&#39;, &#39;ready&#39;), 9)&#45;&gt;((&#39;ready&#39;, &#39;ready&#39;, &#39;ready&#39;, &#39;ready&#39;, &#39;ready&#39;, &#39;ready&#39;, &#39;ready&#39;, &#39;ready&#39;, &#39;ready&#39;, &#39;ready&#39;, &#39;ready&#39;, &#39;ready&#39;, &#39;ready&#39;, &#39;ready&#39;, &#39;ready&#39;, &#39;ready&#39;, &#39;ready&#39;, &#39;ready&#39;, &#39;ready&#39;, &#39;ready&#39;, &#39;ready&#39;, &#39;ready&#39;, &#39;ready&#39;, &#39;ready&#39;, &#39;ready&#39;, &#39;ready&#39;, &#39;ready&#39;, &#39;ready&#39;, &#39;ready&#39;, &#39;ready&#39;, &#39;ready&#39;, &#39;ready&#39;, &#39;ready&#39;, &#39;ready&#39;, &#39;ready&#39;, &#39;ready&#39;, &#39;ready&#39;, &#39;ready&#39;, &#39;ready&#39;, &#39;ready&#39;, &#39;ready&#39;), 10) -->\n<g id=\"edge37\" class=\"edge\">\n<title>(('ready', 'ready', 'ready', 'ready', 'ready', 'ready', 'ready', 'ready', 'ready', 'ready', 'ready', 'ready', 'ready', 'ready', 'ready', 'ready', 'ready', 'ready', 'ready', 'ready', 'ready', 'ready', 'ready', 'ready', 'ready', 'ready', 'ready', 'ready', 'ready', 'ready', 'ready', 'ready', 'ready', 'ready', 'ready', 'ready', 'ready', 'ready', 'ready', 'ready', 'ready'), 9)-&gt;(('ready', 'ready', 'ready', 'ready', 'ready', 'ready', 'ready', 'ready', 'ready', 'ready', 'ready', 'ready', 'ready', 'ready', 'ready', 'ready', 'ready', 'ready', 'ready', 'ready', 'ready', 'ready', 'ready', 'ready', 'ready', 'ready', 'ready', 'ready', 'ready', 'ready', 'ready', 'ready', 'ready', 'ready', 'ready', 'ready', 'ready', 'ready', 'ready', 'ready', 'ready'), 10)</title>\n<path fill=\"none\" stroke=\"black\" d=\"M23379.06,-108C23457.77,-108 23537.09,-108 23615.87,-108\"/>\n<polygon fill=\"black\" stroke=\"black\" points=\"23615.98,-111.5 23625.98,-108 23615.98,-104.5 23615.98,-111.5\"/>\n<text text-anchor=\"middle\" x=\"23502.5\" y=\"-111.8\" font-family=\"Times,serif\" font-size=\"14.00\">('pick_chemicals', 35),-1.8,1.0</text>\n</g>\n<!-- ((&#39;ready&#39;, &#39;ready&#39;, &#39;ready&#39;, &#39;ready&#39;, &#39;ready&#39;, &#39;ready&#39;, &#39;ready&#39;, &#39;ready&#39;, &#39;ready&#39;, &#39;ready&#39;, &#39;ready&#39;, &#39;ready&#39;, &#39;ready&#39;, &#39;ready&#39;, &#39;ready&#39;, &#39;ready&#39;, &#39;ready&#39;, &#39;ready&#39;, &#39;ready&#39;, &#39;ready&#39;, &#39;ready&#39;, &#39;ready&#39;, &#39;ready&#39;, &#39;ready&#39;, &#39;ready&#39;, &#39;ready&#39;, &#39;ready&#39;, &#39;ready&#39;, &#39;ready&#39;, &#39;ready&#39;, &#39;ready&#39;, &#39;ready&#39;, &#39;ready&#39;, &#39;ready&#39;, &#39;ready&#39;, &#39;ready&#39;, &#39;ready&#39;, &#39;ready&#39;, &#39;ready&#39;, &#39;ready&#39;, &#39;ready&#39;), 9)&#45;&gt;((&#39;ready&#39;, &#39;ready&#39;, &#39;ready&#39;, &#39;ready&#39;, &#39;ready&#39;, &#39;ready&#39;, &#39;ready&#39;, &#39;ready&#39;, &#39;ready&#39;, &#39;ready&#39;, &#39;ready&#39;, &#39;ready&#39;, &#39;ready&#39;, &#39;ready&#39;, &#39;ready&#39;, &#39;ready&#39;, &#39;ready&#39;, &#39;ready&#39;, &#39;ready&#39;, &#39;ready&#39;, &#39;ready&#39;, &#39;ready&#39;, &#39;ready&#39;, &#39;ready&#39;, &#39;ready&#39;, &#39;ready&#39;, &#39;ready&#39;, &#39;ready&#39;, &#39;ready&#39;, &#39;ready&#39;, &#39;ready&#39;, &#39;ready&#39;, &#39;ready&#39;, &#39;ready&#39;, &#39;ready&#39;, &#39;ready&#39;, &#39;ready&#39;, &#39;ready&#39;, &#39;ready&#39;, &#39;ready&#39;, &#39;ready&#39;), 10) -->\n<g id=\"edge38\" class=\"edge\">\n<title>(('ready', 'ready', 'ready', 'ready', 'ready', 'ready', 'ready', 'ready', 'ready', 'ready', 'ready', 'ready', 'ready', 'ready', 'ready', 'ready', 'ready', 'ready', 'ready', 'ready', 'ready', 'ready', 'ready', 'ready', 'ready', 'ready', 'ready', 'ready', 'ready', 'ready', 'ready', 'ready', 'ready', 'ready', 'ready', 'ready', 'ready', 'ready', 'ready', 'ready', 'ready'), 9)-&gt;(('ready', 'ready', 'ready', 'ready', 'ready', 'ready', 'ready', 'ready', 'ready', 'ready', 'ready', 'ready', 'ready', 'ready', 'ready', 'ready', 'ready', 'ready', 'ready', 'ready', 'ready', 'ready', 'ready', 'ready', 'ready', 'ready', 'ready', 'ready', 'ready', 'ready', 'ready', 'ready', 'ready', 'ready', 'ready', 'ready', 'ready', 'ready', 'ready', 'ready', 'ready'), 10)</title>\n<path fill=\"none\" stroke=\"black\" d=\"M23285.98,-90C23323.44,-89.62 23360.53,-89.29 23397,-89 23556.28,-87.75 23725.57,-88.33 23889.76,-89.9\"/>\n<polygon fill=\"black\" stroke=\"black\" points=\"23890.03,-93.4 23900.07,-90 23890.1,-86.4 23890.03,-93.4\"/>\n<text text-anchor=\"middle\" x=\"23502.5\" y=\"-92.8\" font-family=\"Times,serif\" font-size=\"14.00\">('pick_chemicals', 36),-2.0,1.0</text>\n</g>\n<!-- ((&#39;ready&#39;, &#39;ready&#39;, &#39;ready&#39;, &#39;ready&#39;, &#39;ready&#39;, &#39;ready&#39;, &#39;ready&#39;, &#39;ready&#39;, &#39;ready&#39;, &#39;ready&#39;, &#39;ready&#39;, &#39;ready&#39;, &#39;ready&#39;, &#39;ready&#39;, &#39;ready&#39;, &#39;ready&#39;, &#39;ready&#39;, &#39;ready&#39;, &#39;ready&#39;, &#39;ready&#39;, &#39;ready&#39;, &#39;ready&#39;, &#39;ready&#39;, &#39;ready&#39;, &#39;ready&#39;, &#39;ready&#39;, &#39;ready&#39;, &#39;ready&#39;, &#39;ready&#39;, &#39;ready&#39;, &#39;ready&#39;, &#39;ready&#39;, &#39;ready&#39;, &#39;ready&#39;, &#39;ready&#39;, &#39;ready&#39;, &#39;ready&#39;, &#39;ready&#39;, &#39;ready&#39;, &#39;ready&#39;, &#39;ready&#39;), 6) -->\n<g id=\"node8\" class=\"node\">\n<title>(('ready', 'ready', 'ready', 'ready', 'ready', 'ready', 'ready', 'ready', 'ready', 'ready', 'ready', 'ready', 'ready', 'ready', 'ready', 'ready', 'ready', 'ready', 'ready', 'ready', 'ready', 'ready', 'ready', 'ready', 'ready', 'ready', 'ready', 'ready', 'ready', 'ready', 'ready', 'ready', 'ready', 'ready', 'ready', 'ready', 'ready', 'ready', 'ready', 'ready', 'ready'), 6)</title>\n<polygon fill=\"none\" stroke=\"black\" points=\"15513,-126 13129,-126 13129,-90 15513,-90 15513,-126\"/>\n<text text-anchor=\"middle\" x=\"14321\" y=\"-104.3\" font-family=\"Times,serif\" font-size=\"14.00\">(('ready', 'ready', 'ready', 'ready', 'ready', 'ready', 'ready', 'ready', 'ready', 'ready', 'ready', 'ready', 'ready', 'ready', 'ready', 'ready', 'ready', 'ready', 'ready', 'ready', 'ready', 'ready', 'ready', 'ready', 'ready', 'ready', 'ready', 'ready', 'ready', 'ready', 'ready', 'ready', 'ready', 'ready', 'ready', 'ready', 'ready', 'ready', 'ready', 'ready', 'ready'), 6)</text>\n</g>\n<!-- ((&#39;ready&#39;, &#39;ready&#39;, &#39;ready&#39;, &#39;ready&#39;, &#39;ready&#39;, &#39;ready&#39;, &#39;ready&#39;, &#39;ready&#39;, &#39;ready&#39;, &#39;ready&#39;, &#39;ready&#39;, &#39;ready&#39;, &#39;ready&#39;, &#39;ready&#39;, &#39;ready&#39;, &#39;ready&#39;, &#39;ready&#39;, &#39;ready&#39;, &#39;ready&#39;, &#39;ready&#39;, &#39;ready&#39;, &#39;ready&#39;, &#39;ready&#39;, &#39;ready&#39;, &#39;ready&#39;, &#39;ready&#39;, &#39;ready&#39;, &#39;ready&#39;, &#39;ready&#39;, &#39;ready&#39;, &#39;ready&#39;, &#39;ready&#39;, &#39;ready&#39;, &#39;ready&#39;, &#39;ready&#39;, &#39;ready&#39;, &#39;ready&#39;, &#39;ready&#39;, &#39;ready&#39;, &#39;ready&#39;, &#39;ready&#39;), 6)&#45;&gt;((&#39;ready&#39;, &#39;ready&#39;, &#39;ready&#39;, &#39;ready&#39;, &#39;ready&#39;, &#39;ready&#39;, &#39;ready&#39;, &#39;ready&#39;, &#39;ready&#39;, &#39;ready&#39;, &#39;ready&#39;, &#39;ready&#39;, &#39;ready&#39;, &#39;ready&#39;, &#39;ready&#39;, &#39;ready&#39;, &#39;ready&#39;, &#39;ready&#39;, &#39;ready&#39;, &#39;ready&#39;, &#39;ready&#39;, &#39;ready&#39;, &#39;ready&#39;, &#39;ready&#39;, &#39;ready&#39;, &#39;ready&#39;, &#39;ready&#39;, &#39;ready&#39;, &#39;ready&#39;, &#39;ready&#39;, &#39;ready&#39;, &#39;ready&#39;, &#39;ready&#39;, &#39;ready&#39;, &#39;ready&#39;, &#39;ready&#39;, &#39;ready&#39;, &#39;ready&#39;, &#39;ready&#39;, &#39;ready&#39;, &#39;ready&#39;), 7) -->\n<g id=\"edge26\" class=\"edge\">\n<title>(('ready', 'ready', 'ready', 'ready', 'ready', 'ready', 'ready', 'ready', 'ready', 'ready', 'ready', 'ready', 'ready', 'ready', 'ready', 'ready', 'ready', 'ready', 'ready', 'ready', 'ready', 'ready', 'ready', 'ready', 'ready', 'ready', 'ready', 'ready', 'ready', 'ready', 'ready', 'ready', 'ready', 'ready', 'ready', 'ready', 'ready', 'ready', 'ready', 'ready', 'ready'), 6)-&gt;(('ready', 'ready', 'ready', 'ready', 'ready', 'ready', 'ready', 'ready', 'ready', 'ready', 'ready', 'ready', 'ready', 'ready', 'ready', 'ready', 'ready', 'ready', 'ready', 'ready', 'ready', 'ready', 'ready', 'ready', 'ready', 'ready', 'ready', 'ready', 'ready', 'ready', 'ready', 'ready', 'ready', 'ready', 'ready', 'ready', 'ready', 'ready', 'ready', 'ready', 'ready'), 7)</title>\n<path fill=\"none\" stroke=\"black\" d=\"M15513.24,-123.88C15519.18,-123.92 15525.1,-123.96 15531,-124 15605.2,-124.49 15681.57,-124.65 15758.58,-124.54\"/>\n<polygon fill=\"black\" stroke=\"black\" points=\"15758.96,-128.04 15768.96,-124.53 15758.95,-121.04 15758.96,-128.04\"/>\n<text text-anchor=\"middle\" x=\"15641\" y=\"-127.8\" font-family=\"Times,serif\" font-size=\"14.00\">('pick_aluminum', 24),-14.0,1.0</text>\n</g>\n<!-- ((&#39;ready&#39;, &#39;ready&#39;, &#39;ready&#39;, &#39;ready&#39;, &#39;ready&#39;, &#39;ready&#39;, &#39;ready&#39;, &#39;ready&#39;, &#39;ready&#39;, &#39;ready&#39;, &#39;ready&#39;, &#39;ready&#39;, &#39;ready&#39;, &#39;ready&#39;, &#39;ready&#39;, &#39;ready&#39;, &#39;ready&#39;, &#39;ready&#39;, &#39;ready&#39;, &#39;ready&#39;, &#39;ready&#39;, &#39;ready&#39;, &#39;ready&#39;, &#39;ready&#39;, &#39;ready&#39;, &#39;ready&#39;, &#39;ready&#39;, &#39;ready&#39;, &#39;ready&#39;, &#39;ready&#39;, &#39;ready&#39;, &#39;ready&#39;, &#39;ready&#39;, &#39;ready&#39;, &#39;ready&#39;, &#39;ready&#39;, &#39;ready&#39;, &#39;ready&#39;, &#39;ready&#39;, &#39;ready&#39;, &#39;ready&#39;), 6)&#45;&gt;((&#39;ready&#39;, &#39;ready&#39;, &#39;ready&#39;, &#39;ready&#39;, &#39;ready&#39;, &#39;ready&#39;, &#39;ready&#39;, &#39;ready&#39;, &#39;ready&#39;, &#39;ready&#39;, &#39;ready&#39;, &#39;ready&#39;, &#39;ready&#39;, &#39;ready&#39;, &#39;ready&#39;, &#39;ready&#39;, &#39;ready&#39;, &#39;ready&#39;, &#39;ready&#39;, &#39;ready&#39;, &#39;ready&#39;, &#39;ready&#39;, &#39;ready&#39;, &#39;ready&#39;, &#39;ready&#39;, &#39;ready&#39;, &#39;ready&#39;, &#39;ready&#39;, &#39;ready&#39;, &#39;ready&#39;, &#39;ready&#39;, &#39;ready&#39;, &#39;ready&#39;, &#39;ready&#39;, &#39;ready&#39;, &#39;ready&#39;, &#39;ready&#39;, &#39;ready&#39;, &#39;ready&#39;, &#39;ready&#39;, &#39;ready&#39;), 7) -->\n<g id=\"edge27\" class=\"edge\">\n<title>(('ready', 'ready', 'ready', 'ready', 'ready', 'ready', 'ready', 'ready', 'ready', 'ready', 'ready', 'ready', 'ready', 'ready', 'ready', 'ready', 'ready', 'ready', 'ready', 'ready', 'ready', 'ready', 'ready', 'ready', 'ready', 'ready', 'ready', 'ready', 'ready', 'ready', 'ready', 'ready', 'ready', 'ready', 'ready', 'ready', 'ready', 'ready', 'ready', 'ready', 'ready'), 6)-&gt;(('ready', 'ready', 'ready', 'ready', 'ready', 'ready', 'ready', 'ready', 'ready', 'ready', 'ready', 'ready', 'ready', 'ready', 'ready', 'ready', 'ready', 'ready', 'ready', 'ready', 'ready', 'ready', 'ready', 'ready', 'ready', 'ready', 'ready', 'ready', 'ready', 'ready', 'ready', 'ready', 'ready', 'ready', 'ready', 'ready', 'ready', 'ready', 'ready', 'ready', 'ready'), 7)</title>\n<path fill=\"none\" stroke=\"black\" d=\"M15513.05,-104.9C15593.58,-104.88 15673.47,-104.9 15751,-105 15753.58,-105 15756.17,-105.01 15758.76,-105.01\"/>\n<polygon fill=\"black\" stroke=\"black\" points=\"15758.75,-108.51 15768.76,-105.02 15758.76,-101.51 15758.75,-108.51\"/>\n<text text-anchor=\"middle\" x=\"15641\" y=\"-108.8\" font-family=\"Times,serif\" font-size=\"14.00\">('pick_aluminum', 25),-6.7,1.0</text>\n</g>\n<!-- ((&#39;ready&#39;, &#39;ready&#39;, &#39;ready&#39;, &#39;ready&#39;, &#39;ready&#39;, &#39;ready&#39;, &#39;ready&#39;, &#39;ready&#39;, &#39;ready&#39;, &#39;ready&#39;, &#39;ready&#39;, &#39;ready&#39;, &#39;ready&#39;, &#39;ready&#39;, &#39;ready&#39;, &#39;ready&#39;, &#39;ready&#39;, &#39;ready&#39;, &#39;ready&#39;, &#39;ready&#39;, &#39;ready&#39;, &#39;ready&#39;, &#39;ready&#39;, &#39;ready&#39;, &#39;ready&#39;, &#39;ready&#39;, &#39;ready&#39;, &#39;ready&#39;, &#39;ready&#39;, &#39;ready&#39;, &#39;ready&#39;, &#39;ready&#39;, &#39;ready&#39;, &#39;ready&#39;, &#39;ready&#39;, &#39;ready&#39;, &#39;ready&#39;, &#39;ready&#39;, &#39;ready&#39;, &#39;ready&#39;, &#39;ready&#39;), 6)&#45;&gt;((&#39;ready&#39;, &#39;ready&#39;, &#39;ready&#39;, &#39;ready&#39;, &#39;ready&#39;, &#39;ready&#39;, &#39;ready&#39;, &#39;ready&#39;, &#39;ready&#39;, &#39;ready&#39;, &#39;ready&#39;, &#39;ready&#39;, &#39;ready&#39;, &#39;ready&#39;, &#39;ready&#39;, &#39;ready&#39;, &#39;ready&#39;, &#39;ready&#39;, &#39;ready&#39;, &#39;ready&#39;, &#39;ready&#39;, &#39;ready&#39;, &#39;ready&#39;, &#39;ready&#39;, &#39;ready&#39;, &#39;ready&#39;, &#39;ready&#39;, &#39;ready&#39;, &#39;ready&#39;, &#39;ready&#39;, &#39;ready&#39;, &#39;ready&#39;, &#39;ready&#39;, &#39;ready&#39;, &#39;ready&#39;, &#39;ready&#39;, &#39;ready&#39;, &#39;ready&#39;, &#39;ready&#39;, &#39;ready&#39;, &#39;ready&#39;), 7) -->\n<g id=\"edge28\" class=\"edge\">\n<title>(('ready', 'ready', 'ready', 'ready', 'ready', 'ready', 'ready', 'ready', 'ready', 'ready', 'ready', 'ready', 'ready', 'ready', 'ready', 'ready', 'ready', 'ready', 'ready', 'ready', 'ready', 'ready', 'ready', 'ready', 'ready', 'ready', 'ready', 'ready', 'ready', 'ready', 'ready', 'ready', 'ready', 'ready', 'ready', 'ready', 'ready', 'ready', 'ready', 'ready', 'ready'), 6)-&gt;(('ready', 'ready', 'ready', 'ready', 'ready', 'ready', 'ready', 'ready', 'ready', 'ready', 'ready', 'ready', 'ready', 'ready', 'ready', 'ready', 'ready', 'ready', 'ready', 'ready', 'ready', 'ready', 'ready', 'ready', 'ready', 'ready', 'ready', 'ready', 'ready', 'ready', 'ready', 'ready', 'ready', 'ready', 'ready', 'ready', 'ready', 'ready', 'ready', 'ready', 'ready'), 7)</title>\n<path fill=\"none\" stroke=\"black\" d=\"M15159.74,-90C15284.2,-87.92 15410.95,-86.14 15531,-85 15772.69,-82.7 16037.36,-85.48 16272.52,-89.81\"/>\n<polygon fill=\"black\" stroke=\"black\" points=\"16272.58,-93.31 16282.64,-90 16272.7,-86.31 16272.58,-93.31\"/>\n<text text-anchor=\"middle\" x=\"15641\" y=\"-88.8\" font-family=\"Times,serif\" font-size=\"14.00\">('pick_aluminum', 26),-13.1,1.0</text>\n</g>\n<!-- ((&#39;ready&#39;, &#39;ready&#39;, &#39;ready&#39;, &#39;ready&#39;, &#39;ready&#39;, &#39;ready&#39;, &#39;ready&#39;, &#39;ready&#39;, &#39;ready&#39;, &#39;ready&#39;, &#39;ready&#39;, &#39;ready&#39;, &#39;ready&#39;, &#39;ready&#39;, &#39;ready&#39;, &#39;ready&#39;, &#39;ready&#39;, &#39;ready&#39;, &#39;ready&#39;, &#39;ready&#39;, &#39;ready&#39;, &#39;ready&#39;, &#39;ready&#39;, &#39;ready&#39;, &#39;ready&#39;, &#39;ready&#39;, &#39;ready&#39;, &#39;ready&#39;, &#39;ready&#39;, &#39;ready&#39;, &#39;ready&#39;, &#39;ready&#39;, &#39;ready&#39;, &#39;ready&#39;, &#39;ready&#39;, &#39;ready&#39;, &#39;ready&#39;, &#39;ready&#39;, &#39;ready&#39;, &#39;ready&#39;, &#39;ready&#39;), 2)&#45;&gt;((&#39;ready&#39;, &#39;ready&#39;, &#39;ready&#39;, &#39;ready&#39;, &#39;ready&#39;, &#39;ready&#39;, &#39;ready&#39;, &#39;ready&#39;, &#39;ready&#39;, &#39;ready&#39;, &#39;ready&#39;, &#39;ready&#39;, &#39;ready&#39;, &#39;ready&#39;, &#39;ready&#39;, &#39;ready&#39;, &#39;ready&#39;, &#39;ready&#39;, &#39;ready&#39;, &#39;ready&#39;, &#39;ready&#39;, &#39;ready&#39;, &#39;ready&#39;, &#39;ready&#39;, &#39;ready&#39;, &#39;ready&#39;, &#39;ready&#39;, &#39;ready&#39;, &#39;ready&#39;, &#39;ready&#39;, &#39;ready&#39;, &#39;ready&#39;, &#39;ready&#39;, &#39;ready&#39;, &#39;ready&#39;, &#39;ready&#39;, &#39;ready&#39;, &#39;ready&#39;, &#39;ready&#39;, &#39;ready&#39;, &#39;ready&#39;), 3) -->\n<g id=\"edge6\" class=\"edge\">\n<title>(('ready', 'ready', 'ready', 'ready', 'ready', 'ready', 'ready', 'ready', 'ready', 'ready', 'ready', 'ready', 'ready', 'ready', 'ready', 'ready', 'ready', 'ready', 'ready', 'ready', 'ready', 'ready', 'ready', 'ready', 'ready', 'ready', 'ready', 'ready', 'ready', 'ready', 'ready', 'ready', 'ready', 'ready', 'ready', 'ready', 'ready', 'ready', 'ready', 'ready', 'ready'), 2)-&gt;(('ready', 'ready', 'ready', 'ready', 'ready', 'ready', 'ready', 'ready', 'ready', 'ready', 'ready', 'ready', 'ready', 'ready', 'ready', 'ready', 'ready', 'ready', 'ready', 'ready', 'ready', 'ready', 'ready', 'ready', 'ready', 'ready', 'ready', 'ready', 'ready', 'ready', 'ready', 'ready', 'ready', 'ready', 'ready', 'ready', 'ready', 'ready', 'ready', 'ready', 'ready'), 3)</title>\n<path fill=\"none\" stroke=\"black\" d=\"M3967.8,-126.04C4219,-157.6 4775.88,-217.86 5246,-200 5606.7,-186.3 6026.62,-149.67 6264.6,-126.98\"/>\n<polygon fill=\"black\" stroke=\"black\" points=\"6265.12,-130.45 6274.74,-126.01 6264.45,-123.48 6265.12,-130.45\"/>\n<text text-anchor=\"middle\" x=\"5144\" y=\"-206.8\" font-family=\"Times,serif\" font-size=\"14.00\">('pick_silicon', 4),-11.7,1.0</text>\n</g>\n<!-- ((&#39;ready&#39;, &#39;ready&#39;, &#39;ready&#39;, &#39;ready&#39;, &#39;ready&#39;, &#39;ready&#39;, &#39;ready&#39;, &#39;ready&#39;, &#39;ready&#39;, &#39;ready&#39;, &#39;ready&#39;, &#39;ready&#39;, &#39;ready&#39;, &#39;ready&#39;, &#39;ready&#39;, &#39;ready&#39;, &#39;ready&#39;, &#39;ready&#39;, &#39;ready&#39;, &#39;ready&#39;, &#39;ready&#39;, &#39;ready&#39;, &#39;ready&#39;, &#39;ready&#39;, &#39;ready&#39;, &#39;ready&#39;, &#39;ready&#39;, &#39;ready&#39;, &#39;ready&#39;, &#39;ready&#39;, &#39;ready&#39;, &#39;ready&#39;, &#39;ready&#39;, &#39;ready&#39;, &#39;ready&#39;, &#39;ready&#39;, &#39;ready&#39;, &#39;ready&#39;, &#39;ready&#39;, &#39;ready&#39;, &#39;ready&#39;), 2)&#45;&gt;((&#39;ready&#39;, &#39;ready&#39;, &#39;ready&#39;, &#39;ready&#39;, &#39;ready&#39;, &#39;ready&#39;, &#39;ready&#39;, &#39;ready&#39;, &#39;ready&#39;, &#39;ready&#39;, &#39;ready&#39;, &#39;ready&#39;, &#39;ready&#39;, &#39;ready&#39;, &#39;ready&#39;, &#39;ready&#39;, &#39;ready&#39;, &#39;ready&#39;, &#39;ready&#39;, &#39;ready&#39;, &#39;ready&#39;, &#39;ready&#39;, &#39;ready&#39;, &#39;ready&#39;, &#39;ready&#39;, &#39;ready&#39;, &#39;ready&#39;, &#39;ready&#39;, &#39;ready&#39;, &#39;ready&#39;, &#39;ready&#39;, &#39;ready&#39;, &#39;ready&#39;, &#39;ready&#39;, &#39;ready&#39;, &#39;ready&#39;, &#39;ready&#39;, &#39;ready&#39;, &#39;ready&#39;, &#39;ready&#39;, &#39;ready&#39;), 3) -->\n<g id=\"edge7\" class=\"edge\">\n<title>(('ready', 'ready', 'ready', 'ready', 'ready', 'ready', 'ready', 'ready', 'ready', 'ready', 'ready', 'ready', 'ready', 'ready', 'ready', 'ready', 'ready', 'ready', 'ready', 'ready', 'ready', 'ready', 'ready', 'ready', 'ready', 'ready', 'ready', 'ready', 'ready', 'ready', 'ready', 'ready', 'ready', 'ready', 'ready', 'ready', 'ready', 'ready', 'ready', 'ready', 'ready'), 2)-&gt;(('ready', 'ready', 'ready', 'ready', 'ready', 'ready', 'ready', 'ready', 'ready', 'ready', 'ready', 'ready', 'ready', 'ready', 'ready', 'ready', 'ready', 'ready', 'ready', 'ready', 'ready', 'ready', 'ready', 'ready', 'ready', 'ready', 'ready', 'ready', 'ready', 'ready', 'ready', 'ready', 'ready', 'ready', 'ready', 'ready', 'ready', 'ready', 'ready', 'ready', 'ready'), 3)</title>\n<path fill=\"none\" stroke=\"black\" d=\"M4149.47,-126C4393.3,-138.94 4738.87,-155.23 5042,-162 5449.29,-171.09 5922.3,-145.7 6204.68,-126.72\"/>\n<polygon fill=\"black\" stroke=\"black\" points=\"6205.32,-130.18 6215.06,-126.02 6204.84,-123.2 6205.32,-130.18\"/>\n<text text-anchor=\"middle\" x=\"5144\" y=\"-166.8\" font-family=\"Times,serif\" font-size=\"14.00\">('pick_silicon', 5),-12.12,1.0</text>\n</g>\n<!-- ((&#39;ready&#39;, &#39;ready&#39;, &#39;ready&#39;, &#39;ready&#39;, &#39;ready&#39;, &#39;ready&#39;, &#39;ready&#39;, &#39;ready&#39;, &#39;ready&#39;, &#39;ready&#39;, &#39;ready&#39;, &#39;ready&#39;, &#39;ready&#39;, &#39;ready&#39;, &#39;ready&#39;, &#39;ready&#39;, &#39;ready&#39;, &#39;ready&#39;, &#39;ready&#39;, &#39;ready&#39;, &#39;ready&#39;, &#39;ready&#39;, &#39;ready&#39;, &#39;ready&#39;, &#39;ready&#39;, &#39;ready&#39;, &#39;ready&#39;, &#39;ready&#39;, &#39;ready&#39;, &#39;ready&#39;, &#39;ready&#39;, &#39;ready&#39;, &#39;ready&#39;, &#39;ready&#39;, &#39;ready&#39;, &#39;ready&#39;, &#39;ready&#39;, &#39;ready&#39;, &#39;ready&#39;, &#39;ready&#39;, &#39;ready&#39;), 2)&#45;&gt;((&#39;ready&#39;, &#39;ready&#39;, &#39;ready&#39;, &#39;ready&#39;, &#39;ready&#39;, &#39;ready&#39;, &#39;ready&#39;, &#39;ready&#39;, &#39;ready&#39;, &#39;ready&#39;, &#39;ready&#39;, &#39;ready&#39;, &#39;ready&#39;, &#39;ready&#39;, &#39;ready&#39;, &#39;ready&#39;, &#39;ready&#39;, &#39;ready&#39;, &#39;ready&#39;, &#39;ready&#39;, &#39;ready&#39;, &#39;ready&#39;, &#39;ready&#39;, &#39;ready&#39;, &#39;ready&#39;, &#39;ready&#39;, &#39;ready&#39;, &#39;ready&#39;, &#39;ready&#39;, &#39;ready&#39;, &#39;ready&#39;, &#39;ready&#39;, &#39;ready&#39;, &#39;ready&#39;, &#39;ready&#39;, &#39;ready&#39;, &#39;ready&#39;, &#39;ready&#39;, &#39;ready&#39;, &#39;ready&#39;, &#39;ready&#39;), 3) -->\n<g id=\"edge8\" class=\"edge\">\n<title>(('ready', 'ready', 'ready', 'ready', 'ready', 'ready', 'ready', 'ready', 'ready', 'ready', 'ready', 'ready', 'ready', 'ready', 'ready', 'ready', 'ready', 'ready', 'ready', 'ready', 'ready', 'ready', 'ready', 'ready', 'ready', 'ready', 'ready', 'ready', 'ready', 'ready', 'ready', 'ready', 'ready', 'ready', 'ready', 'ready', 'ready', 'ready', 'ready', 'ready', 'ready'), 2)-&gt;(('ready', 'ready', 'ready', 'ready', 'ready', 'ready', 'ready', 'ready', 'ready', 'ready', 'ready', 'ready', 'ready', 'ready', 'ready', 'ready', 'ready', 'ready', 'ready', 'ready', 'ready', 'ready', 'ready', 'ready', 'ready', 'ready', 'ready', 'ready', 'ready', 'ready', 'ready', 'ready', 'ready', 'ready', 'ready', 'ready', 'ready', 'ready', 'ready', 'ready', 'ready'), 3)</title>\n<path fill=\"none\" stroke=\"black\" d=\"M5024.08,-124.54C5099.18,-124.63 5173.63,-124.48 5246,-124 5248.58,-123.98 5251.17,-123.97 5253.76,-123.95\"/>\n<polygon fill=\"black\" stroke=\"black\" points=\"5253.78,-127.45 5263.76,-123.88 5253.73,-120.45 5253.78,-127.45\"/>\n<text text-anchor=\"middle\" x=\"5144\" y=\"-127.8\" font-family=\"Times,serif\" font-size=\"14.00\">('pick_silicon', 6),-7.16,1.0</text>\n</g>\n<!-- ((&#39;ready&#39;, &#39;ready&#39;, &#39;ready&#39;, &#39;ready&#39;, &#39;ready&#39;, &#39;ready&#39;, &#39;ready&#39;, &#39;ready&#39;, &#39;ready&#39;, &#39;ready&#39;, &#39;ready&#39;, &#39;ready&#39;, &#39;ready&#39;, &#39;ready&#39;, &#39;ready&#39;, &#39;ready&#39;, &#39;ready&#39;, &#39;ready&#39;, &#39;ready&#39;, &#39;ready&#39;, &#39;ready&#39;, &#39;ready&#39;, &#39;ready&#39;, &#39;ready&#39;, &#39;ready&#39;, &#39;ready&#39;, &#39;ready&#39;, &#39;ready&#39;, &#39;ready&#39;, &#39;ready&#39;, &#39;ready&#39;, &#39;ready&#39;, &#39;ready&#39;, &#39;ready&#39;, &#39;ready&#39;, &#39;ready&#39;, &#39;ready&#39;, &#39;ready&#39;, &#39;ready&#39;, &#39;ready&#39;, &#39;ready&#39;), 2)&#45;&gt;((&#39;ready&#39;, &#39;ready&#39;, &#39;ready&#39;, &#39;ready&#39;, &#39;ready&#39;, &#39;ready&#39;, &#39;ready&#39;, &#39;ready&#39;, &#39;ready&#39;, &#39;ready&#39;, &#39;ready&#39;, &#39;ready&#39;, &#39;ready&#39;, &#39;ready&#39;, &#39;ready&#39;, &#39;ready&#39;, &#39;ready&#39;, &#39;ready&#39;, &#39;ready&#39;, &#39;ready&#39;, &#39;ready&#39;, &#39;ready&#39;, &#39;ready&#39;, &#39;ready&#39;, &#39;ready&#39;, &#39;ready&#39;, &#39;ready&#39;, &#39;ready&#39;, &#39;ready&#39;, &#39;ready&#39;, &#39;ready&#39;, &#39;ready&#39;, &#39;ready&#39;, &#39;ready&#39;, &#39;ready&#39;, &#39;ready&#39;, &#39;ready&#39;, &#39;ready&#39;, &#39;ready&#39;, &#39;ready&#39;, &#39;ready&#39;), 3) -->\n<g id=\"edge9\" class=\"edge\">\n<title>(('ready', 'ready', 'ready', 'ready', 'ready', 'ready', 'ready', 'ready', 'ready', 'ready', 'ready', 'ready', 'ready', 'ready', 'ready', 'ready', 'ready', 'ready', 'ready', 'ready', 'ready', 'ready', 'ready', 'ready', 'ready', 'ready', 'ready', 'ready', 'ready', 'ready', 'ready', 'ready', 'ready', 'ready', 'ready', 'ready', 'ready', 'ready', 'ready', 'ready', 'ready'), 2)-&gt;(('ready', 'ready', 'ready', 'ready', 'ready', 'ready', 'ready', 'ready', 'ready', 'ready', 'ready', 'ready', 'ready', 'ready', 'ready', 'ready', 'ready', 'ready', 'ready', 'ready', 'ready', 'ready', 'ready', 'ready', 'ready', 'ready', 'ready', 'ready', 'ready', 'ready', 'ready', 'ready', 'ready', 'ready', 'ready', 'ready', 'ready', 'ready', 'ready', 'ready', 'ready'), 3)</title>\n<path fill=\"none\" stroke=\"black\" d=\"M5024.24,-105.02C5030.18,-105.01 5036.1,-105.01 5042,-105 5111.12,-104.91 5182.13,-104.88 5253.8,-104.9\"/>\n<polygon fill=\"black\" stroke=\"black\" points=\"5253.91,-108.4 5263.91,-104.9 5253.92,-101.4 5253.91,-108.4\"/>\n<text text-anchor=\"middle\" x=\"5144\" y=\"-108.8\" font-family=\"Times,serif\" font-size=\"14.00\">('pick_silicon', 7),-2.0,1.0</text>\n</g>\n<!-- ((&#39;ready&#39;, &#39;ready&#39;, &#39;ready&#39;, &#39;ready&#39;, &#39;ready&#39;, &#39;ready&#39;, &#39;ready&#39;, &#39;ready&#39;, &#39;ready&#39;, &#39;ready&#39;, &#39;ready&#39;, &#39;ready&#39;, &#39;ready&#39;, &#39;ready&#39;, &#39;ready&#39;, &#39;ready&#39;, &#39;ready&#39;, &#39;ready&#39;, &#39;ready&#39;, &#39;ready&#39;, &#39;ready&#39;, &#39;ready&#39;, &#39;ready&#39;, &#39;ready&#39;, &#39;ready&#39;, &#39;ready&#39;, &#39;ready&#39;, &#39;ready&#39;, &#39;ready&#39;, &#39;ready&#39;, &#39;ready&#39;, &#39;ready&#39;, &#39;ready&#39;, &#39;ready&#39;, &#39;ready&#39;, &#39;ready&#39;, &#39;ready&#39;, &#39;ready&#39;, &#39;ready&#39;, &#39;ready&#39;, &#39;ready&#39;), 2)&#45;&gt;((&#39;ready&#39;, &#39;ready&#39;, &#39;ready&#39;, &#39;ready&#39;, &#39;ready&#39;, &#39;ready&#39;, &#39;ready&#39;, &#39;ready&#39;, &#39;ready&#39;, &#39;ready&#39;, &#39;ready&#39;, &#39;ready&#39;, &#39;ready&#39;, &#39;ready&#39;, &#39;ready&#39;, &#39;ready&#39;, &#39;ready&#39;, &#39;ready&#39;, &#39;ready&#39;, &#39;ready&#39;, &#39;ready&#39;, &#39;ready&#39;, &#39;ready&#39;, &#39;ready&#39;, &#39;ready&#39;, &#39;ready&#39;, &#39;ready&#39;, &#39;ready&#39;, &#39;ready&#39;, &#39;ready&#39;, &#39;ready&#39;, &#39;ready&#39;, &#39;ready&#39;, &#39;ready&#39;, &#39;ready&#39;, &#39;ready&#39;, &#39;ready&#39;, &#39;ready&#39;, &#39;ready&#39;, &#39;ready&#39;, &#39;ready&#39;), 3) -->\n<g id=\"edge10\" class=\"edge\">\n<title>(('ready', 'ready', 'ready', 'ready', 'ready', 'ready', 'ready', 'ready', 'ready', 'ready', 'ready', 'ready', 'ready', 'ready', 'ready', 'ready', 'ready', 'ready', 'ready', 'ready', 'ready', 'ready', 'ready', 'ready', 'ready', 'ready', 'ready', 'ready', 'ready', 'ready', 'ready', 'ready', 'ready', 'ready', 'ready', 'ready', 'ready', 'ready', 'ready', 'ready', 'ready'), 2)-&gt;(('ready', 'ready', 'ready', 'ready', 'ready', 'ready', 'ready', 'ready', 'ready', 'ready', 'ready', 'ready', 'ready', 'ready', 'ready', 'ready', 'ready', 'ready', 'ready', 'ready', 'ready', 'ready', 'ready', 'ready', 'ready', 'ready', 'ready', 'ready', 'ready', 'ready', 'ready', 'ready', 'ready', 'ready', 'ready', 'ready', 'ready', 'ready', 'ready', 'ready', 'ready'), 3)</title>\n<path fill=\"none\" stroke=\"black\" d=\"M4504.56,-89.99C4739.13,-85.58 5004.19,-82.7 5246,-85 5362.77,-86.11 5485.87,-87.82 5607.04,-89.83\"/>\n<polygon fill=\"black\" stroke=\"black\" points=\"5607.2,-93.33 5617.26,-90 5607.32,-86.33 5607.2,-93.33\"/>\n<text text-anchor=\"middle\" x=\"5144\" y=\"-88.8\" font-family=\"Times,serif\" font-size=\"14.00\">('pick_silicon', 8),-6.7,1.0</text>\n</g>\n<!-- ((&#39;ready&#39;, &#39;ready&#39;, &#39;ready&#39;, &#39;ready&#39;, &#39;ready&#39;, &#39;ready&#39;, &#39;ready&#39;, &#39;ready&#39;, &#39;ready&#39;, &#39;ready&#39;, &#39;ready&#39;, &#39;ready&#39;, &#39;ready&#39;, &#39;ready&#39;, &#39;ready&#39;, &#39;ready&#39;, &#39;ready&#39;, &#39;ready&#39;, &#39;ready&#39;, &#39;ready&#39;, &#39;ready&#39;, &#39;ready&#39;, &#39;ready&#39;, &#39;ready&#39;, &#39;ready&#39;, &#39;ready&#39;, &#39;ready&#39;, &#39;ready&#39;, &#39;ready&#39;, &#39;ready&#39;, &#39;ready&#39;, &#39;ready&#39;, &#39;ready&#39;, &#39;ready&#39;, &#39;ready&#39;, &#39;ready&#39;, &#39;ready&#39;, &#39;ready&#39;, &#39;ready&#39;, &#39;ready&#39;, &#39;ready&#39;), 2)&#45;&gt;((&#39;ready&#39;, &#39;ready&#39;, &#39;ready&#39;, &#39;ready&#39;, &#39;ready&#39;, &#39;ready&#39;, &#39;ready&#39;, &#39;ready&#39;, &#39;ready&#39;, &#39;ready&#39;, &#39;ready&#39;, &#39;ready&#39;, &#39;ready&#39;, &#39;ready&#39;, &#39;ready&#39;, &#39;ready&#39;, &#39;ready&#39;, &#39;ready&#39;, &#39;ready&#39;, &#39;ready&#39;, &#39;ready&#39;, &#39;ready&#39;, &#39;ready&#39;, &#39;ready&#39;, &#39;ready&#39;, &#39;ready&#39;, &#39;ready&#39;, &#39;ready&#39;, &#39;ready&#39;, &#39;ready&#39;, &#39;ready&#39;, &#39;ready&#39;, &#39;ready&#39;, &#39;ready&#39;, &#39;ready&#39;, &#39;ready&#39;, &#39;ready&#39;, &#39;ready&#39;, &#39;ready&#39;, &#39;ready&#39;, &#39;ready&#39;), 3) -->\n<g id=\"edge11\" class=\"edge\">\n<title>(('ready', 'ready', 'ready', 'ready', 'ready', 'ready', 'ready', 'ready', 'ready', 'ready', 'ready', 'ready', 'ready', 'ready', 'ready', 'ready', 'ready', 'ready', 'ready', 'ready', 'ready', 'ready', 'ready', 'ready', 'ready', 'ready', 'ready', 'ready', 'ready', 'ready', 'ready', 'ready', 'ready', 'ready', 'ready', 'ready', 'ready', 'ready', 'ready', 'ready', 'ready'), 2)-&gt;(('ready', 'ready', 'ready', 'ready', 'ready', 'ready', 'ready', 'ready', 'ready', 'ready', 'ready', 'ready', 'ready', 'ready', 'ready', 'ready', 'ready', 'ready', 'ready', 'ready', 'ready', 'ready', 'ready', 'ready', 'ready', 'ready', 'ready', 'ready', 'ready', 'ready', 'ready', 'ready', 'ready', 'ready', 'ready', 'ready', 'ready', 'ready', 'ready', 'ready', 'ready'), 3)</title>\n<path fill=\"none\" stroke=\"black\" d=\"M4142.7,-89.99C4428.94,-75.39 4866.11,-58.25 5246,-65 5510.21,-69.7 5806.75,-80.16 6040.02,-89.59\"/>\n<polygon fill=\"black\" stroke=\"black\" points=\"6039.89,-93.09 6050.03,-90 6040.18,-86.1 6039.89,-93.09\"/>\n<text text-anchor=\"middle\" x=\"5144\" y=\"-68.8\" font-family=\"Times,serif\" font-size=\"14.00\">('pick_silicon', 9),-7.6,1.0</text>\n</g>\n<!-- ((&#39;ready&#39;, &#39;ready&#39;, &#39;ready&#39;, &#39;ready&#39;, &#39;ready&#39;, &#39;ready&#39;, &#39;ready&#39;, &#39;ready&#39;, &#39;ready&#39;, &#39;ready&#39;, &#39;ready&#39;, &#39;ready&#39;, &#39;ready&#39;, &#39;ready&#39;, &#39;ready&#39;, &#39;ready&#39;, &#39;ready&#39;, &#39;ready&#39;, &#39;ready&#39;, &#39;ready&#39;, &#39;ready&#39;, &#39;ready&#39;, &#39;ready&#39;, &#39;ready&#39;, &#39;ready&#39;, &#39;ready&#39;, &#39;ready&#39;, &#39;ready&#39;, &#39;ready&#39;, &#39;ready&#39;, &#39;ready&#39;, &#39;ready&#39;, &#39;ready&#39;, &#39;ready&#39;, &#39;ready&#39;, &#39;ready&#39;, &#39;ready&#39;, &#39;ready&#39;, &#39;ready&#39;, &#39;ready&#39;, &#39;ready&#39;), 2)&#45;&gt;((&#39;ready&#39;, &#39;ready&#39;, &#39;ready&#39;, &#39;ready&#39;, &#39;ready&#39;, &#39;ready&#39;, &#39;ready&#39;, &#39;ready&#39;, &#39;ready&#39;, &#39;ready&#39;, &#39;ready&#39;, &#39;ready&#39;, &#39;ready&#39;, &#39;ready&#39;, &#39;ready&#39;, &#39;ready&#39;, &#39;ready&#39;, &#39;ready&#39;, &#39;ready&#39;, &#39;ready&#39;, &#39;ready&#39;, &#39;ready&#39;, &#39;ready&#39;, &#39;ready&#39;, &#39;ready&#39;, &#39;ready&#39;, &#39;ready&#39;, &#39;ready&#39;, &#39;ready&#39;, &#39;ready&#39;, &#39;ready&#39;, &#39;ready&#39;, &#39;ready&#39;, &#39;ready&#39;, &#39;ready&#39;, &#39;ready&#39;, &#39;ready&#39;, &#39;ready&#39;, &#39;ready&#39;, &#39;ready&#39;, &#39;ready&#39;), 3) -->\n<g id=\"edge12\" class=\"edge\">\n<title>(('ready', 'ready', 'ready', 'ready', 'ready', 'ready', 'ready', 'ready', 'ready', 'ready', 'ready', 'ready', 'ready', 'ready', 'ready', 'ready', 'ready', 'ready', 'ready', 'ready', 'ready', 'ready', 'ready', 'ready', 'ready', 'ready', 'ready', 'ready', 'ready', 'ready', 'ready', 'ready', 'ready', 'ready', 'ready', 'ready', 'ready', 'ready', 'ready', 'ready', 'ready'), 2)-&gt;(('ready', 'ready', 'ready', 'ready', 'ready', 'ready', 'ready', 'ready', 'ready', 'ready', 'ready', 'ready', 'ready', 'ready', 'ready', 'ready', 'ready', 'ready', 'ready', 'ready', 'ready', 'ready', 'ready', 'ready', 'ready', 'ready', 'ready', 'ready', 'ready', 'ready', 'ready', 'ready', 'ready', 'ready', 'ready', 'ready', 'ready', 'ready', 'ready', 'ready', 'ready'), 3)</title>\n<path fill=\"none\" stroke=\"black\" d=\"M4177.96,-89.99C4415.76,-77.52 4739.06,-60.45 5024,-45 5032,-44.57 5033.99,-44.22 5042,-44 5132.63,-41.48 5155.37,-41.6 5246,-44 5567.23,-52.5 5935.96,-73.67 6180.9,-89.35\"/>\n<polygon fill=\"black\" stroke=\"black\" points=\"6180.81,-92.85 6191.01,-90 6181.26,-85.86 6180.81,-92.85\"/>\n<text text-anchor=\"middle\" x=\"5144\" y=\"-47.8\" font-family=\"Times,serif\" font-size=\"14.00\">('pick_silicon', 10),-14.73,1.0</text>\n</g>\n<!-- ((&#39;ready&#39;, &#39;ready&#39;, &#39;ready&#39;, &#39;ready&#39;, &#39;ready&#39;, &#39;ready&#39;, &#39;ready&#39;, &#39;ready&#39;, &#39;ready&#39;, &#39;ready&#39;, &#39;ready&#39;, &#39;ready&#39;, &#39;ready&#39;, &#39;ready&#39;, &#39;ready&#39;, &#39;ready&#39;, &#39;ready&#39;, &#39;ready&#39;, &#39;ready&#39;, &#39;ready&#39;, &#39;ready&#39;, &#39;ready&#39;, &#39;ready&#39;, &#39;ready&#39;, &#39;ready&#39;, &#39;ready&#39;, &#39;ready&#39;, &#39;ready&#39;, &#39;ready&#39;, &#39;ready&#39;, &#39;ready&#39;, &#39;ready&#39;, &#39;ready&#39;, &#39;ready&#39;, &#39;ready&#39;, &#39;ready&#39;, &#39;ready&#39;, &#39;ready&#39;, &#39;ready&#39;, &#39;ready&#39;, &#39;ready&#39;), 5) -->\n<g id=\"node10\" class=\"node\">\n<title>(('ready', 'ready', 'ready', 'ready', 'ready', 'ready', 'ready', 'ready', 'ready', 'ready', 'ready', 'ready', 'ready', 'ready', 'ready', 'ready', 'ready', 'ready', 'ready', 'ready', 'ready', 'ready', 'ready', 'ready', 'ready', 'ready', 'ready', 'ready', 'ready', 'ready', 'ready', 'ready', 'ready', 'ready', 'ready', 'ready', 'ready', 'ready', 'ready', 'ready', 'ready'), 5)</title>\n<polygon fill=\"none\" stroke=\"black\" points=\"12877,-126 10493,-126 10493,-90 12877,-90 12877,-126\"/>\n<text text-anchor=\"middle\" x=\"11685\" y=\"-104.3\" font-family=\"Times,serif\" font-size=\"14.00\">(('ready', 'ready', 'ready', 'ready', 'ready', 'ready', 'ready', 'ready', 'ready', 'ready', 'ready', 'ready', 'ready', 'ready', 'ready', 'ready', 'ready', 'ready', 'ready', 'ready', 'ready', 'ready', 'ready', 'ready', 'ready', 'ready', 'ready', 'ready', 'ready', 'ready', 'ready', 'ready', 'ready', 'ready', 'ready', 'ready', 'ready', 'ready', 'ready', 'ready', 'ready'), 5)</text>\n</g>\n<!-- ((&#39;ready&#39;, &#39;ready&#39;, &#39;ready&#39;, &#39;ready&#39;, &#39;ready&#39;, &#39;ready&#39;, &#39;ready&#39;, &#39;ready&#39;, &#39;ready&#39;, &#39;ready&#39;, &#39;ready&#39;, &#39;ready&#39;, &#39;ready&#39;, &#39;ready&#39;, &#39;ready&#39;, &#39;ready&#39;, &#39;ready&#39;, &#39;ready&#39;, &#39;ready&#39;, &#39;ready&#39;, &#39;ready&#39;, &#39;ready&#39;, &#39;ready&#39;, &#39;ready&#39;, &#39;ready&#39;, &#39;ready&#39;, &#39;ready&#39;, &#39;ready&#39;, &#39;ready&#39;, &#39;ready&#39;, &#39;ready&#39;, &#39;ready&#39;, &#39;ready&#39;, &#39;ready&#39;, &#39;ready&#39;, &#39;ready&#39;, &#39;ready&#39;, &#39;ready&#39;, &#39;ready&#39;, &#39;ready&#39;, &#39;ready&#39;), 5)&#45;&gt;((&#39;ready&#39;, &#39;ready&#39;, &#39;ready&#39;, &#39;ready&#39;, &#39;ready&#39;, &#39;ready&#39;, &#39;ready&#39;, &#39;ready&#39;, &#39;ready&#39;, &#39;ready&#39;, &#39;ready&#39;, &#39;ready&#39;, &#39;ready&#39;, &#39;ready&#39;, &#39;ready&#39;, &#39;ready&#39;, &#39;ready&#39;, &#39;ready&#39;, &#39;ready&#39;, &#39;ready&#39;, &#39;ready&#39;, &#39;ready&#39;, &#39;ready&#39;, &#39;ready&#39;, &#39;ready&#39;, &#39;ready&#39;, &#39;ready&#39;, &#39;ready&#39;, &#39;ready&#39;, &#39;ready&#39;, &#39;ready&#39;, &#39;ready&#39;, &#39;ready&#39;, &#39;ready&#39;, &#39;ready&#39;, &#39;ready&#39;, &#39;ready&#39;, &#39;ready&#39;, &#39;ready&#39;, &#39;ready&#39;, &#39;ready&#39;), 6) -->\n<g id=\"edge23\" class=\"edge\">\n<title>(('ready', 'ready', 'ready', 'ready', 'ready', 'ready', 'ready', 'ready', 'ready', 'ready', 'ready', 'ready', 'ready', 'ready', 'ready', 'ready', 'ready', 'ready', 'ready', 'ready', 'ready', 'ready', 'ready', 'ready', 'ready', 'ready', 'ready', 'ready', 'ready', 'ready', 'ready', 'ready', 'ready', 'ready', 'ready', 'ready', 'ready', 'ready', 'ready', 'ready', 'ready'), 5)-&gt;(('ready', 'ready', 'ready', 'ready', 'ready', 'ready', 'ready', 'ready', 'ready', 'ready', 'ready', 'ready', 'ready', 'ready', 'ready', 'ready', 'ready', 'ready', 'ready', 'ready', 'ready', 'ready', 'ready', 'ready', 'ready', 'ready', 'ready', 'ready', 'ready', 'ready', 'ready', 'ready', 'ready', 'ready', 'ready', 'ready', 'ready', 'ready', 'ready', 'ready', 'ready'), 6)</title>\n<path fill=\"none\" stroke=\"black\" d=\"M12877.24,-123.88C12883.18,-123.92 12889.1,-123.96 12895,-124 12967.96,-124.48 13043.01,-124.64 13118.72,-124.55\"/>\n<polygon fill=\"black\" stroke=\"black\" points=\"13118.92,-128.05 13128.92,-124.53 13118.91,-121.05 13118.92,-128.05\"/>\n<text text-anchor=\"middle\" x=\"13003\" y=\"-127.8\" font-family=\"Times,serif\" font-size=\"14.00\">('pick_phosphor', 21),-11.7,1.0</text>\n</g>\n<!-- ((&#39;ready&#39;, &#39;ready&#39;, &#39;ready&#39;, &#39;ready&#39;, &#39;ready&#39;, &#39;ready&#39;, &#39;ready&#39;, &#39;ready&#39;, &#39;ready&#39;, &#39;ready&#39;, &#39;ready&#39;, &#39;ready&#39;, &#39;ready&#39;, &#39;ready&#39;, &#39;ready&#39;, &#39;ready&#39;, &#39;ready&#39;, &#39;ready&#39;, &#39;ready&#39;, &#39;ready&#39;, &#39;ready&#39;, &#39;ready&#39;, &#39;ready&#39;, &#39;ready&#39;, &#39;ready&#39;, &#39;ready&#39;, &#39;ready&#39;, &#39;ready&#39;, &#39;ready&#39;, &#39;ready&#39;, &#39;ready&#39;, &#39;ready&#39;, &#39;ready&#39;, &#39;ready&#39;, &#39;ready&#39;, &#39;ready&#39;, &#39;ready&#39;, &#39;ready&#39;, &#39;ready&#39;, &#39;ready&#39;, &#39;ready&#39;), 5)&#45;&gt;((&#39;ready&#39;, &#39;ready&#39;, &#39;ready&#39;, &#39;ready&#39;, &#39;ready&#39;, &#39;ready&#39;, &#39;ready&#39;, &#39;ready&#39;, &#39;ready&#39;, &#39;ready&#39;, &#39;ready&#39;, &#39;ready&#39;, &#39;ready&#39;, &#39;ready&#39;, &#39;ready&#39;, &#39;ready&#39;, &#39;ready&#39;, &#39;ready&#39;, &#39;ready&#39;, &#39;ready&#39;, &#39;ready&#39;, &#39;ready&#39;, &#39;ready&#39;, &#39;ready&#39;, &#39;ready&#39;, &#39;ready&#39;, &#39;ready&#39;, &#39;ready&#39;, &#39;ready&#39;, &#39;ready&#39;, &#39;ready&#39;, &#39;ready&#39;, &#39;ready&#39;, &#39;ready&#39;, &#39;ready&#39;, &#39;ready&#39;, &#39;ready&#39;, &#39;ready&#39;, &#39;ready&#39;, &#39;ready&#39;, &#39;ready&#39;), 6) -->\n<g id=\"edge24\" class=\"edge\">\n<title>(('ready', 'ready', 'ready', 'ready', 'ready', 'ready', 'ready', 'ready', 'ready', 'ready', 'ready', 'ready', 'ready', 'ready', 'ready', 'ready', 'ready', 'ready', 'ready', 'ready', 'ready', 'ready', 'ready', 'ready', 'ready', 'ready', 'ready', 'ready', 'ready', 'ready', 'ready', 'ready', 'ready', 'ready', 'ready', 'ready', 'ready', 'ready', 'ready', 'ready', 'ready'), 5)-&gt;(('ready', 'ready', 'ready', 'ready', 'ready', 'ready', 'ready', 'ready', 'ready', 'ready', 'ready', 'ready', 'ready', 'ready', 'ready', 'ready', 'ready', 'ready', 'ready', 'ready', 'ready', 'ready', 'ready', 'ready', 'ready', 'ready', 'ready', 'ready', 'ready', 'ready', 'ready', 'ready', 'ready', 'ready', 'ready', 'ready', 'ready', 'ready', 'ready', 'ready', 'ready'), 6)</title>\n<path fill=\"none\" stroke=\"black\" d=\"M12877.24,-105.02C12883.18,-105.01 12889.1,-105.01 12895,-105 12967.95,-104.91 13043.01,-104.88 13118.71,-104.9\"/>\n<polygon fill=\"black\" stroke=\"black\" points=\"13118.91,-108.4 13128.91,-104.9 13118.91,-101.4 13118.91,-108.4\"/>\n<text text-anchor=\"middle\" x=\"13003\" y=\"-108.8\" font-family=\"Times,serif\" font-size=\"14.00\">('pick_phosphor', 22),-7.9,1.0</text>\n</g>\n<!-- ((&#39;ready&#39;, &#39;ready&#39;, &#39;ready&#39;, &#39;ready&#39;, &#39;ready&#39;, &#39;ready&#39;, &#39;ready&#39;, &#39;ready&#39;, &#39;ready&#39;, &#39;ready&#39;, &#39;ready&#39;, &#39;ready&#39;, &#39;ready&#39;, &#39;ready&#39;, &#39;ready&#39;, &#39;ready&#39;, &#39;ready&#39;, &#39;ready&#39;, &#39;ready&#39;, &#39;ready&#39;, &#39;ready&#39;, &#39;ready&#39;, &#39;ready&#39;, &#39;ready&#39;, &#39;ready&#39;, &#39;ready&#39;, &#39;ready&#39;, &#39;ready&#39;, &#39;ready&#39;, &#39;ready&#39;, &#39;ready&#39;, &#39;ready&#39;, &#39;ready&#39;, &#39;ready&#39;, &#39;ready&#39;, &#39;ready&#39;, &#39;ready&#39;, &#39;ready&#39;, &#39;ready&#39;, &#39;ready&#39;, &#39;ready&#39;), 5)&#45;&gt;((&#39;ready&#39;, &#39;ready&#39;, &#39;ready&#39;, &#39;ready&#39;, &#39;ready&#39;, &#39;ready&#39;, &#39;ready&#39;, &#39;ready&#39;, &#39;ready&#39;, &#39;ready&#39;, &#39;ready&#39;, &#39;ready&#39;, &#39;ready&#39;, &#39;ready&#39;, &#39;ready&#39;, &#39;ready&#39;, &#39;ready&#39;, &#39;ready&#39;, &#39;ready&#39;, &#39;ready&#39;, &#39;ready&#39;, &#39;ready&#39;, &#39;ready&#39;, &#39;ready&#39;, &#39;ready&#39;, &#39;ready&#39;, &#39;ready&#39;, &#39;ready&#39;, &#39;ready&#39;, &#39;ready&#39;, &#39;ready&#39;, &#39;ready&#39;, &#39;ready&#39;, &#39;ready&#39;, &#39;ready&#39;, &#39;ready&#39;, &#39;ready&#39;, &#39;ready&#39;, &#39;ready&#39;, &#39;ready&#39;, &#39;ready&#39;), 6) -->\n<g id=\"edge25\" class=\"edge\">\n<title>(('ready', 'ready', 'ready', 'ready', 'ready', 'ready', 'ready', 'ready', 'ready', 'ready', 'ready', 'ready', 'ready', 'ready', 'ready', 'ready', 'ready', 'ready', 'ready', 'ready', 'ready', 'ready', 'ready', 'ready', 'ready', 'ready', 'ready', 'ready', 'ready', 'ready', 'ready', 'ready', 'ready', 'ready', 'ready', 'ready', 'ready', 'ready', 'ready', 'ready', 'ready'), 5)-&gt;(('ready', 'ready', 'ready', 'ready', 'ready', 'ready', 'ready', 'ready', 'ready', 'ready', 'ready', 'ready', 'ready', 'ready', 'ready', 'ready', 'ready', 'ready', 'ready', 'ready', 'ready', 'ready', 'ready', 'ready', 'ready', 'ready', 'ready', 'ready', 'ready', 'ready', 'ready', 'ready', 'ready', 'ready', 'ready', 'ready', 'ready', 'ready', 'ready', 'ready', 'ready'), 6)</title>\n<path fill=\"none\" stroke=\"black\" d=\"M12523.74,-90C12648.2,-87.92 12774.95,-86.14 12895,-85 13135.86,-82.71 13399.61,-85.49 13634,-89.81\"/>\n<polygon fill=\"black\" stroke=\"black\" points=\"13634.02,-93.31 13644.08,-90 13634.15,-86.31 13634.02,-93.31\"/>\n<text text-anchor=\"middle\" x=\"13003\" y=\"-88.8\" font-family=\"Times,serif\" font-size=\"14.00\">('pick_phosphor', 23),-2.0,1.0</text>\n</g>\n<!-- ((&#39;ready&#39;, &#39;ready&#39;, &#39;ready&#39;, &#39;ready&#39;, &#39;ready&#39;, &#39;ready&#39;, &#39;ready&#39;, &#39;ready&#39;, &#39;ready&#39;, &#39;ready&#39;, &#39;ready&#39;, &#39;ready&#39;, &#39;ready&#39;, &#39;ready&#39;, &#39;ready&#39;, &#39;ready&#39;, &#39;ready&#39;, &#39;ready&#39;, &#39;ready&#39;, &#39;ready&#39;, &#39;ready&#39;, &#39;ready&#39;, &#39;ready&#39;, &#39;ready&#39;, &#39;ready&#39;, &#39;ready&#39;, &#39;ready&#39;, &#39;ready&#39;, &#39;ready&#39;, &#39;ready&#39;, &#39;ready&#39;, &#39;ready&#39;, &#39;ready&#39;, &#39;ready&#39;, &#39;ready&#39;, &#39;ready&#39;, &#39;ready&#39;, &#39;ready&#39;, &#39;ready&#39;, &#39;ready&#39;, &#39;ready&#39;), 8)&#45;&gt;((&#39;ready&#39;, &#39;ready&#39;, &#39;ready&#39;, &#39;ready&#39;, &#39;ready&#39;, &#39;ready&#39;, &#39;ready&#39;, &#39;ready&#39;, &#39;ready&#39;, &#39;ready&#39;, &#39;ready&#39;, &#39;ready&#39;, &#39;ready&#39;, &#39;ready&#39;, &#39;ready&#39;, &#39;ready&#39;, &#39;ready&#39;, &#39;ready&#39;, &#39;ready&#39;, &#39;ready&#39;, &#39;ready&#39;, &#39;ready&#39;, &#39;ready&#39;, &#39;ready&#39;, &#39;ready&#39;, &#39;ready&#39;, &#39;ready&#39;, &#39;ready&#39;, &#39;ready&#39;, &#39;ready&#39;, &#39;ready&#39;, &#39;ready&#39;, &#39;ready&#39;, &#39;ready&#39;, &#39;ready&#39;, &#39;ready&#39;, &#39;ready&#39;, &#39;ready&#39;, &#39;ready&#39;, &#39;ready&#39;, &#39;ready&#39;), 9) -->\n<g id=\"edge35\" class=\"edge\">\n<title>(('ready', 'ready', 'ready', 'ready', 'ready', 'ready', 'ready', 'ready', 'ready', 'ready', 'ready', 'ready', 'ready', 'ready', 'ready', 'ready', 'ready', 'ready', 'ready', 'ready', 'ready', 'ready', 'ready', 'ready', 'ready', 'ready', 'ready', 'ready', 'ready', 'ready', 'ready', 'ready', 'ready', 'ready', 'ready', 'ready', 'ready', 'ready', 'ready', 'ready', 'ready'), 8)-&gt;(('ready', 'ready', 'ready', 'ready', 'ready', 'ready', 'ready', 'ready', 'ready', 'ready', 'ready', 'ready', 'ready', 'ready', 'ready', 'ready', 'ready', 'ready', 'ready', 'ready', 'ready', 'ready', 'ready', 'ready', 'ready', 'ready', 'ready', 'ready', 'ready', 'ready', 'ready', 'ready', 'ready', 'ready', 'ready', 'ready', 'ready', 'ready', 'ready', 'ready', 'ready'), 9)</title>\n<path fill=\"none\" stroke=\"black\" d=\"M20763.3,-108C20836.88,-108 20910.95,-108 20984.56,-108\"/>\n<polygon fill=\"black\" stroke=\"black\" points=\"20984.95,-111.5 20994.95,-108 20984.95,-104.5 20984.95,-111.5\"/>\n<text text-anchor=\"middle\" x=\"20879\" y=\"-111.8\" font-family=\"Times,serif\" font-size=\"14.00\">('pick_plastic', 33),-11.7,1.0</text>\n</g>\n<!-- ((&#39;ready&#39;, &#39;ready&#39;, &#39;ready&#39;, &#39;ready&#39;, &#39;ready&#39;, &#39;ready&#39;, &#39;ready&#39;, &#39;ready&#39;, &#39;ready&#39;, &#39;ready&#39;, &#39;ready&#39;, &#39;ready&#39;, &#39;ready&#39;, &#39;ready&#39;, &#39;ready&#39;, &#39;ready&#39;, &#39;ready&#39;, &#39;ready&#39;, &#39;ready&#39;, &#39;ready&#39;, &#39;ready&#39;, &#39;ready&#39;, &#39;ready&#39;, &#39;ready&#39;, &#39;ready&#39;, &#39;ready&#39;, &#39;ready&#39;, &#39;ready&#39;, &#39;ready&#39;, &#39;ready&#39;, &#39;ready&#39;, &#39;ready&#39;, &#39;ready&#39;, &#39;ready&#39;, &#39;ready&#39;, &#39;ready&#39;, &#39;ready&#39;, &#39;ready&#39;, &#39;ready&#39;, &#39;ready&#39;, &#39;ready&#39;), 8)&#45;&gt;((&#39;ready&#39;, &#39;ready&#39;, &#39;ready&#39;, &#39;ready&#39;, &#39;ready&#39;, &#39;ready&#39;, &#39;ready&#39;, &#39;ready&#39;, &#39;ready&#39;, &#39;ready&#39;, &#39;ready&#39;, &#39;ready&#39;, &#39;ready&#39;, &#39;ready&#39;, &#39;ready&#39;, &#39;ready&#39;, &#39;ready&#39;, &#39;ready&#39;, &#39;ready&#39;, &#39;ready&#39;, &#39;ready&#39;, &#39;ready&#39;, &#39;ready&#39;, &#39;ready&#39;, &#39;ready&#39;, &#39;ready&#39;, &#39;ready&#39;, &#39;ready&#39;, &#39;ready&#39;, &#39;ready&#39;, &#39;ready&#39;, &#39;ready&#39;, &#39;ready&#39;, &#39;ready&#39;, &#39;ready&#39;, &#39;ready&#39;, &#39;ready&#39;, &#39;ready&#39;, &#39;ready&#39;, &#39;ready&#39;, &#39;ready&#39;), 9) -->\n<g id=\"edge36\" class=\"edge\">\n<title>(('ready', 'ready', 'ready', 'ready', 'ready', 'ready', 'ready', 'ready', 'ready', 'ready', 'ready', 'ready', 'ready', 'ready', 'ready', 'ready', 'ready', 'ready', 'ready', 'ready', 'ready', 'ready', 'ready', 'ready', 'ready', 'ready', 'ready', 'ready', 'ready', 'ready', 'ready', 'ready', 'ready', 'ready', 'ready', 'ready', 'ready', 'ready', 'ready', 'ready', 'ready'), 8)-&gt;(('ready', 'ready', 'ready', 'ready', 'ready', 'ready', 'ready', 'ready', 'ready', 'ready', 'ready', 'ready', 'ready', 'ready', 'ready', 'ready', 'ready', 'ready', 'ready', 'ready', 'ready', 'ready', 'ready', 'ready', 'ready', 'ready', 'ready', 'ready', 'ready', 'ready', 'ready', 'ready', 'ready', 'ready', 'ready', 'ready', 'ready', 'ready', 'ready', 'ready', 'ready'), 9)</title>\n<path fill=\"none\" stroke=\"black\" d=\"M20484.12,-90C20648.2,-88.37 20817.68,-87.75 20977,-89 21010.2,-89.26 21043.9,-89.56 21077.93,-89.9\"/>\n<polygon fill=\"black\" stroke=\"black\" points=\"21077.99,-93.4 21088.02,-90 21078.06,-86.4 21077.99,-93.4\"/>\n<text text-anchor=\"middle\" x=\"20879\" y=\"-92.8\" font-family=\"Times,serif\" font-size=\"14.00\">('pick_plastic', 34),-13.1,1.0</text>\n</g>\n<!-- &#45;1&#45;&gt;&#45;1 -->\n<g id=\"edge44\" class=\"edge\">\n<title>-1-&gt;-1</title>\n<path fill=\"none\" stroke=\"black\" d=\"M28855.72,-126.52C28851.66,-137.58 28857.75,-148 28874,-148 28884.92,-148 28891.25,-143.3 28893,-136.86\"/>\n<polygon fill=\"black\" stroke=\"black\" points=\"28896.47,-136.25 28892.28,-126.52 28889.48,-136.73 28896.47,-136.25\"/>\n<text text-anchor=\"middle\" x=\"28874\" y=\"-151.8\" font-family=\"Times,serif\" font-size=\"14.00\">undefined,0.0,1.0</text>\n</g>\n<!-- ((&#39;ready&#39;, &#39;ready&#39;, &#39;ready&#39;, &#39;ready&#39;, &#39;ready&#39;, &#39;ready&#39;, &#39;ready&#39;, &#39;ready&#39;, &#39;ready&#39;, &#39;ready&#39;, &#39;ready&#39;, &#39;ready&#39;, &#39;ready&#39;, &#39;ready&#39;, &#39;ready&#39;, &#39;ready&#39;, &#39;ready&#39;, &#39;ready&#39;, &#39;ready&#39;, &#39;ready&#39;, &#39;ready&#39;, &#39;ready&#39;, &#39;ready&#39;, &#39;ready&#39;, &#39;ready&#39;, &#39;ready&#39;, &#39;ready&#39;, &#39;ready&#39;, &#39;ready&#39;, &#39;ready&#39;, &#39;ready&#39;, &#39;ready&#39;, &#39;ready&#39;, &#39;ready&#39;, &#39;ready&#39;, &#39;ready&#39;, &#39;ready&#39;, &#39;ready&#39;, &#39;ready&#39;, &#39;ready&#39;, &#39;ready&#39;), 4)&#45;&gt;((&#39;ready&#39;, &#39;ready&#39;, &#39;ready&#39;, &#39;ready&#39;, &#39;ready&#39;, &#39;ready&#39;, &#39;ready&#39;, &#39;ready&#39;, &#39;ready&#39;, &#39;ready&#39;, &#39;ready&#39;, &#39;ready&#39;, &#39;ready&#39;, &#39;ready&#39;, &#39;ready&#39;, &#39;ready&#39;, &#39;ready&#39;, &#39;ready&#39;, &#39;ready&#39;, &#39;ready&#39;, &#39;ready&#39;, &#39;ready&#39;, &#39;ready&#39;, &#39;ready&#39;, &#39;ready&#39;, &#39;ready&#39;, &#39;ready&#39;, &#39;ready&#39;, &#39;ready&#39;, &#39;ready&#39;, &#39;ready&#39;, &#39;ready&#39;, &#39;ready&#39;, &#39;ready&#39;, &#39;ready&#39;, &#39;ready&#39;, &#39;ready&#39;, &#39;ready&#39;, &#39;ready&#39;, &#39;ready&#39;, &#39;ready&#39;), 5) -->\n<g id=\"edge15\" class=\"edge\">\n<title>(('ready', 'ready', 'ready', 'ready', 'ready', 'ready', 'ready', 'ready', 'ready', 'ready', 'ready', 'ready', 'ready', 'ready', 'ready', 'ready', 'ready', 'ready', 'ready', 'ready', 'ready', 'ready', 'ready', 'ready', 'ready', 'ready', 'ready', 'ready', 'ready', 'ready', 'ready', 'ready', 'ready', 'ready', 'ready', 'ready', 'ready', 'ready', 'ready', 'ready', 'ready'), 4)-&gt;(('ready', 'ready', 'ready', 'ready', 'ready', 'ready', 'ready', 'ready', 'ready', 'ready', 'ready', 'ready', 'ready', 'ready', 'ready', 'ready', 'ready', 'ready', 'ready', 'ready', 'ready', 'ready', 'ready', 'ready', 'ready', 'ready', 'ready', 'ready', 'ready', 'ready', 'ready', 'ready', 'ready', 'ready', 'ready', 'ready', 'ready', 'ready', 'ready', 'ready', 'ready'), 5)</title>\n<path fill=\"none\" stroke=\"black\" d=\"M9215.13,-126.01C9442.77,-152.68 9892.52,-201.43 10276,-219 10754.06,-240.9 11321.56,-164.89 11564.26,-127.53\"/>\n<polygon fill=\"black\" stroke=\"black\" points=\"11564.82,-130.99 11574.17,-126 11563.75,-124.07 11564.82,-130.99\"/>\n<text text-anchor=\"middle\" x=\"10375.5\" y=\"-225.8\" font-family=\"Times,serif\" font-size=\"14.00\">('pick_boron', 13),-11.7,1.0</text>\n</g>\n<!-- ((&#39;ready&#39;, &#39;ready&#39;, &#39;ready&#39;, &#39;ready&#39;, &#39;ready&#39;, &#39;ready&#39;, &#39;ready&#39;, &#39;ready&#39;, &#39;ready&#39;, &#39;ready&#39;, &#39;ready&#39;, &#39;ready&#39;, &#39;ready&#39;, &#39;ready&#39;, &#39;ready&#39;, &#39;ready&#39;, &#39;ready&#39;, &#39;ready&#39;, &#39;ready&#39;, &#39;ready&#39;, &#39;ready&#39;, &#39;ready&#39;, &#39;ready&#39;, &#39;ready&#39;, &#39;ready&#39;, &#39;ready&#39;, &#39;ready&#39;, &#39;ready&#39;, &#39;ready&#39;, &#39;ready&#39;, &#39;ready&#39;, &#39;ready&#39;, &#39;ready&#39;, &#39;ready&#39;, &#39;ready&#39;, &#39;ready&#39;, &#39;ready&#39;, &#39;ready&#39;, &#39;ready&#39;, &#39;ready&#39;, &#39;ready&#39;), 4)&#45;&gt;((&#39;ready&#39;, &#39;ready&#39;, &#39;ready&#39;, &#39;ready&#39;, &#39;ready&#39;, &#39;ready&#39;, &#39;ready&#39;, &#39;ready&#39;, &#39;ready&#39;, &#39;ready&#39;, &#39;ready&#39;, &#39;ready&#39;, &#39;ready&#39;, &#39;ready&#39;, &#39;ready&#39;, &#39;ready&#39;, &#39;ready&#39;, &#39;ready&#39;, &#39;ready&#39;, &#39;ready&#39;, &#39;ready&#39;, &#39;ready&#39;, &#39;ready&#39;, &#39;ready&#39;, &#39;ready&#39;, &#39;ready&#39;, &#39;ready&#39;, &#39;ready&#39;, &#39;ready&#39;, &#39;ready&#39;, &#39;ready&#39;, &#39;ready&#39;, &#39;ready&#39;, &#39;ready&#39;, &#39;ready&#39;, &#39;ready&#39;, &#39;ready&#39;, &#39;ready&#39;, &#39;ready&#39;, &#39;ready&#39;, &#39;ready&#39;), 5) -->\n<g id=\"edge16\" class=\"edge\">\n<title>(('ready', 'ready', 'ready', 'ready', 'ready', 'ready', 'ready', 'ready', 'ready', 'ready', 'ready', 'ready', 'ready', 'ready', 'ready', 'ready', 'ready', 'ready', 'ready', 'ready', 'ready', 'ready', 'ready', 'ready', 'ready', 'ready', 'ready', 'ready', 'ready', 'ready', 'ready', 'ready', 'ready', 'ready', 'ready', 'ready', 'ready', 'ready', 'ready', 'ready', 'ready'), 4)-&gt;(('ready', 'ready', 'ready', 'ready', 'ready', 'ready', 'ready', 'ready', 'ready', 'ready', 'ready', 'ready', 'ready', 'ready', 'ready', 'ready', 'ready', 'ready', 'ready', 'ready', 'ready', 'ready', 'ready', 'ready', 'ready', 'ready', 'ready', 'ready', 'ready', 'ready', 'ready', 'ready', 'ready', 'ready', 'ready', 'ready', 'ready', 'ready', 'ready', 'ready', 'ready'), 5)</title>\n<path fill=\"none\" stroke=\"black\" d=\"M9296.9,-126.02C9539.98,-144.1 9934.72,-170.71 10276,-181 10716.39,-194.28 11233.56,-152.8 11501.83,-126.99\"/>\n<polygon fill=\"black\" stroke=\"black\" points=\"11502.44,-130.45 11512.06,-126.01 11501.77,-123.48 11502.44,-130.45\"/>\n<text text-anchor=\"middle\" x=\"10375.5\" y=\"-186.8\" font-family=\"Times,serif\" font-size=\"14.00\">('pick_boron', 14),-2.0,1.0</text>\n</g>\n<!-- ((&#39;ready&#39;, &#39;ready&#39;, &#39;ready&#39;, &#39;ready&#39;, &#39;ready&#39;, &#39;ready&#39;, &#39;ready&#39;, &#39;ready&#39;, &#39;ready&#39;, &#39;ready&#39;, &#39;ready&#39;, &#39;ready&#39;, &#39;ready&#39;, &#39;ready&#39;, &#39;ready&#39;, &#39;ready&#39;, &#39;ready&#39;, &#39;ready&#39;, &#39;ready&#39;, &#39;ready&#39;, &#39;ready&#39;, &#39;ready&#39;, &#39;ready&#39;, &#39;ready&#39;, &#39;ready&#39;, &#39;ready&#39;, &#39;ready&#39;, &#39;ready&#39;, &#39;ready&#39;, &#39;ready&#39;, &#39;ready&#39;, &#39;ready&#39;, &#39;ready&#39;, &#39;ready&#39;, &#39;ready&#39;, &#39;ready&#39;, &#39;ready&#39;, &#39;ready&#39;, &#39;ready&#39;, &#39;ready&#39;, &#39;ready&#39;), 4)&#45;&gt;((&#39;ready&#39;, &#39;ready&#39;, &#39;ready&#39;, &#39;ready&#39;, &#39;ready&#39;, &#39;ready&#39;, &#39;ready&#39;, &#39;ready&#39;, &#39;ready&#39;, &#39;ready&#39;, &#39;ready&#39;, &#39;ready&#39;, &#39;ready&#39;, &#39;ready&#39;, &#39;ready&#39;, &#39;ready&#39;, &#39;ready&#39;, &#39;ready&#39;, &#39;ready&#39;, &#39;ready&#39;, &#39;ready&#39;, &#39;ready&#39;, &#39;ready&#39;, &#39;ready&#39;, &#39;ready&#39;, &#39;ready&#39;, &#39;ready&#39;, &#39;ready&#39;, &#39;ready&#39;, &#39;ready&#39;, &#39;ready&#39;, &#39;ready&#39;, &#39;ready&#39;, &#39;ready&#39;, &#39;ready&#39;, &#39;ready&#39;, &#39;ready&#39;, &#39;ready&#39;, &#39;ready&#39;, &#39;ready&#39;, &#39;ready&#39;), 5) -->\n<g id=\"edge17\" class=\"edge\">\n<title>(('ready', 'ready', 'ready', 'ready', 'ready', 'ready', 'ready', 'ready', 'ready', 'ready', 'ready', 'ready', 'ready', 'ready', 'ready', 'ready', 'ready', 'ready', 'ready', 'ready', 'ready', 'ready', 'ready', 'ready', 'ready', 'ready', 'ready', 'ready', 'ready', 'ready', 'ready', 'ready', 'ready', 'ready', 'ready', 'ready', 'ready', 'ready', 'ready', 'ready', 'ready'), 4)-&gt;(('ready', 'ready', 'ready', 'ready', 'ready', 'ready', 'ready', 'ready', 'ready', 'ready', 'ready', 'ready', 'ready', 'ready', 'ready', 'ready', 'ready', 'ready', 'ready', 'ready', 'ready', 'ready', 'ready', 'ready', 'ready', 'ready', 'ready', 'ready', 'ready', 'ready', 'ready', 'ready', 'ready', 'ready', 'ready', 'ready', 'ready', 'ready', 'ready', 'ready', 'ready'), 5)</title>\n<path fill=\"none\" stroke=\"black\" d=\"M9576.13,-126.01C9791.96,-132.8 10046.22,-139.67 10276,-143 10615.02,-147.91 10999.86,-137.23 11281.43,-126.41\"/>\n<polygon fill=\"black\" stroke=\"black\" points=\"11281.96,-129.89 11291.82,-126.01 11281.69,-122.9 11281.96,-129.89\"/>\n<text text-anchor=\"middle\" x=\"10375.5\" y=\"-147.8\" font-family=\"Times,serif\" font-size=\"14.00\">('pick_boron', 15),-7.8,1.0</text>\n</g>\n<!-- ((&#39;ready&#39;, &#39;ready&#39;, &#39;ready&#39;, &#39;ready&#39;, &#39;ready&#39;, &#39;ready&#39;, &#39;ready&#39;, &#39;ready&#39;, &#39;ready&#39;, &#39;ready&#39;, &#39;ready&#39;, &#39;ready&#39;, &#39;ready&#39;, &#39;ready&#39;, &#39;ready&#39;, &#39;ready&#39;, &#39;ready&#39;, &#39;ready&#39;, &#39;ready&#39;, &#39;ready&#39;, &#39;ready&#39;, &#39;ready&#39;, &#39;ready&#39;, &#39;ready&#39;, &#39;ready&#39;, &#39;ready&#39;, &#39;ready&#39;, &#39;ready&#39;, &#39;ready&#39;, &#39;ready&#39;, &#39;ready&#39;, &#39;ready&#39;, &#39;ready&#39;, &#39;ready&#39;, &#39;ready&#39;, &#39;ready&#39;, &#39;ready&#39;, &#39;ready&#39;, &#39;ready&#39;, &#39;ready&#39;, &#39;ready&#39;), 4)&#45;&gt;((&#39;ready&#39;, &#39;ready&#39;, &#39;ready&#39;, &#39;ready&#39;, &#39;ready&#39;, &#39;ready&#39;, &#39;ready&#39;, &#39;ready&#39;, &#39;ready&#39;, &#39;ready&#39;, &#39;ready&#39;, &#39;ready&#39;, &#39;ready&#39;, &#39;ready&#39;, &#39;ready&#39;, &#39;ready&#39;, &#39;ready&#39;, &#39;ready&#39;, &#39;ready&#39;, &#39;ready&#39;, &#39;ready&#39;, &#39;ready&#39;, &#39;ready&#39;, &#39;ready&#39;, &#39;ready&#39;, &#39;ready&#39;, &#39;ready&#39;, &#39;ready&#39;, &#39;ready&#39;, &#39;ready&#39;, &#39;ready&#39;, &#39;ready&#39;, &#39;ready&#39;, &#39;ready&#39;, &#39;ready&#39;, &#39;ready&#39;, &#39;ready&#39;, &#39;ready&#39;, &#39;ready&#39;, &#39;ready&#39;, &#39;ready&#39;), 5) -->\n<g id=\"edge18\" class=\"edge\">\n<title>(('ready', 'ready', 'ready', 'ready', 'ready', 'ready', 'ready', 'ready', 'ready', 'ready', 'ready', 'ready', 'ready', 'ready', 'ready', 'ready', 'ready', 'ready', 'ready', 'ready', 'ready', 'ready', 'ready', 'ready', 'ready', 'ready', 'ready', 'ready', 'ready', 'ready', 'ready', 'ready', 'ready', 'ready', 'ready', 'ready', 'ready', 'ready', 'ready', 'ready', 'ready'), 4)-&gt;(('ready', 'ready', 'ready', 'ready', 'ready', 'ready', 'ready', 'ready', 'ready', 'ready', 'ready', 'ready', 'ready', 'ready', 'ready', 'ready', 'ready', 'ready', 'ready', 'ready', 'ready', 'ready', 'ready', 'ready', 'ready', 'ready', 'ready', 'ready', 'ready', 'ready', 'ready', 'ready', 'ready', 'ready', 'ready', 'ready', 'ready', 'ready', 'ready', 'ready', 'ready'), 5)</title>\n<path fill=\"none\" stroke=\"black\" d=\"M10258.24,-108C10332.9,-108 10408.07,-108 10482.78,-108\"/>\n<polygon fill=\"black\" stroke=\"black\" points=\"10482.84,-111.5 10492.84,-108 10482.84,-104.5 10482.84,-111.5\"/>\n<text text-anchor=\"middle\" x=\"10375.5\" y=\"-111.8\" font-family=\"Times,serif\" font-size=\"14.00\">('pick_boron', 16),-10.4,1.0</text>\n</g>\n<!-- ((&#39;ready&#39;, &#39;ready&#39;, &#39;ready&#39;, &#39;ready&#39;, &#39;ready&#39;, &#39;ready&#39;, &#39;ready&#39;, &#39;ready&#39;, &#39;ready&#39;, &#39;ready&#39;, &#39;ready&#39;, &#39;ready&#39;, &#39;ready&#39;, &#39;ready&#39;, &#39;ready&#39;, &#39;ready&#39;, &#39;ready&#39;, &#39;ready&#39;, &#39;ready&#39;, &#39;ready&#39;, &#39;ready&#39;, &#39;ready&#39;, &#39;ready&#39;, &#39;ready&#39;, &#39;ready&#39;, &#39;ready&#39;, &#39;ready&#39;, &#39;ready&#39;, &#39;ready&#39;, &#39;ready&#39;, &#39;ready&#39;, &#39;ready&#39;, &#39;ready&#39;, &#39;ready&#39;, &#39;ready&#39;, &#39;ready&#39;, &#39;ready&#39;, &#39;ready&#39;, &#39;ready&#39;, &#39;ready&#39;, &#39;ready&#39;), 4)&#45;&gt;((&#39;ready&#39;, &#39;ready&#39;, &#39;ready&#39;, &#39;ready&#39;, &#39;ready&#39;, &#39;ready&#39;, &#39;ready&#39;, &#39;ready&#39;, &#39;ready&#39;, &#39;ready&#39;, &#39;ready&#39;, &#39;ready&#39;, &#39;ready&#39;, &#39;ready&#39;, &#39;ready&#39;, &#39;ready&#39;, &#39;ready&#39;, &#39;ready&#39;, &#39;ready&#39;, &#39;ready&#39;, &#39;ready&#39;, &#39;ready&#39;, &#39;ready&#39;, &#39;ready&#39;, &#39;ready&#39;, &#39;ready&#39;, &#39;ready&#39;, &#39;ready&#39;, &#39;ready&#39;, &#39;ready&#39;, &#39;ready&#39;, &#39;ready&#39;, &#39;ready&#39;, &#39;ready&#39;, &#39;ready&#39;, &#39;ready&#39;, &#39;ready&#39;, &#39;ready&#39;, &#39;ready&#39;, &#39;ready&#39;, &#39;ready&#39;), 5) -->\n<g id=\"edge19\" class=\"edge\">\n<title>(('ready', 'ready', 'ready', 'ready', 'ready', 'ready', 'ready', 'ready', 'ready', 'ready', 'ready', 'ready', 'ready', 'ready', 'ready', 'ready', 'ready', 'ready', 'ready', 'ready', 'ready', 'ready', 'ready', 'ready', 'ready', 'ready', 'ready', 'ready', 'ready', 'ready', 'ready', 'ready', 'ready', 'ready', 'ready', 'ready', 'ready', 'ready', 'ready', 'ready', 'ready'), 4)-&gt;(('ready', 'ready', 'ready', 'ready', 'ready', 'ready', 'ready', 'ready', 'ready', 'ready', 'ready', 'ready', 'ready', 'ready', 'ready', 'ready', 'ready', 'ready', 'ready', 'ready', 'ready', 'ready', 'ready', 'ready', 'ready', 'ready', 'ready', 'ready', 'ready', 'ready', 'ready', 'ready', 'ready', 'ready', 'ready', 'ready', 'ready', 'ready', 'ready', 'ready', 'ready'), 5)</title>\n<path fill=\"none\" stroke=\"black\" d=\"M9980.59,-90C10145.17,-88.37 10315.18,-87.74 10475,-89 10508.2,-89.26 10541.9,-89.56 10575.93,-89.9\"/>\n<polygon fill=\"black\" stroke=\"black\" points=\"10575.99,-93.4 10586.02,-90 10576.06,-86.4 10575.99,-93.4\"/>\n<text text-anchor=\"middle\" x=\"10375.5\" y=\"-92.8\" font-family=\"Times,serif\" font-size=\"14.00\">('pick_boron', 17),-12.12,1.0</text>\n</g>\n<!-- ((&#39;ready&#39;, &#39;ready&#39;, &#39;ready&#39;, &#39;ready&#39;, &#39;ready&#39;, &#39;ready&#39;, &#39;ready&#39;, &#39;ready&#39;, &#39;ready&#39;, &#39;ready&#39;, &#39;ready&#39;, &#39;ready&#39;, &#39;ready&#39;, &#39;ready&#39;, &#39;ready&#39;, &#39;ready&#39;, &#39;ready&#39;, &#39;ready&#39;, &#39;ready&#39;, &#39;ready&#39;, &#39;ready&#39;, &#39;ready&#39;, &#39;ready&#39;, &#39;ready&#39;, &#39;ready&#39;, &#39;ready&#39;, &#39;ready&#39;, &#39;ready&#39;, &#39;ready&#39;, &#39;ready&#39;, &#39;ready&#39;, &#39;ready&#39;, &#39;ready&#39;, &#39;ready&#39;, &#39;ready&#39;, &#39;ready&#39;, &#39;ready&#39;, &#39;ready&#39;, &#39;ready&#39;, &#39;ready&#39;, &#39;ready&#39;), 4)&#45;&gt;((&#39;ready&#39;, &#39;ready&#39;, &#39;ready&#39;, &#39;ready&#39;, &#39;ready&#39;, &#39;ready&#39;, &#39;ready&#39;, &#39;ready&#39;, &#39;ready&#39;, &#39;ready&#39;, &#39;ready&#39;, &#39;ready&#39;, &#39;ready&#39;, &#39;ready&#39;, &#39;ready&#39;, &#39;ready&#39;, &#39;ready&#39;, &#39;ready&#39;, &#39;ready&#39;, &#39;ready&#39;, &#39;ready&#39;, &#39;ready&#39;, &#39;ready&#39;, &#39;ready&#39;, &#39;ready&#39;, &#39;ready&#39;, &#39;ready&#39;, &#39;ready&#39;, &#39;ready&#39;, &#39;ready&#39;, &#39;ready&#39;, &#39;ready&#39;, &#39;ready&#39;, &#39;ready&#39;, &#39;ready&#39;, &#39;ready&#39;, &#39;ready&#39;, &#39;ready&#39;, &#39;ready&#39;, &#39;ready&#39;, &#39;ready&#39;), 5) -->\n<g id=\"edge20\" class=\"edge\">\n<title>(('ready', 'ready', 'ready', 'ready', 'ready', 'ready', 'ready', 'ready', 'ready', 'ready', 'ready', 'ready', 'ready', 'ready', 'ready', 'ready', 'ready', 'ready', 'ready', 'ready', 'ready', 'ready', 'ready', 'ready', 'ready', 'ready', 'ready', 'ready', 'ready', 'ready', 'ready', 'ready', 'ready', 'ready', 'ready', 'ready', 'ready', 'ready', 'ready', 'ready', 'ready'), 4)-&gt;(('ready', 'ready', 'ready', 'ready', 'ready', 'ready', 'ready', 'ready', 'ready', 'ready', 'ready', 'ready', 'ready', 'ready', 'ready', 'ready', 'ready', 'ready', 'ready', 'ready', 'ready', 'ready', 'ready', 'ready', 'ready', 'ready', 'ready', 'ready', 'ready', 'ready', 'ready', 'ready', 'ready', 'ready', 'ready', 'ready', 'ready', 'ready', 'ready', 'ready', 'ready'), 5)</title>\n<path fill=\"none\" stroke=\"black\" d=\"M9412.32,-90C9697.33,-77.17 10112.37,-63.15 10475,-69 10722.12,-72.98 10997.54,-81.55 11223.01,-89.64\"/>\n<polygon fill=\"black\" stroke=\"black\" points=\"11222.92,-93.14 11233.03,-90 11223.17,-86.14 11222.92,-93.14\"/>\n<text text-anchor=\"middle\" x=\"10375.5\" y=\"-72.8\" font-family=\"Times,serif\" font-size=\"14.00\">('pick_boron', 18),-8.55,1.0</text>\n</g>\n<!-- ((&#39;ready&#39;, &#39;ready&#39;, &#39;ready&#39;, &#39;ready&#39;, &#39;ready&#39;, &#39;ready&#39;, &#39;ready&#39;, &#39;ready&#39;, &#39;ready&#39;, &#39;ready&#39;, &#39;ready&#39;, &#39;ready&#39;, &#39;ready&#39;, &#39;ready&#39;, &#39;ready&#39;, &#39;ready&#39;, &#39;ready&#39;, &#39;ready&#39;, &#39;ready&#39;, &#39;ready&#39;, &#39;ready&#39;, &#39;ready&#39;, &#39;ready&#39;, &#39;ready&#39;, &#39;ready&#39;, &#39;ready&#39;, &#39;ready&#39;, &#39;ready&#39;, &#39;ready&#39;, &#39;ready&#39;, &#39;ready&#39;, &#39;ready&#39;, &#39;ready&#39;, &#39;ready&#39;, &#39;ready&#39;, &#39;ready&#39;, &#39;ready&#39;, &#39;ready&#39;, &#39;ready&#39;, &#39;ready&#39;, &#39;ready&#39;), 4)&#45;&gt;((&#39;ready&#39;, &#39;ready&#39;, &#39;ready&#39;, &#39;ready&#39;, &#39;ready&#39;, &#39;ready&#39;, &#39;ready&#39;, &#39;ready&#39;, &#39;ready&#39;, &#39;ready&#39;, &#39;ready&#39;, &#39;ready&#39;, &#39;ready&#39;, &#39;ready&#39;, &#39;ready&#39;, &#39;ready&#39;, &#39;ready&#39;, &#39;ready&#39;, &#39;ready&#39;, &#39;ready&#39;, &#39;ready&#39;, &#39;ready&#39;, &#39;ready&#39;, &#39;ready&#39;, &#39;ready&#39;, &#39;ready&#39;, &#39;ready&#39;, &#39;ready&#39;, &#39;ready&#39;, &#39;ready&#39;, &#39;ready&#39;, &#39;ready&#39;, &#39;ready&#39;, &#39;ready&#39;, &#39;ready&#39;, &#39;ready&#39;, &#39;ready&#39;, &#39;ready&#39;, &#39;ready&#39;, &#39;ready&#39;, &#39;ready&#39;), 5) -->\n<g id=\"edge21\" class=\"edge\">\n<title>(('ready', 'ready', 'ready', 'ready', 'ready', 'ready', 'ready', 'ready', 'ready', 'ready', 'ready', 'ready', 'ready', 'ready', 'ready', 'ready', 'ready', 'ready', 'ready', 'ready', 'ready', 'ready', 'ready', 'ready', 'ready', 'ready', 'ready', 'ready', 'ready', 'ready', 'ready', 'ready', 'ready', 'ready', 'ready', 'ready', 'ready', 'ready', 'ready', 'ready', 'ready'), 4)-&gt;(('ready', 'ready', 'ready', 'ready', 'ready', 'ready', 'ready', 'ready', 'ready', 'ready', 'ready', 'ready', 'ready', 'ready', 'ready', 'ready', 'ready', 'ready', 'ready', 'ready', 'ready', 'ready', 'ready', 'ready', 'ready', 'ready', 'ready', 'ready', 'ready', 'ready', 'ready', 'ready', 'ready', 'ready', 'ready', 'ready', 'ready', 'ready', 'ready', 'ready', 'ready'), 5)</title>\n<path fill=\"none\" stroke=\"black\" d=\"M9279.81,-90C9555.47,-68.73 10050.94,-37.48 10475,-48 10788.03,-55.76 11146.22,-74.81 11390.97,-89.38\"/>\n<polygon fill=\"black\" stroke=\"black\" points=\"11390.9,-92.89 11401.09,-89.99 11391.31,-85.9 11390.9,-92.89\"/>\n<text text-anchor=\"middle\" x=\"10375.5\" y=\"-51.8\" font-family=\"Times,serif\" font-size=\"14.00\">('pick_boron', 19),-6.8,1.0</text>\n</g>\n<!-- ((&#39;ready&#39;, &#39;ready&#39;, &#39;ready&#39;, &#39;ready&#39;, &#39;ready&#39;, &#39;ready&#39;, &#39;ready&#39;, &#39;ready&#39;, &#39;ready&#39;, &#39;ready&#39;, &#39;ready&#39;, &#39;ready&#39;, &#39;ready&#39;, &#39;ready&#39;, &#39;ready&#39;, &#39;ready&#39;, &#39;ready&#39;, &#39;ready&#39;, &#39;ready&#39;, &#39;ready&#39;, &#39;ready&#39;, &#39;ready&#39;, &#39;ready&#39;, &#39;ready&#39;, &#39;ready&#39;, &#39;ready&#39;, &#39;ready&#39;, &#39;ready&#39;, &#39;ready&#39;, &#39;ready&#39;, &#39;ready&#39;, &#39;ready&#39;, &#39;ready&#39;, &#39;ready&#39;, &#39;ready&#39;, &#39;ready&#39;, &#39;ready&#39;, &#39;ready&#39;, &#39;ready&#39;, &#39;ready&#39;, &#39;ready&#39;), 4)&#45;&gt;((&#39;ready&#39;, &#39;ready&#39;, &#39;ready&#39;, &#39;ready&#39;, &#39;ready&#39;, &#39;ready&#39;, &#39;ready&#39;, &#39;ready&#39;, &#39;ready&#39;, &#39;ready&#39;, &#39;ready&#39;, &#39;ready&#39;, &#39;ready&#39;, &#39;ready&#39;, &#39;ready&#39;, &#39;ready&#39;, &#39;ready&#39;, &#39;ready&#39;, &#39;ready&#39;, &#39;ready&#39;, &#39;ready&#39;, &#39;ready&#39;, &#39;ready&#39;, &#39;ready&#39;, &#39;ready&#39;, &#39;ready&#39;, &#39;ready&#39;, &#39;ready&#39;, &#39;ready&#39;, &#39;ready&#39;, &#39;ready&#39;, &#39;ready&#39;, &#39;ready&#39;, &#39;ready&#39;, &#39;ready&#39;, &#39;ready&#39;, &#39;ready&#39;, &#39;ready&#39;, &#39;ready&#39;, &#39;ready&#39;, &#39;ready&#39;), 5) -->\n<g id=\"edge22\" class=\"edge\">\n<title>(('ready', 'ready', 'ready', 'ready', 'ready', 'ready', 'ready', 'ready', 'ready', 'ready', 'ready', 'ready', 'ready', 'ready', 'ready', 'ready', 'ready', 'ready', 'ready', 'ready', 'ready', 'ready', 'ready', 'ready', 'ready', 'ready', 'ready', 'ready', 'ready', 'ready', 'ready', 'ready', 'ready', 'ready', 'ready', 'ready', 'ready', 'ready', 'ready', 'ready', 'ready'), 4)-&gt;(('ready', 'ready', 'ready', 'ready', 'ready', 'ready', 'ready', 'ready', 'ready', 'ready', 'ready', 'ready', 'ready', 'ready', 'ready', 'ready', 'ready', 'ready', 'ready', 'ready', 'ready', 'ready', 'ready', 'ready', 'ready', 'ready', 'ready', 'ready', 'ready', 'ready', 'ready', 'ready', 'ready', 'ready', 'ready', 'ready', 'ready', 'ready', 'ready', 'ready', 'ready'), 5)</title>\n<path fill=\"none\" stroke=\"black\" d=\"M9218.73,-89.99C9476.66,-61.43 10017.22,-10.49 10475,-26 10824.14,-37.83 11229.02,-68.81 11470.43,-89.12\"/>\n<polygon fill=\"black\" stroke=\"black\" points=\"11470.47,-92.64 11480.73,-89.99 11471.06,-85.67 11470.47,-92.64\"/>\n<text text-anchor=\"middle\" x=\"10375.5\" y=\"-29.8\" font-family=\"Times,serif\" font-size=\"14.00\">('pick_boron', 20),-10.16,1.0</text>\n</g>\n</g>\n</svg>"
     },
     "metadata": {},
     "output_type": "display_data"
    }
   ],
   "source": [
    "from stochastic_service_composition.rendering import mdp_to_graphviz\n",
    "\n",
    "all_services = [\n",
    "    # 0\n",
    "    design_service(DESIGN_SERVICE_NAME_USA, USA_REWARD),\n",
    "    # 1\n",
    "    design_service(DESIGN_SERVICE_NAME_UK, UK_REWARD),\n",
    "    # 2\n",
    "    design_service(DESIGN_SERVICE_NAME_CHINA, CHINA_REWARD),\n",
    "    # 3\n",
    "    design_service(DESIGN_SERVICE_NAME_TAIWAN, TAIWAN_REWARD),\n",
    "    # 4\n",
    "    silicon_warehouse_service(SILICON_SERVICE_NAME_CHINA, CHINA_REWARD),\n",
    "    # 5\n",
    "    silicon_warehouse_service(SILICON_SERVICE_NAME_RUSSIA, RUSSIA_REWARD + WAR_REWARD),\n",
    "    # 6\n",
    "    silicon_warehouse_service(SILICON_SERVICE_NAME_NORWAY, NORWAY_REWARD),\n",
    "    # 7\n",
    "    silicon_warehouse_service(SILICON_SERVICE_NAME_USA, USA_REWARD),\n",
    "    # 8\n",
    "    silicon_warehouse_service(SILICON_SERVICE_NAME_BRAZIL, BRAZIL_REWARD),\n",
    "    # 9\n",
    "    silicon_warehouse_service(SILICON_SERVICE_NAME_FRANCE, FRANCE_REWARD),\n",
    "    # 10\n",
    "    silicon_warehouse_service(SILICON_SERVICE_NAME_MALAYSIA, MALAYSIA_REWARD),\n",
    "    # 11\n",
    "    wafer_warehouse_service(WAFER_SERVICE_NAME_JAPAN, JAPAN_REWARD),\n",
    "    # 12\n",
    "    wafer_warehouse_service(WAFER_SERVICE_NAME_SOUTH_KOREA, SOUTH_KOREA),\n",
    "    # 13\n",
    "    boron_warehouse_service(BORON_SERVICE_NAME_CHINA, CHINA_REWARD),\n",
    "    # 14\n",
    "    boron_warehouse_service(BORON_SERVICE_NAME_USA, USA_REWARD),\n",
    "    # 15\n",
    "    boron_warehouse_service(BORON_SERVICE_NAME_CHILE, CHILE_REWARD),\n",
    "    # 16\n",
    "    boron_warehouse_service(BORON_SERVICE_NAME_KAZAKHSTAN, KAZAKHSTAN_REWARD),\n",
    "    # 17\n",
    "    boron_warehouse_service(BORON_SERVICE_NAME_RUSSIA, RUSSIA_REWARD + WAR_REWARD),\n",
    "    # 18\n",
    "    boron_warehouse_service(BORON_SERVICE_NAME_ARGENTINA, ARGENTINA_REWARD),\n",
    "    # 19\n",
    "    boron_warehouse_service(BORON_SERVICE_NAME_BOLIVIA, BOLIVIA_REWARD),\n",
    "    # 20\n",
    "    boron_warehouse_service(BORON_SERVICE_NAME_TURKEY, TURKEY_REWARD),\n",
    "    # 21\n",
    "    phosphor_warehouse_service(PHOSPHOR_SERVICE_NAME_CHINA, CHINA_REWARD),\n",
    "    # 22\n",
    "    phosphor_warehouse_service(PHOSPHOR_SERVICE_NAME_MOROCCO, MOROCCO_REWARD),\n",
    "    # 23\n",
    "    phosphor_warehouse_service(PHOSPHOR_SERVICE_NAME_USA, USA_REWARD),\n",
    "    # 24\n",
    "    aluminum_warehouse_service(ALUMINUM_SERVICE_NAME_AUSTRALIA, AUSTRALIA_REWARD),\n",
    "    # 25\n",
    "    aluminum_warehouse_service(ALUMINUM_SERVICE_NAME_BRAZIL, BRAZIL_REWARD),\n",
    "    # 26\n",
    "    aluminum_warehouse_service(ALUMINUM_SERVICE_NAME_INDIA, INDIA_REWARD),\n",
    "    # 27\n",
    "    resist_warehouse_service(RESIST_SERVICE_NAME_USA, USA_REWARD),\n",
    "    # 28\n",
    "    resist_warehouse_service(RESIST_SERVICE_NAME_SWITZERLAND, SWITZERLAND_REWARD),\n",
    "    # 29\n",
    "    resist_warehouse_service(RESIST_SERVICE_NAME_INDIA, INDIA_REWARD),\n",
    "    # 30\n",
    "    resist_warehouse_service(RESIST_SERVICE_NAME_CANADA, CANADA_REWARD),\n",
    "    # 31\n",
    "    resist_warehouse_service(RESIST_SERVICE_NAME_BELGIUM, BELGIUM_REWARD),\n",
    "    # 32\n",
    "    resist_warehouse_service(RESIST_SERVICE_NAME_AUSTRIA, AUSTRIA_REWARD),\n",
    "    # 33\n",
    "    plastic_warehouse_service(PLASTIC_SERVICE_NAME_CHINA, CHINA_REWARD),\n",
    "    # 34\n",
    "    plastic_warehouse_service(PLASTIC_SERVICE_NAME_INDIA, INDIA_REWARD),\n",
    "    # 35\n",
    "    chemicals_warehouse_service(CHEMICALS_SERVICE_NAME_CANADA, CANADA_REWARD),\n",
    "    # 36\n",
    "    chemicals_warehouse_service(CHEMICALS_SERVICE_NAME_USA, USA_REWARD),\n",
    "    # 37\n",
    "    copper_frame_warehouse_service(COPPER_FRAME_SERVICE_NAME_CHILE, CHILE_REWARD),\n",
    "    # 38\n",
    "    copper_frame_warehouse_service(COPPER_FRAME_SERVICE_NAME_CHINA, CHINA_REWARD),\n",
    "    # 39\n",
    "    copper_frame_warehouse_service(COPPER_FRAME_SERVICE_NAME_PERU, PERU_REWARD),\n",
    "    # 40\n",
    "    copper_frame_warehouse_service(COPPER_FRAME_SERVICE_NAME_USA, USA_REWARD)\n",
    "]\n",
    "# trimmed_declare_automaton = declare_automaton.trim()\n",
    "# trimmed_declare_automaton.to_graphviz().render(\"dfa-trimmed\")\n",
    "# stochastic_target = target_from_dfa(trimmed_declare_automaton)\n",
    "# mdp = composition_mdp(stochastic_target, *all_services, gamma=0.9)\n",
    "mdp = comp_mdp(declare_automaton, all_services, gamma=0.9)\n",
    "render_composition_mdp(mdp)"
   ]
  },
  {
   "cell_type": "markdown",
   "metadata": {},
   "source": [
    "# Optimal policy\n",
    "Calculation of optimal policy:"
   ]
  },
  {
   "cell_type": "code",
   "execution_count": 30,
   "metadata": {},
   "outputs": [],
   "source": [
    "opn = DPAnalytic(mdp, 1e-4)\n",
    "opt_policy = opn.get_optimal_policy_vi()\n",
    "value_function = opn.get_value_func_dict(opt_policy)\n",
    "q_value_function = opn.get_act_value_func_dict(opt_policy)\n"
   ]
  },
  {
   "cell_type": "code",
   "execution_count": 31,
   "metadata": {},
   "outputs": [
    {
     "name": "stdout",
     "output_type": "stream",
     "text": [
      "Policy:\n",
      "State=(('ready', 'ready', 'ready', 'ready', 'ready', 'ready', 'ready', 'ready', 'ready', 'ready', 'ready', 'ready', 'ready', 'ready', 'ready', 'ready', 'ready', 'ready', 'ready', 'ready', 'ready', 'ready', 'ready', 'ready', 'ready', 'ready', 'ready', 'ready', 'ready', 'ready', 'ready', 'ready', 'ready', 'ready', 'ready', 'ready', 'ready', 'ready', 'ready', 'ready', 'ready'), 0),\tAction=('pick_buy_design', 0)\n",
      "State=(('ready', 'ready', 'ready', 'ready', 'ready', 'ready', 'ready', 'ready', 'ready', 'ready', 'ready', 'ready', 'ready', 'ready', 'ready', 'ready', 'ready', 'ready', 'ready', 'ready', 'ready', 'ready', 'ready', 'ready', 'ready', 'ready', 'ready', 'ready', 'ready', 'ready', 'ready', 'ready', 'ready', 'ready', 'ready', 'ready', 'ready', 'ready', 'ready', 'ready', 'ready'), 2),\tAction=('pick_silicon', 7)\n",
      "State=(('ready', 'ready', 'ready', 'ready', 'ready', 'ready', 'ready', 'ready', 'ready', 'ready', 'ready', 'ready', 'ready', 'ready', 'ready', 'ready', 'ready', 'ready', 'ready', 'ready', 'ready', 'ready', 'ready', 'ready', 'ready', 'ready', 'ready', 'ready', 'ready', 'ready', 'ready', 'ready', 'ready', 'ready', 'ready', 'ready', 'ready', 'ready', 'ready', 'ready', 'ready'), 3),\tAction=('pick_wafer', 11)\n",
      "State=(('ready', 'ready', 'ready', 'ready', 'ready', 'ready', 'ready', 'ready', 'ready', 'ready', 'ready', 'ready', 'ready', 'ready', 'ready', 'ready', 'ready', 'ready', 'ready', 'ready', 'ready', 'ready', 'ready', 'ready', 'ready', 'ready', 'ready', 'ready', 'ready', 'ready', 'ready', 'ready', 'ready', 'ready', 'ready', 'ready', 'ready', 'ready', 'ready', 'ready', 'ready'), 4),\tAction=('pick_boron', 14)\n",
      "State=(('ready', 'ready', 'ready', 'ready', 'ready', 'ready', 'ready', 'ready', 'ready', 'ready', 'ready', 'ready', 'ready', 'ready', 'ready', 'ready', 'ready', 'ready', 'ready', 'ready', 'ready', 'ready', 'ready', 'ready', 'ready', 'ready', 'ready', 'ready', 'ready', 'ready', 'ready', 'ready', 'ready', 'ready', 'ready', 'ready', 'ready', 'ready', 'ready', 'ready', 'ready'), 5),\tAction=('pick_phosphor', 23)\n",
      "State=(('ready', 'ready', 'ready', 'ready', 'ready', 'ready', 'ready', 'ready', 'ready', 'ready', 'ready', 'ready', 'ready', 'ready', 'ready', 'ready', 'ready', 'ready', 'ready', 'ready', 'ready', 'ready', 'ready', 'ready', 'ready', 'ready', 'ready', 'ready', 'ready', 'ready', 'ready', 'ready', 'ready', 'ready', 'ready', 'ready', 'ready', 'ready', 'ready', 'ready', 'ready'), 6),\tAction=('pick_aluminum', 25)\n",
      "State=(('ready', 'ready', 'ready', 'ready', 'ready', 'ready', 'ready', 'ready', 'ready', 'ready', 'ready', 'ready', 'ready', 'ready', 'ready', 'ready', 'ready', 'ready', 'ready', 'ready', 'ready', 'ready', 'ready', 'ready', 'ready', 'ready', 'ready', 'ready', 'ready', 'ready', 'ready', 'ready', 'ready', 'ready', 'ready', 'ready', 'ready', 'ready', 'ready', 'ready', 'ready'), 7),\tAction=('pick_resist', 30)\n",
      "State=(('ready', 'ready', 'ready', 'ready', 'ready', 'ready', 'ready', 'ready', 'ready', 'ready', 'ready', 'ready', 'ready', 'ready', 'ready', 'ready', 'ready', 'ready', 'ready', 'ready', 'ready', 'ready', 'ready', 'ready', 'ready', 'ready', 'ready', 'ready', 'ready', 'ready', 'ready', 'ready', 'ready', 'ready', 'ready', 'ready', 'ready', 'ready', 'ready', 'ready', 'ready'), 8),\tAction=('pick_plastic', 33)\n",
      "State=(('ready', 'ready', 'ready', 'ready', 'ready', 'ready', 'ready', 'ready', 'ready', 'ready', 'ready', 'ready', 'ready', 'ready', 'ready', 'ready', 'ready', 'ready', 'ready', 'ready', 'ready', 'ready', 'ready', 'ready', 'ready', 'ready', 'ready', 'ready', 'ready', 'ready', 'ready', 'ready', 'ready', 'ready', 'ready', 'ready', 'ready', 'ready', 'ready', 'ready', 'ready'), 9),\tAction=('pick_chemicals', 35)\n",
      "State=(('ready', 'ready', 'ready', 'ready', 'ready', 'ready', 'ready', 'ready', 'ready', 'ready', 'ready', 'ready', 'ready', 'ready', 'ready', 'ready', 'ready', 'ready', 'ready', 'ready', 'ready', 'ready', 'ready', 'ready', 'ready', 'ready', 'ready', 'ready', 'ready', 'ready', 'ready', 'ready', 'ready', 'ready', 'ready', 'ready', 'ready', 'ready', 'ready', 'ready', 'ready'), 10),\tAction=('pick_copper_frame', 40)\n",
      "State=(('ready', 'ready', 'ready', 'ready', 'ready', 'ready', 'ready', 'ready', 'ready', 'ready', 'ready', 'ready', 'ready', 'ready', 'ready', 'ready', 'ready', 'ready', 'ready', 'ready', 'ready', 'ready', 'ready', 'ready', 'ready', 'ready', 'ready', 'ready', 'ready', 'ready', 'ready', 'ready', 'ready', 'ready', 'ready', 'ready', 'ready', 'ready', 'ready', 'ready', 'ready'), 11),\tAction=undefined\n",
      "State=-1,\tAction=undefined\n"
     ]
    }
   ],
   "source": [
    "print_policy_data(opt_policy)"
   ]
  },
  {
   "cell_type": "markdown",
   "metadata": {},
   "source": [
    "# Value Function\n",
    "Calculation of Value Function:"
   ]
  },
  {
   "cell_type": "code",
   "execution_count": 32,
   "metadata": {},
   "outputs": [
    {
     "name": "stdout",
     "output_type": "stream",
     "text": [
      "Value function:\n",
      "State=(('ready', 'ready', 'ready', 'ready', 'ready', 'ready', 'ready', 'ready', 'ready', 'ready', 'ready', 'ready', 'ready', 'ready', 'ready', 'ready', 'ready', 'ready', 'ready', 'ready', 'ready', 'ready', 'ready', 'ready', 'ready', 'ready', 'ready', 'ready', 'ready', 'ready', 'ready', 'ready', 'ready', 'ready', 'ready', 'ready', 'ready', 'ready', 'ready', 'ready', 'ready'), 11),\tvalue=0.0\n",
      "State=(('ready', 'ready', 'ready', 'ready', 'ready', 'ready', 'ready', 'ready', 'ready', 'ready', 'ready', 'ready', 'ready', 'ready', 'ready', 'ready', 'ready', 'ready', 'ready', 'ready', 'ready', 'ready', 'ready', 'ready', 'ready', 'ready', 'ready', 'ready', 'ready', 'ready', 'ready', 'ready', 'ready', 'ready', 'ready', 'ready', 'ready', 'ready', 'ready', 'ready', 'ready'), 7),\tvalue=-14.517\n",
      "State=(('ready', 'ready', 'ready', 'ready', 'ready', 'ready', 'ready', 'ready', 'ready', 'ready', 'ready', 'ready', 'ready', 'ready', 'ready', 'ready', 'ready', 'ready', 'ready', 'ready', 'ready', 'ready', 'ready', 'ready', 'ready', 'ready', 'ready', 'ready', 'ready', 'ready', 'ready', 'ready', 'ready', 'ready', 'ready', 'ready', 'ready', 'ready', 'ready', 'ready', 'ready'), 10),\tvalue=-1.0\n",
      "State=(('ready', 'ready', 'ready', 'ready', 'ready', 'ready', 'ready', 'ready', 'ready', 'ready', 'ready', 'ready', 'ready', 'ready', 'ready', 'ready', 'ready', 'ready', 'ready', 'ready', 'ready', 'ready', 'ready', 'ready', 'ready', 'ready', 'ready', 'ready', 'ready', 'ready', 'ready', 'ready', 'ready', 'ready', 'ready', 'ready', 'ready', 'ready', 'ready', 'ready', 'ready'), 0),\tvalue=-26.422411997000005\n",
      "State=(('ready', 'ready', 'ready', 'ready', 'ready', 'ready', 'ready', 'ready', 'ready', 'ready', 'ready', 'ready', 'ready', 'ready', 'ready', 'ready', 'ready', 'ready', 'ready', 'ready', 'ready', 'ready', 'ready', 'ready', 'ready', 'ready', 'ready', 'ready', 'ready', 'ready', 'ready', 'ready', 'ready', 'ready', 'ready', 'ready', 'ready', 'ready', 'ready', 'ready', 'ready'), 3),\tvalue=-27.928903700000006\n",
      "State=(('ready', 'ready', 'ready', 'ready', 'ready', 'ready', 'ready', 'ready', 'ready', 'ready', 'ready', 'ready', 'ready', 'ready', 'ready', 'ready', 'ready', 'ready', 'ready', 'ready', 'ready', 'ready', 'ready', 'ready', 'ready', 'ready', 'ready', 'ready', 'ready', 'ready', 'ready', 'ready', 'ready', 'ready', 'ready', 'ready', 'ready', 'ready', 'ready', 'ready', 'ready'), 9),\tvalue=-2.7\n",
      "State=(('ready', 'ready', 'ready', 'ready', 'ready', 'ready', 'ready', 'ready', 'ready', 'ready', 'ready', 'ready', 'ready', 'ready', 'ready', 'ready', 'ready', 'ready', 'ready', 'ready', 'ready', 'ready', 'ready', 'ready', 'ready', 'ready', 'ready', 'ready', 'ready', 'ready', 'ready', 'ready', 'ready', 'ready', 'ready', 'ready', 'ready', 'ready', 'ready', 'ready', 'ready'), 6),\tvalue=-19.765300000000003\n",
      "State=(('ready', 'ready', 'ready', 'ready', 'ready', 'ready', 'ready', 'ready', 'ready', 'ready', 'ready', 'ready', 'ready', 'ready', 'ready', 'ready', 'ready', 'ready', 'ready', 'ready', 'ready', 'ready', 'ready', 'ready', 'ready', 'ready', 'ready', 'ready', 'ready', 'ready', 'ready', 'ready', 'ready', 'ready', 'ready', 'ready', 'ready', 'ready', 'ready', 'ready', 'ready'), 2),\tvalue=-27.136013330000004\n",
      "State=(('ready', 'ready', 'ready', 'ready', 'ready', 'ready', 'ready', 'ready', 'ready', 'ready', 'ready', 'ready', 'ready', 'ready', 'ready', 'ready', 'ready', 'ready', 'ready', 'ready', 'ready', 'ready', 'ready', 'ready', 'ready', 'ready', 'ready', 'ready', 'ready', 'ready', 'ready', 'ready', 'ready', 'ready', 'ready', 'ready', 'ready', 'ready', 'ready', 'ready', 'ready'), 5),\tvalue=-19.78877\n",
      "State=(('ready', 'ready', 'ready', 'ready', 'ready', 'ready', 'ready', 'ready', 'ready', 'ready', 'ready', 'ready', 'ready', 'ready', 'ready', 'ready', 'ready', 'ready', 'ready', 'ready', 'ready', 'ready', 'ready', 'ready', 'ready', 'ready', 'ready', 'ready', 'ready', 'ready', 'ready', 'ready', 'ready', 'ready', 'ready', 'ready', 'ready', 'ready', 'ready', 'ready', 'ready'), 8),\tvalue=-14.129999999999999\n",
      "State=(('ready', 'ready', 'ready', 'ready', 'ready', 'ready', 'ready', 'ready', 'ready', 'ready', 'ready', 'ready', 'ready', 'ready', 'ready', 'ready', 'ready', 'ready', 'ready', 'ready', 'ready', 'ready', 'ready', 'ready', 'ready', 'ready', 'ready', 'ready', 'ready', 'ready', 'ready', 'ready', 'ready', 'ready', 'ready', 'ready', 'ready', 'ready', 'ready', 'ready', 'ready'), 4),\tvalue=-19.809893000000002\n",
      "State=-1,\tvalue=0.0\n"
     ]
    }
   ],
   "source": [
    "print_value_function(value_function)"
   ]
  },
  {
   "cell_type": "code",
   "execution_count": 33,
   "metadata": {},
   "outputs": [
    {
     "name": "stdout",
     "output_type": "stream",
     "text": [
      "Q-value function:\n",
      "State=(('ready', 'ready', 'ready', 'ready', 'ready', 'ready', 'ready', 'ready', 'ready', 'ready', 'ready', 'ready', 'ready', 'ready', 'ready', 'ready', 'ready', 'ready', 'ready', 'ready', 'ready', 'ready', 'ready', 'ready', 'ready', 'ready', 'ready', 'ready', 'ready', 'ready', 'ready', 'ready', 'ready', 'ready', 'ready', 'ready', 'ready', 'ready', 'ready', 'ready', 'ready'), 0):\n",
      "\tAction=('pick_buy_design', 0),\tValue=-26.422411997000005\n",
      "\tAction=('pick_buy_design', 1),\tValue=-31.222411997000005\n",
      "\tAction=('pick_buy_design', 2),\tValue=-36.122411997\n",
      "\tAction=('pick_buy_design', 3),\tValue=-36.622411997\n",
      "\n",
      "State=(('ready', 'ready', 'ready', 'ready', 'ready', 'ready', 'ready', 'ready', 'ready', 'ready', 'ready', 'ready', 'ready', 'ready', 'ready', 'ready', 'ready', 'ready', 'ready', 'ready', 'ready', 'ready', 'ready', 'ready', 'ready', 'ready', 'ready', 'ready', 'ready', 'ready', 'ready', 'ready', 'ready', 'ready', 'ready', 'ready', 'ready', 'ready', 'ready', 'ready', 'ready'), 2):\n",
      "\tAction=('pick_silicon', 4),\tValue=-36.83601333000001\n",
      "\tAction=('pick_silicon', 5),\tValue=-37.25601333000001\n",
      "\tAction=('pick_silicon', 6),\tValue=-32.29601333000001\n",
      "\tAction=('pick_silicon', 7),\tValue=-27.136013330000008\n",
      "\tAction=('pick_silicon', 8),\tValue=-31.836013330000007\n",
      "\tAction=('pick_silicon', 9),\tValue=-32.736013330000006\n",
      "\tAction=('pick_silicon', 10),\tValue=-39.86601333000001\n",
      "\n",
      "State=(('ready', 'ready', 'ready', 'ready', 'ready', 'ready', 'ready', 'ready', 'ready', 'ready', 'ready', 'ready', 'ready', 'ready', 'ready', 'ready', 'ready', 'ready', 'ready', 'ready', 'ready', 'ready', 'ready', 'ready', 'ready', 'ready', 'ready', 'ready', 'ready', 'ready', 'ready', 'ready', 'ready', 'ready', 'ready', 'ready', 'ready', 'ready', 'ready', 'ready', 'ready'), 3):\n",
      "\tAction=('pick_wafer', 11),\tValue=-27.9289037\n",
      "\tAction=('pick_wafer', 12),\tValue=-28.5289037\n",
      "\n",
      "State=(('ready', 'ready', 'ready', 'ready', 'ready', 'ready', 'ready', 'ready', 'ready', 'ready', 'ready', 'ready', 'ready', 'ready', 'ready', 'ready', 'ready', 'ready', 'ready', 'ready', 'ready', 'ready', 'ready', 'ready', 'ready', 'ready', 'ready', 'ready', 'ready', 'ready', 'ready', 'ready', 'ready', 'ready', 'ready', 'ready', 'ready', 'ready', 'ready', 'ready', 'ready'), 4):\n",
      "\tAction=('pick_boron', 13),\tValue=-29.509892999999998\n",
      "\tAction=('pick_boron', 14),\tValue=-19.809893\n",
      "\tAction=('pick_boron', 15),\tValue=-25.609893\n",
      "\tAction=('pick_boron', 16),\tValue=-28.209893\n",
      "\tAction=('pick_boron', 17),\tValue=-29.929893\n",
      "\tAction=('pick_boron', 18),\tValue=-26.359893\n",
      "\tAction=('pick_boron', 19),\tValue=-24.609893\n",
      "\tAction=('pick_boron', 20),\tValue=-27.969893\n",
      "\n",
      "State=(('ready', 'ready', 'ready', 'ready', 'ready', 'ready', 'ready', 'ready', 'ready', 'ready', 'ready', 'ready', 'ready', 'ready', 'ready', 'ready', 'ready', 'ready', 'ready', 'ready', 'ready', 'ready', 'ready', 'ready', 'ready', 'ready', 'ready', 'ready', 'ready', 'ready', 'ready', 'ready', 'ready', 'ready', 'ready', 'ready', 'ready', 'ready', 'ready', 'ready', 'ready'), 5):\n",
      "\tAction=('pick_phosphor', 21),\tValue=-29.488770000000002\n",
      "\tAction=('pick_phosphor', 22),\tValue=-25.688770000000005\n",
      "\tAction=('pick_phosphor', 23),\tValue=-19.788770000000003\n",
      "\n",
      "State=(('ready', 'ready', 'ready', 'ready', 'ready', 'ready', 'ready', 'ready', 'ready', 'ready', 'ready', 'ready', 'ready', 'ready', 'ready', 'ready', 'ready', 'ready', 'ready', 'ready', 'ready', 'ready', 'ready', 'ready', 'ready', 'ready', 'ready', 'ready', 'ready', 'ready', 'ready', 'ready', 'ready', 'ready', 'ready', 'ready', 'ready', 'ready', 'ready', 'ready', 'ready'), 6):\n",
      "\tAction=('pick_aluminum', 24),\tValue=-27.0653\n",
      "\tAction=('pick_aluminum', 25),\tValue=-19.7653\n",
      "\tAction=('pick_aluminum', 26),\tValue=-26.165300000000002\n",
      "\n",
      "State=(('ready', 'ready', 'ready', 'ready', 'ready', 'ready', 'ready', 'ready', 'ready', 'ready', 'ready', 'ready', 'ready', 'ready', 'ready', 'ready', 'ready', 'ready', 'ready', 'ready', 'ready', 'ready', 'ready', 'ready', 'ready', 'ready', 'ready', 'ready', 'ready', 'ready', 'ready', 'ready', 'ready', 'ready', 'ready', 'ready', 'ready', 'ready', 'ready', 'ready', 'ready'), 7):\n",
      "\tAction=('pick_resist', 27),\tValue=-14.716999999999999\n",
      "\tAction=('pick_resist', 28),\tValue=-20.717\n",
      "\tAction=('pick_resist', 29),\tValue=-25.817\n",
      "\tAction=('pick_resist', 30),\tValue=-14.517\n",
      "\tAction=('pick_resist', 31),\tValue=-20.317\n",
      "\tAction=('pick_resist', 32),\tValue=-21.097\n",
      "\n",
      "State=(('ready', 'ready', 'ready', 'ready', 'ready', 'ready', 'ready', 'ready', 'ready', 'ready', 'ready', 'ready', 'ready', 'ready', 'ready', 'ready', 'ready', 'ready', 'ready', 'ready', 'ready', 'ready', 'ready', 'ready', 'ready', 'ready', 'ready', 'ready', 'ready', 'ready', 'ready', 'ready', 'ready', 'ready', 'ready', 'ready', 'ready', 'ready', 'ready', 'ready', 'ready'), 8):\n",
      "\tAction=('pick_plastic', 33),\tValue=-14.129999999999999\n",
      "\tAction=('pick_plastic', 34),\tValue=-15.53\n",
      "\n",
      "State=(('ready', 'ready', 'ready', 'ready', 'ready', 'ready', 'ready', 'ready', 'ready', 'ready', 'ready', 'ready', 'ready', 'ready', 'ready', 'ready', 'ready', 'ready', 'ready', 'ready', 'ready', 'ready', 'ready', 'ready', 'ready', 'ready', 'ready', 'ready', 'ready', 'ready', 'ready', 'ready', 'ready', 'ready', 'ready', 'ready', 'ready', 'ready', 'ready', 'ready', 'ready'), 9):\n",
      "\tAction=('pick_chemicals', 35),\tValue=-2.7\n",
      "\tAction=('pick_chemicals', 36),\tValue=-2.9\n",
      "\n",
      "State=(('ready', 'ready', 'ready', 'ready', 'ready', 'ready', 'ready', 'ready', 'ready', 'ready', 'ready', 'ready', 'ready', 'ready', 'ready', 'ready', 'ready', 'ready', 'ready', 'ready', 'ready', 'ready', 'ready', 'ready', 'ready', 'ready', 'ready', 'ready', 'ready', 'ready', 'ready', 'ready', 'ready', 'ready', 'ready', 'ready', 'ready', 'ready', 'ready', 'ready', 'ready'), 10):\n",
      "\tAction=('pick_copper_frame', 37),\tValue=-6.8\n",
      "\tAction=('pick_copper_frame', 38),\tValue=-10.7\n",
      "\tAction=('pick_copper_frame', 39),\tValue=-5.0\n",
      "\tAction=('pick_copper_frame', 40),\tValue=-1.0\n",
      "\n",
      "State=(('ready', 'ready', 'ready', 'ready', 'ready', 'ready', 'ready', 'ready', 'ready', 'ready', 'ready', 'ready', 'ready', 'ready', 'ready', 'ready', 'ready', 'ready', 'ready', 'ready', 'ready', 'ready', 'ready', 'ready', 'ready', 'ready', 'ready', 'ready', 'ready', 'ready', 'ready', 'ready', 'ready', 'ready', 'ready', 'ready', 'ready', 'ready', 'ready', 'ready', 'ready'), 11):\n",
      "\tAction=undefined,\tValue=0.0\n",
      "\n",
      "State=-1:\n",
      "\tAction=undefined,\tValue=0.0\n",
      "\n"
     ]
    }
   ],
   "source": [
    "print_q_value_function(q_value_function)"
   ]
  },
  {
   "cell_type": "markdown",
   "metadata": {},
   "source": [
    "# Second phase - Manufacturing Process\n",
    "## Target Specification\n",
    "The target specification of the second phase is structured as follows:\n"
   ]
  },
  {
   "cell_type": "code",
   "execution_count": 34,
   "metadata": {},
   "outputs": [
    {
     "name": "stderr",
     "output_type": "stream",
     "text": [
      "\n",
      "KeyboardInterrupt\n",
      "\n"
     ]
    }
   ],
   "source": [
    "constraints = [\n",
    "    build_declare_assumption(set(SYMBOLS_PHASE_2)),\n",
    "    *[exactly_once(x) for x in SYMBOLS_PHASE_2],\n",
    "]\n",
    "\n",
    "for i in range(len(SYMBOLS_PHASE_2) - 1):\n",
    "    for j in range(i, len(SYMBOLS_PHASE_2)):\n",
    "        constraints.append(alt_precedence(SYMBOLS_PHASE_2[i], SYMBOLS_PHASE_2[j]))\n",
    "formula = pylogics.parsers.ltl.parse_ltl(\" & \".join(constraints))\n",
    "automaton = logaut.core.ltl2dfa(formula, backend=\"lydia\")\n",
    "declare_automaton = from_symbolic_automaton_to_declare_automaton(automaton, set(SYMBOLS_PHASE_2))\n",
    "render_mdp_dfa(mdp_from_dfa(declare_automaton), no_sink=True)"
   ]
  },
  {
   "cell_type": "code",
   "execution_count": null,
   "metadata": {},
   "outputs": [],
   "source": [
    "all_services = [\n",
    "    # 0\n",
    "    cleaning_service(CLEANING_SERVICE_NAME, USA_REWARD),\n",
    "    # 1\n",
    "    film_deposition_service(FILM_DEPOSITION1_SERVICE_NAME, DEFAULT_BROKEN_PROB, DEFAULT_UNEMPLOYABLE_PROB, DEFAULT_BROKEN_REWARD, DEFAULT_USA_REWARD),\n",
    "    # 2\n",
    "    film_deposition_service(FILM_DEPOSITION2_SERVICE_NAME, BROKEN_PROB, HIGH_UNEMPLOYABLE_PROB, DEFAULT_BROKEN_REWARD, USA_REWARD),\n",
    "    # 3\n",
    "    resist_coating_service(RESIST_COATING1_SERVICE_NAME, DEFAULT_BROKEN_PROB, DEFAULT_UNEMPLOYABLE_PROB, DEFAULT_BROKEN_REWARD, DEFAULT_USA_REWARD),\n",
    "    # 4\n",
    "    resist_coating_service(RESIST_COATING2_SERVICE_NAME, DEFAULT_BROKEN_PROB, DEFAULT_UNEMPLOYABLE_PROB, DEFAULT_BROKEN_REWARD, USA_REWARD),\n",
    "    # 5\n",
    "    exposure_service(EXPOSURE_SERVICE_NAME, DEFAULT_BROKEN_PROB, DEFAULT_BROKEN_REWARD, DEFAULT_USA_REWARD),\n",
    "    # 6\n",
    "    development_service(DEVELOPMENT1_SERVICE_NAME, DEFAULT_BROKEN_PROB, DEFAULT_UNEMPLOYABLE_PROB, DEFAULT_BROKEN_REWARD, DEFAULT_USA_REWARD),\n",
    "    # 7\n",
    "    development_service(DEVELOPMENT2_SERVICE_NAME, BROKEN_PROB, DEFAULT_UNEMPLOYABLE_PROB, DEFAULT_BROKEN_REWARD, HIGH_USA_REWARD),\n",
    "    # 8\n",
    "    etching_service(ETCHING1_SERVICE_NAME, DEFAULT_BROKEN_PROB, DEFAULT_BROKEN_REWARD, DEFAULT_USA_REWARD),\n",
    "    # 9\n",
    "    etching_service(ETCHING2_SERVICE_NAME, BROKEN_PROB, DEFAULT_BROKEN_REWARD, HIGH_USA_REWARD),\n",
    "    # 10\n",
    "    #impurities_implantation_service(IMPURITIES_IMPLANTATION_SERVICE_NAME, DEFAULT_BROKEN_PROB, DEFAULT_UNEMPLOYABLE_PROB,DEFAULT_BROKEN_REWARD, DEFAULT_USA_REWARD),\n",
    "    # 11\n",
    "    #activation_service(ACTIVATION_SERVICE_NAME, USA_REWARD),\n",
    "    # 12\n",
    "    #resist_stripping_service(RESIST_STRIPPING_SERVICE_NAME, DEFAULT_BROKEN_PROB, DEFAULT_BROKEN_REWARD, DEFAULT_USA_REWARD),\n",
    "    # 13\n",
    "    #assembly_service(ASSEMBLY_SERVICE_NAME, USA_REWARD),\n",
    "    # 14\n",
    "    #testing_service(TESTING_SERVICE_NAME, USA_REWARD),\n",
    "    # 15\n",
    "    #packaging_service(PACKAGING_SERVICE_NAME, USA_REWARD)\n",
    "]\n",
    "# trimmed_declare_automaton = declare_automaton.trim()\n",
    "# stochastic_target = target_from_dfa(trimmed_declare_automaton)\n",
    "# mdp = composition_mdp(stochastic_target, *all_services, gamma=0.9)\n",
    "#mdp = comp_mdp(declare_automaton, all_services, gamma=0.9)\n",
    "mdp = comp_mdp(declare_automaton, all_services, gamma=0.9)\n",
    "#render_composition_mdp(mdp)\n",
    "print(\"Number of states: \", len(mdp.all_states))"
   ]
  },
  {
   "cell_type": "markdown",
   "metadata": {},
   "source": [
    "# Optimal policy\n",
    "Calculation of optimal policy:"
   ]
  },
  {
   "cell_type": "code",
   "execution_count": null,
   "metadata": {},
   "outputs": [],
   "source": [
    "opn = DPAnalytic(mdp, 1e-4)\n",
    "opt_policy = opn.get_optimal_policy_vi()\n",
    "value_function = opn.get_value_func_dict(opt_policy)\n",
    "q_value_function = opn.get_act_value_func_dict(opt_policy)"
   ]
  },
  {
   "cell_type": "code",
   "execution_count": null,
   "metadata": {},
   "outputs": [],
   "source": [
    "print_policy_data(opt_policy)"
   ]
  },
  {
   "cell_type": "markdown",
   "metadata": {},
   "source": [
    "# Value Function\n",
    "Calculation of Value Function:"
   ]
  },
  {
   "cell_type": "code",
   "execution_count": null,
   "metadata": {},
   "outputs": [],
   "source": [
    "print_value_function(value_function)"
   ]
  },
  {
   "cell_type": "code",
   "execution_count": null,
   "metadata": {},
   "outputs": [],
   "source": [
    "print_q_value_function(q_value_function)"
   ]
  }
 ],
 "metadata": {
  "kernelspec": {
   "display_name": "Python 3 (ipykernel)",
   "language": "python",
   "name": "python3"
  },
  "language_info": {
   "codemirror_mode": {
    "name": "ipython",
    "version": 3
   },
   "file_extension": ".py",
   "mimetype": "text/x-python",
   "name": "python",
   "nbconvert_exporter": "python",
   "pygments_lexer": "ipython3",
   "version": "3.10.6"
  }
 },
 "nbformat": 4,
 "nbformat_minor": 1
}
