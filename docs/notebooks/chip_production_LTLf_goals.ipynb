{
 "cells": [
  {
   "cell_type": "code",
   "execution_count": 1,
   "metadata": {},
   "outputs": [],
   "source": [
    "from typing import Set\n",
    "# Python imports, put at the top for simplicity\n",
    "from logaut import ltl2dfa\n",
    "from pylogics.parsers import parse_ltl\n",
    "import pylogics.parsers.ldl\n",
    "import logaut\n",
    "\n",
    "from mdp_dp_rl.algorithms.dp.dp_analytic import DPAnalytic\n",
    "from stochastic_service_composition.declare_utils import *\n",
    "from stochastic_service_composition.dfa_target import from_symbolic_automaton_to_declare_automaton\n",
    "from stochastic_service_composition.dfa_target import mdp_from_dfa\n",
    "from docs.notebooks.utils import render_service, render_target, render_composition_mdp, render_mdp_dfa, \\\n",
    "    print_policy_data, print_value_function, print_q_value_function, render_comp_mdp\n",
    "from stochastic_service_composition.composition_mdp import composition_mdp, comp_mdp\n",
    "from stochastic_service_composition.services import build_service_from_transitions, Service\n",
    "from stochastic_service_composition.target import build_target_from_transitions, target_from_dfa\n"
   ]
  },
  {
   "cell_type": "markdown",
   "metadata": {},
   "source": [
    "## Use case for \"Stochastic Service Composition with Industrial APIs\" - Chip Production.\n",
    "\n",
    "In this notebook, we present the implementation of the use case for \"Stochastic Service Composition with Industrial APIs\" about chip production."
   ]
  },
  {
   "cell_type": "markdown",
   "metadata": {},
   "source": [
    "# Available Services\n",
    "\n",
    "In the following we provide definitions about available services:"
   ]
  },
  {
   "cell_type": "code",
   "execution_count": 2,
   "metadata": {},
   "outputs": [],
   "source": [
    "LOW_PROB = 0.05\n",
    "\n",
    "# probabilities of being broken after an action\n",
    "DEFAULT_BROKEN_PROB = LOW_PROB\n",
    "BROKEN_PROB = 0.5\n",
    "HIGH_BROKEN_PROB = 0.7\n",
    "\n",
    "# default probability of being unemployable after the configuration\n",
    "DEFAULT_UNEMPLOYABLE_PROB = LOW_PROB\n",
    "HIGH_UNEMPLOYABLE_PROB = 0.5\n",
    "\n",
    "# costs of the machines that perform their job in different countries\n",
    "DEFAULT_USA_REWARD = -1.0\n",
    "WAR_REWARD = -3.0\n",
    "USA_REWARD = -2.0\n",
    "HIGH_USA_REWARD = -5.0\n",
    "UK_REWARD = -6.8\n",
    "CHINA_REWARD = -11.7\n",
    "TAIWAN_REWARD = -12.2\n",
    "RUSSIA_REWARD = -9.12 # we have to take into the account political problems\n",
    "NORWAY_REWARD = -7.16\n",
    "AUSTRALIA_REWARD = -14.0\n",
    "INDIA_REWARD = -13.1\n",
    "BELGIUM_REWARD = -7.6\n",
    "SWITZERLAND_REWARD = -8.0\n",
    "CANADA_REWARD = -1.8\n",
    "PERU_REWARD = -6.0\n",
    "AUSTRIA_REWARD = -8.38\n",
    "BRAZIL_REWARD = -6.7\n",
    "FRANCE_REWARD = -7.6\n",
    "MALAYSIA_REWARD = -14.73\n",
    "TURKEY_REWARD = -10.16\n",
    "KAZAKHSTAN_REWARD = -10.4\n",
    "CHILE_REWARD = -7.8\n",
    "BOLIVIA_REWARD = -6.8\n",
    "ARGENTINA_REWARD = -8.55\n",
    "MOROCCO_REWARD = -7.9\n",
    "JAPAN_REWARD = -10.1\n",
    "SOUTH_KOREA = -10.7\n",
    "NETHERLANDS_REWARD = -7.5\n",
    "\n",
    "# default reward when the service becomes broken\n",
    "DEFAULT_BROKEN_REWARD = -10.0"
   ]
  },
  {
   "cell_type": "code",
   "execution_count": 3,
   "metadata": {},
   "outputs": [],
   "source": [
    "# all the atomic actions for the task\n",
    "PICK_BUY_DESIGN = \"pick_buy_design\"\n",
    "PICK_SILICON = \"pick_silicon\"\n",
    "PICK_WAFER = \"pick_wafer\"\n",
    "PICK_BORON = \"pick_boron\"\n",
    "PICK_PHOSPHOR = \"pick_phosphor\"\n",
    "PICK_ALUMINUM = \"pick_aluminum\"\n",
    "PICK_RESIST = \"pick_resist\"\n",
    "PICK_PLASTIC = \"pick_plastic\"\n",
    "PICK_CHEMICALS = \"pick_chemicals\"\n",
    "PICK_COPPER_FRAME = \"pick_copper_frame\"\n",
    "CLEANING = \"cleaning\"\n",
    "CONFIG_FILM_DEPOSITION = \"config_film_deposition\"\n",
    "CHECKED_FILM_DEPOSITION = \"checked_film_deposition\"\n",
    "FILM_DEPOSITION = \"film_deposition\"\n",
    "CONFIG_RESIST_COATING = \"config_resist_coating\"\n",
    "CHECKED_RESIST_COATING = \"checked_resist_coating\"\n",
    "RESIST_COATING = \"resist_coating\"\n",
    "EXPOSURE = \"exposure\"\n",
    "CHECK_EXPOSURE = \"check_exposure\"\n",
    "CONFIG_DEVELOPMENT = \"config_development\"\n",
    "CHECKED_DEVELOPMENT = \"checked_development\"\n",
    "DEVELOPMENT = \"development\"\n",
    "ETCHING = \"etching\"\n",
    "CHECK_ETCHING = \"check_etching\"\n",
    "CONFIG_IMPURITIES_IMPLANTATION = \"config_impurities_implantation\"\n",
    "CHECKED_IMPURITIES_IMPLANTATION = \"checked_impurities_implantation\"\n",
    "IMPURITIES_IMPLANTATION = \"impurities_implantation\"\n",
    "ACTIVATION = \"activation\"\n",
    "RESIST_STRIPPING = \"resist_stripping\"\n",
    "CHECK_RESIST_STRIPPING = \"check_resist_stripping\"\n",
    "ASSEMBLY = \"assembly\"\n",
    "TESTING =\"testing\"\n",
    "PACKAGING = \"packaging\"\n",
    "\n",
    "SYMBOLS_PHASE_1 = [\n",
    "    PICK_BUY_DESIGN,\n",
    "    PICK_SILICON,\n",
    "    PICK_WAFER,\n",
    "    PICK_BORON,\n",
    "    PICK_PHOSPHOR,\n",
    "    PICK_ALUMINUM,\n",
    "    PICK_RESIST,\n",
    "    PICK_PLASTIC,\n",
    "    PICK_CHEMICALS,\n",
    "    PICK_COPPER_FRAME\n",
    "]\n",
    "\n",
    "SYMBOLS_PHASE_2 = [\n",
    "    CLEANING,\n",
    "    CONFIG_FILM_DEPOSITION,\n",
    "    CHECKED_FILM_DEPOSITION,\n",
    "    FILM_DEPOSITION,\n",
    "    CONFIG_RESIST_COATING,\n",
    "    CHECKED_RESIST_COATING,\n",
    "    RESIST_COATING,\n",
    "    EXPOSURE,\n",
    "    CHECK_EXPOSURE,\n",
    "    CONFIG_DEVELOPMENT,\n",
    "    CHECKED_DEVELOPMENT,\n",
    "    DEVELOPMENT,\n",
    "    ETCHING,\n",
    "    CHECK_ETCHING,\n",
    "    CONFIG_IMPURITIES_IMPLANTATION,\n",
    "    CHECKED_IMPURITIES_IMPLANTATION,\n",
    "    IMPURITIES_IMPLANTATION,\n",
    "    ACTIVATION,\n",
    "    RESIST_STRIPPING,\n",
    "    CHECK_RESIST_STRIPPING,\n",
    "    ASSEMBLY,\n",
    "    TESTING,\n",
    "    PACKAGING\n",
    "]"
   ]
  },
  {
   "cell_type": "code",
   "execution_count": 4,
   "metadata": {},
   "outputs": [],
   "source": [
    "# service names\n",
    "DESIGN_SERVICE_NAME_USA = \"design_usa\"                                      # human\n",
    "DESIGN_SERVICE_NAME_UK = \"design_uk\"                                        # human\n",
    "DESIGN_SERVICE_NAME_CHINA = \"design_china\"                                  # human\n",
    "DESIGN_SERVICE_NAME_TAIWAN = \"design_taiwan\"                                # human\n",
    "SILICON_SERVICE_NAME_CHINA = \"silicon_china\"                                # warehouse\n",
    "SILICON_SERVICE_NAME_RUSSIA = \"silicon_russia\"                              # warehouse\n",
    "SILICON_SERVICE_NAME_NORWAY = \"silicon_norway\"                              # warehouse\n",
    "SILICON_SERVICE_NAME_USA = \"silicon_usa\"                                    # warehouse\n",
    "SILICON_SERVICE_NAME_FRANCE = \"silicon_france\"                              # warehouse\n",
    "SILICON_SERVICE_NAME_BRAZIL = \"silicon_brazil\"                              # warehouse\n",
    "SILICON_SERVICE_NAME_MALAYSIA = \"silicon_malaysia\"                          # warehouse\n",
    "WAFER_SERVICE_NAME_JAPAN = \"wafer_japan\"                                    # warehouse\n",
    "WAFER_SERVICE_NAME_SOUTH_KOREA = \"wafer_south_korea\"                        # warehouse\n",
    "BORON_SERVICE_NAME_TURKEY = \"boron_turkey\"                                  # warehouse\n",
    "BORON_SERVICE_NAME_USA = \"boron_usa\"                                        # warehouse\n",
    "BORON_SERVICE_NAME_KAZAKHSTAN = \"boron_kazakhstan\"                          # warehouse\n",
    "BORON_SERVICE_NAME_CHILE = \"boron_chile\"                                    # warehouse\n",
    "BORON_SERVICE_NAME_CHINA = \"boron_china\"                                    # warehouse\n",
    "BORON_SERVICE_NAME_ARGENTINA = \"boron_argentina\"                            # warehouse\n",
    "BORON_SERVICE_NAME_RUSSIA = \"boron_russia\"                                  # warehouse\n",
    "BORON_SERVICE_NAME_BOLIVIA = \"boron_bolivia\"                                # warehouse\n",
    "PHOSPHOR_SERVICE_NAME_MOROCCO = \"phosphor_morocco\"                          # warehouse\n",
    "PHOSPHOR_SERVICE_NAME_CHINA = \"phosphor_china\"                              # warehouse\n",
    "PHOSPHOR_SERVICE_NAME_USA = \"phosphor_usa\"                                  # warehouse\n",
    "ALUMINUM_SERVICE_NAME_AUSTRALIA = \"aluminum_australia\"                      # warehouse\n",
    "ALUMINUM_SERVICE_NAME_INDIA = \"aluminum_india\"                              # warehouse\n",
    "ALUMINUM_SERVICE_NAME_BRAZIL = \"aluminum_brazil\"                            # warehouse\n",
    "RESIST_SERVICE_NAME_USA = \"resist_usa\"                                      # warehouse\n",
    "RESIST_SERVICE_NAME_BELGIUM = \"resist_belgium\"                              # warehouse\n",
    "RESIST_SERVICE_NAME_AUSTRIA = \"resist_austria\"                              # warehouse\n",
    "RESIST_SERVICE_NAME_INDIA = \"resist_india\"                                  # warehouse\n",
    "RESIST_SERVICE_NAME_SWITZERLAND = \"resist_switzerland\"                      # warehouse\n",
    "RESIST_SERVICE_NAME_CANADA = \"resist_canada\"                                # warehouse\n",
    "PLASTIC_SERVICE_NAME_CHINA = \"plastic_china\"                                # warehouse\n",
    "PLASTIC_SERVICE_NAME_INDIA = \"plastic_india\"                                # warehouse\n",
    "CHEMICALS_SERVICE_NAME_USA = \"chemicals_usa\"                                # warehouse\n",
    "CHEMICALS_SERVICE_NAME_CANADA = \"chemicals_canada\"                          # warehouse\n",
    "COPPER_FRAME_SERVICE_NAME_USA = \"copper_frame_usa\"                          # warehouse\n",
    "COPPER_FRAME_SERVICE_NAME_CHINA = \"copper_frame_china\"                      # warehouse\n",
    "COPPER_FRAME_SERVICE_NAME_PERU = \"copper_frame_peru\"                        # warehouse\n",
    "COPPER_FRAME_SERVICE_NAME_CHILE = \"copper_frame_chile\"                      # warehouse\n",
    "CLEANING_SERVICE_NAME = \"cleaning_human\"                                    # human\n",
    "FILM_DEPOSITION1_SERVICE_NAME = \"film_deposition_machine1\"                  # machine\n",
    "FILM_DEPOSITION2_SERVICE_NAME = \"film_deposition_machine2\"                  # machine\n",
    "RESIST_COATING1_SERVICE_NAME = \"resist_coating_machine1\"                    # machine\n",
    "RESIST_COATING2_SERVICE_NAME = \"resist_coating_machine2\"                    # machine\n",
    "EXPOSURE_SERVICE_NAME = \"exposure_machine\"                                  # machine\n",
    "DEVELOPMENT1_SERVICE_NAME = \"development1_machine\"                          # machine\n",
    "DEVELOPMENT2_SERVICE_NAME = \"development2_machine\"                          # machine\n",
    "ETCHING1_SERVICE_NAME = \"etching1_machine\"                                  # machine\n",
    "ETCHING2_SERVICE_NAME = \"etching2_machine\"                                  # machine\n",
    "IMPURITIES_IMPLANTATION_SERVICE_NAME = \"impurities_implantation_machine\"    # machine\n",
    "ACTIVATION_SERVICE_NAME = \"activation_human\"                                # human\n",
    "RESIST_STRIPPING_SERVICE_NAME = \"resist_stripping_machine\"                  # machine\n",
    "ASSEMBLY_SERVICE_NAME = \"assembly_human\"                                    # human\n",
    "TESTING_SERVICE_NAME = \"testing_human\"                                      # human\n",
    "PACKAGING_SERVICE_NAME = \"packaging_human\"                                  # human"
   ]
  },
  {
   "cell_type": "markdown",
   "metadata": {},
   "source": [
    "We have different type of services:\n",
    "\n",
    "- generic breakable machines;\n",
    "- complex breakable machines;\n",
    "- warehouse machines;\n",
    "- human workers"
   ]
  },
  {
   "cell_type": "code",
   "execution_count": 5,
   "metadata": {},
   "outputs": [],
   "source": [
    "def build_generic_breakable_service(service_name: str, action_name: str, broken_prob: float, broken_reward: float, action_reward: float):\n",
    "    assert 0.0 <= broken_prob <= 1.0\n",
    "    deterministic_prob = 1.0\n",
    "    success_prob = deterministic_prob - broken_prob\n",
    "    transitions = {\n",
    "        \"available\": {\n",
    "          action_name: ({\"done\": success_prob, \"broken\": broken_prob}, action_reward),\n",
    "        },\n",
    "        \"broken\": {\n",
    "            f\"check_{action_name}\": ({\"available\": 1.0}, broken_reward),\n",
    "        },\n",
    "        \"done\": {\n",
    "            f\"check_{action_name}\": ({\"available\": 1.0}, 0.0),\n",
    "        }\n",
    "    }\n",
    "    final_states = {\"available\"}\n",
    "    initial_state = \"available\"\n",
    "    return build_service_from_transitions(transitions, initial_state, final_states)  # type: ignore\n",
    "\n",
    "def build_complex_breakable_service(service_name: str, action_name: str, broken_prob: float, unemployable_prob: float, broken_reward: float, action_reward: float) -> Service:\n",
    "    assert 0.0 <= broken_prob <= 1.0\n",
    "    deterministic_prob = 1.0\n",
    "    configure_success_prob = deterministic_prob - unemployable_prob\n",
    "    op_success_prob = deterministic_prob - broken_prob\n",
    "    transitions = {\n",
    "        \"ready\": { # current state\n",
    "            f\"config_{action_name}\": # action\n",
    "                (\n",
    "                    {\n",
    "                        \"configured\": deterministic_prob # next state : prob\n",
    "                    },\n",
    "                    0.0\n",
    "                ),\n",
    "        },\n",
    "        \"configured\": {\n",
    "            f\"checked_{action_name}\":\n",
    "                (\n",
    "                    {\n",
    "                    \"executing\": configure_success_prob,\n",
    "                    \"broken\": unemployable_prob\n",
    "                    } if unemployable_prob > 0.0 else {\"executing\": configure_success_prob},\n",
    "                    0.0\n",
    "                ),\n",
    "        },\n",
    "        \"executing\": {\n",
    "            action_name: # operation\n",
    "                (\n",
    "                    {\n",
    "                        \"ready\": op_success_prob,\n",
    "                        \"broken\": broken_prob\n",
    "                    } if broken_prob > 0.0 else {\"ready\": op_success_prob},\n",
    "                    action_reward\n",
    "                ),\n",
    "        },\n",
    "        \"broken\": {\n",
    "            f\"restore_{action_name}\":\n",
    "               (\n",
    "                   {\n",
    "                       \"repairing\": deterministic_prob\n",
    "                   },\n",
    "                   broken_reward\n",
    "               ),\n",
    "        },\n",
    "        \"repairing\": {\n",
    "            f\"repaired_{action_name}\":\n",
    "                (\n",
    "                    {\n",
    "                        \"ready\": deterministic_prob\n",
    "                    },\n",
    "                    0.0\n",
    "                ),\n",
    "        },\n",
    "\n",
    "    }\n",
    "    final_states = {\"ready\"}\n",
    "    initial_state = \"ready\"\n",
    "    return build_service_from_transitions(transitions, initial_state, final_states)  # type: ignore\n",
    "\n",
    "def build_generic_service_one_state(\n",
    "    service_name: str,\n",
    "    operation_names: Set[str],\n",
    "    action_reward: float,\n",
    ") -> Service:\n",
    "    \"\"\"Build the one state device.\"\"\"\n",
    "    transitions = {\n",
    "        \"ready\": {\n",
    "            operation_name: ({\"ready\": 1.0}, action_reward) for operation_name in operation_names\n",
    "        },\n",
    "    }\n",
    "    final_states = {\"ready\"}\n",
    "    initial_state = \"ready\"\n",
    "    return build_service_from_transitions(transitions, initial_state, final_states)  # type: ignore"
   ]
  },
  {
   "cell_type": "code",
   "execution_count": 6,
   "metadata": {},
   "outputs": [
    {
     "data": {
      "text/plain": "<IPython.core.display.SVG object>",
      "image/svg+xml": "<svg xmlns=\"http://www.w3.org/2000/svg\" xmlns:xlink=\"http://www.w3.org/1999/xlink\" width=\"209pt\" height=\"110pt\" viewBox=\"0.00 0.00 209.05 110.09\">\n<g id=\"graph0\" class=\"graph\" transform=\"scale(1 1) rotate(0) translate(4 106.09)\">\n<polygon fill=\"white\" stroke=\"none\" points=\"-4,4 -4,-106.09 205.05,-106.09 205.05,4 -4,4\"/>\n<!-- fake -->\n<g id=\"node1\" class=\"node\">\n<title>fake</title>\n</g>\n<!-- ready -->\n<g id=\"node2\" class=\"node\">\n<title>ready</title>\n<ellipse fill=\"none\" stroke=\"black\" cx=\"125.55\" cy=\"-34.55\" rx=\"30.59\" ry=\"30.59\"/>\n<ellipse fill=\"none\" stroke=\"black\" cx=\"125.55\" cy=\"-34.55\" rx=\"34.59\" ry=\"34.59\"/>\n<text text-anchor=\"middle\" x=\"125.55\" y=\"-30.85\" font-family=\"Times New Roman,serif\" font-size=\"14.00\">ready</text>\n</g>\n<!-- fake&#45;&gt;ready -->\n<g id=\"edge1\" class=\"edge\">\n<title>fake-&gt;ready</title>\n<path fill=\"none\" stroke=\"black\" stroke-width=\"2\" d=\"M54.38,-34.55C62.06,-34.55 70.67,-34.55 79.17,-34.55\"/>\n<polygon fill=\"black\" stroke=\"black\" stroke-width=\"2\" points=\"77.55,-38.05 87.55,-34.55 77.55,-31.05 77.55,-38.05\"/>\n</g>\n<!-- ready&#45;&gt;ready -->\n<g id=\"edge2\" class=\"edge\">\n<title>ready-&gt;ready</title>\n<path fill=\"none\" stroke=\"black\" d=\"M115.61,-68.16C115.76,-78.74 119.07,-87.09 125.55,-87.09 129.49,-87.09 132.27,-83.99 133.86,-79.17\"/>\n<polygon fill=\"black\" stroke=\"black\" points=\"137.27,-80.06 135.27,-69.65 130.35,-79.03 137.27,-80.06\"/>\n<text text-anchor=\"middle\" x=\"125.55\" y=\"-90.89\" font-family=\"Times New Roman,serif\" font-size=\"14.00\">pick_buy_design, 1.0, -2.0</text>\n</g>\n</g>\n</svg>"
     },
     "metadata": {},
     "output_type": "display_data"
    },
    {
     "data": {
      "text/plain": "<IPython.core.display.SVG object>",
      "image/svg+xml": "<svg xmlns=\"http://www.w3.org/2000/svg\" xmlns:xlink=\"http://www.w3.org/1999/xlink\" width=\"209pt\" height=\"110pt\" viewBox=\"0.00 0.00 209.05 110.09\">\n<g id=\"graph0\" class=\"graph\" transform=\"scale(1 1) rotate(0) translate(4 106.09)\">\n<polygon fill=\"white\" stroke=\"none\" points=\"-4,4 -4,-106.09 205.05,-106.09 205.05,4 -4,4\"/>\n<!-- fake -->\n<g id=\"node1\" class=\"node\">\n<title>fake</title>\n</g>\n<!-- ready -->\n<g id=\"node2\" class=\"node\">\n<title>ready</title>\n<ellipse fill=\"none\" stroke=\"black\" cx=\"125.55\" cy=\"-34.55\" rx=\"30.59\" ry=\"30.59\"/>\n<ellipse fill=\"none\" stroke=\"black\" cx=\"125.55\" cy=\"-34.55\" rx=\"34.59\" ry=\"34.59\"/>\n<text text-anchor=\"middle\" x=\"125.55\" y=\"-30.85\" font-family=\"Times New Roman,serif\" font-size=\"14.00\">ready</text>\n</g>\n<!-- fake&#45;&gt;ready -->\n<g id=\"edge1\" class=\"edge\">\n<title>fake-&gt;ready</title>\n<path fill=\"none\" stroke=\"black\" stroke-width=\"2\" d=\"M54.38,-34.55C62.06,-34.55 70.67,-34.55 79.17,-34.55\"/>\n<polygon fill=\"black\" stroke=\"black\" stroke-width=\"2\" points=\"77.55,-38.05 87.55,-34.55 77.55,-31.05 77.55,-38.05\"/>\n</g>\n<!-- ready&#45;&gt;ready -->\n<g id=\"edge2\" class=\"edge\">\n<title>ready-&gt;ready</title>\n<path fill=\"none\" stroke=\"black\" d=\"M115.61,-68.16C115.76,-78.74 119.07,-87.09 125.55,-87.09 129.49,-87.09 132.27,-83.99 133.86,-79.17\"/>\n<polygon fill=\"black\" stroke=\"black\" points=\"137.27,-80.06 135.27,-69.65 130.35,-79.03 137.27,-80.06\"/>\n<text text-anchor=\"middle\" x=\"125.55\" y=\"-90.89\" font-family=\"Times New Roman,serif\" font-size=\"14.00\">pick_buy_design, 1.0, -6.8</text>\n</g>\n</g>\n</svg>"
     },
     "metadata": {},
     "output_type": "display_data"
    },
    {
     "data": {
      "text/plain": "<IPython.core.display.SVG object>",
      "image/svg+xml": "<svg xmlns=\"http://www.w3.org/2000/svg\" xmlns:xlink=\"http://www.w3.org/1999/xlink\" width=\"212pt\" height=\"110pt\" viewBox=\"0.00 0.00 212.05 110.09\">\n<g id=\"graph0\" class=\"graph\" transform=\"scale(1 1) rotate(0) translate(4 106.09)\">\n<polygon fill=\"white\" stroke=\"none\" points=\"-4,4 -4,-106.09 208.05,-106.09 208.05,4 -4,4\"/>\n<!-- fake -->\n<g id=\"node1\" class=\"node\">\n<title>fake</title>\n</g>\n<!-- ready -->\n<g id=\"node2\" class=\"node\">\n<title>ready</title>\n<ellipse fill=\"none\" stroke=\"black\" cx=\"125.55\" cy=\"-34.55\" rx=\"30.59\" ry=\"30.59\"/>\n<ellipse fill=\"none\" stroke=\"black\" cx=\"125.55\" cy=\"-34.55\" rx=\"34.59\" ry=\"34.59\"/>\n<text text-anchor=\"middle\" x=\"125.55\" y=\"-30.85\" font-family=\"Times New Roman,serif\" font-size=\"14.00\">ready</text>\n</g>\n<!-- fake&#45;&gt;ready -->\n<g id=\"edge1\" class=\"edge\">\n<title>fake-&gt;ready</title>\n<path fill=\"none\" stroke=\"black\" stroke-width=\"2\" d=\"M54.38,-34.55C62.06,-34.55 70.67,-34.55 79.17,-34.55\"/>\n<polygon fill=\"black\" stroke=\"black\" stroke-width=\"2\" points=\"77.55,-38.05 87.55,-34.55 77.55,-31.05 77.55,-38.05\"/>\n</g>\n<!-- ready&#45;&gt;ready -->\n<g id=\"edge2\" class=\"edge\">\n<title>ready-&gt;ready</title>\n<path fill=\"none\" stroke=\"black\" d=\"M115.61,-68.16C115.76,-78.74 119.07,-87.09 125.55,-87.09 129.49,-87.09 132.27,-83.99 133.86,-79.17\"/>\n<polygon fill=\"black\" stroke=\"black\" points=\"137.27,-80.06 135.27,-69.65 130.35,-79.03 137.27,-80.06\"/>\n<text text-anchor=\"middle\" x=\"125.55\" y=\"-90.89\" font-family=\"Times New Roman,serif\" font-size=\"14.00\">pick_buy_design, 1.0, -11.7</text>\n</g>\n</g>\n</svg>"
     },
     "metadata": {},
     "output_type": "display_data"
    },
    {
     "data": {
      "text/plain": "<IPython.core.display.SVG object>",
      "image/svg+xml": "<svg xmlns=\"http://www.w3.org/2000/svg\" xmlns:xlink=\"http://www.w3.org/1999/xlink\" width=\"212pt\" height=\"110pt\" viewBox=\"0.00 0.00 212.05 110.09\">\n<g id=\"graph0\" class=\"graph\" transform=\"scale(1 1) rotate(0) translate(4 106.09)\">\n<polygon fill=\"white\" stroke=\"none\" points=\"-4,4 -4,-106.09 208.05,-106.09 208.05,4 -4,4\"/>\n<!-- fake -->\n<g id=\"node1\" class=\"node\">\n<title>fake</title>\n</g>\n<!-- ready -->\n<g id=\"node2\" class=\"node\">\n<title>ready</title>\n<ellipse fill=\"none\" stroke=\"black\" cx=\"125.55\" cy=\"-34.55\" rx=\"30.59\" ry=\"30.59\"/>\n<ellipse fill=\"none\" stroke=\"black\" cx=\"125.55\" cy=\"-34.55\" rx=\"34.59\" ry=\"34.59\"/>\n<text text-anchor=\"middle\" x=\"125.55\" y=\"-30.85\" font-family=\"Times New Roman,serif\" font-size=\"14.00\">ready</text>\n</g>\n<!-- fake&#45;&gt;ready -->\n<g id=\"edge1\" class=\"edge\">\n<title>fake-&gt;ready</title>\n<path fill=\"none\" stroke=\"black\" stroke-width=\"2\" d=\"M54.38,-34.55C62.06,-34.55 70.67,-34.55 79.17,-34.55\"/>\n<polygon fill=\"black\" stroke=\"black\" stroke-width=\"2\" points=\"77.55,-38.05 87.55,-34.55 77.55,-31.05 77.55,-38.05\"/>\n</g>\n<!-- ready&#45;&gt;ready -->\n<g id=\"edge2\" class=\"edge\">\n<title>ready-&gt;ready</title>\n<path fill=\"none\" stroke=\"black\" d=\"M115.61,-68.16C115.76,-78.74 119.07,-87.09 125.55,-87.09 129.49,-87.09 132.27,-83.99 133.86,-79.17\"/>\n<polygon fill=\"black\" stroke=\"black\" points=\"137.27,-80.06 135.27,-69.65 130.35,-79.03 137.27,-80.06\"/>\n<text text-anchor=\"middle\" x=\"125.55\" y=\"-90.89\" font-family=\"Times New Roman,serif\" font-size=\"14.00\">pick_buy_design, 1.0, -12.2</text>\n</g>\n</g>\n</svg>"
     },
     "metadata": {},
     "output_type": "display_data"
    }
   ],
   "source": [
    "def design_service(name: str, action_reward: float) -> Service:\n",
    "    \"\"\"Build the design device.\"\"\"\n",
    "    return build_generic_service_one_state(\n",
    "        name,\n",
    "        {PICK_BUY_DESIGN},\n",
    "        action_reward=action_reward\n",
    "    )\n",
    "\n",
    "service_design_usa = design_service(DESIGN_SERVICE_NAME_USA, USA_REWARD)\n",
    "service_design_uk = design_service(DESIGN_SERVICE_NAME_UK, UK_REWARD)\n",
    "service_design_china = design_service(DESIGN_SERVICE_NAME_CHINA, CHINA_REWARD)\n",
    "service_design_taiwan = design_service(DESIGN_SERVICE_NAME_TAIWAN, TAIWAN_REWARD)\n",
    "render_service(service_design_usa)\n",
    "render_service(service_design_uk)\n",
    "render_service(service_design_china)\n",
    "render_service(service_design_taiwan)"
   ]
  },
  {
   "cell_type": "code",
   "execution_count": 7,
   "metadata": {},
   "outputs": [
    {
     "data": {
      "text/plain": "<IPython.core.display.SVG object>",
      "image/svg+xml": "<svg xmlns=\"http://www.w3.org/2000/svg\" xmlns:xlink=\"http://www.w3.org/1999/xlink\" width=\"198pt\" height=\"110pt\" viewBox=\"0.00 0.00 198.05 110.09\">\n<g id=\"graph0\" class=\"graph\" transform=\"scale(1 1) rotate(0) translate(4 106.09)\">\n<polygon fill=\"white\" stroke=\"none\" points=\"-4,4 -4,-106.09 194.05,-106.09 194.05,4 -4,4\"/>\n<!-- fake -->\n<g id=\"node1\" class=\"node\">\n<title>fake</title>\n</g>\n<!-- ready -->\n<g id=\"node2\" class=\"node\">\n<title>ready</title>\n<ellipse fill=\"none\" stroke=\"black\" cx=\"125.55\" cy=\"-34.55\" rx=\"30.59\" ry=\"30.59\"/>\n<ellipse fill=\"none\" stroke=\"black\" cx=\"125.55\" cy=\"-34.55\" rx=\"34.59\" ry=\"34.59\"/>\n<text text-anchor=\"middle\" x=\"125.55\" y=\"-30.85\" font-family=\"Times New Roman,serif\" font-size=\"14.00\">ready</text>\n</g>\n<!-- fake&#45;&gt;ready -->\n<g id=\"edge1\" class=\"edge\">\n<title>fake-&gt;ready</title>\n<path fill=\"none\" stroke=\"black\" stroke-width=\"2\" d=\"M54.38,-34.55C62.06,-34.55 70.67,-34.55 79.17,-34.55\"/>\n<polygon fill=\"black\" stroke=\"black\" stroke-width=\"2\" points=\"77.55,-38.05 87.55,-34.55 77.55,-31.05 77.55,-38.05\"/>\n</g>\n<!-- ready&#45;&gt;ready -->\n<g id=\"edge2\" class=\"edge\">\n<title>ready-&gt;ready</title>\n<path fill=\"none\" stroke=\"black\" d=\"M115.61,-68.16C115.76,-78.74 119.07,-87.09 125.55,-87.09 129.49,-87.09 132.27,-83.99 133.86,-79.17\"/>\n<polygon fill=\"black\" stroke=\"black\" points=\"137.27,-80.06 135.27,-69.65 130.35,-79.03 137.27,-80.06\"/>\n<text text-anchor=\"middle\" x=\"125.55\" y=\"-90.89\" font-family=\"Times New Roman,serif\" font-size=\"14.00\">pick_silicon, 1.0, -11.7</text>\n</g>\n</g>\n</svg>"
     },
     "metadata": {},
     "output_type": "display_data"
    },
    {
     "data": {
      "text/plain": "<IPython.core.display.SVG object>",
      "image/svg+xml": "<svg xmlns=\"http://www.w3.org/2000/svg\" xmlns:xlink=\"http://www.w3.org/1999/xlink\" width=\"202pt\" height=\"110pt\" viewBox=\"0.00 0.00 201.55 110.09\">\n<g id=\"graph0\" class=\"graph\" transform=\"scale(1 1) rotate(0) translate(4 106.09)\">\n<polygon fill=\"white\" stroke=\"none\" points=\"-4,4 -4,-106.09 197.55,-106.09 197.55,4 -4,4\"/>\n<!-- fake -->\n<g id=\"node1\" class=\"node\">\n<title>fake</title>\n</g>\n<!-- ready -->\n<g id=\"node2\" class=\"node\">\n<title>ready</title>\n<ellipse fill=\"none\" stroke=\"black\" cx=\"125.55\" cy=\"-34.55\" rx=\"30.59\" ry=\"30.59\"/>\n<ellipse fill=\"none\" stroke=\"black\" cx=\"125.55\" cy=\"-34.55\" rx=\"34.59\" ry=\"34.59\"/>\n<text text-anchor=\"middle\" x=\"125.55\" y=\"-30.85\" font-family=\"Times New Roman,serif\" font-size=\"14.00\">ready</text>\n</g>\n<!-- fake&#45;&gt;ready -->\n<g id=\"edge1\" class=\"edge\">\n<title>fake-&gt;ready</title>\n<path fill=\"none\" stroke=\"black\" stroke-width=\"2\" d=\"M54.38,-34.55C62.06,-34.55 70.67,-34.55 79.17,-34.55\"/>\n<polygon fill=\"black\" stroke=\"black\" stroke-width=\"2\" points=\"77.55,-38.05 87.55,-34.55 77.55,-31.05 77.55,-38.05\"/>\n</g>\n<!-- ready&#45;&gt;ready -->\n<g id=\"edge2\" class=\"edge\">\n<title>ready-&gt;ready</title>\n<path fill=\"none\" stroke=\"black\" d=\"M115.61,-68.16C115.76,-78.74 119.07,-87.09 125.55,-87.09 129.49,-87.09 132.27,-83.99 133.86,-79.17\"/>\n<polygon fill=\"black\" stroke=\"black\" points=\"137.27,-80.06 135.27,-69.65 130.35,-79.03 137.27,-80.06\"/>\n<text text-anchor=\"middle\" x=\"125.55\" y=\"-90.89\" font-family=\"Times New Roman,serif\" font-size=\"14.00\">pick_silicon, 1.0, -12.12</text>\n</g>\n</g>\n</svg>"
     },
     "metadata": {},
     "output_type": "display_data"
    },
    {
     "data": {
      "text/plain": "<IPython.core.display.SVG object>",
      "image/svg+xml": "<svg xmlns=\"http://www.w3.org/2000/svg\" xmlns:xlink=\"http://www.w3.org/1999/xlink\" width=\"198pt\" height=\"110pt\" viewBox=\"0.00 0.00 198.05 110.09\">\n<g id=\"graph0\" class=\"graph\" transform=\"scale(1 1) rotate(0) translate(4 106.09)\">\n<polygon fill=\"white\" stroke=\"none\" points=\"-4,4 -4,-106.09 194.05,-106.09 194.05,4 -4,4\"/>\n<!-- fake -->\n<g id=\"node1\" class=\"node\">\n<title>fake</title>\n</g>\n<!-- ready -->\n<g id=\"node2\" class=\"node\">\n<title>ready</title>\n<ellipse fill=\"none\" stroke=\"black\" cx=\"125.55\" cy=\"-34.55\" rx=\"30.59\" ry=\"30.59\"/>\n<ellipse fill=\"none\" stroke=\"black\" cx=\"125.55\" cy=\"-34.55\" rx=\"34.59\" ry=\"34.59\"/>\n<text text-anchor=\"middle\" x=\"125.55\" y=\"-30.85\" font-family=\"Times New Roman,serif\" font-size=\"14.00\">ready</text>\n</g>\n<!-- fake&#45;&gt;ready -->\n<g id=\"edge1\" class=\"edge\">\n<title>fake-&gt;ready</title>\n<path fill=\"none\" stroke=\"black\" stroke-width=\"2\" d=\"M54.38,-34.55C62.06,-34.55 70.67,-34.55 79.17,-34.55\"/>\n<polygon fill=\"black\" stroke=\"black\" stroke-width=\"2\" points=\"77.55,-38.05 87.55,-34.55 77.55,-31.05 77.55,-38.05\"/>\n</g>\n<!-- ready&#45;&gt;ready -->\n<g id=\"edge2\" class=\"edge\">\n<title>ready-&gt;ready</title>\n<path fill=\"none\" stroke=\"black\" d=\"M115.61,-68.16C115.76,-78.74 119.07,-87.09 125.55,-87.09 129.49,-87.09 132.27,-83.99 133.86,-79.17\"/>\n<polygon fill=\"black\" stroke=\"black\" points=\"137.27,-80.06 135.27,-69.65 130.35,-79.03 137.27,-80.06\"/>\n<text text-anchor=\"middle\" x=\"125.55\" y=\"-90.89\" font-family=\"Times New Roman,serif\" font-size=\"14.00\">pick_silicon, 1.0, -7.16</text>\n</g>\n</g>\n</svg>"
     },
     "metadata": {},
     "output_type": "display_data"
    },
    {
     "data": {
      "text/plain": "<IPython.core.display.SVG object>",
      "image/svg+xml": "<svg xmlns=\"http://www.w3.org/2000/svg\" xmlns:xlink=\"http://www.w3.org/1999/xlink\" width=\"195pt\" height=\"110pt\" viewBox=\"0.00 0.00 194.55 110.09\">\n<g id=\"graph0\" class=\"graph\" transform=\"scale(1 1) rotate(0) translate(4 106.09)\">\n<polygon fill=\"white\" stroke=\"none\" points=\"-4,4 -4,-106.09 190.55,-106.09 190.55,4 -4,4\"/>\n<!-- fake -->\n<g id=\"node1\" class=\"node\">\n<title>fake</title>\n</g>\n<!-- ready -->\n<g id=\"node2\" class=\"node\">\n<title>ready</title>\n<ellipse fill=\"none\" stroke=\"black\" cx=\"125.55\" cy=\"-34.55\" rx=\"30.59\" ry=\"30.59\"/>\n<ellipse fill=\"none\" stroke=\"black\" cx=\"125.55\" cy=\"-34.55\" rx=\"34.59\" ry=\"34.59\"/>\n<text text-anchor=\"middle\" x=\"125.55\" y=\"-30.85\" font-family=\"Times New Roman,serif\" font-size=\"14.00\">ready</text>\n</g>\n<!-- fake&#45;&gt;ready -->\n<g id=\"edge1\" class=\"edge\">\n<title>fake-&gt;ready</title>\n<path fill=\"none\" stroke=\"black\" stroke-width=\"2\" d=\"M54.38,-34.55C62.06,-34.55 70.67,-34.55 79.17,-34.55\"/>\n<polygon fill=\"black\" stroke=\"black\" stroke-width=\"2\" points=\"77.55,-38.05 87.55,-34.55 77.55,-31.05 77.55,-38.05\"/>\n</g>\n<!-- ready&#45;&gt;ready -->\n<g id=\"edge2\" class=\"edge\">\n<title>ready-&gt;ready</title>\n<path fill=\"none\" stroke=\"black\" d=\"M115.61,-68.16C115.76,-78.74 119.07,-87.09 125.55,-87.09 129.49,-87.09 132.27,-83.99 133.86,-79.17\"/>\n<polygon fill=\"black\" stroke=\"black\" points=\"137.27,-80.06 135.27,-69.65 130.35,-79.03 137.27,-80.06\"/>\n<text text-anchor=\"middle\" x=\"125.55\" y=\"-90.89\" font-family=\"Times New Roman,serif\" font-size=\"14.00\">pick_silicon, 1.0, -2.0</text>\n</g>\n</g>\n</svg>"
     },
     "metadata": {},
     "output_type": "display_data"
    },
    {
     "data": {
      "text/plain": "<IPython.core.display.SVG object>",
      "image/svg+xml": "<svg xmlns=\"http://www.w3.org/2000/svg\" xmlns:xlink=\"http://www.w3.org/1999/xlink\" width=\"195pt\" height=\"110pt\" viewBox=\"0.00 0.00 194.55 110.09\">\n<g id=\"graph0\" class=\"graph\" transform=\"scale(1 1) rotate(0) translate(4 106.09)\">\n<polygon fill=\"white\" stroke=\"none\" points=\"-4,4 -4,-106.09 190.55,-106.09 190.55,4 -4,4\"/>\n<!-- fake -->\n<g id=\"node1\" class=\"node\">\n<title>fake</title>\n</g>\n<!-- ready -->\n<g id=\"node2\" class=\"node\">\n<title>ready</title>\n<ellipse fill=\"none\" stroke=\"black\" cx=\"125.55\" cy=\"-34.55\" rx=\"30.59\" ry=\"30.59\"/>\n<ellipse fill=\"none\" stroke=\"black\" cx=\"125.55\" cy=\"-34.55\" rx=\"34.59\" ry=\"34.59\"/>\n<text text-anchor=\"middle\" x=\"125.55\" y=\"-30.85\" font-family=\"Times New Roman,serif\" font-size=\"14.00\">ready</text>\n</g>\n<!-- fake&#45;&gt;ready -->\n<g id=\"edge1\" class=\"edge\">\n<title>fake-&gt;ready</title>\n<path fill=\"none\" stroke=\"black\" stroke-width=\"2\" d=\"M54.38,-34.55C62.06,-34.55 70.67,-34.55 79.17,-34.55\"/>\n<polygon fill=\"black\" stroke=\"black\" stroke-width=\"2\" points=\"77.55,-38.05 87.55,-34.55 77.55,-31.05 77.55,-38.05\"/>\n</g>\n<!-- ready&#45;&gt;ready -->\n<g id=\"edge2\" class=\"edge\">\n<title>ready-&gt;ready</title>\n<path fill=\"none\" stroke=\"black\" d=\"M115.61,-68.16C115.76,-78.74 119.07,-87.09 125.55,-87.09 129.49,-87.09 132.27,-83.99 133.86,-79.17\"/>\n<polygon fill=\"black\" stroke=\"black\" points=\"137.27,-80.06 135.27,-69.65 130.35,-79.03 137.27,-80.06\"/>\n<text text-anchor=\"middle\" x=\"125.55\" y=\"-90.89\" font-family=\"Times New Roman,serif\" font-size=\"14.00\">pick_silicon, 1.0, -6.7</text>\n</g>\n</g>\n</svg>"
     },
     "metadata": {},
     "output_type": "display_data"
    },
    {
     "data": {
      "text/plain": "<IPython.core.display.SVG object>",
      "image/svg+xml": "<svg xmlns=\"http://www.w3.org/2000/svg\" xmlns:xlink=\"http://www.w3.org/1999/xlink\" width=\"195pt\" height=\"110pt\" viewBox=\"0.00 0.00 194.55 110.09\">\n<g id=\"graph0\" class=\"graph\" transform=\"scale(1 1) rotate(0) translate(4 106.09)\">\n<polygon fill=\"white\" stroke=\"none\" points=\"-4,4 -4,-106.09 190.55,-106.09 190.55,4 -4,4\"/>\n<!-- fake -->\n<g id=\"node1\" class=\"node\">\n<title>fake</title>\n</g>\n<!-- ready -->\n<g id=\"node2\" class=\"node\">\n<title>ready</title>\n<ellipse fill=\"none\" stroke=\"black\" cx=\"125.55\" cy=\"-34.55\" rx=\"30.59\" ry=\"30.59\"/>\n<ellipse fill=\"none\" stroke=\"black\" cx=\"125.55\" cy=\"-34.55\" rx=\"34.59\" ry=\"34.59\"/>\n<text text-anchor=\"middle\" x=\"125.55\" y=\"-30.85\" font-family=\"Times New Roman,serif\" font-size=\"14.00\">ready</text>\n</g>\n<!-- fake&#45;&gt;ready -->\n<g id=\"edge1\" class=\"edge\">\n<title>fake-&gt;ready</title>\n<path fill=\"none\" stroke=\"black\" stroke-width=\"2\" d=\"M54.38,-34.55C62.06,-34.55 70.67,-34.55 79.17,-34.55\"/>\n<polygon fill=\"black\" stroke=\"black\" stroke-width=\"2\" points=\"77.55,-38.05 87.55,-34.55 77.55,-31.05 77.55,-38.05\"/>\n</g>\n<!-- ready&#45;&gt;ready -->\n<g id=\"edge2\" class=\"edge\">\n<title>ready-&gt;ready</title>\n<path fill=\"none\" stroke=\"black\" d=\"M115.61,-68.16C115.76,-78.74 119.07,-87.09 125.55,-87.09 129.49,-87.09 132.27,-83.99 133.86,-79.17\"/>\n<polygon fill=\"black\" stroke=\"black\" points=\"137.27,-80.06 135.27,-69.65 130.35,-79.03 137.27,-80.06\"/>\n<text text-anchor=\"middle\" x=\"125.55\" y=\"-90.89\" font-family=\"Times New Roman,serif\" font-size=\"14.00\">pick_silicon, 1.0, -7.6</text>\n</g>\n</g>\n</svg>"
     },
     "metadata": {},
     "output_type": "display_data"
    },
    {
     "data": {
      "text/plain": "<IPython.core.display.SVG object>",
      "image/svg+xml": "<svg xmlns=\"http://www.w3.org/2000/svg\" xmlns:xlink=\"http://www.w3.org/1999/xlink\" width=\"202pt\" height=\"110pt\" viewBox=\"0.00 0.00 201.55 110.09\">\n<g id=\"graph0\" class=\"graph\" transform=\"scale(1 1) rotate(0) translate(4 106.09)\">\n<polygon fill=\"white\" stroke=\"none\" points=\"-4,4 -4,-106.09 197.55,-106.09 197.55,4 -4,4\"/>\n<!-- fake -->\n<g id=\"node1\" class=\"node\">\n<title>fake</title>\n</g>\n<!-- ready -->\n<g id=\"node2\" class=\"node\">\n<title>ready</title>\n<ellipse fill=\"none\" stroke=\"black\" cx=\"125.55\" cy=\"-34.55\" rx=\"30.59\" ry=\"30.59\"/>\n<ellipse fill=\"none\" stroke=\"black\" cx=\"125.55\" cy=\"-34.55\" rx=\"34.59\" ry=\"34.59\"/>\n<text text-anchor=\"middle\" x=\"125.55\" y=\"-30.85\" font-family=\"Times New Roman,serif\" font-size=\"14.00\">ready</text>\n</g>\n<!-- fake&#45;&gt;ready -->\n<g id=\"edge1\" class=\"edge\">\n<title>fake-&gt;ready</title>\n<path fill=\"none\" stroke=\"black\" stroke-width=\"2\" d=\"M54.38,-34.55C62.06,-34.55 70.67,-34.55 79.17,-34.55\"/>\n<polygon fill=\"black\" stroke=\"black\" stroke-width=\"2\" points=\"77.55,-38.05 87.55,-34.55 77.55,-31.05 77.55,-38.05\"/>\n</g>\n<!-- ready&#45;&gt;ready -->\n<g id=\"edge2\" class=\"edge\">\n<title>ready-&gt;ready</title>\n<path fill=\"none\" stroke=\"black\" d=\"M115.61,-68.16C115.76,-78.74 119.07,-87.09 125.55,-87.09 129.49,-87.09 132.27,-83.99 133.86,-79.17\"/>\n<polygon fill=\"black\" stroke=\"black\" points=\"137.27,-80.06 135.27,-69.65 130.35,-79.03 137.27,-80.06\"/>\n<text text-anchor=\"middle\" x=\"125.55\" y=\"-90.89\" font-family=\"Times New Roman,serif\" font-size=\"14.00\">pick_silicon, 1.0, -14.73</text>\n</g>\n</g>\n</svg>"
     },
     "metadata": {},
     "output_type": "display_data"
    }
   ],
   "source": [
    "def silicon_warehouse_service(name: str, action_reward) -> Service:\n",
    "    \"\"\"Build the silicon warehouse device.\"\"\"\n",
    "    return build_generic_service_one_state(\n",
    "        name,\n",
    "        {PICK_SILICON},\n",
    "        action_reward=action_reward\n",
    "    )\n",
    "\n",
    "service_silicon_china = silicon_warehouse_service(SILICON_SERVICE_NAME_CHINA, CHINA_REWARD)\n",
    "service_silicon_russia = silicon_warehouse_service(SILICON_SERVICE_NAME_RUSSIA, RUSSIA_REWARD + WAR_REWARD)\n",
    "service_silicon_norway = silicon_warehouse_service(SILICON_SERVICE_NAME_NORWAY, NORWAY_REWARD)\n",
    "service_silicon_usa = silicon_warehouse_service(SILICON_SERVICE_NAME_USA, USA_REWARD)\n",
    "service_silicon_brazil = silicon_warehouse_service(SILICON_SERVICE_NAME_BRAZIL, BRAZIL_REWARD)\n",
    "service_silicon_france = silicon_warehouse_service(SILICON_SERVICE_NAME_FRANCE, FRANCE_REWARD)\n",
    "service_silicon_malaysia = silicon_warehouse_service(SILICON_SERVICE_NAME_MALAYSIA, MALAYSIA_REWARD)\n",
    "render_service(service_silicon_china)\n",
    "render_service(service_silicon_russia)\n",
    "render_service(service_silicon_norway)\n",
    "render_service(service_silicon_usa)\n",
    "render_service(service_silicon_brazil)\n",
    "render_service(service_silicon_france)\n",
    "render_service(service_silicon_malaysia)"
   ]
  },
  {
   "cell_type": "code",
   "execution_count": 8,
   "metadata": {},
   "outputs": [
    {
     "data": {
      "text/plain": "<IPython.core.display.SVG object>",
      "image/svg+xml": "<svg xmlns=\"http://www.w3.org/2000/svg\" xmlns:xlink=\"http://www.w3.org/1999/xlink\" width=\"196pt\" height=\"110pt\" viewBox=\"0.00 0.00 195.55 110.09\">\n<g id=\"graph0\" class=\"graph\" transform=\"scale(1 1) rotate(0) translate(4 106.09)\">\n<polygon fill=\"white\" stroke=\"none\" points=\"-4,4 -4,-106.09 191.55,-106.09 191.55,4 -4,4\"/>\n<!-- fake -->\n<g id=\"node1\" class=\"node\">\n<title>fake</title>\n</g>\n<!-- ready -->\n<g id=\"node2\" class=\"node\">\n<title>ready</title>\n<ellipse fill=\"none\" stroke=\"black\" cx=\"125.55\" cy=\"-34.55\" rx=\"30.59\" ry=\"30.59\"/>\n<ellipse fill=\"none\" stroke=\"black\" cx=\"125.55\" cy=\"-34.55\" rx=\"34.59\" ry=\"34.59\"/>\n<text text-anchor=\"middle\" x=\"125.55\" y=\"-30.85\" font-family=\"Times New Roman,serif\" font-size=\"14.00\">ready</text>\n</g>\n<!-- fake&#45;&gt;ready -->\n<g id=\"edge1\" class=\"edge\">\n<title>fake-&gt;ready</title>\n<path fill=\"none\" stroke=\"black\" stroke-width=\"2\" d=\"M54.38,-34.55C62.06,-34.55 70.67,-34.55 79.17,-34.55\"/>\n<polygon fill=\"black\" stroke=\"black\" stroke-width=\"2\" points=\"77.55,-38.05 87.55,-34.55 77.55,-31.05 77.55,-38.05\"/>\n</g>\n<!-- ready&#45;&gt;ready -->\n<g id=\"edge2\" class=\"edge\">\n<title>ready-&gt;ready</title>\n<path fill=\"none\" stroke=\"black\" d=\"M115.61,-68.16C115.76,-78.74 119.07,-87.09 125.55,-87.09 129.49,-87.09 132.27,-83.99 133.86,-79.17\"/>\n<polygon fill=\"black\" stroke=\"black\" points=\"137.27,-80.06 135.27,-69.65 130.35,-79.03 137.27,-80.06\"/>\n<text text-anchor=\"middle\" x=\"125.55\" y=\"-90.89\" font-family=\"Times New Roman,serif\" font-size=\"14.00\">pick_wafer, 1.0, -10.1</text>\n</g>\n</g>\n</svg>"
     },
     "metadata": {},
     "output_type": "display_data"
    },
    {
     "data": {
      "text/plain": "<IPython.core.display.SVG object>",
      "image/svg+xml": "<svg xmlns=\"http://www.w3.org/2000/svg\" xmlns:xlink=\"http://www.w3.org/1999/xlink\" width=\"196pt\" height=\"110pt\" viewBox=\"0.00 0.00 195.55 110.09\">\n<g id=\"graph0\" class=\"graph\" transform=\"scale(1 1) rotate(0) translate(4 106.09)\">\n<polygon fill=\"white\" stroke=\"none\" points=\"-4,4 -4,-106.09 191.55,-106.09 191.55,4 -4,4\"/>\n<!-- fake -->\n<g id=\"node1\" class=\"node\">\n<title>fake</title>\n</g>\n<!-- ready -->\n<g id=\"node2\" class=\"node\">\n<title>ready</title>\n<ellipse fill=\"none\" stroke=\"black\" cx=\"125.55\" cy=\"-34.55\" rx=\"30.59\" ry=\"30.59\"/>\n<ellipse fill=\"none\" stroke=\"black\" cx=\"125.55\" cy=\"-34.55\" rx=\"34.59\" ry=\"34.59\"/>\n<text text-anchor=\"middle\" x=\"125.55\" y=\"-30.85\" font-family=\"Times New Roman,serif\" font-size=\"14.00\">ready</text>\n</g>\n<!-- fake&#45;&gt;ready -->\n<g id=\"edge1\" class=\"edge\">\n<title>fake-&gt;ready</title>\n<path fill=\"none\" stroke=\"black\" stroke-width=\"2\" d=\"M54.38,-34.55C62.06,-34.55 70.67,-34.55 79.17,-34.55\"/>\n<polygon fill=\"black\" stroke=\"black\" stroke-width=\"2\" points=\"77.55,-38.05 87.55,-34.55 77.55,-31.05 77.55,-38.05\"/>\n</g>\n<!-- ready&#45;&gt;ready -->\n<g id=\"edge2\" class=\"edge\">\n<title>ready-&gt;ready</title>\n<path fill=\"none\" stroke=\"black\" d=\"M115.61,-68.16C115.76,-78.74 119.07,-87.09 125.55,-87.09 129.49,-87.09 132.27,-83.99 133.86,-79.17\"/>\n<polygon fill=\"black\" stroke=\"black\" points=\"137.27,-80.06 135.27,-69.65 130.35,-79.03 137.27,-80.06\"/>\n<text text-anchor=\"middle\" x=\"125.55\" y=\"-90.89\" font-family=\"Times New Roman,serif\" font-size=\"14.00\">pick_wafer, 1.0, -10.7</text>\n</g>\n</g>\n</svg>"
     },
     "metadata": {},
     "output_type": "display_data"
    }
   ],
   "source": [
    "def wafer_warehouse_service(name: str, action_reward: float) -> Service:\n",
    "    \"\"\"Build the wafer warehouse device.\"\"\"\n",
    "    return build_generic_service_one_state(\n",
    "        name,\n",
    "        {PICK_WAFER},\n",
    "        action_reward=action_reward\n",
    "    )\n",
    "\n",
    "service_wafer_japan = wafer_warehouse_service(WAFER_SERVICE_NAME_JAPAN, JAPAN_REWARD)\n",
    "service_wafer_south_korea = wafer_warehouse_service(WAFER_SERVICE_NAME_SOUTH_KOREA, SOUTH_KOREA)\n",
    "render_service(service_wafer_japan)\n",
    "render_service(service_wafer_south_korea)"
   ]
  },
  {
   "cell_type": "code",
   "execution_count": 9,
   "metadata": {},
   "outputs": [
    {
     "data": {
      "text/plain": "<IPython.core.display.SVG object>",
      "image/svg+xml": "<svg xmlns=\"http://www.w3.org/2000/svg\" xmlns:xlink=\"http://www.w3.org/1999/xlink\" width=\"200pt\" height=\"110pt\" viewBox=\"0.00 0.00 200.05 110.09\">\n<g id=\"graph0\" class=\"graph\" transform=\"scale(1 1) rotate(0) translate(4 106.09)\">\n<polygon fill=\"white\" stroke=\"none\" points=\"-4,4 -4,-106.09 196.05,-106.09 196.05,4 -4,4\"/>\n<!-- fake -->\n<g id=\"node1\" class=\"node\">\n<title>fake</title>\n</g>\n<!-- ready -->\n<g id=\"node2\" class=\"node\">\n<title>ready</title>\n<ellipse fill=\"none\" stroke=\"black\" cx=\"125.55\" cy=\"-34.55\" rx=\"30.59\" ry=\"30.59\"/>\n<ellipse fill=\"none\" stroke=\"black\" cx=\"125.55\" cy=\"-34.55\" rx=\"34.59\" ry=\"34.59\"/>\n<text text-anchor=\"middle\" x=\"125.55\" y=\"-30.85\" font-family=\"Times New Roman,serif\" font-size=\"14.00\">ready</text>\n</g>\n<!-- fake&#45;&gt;ready -->\n<g id=\"edge1\" class=\"edge\">\n<title>fake-&gt;ready</title>\n<path fill=\"none\" stroke=\"black\" stroke-width=\"2\" d=\"M54.38,-34.55C62.06,-34.55 70.67,-34.55 79.17,-34.55\"/>\n<polygon fill=\"black\" stroke=\"black\" stroke-width=\"2\" points=\"77.55,-38.05 87.55,-34.55 77.55,-31.05 77.55,-38.05\"/>\n</g>\n<!-- ready&#45;&gt;ready -->\n<g id=\"edge2\" class=\"edge\">\n<title>ready-&gt;ready</title>\n<path fill=\"none\" stroke=\"black\" d=\"M115.61,-68.16C115.76,-78.74 119.07,-87.09 125.55,-87.09 129.49,-87.09 132.27,-83.99 133.86,-79.17\"/>\n<polygon fill=\"black\" stroke=\"black\" points=\"137.27,-80.06 135.27,-69.65 130.35,-79.03 137.27,-80.06\"/>\n<text text-anchor=\"middle\" x=\"125.55\" y=\"-90.89\" font-family=\"Times New Roman,serif\" font-size=\"14.00\">pick_boron, 1.0, -10.16</text>\n</g>\n</g>\n</svg>"
     },
     "metadata": {},
     "output_type": "display_data"
    },
    {
     "data": {
      "text/plain": "<IPython.core.display.SVG object>",
      "image/svg+xml": "<svg xmlns=\"http://www.w3.org/2000/svg\" xmlns:xlink=\"http://www.w3.org/1999/xlink\" width=\"194pt\" height=\"110pt\" viewBox=\"0.00 0.00 193.55 110.09\">\n<g id=\"graph0\" class=\"graph\" transform=\"scale(1 1) rotate(0) translate(4 106.09)\">\n<polygon fill=\"white\" stroke=\"none\" points=\"-4,4 -4,-106.09 189.55,-106.09 189.55,4 -4,4\"/>\n<!-- fake -->\n<g id=\"node1\" class=\"node\">\n<title>fake</title>\n</g>\n<!-- ready -->\n<g id=\"node2\" class=\"node\">\n<title>ready</title>\n<ellipse fill=\"none\" stroke=\"black\" cx=\"125.55\" cy=\"-34.55\" rx=\"30.59\" ry=\"30.59\"/>\n<ellipse fill=\"none\" stroke=\"black\" cx=\"125.55\" cy=\"-34.55\" rx=\"34.59\" ry=\"34.59\"/>\n<text text-anchor=\"middle\" x=\"125.55\" y=\"-30.85\" font-family=\"Times New Roman,serif\" font-size=\"14.00\">ready</text>\n</g>\n<!-- fake&#45;&gt;ready -->\n<g id=\"edge1\" class=\"edge\">\n<title>fake-&gt;ready</title>\n<path fill=\"none\" stroke=\"black\" stroke-width=\"2\" d=\"M54.38,-34.55C62.06,-34.55 70.67,-34.55 79.17,-34.55\"/>\n<polygon fill=\"black\" stroke=\"black\" stroke-width=\"2\" points=\"77.55,-38.05 87.55,-34.55 77.55,-31.05 77.55,-38.05\"/>\n</g>\n<!-- ready&#45;&gt;ready -->\n<g id=\"edge2\" class=\"edge\">\n<title>ready-&gt;ready</title>\n<path fill=\"none\" stroke=\"black\" d=\"M115.61,-68.16C115.76,-78.74 119.07,-87.09 125.55,-87.09 129.49,-87.09 132.27,-83.99 133.86,-79.17\"/>\n<polygon fill=\"black\" stroke=\"black\" points=\"137.27,-80.06 135.27,-69.65 130.35,-79.03 137.27,-80.06\"/>\n<text text-anchor=\"middle\" x=\"125.55\" y=\"-90.89\" font-family=\"Times New Roman,serif\" font-size=\"14.00\">pick_boron, 1.0, -2.0</text>\n</g>\n</g>\n</svg>"
     },
     "metadata": {},
     "output_type": "display_data"
    },
    {
     "data": {
      "text/plain": "<IPython.core.display.SVG object>",
      "image/svg+xml": "<svg xmlns=\"http://www.w3.org/2000/svg\" xmlns:xlink=\"http://www.w3.org/1999/xlink\" width=\"197pt\" height=\"110pt\" viewBox=\"0.00 0.00 197.05 110.09\">\n<g id=\"graph0\" class=\"graph\" transform=\"scale(1 1) rotate(0) translate(4 106.09)\">\n<polygon fill=\"white\" stroke=\"none\" points=\"-4,4 -4,-106.09 193.05,-106.09 193.05,4 -4,4\"/>\n<!-- fake -->\n<g id=\"node1\" class=\"node\">\n<title>fake</title>\n</g>\n<!-- ready -->\n<g id=\"node2\" class=\"node\">\n<title>ready</title>\n<ellipse fill=\"none\" stroke=\"black\" cx=\"125.55\" cy=\"-34.55\" rx=\"30.59\" ry=\"30.59\"/>\n<ellipse fill=\"none\" stroke=\"black\" cx=\"125.55\" cy=\"-34.55\" rx=\"34.59\" ry=\"34.59\"/>\n<text text-anchor=\"middle\" x=\"125.55\" y=\"-30.85\" font-family=\"Times New Roman,serif\" font-size=\"14.00\">ready</text>\n</g>\n<!-- fake&#45;&gt;ready -->\n<g id=\"edge1\" class=\"edge\">\n<title>fake-&gt;ready</title>\n<path fill=\"none\" stroke=\"black\" stroke-width=\"2\" d=\"M54.38,-34.55C62.06,-34.55 70.67,-34.55 79.17,-34.55\"/>\n<polygon fill=\"black\" stroke=\"black\" stroke-width=\"2\" points=\"77.55,-38.05 87.55,-34.55 77.55,-31.05 77.55,-38.05\"/>\n</g>\n<!-- ready&#45;&gt;ready -->\n<g id=\"edge2\" class=\"edge\">\n<title>ready-&gt;ready</title>\n<path fill=\"none\" stroke=\"black\" d=\"M115.61,-68.16C115.76,-78.74 119.07,-87.09 125.55,-87.09 129.49,-87.09 132.27,-83.99 133.86,-79.17\"/>\n<polygon fill=\"black\" stroke=\"black\" points=\"137.27,-80.06 135.27,-69.65 130.35,-79.03 137.27,-80.06\"/>\n<text text-anchor=\"middle\" x=\"125.55\" y=\"-90.89\" font-family=\"Times New Roman,serif\" font-size=\"14.00\">pick_boron, 1.0, -10.4</text>\n</g>\n</g>\n</svg>"
     },
     "metadata": {},
     "output_type": "display_data"
    },
    {
     "data": {
      "text/plain": "<IPython.core.display.SVG object>",
      "image/svg+xml": "<svg xmlns=\"http://www.w3.org/2000/svg\" xmlns:xlink=\"http://www.w3.org/1999/xlink\" width=\"194pt\" height=\"110pt\" viewBox=\"0.00 0.00 193.55 110.09\">\n<g id=\"graph0\" class=\"graph\" transform=\"scale(1 1) rotate(0) translate(4 106.09)\">\n<polygon fill=\"white\" stroke=\"none\" points=\"-4,4 -4,-106.09 189.55,-106.09 189.55,4 -4,4\"/>\n<!-- fake -->\n<g id=\"node1\" class=\"node\">\n<title>fake</title>\n</g>\n<!-- ready -->\n<g id=\"node2\" class=\"node\">\n<title>ready</title>\n<ellipse fill=\"none\" stroke=\"black\" cx=\"125.55\" cy=\"-34.55\" rx=\"30.59\" ry=\"30.59\"/>\n<ellipse fill=\"none\" stroke=\"black\" cx=\"125.55\" cy=\"-34.55\" rx=\"34.59\" ry=\"34.59\"/>\n<text text-anchor=\"middle\" x=\"125.55\" y=\"-30.85\" font-family=\"Times New Roman,serif\" font-size=\"14.00\">ready</text>\n</g>\n<!-- fake&#45;&gt;ready -->\n<g id=\"edge1\" class=\"edge\">\n<title>fake-&gt;ready</title>\n<path fill=\"none\" stroke=\"black\" stroke-width=\"2\" d=\"M54.38,-34.55C62.06,-34.55 70.67,-34.55 79.17,-34.55\"/>\n<polygon fill=\"black\" stroke=\"black\" stroke-width=\"2\" points=\"77.55,-38.05 87.55,-34.55 77.55,-31.05 77.55,-38.05\"/>\n</g>\n<!-- ready&#45;&gt;ready -->\n<g id=\"edge2\" class=\"edge\">\n<title>ready-&gt;ready</title>\n<path fill=\"none\" stroke=\"black\" d=\"M115.61,-68.16C115.76,-78.74 119.07,-87.09 125.55,-87.09 129.49,-87.09 132.27,-83.99 133.86,-79.17\"/>\n<polygon fill=\"black\" stroke=\"black\" points=\"137.27,-80.06 135.27,-69.65 130.35,-79.03 137.27,-80.06\"/>\n<text text-anchor=\"middle\" x=\"125.55\" y=\"-90.89\" font-family=\"Times New Roman,serif\" font-size=\"14.00\">pick_boron, 1.0, -7.8</text>\n</g>\n</g>\n</svg>"
     },
     "metadata": {},
     "output_type": "display_data"
    },
    {
     "data": {
      "text/plain": "<IPython.core.display.SVG object>",
      "image/svg+xml": "<svg xmlns=\"http://www.w3.org/2000/svg\" xmlns:xlink=\"http://www.w3.org/1999/xlink\" width=\"197pt\" height=\"110pt\" viewBox=\"0.00 0.00 197.05 110.09\">\n<g id=\"graph0\" class=\"graph\" transform=\"scale(1 1) rotate(0) translate(4 106.09)\">\n<polygon fill=\"white\" stroke=\"none\" points=\"-4,4 -4,-106.09 193.05,-106.09 193.05,4 -4,4\"/>\n<!-- fake -->\n<g id=\"node1\" class=\"node\">\n<title>fake</title>\n</g>\n<!-- ready -->\n<g id=\"node2\" class=\"node\">\n<title>ready</title>\n<ellipse fill=\"none\" stroke=\"black\" cx=\"125.55\" cy=\"-34.55\" rx=\"30.59\" ry=\"30.59\"/>\n<ellipse fill=\"none\" stroke=\"black\" cx=\"125.55\" cy=\"-34.55\" rx=\"34.59\" ry=\"34.59\"/>\n<text text-anchor=\"middle\" x=\"125.55\" y=\"-30.85\" font-family=\"Times New Roman,serif\" font-size=\"14.00\">ready</text>\n</g>\n<!-- fake&#45;&gt;ready -->\n<g id=\"edge1\" class=\"edge\">\n<title>fake-&gt;ready</title>\n<path fill=\"none\" stroke=\"black\" stroke-width=\"2\" d=\"M54.38,-34.55C62.06,-34.55 70.67,-34.55 79.17,-34.55\"/>\n<polygon fill=\"black\" stroke=\"black\" stroke-width=\"2\" points=\"77.55,-38.05 87.55,-34.55 77.55,-31.05 77.55,-38.05\"/>\n</g>\n<!-- ready&#45;&gt;ready -->\n<g id=\"edge2\" class=\"edge\">\n<title>ready-&gt;ready</title>\n<path fill=\"none\" stroke=\"black\" d=\"M115.61,-68.16C115.76,-78.74 119.07,-87.09 125.55,-87.09 129.49,-87.09 132.27,-83.99 133.86,-79.17\"/>\n<polygon fill=\"black\" stroke=\"black\" points=\"137.27,-80.06 135.27,-69.65 130.35,-79.03 137.27,-80.06\"/>\n<text text-anchor=\"middle\" x=\"125.55\" y=\"-90.89\" font-family=\"Times New Roman,serif\" font-size=\"14.00\">pick_boron, 1.0, -11.7</text>\n</g>\n</g>\n</svg>"
     },
     "metadata": {},
     "output_type": "display_data"
    },
    {
     "data": {
      "text/plain": "<IPython.core.display.SVG object>",
      "image/svg+xml": "<svg xmlns=\"http://www.w3.org/2000/svg\" xmlns:xlink=\"http://www.w3.org/1999/xlink\" width=\"194pt\" height=\"110pt\" viewBox=\"0.00 0.00 193.55 110.09\">\n<g id=\"graph0\" class=\"graph\" transform=\"scale(1 1) rotate(0) translate(4 106.09)\">\n<polygon fill=\"white\" stroke=\"none\" points=\"-4,4 -4,-106.09 189.55,-106.09 189.55,4 -4,4\"/>\n<!-- fake -->\n<g id=\"node1\" class=\"node\">\n<title>fake</title>\n</g>\n<!-- ready -->\n<g id=\"node2\" class=\"node\">\n<title>ready</title>\n<ellipse fill=\"none\" stroke=\"black\" cx=\"125.55\" cy=\"-34.55\" rx=\"30.59\" ry=\"30.59\"/>\n<ellipse fill=\"none\" stroke=\"black\" cx=\"125.55\" cy=\"-34.55\" rx=\"34.59\" ry=\"34.59\"/>\n<text text-anchor=\"middle\" x=\"125.55\" y=\"-30.85\" font-family=\"Times New Roman,serif\" font-size=\"14.00\">ready</text>\n</g>\n<!-- fake&#45;&gt;ready -->\n<g id=\"edge1\" class=\"edge\">\n<title>fake-&gt;ready</title>\n<path fill=\"none\" stroke=\"black\" stroke-width=\"2\" d=\"M54.38,-34.55C62.06,-34.55 70.67,-34.55 79.17,-34.55\"/>\n<polygon fill=\"black\" stroke=\"black\" stroke-width=\"2\" points=\"77.55,-38.05 87.55,-34.55 77.55,-31.05 77.55,-38.05\"/>\n</g>\n<!-- ready&#45;&gt;ready -->\n<g id=\"edge2\" class=\"edge\">\n<title>ready-&gt;ready</title>\n<path fill=\"none\" stroke=\"black\" d=\"M115.61,-68.16C115.76,-78.74 119.07,-87.09 125.55,-87.09 129.49,-87.09 132.27,-83.99 133.86,-79.17\"/>\n<polygon fill=\"black\" stroke=\"black\" points=\"137.27,-80.06 135.27,-69.65 130.35,-79.03 137.27,-80.06\"/>\n<text text-anchor=\"middle\" x=\"125.55\" y=\"-90.89\" font-family=\"Times New Roman,serif\" font-size=\"14.00\">pick_boron, 1.0, -6.8</text>\n</g>\n</g>\n</svg>"
     },
     "metadata": {},
     "output_type": "display_data"
    },
    {
     "data": {
      "text/plain": "<IPython.core.display.SVG object>",
      "image/svg+xml": "<svg xmlns=\"http://www.w3.org/2000/svg\" xmlns:xlink=\"http://www.w3.org/1999/xlink\" width=\"197pt\" height=\"110pt\" viewBox=\"0.00 0.00 197.05 110.09\">\n<g id=\"graph0\" class=\"graph\" transform=\"scale(1 1) rotate(0) translate(4 106.09)\">\n<polygon fill=\"white\" stroke=\"none\" points=\"-4,4 -4,-106.09 193.05,-106.09 193.05,4 -4,4\"/>\n<!-- fake -->\n<g id=\"node1\" class=\"node\">\n<title>fake</title>\n</g>\n<!-- ready -->\n<g id=\"node2\" class=\"node\">\n<title>ready</title>\n<ellipse fill=\"none\" stroke=\"black\" cx=\"125.55\" cy=\"-34.55\" rx=\"30.59\" ry=\"30.59\"/>\n<ellipse fill=\"none\" stroke=\"black\" cx=\"125.55\" cy=\"-34.55\" rx=\"34.59\" ry=\"34.59\"/>\n<text text-anchor=\"middle\" x=\"125.55\" y=\"-30.85\" font-family=\"Times New Roman,serif\" font-size=\"14.00\">ready</text>\n</g>\n<!-- fake&#45;&gt;ready -->\n<g id=\"edge1\" class=\"edge\">\n<title>fake-&gt;ready</title>\n<path fill=\"none\" stroke=\"black\" stroke-width=\"2\" d=\"M54.38,-34.55C62.06,-34.55 70.67,-34.55 79.17,-34.55\"/>\n<polygon fill=\"black\" stroke=\"black\" stroke-width=\"2\" points=\"77.55,-38.05 87.55,-34.55 77.55,-31.05 77.55,-38.05\"/>\n</g>\n<!-- ready&#45;&gt;ready -->\n<g id=\"edge2\" class=\"edge\">\n<title>ready-&gt;ready</title>\n<path fill=\"none\" stroke=\"black\" d=\"M115.61,-68.16C115.76,-78.74 119.07,-87.09 125.55,-87.09 129.49,-87.09 132.27,-83.99 133.86,-79.17\"/>\n<polygon fill=\"black\" stroke=\"black\" points=\"137.27,-80.06 135.27,-69.65 130.35,-79.03 137.27,-80.06\"/>\n<text text-anchor=\"middle\" x=\"125.55\" y=\"-90.89\" font-family=\"Times New Roman,serif\" font-size=\"14.00\">pick_boron, 1.0, -8.55</text>\n</g>\n</g>\n</svg>"
     },
     "metadata": {},
     "output_type": "display_data"
    },
    {
     "data": {
      "text/plain": "<IPython.core.display.SVG object>",
      "image/svg+xml": "<svg xmlns=\"http://www.w3.org/2000/svg\" xmlns:xlink=\"http://www.w3.org/1999/xlink\" width=\"200pt\" height=\"110pt\" viewBox=\"0.00 0.00 200.05 110.09\">\n<g id=\"graph0\" class=\"graph\" transform=\"scale(1 1) rotate(0) translate(4 106.09)\">\n<polygon fill=\"white\" stroke=\"none\" points=\"-4,4 -4,-106.09 196.05,-106.09 196.05,4 -4,4\"/>\n<!-- fake -->\n<g id=\"node1\" class=\"node\">\n<title>fake</title>\n</g>\n<!-- ready -->\n<g id=\"node2\" class=\"node\">\n<title>ready</title>\n<ellipse fill=\"none\" stroke=\"black\" cx=\"125.55\" cy=\"-34.55\" rx=\"30.59\" ry=\"30.59\"/>\n<ellipse fill=\"none\" stroke=\"black\" cx=\"125.55\" cy=\"-34.55\" rx=\"34.59\" ry=\"34.59\"/>\n<text text-anchor=\"middle\" x=\"125.55\" y=\"-30.85\" font-family=\"Times New Roman,serif\" font-size=\"14.00\">ready</text>\n</g>\n<!-- fake&#45;&gt;ready -->\n<g id=\"edge1\" class=\"edge\">\n<title>fake-&gt;ready</title>\n<path fill=\"none\" stroke=\"black\" stroke-width=\"2\" d=\"M54.38,-34.55C62.06,-34.55 70.67,-34.55 79.17,-34.55\"/>\n<polygon fill=\"black\" stroke=\"black\" stroke-width=\"2\" points=\"77.55,-38.05 87.55,-34.55 77.55,-31.05 77.55,-38.05\"/>\n</g>\n<!-- ready&#45;&gt;ready -->\n<g id=\"edge2\" class=\"edge\">\n<title>ready-&gt;ready</title>\n<path fill=\"none\" stroke=\"black\" d=\"M115.61,-68.16C115.76,-78.74 119.07,-87.09 125.55,-87.09 129.49,-87.09 132.27,-83.99 133.86,-79.17\"/>\n<polygon fill=\"black\" stroke=\"black\" points=\"137.27,-80.06 135.27,-69.65 130.35,-79.03 137.27,-80.06\"/>\n<text text-anchor=\"middle\" x=\"125.55\" y=\"-90.89\" font-family=\"Times New Roman,serif\" font-size=\"14.00\">pick_boron, 1.0, -12.12</text>\n</g>\n</g>\n</svg>"
     },
     "metadata": {},
     "output_type": "display_data"
    }
   ],
   "source": [
    "def boron_warehouse_service(name: str, action_reward: float) -> Service:\n",
    "    \"\"\"Build the boron warehouse device.\"\"\"\n",
    "    return build_generic_service_one_state(\n",
    "        name,\n",
    "        {PICK_BORON},\n",
    "        action_reward=action_reward\n",
    "    )\n",
    "\n",
    "service_boron_turkey = boron_warehouse_service(BORON_SERVICE_NAME_TURKEY, TURKEY_REWARD)\n",
    "service_boron_usa = boron_warehouse_service(BORON_SERVICE_NAME_USA, USA_REWARD)\n",
    "service_boron_kazakhstan = boron_warehouse_service(BORON_SERVICE_NAME_KAZAKHSTAN, KAZAKHSTAN_REWARD)\n",
    "service_boron_chile = boron_warehouse_service(BORON_SERVICE_NAME_CHILE, CHILE_REWARD)\n",
    "service_boron_china = boron_warehouse_service(BORON_SERVICE_NAME_CHINA, CHINA_REWARD)\n",
    "service_boron_bolivia = boron_warehouse_service(BORON_SERVICE_NAME_BOLIVIA, BOLIVIA_REWARD)\n",
    "service_boron_argentina = boron_warehouse_service(BORON_SERVICE_NAME_ARGENTINA, ARGENTINA_REWARD)\n",
    "service_boron_russia = boron_warehouse_service(BORON_SERVICE_NAME_RUSSIA, RUSSIA_REWARD + WAR_REWARD)\n",
    "render_service(service_boron_turkey)\n",
    "render_service(service_boron_usa)\n",
    "render_service(service_boron_kazakhstan)\n",
    "render_service(service_boron_chile)\n",
    "render_service(service_boron_china)\n",
    "render_service(service_boron_bolivia)\n",
    "render_service(service_boron_argentina)\n",
    "render_service(service_boron_russia)"
   ]
  },
  {
   "cell_type": "code",
   "execution_count": 10,
   "metadata": {},
   "outputs": [
    {
     "data": {
      "text/plain": "<IPython.core.display.SVG object>",
      "image/svg+xml": "<svg xmlns=\"http://www.w3.org/2000/svg\" xmlns:xlink=\"http://www.w3.org/1999/xlink\" width=\"204pt\" height=\"110pt\" viewBox=\"0.00 0.00 203.55 110.09\">\n<g id=\"graph0\" class=\"graph\" transform=\"scale(1 1) rotate(0) translate(4 106.09)\">\n<polygon fill=\"white\" stroke=\"none\" points=\"-4,4 -4,-106.09 199.55,-106.09 199.55,4 -4,4\"/>\n<!-- fake -->\n<g id=\"node1\" class=\"node\">\n<title>fake</title>\n</g>\n<!-- ready -->\n<g id=\"node2\" class=\"node\">\n<title>ready</title>\n<ellipse fill=\"none\" stroke=\"black\" cx=\"125.55\" cy=\"-34.55\" rx=\"30.59\" ry=\"30.59\"/>\n<ellipse fill=\"none\" stroke=\"black\" cx=\"125.55\" cy=\"-34.55\" rx=\"34.59\" ry=\"34.59\"/>\n<text text-anchor=\"middle\" x=\"125.55\" y=\"-30.85\" font-family=\"Times New Roman,serif\" font-size=\"14.00\">ready</text>\n</g>\n<!-- fake&#45;&gt;ready -->\n<g id=\"edge1\" class=\"edge\">\n<title>fake-&gt;ready</title>\n<path fill=\"none\" stroke=\"black\" stroke-width=\"2\" d=\"M54.38,-34.55C62.06,-34.55 70.67,-34.55 79.17,-34.55\"/>\n<polygon fill=\"black\" stroke=\"black\" stroke-width=\"2\" points=\"77.55,-38.05 87.55,-34.55 77.55,-31.05 77.55,-38.05\"/>\n</g>\n<!-- ready&#45;&gt;ready -->\n<g id=\"edge2\" class=\"edge\">\n<title>ready-&gt;ready</title>\n<path fill=\"none\" stroke=\"black\" d=\"M115.61,-68.16C115.76,-78.74 119.07,-87.09 125.55,-87.09 129.49,-87.09 132.27,-83.99 133.86,-79.17\"/>\n<polygon fill=\"black\" stroke=\"black\" points=\"137.27,-80.06 135.27,-69.65 130.35,-79.03 137.27,-80.06\"/>\n<text text-anchor=\"middle\" x=\"125.55\" y=\"-90.89\" font-family=\"Times New Roman,serif\" font-size=\"14.00\">pick_phosphor, 1.0, -7.9</text>\n</g>\n</g>\n</svg>"
     },
     "metadata": {},
     "output_type": "display_data"
    },
    {
     "data": {
      "text/plain": "<IPython.core.display.SVG object>",
      "image/svg+xml": "<svg xmlns=\"http://www.w3.org/2000/svg\" xmlns:xlink=\"http://www.w3.org/1999/xlink\" width=\"207pt\" height=\"110pt\" viewBox=\"0.00 0.00 207.05 110.09\">\n<g id=\"graph0\" class=\"graph\" transform=\"scale(1 1) rotate(0) translate(4 106.09)\">\n<polygon fill=\"white\" stroke=\"none\" points=\"-4,4 -4,-106.09 203.05,-106.09 203.05,4 -4,4\"/>\n<!-- fake -->\n<g id=\"node1\" class=\"node\">\n<title>fake</title>\n</g>\n<!-- ready -->\n<g id=\"node2\" class=\"node\">\n<title>ready</title>\n<ellipse fill=\"none\" stroke=\"black\" cx=\"125.55\" cy=\"-34.55\" rx=\"30.59\" ry=\"30.59\"/>\n<ellipse fill=\"none\" stroke=\"black\" cx=\"125.55\" cy=\"-34.55\" rx=\"34.59\" ry=\"34.59\"/>\n<text text-anchor=\"middle\" x=\"125.55\" y=\"-30.85\" font-family=\"Times New Roman,serif\" font-size=\"14.00\">ready</text>\n</g>\n<!-- fake&#45;&gt;ready -->\n<g id=\"edge1\" class=\"edge\">\n<title>fake-&gt;ready</title>\n<path fill=\"none\" stroke=\"black\" stroke-width=\"2\" d=\"M54.38,-34.55C62.06,-34.55 70.67,-34.55 79.17,-34.55\"/>\n<polygon fill=\"black\" stroke=\"black\" stroke-width=\"2\" points=\"77.55,-38.05 87.55,-34.55 77.55,-31.05 77.55,-38.05\"/>\n</g>\n<!-- ready&#45;&gt;ready -->\n<g id=\"edge2\" class=\"edge\">\n<title>ready-&gt;ready</title>\n<path fill=\"none\" stroke=\"black\" d=\"M115.61,-68.16C115.76,-78.74 119.07,-87.09 125.55,-87.09 129.49,-87.09 132.27,-83.99 133.86,-79.17\"/>\n<polygon fill=\"black\" stroke=\"black\" points=\"137.27,-80.06 135.27,-69.65 130.35,-79.03 137.27,-80.06\"/>\n<text text-anchor=\"middle\" x=\"125.55\" y=\"-90.89\" font-family=\"Times New Roman,serif\" font-size=\"14.00\">pick_phosphor, 1.0, -11.7</text>\n</g>\n</g>\n</svg>"
     },
     "metadata": {},
     "output_type": "display_data"
    },
    {
     "data": {
      "text/plain": "<IPython.core.display.SVG object>",
      "image/svg+xml": "<svg xmlns=\"http://www.w3.org/2000/svg\" xmlns:xlink=\"http://www.w3.org/1999/xlink\" width=\"204pt\" height=\"110pt\" viewBox=\"0.00 0.00 203.55 110.09\">\n<g id=\"graph0\" class=\"graph\" transform=\"scale(1 1) rotate(0) translate(4 106.09)\">\n<polygon fill=\"white\" stroke=\"none\" points=\"-4,4 -4,-106.09 199.55,-106.09 199.55,4 -4,4\"/>\n<!-- fake -->\n<g id=\"node1\" class=\"node\">\n<title>fake</title>\n</g>\n<!-- ready -->\n<g id=\"node2\" class=\"node\">\n<title>ready</title>\n<ellipse fill=\"none\" stroke=\"black\" cx=\"125.55\" cy=\"-34.55\" rx=\"30.59\" ry=\"30.59\"/>\n<ellipse fill=\"none\" stroke=\"black\" cx=\"125.55\" cy=\"-34.55\" rx=\"34.59\" ry=\"34.59\"/>\n<text text-anchor=\"middle\" x=\"125.55\" y=\"-30.85\" font-family=\"Times New Roman,serif\" font-size=\"14.00\">ready</text>\n</g>\n<!-- fake&#45;&gt;ready -->\n<g id=\"edge1\" class=\"edge\">\n<title>fake-&gt;ready</title>\n<path fill=\"none\" stroke=\"black\" stroke-width=\"2\" d=\"M54.38,-34.55C62.06,-34.55 70.67,-34.55 79.17,-34.55\"/>\n<polygon fill=\"black\" stroke=\"black\" stroke-width=\"2\" points=\"77.55,-38.05 87.55,-34.55 77.55,-31.05 77.55,-38.05\"/>\n</g>\n<!-- ready&#45;&gt;ready -->\n<g id=\"edge2\" class=\"edge\">\n<title>ready-&gt;ready</title>\n<path fill=\"none\" stroke=\"black\" d=\"M115.61,-68.16C115.76,-78.74 119.07,-87.09 125.55,-87.09 129.49,-87.09 132.27,-83.99 133.86,-79.17\"/>\n<polygon fill=\"black\" stroke=\"black\" points=\"137.27,-80.06 135.27,-69.65 130.35,-79.03 137.27,-80.06\"/>\n<text text-anchor=\"middle\" x=\"125.55\" y=\"-90.89\" font-family=\"Times New Roman,serif\" font-size=\"14.00\">pick_phosphor, 1.0, -2.0</text>\n</g>\n</g>\n</svg>"
     },
     "metadata": {},
     "output_type": "display_data"
    }
   ],
   "source": [
    "def phosphor_warehouse_service(name: str, action_reward: float) -> Service:\n",
    "    \"\"\"Build the phosphor warehouse device.\"\"\"\n",
    "    return build_generic_service_one_state(\n",
    "        name,\n",
    "        {PICK_PHOSPHOR},\n",
    "        action_reward=action_reward\n",
    "    )\n",
    "\n",
    "service_phosphor_morocco = phosphor_warehouse_service(PHOSPHOR_SERVICE_NAME_MOROCCO, MOROCCO_REWARD)\n",
    "service_phosphor_china = phosphor_warehouse_service(PHOSPHOR_SERVICE_NAME_CHINA, CHINA_REWARD)\n",
    "service_phosphor_usa = phosphor_warehouse_service(PHOSPHOR_SERVICE_NAME_USA, USA_REWARD)\n",
    "render_service(service_phosphor_morocco)\n",
    "render_service(service_phosphor_china)\n",
    "render_service(service_phosphor_usa)"
   ]
  },
  {
   "cell_type": "code",
   "execution_count": 11,
   "outputs": [
    {
     "data": {
      "text/plain": "<IPython.core.display.SVG object>",
      "image/svg+xml": "<svg xmlns=\"http://www.w3.org/2000/svg\" xmlns:xlink=\"http://www.w3.org/1999/xlink\" width=\"207pt\" height=\"110pt\" viewBox=\"0.00 0.00 206.55 110.09\">\n<g id=\"graph0\" class=\"graph\" transform=\"scale(1 1) rotate(0) translate(4 106.09)\">\n<polygon fill=\"white\" stroke=\"none\" points=\"-4,4 -4,-106.09 202.55,-106.09 202.55,4 -4,4\"/>\n<!-- fake -->\n<g id=\"node1\" class=\"node\">\n<title>fake</title>\n</g>\n<!-- ready -->\n<g id=\"node2\" class=\"node\">\n<title>ready</title>\n<ellipse fill=\"none\" stroke=\"black\" cx=\"125.55\" cy=\"-34.55\" rx=\"30.59\" ry=\"30.59\"/>\n<ellipse fill=\"none\" stroke=\"black\" cx=\"125.55\" cy=\"-34.55\" rx=\"34.59\" ry=\"34.59\"/>\n<text text-anchor=\"middle\" x=\"125.55\" y=\"-30.85\" font-family=\"Times New Roman,serif\" font-size=\"14.00\">ready</text>\n</g>\n<!-- fake&#45;&gt;ready -->\n<g id=\"edge1\" class=\"edge\">\n<title>fake-&gt;ready</title>\n<path fill=\"none\" stroke=\"black\" stroke-width=\"2\" d=\"M54.38,-34.55C62.06,-34.55 70.67,-34.55 79.17,-34.55\"/>\n<polygon fill=\"black\" stroke=\"black\" stroke-width=\"2\" points=\"77.55,-38.05 87.55,-34.55 77.55,-31.05 77.55,-38.05\"/>\n</g>\n<!-- ready&#45;&gt;ready -->\n<g id=\"edge2\" class=\"edge\">\n<title>ready-&gt;ready</title>\n<path fill=\"none\" stroke=\"black\" d=\"M115.61,-68.16C115.76,-78.74 119.07,-87.09 125.55,-87.09 129.49,-87.09 132.27,-83.99 133.86,-79.17\"/>\n<polygon fill=\"black\" stroke=\"black\" points=\"137.27,-80.06 135.27,-69.65 130.35,-79.03 137.27,-80.06\"/>\n<text text-anchor=\"middle\" x=\"125.55\" y=\"-90.89\" font-family=\"Times New Roman,serif\" font-size=\"14.00\">pick_aluminum, 1.0, -14.0</text>\n</g>\n</g>\n</svg>"
     },
     "metadata": {},
     "output_type": "display_data"
    },
    {
     "data": {
      "text/plain": "<IPython.core.display.SVG object>",
      "image/svg+xml": "<svg xmlns=\"http://www.w3.org/2000/svg\" xmlns:xlink=\"http://www.w3.org/1999/xlink\" width=\"207pt\" height=\"110pt\" viewBox=\"0.00 0.00 206.55 110.09\">\n<g id=\"graph0\" class=\"graph\" transform=\"scale(1 1) rotate(0) translate(4 106.09)\">\n<polygon fill=\"white\" stroke=\"none\" points=\"-4,4 -4,-106.09 202.55,-106.09 202.55,4 -4,4\"/>\n<!-- fake -->\n<g id=\"node1\" class=\"node\">\n<title>fake</title>\n</g>\n<!-- ready -->\n<g id=\"node2\" class=\"node\">\n<title>ready</title>\n<ellipse fill=\"none\" stroke=\"black\" cx=\"125.55\" cy=\"-34.55\" rx=\"30.59\" ry=\"30.59\"/>\n<ellipse fill=\"none\" stroke=\"black\" cx=\"125.55\" cy=\"-34.55\" rx=\"34.59\" ry=\"34.59\"/>\n<text text-anchor=\"middle\" x=\"125.55\" y=\"-30.85\" font-family=\"Times New Roman,serif\" font-size=\"14.00\">ready</text>\n</g>\n<!-- fake&#45;&gt;ready -->\n<g id=\"edge1\" class=\"edge\">\n<title>fake-&gt;ready</title>\n<path fill=\"none\" stroke=\"black\" stroke-width=\"2\" d=\"M54.38,-34.55C62.06,-34.55 70.67,-34.55 79.17,-34.55\"/>\n<polygon fill=\"black\" stroke=\"black\" stroke-width=\"2\" points=\"77.55,-38.05 87.55,-34.55 77.55,-31.05 77.55,-38.05\"/>\n</g>\n<!-- ready&#45;&gt;ready -->\n<g id=\"edge2\" class=\"edge\">\n<title>ready-&gt;ready</title>\n<path fill=\"none\" stroke=\"black\" d=\"M115.61,-68.16C115.76,-78.74 119.07,-87.09 125.55,-87.09 129.49,-87.09 132.27,-83.99 133.86,-79.17\"/>\n<polygon fill=\"black\" stroke=\"black\" points=\"137.27,-80.06 135.27,-69.65 130.35,-79.03 137.27,-80.06\"/>\n<text text-anchor=\"middle\" x=\"125.55\" y=\"-90.89\" font-family=\"Times New Roman,serif\" font-size=\"14.00\">pick_aluminum, 1.0, -13.1</text>\n</g>\n</g>\n</svg>"
     },
     "metadata": {},
     "output_type": "display_data"
    },
    {
     "data": {
      "text/plain": "<IPython.core.display.SVG object>",
      "image/svg+xml": "<svg xmlns=\"http://www.w3.org/2000/svg\" xmlns:xlink=\"http://www.w3.org/1999/xlink\" width=\"203pt\" height=\"110pt\" viewBox=\"0.00 0.00 203.05 110.09\">\n<g id=\"graph0\" class=\"graph\" transform=\"scale(1 1) rotate(0) translate(4 106.09)\">\n<polygon fill=\"white\" stroke=\"none\" points=\"-4,4 -4,-106.09 199.05,-106.09 199.05,4 -4,4\"/>\n<!-- fake -->\n<g id=\"node1\" class=\"node\">\n<title>fake</title>\n</g>\n<!-- ready -->\n<g id=\"node2\" class=\"node\">\n<title>ready</title>\n<ellipse fill=\"none\" stroke=\"black\" cx=\"125.55\" cy=\"-34.55\" rx=\"30.59\" ry=\"30.59\"/>\n<ellipse fill=\"none\" stroke=\"black\" cx=\"125.55\" cy=\"-34.55\" rx=\"34.59\" ry=\"34.59\"/>\n<text text-anchor=\"middle\" x=\"125.55\" y=\"-30.85\" font-family=\"Times New Roman,serif\" font-size=\"14.00\">ready</text>\n</g>\n<!-- fake&#45;&gt;ready -->\n<g id=\"edge1\" class=\"edge\">\n<title>fake-&gt;ready</title>\n<path fill=\"none\" stroke=\"black\" stroke-width=\"2\" d=\"M54.38,-34.55C62.06,-34.55 70.67,-34.55 79.17,-34.55\"/>\n<polygon fill=\"black\" stroke=\"black\" stroke-width=\"2\" points=\"77.55,-38.05 87.55,-34.55 77.55,-31.05 77.55,-38.05\"/>\n</g>\n<!-- ready&#45;&gt;ready -->\n<g id=\"edge2\" class=\"edge\">\n<title>ready-&gt;ready</title>\n<path fill=\"none\" stroke=\"black\" d=\"M115.61,-68.16C115.76,-78.74 119.07,-87.09 125.55,-87.09 129.49,-87.09 132.27,-83.99 133.86,-79.17\"/>\n<polygon fill=\"black\" stroke=\"black\" points=\"137.27,-80.06 135.27,-69.65 130.35,-79.03 137.27,-80.06\"/>\n<text text-anchor=\"middle\" x=\"125.55\" y=\"-90.89\" font-family=\"Times New Roman,serif\" font-size=\"14.00\">pick_aluminum, 1.0, -6.7</text>\n</g>\n</g>\n</svg>"
     },
     "metadata": {},
     "output_type": "display_data"
    }
   ],
   "source": [
    "def aluminum_warehouse_service(name: str, action_reward: float) -> Service:\n",
    "    \"\"\"Build the aluminum warehouse device.\"\"\"\n",
    "    return build_generic_service_one_state(\n",
    "        name,\n",
    "        {PICK_ALUMINUM},\n",
    "        action_reward=action_reward\n",
    "    )\n",
    "\n",
    "service_aluminum_australia = aluminum_warehouse_service(ALUMINUM_SERVICE_NAME_AUSTRALIA, AUSTRALIA_REWARD)\n",
    "service_aluminum_india = aluminum_warehouse_service(ALUMINUM_SERVICE_NAME_INDIA, INDIA_REWARD)\n",
    "service_aluminum_brazil = aluminum_warehouse_service(ALUMINUM_SERVICE_NAME_BRAZIL, BRAZIL_REWARD)\n",
    "render_service(service_aluminum_australia)\n",
    "render_service(service_aluminum_india)\n",
    "render_service(service_aluminum_brazil)"
   ],
   "metadata": {
    "collapsed": false
   }
  },
  {
   "cell_type": "code",
   "execution_count": 12,
   "metadata": {},
   "outputs": [
    {
     "data": {
      "text/plain": "<IPython.core.display.SVG object>",
      "image/svg+xml": "<svg xmlns=\"http://www.w3.org/2000/svg\" xmlns:xlink=\"http://www.w3.org/1999/xlink\" width=\"191pt\" height=\"110pt\" viewBox=\"0.00 0.00 191.05 110.09\">\n<g id=\"graph0\" class=\"graph\" transform=\"scale(1 1) rotate(0) translate(4 106.09)\">\n<polygon fill=\"white\" stroke=\"none\" points=\"-4,4 -4,-106.09 187.05,-106.09 187.05,4 -4,4\"/>\n<!-- fake -->\n<g id=\"node1\" class=\"node\">\n<title>fake</title>\n</g>\n<!-- ready -->\n<g id=\"node2\" class=\"node\">\n<title>ready</title>\n<ellipse fill=\"none\" stroke=\"black\" cx=\"125.55\" cy=\"-34.55\" rx=\"30.59\" ry=\"30.59\"/>\n<ellipse fill=\"none\" stroke=\"black\" cx=\"125.55\" cy=\"-34.55\" rx=\"34.59\" ry=\"34.59\"/>\n<text text-anchor=\"middle\" x=\"125.55\" y=\"-30.85\" font-family=\"Times New Roman,serif\" font-size=\"14.00\">ready</text>\n</g>\n<!-- fake&#45;&gt;ready -->\n<g id=\"edge1\" class=\"edge\">\n<title>fake-&gt;ready</title>\n<path fill=\"none\" stroke=\"black\" stroke-width=\"2\" d=\"M54.38,-34.55C62.06,-34.55 70.67,-34.55 79.17,-34.55\"/>\n<polygon fill=\"black\" stroke=\"black\" stroke-width=\"2\" points=\"77.55,-38.05 87.55,-34.55 77.55,-31.05 77.55,-38.05\"/>\n</g>\n<!-- ready&#45;&gt;ready -->\n<g id=\"edge2\" class=\"edge\">\n<title>ready-&gt;ready</title>\n<path fill=\"none\" stroke=\"black\" d=\"M115.61,-68.16C115.76,-78.74 119.07,-87.09 125.55,-87.09 129.49,-87.09 132.27,-83.99 133.86,-79.17\"/>\n<polygon fill=\"black\" stroke=\"black\" points=\"137.27,-80.06 135.27,-69.65 130.35,-79.03 137.27,-80.06\"/>\n<text text-anchor=\"middle\" x=\"125.55\" y=\"-90.89\" font-family=\"Times New Roman,serif\" font-size=\"14.00\">pick_resist, 1.0, -2.0</text>\n</g>\n</g>\n</svg>"
     },
     "metadata": {},
     "output_type": "display_data"
    },
    {
     "data": {
      "text/plain": "<IPython.core.display.SVG object>",
      "image/svg+xml": "<svg xmlns=\"http://www.w3.org/2000/svg\" xmlns:xlink=\"http://www.w3.org/1999/xlink\" width=\"191pt\" height=\"110pt\" viewBox=\"0.00 0.00 191.05 110.09\">\n<g id=\"graph0\" class=\"graph\" transform=\"scale(1 1) rotate(0) translate(4 106.09)\">\n<polygon fill=\"white\" stroke=\"none\" points=\"-4,4 -4,-106.09 187.05,-106.09 187.05,4 -4,4\"/>\n<!-- fake -->\n<g id=\"node1\" class=\"node\">\n<title>fake</title>\n</g>\n<!-- ready -->\n<g id=\"node2\" class=\"node\">\n<title>ready</title>\n<ellipse fill=\"none\" stroke=\"black\" cx=\"125.55\" cy=\"-34.55\" rx=\"30.59\" ry=\"30.59\"/>\n<ellipse fill=\"none\" stroke=\"black\" cx=\"125.55\" cy=\"-34.55\" rx=\"34.59\" ry=\"34.59\"/>\n<text text-anchor=\"middle\" x=\"125.55\" y=\"-30.85\" font-family=\"Times New Roman,serif\" font-size=\"14.00\">ready</text>\n</g>\n<!-- fake&#45;&gt;ready -->\n<g id=\"edge1\" class=\"edge\">\n<title>fake-&gt;ready</title>\n<path fill=\"none\" stroke=\"black\" stroke-width=\"2\" d=\"M54.38,-34.55C62.06,-34.55 70.67,-34.55 79.17,-34.55\"/>\n<polygon fill=\"black\" stroke=\"black\" stroke-width=\"2\" points=\"77.55,-38.05 87.55,-34.55 77.55,-31.05 77.55,-38.05\"/>\n</g>\n<!-- ready&#45;&gt;ready -->\n<g id=\"edge2\" class=\"edge\">\n<title>ready-&gt;ready</title>\n<path fill=\"none\" stroke=\"black\" d=\"M115.61,-68.16C115.76,-78.74 119.07,-87.09 125.55,-87.09 129.49,-87.09 132.27,-83.99 133.86,-79.17\"/>\n<polygon fill=\"black\" stroke=\"black\" points=\"137.27,-80.06 135.27,-69.65 130.35,-79.03 137.27,-80.06\"/>\n<text text-anchor=\"middle\" x=\"125.55\" y=\"-90.89\" font-family=\"Times New Roman,serif\" font-size=\"14.00\">pick_resist, 1.0, -7.6</text>\n</g>\n</g>\n</svg>"
     },
     "metadata": {},
     "output_type": "display_data"
    },
    {
     "data": {
      "text/plain": "<IPython.core.display.SVG object>",
      "image/svg+xml": "<svg xmlns=\"http://www.w3.org/2000/svg\" xmlns:xlink=\"http://www.w3.org/1999/xlink\" width=\"195pt\" height=\"110pt\" viewBox=\"0.00 0.00 194.55 110.09\">\n<g id=\"graph0\" class=\"graph\" transform=\"scale(1 1) rotate(0) translate(4 106.09)\">\n<polygon fill=\"white\" stroke=\"none\" points=\"-4,4 -4,-106.09 190.55,-106.09 190.55,4 -4,4\"/>\n<!-- fake -->\n<g id=\"node1\" class=\"node\">\n<title>fake</title>\n</g>\n<!-- ready -->\n<g id=\"node2\" class=\"node\">\n<title>ready</title>\n<ellipse fill=\"none\" stroke=\"black\" cx=\"125.55\" cy=\"-34.55\" rx=\"30.59\" ry=\"30.59\"/>\n<ellipse fill=\"none\" stroke=\"black\" cx=\"125.55\" cy=\"-34.55\" rx=\"34.59\" ry=\"34.59\"/>\n<text text-anchor=\"middle\" x=\"125.55\" y=\"-30.85\" font-family=\"Times New Roman,serif\" font-size=\"14.00\">ready</text>\n</g>\n<!-- fake&#45;&gt;ready -->\n<g id=\"edge1\" class=\"edge\">\n<title>fake-&gt;ready</title>\n<path fill=\"none\" stroke=\"black\" stroke-width=\"2\" d=\"M54.38,-34.55C62.06,-34.55 70.67,-34.55 79.17,-34.55\"/>\n<polygon fill=\"black\" stroke=\"black\" stroke-width=\"2\" points=\"77.55,-38.05 87.55,-34.55 77.55,-31.05 77.55,-38.05\"/>\n</g>\n<!-- ready&#45;&gt;ready -->\n<g id=\"edge2\" class=\"edge\">\n<title>ready-&gt;ready</title>\n<path fill=\"none\" stroke=\"black\" d=\"M115.61,-68.16C115.76,-78.74 119.07,-87.09 125.55,-87.09 129.49,-87.09 132.27,-83.99 133.86,-79.17\"/>\n<polygon fill=\"black\" stroke=\"black\" points=\"137.27,-80.06 135.27,-69.65 130.35,-79.03 137.27,-80.06\"/>\n<text text-anchor=\"middle\" x=\"125.55\" y=\"-90.89\" font-family=\"Times New Roman,serif\" font-size=\"14.00\">pick_resist, 1.0, -8.38</text>\n</g>\n</g>\n</svg>"
     },
     "metadata": {},
     "output_type": "display_data"
    },
    {
     "data": {
      "text/plain": "<IPython.core.display.SVG object>",
      "image/svg+xml": "<svg xmlns=\"http://www.w3.org/2000/svg\" xmlns:xlink=\"http://www.w3.org/1999/xlink\" width=\"195pt\" height=\"110pt\" viewBox=\"0.00 0.00 194.55 110.09\">\n<g id=\"graph0\" class=\"graph\" transform=\"scale(1 1) rotate(0) translate(4 106.09)\">\n<polygon fill=\"white\" stroke=\"none\" points=\"-4,4 -4,-106.09 190.55,-106.09 190.55,4 -4,4\"/>\n<!-- fake -->\n<g id=\"node1\" class=\"node\">\n<title>fake</title>\n</g>\n<!-- ready -->\n<g id=\"node2\" class=\"node\">\n<title>ready</title>\n<ellipse fill=\"none\" stroke=\"black\" cx=\"125.55\" cy=\"-34.55\" rx=\"30.59\" ry=\"30.59\"/>\n<ellipse fill=\"none\" stroke=\"black\" cx=\"125.55\" cy=\"-34.55\" rx=\"34.59\" ry=\"34.59\"/>\n<text text-anchor=\"middle\" x=\"125.55\" y=\"-30.85\" font-family=\"Times New Roman,serif\" font-size=\"14.00\">ready</text>\n</g>\n<!-- fake&#45;&gt;ready -->\n<g id=\"edge1\" class=\"edge\">\n<title>fake-&gt;ready</title>\n<path fill=\"none\" stroke=\"black\" stroke-width=\"2\" d=\"M54.38,-34.55C62.06,-34.55 70.67,-34.55 79.17,-34.55\"/>\n<polygon fill=\"black\" stroke=\"black\" stroke-width=\"2\" points=\"77.55,-38.05 87.55,-34.55 77.55,-31.05 77.55,-38.05\"/>\n</g>\n<!-- ready&#45;&gt;ready -->\n<g id=\"edge2\" class=\"edge\">\n<title>ready-&gt;ready</title>\n<path fill=\"none\" stroke=\"black\" d=\"M115.61,-68.16C115.76,-78.74 119.07,-87.09 125.55,-87.09 129.49,-87.09 132.27,-83.99 133.86,-79.17\"/>\n<polygon fill=\"black\" stroke=\"black\" points=\"137.27,-80.06 135.27,-69.65 130.35,-79.03 137.27,-80.06\"/>\n<text text-anchor=\"middle\" x=\"125.55\" y=\"-90.89\" font-family=\"Times New Roman,serif\" font-size=\"14.00\">pick_resist, 1.0, -13.1</text>\n</g>\n</g>\n</svg>"
     },
     "metadata": {},
     "output_type": "display_data"
    },
    {
     "data": {
      "text/plain": "<IPython.core.display.SVG object>",
      "image/svg+xml": "<svg xmlns=\"http://www.w3.org/2000/svg\" xmlns:xlink=\"http://www.w3.org/1999/xlink\" width=\"191pt\" height=\"110pt\" viewBox=\"0.00 0.00 191.05 110.09\">\n<g id=\"graph0\" class=\"graph\" transform=\"scale(1 1) rotate(0) translate(4 106.09)\">\n<polygon fill=\"white\" stroke=\"none\" points=\"-4,4 -4,-106.09 187.05,-106.09 187.05,4 -4,4\"/>\n<!-- fake -->\n<g id=\"node1\" class=\"node\">\n<title>fake</title>\n</g>\n<!-- ready -->\n<g id=\"node2\" class=\"node\">\n<title>ready</title>\n<ellipse fill=\"none\" stroke=\"black\" cx=\"125.55\" cy=\"-34.55\" rx=\"30.59\" ry=\"30.59\"/>\n<ellipse fill=\"none\" stroke=\"black\" cx=\"125.55\" cy=\"-34.55\" rx=\"34.59\" ry=\"34.59\"/>\n<text text-anchor=\"middle\" x=\"125.55\" y=\"-30.85\" font-family=\"Times New Roman,serif\" font-size=\"14.00\">ready</text>\n</g>\n<!-- fake&#45;&gt;ready -->\n<g id=\"edge1\" class=\"edge\">\n<title>fake-&gt;ready</title>\n<path fill=\"none\" stroke=\"black\" stroke-width=\"2\" d=\"M54.38,-34.55C62.06,-34.55 70.67,-34.55 79.17,-34.55\"/>\n<polygon fill=\"black\" stroke=\"black\" stroke-width=\"2\" points=\"77.55,-38.05 87.55,-34.55 77.55,-31.05 77.55,-38.05\"/>\n</g>\n<!-- ready&#45;&gt;ready -->\n<g id=\"edge2\" class=\"edge\">\n<title>ready-&gt;ready</title>\n<path fill=\"none\" stroke=\"black\" d=\"M115.61,-68.16C115.76,-78.74 119.07,-87.09 125.55,-87.09 129.49,-87.09 132.27,-83.99 133.86,-79.17\"/>\n<polygon fill=\"black\" stroke=\"black\" points=\"137.27,-80.06 135.27,-69.65 130.35,-79.03 137.27,-80.06\"/>\n<text text-anchor=\"middle\" x=\"125.55\" y=\"-90.89\" font-family=\"Times New Roman,serif\" font-size=\"14.00\">pick_resist, 1.0, -8.0</text>\n</g>\n</g>\n</svg>"
     },
     "metadata": {},
     "output_type": "display_data"
    },
    {
     "data": {
      "text/plain": "<IPython.core.display.SVG object>",
      "image/svg+xml": "<svg xmlns=\"http://www.w3.org/2000/svg\" xmlns:xlink=\"http://www.w3.org/1999/xlink\" width=\"191pt\" height=\"110pt\" viewBox=\"0.00 0.00 191.05 110.09\">\n<g id=\"graph0\" class=\"graph\" transform=\"scale(1 1) rotate(0) translate(4 106.09)\">\n<polygon fill=\"white\" stroke=\"none\" points=\"-4,4 -4,-106.09 187.05,-106.09 187.05,4 -4,4\"/>\n<!-- fake -->\n<g id=\"node1\" class=\"node\">\n<title>fake</title>\n</g>\n<!-- ready -->\n<g id=\"node2\" class=\"node\">\n<title>ready</title>\n<ellipse fill=\"none\" stroke=\"black\" cx=\"125.55\" cy=\"-34.55\" rx=\"30.59\" ry=\"30.59\"/>\n<ellipse fill=\"none\" stroke=\"black\" cx=\"125.55\" cy=\"-34.55\" rx=\"34.59\" ry=\"34.59\"/>\n<text text-anchor=\"middle\" x=\"125.55\" y=\"-30.85\" font-family=\"Times New Roman,serif\" font-size=\"14.00\">ready</text>\n</g>\n<!-- fake&#45;&gt;ready -->\n<g id=\"edge1\" class=\"edge\">\n<title>fake-&gt;ready</title>\n<path fill=\"none\" stroke=\"black\" stroke-width=\"2\" d=\"M54.38,-34.55C62.06,-34.55 70.67,-34.55 79.17,-34.55\"/>\n<polygon fill=\"black\" stroke=\"black\" stroke-width=\"2\" points=\"77.55,-38.05 87.55,-34.55 77.55,-31.05 77.55,-38.05\"/>\n</g>\n<!-- ready&#45;&gt;ready -->\n<g id=\"edge2\" class=\"edge\">\n<title>ready-&gt;ready</title>\n<path fill=\"none\" stroke=\"black\" d=\"M115.61,-68.16C115.76,-78.74 119.07,-87.09 125.55,-87.09 129.49,-87.09 132.27,-83.99 133.86,-79.17\"/>\n<polygon fill=\"black\" stroke=\"black\" points=\"137.27,-80.06 135.27,-69.65 130.35,-79.03 137.27,-80.06\"/>\n<text text-anchor=\"middle\" x=\"125.55\" y=\"-90.89\" font-family=\"Times New Roman,serif\" font-size=\"14.00\">pick_resist, 1.0, -1.8</text>\n</g>\n</g>\n</svg>"
     },
     "metadata": {},
     "output_type": "display_data"
    }
   ],
   "source": [
    "def resist_warehouse_service(name: str, action_reward: float) -> Service:\n",
    "    \"\"\"Build the resist warehouse device.\"\"\"\n",
    "    return build_generic_service_one_state(\n",
    "        name,\n",
    "        {PICK_RESIST},\n",
    "        action_reward=action_reward\n",
    "    )\n",
    "\n",
    "\n",
    "service_resist_usa = resist_warehouse_service(RESIST_SERVICE_NAME_USA, USA_REWARD)\n",
    "service_resist_belgium = resist_warehouse_service(RESIST_SERVICE_NAME_BELGIUM, BELGIUM_REWARD)\n",
    "service_resist_austria = resist_warehouse_service(RESIST_SERVICE_NAME_AUSTRIA, AUSTRIA_REWARD)\n",
    "service_resist_india = resist_warehouse_service(RESIST_SERVICE_NAME_INDIA, INDIA_REWARD)\n",
    "service_resist_switzerland = resist_warehouse_service(RESIST_SERVICE_NAME_SWITZERLAND, SWITZERLAND_REWARD)\n",
    "service_resist_canada = resist_warehouse_service(RESIST_SERVICE_NAME_CANADA, CANADA_REWARD)\n",
    "render_service(service_resist_usa)\n",
    "render_service(service_resist_belgium)\n",
    "render_service(service_resist_austria)\n",
    "render_service(service_resist_india)\n",
    "render_service(service_resist_switzerland)\n",
    "render_service(service_resist_canada)"
   ]
  },
  {
   "cell_type": "code",
   "execution_count": 13,
   "outputs": [
    {
     "data": {
      "text/plain": "<IPython.core.display.SVG object>",
      "image/svg+xml": "<svg xmlns=\"http://www.w3.org/2000/svg\" xmlns:xlink=\"http://www.w3.org/1999/xlink\" width=\"198pt\" height=\"110pt\" viewBox=\"0.00 0.00 198.05 110.09\">\n<g id=\"graph0\" class=\"graph\" transform=\"scale(1 1) rotate(0) translate(4 106.09)\">\n<polygon fill=\"white\" stroke=\"none\" points=\"-4,4 -4,-106.09 194.05,-106.09 194.05,4 -4,4\"/>\n<!-- fake -->\n<g id=\"node1\" class=\"node\">\n<title>fake</title>\n</g>\n<!-- ready -->\n<g id=\"node2\" class=\"node\">\n<title>ready</title>\n<ellipse fill=\"none\" stroke=\"black\" cx=\"125.55\" cy=\"-34.55\" rx=\"30.59\" ry=\"30.59\"/>\n<ellipse fill=\"none\" stroke=\"black\" cx=\"125.55\" cy=\"-34.55\" rx=\"34.59\" ry=\"34.59\"/>\n<text text-anchor=\"middle\" x=\"125.55\" y=\"-30.85\" font-family=\"Times New Roman,serif\" font-size=\"14.00\">ready</text>\n</g>\n<!-- fake&#45;&gt;ready -->\n<g id=\"edge1\" class=\"edge\">\n<title>fake-&gt;ready</title>\n<path fill=\"none\" stroke=\"black\" stroke-width=\"2\" d=\"M54.38,-34.55C62.06,-34.55 70.67,-34.55 79.17,-34.55\"/>\n<polygon fill=\"black\" stroke=\"black\" stroke-width=\"2\" points=\"77.55,-38.05 87.55,-34.55 77.55,-31.05 77.55,-38.05\"/>\n</g>\n<!-- ready&#45;&gt;ready -->\n<g id=\"edge2\" class=\"edge\">\n<title>ready-&gt;ready</title>\n<path fill=\"none\" stroke=\"black\" d=\"M115.61,-68.16C115.76,-78.74 119.07,-87.09 125.55,-87.09 129.49,-87.09 132.27,-83.99 133.86,-79.17\"/>\n<polygon fill=\"black\" stroke=\"black\" points=\"137.27,-80.06 135.27,-69.65 130.35,-79.03 137.27,-80.06\"/>\n<text text-anchor=\"middle\" x=\"125.55\" y=\"-90.89\" font-family=\"Times New Roman,serif\" font-size=\"14.00\">pick_plastic, 1.0, -11.7</text>\n</g>\n</g>\n</svg>"
     },
     "metadata": {},
     "output_type": "display_data"
    },
    {
     "data": {
      "text/plain": "<IPython.core.display.SVG object>",
      "image/svg+xml": "<svg xmlns=\"http://www.w3.org/2000/svg\" xmlns:xlink=\"http://www.w3.org/1999/xlink\" width=\"198pt\" height=\"110pt\" viewBox=\"0.00 0.00 198.05 110.09\">\n<g id=\"graph0\" class=\"graph\" transform=\"scale(1 1) rotate(0) translate(4 106.09)\">\n<polygon fill=\"white\" stroke=\"none\" points=\"-4,4 -4,-106.09 194.05,-106.09 194.05,4 -4,4\"/>\n<!-- fake -->\n<g id=\"node1\" class=\"node\">\n<title>fake</title>\n</g>\n<!-- ready -->\n<g id=\"node2\" class=\"node\">\n<title>ready</title>\n<ellipse fill=\"none\" stroke=\"black\" cx=\"125.55\" cy=\"-34.55\" rx=\"30.59\" ry=\"30.59\"/>\n<ellipse fill=\"none\" stroke=\"black\" cx=\"125.55\" cy=\"-34.55\" rx=\"34.59\" ry=\"34.59\"/>\n<text text-anchor=\"middle\" x=\"125.55\" y=\"-30.85\" font-family=\"Times New Roman,serif\" font-size=\"14.00\">ready</text>\n</g>\n<!-- fake&#45;&gt;ready -->\n<g id=\"edge1\" class=\"edge\">\n<title>fake-&gt;ready</title>\n<path fill=\"none\" stroke=\"black\" stroke-width=\"2\" d=\"M54.38,-34.55C62.06,-34.55 70.67,-34.55 79.17,-34.55\"/>\n<polygon fill=\"black\" stroke=\"black\" stroke-width=\"2\" points=\"77.55,-38.05 87.55,-34.55 77.55,-31.05 77.55,-38.05\"/>\n</g>\n<!-- ready&#45;&gt;ready -->\n<g id=\"edge2\" class=\"edge\">\n<title>ready-&gt;ready</title>\n<path fill=\"none\" stroke=\"black\" d=\"M115.61,-68.16C115.76,-78.74 119.07,-87.09 125.55,-87.09 129.49,-87.09 132.27,-83.99 133.86,-79.17\"/>\n<polygon fill=\"black\" stroke=\"black\" points=\"137.27,-80.06 135.27,-69.65 130.35,-79.03 137.27,-80.06\"/>\n<text text-anchor=\"middle\" x=\"125.55\" y=\"-90.89\" font-family=\"Times New Roman,serif\" font-size=\"14.00\">pick_plastic, 1.0, -13.1</text>\n</g>\n</g>\n</svg>"
     },
     "metadata": {},
     "output_type": "display_data"
    }
   ],
   "source": [
    "def plastic_warehouse_service(name: str, action_reward: float) -> Service:\n",
    "    \"\"\"Build the plastic warehouse device.\"\"\"\n",
    "    return build_generic_service_one_state(\n",
    "        name,\n",
    "        {PICK_PLASTIC},\n",
    "        action_reward=action_reward\n",
    "    )\n",
    "\n",
    "\n",
    "service_plastic_china = plastic_warehouse_service(PLASTIC_SERVICE_NAME_CHINA, CHINA_REWARD)\n",
    "service_plastic_india = plastic_warehouse_service(PLASTIC_SERVICE_NAME_INDIA, INDIA_REWARD)\n",
    "render_service(service_plastic_china)\n",
    "render_service(service_plastic_india)"
   ],
   "metadata": {
    "collapsed": false
   }
  },
  {
   "cell_type": "code",
   "execution_count": 14,
   "outputs": [
    {
     "data": {
      "text/plain": "<IPython.core.display.SVG object>",
      "image/svg+xml": "<svg xmlns=\"http://www.w3.org/2000/svg\" xmlns:xlink=\"http://www.w3.org/1999/xlink\" width=\"204pt\" height=\"110pt\" viewBox=\"0.00 0.00 204.05 110.09\">\n<g id=\"graph0\" class=\"graph\" transform=\"scale(1 1) rotate(0) translate(4 106.09)\">\n<polygon fill=\"white\" stroke=\"none\" points=\"-4,4 -4,-106.09 200.05,-106.09 200.05,4 -4,4\"/>\n<!-- fake -->\n<g id=\"node1\" class=\"node\">\n<title>fake</title>\n</g>\n<!-- ready -->\n<g id=\"node2\" class=\"node\">\n<title>ready</title>\n<ellipse fill=\"none\" stroke=\"black\" cx=\"125.55\" cy=\"-34.55\" rx=\"30.59\" ry=\"30.59\"/>\n<ellipse fill=\"none\" stroke=\"black\" cx=\"125.55\" cy=\"-34.55\" rx=\"34.59\" ry=\"34.59\"/>\n<text text-anchor=\"middle\" x=\"125.55\" y=\"-30.85\" font-family=\"Times New Roman,serif\" font-size=\"14.00\">ready</text>\n</g>\n<!-- fake&#45;&gt;ready -->\n<g id=\"edge1\" class=\"edge\">\n<title>fake-&gt;ready</title>\n<path fill=\"none\" stroke=\"black\" stroke-width=\"2\" d=\"M54.38,-34.55C62.06,-34.55 70.67,-34.55 79.17,-34.55\"/>\n<polygon fill=\"black\" stroke=\"black\" stroke-width=\"2\" points=\"77.55,-38.05 87.55,-34.55 77.55,-31.05 77.55,-38.05\"/>\n</g>\n<!-- ready&#45;&gt;ready -->\n<g id=\"edge2\" class=\"edge\">\n<title>ready-&gt;ready</title>\n<path fill=\"none\" stroke=\"black\" d=\"M115.61,-68.16C115.76,-78.74 119.07,-87.09 125.55,-87.09 129.49,-87.09 132.27,-83.99 133.86,-79.17\"/>\n<polygon fill=\"black\" stroke=\"black\" points=\"137.27,-80.06 135.27,-69.65 130.35,-79.03 137.27,-80.06\"/>\n<text text-anchor=\"middle\" x=\"125.55\" y=\"-90.89\" font-family=\"Times New Roman,serif\" font-size=\"14.00\">pick_chemicals, 1.0, -2.0</text>\n</g>\n</g>\n</svg>"
     },
     "metadata": {},
     "output_type": "display_data"
    },
    {
     "data": {
      "text/plain": "<IPython.core.display.SVG object>",
      "image/svg+xml": "<svg xmlns=\"http://www.w3.org/2000/svg\" xmlns:xlink=\"http://www.w3.org/1999/xlink\" width=\"204pt\" height=\"110pt\" viewBox=\"0.00 0.00 204.05 110.09\">\n<g id=\"graph0\" class=\"graph\" transform=\"scale(1 1) rotate(0) translate(4 106.09)\">\n<polygon fill=\"white\" stroke=\"none\" points=\"-4,4 -4,-106.09 200.05,-106.09 200.05,4 -4,4\"/>\n<!-- fake -->\n<g id=\"node1\" class=\"node\">\n<title>fake</title>\n</g>\n<!-- ready -->\n<g id=\"node2\" class=\"node\">\n<title>ready</title>\n<ellipse fill=\"none\" stroke=\"black\" cx=\"125.55\" cy=\"-34.55\" rx=\"30.59\" ry=\"30.59\"/>\n<ellipse fill=\"none\" stroke=\"black\" cx=\"125.55\" cy=\"-34.55\" rx=\"34.59\" ry=\"34.59\"/>\n<text text-anchor=\"middle\" x=\"125.55\" y=\"-30.85\" font-family=\"Times New Roman,serif\" font-size=\"14.00\">ready</text>\n</g>\n<!-- fake&#45;&gt;ready -->\n<g id=\"edge1\" class=\"edge\">\n<title>fake-&gt;ready</title>\n<path fill=\"none\" stroke=\"black\" stroke-width=\"2\" d=\"M54.38,-34.55C62.06,-34.55 70.67,-34.55 79.17,-34.55\"/>\n<polygon fill=\"black\" stroke=\"black\" stroke-width=\"2\" points=\"77.55,-38.05 87.55,-34.55 77.55,-31.05 77.55,-38.05\"/>\n</g>\n<!-- ready&#45;&gt;ready -->\n<g id=\"edge2\" class=\"edge\">\n<title>ready-&gt;ready</title>\n<path fill=\"none\" stroke=\"black\" d=\"M115.61,-68.16C115.76,-78.74 119.07,-87.09 125.55,-87.09 129.49,-87.09 132.27,-83.99 133.86,-79.17\"/>\n<polygon fill=\"black\" stroke=\"black\" points=\"137.27,-80.06 135.27,-69.65 130.35,-79.03 137.27,-80.06\"/>\n<text text-anchor=\"middle\" x=\"125.55\" y=\"-90.89\" font-family=\"Times New Roman,serif\" font-size=\"14.00\">pick_chemicals, 1.0, -1.8</text>\n</g>\n</g>\n</svg>"
     },
     "metadata": {},
     "output_type": "display_data"
    }
   ],
   "source": [
    "def chemicals_warehouse_service(name: str, action_reward: float) -> Service:\n",
    "    \"\"\"Build the chemicals warehouse device.\"\"\"\n",
    "    return build_generic_service_one_state(\n",
    "        name,\n",
    "        {PICK_CHEMICALS},\n",
    "        action_reward=action_reward\n",
    "    )\n",
    "\n",
    "\n",
    "service_chemicals_usa = chemicals_warehouse_service(CHEMICALS_SERVICE_NAME_USA, USA_REWARD)\n",
    "service_chemicals_canada = chemicals_warehouse_service(CHEMICALS_SERVICE_NAME_CANADA, CANADA_REWARD)\n",
    "render_service(service_chemicals_usa)\n",
    "render_service(service_chemicals_canada)"
   ],
   "metadata": {
    "collapsed": false
   }
  },
  {
   "cell_type": "code",
   "execution_count": 15,
   "outputs": [
    {
     "data": {
      "text/plain": "<IPython.core.display.SVG object>",
      "image/svg+xml": "<svg xmlns=\"http://www.w3.org/2000/svg\" xmlns:xlink=\"http://www.w3.org/1999/xlink\" width=\"216pt\" height=\"110pt\" viewBox=\"0.00 0.00 216.05 110.09\">\n<g id=\"graph0\" class=\"graph\" transform=\"scale(1 1) rotate(0) translate(4 106.09)\">\n<polygon fill=\"white\" stroke=\"none\" points=\"-4,4 -4,-106.09 212.05,-106.09 212.05,4 -4,4\"/>\n<!-- fake -->\n<g id=\"node1\" class=\"node\">\n<title>fake</title>\n</g>\n<!-- ready -->\n<g id=\"node2\" class=\"node\">\n<title>ready</title>\n<ellipse fill=\"none\" stroke=\"black\" cx=\"125.55\" cy=\"-34.55\" rx=\"30.59\" ry=\"30.59\"/>\n<ellipse fill=\"none\" stroke=\"black\" cx=\"125.55\" cy=\"-34.55\" rx=\"34.59\" ry=\"34.59\"/>\n<text text-anchor=\"middle\" x=\"125.55\" y=\"-30.85\" font-family=\"Times New Roman,serif\" font-size=\"14.00\">ready</text>\n</g>\n<!-- fake&#45;&gt;ready -->\n<g id=\"edge1\" class=\"edge\">\n<title>fake-&gt;ready</title>\n<path fill=\"none\" stroke=\"black\" stroke-width=\"2\" d=\"M54.38,-34.55C62.06,-34.55 70.67,-34.55 79.17,-34.55\"/>\n<polygon fill=\"black\" stroke=\"black\" stroke-width=\"2\" points=\"77.55,-38.05 87.55,-34.55 77.55,-31.05 77.55,-38.05\"/>\n</g>\n<!-- ready&#45;&gt;ready -->\n<g id=\"edge2\" class=\"edge\">\n<title>ready-&gt;ready</title>\n<path fill=\"none\" stroke=\"black\" d=\"M115.61,-68.16C115.76,-78.74 119.07,-87.09 125.55,-87.09 129.49,-87.09 132.27,-83.99 133.86,-79.17\"/>\n<polygon fill=\"black\" stroke=\"black\" points=\"137.27,-80.06 135.27,-69.65 130.35,-79.03 137.27,-80.06\"/>\n<text text-anchor=\"middle\" x=\"125.55\" y=\"-90.89\" font-family=\"Times New Roman,serif\" font-size=\"14.00\">pick_copper_frame, 1.0, -2.0</text>\n</g>\n</g>\n</svg>"
     },
     "metadata": {},
     "output_type": "display_data"
    },
    {
     "data": {
      "text/plain": "<IPython.core.display.SVG object>",
      "image/svg+xml": "<svg xmlns=\"http://www.w3.org/2000/svg\" xmlns:xlink=\"http://www.w3.org/1999/xlink\" width=\"220pt\" height=\"110pt\" viewBox=\"0.00 0.00 219.55 110.09\">\n<g id=\"graph0\" class=\"graph\" transform=\"scale(1 1) rotate(0) translate(4 106.09)\">\n<polygon fill=\"white\" stroke=\"none\" points=\"-4,4 -4,-106.09 215.55,-106.09 215.55,4 -4,4\"/>\n<!-- fake -->\n<g id=\"node1\" class=\"node\">\n<title>fake</title>\n</g>\n<!-- ready -->\n<g id=\"node2\" class=\"node\">\n<title>ready</title>\n<ellipse fill=\"none\" stroke=\"black\" cx=\"125.55\" cy=\"-34.55\" rx=\"30.59\" ry=\"30.59\"/>\n<ellipse fill=\"none\" stroke=\"black\" cx=\"125.55\" cy=\"-34.55\" rx=\"34.59\" ry=\"34.59\"/>\n<text text-anchor=\"middle\" x=\"125.55\" y=\"-30.85\" font-family=\"Times New Roman,serif\" font-size=\"14.00\">ready</text>\n</g>\n<!-- fake&#45;&gt;ready -->\n<g id=\"edge1\" class=\"edge\">\n<title>fake-&gt;ready</title>\n<path fill=\"none\" stroke=\"black\" stroke-width=\"2\" d=\"M54.38,-34.55C62.06,-34.55 70.67,-34.55 79.17,-34.55\"/>\n<polygon fill=\"black\" stroke=\"black\" stroke-width=\"2\" points=\"77.55,-38.05 87.55,-34.55 77.55,-31.05 77.55,-38.05\"/>\n</g>\n<!-- ready&#45;&gt;ready -->\n<g id=\"edge2\" class=\"edge\">\n<title>ready-&gt;ready</title>\n<path fill=\"none\" stroke=\"black\" d=\"M115.61,-68.16C115.76,-78.74 119.07,-87.09 125.55,-87.09 129.49,-87.09 132.27,-83.99 133.86,-79.17\"/>\n<polygon fill=\"black\" stroke=\"black\" points=\"137.27,-80.06 135.27,-69.65 130.35,-79.03 137.27,-80.06\"/>\n<text text-anchor=\"middle\" x=\"125.55\" y=\"-90.89\" font-family=\"Times New Roman,serif\" font-size=\"14.00\">pick_copper_frame, 1.0, -11.7</text>\n</g>\n</g>\n</svg>"
     },
     "metadata": {},
     "output_type": "display_data"
    },
    {
     "data": {
      "text/plain": "<IPython.core.display.SVG object>",
      "image/svg+xml": "<svg xmlns=\"http://www.w3.org/2000/svg\" xmlns:xlink=\"http://www.w3.org/1999/xlink\" width=\"216pt\" height=\"110pt\" viewBox=\"0.00 0.00 216.05 110.09\">\n<g id=\"graph0\" class=\"graph\" transform=\"scale(1 1) rotate(0) translate(4 106.09)\">\n<polygon fill=\"white\" stroke=\"none\" points=\"-4,4 -4,-106.09 212.05,-106.09 212.05,4 -4,4\"/>\n<!-- fake -->\n<g id=\"node1\" class=\"node\">\n<title>fake</title>\n</g>\n<!-- ready -->\n<g id=\"node2\" class=\"node\">\n<title>ready</title>\n<ellipse fill=\"none\" stroke=\"black\" cx=\"125.55\" cy=\"-34.55\" rx=\"30.59\" ry=\"30.59\"/>\n<ellipse fill=\"none\" stroke=\"black\" cx=\"125.55\" cy=\"-34.55\" rx=\"34.59\" ry=\"34.59\"/>\n<text text-anchor=\"middle\" x=\"125.55\" y=\"-30.85\" font-family=\"Times New Roman,serif\" font-size=\"14.00\">ready</text>\n</g>\n<!-- fake&#45;&gt;ready -->\n<g id=\"edge1\" class=\"edge\">\n<title>fake-&gt;ready</title>\n<path fill=\"none\" stroke=\"black\" stroke-width=\"2\" d=\"M54.38,-34.55C62.06,-34.55 70.67,-34.55 79.17,-34.55\"/>\n<polygon fill=\"black\" stroke=\"black\" stroke-width=\"2\" points=\"77.55,-38.05 87.55,-34.55 77.55,-31.05 77.55,-38.05\"/>\n</g>\n<!-- ready&#45;&gt;ready -->\n<g id=\"edge2\" class=\"edge\">\n<title>ready-&gt;ready</title>\n<path fill=\"none\" stroke=\"black\" d=\"M115.61,-68.16C115.76,-78.74 119.07,-87.09 125.55,-87.09 129.49,-87.09 132.27,-83.99 133.86,-79.17\"/>\n<polygon fill=\"black\" stroke=\"black\" points=\"137.27,-80.06 135.27,-69.65 130.35,-79.03 137.27,-80.06\"/>\n<text text-anchor=\"middle\" x=\"125.55\" y=\"-90.89\" font-family=\"Times New Roman,serif\" font-size=\"14.00\">pick_copper_frame, 1.0, -6.0</text>\n</g>\n</g>\n</svg>"
     },
     "metadata": {},
     "output_type": "display_data"
    },
    {
     "data": {
      "text/plain": "<IPython.core.display.SVG object>",
      "image/svg+xml": "<svg xmlns=\"http://www.w3.org/2000/svg\" xmlns:xlink=\"http://www.w3.org/1999/xlink\" width=\"216pt\" height=\"110pt\" viewBox=\"0.00 0.00 216.05 110.09\">\n<g id=\"graph0\" class=\"graph\" transform=\"scale(1 1) rotate(0) translate(4 106.09)\">\n<polygon fill=\"white\" stroke=\"none\" points=\"-4,4 -4,-106.09 212.05,-106.09 212.05,4 -4,4\"/>\n<!-- fake -->\n<g id=\"node1\" class=\"node\">\n<title>fake</title>\n</g>\n<!-- ready -->\n<g id=\"node2\" class=\"node\">\n<title>ready</title>\n<ellipse fill=\"none\" stroke=\"black\" cx=\"125.55\" cy=\"-34.55\" rx=\"30.59\" ry=\"30.59\"/>\n<ellipse fill=\"none\" stroke=\"black\" cx=\"125.55\" cy=\"-34.55\" rx=\"34.59\" ry=\"34.59\"/>\n<text text-anchor=\"middle\" x=\"125.55\" y=\"-30.85\" font-family=\"Times New Roman,serif\" font-size=\"14.00\">ready</text>\n</g>\n<!-- fake&#45;&gt;ready -->\n<g id=\"edge1\" class=\"edge\">\n<title>fake-&gt;ready</title>\n<path fill=\"none\" stroke=\"black\" stroke-width=\"2\" d=\"M54.38,-34.55C62.06,-34.55 70.67,-34.55 79.17,-34.55\"/>\n<polygon fill=\"black\" stroke=\"black\" stroke-width=\"2\" points=\"77.55,-38.05 87.55,-34.55 77.55,-31.05 77.55,-38.05\"/>\n</g>\n<!-- ready&#45;&gt;ready -->\n<g id=\"edge2\" class=\"edge\">\n<title>ready-&gt;ready</title>\n<path fill=\"none\" stroke=\"black\" d=\"M115.61,-68.16C115.76,-78.74 119.07,-87.09 125.55,-87.09 129.49,-87.09 132.27,-83.99 133.86,-79.17\"/>\n<polygon fill=\"black\" stroke=\"black\" points=\"137.27,-80.06 135.27,-69.65 130.35,-79.03 137.27,-80.06\"/>\n<text text-anchor=\"middle\" x=\"125.55\" y=\"-90.89\" font-family=\"Times New Roman,serif\" font-size=\"14.00\">pick_copper_frame, 1.0, -7.8</text>\n</g>\n</g>\n</svg>"
     },
     "metadata": {},
     "output_type": "display_data"
    }
   ],
   "source": [
    "def copper_frame_warehouse_service(name: str, action_reward: float) -> Service:\n",
    "    \"\"\"Build the copper frame warehouse device.\"\"\"\n",
    "    return build_generic_service_one_state(\n",
    "        name,\n",
    "        {PICK_COPPER_FRAME},\n",
    "        action_reward=action_reward\n",
    "    )\n",
    "\n",
    "\n",
    "service_copper_frame_usa = copper_frame_warehouse_service(COPPER_FRAME_SERVICE_NAME_USA, USA_REWARD)\n",
    "service_copper_frame_china = copper_frame_warehouse_service(COPPER_FRAME_SERVICE_NAME_CHINA, CHINA_REWARD)\n",
    "service_copper_frame_peru = copper_frame_warehouse_service(COPPER_FRAME_SERVICE_NAME_PERU, PERU_REWARD)\n",
    "service_copper_frame_chile = copper_frame_warehouse_service(COPPER_FRAME_SERVICE_NAME_CHILE, CHILE_REWARD)\n",
    "render_service(service_copper_frame_usa)\n",
    "render_service(service_copper_frame_china)\n",
    "render_service(service_copper_frame_peru)\n",
    "render_service(service_copper_frame_chile)"
   ],
   "metadata": {
    "collapsed": false
   }
  },
  {
   "cell_type": "code",
   "execution_count": 16,
   "metadata": {},
   "outputs": [
    {
     "data": {
      "text/plain": "<IPython.core.display.SVG object>",
      "image/svg+xml": "<svg xmlns=\"http://www.w3.org/2000/svg\" xmlns:xlink=\"http://www.w3.org/1999/xlink\" width=\"184pt\" height=\"110pt\" viewBox=\"0.00 0.00 183.55 110.09\">\n<g id=\"graph0\" class=\"graph\" transform=\"scale(1 1) rotate(0) translate(4 106.09)\">\n<polygon fill=\"white\" stroke=\"none\" points=\"-4,4 -4,-106.09 179.55,-106.09 179.55,4 -4,4\"/>\n<!-- fake -->\n<g id=\"node1\" class=\"node\">\n<title>fake</title>\n</g>\n<!-- ready -->\n<g id=\"node2\" class=\"node\">\n<title>ready</title>\n<ellipse fill=\"none\" stroke=\"black\" cx=\"125.55\" cy=\"-34.55\" rx=\"30.59\" ry=\"30.59\"/>\n<ellipse fill=\"none\" stroke=\"black\" cx=\"125.55\" cy=\"-34.55\" rx=\"34.59\" ry=\"34.59\"/>\n<text text-anchor=\"middle\" x=\"125.55\" y=\"-30.85\" font-family=\"Times New Roman,serif\" font-size=\"14.00\">ready</text>\n</g>\n<!-- fake&#45;&gt;ready -->\n<g id=\"edge1\" class=\"edge\">\n<title>fake-&gt;ready</title>\n<path fill=\"none\" stroke=\"black\" stroke-width=\"2\" d=\"M54.38,-34.55C62.06,-34.55 70.67,-34.55 79.17,-34.55\"/>\n<polygon fill=\"black\" stroke=\"black\" stroke-width=\"2\" points=\"77.55,-38.05 87.55,-34.55 77.55,-31.05 77.55,-38.05\"/>\n</g>\n<!-- ready&#45;&gt;ready -->\n<g id=\"edge2\" class=\"edge\">\n<title>ready-&gt;ready</title>\n<path fill=\"none\" stroke=\"black\" d=\"M115.61,-68.16C115.76,-78.74 119.07,-87.09 125.55,-87.09 129.49,-87.09 132.27,-83.99 133.86,-79.17\"/>\n<polygon fill=\"black\" stroke=\"black\" points=\"137.27,-80.06 135.27,-69.65 130.35,-79.03 137.27,-80.06\"/>\n<text text-anchor=\"middle\" x=\"125.55\" y=\"-90.89\" font-family=\"Times New Roman,serif\" font-size=\"14.00\">cleaning, 1.0, -2.0</text>\n</g>\n</g>\n</svg>"
     },
     "metadata": {},
     "output_type": "display_data"
    }
   ],
   "source": [
    "def cleaning_service(name: str = CLEANING_SERVICE_NAME, action_reward: float = USA_REWARD) -> Service:\n",
    "    \"\"\"Build the human cleaning device.\"\"\"\n",
    "    return build_generic_service_one_state(\n",
    "        name,\n",
    "        {CLEANING},\n",
    "        action_reward=action_reward\n",
    "    )\n",
    "\n",
    "\n",
    "service_cleaning = cleaning_service()\n",
    "render_service(service_cleaning)\n"
   ]
  },
  {
   "cell_type": "code",
   "execution_count": 17,
   "metadata": {},
   "outputs": [
    {
     "data": {
      "text/plain": "<IPython.core.display.SVG object>",
      "image/svg+xml": "<svg xmlns=\"http://www.w3.org/2000/svg\" xmlns:xlink=\"http://www.w3.org/1999/xlink\" width=\"1535pt\" height=\"228pt\" viewBox=\"0.00 0.00 1535.38 228.09\">\n<g id=\"graph0\" class=\"graph\" transform=\"scale(1 1) rotate(0) translate(4 224.09)\">\n<polygon fill=\"white\" stroke=\"none\" points=\"-4,4 -4,-224.09 1531.38,-224.09 1531.38,4 -4,4\"/>\n<!-- fake -->\n<g id=\"node1\" class=\"node\">\n<title>fake</title>\n</g>\n<!-- ready -->\n<g id=\"node3\" class=\"node\">\n<title>ready</title>\n<ellipse fill=\"none\" stroke=\"black\" cx=\"125.55\" cy=\"-104.25\" rx=\"30.59\" ry=\"30.59\"/>\n<ellipse fill=\"none\" stroke=\"black\" cx=\"125.55\" cy=\"-104.25\" rx=\"34.59\" ry=\"34.59\"/>\n<text text-anchor=\"middle\" x=\"125.55\" y=\"-100.55\" font-family=\"Times New Roman,serif\" font-size=\"14.00\">ready</text>\n</g>\n<!-- fake&#45;&gt;ready -->\n<g id=\"edge1\" class=\"edge\">\n<title>fake-&gt;ready</title>\n<path fill=\"none\" stroke=\"black\" stroke-width=\"2\" d=\"M54.38,-104.25C62.06,-104.25 70.67,-104.25 79.17,-104.25\"/>\n<polygon fill=\"black\" stroke=\"black\" stroke-width=\"2\" points=\"77.55,-107.75 87.55,-104.25 77.55,-100.75 77.55,-107.75\"/>\n</g>\n<!-- executing -->\n<g id=\"node2\" class=\"node\">\n<title>executing</title>\n<ellipse fill=\"none\" stroke=\"black\" cx=\"857.09\" cy=\"-175.25\" rx=\"44.69\" ry=\"44.69\"/>\n<text text-anchor=\"middle\" x=\"857.09\" y=\"-171.55\" font-family=\"Times New Roman,serif\" font-size=\"14.00\">executing</text>\n</g>\n<!-- executing&#45;&gt;ready -->\n<g id=\"edge5\" class=\"edge\">\n<title>executing-&gt;ready</title>\n<path fill=\"none\" stroke=\"black\" d=\"M812.18,-177.21C727.43,-180.31 535.63,-184.06 376.09,-163.25 287.07,-151.63 264.47,-147.73 178.09,-123.25 175.14,-122.41 172.12,-121.48 169.09,-120.5\"/>\n<polygon fill=\"black\" stroke=\"black\" points=\"170.22,-117.19 159.62,-117.27 167.95,-123.81 170.22,-117.19\"/>\n<text text-anchor=\"middle\" x=\"450.09\" y=\"-179.05\" font-family=\"Times New Roman,serif\" font-size=\"14.00\">film_deposition, 0.95, -1.0</text>\n</g>\n<!-- broken -->\n<g id=\"node4\" class=\"node\">\n<title>broken</title>\n<ellipse fill=\"none\" stroke=\"black\" cx=\"1176.49\" cy=\"-97.25\" rx=\"36.29\" ry=\"36.29\"/>\n<text text-anchor=\"middle\" x=\"1176.49\" y=\"-93.55\" font-family=\"Times New Roman,serif\" font-size=\"14.00\">broken</text>\n</g>\n<!-- executing&#45;&gt;broken -->\n<g id=\"edge6\" class=\"edge\">\n<title>executing-&gt;broken</title>\n<path fill=\"none\" stroke=\"black\" d=\"M900.68,-165.18C952.91,-152.77 1044.13,-130.92 1122.09,-111.25 1124.68,-110.59 1127.34,-109.92 1130.02,-109.23\"/>\n<polygon fill=\"black\" stroke=\"black\" points=\"1130.78,-112.65 1139.58,-106.76 1129.02,-105.87 1130.78,-112.65\"/>\n<text text-anchor=\"middle\" x=\"1048.09\" y=\"-150.05\" font-family=\"Times New Roman,serif\" font-size=\"14.00\">film_deposition, 0.05, -1.0</text>\n</g>\n<!-- configured -->\n<g id=\"node5\" class=\"node\">\n<title>configured</title>\n<ellipse fill=\"none\" stroke=\"black\" cx=\"450.09\" cy=\"-104.25\" rx=\"50.09\" ry=\"50.09\"/>\n<text text-anchor=\"middle\" x=\"450.09\" y=\"-100.55\" font-family=\"Times New Roman,serif\" font-size=\"14.00\">configured</text>\n</g>\n<!-- ready&#45;&gt;configured -->\n<g id=\"edge2\" class=\"edge\">\n<title>ready-&gt;configured</title>\n<path fill=\"none\" stroke=\"black\" d=\"M160.46,-104.25C214.51,-104.25 320.96,-104.25 388.38,-104.25\"/>\n<polygon fill=\"black\" stroke=\"black\" points=\"388.16,-107.75 398.16,-104.25 388.16,-100.75 388.16,-107.75\"/>\n<text text-anchor=\"middle\" x=\"268.09\" y=\"-108.05\" font-family=\"Times New Roman,serif\" font-size=\"14.00\">config_film_deposition, 1.0, 0.0</text>\n</g>\n<!-- repairing -->\n<g id=\"node6\" class=\"node\">\n<title>repairing</title>\n<ellipse fill=\"none\" stroke=\"black\" cx=\"1485.13\" cy=\"-42.25\" rx=\"42.49\" ry=\"42.49\"/>\n<text text-anchor=\"middle\" x=\"1485.13\" y=\"-38.55\" font-family=\"Times New Roman,serif\" font-size=\"14.00\">repairing</text>\n</g>\n<!-- broken&#45;&gt;repairing -->\n<g id=\"edge7\" class=\"edge\">\n<title>broken-&gt;repairing</title>\n<path fill=\"none\" stroke=\"black\" d=\"M1212.67,-90.94C1266.35,-81.31 1369.07,-62.88 1431.61,-51.67\"/>\n<polygon fill=\"black\" stroke=\"black\" points=\"1432.09,-55.14 1441.31,-49.93 1430.85,-48.25 1432.09,-55.14\"/>\n<text text-anchor=\"middle\" x=\"1327.89\" y=\"-91.05\" font-family=\"Times New Roman,serif\" font-size=\"14.00\">restore_film_deposition, 1.0, -10.0</text>\n</g>\n<!-- configured&#45;&gt;executing -->\n<g id=\"edge3\" class=\"edge\">\n<title>configured-&gt;executing</title>\n<path fill=\"none\" stroke=\"black\" d=\"M499.95,-112.81C575.95,-126.13 721.99,-151.74 801.41,-165.66\"/>\n<polygon fill=\"black\" stroke=\"black\" points=\"800.68,-169.08 811.13,-167.36 801.89,-162.19 800.68,-169.08\"/>\n<text text-anchor=\"middle\" x=\"641.09\" y=\"-158.05\" font-family=\"Times New Roman,serif\" font-size=\"14.00\">checked_film_deposition, 0.95, 0.0</text>\n</g>\n<!-- configured&#45;&gt;broken -->\n<g id=\"edge4\" class=\"edge\">\n<title>configured-&gt;broken</title>\n<path fill=\"none\" stroke=\"black\" d=\"M500.6,-103.77C633.79,-102.48 998.47,-98.96 1128.59,-97.7\"/>\n<polygon fill=\"black\" stroke=\"black\" points=\"1128.6,-101.2 1138.56,-97.6 1128.53,-94.2 1128.6,-101.2\"/>\n<text text-anchor=\"middle\" x=\"857.09\" y=\"-105.05\" font-family=\"Times New Roman,serif\" font-size=\"14.00\">checked_film_deposition, 0.05, 0.0</text>\n</g>\n<!-- repairing&#45;&gt;ready -->\n<g id=\"edge8\" class=\"edge\">\n<title>repairing-&gt;ready</title>\n<path fill=\"none\" stroke=\"black\" d=\"M1442.51,-38.7C1383.56,-33.98 1272.38,-26.25 1177.49,-26.25 449.09,-26.25 449.09,-26.25 449.09,-26.25 346.05,-26.25 229.54,-64.32 168.68,-87.27\"/>\n<polygon fill=\"black\" stroke=\"black\" points=\"167.48,-83.98 159.4,-90.83 169.99,-90.52 167.48,-83.98\"/>\n<text text-anchor=\"middle\" x=\"857.09\" y=\"-30.05\" font-family=\"Times New Roman,serif\" font-size=\"14.00\">repaired_film_deposition, 1.0, 0.0</text>\n</g>\n</g>\n</svg>"
     },
     "metadata": {},
     "output_type": "display_data"
    },
    {
     "data": {
      "text/plain": "<IPython.core.display.SVG object>",
      "image/svg+xml": "<svg xmlns=\"http://www.w3.org/2000/svg\" xmlns:xlink=\"http://www.w3.org/1999/xlink\" width=\"1509pt\" height=\"228pt\" viewBox=\"0.00 0.00 1509.38 228.09\">\n<g id=\"graph0\" class=\"graph\" transform=\"scale(1 1) rotate(0) translate(4 224.09)\">\n<polygon fill=\"white\" stroke=\"none\" points=\"-4,4 -4,-224.09 1505.38,-224.09 1505.38,4 -4,4\"/>\n<!-- fake -->\n<g id=\"node1\" class=\"node\">\n<title>fake</title>\n</g>\n<!-- ready -->\n<g id=\"node3\" class=\"node\">\n<title>ready</title>\n<ellipse fill=\"none\" stroke=\"black\" cx=\"125.55\" cy=\"-104.25\" rx=\"30.59\" ry=\"30.59\"/>\n<ellipse fill=\"none\" stroke=\"black\" cx=\"125.55\" cy=\"-104.25\" rx=\"34.59\" ry=\"34.59\"/>\n<text text-anchor=\"middle\" x=\"125.55\" y=\"-100.55\" font-family=\"Times New Roman,serif\" font-size=\"14.00\">ready</text>\n</g>\n<!-- fake&#45;&gt;ready -->\n<g id=\"edge1\" class=\"edge\">\n<title>fake-&gt;ready</title>\n<path fill=\"none\" stroke=\"black\" stroke-width=\"2\" d=\"M54.38,-104.25C62.06,-104.25 70.67,-104.25 79.17,-104.25\"/>\n<polygon fill=\"black\" stroke=\"black\" stroke-width=\"2\" points=\"77.55,-107.75 87.55,-104.25 77.55,-100.75 77.55,-107.75\"/>\n</g>\n<!-- executing -->\n<g id=\"node2\" class=\"node\">\n<title>executing</title>\n<ellipse fill=\"none\" stroke=\"black\" cx=\"840.59\" cy=\"-175.25\" rx=\"44.69\" ry=\"44.69\"/>\n<text text-anchor=\"middle\" x=\"840.59\" y=\"-171.55\" font-family=\"Times New Roman,serif\" font-size=\"14.00\">executing</text>\n</g>\n<!-- executing&#45;&gt;ready -->\n<g id=\"edge5\" class=\"edge\">\n<title>executing-&gt;ready</title>\n<path fill=\"none\" stroke=\"black\" d=\"M795.58,-177.16C712.95,-180.09 529.13,-183.39 376.09,-163.25 287.08,-151.53 264.47,-147.73 178.09,-123.25 175.14,-122.41 172.12,-121.48 169.09,-120.5\"/>\n<polygon fill=\"black\" stroke=\"black\" points=\"170.22,-117.19 159.62,-117.27 167.95,-123.81 170.22,-117.19\"/>\n<text text-anchor=\"middle\" x=\"447.09\" y=\"-179.05\" font-family=\"Times New Roman,serif\" font-size=\"14.00\">film_deposition, 0.5, -2.0</text>\n</g>\n<!-- broken -->\n<g id=\"node4\" class=\"node\">\n<title>broken</title>\n<ellipse fill=\"none\" stroke=\"black\" cx=\"1150.49\" cy=\"-97.25\" rx=\"36.29\" ry=\"36.29\"/>\n<text text-anchor=\"middle\" x=\"1150.49\" y=\"-93.55\" font-family=\"Times New Roman,serif\" font-size=\"14.00\">broken</text>\n</g>\n<!-- executing&#45;&gt;broken -->\n<g id=\"edge6\" class=\"edge\">\n<title>executing-&gt;broken</title>\n<path fill=\"none\" stroke=\"black\" d=\"M884.41,-164.62C935.01,-152.03 1021.74,-130.34 1096.09,-111.25 1098.68,-110.58 1101.33,-109.9 1104.01,-109.2\"/>\n<polygon fill=\"black\" stroke=\"black\" points=\"1104.78,-112.62 1113.57,-106.72 1103.01,-105.85 1104.78,-112.62\"/>\n<text text-anchor=\"middle\" x=\"1025.09\" y=\"-150.05\" font-family=\"Times New Roman,serif\" font-size=\"14.00\">film_deposition, 0.5, -2.0</text>\n</g>\n<!-- configured -->\n<g id=\"node5\" class=\"node\">\n<title>configured</title>\n<ellipse fill=\"none\" stroke=\"black\" cx=\"447.09\" cy=\"-104.25\" rx=\"50.09\" ry=\"50.09\"/>\n<text text-anchor=\"middle\" x=\"447.09\" y=\"-100.55\" font-family=\"Times New Roman,serif\" font-size=\"14.00\">configured</text>\n</g>\n<!-- ready&#45;&gt;configured -->\n<g id=\"edge2\" class=\"edge\">\n<title>ready-&gt;configured</title>\n<path fill=\"none\" stroke=\"black\" d=\"M160.44,-104.25C213.97,-104.25 318.81,-104.25 385.51,-104.25\"/>\n<polygon fill=\"black\" stroke=\"black\" points=\"385.17,-107.75 395.17,-104.25 385.17,-100.75 385.17,-107.75\"/>\n<text text-anchor=\"middle\" x=\"268.09\" y=\"-108.05\" font-family=\"Times New Roman,serif\" font-size=\"14.00\">config_film_deposition, 1.0, 0.0</text>\n</g>\n<!-- repairing -->\n<g id=\"node6\" class=\"node\">\n<title>repairing</title>\n<ellipse fill=\"none\" stroke=\"black\" cx=\"1459.13\" cy=\"-42.25\" rx=\"42.49\" ry=\"42.49\"/>\n<text text-anchor=\"middle\" x=\"1459.13\" y=\"-38.55\" font-family=\"Times New Roman,serif\" font-size=\"14.00\">repairing</text>\n</g>\n<!-- broken&#45;&gt;repairing -->\n<g id=\"edge7\" class=\"edge\">\n<title>broken-&gt;repairing</title>\n<path fill=\"none\" stroke=\"black\" d=\"M1186.67,-90.94C1240.35,-81.31 1343.07,-62.88 1405.61,-51.67\"/>\n<polygon fill=\"black\" stroke=\"black\" points=\"1406.09,-55.14 1415.31,-49.93 1404.85,-48.25 1406.09,-55.14\"/>\n<text text-anchor=\"middle\" x=\"1301.89\" y=\"-91.05\" font-family=\"Times New Roman,serif\" font-size=\"14.00\">restore_film_deposition, 1.0, -10.0</text>\n</g>\n<!-- configured&#45;&gt;executing -->\n<g id=\"edge3\" class=\"edge\">\n<title>configured-&gt;executing</title>\n<path fill=\"none\" stroke=\"black\" d=\"M496.89,-113.09C570.2,-126.39 708.31,-151.44 784.92,-165.33\"/>\n<polygon fill=\"black\" stroke=\"black\" points=\"784.26,-168.77 794.72,-167.11 785.51,-161.88 784.26,-168.77\"/>\n<text text-anchor=\"middle\" x=\"631.59\" y=\"-158.05\" font-family=\"Times New Roman,serif\" font-size=\"14.00\">checked_film_deposition, 0.5, 0.0</text>\n</g>\n<!-- configured&#45;&gt;broken -->\n<g id=\"edge4\" class=\"edge\">\n<title>configured-&gt;broken</title>\n<path fill=\"none\" stroke=\"black\" d=\"M497.42,-103.75C626.99,-102.46 975.74,-98.98 1102.56,-97.71\"/>\n<polygon fill=\"black\" stroke=\"black\" points=\"1102.3,-101.22 1112.27,-97.62 1102.23,-94.22 1102.3,-101.22\"/>\n<text text-anchor=\"middle\" x=\"840.59\" y=\"-105.05\" font-family=\"Times New Roman,serif\" font-size=\"14.00\">checked_film_deposition, 0.5, 0.0</text>\n</g>\n<!-- repairing&#45;&gt;ready -->\n<g id=\"edge8\" class=\"edge\">\n<title>repairing-&gt;ready</title>\n<path fill=\"none\" stroke=\"black\" d=\"M1416.51,-38.7C1357.56,-33.98 1246.38,-26.25 1151.49,-26.25 446.09,-26.25 446.09,-26.25 446.09,-26.25 343.95,-26.25 228.55,-64.32 168.28,-87.27\"/>\n<polygon fill=\"black\" stroke=\"black\" points=\"167.16,-83.95 159.09,-90.82 169.68,-90.48 167.16,-83.95\"/>\n<text text-anchor=\"middle\" x=\"840.59\" y=\"-30.05\" font-family=\"Times New Roman,serif\" font-size=\"14.00\">repaired_film_deposition, 1.0, 0.0</text>\n</g>\n</g>\n</svg>"
     },
     "metadata": {},
     "output_type": "display_data"
    }
   ],
   "source": [
    "def film_deposition_service(name: str, broken_prob: float, unemployable_prob: float, broken_reward: float,\n",
    "                            action_reward: float) -> Service:\n",
    "    \"\"\"Build the film deposition device.\"\"\"\n",
    "    return build_complex_breakable_service(name, FILM_DEPOSITION, broken_prob=broken_prob,\n",
    "                                           unemployable_prob=unemployable_prob, broken_reward=broken_reward,\n",
    "                                           action_reward=action_reward)\n",
    "\n",
    "\n",
    "service_film_deposition1 = film_deposition_service(FILM_DEPOSITION1_SERVICE_NAME, DEFAULT_BROKEN_PROB,\n",
    "                                                   DEFAULT_UNEMPLOYABLE_PROB, DEFAULT_BROKEN_REWARD, DEFAULT_USA_REWARD)\n",
    "service_film_deposition2 = film_deposition_service(FILM_DEPOSITION2_SERVICE_NAME, BROKEN_PROB, HIGH_UNEMPLOYABLE_PROB, DEFAULT_BROKEN_REWARD, USA_REWARD)\n",
    "render_service(service_film_deposition1)\n",
    "render_service(service_film_deposition2)"
   ]
  },
  {
   "cell_type": "code",
   "execution_count": 18,
   "metadata": {},
   "outputs": [
    {
     "data": {
      "text/plain": "<IPython.core.display.SVG object>",
      "image/svg+xml": "<svg xmlns=\"http://www.w3.org/2000/svg\" xmlns:xlink=\"http://www.w3.org/1999/xlink\" width=\"1477pt\" height=\"228pt\" viewBox=\"0.00 0.00 1477.38 228.09\">\n<g id=\"graph0\" class=\"graph\" transform=\"scale(1 1) rotate(0) translate(4 224.09)\">\n<polygon fill=\"white\" stroke=\"none\" points=\"-4,4 -4,-224.09 1473.38,-224.09 1473.38,4 -4,4\"/>\n<!-- fake -->\n<g id=\"node1\" class=\"node\">\n<title>fake</title>\n</g>\n<!-- ready -->\n<g id=\"node3\" class=\"node\">\n<title>ready</title>\n<ellipse fill=\"none\" stroke=\"black\" cx=\"125.55\" cy=\"-104.25\" rx=\"30.59\" ry=\"30.59\"/>\n<ellipse fill=\"none\" stroke=\"black\" cx=\"125.55\" cy=\"-104.25\" rx=\"34.59\" ry=\"34.59\"/>\n<text text-anchor=\"middle\" x=\"125.55\" y=\"-100.55\" font-family=\"Times New Roman,serif\" font-size=\"14.00\">ready</text>\n</g>\n<!-- fake&#45;&gt;ready -->\n<g id=\"edge1\" class=\"edge\">\n<title>fake-&gt;ready</title>\n<path fill=\"none\" stroke=\"black\" stroke-width=\"2\" d=\"M54.38,-104.25C62.06,-104.25 70.67,-104.25 79.17,-104.25\"/>\n<polygon fill=\"black\" stroke=\"black\" stroke-width=\"2\" points=\"77.55,-107.75 87.55,-104.25 77.55,-100.75 77.55,-107.75\"/>\n</g>\n<!-- executing -->\n<g id=\"node2\" class=\"node\">\n<title>executing</title>\n<ellipse fill=\"none\" stroke=\"black\" cx=\"823.09\" cy=\"-175.25\" rx=\"44.69\" ry=\"44.69\"/>\n<text text-anchor=\"middle\" x=\"823.09\" y=\"-171.55\" font-family=\"Times New Roman,serif\" font-size=\"14.00\">executing</text>\n</g>\n<!-- executing&#45;&gt;ready -->\n<g id=\"edge5\" class=\"edge\">\n<title>executing-&gt;ready</title>\n<path fill=\"none\" stroke=\"black\" d=\"M778.13,-177.29C696.5,-180.38 516.14,-183.87 366.09,-163.25 281.46,-151.61 260.16,-146.97 178.09,-123.25 175.05,-122.36 171.92,-121.39 168.78,-120.36\"/>\n<polygon fill=\"black\" stroke=\"black\" points=\"170.23,-117.16 159.64,-117.22 167.96,-123.78 170.23,-117.16\"/>\n<text text-anchor=\"middle\" x=\"435.59\" y=\"-179.05\" font-family=\"Times New Roman,serif\" font-size=\"14.00\">resist_coating, 0.95, -1.0</text>\n</g>\n<!-- broken -->\n<g id=\"node4\" class=\"node\">\n<title>broken</title>\n<ellipse fill=\"none\" stroke=\"black\" cx=\"1128.49\" cy=\"-97.25\" rx=\"36.29\" ry=\"36.29\"/>\n<text text-anchor=\"middle\" x=\"1128.49\" y=\"-93.55\" font-family=\"Times New Roman,serif\" font-size=\"14.00\">broken</text>\n</g>\n<!-- executing&#45;&gt;broken -->\n<g id=\"edge6\" class=\"edge\">\n<title>executing-&gt;broken</title>\n<path fill=\"none\" stroke=\"black\" d=\"M866.58,-164.45C916.34,-151.79 1001.23,-130.12 1074.09,-111.25 1076.68,-110.58 1079.33,-109.89 1082.01,-109.19\"/>\n<polygon fill=\"black\" stroke=\"black\" points=\"1082.77,-112.61 1091.57,-106.7 1081.01,-105.83 1082.77,-112.61\"/>\n<text text-anchor=\"middle\" x=\"1004.59\" y=\"-149.05\" font-family=\"Times New Roman,serif\" font-size=\"14.00\">resist_coating, 0.05, -1.0</text>\n</g>\n<!-- configured -->\n<g id=\"node5\" class=\"node\">\n<title>configured</title>\n<ellipse fill=\"none\" stroke=\"black\" cx=\"435.59\" cy=\"-104.25\" rx=\"50.09\" ry=\"50.09\"/>\n<text text-anchor=\"middle\" x=\"435.59\" y=\"-100.55\" font-family=\"Times New Roman,serif\" font-size=\"14.00\">configured</text>\n</g>\n<!-- ready&#45;&gt;configured -->\n<g id=\"edge2\" class=\"edge\">\n<title>ready-&gt;configured</title>\n<path fill=\"none\" stroke=\"black\" d=\"M160.39,-104.25C211.67,-104.25 309.82,-104.25 373.72,-104.25\"/>\n<polygon fill=\"black\" stroke=\"black\" points=\"373.72,-107.75 383.72,-104.25 373.72,-100.75 373.72,-107.75\"/>\n<text text-anchor=\"middle\" x=\"263.09\" y=\"-108.05\" font-family=\"Times New Roman,serif\" font-size=\"14.00\">config_resist_coating, 1.0, 0.0</text>\n</g>\n<!-- repairing -->\n<g id=\"node6\" class=\"node\">\n<title>repairing</title>\n<ellipse fill=\"none\" stroke=\"black\" cx=\"1427.13\" cy=\"-42.25\" rx=\"42.49\" ry=\"42.49\"/>\n<text text-anchor=\"middle\" x=\"1427.13\" y=\"-38.55\" font-family=\"Times New Roman,serif\" font-size=\"14.00\">repairing</text>\n</g>\n<!-- broken&#45;&gt;repairing -->\n<g id=\"edge7\" class=\"edge\">\n<title>broken-&gt;repairing</title>\n<path fill=\"none\" stroke=\"black\" d=\"M1164.69,-90.72C1216.59,-81.1 1314,-63.04 1374.15,-51.88\"/>\n<polygon fill=\"black\" stroke=\"black\" points=\"1374.61,-55.36 1383.81,-50.09 1373.34,-48.48 1374.61,-55.36\"/>\n<text text-anchor=\"middle\" x=\"1274.89\" y=\"-91.05\" font-family=\"Times New Roman,serif\" font-size=\"14.00\">restore_resist_coating, 1.0, -10.0</text>\n</g>\n<!-- configured&#45;&gt;executing -->\n<g id=\"edge3\" class=\"edge\">\n<title>configured-&gt;executing</title>\n<path fill=\"none\" stroke=\"black\" d=\"M485.03,-113.17C557.16,-126.45 692.38,-151.36 767.78,-165.24\"/>\n<polygon fill=\"black\" stroke=\"black\" points=\"766.94,-168.65 777.41,-167.02 768.21,-161.76 766.94,-168.65\"/>\n<text text-anchor=\"middle\" x=\"617.09\" y=\"-158.05\" font-family=\"Times New Roman,serif\" font-size=\"14.00\">checked_resist_coating, 0.95, 0.0</text>\n</g>\n<!-- configured&#45;&gt;broken -->\n<g id=\"edge4\" class=\"edge\">\n<title>configured-&gt;broken</title>\n<path fill=\"none\" stroke=\"black\" d=\"M486,-103.75C614.06,-102.45 955.4,-98.99 1080.6,-97.72\"/>\n<polygon fill=\"black\" stroke=\"black\" points=\"1080.55,-101.22 1090.52,-97.62 1080.48,-94.22 1080.55,-101.22\"/>\n<text text-anchor=\"middle\" x=\"823.09\" y=\"-105.05\" font-family=\"Times New Roman,serif\" font-size=\"14.00\">checked_resist_coating, 0.05, 0.0</text>\n</g>\n<!-- repairing&#45;&gt;ready -->\n<g id=\"edge8\" class=\"edge\">\n<title>repairing-&gt;ready</title>\n<path fill=\"none\" stroke=\"black\" d=\"M1384.42,-38.58C1327.04,-33.85 1220.52,-26.25 1129.49,-26.25 434.59,-26.25 434.59,-26.25 434.59,-26.25 336.9,-26.25 226.96,-63.57 168.46,-86.58\"/>\n<polygon fill=\"black\" stroke=\"black\" points=\"167.21,-83.31 159.22,-90.28 169.8,-89.81 167.21,-83.31\"/>\n<text text-anchor=\"middle\" x=\"823.09\" y=\"-30.05\" font-family=\"Times New Roman,serif\" font-size=\"14.00\">repaired_resist_coating, 1.0, 0.0</text>\n</g>\n</g>\n</svg>"
     },
     "metadata": {},
     "output_type": "display_data"
    },
    {
     "data": {
      "text/plain": "<IPython.core.display.SVG object>",
      "image/svg+xml": "<svg xmlns=\"http://www.w3.org/2000/svg\" xmlns:xlink=\"http://www.w3.org/1999/xlink\" width=\"1477pt\" height=\"228pt\" viewBox=\"0.00 0.00 1477.38 228.09\">\n<g id=\"graph0\" class=\"graph\" transform=\"scale(1 1) rotate(0) translate(4 224.09)\">\n<polygon fill=\"white\" stroke=\"none\" points=\"-4,4 -4,-224.09 1473.38,-224.09 1473.38,4 -4,4\"/>\n<!-- fake -->\n<g id=\"node1\" class=\"node\">\n<title>fake</title>\n</g>\n<!-- ready -->\n<g id=\"node3\" class=\"node\">\n<title>ready</title>\n<ellipse fill=\"none\" stroke=\"black\" cx=\"125.55\" cy=\"-104.25\" rx=\"30.59\" ry=\"30.59\"/>\n<ellipse fill=\"none\" stroke=\"black\" cx=\"125.55\" cy=\"-104.25\" rx=\"34.59\" ry=\"34.59\"/>\n<text text-anchor=\"middle\" x=\"125.55\" y=\"-100.55\" font-family=\"Times New Roman,serif\" font-size=\"14.00\">ready</text>\n</g>\n<!-- fake&#45;&gt;ready -->\n<g id=\"edge1\" class=\"edge\">\n<title>fake-&gt;ready</title>\n<path fill=\"none\" stroke=\"black\" stroke-width=\"2\" d=\"M54.38,-104.25C62.06,-104.25 70.67,-104.25 79.17,-104.25\"/>\n<polygon fill=\"black\" stroke=\"black\" stroke-width=\"2\" points=\"77.55,-107.75 87.55,-104.25 77.55,-100.75 77.55,-107.75\"/>\n</g>\n<!-- executing -->\n<g id=\"node2\" class=\"node\">\n<title>executing</title>\n<ellipse fill=\"none\" stroke=\"black\" cx=\"823.09\" cy=\"-175.25\" rx=\"44.69\" ry=\"44.69\"/>\n<text text-anchor=\"middle\" x=\"823.09\" y=\"-171.55\" font-family=\"Times New Roman,serif\" font-size=\"14.00\">executing</text>\n</g>\n<!-- executing&#45;&gt;ready -->\n<g id=\"edge5\" class=\"edge\">\n<title>executing-&gt;ready</title>\n<path fill=\"none\" stroke=\"black\" d=\"M778.13,-177.29C696.5,-180.38 516.14,-183.87 366.09,-163.25 281.46,-151.61 260.16,-146.97 178.09,-123.25 175.05,-122.36 171.92,-121.39 168.78,-120.36\"/>\n<polygon fill=\"black\" stroke=\"black\" points=\"170.23,-117.16 159.64,-117.22 167.96,-123.78 170.23,-117.16\"/>\n<text text-anchor=\"middle\" x=\"435.59\" y=\"-179.05\" font-family=\"Times New Roman,serif\" font-size=\"14.00\">resist_coating, 0.95, -2.0</text>\n</g>\n<!-- broken -->\n<g id=\"node4\" class=\"node\">\n<title>broken</title>\n<ellipse fill=\"none\" stroke=\"black\" cx=\"1128.49\" cy=\"-97.25\" rx=\"36.29\" ry=\"36.29\"/>\n<text text-anchor=\"middle\" x=\"1128.49\" y=\"-93.55\" font-family=\"Times New Roman,serif\" font-size=\"14.00\">broken</text>\n</g>\n<!-- executing&#45;&gt;broken -->\n<g id=\"edge6\" class=\"edge\">\n<title>executing-&gt;broken</title>\n<path fill=\"none\" stroke=\"black\" d=\"M866.58,-164.45C916.34,-151.79 1001.23,-130.12 1074.09,-111.25 1076.68,-110.58 1079.33,-109.89 1082.01,-109.19\"/>\n<polygon fill=\"black\" stroke=\"black\" points=\"1082.77,-112.61 1091.57,-106.7 1081.01,-105.83 1082.77,-112.61\"/>\n<text text-anchor=\"middle\" x=\"1004.59\" y=\"-149.05\" font-family=\"Times New Roman,serif\" font-size=\"14.00\">resist_coating, 0.05, -2.0</text>\n</g>\n<!-- configured -->\n<g id=\"node5\" class=\"node\">\n<title>configured</title>\n<ellipse fill=\"none\" stroke=\"black\" cx=\"435.59\" cy=\"-104.25\" rx=\"50.09\" ry=\"50.09\"/>\n<text text-anchor=\"middle\" x=\"435.59\" y=\"-100.55\" font-family=\"Times New Roman,serif\" font-size=\"14.00\">configured</text>\n</g>\n<!-- ready&#45;&gt;configured -->\n<g id=\"edge2\" class=\"edge\">\n<title>ready-&gt;configured</title>\n<path fill=\"none\" stroke=\"black\" d=\"M160.39,-104.25C211.67,-104.25 309.82,-104.25 373.72,-104.25\"/>\n<polygon fill=\"black\" stroke=\"black\" points=\"373.72,-107.75 383.72,-104.25 373.72,-100.75 373.72,-107.75\"/>\n<text text-anchor=\"middle\" x=\"263.09\" y=\"-108.05\" font-family=\"Times New Roman,serif\" font-size=\"14.00\">config_resist_coating, 1.0, 0.0</text>\n</g>\n<!-- repairing -->\n<g id=\"node6\" class=\"node\">\n<title>repairing</title>\n<ellipse fill=\"none\" stroke=\"black\" cx=\"1427.13\" cy=\"-42.25\" rx=\"42.49\" ry=\"42.49\"/>\n<text text-anchor=\"middle\" x=\"1427.13\" y=\"-38.55\" font-family=\"Times New Roman,serif\" font-size=\"14.00\">repairing</text>\n</g>\n<!-- broken&#45;&gt;repairing -->\n<g id=\"edge7\" class=\"edge\">\n<title>broken-&gt;repairing</title>\n<path fill=\"none\" stroke=\"black\" d=\"M1164.69,-90.72C1216.59,-81.1 1314,-63.04 1374.15,-51.88\"/>\n<polygon fill=\"black\" stroke=\"black\" points=\"1374.61,-55.36 1383.81,-50.09 1373.34,-48.48 1374.61,-55.36\"/>\n<text text-anchor=\"middle\" x=\"1274.89\" y=\"-91.05\" font-family=\"Times New Roman,serif\" font-size=\"14.00\">restore_resist_coating, 1.0, -10.0</text>\n</g>\n<!-- configured&#45;&gt;executing -->\n<g id=\"edge3\" class=\"edge\">\n<title>configured-&gt;executing</title>\n<path fill=\"none\" stroke=\"black\" d=\"M485.03,-113.17C557.16,-126.45 692.38,-151.36 767.78,-165.24\"/>\n<polygon fill=\"black\" stroke=\"black\" points=\"766.94,-168.65 777.41,-167.02 768.21,-161.76 766.94,-168.65\"/>\n<text text-anchor=\"middle\" x=\"617.09\" y=\"-158.05\" font-family=\"Times New Roman,serif\" font-size=\"14.00\">checked_resist_coating, 0.95, 0.0</text>\n</g>\n<!-- configured&#45;&gt;broken -->\n<g id=\"edge4\" class=\"edge\">\n<title>configured-&gt;broken</title>\n<path fill=\"none\" stroke=\"black\" d=\"M486,-103.75C614.06,-102.45 955.4,-98.99 1080.6,-97.72\"/>\n<polygon fill=\"black\" stroke=\"black\" points=\"1080.55,-101.22 1090.52,-97.62 1080.48,-94.22 1080.55,-101.22\"/>\n<text text-anchor=\"middle\" x=\"823.09\" y=\"-105.05\" font-family=\"Times New Roman,serif\" font-size=\"14.00\">checked_resist_coating, 0.05, 0.0</text>\n</g>\n<!-- repairing&#45;&gt;ready -->\n<g id=\"edge8\" class=\"edge\">\n<title>repairing-&gt;ready</title>\n<path fill=\"none\" stroke=\"black\" d=\"M1384.42,-38.58C1327.04,-33.85 1220.52,-26.25 1129.49,-26.25 434.59,-26.25 434.59,-26.25 434.59,-26.25 336.9,-26.25 226.96,-63.57 168.46,-86.58\"/>\n<polygon fill=\"black\" stroke=\"black\" points=\"167.21,-83.31 159.22,-90.28 169.8,-89.81 167.21,-83.31\"/>\n<text text-anchor=\"middle\" x=\"823.09\" y=\"-30.05\" font-family=\"Times New Roman,serif\" font-size=\"14.00\">repaired_resist_coating, 1.0, 0.0</text>\n</g>\n</g>\n</svg>"
     },
     "metadata": {},
     "output_type": "display_data"
    }
   ],
   "source": [
    "def resist_coating_service(name: str, broken_prob: float, unemployable_prob: float, broken_reward: float,\n",
    "                           action_reward: float) -> Service:\n",
    "    \"\"\"Build the resist coating device.\"\"\"\n",
    "    return build_complex_breakable_service(name, RESIST_COATING, broken_prob=broken_prob,\n",
    "                                           unemployable_prob=unemployable_prob, broken_reward=broken_reward,\n",
    "                                           action_reward=action_reward)\n",
    "\n",
    "\n",
    "service_resist_coating1 = resist_coating_service(RESIST_COATING1_SERVICE_NAME, DEFAULT_BROKEN_PROB,\n",
    "                                                 DEFAULT_UNEMPLOYABLE_PROB, DEFAULT_BROKEN_REWARD, DEFAULT_USA_REWARD)\n",
    "service_resist_coating2 = resist_coating_service(RESIST_COATING2_SERVICE_NAME, DEFAULT_BROKEN_PROB,\n",
    "                                                 DEFAULT_UNEMPLOYABLE_PROB, DEFAULT_BROKEN_REWARD, USA_REWARD)\n",
    "render_service(service_resist_coating1)\n",
    "render_service(service_resist_coating2)"
   ]
  },
  {
   "cell_type": "code",
   "execution_count": 19,
   "metadata": {},
   "outputs": [
    {
     "data": {
      "text/plain": "<IPython.core.display.SVG object>",
      "image/svg+xml": "<svg xmlns=\"http://www.w3.org/2000/svg\" xmlns:xlink=\"http://www.w3.org/1999/xlink\" width=\"452pt\" height=\"164pt\" viewBox=\"0.00 0.00 451.99 163.99\">\n<g id=\"graph0\" class=\"graph\" transform=\"scale(1 1) rotate(0) translate(4 159.99)\">\n<polygon fill=\"white\" stroke=\"none\" points=\"-4,4 -4,-159.99 447.99,-159.99 447.99,4 -4,4\"/>\n<!-- fake -->\n<g id=\"node1\" class=\"node\">\n<title>fake</title>\n</g>\n<!-- available -->\n<g id=\"node4\" class=\"node\">\n<title>available</title>\n<ellipse fill=\"none\" stroke=\"black\" cx=\"136.6\" cy=\"-78.4\" rx=\"41.68\" ry=\"41.68\"/>\n<ellipse fill=\"none\" stroke=\"black\" cx=\"136.6\" cy=\"-78.4\" rx=\"45.69\" ry=\"45.69\"/>\n<text text-anchor=\"middle\" x=\"136.6\" y=\"-74.7\" font-family=\"Times New Roman,serif\" font-size=\"14.00\">available</text>\n</g>\n<!-- fake&#45;&gt;available -->\n<g id=\"edge1\" class=\"edge\">\n<title>fake-&gt;available</title>\n<path fill=\"none\" stroke=\"black\" stroke-width=\"2\" d=\"M54.32,-78.4C61.93,-78.4 70.55,-78.4 79.26,-78.4\"/>\n<polygon fill=\"black\" stroke=\"black\" stroke-width=\"2\" points=\"77.65,-81.9 87.65,-78.4 77.65,-74.9 77.65,-81.9\"/>\n</g>\n<!-- done -->\n<g id=\"node2\" class=\"node\">\n<title>done</title>\n<ellipse fill=\"none\" stroke=\"black\" cx=\"407.59\" cy=\"-127.4\" rx=\"28.7\" ry=\"28.7\"/>\n<text text-anchor=\"middle\" x=\"407.59\" y=\"-123.7\" font-family=\"Times New Roman,serif\" font-size=\"14.00\">done</text>\n</g>\n<!-- done&#45;&gt;available -->\n<g id=\"edge5\" class=\"edge\">\n<title>done-&gt;available</title>\n<path fill=\"none\" stroke=\"black\" d=\"M384.13,-110.18C375.01,-104.12 364.08,-97.93 353.19,-94.4 324.67,-85.14 247.77,-81.21 193.99,-79.56\"/>\n<polygon fill=\"black\" stroke=\"black\" points=\"194.16,-76.06 184.07,-79.27 193.96,-83.06 194.16,-76.06\"/>\n<text text-anchor=\"middle\" x=\"276.69\" y=\"-98.2\" font-family=\"Times New Roman,serif\" font-size=\"14.00\">check_exposure, 1.0, 0.0</text>\n</g>\n<!-- broken -->\n<g id=\"node3\" class=\"node\">\n<title>broken</title>\n<ellipse fill=\"none\" stroke=\"black\" cx=\"407.59\" cy=\"-36.4\" rx=\"36.29\" ry=\"36.29\"/>\n<text text-anchor=\"middle\" x=\"407.59\" y=\"-32.7\" font-family=\"Times New Roman,serif\" font-size=\"14.00\">broken</text>\n</g>\n<!-- broken&#45;&gt;available -->\n<g id=\"edge4\" class=\"edge\">\n<title>broken-&gt;available</title>\n<path fill=\"none\" stroke=\"black\" d=\"M372.75,-25.3C330.76,-13.45 257.65,0.85 200.19,-21.4 191.33,-24.83 182.94,-30.17 175.37,-36.23\"/>\n<polygon fill=\"black\" stroke=\"black\" points=\"173.27,-33.41 168,-42.61 177.85,-38.7 173.27,-33.41\"/>\n<text text-anchor=\"middle\" x=\"276.69\" y=\"-25.2\" font-family=\"Times New Roman,serif\" font-size=\"14.00\">check_exposure, 1.0, -10.0</text>\n</g>\n<!-- available&#45;&gt;done -->\n<g id=\"edge2\" class=\"edge\">\n<title>available-&gt;done</title>\n<path fill=\"none\" stroke=\"black\" d=\"M175.48,-103.05C183.37,-107.17 191.84,-110.91 200.19,-113.4 256.4,-130.1 324.87,-131.19 367.09,-129.79\"/>\n<polygon fill=\"black\" stroke=\"black\" points=\"367.17,-133.29 377.02,-129.39 366.88,-126.3 367.17,-133.29\"/>\n<text text-anchor=\"middle\" x=\"276.69\" y=\"-133.2\" font-family=\"Times New Roman,serif\" font-size=\"14.00\">exposure, 0.95, -1.0</text>\n</g>\n<!-- available&#45;&gt;broken -->\n<g id=\"edge3\" class=\"edge\">\n<title>available-&gt;broken</title>\n<path fill=\"none\" stroke=\"black\" d=\"M180.47,-65.06C187.03,-63.32 193.76,-61.69 200.19,-60.4 254.35,-49.54 317.55,-43.08 359.61,-39.65\"/>\n<polygon fill=\"black\" stroke=\"black\" points=\"359.68,-43.15 369.38,-38.88 359.13,-36.18 359.68,-43.15\"/>\n<text text-anchor=\"middle\" x=\"276.69\" y=\"-64.2\" font-family=\"Times New Roman,serif\" font-size=\"14.00\">exposure, 0.05, -1.0</text>\n</g>\n</g>\n</svg>"
     },
     "metadata": {},
     "output_type": "display_data"
    }
   ],
   "source": [
    "def exposure_service(name: str = EXPOSURE_SERVICE_NAME, broken_prob: float = DEFAULT_BROKEN_PROB,\n",
    "                     broken_reward: float = DEFAULT_BROKEN_REWARD,\n",
    "                     action_reward: float = DEFAULT_USA_REWARD) -> Service:\n",
    "    \"\"\"Build the exposure device.\"\"\"\n",
    "    return build_generic_breakable_service(name, EXPOSURE, broken_prob=broken_prob, broken_reward=broken_reward,\n",
    "                                           action_reward=action_reward)\n",
    "\n",
    "\n",
    "service_exposure = exposure_service()\n",
    "render_service(service_exposure)"
   ]
  },
  {
   "cell_type": "code",
   "execution_count": 20,
   "metadata": {},
   "outputs": [
    {
     "data": {
      "text/plain": "<IPython.core.display.SVG object>",
      "image/svg+xml": "<svg xmlns=\"http://www.w3.org/2000/svg\" xmlns:xlink=\"http://www.w3.org/1999/xlink\" width=\"1441pt\" height=\"228pt\" viewBox=\"0.00 0.00 1441.38 228.09\">\n<g id=\"graph0\" class=\"graph\" transform=\"scale(1 1) rotate(0) translate(4 224.09)\">\n<polygon fill=\"white\" stroke=\"none\" points=\"-4,4 -4,-224.09 1437.38,-224.09 1437.38,4 -4,4\"/>\n<!-- fake -->\n<g id=\"node1\" class=\"node\">\n<title>fake</title>\n</g>\n<!-- ready -->\n<g id=\"node3\" class=\"node\">\n<title>ready</title>\n<ellipse fill=\"none\" stroke=\"black\" cx=\"125.55\" cy=\"-104.25\" rx=\"30.59\" ry=\"30.59\"/>\n<ellipse fill=\"none\" stroke=\"black\" cx=\"125.55\" cy=\"-104.25\" rx=\"34.59\" ry=\"34.59\"/>\n<text text-anchor=\"middle\" x=\"125.55\" y=\"-100.55\" font-family=\"Times New Roman,serif\" font-size=\"14.00\">ready</text>\n</g>\n<!-- fake&#45;&gt;ready -->\n<g id=\"edge1\" class=\"edge\">\n<title>fake-&gt;ready</title>\n<path fill=\"none\" stroke=\"black\" stroke-width=\"2\" d=\"M54.38,-104.25C62.06,-104.25 70.67,-104.25 79.17,-104.25\"/>\n<polygon fill=\"black\" stroke=\"black\" stroke-width=\"2\" points=\"77.55,-107.75 87.55,-104.25 77.55,-100.75 77.55,-107.75\"/>\n</g>\n<!-- executing -->\n<g id=\"node2\" class=\"node\">\n<title>executing</title>\n<ellipse fill=\"none\" stroke=\"black\" cx=\"802.09\" cy=\"-175.25\" rx=\"44.69\" ry=\"44.69\"/>\n<text text-anchor=\"middle\" x=\"802.09\" y=\"-171.55\" font-family=\"Times New Roman,serif\" font-size=\"14.00\">executing</text>\n</g>\n<!-- executing&#45;&gt;ready -->\n<g id=\"edge5\" class=\"edge\">\n<title>executing-&gt;ready</title>\n<path fill=\"none\" stroke=\"black\" d=\"M757,-177.35C677.3,-180.42 504.17,-183.73 360.09,-163.25 278.1,-151.59 257.58,-146.51 178.09,-123.25 175.05,-122.35 171.92,-121.37 168.79,-120.34\"/>\n<polygon fill=\"black\" stroke=\"black\" points=\"170.24,-117.14 159.65,-117.19 167.96,-123.76 170.24,-117.14\"/>\n<text text-anchor=\"middle\" x=\"426.59\" y=\"-179.05\" font-family=\"Times New Roman,serif\" font-size=\"14.00\">development, 0.95, -1.0</text>\n</g>\n<!-- broken -->\n<g id=\"node4\" class=\"node\">\n<title>broken</title>\n<ellipse fill=\"none\" stroke=\"black\" cx=\"1098.49\" cy=\"-97.25\" rx=\"36.29\" ry=\"36.29\"/>\n<text text-anchor=\"middle\" x=\"1098.49\" y=\"-93.55\" font-family=\"Times New Roman,serif\" font-size=\"14.00\">broken</text>\n</g>\n<!-- executing&#45;&gt;broken -->\n<g id=\"edge6\" class=\"edge\">\n<title>executing-&gt;broken</title>\n<path fill=\"none\" stroke=\"black\" d=\"M845.59,-163.99C900.56,-149.42 995.92,-124.16 1052.21,-109.24\"/>\n<polygon fill=\"black\" stroke=\"black\" points=\"1053.03,-112.65 1061.8,-106.7 1051.24,-105.88 1053.03,-112.65\"/>\n<text text-anchor=\"middle\" x=\"977.59\" y=\"-149.05\" font-family=\"Times New Roman,serif\" font-size=\"14.00\">development, 0.05, -1.0</text>\n</g>\n<!-- configured -->\n<g id=\"node5\" class=\"node\">\n<title>configured</title>\n<ellipse fill=\"none\" stroke=\"black\" cx=\"426.59\" cy=\"-104.25\" rx=\"50.09\" ry=\"50.09\"/>\n<text text-anchor=\"middle\" x=\"426.59\" y=\"-100.55\" font-family=\"Times New Roman,serif\" font-size=\"14.00\">configured</text>\n</g>\n<!-- ready&#45;&gt;configured -->\n<g id=\"edge2\" class=\"edge\">\n<title>ready-&gt;configured</title>\n<path fill=\"none\" stroke=\"black\" d=\"M160.56,-104.25C210.18,-104.25 303.18,-104.25 364.76,-104.25\"/>\n<polygon fill=\"black\" stroke=\"black\" points=\"364.74,-107.75 374.74,-104.25 364.74,-100.75 364.74,-107.75\"/>\n<text text-anchor=\"middle\" x=\"260.09\" y=\"-108.05\" font-family=\"Times New Roman,serif\" font-size=\"14.00\">config_development, 1.0, 0.0</text>\n</g>\n<!-- repairing -->\n<g id=\"node6\" class=\"node\">\n<title>repairing</title>\n<ellipse fill=\"none\" stroke=\"black\" cx=\"1391.13\" cy=\"-42.25\" rx=\"42.49\" ry=\"42.49\"/>\n<text text-anchor=\"middle\" x=\"1391.13\" y=\"-38.55\" font-family=\"Times New Roman,serif\" font-size=\"14.00\">repairing</text>\n</g>\n<!-- broken&#45;&gt;repairing -->\n<g id=\"edge7\" class=\"edge\">\n<title>broken-&gt;repairing</title>\n<path fill=\"none\" stroke=\"black\" d=\"M1134.55,-90.61C1185.08,-81.05 1278.76,-63.32 1337.59,-52.19\"/>\n<polygon fill=\"black\" stroke=\"black\" points=\"1338.2,-55.64 1347.38,-50.34 1336.9,-48.76 1338.2,-55.64\"/>\n<text text-anchor=\"middle\" x=\"1241.89\" y=\"-91.05\" font-family=\"Times New Roman,serif\" font-size=\"14.00\">restore_development, 1.0, -10.0</text>\n</g>\n<!-- configured&#45;&gt;executing -->\n<g id=\"edge3\" class=\"edge\">\n<title>configured-&gt;executing</title>\n<path fill=\"none\" stroke=\"black\" d=\"M476.04,-113.46C545.74,-126.7 673.91,-151.07 746.75,-164.92\"/>\n<polygon fill=\"black\" stroke=\"black\" points=\"745.98,-168.33 756.46,-166.76 747.29,-161.46 745.98,-168.33\"/>\n<text text-anchor=\"middle\" x=\"602.09\" y=\"-158.05\" font-family=\"Times New Roman,serif\" font-size=\"14.00\">checked_development, 0.95, 0.0</text>\n</g>\n<!-- configured&#45;&gt;broken -->\n<g id=\"edge4\" class=\"edge\">\n<title>configured-&gt;broken</title>\n<path fill=\"none\" stroke=\"black\" d=\"M477.13,-103.73C602.04,-102.42 928.63,-99.01 1050.62,-97.74\"/>\n<polygon fill=\"black\" stroke=\"black\" points=\"1050.3,-101.24 1060.26,-97.64 1050.23,-94.24 1050.3,-101.24\"/>\n<text text-anchor=\"middle\" x=\"802.09\" y=\"-105.05\" font-family=\"Times New Roman,serif\" font-size=\"14.00\">checked_development, 0.05, 0.0</text>\n</g>\n<!-- repairing&#45;&gt;ready -->\n<g id=\"edge8\" class=\"edge\">\n<title>repairing-&gt;ready</title>\n<path fill=\"none\" stroke=\"black\" d=\"M1348.78,-38.54C1292.45,-33.81 1188.43,-26.25 1099.49,-26.25 425.59,-26.25 425.59,-26.25 425.59,-26.25 331.08,-26.25 225.05,-63.18 168.1,-86.21\"/>\n<polygon fill=\"black\" stroke=\"black\" points=\"167.03,-82.87 159.11,-89.91 169.69,-89.34 167.03,-82.87\"/>\n<text text-anchor=\"middle\" x=\"802.09\" y=\"-30.05\" font-family=\"Times New Roman,serif\" font-size=\"14.00\">repaired_development, 1.0, 0.0</text>\n</g>\n</g>\n</svg>"
     },
     "metadata": {},
     "output_type": "display_data"
    },
    {
     "data": {
      "text/plain": "<IPython.core.display.SVG object>",
      "image/svg+xml": "<svg xmlns=\"http://www.w3.org/2000/svg\" xmlns:xlink=\"http://www.w3.org/1999/xlink\" width=\"1427pt\" height=\"228pt\" viewBox=\"0.00 0.00 1427.38 228.09\">\n<g id=\"graph0\" class=\"graph\" transform=\"scale(1 1) rotate(0) translate(4 224.09)\">\n<polygon fill=\"white\" stroke=\"none\" points=\"-4,4 -4,-224.09 1423.38,-224.09 1423.38,4 -4,4\"/>\n<!-- fake -->\n<g id=\"node1\" class=\"node\">\n<title>fake</title>\n</g>\n<!-- ready -->\n<g id=\"node3\" class=\"node\">\n<title>ready</title>\n<ellipse fill=\"none\" stroke=\"black\" cx=\"125.55\" cy=\"-104.25\" rx=\"30.59\" ry=\"30.59\"/>\n<ellipse fill=\"none\" stroke=\"black\" cx=\"125.55\" cy=\"-104.25\" rx=\"34.59\" ry=\"34.59\"/>\n<text text-anchor=\"middle\" x=\"125.55\" y=\"-100.55\" font-family=\"Times New Roman,serif\" font-size=\"14.00\">ready</text>\n</g>\n<!-- fake&#45;&gt;ready -->\n<g id=\"edge1\" class=\"edge\">\n<title>fake-&gt;ready</title>\n<path fill=\"none\" stroke=\"black\" stroke-width=\"2\" d=\"M54.38,-104.25C62.06,-104.25 70.67,-104.25 79.17,-104.25\"/>\n<polygon fill=\"black\" stroke=\"black\" stroke-width=\"2\" points=\"77.55,-107.75 87.55,-104.25 77.55,-100.75 77.55,-107.75\"/>\n</g>\n<!-- executing -->\n<g id=\"node2\" class=\"node\">\n<title>executing</title>\n<ellipse fill=\"none\" stroke=\"black\" cx=\"795.09\" cy=\"-175.25\" rx=\"44.69\" ry=\"44.69\"/>\n<text text-anchor=\"middle\" x=\"795.09\" y=\"-171.55\" font-family=\"Times New Roman,serif\" font-size=\"14.00\">executing</text>\n</g>\n<!-- executing&#45;&gt;ready -->\n<g id=\"edge5\" class=\"edge\">\n<title>executing-&gt;ready</title>\n<path fill=\"none\" stroke=\"black\" d=\"M750.07,-177.35C671.36,-180.39 501.48,-183.58 360.09,-163.25 278.12,-151.46 257.58,-146.51 178.09,-123.25 175.05,-122.35 171.92,-121.37 168.79,-120.34\"/>\n<polygon fill=\"black\" stroke=\"black\" points=\"170.24,-117.14 159.65,-117.19 167.96,-123.76 170.24,-117.14\"/>\n<text text-anchor=\"middle\" x=\"423.09\" y=\"-179.05\" font-family=\"Times New Roman,serif\" font-size=\"14.00\">development, 0.5, -5.0</text>\n</g>\n<!-- broken -->\n<g id=\"node4\" class=\"node\">\n<title>broken</title>\n<ellipse fill=\"none\" stroke=\"black\" cx=\"1084.49\" cy=\"-97.25\" rx=\"36.29\" ry=\"36.29\"/>\n<text text-anchor=\"middle\" x=\"1084.49\" y=\"-93.55\" font-family=\"Times New Roman,serif\" font-size=\"14.00\">broken</text>\n</g>\n<!-- executing&#45;&gt;broken -->\n<g id=\"edge6\" class=\"edge\">\n<title>executing-&gt;broken</title>\n<path fill=\"none\" stroke=\"black\" d=\"M838.5,-163.74C891.97,-149.23 983.49,-124.39 1038.26,-109.52\"/>\n<polygon fill=\"black\" stroke=\"black\" points=\"1038.84,-112.99 1047.57,-107 1037,-106.24 1038.84,-112.99\"/>\n<text text-anchor=\"middle\" x=\"967.09\" y=\"-149.05\" font-family=\"Times New Roman,serif\" font-size=\"14.00\">development, 0.5, -5.0</text>\n</g>\n<!-- configured -->\n<g id=\"node5\" class=\"node\">\n<title>configured</title>\n<ellipse fill=\"none\" stroke=\"black\" cx=\"423.09\" cy=\"-104.25\" rx=\"50.09\" ry=\"50.09\"/>\n<text text-anchor=\"middle\" x=\"423.09\" y=\"-100.55\" font-family=\"Times New Roman,serif\" font-size=\"14.00\">configured</text>\n</g>\n<!-- ready&#45;&gt;configured -->\n<g id=\"edge2\" class=\"edge\">\n<title>ready-&gt;configured</title>\n<path fill=\"none\" stroke=\"black\" d=\"M160.45,-104.25C209.38,-104.25 300.57,-104.25 361.31,-104.25\"/>\n<polygon fill=\"black\" stroke=\"black\" points=\"361.14,-107.75 371.14,-104.25 361.14,-100.75 361.14,-107.75\"/>\n<text text-anchor=\"middle\" x=\"260.09\" y=\"-108.05\" font-family=\"Times New Roman,serif\" font-size=\"14.00\">config_development, 1.0, 0.0</text>\n</g>\n<!-- repairing -->\n<g id=\"node6\" class=\"node\">\n<title>repairing</title>\n<ellipse fill=\"none\" stroke=\"black\" cx=\"1377.13\" cy=\"-42.25\" rx=\"42.49\" ry=\"42.49\"/>\n<text text-anchor=\"middle\" x=\"1377.13\" y=\"-38.55\" font-family=\"Times New Roman,serif\" font-size=\"14.00\">repairing</text>\n</g>\n<!-- broken&#45;&gt;repairing -->\n<g id=\"edge7\" class=\"edge\">\n<title>broken-&gt;repairing</title>\n<path fill=\"none\" stroke=\"black\" d=\"M1120.55,-90.61C1171.08,-81.05 1264.76,-63.32 1323.59,-52.19\"/>\n<polygon fill=\"black\" stroke=\"black\" points=\"1324.2,-55.64 1333.38,-50.34 1322.9,-48.76 1324.2,-55.64\"/>\n<text text-anchor=\"middle\" x=\"1227.89\" y=\"-91.05\" font-family=\"Times New Roman,serif\" font-size=\"14.00\">restore_development, 1.0, -10.0</text>\n</g>\n<!-- configured&#45;&gt;executing -->\n<g id=\"edge3\" class=\"edge\">\n<title>configured-&gt;executing</title>\n<path fill=\"none\" stroke=\"black\" d=\"M472.47,-113.53C541.45,-126.77 667.69,-150.99 739.8,-164.83\"/>\n<polygon fill=\"black\" stroke=\"black\" points=\"738.92,-168.22 749.4,-166.67 740.24,-161.35 738.92,-168.22\"/>\n<text text-anchor=\"middle\" x=\"595.09\" y=\"-158.05\" font-family=\"Times New Roman,serif\" font-size=\"14.00\">checked_development, 0.95, 0.0</text>\n</g>\n<!-- configured&#45;&gt;broken -->\n<g id=\"edge4\" class=\"edge\">\n<title>configured-&gt;broken</title>\n<path fill=\"none\" stroke=\"black\" d=\"M473.66,-103.72C596.99,-102.41 916.41,-99.02 1036.72,-97.74\"/>\n<polygon fill=\"black\" stroke=\"black\" points=\"1036.59,-101.24 1046.55,-97.64 1036.52,-94.24 1036.59,-101.24\"/>\n<text text-anchor=\"middle\" x=\"795.09\" y=\"-105.05\" font-family=\"Times New Roman,serif\" font-size=\"14.00\">checked_development, 0.05, 0.0</text>\n</g>\n<!-- repairing&#45;&gt;ready -->\n<g id=\"edge8\" class=\"edge\">\n<title>repairing-&gt;ready</title>\n<path fill=\"none\" stroke=\"black\" d=\"M1334.78,-38.54C1278.45,-33.81 1174.43,-26.25 1085.49,-26.25 422.09,-26.25 422.09,-26.25 422.09,-26.25 328.81,-26.25 224.29,-63.02 167.94,-86.07\"/>\n<polygon fill=\"black\" stroke=\"black\" points=\"166.62,-82.83 158.73,-89.9 169.31,-89.29 166.62,-82.83\"/>\n<text text-anchor=\"middle\" x=\"795.09\" y=\"-30.05\" font-family=\"Times New Roman,serif\" font-size=\"14.00\">repaired_development, 1.0, 0.0</text>\n</g>\n</g>\n</svg>"
     },
     "metadata": {},
     "output_type": "display_data"
    }
   ],
   "source": [
    "def development_service(name: str, broken_prob: float, unemployable_prob: float, broken_reward: float,\n",
    "                        action_reward: float) -> Service:\n",
    "    \"\"\"Build the development device.\"\"\"\n",
    "    return build_complex_breakable_service(name, DEVELOPMENT, broken_prob=broken_prob,\n",
    "                                           unemployable_prob=unemployable_prob, broken_reward=broken_reward,\n",
    "                                           action_reward=action_reward)\n",
    "\n",
    "\n",
    "service_development1 = development_service(DEVELOPMENT1_SERVICE_NAME, DEFAULT_BROKEN_PROB, DEFAULT_UNEMPLOYABLE_PROB,\n",
    "                                           DEFAULT_BROKEN_REWARD, DEFAULT_USA_REWARD)\n",
    "service_development2 = development_service(DEVELOPMENT2_SERVICE_NAME, BROKEN_PROB, DEFAULT_UNEMPLOYABLE_PROB, DEFAULT_BROKEN_REWARD, HIGH_USA_REWARD)\n",
    "render_service(service_development1)\n",
    "render_service(service_development2)\n"
   ]
  },
  {
   "cell_type": "code",
   "execution_count": 21,
   "metadata": {},
   "outputs": [
    {
     "data": {
      "text/plain": "<IPython.core.display.SVG object>",
      "image/svg+xml": "<svg xmlns=\"http://www.w3.org/2000/svg\" xmlns:xlink=\"http://www.w3.org/1999/xlink\" width=\"441pt\" height=\"164pt\" viewBox=\"0.00 0.00 440.99 163.99\">\n<g id=\"graph0\" class=\"graph\" transform=\"scale(1 1) rotate(0) translate(4 159.99)\">\n<polygon fill=\"white\" stroke=\"none\" points=\"-4,4 -4,-159.99 436.99,-159.99 436.99,4 -4,4\"/>\n<!-- fake -->\n<g id=\"node1\" class=\"node\">\n<title>fake</title>\n</g>\n<!-- available -->\n<g id=\"node4\" class=\"node\">\n<title>available</title>\n<ellipse fill=\"none\" stroke=\"black\" cx=\"136.6\" cy=\"-78.4\" rx=\"41.68\" ry=\"41.68\"/>\n<ellipse fill=\"none\" stroke=\"black\" cx=\"136.6\" cy=\"-78.4\" rx=\"45.69\" ry=\"45.69\"/>\n<text text-anchor=\"middle\" x=\"136.6\" y=\"-74.7\" font-family=\"Times New Roman,serif\" font-size=\"14.00\">available</text>\n</g>\n<!-- fake&#45;&gt;available -->\n<g id=\"edge1\" class=\"edge\">\n<title>fake-&gt;available</title>\n<path fill=\"none\" stroke=\"black\" stroke-width=\"2\" d=\"M54.32,-78.4C61.93,-78.4 70.55,-78.4 79.26,-78.4\"/>\n<polygon fill=\"black\" stroke=\"black\" stroke-width=\"2\" points=\"77.65,-81.9 87.65,-78.4 77.65,-74.9 77.65,-81.9\"/>\n</g>\n<!-- done -->\n<g id=\"node2\" class=\"node\">\n<title>done</title>\n<ellipse fill=\"none\" stroke=\"black\" cx=\"396.59\" cy=\"-127.4\" rx=\"28.7\" ry=\"28.7\"/>\n<text text-anchor=\"middle\" x=\"396.59\" y=\"-123.7\" font-family=\"Times New Roman,serif\" font-size=\"14.00\">done</text>\n</g>\n<!-- done&#45;&gt;available -->\n<g id=\"edge5\" class=\"edge\">\n<title>done-&gt;available</title>\n<path fill=\"none\" stroke=\"black\" d=\"M373.13,-110.21C364.01,-104.14 353.07,-97.95 342.19,-94.4 293.9,-78.62 235.93,-75.45 194.04,-75.75\"/>\n<polygon fill=\"black\" stroke=\"black\" points=\"194.14,-72.24 184.19,-75.89 194.24,-79.24 194.14,-72.24\"/>\n<text text-anchor=\"middle\" x=\"271.19\" y=\"-98.2\" font-family=\"Times New Roman,serif\" font-size=\"14.00\">check_etching, 1.0, 0.0</text>\n</g>\n<!-- broken -->\n<g id=\"node3\" class=\"node\">\n<title>broken</title>\n<ellipse fill=\"none\" stroke=\"black\" cx=\"396.59\" cy=\"-36.4\" rx=\"36.29\" ry=\"36.29\"/>\n<text text-anchor=\"middle\" x=\"396.59\" y=\"-32.7\" font-family=\"Times New Roman,serif\" font-size=\"14.00\">broken</text>\n</g>\n<!-- broken&#45;&gt;available -->\n<g id=\"edge4\" class=\"edge\">\n<title>broken-&gt;available</title>\n<path fill=\"none\" stroke=\"black\" d=\"M361.47,-25.44C321.44,-14.48 253.73,-1.95 200.19,-22.4 191.48,-25.73 183.21,-30.89 175.71,-36.76\"/>\n<polygon fill=\"black\" stroke=\"black\" points=\"173.8,-33.79 168.43,-42.93 178.32,-39.13 173.8,-33.79\"/>\n<text text-anchor=\"middle\" x=\"271.19\" y=\"-26.2\" font-family=\"Times New Roman,serif\" font-size=\"14.00\">check_etching, 1.0, -10.0</text>\n</g>\n<!-- available&#45;&gt;done -->\n<g id=\"edge2\" class=\"edge\">\n<title>available-&gt;done</title>\n<path fill=\"none\" stroke=\"black\" d=\"M175.49,-103.02C183.38,-107.15 191.84,-110.9 200.19,-113.4 252.57,-129.07 316.21,-130.58 356.32,-129.53\"/>\n<polygon fill=\"black\" stroke=\"black\" points=\"356.34,-133.03 366.21,-129.2 356.1,-126.04 356.34,-133.03\"/>\n<text text-anchor=\"middle\" x=\"271.19\" y=\"-133.2\" font-family=\"Times New Roman,serif\" font-size=\"14.00\">etching, 0.95, -1.0</text>\n</g>\n<!-- available&#45;&gt;broken -->\n<g id=\"edge3\" class=\"edge\">\n<title>available-&gt;broken</title>\n<path fill=\"none\" stroke=\"black\" d=\"M180.48,-65.1C187.04,-63.35 193.77,-61.71 200.19,-60.4 250.38,-50.17 308.76,-43.69 348.55,-40.08\"/>\n<polygon fill=\"black\" stroke=\"black\" points=\"348.86,-43.56 358.51,-39.2 348.24,-36.59 348.86,-43.56\"/>\n<text text-anchor=\"middle\" x=\"271.19\" y=\"-64.2\" font-family=\"Times New Roman,serif\" font-size=\"14.00\">etching, 0.05, -1.0</text>\n</g>\n</g>\n</svg>"
     },
     "metadata": {},
     "output_type": "display_data"
    },
    {
     "data": {
      "text/plain": "<IPython.core.display.SVG object>",
      "image/svg+xml": "<svg xmlns=\"http://www.w3.org/2000/svg\" xmlns:xlink=\"http://www.w3.org/1999/xlink\" width=\"441pt\" height=\"164pt\" viewBox=\"0.00 0.00 440.99 163.99\">\n<g id=\"graph0\" class=\"graph\" transform=\"scale(1 1) rotate(0) translate(4 159.99)\">\n<polygon fill=\"white\" stroke=\"none\" points=\"-4,4 -4,-159.99 436.99,-159.99 436.99,4 -4,4\"/>\n<!-- fake -->\n<g id=\"node1\" class=\"node\">\n<title>fake</title>\n</g>\n<!-- available -->\n<g id=\"node4\" class=\"node\">\n<title>available</title>\n<ellipse fill=\"none\" stroke=\"black\" cx=\"136.6\" cy=\"-78.4\" rx=\"41.68\" ry=\"41.68\"/>\n<ellipse fill=\"none\" stroke=\"black\" cx=\"136.6\" cy=\"-78.4\" rx=\"45.69\" ry=\"45.69\"/>\n<text text-anchor=\"middle\" x=\"136.6\" y=\"-74.7\" font-family=\"Times New Roman,serif\" font-size=\"14.00\">available</text>\n</g>\n<!-- fake&#45;&gt;available -->\n<g id=\"edge1\" class=\"edge\">\n<title>fake-&gt;available</title>\n<path fill=\"none\" stroke=\"black\" stroke-width=\"2\" d=\"M54.32,-78.4C61.93,-78.4 70.55,-78.4 79.26,-78.4\"/>\n<polygon fill=\"black\" stroke=\"black\" stroke-width=\"2\" points=\"77.65,-81.9 87.65,-78.4 77.65,-74.9 77.65,-81.9\"/>\n</g>\n<!-- done -->\n<g id=\"node2\" class=\"node\">\n<title>done</title>\n<ellipse fill=\"none\" stroke=\"black\" cx=\"396.59\" cy=\"-127.4\" rx=\"28.7\" ry=\"28.7\"/>\n<text text-anchor=\"middle\" x=\"396.59\" y=\"-123.7\" font-family=\"Times New Roman,serif\" font-size=\"14.00\">done</text>\n</g>\n<!-- done&#45;&gt;available -->\n<g id=\"edge5\" class=\"edge\">\n<title>done-&gt;available</title>\n<path fill=\"none\" stroke=\"black\" d=\"M373.13,-110.21C364.01,-104.14 353.07,-97.95 342.19,-94.4 293.9,-78.62 235.93,-75.45 194.04,-75.75\"/>\n<polygon fill=\"black\" stroke=\"black\" points=\"194.14,-72.24 184.19,-75.89 194.24,-79.24 194.14,-72.24\"/>\n<text text-anchor=\"middle\" x=\"271.19\" y=\"-98.2\" font-family=\"Times New Roman,serif\" font-size=\"14.00\">check_etching, 1.0, 0.0</text>\n</g>\n<!-- broken -->\n<g id=\"node3\" class=\"node\">\n<title>broken</title>\n<ellipse fill=\"none\" stroke=\"black\" cx=\"396.59\" cy=\"-36.4\" rx=\"36.29\" ry=\"36.29\"/>\n<text text-anchor=\"middle\" x=\"396.59\" y=\"-32.7\" font-family=\"Times New Roman,serif\" font-size=\"14.00\">broken</text>\n</g>\n<!-- broken&#45;&gt;available -->\n<g id=\"edge4\" class=\"edge\">\n<title>broken-&gt;available</title>\n<path fill=\"none\" stroke=\"black\" d=\"M361.47,-25.44C321.44,-14.48 253.73,-1.95 200.19,-22.4 191.48,-25.73 183.21,-30.89 175.71,-36.76\"/>\n<polygon fill=\"black\" stroke=\"black\" points=\"173.8,-33.79 168.43,-42.93 178.32,-39.13 173.8,-33.79\"/>\n<text text-anchor=\"middle\" x=\"271.19\" y=\"-26.2\" font-family=\"Times New Roman,serif\" font-size=\"14.00\">check_etching, 1.0, -10.0</text>\n</g>\n<!-- available&#45;&gt;done -->\n<g id=\"edge2\" class=\"edge\">\n<title>available-&gt;done</title>\n<path fill=\"none\" stroke=\"black\" d=\"M175.49,-103.02C183.38,-107.15 191.84,-110.9 200.19,-113.4 252.57,-129.07 316.21,-130.58 356.32,-129.53\"/>\n<polygon fill=\"black\" stroke=\"black\" points=\"356.34,-133.03 366.21,-129.2 356.1,-126.04 356.34,-133.03\"/>\n<text text-anchor=\"middle\" x=\"271.19\" y=\"-133.2\" font-family=\"Times New Roman,serif\" font-size=\"14.00\">etching, 0.5, -5.0</text>\n</g>\n<!-- available&#45;&gt;broken -->\n<g id=\"edge3\" class=\"edge\">\n<title>available-&gt;broken</title>\n<path fill=\"none\" stroke=\"black\" d=\"M180.48,-65.1C187.04,-63.35 193.77,-61.71 200.19,-60.4 250.38,-50.17 308.76,-43.69 348.55,-40.08\"/>\n<polygon fill=\"black\" stroke=\"black\" points=\"348.86,-43.56 358.51,-39.2 348.24,-36.59 348.86,-43.56\"/>\n<text text-anchor=\"middle\" x=\"271.19\" y=\"-64.2\" font-family=\"Times New Roman,serif\" font-size=\"14.00\">etching, 0.5, -5.0</text>\n</g>\n</g>\n</svg>"
     },
     "metadata": {},
     "output_type": "display_data"
    }
   ],
   "source": [
    "def etching_service(name: str, broken_prob: float, broken_reward: float, action_reward: float) -> Service:\n",
    "    \"\"\"Build the etching device.\"\"\"\n",
    "    return build_generic_breakable_service(name, ETCHING, broken_prob=broken_prob, broken_reward=broken_reward,\n",
    "                                           action_reward=action_reward)\n",
    "\n",
    "\n",
    "service_etching1 = etching_service(ETCHING1_SERVICE_NAME, DEFAULT_BROKEN_PROB, DEFAULT_BROKEN_REWARD,\n",
    "                                   DEFAULT_USA_REWARD)\n",
    "service_etching2 = etching_service(ETCHING2_SERVICE_NAME, BROKEN_PROB, DEFAULT_BROKEN_REWARD, HIGH_USA_REWARD)\n",
    "render_service(service_etching1)\n",
    "render_service(service_etching2)\n"
   ]
  },
  {
   "cell_type": "code",
   "execution_count": 22,
   "metadata": {},
   "outputs": [
    {
     "data": {
      "text/plain": "<IPython.core.display.SVG object>",
      "image/svg+xml": "<svg xmlns=\"http://www.w3.org/2000/svg\" xmlns:xlink=\"http://www.w3.org/1999/xlink\" width=\"1787pt\" height=\"228pt\" viewBox=\"0.00 0.00 1787.38 228.09\">\n<g id=\"graph0\" class=\"graph\" transform=\"scale(1 1) rotate(0) translate(4 224.09)\">\n<polygon fill=\"white\" stroke=\"none\" points=\"-4,4 -4,-224.09 1783.38,-224.09 1783.38,4 -4,4\"/>\n<!-- fake -->\n<g id=\"node1\" class=\"node\">\n<title>fake</title>\n</g>\n<!-- ready -->\n<g id=\"node3\" class=\"node\">\n<title>ready</title>\n<ellipse fill=\"none\" stroke=\"black\" cx=\"125.55\" cy=\"-104.25\" rx=\"30.59\" ry=\"30.59\"/>\n<ellipse fill=\"none\" stroke=\"black\" cx=\"125.55\" cy=\"-104.25\" rx=\"34.59\" ry=\"34.59\"/>\n<text text-anchor=\"middle\" x=\"125.55\" y=\"-100.55\" font-family=\"Times New Roman,serif\" font-size=\"14.00\">ready</text>\n</g>\n<!-- fake&#45;&gt;ready -->\n<g id=\"edge1\" class=\"edge\">\n<title>fake-&gt;ready</title>\n<path fill=\"none\" stroke=\"black\" stroke-width=\"2\" d=\"M54.38,-104.25C62.06,-104.25 70.67,-104.25 79.17,-104.25\"/>\n<polygon fill=\"black\" stroke=\"black\" stroke-width=\"2\" points=\"77.55,-107.75 87.55,-104.25 77.55,-100.75 77.55,-107.75\"/>\n</g>\n<!-- executing -->\n<g id=\"node2\" class=\"node\">\n<title>executing</title>\n<ellipse fill=\"none\" stroke=\"black\" cx=\"1004.09\" cy=\"-175.25\" rx=\"44.69\" ry=\"44.69\"/>\n<text text-anchor=\"middle\" x=\"1004.09\" y=\"-171.55\" font-family=\"Times New Roman,serif\" font-size=\"14.00\">executing</text>\n</g>\n<!-- executing&#45;&gt;ready -->\n<g id=\"edge5\" class=\"edge\">\n<title>executing-&gt;ready</title>\n<path fill=\"none\" stroke=\"black\" d=\"M959.27,-176.91C861.71,-180.06 619.35,-184.78 418.09,-163.25 310.57,-151.74 282.62,-150.96 178.09,-123.25 175.13,-122.46 172.09,-121.57 169.05,-120.62\"/>\n<polygon fill=\"black\" stroke=\"black\" points=\"170.17,-117.3 159.58,-117.44 167.94,-123.94 170.17,-117.3\"/>\n<text text-anchor=\"middle\" x=\"513.09\" y=\"-180.05\" font-family=\"Times New Roman,serif\" font-size=\"14.00\">impurities_implantation, 0.95, -1.0</text>\n</g>\n<!-- broken -->\n<g id=\"node4\" class=\"node\">\n<title>broken</title>\n<ellipse fill=\"none\" stroke=\"black\" cx=\"1386.49\" cy=\"-97.25\" rx=\"36.29\" ry=\"36.29\"/>\n<text text-anchor=\"middle\" x=\"1386.49\" y=\"-93.55\" font-family=\"Times New Roman,serif\" font-size=\"14.00\">broken</text>\n</g>\n<!-- executing&#45;&gt;broken -->\n<g id=\"edge6\" class=\"edge\">\n<title>executing-&gt;broken</title>\n<path fill=\"none\" stroke=\"black\" d=\"M1048.39,-167.67C1111.17,-156.49 1231.01,-134.37 1332.09,-111.25 1334.7,-110.65 1337.36,-110.02 1340.05,-109.37\"/>\n<polygon fill=\"black\" stroke=\"black\" points=\"1340.78,-112.79 1349.63,-106.97 1339.08,-106 1340.78,-112.79\"/>\n<text text-anchor=\"middle\" x=\"1237.09\" y=\"-153.05\" font-family=\"Times New Roman,serif\" font-size=\"14.00\">impurities_implantation, 0.05, -1.0</text>\n</g>\n<!-- configured -->\n<g id=\"node5\" class=\"node\">\n<title>configured</title>\n<ellipse fill=\"none\" stroke=\"black\" cx=\"513.09\" cy=\"-104.25\" rx=\"50.09\" ry=\"50.09\"/>\n<text text-anchor=\"middle\" x=\"513.09\" y=\"-100.55\" font-family=\"Times New Roman,serif\" font-size=\"14.00\">configured</text>\n</g>\n<!-- ready&#45;&gt;configured -->\n<g id=\"edge2\" class=\"edge\">\n<title>ready-&gt;configured</title>\n<path fill=\"none\" stroke=\"black\" d=\"M160.42,-104.25C225.55,-104.25 369.05,-104.25 451.19,-104.25\"/>\n<polygon fill=\"black\" stroke=\"black\" points=\"451.09,-107.75 461.09,-104.25 451.09,-100.75 451.09,-107.75\"/>\n<text text-anchor=\"middle\" x=\"289.09\" y=\"-108.05\" font-family=\"Times New Roman,serif\" font-size=\"14.00\">config_impurities_implantation, 1.0, 0.0</text>\n</g>\n<!-- repairing -->\n<g id=\"node6\" class=\"node\">\n<title>repairing</title>\n<ellipse fill=\"none\" stroke=\"black\" cx=\"1737.13\" cy=\"-42.25\" rx=\"42.49\" ry=\"42.49\"/>\n<text text-anchor=\"middle\" x=\"1737.13\" y=\"-38.55\" font-family=\"Times New Roman,serif\" font-size=\"14.00\">repairing</text>\n</g>\n<!-- broken&#45;&gt;repairing -->\n<g id=\"edge7\" class=\"edge\">\n<title>broken-&gt;repairing</title>\n<path fill=\"none\" stroke=\"black\" d=\"M1422.84,-91.67C1484.46,-81.95 1611.83,-61.86 1683.74,-50.51\"/>\n<polygon fill=\"black\" stroke=\"black\" points=\"1683.96,-54.02 1693.29,-49 1682.87,-47.11 1683.96,-54.02\"/>\n<text text-anchor=\"middle\" x=\"1558.89\" y=\"-92.05\" font-family=\"Times New Roman,serif\" font-size=\"14.00\">restore_impurities_implantation, 1.0, -10.0</text>\n</g>\n<!-- configured&#45;&gt;executing -->\n<g id=\"edge3\" class=\"edge\">\n<title>configured-&gt;executing</title>\n<path fill=\"none\" stroke=\"black\" d=\"M562.77,-111.31C654.46,-124.63 852.21,-153.34 948.36,-167.3\"/>\n<polygon fill=\"black\" stroke=\"black\" points=\"947.67,-170.74 958.07,-168.71 948.68,-163.81 947.67,-170.74\"/>\n<text text-anchor=\"middle\" x=\"746.09\" y=\"-158.05\" font-family=\"Times New Roman,serif\" font-size=\"14.00\">checked_impurities_implantation, 0.95, 0.0</text>\n</g>\n<!-- configured&#45;&gt;broken -->\n<g id=\"edge4\" class=\"edge\">\n<title>configured-&gt;broken</title>\n<path fill=\"none\" stroke=\"black\" d=\"M563.44,-103.85C717.48,-102.61 1188.12,-98.83 1338.66,-97.62\"/>\n<polygon fill=\"black\" stroke=\"black\" points=\"1338.28,-101.13 1348.25,-97.55 1338.22,-94.13 1338.28,-101.13\"/>\n<text text-anchor=\"middle\" x=\"1004.09\" y=\"-105.05\" font-family=\"Times New Roman,serif\" font-size=\"14.00\">checked_impurities_implantation, 0.05, 0.0</text>\n</g>\n<!-- repairing&#45;&gt;ready -->\n<g id=\"edge8\" class=\"edge\">\n<title>repairing-&gt;ready</title>\n<path fill=\"none\" stroke=\"black\" d=\"M1694.3,-39.09C1628.89,-34.42 1498.37,-26.25 1387.49,-26.25 512.09,-26.25 512.09,-26.25 512.09,-26.25 385.36,-26.25 239.77,-67.23 169.26,-89.78\"/>\n<polygon fill=\"black\" stroke=\"black\" points=\"168.47,-86.36 160.04,-92.77 170.63,-93.02 168.47,-86.36\"/>\n<text text-anchor=\"middle\" x=\"1004.09\" y=\"-30.05\" font-family=\"Times New Roman,serif\" font-size=\"14.00\">repaired_impurities_implantation, 1.0, 0.0</text>\n</g>\n</g>\n</svg>"
     },
     "metadata": {},
     "output_type": "display_data"
    }
   ],
   "source": [
    "def impurities_implantation_service(name: str, broken_prob: float, unemployable_prob: float, broken_reward: float,\n",
    "                                    action_reward: float) -> Service:\n",
    "    \"\"\"Build the impurities implantation device.\"\"\"\n",
    "    return build_complex_breakable_service(name, IMPURITIES_IMPLANTATION, broken_prob=broken_prob,\n",
    "                                           unemployable_prob=unemployable_prob, broken_reward=broken_reward,\n",
    "                                           action_reward=action_reward)\n",
    "\n",
    "\n",
    "service_impurities_implantation = impurities_implantation_service(IMPURITIES_IMPLANTATION_SERVICE_NAME,\n",
    "                                                                   DEFAULT_BROKEN_PROB, DEFAULT_UNEMPLOYABLE_PROB,\n",
    "                                                                   DEFAULT_BROKEN_REWARD, DEFAULT_USA_REWARD)\n",
    "render_service(service_impurities_implantation)"
   ]
  },
  {
   "cell_type": "code",
   "execution_count": 23,
   "metadata": {},
   "outputs": [
    {
     "data": {
      "text/plain": "<IPython.core.display.SVG object>",
      "image/svg+xml": "<svg xmlns=\"http://www.w3.org/2000/svg\" xmlns:xlink=\"http://www.w3.org/1999/xlink\" width=\"188pt\" height=\"110pt\" viewBox=\"0.00 0.00 187.55 110.09\">\n<g id=\"graph0\" class=\"graph\" transform=\"scale(1 1) rotate(0) translate(4 106.09)\">\n<polygon fill=\"white\" stroke=\"none\" points=\"-4,4 -4,-106.09 183.55,-106.09 183.55,4 -4,4\"/>\n<!-- fake -->\n<g id=\"node1\" class=\"node\">\n<title>fake</title>\n</g>\n<!-- ready -->\n<g id=\"node2\" class=\"node\">\n<title>ready</title>\n<ellipse fill=\"none\" stroke=\"black\" cx=\"125.55\" cy=\"-34.55\" rx=\"30.59\" ry=\"30.59\"/>\n<ellipse fill=\"none\" stroke=\"black\" cx=\"125.55\" cy=\"-34.55\" rx=\"34.59\" ry=\"34.59\"/>\n<text text-anchor=\"middle\" x=\"125.55\" y=\"-30.85\" font-family=\"Times New Roman,serif\" font-size=\"14.00\">ready</text>\n</g>\n<!-- fake&#45;&gt;ready -->\n<g id=\"edge1\" class=\"edge\">\n<title>fake-&gt;ready</title>\n<path fill=\"none\" stroke=\"black\" stroke-width=\"2\" d=\"M54.38,-34.55C62.06,-34.55 70.67,-34.55 79.17,-34.55\"/>\n<polygon fill=\"black\" stroke=\"black\" stroke-width=\"2\" points=\"77.55,-38.05 87.55,-34.55 77.55,-31.05 77.55,-38.05\"/>\n</g>\n<!-- ready&#45;&gt;ready -->\n<g id=\"edge2\" class=\"edge\">\n<title>ready-&gt;ready</title>\n<path fill=\"none\" stroke=\"black\" d=\"M115.61,-68.16C115.76,-78.74 119.07,-87.09 125.55,-87.09 129.49,-87.09 132.27,-83.99 133.86,-79.17\"/>\n<polygon fill=\"black\" stroke=\"black\" points=\"137.27,-80.06 135.27,-69.65 130.35,-79.03 137.27,-80.06\"/>\n<text text-anchor=\"middle\" x=\"125.55\" y=\"-90.89\" font-family=\"Times New Roman,serif\" font-size=\"14.00\">activation, 1.0, -2.0</text>\n</g>\n</g>\n</svg>"
     },
     "metadata": {},
     "output_type": "display_data"
    }
   ],
   "source": [
    "def activation_service(name: str = ACTIVATION_SERVICE_NAME, action_reward: float = USA_REWARD) -> Service:\n",
    "    \"\"\"Build the human activation device.\"\"\"\n",
    "    return build_generic_service_one_state(\n",
    "        name,\n",
    "        {ACTIVATION},\n",
    "        action_reward=action_reward\n",
    "    )\n",
    "\n",
    "\n",
    "service_activation = activation_service()\n",
    "render_service(service_activation)\n"
   ]
  },
  {
   "cell_type": "code",
   "execution_count": 24,
   "metadata": {},
   "outputs": [
    {
     "data": {
      "text/plain": "<IPython.core.display.SVG object>",
      "image/svg+xml": "<svg xmlns=\"http://www.w3.org/2000/svg\" xmlns:xlink=\"http://www.w3.org/1999/xlink\" width=\"486pt\" height=\"164pt\" viewBox=\"0.00 0.00 485.99 163.99\">\n<g id=\"graph0\" class=\"graph\" transform=\"scale(1 1) rotate(0) translate(4 159.99)\">\n<polygon fill=\"white\" stroke=\"none\" points=\"-4,4 -4,-159.99 481.99,-159.99 481.99,4 -4,4\"/>\n<!-- fake -->\n<g id=\"node1\" class=\"node\">\n<title>fake</title>\n</g>\n<!-- available -->\n<g id=\"node4\" class=\"node\">\n<title>available</title>\n<ellipse fill=\"none\" stroke=\"black\" cx=\"136.6\" cy=\"-78.4\" rx=\"41.68\" ry=\"41.68\"/>\n<ellipse fill=\"none\" stroke=\"black\" cx=\"136.6\" cy=\"-78.4\" rx=\"45.69\" ry=\"45.69\"/>\n<text text-anchor=\"middle\" x=\"136.6\" y=\"-74.7\" font-family=\"Times New Roman,serif\" font-size=\"14.00\">available</text>\n</g>\n<!-- fake&#45;&gt;available -->\n<g id=\"edge1\" class=\"edge\">\n<title>fake-&gt;available</title>\n<path fill=\"none\" stroke=\"black\" stroke-width=\"2\" d=\"M54.32,-78.4C61.93,-78.4 70.55,-78.4 79.26,-78.4\"/>\n<polygon fill=\"black\" stroke=\"black\" stroke-width=\"2\" points=\"77.65,-81.9 87.65,-78.4 77.65,-74.9 77.65,-81.9\"/>\n</g>\n<!-- done -->\n<g id=\"node2\" class=\"node\">\n<title>done</title>\n<ellipse fill=\"none\" stroke=\"black\" cx=\"441.59\" cy=\"-127.4\" rx=\"28.7\" ry=\"28.7\"/>\n<text text-anchor=\"middle\" x=\"441.59\" y=\"-123.7\" font-family=\"Times New Roman,serif\" font-size=\"14.00\">done</text>\n</g>\n<!-- done&#45;&gt;available -->\n<g id=\"edge5\" class=\"edge\">\n<title>done-&gt;available</title>\n<path fill=\"none\" stroke=\"black\" d=\"M418.15,-110.13C409.04,-104.05 398.09,-97.87 387.19,-94.4 352.53,-83.34 256.3,-79.9 193.96,-78.85\"/>\n<polygon fill=\"black\" stroke=\"black\" points=\"194.3,-75.35 184.25,-78.7 194.2,-82.35 194.3,-75.35\"/>\n<text text-anchor=\"middle\" x=\"293.69\" y=\"-98.2\" font-family=\"Times New Roman,serif\" font-size=\"14.00\">check_resist_stripping, 1.0, 0.0</text>\n</g>\n<!-- broken -->\n<g id=\"node3\" class=\"node\">\n<title>broken</title>\n<ellipse fill=\"none\" stroke=\"black\" cx=\"441.59\" cy=\"-36.4\" rx=\"36.29\" ry=\"36.29\"/>\n<text text-anchor=\"middle\" x=\"441.59\" y=\"-32.7\" font-family=\"Times New Roman,serif\" font-size=\"14.00\">broken</text>\n</g>\n<!-- broken&#45;&gt;available -->\n<g id=\"edge4\" class=\"edge\">\n<title>broken-&gt;available</title>\n<path fill=\"none\" stroke=\"black\" d=\"M406.54,-25.28C358.65,-11.57 269.51,6.78 200.19,-20.4 191.17,-23.93 182.67,-29.45 175.02,-35.7\"/>\n<polygon fill=\"black\" stroke=\"black\" points=\"172.74,-33.05 167.58,-42.3 177.38,-38.29 172.74,-33.05\"/>\n<text text-anchor=\"middle\" x=\"293.69\" y=\"-24.2\" font-family=\"Times New Roman,serif\" font-size=\"14.00\">check_resist_stripping, 1.0, -10.0</text>\n</g>\n<!-- available&#45;&gt;done -->\n<g id=\"edge2\" class=\"edge\">\n<title>available-&gt;done</title>\n<path fill=\"none\" stroke=\"black\" d=\"M175.46,-103.11C183.35,-107.23 191.83,-110.95 200.19,-113.4 268.78,-133.42 352.93,-132.95 401.3,-130.42\"/>\n<polygon fill=\"black\" stroke=\"black\" points=\"401.22,-133.93 410.99,-129.85 400.81,-126.94 401.22,-133.93\"/>\n<text text-anchor=\"middle\" x=\"293.69\" y=\"-135.2\" font-family=\"Times New Roman,serif\" font-size=\"14.00\">resist_stripping, 0.95, -1.0</text>\n</g>\n<!-- available&#45;&gt;broken -->\n<g id=\"edge3\" class=\"edge\">\n<title>available-&gt;broken</title>\n<path fill=\"none\" stroke=\"black\" d=\"M180.45,-64.97C187.02,-63.23 193.75,-61.63 200.19,-60.4 266.59,-47.64 344.7,-41.43 393.43,-38.59\"/>\n<polygon fill=\"black\" stroke=\"black\" points=\"393.56,-42.08 403.35,-38.03 393.17,-35.09 393.56,-42.08\"/>\n<text text-anchor=\"middle\" x=\"293.69\" y=\"-64.2\" font-family=\"Times New Roman,serif\" font-size=\"14.00\">resist_stripping, 0.05, -1.0</text>\n</g>\n</g>\n</svg>"
     },
     "metadata": {},
     "output_type": "display_data"
    }
   ],
   "source": [
    "def resist_stripping_service(name: str, broken_prob: float, broken_reward: float, action_reward: float) -> Service:\n",
    "    \"\"\"Build the resist stripping device.\"\"\"\n",
    "    return build_generic_breakable_service(name, RESIST_STRIPPING, broken_prob=broken_prob, broken_reward=broken_reward,\n",
    "                                           action_reward=action_reward)\n",
    "\n",
    "\n",
    "service_resist_stripping = resist_stripping_service(RESIST_STRIPPING_SERVICE_NAME, DEFAULT_BROKEN_PROB,\n",
    "                                                     DEFAULT_BROKEN_REWARD, DEFAULT_USA_REWARD)\n",
    "render_service(service_resist_stripping)"
   ]
  },
  {
   "cell_type": "code",
   "execution_count": 25,
   "metadata": {},
   "outputs": [
    {
     "data": {
      "text/plain": "<IPython.core.display.SVG object>",
      "image/svg+xml": "<svg xmlns=\"http://www.w3.org/2000/svg\" xmlns:xlink=\"http://www.w3.org/1999/xlink\" width=\"187pt\" height=\"110pt\" viewBox=\"0.00 0.00 186.55 110.09\">\n<g id=\"graph0\" class=\"graph\" transform=\"scale(1 1) rotate(0) translate(4 106.09)\">\n<polygon fill=\"white\" stroke=\"none\" points=\"-4,4 -4,-106.09 182.55,-106.09 182.55,4 -4,4\"/>\n<!-- fake -->\n<g id=\"node1\" class=\"node\">\n<title>fake</title>\n</g>\n<!-- ready -->\n<g id=\"node2\" class=\"node\">\n<title>ready</title>\n<ellipse fill=\"none\" stroke=\"black\" cx=\"125.55\" cy=\"-34.55\" rx=\"30.59\" ry=\"30.59\"/>\n<ellipse fill=\"none\" stroke=\"black\" cx=\"125.55\" cy=\"-34.55\" rx=\"34.59\" ry=\"34.59\"/>\n<text text-anchor=\"middle\" x=\"125.55\" y=\"-30.85\" font-family=\"Times New Roman,serif\" font-size=\"14.00\">ready</text>\n</g>\n<!-- fake&#45;&gt;ready -->\n<g id=\"edge1\" class=\"edge\">\n<title>fake-&gt;ready</title>\n<path fill=\"none\" stroke=\"black\" stroke-width=\"2\" d=\"M54.38,-34.55C62.06,-34.55 70.67,-34.55 79.17,-34.55\"/>\n<polygon fill=\"black\" stroke=\"black\" stroke-width=\"2\" points=\"77.55,-38.05 87.55,-34.55 77.55,-31.05 77.55,-38.05\"/>\n</g>\n<!-- ready&#45;&gt;ready -->\n<g id=\"edge2\" class=\"edge\">\n<title>ready-&gt;ready</title>\n<path fill=\"none\" stroke=\"black\" d=\"M115.61,-68.16C115.76,-78.74 119.07,-87.09 125.55,-87.09 129.49,-87.09 132.27,-83.99 133.86,-79.17\"/>\n<polygon fill=\"black\" stroke=\"black\" points=\"137.27,-80.06 135.27,-69.65 130.35,-79.03 137.27,-80.06\"/>\n<text text-anchor=\"middle\" x=\"125.55\" y=\"-90.89\" font-family=\"Times New Roman,serif\" font-size=\"14.00\">assembly, 1.0, -2.0</text>\n</g>\n</g>\n</svg>"
     },
     "metadata": {},
     "output_type": "display_data"
    }
   ],
   "source": [
    "def assembly_service(name: str = ASSEMBLY_SERVICE_NAME, action_reward: float = USA_REWARD) -> Service:\n",
    "    \"\"\"Build the human assembly device.\"\"\"\n",
    "    return build_generic_service_one_state(\n",
    "        name,\n",
    "        {ASSEMBLY},\n",
    "        action_reward=action_reward\n",
    "    )\n",
    "\n",
    "\n",
    "service_assembly = assembly_service()\n",
    "render_service(service_assembly)"
   ]
  },
  {
   "cell_type": "code",
   "execution_count": 26,
   "metadata": {},
   "outputs": [
    {
     "data": {
      "text/plain": "<IPython.core.display.SVG object>",
      "image/svg+xml": "<svg xmlns=\"http://www.w3.org/2000/svg\" xmlns:xlink=\"http://www.w3.org/1999/xlink\" width=\"179pt\" height=\"110pt\" viewBox=\"0.00 0.00 179.05 110.09\">\n<g id=\"graph0\" class=\"graph\" transform=\"scale(1 1) rotate(0) translate(4 106.09)\">\n<polygon fill=\"white\" stroke=\"none\" points=\"-4,4 -4,-106.09 175.05,-106.09 175.05,4 -4,4\"/>\n<!-- fake -->\n<g id=\"node1\" class=\"node\">\n<title>fake</title>\n</g>\n<!-- ready -->\n<g id=\"node2\" class=\"node\">\n<title>ready</title>\n<ellipse fill=\"none\" stroke=\"black\" cx=\"125.55\" cy=\"-34.55\" rx=\"30.59\" ry=\"30.59\"/>\n<ellipse fill=\"none\" stroke=\"black\" cx=\"125.55\" cy=\"-34.55\" rx=\"34.59\" ry=\"34.59\"/>\n<text text-anchor=\"middle\" x=\"125.55\" y=\"-30.85\" font-family=\"Times New Roman,serif\" font-size=\"14.00\">ready</text>\n</g>\n<!-- fake&#45;&gt;ready -->\n<g id=\"edge1\" class=\"edge\">\n<title>fake-&gt;ready</title>\n<path fill=\"none\" stroke=\"black\" stroke-width=\"2\" d=\"M54.38,-34.55C62.06,-34.55 70.67,-34.55 79.17,-34.55\"/>\n<polygon fill=\"black\" stroke=\"black\" stroke-width=\"2\" points=\"77.55,-38.05 87.55,-34.55 77.55,-31.05 77.55,-38.05\"/>\n</g>\n<!-- ready&#45;&gt;ready -->\n<g id=\"edge2\" class=\"edge\">\n<title>ready-&gt;ready</title>\n<path fill=\"none\" stroke=\"black\" d=\"M115.61,-68.16C115.76,-78.74 119.07,-87.09 125.55,-87.09 129.49,-87.09 132.27,-83.99 133.86,-79.17\"/>\n<polygon fill=\"black\" stroke=\"black\" points=\"137.27,-80.06 135.27,-69.65 130.35,-79.03 137.27,-80.06\"/>\n<text text-anchor=\"middle\" x=\"125.55\" y=\"-90.89\" font-family=\"Times New Roman,serif\" font-size=\"14.00\">testing, 1.0, -2.0</text>\n</g>\n</g>\n</svg>"
     },
     "metadata": {},
     "output_type": "display_data"
    }
   ],
   "source": [
    "def testing_service(name: str = TESTING_SERVICE_NAME, action_reward: float = USA_REWARD) -> Service:\n",
    "    \"\"\"Build the human testing device.\"\"\"\n",
    "    return build_generic_service_one_state(\n",
    "        name,\n",
    "        {TESTING},\n",
    "        action_reward=action_reward\n",
    "    )\n",
    "\n",
    "\n",
    "service_testing = testing_service()\n",
    "render_service(service_testing)\n"
   ]
  },
  {
   "cell_type": "code",
   "execution_count": 27,
   "metadata": {},
   "outputs": [
    {
     "data": {
      "text/plain": "<IPython.core.display.SVG object>",
      "image/svg+xml": "<svg xmlns=\"http://www.w3.org/2000/svg\" xmlns:xlink=\"http://www.w3.org/1999/xlink\" width=\"189pt\" height=\"110pt\" viewBox=\"0.00 0.00 189.05 110.09\">\n<g id=\"graph0\" class=\"graph\" transform=\"scale(1 1) rotate(0) translate(4 106.09)\">\n<polygon fill=\"white\" stroke=\"none\" points=\"-4,4 -4,-106.09 185.05,-106.09 185.05,4 -4,4\"/>\n<!-- fake -->\n<g id=\"node1\" class=\"node\">\n<title>fake</title>\n</g>\n<!-- ready -->\n<g id=\"node2\" class=\"node\">\n<title>ready</title>\n<ellipse fill=\"none\" stroke=\"black\" cx=\"125.55\" cy=\"-34.55\" rx=\"30.59\" ry=\"30.59\"/>\n<ellipse fill=\"none\" stroke=\"black\" cx=\"125.55\" cy=\"-34.55\" rx=\"34.59\" ry=\"34.59\"/>\n<text text-anchor=\"middle\" x=\"125.55\" y=\"-30.85\" font-family=\"Times New Roman,serif\" font-size=\"14.00\">ready</text>\n</g>\n<!-- fake&#45;&gt;ready -->\n<g id=\"edge1\" class=\"edge\">\n<title>fake-&gt;ready</title>\n<path fill=\"none\" stroke=\"black\" stroke-width=\"2\" d=\"M54.38,-34.55C62.06,-34.55 70.67,-34.55 79.17,-34.55\"/>\n<polygon fill=\"black\" stroke=\"black\" stroke-width=\"2\" points=\"77.55,-38.05 87.55,-34.55 77.55,-31.05 77.55,-38.05\"/>\n</g>\n<!-- ready&#45;&gt;ready -->\n<g id=\"edge2\" class=\"edge\">\n<title>ready-&gt;ready</title>\n<path fill=\"none\" stroke=\"black\" d=\"M115.61,-68.16C115.76,-78.74 119.07,-87.09 125.55,-87.09 129.49,-87.09 132.27,-83.99 133.86,-79.17\"/>\n<polygon fill=\"black\" stroke=\"black\" points=\"137.27,-80.06 135.27,-69.65 130.35,-79.03 137.27,-80.06\"/>\n<text text-anchor=\"middle\" x=\"125.55\" y=\"-90.89\" font-family=\"Times New Roman,serif\" font-size=\"14.00\">packaging, 1.0, -2.0</text>\n</g>\n</g>\n</svg>"
     },
     "metadata": {},
     "output_type": "display_data"
    }
   ],
   "source": [
    "def packaging_service(name: str = PACKAGING_SERVICE_NAME, action_reward: float = USA_REWARD) -> Service:\n",
    "    \"\"\"Build the human packaging device.\"\"\"\n",
    "    return build_generic_service_one_state(\n",
    "        name,\n",
    "        {PACKAGING},\n",
    "        action_reward=action_reward\n",
    "    )\n",
    "\n",
    "\n",
    "service_packaging = packaging_service()\n",
    "render_service(service_packaging)"
   ]
  },
  {
   "cell_type": "markdown",
   "metadata": {},
   "source": [
    "# First Phase - Raw materials and design assortment\n",
    "## Target Specification\n",
    "The target specification of the first phase is defined as follows:"
   ]
  },
  {
   "cell_type": "code",
   "execution_count": 30,
   "metadata": {},
   "outputs": [
    {
     "data": {
      "text/plain": "<IPython.core.display.SVG object>",
      "image/svg+xml": "<svg xmlns=\"http://www.w3.org/2000/svg\" xmlns:xlink=\"http://www.w3.org/1999/xlink\" width=\"2265pt\" height=\"44pt\" viewBox=\"0.00 0.00 2265.00 44.00\">\n<g id=\"graph0\" class=\"graph\" transform=\"scale(1 1) rotate(0) translate(4 40)\">\n<polygon fill=\"white\" stroke=\"none\" points=\"-4,4 -4,-40 2261,-40 2261,4 -4,4\"/>\n<!-- fake -->\n<g id=\"node1\" class=\"node\">\n<title>fake</title>\n</g>\n<!-- 0 -->\n<g id=\"node2\" class=\"node\">\n<title>0</title>\n<polygon fill=\"none\" stroke=\"black\" points=\"145,-36 91,-36 91,0 145,0 145,-36\"/>\n<text text-anchor=\"middle\" x=\"118\" y=\"-14.3\" font-family=\"Times New Roman,serif\" font-size=\"14.00\">0</text>\n</g>\n<!-- fake&#45;&gt;0 -->\n<g id=\"edge1\" class=\"edge\">\n<title>fake-&gt;0</title>\n<path fill=\"none\" stroke=\"black\" stroke-width=\"2\" d=\"M54.22,-18C62.12,-18 70.94,-18 79.43,-18\"/>\n<polygon fill=\"black\" stroke=\"black\" stroke-width=\"2\" points=\"77.63,-21.5 87.63,-18 77.63,-14.5 77.63,-21.5\"/>\n</g>\n<!-- 2 -->\n<g id=\"node3\" class=\"node\">\n<title>2</title>\n<polygon fill=\"none\" stroke=\"black\" points=\"374,-36 320,-36 320,0 374,0 374,-36\"/>\n<text text-anchor=\"middle\" x=\"347\" y=\"-14.3\" font-family=\"Times New Roman,serif\" font-size=\"14.00\">2</text>\n</g>\n<!-- 0&#45;&gt;2 -->\n<g id=\"edge2\" class=\"edge\">\n<title>0-&gt;2</title>\n<path fill=\"none\" stroke=\"black\" d=\"M145.48,-18C185.72,-18 262.43,-18 308.42,-18\"/>\n<polygon fill=\"black\" stroke=\"black\" points=\"308.17,-21.5 318.17,-18 308.17,-14.5 308.17,-21.5\"/>\n<text text-anchor=\"middle\" x=\"232.5\" y=\"-21.8\" font-family=\"Times New Roman,serif\" font-size=\"14.00\">pick_buy_design,0.0,1.0</text>\n</g>\n<!-- 3 -->\n<g id=\"node4\" class=\"node\">\n<title>3</title>\n<polygon fill=\"none\" stroke=\"black\" points=\"574,-36 520,-36 520,0 574,0 574,-36\"/>\n<text text-anchor=\"middle\" x=\"547\" y=\"-14.3\" font-family=\"Times New Roman,serif\" font-size=\"14.00\">3</text>\n</g>\n<!-- 2&#45;&gt;3 -->\n<g id=\"edge3\" class=\"edge\">\n<title>2-&gt;3</title>\n<path fill=\"none\" stroke=\"black\" d=\"M374.29,-18C408.61,-18 468.91,-18 508.15,-18\"/>\n<polygon fill=\"black\" stroke=\"black\" points=\"508.08,-21.5 518.08,-18 508.08,-14.5 508.08,-21.5\"/>\n<text text-anchor=\"middle\" x=\"447\" y=\"-21.8\" font-family=\"Times New Roman,serif\" font-size=\"14.00\">pick_silicon,0.0,1.0</text>\n</g>\n<!-- 4 -->\n<g id=\"node5\" class=\"node\">\n<title>4</title>\n<polygon fill=\"none\" stroke=\"black\" points=\"769,-36 715,-36 715,0 769,0 769,-36\"/>\n<text text-anchor=\"middle\" x=\"742\" y=\"-14.3\" font-family=\"Times New Roman,serif\" font-size=\"14.00\">4</text>\n</g>\n<!-- 3&#45;&gt;4 -->\n<g id=\"edge4\" class=\"edge\">\n<title>3-&gt;4</title>\n<path fill=\"none\" stroke=\"black\" d=\"M574.43,-18C607.83,-18 665.53,-18 703.48,-18\"/>\n<polygon fill=\"black\" stroke=\"black\" points=\"703.07,-21.5 713.07,-18 703.07,-14.5 703.07,-21.5\"/>\n<text text-anchor=\"middle\" x=\"644.5\" y=\"-21.8\" font-family=\"Times New Roman,serif\" font-size=\"14.00\">pick_wafer,0.0,1.0</text>\n</g>\n<!-- 5 -->\n<g id=\"node6\" class=\"node\">\n<title>5</title>\n<polygon fill=\"none\" stroke=\"black\" points=\"967,-36 913,-36 913,0 967,0 967,-36\"/>\n<text text-anchor=\"middle\" x=\"940\" y=\"-14.3\" font-family=\"Times New Roman,serif\" font-size=\"14.00\">5</text>\n</g>\n<!-- 4&#45;&gt;5 -->\n<g id=\"edge5\" class=\"edge\">\n<title>4-&gt;5</title>\n<path fill=\"none\" stroke=\"black\" d=\"M769.43,-18C803.43,-18 862.69,-18 901.38,-18\"/>\n<polygon fill=\"black\" stroke=\"black\" points=\"901.16,-21.5 911.16,-18 901.16,-14.5 901.16,-21.5\"/>\n<text text-anchor=\"middle\" x=\"841\" y=\"-21.8\" font-family=\"Times New Roman,serif\" font-size=\"14.00\">pick_boron,0.0,1.0</text>\n</g>\n<!-- 6 -->\n<g id=\"node7\" class=\"node\">\n<title>6</title>\n<polygon fill=\"none\" stroke=\"black\" points=\"1185,-36 1131,-36 1131,0 1185,0 1185,-36\"/>\n<text text-anchor=\"middle\" x=\"1158\" y=\"-14.3\" font-family=\"Times New Roman,serif\" font-size=\"14.00\">6</text>\n</g>\n<!-- 5&#45;&gt;6 -->\n<g id=\"edge6\" class=\"edge\">\n<title>5-&gt;6</title>\n<path fill=\"none\" stroke=\"black\" d=\"M967.49,-18C1005.48,-18 1075.66,-18 1119.13,-18\"/>\n<polygon fill=\"black\" stroke=\"black\" points=\"1119.12,-21.5 1129.12,-18 1119.12,-14.5 1119.12,-21.5\"/>\n<text text-anchor=\"middle\" x=\"1049\" y=\"-21.8\" font-family=\"Times New Roman,serif\" font-size=\"14.00\">pick_phosphor,0.0,1.0</text>\n</g>\n<!-- 7 -->\n<g id=\"node8\" class=\"node\">\n<title>7</title>\n<polygon fill=\"none\" stroke=\"black\" points=\"1402,-36 1348,-36 1348,0 1402,0 1402,-36\"/>\n<text text-anchor=\"middle\" x=\"1375\" y=\"-14.3\" font-family=\"Times New Roman,serif\" font-size=\"14.00\">7</text>\n</g>\n<!-- 6&#45;&gt;7 -->\n<g id=\"edge7\" class=\"edge\">\n<title>6-&gt;7</title>\n<path fill=\"none\" stroke=\"black\" d=\"M1185.36,-18C1223.18,-18 1293.04,-18 1336.31,-18\"/>\n<polygon fill=\"black\" stroke=\"black\" points=\"1336.24,-21.5 1346.24,-18 1336.24,-14.5 1336.24,-21.5\"/>\n<text text-anchor=\"middle\" x=\"1266.5\" y=\"-21.8\" font-family=\"Times New Roman,serif\" font-size=\"14.00\">pick_aluminum,0.0,1.0</text>\n</g>\n<!-- 8 -->\n<g id=\"node9\" class=\"node\">\n<title>8</title>\n<polygon fill=\"none\" stroke=\"black\" points=\"1595,-36 1541,-36 1541,0 1595,0 1595,-36\"/>\n<text text-anchor=\"middle\" x=\"1568\" y=\"-14.3\" font-family=\"Times New Roman,serif\" font-size=\"14.00\">8</text>\n</g>\n<!-- 7&#45;&gt;8 -->\n<g id=\"edge8\" class=\"edge\">\n<title>7-&gt;8</title>\n<path fill=\"none\" stroke=\"black\" d=\"M1402.16,-18C1434.98,-18 1491.5,-18 1529.07,-18\"/>\n<polygon fill=\"black\" stroke=\"black\" points=\"1529.03,-21.5 1539.03,-18 1529.03,-14.5 1529.03,-21.5\"/>\n<text text-anchor=\"middle\" x=\"1471.5\" y=\"-21.8\" font-family=\"Times New Roman,serif\" font-size=\"14.00\">pick_resist,0.0,1.0</text>\n</g>\n<!-- 9 -->\n<g id=\"node10\" class=\"node\">\n<title>9</title>\n<polygon fill=\"none\" stroke=\"black\" points=\"1795,-36 1741,-36 1741,0 1795,0 1795,-36\"/>\n<text text-anchor=\"middle\" x=\"1768\" y=\"-14.3\" font-family=\"Times New Roman,serif\" font-size=\"14.00\">9</text>\n</g>\n<!-- 8&#45;&gt;9 -->\n<g id=\"edge9\" class=\"edge\">\n<title>8-&gt;9</title>\n<path fill=\"none\" stroke=\"black\" d=\"M1595.29,-18C1629.61,-18 1689.91,-18 1729.15,-18\"/>\n<polygon fill=\"black\" stroke=\"black\" points=\"1729.08,-21.5 1739.08,-18 1729.08,-14.5 1729.08,-21.5\"/>\n<text text-anchor=\"middle\" x=\"1668\" y=\"-21.8\" font-family=\"Times New Roman,serif\" font-size=\"14.00\">pick_plastic,0.0,1.0</text>\n</g>\n<!-- 10 -->\n<g id=\"node11\" class=\"node\">\n<title>10</title>\n<polygon fill=\"none\" stroke=\"black\" points=\"2014,-36 1960,-36 1960,0 2014,0 2014,-36\"/>\n<text text-anchor=\"middle\" x=\"1987\" y=\"-14.3\" font-family=\"Times New Roman,serif\" font-size=\"14.00\">10</text>\n</g>\n<!-- 9&#45;&gt;10 -->\n<g id=\"edge10\" class=\"edge\">\n<title>9-&gt;10</title>\n<path fill=\"none\" stroke=\"black\" d=\"M1795.18,-18C1833.38,-18 1904.62,-18 1948.42,-18\"/>\n<polygon fill=\"black\" stroke=\"black\" points=\"1948.22,-21.5 1958.22,-18 1948.22,-14.5 1948.22,-21.5\"/>\n<text text-anchor=\"middle\" x=\"1877.5\" y=\"-21.8\" font-family=\"Times New Roman,serif\" font-size=\"14.00\">pick_chemicals,0.0,1.0</text>\n</g>\n<!-- 11 -->\n<g id=\"node12\" class=\"node\">\n<title>11</title>\n<polygon fill=\"none\" stroke=\"black\" points=\"2257,-36 2203,-36 2203,0 2257,0 2257,-36\"/>\n<text text-anchor=\"middle\" x=\"2230\" y=\"-14.3\" font-family=\"Times New Roman,serif\" font-size=\"14.00\">11</text>\n</g>\n<!-- 10&#45;&gt;11 -->\n<g id=\"edge11\" class=\"edge\">\n<title>10-&gt;11</title>\n<path fill=\"none\" stroke=\"black\" d=\"M2014.25,-18C2057.08,-18 2142.13,-18 2191.38,-18\"/>\n<polygon fill=\"black\" stroke=\"black\" points=\"2191.27,-21.5 2201.27,-18 2191.27,-14.5 2191.27,-21.5\"/>\n<text text-anchor=\"middle\" x=\"2108.5\" y=\"-21.8\" font-family=\"Times New Roman,serif\" font-size=\"14.00\">pick_copper_frame,1.0,1.0</text>\n</g>\n</g>\n</svg>"
     },
     "metadata": {},
     "output_type": "display_data"
    }
   ],
   "source": [
    "constraints = [\n",
    "    build_declare_assumption(set(SYMBOLS_PHASE_1)),\n",
    "    *[exactly_once(x) for x in SYMBOLS_PHASE_1],\n",
    "]\n",
    "\n",
    "for i in range(len(SYMBOLS_PHASE_1) - 1):\n",
    "    for j in range(i, len(SYMBOLS_PHASE_1)):\n",
    "        constraints.append(alt_precedence(SYMBOLS_PHASE_1[i], SYMBOLS_PHASE_1[j]))\n",
    "formula = pylogics.parsers.ltl.parse_ltl(\" & \".join(constraints))\n",
    "automaton = logaut.core.ltl2dfa(formula, backend=\"lydia\")\n",
    "declare_automaton = from_symbolic_automaton_to_declare_automaton(automaton, set(SYMBOLS_PHASE_1))\n",
    "render_mdp_dfa(mdp_from_dfa(declare_automaton), no_sink=True)"
   ]
  },
  {
   "cell_type": "markdown",
   "metadata": {},
   "source": [
    "\n",
    "## Composition MDP\n",
    "The Composition MDP is constructed in this way:"
   ]
  },
  {
   "cell_type": "code",
   "execution_count": 32,
   "metadata": {},
   "outputs": [
    {
     "ename": "ValueError",
     "evalue": "",
     "output_type": "error",
     "traceback": [
      "\u001B[1;31m---------------------------------------------------------------------------\u001B[0m",
      "\u001B[1;31mValueError\u001B[0m                                Traceback (most recent call last)",
      "Cell \u001B[1;32mIn[32], line 88\u001B[0m\n\u001B[0;32m     86\u001B[0m stochastic_target \u001B[38;5;241m=\u001B[39m target_from_dfa(trimmed_declare_automaton)\n\u001B[0;32m     87\u001B[0m \u001B[38;5;66;03m#mdp = comp_mdp(declare_automaton, all_services, gamma=0.9)\u001B[39;00m\n\u001B[1;32m---> 88\u001B[0m mdp \u001B[38;5;241m=\u001B[39m \u001B[43mcomposition_mdp\u001B[49m\u001B[43m(\u001B[49m\u001B[43mstochastic_target\u001B[49m\u001B[43m,\u001B[49m\u001B[43m \u001B[49m\u001B[38;5;241;43m*\u001B[39;49m\u001B[43mall_services\u001B[49m\u001B[43m,\u001B[49m\u001B[43m \u001B[49m\u001B[43mgamma\u001B[49m\u001B[38;5;241;43m=\u001B[39;49m\u001B[38;5;241;43m0.9\u001B[39;49m\u001B[43m)\u001B[49m\n\u001B[0;32m     89\u001B[0m render_composition_mdp(mdp)\n",
      "File \u001B[1;32mc:\\users\\silo\\mdp-planner-chip-production\\stochastic_service_composition\\composition_mdp.py:119\u001B[0m, in \u001B[0;36mcomposition_mdp\u001B[1;34m(target, gamma, *services)\u001B[0m\n\u001B[0;32m    112\u001B[0m         transition_function[current_state][COMPOSITION_MDP_UNDEFINED_ACTION] \u001B[38;5;241m=\u001B[39m (\n\u001B[0;32m    113\u001B[0m             {current_state: \u001B[38;5;241m1.0\u001B[39m},\n\u001B[0;32m    114\u001B[0m             \u001B[38;5;241m0.0\u001B[39m,\n\u001B[0;32m    115\u001B[0m         )  \u001B[38;5;66;03m# type: ignore\u001B[39;00m\n\u001B[0;32m    116\u001B[0m     \u001B[38;5;66;03m# TODO check correctness\u001B[39;00m\n\u001B[0;32m    117\u001B[0m     \u001B[38;5;66;03m# if next state distribution is empty, add loops\u001B[39;00m\n\u001B[1;32m--> 119\u001B[0m \u001B[38;5;28;01mreturn\u001B[39;00m \u001B[43mMDP\u001B[49m\u001B[43m(\u001B[49m\u001B[43mtransition_function\u001B[49m\u001B[43m,\u001B[49m\u001B[43m \u001B[49m\u001B[43mgamma\u001B[49m\u001B[43m)\u001B[49m\n",
      "File \u001B[1;32m~\\.virtualenvs\\MDP-Planner-Chip-Production-IGudAqn7\\lib\\site-packages\\mdp_dp_rl\\processes\\mdp.py:35\u001B[0m, in \u001B[0;36mMDP.__init__\u001B[1;34m(self, info, gamma)\u001B[0m\n\u001B[0;32m     33\u001B[0m     \u001B[38;5;28mself\u001B[39m\u001B[38;5;241m.\u001B[39mterminal_states: Set[S] \u001B[38;5;241m=\u001B[39m \u001B[38;5;28mself\u001B[39m\u001B[38;5;241m.\u001B[39mget_terminal_states()\n\u001B[0;32m     34\u001B[0m \u001B[38;5;28;01melse\u001B[39;00m:\n\u001B[1;32m---> 35\u001B[0m     \u001B[38;5;28;01mraise\u001B[39;00m \u001B[38;5;167;01mValueError\u001B[39;00m\n",
      "\u001B[1;31mValueError\u001B[0m: "
     ]
    }
   ],
   "source": [
    "all_services = [\n",
    "    # 0\n",
    "    design_service(DESIGN_SERVICE_NAME_USA, USA_REWARD),\n",
    "    # 1\n",
    "    design_service(DESIGN_SERVICE_NAME_UK, UK_REWARD),\n",
    "    # 2\n",
    "    design_service(DESIGN_SERVICE_NAME_CHINA, CHINA_REWARD),\n",
    "    # 3\n",
    "    design_service(DESIGN_SERVICE_NAME_TAIWAN, TAIWAN_REWARD),\n",
    "    # 4\n",
    "    silicon_warehouse_service(SILICON_SERVICE_NAME_CHINA, CHINA_REWARD),\n",
    "    # 5\n",
    "    silicon_warehouse_service(SILICON_SERVICE_NAME_RUSSIA, RUSSIA_REWARD + WAR_REWARD),\n",
    "    # 6\n",
    "    silicon_warehouse_service(SILICON_SERVICE_NAME_NORWAY, NORWAY_REWARD),\n",
    "    # 7\n",
    "    silicon_warehouse_service(SILICON_SERVICE_NAME_USA, USA_REWARD),\n",
    "    # 8\n",
    "    silicon_warehouse_service(SILICON_SERVICE_NAME_BRAZIL, BRAZIL_REWARD),\n",
    "    # 9\n",
    "    silicon_warehouse_service(SILICON_SERVICE_NAME_FRANCE, FRANCE_REWARD),\n",
    "    # 10\n",
    "    silicon_warehouse_service(SILICON_SERVICE_NAME_MALAYSIA, MALAYSIA_REWARD),\n",
    "    # 11\n",
    "    wafer_warehouse_service(WAFER_SERVICE_NAME_JAPAN, JAPAN_REWARD),\n",
    "    # 12\n",
    "    wafer_warehouse_service(WAFER_SERVICE_NAME_SOUTH_KOREA, SOUTH_KOREA),\n",
    "    # 13\n",
    "    boron_warehouse_service(BORON_SERVICE_NAME_CHINA, CHINA_REWARD),\n",
    "    # 14\n",
    "    boron_warehouse_service(BORON_SERVICE_NAME_USA, USA_REWARD),\n",
    "    # 15\n",
    "    boron_warehouse_service(BORON_SERVICE_NAME_CHILE, CHILE_REWARD),\n",
    "    # 16\n",
    "    boron_warehouse_service(BORON_SERVICE_NAME_KAZAKHSTAN, KAZAKHSTAN_REWARD),\n",
    "    # 17\n",
    "    boron_warehouse_service(BORON_SERVICE_NAME_RUSSIA, RUSSIA_REWARD + WAR_REWARD),\n",
    "    # 18\n",
    "    boron_warehouse_service(BORON_SERVICE_NAME_ARGENTINA, ARGENTINA_REWARD),\n",
    "    # 19\n",
    "    boron_warehouse_service(BORON_SERVICE_NAME_BOLIVIA, BOLIVIA_REWARD),\n",
    "    # 20\n",
    "    boron_warehouse_service(BORON_SERVICE_NAME_TURKEY, TURKEY_REWARD),\n",
    "    # 21\n",
    "    phosphor_warehouse_service(PHOSPHOR_SERVICE_NAME_CHINA, CHINA_REWARD),\n",
    "    # 22\n",
    "    phosphor_warehouse_service(PHOSPHOR_SERVICE_NAME_MOROCCO, MOROCCO_REWARD),\n",
    "    # 23\n",
    "    phosphor_warehouse_service(PHOSPHOR_SERVICE_NAME_USA, USA_REWARD),\n",
    "    # 24\n",
    "    aluminum_warehouse_service(ALUMINUM_SERVICE_NAME_AUSTRALIA, AUSTRALIA_REWARD),\n",
    "    # 25\n",
    "    aluminum_warehouse_service(ALUMINUM_SERVICE_NAME_BRAZIL, BRAZIL_REWARD),\n",
    "    # 26\n",
    "    aluminum_warehouse_service(ALUMINUM_SERVICE_NAME_INDIA, INDIA_REWARD),\n",
    "    # 27\n",
    "    resist_warehouse_service(RESIST_SERVICE_NAME_USA, USA_REWARD),\n",
    "    # 28\n",
    "    resist_warehouse_service(RESIST_SERVICE_NAME_SWITZERLAND, SWITZERLAND_REWARD),\n",
    "    # 29\n",
    "    resist_warehouse_service(RESIST_SERVICE_NAME_INDIA, INDIA_REWARD),\n",
    "    # 30\n",
    "    resist_warehouse_service(RESIST_SERVICE_NAME_CANADA, CANADA_REWARD),\n",
    "    # 31\n",
    "    resist_warehouse_service(RESIST_SERVICE_NAME_BELGIUM, BELGIUM_REWARD),\n",
    "    # 32\n",
    "    resist_warehouse_service(RESIST_SERVICE_NAME_AUSTRIA, AUSTRIA_REWARD),\n",
    "    # 33\n",
    "    plastic_warehouse_service(PLASTIC_SERVICE_NAME_CHINA, CHINA_REWARD),\n",
    "    # 34\n",
    "    plastic_warehouse_service(PLASTIC_SERVICE_NAME_INDIA, INDIA_REWARD),\n",
    "    # 35\n",
    "    chemicals_warehouse_service(CHEMICALS_SERVICE_NAME_CANADA, CANADA_REWARD),\n",
    "    # 36\n",
    "    chemicals_warehouse_service(CHEMICALS_SERVICE_NAME_USA, USA_REWARD),\n",
    "    # 37\n",
    "    copper_frame_warehouse_service(COPPER_FRAME_SERVICE_NAME_CHILE, CHILE_REWARD),\n",
    "    # 38\n",
    "    copper_frame_warehouse_service(COPPER_FRAME_SERVICE_NAME_CHINA, CHINA_REWARD),\n",
    "    # 39\n",
    "    copper_frame_warehouse_service(COPPER_FRAME_SERVICE_NAME_PERU, PERU_REWARD),\n",
    "    # 40\n",
    "    copper_frame_warehouse_service(COPPER_FRAME_SERVICE_NAME_USA, USA_REWARD)\n",
    "]\n",
    "trimmed_declare_automaton = declare_automaton.trim()\n",
    "stochastic_target = target_from_dfa(trimmed_declare_automaton)\n",
    "#mdp = comp_mdp(declare_automaton, all_services, gamma=0.9)\n",
    "mdp = composition_mdp(stochastic_target, *all_services, gamma=0.9)\n",
    "render_composition_mdp(mdp)"
   ]
  },
  {
   "cell_type": "markdown",
   "metadata": {},
   "source": [
    "# Optimal policy\n",
    "Calculation of optimal policy:"
   ]
  },
  {
   "cell_type": "code",
   "execution_count": null,
   "metadata": {},
   "outputs": [],
   "source": [
    "opn = DPAnalytic(mdp, 1e-4)\n",
    "opt_policy = opn.get_optimal_policy_vi()\n",
    "value_function = opn.get_value_func_dict(opt_policy)\n",
    "q_value_function = opn.get_act_value_func_dict(opt_policy)\n"
   ]
  },
  {
   "cell_type": "code",
   "execution_count": null,
   "metadata": {},
   "outputs": [],
   "source": [
    "print_policy_data(opt_policy)"
   ]
  },
  {
   "cell_type": "markdown",
   "metadata": {},
   "source": [
    "# Value Function\n",
    "Calculation of Value Function:"
   ]
  },
  {
   "cell_type": "code",
   "execution_count": null,
   "metadata": {},
   "outputs": [],
   "source": [
    "print_value_function(value_function)"
   ]
  },
  {
   "cell_type": "code",
   "execution_count": null,
   "metadata": {},
   "outputs": [],
   "source": [
    "print_q_value_function(q_value_function)"
   ]
  },
  {
   "cell_type": "markdown",
   "metadata": {},
   "source": [
    "# Second phase - Manufacturing Process\n",
    "## Target Specification\n",
    "The target specification of the second phase is structured as follows:\n"
   ]
  },
  {
   "cell_type": "code",
   "execution_count": 31,
   "metadata": {},
   "outputs": [
    {
     "ename": "Exception",
     "evalue": "the Lydia command lydia.bat --logic=ltlf --file=temp_file.ltlf -p failed.\nstdout=\r\n(MDP-Planner-Chip-Production) C:\\Users\\silo\\MDP-Planner-Chip-Production\\docs\\notebooks>docker run --rm --name lydia -v\"C:\\Users\\silo\\MDP-Planner-Chip-Production\\docs\\notebooks\":/home/default whitemech/lydia lydia --logic=ltlf --file=temp_file.ltlf -p \r\n[2023-03-16 15:57:27.041] [lydia] [info] [main] Parsing \"temp_file.ltlf\"\n[2023-03-16 15:57:27.773] [lydia] [info] [main] Transforming to DFA...\n\nstderr=",
     "output_type": "error",
     "traceback": [
      "\u001B[1;31m---------------------------------------------------------------------------\u001B[0m",
      "\u001B[1;31mLogautException\u001B[0m                           Traceback (most recent call last)",
      "File \u001B[1;32m~\\.virtualenvs\\MDP-Planner-Chip-Production-IGudAqn7\\lib\\site-packages\\logaut\\backends\\lydia\\_lydia_utils.py:41\u001B[0m, in \u001B[0;36mcall_lydia\u001B[1;34m(*args)\u001B[0m\n\u001B[0;32m     40\u001B[0m stderr \u001B[38;5;241m=\u001B[39m result\u001B[38;5;241m.\u001B[39mstderr\u001B[38;5;241m.\u001B[39mdecode()\n\u001B[1;32m---> 41\u001B[0m \u001B[43menforce\u001B[49m\u001B[43m(\u001B[49m\u001B[43mresult\u001B[49m\u001B[38;5;241;43m.\u001B[39;49m\u001B[43mreturncode\u001B[49m\u001B[43m \u001B[49m\u001B[38;5;241;43m==\u001B[39;49m\u001B[43m \u001B[49m\u001B[38;5;241;43m0\u001B[39;49m\u001B[43m,\u001B[49m\u001B[43m \u001B[49m\u001B[43mexception_cls\u001B[49m\u001B[38;5;241;43m=\u001B[39;49m\u001B[43mLogautException\u001B[49m\u001B[43m)\u001B[49m\n\u001B[0;32m     42\u001B[0m \u001B[38;5;28;01mreturn\u001B[39;00m output\n",
      "File \u001B[1;32m~\\.virtualenvs\\MDP-Planner-Chip-Production-IGudAqn7\\lib\\site-packages\\pylogics\\helpers\\misc.py:44\u001B[0m, in \u001B[0;36menforce\u001B[1;34m(condition, message, exception_cls)\u001B[0m\n\u001B[0;32m     43\u001B[0m \u001B[38;5;28;01mif\u001B[39;00m \u001B[38;5;129;01mnot\u001B[39;00m condition:\n\u001B[1;32m---> 44\u001B[0m     \u001B[38;5;28;01mraise\u001B[39;00m exception_cls(message)\n",
      "\u001B[1;31mLogautException\u001B[0m: ",
      "\nDuring handling of the above exception, another exception occurred:\n",
      "\u001B[1;31mException\u001B[0m                                 Traceback (most recent call last)",
      "Cell \u001B[1;32mIn[31], line 10\u001B[0m\n\u001B[0;32m      8\u001B[0m         constraints\u001B[38;5;241m.\u001B[39mappend(alt_precedence(SYMBOLS_PHASE_2[i], SYMBOLS_PHASE_2[j]))\n\u001B[0;32m      9\u001B[0m formula \u001B[38;5;241m=\u001B[39m pylogics\u001B[38;5;241m.\u001B[39mparsers\u001B[38;5;241m.\u001B[39mltl\u001B[38;5;241m.\u001B[39mparse_ltl(\u001B[38;5;124m\"\u001B[39m\u001B[38;5;124m & \u001B[39m\u001B[38;5;124m\"\u001B[39m\u001B[38;5;241m.\u001B[39mjoin(constraints))\n\u001B[1;32m---> 10\u001B[0m automaton \u001B[38;5;241m=\u001B[39m \u001B[43mlogaut\u001B[49m\u001B[38;5;241;43m.\u001B[39;49m\u001B[43mcore\u001B[49m\u001B[38;5;241;43m.\u001B[39;49m\u001B[43mltl2dfa\u001B[49m\u001B[43m(\u001B[49m\u001B[43mformula\u001B[49m\u001B[43m,\u001B[49m\u001B[43m \u001B[49m\u001B[43mbackend\u001B[49m\u001B[38;5;241;43m=\u001B[39;49m\u001B[38;5;124;43m\"\u001B[39;49m\u001B[38;5;124;43mlydia\u001B[39;49m\u001B[38;5;124;43m\"\u001B[39;49m\u001B[43m)\u001B[49m\n\u001B[0;32m     11\u001B[0m declare_automaton \u001B[38;5;241m=\u001B[39m from_symbolic_automaton_to_declare_automaton(automaton, \u001B[38;5;28mset\u001B[39m(SYMBOLS_PHASE_2))\n\u001B[0;32m     12\u001B[0m render_mdp_dfa(mdp_from_dfa(declare_automaton), no_sink\u001B[38;5;241m=\u001B[39m\u001B[38;5;28;01mTrue\u001B[39;00m)\n",
      "File \u001B[1;32m~\\.virtualenvs\\MDP-Planner-Chip-Production-IGudAqn7\\lib\\site-packages\\logaut\\core.py:52\u001B[0m, in \u001B[0;36mltl2dfa\u001B[1;34m(formula, backend, **backend_options)\u001B[0m\n\u001B[0;32m     41\u001B[0m \u001B[38;5;28;01mdef\u001B[39;00m \u001B[38;5;21mltl2dfa\u001B[39m(\n\u001B[0;32m     42\u001B[0m     formula: Formula, backend: \u001B[38;5;28mstr\u001B[39m \u001B[38;5;241m=\u001B[39m _DEFAULT_BACKEND, \u001B[38;5;241m*\u001B[39m\u001B[38;5;241m*\u001B[39mbackend_options\n\u001B[0;32m     43\u001B[0m ) \u001B[38;5;241m-\u001B[39m\u001B[38;5;241m>\u001B[39m DFA:\n\u001B[0;32m     44\u001B[0m     \u001B[38;5;124;03m\"\"\"\u001B[39;00m\n\u001B[0;32m     45\u001B[0m \u001B[38;5;124;03m    From LTL to DFA.\u001B[39;00m\n\u001B[0;32m     46\u001B[0m \n\u001B[1;32m   (...)\u001B[0m\n\u001B[0;32m     50\u001B[0m \u001B[38;5;124;03m    :return: the DFA.\u001B[39;00m\n\u001B[0;32m     51\u001B[0m \u001B[38;5;124;03m    \"\"\"\u001B[39;00m\n\u001B[1;32m---> 52\u001B[0m     \u001B[38;5;28;01mreturn\u001B[39;00m _call_method(formula, backend, ltl2dfa\u001B[38;5;241m.\u001B[39m\u001B[38;5;18m__name__\u001B[39m, \u001B[38;5;241m*\u001B[39m\u001B[38;5;241m*\u001B[39mbackend_options)\n",
      "File \u001B[1;32m~\\.virtualenvs\\MDP-Planner-Chip-Production-IGudAqn7\\lib\\site-packages\\logaut\\core.py:38\u001B[0m, in \u001B[0;36m_call_method\u001B[1;34m(formula, backend_id, method_name, **backend_options)\u001B[0m\n\u001B[0;32m     36\u001B[0m backend \u001B[38;5;241m=\u001B[39m logaut\u001B[38;5;241m.\u001B[39mbackends\u001B[38;5;241m.\u001B[39mmake(backend_id, \u001B[38;5;241m*\u001B[39m\u001B[38;5;241m*\u001B[39mbackend_options)\n\u001B[0;32m     37\u001B[0m method \u001B[38;5;241m=\u001B[39m \u001B[38;5;28mgetattr\u001B[39m(backend, method_name)\n\u001B[1;32m---> 38\u001B[0m \u001B[38;5;28;01mreturn\u001B[39;00m \u001B[43mmethod\u001B[49m\u001B[43m(\u001B[49m\u001B[43mformula\u001B[49m\u001B[43m)\u001B[49m\n",
      "File \u001B[1;32m~\\.virtualenvs\\MDP-Planner-Chip-Production-IGudAqn7\\lib\\site-packages\\logaut\\backends\\lydia\\core.py:69\u001B[0m, in \u001B[0;36mLydiaBackend.ltl2dfa\u001B[1;34m(self, formula)\u001B[0m\n\u001B[0;32m     67\u001B[0m \u001B[38;5;28;01mdef\u001B[39;00m \u001B[38;5;21mltl2dfa\u001B[39m(\u001B[38;5;28mself\u001B[39m, formula: Formula) \u001B[38;5;241m-\u001B[39m\u001B[38;5;241m>\u001B[39m DFA:\n\u001B[0;32m     68\u001B[0m     \u001B[38;5;124;03m\"\"\"From LTL to DFA.\"\"\"\u001B[39;00m\n\u001B[1;32m---> 69\u001B[0m     \u001B[38;5;28;01mreturn\u001B[39;00m \u001B[43m_process_formula\u001B[49m\u001B[43m(\u001B[49m\u001B[43mformula\u001B[49m\u001B[43m)\u001B[49m\n",
      "File \u001B[1;32m~\\.virtualenvs\\MDP-Planner-Chip-Production-IGudAqn7\\lib\\site-packages\\logaut\\backends\\lydia\\core.py:84\u001B[0m, in \u001B[0;36m_process_formula\u001B[1;34m(formula)\u001B[0m\n\u001B[0;32m     82\u001B[0m \u001B[38;5;66;03m# marco sei un pirla\u001B[39;00m\n\u001B[0;32m     83\u001B[0m temp_file\u001B[38;5;241m.\u001B[39mwrite_text(formula_str)\n\u001B[1;32m---> 84\u001B[0m output \u001B[38;5;241m=\u001B[39m \u001B[43mcall_lydia\u001B[49m\u001B[43m(\u001B[49m\n\u001B[0;32m     85\u001B[0m \u001B[43m    \u001B[49m\u001B[38;5;124;43mf\u001B[39;49m\u001B[38;5;124;43m\"\u001B[39;49m\u001B[38;5;124;43m--logic=\u001B[39;49m\u001B[38;5;132;43;01m{\u001B[39;49;00m\u001B[43mformula\u001B[49m\u001B[38;5;241;43m.\u001B[39;49m\u001B[43mlogic\u001B[49m\u001B[38;5;241;43m.\u001B[39;49m\u001B[43mvalue\u001B[49m\u001B[38;5;132;43;01m}\u001B[39;49;00m\u001B[38;5;124;43mf\u001B[39;49m\u001B[38;5;124;43m\"\u001B[39;49m\u001B[43m,\u001B[49m\u001B[43m \u001B[49m\u001B[38;5;124;43mf\u001B[39;49m\u001B[38;5;124;43m\"\u001B[39;49m\u001B[38;5;124;43m--file=\u001B[39;49m\u001B[38;5;132;43;01m{\u001B[39;49;00m\u001B[43mtemp_file\u001B[49m\u001B[38;5;132;43;01m}\u001B[39;49;00m\u001B[38;5;124;43m\"\u001B[39;49m\u001B[43m,\u001B[49m\u001B[43m \u001B[49m\u001B[38;5;124;43m\"\u001B[39;49m\u001B[38;5;124;43m-p\u001B[39;49m\u001B[38;5;124;43m\"\u001B[39;49m\n\u001B[0;32m     86\u001B[0m \u001B[43m\u001B[49m\u001B[43m)\u001B[49m\n\u001B[0;32m     87\u001B[0m temp_file\u001B[38;5;241m.\u001B[39munlink()\n\u001B[0;32m     88\u001B[0m mona_output_string \u001B[38;5;241m=\u001B[39m postprocess_lydia_output(output)\n",
      "File \u001B[1;32m~\\.virtualenvs\\MDP-Planner-Chip-Production-IGudAqn7\\lib\\site-packages\\logaut\\backends\\lydia\\_lydia_utils.py:44\u001B[0m, in \u001B[0;36mcall_lydia\u001B[1;34m(*args)\u001B[0m\n\u001B[0;32m     42\u001B[0m     \u001B[38;5;28;01mreturn\u001B[39;00m output\n\u001B[0;32m     43\u001B[0m \u001B[38;5;28;01mexcept\u001B[39;00m LogautException:\n\u001B[1;32m---> 44\u001B[0m     \u001B[38;5;28;01mraise\u001B[39;00m \u001B[38;5;167;01mException\u001B[39;00m(  \u001B[38;5;66;03m# type: ignore\u001B[39;00m\n\u001B[0;32m     45\u001B[0m         \u001B[38;5;124mf\u001B[39m\u001B[38;5;124m\"\u001B[39m\u001B[38;5;124mthe Lydia command \u001B[39m\u001B[38;5;132;01m{\u001B[39;00m\u001B[38;5;124m'\u001B[39m\u001B[38;5;124m \u001B[39m\u001B[38;5;124m'\u001B[39m\u001B[38;5;241m.\u001B[39mjoin(command)\u001B[38;5;132;01m}\u001B[39;00m\u001B[38;5;124m failed.\u001B[39m\u001B[38;5;130;01m\\n\u001B[39;00m\u001B[38;5;124mstdout=\u001B[39m\u001B[38;5;132;01m{\u001B[39;00moutput\u001B[38;5;132;01m}\u001B[39;00m\u001B[38;5;130;01m\\n\u001B[39;00m\u001B[38;5;124mstderr=\u001B[39m\u001B[38;5;132;01m{\u001B[39;00mstderr\u001B[38;5;132;01m}\u001B[39;00m\u001B[38;5;124m\"\u001B[39m  \u001B[38;5;66;03m# type: ignore\u001B[39;00m\n\u001B[0;32m     46\u001B[0m     )\n\u001B[0;32m     47\u001B[0m \u001B[38;5;28;01mexcept\u001B[39;00m \u001B[38;5;167;01mException\u001B[39;00m \u001B[38;5;28;01mas\u001B[39;00m e:\n\u001B[0;32m     48\u001B[0m     \u001B[38;5;28;01mraise\u001B[39;00m \u001B[38;5;167;01mException\u001B[39;00m(\u001B[38;5;124mf\u001B[39m\u001B[38;5;124m\"\u001B[39m\u001B[38;5;124man error occurred while running lydia: \u001B[39m\u001B[38;5;132;01m{\u001B[39;00m\u001B[38;5;28mstr\u001B[39m(e)\u001B[38;5;132;01m}\u001B[39;00m\u001B[38;5;124m\"\u001B[39m) \u001B[38;5;28;01mfrom\u001B[39;00m \u001B[38;5;21;01me\u001B[39;00m\n",
      "\u001B[1;31mException\u001B[0m: the Lydia command lydia.bat --logic=ltlf --file=temp_file.ltlf -p failed.\nstdout=\r\n(MDP-Planner-Chip-Production) C:\\Users\\silo\\MDP-Planner-Chip-Production\\docs\\notebooks>docker run --rm --name lydia -v\"C:\\Users\\silo\\MDP-Planner-Chip-Production\\docs\\notebooks\":/home/default whitemech/lydia lydia --logic=ltlf --file=temp_file.ltlf -p \r\n[2023-03-16 15:57:27.041] [lydia] [info] [main] Parsing \"temp_file.ltlf\"\n[2023-03-16 15:57:27.773] [lydia] [info] [main] Transforming to DFA...\n\nstderr="
     ]
    }
   ],
   "source": [
    "constraints = [\n",
    "    build_declare_assumption(set(SYMBOLS_PHASE_2)),\n",
    "    *[exactly_once(x) for x in SYMBOLS_PHASE_2],\n",
    "]\n",
    "\n",
    "for i in range(len(SYMBOLS_PHASE_2) - 1):\n",
    "    for j in range(i, len(SYMBOLS_PHASE_2)):\n",
    "        constraints.append(alt_precedence(SYMBOLS_PHASE_2[i], SYMBOLS_PHASE_2[j]))\n",
    "formula = pylogics.parsers.ltl.parse_ltl(\" & \".join(constraints))\n",
    "automaton = logaut.core.ltl2dfa(formula, backend=\"lydia\")\n",
    "declare_automaton = from_symbolic_automaton_to_declare_automaton(automaton, set(SYMBOLS_PHASE_2))\n",
    "render_mdp_dfa(mdp_from_dfa(declare_automaton), no_sink=True)"
   ]
  },
  {
   "cell_type": "code",
   "execution_count": null,
   "metadata": {},
   "outputs": [],
   "source": [
    "all_services = [\n",
    "    # 0\n",
    "    cleaning_service(CLEANING_SERVICE_NAME, USA_REWARD),\n",
    "    # 1\n",
    "    film_deposition_service(FILM_DEPOSITION1_SERVICE_NAME, DEFAULT_BROKEN_PROB, DEFAULT_UNEMPLOYABLE_PROB, DEFAULT_BROKEN_REWARD, DEFAULT_USA_REWARD),\n",
    "    # 2\n",
    "    film_deposition_service(FILM_DEPOSITION2_SERVICE_NAME, BROKEN_PROB, HIGH_UNEMPLOYABLE_PROB, DEFAULT_BROKEN_REWARD, USA_REWARD),\n",
    "    # 3\n",
    "    resist_coating_service(RESIST_COATING1_SERVICE_NAME, DEFAULT_BROKEN_PROB, DEFAULT_UNEMPLOYABLE_PROB, DEFAULT_BROKEN_REWARD, DEFAULT_USA_REWARD),\n",
    "    # 4\n",
    "    resist_coating_service(RESIST_COATING2_SERVICE_NAME, DEFAULT_BROKEN_PROB, DEFAULT_UNEMPLOYABLE_PROB, DEFAULT_BROKEN_REWARD, USA_REWARD),\n",
    "    # 5\n",
    "    exposure_service(EXPOSURE_SERVICE_NAME, DEFAULT_BROKEN_PROB, DEFAULT_BROKEN_REWARD, DEFAULT_USA_REWARD),\n",
    "    # 6\n",
    "    development_service(DEVELOPMENT1_SERVICE_NAME, DEFAULT_BROKEN_PROB, DEFAULT_UNEMPLOYABLE_PROB, DEFAULT_BROKEN_REWARD, DEFAULT_USA_REWARD),\n",
    "    # 7\n",
    "    development_service(DEVELOPMENT2_SERVICE_NAME, BROKEN_PROB, DEFAULT_UNEMPLOYABLE_PROB, DEFAULT_BROKEN_REWARD, HIGH_USA_REWARD),\n",
    "    # 8\n",
    "    etching_service(ETCHING1_SERVICE_NAME, DEFAULT_BROKEN_PROB, DEFAULT_BROKEN_REWARD, DEFAULT_USA_REWARD),\n",
    "    # 9\n",
    "    etching_service(ETCHING2_SERVICE_NAME, BROKEN_PROB, DEFAULT_BROKEN_REWARD, HIGH_USA_REWARD),\n",
    "    # 10\n",
    "    impurities_implantation_service(IMPURITIES_IMPLANTATION_SERVICE_NAME, DEFAULT_BROKEN_PROB, DEFAULT_UNEMPLOYABLE_PROB,DEFAULT_BROKEN_REWARD, DEFAULT_USA_REWARD),\n",
    "    # 11\n",
    "    activation_service(ACTIVATION_SERVICE_NAME, USA_REWARD),\n",
    "    # 12\n",
    "    resist_stripping_service(RESIST_STRIPPING_SERVICE_NAME, DEFAULT_BROKEN_PROB, DEFAULT_BROKEN_REWARD, DEFAULT_USA_REWARD),\n",
    "    # 13\n",
    "    assembly_service(ASSEMBLY_SERVICE_NAME, USA_REWARD),\n",
    "    # 14\n",
    "    testing_service(TESTING_SERVICE_NAME, USA_REWARD),\n",
    "    # 15\n",
    "    packaging_service(PACKAGING_SERVICE_NAME, USA_REWARD)\n",
    "]\n",
    "trimmed_declare_automaton = declare_automaton.trim()\n",
    "stochastic_target = target_from_dfa(trimmed_declare_automaton)\n",
    "#mdp = comp_mdp(declare_automaton, all_services, gamma=0.9)\n",
    "mdp = composition_mdp(stochastic_target, *all_services, gamma=0.9)\n",
    "#render_composition_mdp(mdp)\n",
    "print(\"Number of states: \", len(mdp.all_states))"
   ]
  },
  {
   "cell_type": "markdown",
   "metadata": {},
   "source": [
    "# Optimal policy\n",
    "Calculation of optimal policy:"
   ]
  },
  {
   "cell_type": "code",
   "execution_count": null,
   "metadata": {},
   "outputs": [],
   "source": [
    "opn = DPAnalytic(mdp, 1e-4)\n",
    "opt_policy = opn.get_optimal_policy_vi()\n",
    "value_function = opn.get_value_func_dict(opt_policy)\n",
    "q_value_function = opn.get_act_value_func_dict(opt_policy)"
   ]
  },
  {
   "cell_type": "code",
   "execution_count": null,
   "metadata": {},
   "outputs": [],
   "source": [
    "print_policy_data(opt_policy)"
   ]
  },
  {
   "cell_type": "markdown",
   "metadata": {},
   "source": [
    "# Value Function\n",
    "Calculation of Value Function:"
   ]
  },
  {
   "cell_type": "code",
   "execution_count": null,
   "metadata": {},
   "outputs": [],
   "source": [
    "print_value_function(value_function)"
   ]
  },
  {
   "cell_type": "code",
   "execution_count": null,
   "metadata": {},
   "outputs": [],
   "source": [
    "print_q_value_function(q_value_function)"
   ]
  }
 ],
 "metadata": {
  "kernelspec": {
   "display_name": "Python 3 (ipykernel)",
   "language": "python",
   "name": "python3"
  },
  "language_info": {
   "codemirror_mode": {
    "name": "ipython",
    "version": 3
   },
   "file_extension": ".py",
   "mimetype": "text/x-python",
   "name": "python",
   "nbconvert_exporter": "python",
   "pygments_lexer": "ipython3",
   "version": "3.10.6"
  }
 },
 "nbformat": 4,
 "nbformat_minor": 1
}
