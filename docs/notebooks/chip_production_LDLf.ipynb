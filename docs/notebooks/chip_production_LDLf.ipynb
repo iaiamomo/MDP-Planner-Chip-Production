{
 "cells": [
  {
   "cell_type": "code",
   "execution_count": 2,
   "metadata": {},
   "outputs": [],
   "source": [
    "from typing import Set\n",
    "# Python imports, put at the top for simplicity\n",
    "from logaut import ltl2dfa\n",
    "from pylogics.parsers import parse_ltl\n",
    "import pylogics.parsers.ldl\n",
    "import logaut\n",
    "\n",
    "from mdp_dp_rl.algorithms.dp.dp_analytic import DPAnalytic\n",
    "from stochastic_service_composition.declare_utils import *\n",
    "from stochastic_service_composition.dfa_target import from_symbolic_automaton_to_declare_automaton\n",
    "from stochastic_service_composition.dfa_target import mdp_from_dfa\n",
    "from docs.notebooks.utils import render_service, render_target, render_composition_mdp, render_mdp_dfa, \\\n",
    "    print_policy_data, print_value_function, print_q_value_function, render_comp_mdp\n",
    "from stochastic_service_composition.composition_mdp import composition_mdp, comp_mdp\n",
    "from stochastic_service_composition.services import build_service_from_transitions, Service\n",
    "from stochastic_service_composition.target import build_target_from_transitions, target_from_dfa\n"
   ]
  },
  {
   "cell_type": "markdown",
   "metadata": {},
   "source": [
    "## Use case for \"Stochastic Service Composition with Industrial APIs\" - Chip Production.\n",
    "\n",
    "In this notebook, we present the implementation of the use case for \"Stochastic Service Composition with Industrial APIs\" about chip production."
   ]
  },
  {
   "cell_type": "markdown",
   "metadata": {},
   "source": [
    "# Available Services\n",
    "\n",
    "In the following we provide definitions about available services:"
   ]
  },
  {
   "cell_type": "code",
   "execution_count": 3,
   "metadata": {},
   "outputs": [],
   "source": [
    "LOW_PROB = 0.05\n",
    "\n",
    "# probabilities of being broken after an action\n",
    "DEFAULT_BROKEN_PROB = LOW_PROB\n",
    "BROKEN_PROB = 0.5\n",
    "HIGH_BROKEN_PROB = 0.7\n",
    "\n",
    "# default probability of being unemployable after the configuration\n",
    "DEFAULT_UNEMPLOYABLE_PROB = LOW_PROB\n",
    "HIGH_UNEMPLOYABLE_PROB = 0.5\n",
    "\n",
    "# costs of the machines that perform their job in different countries\n",
    "DEFAULT_USA_REWARD = -1.0\n",
    "WAR_REWARD = -3.0\n",
    "USA_REWARD = -2.0\n",
    "HIGH_USA_REWARD = -5.0\n",
    "UK_REWARD = -6.8\n",
    "CHINA_REWARD = -11.7\n",
    "TAIWAN_REWARD = -12.2\n",
    "RUSSIA_REWARD = -9.12 # we have to take into the account political problems\n",
    "NORWAY_REWARD = -7.16\n",
    "BRAZIL_REWARD = -6.7\n",
    "FRANCE_REWARD = -7.6\n",
    "MALAYSIA_REWARD = -14.73\n",
    "TURKEY_REWARD = -10.16\n",
    "KAZAKHSTAN_REWARD = -10.4\n",
    "CHILE_REWARD = -7.8\n",
    "BOLIVIA_REWARD = -6.8\n",
    "ARGENTINA_REWARD = -8.55\n",
    "MOROCCO_REWARD = -7.9\n",
    "JAPAN_REWARD = -10.1\n",
    "SOUTH_KOREA = -10.7\n",
    "NETHERLANDS_REWARD = -7.5\n",
    "#ISRAEL_REWARD = -10.81 # we have to take into the account political/religious problems\n",
    "\n",
    "# default reward when the service becomes broken\n",
    "DEFAULT_BROKEN_REWARD = -10.0"
   ]
  },
  {
   "cell_type": "code",
   "execution_count": 47,
   "metadata": {},
   "outputs": [],
   "source": [
    "# all the atomic actions for the task\n",
    "PICK_BUY_DESIGN = \"pick_buy_design\"\n",
    "PICK_SILICON = \"pick_silicon\"\n",
    "PICK_WAFER = \"pick_wafer\"\n",
    "PICK_BORON = \"pick_boron\"\n",
    "PICK_PHOSPHOR = \"pick_phosphor\"\n",
    "CLEANING = \"cleaning\"\n",
    "FILM_DEPOSITION = \"film_deposition\"\n",
    "RESIST_COATING = \"resist_coating\"\n",
    "EXPOSURE = \"exposure\"\n",
    "DEVELOPMENT = \"development\"\n",
    "ETCHING = \"etching\"\n",
    "IMPURITIES_IMPLANTATION = \"impurities_implantation\"\n",
    "ACTIVATION = \"activation\"\n",
    "RESIST_STRIPPING = \"resist_stripping\"\n",
    "ASSEMBLY = \"assembly\"\n",
    "TESTING =\"testing\"\n",
    "PACKAGING = \"packaging\"\n",
    "\n",
    "SYMBOLS_PHASE_1 = [\n",
    "    PICK_BUY_DESIGN,\n",
    "    PICK_SILICON,\n",
    "    PICK_WAFER,\n",
    "    PICK_BORON,\n",
    "    PICK_PHOSPHOR\n",
    "]\n",
    "\n",
    "SYMBOLS_PHASE_2 = [\n",
    "    CLEANING,\n",
    "    FILM_DEPOSITION,\n",
    "    RESIST_COATING,\n",
    "    EXPOSURE,\n",
    "    DEVELOPMENT,\n",
    "    ETCHING,\n",
    "    IMPURITIES_IMPLANTATION,\n",
    "    ACTIVATION,\n",
    "    RESIST_STRIPPING,\n",
    "    ASSEMBLY,\n",
    "    TESTING,\n",
    "    PACKAGING\n",
    "]"
   ]
  },
  {
   "cell_type": "code",
   "execution_count": 5,
   "metadata": {},
   "outputs": [],
   "source": [
    "# service names\n",
    "DESIGN_SERVICE_NAME_USA = \"design_usa\"                                      # human\n",
    "DESIGN_SERVICE_NAME_UK = \"design_uk\"                                        # human\n",
    "DESIGN_SERVICE_NAME_CHINA = \"design_china\"                                  # human\n",
    "DESIGN_SERVICE_NAME_TAIWAN = \"design_taiwan\"                                # human\n",
    "SILICON_WAREHOUSE_SERVICE_NAME = \"silicon_warehouse\"                        # warehouse\n",
    "WAFER_WAREHOUSE_SERVICE_NAME = \"wafer_warehouse\"                            # warehouse\n",
    "BORON_WAREHOUSE_SERVICE_NAME = \"boron_warehouse\"                            # warehouse\n",
    "PHOSPHOR_WAREHOUSE_SERVICE_NAME = \"phosphor_warehouse\"                      # warehouse\n",
    "SILICON_SERVICE_NAME_CHINA = \"silicon_china\"                                # human\n",
    "SILICON_SERVICE_NAME_RUSSIA = \"silicon_russia\"                              # human\n",
    "SILICON_SERVICE_NAME_NORWAY = \"silicon_norway\"                              # human\n",
    "SILICON_SERVICE_NAME_USA = \"silicon_usa\"                                    # human\n",
    "SILICON_SERVICE_NAME_FRANCE = \"silicon_france\"                              # human\n",
    "SILICON_SERVICE_NAME_BRAZIL = \"silicon_brazil\"                              # human\n",
    "SILICON_SERVICE_NAME_MALAYSIA = \"silicon_malaysia\"                          # human\n",
    "WAFER_SERVICE_NAME_JAPAN = \"wafer_japan\"                                    # human\n",
    "WAFER_SERVICE_NAME_SOUTH_KOREA = \"wafer_south_korea\"                        # human\n",
    "BORON_SERVICE_NAME_TURKEY = \"boron_turkey\"                                  # human\n",
    "BORON_SERVICE_NAME_USA = \"boron_usa\"                                        # human\n",
    "BORON_SERVICE_NAME_KAZAKHSTAN = \"boron_kazakhstan\"                          # human\n",
    "BORON_SERVICE_NAME_CHILE = \"boron_chile\"                                    # human\n",
    "BORON_SERVICE_NAME_CHINA = \"boron_china\"                                    # human\n",
    "BORON_SERVICE_NAME_ARGENTINA = \"boron_argentina\"                            # human\n",
    "BORON_SERVICE_NAME_RUSSIA = \"boron_russia\"                                  # human\n",
    "BORON_SERVICE_NAME_BOLIVIA = \"boron_bolivia\"                                # human\n",
    "PHOSPHOR_SERVICE_NAME_MOROCCO = \"phosphor_morocco\"                          # human\n",
    "PHOSPHOR_SERVICE_NAME_CHINA = \"phosphor_china\"                              # human\n",
    "PHOSPHOR_SERVICE_NAME_USA = \"phosphor_usa\"                                  # human\n",
    "CLEANING_HUMAN_SERVICE_NAME = \"cleaning_human\"                              # human\n",
    "CLEANING_SERVICE_NAME = \"cleaning_machine\"                                  # machine\n",
    "FILM_DEPOSITION1_SERVICE_NAME = \"film_deposition_machine1\"                  # machine\n",
    "FILM_DEPOSITION2_SERVICE_NAME = \"film_deposition_machine2\"                  # machine\n",
    "RESIST_COATING1_SERVICE_NAME = \"resist_coating_machine1\"                    # machine\n",
    "RESIST_COATING2_SERVICE_NAME = \"resist_coating_machine2\"                    # machine\n",
    "EXPOSURE_HUMAN_SERVICE_NAME = \"exposure_human\"                              # human\n",
    "EXPOSURE_SERVICE_NAME = \"exposure_machine\"                                  # machine\n",
    "DEVELOPMENT1_SERVICE_NAME = \"development1_machine\"                          # machine\n",
    "DEVELOPMENT2_SERVICE_NAME = \"development2_machine\"                          # machine\n",
    "ETCHING1_SERVICE_NAME = \"etching1_machine\"                                  # machine\n",
    "ETCHING2_SERVICE_NAME = \"etching2_machine\"                                  # machine\n",
    "IMPURITIES_IMPLANTATION1_SERVICE_NAME = \"impurities_implantation1_machine\"  # machine\n",
    "IMPURITIES_IMPLANTATION2_SERVICE_NAME = \"impurities_implantation2_machine\"  # machine\n",
    "ACTIVATION_HUMAN_SERVICE_NAME = \"activation_human\"                          # human\n",
    "ACTIVATION_SERVICE_NAME = \"activation_machine\"                              # machine\n",
    "RESIST_STRIPPING1_SERVICE_NAME = \"resist_stripping1_machine\"                # machine\n",
    "RESIST_STRIPPING2_SERVICE_NAME = \"resist_stripping2_machine\"                # machine\n",
    "ASSEMBLY_HUMAN_SERVICE_NAME = \"assembly_human\"                              # human\n",
    "ASSEMBLY_SERVICE_NAME = \"assembly_machine\"                                  # machine\n",
    "TESTING_HUMAN_SERVICE_NAME = \"testing_human\"                                # human\n",
    "TESTING_SERVICE_NAME = \"testing_machine\"                                    # machine\n",
    "PACKAGING_HUMAN_SERVICE_NAME = \"packaging_human\"                            # human\n",
    "PACKAGING_SERVICE_NAME = \"packaging_machine\"                                # human"
   ]
  },
  {
   "cell_type": "markdown",
   "metadata": {},
   "source": [
    "We have different type of services:\n",
    "\n",
    "- generic breakable machines;\n",
    "- complex breakable machines;\n",
    "- warehouse machines;\n",
    "- human workers"
   ]
  },
  {
   "cell_type": "code",
   "execution_count": 6,
   "metadata": {},
   "outputs": [],
   "source": [
    "def build_generic_breakable_service(service_name: str, action_name: str, broken_prob: float, broken_reward: float, action_reward: float):\n",
    "    assert 0.0 <= broken_prob <= 1.0\n",
    "    deterministic_prob = 1.0\n",
    "    success_prob = deterministic_prob - broken_prob\n",
    "    transitions = {\n",
    "        \"available\": {\n",
    "          action_name: ({\"done\": success_prob, \"broken\": broken_prob}, action_reward),\n",
    "        },\n",
    "        \"broken\": {\n",
    "            f\"check_{action_name}\": ({\"available\": 1.0}, broken_reward),\n",
    "        },\n",
    "        \"done\": {\n",
    "            f\"check_{action_name}\": ({\"available\": 1.0}, 0.0),\n",
    "        }\n",
    "    }\n",
    "    final_states = {\"available\"}\n",
    "    initial_state = \"available\"\n",
    "    return build_service_from_transitions(transitions, initial_state, final_states)  # type: ignore\n",
    "\n",
    "def build_complex_breakable_service(service_name: str, action_name: str, broken_prob: float, unemployable_prob: float, broken_reward: float, action_reward: float) -> Service:\n",
    "    assert 0.0 <= broken_prob <= 1.0\n",
    "    deterministic_prob = 1.0\n",
    "    configure_success_prob = deterministic_prob - unemployable_prob\n",
    "    op_success_prob = deterministic_prob - broken_prob\n",
    "    transitions = {\n",
    "        \"ready\": { # current state\n",
    "            f\"CONFIG[{action_name}]\": # action\n",
    "                (\n",
    "                    {\n",
    "                        \"configured\": deterministic_prob # next state : prob\n",
    "                    },\n",
    "                    0.0\n",
    "                ),\n",
    "        },\n",
    "        \"configured\": {\n",
    "            f\"CHECKED[{action_name}]\":\n",
    "                (\n",
    "                    {\n",
    "                    \"executing\": configure_success_prob,\n",
    "                    \"broken\": unemployable_prob\n",
    "                    } if unemployable_prob > 0.0 else {\"executing\": configure_success_prob},\n",
    "                    0.0\n",
    "                ),\n",
    "        },\n",
    "        \"executing\": {\n",
    "            action_name: # operation\n",
    "                (\n",
    "                    {\n",
    "                        \"ready\": op_success_prob,\n",
    "                        \"broken\": broken_prob\n",
    "                    } if broken_prob > 0.0 else {\"ready\": op_success_prob},\n",
    "                    action_reward\n",
    "                ),\n",
    "        },\n",
    "        \"broken\": {\n",
    "            f\"RESTORE[{action_name}]\":\n",
    "               (\n",
    "                   {\n",
    "                       \"repairing\": deterministic_prob\n",
    "                   },\n",
    "                   broken_reward\n",
    "               ),\n",
    "        },\n",
    "        \"repairing\": {\n",
    "            f\"REPAIRED[{action_name}]\":\n",
    "                (\n",
    "                    {\n",
    "                        \"ready\": deterministic_prob\n",
    "                    },\n",
    "                    0.0\n",
    "                ),\n",
    "        },\n",
    "\n",
    "    }\n",
    "    final_states = {\"ready\"}\n",
    "    initial_state = \"ready\"\n",
    "    return build_service_from_transitions(transitions, initial_state, final_states)  # type: ignore\n",
    "\n",
    "def build_generic_service_one_state(\n",
    "    service_name: str,\n",
    "    operation_names: Set[str],\n",
    "    action_reward: float,\n",
    ") -> Service:\n",
    "    \"\"\"Build the one state device.\"\"\"\n",
    "    transitions = {\n",
    "        \"ready\": {\n",
    "            operation_name: ({\"ready\": 1.0}, action_reward) for operation_name in operation_names\n",
    "        },\n",
    "    }\n",
    "    final_states = {\"ready\"}\n",
    "    initial_state = \"ready\"\n",
    "    return build_service_from_transitions(transitions, initial_state, final_states)  # type: ignore"
   ]
  },
  {
   "cell_type": "code",
   "execution_count": 7,
   "metadata": {},
   "outputs": [
    {
     "data": {
      "text/plain": "<IPython.core.display.SVG object>",
      "image/svg+xml": "<svg xmlns=\"http://www.w3.org/2000/svg\" xmlns:xlink=\"http://www.w3.org/1999/xlink\" width=\"209pt\" height=\"110pt\" viewBox=\"0.00 0.00 209.05 110.09\">\n<g id=\"graph0\" class=\"graph\" transform=\"scale(1 1) rotate(0) translate(4 106.09)\">\n<polygon fill=\"white\" stroke=\"none\" points=\"-4,4 -4,-106.09 205.05,-106.09 205.05,4 -4,4\"/>\n<!-- fake -->\n<g id=\"node1\" class=\"node\">\n<title>fake</title>\n</g>\n<!-- ready -->\n<g id=\"node2\" class=\"node\">\n<title>ready</title>\n<ellipse fill=\"none\" stroke=\"black\" cx=\"125.55\" cy=\"-34.55\" rx=\"30.59\" ry=\"30.59\"/>\n<ellipse fill=\"none\" stroke=\"black\" cx=\"125.55\" cy=\"-34.55\" rx=\"34.59\" ry=\"34.59\"/>\n<text text-anchor=\"middle\" x=\"125.55\" y=\"-30.85\" font-family=\"Times New Roman,serif\" font-size=\"14.00\">ready</text>\n</g>\n<!-- fake&#45;&gt;ready -->\n<g id=\"edge1\" class=\"edge\">\n<title>fake-&gt;ready</title>\n<path fill=\"none\" stroke=\"black\" stroke-width=\"2\" d=\"M54.38,-34.55C62.06,-34.55 70.67,-34.55 79.17,-34.55\"/>\n<polygon fill=\"black\" stroke=\"black\" stroke-width=\"2\" points=\"77.55,-38.05 87.55,-34.55 77.55,-31.05 77.55,-38.05\"/>\n</g>\n<!-- ready&#45;&gt;ready -->\n<g id=\"edge2\" class=\"edge\">\n<title>ready-&gt;ready</title>\n<path fill=\"none\" stroke=\"black\" d=\"M115.61,-68.16C115.76,-78.74 119.07,-87.09 125.55,-87.09 129.49,-87.09 132.27,-83.99 133.86,-79.17\"/>\n<polygon fill=\"black\" stroke=\"black\" points=\"137.27,-80.06 135.27,-69.65 130.35,-79.03 137.27,-80.06\"/>\n<text text-anchor=\"middle\" x=\"125.55\" y=\"-90.89\" font-family=\"Times New Roman,serif\" font-size=\"14.00\">pick_buy_design, 1.0, -2.0</text>\n</g>\n</g>\n</svg>"
     },
     "metadata": {},
     "output_type": "display_data"
    },
    {
     "data": {
      "text/plain": "<IPython.core.display.SVG object>",
      "image/svg+xml": "<svg xmlns=\"http://www.w3.org/2000/svg\" xmlns:xlink=\"http://www.w3.org/1999/xlink\" width=\"209pt\" height=\"110pt\" viewBox=\"0.00 0.00 209.05 110.09\">\n<g id=\"graph0\" class=\"graph\" transform=\"scale(1 1) rotate(0) translate(4 106.09)\">\n<polygon fill=\"white\" stroke=\"none\" points=\"-4,4 -4,-106.09 205.05,-106.09 205.05,4 -4,4\"/>\n<!-- fake -->\n<g id=\"node1\" class=\"node\">\n<title>fake</title>\n</g>\n<!-- ready -->\n<g id=\"node2\" class=\"node\">\n<title>ready</title>\n<ellipse fill=\"none\" stroke=\"black\" cx=\"125.55\" cy=\"-34.55\" rx=\"30.59\" ry=\"30.59\"/>\n<ellipse fill=\"none\" stroke=\"black\" cx=\"125.55\" cy=\"-34.55\" rx=\"34.59\" ry=\"34.59\"/>\n<text text-anchor=\"middle\" x=\"125.55\" y=\"-30.85\" font-family=\"Times New Roman,serif\" font-size=\"14.00\">ready</text>\n</g>\n<!-- fake&#45;&gt;ready -->\n<g id=\"edge1\" class=\"edge\">\n<title>fake-&gt;ready</title>\n<path fill=\"none\" stroke=\"black\" stroke-width=\"2\" d=\"M54.38,-34.55C62.06,-34.55 70.67,-34.55 79.17,-34.55\"/>\n<polygon fill=\"black\" stroke=\"black\" stroke-width=\"2\" points=\"77.55,-38.05 87.55,-34.55 77.55,-31.05 77.55,-38.05\"/>\n</g>\n<!-- ready&#45;&gt;ready -->\n<g id=\"edge2\" class=\"edge\">\n<title>ready-&gt;ready</title>\n<path fill=\"none\" stroke=\"black\" d=\"M115.61,-68.16C115.76,-78.74 119.07,-87.09 125.55,-87.09 129.49,-87.09 132.27,-83.99 133.86,-79.17\"/>\n<polygon fill=\"black\" stroke=\"black\" points=\"137.27,-80.06 135.27,-69.65 130.35,-79.03 137.27,-80.06\"/>\n<text text-anchor=\"middle\" x=\"125.55\" y=\"-90.89\" font-family=\"Times New Roman,serif\" font-size=\"14.00\">pick_buy_design, 1.0, -6.8</text>\n</g>\n</g>\n</svg>"
     },
     "metadata": {},
     "output_type": "display_data"
    },
    {
     "data": {
      "text/plain": "<IPython.core.display.SVG object>",
      "image/svg+xml": "<svg xmlns=\"http://www.w3.org/2000/svg\" xmlns:xlink=\"http://www.w3.org/1999/xlink\" width=\"212pt\" height=\"110pt\" viewBox=\"0.00 0.00 212.05 110.09\">\n<g id=\"graph0\" class=\"graph\" transform=\"scale(1 1) rotate(0) translate(4 106.09)\">\n<polygon fill=\"white\" stroke=\"none\" points=\"-4,4 -4,-106.09 208.05,-106.09 208.05,4 -4,4\"/>\n<!-- fake -->\n<g id=\"node1\" class=\"node\">\n<title>fake</title>\n</g>\n<!-- ready -->\n<g id=\"node2\" class=\"node\">\n<title>ready</title>\n<ellipse fill=\"none\" stroke=\"black\" cx=\"125.55\" cy=\"-34.55\" rx=\"30.59\" ry=\"30.59\"/>\n<ellipse fill=\"none\" stroke=\"black\" cx=\"125.55\" cy=\"-34.55\" rx=\"34.59\" ry=\"34.59\"/>\n<text text-anchor=\"middle\" x=\"125.55\" y=\"-30.85\" font-family=\"Times New Roman,serif\" font-size=\"14.00\">ready</text>\n</g>\n<!-- fake&#45;&gt;ready -->\n<g id=\"edge1\" class=\"edge\">\n<title>fake-&gt;ready</title>\n<path fill=\"none\" stroke=\"black\" stroke-width=\"2\" d=\"M54.38,-34.55C62.06,-34.55 70.67,-34.55 79.17,-34.55\"/>\n<polygon fill=\"black\" stroke=\"black\" stroke-width=\"2\" points=\"77.55,-38.05 87.55,-34.55 77.55,-31.05 77.55,-38.05\"/>\n</g>\n<!-- ready&#45;&gt;ready -->\n<g id=\"edge2\" class=\"edge\">\n<title>ready-&gt;ready</title>\n<path fill=\"none\" stroke=\"black\" d=\"M115.61,-68.16C115.76,-78.74 119.07,-87.09 125.55,-87.09 129.49,-87.09 132.27,-83.99 133.86,-79.17\"/>\n<polygon fill=\"black\" stroke=\"black\" points=\"137.27,-80.06 135.27,-69.65 130.35,-79.03 137.27,-80.06\"/>\n<text text-anchor=\"middle\" x=\"125.55\" y=\"-90.89\" font-family=\"Times New Roman,serif\" font-size=\"14.00\">pick_buy_design, 1.0, -11.7</text>\n</g>\n</g>\n</svg>"
     },
     "metadata": {},
     "output_type": "display_data"
    },
    {
     "data": {
      "text/plain": "<IPython.core.display.SVG object>",
      "image/svg+xml": "<svg xmlns=\"http://www.w3.org/2000/svg\" xmlns:xlink=\"http://www.w3.org/1999/xlink\" width=\"212pt\" height=\"110pt\" viewBox=\"0.00 0.00 212.05 110.09\">\n<g id=\"graph0\" class=\"graph\" transform=\"scale(1 1) rotate(0) translate(4 106.09)\">\n<polygon fill=\"white\" stroke=\"none\" points=\"-4,4 -4,-106.09 208.05,-106.09 208.05,4 -4,4\"/>\n<!-- fake -->\n<g id=\"node1\" class=\"node\">\n<title>fake</title>\n</g>\n<!-- ready -->\n<g id=\"node2\" class=\"node\">\n<title>ready</title>\n<ellipse fill=\"none\" stroke=\"black\" cx=\"125.55\" cy=\"-34.55\" rx=\"30.59\" ry=\"30.59\"/>\n<ellipse fill=\"none\" stroke=\"black\" cx=\"125.55\" cy=\"-34.55\" rx=\"34.59\" ry=\"34.59\"/>\n<text text-anchor=\"middle\" x=\"125.55\" y=\"-30.85\" font-family=\"Times New Roman,serif\" font-size=\"14.00\">ready</text>\n</g>\n<!-- fake&#45;&gt;ready -->\n<g id=\"edge1\" class=\"edge\">\n<title>fake-&gt;ready</title>\n<path fill=\"none\" stroke=\"black\" stroke-width=\"2\" d=\"M54.38,-34.55C62.06,-34.55 70.67,-34.55 79.17,-34.55\"/>\n<polygon fill=\"black\" stroke=\"black\" stroke-width=\"2\" points=\"77.55,-38.05 87.55,-34.55 77.55,-31.05 77.55,-38.05\"/>\n</g>\n<!-- ready&#45;&gt;ready -->\n<g id=\"edge2\" class=\"edge\">\n<title>ready-&gt;ready</title>\n<path fill=\"none\" stroke=\"black\" d=\"M115.61,-68.16C115.76,-78.74 119.07,-87.09 125.55,-87.09 129.49,-87.09 132.27,-83.99 133.86,-79.17\"/>\n<polygon fill=\"black\" stroke=\"black\" points=\"137.27,-80.06 135.27,-69.65 130.35,-79.03 137.27,-80.06\"/>\n<text text-anchor=\"middle\" x=\"125.55\" y=\"-90.89\" font-family=\"Times New Roman,serif\" font-size=\"14.00\">pick_buy_design, 1.0, -12.2</text>\n</g>\n</g>\n</svg>"
     },
     "metadata": {},
     "output_type": "display_data"
    }
   ],
   "source": [
    "def design_service(name: str, action_reward: float) -> Service:\n",
    "    \"\"\"Build the design device.\"\"\"\n",
    "    return build_generic_service_one_state(\n",
    "        name,\n",
    "        {PICK_BUY_DESIGN},\n",
    "        action_reward=action_reward\n",
    "    )\n",
    "\n",
    "service_design_usa = design_service(DESIGN_SERVICE_NAME_USA, USA_REWARD)\n",
    "service_design_uk = design_service(DESIGN_SERVICE_NAME_UK, UK_REWARD)\n",
    "service_design_china = design_service(DESIGN_SERVICE_NAME_CHINA, CHINA_REWARD)\n",
    "service_design_taiwan = design_service(DESIGN_SERVICE_NAME_TAIWAN, TAIWAN_REWARD)\n",
    "render_service(service_design_usa)\n",
    "render_service(service_design_uk)\n",
    "render_service(service_design_china)\n",
    "render_service(service_design_taiwan)"
   ]
  },
  {
   "cell_type": "code",
   "execution_count": 8,
   "metadata": {},
   "outputs": [
    {
     "data": {
      "text/plain": "<IPython.core.display.SVG object>",
      "image/svg+xml": "<svg xmlns=\"http://www.w3.org/2000/svg\" xmlns:xlink=\"http://www.w3.org/1999/xlink\" width=\"195pt\" height=\"110pt\" viewBox=\"0.00 0.00 194.55 110.09\">\n<g id=\"graph0\" class=\"graph\" transform=\"scale(1 1) rotate(0) translate(4 106.09)\">\n<polygon fill=\"white\" stroke=\"none\" points=\"-4,4 -4,-106.09 190.55,-106.09 190.55,4 -4,4\"/>\n<!-- fake -->\n<g id=\"node1\" class=\"node\">\n<title>fake</title>\n</g>\n<!-- ready -->\n<g id=\"node2\" class=\"node\">\n<title>ready</title>\n<ellipse fill=\"none\" stroke=\"black\" cx=\"125.55\" cy=\"-34.55\" rx=\"30.59\" ry=\"30.59\"/>\n<ellipse fill=\"none\" stroke=\"black\" cx=\"125.55\" cy=\"-34.55\" rx=\"34.59\" ry=\"34.59\"/>\n<text text-anchor=\"middle\" x=\"125.55\" y=\"-30.85\" font-family=\"Times New Roman,serif\" font-size=\"14.00\">ready</text>\n</g>\n<!-- fake&#45;&gt;ready -->\n<g id=\"edge1\" class=\"edge\">\n<title>fake-&gt;ready</title>\n<path fill=\"none\" stroke=\"black\" stroke-width=\"2\" d=\"M54.38,-34.55C62.06,-34.55 70.67,-34.55 79.17,-34.55\"/>\n<polygon fill=\"black\" stroke=\"black\" stroke-width=\"2\" points=\"77.55,-38.05 87.55,-34.55 77.55,-31.05 77.55,-38.05\"/>\n</g>\n<!-- ready&#45;&gt;ready -->\n<g id=\"edge2\" class=\"edge\">\n<title>ready-&gt;ready</title>\n<path fill=\"none\" stroke=\"black\" d=\"M115.61,-68.16C115.76,-78.74 119.07,-87.09 125.55,-87.09 129.49,-87.09 132.27,-83.99 133.86,-79.17\"/>\n<polygon fill=\"black\" stroke=\"black\" points=\"137.27,-80.06 135.27,-69.65 130.35,-79.03 137.27,-80.06\"/>\n<text text-anchor=\"middle\" x=\"125.55\" y=\"-90.89\" font-family=\"Times New Roman,serif\" font-size=\"14.00\">pick_silicon, 1.0, -1.0</text>\n</g>\n</g>\n</svg>"
     },
     "metadata": {},
     "output_type": "display_data"
    }
   ],
   "source": [
    "def silicon_warehouse_service(name: str = SILICON_WAREHOUSE_SERVICE_NAME, action_reward: float = DEFAULT_USA_REWARD) -> Service:\n",
    "    \"\"\"Build the silicon warehouse device.\"\"\"\n",
    "    return build_generic_service_one_state(\n",
    "        name,\n",
    "        {PICK_SILICON},\n",
    "        action_reward=action_reward\n",
    "    )\n",
    "\n",
    "service_silicon_warehouse = silicon_warehouse_service()\n",
    "render_service(service_silicon_warehouse)"
   ]
  },
  {
   "cell_type": "code",
   "execution_count": 9,
   "metadata": {},
   "outputs": [
    {
     "data": {
      "text/plain": "<IPython.core.display.SVG object>",
      "image/svg+xml": "<svg xmlns=\"http://www.w3.org/2000/svg\" xmlns:xlink=\"http://www.w3.org/1999/xlink\" width=\"198pt\" height=\"110pt\" viewBox=\"0.00 0.00 198.05 110.09\">\n<g id=\"graph0\" class=\"graph\" transform=\"scale(1 1) rotate(0) translate(4 106.09)\">\n<polygon fill=\"white\" stroke=\"none\" points=\"-4,4 -4,-106.09 194.05,-106.09 194.05,4 -4,4\"/>\n<!-- fake -->\n<g id=\"node1\" class=\"node\">\n<title>fake</title>\n</g>\n<!-- ready -->\n<g id=\"node2\" class=\"node\">\n<title>ready</title>\n<ellipse fill=\"none\" stroke=\"black\" cx=\"125.55\" cy=\"-34.55\" rx=\"30.59\" ry=\"30.59\"/>\n<ellipse fill=\"none\" stroke=\"black\" cx=\"125.55\" cy=\"-34.55\" rx=\"34.59\" ry=\"34.59\"/>\n<text text-anchor=\"middle\" x=\"125.55\" y=\"-30.85\" font-family=\"Times New Roman,serif\" font-size=\"14.00\">ready</text>\n</g>\n<!-- fake&#45;&gt;ready -->\n<g id=\"edge1\" class=\"edge\">\n<title>fake-&gt;ready</title>\n<path fill=\"none\" stroke=\"black\" stroke-width=\"2\" d=\"M54.38,-34.55C62.06,-34.55 70.67,-34.55 79.17,-34.55\"/>\n<polygon fill=\"black\" stroke=\"black\" stroke-width=\"2\" points=\"77.55,-38.05 87.55,-34.55 77.55,-31.05 77.55,-38.05\"/>\n</g>\n<!-- ready&#45;&gt;ready -->\n<g id=\"edge2\" class=\"edge\">\n<title>ready-&gt;ready</title>\n<path fill=\"none\" stroke=\"black\" d=\"M115.61,-68.16C115.76,-78.74 119.07,-87.09 125.55,-87.09 129.49,-87.09 132.27,-83.99 133.86,-79.17\"/>\n<polygon fill=\"black\" stroke=\"black\" points=\"137.27,-80.06 135.27,-69.65 130.35,-79.03 137.27,-80.06\"/>\n<text text-anchor=\"middle\" x=\"125.55\" y=\"-90.89\" font-family=\"Times New Roman,serif\" font-size=\"14.00\">pick_silicon, 1.0, -11.7</text>\n</g>\n</g>\n</svg>"
     },
     "metadata": {},
     "output_type": "display_data"
    },
    {
     "data": {
      "text/plain": "<IPython.core.display.SVG object>",
      "image/svg+xml": "<svg xmlns=\"http://www.w3.org/2000/svg\" xmlns:xlink=\"http://www.w3.org/1999/xlink\" width=\"202pt\" height=\"110pt\" viewBox=\"0.00 0.00 201.55 110.09\">\n<g id=\"graph0\" class=\"graph\" transform=\"scale(1 1) rotate(0) translate(4 106.09)\">\n<polygon fill=\"white\" stroke=\"none\" points=\"-4,4 -4,-106.09 197.55,-106.09 197.55,4 -4,4\"/>\n<!-- fake -->\n<g id=\"node1\" class=\"node\">\n<title>fake</title>\n</g>\n<!-- ready -->\n<g id=\"node2\" class=\"node\">\n<title>ready</title>\n<ellipse fill=\"none\" stroke=\"black\" cx=\"125.55\" cy=\"-34.55\" rx=\"30.59\" ry=\"30.59\"/>\n<ellipse fill=\"none\" stroke=\"black\" cx=\"125.55\" cy=\"-34.55\" rx=\"34.59\" ry=\"34.59\"/>\n<text text-anchor=\"middle\" x=\"125.55\" y=\"-30.85\" font-family=\"Times New Roman,serif\" font-size=\"14.00\">ready</text>\n</g>\n<!-- fake&#45;&gt;ready -->\n<g id=\"edge1\" class=\"edge\">\n<title>fake-&gt;ready</title>\n<path fill=\"none\" stroke=\"black\" stroke-width=\"2\" d=\"M54.38,-34.55C62.06,-34.55 70.67,-34.55 79.17,-34.55\"/>\n<polygon fill=\"black\" stroke=\"black\" stroke-width=\"2\" points=\"77.55,-38.05 87.55,-34.55 77.55,-31.05 77.55,-38.05\"/>\n</g>\n<!-- ready&#45;&gt;ready -->\n<g id=\"edge2\" class=\"edge\">\n<title>ready-&gt;ready</title>\n<path fill=\"none\" stroke=\"black\" d=\"M115.61,-68.16C115.76,-78.74 119.07,-87.09 125.55,-87.09 129.49,-87.09 132.27,-83.99 133.86,-79.17\"/>\n<polygon fill=\"black\" stroke=\"black\" points=\"137.27,-80.06 135.27,-69.65 130.35,-79.03 137.27,-80.06\"/>\n<text text-anchor=\"middle\" x=\"125.55\" y=\"-90.89\" font-family=\"Times New Roman,serif\" font-size=\"14.00\">pick_silicon, 1.0, -12.12</text>\n</g>\n</g>\n</svg>"
     },
     "metadata": {},
     "output_type": "display_data"
    },
    {
     "data": {
      "text/plain": "<IPython.core.display.SVG object>",
      "image/svg+xml": "<svg xmlns=\"http://www.w3.org/2000/svg\" xmlns:xlink=\"http://www.w3.org/1999/xlink\" width=\"198pt\" height=\"110pt\" viewBox=\"0.00 0.00 198.05 110.09\">\n<g id=\"graph0\" class=\"graph\" transform=\"scale(1 1) rotate(0) translate(4 106.09)\">\n<polygon fill=\"white\" stroke=\"none\" points=\"-4,4 -4,-106.09 194.05,-106.09 194.05,4 -4,4\"/>\n<!-- fake -->\n<g id=\"node1\" class=\"node\">\n<title>fake</title>\n</g>\n<!-- ready -->\n<g id=\"node2\" class=\"node\">\n<title>ready</title>\n<ellipse fill=\"none\" stroke=\"black\" cx=\"125.55\" cy=\"-34.55\" rx=\"30.59\" ry=\"30.59\"/>\n<ellipse fill=\"none\" stroke=\"black\" cx=\"125.55\" cy=\"-34.55\" rx=\"34.59\" ry=\"34.59\"/>\n<text text-anchor=\"middle\" x=\"125.55\" y=\"-30.85\" font-family=\"Times New Roman,serif\" font-size=\"14.00\">ready</text>\n</g>\n<!-- fake&#45;&gt;ready -->\n<g id=\"edge1\" class=\"edge\">\n<title>fake-&gt;ready</title>\n<path fill=\"none\" stroke=\"black\" stroke-width=\"2\" d=\"M54.38,-34.55C62.06,-34.55 70.67,-34.55 79.17,-34.55\"/>\n<polygon fill=\"black\" stroke=\"black\" stroke-width=\"2\" points=\"77.55,-38.05 87.55,-34.55 77.55,-31.05 77.55,-38.05\"/>\n</g>\n<!-- ready&#45;&gt;ready -->\n<g id=\"edge2\" class=\"edge\">\n<title>ready-&gt;ready</title>\n<path fill=\"none\" stroke=\"black\" d=\"M115.61,-68.16C115.76,-78.74 119.07,-87.09 125.55,-87.09 129.49,-87.09 132.27,-83.99 133.86,-79.17\"/>\n<polygon fill=\"black\" stroke=\"black\" points=\"137.27,-80.06 135.27,-69.65 130.35,-79.03 137.27,-80.06\"/>\n<text text-anchor=\"middle\" x=\"125.55\" y=\"-90.89\" font-family=\"Times New Roman,serif\" font-size=\"14.00\">pick_silicon, 1.0, -7.16</text>\n</g>\n</g>\n</svg>"
     },
     "metadata": {},
     "output_type": "display_data"
    },
    {
     "data": {
      "text/plain": "<IPython.core.display.SVG object>",
      "image/svg+xml": "<svg xmlns=\"http://www.w3.org/2000/svg\" xmlns:xlink=\"http://www.w3.org/1999/xlink\" width=\"195pt\" height=\"110pt\" viewBox=\"0.00 0.00 194.55 110.09\">\n<g id=\"graph0\" class=\"graph\" transform=\"scale(1 1) rotate(0) translate(4 106.09)\">\n<polygon fill=\"white\" stroke=\"none\" points=\"-4,4 -4,-106.09 190.55,-106.09 190.55,4 -4,4\"/>\n<!-- fake -->\n<g id=\"node1\" class=\"node\">\n<title>fake</title>\n</g>\n<!-- ready -->\n<g id=\"node2\" class=\"node\">\n<title>ready</title>\n<ellipse fill=\"none\" stroke=\"black\" cx=\"125.55\" cy=\"-34.55\" rx=\"30.59\" ry=\"30.59\"/>\n<ellipse fill=\"none\" stroke=\"black\" cx=\"125.55\" cy=\"-34.55\" rx=\"34.59\" ry=\"34.59\"/>\n<text text-anchor=\"middle\" x=\"125.55\" y=\"-30.85\" font-family=\"Times New Roman,serif\" font-size=\"14.00\">ready</text>\n</g>\n<!-- fake&#45;&gt;ready -->\n<g id=\"edge1\" class=\"edge\">\n<title>fake-&gt;ready</title>\n<path fill=\"none\" stroke=\"black\" stroke-width=\"2\" d=\"M54.38,-34.55C62.06,-34.55 70.67,-34.55 79.17,-34.55\"/>\n<polygon fill=\"black\" stroke=\"black\" stroke-width=\"2\" points=\"77.55,-38.05 87.55,-34.55 77.55,-31.05 77.55,-38.05\"/>\n</g>\n<!-- ready&#45;&gt;ready -->\n<g id=\"edge2\" class=\"edge\">\n<title>ready-&gt;ready</title>\n<path fill=\"none\" stroke=\"black\" d=\"M115.61,-68.16C115.76,-78.74 119.07,-87.09 125.55,-87.09 129.49,-87.09 132.27,-83.99 133.86,-79.17\"/>\n<polygon fill=\"black\" stroke=\"black\" points=\"137.27,-80.06 135.27,-69.65 130.35,-79.03 137.27,-80.06\"/>\n<text text-anchor=\"middle\" x=\"125.55\" y=\"-90.89\" font-family=\"Times New Roman,serif\" font-size=\"14.00\">pick_silicon, 1.0, -2.0</text>\n</g>\n</g>\n</svg>"
     },
     "metadata": {},
     "output_type": "display_data"
    },
    {
     "data": {
      "text/plain": "<IPython.core.display.SVG object>",
      "image/svg+xml": "<svg xmlns=\"http://www.w3.org/2000/svg\" xmlns:xlink=\"http://www.w3.org/1999/xlink\" width=\"195pt\" height=\"110pt\" viewBox=\"0.00 0.00 194.55 110.09\">\n<g id=\"graph0\" class=\"graph\" transform=\"scale(1 1) rotate(0) translate(4 106.09)\">\n<polygon fill=\"white\" stroke=\"none\" points=\"-4,4 -4,-106.09 190.55,-106.09 190.55,4 -4,4\"/>\n<!-- fake -->\n<g id=\"node1\" class=\"node\">\n<title>fake</title>\n</g>\n<!-- ready -->\n<g id=\"node2\" class=\"node\">\n<title>ready</title>\n<ellipse fill=\"none\" stroke=\"black\" cx=\"125.55\" cy=\"-34.55\" rx=\"30.59\" ry=\"30.59\"/>\n<ellipse fill=\"none\" stroke=\"black\" cx=\"125.55\" cy=\"-34.55\" rx=\"34.59\" ry=\"34.59\"/>\n<text text-anchor=\"middle\" x=\"125.55\" y=\"-30.85\" font-family=\"Times New Roman,serif\" font-size=\"14.00\">ready</text>\n</g>\n<!-- fake&#45;&gt;ready -->\n<g id=\"edge1\" class=\"edge\">\n<title>fake-&gt;ready</title>\n<path fill=\"none\" stroke=\"black\" stroke-width=\"2\" d=\"M54.38,-34.55C62.06,-34.55 70.67,-34.55 79.17,-34.55\"/>\n<polygon fill=\"black\" stroke=\"black\" stroke-width=\"2\" points=\"77.55,-38.05 87.55,-34.55 77.55,-31.05 77.55,-38.05\"/>\n</g>\n<!-- ready&#45;&gt;ready -->\n<g id=\"edge2\" class=\"edge\">\n<title>ready-&gt;ready</title>\n<path fill=\"none\" stroke=\"black\" d=\"M115.61,-68.16C115.76,-78.74 119.07,-87.09 125.55,-87.09 129.49,-87.09 132.27,-83.99 133.86,-79.17\"/>\n<polygon fill=\"black\" stroke=\"black\" points=\"137.27,-80.06 135.27,-69.65 130.35,-79.03 137.27,-80.06\"/>\n<text text-anchor=\"middle\" x=\"125.55\" y=\"-90.89\" font-family=\"Times New Roman,serif\" font-size=\"14.00\">pick_silicon, 1.0, -6.7</text>\n</g>\n</g>\n</svg>"
     },
     "metadata": {},
     "output_type": "display_data"
    },
    {
     "data": {
      "text/plain": "<IPython.core.display.SVG object>",
      "image/svg+xml": "<svg xmlns=\"http://www.w3.org/2000/svg\" xmlns:xlink=\"http://www.w3.org/1999/xlink\" width=\"195pt\" height=\"110pt\" viewBox=\"0.00 0.00 194.55 110.09\">\n<g id=\"graph0\" class=\"graph\" transform=\"scale(1 1) rotate(0) translate(4 106.09)\">\n<polygon fill=\"white\" stroke=\"none\" points=\"-4,4 -4,-106.09 190.55,-106.09 190.55,4 -4,4\"/>\n<!-- fake -->\n<g id=\"node1\" class=\"node\">\n<title>fake</title>\n</g>\n<!-- ready -->\n<g id=\"node2\" class=\"node\">\n<title>ready</title>\n<ellipse fill=\"none\" stroke=\"black\" cx=\"125.55\" cy=\"-34.55\" rx=\"30.59\" ry=\"30.59\"/>\n<ellipse fill=\"none\" stroke=\"black\" cx=\"125.55\" cy=\"-34.55\" rx=\"34.59\" ry=\"34.59\"/>\n<text text-anchor=\"middle\" x=\"125.55\" y=\"-30.85\" font-family=\"Times New Roman,serif\" font-size=\"14.00\">ready</text>\n</g>\n<!-- fake&#45;&gt;ready -->\n<g id=\"edge1\" class=\"edge\">\n<title>fake-&gt;ready</title>\n<path fill=\"none\" stroke=\"black\" stroke-width=\"2\" d=\"M54.38,-34.55C62.06,-34.55 70.67,-34.55 79.17,-34.55\"/>\n<polygon fill=\"black\" stroke=\"black\" stroke-width=\"2\" points=\"77.55,-38.05 87.55,-34.55 77.55,-31.05 77.55,-38.05\"/>\n</g>\n<!-- ready&#45;&gt;ready -->\n<g id=\"edge2\" class=\"edge\">\n<title>ready-&gt;ready</title>\n<path fill=\"none\" stroke=\"black\" d=\"M115.61,-68.16C115.76,-78.74 119.07,-87.09 125.55,-87.09 129.49,-87.09 132.27,-83.99 133.86,-79.17\"/>\n<polygon fill=\"black\" stroke=\"black\" points=\"137.27,-80.06 135.27,-69.65 130.35,-79.03 137.27,-80.06\"/>\n<text text-anchor=\"middle\" x=\"125.55\" y=\"-90.89\" font-family=\"Times New Roman,serif\" font-size=\"14.00\">pick_silicon, 1.0, -7.6</text>\n</g>\n</g>\n</svg>"
     },
     "metadata": {},
     "output_type": "display_data"
    },
    {
     "data": {
      "text/plain": "<IPython.core.display.SVG object>",
      "image/svg+xml": "<svg xmlns=\"http://www.w3.org/2000/svg\" xmlns:xlink=\"http://www.w3.org/1999/xlink\" width=\"202pt\" height=\"110pt\" viewBox=\"0.00 0.00 201.55 110.09\">\n<g id=\"graph0\" class=\"graph\" transform=\"scale(1 1) rotate(0) translate(4 106.09)\">\n<polygon fill=\"white\" stroke=\"none\" points=\"-4,4 -4,-106.09 197.55,-106.09 197.55,4 -4,4\"/>\n<!-- fake -->\n<g id=\"node1\" class=\"node\">\n<title>fake</title>\n</g>\n<!-- ready -->\n<g id=\"node2\" class=\"node\">\n<title>ready</title>\n<ellipse fill=\"none\" stroke=\"black\" cx=\"125.55\" cy=\"-34.55\" rx=\"30.59\" ry=\"30.59\"/>\n<ellipse fill=\"none\" stroke=\"black\" cx=\"125.55\" cy=\"-34.55\" rx=\"34.59\" ry=\"34.59\"/>\n<text text-anchor=\"middle\" x=\"125.55\" y=\"-30.85\" font-family=\"Times New Roman,serif\" font-size=\"14.00\">ready</text>\n</g>\n<!-- fake&#45;&gt;ready -->\n<g id=\"edge1\" class=\"edge\">\n<title>fake-&gt;ready</title>\n<path fill=\"none\" stroke=\"black\" stroke-width=\"2\" d=\"M54.38,-34.55C62.06,-34.55 70.67,-34.55 79.17,-34.55\"/>\n<polygon fill=\"black\" stroke=\"black\" stroke-width=\"2\" points=\"77.55,-38.05 87.55,-34.55 77.55,-31.05 77.55,-38.05\"/>\n</g>\n<!-- ready&#45;&gt;ready -->\n<g id=\"edge2\" class=\"edge\">\n<title>ready-&gt;ready</title>\n<path fill=\"none\" stroke=\"black\" d=\"M115.61,-68.16C115.76,-78.74 119.07,-87.09 125.55,-87.09 129.49,-87.09 132.27,-83.99 133.86,-79.17\"/>\n<polygon fill=\"black\" stroke=\"black\" points=\"137.27,-80.06 135.27,-69.65 130.35,-79.03 137.27,-80.06\"/>\n<text text-anchor=\"middle\" x=\"125.55\" y=\"-90.89\" font-family=\"Times New Roman,serif\" font-size=\"14.00\">pick_silicon, 1.0, -14.73</text>\n</g>\n</g>\n</svg>"
     },
     "metadata": {},
     "output_type": "display_data"
    }
   ],
   "source": [
    "def silicon_service(name: str, action_reward) -> Service:\n",
    "    \"\"\"Build the silicon device.\"\"\"\n",
    "    return build_generic_service_one_state(\n",
    "        name,\n",
    "        {PICK_SILICON},\n",
    "        action_reward=action_reward\n",
    "    )\n",
    "\n",
    "service_silicon_china = silicon_service(SILICON_SERVICE_NAME_CHINA, CHINA_REWARD)\n",
    "service_silicon_russia = silicon_service(SILICON_SERVICE_NAME_RUSSIA, RUSSIA_REWARD + WAR_REWARD)\n",
    "service_silicon_norway = silicon_service(SILICON_SERVICE_NAME_NORWAY, NORWAY_REWARD)\n",
    "service_silicon_usa = silicon_service(SILICON_SERVICE_NAME_USA, USA_REWARD)\n",
    "service_silicon_brazil = silicon_service(SILICON_SERVICE_NAME_BRAZIL, BRAZIL_REWARD)\n",
    "service_silicon_france = silicon_service(SILICON_SERVICE_NAME_FRANCE, FRANCE_REWARD)\n",
    "service_silicon_malaysia = silicon_service(SILICON_SERVICE_NAME_MALAYSIA, MALAYSIA_REWARD)\n",
    "render_service(service_silicon_china)\n",
    "render_service(service_silicon_russia)\n",
    "render_service(service_silicon_norway)\n",
    "render_service(service_silicon_usa)\n",
    "render_service(service_silicon_brazil)\n",
    "render_service(service_silicon_france)\n",
    "render_service(service_silicon_malaysia)"
   ]
  },
  {
   "cell_type": "code",
   "execution_count": 10,
   "metadata": {},
   "outputs": [
    {
     "data": {
      "text/plain": "<IPython.core.display.SVG object>",
      "image/svg+xml": "<svg xmlns=\"http://www.w3.org/2000/svg\" xmlns:xlink=\"http://www.w3.org/1999/xlink\" width=\"192pt\" height=\"110pt\" viewBox=\"0.00 0.00 192.05 110.09\">\n<g id=\"graph0\" class=\"graph\" transform=\"scale(1 1) rotate(0) translate(4 106.09)\">\n<polygon fill=\"white\" stroke=\"none\" points=\"-4,4 -4,-106.09 188.05,-106.09 188.05,4 -4,4\"/>\n<!-- fake -->\n<g id=\"node1\" class=\"node\">\n<title>fake</title>\n</g>\n<!-- ready -->\n<g id=\"node2\" class=\"node\">\n<title>ready</title>\n<ellipse fill=\"none\" stroke=\"black\" cx=\"125.55\" cy=\"-34.55\" rx=\"30.59\" ry=\"30.59\"/>\n<ellipse fill=\"none\" stroke=\"black\" cx=\"125.55\" cy=\"-34.55\" rx=\"34.59\" ry=\"34.59\"/>\n<text text-anchor=\"middle\" x=\"125.55\" y=\"-30.85\" font-family=\"Times New Roman,serif\" font-size=\"14.00\">ready</text>\n</g>\n<!-- fake&#45;&gt;ready -->\n<g id=\"edge1\" class=\"edge\">\n<title>fake-&gt;ready</title>\n<path fill=\"none\" stroke=\"black\" stroke-width=\"2\" d=\"M54.38,-34.55C62.06,-34.55 70.67,-34.55 79.17,-34.55\"/>\n<polygon fill=\"black\" stroke=\"black\" stroke-width=\"2\" points=\"77.55,-38.05 87.55,-34.55 77.55,-31.05 77.55,-38.05\"/>\n</g>\n<!-- ready&#45;&gt;ready -->\n<g id=\"edge2\" class=\"edge\">\n<title>ready-&gt;ready</title>\n<path fill=\"none\" stroke=\"black\" d=\"M115.61,-68.16C115.76,-78.74 119.07,-87.09 125.55,-87.09 129.49,-87.09 132.27,-83.99 133.86,-79.17\"/>\n<polygon fill=\"black\" stroke=\"black\" points=\"137.27,-80.06 135.27,-69.65 130.35,-79.03 137.27,-80.06\"/>\n<text text-anchor=\"middle\" x=\"125.55\" y=\"-90.89\" font-family=\"Times New Roman,serif\" font-size=\"14.00\">pick_wafer, 1.0, -1.0</text>\n</g>\n</g>\n</svg>"
     },
     "metadata": {},
     "output_type": "display_data"
    }
   ],
   "source": [
    "def wafer_warehouse_service(name: str = WAFER_WAREHOUSE_SERVICE_NAME, action_reward: float = DEFAULT_USA_REWARD) -> Service:\n",
    "    \"\"\"Build the wafer warehouse device.\"\"\"\n",
    "    return build_generic_service_one_state(\n",
    "        name,\n",
    "        {PICK_WAFER},\n",
    "        action_reward=action_reward\n",
    "    )\n",
    "\n",
    "service_wafer_warehouse = wafer_warehouse_service()\n",
    "render_service(service_wafer_warehouse)"
   ]
  },
  {
   "cell_type": "code",
   "execution_count": 11,
   "metadata": {},
   "outputs": [
    {
     "data": {
      "text/plain": "<IPython.core.display.SVG object>",
      "image/svg+xml": "<svg xmlns=\"http://www.w3.org/2000/svg\" xmlns:xlink=\"http://www.w3.org/1999/xlink\" width=\"196pt\" height=\"110pt\" viewBox=\"0.00 0.00 195.55 110.09\">\n<g id=\"graph0\" class=\"graph\" transform=\"scale(1 1) rotate(0) translate(4 106.09)\">\n<polygon fill=\"white\" stroke=\"none\" points=\"-4,4 -4,-106.09 191.55,-106.09 191.55,4 -4,4\"/>\n<!-- fake -->\n<g id=\"node1\" class=\"node\">\n<title>fake</title>\n</g>\n<!-- ready -->\n<g id=\"node2\" class=\"node\">\n<title>ready</title>\n<ellipse fill=\"none\" stroke=\"black\" cx=\"125.55\" cy=\"-34.55\" rx=\"30.59\" ry=\"30.59\"/>\n<ellipse fill=\"none\" stroke=\"black\" cx=\"125.55\" cy=\"-34.55\" rx=\"34.59\" ry=\"34.59\"/>\n<text text-anchor=\"middle\" x=\"125.55\" y=\"-30.85\" font-family=\"Times New Roman,serif\" font-size=\"14.00\">ready</text>\n</g>\n<!-- fake&#45;&gt;ready -->\n<g id=\"edge1\" class=\"edge\">\n<title>fake-&gt;ready</title>\n<path fill=\"none\" stroke=\"black\" stroke-width=\"2\" d=\"M54.38,-34.55C62.06,-34.55 70.67,-34.55 79.17,-34.55\"/>\n<polygon fill=\"black\" stroke=\"black\" stroke-width=\"2\" points=\"77.55,-38.05 87.55,-34.55 77.55,-31.05 77.55,-38.05\"/>\n</g>\n<!-- ready&#45;&gt;ready -->\n<g id=\"edge2\" class=\"edge\">\n<title>ready-&gt;ready</title>\n<path fill=\"none\" stroke=\"black\" d=\"M115.61,-68.16C115.76,-78.74 119.07,-87.09 125.55,-87.09 129.49,-87.09 132.27,-83.99 133.86,-79.17\"/>\n<polygon fill=\"black\" stroke=\"black\" points=\"137.27,-80.06 135.27,-69.65 130.35,-79.03 137.27,-80.06\"/>\n<text text-anchor=\"middle\" x=\"125.55\" y=\"-90.89\" font-family=\"Times New Roman,serif\" font-size=\"14.00\">pick_wafer, 1.0, -10.1</text>\n</g>\n</g>\n</svg>"
     },
     "metadata": {},
     "output_type": "display_data"
    },
    {
     "data": {
      "text/plain": "<IPython.core.display.SVG object>",
      "image/svg+xml": "<svg xmlns=\"http://www.w3.org/2000/svg\" xmlns:xlink=\"http://www.w3.org/1999/xlink\" width=\"196pt\" height=\"110pt\" viewBox=\"0.00 0.00 195.55 110.09\">\n<g id=\"graph0\" class=\"graph\" transform=\"scale(1 1) rotate(0) translate(4 106.09)\">\n<polygon fill=\"white\" stroke=\"none\" points=\"-4,4 -4,-106.09 191.55,-106.09 191.55,4 -4,4\"/>\n<!-- fake -->\n<g id=\"node1\" class=\"node\">\n<title>fake</title>\n</g>\n<!-- ready -->\n<g id=\"node2\" class=\"node\">\n<title>ready</title>\n<ellipse fill=\"none\" stroke=\"black\" cx=\"125.55\" cy=\"-34.55\" rx=\"30.59\" ry=\"30.59\"/>\n<ellipse fill=\"none\" stroke=\"black\" cx=\"125.55\" cy=\"-34.55\" rx=\"34.59\" ry=\"34.59\"/>\n<text text-anchor=\"middle\" x=\"125.55\" y=\"-30.85\" font-family=\"Times New Roman,serif\" font-size=\"14.00\">ready</text>\n</g>\n<!-- fake&#45;&gt;ready -->\n<g id=\"edge1\" class=\"edge\">\n<title>fake-&gt;ready</title>\n<path fill=\"none\" stroke=\"black\" stroke-width=\"2\" d=\"M54.38,-34.55C62.06,-34.55 70.67,-34.55 79.17,-34.55\"/>\n<polygon fill=\"black\" stroke=\"black\" stroke-width=\"2\" points=\"77.55,-38.05 87.55,-34.55 77.55,-31.05 77.55,-38.05\"/>\n</g>\n<!-- ready&#45;&gt;ready -->\n<g id=\"edge2\" class=\"edge\">\n<title>ready-&gt;ready</title>\n<path fill=\"none\" stroke=\"black\" d=\"M115.61,-68.16C115.76,-78.74 119.07,-87.09 125.55,-87.09 129.49,-87.09 132.27,-83.99 133.86,-79.17\"/>\n<polygon fill=\"black\" stroke=\"black\" points=\"137.27,-80.06 135.27,-69.65 130.35,-79.03 137.27,-80.06\"/>\n<text text-anchor=\"middle\" x=\"125.55\" y=\"-90.89\" font-family=\"Times New Roman,serif\" font-size=\"14.00\">pick_wafer, 1.0, -10.7</text>\n</g>\n</g>\n</svg>"
     },
     "metadata": {},
     "output_type": "display_data"
    }
   ],
   "source": [
    "def wafer_service(name: str, action_reward: float) -> Service:\n",
    "    \"\"\"Build the wafer device.\"\"\"\n",
    "    return build_generic_service_one_state(\n",
    "        name,\n",
    "        {PICK_WAFER},\n",
    "        action_reward=action_reward\n",
    "    )\n",
    "\n",
    "service_wafer_japan = wafer_service(WAFER_SERVICE_NAME_JAPAN, JAPAN_REWARD)\n",
    "service_wafer_south_korea = wafer_service(WAFER_SERVICE_NAME_SOUTH_KOREA, SOUTH_KOREA)\n",
    "render_service(service_wafer_japan)\n",
    "render_service(service_wafer_south_korea)"
   ]
  },
  {
   "cell_type": "code",
   "execution_count": 12,
   "metadata": {},
   "outputs": [
    {
     "data": {
      "text/plain": "<IPython.core.display.SVG object>",
      "image/svg+xml": "<svg xmlns=\"http://www.w3.org/2000/svg\" xmlns:xlink=\"http://www.w3.org/1999/xlink\" width=\"194pt\" height=\"110pt\" viewBox=\"0.00 0.00 193.55 110.09\">\n<g id=\"graph0\" class=\"graph\" transform=\"scale(1 1) rotate(0) translate(4 106.09)\">\n<polygon fill=\"white\" stroke=\"none\" points=\"-4,4 -4,-106.09 189.55,-106.09 189.55,4 -4,4\"/>\n<!-- fake -->\n<g id=\"node1\" class=\"node\">\n<title>fake</title>\n</g>\n<!-- ready -->\n<g id=\"node2\" class=\"node\">\n<title>ready</title>\n<ellipse fill=\"none\" stroke=\"black\" cx=\"125.55\" cy=\"-34.55\" rx=\"30.59\" ry=\"30.59\"/>\n<ellipse fill=\"none\" stroke=\"black\" cx=\"125.55\" cy=\"-34.55\" rx=\"34.59\" ry=\"34.59\"/>\n<text text-anchor=\"middle\" x=\"125.55\" y=\"-30.85\" font-family=\"Times New Roman,serif\" font-size=\"14.00\">ready</text>\n</g>\n<!-- fake&#45;&gt;ready -->\n<g id=\"edge1\" class=\"edge\">\n<title>fake-&gt;ready</title>\n<path fill=\"none\" stroke=\"black\" stroke-width=\"2\" d=\"M54.38,-34.55C62.06,-34.55 70.67,-34.55 79.17,-34.55\"/>\n<polygon fill=\"black\" stroke=\"black\" stroke-width=\"2\" points=\"77.55,-38.05 87.55,-34.55 77.55,-31.05 77.55,-38.05\"/>\n</g>\n<!-- ready&#45;&gt;ready -->\n<g id=\"edge2\" class=\"edge\">\n<title>ready-&gt;ready</title>\n<path fill=\"none\" stroke=\"black\" d=\"M115.61,-68.16C115.76,-78.74 119.07,-87.09 125.55,-87.09 129.49,-87.09 132.27,-83.99 133.86,-79.17\"/>\n<polygon fill=\"black\" stroke=\"black\" points=\"137.27,-80.06 135.27,-69.65 130.35,-79.03 137.27,-80.06\"/>\n<text text-anchor=\"middle\" x=\"125.55\" y=\"-90.89\" font-family=\"Times New Roman,serif\" font-size=\"14.00\">pick_boron, 1.0, -1.0</text>\n</g>\n</g>\n</svg>"
     },
     "metadata": {},
     "output_type": "display_data"
    }
   ],
   "source": [
    "def boron_warehouse_service(name: str = BORON_WAREHOUSE_SERVICE_NAME, action_reward: float = DEFAULT_USA_REWARD) -> Service:\n",
    "    \"\"\"Build the boron warehouse device.\"\"\"\n",
    "    return build_generic_service_one_state(\n",
    "        name,\n",
    "        {PICK_BORON},\n",
    "        action_reward=action_reward\n",
    "    )\n",
    "\n",
    "service_boron_warehouse = boron_warehouse_service()\n",
    "render_service(service_boron_warehouse)"
   ]
  },
  {
   "cell_type": "code",
   "execution_count": 13,
   "metadata": {},
   "outputs": [
    {
     "data": {
      "text/plain": "<IPython.core.display.SVG object>",
      "image/svg+xml": "<svg xmlns=\"http://www.w3.org/2000/svg\" xmlns:xlink=\"http://www.w3.org/1999/xlink\" width=\"200pt\" height=\"110pt\" viewBox=\"0.00 0.00 200.05 110.09\">\n<g id=\"graph0\" class=\"graph\" transform=\"scale(1 1) rotate(0) translate(4 106.09)\">\n<polygon fill=\"white\" stroke=\"none\" points=\"-4,4 -4,-106.09 196.05,-106.09 196.05,4 -4,4\"/>\n<!-- fake -->\n<g id=\"node1\" class=\"node\">\n<title>fake</title>\n</g>\n<!-- ready -->\n<g id=\"node2\" class=\"node\">\n<title>ready</title>\n<ellipse fill=\"none\" stroke=\"black\" cx=\"125.55\" cy=\"-34.55\" rx=\"30.59\" ry=\"30.59\"/>\n<ellipse fill=\"none\" stroke=\"black\" cx=\"125.55\" cy=\"-34.55\" rx=\"34.59\" ry=\"34.59\"/>\n<text text-anchor=\"middle\" x=\"125.55\" y=\"-30.85\" font-family=\"Times New Roman,serif\" font-size=\"14.00\">ready</text>\n</g>\n<!-- fake&#45;&gt;ready -->\n<g id=\"edge1\" class=\"edge\">\n<title>fake-&gt;ready</title>\n<path fill=\"none\" stroke=\"black\" stroke-width=\"2\" d=\"M54.38,-34.55C62.06,-34.55 70.67,-34.55 79.17,-34.55\"/>\n<polygon fill=\"black\" stroke=\"black\" stroke-width=\"2\" points=\"77.55,-38.05 87.55,-34.55 77.55,-31.05 77.55,-38.05\"/>\n</g>\n<!-- ready&#45;&gt;ready -->\n<g id=\"edge2\" class=\"edge\">\n<title>ready-&gt;ready</title>\n<path fill=\"none\" stroke=\"black\" d=\"M115.61,-68.16C115.76,-78.74 119.07,-87.09 125.55,-87.09 129.49,-87.09 132.27,-83.99 133.86,-79.17\"/>\n<polygon fill=\"black\" stroke=\"black\" points=\"137.27,-80.06 135.27,-69.65 130.35,-79.03 137.27,-80.06\"/>\n<text text-anchor=\"middle\" x=\"125.55\" y=\"-90.89\" font-family=\"Times New Roman,serif\" font-size=\"14.00\">pick_boron, 1.0, -10.16</text>\n</g>\n</g>\n</svg>"
     },
     "metadata": {},
     "output_type": "display_data"
    },
    {
     "data": {
      "text/plain": "<IPython.core.display.SVG object>",
      "image/svg+xml": "<svg xmlns=\"http://www.w3.org/2000/svg\" xmlns:xlink=\"http://www.w3.org/1999/xlink\" width=\"194pt\" height=\"110pt\" viewBox=\"0.00 0.00 193.55 110.09\">\n<g id=\"graph0\" class=\"graph\" transform=\"scale(1 1) rotate(0) translate(4 106.09)\">\n<polygon fill=\"white\" stroke=\"none\" points=\"-4,4 -4,-106.09 189.55,-106.09 189.55,4 -4,4\"/>\n<!-- fake -->\n<g id=\"node1\" class=\"node\">\n<title>fake</title>\n</g>\n<!-- ready -->\n<g id=\"node2\" class=\"node\">\n<title>ready</title>\n<ellipse fill=\"none\" stroke=\"black\" cx=\"125.55\" cy=\"-34.55\" rx=\"30.59\" ry=\"30.59\"/>\n<ellipse fill=\"none\" stroke=\"black\" cx=\"125.55\" cy=\"-34.55\" rx=\"34.59\" ry=\"34.59\"/>\n<text text-anchor=\"middle\" x=\"125.55\" y=\"-30.85\" font-family=\"Times New Roman,serif\" font-size=\"14.00\">ready</text>\n</g>\n<!-- fake&#45;&gt;ready -->\n<g id=\"edge1\" class=\"edge\">\n<title>fake-&gt;ready</title>\n<path fill=\"none\" stroke=\"black\" stroke-width=\"2\" d=\"M54.38,-34.55C62.06,-34.55 70.67,-34.55 79.17,-34.55\"/>\n<polygon fill=\"black\" stroke=\"black\" stroke-width=\"2\" points=\"77.55,-38.05 87.55,-34.55 77.55,-31.05 77.55,-38.05\"/>\n</g>\n<!-- ready&#45;&gt;ready -->\n<g id=\"edge2\" class=\"edge\">\n<title>ready-&gt;ready</title>\n<path fill=\"none\" stroke=\"black\" d=\"M115.61,-68.16C115.76,-78.74 119.07,-87.09 125.55,-87.09 129.49,-87.09 132.27,-83.99 133.86,-79.17\"/>\n<polygon fill=\"black\" stroke=\"black\" points=\"137.27,-80.06 135.27,-69.65 130.35,-79.03 137.27,-80.06\"/>\n<text text-anchor=\"middle\" x=\"125.55\" y=\"-90.89\" font-family=\"Times New Roman,serif\" font-size=\"14.00\">pick_boron, 1.0, -2.0</text>\n</g>\n</g>\n</svg>"
     },
     "metadata": {},
     "output_type": "display_data"
    },
    {
     "data": {
      "text/plain": "<IPython.core.display.SVG object>",
      "image/svg+xml": "<svg xmlns=\"http://www.w3.org/2000/svg\" xmlns:xlink=\"http://www.w3.org/1999/xlink\" width=\"197pt\" height=\"110pt\" viewBox=\"0.00 0.00 197.05 110.09\">\n<g id=\"graph0\" class=\"graph\" transform=\"scale(1 1) rotate(0) translate(4 106.09)\">\n<polygon fill=\"white\" stroke=\"none\" points=\"-4,4 -4,-106.09 193.05,-106.09 193.05,4 -4,4\"/>\n<!-- fake -->\n<g id=\"node1\" class=\"node\">\n<title>fake</title>\n</g>\n<!-- ready -->\n<g id=\"node2\" class=\"node\">\n<title>ready</title>\n<ellipse fill=\"none\" stroke=\"black\" cx=\"125.55\" cy=\"-34.55\" rx=\"30.59\" ry=\"30.59\"/>\n<ellipse fill=\"none\" stroke=\"black\" cx=\"125.55\" cy=\"-34.55\" rx=\"34.59\" ry=\"34.59\"/>\n<text text-anchor=\"middle\" x=\"125.55\" y=\"-30.85\" font-family=\"Times New Roman,serif\" font-size=\"14.00\">ready</text>\n</g>\n<!-- fake&#45;&gt;ready -->\n<g id=\"edge1\" class=\"edge\">\n<title>fake-&gt;ready</title>\n<path fill=\"none\" stroke=\"black\" stroke-width=\"2\" d=\"M54.38,-34.55C62.06,-34.55 70.67,-34.55 79.17,-34.55\"/>\n<polygon fill=\"black\" stroke=\"black\" stroke-width=\"2\" points=\"77.55,-38.05 87.55,-34.55 77.55,-31.05 77.55,-38.05\"/>\n</g>\n<!-- ready&#45;&gt;ready -->\n<g id=\"edge2\" class=\"edge\">\n<title>ready-&gt;ready</title>\n<path fill=\"none\" stroke=\"black\" d=\"M115.61,-68.16C115.76,-78.74 119.07,-87.09 125.55,-87.09 129.49,-87.09 132.27,-83.99 133.86,-79.17\"/>\n<polygon fill=\"black\" stroke=\"black\" points=\"137.27,-80.06 135.27,-69.65 130.35,-79.03 137.27,-80.06\"/>\n<text text-anchor=\"middle\" x=\"125.55\" y=\"-90.89\" font-family=\"Times New Roman,serif\" font-size=\"14.00\">pick_boron, 1.0, -10.4</text>\n</g>\n</g>\n</svg>"
     },
     "metadata": {},
     "output_type": "display_data"
    },
    {
     "data": {
      "text/plain": "<IPython.core.display.SVG object>",
      "image/svg+xml": "<svg xmlns=\"http://www.w3.org/2000/svg\" xmlns:xlink=\"http://www.w3.org/1999/xlink\" width=\"194pt\" height=\"110pt\" viewBox=\"0.00 0.00 193.55 110.09\">\n<g id=\"graph0\" class=\"graph\" transform=\"scale(1 1) rotate(0) translate(4 106.09)\">\n<polygon fill=\"white\" stroke=\"none\" points=\"-4,4 -4,-106.09 189.55,-106.09 189.55,4 -4,4\"/>\n<!-- fake -->\n<g id=\"node1\" class=\"node\">\n<title>fake</title>\n</g>\n<!-- ready -->\n<g id=\"node2\" class=\"node\">\n<title>ready</title>\n<ellipse fill=\"none\" stroke=\"black\" cx=\"125.55\" cy=\"-34.55\" rx=\"30.59\" ry=\"30.59\"/>\n<ellipse fill=\"none\" stroke=\"black\" cx=\"125.55\" cy=\"-34.55\" rx=\"34.59\" ry=\"34.59\"/>\n<text text-anchor=\"middle\" x=\"125.55\" y=\"-30.85\" font-family=\"Times New Roman,serif\" font-size=\"14.00\">ready</text>\n</g>\n<!-- fake&#45;&gt;ready -->\n<g id=\"edge1\" class=\"edge\">\n<title>fake-&gt;ready</title>\n<path fill=\"none\" stroke=\"black\" stroke-width=\"2\" d=\"M54.38,-34.55C62.06,-34.55 70.67,-34.55 79.17,-34.55\"/>\n<polygon fill=\"black\" stroke=\"black\" stroke-width=\"2\" points=\"77.55,-38.05 87.55,-34.55 77.55,-31.05 77.55,-38.05\"/>\n</g>\n<!-- ready&#45;&gt;ready -->\n<g id=\"edge2\" class=\"edge\">\n<title>ready-&gt;ready</title>\n<path fill=\"none\" stroke=\"black\" d=\"M115.61,-68.16C115.76,-78.74 119.07,-87.09 125.55,-87.09 129.49,-87.09 132.27,-83.99 133.86,-79.17\"/>\n<polygon fill=\"black\" stroke=\"black\" points=\"137.27,-80.06 135.27,-69.65 130.35,-79.03 137.27,-80.06\"/>\n<text text-anchor=\"middle\" x=\"125.55\" y=\"-90.89\" font-family=\"Times New Roman,serif\" font-size=\"14.00\">pick_boron, 1.0, -7.8</text>\n</g>\n</g>\n</svg>"
     },
     "metadata": {},
     "output_type": "display_data"
    },
    {
     "data": {
      "text/plain": "<IPython.core.display.SVG object>",
      "image/svg+xml": "<svg xmlns=\"http://www.w3.org/2000/svg\" xmlns:xlink=\"http://www.w3.org/1999/xlink\" width=\"197pt\" height=\"110pt\" viewBox=\"0.00 0.00 197.05 110.09\">\n<g id=\"graph0\" class=\"graph\" transform=\"scale(1 1) rotate(0) translate(4 106.09)\">\n<polygon fill=\"white\" stroke=\"none\" points=\"-4,4 -4,-106.09 193.05,-106.09 193.05,4 -4,4\"/>\n<!-- fake -->\n<g id=\"node1\" class=\"node\">\n<title>fake</title>\n</g>\n<!-- ready -->\n<g id=\"node2\" class=\"node\">\n<title>ready</title>\n<ellipse fill=\"none\" stroke=\"black\" cx=\"125.55\" cy=\"-34.55\" rx=\"30.59\" ry=\"30.59\"/>\n<ellipse fill=\"none\" stroke=\"black\" cx=\"125.55\" cy=\"-34.55\" rx=\"34.59\" ry=\"34.59\"/>\n<text text-anchor=\"middle\" x=\"125.55\" y=\"-30.85\" font-family=\"Times New Roman,serif\" font-size=\"14.00\">ready</text>\n</g>\n<!-- fake&#45;&gt;ready -->\n<g id=\"edge1\" class=\"edge\">\n<title>fake-&gt;ready</title>\n<path fill=\"none\" stroke=\"black\" stroke-width=\"2\" d=\"M54.38,-34.55C62.06,-34.55 70.67,-34.55 79.17,-34.55\"/>\n<polygon fill=\"black\" stroke=\"black\" stroke-width=\"2\" points=\"77.55,-38.05 87.55,-34.55 77.55,-31.05 77.55,-38.05\"/>\n</g>\n<!-- ready&#45;&gt;ready -->\n<g id=\"edge2\" class=\"edge\">\n<title>ready-&gt;ready</title>\n<path fill=\"none\" stroke=\"black\" d=\"M115.61,-68.16C115.76,-78.74 119.07,-87.09 125.55,-87.09 129.49,-87.09 132.27,-83.99 133.86,-79.17\"/>\n<polygon fill=\"black\" stroke=\"black\" points=\"137.27,-80.06 135.27,-69.65 130.35,-79.03 137.27,-80.06\"/>\n<text text-anchor=\"middle\" x=\"125.55\" y=\"-90.89\" font-family=\"Times New Roman,serif\" font-size=\"14.00\">pick_boron, 1.0, -11.7</text>\n</g>\n</g>\n</svg>"
     },
     "metadata": {},
     "output_type": "display_data"
    },
    {
     "data": {
      "text/plain": "<IPython.core.display.SVG object>",
      "image/svg+xml": "<svg xmlns=\"http://www.w3.org/2000/svg\" xmlns:xlink=\"http://www.w3.org/1999/xlink\" width=\"194pt\" height=\"110pt\" viewBox=\"0.00 0.00 193.55 110.09\">\n<g id=\"graph0\" class=\"graph\" transform=\"scale(1 1) rotate(0) translate(4 106.09)\">\n<polygon fill=\"white\" stroke=\"none\" points=\"-4,4 -4,-106.09 189.55,-106.09 189.55,4 -4,4\"/>\n<!-- fake -->\n<g id=\"node1\" class=\"node\">\n<title>fake</title>\n</g>\n<!-- ready -->\n<g id=\"node2\" class=\"node\">\n<title>ready</title>\n<ellipse fill=\"none\" stroke=\"black\" cx=\"125.55\" cy=\"-34.55\" rx=\"30.59\" ry=\"30.59\"/>\n<ellipse fill=\"none\" stroke=\"black\" cx=\"125.55\" cy=\"-34.55\" rx=\"34.59\" ry=\"34.59\"/>\n<text text-anchor=\"middle\" x=\"125.55\" y=\"-30.85\" font-family=\"Times New Roman,serif\" font-size=\"14.00\">ready</text>\n</g>\n<!-- fake&#45;&gt;ready -->\n<g id=\"edge1\" class=\"edge\">\n<title>fake-&gt;ready</title>\n<path fill=\"none\" stroke=\"black\" stroke-width=\"2\" d=\"M54.38,-34.55C62.06,-34.55 70.67,-34.55 79.17,-34.55\"/>\n<polygon fill=\"black\" stroke=\"black\" stroke-width=\"2\" points=\"77.55,-38.05 87.55,-34.55 77.55,-31.05 77.55,-38.05\"/>\n</g>\n<!-- ready&#45;&gt;ready -->\n<g id=\"edge2\" class=\"edge\">\n<title>ready-&gt;ready</title>\n<path fill=\"none\" stroke=\"black\" d=\"M115.61,-68.16C115.76,-78.74 119.07,-87.09 125.55,-87.09 129.49,-87.09 132.27,-83.99 133.86,-79.17\"/>\n<polygon fill=\"black\" stroke=\"black\" points=\"137.27,-80.06 135.27,-69.65 130.35,-79.03 137.27,-80.06\"/>\n<text text-anchor=\"middle\" x=\"125.55\" y=\"-90.89\" font-family=\"Times New Roman,serif\" font-size=\"14.00\">pick_boron, 1.0, -6.8</text>\n</g>\n</g>\n</svg>"
     },
     "metadata": {},
     "output_type": "display_data"
    },
    {
     "data": {
      "text/plain": "<IPython.core.display.SVG object>",
      "image/svg+xml": "<svg xmlns=\"http://www.w3.org/2000/svg\" xmlns:xlink=\"http://www.w3.org/1999/xlink\" width=\"197pt\" height=\"110pt\" viewBox=\"0.00 0.00 197.05 110.09\">\n<g id=\"graph0\" class=\"graph\" transform=\"scale(1 1) rotate(0) translate(4 106.09)\">\n<polygon fill=\"white\" stroke=\"none\" points=\"-4,4 -4,-106.09 193.05,-106.09 193.05,4 -4,4\"/>\n<!-- fake -->\n<g id=\"node1\" class=\"node\">\n<title>fake</title>\n</g>\n<!-- ready -->\n<g id=\"node2\" class=\"node\">\n<title>ready</title>\n<ellipse fill=\"none\" stroke=\"black\" cx=\"125.55\" cy=\"-34.55\" rx=\"30.59\" ry=\"30.59\"/>\n<ellipse fill=\"none\" stroke=\"black\" cx=\"125.55\" cy=\"-34.55\" rx=\"34.59\" ry=\"34.59\"/>\n<text text-anchor=\"middle\" x=\"125.55\" y=\"-30.85\" font-family=\"Times New Roman,serif\" font-size=\"14.00\">ready</text>\n</g>\n<!-- fake&#45;&gt;ready -->\n<g id=\"edge1\" class=\"edge\">\n<title>fake-&gt;ready</title>\n<path fill=\"none\" stroke=\"black\" stroke-width=\"2\" d=\"M54.38,-34.55C62.06,-34.55 70.67,-34.55 79.17,-34.55\"/>\n<polygon fill=\"black\" stroke=\"black\" stroke-width=\"2\" points=\"77.55,-38.05 87.55,-34.55 77.55,-31.05 77.55,-38.05\"/>\n</g>\n<!-- ready&#45;&gt;ready -->\n<g id=\"edge2\" class=\"edge\">\n<title>ready-&gt;ready</title>\n<path fill=\"none\" stroke=\"black\" d=\"M115.61,-68.16C115.76,-78.74 119.07,-87.09 125.55,-87.09 129.49,-87.09 132.27,-83.99 133.86,-79.17\"/>\n<polygon fill=\"black\" stroke=\"black\" points=\"137.27,-80.06 135.27,-69.65 130.35,-79.03 137.27,-80.06\"/>\n<text text-anchor=\"middle\" x=\"125.55\" y=\"-90.89\" font-family=\"Times New Roman,serif\" font-size=\"14.00\">pick_boron, 1.0, -8.55</text>\n</g>\n</g>\n</svg>"
     },
     "metadata": {},
     "output_type": "display_data"
    },
    {
     "data": {
      "text/plain": "<IPython.core.display.SVG object>",
      "image/svg+xml": "<svg xmlns=\"http://www.w3.org/2000/svg\" xmlns:xlink=\"http://www.w3.org/1999/xlink\" width=\"200pt\" height=\"110pt\" viewBox=\"0.00 0.00 200.05 110.09\">\n<g id=\"graph0\" class=\"graph\" transform=\"scale(1 1) rotate(0) translate(4 106.09)\">\n<polygon fill=\"white\" stroke=\"none\" points=\"-4,4 -4,-106.09 196.05,-106.09 196.05,4 -4,4\"/>\n<!-- fake -->\n<g id=\"node1\" class=\"node\">\n<title>fake</title>\n</g>\n<!-- ready -->\n<g id=\"node2\" class=\"node\">\n<title>ready</title>\n<ellipse fill=\"none\" stroke=\"black\" cx=\"125.55\" cy=\"-34.55\" rx=\"30.59\" ry=\"30.59\"/>\n<ellipse fill=\"none\" stroke=\"black\" cx=\"125.55\" cy=\"-34.55\" rx=\"34.59\" ry=\"34.59\"/>\n<text text-anchor=\"middle\" x=\"125.55\" y=\"-30.85\" font-family=\"Times New Roman,serif\" font-size=\"14.00\">ready</text>\n</g>\n<!-- fake&#45;&gt;ready -->\n<g id=\"edge1\" class=\"edge\">\n<title>fake-&gt;ready</title>\n<path fill=\"none\" stroke=\"black\" stroke-width=\"2\" d=\"M54.38,-34.55C62.06,-34.55 70.67,-34.55 79.17,-34.55\"/>\n<polygon fill=\"black\" stroke=\"black\" stroke-width=\"2\" points=\"77.55,-38.05 87.55,-34.55 77.55,-31.05 77.55,-38.05\"/>\n</g>\n<!-- ready&#45;&gt;ready -->\n<g id=\"edge2\" class=\"edge\">\n<title>ready-&gt;ready</title>\n<path fill=\"none\" stroke=\"black\" d=\"M115.61,-68.16C115.76,-78.74 119.07,-87.09 125.55,-87.09 129.49,-87.09 132.27,-83.99 133.86,-79.17\"/>\n<polygon fill=\"black\" stroke=\"black\" points=\"137.27,-80.06 135.27,-69.65 130.35,-79.03 137.27,-80.06\"/>\n<text text-anchor=\"middle\" x=\"125.55\" y=\"-90.89\" font-family=\"Times New Roman,serif\" font-size=\"14.00\">pick_boron, 1.0, -12.12</text>\n</g>\n</g>\n</svg>"
     },
     "metadata": {},
     "output_type": "display_data"
    }
   ],
   "source": [
    "def boron_service(name: str, action_reward: float) -> Service:\n",
    "    \"\"\"Build the boron device.\"\"\"\n",
    "    return build_generic_service_one_state(\n",
    "        name,\n",
    "        {PICK_BORON},\n",
    "        action_reward=action_reward\n",
    "    )\n",
    "\n",
    "service_boron_turkey = boron_service(BORON_SERVICE_NAME_TURKEY, TURKEY_REWARD)\n",
    "service_boron_usa = boron_service(BORON_SERVICE_NAME_USA, USA_REWARD)\n",
    "service_boron_kazakhstan = boron_service(BORON_SERVICE_NAME_KAZAKHSTAN, KAZAKHSTAN_REWARD)\n",
    "service_boron_chile = boron_service(BORON_SERVICE_NAME_CHILE, CHILE_REWARD)\n",
    "service_boron_china = boron_service(BORON_SERVICE_NAME_CHINA, CHINA_REWARD)\n",
    "service_boron_bolivia = boron_service(BORON_SERVICE_NAME_BOLIVIA, BOLIVIA_REWARD)\n",
    "service_boron_argentina = boron_service(BORON_SERVICE_NAME_ARGENTINA, ARGENTINA_REWARD)\n",
    "service_boron_russia = boron_service(BORON_SERVICE_NAME_RUSSIA, RUSSIA_REWARD + WAR_REWARD)\n",
    "render_service(service_boron_turkey)\n",
    "render_service(service_boron_usa)\n",
    "render_service(service_boron_kazakhstan)\n",
    "render_service(service_boron_chile)\n",
    "render_service(service_boron_china)\n",
    "render_service(service_boron_bolivia)\n",
    "render_service(service_boron_argentina)\n",
    "render_service(service_boron_russia)"
   ]
  },
  {
   "cell_type": "code",
   "execution_count": 14,
   "metadata": {},
   "outputs": [
    {
     "data": {
      "text/plain": "<IPython.core.display.SVG object>",
      "image/svg+xml": "<svg xmlns=\"http://www.w3.org/2000/svg\" xmlns:xlink=\"http://www.w3.org/1999/xlink\" width=\"204pt\" height=\"110pt\" viewBox=\"0.00 0.00 203.55 110.09\">\n<g id=\"graph0\" class=\"graph\" transform=\"scale(1 1) rotate(0) translate(4 106.09)\">\n<polygon fill=\"white\" stroke=\"none\" points=\"-4,4 -4,-106.09 199.55,-106.09 199.55,4 -4,4\"/>\n<!-- fake -->\n<g id=\"node1\" class=\"node\">\n<title>fake</title>\n</g>\n<!-- ready -->\n<g id=\"node2\" class=\"node\">\n<title>ready</title>\n<ellipse fill=\"none\" stroke=\"black\" cx=\"125.55\" cy=\"-34.55\" rx=\"30.59\" ry=\"30.59\"/>\n<ellipse fill=\"none\" stroke=\"black\" cx=\"125.55\" cy=\"-34.55\" rx=\"34.59\" ry=\"34.59\"/>\n<text text-anchor=\"middle\" x=\"125.55\" y=\"-30.85\" font-family=\"Times New Roman,serif\" font-size=\"14.00\">ready</text>\n</g>\n<!-- fake&#45;&gt;ready -->\n<g id=\"edge1\" class=\"edge\">\n<title>fake-&gt;ready</title>\n<path fill=\"none\" stroke=\"black\" stroke-width=\"2\" d=\"M54.38,-34.55C62.06,-34.55 70.67,-34.55 79.17,-34.55\"/>\n<polygon fill=\"black\" stroke=\"black\" stroke-width=\"2\" points=\"77.55,-38.05 87.55,-34.55 77.55,-31.05 77.55,-38.05\"/>\n</g>\n<!-- ready&#45;&gt;ready -->\n<g id=\"edge2\" class=\"edge\">\n<title>ready-&gt;ready</title>\n<path fill=\"none\" stroke=\"black\" d=\"M115.61,-68.16C115.76,-78.74 119.07,-87.09 125.55,-87.09 129.49,-87.09 132.27,-83.99 133.86,-79.17\"/>\n<polygon fill=\"black\" stroke=\"black\" points=\"137.27,-80.06 135.27,-69.65 130.35,-79.03 137.27,-80.06\"/>\n<text text-anchor=\"middle\" x=\"125.55\" y=\"-90.89\" font-family=\"Times New Roman,serif\" font-size=\"14.00\">pick_phosphor, 1.0, -1.0</text>\n</g>\n</g>\n</svg>"
     },
     "metadata": {},
     "output_type": "display_data"
    }
   ],
   "source": [
    "def phosphor_warehouse_service(name: str = PHOSPHOR_WAREHOUSE_SERVICE_NAME, action_reward: float = DEFAULT_USA_REWARD) -> Service:\n",
    "    \"\"\"Build the phosphor warehouse device.\"\"\"\n",
    "    return build_generic_service_one_state(\n",
    "        name,\n",
    "        {PICK_PHOSPHOR},\n",
    "        action_reward=action_reward\n",
    "    )\n",
    "\n",
    "service_phosphor_warehouse = phosphor_warehouse_service()\n",
    "render_service(service_phosphor_warehouse)"
   ]
  },
  {
   "cell_type": "code",
   "execution_count": 15,
   "metadata": {},
   "outputs": [
    {
     "data": {
      "text/plain": "<IPython.core.display.SVG object>",
      "image/svg+xml": "<svg xmlns=\"http://www.w3.org/2000/svg\" xmlns:xlink=\"http://www.w3.org/1999/xlink\" width=\"204pt\" height=\"110pt\" viewBox=\"0.00 0.00 203.55 110.09\">\n<g id=\"graph0\" class=\"graph\" transform=\"scale(1 1) rotate(0) translate(4 106.09)\">\n<polygon fill=\"white\" stroke=\"none\" points=\"-4,4 -4,-106.09 199.55,-106.09 199.55,4 -4,4\"/>\n<!-- fake -->\n<g id=\"node1\" class=\"node\">\n<title>fake</title>\n</g>\n<!-- ready -->\n<g id=\"node2\" class=\"node\">\n<title>ready</title>\n<ellipse fill=\"none\" stroke=\"black\" cx=\"125.55\" cy=\"-34.55\" rx=\"30.59\" ry=\"30.59\"/>\n<ellipse fill=\"none\" stroke=\"black\" cx=\"125.55\" cy=\"-34.55\" rx=\"34.59\" ry=\"34.59\"/>\n<text text-anchor=\"middle\" x=\"125.55\" y=\"-30.85\" font-family=\"Times New Roman,serif\" font-size=\"14.00\">ready</text>\n</g>\n<!-- fake&#45;&gt;ready -->\n<g id=\"edge1\" class=\"edge\">\n<title>fake-&gt;ready</title>\n<path fill=\"none\" stroke=\"black\" stroke-width=\"2\" d=\"M54.38,-34.55C62.06,-34.55 70.67,-34.55 79.17,-34.55\"/>\n<polygon fill=\"black\" stroke=\"black\" stroke-width=\"2\" points=\"77.55,-38.05 87.55,-34.55 77.55,-31.05 77.55,-38.05\"/>\n</g>\n<!-- ready&#45;&gt;ready -->\n<g id=\"edge2\" class=\"edge\">\n<title>ready-&gt;ready</title>\n<path fill=\"none\" stroke=\"black\" d=\"M115.61,-68.16C115.76,-78.74 119.07,-87.09 125.55,-87.09 129.49,-87.09 132.27,-83.99 133.86,-79.17\"/>\n<polygon fill=\"black\" stroke=\"black\" points=\"137.27,-80.06 135.27,-69.65 130.35,-79.03 137.27,-80.06\"/>\n<text text-anchor=\"middle\" x=\"125.55\" y=\"-90.89\" font-family=\"Times New Roman,serif\" font-size=\"14.00\">pick_phosphor, 1.0, -7.9</text>\n</g>\n</g>\n</svg>"
     },
     "metadata": {},
     "output_type": "display_data"
    },
    {
     "data": {
      "text/plain": "<IPython.core.display.SVG object>",
      "image/svg+xml": "<svg xmlns=\"http://www.w3.org/2000/svg\" xmlns:xlink=\"http://www.w3.org/1999/xlink\" width=\"207pt\" height=\"110pt\" viewBox=\"0.00 0.00 207.05 110.09\">\n<g id=\"graph0\" class=\"graph\" transform=\"scale(1 1) rotate(0) translate(4 106.09)\">\n<polygon fill=\"white\" stroke=\"none\" points=\"-4,4 -4,-106.09 203.05,-106.09 203.05,4 -4,4\"/>\n<!-- fake -->\n<g id=\"node1\" class=\"node\">\n<title>fake</title>\n</g>\n<!-- ready -->\n<g id=\"node2\" class=\"node\">\n<title>ready</title>\n<ellipse fill=\"none\" stroke=\"black\" cx=\"125.55\" cy=\"-34.55\" rx=\"30.59\" ry=\"30.59\"/>\n<ellipse fill=\"none\" stroke=\"black\" cx=\"125.55\" cy=\"-34.55\" rx=\"34.59\" ry=\"34.59\"/>\n<text text-anchor=\"middle\" x=\"125.55\" y=\"-30.85\" font-family=\"Times New Roman,serif\" font-size=\"14.00\">ready</text>\n</g>\n<!-- fake&#45;&gt;ready -->\n<g id=\"edge1\" class=\"edge\">\n<title>fake-&gt;ready</title>\n<path fill=\"none\" stroke=\"black\" stroke-width=\"2\" d=\"M54.38,-34.55C62.06,-34.55 70.67,-34.55 79.17,-34.55\"/>\n<polygon fill=\"black\" stroke=\"black\" stroke-width=\"2\" points=\"77.55,-38.05 87.55,-34.55 77.55,-31.05 77.55,-38.05\"/>\n</g>\n<!-- ready&#45;&gt;ready -->\n<g id=\"edge2\" class=\"edge\">\n<title>ready-&gt;ready</title>\n<path fill=\"none\" stroke=\"black\" d=\"M115.61,-68.16C115.76,-78.74 119.07,-87.09 125.55,-87.09 129.49,-87.09 132.27,-83.99 133.86,-79.17\"/>\n<polygon fill=\"black\" stroke=\"black\" points=\"137.27,-80.06 135.27,-69.65 130.35,-79.03 137.27,-80.06\"/>\n<text text-anchor=\"middle\" x=\"125.55\" y=\"-90.89\" font-family=\"Times New Roman,serif\" font-size=\"14.00\">pick_phosphor, 1.0, -11.7</text>\n</g>\n</g>\n</svg>"
     },
     "metadata": {},
     "output_type": "display_data"
    },
    {
     "data": {
      "text/plain": "<IPython.core.display.SVG object>",
      "image/svg+xml": "<svg xmlns=\"http://www.w3.org/2000/svg\" xmlns:xlink=\"http://www.w3.org/1999/xlink\" width=\"204pt\" height=\"110pt\" viewBox=\"0.00 0.00 203.55 110.09\">\n<g id=\"graph0\" class=\"graph\" transform=\"scale(1 1) rotate(0) translate(4 106.09)\">\n<polygon fill=\"white\" stroke=\"none\" points=\"-4,4 -4,-106.09 199.55,-106.09 199.55,4 -4,4\"/>\n<!-- fake -->\n<g id=\"node1\" class=\"node\">\n<title>fake</title>\n</g>\n<!-- ready -->\n<g id=\"node2\" class=\"node\">\n<title>ready</title>\n<ellipse fill=\"none\" stroke=\"black\" cx=\"125.55\" cy=\"-34.55\" rx=\"30.59\" ry=\"30.59\"/>\n<ellipse fill=\"none\" stroke=\"black\" cx=\"125.55\" cy=\"-34.55\" rx=\"34.59\" ry=\"34.59\"/>\n<text text-anchor=\"middle\" x=\"125.55\" y=\"-30.85\" font-family=\"Times New Roman,serif\" font-size=\"14.00\">ready</text>\n</g>\n<!-- fake&#45;&gt;ready -->\n<g id=\"edge1\" class=\"edge\">\n<title>fake-&gt;ready</title>\n<path fill=\"none\" stroke=\"black\" stroke-width=\"2\" d=\"M54.38,-34.55C62.06,-34.55 70.67,-34.55 79.17,-34.55\"/>\n<polygon fill=\"black\" stroke=\"black\" stroke-width=\"2\" points=\"77.55,-38.05 87.55,-34.55 77.55,-31.05 77.55,-38.05\"/>\n</g>\n<!-- ready&#45;&gt;ready -->\n<g id=\"edge2\" class=\"edge\">\n<title>ready-&gt;ready</title>\n<path fill=\"none\" stroke=\"black\" d=\"M115.61,-68.16C115.76,-78.74 119.07,-87.09 125.55,-87.09 129.49,-87.09 132.27,-83.99 133.86,-79.17\"/>\n<polygon fill=\"black\" stroke=\"black\" points=\"137.27,-80.06 135.27,-69.65 130.35,-79.03 137.27,-80.06\"/>\n<text text-anchor=\"middle\" x=\"125.55\" y=\"-90.89\" font-family=\"Times New Roman,serif\" font-size=\"14.00\">pick_phosphor, 1.0, -2.0</text>\n</g>\n</g>\n</svg>"
     },
     "metadata": {},
     "output_type": "display_data"
    }
   ],
   "source": [
    "def phosphor_service(name: str, action_reward: float) -> Service:\n",
    "    \"\"\"Build the phosphor device.\"\"\"\n",
    "    return build_generic_service_one_state(\n",
    "        name,\n",
    "        {PICK_PHOSPHOR},\n",
    "        action_reward=action_reward\n",
    "    )\n",
    "\n",
    "service_phosphor_morocco = phosphor_service(PHOSPHOR_SERVICE_NAME_MOROCCO, MOROCCO_REWARD)\n",
    "service_phosphor_china = phosphor_service(PHOSPHOR_SERVICE_NAME_CHINA, CHINA_REWARD)\n",
    "service_phosphor_usa = phosphor_service(PHOSPHOR_SERVICE_NAME_USA, USA_REWARD)\n",
    "render_service(service_phosphor_morocco)\n",
    "render_service(service_phosphor_china)\n",
    "render_service(service_phosphor_usa)"
   ]
  },
  {
   "cell_type": "code",
   "execution_count": 16,
   "metadata": {},
   "outputs": [
    {
     "data": {
      "text/plain": "<IPython.core.display.SVG object>",
      "image/svg+xml": "<svg xmlns=\"http://www.w3.org/2000/svg\" xmlns:xlink=\"http://www.w3.org/1999/xlink\" width=\"446pt\" height=\"164pt\" viewBox=\"0.00 0.00 445.99 163.99\">\n<g id=\"graph0\" class=\"graph\" transform=\"scale(1 1) rotate(0) translate(4 159.99)\">\n<polygon fill=\"white\" stroke=\"none\" points=\"-4,4 -4,-159.99 441.99,-159.99 441.99,4 -4,4\"/>\n<!-- fake -->\n<g id=\"node1\" class=\"node\">\n<title>fake</title>\n</g>\n<!-- available -->\n<g id=\"node4\" class=\"node\">\n<title>available</title>\n<ellipse fill=\"none\" stroke=\"black\" cx=\"136.6\" cy=\"-70.6\" rx=\"41.68\" ry=\"41.68\"/>\n<ellipse fill=\"none\" stroke=\"black\" cx=\"136.6\" cy=\"-70.6\" rx=\"45.69\" ry=\"45.69\"/>\n<text text-anchor=\"middle\" x=\"136.6\" y=\"-66.9\" font-family=\"Times New Roman,serif\" font-size=\"14.00\">available</text>\n</g>\n<!-- fake&#45;&gt;available -->\n<g id=\"edge1\" class=\"edge\">\n<title>fake-&gt;available</title>\n<path fill=\"none\" stroke=\"black\" stroke-width=\"2\" d=\"M54.32,-70.6C61.93,-70.6 70.55,-70.6 79.26,-70.6\"/>\n<polygon fill=\"black\" stroke=\"black\" stroke-width=\"2\" points=\"77.65,-74.1 87.65,-70.6 77.65,-67.1 77.65,-74.1\"/>\n</g>\n<!-- broken -->\n<g id=\"node2\" class=\"node\">\n<title>broken</title>\n<ellipse fill=\"none\" stroke=\"black\" cx=\"401.59\" cy=\"-119.6\" rx=\"36.29\" ry=\"36.29\"/>\n<text text-anchor=\"middle\" x=\"401.59\" y=\"-115.9\" font-family=\"Times New Roman,serif\" font-size=\"14.00\">broken</text>\n</g>\n<!-- broken&#45;&gt;available -->\n<g id=\"edge4\" class=\"edge\">\n<title>broken-&gt;available</title>\n<path fill=\"none\" stroke=\"black\" d=\"M371.89,-98.42C364.22,-93.75 355.69,-89.36 347.19,-86.6 297.13,-70.29 236.93,-67.28 193.91,-67.76\"/>\n<polygon fill=\"black\" stroke=\"black\" points=\"193.98,-64.26 184.05,-67.95 194.11,-71.26 193.98,-64.26\"/>\n<text text-anchor=\"middle\" x=\"273.69\" y=\"-90.4\" font-family=\"Times New Roman,serif\" font-size=\"14.00\">check_cleaning, 1.0, -10.0</text>\n</g>\n<!-- done -->\n<g id=\"node3\" class=\"node\">\n<title>done</title>\n<ellipse fill=\"none\" stroke=\"black\" cx=\"401.59\" cy=\"-28.6\" rx=\"28.7\" ry=\"28.7\"/>\n<text text-anchor=\"middle\" x=\"401.59\" y=\"-24.9\" font-family=\"Times New Roman,serif\" font-size=\"14.00\">done</text>\n</g>\n<!-- done&#45;&gt;available -->\n<g id=\"edge5\" class=\"edge\">\n<title>done-&gt;available</title>\n<path fill=\"none\" stroke=\"black\" d=\"M373.92,-19.8C334.5,-8.31 259,7.87 200.19,-14.6 191.48,-17.93 183.21,-23.09 175.71,-28.96\"/>\n<polygon fill=\"black\" stroke=\"black\" points=\"173.8,-25.99 168.43,-35.13 178.32,-31.33 173.8,-25.99\"/>\n<text text-anchor=\"middle\" x=\"273.69\" y=\"-18.4\" font-family=\"Times New Roman,serif\" font-size=\"14.00\">check_cleaning, 1.0, 0.0</text>\n</g>\n<!-- available&#45;&gt;broken -->\n<g id=\"edge3\" class=\"edge\">\n<title>available-&gt;broken</title>\n<path fill=\"none\" stroke=\"black\" d=\"M175.48,-95.23C183.38,-99.36 191.84,-103.11 200.19,-105.6 251.1,-120.78 312.38,-122.85 353.66,-122.04\"/>\n<polygon fill=\"black\" stroke=\"black\" points=\"353.59,-125.54 363.49,-121.77 353.4,-118.54 353.59,-125.54\"/>\n<text text-anchor=\"middle\" x=\"273.69\" y=\"-125.4\" font-family=\"Times New Roman,serif\" font-size=\"14.00\">cleaning, 0.05, -1.0</text>\n</g>\n<!-- available&#45;&gt;done -->\n<g id=\"edge2\" class=\"edge\">\n<title>available-&gt;done</title>\n<path fill=\"none\" stroke=\"black\" d=\"M180.47,-57.28C187.04,-55.53 193.76,-53.9 200.19,-52.6 255.52,-41.41 320.57,-34.8 361.2,-31.43\"/>\n<polygon fill=\"black\" stroke=\"black\" points=\"361.29,-34.94 370.97,-30.65 360.73,-27.96 361.29,-34.94\"/>\n<text text-anchor=\"middle\" x=\"273.69\" y=\"-56.4\" font-family=\"Times New Roman,serif\" font-size=\"14.00\">cleaning, 0.95, -1.0</text>\n</g>\n</g>\n</svg>"
     },
     "metadata": {},
     "output_type": "display_data"
    }
   ],
   "source": [
    "def cleaning_service(name: str = CLEANING_SERVICE_NAME, broken_prob: float = DEFAULT_BROKEN_PROB, broken_reward: float = DEFAULT_BROKEN_REWARD, action_reward: float = DEFAULT_USA_REWARD) -> Service:\n",
    "    \"\"\"Build the cleaning device.\"\"\"\n",
    "    return build_generic_breakable_service(name, CLEANING, broken_prob=broken_prob, broken_reward=broken_reward, action_reward=action_reward)\n",
    "service_cleaning=cleaning_service()\n",
    "render_service(service_cleaning)"
   ]
  },
  {
   "cell_type": "code",
   "execution_count": 17,
   "metadata": {},
   "outputs": [
    {
     "data": {
      "text/plain": "<IPython.core.display.SVG object>",
      "image/svg+xml": "<svg xmlns=\"http://www.w3.org/2000/svg\" xmlns:xlink=\"http://www.w3.org/1999/xlink\" width=\"184pt\" height=\"110pt\" viewBox=\"0.00 0.00 183.55 110.09\">\n<g id=\"graph0\" class=\"graph\" transform=\"scale(1 1) rotate(0) translate(4 106.09)\">\n<polygon fill=\"white\" stroke=\"none\" points=\"-4,4 -4,-106.09 179.55,-106.09 179.55,4 -4,4\"/>\n<!-- fake -->\n<g id=\"node1\" class=\"node\">\n<title>fake</title>\n</g>\n<!-- ready -->\n<g id=\"node2\" class=\"node\">\n<title>ready</title>\n<ellipse fill=\"none\" stroke=\"black\" cx=\"125.55\" cy=\"-34.55\" rx=\"30.59\" ry=\"30.59\"/>\n<ellipse fill=\"none\" stroke=\"black\" cx=\"125.55\" cy=\"-34.55\" rx=\"34.59\" ry=\"34.59\"/>\n<text text-anchor=\"middle\" x=\"125.55\" y=\"-30.85\" font-family=\"Times New Roman,serif\" font-size=\"14.00\">ready</text>\n</g>\n<!-- fake&#45;&gt;ready -->\n<g id=\"edge1\" class=\"edge\">\n<title>fake-&gt;ready</title>\n<path fill=\"none\" stroke=\"black\" stroke-width=\"2\" d=\"M54.38,-34.55C62.06,-34.55 70.67,-34.55 79.17,-34.55\"/>\n<polygon fill=\"black\" stroke=\"black\" stroke-width=\"2\" points=\"77.55,-38.05 87.55,-34.55 77.55,-31.05 77.55,-38.05\"/>\n</g>\n<!-- ready&#45;&gt;ready -->\n<g id=\"edge2\" class=\"edge\">\n<title>ready-&gt;ready</title>\n<path fill=\"none\" stroke=\"black\" d=\"M115.61,-68.16C115.76,-78.74 119.07,-87.09 125.55,-87.09 129.49,-87.09 132.27,-83.99 133.86,-79.17\"/>\n<polygon fill=\"black\" stroke=\"black\" points=\"137.27,-80.06 135.27,-69.65 130.35,-79.03 137.27,-80.06\"/>\n<text text-anchor=\"middle\" x=\"125.55\" y=\"-90.89\" font-family=\"Times New Roman,serif\" font-size=\"14.00\">cleaning, 1.0, -2.0</text>\n</g>\n</g>\n</svg>"
     },
     "metadata": {},
     "output_type": "display_data"
    }
   ],
   "source": [
    "def cleaning_human_service(name: str = CLEANING_HUMAN_SERVICE_NAME, action_reward: float = USA_REWARD) -> Service:\n",
    "    \"\"\"Build the human cleaning device.\"\"\"\n",
    "    return build_generic_service_one_state(\n",
    "        name,\n",
    "        {CLEANING},\n",
    "        action_reward=action_reward\n",
    "    )\n",
    "\n",
    "\n",
    "service_cleaning_human = cleaning_human_service()\n",
    "render_service(service_cleaning_human)\n"
   ]
  },
  {
   "cell_type": "code",
   "execution_count": 18,
   "metadata": {},
   "outputs": [
    {
     "data": {
      "text/plain": "<IPython.core.display.SVG object>",
      "image/svg+xml": "<svg xmlns=\"http://www.w3.org/2000/svg\" xmlns:xlink=\"http://www.w3.org/1999/xlink\" width=\"1621pt\" height=\"228pt\" viewBox=\"0.00 0.00 1621.38 228.09\">\n<g id=\"graph0\" class=\"graph\" transform=\"scale(1 1) rotate(0) translate(4 224.09)\">\n<polygon fill=\"white\" stroke=\"none\" points=\"-4,4 -4,-224.09 1617.38,-224.09 1617.38,4 -4,4\"/>\n<!-- fake -->\n<g id=\"node1\" class=\"node\">\n<title>fake</title>\n</g>\n<!-- ready -->\n<g id=\"node2\" class=\"node\">\n<title>ready</title>\n<ellipse fill=\"none\" stroke=\"black\" cx=\"125.55\" cy=\"-104.25\" rx=\"30.59\" ry=\"30.59\"/>\n<ellipse fill=\"none\" stroke=\"black\" cx=\"125.55\" cy=\"-104.25\" rx=\"34.59\" ry=\"34.59\"/>\n<text text-anchor=\"middle\" x=\"125.55\" y=\"-100.55\" font-family=\"Times New Roman,serif\" font-size=\"14.00\">ready</text>\n</g>\n<!-- fake&#45;&gt;ready -->\n<g id=\"edge1\" class=\"edge\">\n<title>fake-&gt;ready</title>\n<path fill=\"none\" stroke=\"black\" stroke-width=\"2\" d=\"M54.38,-104.25C62.06,-104.25 70.67,-104.25 79.17,-104.25\"/>\n<polygon fill=\"black\" stroke=\"black\" stroke-width=\"2\" points=\"77.55,-107.75 87.55,-104.25 77.55,-100.75 77.55,-107.75\"/>\n</g>\n<!-- configured -->\n<g id=\"node6\" class=\"node\">\n<title>configured</title>\n<ellipse fill=\"none\" stroke=\"black\" cx=\"469.09\" cy=\"-104.25\" rx=\"50.09\" ry=\"50.09\"/>\n<text text-anchor=\"middle\" x=\"469.09\" y=\"-100.55\" font-family=\"Times New Roman,serif\" font-size=\"14.00\">configured</text>\n</g>\n<!-- ready&#45;&gt;configured -->\n<g id=\"edge2\" class=\"edge\">\n<title>ready-&gt;configured</title>\n<path fill=\"none\" stroke=\"black\" d=\"M160.54,-104.25C218.12,-104.25 335.57,-104.25 407.5,-104.25\"/>\n<polygon fill=\"black\" stroke=\"black\" points=\"407.13,-107.75 417.13,-104.25 407.13,-100.75 407.13,-107.75\"/>\n<text text-anchor=\"middle\" x=\"277.59\" y=\"-108.05\" font-family=\"Times New Roman,serif\" font-size=\"14.00\">CONFIG[film_deposition], 1.0, 0.0</text>\n</g>\n<!-- repairing -->\n<g id=\"node3\" class=\"node\">\n<title>repairing</title>\n<ellipse fill=\"none\" stroke=\"black\" cx=\"1571.13\" cy=\"-42.25\" rx=\"42.49\" ry=\"42.49\"/>\n<text text-anchor=\"middle\" x=\"1571.13\" y=\"-38.55\" font-family=\"Times New Roman,serif\" font-size=\"14.00\">repairing</text>\n</g>\n<!-- repairing&#45;&gt;ready -->\n<g id=\"edge8\" class=\"edge\">\n<title>repairing-&gt;ready</title>\n<path fill=\"none\" stroke=\"black\" d=\"M1528.29,-38.95C1465.12,-34.27 1341.6,-26.25 1236.49,-26.25 468.09,-26.25 468.09,-26.25 468.09,-26.25 357.93,-26.25 232.68,-65.29 168.84,-88.13\"/>\n<polygon fill=\"black\" stroke=\"black\" points=\"167.65,-84.84 159.44,-91.54 170.03,-91.42 167.65,-84.84\"/>\n<text text-anchor=\"middle\" x=\"906.09\" y=\"-30.05\" font-family=\"Times New Roman,serif\" font-size=\"14.00\">REPAIRED[film_deposition], 1.0, 0.0</text>\n</g>\n<!-- broken -->\n<g id=\"node4\" class=\"node\">\n<title>broken</title>\n<ellipse fill=\"none\" stroke=\"black\" cx=\"1235.49\" cy=\"-97.25\" rx=\"36.29\" ry=\"36.29\"/>\n<text text-anchor=\"middle\" x=\"1235.49\" y=\"-93.55\" font-family=\"Times New Roman,serif\" font-size=\"14.00\">broken</text>\n</g>\n<!-- broken&#45;&gt;repairing -->\n<g id=\"edge7\" class=\"edge\">\n<title>broken-&gt;repairing</title>\n<path fill=\"none\" stroke=\"black\" d=\"M1271.57,-91.46C1330.36,-81.77 1449.11,-62.2 1517.81,-50.87\"/>\n<polygon fill=\"black\" stroke=\"black\" points=\"1518.01,-54.39 1527.3,-49.31 1516.87,-47.48 1518.01,-54.39\"/>\n<text text-anchor=\"middle\" x=\"1400.39\" y=\"-92.05\" font-family=\"Times New Roman,serif\" font-size=\"14.00\">RESTORE[film_deposition], 1.0, -10.0</text>\n</g>\n<!-- executing -->\n<g id=\"node5\" class=\"node\">\n<title>executing</title>\n<ellipse fill=\"none\" stroke=\"black\" cx=\"906.09\" cy=\"-175.25\" rx=\"44.69\" ry=\"44.69\"/>\n<text text-anchor=\"middle\" x=\"906.09\" y=\"-171.55\" font-family=\"Times New Roman,serif\" font-size=\"14.00\">executing</text>\n</g>\n<!-- executing&#45;&gt;ready -->\n<g id=\"edge5\" class=\"edge\">\n<title>executing-&gt;ready</title>\n<path fill=\"none\" stroke=\"black\" d=\"M861.23,-177.08C772.7,-180.16 566.53,-184.13 395.09,-163.25 297.75,-151.39 272.67,-149.19 178.09,-123.25 175.14,-122.43 172.11,-121.53 169.07,-120.56\"/>\n<polygon fill=\"black\" stroke=\"black\" points=\"170.2,-117.25 159.6,-117.35 167.95,-123.88 170.2,-117.25\"/>\n<text text-anchor=\"middle\" x=\"469.09\" y=\"-179.05\" font-family=\"Times New Roman,serif\" font-size=\"14.00\">film_deposition, 0.95, -1.0</text>\n</g>\n<!-- executing&#45;&gt;broken -->\n<g id=\"edge6\" class=\"edge\">\n<title>executing-&gt;broken</title>\n<path fill=\"none\" stroke=\"black\" d=\"M949.89,-165.62C1003.89,-153.4 1099.54,-131.46 1181.09,-111.25 1183.68,-110.6 1186.34,-109.94 1189.02,-109.26\"/>\n<polygon fill=\"black\" stroke=\"black\" points=\"1189.78,-112.68 1198.59,-106.8 1188.04,-105.9 1189.78,-112.68\"/>\n<text text-anchor=\"middle\" x=\"1107.09\" y=\"-149.05\" font-family=\"Times New Roman,serif\" font-size=\"14.00\">film_deposition, 0.05, -1.0</text>\n</g>\n<!-- configured&#45;&gt;broken -->\n<g id=\"edge4\" class=\"edge\">\n<title>configured-&gt;broken</title>\n<path fill=\"none\" stroke=\"black\" d=\"M519.66,-103.79C658.85,-102.52 1051.99,-98.92 1187.72,-97.67\"/>\n<polygon fill=\"black\" stroke=\"black\" points=\"1187.44,-101.18 1197.41,-97.59 1187.37,-94.18 1187.44,-101.18\"/>\n<text text-anchor=\"middle\" x=\"906.09\" y=\"-105.05\" font-family=\"Times New Roman,serif\" font-size=\"14.00\">CHECKED[film_deposition], 0.05, 0.0</text>\n</g>\n<!-- configured&#45;&gt;executing -->\n<g id=\"edge3\" class=\"edge\">\n<title>configured-&gt;executing</title>\n<path fill=\"none\" stroke=\"black\" d=\"M518.73,-112.18C600.44,-125.52 764.72,-152.33 850.35,-166.31\"/>\n<polygon fill=\"black\" stroke=\"black\" points=\"849.72,-169.75 860.15,-167.91 850.85,-162.85 849.72,-169.75\"/>\n<text text-anchor=\"middle\" x=\"670.09\" y=\"-158.05\" font-family=\"Times New Roman,serif\" font-size=\"14.00\">CHECKED[film_deposition], 0.95, 0.0</text>\n</g>\n</g>\n</svg>"
     },
     "metadata": {},
     "output_type": "display_data"
    },
    {
     "data": {
      "text/plain": "<IPython.core.display.SVG object>",
      "image/svg+xml": "<svg xmlns=\"http://www.w3.org/2000/svg\" xmlns:xlink=\"http://www.w3.org/1999/xlink\" width=\"1598pt\" height=\"228pt\" viewBox=\"0.00 0.00 1598.38 228.09\">\n<g id=\"graph0\" class=\"graph\" transform=\"scale(1 1) rotate(0) translate(4 224.09)\">\n<polygon fill=\"white\" stroke=\"none\" points=\"-4,4 -4,-224.09 1594.38,-224.09 1594.38,4 -4,4\"/>\n<!-- fake -->\n<g id=\"node1\" class=\"node\">\n<title>fake</title>\n</g>\n<!-- ready -->\n<g id=\"node2\" class=\"node\">\n<title>ready</title>\n<ellipse fill=\"none\" stroke=\"black\" cx=\"125.55\" cy=\"-104.25\" rx=\"30.59\" ry=\"30.59\"/>\n<ellipse fill=\"none\" stroke=\"black\" cx=\"125.55\" cy=\"-104.25\" rx=\"34.59\" ry=\"34.59\"/>\n<text text-anchor=\"middle\" x=\"125.55\" y=\"-100.55\" font-family=\"Times New Roman,serif\" font-size=\"14.00\">ready</text>\n</g>\n<!-- fake&#45;&gt;ready -->\n<g id=\"edge1\" class=\"edge\">\n<title>fake-&gt;ready</title>\n<path fill=\"none\" stroke=\"black\" stroke-width=\"2\" d=\"M54.38,-104.25C62.06,-104.25 70.67,-104.25 79.17,-104.25\"/>\n<polygon fill=\"black\" stroke=\"black\" stroke-width=\"2\" points=\"77.55,-107.75 87.55,-104.25 77.55,-100.75 77.55,-107.75\"/>\n</g>\n<!-- configured -->\n<g id=\"node6\" class=\"node\">\n<title>configured</title>\n<ellipse fill=\"none\" stroke=\"black\" cx=\"466.09\" cy=\"-104.25\" rx=\"50.09\" ry=\"50.09\"/>\n<text text-anchor=\"middle\" x=\"466.09\" y=\"-100.55\" font-family=\"Times New Roman,serif\" font-size=\"14.00\">configured</text>\n</g>\n<!-- ready&#45;&gt;configured -->\n<g id=\"edge2\" class=\"edge\">\n<title>ready-&gt;configured</title>\n<path fill=\"none\" stroke=\"black\" d=\"M160.56,-104.25C217.5,-104.25 332.88,-104.25 404.13,-104.25\"/>\n<polygon fill=\"black\" stroke=\"black\" points=\"404.09,-107.75 414.09,-104.25 404.09,-100.75 404.09,-107.75\"/>\n<text text-anchor=\"middle\" x=\"277.59\" y=\"-108.05\" font-family=\"Times New Roman,serif\" font-size=\"14.00\">CONFIG[film_deposition], 1.0, 0.0</text>\n</g>\n<!-- repairing -->\n<g id=\"node3\" class=\"node\">\n<title>repairing</title>\n<ellipse fill=\"none\" stroke=\"black\" cx=\"1548.13\" cy=\"-42.25\" rx=\"42.49\" ry=\"42.49\"/>\n<text text-anchor=\"middle\" x=\"1548.13\" y=\"-38.55\" font-family=\"Times New Roman,serif\" font-size=\"14.00\">repairing</text>\n</g>\n<!-- repairing&#45;&gt;ready -->\n<g id=\"edge8\" class=\"edge\">\n<title>repairing-&gt;ready</title>\n<path fill=\"none\" stroke=\"black\" d=\"M1505.29,-38.95C1442.12,-34.27 1318.6,-26.25 1213.49,-26.25 465.09,-26.25 465.09,-26.25 465.09,-26.25 356.13,-26.25 232.36,-65.09 168.95,-87.95\"/>\n<polygon fill=\"black\" stroke=\"black\" points=\"167.8,-84.64 159.62,-91.37 170.21,-91.22 167.8,-84.64\"/>\n<text text-anchor=\"middle\" x=\"891.09\" y=\"-30.05\" font-family=\"Times New Roman,serif\" font-size=\"14.00\">REPAIRED[film_deposition], 1.0, 0.0</text>\n</g>\n<!-- broken -->\n<g id=\"node4\" class=\"node\">\n<title>broken</title>\n<ellipse fill=\"none\" stroke=\"black\" cx=\"1212.49\" cy=\"-97.25\" rx=\"36.29\" ry=\"36.29\"/>\n<text text-anchor=\"middle\" x=\"1212.49\" y=\"-93.55\" font-family=\"Times New Roman,serif\" font-size=\"14.00\">broken</text>\n</g>\n<!-- broken&#45;&gt;repairing -->\n<g id=\"edge7\" class=\"edge\">\n<title>broken-&gt;repairing</title>\n<path fill=\"none\" stroke=\"black\" d=\"M1248.57,-91.46C1307.36,-81.77 1426.11,-62.2 1494.81,-50.87\"/>\n<polygon fill=\"black\" stroke=\"black\" points=\"1495.01,-54.39 1504.3,-49.31 1493.87,-47.48 1495.01,-54.39\"/>\n<text text-anchor=\"middle\" x=\"1377.39\" y=\"-92.05\" font-family=\"Times New Roman,serif\" font-size=\"14.00\">RESTORE[film_deposition], 1.0, -10.0</text>\n</g>\n<!-- executing -->\n<g id=\"node5\" class=\"node\">\n<title>executing</title>\n<ellipse fill=\"none\" stroke=\"black\" cx=\"891.09\" cy=\"-175.25\" rx=\"44.69\" ry=\"44.69\"/>\n<text text-anchor=\"middle\" x=\"891.09\" y=\"-171.55\" font-family=\"Times New Roman,serif\" font-size=\"14.00\">executing</text>\n</g>\n<!-- executing&#45;&gt;ready -->\n<g id=\"edge5\" class=\"edge\">\n<title>executing-&gt;ready</title>\n<path fill=\"none\" stroke=\"black\" d=\"M846.18,-177.06C759.54,-180 560.62,-183.6 395.09,-163.25 297.76,-151.28 272.67,-149.19 178.09,-123.25 175.14,-122.43 172.11,-121.53 169.07,-120.56\"/>\n<polygon fill=\"black\" stroke=\"black\" points=\"170.2,-117.25 159.6,-117.35 167.95,-123.88 170.2,-117.25\"/>\n<text text-anchor=\"middle\" x=\"466.09\" y=\"-178.05\" font-family=\"Times New Roman,serif\" font-size=\"14.00\">film_deposition, 0.5, -2.0</text>\n</g>\n<!-- executing&#45;&gt;broken -->\n<g id=\"edge6\" class=\"edge\">\n<title>executing-&gt;broken</title>\n<path fill=\"none\" stroke=\"black\" d=\"M935.01,-165.2C987.64,-152.82 1079.55,-130.99 1158.09,-111.25 1160.68,-110.6 1163.34,-109.92 1166.02,-109.24\"/>\n<polygon fill=\"black\" stroke=\"black\" points=\"1166.78,-112.65 1175.58,-106.76 1165.03,-105.88 1166.78,-112.65\"/>\n<text text-anchor=\"middle\" x=\"1087.09\" y=\"-149.05\" font-family=\"Times New Roman,serif\" font-size=\"14.00\">film_deposition, 0.5, -2.0</text>\n</g>\n<!-- configured&#45;&gt;broken -->\n<g id=\"edge4\" class=\"edge\">\n<title>configured-&gt;broken</title>\n<path fill=\"none\" stroke=\"black\" d=\"M516.51,-103.78C652.53,-102.5 1031.12,-98.94 1164.36,-97.69\"/>\n<polygon fill=\"black\" stroke=\"black\" points=\"1164.26,-101.19 1174.23,-97.6 1164.2,-94.19 1164.26,-101.19\"/>\n<text text-anchor=\"middle\" x=\"891.09\" y=\"-105.05\" font-family=\"Times New Roman,serif\" font-size=\"14.00\">CHECKED[film_deposition], 0.5, 0.0</text>\n</g>\n<!-- configured&#45;&gt;executing -->\n<g id=\"edge3\" class=\"edge\">\n<title>configured-&gt;executing</title>\n<path fill=\"none\" stroke=\"black\" d=\"M515.62,-112.39C595,-125.71 752.1,-152.08 835.35,-166.06\"/>\n<polygon fill=\"black\" stroke=\"black\" points=\"834.65,-169.49 845.09,-167.69 835.81,-162.59 834.65,-169.49\"/>\n<text text-anchor=\"middle\" x=\"660.59\" y=\"-158.05\" font-family=\"Times New Roman,serif\" font-size=\"14.00\">CHECKED[film_deposition], 0.5, 0.0</text>\n</g>\n</g>\n</svg>"
     },
     "metadata": {},
     "output_type": "display_data"
    }
   ],
   "source": [
    "def film_deposition_service(name: str, broken_prob: float, unemployable_prob: float, broken_reward: float,\n",
    "                            action_reward: float) -> Service:\n",
    "    \"\"\"Build the film deposition device.\"\"\"\n",
    "    return build_complex_breakable_service(name, FILM_DEPOSITION, broken_prob=broken_prob,\n",
    "                                           unemployable_prob=unemployable_prob, broken_reward=broken_reward,\n",
    "                                           action_reward=action_reward)\n",
    "\n",
    "\n",
    "service_film_deposition1 = film_deposition_service(FILM_DEPOSITION1_SERVICE_NAME, DEFAULT_BROKEN_PROB,\n",
    "                                                   DEFAULT_UNEMPLOYABLE_PROB, DEFAULT_BROKEN_REWARD, DEFAULT_USA_REWARD)\n",
    "service_film_deposition2 = film_deposition_service(FILM_DEPOSITION2_SERVICE_NAME, BROKEN_PROB, HIGH_UNEMPLOYABLE_PROB, DEFAULT_BROKEN_REWARD, USA_REWARD)\n",
    "render_service(service_film_deposition1)\n",
    "render_service(service_film_deposition2)"
   ]
  },
  {
   "cell_type": "code",
   "execution_count": 19,
   "metadata": {},
   "outputs": [
    {
     "data": {
      "text/plain": "<IPython.core.display.SVG object>",
      "image/svg+xml": "<svg xmlns=\"http://www.w3.org/2000/svg\" xmlns:xlink=\"http://www.w3.org/1999/xlink\" width=\"1564pt\" height=\"228pt\" viewBox=\"0.00 0.00 1564.38 228.09\">\n<g id=\"graph0\" class=\"graph\" transform=\"scale(1 1) rotate(0) translate(4 224.09)\">\n<polygon fill=\"white\" stroke=\"none\" points=\"-4,4 -4,-224.09 1560.38,-224.09 1560.38,4 -4,4\"/>\n<!-- fake -->\n<g id=\"node1\" class=\"node\">\n<title>fake</title>\n</g>\n<!-- ready -->\n<g id=\"node2\" class=\"node\">\n<title>ready</title>\n<ellipse fill=\"none\" stroke=\"black\" cx=\"125.55\" cy=\"-104.25\" rx=\"30.59\" ry=\"30.59\"/>\n<ellipse fill=\"none\" stroke=\"black\" cx=\"125.55\" cy=\"-104.25\" rx=\"34.59\" ry=\"34.59\"/>\n<text text-anchor=\"middle\" x=\"125.55\" y=\"-100.55\" font-family=\"Times New Roman,serif\" font-size=\"14.00\">ready</text>\n</g>\n<!-- fake&#45;&gt;ready -->\n<g id=\"edge1\" class=\"edge\">\n<title>fake-&gt;ready</title>\n<path fill=\"none\" stroke=\"black\" stroke-width=\"2\" d=\"M54.38,-104.25C62.06,-104.25 70.67,-104.25 79.17,-104.25\"/>\n<polygon fill=\"black\" stroke=\"black\" stroke-width=\"2\" points=\"77.55,-107.75 87.55,-104.25 77.55,-100.75 77.55,-107.75\"/>\n</g>\n<!-- configured -->\n<g id=\"node6\" class=\"node\">\n<title>configured</title>\n<ellipse fill=\"none\" stroke=\"black\" cx=\"455.59\" cy=\"-104.25\" rx=\"50.09\" ry=\"50.09\"/>\n<text text-anchor=\"middle\" x=\"455.59\" y=\"-100.55\" font-family=\"Times New Roman,serif\" font-size=\"14.00\">configured</text>\n</g>\n<!-- ready&#45;&gt;configured -->\n<g id=\"edge2\" class=\"edge\">\n<title>ready-&gt;configured</title>\n<path fill=\"none\" stroke=\"black\" d=\"M160.42,-104.25C215.43,-104.25 324.96,-104.25 393.74,-104.25\"/>\n<polygon fill=\"black\" stroke=\"black\" points=\"393.74,-107.75 403.74,-104.25 393.74,-100.75 393.74,-107.75\"/>\n<text text-anchor=\"middle\" x=\"273.09\" y=\"-108.05\" font-family=\"Times New Roman,serif\" font-size=\"14.00\">CONFIG[resist_coating], 1.0, 0.0</text>\n</g>\n<!-- repairing -->\n<g id=\"node3\" class=\"node\">\n<title>repairing</title>\n<ellipse fill=\"none\" stroke=\"black\" cx=\"1514.13\" cy=\"-42.25\" rx=\"42.49\" ry=\"42.49\"/>\n<text text-anchor=\"middle\" x=\"1514.13\" y=\"-38.55\" font-family=\"Times New Roman,serif\" font-size=\"14.00\">repairing</text>\n</g>\n<!-- repairing&#45;&gt;ready -->\n<g id=\"edge8\" class=\"edge\">\n<title>repairing-&gt;ready</title>\n<path fill=\"none\" stroke=\"black\" d=\"M1471.27,-38.85C1409.62,-34.16 1290.75,-26.25 1189.49,-26.25 454.59,-26.25 454.59,-26.25 454.59,-26.25 349.39,-26.25 230.23,-64.68 168.55,-87.59\"/>\n<polygon fill=\"black\" stroke=\"black\" points=\"167.62,-84.2 159.5,-91.01 170.09,-90.76 167.62,-84.2\"/>\n<text text-anchor=\"middle\" x=\"873.09\" y=\"-30.05\" font-family=\"Times New Roman,serif\" font-size=\"14.00\">REPAIRED[resist_coating], 1.0, 0.0</text>\n</g>\n<!-- broken -->\n<g id=\"node4\" class=\"node\">\n<title>broken</title>\n<ellipse fill=\"none\" stroke=\"black\" cx=\"1188.49\" cy=\"-97.25\" rx=\"36.29\" ry=\"36.29\"/>\n<text text-anchor=\"middle\" x=\"1188.49\" y=\"-93.55\" font-family=\"Times New Roman,serif\" font-size=\"14.00\">broken</text>\n</g>\n<!-- broken&#45;&gt;repairing -->\n<g id=\"edge7\" class=\"edge\">\n<title>broken-&gt;repairing</title>\n<path fill=\"none\" stroke=\"black\" d=\"M1224.74,-91.26C1281.74,-81.57 1394.42,-62.42 1460.8,-51.14\"/>\n<polygon fill=\"black\" stroke=\"black\" points=\"1461.07,-54.64 1470.34,-49.52 1459.9,-47.74 1461.07,-54.64\"/>\n<text text-anchor=\"middle\" x=\"1348.39\" y=\"-92.05\" font-family=\"Times New Roman,serif\" font-size=\"14.00\">RESTORE[resist_coating], 1.0, -10.0</text>\n</g>\n<!-- executing -->\n<g id=\"node5\" class=\"node\">\n<title>executing</title>\n<ellipse fill=\"none\" stroke=\"black\" cx=\"873.09\" cy=\"-175.25\" rx=\"44.69\" ry=\"44.69\"/>\n<text text-anchor=\"middle\" x=\"873.09\" y=\"-171.55\" font-family=\"Times New Roman,serif\" font-size=\"14.00\">executing</text>\n</g>\n<!-- executing&#45;&gt;ready -->\n<g id=\"edge5\" class=\"edge\">\n<title>executing-&gt;ready</title>\n<path fill=\"none\" stroke=\"black\" d=\"M827.97,-177.15C742.36,-180.2 547.89,-183.87 386.09,-163.25 292.71,-151.34 268.78,-148.5 178.09,-123.25 175.14,-122.42 172.11,-121.51 169.08,-120.53\"/>\n<polygon fill=\"black\" stroke=\"black\" points=\"170.21,-117.22 159.61,-117.31 167.95,-123.85 170.21,-117.22\"/>\n<text text-anchor=\"middle\" x=\"455.59\" y=\"-178.05\" font-family=\"Times New Roman,serif\" font-size=\"14.00\">resist_coating, 0.95, -1.0</text>\n</g>\n<!-- executing&#45;&gt;broken -->\n<g id=\"edge6\" class=\"edge\">\n<title>executing-&gt;broken</title>\n<path fill=\"none\" stroke=\"black\" d=\"M916.93,-164.91C968.51,-152.42 1057.73,-130.66 1134.09,-111.25 1136.68,-110.59 1139.34,-109.91 1142.01,-109.22\"/>\n<polygon fill=\"black\" stroke=\"black\" points=\"1142.78,-112.64 1151.58,-106.74 1141.02,-105.86 1142.78,-112.64\"/>\n<text text-anchor=\"middle\" x=\"1064.59\" y=\"-149.05\" font-family=\"Times New Roman,serif\" font-size=\"14.00\">resist_coating, 0.05, -1.0</text>\n</g>\n<!-- configured&#45;&gt;broken -->\n<g id=\"edge4\" class=\"edge\">\n<title>configured-&gt;broken</title>\n<path fill=\"none\" stroke=\"black\" d=\"M505.97,-103.77C640.14,-102.49 1010.1,-98.95 1140.92,-97.69\"/>\n<polygon fill=\"black\" stroke=\"black\" points=\"1140.62,-101.2 1150.58,-97.6 1140.55,-94.2 1140.62,-101.2\"/>\n<text text-anchor=\"middle\" x=\"873.09\" y=\"-105.05\" font-family=\"Times New Roman,serif\" font-size=\"14.00\">CHECKED[resist_coating], 0.05, 0.0</text>\n</g>\n<!-- configured&#45;&gt;executing -->\n<g id=\"edge3\" class=\"edge\">\n<title>configured-&gt;executing</title>\n<path fill=\"none\" stroke=\"black\" d=\"M505.48,-112.6C583.64,-125.96 736.22,-152.03 817.72,-165.96\"/>\n<polygon fill=\"black\" stroke=\"black\" points=\"816.8,-169.35 827.24,-167.58 817.97,-162.45 816.8,-169.35\"/>\n<text text-anchor=\"middle\" x=\"647.09\" y=\"-158.05\" font-family=\"Times New Roman,serif\" font-size=\"14.00\">CHECKED[resist_coating], 0.95, 0.0</text>\n</g>\n</g>\n</svg>"
     },
     "metadata": {},
     "output_type": "display_data"
    },
    {
     "data": {
      "text/plain": "<IPython.core.display.SVG object>",
      "image/svg+xml": "<svg xmlns=\"http://www.w3.org/2000/svg\" xmlns:xlink=\"http://www.w3.org/1999/xlink\" width=\"1564pt\" height=\"228pt\" viewBox=\"0.00 0.00 1564.38 228.09\">\n<g id=\"graph0\" class=\"graph\" transform=\"scale(1 1) rotate(0) translate(4 224.09)\">\n<polygon fill=\"white\" stroke=\"none\" points=\"-4,4 -4,-224.09 1560.38,-224.09 1560.38,4 -4,4\"/>\n<!-- fake -->\n<g id=\"node1\" class=\"node\">\n<title>fake</title>\n</g>\n<!-- ready -->\n<g id=\"node2\" class=\"node\">\n<title>ready</title>\n<ellipse fill=\"none\" stroke=\"black\" cx=\"125.55\" cy=\"-104.25\" rx=\"30.59\" ry=\"30.59\"/>\n<ellipse fill=\"none\" stroke=\"black\" cx=\"125.55\" cy=\"-104.25\" rx=\"34.59\" ry=\"34.59\"/>\n<text text-anchor=\"middle\" x=\"125.55\" y=\"-100.55\" font-family=\"Times New Roman,serif\" font-size=\"14.00\">ready</text>\n</g>\n<!-- fake&#45;&gt;ready -->\n<g id=\"edge1\" class=\"edge\">\n<title>fake-&gt;ready</title>\n<path fill=\"none\" stroke=\"black\" stroke-width=\"2\" d=\"M54.38,-104.25C62.06,-104.25 70.67,-104.25 79.17,-104.25\"/>\n<polygon fill=\"black\" stroke=\"black\" stroke-width=\"2\" points=\"77.55,-107.75 87.55,-104.25 77.55,-100.75 77.55,-107.75\"/>\n</g>\n<!-- configured -->\n<g id=\"node6\" class=\"node\">\n<title>configured</title>\n<ellipse fill=\"none\" stroke=\"black\" cx=\"455.59\" cy=\"-104.25\" rx=\"50.09\" ry=\"50.09\"/>\n<text text-anchor=\"middle\" x=\"455.59\" y=\"-100.55\" font-family=\"Times New Roman,serif\" font-size=\"14.00\">configured</text>\n</g>\n<!-- ready&#45;&gt;configured -->\n<g id=\"edge2\" class=\"edge\">\n<title>ready-&gt;configured</title>\n<path fill=\"none\" stroke=\"black\" d=\"M160.42,-104.25C215.43,-104.25 324.96,-104.25 393.74,-104.25\"/>\n<polygon fill=\"black\" stroke=\"black\" points=\"393.74,-107.75 403.74,-104.25 393.74,-100.75 393.74,-107.75\"/>\n<text text-anchor=\"middle\" x=\"273.09\" y=\"-108.05\" font-family=\"Times New Roman,serif\" font-size=\"14.00\">CONFIG[resist_coating], 1.0, 0.0</text>\n</g>\n<!-- repairing -->\n<g id=\"node3\" class=\"node\">\n<title>repairing</title>\n<ellipse fill=\"none\" stroke=\"black\" cx=\"1514.13\" cy=\"-42.25\" rx=\"42.49\" ry=\"42.49\"/>\n<text text-anchor=\"middle\" x=\"1514.13\" y=\"-38.55\" font-family=\"Times New Roman,serif\" font-size=\"14.00\">repairing</text>\n</g>\n<!-- repairing&#45;&gt;ready -->\n<g id=\"edge8\" class=\"edge\">\n<title>repairing-&gt;ready</title>\n<path fill=\"none\" stroke=\"black\" d=\"M1471.27,-38.85C1409.62,-34.16 1290.75,-26.25 1189.49,-26.25 454.59,-26.25 454.59,-26.25 454.59,-26.25 349.39,-26.25 230.23,-64.68 168.55,-87.59\"/>\n<polygon fill=\"black\" stroke=\"black\" points=\"167.62,-84.2 159.5,-91.01 170.09,-90.76 167.62,-84.2\"/>\n<text text-anchor=\"middle\" x=\"873.09\" y=\"-30.05\" font-family=\"Times New Roman,serif\" font-size=\"14.00\">REPAIRED[resist_coating], 1.0, 0.0</text>\n</g>\n<!-- broken -->\n<g id=\"node4\" class=\"node\">\n<title>broken</title>\n<ellipse fill=\"none\" stroke=\"black\" cx=\"1188.49\" cy=\"-97.25\" rx=\"36.29\" ry=\"36.29\"/>\n<text text-anchor=\"middle\" x=\"1188.49\" y=\"-93.55\" font-family=\"Times New Roman,serif\" font-size=\"14.00\">broken</text>\n</g>\n<!-- broken&#45;&gt;repairing -->\n<g id=\"edge7\" class=\"edge\">\n<title>broken-&gt;repairing</title>\n<path fill=\"none\" stroke=\"black\" d=\"M1224.74,-91.26C1281.74,-81.57 1394.42,-62.42 1460.8,-51.14\"/>\n<polygon fill=\"black\" stroke=\"black\" points=\"1461.07,-54.64 1470.34,-49.52 1459.9,-47.74 1461.07,-54.64\"/>\n<text text-anchor=\"middle\" x=\"1348.39\" y=\"-92.05\" font-family=\"Times New Roman,serif\" font-size=\"14.00\">RESTORE[resist_coating], 1.0, -10.0</text>\n</g>\n<!-- executing -->\n<g id=\"node5\" class=\"node\">\n<title>executing</title>\n<ellipse fill=\"none\" stroke=\"black\" cx=\"873.09\" cy=\"-175.25\" rx=\"44.69\" ry=\"44.69\"/>\n<text text-anchor=\"middle\" x=\"873.09\" y=\"-171.55\" font-family=\"Times New Roman,serif\" font-size=\"14.00\">executing</text>\n</g>\n<!-- executing&#45;&gt;ready -->\n<g id=\"edge5\" class=\"edge\">\n<title>executing-&gt;ready</title>\n<path fill=\"none\" stroke=\"black\" d=\"M827.97,-177.15C742.36,-180.2 547.89,-183.87 386.09,-163.25 292.71,-151.34 268.78,-148.5 178.09,-123.25 175.14,-122.42 172.11,-121.51 169.08,-120.53\"/>\n<polygon fill=\"black\" stroke=\"black\" points=\"170.21,-117.22 159.61,-117.31 167.95,-123.85 170.21,-117.22\"/>\n<text text-anchor=\"middle\" x=\"455.59\" y=\"-178.05\" font-family=\"Times New Roman,serif\" font-size=\"14.00\">resist_coating, 0.95, -2.0</text>\n</g>\n<!-- executing&#45;&gt;broken -->\n<g id=\"edge6\" class=\"edge\">\n<title>executing-&gt;broken</title>\n<path fill=\"none\" stroke=\"black\" d=\"M916.93,-164.91C968.51,-152.42 1057.73,-130.66 1134.09,-111.25 1136.68,-110.59 1139.34,-109.91 1142.01,-109.22\"/>\n<polygon fill=\"black\" stroke=\"black\" points=\"1142.78,-112.64 1151.58,-106.74 1141.02,-105.86 1142.78,-112.64\"/>\n<text text-anchor=\"middle\" x=\"1064.59\" y=\"-149.05\" font-family=\"Times New Roman,serif\" font-size=\"14.00\">resist_coating, 0.05, -2.0</text>\n</g>\n<!-- configured&#45;&gt;broken -->\n<g id=\"edge4\" class=\"edge\">\n<title>configured-&gt;broken</title>\n<path fill=\"none\" stroke=\"black\" d=\"M505.97,-103.77C640.14,-102.49 1010.1,-98.95 1140.92,-97.69\"/>\n<polygon fill=\"black\" stroke=\"black\" points=\"1140.62,-101.2 1150.58,-97.6 1140.55,-94.2 1140.62,-101.2\"/>\n<text text-anchor=\"middle\" x=\"873.09\" y=\"-105.05\" font-family=\"Times New Roman,serif\" font-size=\"14.00\">CHECKED[resist_coating], 0.05, 0.0</text>\n</g>\n<!-- configured&#45;&gt;executing -->\n<g id=\"edge3\" class=\"edge\">\n<title>configured-&gt;executing</title>\n<path fill=\"none\" stroke=\"black\" d=\"M505.48,-112.6C583.64,-125.96 736.22,-152.03 817.72,-165.96\"/>\n<polygon fill=\"black\" stroke=\"black\" points=\"816.8,-169.35 827.24,-167.58 817.97,-162.45 816.8,-169.35\"/>\n<text text-anchor=\"middle\" x=\"647.09\" y=\"-158.05\" font-family=\"Times New Roman,serif\" font-size=\"14.00\">CHECKED[resist_coating], 0.95, 0.0</text>\n</g>\n</g>\n</svg>"
     },
     "metadata": {},
     "output_type": "display_data"
    }
   ],
   "source": [
    "def resist_coating_service(name: str, broken_prob: float, unemployable_prob: float, broken_reward: float,\n",
    "                           action_reward: float) -> Service:\n",
    "    \"\"\"Build the resist coating device.\"\"\"\n",
    "    return build_complex_breakable_service(name, RESIST_COATING, broken_prob=broken_prob,\n",
    "                                           unemployable_prob=unemployable_prob, broken_reward=broken_reward,\n",
    "                                           action_reward=action_reward)\n",
    "\n",
    "\n",
    "service_resist_coating1 = resist_coating_service(RESIST_COATING1_SERVICE_NAME, DEFAULT_BROKEN_PROB,\n",
    "                                                 DEFAULT_UNEMPLOYABLE_PROB, DEFAULT_BROKEN_REWARD, DEFAULT_USA_REWARD)\n",
    "service_resist_coating2 = resist_coating_service(RESIST_COATING2_SERVICE_NAME, DEFAULT_BROKEN_PROB,\n",
    "                                                 DEFAULT_UNEMPLOYABLE_PROB, DEFAULT_BROKEN_REWARD, USA_REWARD)\n",
    "render_service(service_resist_coating1)\n",
    "render_service(service_resist_coating2)"
   ]
  },
  {
   "cell_type": "code",
   "execution_count": 20,
   "metadata": {},
   "outputs": [
    {
     "data": {
      "text/plain": "<IPython.core.display.SVG object>",
      "image/svg+xml": "<svg xmlns=\"http://www.w3.org/2000/svg\" xmlns:xlink=\"http://www.w3.org/1999/xlink\" width=\"452pt\" height=\"164pt\" viewBox=\"0.00 0.00 451.99 163.99\">\n<g id=\"graph0\" class=\"graph\" transform=\"scale(1 1) rotate(0) translate(4 159.99)\">\n<polygon fill=\"white\" stroke=\"none\" points=\"-4,4 -4,-159.99 447.99,-159.99 447.99,4 -4,4\"/>\n<!-- fake -->\n<g id=\"node1\" class=\"node\">\n<title>fake</title>\n</g>\n<!-- available -->\n<g id=\"node4\" class=\"node\">\n<title>available</title>\n<ellipse fill=\"none\" stroke=\"black\" cx=\"136.6\" cy=\"-70.6\" rx=\"41.68\" ry=\"41.68\"/>\n<ellipse fill=\"none\" stroke=\"black\" cx=\"136.6\" cy=\"-70.6\" rx=\"45.69\" ry=\"45.69\"/>\n<text text-anchor=\"middle\" x=\"136.6\" y=\"-66.9\" font-family=\"Times New Roman,serif\" font-size=\"14.00\">available</text>\n</g>\n<!-- fake&#45;&gt;available -->\n<g id=\"edge1\" class=\"edge\">\n<title>fake-&gt;available</title>\n<path fill=\"none\" stroke=\"black\" stroke-width=\"2\" d=\"M54.32,-70.6C61.93,-70.6 70.55,-70.6 79.26,-70.6\"/>\n<polygon fill=\"black\" stroke=\"black\" stroke-width=\"2\" points=\"77.65,-74.1 87.65,-70.6 77.65,-67.1 77.65,-74.1\"/>\n</g>\n<!-- broken -->\n<g id=\"node2\" class=\"node\">\n<title>broken</title>\n<ellipse fill=\"none\" stroke=\"black\" cx=\"407.59\" cy=\"-119.6\" rx=\"36.29\" ry=\"36.29\"/>\n<text text-anchor=\"middle\" x=\"407.59\" y=\"-115.9\" font-family=\"Times New Roman,serif\" font-size=\"14.00\">broken</text>\n</g>\n<!-- broken&#45;&gt;available -->\n<g id=\"edge4\" class=\"edge\">\n<title>broken-&gt;available</title>\n<path fill=\"none\" stroke=\"black\" d=\"M377.9,-98.41C370.23,-93.73 361.69,-89.36 353.19,-86.6 324.67,-77.34 247.77,-73.41 193.99,-71.76\"/>\n<polygon fill=\"black\" stroke=\"black\" points=\"194.16,-68.26 184.07,-71.47 193.96,-75.26 194.16,-68.26\"/>\n<text text-anchor=\"middle\" x=\"276.69\" y=\"-90.4\" font-family=\"Times New Roman,serif\" font-size=\"14.00\">check_exposure, 1.0, -10.0</text>\n</g>\n<!-- done -->\n<g id=\"node3\" class=\"node\">\n<title>done</title>\n<ellipse fill=\"none\" stroke=\"black\" cx=\"407.59\" cy=\"-28.6\" rx=\"28.7\" ry=\"28.7\"/>\n<text text-anchor=\"middle\" x=\"407.59\" y=\"-24.9\" font-family=\"Times New Roman,serif\" font-size=\"14.00\">done</text>\n</g>\n<!-- done&#45;&gt;available -->\n<g id=\"edge5\" class=\"edge\">\n<title>done-&gt;available</title>\n<path fill=\"none\" stroke=\"black\" d=\"M380.11,-19.65C339.77,-7.53 261.17,10.01 200.19,-13.6 191.33,-17.03 182.94,-22.37 175.37,-28.43\"/>\n<polygon fill=\"black\" stroke=\"black\" points=\"173.27,-25.61 168,-34.81 177.85,-30.9 173.27,-25.61\"/>\n<text text-anchor=\"middle\" x=\"276.69\" y=\"-17.4\" font-family=\"Times New Roman,serif\" font-size=\"14.00\">check_exposure, 1.0, 0.0</text>\n</g>\n<!-- available&#45;&gt;broken -->\n<g id=\"edge3\" class=\"edge\">\n<title>available-&gt;broken</title>\n<path fill=\"none\" stroke=\"black\" d=\"M175.48,-95.25C183.37,-99.37 191.84,-103.12 200.19,-105.6 253.22,-121.35 317.15,-123.22 359.67,-122.2\"/>\n<polygon fill=\"black\" stroke=\"black\" points=\"359.67,-125.7 369.55,-121.9 359.45,-118.71 359.67,-125.7\"/>\n<text text-anchor=\"middle\" x=\"276.69\" y=\"-125.4\" font-family=\"Times New Roman,serif\" font-size=\"14.00\">exposure, 0.05, -1.0</text>\n</g>\n<!-- available&#45;&gt;done -->\n<g id=\"edge2\" class=\"edge\">\n<title>available-&gt;done</title>\n<path fill=\"none\" stroke=\"black\" d=\"M180.47,-57.26C187.03,-55.52 193.76,-53.89 200.19,-52.6 257.78,-41.05 325.6,-34.48 367.34,-31.23\"/>\n<polygon fill=\"black\" stroke=\"black\" points=\"367.43,-34.74 377.14,-30.5 366.91,-27.76 367.43,-34.74\"/>\n<text text-anchor=\"middle\" x=\"276.69\" y=\"-56.4\" font-family=\"Times New Roman,serif\" font-size=\"14.00\">exposure, 0.95, -1.0</text>\n</g>\n</g>\n</svg>"
     },
     "metadata": {},
     "output_type": "display_data"
    }
   ],
   "source": [
    "def exposure_service(name: str = EXPOSURE_SERVICE_NAME, broken_prob: float = DEFAULT_BROKEN_PROB,\n",
    "                     broken_reward: float = DEFAULT_BROKEN_REWARD,\n",
    "                     action_reward: float = DEFAULT_USA_REWARD) -> Service:\n",
    "    \"\"\"Build the exposure device.\"\"\"\n",
    "    return build_generic_breakable_service(name, EXPOSURE, broken_prob=broken_prob, broken_reward=broken_reward,\n",
    "                                           action_reward=action_reward)\n",
    "\n",
    "\n",
    "service_exposure = exposure_service()\n",
    "render_service(service_exposure)"
   ]
  },
  {
   "cell_type": "code",
   "execution_count": 21,
   "metadata": {},
   "outputs": [
    {
     "data": {
      "text/plain": "<IPython.core.display.SVG object>",
      "image/svg+xml": "<svg xmlns=\"http://www.w3.org/2000/svg\" xmlns:xlink=\"http://www.w3.org/1999/xlink\" width=\"187pt\" height=\"110pt\" viewBox=\"0.00 0.00 186.55 110.09\">\n<g id=\"graph0\" class=\"graph\" transform=\"scale(1 1) rotate(0) translate(4 106.09)\">\n<polygon fill=\"white\" stroke=\"none\" points=\"-4,4 -4,-106.09 182.55,-106.09 182.55,4 -4,4\"/>\n<!-- fake -->\n<g id=\"node1\" class=\"node\">\n<title>fake</title>\n</g>\n<!-- ready -->\n<g id=\"node2\" class=\"node\">\n<title>ready</title>\n<ellipse fill=\"none\" stroke=\"black\" cx=\"125.55\" cy=\"-34.55\" rx=\"30.59\" ry=\"30.59\"/>\n<ellipse fill=\"none\" stroke=\"black\" cx=\"125.55\" cy=\"-34.55\" rx=\"34.59\" ry=\"34.59\"/>\n<text text-anchor=\"middle\" x=\"125.55\" y=\"-30.85\" font-family=\"Times New Roman,serif\" font-size=\"14.00\">ready</text>\n</g>\n<!-- fake&#45;&gt;ready -->\n<g id=\"edge1\" class=\"edge\">\n<title>fake-&gt;ready</title>\n<path fill=\"none\" stroke=\"black\" stroke-width=\"2\" d=\"M54.38,-34.55C62.06,-34.55 70.67,-34.55 79.17,-34.55\"/>\n<polygon fill=\"black\" stroke=\"black\" stroke-width=\"2\" points=\"77.55,-38.05 87.55,-34.55 77.55,-31.05 77.55,-38.05\"/>\n</g>\n<!-- ready&#45;&gt;ready -->\n<g id=\"edge2\" class=\"edge\">\n<title>ready-&gt;ready</title>\n<path fill=\"none\" stroke=\"black\" d=\"M115.61,-68.16C115.76,-78.74 119.07,-87.09 125.55,-87.09 129.49,-87.09 132.27,-83.99 133.86,-79.17\"/>\n<polygon fill=\"black\" stroke=\"black\" points=\"137.27,-80.06 135.27,-69.65 130.35,-79.03 137.27,-80.06\"/>\n<text text-anchor=\"middle\" x=\"125.55\" y=\"-90.89\" font-family=\"Times New Roman,serif\" font-size=\"14.00\">exposure, 1.0, -2.0</text>\n</g>\n</g>\n</svg>"
     },
     "metadata": {},
     "output_type": "display_data"
    }
   ],
   "source": [
    "def exposure_human_service(name: str = EXPOSURE_HUMAN_SERVICE_NAME, action_reward: float = USA_REWARD) -> Service:\n",
    "    \"\"\"Build the human exposure device.\"\"\"\n",
    "    return build_generic_service_one_state(\n",
    "        name,\n",
    "        {EXPOSURE},\n",
    "        action_reward=action_reward\n",
    "    )\n",
    "\n",
    "\n",
    "service_exposure_human = exposure_human_service()\n",
    "render_service(service_exposure_human)"
   ]
  },
  {
   "cell_type": "code",
   "execution_count": 22,
   "metadata": {},
   "outputs": [
    {
     "data": {
      "text/plain": "<IPython.core.display.SVG object>",
      "image/svg+xml": "<svg xmlns=\"http://www.w3.org/2000/svg\" xmlns:xlink=\"http://www.w3.org/1999/xlink\" width=\"1528pt\" height=\"228pt\" viewBox=\"0.00 0.00 1528.38 228.09\">\n<g id=\"graph0\" class=\"graph\" transform=\"scale(1 1) rotate(0) translate(4 224.09)\">\n<polygon fill=\"white\" stroke=\"none\" points=\"-4,4 -4,-224.09 1524.38,-224.09 1524.38,4 -4,4\"/>\n<!-- fake -->\n<g id=\"node1\" class=\"node\">\n<title>fake</title>\n</g>\n<!-- ready -->\n<g id=\"node2\" class=\"node\">\n<title>ready</title>\n<ellipse fill=\"none\" stroke=\"black\" cx=\"125.55\" cy=\"-104.25\" rx=\"30.59\" ry=\"30.59\"/>\n<ellipse fill=\"none\" stroke=\"black\" cx=\"125.55\" cy=\"-104.25\" rx=\"34.59\" ry=\"34.59\"/>\n<text text-anchor=\"middle\" x=\"125.55\" y=\"-100.55\" font-family=\"Times New Roman,serif\" font-size=\"14.00\">ready</text>\n</g>\n<!-- fake&#45;&gt;ready -->\n<g id=\"edge1\" class=\"edge\">\n<title>fake-&gt;ready</title>\n<path fill=\"none\" stroke=\"black\" stroke-width=\"2\" d=\"M54.38,-104.25C62.06,-104.25 70.67,-104.25 79.17,-104.25\"/>\n<polygon fill=\"black\" stroke=\"black\" stroke-width=\"2\" points=\"77.55,-107.75 87.55,-104.25 77.55,-100.75 77.55,-107.75\"/>\n</g>\n<!-- configured -->\n<g id=\"node6\" class=\"node\">\n<title>configured</title>\n<ellipse fill=\"none\" stroke=\"black\" cx=\"446.59\" cy=\"-104.25\" rx=\"50.09\" ry=\"50.09\"/>\n<text text-anchor=\"middle\" x=\"446.59\" y=\"-100.55\" font-family=\"Times New Roman,serif\" font-size=\"14.00\">configured</text>\n</g>\n<!-- ready&#45;&gt;configured -->\n<g id=\"edge2\" class=\"edge\">\n<title>ready-&gt;configured</title>\n<path fill=\"none\" stroke=\"black\" d=\"M160.39,-104.25C213.83,-104.25 318.51,-104.25 385.11,-104.25\"/>\n<polygon fill=\"black\" stroke=\"black\" points=\"384.75,-107.75 394.75,-104.25 384.75,-100.75 384.75,-107.75\"/>\n<text text-anchor=\"middle\" x=\"270.09\" y=\"-108.05\" font-family=\"Times New Roman,serif\" font-size=\"14.00\">CONFIG[development], 1.0, 0.0</text>\n</g>\n<!-- repairing -->\n<g id=\"node3\" class=\"node\">\n<title>repairing</title>\n<ellipse fill=\"none\" stroke=\"black\" cx=\"1478.13\" cy=\"-42.25\" rx=\"42.49\" ry=\"42.49\"/>\n<text text-anchor=\"middle\" x=\"1478.13\" y=\"-38.55\" font-family=\"Times New Roman,serif\" font-size=\"14.00\">repairing</text>\n</g>\n<!-- repairing&#45;&gt;ready -->\n<g id=\"edge8\" class=\"edge\">\n<title>repairing-&gt;ready</title>\n<path fill=\"none\" stroke=\"black\" d=\"M1435.29,-38.79C1374.57,-34.09 1258.47,-26.25 1159.49,-26.25 445.59,-26.25 445.59,-26.25 445.59,-26.25 343.87,-26.25 228.99,-64.12 168.68,-87.09\"/>\n<polygon fill=\"black\" stroke=\"black\" points=\"167.55,-83.77 159.49,-90.64 170.08,-90.3 167.55,-83.77\"/>\n<text text-anchor=\"middle\" x=\"852.09\" y=\"-30.05\" font-family=\"Times New Roman,serif\" font-size=\"14.00\">REPAIRED[development], 1.0, 0.0</text>\n</g>\n<!-- broken -->\n<g id=\"node4\" class=\"node\">\n<title>broken</title>\n<ellipse fill=\"none\" stroke=\"black\" cx=\"1158.49\" cy=\"-97.25\" rx=\"36.29\" ry=\"36.29\"/>\n<text text-anchor=\"middle\" x=\"1158.49\" y=\"-93.55\" font-family=\"Times New Roman,serif\" font-size=\"14.00\">broken</text>\n</g>\n<!-- broken&#45;&gt;repairing -->\n<g id=\"edge7\" class=\"edge\">\n<title>broken-&gt;repairing</title>\n<path fill=\"none\" stroke=\"black\" d=\"M1194.7,-91.15C1250.47,-81.49 1359.46,-62.62 1424.53,-51.35\"/>\n<polygon fill=\"black\" stroke=\"black\" points=\"1425.01,-54.82 1434.26,-49.67 1423.81,-47.93 1425.01,-54.82\"/>\n<text text-anchor=\"middle\" x=\"1315.39\" y=\"-91.05\" font-family=\"Times New Roman,serif\" font-size=\"14.00\">RESTORE[development], 1.0, -10.0</text>\n</g>\n<!-- executing -->\n<g id=\"node5\" class=\"node\">\n<title>executing</title>\n<ellipse fill=\"none\" stroke=\"black\" cx=\"852.09\" cy=\"-175.25\" rx=\"44.69\" ry=\"44.69\"/>\n<text text-anchor=\"middle\" x=\"852.09\" y=\"-171.55\" font-family=\"Times New Roman,serif\" font-size=\"14.00\">executing</text>\n</g>\n<!-- executing&#45;&gt;ready -->\n<g id=\"edge5\" class=\"edge\">\n<title>executing-&gt;ready</title>\n<path fill=\"none\" stroke=\"black\" d=\"M807.02,-177.2C723.37,-180.23 536.01,-183.76 380.09,-163.25 289.36,-151.31 266.19,-148.04 178.09,-123.25 175.14,-122.42 172.12,-121.49 169.08,-120.52\"/>\n<polygon fill=\"black\" stroke=\"black\" points=\"170.21,-117.2 159.62,-117.29 167.95,-123.83 170.21,-117.2\"/>\n<text text-anchor=\"middle\" x=\"446.59\" y=\"-178.05\" font-family=\"Times New Roman,serif\" font-size=\"14.00\">development, 0.95, -1.0</text>\n</g>\n<!-- executing&#45;&gt;broken -->\n<g id=\"edge6\" class=\"edge\">\n<title>executing-&gt;broken</title>\n<path fill=\"none\" stroke=\"black\" d=\"M895.75,-164.46C945.71,-151.81 1030.95,-130.16 1104.09,-111.25 1106.68,-110.58 1109.33,-109.89 1112.01,-109.19\"/>\n<polygon fill=\"black\" stroke=\"black\" points=\"1112.77,-112.61 1121.57,-106.7 1111.01,-105.84 1112.77,-112.61\"/>\n<text text-anchor=\"middle\" x=\"1037.59\" y=\"-149.05\" font-family=\"Times New Roman,serif\" font-size=\"14.00\">development, 0.05, -1.0</text>\n</g>\n<!-- configured&#45;&gt;broken -->\n<g id=\"edge4\" class=\"edge\">\n<title>configured-&gt;broken</title>\n<path fill=\"none\" stroke=\"black\" d=\"M496.95,-103.76C627.91,-102.47 982.91,-98.97 1110.79,-97.71\"/>\n<polygon fill=\"black\" stroke=\"black\" points=\"1110.61,-101.21 1120.57,-97.61 1110.54,-94.21 1110.61,-101.21\"/>\n<text text-anchor=\"middle\" x=\"852.09\" y=\"-105.05\" font-family=\"Times New Roman,serif\" font-size=\"14.00\">CHECKED[development], 0.05, 0.0</text>\n</g>\n<!-- configured&#45;&gt;executing -->\n<g id=\"edge3\" class=\"edge\">\n<title>configured-&gt;executing</title>\n<path fill=\"none\" stroke=\"black\" d=\"M496.27,-112.81C571.98,-126.13 717.48,-151.74 796.61,-165.66\"/>\n<polygon fill=\"black\" stroke=\"black\" points=\"795.84,-169.08 806.3,-167.36 797.05,-162.18 795.84,-169.08\"/>\n<text text-anchor=\"middle\" x=\"632.09\" y=\"-158.05\" font-family=\"Times New Roman,serif\" font-size=\"14.00\">CHECKED[development], 0.95, 0.0</text>\n</g>\n</g>\n</svg>"
     },
     "metadata": {},
     "output_type": "display_data"
    },
    {
     "data": {
      "text/plain": "<IPython.core.display.SVG object>",
      "image/svg+xml": "<svg xmlns=\"http://www.w3.org/2000/svg\" xmlns:xlink=\"http://www.w3.org/1999/xlink\" width=\"1514pt\" height=\"228pt\" viewBox=\"0.00 0.00 1514.38 228.09\">\n<g id=\"graph0\" class=\"graph\" transform=\"scale(1 1) rotate(0) translate(4 224.09)\">\n<polygon fill=\"white\" stroke=\"none\" points=\"-4,4 -4,-224.09 1510.38,-224.09 1510.38,4 -4,4\"/>\n<!-- fake -->\n<g id=\"node1\" class=\"node\">\n<title>fake</title>\n</g>\n<!-- ready -->\n<g id=\"node2\" class=\"node\">\n<title>ready</title>\n<ellipse fill=\"none\" stroke=\"black\" cx=\"125.55\" cy=\"-104.25\" rx=\"30.59\" ry=\"30.59\"/>\n<ellipse fill=\"none\" stroke=\"black\" cx=\"125.55\" cy=\"-104.25\" rx=\"34.59\" ry=\"34.59\"/>\n<text text-anchor=\"middle\" x=\"125.55\" y=\"-100.55\" font-family=\"Times New Roman,serif\" font-size=\"14.00\">ready</text>\n</g>\n<!-- fake&#45;&gt;ready -->\n<g id=\"edge1\" class=\"edge\">\n<title>fake-&gt;ready</title>\n<path fill=\"none\" stroke=\"black\" stroke-width=\"2\" d=\"M54.38,-104.25C62.06,-104.25 70.67,-104.25 79.17,-104.25\"/>\n<polygon fill=\"black\" stroke=\"black\" stroke-width=\"2\" points=\"77.55,-107.75 87.55,-104.25 77.55,-100.75 77.55,-107.75\"/>\n</g>\n<!-- configured -->\n<g id=\"node6\" class=\"node\">\n<title>configured</title>\n<ellipse fill=\"none\" stroke=\"black\" cx=\"443.09\" cy=\"-104.25\" rx=\"50.09\" ry=\"50.09\"/>\n<text text-anchor=\"middle\" x=\"443.09\" y=\"-100.55\" font-family=\"Times New Roman,serif\" font-size=\"14.00\">configured</text>\n</g>\n<!-- ready&#45;&gt;configured -->\n<g id=\"edge2\" class=\"edge\">\n<title>ready-&gt;configured</title>\n<path fill=\"none\" stroke=\"black\" d=\"M160.62,-104.25C213.38,-104.25 315.63,-104.25 381.28,-104.25\"/>\n<polygon fill=\"black\" stroke=\"black\" points=\"381.18,-107.75 391.18,-104.25 381.18,-100.75 381.18,-107.75\"/>\n<text text-anchor=\"middle\" x=\"270.09\" y=\"-108.05\" font-family=\"Times New Roman,serif\" font-size=\"14.00\">CONFIG[development], 1.0, 0.0</text>\n</g>\n<!-- repairing -->\n<g id=\"node3\" class=\"node\">\n<title>repairing</title>\n<ellipse fill=\"none\" stroke=\"black\" cx=\"1464.13\" cy=\"-42.25\" rx=\"42.49\" ry=\"42.49\"/>\n<text text-anchor=\"middle\" x=\"1464.13\" y=\"-38.55\" font-family=\"Times New Roman,serif\" font-size=\"14.00\">repairing</text>\n</g>\n<!-- repairing&#45;&gt;ready -->\n<g id=\"edge8\" class=\"edge\">\n<title>repairing-&gt;ready</title>\n<path fill=\"none\" stroke=\"black\" d=\"M1421.29,-38.79C1360.57,-34.09 1244.47,-26.25 1145.49,-26.25 442.09,-26.25 442.09,-26.25 442.09,-26.25 341.42,-26.25 227.82,-64.12 168.2,-87.09\"/>\n<polygon fill=\"black\" stroke=\"black\" points=\"167.16,-83.74 159.12,-90.64 169.71,-90.26 167.16,-83.74\"/>\n<text text-anchor=\"middle\" x=\"845.09\" y=\"-30.05\" font-family=\"Times New Roman,serif\" font-size=\"14.00\">REPAIRED[development], 1.0, 0.0</text>\n</g>\n<!-- broken -->\n<g id=\"node4\" class=\"node\">\n<title>broken</title>\n<ellipse fill=\"none\" stroke=\"black\" cx=\"1144.49\" cy=\"-97.25\" rx=\"36.29\" ry=\"36.29\"/>\n<text text-anchor=\"middle\" x=\"1144.49\" y=\"-93.55\" font-family=\"Times New Roman,serif\" font-size=\"14.00\">broken</text>\n</g>\n<!-- broken&#45;&gt;repairing -->\n<g id=\"edge7\" class=\"edge\">\n<title>broken-&gt;repairing</title>\n<path fill=\"none\" stroke=\"black\" d=\"M1180.7,-91.15C1236.47,-81.49 1345.46,-62.62 1410.53,-51.35\"/>\n<polygon fill=\"black\" stroke=\"black\" points=\"1411.01,-54.82 1420.26,-49.67 1409.81,-47.93 1411.01,-54.82\"/>\n<text text-anchor=\"middle\" x=\"1301.39\" y=\"-91.05\" font-family=\"Times New Roman,serif\" font-size=\"14.00\">RESTORE[development], 1.0, -10.0</text>\n</g>\n<!-- executing -->\n<g id=\"node5\" class=\"node\">\n<title>executing</title>\n<ellipse fill=\"none\" stroke=\"black\" cx=\"845.09\" cy=\"-175.25\" rx=\"44.69\" ry=\"44.69\"/>\n<text text-anchor=\"middle\" x=\"845.09\" y=\"-171.55\" font-family=\"Times New Roman,serif\" font-size=\"14.00\">executing</text>\n</g>\n<!-- executing&#45;&gt;ready -->\n<g id=\"edge5\" class=\"edge\">\n<title>executing-&gt;ready</title>\n<path fill=\"none\" stroke=\"black\" d=\"M800.03,-177.21C717.3,-180.22 533.26,-183.65 380.09,-163.25 289.37,-151.16 266.19,-148.04 178.09,-123.25 175.14,-122.42 172.12,-121.49 169.08,-120.52\"/>\n<polygon fill=\"black\" stroke=\"black\" points=\"170.21,-117.2 159.62,-117.29 167.95,-123.83 170.21,-117.2\"/>\n<text text-anchor=\"middle\" x=\"443.09\" y=\"-178.05\" font-family=\"Times New Roman,serif\" font-size=\"14.00\">development, 0.5, -5.0</text>\n</g>\n<!-- executing&#45;&gt;broken -->\n<g id=\"edge6\" class=\"edge\">\n<title>executing-&gt;broken</title>\n<path fill=\"none\" stroke=\"black\" d=\"M888.7,-164.07C944.42,-149.46 1041.59,-123.97 1098.47,-109.06\"/>\n<polygon fill=\"black\" stroke=\"black\" points=\"1099.03,-112.53 1107.82,-106.6 1097.26,-105.75 1099.03,-112.53\"/>\n<text text-anchor=\"middle\" x=\"1027.09\" y=\"-147.05\" font-family=\"Times New Roman,serif\" font-size=\"14.00\">development, 0.5, -5.0</text>\n</g>\n<!-- configured&#45;&gt;broken -->\n<g id=\"edge4\" class=\"edge\">\n<title>configured-&gt;broken</title>\n<path fill=\"none\" stroke=\"black\" d=\"M493.55,-103.75C622.99,-102.46 970.42,-98.98 1096.75,-97.71\"/>\n<polygon fill=\"black\" stroke=\"black\" points=\"1096.44,-101.22 1106.41,-97.62 1096.37,-94.22 1096.44,-101.22\"/>\n<text text-anchor=\"middle\" x=\"845.09\" y=\"-105.05\" font-family=\"Times New Roman,serif\" font-size=\"14.00\">CHECKED[development], 0.05, 0.0</text>\n</g>\n<!-- configured&#45;&gt;executing -->\n<g id=\"edge3\" class=\"edge\">\n<title>configured-&gt;executing</title>\n<path fill=\"none\" stroke=\"black\" d=\"M492.74,-112.88C567.75,-126.2 711.17,-151.65 789.58,-165.57\"/>\n<polygon fill=\"black\" stroke=\"black\" points=\"788.72,-168.97 799.17,-167.27 789.94,-162.08 788.72,-168.97\"/>\n<text text-anchor=\"middle\" x=\"625.09\" y=\"-158.05\" font-family=\"Times New Roman,serif\" font-size=\"14.00\">CHECKED[development], 0.95, 0.0</text>\n</g>\n</g>\n</svg>"
     },
     "metadata": {},
     "output_type": "display_data"
    }
   ],
   "source": [
    "def development_service(name: str, broken_prob: float, unemployable_prob: float, broken_reward: float,\n",
    "                        action_reward: float) -> Service:\n",
    "    \"\"\"Build the development device.\"\"\"\n",
    "    return build_complex_breakable_service(name, DEVELOPMENT, broken_prob=broken_prob,\n",
    "                                           unemployable_prob=unemployable_prob, broken_reward=broken_reward,\n",
    "                                           action_reward=action_reward)\n",
    "\n",
    "\n",
    "service_development1 = development_service(DEVELOPMENT1_SERVICE_NAME, DEFAULT_BROKEN_PROB, DEFAULT_UNEMPLOYABLE_PROB,\n",
    "                                           DEFAULT_BROKEN_REWARD, DEFAULT_USA_REWARD)\n",
    "service_development2 = development_service(DEVELOPMENT2_SERVICE_NAME, BROKEN_PROB, DEFAULT_UNEMPLOYABLE_PROB,\n",
    "                                           DEFAULT_BROKEN_REWARD, HIGH_USA_REWARD)\n",
    "render_service(service_development1)\n",
    "render_service(service_development2)\n"
   ]
  },
  {
   "cell_type": "code",
   "execution_count": 23,
   "metadata": {},
   "outputs": [
    {
     "data": {
      "text/plain": "<IPython.core.display.SVG object>",
      "image/svg+xml": "<svg xmlns=\"http://www.w3.org/2000/svg\" xmlns:xlink=\"http://www.w3.org/1999/xlink\" width=\"441pt\" height=\"164pt\" viewBox=\"0.00 0.00 440.99 163.99\">\n<g id=\"graph0\" class=\"graph\" transform=\"scale(1 1) rotate(0) translate(4 159.99)\">\n<polygon fill=\"white\" stroke=\"none\" points=\"-4,4 -4,-159.99 436.99,-159.99 436.99,4 -4,4\"/>\n<!-- fake -->\n<g id=\"node1\" class=\"node\">\n<title>fake</title>\n</g>\n<!-- available -->\n<g id=\"node4\" class=\"node\">\n<title>available</title>\n<ellipse fill=\"none\" stroke=\"black\" cx=\"136.6\" cy=\"-70.6\" rx=\"41.68\" ry=\"41.68\"/>\n<ellipse fill=\"none\" stroke=\"black\" cx=\"136.6\" cy=\"-70.6\" rx=\"45.69\" ry=\"45.69\"/>\n<text text-anchor=\"middle\" x=\"136.6\" y=\"-66.9\" font-family=\"Times New Roman,serif\" font-size=\"14.00\">available</text>\n</g>\n<!-- fake&#45;&gt;available -->\n<g id=\"edge1\" class=\"edge\">\n<title>fake-&gt;available</title>\n<path fill=\"none\" stroke=\"black\" stroke-width=\"2\" d=\"M54.32,-70.6C61.93,-70.6 70.55,-70.6 79.26,-70.6\"/>\n<polygon fill=\"black\" stroke=\"black\" stroke-width=\"2\" points=\"77.65,-74.1 87.65,-70.6 77.65,-67.1 77.65,-74.1\"/>\n</g>\n<!-- broken -->\n<g id=\"node2\" class=\"node\">\n<title>broken</title>\n<ellipse fill=\"none\" stroke=\"black\" cx=\"396.59\" cy=\"-119.6\" rx=\"36.29\" ry=\"36.29\"/>\n<text text-anchor=\"middle\" x=\"396.59\" y=\"-115.9\" font-family=\"Times New Roman,serif\" font-size=\"14.00\">broken</text>\n</g>\n<!-- broken&#45;&gt;available -->\n<g id=\"edge4\" class=\"edge\">\n<title>broken-&gt;available</title>\n<path fill=\"none\" stroke=\"black\" d=\"M366.89,-98.43C359.22,-93.76 350.69,-89.37 342.19,-86.6 293.9,-70.82 235.93,-67.65 194.04,-67.95\"/>\n<polygon fill=\"black\" stroke=\"black\" points=\"194.14,-64.44 184.19,-68.09 194.24,-71.44 194.14,-64.44\"/>\n<text text-anchor=\"middle\" x=\"271.19\" y=\"-90.4\" font-family=\"Times New Roman,serif\" font-size=\"14.00\">check_etching, 1.0, -10.0</text>\n</g>\n<!-- done -->\n<g id=\"node3\" class=\"node\">\n<title>done</title>\n<ellipse fill=\"none\" stroke=\"black\" cx=\"396.59\" cy=\"-28.6\" rx=\"28.7\" ry=\"28.7\"/>\n<text text-anchor=\"middle\" x=\"396.59\" y=\"-24.9\" font-family=\"Times New Roman,serif\" font-size=\"14.00\">done</text>\n</g>\n<!-- done&#45;&gt;available -->\n<g id=\"edge5\" class=\"edge\">\n<title>done-&gt;available</title>\n<path fill=\"none\" stroke=\"black\" d=\"M368.95,-19.76C330.34,-8.46 257.22,7.19 200.19,-14.6 191.48,-17.93 183.21,-23.09 175.71,-28.96\"/>\n<polygon fill=\"black\" stroke=\"black\" points=\"173.8,-25.99 168.43,-35.13 178.32,-31.33 173.8,-25.99\"/>\n<text text-anchor=\"middle\" x=\"271.19\" y=\"-18.4\" font-family=\"Times New Roman,serif\" font-size=\"14.00\">check_etching, 1.0, 0.0</text>\n</g>\n<!-- available&#45;&gt;broken -->\n<g id=\"edge3\" class=\"edge\">\n<title>available-&gt;broken</title>\n<path fill=\"none\" stroke=\"black\" d=\"M175.49,-95.22C183.38,-99.35 191.84,-103.1 200.19,-105.6 249.42,-120.32 308.6,-122.54 348.84,-121.89\"/>\n<polygon fill=\"black\" stroke=\"black\" points=\"348.75,-125.39 358.66,-121.66 348.58,-118.4 348.75,-125.39\"/>\n<text text-anchor=\"middle\" x=\"271.19\" y=\"-125.4\" font-family=\"Times New Roman,serif\" font-size=\"14.00\">etching, 0.05, -1.0</text>\n</g>\n<!-- available&#45;&gt;done -->\n<g id=\"edge2\" class=\"edge\">\n<title>available-&gt;done</title>\n<path fill=\"none\" stroke=\"black\" d=\"M180.48,-57.3C187.04,-55.55 193.77,-53.91 200.19,-52.6 253.72,-41.68 316.58,-35.04 356.25,-31.59\"/>\n<polygon fill=\"black\" stroke=\"black\" points=\"356.36,-35.1 366.03,-30.77 355.77,-28.12 356.36,-35.1\"/>\n<text text-anchor=\"middle\" x=\"271.19\" y=\"-56.4\" font-family=\"Times New Roman,serif\" font-size=\"14.00\">etching, 0.95, -1.0</text>\n</g>\n</g>\n</svg>"
     },
     "metadata": {},
     "output_type": "display_data"
    },
    {
     "data": {
      "text/plain": "<IPython.core.display.SVG object>",
      "image/svg+xml": "<svg xmlns=\"http://www.w3.org/2000/svg\" xmlns:xlink=\"http://www.w3.org/1999/xlink\" width=\"441pt\" height=\"164pt\" viewBox=\"0.00 0.00 440.99 163.99\">\n<g id=\"graph0\" class=\"graph\" transform=\"scale(1 1) rotate(0) translate(4 159.99)\">\n<polygon fill=\"white\" stroke=\"none\" points=\"-4,4 -4,-159.99 436.99,-159.99 436.99,4 -4,4\"/>\n<!-- fake -->\n<g id=\"node1\" class=\"node\">\n<title>fake</title>\n</g>\n<!-- available -->\n<g id=\"node4\" class=\"node\">\n<title>available</title>\n<ellipse fill=\"none\" stroke=\"black\" cx=\"136.6\" cy=\"-70.6\" rx=\"41.68\" ry=\"41.68\"/>\n<ellipse fill=\"none\" stroke=\"black\" cx=\"136.6\" cy=\"-70.6\" rx=\"45.69\" ry=\"45.69\"/>\n<text text-anchor=\"middle\" x=\"136.6\" y=\"-66.9\" font-family=\"Times New Roman,serif\" font-size=\"14.00\">available</text>\n</g>\n<!-- fake&#45;&gt;available -->\n<g id=\"edge1\" class=\"edge\">\n<title>fake-&gt;available</title>\n<path fill=\"none\" stroke=\"black\" stroke-width=\"2\" d=\"M54.32,-70.6C61.93,-70.6 70.55,-70.6 79.26,-70.6\"/>\n<polygon fill=\"black\" stroke=\"black\" stroke-width=\"2\" points=\"77.65,-74.1 87.65,-70.6 77.65,-67.1 77.65,-74.1\"/>\n</g>\n<!-- broken -->\n<g id=\"node2\" class=\"node\">\n<title>broken</title>\n<ellipse fill=\"none\" stroke=\"black\" cx=\"396.59\" cy=\"-119.6\" rx=\"36.29\" ry=\"36.29\"/>\n<text text-anchor=\"middle\" x=\"396.59\" y=\"-115.9\" font-family=\"Times New Roman,serif\" font-size=\"14.00\">broken</text>\n</g>\n<!-- broken&#45;&gt;available -->\n<g id=\"edge4\" class=\"edge\">\n<title>broken-&gt;available</title>\n<path fill=\"none\" stroke=\"black\" d=\"M366.89,-98.43C359.22,-93.76 350.69,-89.37 342.19,-86.6 293.9,-70.82 235.93,-67.65 194.04,-67.95\"/>\n<polygon fill=\"black\" stroke=\"black\" points=\"194.14,-64.44 184.19,-68.09 194.24,-71.44 194.14,-64.44\"/>\n<text text-anchor=\"middle\" x=\"271.19\" y=\"-90.4\" font-family=\"Times New Roman,serif\" font-size=\"14.00\">check_etching, 1.0, -10.0</text>\n</g>\n<!-- done -->\n<g id=\"node3\" class=\"node\">\n<title>done</title>\n<ellipse fill=\"none\" stroke=\"black\" cx=\"396.59\" cy=\"-28.6\" rx=\"28.7\" ry=\"28.7\"/>\n<text text-anchor=\"middle\" x=\"396.59\" y=\"-24.9\" font-family=\"Times New Roman,serif\" font-size=\"14.00\">done</text>\n</g>\n<!-- done&#45;&gt;available -->\n<g id=\"edge5\" class=\"edge\">\n<title>done-&gt;available</title>\n<path fill=\"none\" stroke=\"black\" d=\"M368.95,-19.76C330.34,-8.46 257.22,7.19 200.19,-14.6 191.48,-17.93 183.21,-23.09 175.71,-28.96\"/>\n<polygon fill=\"black\" stroke=\"black\" points=\"173.8,-25.99 168.43,-35.13 178.32,-31.33 173.8,-25.99\"/>\n<text text-anchor=\"middle\" x=\"271.19\" y=\"-18.4\" font-family=\"Times New Roman,serif\" font-size=\"14.00\">check_etching, 1.0, 0.0</text>\n</g>\n<!-- available&#45;&gt;broken -->\n<g id=\"edge3\" class=\"edge\">\n<title>available-&gt;broken</title>\n<path fill=\"none\" stroke=\"black\" d=\"M175.49,-95.22C183.38,-99.35 191.84,-103.1 200.19,-105.6 249.42,-120.32 308.6,-122.54 348.84,-121.89\"/>\n<polygon fill=\"black\" stroke=\"black\" points=\"348.75,-125.39 358.66,-121.66 348.58,-118.4 348.75,-125.39\"/>\n<text text-anchor=\"middle\" x=\"271.19\" y=\"-125.4\" font-family=\"Times New Roman,serif\" font-size=\"14.00\">etching, 0.5, -5.0</text>\n</g>\n<!-- available&#45;&gt;done -->\n<g id=\"edge2\" class=\"edge\">\n<title>available-&gt;done</title>\n<path fill=\"none\" stroke=\"black\" d=\"M180.48,-57.3C187.04,-55.55 193.77,-53.91 200.19,-52.6 253.72,-41.68 316.58,-35.04 356.25,-31.59\"/>\n<polygon fill=\"black\" stroke=\"black\" points=\"356.36,-35.1 366.03,-30.77 355.77,-28.12 356.36,-35.1\"/>\n<text text-anchor=\"middle\" x=\"271.19\" y=\"-56.4\" font-family=\"Times New Roman,serif\" font-size=\"14.00\">etching, 0.5, -5.0</text>\n</g>\n</g>\n</svg>"
     },
     "metadata": {},
     "output_type": "display_data"
    }
   ],
   "source": [
    "def etching_service(name: str, broken_prob: float, broken_reward: float, action_reward: float) -> Service:\n",
    "    \"\"\"Build the etching device.\"\"\"\n",
    "    return build_generic_breakable_service(name, ETCHING, broken_prob=broken_prob, broken_reward=broken_reward,\n",
    "                                           action_reward=action_reward)\n",
    "\n",
    "\n",
    "service_etching1 = etching_service(ETCHING1_SERVICE_NAME, DEFAULT_BROKEN_PROB, DEFAULT_BROKEN_REWARD,\n",
    "                                   DEFAULT_USA_REWARD)\n",
    "service_etching2 = etching_service(ETCHING2_SERVICE_NAME, BROKEN_PROB, DEFAULT_BROKEN_REWARD, HIGH_USA_REWARD)\n",
    "render_service(service_etching1)\n",
    "render_service(service_etching2)\n"
   ]
  },
  {
   "cell_type": "code",
   "execution_count": 24,
   "metadata": {},
   "outputs": [
    {
     "data": {
      "text/plain": "<IPython.core.display.SVG object>",
      "image/svg+xml": "<svg xmlns=\"http://www.w3.org/2000/svg\" xmlns:xlink=\"http://www.w3.org/1999/xlink\" width=\"1873pt\" height=\"228pt\" viewBox=\"0.00 0.00 1873.38 228.09\">\n<g id=\"graph0\" class=\"graph\" transform=\"scale(1 1) rotate(0) translate(4 224.09)\">\n<polygon fill=\"white\" stroke=\"none\" points=\"-4,4 -4,-224.09 1869.38,-224.09 1869.38,4 -4,4\"/>\n<!-- fake -->\n<g id=\"node1\" class=\"node\">\n<title>fake</title>\n</g>\n<!-- ready -->\n<g id=\"node2\" class=\"node\">\n<title>ready</title>\n<ellipse fill=\"none\" stroke=\"black\" cx=\"125.55\" cy=\"-104.25\" rx=\"30.59\" ry=\"30.59\"/>\n<ellipse fill=\"none\" stroke=\"black\" cx=\"125.55\" cy=\"-104.25\" rx=\"34.59\" ry=\"34.59\"/>\n<text text-anchor=\"middle\" x=\"125.55\" y=\"-100.55\" font-family=\"Times New Roman,serif\" font-size=\"14.00\">ready</text>\n</g>\n<!-- fake&#45;&gt;ready -->\n<g id=\"edge1\" class=\"edge\">\n<title>fake-&gt;ready</title>\n<path fill=\"none\" stroke=\"black\" stroke-width=\"2\" d=\"M54.38,-104.25C62.06,-104.25 70.67,-104.25 79.17,-104.25\"/>\n<polygon fill=\"black\" stroke=\"black\" stroke-width=\"2\" points=\"77.55,-107.75 87.55,-104.25 77.55,-100.75 77.55,-107.75\"/>\n</g>\n<!-- configured -->\n<g id=\"node6\" class=\"node\">\n<title>configured</title>\n<ellipse fill=\"none\" stroke=\"black\" cx=\"532.09\" cy=\"-104.25\" rx=\"50.09\" ry=\"50.09\"/>\n<text text-anchor=\"middle\" x=\"532.09\" y=\"-100.55\" font-family=\"Times New Roman,serif\" font-size=\"14.00\">configured</text>\n</g>\n<!-- ready&#45;&gt;configured -->\n<g id=\"edge2\" class=\"edge\">\n<title>ready-&gt;configured</title>\n<path fill=\"none\" stroke=\"black\" d=\"M160.34,-104.25C228.61,-104.25 383.78,-104.25 470.17,-104.25\"/>\n<polygon fill=\"black\" stroke=\"black\" points=\"470.11,-107.75 480.11,-104.25 470.11,-100.75 470.11,-107.75\"/>\n<text text-anchor=\"middle\" x=\"298.59\" y=\"-108.05\" font-family=\"Times New Roman,serif\" font-size=\"14.00\">CONFIG[impurities_implantation], 1.0, 0.0</text>\n</g>\n<!-- repairing -->\n<g id=\"node3\" class=\"node\">\n<title>repairing</title>\n<ellipse fill=\"none\" stroke=\"black\" cx=\"1823.13\" cy=\"-42.25\" rx=\"42.49\" ry=\"42.49\"/>\n<text text-anchor=\"middle\" x=\"1823.13\" y=\"-38.55\" font-family=\"Times New Roman,serif\" font-size=\"14.00\">repairing</text>\n</g>\n<!-- repairing&#45;&gt;ready -->\n<g id=\"edge8\" class=\"edge\">\n<title>repairing-&gt;ready</title>\n<path fill=\"none\" stroke=\"black\" d=\"M1780.47,-39.31C1711.19,-34.69 1567.9,-26.25 1446.49,-26.25 531.09,-26.25 531.09,-26.25 531.09,-26.25 397.24,-26.25 242.9,-67.93 169.55,-90.35\"/>\n<polygon fill=\"black\" stroke=\"black\" points=\"168.88,-86.9 160.36,-93.2 170.95,-93.59 168.88,-86.9\"/>\n<text text-anchor=\"middle\" x=\"1053.09\" y=\"-30.05\" font-family=\"Times New Roman,serif\" font-size=\"14.00\">REPAIRED[impurities_implantation], 1.0, 0.0</text>\n</g>\n<!-- broken -->\n<g id=\"node4\" class=\"node\">\n<title>broken</title>\n<ellipse fill=\"none\" stroke=\"black\" cx=\"1445.49\" cy=\"-97.25\" rx=\"36.29\" ry=\"36.29\"/>\n<text text-anchor=\"middle\" x=\"1445.49\" y=\"-93.55\" font-family=\"Times New Roman,serif\" font-size=\"14.00\">broken</text>\n</g>\n<!-- broken&#45;&gt;repairing -->\n<g id=\"edge7\" class=\"edge\">\n<title>broken-&gt;repairing</title>\n<path fill=\"none\" stroke=\"black\" d=\"M1481.83,-92.07C1548.24,-82.35 1691.96,-61.31 1769.69,-49.93\"/>\n<polygon fill=\"black\" stroke=\"black\" points=\"1769.78,-53.45 1779.16,-48.54 1768.76,-46.52 1769.78,-53.45\"/>\n<text text-anchor=\"middle\" x=\"1631.39\" y=\"-94.05\" font-family=\"Times New Roman,serif\" font-size=\"14.00\">RESTORE[impurities_implantation], 1.0, -10.0</text>\n</g>\n<!-- executing -->\n<g id=\"node5\" class=\"node\">\n<title>executing</title>\n<ellipse fill=\"none\" stroke=\"black\" cx=\"1053.09\" cy=\"-175.25\" rx=\"44.69\" ry=\"44.69\"/>\n<text text-anchor=\"middle\" x=\"1053.09\" y=\"-171.55\" font-family=\"Times New Roman,serif\" font-size=\"14.00\">executing</text>\n</g>\n<!-- executing&#45;&gt;ready -->\n<g id=\"edge5\" class=\"edge\">\n<title>executing-&gt;ready</title>\n<path fill=\"none\" stroke=\"black\" d=\"M1007.95,-176.83C906.71,-179.93 650.13,-184.76 437.09,-163.25 321.21,-151.54 290.86,-152.42 178.09,-123.25 175.12,-122.48 172.09,-121.6 169.04,-120.66\"/>\n<polygon fill=\"black\" stroke=\"black\" points=\"170.16,-117.34 159.56,-117.49 167.94,-123.98 170.16,-117.34\"/>\n<text text-anchor=\"middle\" x=\"532.09\" y=\"-179.05\" font-family=\"Times New Roman,serif\" font-size=\"14.00\">impurities_implantation, 0.95, -1.0</text>\n</g>\n<!-- executing&#45;&gt;broken -->\n<g id=\"edge6\" class=\"edge\">\n<title>executing-&gt;broken</title>\n<path fill=\"none\" stroke=\"black\" d=\"M1097.65,-167.96C1162.06,-156.96 1286.39,-134.89 1391.09,-111.25 1393.7,-110.66 1396.37,-110.03 1399.05,-109.39\"/>\n<polygon fill=\"black\" stroke=\"black\" points=\"1399.78,-112.81 1408.64,-107 1398.09,-106.02 1399.78,-112.81\"/>\n<text text-anchor=\"middle\" x=\"1296.09\" y=\"-153.05\" font-family=\"Times New Roman,serif\" font-size=\"14.00\">impurities_implantation, 0.05, -1.0</text>\n</g>\n<!-- configured&#45;&gt;broken -->\n<g id=\"edge4\" class=\"edge\">\n<title>configured-&gt;broken</title>\n<path fill=\"none\" stroke=\"black\" d=\"M582.42,-103.87C741.7,-102.64 1241.06,-98.81 1397.29,-97.61\"/>\n<polygon fill=\"black\" stroke=\"black\" points=\"1397.3,-101.11 1407.27,-97.53 1397.24,-94.11 1397.3,-101.11\"/>\n<text text-anchor=\"middle\" x=\"1053.09\" y=\"-105.05\" font-family=\"Times New Roman,serif\" font-size=\"14.00\">CHECKED[impurities_implantation], 0.05, 0.0</text>\n</g>\n<!-- configured&#45;&gt;executing -->\n<g id=\"edge3\" class=\"edge\">\n<title>configured-&gt;executing</title>\n<path fill=\"none\" stroke=\"black\" d=\"M581.92,-110.93C678.99,-124.2 895.6,-153.84 997.33,-167.76\"/>\n<polygon fill=\"black\" stroke=\"black\" points=\"996.69,-171.2 1007.07,-169.09 997.64,-164.26 996.69,-171.2\"/>\n<text text-anchor=\"middle\" x=\"775.09\" y=\"-158.05\" font-family=\"Times New Roman,serif\" font-size=\"14.00\">CHECKED[impurities_implantation], 0.95, 0.0</text>\n</g>\n</g>\n</svg>"
     },
     "metadata": {},
     "output_type": "display_data"
    },
    {
     "data": {
      "text/plain": "<IPython.core.display.SVG object>",
      "image/svg+xml": "<svg xmlns=\"http://www.w3.org/2000/svg\" xmlns:xlink=\"http://www.w3.org/1999/xlink\" width=\"1873pt\" height=\"228pt\" viewBox=\"0.00 0.00 1873.38 228.09\">\n<g id=\"graph0\" class=\"graph\" transform=\"scale(1 1) rotate(0) translate(4 224.09)\">\n<polygon fill=\"white\" stroke=\"none\" points=\"-4,4 -4,-224.09 1869.38,-224.09 1869.38,4 -4,4\"/>\n<!-- fake -->\n<g id=\"node1\" class=\"node\">\n<title>fake</title>\n</g>\n<!-- ready -->\n<g id=\"node2\" class=\"node\">\n<title>ready</title>\n<ellipse fill=\"none\" stroke=\"black\" cx=\"125.55\" cy=\"-104.25\" rx=\"30.59\" ry=\"30.59\"/>\n<ellipse fill=\"none\" stroke=\"black\" cx=\"125.55\" cy=\"-104.25\" rx=\"34.59\" ry=\"34.59\"/>\n<text text-anchor=\"middle\" x=\"125.55\" y=\"-100.55\" font-family=\"Times New Roman,serif\" font-size=\"14.00\">ready</text>\n</g>\n<!-- fake&#45;&gt;ready -->\n<g id=\"edge1\" class=\"edge\">\n<title>fake-&gt;ready</title>\n<path fill=\"none\" stroke=\"black\" stroke-width=\"2\" d=\"M54.38,-104.25C62.06,-104.25 70.67,-104.25 79.17,-104.25\"/>\n<polygon fill=\"black\" stroke=\"black\" stroke-width=\"2\" points=\"77.55,-107.75 87.55,-104.25 77.55,-100.75 77.55,-107.75\"/>\n</g>\n<!-- configured -->\n<g id=\"node6\" class=\"node\">\n<title>configured</title>\n<ellipse fill=\"none\" stroke=\"black\" cx=\"532.09\" cy=\"-104.25\" rx=\"50.09\" ry=\"50.09\"/>\n<text text-anchor=\"middle\" x=\"532.09\" y=\"-100.55\" font-family=\"Times New Roman,serif\" font-size=\"14.00\">configured</text>\n</g>\n<!-- ready&#45;&gt;configured -->\n<g id=\"edge2\" class=\"edge\">\n<title>ready-&gt;configured</title>\n<path fill=\"none\" stroke=\"black\" d=\"M160.34,-104.25C228.61,-104.25 383.78,-104.25 470.17,-104.25\"/>\n<polygon fill=\"black\" stroke=\"black\" points=\"470.11,-107.75 480.11,-104.25 470.11,-100.75 470.11,-107.75\"/>\n<text text-anchor=\"middle\" x=\"298.59\" y=\"-108.05\" font-family=\"Times New Roman,serif\" font-size=\"14.00\">CONFIG[impurities_implantation], 1.0, 0.0</text>\n</g>\n<!-- repairing -->\n<g id=\"node3\" class=\"node\">\n<title>repairing</title>\n<ellipse fill=\"none\" stroke=\"black\" cx=\"1823.13\" cy=\"-42.25\" rx=\"42.49\" ry=\"42.49\"/>\n<text text-anchor=\"middle\" x=\"1823.13\" y=\"-38.55\" font-family=\"Times New Roman,serif\" font-size=\"14.00\">repairing</text>\n</g>\n<!-- repairing&#45;&gt;ready -->\n<g id=\"edge8\" class=\"edge\">\n<title>repairing-&gt;ready</title>\n<path fill=\"none\" stroke=\"black\" d=\"M1780.47,-39.31C1711.19,-34.69 1567.9,-26.25 1446.49,-26.25 531.09,-26.25 531.09,-26.25 531.09,-26.25 397.24,-26.25 242.9,-67.93 169.55,-90.35\"/>\n<polygon fill=\"black\" stroke=\"black\" points=\"168.88,-86.9 160.36,-93.2 170.95,-93.59 168.88,-86.9\"/>\n<text text-anchor=\"middle\" x=\"1053.09\" y=\"-30.05\" font-family=\"Times New Roman,serif\" font-size=\"14.00\">REPAIRED[impurities_implantation], 1.0, 0.0</text>\n</g>\n<!-- broken -->\n<g id=\"node4\" class=\"node\">\n<title>broken</title>\n<ellipse fill=\"none\" stroke=\"black\" cx=\"1445.49\" cy=\"-97.25\" rx=\"36.29\" ry=\"36.29\"/>\n<text text-anchor=\"middle\" x=\"1445.49\" y=\"-93.55\" font-family=\"Times New Roman,serif\" font-size=\"14.00\">broken</text>\n</g>\n<!-- broken&#45;&gt;repairing -->\n<g id=\"edge7\" class=\"edge\">\n<title>broken-&gt;repairing</title>\n<path fill=\"none\" stroke=\"black\" d=\"M1481.83,-92.07C1548.24,-82.35 1691.96,-61.31 1769.69,-49.93\"/>\n<polygon fill=\"black\" stroke=\"black\" points=\"1769.78,-53.45 1779.16,-48.54 1768.76,-46.52 1769.78,-53.45\"/>\n<text text-anchor=\"middle\" x=\"1631.39\" y=\"-94.05\" font-family=\"Times New Roman,serif\" font-size=\"14.00\">RESTORE[impurities_implantation], 1.0, -10.0</text>\n</g>\n<!-- executing -->\n<g id=\"node5\" class=\"node\">\n<title>executing</title>\n<ellipse fill=\"none\" stroke=\"black\" cx=\"1053.09\" cy=\"-175.25\" rx=\"44.69\" ry=\"44.69\"/>\n<text text-anchor=\"middle\" x=\"1053.09\" y=\"-171.55\" font-family=\"Times New Roman,serif\" font-size=\"14.00\">executing</text>\n</g>\n<!-- executing&#45;&gt;ready -->\n<g id=\"edge5\" class=\"edge\">\n<title>executing-&gt;ready</title>\n<path fill=\"none\" stroke=\"black\" d=\"M1007.95,-176.83C906.71,-179.93 650.13,-184.76 437.09,-163.25 321.21,-151.54 290.86,-152.42 178.09,-123.25 175.12,-122.48 172.09,-121.6 169.04,-120.66\"/>\n<polygon fill=\"black\" stroke=\"black\" points=\"170.16,-117.34 159.56,-117.49 167.94,-123.98 170.16,-117.34\"/>\n<text text-anchor=\"middle\" x=\"532.09\" y=\"-179.05\" font-family=\"Times New Roman,serif\" font-size=\"14.00\">impurities_implantation, 0.95, -5.0</text>\n</g>\n<!-- executing&#45;&gt;broken -->\n<g id=\"edge6\" class=\"edge\">\n<title>executing-&gt;broken</title>\n<path fill=\"none\" stroke=\"black\" d=\"M1097.65,-167.96C1162.06,-156.96 1286.39,-134.89 1391.09,-111.25 1393.7,-110.66 1396.37,-110.03 1399.05,-109.39\"/>\n<polygon fill=\"black\" stroke=\"black\" points=\"1399.78,-112.81 1408.64,-107 1398.09,-106.02 1399.78,-112.81\"/>\n<text text-anchor=\"middle\" x=\"1296.09\" y=\"-153.05\" font-family=\"Times New Roman,serif\" font-size=\"14.00\">impurities_implantation, 0.05, -5.0</text>\n</g>\n<!-- configured&#45;&gt;broken -->\n<g id=\"edge4\" class=\"edge\">\n<title>configured-&gt;broken</title>\n<path fill=\"none\" stroke=\"black\" d=\"M582.42,-103.87C741.7,-102.64 1241.06,-98.81 1397.29,-97.61\"/>\n<polygon fill=\"black\" stroke=\"black\" points=\"1397.3,-101.11 1407.27,-97.53 1397.24,-94.11 1397.3,-101.11\"/>\n<text text-anchor=\"middle\" x=\"1053.09\" y=\"-105.05\" font-family=\"Times New Roman,serif\" font-size=\"14.00\">CHECKED[impurities_implantation], 0.05, 0.0</text>\n</g>\n<!-- configured&#45;&gt;executing -->\n<g id=\"edge3\" class=\"edge\">\n<title>configured-&gt;executing</title>\n<path fill=\"none\" stroke=\"black\" d=\"M581.92,-110.93C678.99,-124.2 895.6,-153.84 997.33,-167.76\"/>\n<polygon fill=\"black\" stroke=\"black\" points=\"996.69,-171.2 1007.07,-169.09 997.64,-164.26 996.69,-171.2\"/>\n<text text-anchor=\"middle\" x=\"775.09\" y=\"-158.05\" font-family=\"Times New Roman,serif\" font-size=\"14.00\">CHECKED[impurities_implantation], 0.95, 0.0</text>\n</g>\n</g>\n</svg>"
     },
     "metadata": {},
     "output_type": "display_data"
    }
   ],
   "source": [
    "def impurities_implantation_service(name: str, broken_prob: float, unemployable_prob: float, broken_reward: float,\n",
    "                                    action_reward: float) -> Service:\n",
    "    \"\"\"Build the impurities implantation device.\"\"\"\n",
    "    return build_complex_breakable_service(name, IMPURITIES_IMPLANTATION, broken_prob=broken_prob,\n",
    "                                           unemployable_prob=unemployable_prob, broken_reward=broken_reward,\n",
    "                                           action_reward=action_reward)\n",
    "\n",
    "\n",
    "service_impurities_implantation1 = impurities_implantation_service(IMPURITIES_IMPLANTATION1_SERVICE_NAME,\n",
    "                                                                   DEFAULT_BROKEN_PROB, DEFAULT_UNEMPLOYABLE_PROB,\n",
    "                                                                   DEFAULT_BROKEN_REWARD, DEFAULT_USA_REWARD)\n",
    "service_impurities_implantation2 = impurities_implantation_service(IMPURITIES_IMPLANTATION2_SERVICE_NAME,\n",
    "                                                                   DEFAULT_BROKEN_PROB, DEFAULT_UNEMPLOYABLE_PROB,\n",
    "                                                                   DEFAULT_BROKEN_REWARD, HIGH_USA_REWARD)\n",
    "render_service(service_impurities_implantation1)\n",
    "render_service(service_impurities_implantation2)\n"
   ]
  },
  {
   "cell_type": "code",
   "execution_count": 25,
   "metadata": {},
   "outputs": [
    {
     "data": {
      "text/plain": "<IPython.core.display.SVG object>",
      "image/svg+xml": "<svg xmlns=\"http://www.w3.org/2000/svg\" xmlns:xlink=\"http://www.w3.org/1999/xlink\" width=\"188pt\" height=\"110pt\" viewBox=\"0.00 0.00 187.55 110.09\">\n<g id=\"graph0\" class=\"graph\" transform=\"scale(1 1) rotate(0) translate(4 106.09)\">\n<polygon fill=\"white\" stroke=\"none\" points=\"-4,4 -4,-106.09 183.55,-106.09 183.55,4 -4,4\"/>\n<!-- fake -->\n<g id=\"node1\" class=\"node\">\n<title>fake</title>\n</g>\n<!-- ready -->\n<g id=\"node2\" class=\"node\">\n<title>ready</title>\n<ellipse fill=\"none\" stroke=\"black\" cx=\"125.55\" cy=\"-34.55\" rx=\"30.59\" ry=\"30.59\"/>\n<ellipse fill=\"none\" stroke=\"black\" cx=\"125.55\" cy=\"-34.55\" rx=\"34.59\" ry=\"34.59\"/>\n<text text-anchor=\"middle\" x=\"125.55\" y=\"-30.85\" font-family=\"Times New Roman,serif\" font-size=\"14.00\">ready</text>\n</g>\n<!-- fake&#45;&gt;ready -->\n<g id=\"edge1\" class=\"edge\">\n<title>fake-&gt;ready</title>\n<path fill=\"none\" stroke=\"black\" stroke-width=\"2\" d=\"M54.38,-34.55C62.06,-34.55 70.67,-34.55 79.17,-34.55\"/>\n<polygon fill=\"black\" stroke=\"black\" stroke-width=\"2\" points=\"77.55,-38.05 87.55,-34.55 77.55,-31.05 77.55,-38.05\"/>\n</g>\n<!-- ready&#45;&gt;ready -->\n<g id=\"edge2\" class=\"edge\">\n<title>ready-&gt;ready</title>\n<path fill=\"none\" stroke=\"black\" d=\"M115.61,-68.16C115.76,-78.74 119.07,-87.09 125.55,-87.09 129.49,-87.09 132.27,-83.99 133.86,-79.17\"/>\n<polygon fill=\"black\" stroke=\"black\" points=\"137.27,-80.06 135.27,-69.65 130.35,-79.03 137.27,-80.06\"/>\n<text text-anchor=\"middle\" x=\"125.55\" y=\"-90.89\" font-family=\"Times New Roman,serif\" font-size=\"14.00\">activation, 1.0, -2.0</text>\n</g>\n</g>\n</svg>"
     },
     "metadata": {},
     "output_type": "display_data"
    }
   ],
   "source": [
    "def activation_human_service(name: str = ACTIVATION_HUMAN_SERVICE_NAME, action_reward: float = USA_REWARD) -> Service:\n",
    "    \"\"\"Build the human activation device.\"\"\"\n",
    "    return build_generic_service_one_state(\n",
    "        name,\n",
    "        {ACTIVATION},\n",
    "        action_reward=action_reward\n",
    "    )\n",
    "\n",
    "\n",
    "service_activation_human = activation_human_service()\n",
    "render_service(service_activation_human)\n"
   ]
  },
  {
   "cell_type": "code",
   "execution_count": 26,
   "metadata": {},
   "outputs": [
    {
     "data": {
      "text/plain": "<IPython.core.display.SVG object>",
      "image/svg+xml": "<svg xmlns=\"http://www.w3.org/2000/svg\" xmlns:xlink=\"http://www.w3.org/1999/xlink\" width=\"454pt\" height=\"164pt\" viewBox=\"0.00 0.00 453.99 163.99\">\n<g id=\"graph0\" class=\"graph\" transform=\"scale(1 1) rotate(0) translate(4 159.99)\">\n<polygon fill=\"white\" stroke=\"none\" points=\"-4,4 -4,-159.99 449.99,-159.99 449.99,4 -4,4\"/>\n<!-- fake -->\n<g id=\"node1\" class=\"node\">\n<title>fake</title>\n</g>\n<!-- available -->\n<g id=\"node4\" class=\"node\">\n<title>available</title>\n<ellipse fill=\"none\" stroke=\"black\" cx=\"136.6\" cy=\"-70.6\" rx=\"41.68\" ry=\"41.68\"/>\n<ellipse fill=\"none\" stroke=\"black\" cx=\"136.6\" cy=\"-70.6\" rx=\"45.69\" ry=\"45.69\"/>\n<text text-anchor=\"middle\" x=\"136.6\" y=\"-66.9\" font-family=\"Times New Roman,serif\" font-size=\"14.00\">available</text>\n</g>\n<!-- fake&#45;&gt;available -->\n<g id=\"edge1\" class=\"edge\">\n<title>fake-&gt;available</title>\n<path fill=\"none\" stroke=\"black\" stroke-width=\"2\" d=\"M54.32,-70.6C61.93,-70.6 70.55,-70.6 79.26,-70.6\"/>\n<polygon fill=\"black\" stroke=\"black\" stroke-width=\"2\" points=\"77.65,-74.1 87.65,-70.6 77.65,-67.1 77.65,-74.1\"/>\n</g>\n<!-- broken -->\n<g id=\"node2\" class=\"node\">\n<title>broken</title>\n<ellipse fill=\"none\" stroke=\"black\" cx=\"409.59\" cy=\"-119.6\" rx=\"36.29\" ry=\"36.29\"/>\n<text text-anchor=\"middle\" x=\"409.59\" y=\"-115.9\" font-family=\"Times New Roman,serif\" font-size=\"14.00\">broken</text>\n</g>\n<!-- broken&#45;&gt;available -->\n<g id=\"edge4\" class=\"edge\">\n<title>broken-&gt;available</title>\n<path fill=\"none\" stroke=\"black\" d=\"M379.9,-98.4C372.23,-93.73 363.69,-89.35 355.19,-86.6 326.26,-77.22 248.01,-73.31 193.7,-71.7\"/>\n<polygon fill=\"black\" stroke=\"black\" points=\"194.1,-68.21 184.01,-71.43 193.91,-75.21 194.1,-68.21\"/>\n<text text-anchor=\"middle\" x=\"277.69\" y=\"-90.4\" font-family=\"Times New Roman,serif\" font-size=\"14.00\">check_activation, 1.0, -10.0</text>\n</g>\n<!-- done -->\n<g id=\"node3\" class=\"node\">\n<title>done</title>\n<ellipse fill=\"none\" stroke=\"black\" cx=\"409.59\" cy=\"-28.6\" rx=\"28.7\" ry=\"28.7\"/>\n<text text-anchor=\"middle\" x=\"409.59\" y=\"-24.9\" font-family=\"Times New Roman,serif\" font-size=\"14.00\">done</text>\n</g>\n<!-- done&#45;&gt;available -->\n<g id=\"edge5\" class=\"edge\">\n<title>done-&gt;available</title>\n<path fill=\"none\" stroke=\"black\" d=\"M381.85,-19.59C341.12,-7.4 261.76,10.23 200.19,-13.6 191.33,-17.03 182.94,-22.37 175.37,-28.43\"/>\n<polygon fill=\"black\" stroke=\"black\" points=\"173.27,-25.61 168,-34.81 177.85,-30.9 173.27,-25.61\"/>\n<text text-anchor=\"middle\" x=\"277.69\" y=\"-17.4\" font-family=\"Times New Roman,serif\" font-size=\"14.00\">check_activation, 1.0, 0.0</text>\n</g>\n<!-- available&#45;&gt;broken -->\n<g id=\"edge3\" class=\"edge\">\n<title>available-&gt;broken</title>\n<path fill=\"none\" stroke=\"black\" d=\"M175.48,-95.25C183.37,-99.38 191.84,-103.12 200.19,-105.6 253.89,-121.53 318.67,-123.33 361.6,-122.26\"/>\n<polygon fill=\"black\" stroke=\"black\" points=\"361.7,-125.76 371.59,-121.93 361.48,-118.76 361.7,-125.76\"/>\n<text text-anchor=\"middle\" x=\"277.69\" y=\"-125.4\" font-family=\"Times New Roman,serif\" font-size=\"14.00\">activation, 0.05, -1.0</text>\n</g>\n<!-- available&#45;&gt;done -->\n<g id=\"edge2\" class=\"edge\">\n<title>available-&gt;done</title>\n<path fill=\"none\" stroke=\"black\" d=\"M180.47,-57.26C187.03,-55.51 193.76,-53.88 200.19,-52.6 258.5,-40.94 327.2,-34.39 369.32,-31.17\"/>\n<polygon fill=\"black\" stroke=\"black\" points=\"369.49,-34.67 379.21,-30.45 368.98,-27.69 369.49,-34.67\"/>\n<text text-anchor=\"middle\" x=\"277.69\" y=\"-56.4\" font-family=\"Times New Roman,serif\" font-size=\"14.00\">activation, 0.95, -1.0</text>\n</g>\n</g>\n</svg>"
     },
     "metadata": {},
     "output_type": "display_data"
    }
   ],
   "source": [
    "def activation_service(name: str = ACTIVATION_SERVICE_NAME, broken_prob: float = DEFAULT_BROKEN_PROB,\n",
    "                       broken_reward: float = DEFAULT_BROKEN_REWARD,\n",
    "                       action_reward: float = DEFAULT_USA_REWARD) -> Service:\n",
    "    \"\"\"Build the activation device.\"\"\"\n",
    "    return build_generic_breakable_service(name, ACTIVATION, broken_prob=broken_prob, broken_reward=broken_reward,\n",
    "                                           action_reward=action_reward)\n",
    "\n",
    "\n",
    "service_activation = activation_service()\n",
    "render_service(service_activation)"
   ]
  },
  {
   "cell_type": "code",
   "execution_count": 27,
   "metadata": {},
   "outputs": [
    {
     "data": {
      "text/plain": "<IPython.core.display.SVG object>",
      "image/svg+xml": "<svg xmlns=\"http://www.w3.org/2000/svg\" xmlns:xlink=\"http://www.w3.org/1999/xlink\" width=\"486pt\" height=\"166pt\" viewBox=\"0.00 0.00 485.99 166.07\">\n<g id=\"graph0\" class=\"graph\" transform=\"scale(1 1) rotate(0) translate(4 162.07)\">\n<polygon fill=\"white\" stroke=\"none\" points=\"-4,4 -4,-162.07 481.99,-162.07 481.99,4 -4,4\"/>\n<!-- fake -->\n<g id=\"node1\" class=\"node\">\n<title>fake</title>\n</g>\n<!-- available -->\n<g id=\"node4\" class=\"node\">\n<title>available</title>\n<ellipse fill=\"none\" stroke=\"black\" cx=\"136.6\" cy=\"-72.67\" rx=\"41.68\" ry=\"41.68\"/>\n<ellipse fill=\"none\" stroke=\"black\" cx=\"136.6\" cy=\"-72.67\" rx=\"45.69\" ry=\"45.69\"/>\n<text text-anchor=\"middle\" x=\"136.6\" y=\"-68.97\" font-family=\"Times New Roman,serif\" font-size=\"14.00\">available</text>\n</g>\n<!-- fake&#45;&gt;available -->\n<g id=\"edge1\" class=\"edge\">\n<title>fake-&gt;available</title>\n<path fill=\"none\" stroke=\"black\" stroke-width=\"2\" d=\"M54.32,-72.67C61.93,-72.67 70.55,-72.67 79.26,-72.67\"/>\n<polygon fill=\"black\" stroke=\"black\" stroke-width=\"2\" points=\"77.65,-76.17 87.65,-72.67 77.65,-69.17 77.65,-76.17\"/>\n</g>\n<!-- broken -->\n<g id=\"node2\" class=\"node\">\n<title>broken</title>\n<ellipse fill=\"none\" stroke=\"black\" cx=\"441.59\" cy=\"-121.67\" rx=\"36.29\" ry=\"36.29\"/>\n<text text-anchor=\"middle\" x=\"441.59\" y=\"-117.97\" font-family=\"Times New Roman,serif\" font-size=\"14.00\">broken</text>\n</g>\n<!-- broken&#45;&gt;available -->\n<g id=\"edge4\" class=\"edge\">\n<title>broken-&gt;available</title>\n<path fill=\"none\" stroke=\"black\" d=\"M411.92,-100.43C404.24,-95.75 395.71,-91.39 387.19,-88.67 352.53,-77.62 256.3,-74.18 193.96,-73.12\"/>\n<polygon fill=\"black\" stroke=\"black\" points=\"194.3,-69.63 184.25,-72.98 194.2,-76.63 194.3,-69.63\"/>\n<text text-anchor=\"middle\" x=\"293.69\" y=\"-92.47\" font-family=\"Times New Roman,serif\" font-size=\"14.00\">check_resist_stripping, 1.0, -10.0</text>\n</g>\n<!-- done -->\n<g id=\"node3\" class=\"node\">\n<title>done</title>\n<ellipse fill=\"none\" stroke=\"black\" cx=\"441.59\" cy=\"-30.67\" rx=\"28.7\" ry=\"28.7\"/>\n<text text-anchor=\"middle\" x=\"441.59\" y=\"-26.97\" font-family=\"Times New Roman,serif\" font-size=\"14.00\">done</text>\n</g>\n<!-- done&#45;&gt;available -->\n<g id=\"edge5\" class=\"edge\">\n<title>done-&gt;available</title>\n<path fill=\"none\" stroke=\"black\" d=\"M413.85,-21.7C368.23,-7.94 273.21,13.95 200.19,-14.67 191.17,-18.21 182.67,-23.73 175.02,-29.98\"/>\n<polygon fill=\"black\" stroke=\"black\" points=\"172.74,-27.33 167.58,-36.58 177.38,-32.56 172.74,-27.33\"/>\n<text text-anchor=\"middle\" x=\"293.69\" y=\"-18.47\" font-family=\"Times New Roman,serif\" font-size=\"14.00\">check_resist_stripping, 1.0, 0.0</text>\n</g>\n<!-- available&#45;&gt;broken -->\n<g id=\"edge3\" class=\"edge\">\n<title>available-&gt;broken</title>\n<path fill=\"none\" stroke=\"black\" d=\"M175.46,-97.39C183.35,-101.51 191.83,-105.23 200.19,-107.67 265.4,-126.71 344.67,-127.22 393.88,-125.05\"/>\n<polygon fill=\"black\" stroke=\"black\" points=\"393.8,-128.56 403.61,-124.57 393.45,-121.57 393.8,-128.56\"/>\n<text text-anchor=\"middle\" x=\"293.69\" y=\"-129.47\" font-family=\"Times New Roman,serif\" font-size=\"14.00\">resist_stripping, 0.05, -1.0</text>\n</g>\n<!-- available&#45;&gt;done -->\n<g id=\"edge2\" class=\"edge\">\n<title>available-&gt;done</title>\n<path fill=\"none\" stroke=\"black\" d=\"M180.45,-59.25C187.02,-57.51 193.75,-55.91 200.19,-54.67 270.25,-41.22 353.33,-35.05 401.21,-32.42\"/>\n<polygon fill=\"black\" stroke=\"black\" points=\"401.28,-35.92 411.08,-31.91 400.91,-28.93 401.28,-35.92\"/>\n<text text-anchor=\"middle\" x=\"293.69\" y=\"-58.47\" font-family=\"Times New Roman,serif\" font-size=\"14.00\">resist_stripping, 0.95, -1.0</text>\n</g>\n</g>\n</svg>"
     },
     "metadata": {},
     "output_type": "display_data"
    },
    {
     "data": {
      "text/plain": "<IPython.core.display.SVG object>",
      "image/svg+xml": "<svg xmlns=\"http://www.w3.org/2000/svg\" xmlns:xlink=\"http://www.w3.org/1999/xlink\" width=\"486pt\" height=\"166pt\" viewBox=\"0.00 0.00 485.99 166.07\">\n<g id=\"graph0\" class=\"graph\" transform=\"scale(1 1) rotate(0) translate(4 162.07)\">\n<polygon fill=\"white\" stroke=\"none\" points=\"-4,4 -4,-162.07 481.99,-162.07 481.99,4 -4,4\"/>\n<!-- fake -->\n<g id=\"node1\" class=\"node\">\n<title>fake</title>\n</g>\n<!-- available -->\n<g id=\"node4\" class=\"node\">\n<title>available</title>\n<ellipse fill=\"none\" stroke=\"black\" cx=\"136.6\" cy=\"-72.67\" rx=\"41.68\" ry=\"41.68\"/>\n<ellipse fill=\"none\" stroke=\"black\" cx=\"136.6\" cy=\"-72.67\" rx=\"45.69\" ry=\"45.69\"/>\n<text text-anchor=\"middle\" x=\"136.6\" y=\"-68.97\" font-family=\"Times New Roman,serif\" font-size=\"14.00\">available</text>\n</g>\n<!-- fake&#45;&gt;available -->\n<g id=\"edge1\" class=\"edge\">\n<title>fake-&gt;available</title>\n<path fill=\"none\" stroke=\"black\" stroke-width=\"2\" d=\"M54.32,-72.67C61.93,-72.67 70.55,-72.67 79.26,-72.67\"/>\n<polygon fill=\"black\" stroke=\"black\" stroke-width=\"2\" points=\"77.65,-76.17 87.65,-72.67 77.65,-69.17 77.65,-76.17\"/>\n</g>\n<!-- broken -->\n<g id=\"node2\" class=\"node\">\n<title>broken</title>\n<ellipse fill=\"none\" stroke=\"black\" cx=\"441.59\" cy=\"-121.67\" rx=\"36.29\" ry=\"36.29\"/>\n<text text-anchor=\"middle\" x=\"441.59\" y=\"-117.97\" font-family=\"Times New Roman,serif\" font-size=\"14.00\">broken</text>\n</g>\n<!-- broken&#45;&gt;available -->\n<g id=\"edge4\" class=\"edge\">\n<title>broken-&gt;available</title>\n<path fill=\"none\" stroke=\"black\" d=\"M411.92,-100.43C404.24,-95.75 395.71,-91.39 387.19,-88.67 352.53,-77.62 256.3,-74.18 193.96,-73.12\"/>\n<polygon fill=\"black\" stroke=\"black\" points=\"194.3,-69.63 184.25,-72.98 194.2,-76.63 194.3,-69.63\"/>\n<text text-anchor=\"middle\" x=\"293.69\" y=\"-92.47\" font-family=\"Times New Roman,serif\" font-size=\"14.00\">check_resist_stripping, 1.0, -10.0</text>\n</g>\n<!-- done -->\n<g id=\"node3\" class=\"node\">\n<title>done</title>\n<ellipse fill=\"none\" stroke=\"black\" cx=\"441.59\" cy=\"-30.67\" rx=\"28.7\" ry=\"28.7\"/>\n<text text-anchor=\"middle\" x=\"441.59\" y=\"-26.97\" font-family=\"Times New Roman,serif\" font-size=\"14.00\">done</text>\n</g>\n<!-- done&#45;&gt;available -->\n<g id=\"edge5\" class=\"edge\">\n<title>done-&gt;available</title>\n<path fill=\"none\" stroke=\"black\" d=\"M413.85,-21.7C368.23,-7.94 273.21,13.95 200.19,-14.67 191.17,-18.21 182.67,-23.73 175.02,-29.98\"/>\n<polygon fill=\"black\" stroke=\"black\" points=\"172.74,-27.33 167.58,-36.58 177.38,-32.56 172.74,-27.33\"/>\n<text text-anchor=\"middle\" x=\"293.69\" y=\"-18.47\" font-family=\"Times New Roman,serif\" font-size=\"14.00\">check_resist_stripping, 1.0, 0.0</text>\n</g>\n<!-- available&#45;&gt;broken -->\n<g id=\"edge3\" class=\"edge\">\n<title>available-&gt;broken</title>\n<path fill=\"none\" stroke=\"black\" d=\"M175.46,-97.39C183.35,-101.51 191.83,-105.23 200.19,-107.67 265.4,-126.71 344.67,-127.22 393.88,-125.05\"/>\n<polygon fill=\"black\" stroke=\"black\" points=\"393.8,-128.56 403.61,-124.57 393.45,-121.57 393.8,-128.56\"/>\n<text text-anchor=\"middle\" x=\"293.69\" y=\"-129.47\" font-family=\"Times New Roman,serif\" font-size=\"14.00\">resist_stripping, 0.5, -1.0</text>\n</g>\n<!-- available&#45;&gt;done -->\n<g id=\"edge2\" class=\"edge\">\n<title>available-&gt;done</title>\n<path fill=\"none\" stroke=\"black\" d=\"M180.45,-59.25C187.02,-57.51 193.75,-55.91 200.19,-54.67 270.25,-41.22 353.33,-35.05 401.21,-32.42\"/>\n<polygon fill=\"black\" stroke=\"black\" points=\"401.28,-35.92 411.08,-31.91 400.91,-28.93 401.28,-35.92\"/>\n<text text-anchor=\"middle\" x=\"293.69\" y=\"-58.47\" font-family=\"Times New Roman,serif\" font-size=\"14.00\">resist_stripping, 0.5, -1.0</text>\n</g>\n</g>\n</svg>"
     },
     "metadata": {},
     "output_type": "display_data"
    }
   ],
   "source": [
    "def resist_stripping_service(name: str, broken_prob: float, broken_reward: float, action_reward: float) -> Service:\n",
    "    \"\"\"Build the resist stripping device.\"\"\"\n",
    "    return build_generic_breakable_service(name, RESIST_STRIPPING, broken_prob=broken_prob, broken_reward=broken_reward,\n",
    "                                           action_reward=action_reward)\n",
    "\n",
    "\n",
    "service_resist_stripping1 = resist_stripping_service(RESIST_STRIPPING1_SERVICE_NAME, DEFAULT_BROKEN_PROB,\n",
    "                                                     DEFAULT_BROKEN_REWARD, DEFAULT_USA_REWARD)\n",
    "service_resist_stripping2 = resist_stripping_service(RESIST_STRIPPING2_SERVICE_NAME, BROKEN_PROB, DEFAULT_BROKEN_REWARD,\n",
    "                                                     DEFAULT_USA_REWARD)\n",
    "render_service(service_resist_stripping1)\n",
    "render_service(service_resist_stripping2)"
   ]
  },
  {
   "cell_type": "code",
   "execution_count": 28,
   "metadata": {},
   "outputs": [
    {
     "data": {
      "text/plain": "<IPython.core.display.SVG object>",
      "image/svg+xml": "<svg xmlns=\"http://www.w3.org/2000/svg\" xmlns:xlink=\"http://www.w3.org/1999/xlink\" width=\"187pt\" height=\"110pt\" viewBox=\"0.00 0.00 186.55 110.09\">\n<g id=\"graph0\" class=\"graph\" transform=\"scale(1 1) rotate(0) translate(4 106.09)\">\n<polygon fill=\"white\" stroke=\"none\" points=\"-4,4 -4,-106.09 182.55,-106.09 182.55,4 -4,4\"/>\n<!-- fake -->\n<g id=\"node1\" class=\"node\">\n<title>fake</title>\n</g>\n<!-- ready -->\n<g id=\"node2\" class=\"node\">\n<title>ready</title>\n<ellipse fill=\"none\" stroke=\"black\" cx=\"125.55\" cy=\"-34.55\" rx=\"30.59\" ry=\"30.59\"/>\n<ellipse fill=\"none\" stroke=\"black\" cx=\"125.55\" cy=\"-34.55\" rx=\"34.59\" ry=\"34.59\"/>\n<text text-anchor=\"middle\" x=\"125.55\" y=\"-30.85\" font-family=\"Times New Roman,serif\" font-size=\"14.00\">ready</text>\n</g>\n<!-- fake&#45;&gt;ready -->\n<g id=\"edge1\" class=\"edge\">\n<title>fake-&gt;ready</title>\n<path fill=\"none\" stroke=\"black\" stroke-width=\"2\" d=\"M54.38,-34.55C62.06,-34.55 70.67,-34.55 79.17,-34.55\"/>\n<polygon fill=\"black\" stroke=\"black\" stroke-width=\"2\" points=\"77.55,-38.05 87.55,-34.55 77.55,-31.05 77.55,-38.05\"/>\n</g>\n<!-- ready&#45;&gt;ready -->\n<g id=\"edge2\" class=\"edge\">\n<title>ready-&gt;ready</title>\n<path fill=\"none\" stroke=\"black\" d=\"M115.61,-68.16C115.76,-78.74 119.07,-87.09 125.55,-87.09 129.49,-87.09 132.27,-83.99 133.86,-79.17\"/>\n<polygon fill=\"black\" stroke=\"black\" points=\"137.27,-80.06 135.27,-69.65 130.35,-79.03 137.27,-80.06\"/>\n<text text-anchor=\"middle\" x=\"125.55\" y=\"-90.89\" font-family=\"Times New Roman,serif\" font-size=\"14.00\">assembly, 1.0, -2.0</text>\n</g>\n</g>\n</svg>"
     },
     "metadata": {},
     "output_type": "display_data"
    }
   ],
   "source": [
    "def assembly_human_service(name: str = ASSEMBLY_HUMAN_SERVICE_NAME, action_reward: float = USA_REWARD) -> Service:\n",
    "    \"\"\"Build the human assembly device.\"\"\"\n",
    "    return build_generic_service_one_state(\n",
    "        name,\n",
    "        {ASSEMBLY},\n",
    "        action_reward=action_reward\n",
    "    )\n",
    "\n",
    "\n",
    "service_assembly_human = assembly_human_service()\n",
    "render_service(service_assembly_human)\n"
   ]
  },
  {
   "cell_type": "code",
   "execution_count": 29,
   "metadata": {},
   "outputs": [
    {
     "data": {
      "text/plain": "<IPython.core.display.SVG object>",
      "image/svg+xml": "<svg xmlns=\"http://www.w3.org/2000/svg\" xmlns:xlink=\"http://www.w3.org/1999/xlink\" width=\"453pt\" height=\"164pt\" viewBox=\"0.00 0.00 452.99 163.99\">\n<g id=\"graph0\" class=\"graph\" transform=\"scale(1 1) rotate(0) translate(4 159.99)\">\n<polygon fill=\"white\" stroke=\"none\" points=\"-4,4 -4,-159.99 448.99,-159.99 448.99,4 -4,4\"/>\n<!-- fake -->\n<g id=\"node1\" class=\"node\">\n<title>fake</title>\n</g>\n<!-- available -->\n<g id=\"node4\" class=\"node\">\n<title>available</title>\n<ellipse fill=\"none\" stroke=\"black\" cx=\"136.6\" cy=\"-70.6\" rx=\"41.68\" ry=\"41.68\"/>\n<ellipse fill=\"none\" stroke=\"black\" cx=\"136.6\" cy=\"-70.6\" rx=\"45.69\" ry=\"45.69\"/>\n<text text-anchor=\"middle\" x=\"136.6\" y=\"-66.9\" font-family=\"Times New Roman,serif\" font-size=\"14.00\">available</text>\n</g>\n<!-- fake&#45;&gt;available -->\n<g id=\"edge1\" class=\"edge\">\n<title>fake-&gt;available</title>\n<path fill=\"none\" stroke=\"black\" stroke-width=\"2\" d=\"M54.32,-70.6C61.93,-70.6 70.55,-70.6 79.26,-70.6\"/>\n<polygon fill=\"black\" stroke=\"black\" stroke-width=\"2\" points=\"77.65,-74.1 87.65,-70.6 77.65,-67.1 77.65,-74.1\"/>\n</g>\n<!-- broken -->\n<g id=\"node2\" class=\"node\">\n<title>broken</title>\n<ellipse fill=\"none\" stroke=\"black\" cx=\"408.59\" cy=\"-119.6\" rx=\"36.29\" ry=\"36.29\"/>\n<text text-anchor=\"middle\" x=\"408.59\" y=\"-115.9\" font-family=\"Times New Roman,serif\" font-size=\"14.00\">broken</text>\n</g>\n<!-- broken&#45;&gt;available -->\n<g id=\"edge4\" class=\"edge\">\n<title>broken-&gt;available</title>\n<path fill=\"none\" stroke=\"black\" d=\"M378.9,-98.41C371.23,-93.73 362.69,-89.35 354.19,-86.6 325.54,-77.3 248.28,-73.38 194.25,-71.74\"/>\n<polygon fill=\"black\" stroke=\"black\" points=\"194.37,-68.24 184.27,-71.46 194.17,-75.24 194.37,-68.24\"/>\n<text text-anchor=\"middle\" x=\"277.19\" y=\"-90.4\" font-family=\"Times New Roman,serif\" font-size=\"14.00\">check_assembly, 1.0, -10.0</text>\n</g>\n<!-- done -->\n<g id=\"node3\" class=\"node\">\n<title>done</title>\n<ellipse fill=\"none\" stroke=\"black\" cx=\"408.59\" cy=\"-28.6\" rx=\"28.7\" ry=\"28.7\"/>\n<text text-anchor=\"middle\" x=\"408.59\" y=\"-24.9\" font-family=\"Times New Roman,serif\" font-size=\"14.00\">done</text>\n</g>\n<!-- done&#45;&gt;available -->\n<g id=\"edge5\" class=\"edge\">\n<title>done-&gt;available</title>\n<path fill=\"none\" stroke=\"black\" d=\"M380.98,-19.62C340.44,-7.47 261.47,10.12 200.19,-13.6 191.33,-17.03 182.94,-22.37 175.37,-28.43\"/>\n<polygon fill=\"black\" stroke=\"black\" points=\"173.27,-25.61 168,-34.81 177.85,-30.9 173.27,-25.61\"/>\n<text text-anchor=\"middle\" x=\"277.19\" y=\"-17.4\" font-family=\"Times New Roman,serif\" font-size=\"14.00\">check_assembly, 1.0, 0.0</text>\n</g>\n<!-- available&#45;&gt;broken -->\n<g id=\"edge3\" class=\"edge\">\n<title>available-&gt;broken</title>\n<path fill=\"none\" stroke=\"black\" d=\"M175.48,-95.25C183.37,-99.38 191.84,-103.12 200.19,-105.6 253.48,-121.42 317.72,-123.27 360.44,-122.23\"/>\n<polygon fill=\"black\" stroke=\"black\" points=\"360.5,-125.73 370.38,-121.92 360.28,-118.74 360.5,-125.73\"/>\n<text text-anchor=\"middle\" x=\"277.19\" y=\"-125.4\" font-family=\"Times New Roman,serif\" font-size=\"14.00\">assembly, 0.05, -1.0</text>\n</g>\n<!-- available&#45;&gt;done -->\n<g id=\"edge2\" class=\"edge\">\n<title>available-&gt;done</title>\n<path fill=\"none\" stroke=\"black\" d=\"M180.47,-57.26C187.03,-55.51 193.76,-53.89 200.19,-52.6 258.06,-41.01 326.21,-34.46 368.15,-31.22\"/>\n<polygon fill=\"black\" stroke=\"black\" points=\"368.3,-34.72 378.01,-30.48 367.78,-27.74 368.3,-34.72\"/>\n<text text-anchor=\"middle\" x=\"277.19\" y=\"-56.4\" font-family=\"Times New Roman,serif\" font-size=\"14.00\">assembly, 0.95, -1.0</text>\n</g>\n</g>\n</svg>"
     },
     "metadata": {},
     "output_type": "display_data"
    }
   ],
   "source": [
    "def assembly_service(name: str = ASSEMBLY_SERVICE_NAME, broken_prob: float = DEFAULT_BROKEN_PROB,\n",
    "                     broken_reward: float = DEFAULT_BROKEN_REWARD,\n",
    "                     action_reward: float = DEFAULT_USA_REWARD) -> Service:\n",
    "    \"\"\"Build the assembly device.\"\"\"\n",
    "    return build_generic_breakable_service(name, ASSEMBLY, broken_prob=broken_prob, broken_reward=broken_reward,\n",
    "                                           action_reward=action_reward)\n",
    "\n",
    "\n",
    "service_assembly = assembly_service()\n",
    "render_service(service_assembly)\n"
   ]
  },
  {
   "cell_type": "code",
   "execution_count": 30,
   "metadata": {},
   "outputs": [
    {
     "data": {
      "text/plain": "<IPython.core.display.SVG object>",
      "image/svg+xml": "<svg xmlns=\"http://www.w3.org/2000/svg\" xmlns:xlink=\"http://www.w3.org/1999/xlink\" width=\"179pt\" height=\"110pt\" viewBox=\"0.00 0.00 179.05 110.09\">\n<g id=\"graph0\" class=\"graph\" transform=\"scale(1 1) rotate(0) translate(4 106.09)\">\n<polygon fill=\"white\" stroke=\"none\" points=\"-4,4 -4,-106.09 175.05,-106.09 175.05,4 -4,4\"/>\n<!-- fake -->\n<g id=\"node1\" class=\"node\">\n<title>fake</title>\n</g>\n<!-- ready -->\n<g id=\"node2\" class=\"node\">\n<title>ready</title>\n<ellipse fill=\"none\" stroke=\"black\" cx=\"125.55\" cy=\"-34.55\" rx=\"30.59\" ry=\"30.59\"/>\n<ellipse fill=\"none\" stroke=\"black\" cx=\"125.55\" cy=\"-34.55\" rx=\"34.59\" ry=\"34.59\"/>\n<text text-anchor=\"middle\" x=\"125.55\" y=\"-30.85\" font-family=\"Times New Roman,serif\" font-size=\"14.00\">ready</text>\n</g>\n<!-- fake&#45;&gt;ready -->\n<g id=\"edge1\" class=\"edge\">\n<title>fake-&gt;ready</title>\n<path fill=\"none\" stroke=\"black\" stroke-width=\"2\" d=\"M54.38,-34.55C62.06,-34.55 70.67,-34.55 79.17,-34.55\"/>\n<polygon fill=\"black\" stroke=\"black\" stroke-width=\"2\" points=\"77.55,-38.05 87.55,-34.55 77.55,-31.05 77.55,-38.05\"/>\n</g>\n<!-- ready&#45;&gt;ready -->\n<g id=\"edge2\" class=\"edge\">\n<title>ready-&gt;ready</title>\n<path fill=\"none\" stroke=\"black\" d=\"M115.61,-68.16C115.76,-78.74 119.07,-87.09 125.55,-87.09 129.49,-87.09 132.27,-83.99 133.86,-79.17\"/>\n<polygon fill=\"black\" stroke=\"black\" points=\"137.27,-80.06 135.27,-69.65 130.35,-79.03 137.27,-80.06\"/>\n<text text-anchor=\"middle\" x=\"125.55\" y=\"-90.89\" font-family=\"Times New Roman,serif\" font-size=\"14.00\">testing, 1.0, -2.0</text>\n</g>\n</g>\n</svg>"
     },
     "metadata": {},
     "output_type": "display_data"
    }
   ],
   "source": [
    "def testing_human_service(name: str = TESTING_HUMAN_SERVICE_NAME, action_reward: float = USA_REWARD) -> Service:\n",
    "    \"\"\"Build the human testing device.\"\"\"\n",
    "    return build_generic_service_one_state(\n",
    "        name,\n",
    "        {TESTING},\n",
    "        action_reward=action_reward\n",
    "    )\n",
    "\n",
    "\n",
    "service_testing_human = testing_human_service()\n",
    "render_service(service_testing_human)\n"
   ]
  },
  {
   "cell_type": "code",
   "execution_count": 31,
   "metadata": {},
   "outputs": [
    {
     "data": {
      "text/plain": "<IPython.core.display.SVG object>",
      "image/svg+xml": "<svg xmlns=\"http://www.w3.org/2000/svg\" xmlns:xlink=\"http://www.w3.org/1999/xlink\" width=\"437pt\" height=\"164pt\" viewBox=\"0.00 0.00 436.99 163.99\">\n<g id=\"graph0\" class=\"graph\" transform=\"scale(1 1) rotate(0) translate(4 159.99)\">\n<polygon fill=\"white\" stroke=\"none\" points=\"-4,4 -4,-159.99 432.99,-159.99 432.99,4 -4,4\"/>\n<!-- fake -->\n<g id=\"node1\" class=\"node\">\n<title>fake</title>\n</g>\n<!-- available -->\n<g id=\"node4\" class=\"node\">\n<title>available</title>\n<ellipse fill=\"none\" stroke=\"black\" cx=\"136.6\" cy=\"-70.6\" rx=\"41.68\" ry=\"41.68\"/>\n<ellipse fill=\"none\" stroke=\"black\" cx=\"136.6\" cy=\"-70.6\" rx=\"45.69\" ry=\"45.69\"/>\n<text text-anchor=\"middle\" x=\"136.6\" y=\"-66.9\" font-family=\"Times New Roman,serif\" font-size=\"14.00\">available</text>\n</g>\n<!-- fake&#45;&gt;available -->\n<g id=\"edge1\" class=\"edge\">\n<title>fake-&gt;available</title>\n<path fill=\"none\" stroke=\"black\" stroke-width=\"2\" d=\"M54.32,-70.6C61.93,-70.6 70.55,-70.6 79.26,-70.6\"/>\n<polygon fill=\"black\" stroke=\"black\" stroke-width=\"2\" points=\"77.65,-74.1 87.65,-70.6 77.65,-67.1 77.65,-74.1\"/>\n</g>\n<!-- broken -->\n<g id=\"node2\" class=\"node\">\n<title>broken</title>\n<ellipse fill=\"none\" stroke=\"black\" cx=\"392.59\" cy=\"-119.6\" rx=\"36.29\" ry=\"36.29\"/>\n<text text-anchor=\"middle\" x=\"392.59\" y=\"-115.9\" font-family=\"Times New Roman,serif\" font-size=\"14.00\">broken</text>\n</g>\n<!-- broken&#45;&gt;available -->\n<g id=\"edge4\" class=\"edge\">\n<title>broken-&gt;available</title>\n<path fill=\"none\" stroke=\"black\" d=\"M362.89,-98.44C355.22,-93.77 346.68,-89.38 338.19,-86.6 291.26,-71.22 234.98,-67.95 194,-68.1\"/>\n<polygon fill=\"black\" stroke=\"black\" points=\"194.07,-64.6 184.11,-68.21 194.15,-71.6 194.07,-64.6\"/>\n<text text-anchor=\"middle\" x=\"269.19\" y=\"-90.4\" font-family=\"Times New Roman,serif\" font-size=\"14.00\">check_testing, 1.0, -10.0</text>\n</g>\n<!-- done -->\n<g id=\"node3\" class=\"node\">\n<title>done</title>\n<ellipse fill=\"none\" stroke=\"black\" cx=\"392.59\" cy=\"-28.6\" rx=\"28.7\" ry=\"28.7\"/>\n<text text-anchor=\"middle\" x=\"392.59\" y=\"-24.9\" font-family=\"Times New Roman,serif\" font-size=\"14.00\">done</text>\n</g>\n<!-- done&#45;&gt;available -->\n<g id=\"edge5\" class=\"edge\">\n<title>done-&gt;available</title>\n<path fill=\"none\" stroke=\"black\" d=\"M364.86,-19.69C326.88,-8.55 255.75,6.63 200.19,-14.6 191.48,-17.93 183.21,-23.09 175.71,-28.96\"/>\n<polygon fill=\"black\" stroke=\"black\" points=\"173.8,-25.99 168.43,-35.13 178.32,-31.33 173.8,-25.99\"/>\n<text text-anchor=\"middle\" x=\"269.19\" y=\"-18.4\" font-family=\"Times New Roman,serif\" font-size=\"14.00\">check_testing, 1.0, 0.0</text>\n</g>\n<!-- available&#45;&gt;broken -->\n<g id=\"edge3\" class=\"edge\">\n<title>available-&gt;broken</title>\n<path fill=\"none\" stroke=\"black\" d=\"M175.49,-95.21C183.38,-99.34 191.84,-103.09 200.19,-105.6 248.01,-119.94 305.43,-122.29 344.83,-121.77\"/>\n<polygon fill=\"black\" stroke=\"black\" points=\"344.75,-125.27 354.68,-121.57 344.61,-118.28 344.75,-125.27\"/>\n<text text-anchor=\"middle\" x=\"269.19\" y=\"-125.4\" font-family=\"Times New Roman,serif\" font-size=\"14.00\">testing, 0.05, -1.0</text>\n</g>\n<!-- available&#45;&gt;done -->\n<g id=\"edge2\" class=\"edge\">\n<title>available-&gt;done</title>\n<path fill=\"none\" stroke=\"black\" d=\"M180.48,-57.32C187.04,-55.56 193.77,-53.92 200.19,-52.6 252.22,-41.92 313.24,-35.26 352.14,-31.74\"/>\n<polygon fill=\"black\" stroke=\"black\" points=\"352.31,-35.24 361.97,-30.88 351.7,-28.27 352.31,-35.24\"/>\n<text text-anchor=\"middle\" x=\"269.19\" y=\"-56.4\" font-family=\"Times New Roman,serif\" font-size=\"14.00\">testing, 0.95, -1.0</text>\n</g>\n</g>\n</svg>"
     },
     "metadata": {},
     "output_type": "display_data"
    }
   ],
   "source": [
    "def testing_service(name: str = TESTING_SERVICE_NAME, broken_prob: float = DEFAULT_BROKEN_PROB,\n",
    "                    broken_reward: float = DEFAULT_BROKEN_REWARD, action_reward: float = DEFAULT_USA_REWARD) -> Service:\n",
    "    \"\"\"Build the testing device.\"\"\"\n",
    "    return build_generic_breakable_service(name, TESTING, broken_prob=broken_prob, broken_reward=broken_reward,\n",
    "                                           action_reward=action_reward)\n",
    "\n",
    "\n",
    "service_testing = testing_service()\n",
    "render_service(service_testing)"
   ]
  },
  {
   "cell_type": "code",
   "execution_count": 32,
   "metadata": {},
   "outputs": [
    {
     "data": {
      "text/plain": "<IPython.core.display.SVG object>",
      "image/svg+xml": "<svg xmlns=\"http://www.w3.org/2000/svg\" xmlns:xlink=\"http://www.w3.org/1999/xlink\" width=\"189pt\" height=\"110pt\" viewBox=\"0.00 0.00 189.05 110.09\">\n<g id=\"graph0\" class=\"graph\" transform=\"scale(1 1) rotate(0) translate(4 106.09)\">\n<polygon fill=\"white\" stroke=\"none\" points=\"-4,4 -4,-106.09 185.05,-106.09 185.05,4 -4,4\"/>\n<!-- fake -->\n<g id=\"node1\" class=\"node\">\n<title>fake</title>\n</g>\n<!-- ready -->\n<g id=\"node2\" class=\"node\">\n<title>ready</title>\n<ellipse fill=\"none\" stroke=\"black\" cx=\"125.55\" cy=\"-34.55\" rx=\"30.59\" ry=\"30.59\"/>\n<ellipse fill=\"none\" stroke=\"black\" cx=\"125.55\" cy=\"-34.55\" rx=\"34.59\" ry=\"34.59\"/>\n<text text-anchor=\"middle\" x=\"125.55\" y=\"-30.85\" font-family=\"Times New Roman,serif\" font-size=\"14.00\">ready</text>\n</g>\n<!-- fake&#45;&gt;ready -->\n<g id=\"edge1\" class=\"edge\">\n<title>fake-&gt;ready</title>\n<path fill=\"none\" stroke=\"black\" stroke-width=\"2\" d=\"M54.38,-34.55C62.06,-34.55 70.67,-34.55 79.17,-34.55\"/>\n<polygon fill=\"black\" stroke=\"black\" stroke-width=\"2\" points=\"77.55,-38.05 87.55,-34.55 77.55,-31.05 77.55,-38.05\"/>\n</g>\n<!-- ready&#45;&gt;ready -->\n<g id=\"edge2\" class=\"edge\">\n<title>ready-&gt;ready</title>\n<path fill=\"none\" stroke=\"black\" d=\"M115.61,-68.16C115.76,-78.74 119.07,-87.09 125.55,-87.09 129.49,-87.09 132.27,-83.99 133.86,-79.17\"/>\n<polygon fill=\"black\" stroke=\"black\" points=\"137.27,-80.06 135.27,-69.65 130.35,-79.03 137.27,-80.06\"/>\n<text text-anchor=\"middle\" x=\"125.55\" y=\"-90.89\" font-family=\"Times New Roman,serif\" font-size=\"14.00\">packaging, 1.0, -2.0</text>\n</g>\n</g>\n</svg>"
     },
     "metadata": {},
     "output_type": "display_data"
    }
   ],
   "source": [
    "def packaging_human_service(name: str = PACKAGING_HUMAN_SERVICE_NAME, action_reward: float = USA_REWARD) -> Service:\n",
    "    \"\"\"Build the human packaging device.\"\"\"\n",
    "    return build_generic_service_one_state(\n",
    "        name,\n",
    "        {PACKAGING},\n",
    "        action_reward=action_reward\n",
    "    )\n",
    "\n",
    "\n",
    "service_packaging_human = packaging_human_service()\n",
    "render_service(service_packaging_human)"
   ]
  },
  {
   "cell_type": "code",
   "execution_count": 33,
   "metadata": {},
   "outputs": [
    {
     "data": {
      "text/plain": "<IPython.core.display.SVG object>",
      "image/svg+xml": "<svg xmlns=\"http://www.w3.org/2000/svg\" xmlns:xlink=\"http://www.w3.org/1999/xlink\" width=\"457pt\" height=\"164pt\" viewBox=\"0.00 0.00 456.99 163.99\">\n<g id=\"graph0\" class=\"graph\" transform=\"scale(1 1) rotate(0) translate(4 159.99)\">\n<polygon fill=\"white\" stroke=\"none\" points=\"-4,4 -4,-159.99 452.99,-159.99 452.99,4 -4,4\"/>\n<!-- fake -->\n<g id=\"node1\" class=\"node\">\n<title>fake</title>\n</g>\n<!-- available -->\n<g id=\"node4\" class=\"node\">\n<title>available</title>\n<ellipse fill=\"none\" stroke=\"black\" cx=\"136.6\" cy=\"-70.6\" rx=\"41.68\" ry=\"41.68\"/>\n<ellipse fill=\"none\" stroke=\"black\" cx=\"136.6\" cy=\"-70.6\" rx=\"45.69\" ry=\"45.69\"/>\n<text text-anchor=\"middle\" x=\"136.6\" y=\"-66.9\" font-family=\"Times New Roman,serif\" font-size=\"14.00\">available</text>\n</g>\n<!-- fake&#45;&gt;available -->\n<g id=\"edge1\" class=\"edge\">\n<title>fake-&gt;available</title>\n<path fill=\"none\" stroke=\"black\" stroke-width=\"2\" d=\"M54.32,-70.6C61.93,-70.6 70.55,-70.6 79.26,-70.6\"/>\n<polygon fill=\"black\" stroke=\"black\" stroke-width=\"2\" points=\"77.65,-74.1 87.65,-70.6 77.65,-67.1 77.65,-74.1\"/>\n</g>\n<!-- broken -->\n<g id=\"node2\" class=\"node\">\n<title>broken</title>\n<ellipse fill=\"none\" stroke=\"black\" cx=\"412.59\" cy=\"-119.6\" rx=\"36.29\" ry=\"36.29\"/>\n<text text-anchor=\"middle\" x=\"412.59\" y=\"-115.9\" font-family=\"Times New Roman,serif\" font-size=\"14.00\">broken</text>\n</g>\n<!-- broken&#45;&gt;available -->\n<g id=\"edge4\" class=\"edge\">\n<title>broken-&gt;available</title>\n<path fill=\"none\" stroke=\"black\" d=\"M382.9,-98.4C375.23,-93.72 366.69,-89.35 358.19,-86.6 328.78,-77.08 249.07,-73.2 193.99,-71.64\"/>\n<polygon fill=\"black\" stroke=\"black\" points=\"194.24,-68.14 184.15,-71.38 194.05,-75.14 194.24,-68.14\"/>\n<text text-anchor=\"middle\" x=\"279.19\" y=\"-90.4\" font-family=\"Times New Roman,serif\" font-size=\"14.00\">check_packaging, 1.0, -10.0</text>\n</g>\n<!-- done -->\n<g id=\"node3\" class=\"node\">\n<title>done</title>\n<ellipse fill=\"none\" stroke=\"black\" cx=\"412.59\" cy=\"-28.6\" rx=\"28.7\" ry=\"28.7\"/>\n<text text-anchor=\"middle\" x=\"412.59\" y=\"-24.9\" font-family=\"Times New Roman,serif\" font-size=\"14.00\">done</text>\n</g>\n<!-- done&#45;&gt;available -->\n<g id=\"edge5\" class=\"edge\">\n<title>done-&gt;available</title>\n<path fill=\"none\" stroke=\"black\" d=\"M385.14,-19.7C344.03,-7.4 262.98,10.71 200.19,-13.6 191.33,-17.03 182.94,-22.37 175.37,-28.43\"/>\n<polygon fill=\"black\" stroke=\"black\" points=\"173.27,-25.61 168,-34.81 177.85,-30.9 173.27,-25.61\"/>\n<text text-anchor=\"middle\" x=\"279.19\" y=\"-17.4\" font-family=\"Times New Roman,serif\" font-size=\"14.00\">check_packaging, 1.0, 0.0</text>\n</g>\n<!-- available&#45;&gt;broken -->\n<g id=\"edge3\" class=\"edge\">\n<title>available-&gt;broken</title>\n<path fill=\"none\" stroke=\"black\" d=\"M175.48,-95.26C183.37,-99.38 191.84,-103.12 200.19,-105.6 254.95,-121.82 321.05,-123.51 364.59,-122.33\"/>\n<polygon fill=\"black\" stroke=\"black\" points=\"364.58,-125.84 374.46,-122 364.34,-118.84 364.58,-125.84\"/>\n<text text-anchor=\"middle\" x=\"279.19\" y=\"-126.4\" font-family=\"Times New Roman,serif\" font-size=\"14.00\">packaging, 0.05, -1.0</text>\n</g>\n<!-- available&#45;&gt;done -->\n<g id=\"edge2\" class=\"edge\">\n<title>available-&gt;done</title>\n<path fill=\"none\" stroke=\"black\" d=\"M180.47,-57.25C187.03,-55.5 193.76,-53.88 200.19,-52.6 259.63,-40.76 329.71,-34.24 372.38,-31.08\"/>\n<polygon fill=\"black\" stroke=\"black\" points=\"372.42,-34.59 382.15,-30.39 371.93,-27.61 372.42,-34.59\"/>\n<text text-anchor=\"middle\" x=\"279.19\" y=\"-56.4\" font-family=\"Times New Roman,serif\" font-size=\"14.00\">packaging, 0.95, -1.0</text>\n</g>\n</g>\n</svg>"
     },
     "metadata": {},
     "output_type": "display_data"
    }
   ],
   "source": [
    "def packaging_service(name: str = PACKAGING_SERVICE_NAME, broken_prob: float = DEFAULT_BROKEN_PROB,\n",
    "                      broken_reward: float = DEFAULT_BROKEN_REWARD,\n",
    "                      action_reward: float = DEFAULT_USA_REWARD) -> Service:\n",
    "    \"\"\"Build the packaging device.\"\"\"\n",
    "    return build_generic_breakable_service(name, PACKAGING, broken_prob=broken_prob, broken_reward=broken_reward,\n",
    "                                           action_reward=action_reward)\n",
    "\n",
    "\n",
    "service_packaging = packaging_service()\n",
    "render_service(service_packaging)"
   ]
  },
  {
   "cell_type": "markdown",
   "metadata": {},
   "source": [
    "# First Phase - Raw materials and design assortment\n",
    "## Target Specification\n",
    "The target specification of the first phase is defined as follows:"
   ]
  },
  {
   "cell_type": "code",
   "execution_count": 34,
   "metadata": {},
   "outputs": [
    {
     "data": {
      "text/plain": "<IPython.core.display.SVG object>",
      "image/svg+xml": "<svg xmlns=\"http://www.w3.org/2000/svg\" xmlns:xlink=\"http://www.w3.org/1999/xlink\" width=\"1049pt\" height=\"79pt\" viewBox=\"0.00 0.00 1049.00 79.00\">\n<g id=\"graph0\" class=\"graph\" transform=\"scale(1 1) rotate(0) translate(4 75)\">\n<polygon fill=\"white\" stroke=\"none\" points=\"-4,4 -4,-75 1045,-75 1045,4 -4,4\"/>\n<!-- fake -->\n<g id=\"node1\" class=\"node\">\n<title>fake</title>\n</g>\n<!-- 0 -->\n<g id=\"node2\" class=\"node\">\n<title>0</title>\n<polygon fill=\"none\" stroke=\"black\" points=\"145,-36 91,-36 91,0 145,0 145,-36\"/>\n<text text-anchor=\"middle\" x=\"118\" y=\"-14.3\" font-family=\"Times New Roman,serif\" font-size=\"14.00\">0</text>\n</g>\n<!-- fake&#45;&gt;0 -->\n<g id=\"edge1\" class=\"edge\">\n<title>fake-&gt;0</title>\n<path fill=\"none\" stroke=\"black\" stroke-width=\"2\" d=\"M54.22,-18C62.12,-18 70.94,-18 79.43,-18\"/>\n<polygon fill=\"black\" stroke=\"black\" stroke-width=\"2\" points=\"77.63,-21.5 87.63,-18 77.63,-14.5 77.63,-21.5\"/>\n</g>\n<!-- 2 -->\n<g id=\"node3\" class=\"node\">\n<title>2</title>\n<polygon fill=\"none\" stroke=\"black\" points=\"374,-67 320,-67 320,-31 374,-31 374,-67\"/>\n<text text-anchor=\"middle\" x=\"347\" y=\"-45.3\" font-family=\"Times New Roman,serif\" font-size=\"14.00\">2</text>\n</g>\n<!-- 0&#45;&gt;2 -->\n<g id=\"edge2\" class=\"edge\">\n<title>0-&gt;2</title>\n<path fill=\"none\" stroke=\"black\" d=\"M145.48,-21.62C185.72,-27.11 262.43,-37.59 308.42,-43.87\"/>\n<polygon fill=\"black\" stroke=\"black\" points=\"307.8,-47.32 318.19,-45.2 308.75,-40.38 307.8,-47.32\"/>\n<text text-anchor=\"middle\" x=\"232.5\" y=\"-45.8\" font-family=\"Times New Roman,serif\" font-size=\"14.00\">pick_buy_design,0.0,1.0</text>\n</g>\n<!-- 3 -->\n<g id=\"node4\" class=\"node\">\n<title>3</title>\n<polygon fill=\"none\" stroke=\"black\" points=\"611,-71 557,-71 557,-35 611,-35 611,-71\"/>\n<text text-anchor=\"middle\" x=\"584\" y=\"-49.3\" font-family=\"Times New Roman,serif\" font-size=\"14.00\">3</text>\n</g>\n<!-- 2&#45;&gt;3 -->\n<g id=\"edge3\" class=\"edge\">\n<title>2-&gt;3</title>\n<path fill=\"none\" stroke=\"black\" d=\"M374.05,-49.44C415.69,-50.15 497.44,-51.54 545.41,-52.36\"/>\n<polygon fill=\"black\" stroke=\"black\" points=\"545.26,-55.86 555.32,-52.53 545.38,-48.86 545.26,-55.86\"/>\n<text text-anchor=\"middle\" x=\"447\" y=\"-54.8\" font-family=\"Times New Roman,serif\" font-size=\"14.00\">pick_silicon,0.0,1.0</text>\n</g>\n<!-- 4 -->\n<g id=\"node5\" class=\"node\">\n<title>4</title>\n<polygon fill=\"none\" stroke=\"black\" points=\"843,-68 789,-68 789,-32 843,-32 843,-68\"/>\n<text text-anchor=\"middle\" x=\"816\" y=\"-46.3\" font-family=\"Times New Roman,serif\" font-size=\"14.00\">4</text>\n</g>\n<!-- 3&#45;&gt;4 -->\n<g id=\"edge4\" class=\"edge\">\n<title>3-&gt;4</title>\n<path fill=\"none\" stroke=\"black\" d=\"M611.38,-52.66C652.09,-52.12 730.38,-51.1 777.13,-50.49\"/>\n<polygon fill=\"black\" stroke=\"black\" points=\"777.1,-53.99 787.06,-50.36 777.01,-47 777.1,-53.99\"/>\n<text text-anchor=\"middle\" x=\"718.5\" y=\"-54.8\" font-family=\"Times New Roman,serif\" font-size=\"14.00\">pick_wafer,0.0,1.0</text>\n</g>\n<!-- 5 -->\n<g id=\"node6\" class=\"node\">\n<title>5</title>\n<polygon fill=\"none\" stroke=\"black\" points=\"1041,-36 987,-36 987,0 1041,0 1041,-36\"/>\n<text text-anchor=\"middle\" x=\"1014\" y=\"-14.3\" font-family=\"Times New Roman,serif\" font-size=\"14.00\">5</text>\n</g>\n<!-- 4&#45;&gt;5 -->\n<g id=\"edge5\" class=\"edge\">\n<title>4-&gt;5</title>\n<path fill=\"none\" stroke=\"black\" d=\"M843.43,-45.68C877.43,-40.13 936.69,-30.46 975.38,-24.14\"/>\n<polygon fill=\"black\" stroke=\"black\" points=\"975.87,-27.61 985.18,-22.54 974.75,-20.7 975.87,-27.61\"/>\n<text text-anchor=\"middle\" x=\"915\" y=\"-45.8\" font-family=\"Times New Roman,serif\" font-size=\"14.00\">pick_boron,0.0,1.0</text>\n</g>\n<!-- 5&#45;&gt;0 -->\n<g id=\"edge6\" class=\"edge\">\n<title>5-&gt;0</title>\n<path fill=\"none\" stroke=\"black\" d=\"M986.74,-14.49C949.19,-9.78 877.94,-2 817,-2 346,-2 346,-2 346,-2 279.09,-2 201.36,-9 156.41,-13.74\"/>\n<polygon fill=\"black\" stroke=\"black\" points=\"156.25,-10.24 146.68,-14.79 157,-17.2 156.25,-10.24\"/>\n<text text-anchor=\"middle\" x=\"584\" y=\"-5.8\" font-family=\"Times New Roman,serif\" font-size=\"14.00\">pick_phosphor,1.0,1.0</text>\n</g>\n</g>\n</svg>"
     },
     "metadata": {},
     "output_type": "display_data"
    }
   ],
   "source": [
    "formula_str = \"<\"\n",
    "regex_seq = \"\"\n",
    "for symbol_index, symbol in enumerate(SYMBOLS_PHASE_1):\n",
    "    all_but_symbol = set(SYMBOLS_PHASE_1).difference({symbol})\n",
    "    item = symbol + \"&\" + \" & \".join(map(lambda x: \"!\" + x, all_but_symbol))\n",
    "    regex_seq = regex_seq + (\";\" if symbol_index != 0 else \"\") + item\n",
    "formula_str = f\"<({regex_seq})*>end\"\n",
    "formula = pylogics.parsers.ldl.parse_ldl(formula_str)\n",
    "automaton = logaut.core.ldl2dfa(formula, backend=\"lydia\")\n",
    "declare_automaton = from_symbolic_automaton_to_declare_automaton(automaton, set(SYMBOLS_PHASE_1))\n",
    "render_mdp_dfa(mdp_from_dfa(declare_automaton), no_sink=True)"
   ]
  },
  {
   "cell_type": "markdown",
   "metadata": {},
   "source": [
    "\n",
    "## Composition MDP\n",
    "The Composition MDP is constructed in this way:"
   ]
  },
  {
   "cell_type": "code",
   "execution_count": 38,
   "metadata": {},
   "outputs": [
    {
     "data": {
      "text/plain": "<IPython.core.display.SVG object>",
      "image/svg+xml": "<svg xmlns=\"http://www.w3.org/2000/svg\" xmlns:xlink=\"http://www.w3.org/1999/xlink\" width=\"7525pt\" height=\"499pt\" viewBox=\"0.00 0.00 7525.00 498.59\">\n<g id=\"graph0\" class=\"graph\" transform=\"scale(1 1) rotate(0) translate(4 494.59)\">\n<polygon fill=\"white\" stroke=\"none\" points=\"-4,4 -4,-494.59 7521,-494.59 7521,4 -4,4\"/>\n<!-- fake -->\n<g id=\"node1\" class=\"node\">\n<title>fake</title>\n</g>\n<!-- 0 -->\n<g id=\"node2\" class=\"node\">\n<title>0</title>\n<polygon fill=\"none\" stroke=\"black\" points=\"145,-188.59 91,-188.59 91,-152.59 145,-152.59 145,-188.59\"/>\n<text text-anchor=\"middle\" x=\"118\" y=\"-166.89\" font-family=\"Times New Roman,serif\" font-size=\"14.00\">0</text>\n</g>\n<!-- fake&#45;&gt;0 -->\n<g id=\"edge1\" class=\"edge\">\n<title>fake-&gt;0</title>\n<path fill=\"none\" stroke=\"black\" stroke-width=\"2\" d=\"M54.22,-170.59C62.12,-170.59 70.94,-170.59 79.43,-170.59\"/>\n<polygon fill=\"black\" stroke=\"black\" stroke-width=\"2\" points=\"77.63,-174.09 87.63,-170.59 77.63,-167.09 77.63,-174.09\"/>\n</g>\n<!-- ((&#39;ready&#39;, &#39;ready&#39;, &#39;ready&#39;, &#39;ready&#39;, &#39;ready&#39;, &#39;ready&#39;, &#39;ready&#39;, &#39;ready&#39;, &#39;ready&#39;, &#39;ready&#39;, &#39;ready&#39;, &#39;ready&#39;, &#39;ready&#39;, &#39;ready&#39;, &#39;ready&#39;, &#39;ready&#39;, &#39;ready&#39;, &#39;ready&#39;, &#39;ready&#39;, &#39;ready&#39;, &#39;ready&#39;, &#39;ready&#39;, &#39;ready&#39;, &#39;ready&#39;, &#39;ready&#39;, &#39;ready&#39;, &#39;ready&#39;, &#39;ready&#39;), 0, &#39;pick_buy_design&#39;) -->\n<g id=\"node4\" class=\"node\">\n<title>(('ready', 'ready', 'ready', 'ready', 'ready', 'ready', 'ready', 'ready', 'ready', 'ready', 'ready', 'ready', 'ready', 'ready', 'ready', 'ready', 'ready', 'ready', 'ready', 'ready', 'ready', 'ready', 'ready', 'ready', 'ready', 'ready', 'ready', 'ready'), 0, 'pick_buy_design')</title>\n<polygon fill=\"none\" stroke=\"black\" points=\"1642,-188.59 252,-188.59 252,-152.59 1642,-152.59 1642,-188.59\"/>\n<text text-anchor=\"middle\" x=\"947\" y=\"-166.89\" font-family=\"Times New Roman,serif\" font-size=\"14.00\">(('ready', 'ready', 'ready', 'ready', 'ready', 'ready', 'ready', 'ready', 'ready', 'ready', 'ready', 'ready', 'ready', 'ready', 'ready', 'ready', 'ready', 'ready', 'ready', 'ready', 'ready', 'ready', 'ready', 'ready', 'ready', 'ready', 'ready', 'ready'), 0, 'pick_buy_design')</text>\n</g>\n<!-- 0&#45;&gt;((&#39;ready&#39;, &#39;ready&#39;, &#39;ready&#39;, &#39;ready&#39;, &#39;ready&#39;, &#39;ready&#39;, &#39;ready&#39;, &#39;ready&#39;, &#39;ready&#39;, &#39;ready&#39;, &#39;ready&#39;, &#39;ready&#39;, &#39;ready&#39;, &#39;ready&#39;, &#39;ready&#39;, &#39;ready&#39;, &#39;ready&#39;, &#39;ready&#39;, &#39;ready&#39;, &#39;ready&#39;, &#39;ready&#39;, &#39;ready&#39;, &#39;ready&#39;, &#39;ready&#39;, &#39;ready&#39;, &#39;ready&#39;, &#39;ready&#39;, &#39;ready&#39;), 0, &#39;pick_buy_design&#39;) -->\n<g id=\"edge2\" class=\"edge\">\n<title>0-&gt;(('ready', 'ready', 'ready', 'ready', 'ready', 'ready', 'ready', 'ready', 'ready', 'ready', 'ready', 'ready', 'ready', 'ready', 'ready', 'ready', 'ready', 'ready', 'ready', 'ready', 'ready', 'ready', 'ready', 'ready', 'ready', 'ready', 'ready', 'ready'), 0, 'pick_buy_design')</title>\n<path fill=\"none\" stroke=\"black\" d=\"M145.12,-170.59C166.37,-170.59 199.5,-170.59 240.43,-170.59\"/>\n<polygon fill=\"black\" stroke=\"black\" points=\"240.37,-174.09 250.37,-170.59 240.37,-167.09 240.37,-174.09\"/>\n<text text-anchor=\"middle\" x=\"198.5\" y=\"-174.39\" font-family=\"Times New Roman,serif\" font-size=\"14.00\">initial,0.0,1.0</text>\n</g>\n<!-- ((&#39;ready&#39;, &#39;ready&#39;, &#39;ready&#39;, &#39;ready&#39;, &#39;ready&#39;, &#39;ready&#39;, &#39;ready&#39;, &#39;ready&#39;, &#39;ready&#39;, &#39;ready&#39;, &#39;ready&#39;, &#39;ready&#39;, &#39;ready&#39;, &#39;ready&#39;, &#39;ready&#39;, &#39;ready&#39;, &#39;ready&#39;, &#39;ready&#39;, &#39;ready&#39;, &#39;ready&#39;, &#39;ready&#39;, &#39;ready&#39;, &#39;ready&#39;, &#39;ready&#39;, &#39;ready&#39;, &#39;ready&#39;, &#39;ready&#39;, &#39;ready&#39;), 4, &#39;pick_boron&#39;) -->\n<g id=\"node3\" class=\"node\">\n<title>(('ready', 'ready', 'ready', 'ready', 'ready', 'ready', 'ready', 'ready', 'ready', 'ready', 'ready', 'ready', 'ready', 'ready', 'ready', 'ready', 'ready', 'ready', 'ready', 'ready', 'ready', 'ready', 'ready', 'ready', 'ready', 'ready', 'ready', 'ready'), 4, 'pick_boron')</title>\n<polygon fill=\"none\" stroke=\"black\" points=\"6028,-357.59 4669,-357.59 4669,-321.59 6028,-321.59 6028,-357.59\"/>\n<text text-anchor=\"middle\" x=\"5348.5\" y=\"-335.89\" font-family=\"Times New Roman,serif\" font-size=\"14.00\">(('ready', 'ready', 'ready', 'ready', 'ready', 'ready', 'ready', 'ready', 'ready', 'ready', 'ready', 'ready', 'ready', 'ready', 'ready', 'ready', 'ready', 'ready', 'ready', 'ready', 'ready', 'ready', 'ready', 'ready', 'ready', 'ready', 'ready', 'ready'), 4, 'pick_boron')</text>\n</g>\n<!-- ((&#39;ready&#39;, &#39;ready&#39;, &#39;ready&#39;, &#39;ready&#39;, &#39;ready&#39;, &#39;ready&#39;, &#39;ready&#39;, &#39;ready&#39;, &#39;ready&#39;, &#39;ready&#39;, &#39;ready&#39;, &#39;ready&#39;, &#39;ready&#39;, &#39;ready&#39;, &#39;ready&#39;, &#39;ready&#39;, &#39;ready&#39;, &#39;ready&#39;, &#39;ready&#39;, &#39;ready&#39;, &#39;ready&#39;, &#39;ready&#39;, &#39;ready&#39;, &#39;ready&#39;, &#39;ready&#39;, &#39;ready&#39;, &#39;ready&#39;, &#39;ready&#39;), 5, &#39;pick_phosphor&#39;) -->\n<g id=\"node5\" class=\"node\">\n<title>(('ready', 'ready', 'ready', 'ready', 'ready', 'ready', 'ready', 'ready', 'ready', 'ready', 'ready', 'ready', 'ready', 'ready', 'ready', 'ready', 'ready', 'ready', 'ready', 'ready', 'ready', 'ready', 'ready', 'ready', 'ready', 'ready', 'ready', 'ready'), 5, 'pick_phosphor')</title>\n<polygon fill=\"none\" stroke=\"black\" points=\"7517,-281.59 6138,-281.59 6138,-245.59 7517,-245.59 7517,-281.59\"/>\n<text text-anchor=\"middle\" x=\"6827.5\" y=\"-259.89\" font-family=\"Times New Roman,serif\" font-size=\"14.00\">(('ready', 'ready', 'ready', 'ready', 'ready', 'ready', 'ready', 'ready', 'ready', 'ready', 'ready', 'ready', 'ready', 'ready', 'ready', 'ready', 'ready', 'ready', 'ready', 'ready', 'ready', 'ready', 'ready', 'ready', 'ready', 'ready', 'ready', 'ready'), 5, 'pick_phosphor')</text>\n</g>\n<!-- ((&#39;ready&#39;, &#39;ready&#39;, &#39;ready&#39;, &#39;ready&#39;, &#39;ready&#39;, &#39;ready&#39;, &#39;ready&#39;, &#39;ready&#39;, &#39;ready&#39;, &#39;ready&#39;, &#39;ready&#39;, &#39;ready&#39;, &#39;ready&#39;, &#39;ready&#39;, &#39;ready&#39;, &#39;ready&#39;, &#39;ready&#39;, &#39;ready&#39;, &#39;ready&#39;, &#39;ready&#39;, &#39;ready&#39;, &#39;ready&#39;, &#39;ready&#39;, &#39;ready&#39;, &#39;ready&#39;, &#39;ready&#39;, &#39;ready&#39;, &#39;ready&#39;), 4, &#39;pick_boron&#39;)&#45;&gt;((&#39;ready&#39;, &#39;ready&#39;, &#39;ready&#39;, &#39;ready&#39;, &#39;ready&#39;, &#39;ready&#39;, &#39;ready&#39;, &#39;ready&#39;, &#39;ready&#39;, &#39;ready&#39;, &#39;ready&#39;, &#39;ready&#39;, &#39;ready&#39;, &#39;ready&#39;, &#39;ready&#39;, &#39;ready&#39;, &#39;ready&#39;, &#39;ready&#39;, &#39;ready&#39;, &#39;ready&#39;, &#39;ready&#39;, &#39;ready&#39;, &#39;ready&#39;, &#39;ready&#39;, &#39;ready&#39;, &#39;ready&#39;, &#39;ready&#39;, &#39;ready&#39;), 5, &#39;pick_phosphor&#39;) -->\n<g id=\"edge18\" class=\"edge\">\n<title>(('ready', 'ready', 'ready', 'ready', 'ready', 'ready', 'ready', 'ready', 'ready', 'ready', 'ready', 'ready', 'ready', 'ready', 'ready', 'ready', 'ready', 'ready', 'ready', 'ready', 'ready', 'ready', 'ready', 'ready', 'ready', 'ready', 'ready', 'ready'), 4, 'pick_boron')-&gt;(('ready', 'ready', 'ready', 'ready', 'ready', 'ready', 'ready', 'ready', 'ready', 'ready', 'ready', 'ready', 'ready', 'ready', 'ready', 'ready', 'ready', 'ready', 'ready', 'ready', 'ready', 'ready', 'ready', 'ready', 'ready', 'ready', 'ready', 'ready'), 5, 'pick_phosphor')</title>\n<path fill=\"none\" stroke=\"black\" d=\"M5397.16,-358.01C5517.83,-402.41 5845.37,-508.81 6120,-469.59 6368.37,-434.12 6651.41,-331.85 6769.79,-286.14\"/>\n<polygon fill=\"black\" stroke=\"black\" points=\"6770.92,-289.45 6778.98,-282.57 6768.39,-282.93 6770.92,-289.45\"/>\n<text text-anchor=\"middle\" x=\"6083\" y=\"-479.39\" font-family=\"Times New Roman,serif\" font-size=\"14.00\">15,-1.0,1.0</text>\n</g>\n<!-- ((&#39;ready&#39;, &#39;ready&#39;, &#39;ready&#39;, &#39;ready&#39;, &#39;ready&#39;, &#39;ready&#39;, &#39;ready&#39;, &#39;ready&#39;, &#39;ready&#39;, &#39;ready&#39;, &#39;ready&#39;, &#39;ready&#39;, &#39;ready&#39;, &#39;ready&#39;, &#39;ready&#39;, &#39;ready&#39;, &#39;ready&#39;, &#39;ready&#39;, &#39;ready&#39;, &#39;ready&#39;, &#39;ready&#39;, &#39;ready&#39;, &#39;ready&#39;, &#39;ready&#39;, &#39;ready&#39;, &#39;ready&#39;, &#39;ready&#39;, &#39;ready&#39;), 4, &#39;pick_boron&#39;)&#45;&gt;((&#39;ready&#39;, &#39;ready&#39;, &#39;ready&#39;, &#39;ready&#39;, &#39;ready&#39;, &#39;ready&#39;, &#39;ready&#39;, &#39;ready&#39;, &#39;ready&#39;, &#39;ready&#39;, &#39;ready&#39;, &#39;ready&#39;, &#39;ready&#39;, &#39;ready&#39;, &#39;ready&#39;, &#39;ready&#39;, &#39;ready&#39;, &#39;ready&#39;, &#39;ready&#39;, &#39;ready&#39;, &#39;ready&#39;, &#39;ready&#39;, &#39;ready&#39;, &#39;ready&#39;, &#39;ready&#39;, &#39;ready&#39;, &#39;ready&#39;, &#39;ready&#39;), 5, &#39;pick_phosphor&#39;) -->\n<g id=\"edge19\" class=\"edge\">\n<title>(('ready', 'ready', 'ready', 'ready', 'ready', 'ready', 'ready', 'ready', 'ready', 'ready', 'ready', 'ready', 'ready', 'ready', 'ready', 'ready', 'ready', 'ready', 'ready', 'ready', 'ready', 'ready', 'ready', 'ready', 'ready', 'ready', 'ready', 'ready'), 4, 'pick_boron')-&gt;(('ready', 'ready', 'ready', 'ready', 'ready', 'ready', 'ready', 'ready', 'ready', 'ready', 'ready', 'ready', 'ready', 'ready', 'ready', 'ready', 'ready', 'ready', 'ready', 'ready', 'ready', 'ready', 'ready', 'ready', 'ready', 'ready', 'ready', 'ready'), 5, 'pick_phosphor')</title>\n<path fill=\"none\" stroke=\"black\" d=\"M5415.71,-358.05C5549,-392.88 5859.26,-462.16 6120,-431.59 6358.54,-403.61 6633.29,-324.24 6758.26,-285.46\"/>\n<polygon fill=\"black\" stroke=\"black\" points=\"6759.22,-288.83 6767.72,-282.51 6757.13,-282.15 6759.22,-288.83\"/>\n<text text-anchor=\"middle\" x=\"6083\" y=\"-440.39\" font-family=\"Times New Roman,serif\" font-size=\"14.00\">16,-11.7,1.0</text>\n</g>\n<!-- ((&#39;ready&#39;, &#39;ready&#39;, &#39;ready&#39;, &#39;ready&#39;, &#39;ready&#39;, &#39;ready&#39;, &#39;ready&#39;, &#39;ready&#39;, &#39;ready&#39;, &#39;ready&#39;, &#39;ready&#39;, &#39;ready&#39;, &#39;ready&#39;, &#39;ready&#39;, &#39;ready&#39;, &#39;ready&#39;, &#39;ready&#39;, &#39;ready&#39;, &#39;ready&#39;, &#39;ready&#39;, &#39;ready&#39;, &#39;ready&#39;, &#39;ready&#39;, &#39;ready&#39;, &#39;ready&#39;, &#39;ready&#39;, &#39;ready&#39;, &#39;ready&#39;), 4, &#39;pick_boron&#39;)&#45;&gt;((&#39;ready&#39;, &#39;ready&#39;, &#39;ready&#39;, &#39;ready&#39;, &#39;ready&#39;, &#39;ready&#39;, &#39;ready&#39;, &#39;ready&#39;, &#39;ready&#39;, &#39;ready&#39;, &#39;ready&#39;, &#39;ready&#39;, &#39;ready&#39;, &#39;ready&#39;, &#39;ready&#39;, &#39;ready&#39;, &#39;ready&#39;, &#39;ready&#39;, &#39;ready&#39;, &#39;ready&#39;, &#39;ready&#39;, &#39;ready&#39;, &#39;ready&#39;, &#39;ready&#39;, &#39;ready&#39;, &#39;ready&#39;, &#39;ready&#39;, &#39;ready&#39;), 5, &#39;pick_phosphor&#39;) -->\n<g id=\"edge20\" class=\"edge\">\n<title>(('ready', 'ready', 'ready', 'ready', 'ready', 'ready', 'ready', 'ready', 'ready', 'ready', 'ready', 'ready', 'ready', 'ready', 'ready', 'ready', 'ready', 'ready', 'ready', 'ready', 'ready', 'ready', 'ready', 'ready', 'ready', 'ready', 'ready', 'ready'), 4, 'pick_boron')-&gt;(('ready', 'ready', 'ready', 'ready', 'ready', 'ready', 'ready', 'ready', 'ready', 'ready', 'ready', 'ready', 'ready', 'ready', 'ready', 'ready', 'ready', 'ready', 'ready', 'ready', 'ready', 'ready', 'ready', 'ready', 'ready', 'ready', 'ready', 'ready'), 5, 'pick_phosphor')</title>\n<path fill=\"none\" stroke=\"black\" d=\"M5457.13,-358.05C5606.18,-381.13 5883.8,-415.14 6120,-393.59 6346.36,-372.93 6608.49,-315.8 6740.74,-284.59\"/>\n<polygon fill=\"black\" stroke=\"black\" points=\"6741.19,-288.09 6750.11,-282.37 6739.57,-281.27 6741.19,-288.09\"/>\n<text text-anchor=\"middle\" x=\"6083\" y=\"-401.39\" font-family=\"Times New Roman,serif\" font-size=\"14.00\">17,-2.0,1.0</text>\n</g>\n<!-- ((&#39;ready&#39;, &#39;ready&#39;, &#39;ready&#39;, &#39;ready&#39;, &#39;ready&#39;, &#39;ready&#39;, &#39;ready&#39;, &#39;ready&#39;, &#39;ready&#39;, &#39;ready&#39;, &#39;ready&#39;, &#39;ready&#39;, &#39;ready&#39;, &#39;ready&#39;, &#39;ready&#39;, &#39;ready&#39;, &#39;ready&#39;, &#39;ready&#39;, &#39;ready&#39;, &#39;ready&#39;, &#39;ready&#39;, &#39;ready&#39;, &#39;ready&#39;, &#39;ready&#39;, &#39;ready&#39;, &#39;ready&#39;, &#39;ready&#39;, &#39;ready&#39;), 4, &#39;pick_boron&#39;)&#45;&gt;((&#39;ready&#39;, &#39;ready&#39;, &#39;ready&#39;, &#39;ready&#39;, &#39;ready&#39;, &#39;ready&#39;, &#39;ready&#39;, &#39;ready&#39;, &#39;ready&#39;, &#39;ready&#39;, &#39;ready&#39;, &#39;ready&#39;, &#39;ready&#39;, &#39;ready&#39;, &#39;ready&#39;, &#39;ready&#39;, &#39;ready&#39;, &#39;ready&#39;, &#39;ready&#39;, &#39;ready&#39;, &#39;ready&#39;, &#39;ready&#39;, &#39;ready&#39;, &#39;ready&#39;, &#39;ready&#39;, &#39;ready&#39;, &#39;ready&#39;, &#39;ready&#39;), 5, &#39;pick_phosphor&#39;) -->\n<g id=\"edge21\" class=\"edge\">\n<title>(('ready', 'ready', 'ready', 'ready', 'ready', 'ready', 'ready', 'ready', 'ready', 'ready', 'ready', 'ready', 'ready', 'ready', 'ready', 'ready', 'ready', 'ready', 'ready', 'ready', 'ready', 'ready', 'ready', 'ready', 'ready', 'ready', 'ready', 'ready'), 4, 'pick_boron')-&gt;(('ready', 'ready', 'ready', 'ready', 'ready', 'ready', 'ready', 'ready', 'ready', 'ready', 'ready', 'ready', 'ready', 'ready', 'ready', 'ready', 'ready', 'ready', 'ready', 'ready', 'ready', 'ready', 'ready', 'ready', 'ready', 'ready', 'ready', 'ready'), 5, 'pick_phosphor')</title>\n<path fill=\"none\" stroke=\"black\" d=\"M5659.07,-358.07C5799.84,-363.38 5968.46,-365.41 6120,-355.59 6327.61,-342.13 6567.39,-306.64 6707.44,-283.88\"/>\n<polygon fill=\"black\" stroke=\"black\" points=\"6707.8,-287.37 6717.11,-282.3 6706.67,-280.46 6707.8,-287.37\"/>\n<text text-anchor=\"middle\" x=\"6083\" y=\"-362.39\" font-family=\"Times New Roman,serif\" font-size=\"14.00\">18,-7.8,1.0</text>\n</g>\n<!-- ((&#39;ready&#39;, &#39;ready&#39;, &#39;ready&#39;, &#39;ready&#39;, &#39;ready&#39;, &#39;ready&#39;, &#39;ready&#39;, &#39;ready&#39;, &#39;ready&#39;, &#39;ready&#39;, &#39;ready&#39;, &#39;ready&#39;, &#39;ready&#39;, &#39;ready&#39;, &#39;ready&#39;, &#39;ready&#39;, &#39;ready&#39;, &#39;ready&#39;, &#39;ready&#39;, &#39;ready&#39;, &#39;ready&#39;, &#39;ready&#39;, &#39;ready&#39;, &#39;ready&#39;, &#39;ready&#39;, &#39;ready&#39;, &#39;ready&#39;, &#39;ready&#39;), 4, &#39;pick_boron&#39;)&#45;&gt;((&#39;ready&#39;, &#39;ready&#39;, &#39;ready&#39;, &#39;ready&#39;, &#39;ready&#39;, &#39;ready&#39;, &#39;ready&#39;, &#39;ready&#39;, &#39;ready&#39;, &#39;ready&#39;, &#39;ready&#39;, &#39;ready&#39;, &#39;ready&#39;, &#39;ready&#39;, &#39;ready&#39;, &#39;ready&#39;, &#39;ready&#39;, &#39;ready&#39;, &#39;ready&#39;, &#39;ready&#39;, &#39;ready&#39;, &#39;ready&#39;, &#39;ready&#39;, &#39;ready&#39;, &#39;ready&#39;, &#39;ready&#39;, &#39;ready&#39;, &#39;ready&#39;), 5, &#39;pick_phosphor&#39;) -->\n<g id=\"edge22\" class=\"edge\">\n<title>(('ready', 'ready', 'ready', 'ready', 'ready', 'ready', 'ready', 'ready', 'ready', 'ready', 'ready', 'ready', 'ready', 'ready', 'ready', 'ready', 'ready', 'ready', 'ready', 'ready', 'ready', 'ready', 'ready', 'ready', 'ready', 'ready', 'ready', 'ready'), 4, 'pick_boron')-&gt;(('ready', 'ready', 'ready', 'ready', 'ready', 'ready', 'ready', 'ready', 'ready', 'ready', 'ready', 'ready', 'ready', 'ready', 'ready', 'ready', 'ready', 'ready', 'ready', 'ready', 'ready', 'ready', 'ready', 'ready', 'ready', 'ready', 'ready', 'ready'), 5, 'pick_phosphor')</title>\n<path fill=\"none\" stroke=\"black\" d=\"M6028.4,-321.99C6059.37,-320.63 6090.01,-319.16 6120,-317.59 6283.56,-309.01 6468.1,-294.74 6607.54,-283.03\"/>\n<polygon fill=\"black\" stroke=\"black\" points=\"6607.59,-286.54 6617.26,-282.21 6607,-279.56 6607.59,-286.54\"/>\n<text text-anchor=\"middle\" x=\"6083\" y=\"-324.39\" font-family=\"Times New Roman,serif\" font-size=\"14.00\">19,-10.4,1.0</text>\n</g>\n<!-- ((&#39;ready&#39;, &#39;ready&#39;, &#39;ready&#39;, &#39;ready&#39;, &#39;ready&#39;, &#39;ready&#39;, &#39;ready&#39;, &#39;ready&#39;, &#39;ready&#39;, &#39;ready&#39;, &#39;ready&#39;, &#39;ready&#39;, &#39;ready&#39;, &#39;ready&#39;, &#39;ready&#39;, &#39;ready&#39;, &#39;ready&#39;, &#39;ready&#39;, &#39;ready&#39;, &#39;ready&#39;, &#39;ready&#39;, &#39;ready&#39;, &#39;ready&#39;, &#39;ready&#39;, &#39;ready&#39;, &#39;ready&#39;, &#39;ready&#39;, &#39;ready&#39;), 4, &#39;pick_boron&#39;)&#45;&gt;((&#39;ready&#39;, &#39;ready&#39;, &#39;ready&#39;, &#39;ready&#39;, &#39;ready&#39;, &#39;ready&#39;, &#39;ready&#39;, &#39;ready&#39;, &#39;ready&#39;, &#39;ready&#39;, &#39;ready&#39;, &#39;ready&#39;, &#39;ready&#39;, &#39;ready&#39;, &#39;ready&#39;, &#39;ready&#39;, &#39;ready&#39;, &#39;ready&#39;, &#39;ready&#39;, &#39;ready&#39;, &#39;ready&#39;, &#39;ready&#39;, &#39;ready&#39;, &#39;ready&#39;, &#39;ready&#39;, &#39;ready&#39;, &#39;ready&#39;, &#39;ready&#39;), 5, &#39;pick_phosphor&#39;) -->\n<g id=\"edge23\" class=\"edge\">\n<title>(('ready', 'ready', 'ready', 'ready', 'ready', 'ready', 'ready', 'ready', 'ready', 'ready', 'ready', 'ready', 'ready', 'ready', 'ready', 'ready', 'ready', 'ready', 'ready', 'ready', 'ready', 'ready', 'ready', 'ready', 'ready', 'ready', 'ready', 'ready'), 4, 'pick_boron')-&gt;(('ready', 'ready', 'ready', 'ready', 'ready', 'ready', 'ready', 'ready', 'ready', 'ready', 'ready', 'ready', 'ready', 'ready', 'ready', 'ready', 'ready', 'ready', 'ready', 'ready', 'ready', 'ready', 'ready', 'ready', 'ready', 'ready', 'ready', 'ready'), 5, 'pick_phosphor')</title>\n<path fill=\"none\" stroke=\"black\" d=\"M5648.14,-321.09C5771.31,-313.7 5915.51,-305.35 6046,-298.59 6153.71,-293 6269.82,-287.51 6378.71,-282.59\"/>\n<polygon fill=\"black\" stroke=\"black\" points=\"6378.56,-286.1 6388.39,-282.15 6378.24,-279.11 6378.56,-286.1\"/>\n<text text-anchor=\"middle\" x=\"6083\" y=\"-302.39\" font-family=\"Times New Roman,serif\" font-size=\"14.00\">20,-12.12,1.0</text>\n</g>\n<!-- ((&#39;ready&#39;, &#39;ready&#39;, &#39;ready&#39;, &#39;ready&#39;, &#39;ready&#39;, &#39;ready&#39;, &#39;ready&#39;, &#39;ready&#39;, &#39;ready&#39;, &#39;ready&#39;, &#39;ready&#39;, &#39;ready&#39;, &#39;ready&#39;, &#39;ready&#39;, &#39;ready&#39;, &#39;ready&#39;, &#39;ready&#39;, &#39;ready&#39;, &#39;ready&#39;, &#39;ready&#39;, &#39;ready&#39;, &#39;ready&#39;, &#39;ready&#39;, &#39;ready&#39;, &#39;ready&#39;, &#39;ready&#39;, &#39;ready&#39;, &#39;ready&#39;), 4, &#39;pick_boron&#39;)&#45;&gt;((&#39;ready&#39;, &#39;ready&#39;, &#39;ready&#39;, &#39;ready&#39;, &#39;ready&#39;, &#39;ready&#39;, &#39;ready&#39;, &#39;ready&#39;, &#39;ready&#39;, &#39;ready&#39;, &#39;ready&#39;, &#39;ready&#39;, &#39;ready&#39;, &#39;ready&#39;, &#39;ready&#39;, &#39;ready&#39;, &#39;ready&#39;, &#39;ready&#39;, &#39;ready&#39;, &#39;ready&#39;, &#39;ready&#39;, &#39;ready&#39;, &#39;ready&#39;, &#39;ready&#39;, &#39;ready&#39;, &#39;ready&#39;, &#39;ready&#39;, &#39;ready&#39;), 5, &#39;pick_phosphor&#39;) -->\n<g id=\"edge24\" class=\"edge\">\n<title>(('ready', 'ready', 'ready', 'ready', 'ready', 'ready', 'ready', 'ready', 'ready', 'ready', 'ready', 'ready', 'ready', 'ready', 'ready', 'ready', 'ready', 'ready', 'ready', 'ready', 'ready', 'ready', 'ready', 'ready', 'ready', 'ready', 'ready', 'ready'), 4, 'pick_boron')-&gt;(('ready', 'ready', 'ready', 'ready', 'ready', 'ready', 'ready', 'ready', 'ready', 'ready', 'ready', 'ready', 'ready', 'ready', 'ready', 'ready', 'ready', 'ready', 'ready', 'ready', 'ready', 'ready', 'ready', 'ready', 'ready', 'ready', 'ready', 'ready'), 5, 'pick_phosphor')</title>\n<path fill=\"none\" stroke=\"black\" d=\"M5512.14,-321.1C5653.13,-305.93 5862.75,-285.4 6046,-275.59 6072.39,-274.17 6099.29,-272.91 6126.46,-271.77\"/>\n<polygon fill=\"black\" stroke=\"black\" points=\"6126.35,-275.28 6136.2,-271.37 6126.06,-268.28 6126.35,-275.28\"/>\n<text text-anchor=\"middle\" x=\"6083\" y=\"-279.39\" font-family=\"Times New Roman,serif\" font-size=\"14.00\">21,-8.55,1.0</text>\n</g>\n<!-- ((&#39;ready&#39;, &#39;ready&#39;, &#39;ready&#39;, &#39;ready&#39;, &#39;ready&#39;, &#39;ready&#39;, &#39;ready&#39;, &#39;ready&#39;, &#39;ready&#39;, &#39;ready&#39;, &#39;ready&#39;, &#39;ready&#39;, &#39;ready&#39;, &#39;ready&#39;, &#39;ready&#39;, &#39;ready&#39;, &#39;ready&#39;, &#39;ready&#39;, &#39;ready&#39;, &#39;ready&#39;, &#39;ready&#39;, &#39;ready&#39;, &#39;ready&#39;, &#39;ready&#39;, &#39;ready&#39;, &#39;ready&#39;, &#39;ready&#39;, &#39;ready&#39;), 4, &#39;pick_boron&#39;)&#45;&gt;((&#39;ready&#39;, &#39;ready&#39;, &#39;ready&#39;, &#39;ready&#39;, &#39;ready&#39;, &#39;ready&#39;, &#39;ready&#39;, &#39;ready&#39;, &#39;ready&#39;, &#39;ready&#39;, &#39;ready&#39;, &#39;ready&#39;, &#39;ready&#39;, &#39;ready&#39;, &#39;ready&#39;, &#39;ready&#39;, &#39;ready&#39;, &#39;ready&#39;, &#39;ready&#39;, &#39;ready&#39;, &#39;ready&#39;, &#39;ready&#39;, &#39;ready&#39;, &#39;ready&#39;, &#39;ready&#39;, &#39;ready&#39;, &#39;ready&#39;, &#39;ready&#39;), 5, &#39;pick_phosphor&#39;) -->\n<g id=\"edge25\" class=\"edge\">\n<title>(('ready', 'ready', 'ready', 'ready', 'ready', 'ready', 'ready', 'ready', 'ready', 'ready', 'ready', 'ready', 'ready', 'ready', 'ready', 'ready', 'ready', 'ready', 'ready', 'ready', 'ready', 'ready', 'ready', 'ready', 'ready', 'ready', 'ready', 'ready'), 4, 'pick_boron')-&gt;(('ready', 'ready', 'ready', 'ready', 'ready', 'ready', 'ready', 'ready', 'ready', 'ready', 'ready', 'ready', 'ready', 'ready', 'ready', 'ready', 'ready', 'ready', 'ready', 'ready', 'ready', 'ready', 'ready', 'ready', 'ready', 'ready', 'ready', 'ready'), 5, 'pick_phosphor')</title>\n<path fill=\"none\" stroke=\"black\" d=\"M5462.19,-321.13C5599.59,-299.64 5839.09,-265.46 6046,-252.59 6072.38,-250.95 6099.26,-249.62 6126.43,-248.57\"/>\n<polygon fill=\"black\" stroke=\"black\" points=\"6126.3,-252.07 6136.16,-248.2 6126.04,-245.08 6126.3,-252.07\"/>\n<text text-anchor=\"middle\" x=\"6083\" y=\"-256.39\" font-family=\"Times New Roman,serif\" font-size=\"14.00\">22,-6.8,1.0</text>\n</g>\n<!-- ((&#39;ready&#39;, &#39;ready&#39;, &#39;ready&#39;, &#39;ready&#39;, &#39;ready&#39;, &#39;ready&#39;, &#39;ready&#39;, &#39;ready&#39;, &#39;ready&#39;, &#39;ready&#39;, &#39;ready&#39;, &#39;ready&#39;, &#39;ready&#39;, &#39;ready&#39;, &#39;ready&#39;, &#39;ready&#39;, &#39;ready&#39;, &#39;ready&#39;, &#39;ready&#39;, &#39;ready&#39;, &#39;ready&#39;, &#39;ready&#39;, &#39;ready&#39;, &#39;ready&#39;, &#39;ready&#39;, &#39;ready&#39;, &#39;ready&#39;, &#39;ready&#39;), 4, &#39;pick_boron&#39;)&#45;&gt;((&#39;ready&#39;, &#39;ready&#39;, &#39;ready&#39;, &#39;ready&#39;, &#39;ready&#39;, &#39;ready&#39;, &#39;ready&#39;, &#39;ready&#39;, &#39;ready&#39;, &#39;ready&#39;, &#39;ready&#39;, &#39;ready&#39;, &#39;ready&#39;, &#39;ready&#39;, &#39;ready&#39;, &#39;ready&#39;, &#39;ready&#39;, &#39;ready&#39;, &#39;ready&#39;, &#39;ready&#39;, &#39;ready&#39;, &#39;ready&#39;, &#39;ready&#39;, &#39;ready&#39;, &#39;ready&#39;, &#39;ready&#39;, &#39;ready&#39;, &#39;ready&#39;), 5, &#39;pick_phosphor&#39;) -->\n<g id=\"edge26\" class=\"edge\">\n<title>(('ready', 'ready', 'ready', 'ready', 'ready', 'ready', 'ready', 'ready', 'ready', 'ready', 'ready', 'ready', 'ready', 'ready', 'ready', 'ready', 'ready', 'ready', 'ready', 'ready', 'ready', 'ready', 'ready', 'ready', 'ready', 'ready', 'ready', 'ready'), 4, 'pick_boron')-&gt;(('ready', 'ready', 'ready', 'ready', 'ready', 'ready', 'ready', 'ready', 'ready', 'ready', 'ready', 'ready', 'ready', 'ready', 'ready', 'ready', 'ready', 'ready', 'ready', 'ready', 'ready', 'ready', 'ready', 'ready', 'ready', 'ready', 'ready', 'ready'), 5, 'pick_phosphor')</title>\n<path fill=\"none\" stroke=\"black\" d=\"M5437.75,-321.09C5569.45,-294.53 5825.56,-246.89 6046,-229.59 6254.8,-213.2 6495.69,-228.95 6653.98,-244.03\"/>\n<polygon fill=\"black\" stroke=\"black\" points=\"6653.44,-247.5 6663.73,-244.97 6654.11,-240.53 6653.44,-247.5\"/>\n<text text-anchor=\"middle\" x=\"6083\" y=\"-233.39\" font-family=\"Times New Roman,serif\" font-size=\"14.00\">23,-10.16,1.0</text>\n</g>\n<!-- ((&#39;ready&#39;, &#39;ready&#39;, &#39;ready&#39;, &#39;ready&#39;, &#39;ready&#39;, &#39;ready&#39;, &#39;ready&#39;, &#39;ready&#39;, &#39;ready&#39;, &#39;ready&#39;, &#39;ready&#39;, &#39;ready&#39;, &#39;ready&#39;, &#39;ready&#39;, &#39;ready&#39;, &#39;ready&#39;, &#39;ready&#39;, &#39;ready&#39;, &#39;ready&#39;, &#39;ready&#39;, &#39;ready&#39;, &#39;ready&#39;, &#39;ready&#39;, &#39;ready&#39;, &#39;ready&#39;, &#39;ready&#39;, &#39;ready&#39;, &#39;ready&#39;), 2, &#39;pick_silicon&#39;) -->\n<g id=\"node7\" class=\"node\">\n<title>(('ready', 'ready', 'ready', 'ready', 'ready', 'ready', 'ready', 'ready', 'ready', 'ready', 'ready', 'ready', 'ready', 'ready', 'ready', 'ready', 'ready', 'ready', 'ready', 'ready', 'ready', 'ready', 'ready', 'ready', 'ready', 'ready', 'ready', 'ready'), 2, 'pick_silicon')</title>\n<polygon fill=\"none\" stroke=\"black\" points=\"3100,-300.59 1739,-300.59 1739,-264.59 3100,-264.59 3100,-300.59\"/>\n<text text-anchor=\"middle\" x=\"2419.5\" y=\"-278.89\" font-family=\"Times New Roman,serif\" font-size=\"14.00\">(('ready', 'ready', 'ready', 'ready', 'ready', 'ready', 'ready', 'ready', 'ready', 'ready', 'ready', 'ready', 'ready', 'ready', 'ready', 'ready', 'ready', 'ready', 'ready', 'ready', 'ready', 'ready', 'ready', 'ready', 'ready', 'ready', 'ready', 'ready'), 2, 'pick_silicon')</text>\n</g>\n<!-- ((&#39;ready&#39;, &#39;ready&#39;, &#39;ready&#39;, &#39;ready&#39;, &#39;ready&#39;, &#39;ready&#39;, &#39;ready&#39;, &#39;ready&#39;, &#39;ready&#39;, &#39;ready&#39;, &#39;ready&#39;, &#39;ready&#39;, &#39;ready&#39;, &#39;ready&#39;, &#39;ready&#39;, &#39;ready&#39;, &#39;ready&#39;, &#39;ready&#39;, &#39;ready&#39;, &#39;ready&#39;, &#39;ready&#39;, &#39;ready&#39;, &#39;ready&#39;, &#39;ready&#39;, &#39;ready&#39;, &#39;ready&#39;, &#39;ready&#39;, &#39;ready&#39;), 0, &#39;pick_buy_design&#39;)&#45;&gt;((&#39;ready&#39;, &#39;ready&#39;, &#39;ready&#39;, &#39;ready&#39;, &#39;ready&#39;, &#39;ready&#39;, &#39;ready&#39;, &#39;ready&#39;, &#39;ready&#39;, &#39;ready&#39;, &#39;ready&#39;, &#39;ready&#39;, &#39;ready&#39;, &#39;ready&#39;, &#39;ready&#39;, &#39;ready&#39;, &#39;ready&#39;, &#39;ready&#39;, &#39;ready&#39;, &#39;ready&#39;, &#39;ready&#39;, &#39;ready&#39;, &#39;ready&#39;, &#39;ready&#39;, &#39;ready&#39;, &#39;ready&#39;, &#39;ready&#39;, &#39;ready&#39;), 2, &#39;pick_silicon&#39;) -->\n<g id=\"edge3\" class=\"edge\">\n<title>(('ready', 'ready', 'ready', 'ready', 'ready', 'ready', 'ready', 'ready', 'ready', 'ready', 'ready', 'ready', 'ready', 'ready', 'ready', 'ready', 'ready', 'ready', 'ready', 'ready', 'ready', 'ready', 'ready', 'ready', 'ready', 'ready', 'ready', 'ready'), 0, 'pick_buy_design')-&gt;(('ready', 'ready', 'ready', 'ready', 'ready', 'ready', 'ready', 'ready', 'ready', 'ready', 'ready', 'ready', 'ready', 'ready', 'ready', 'ready', 'ready', 'ready', 'ready', 'ready', 'ready', 'ready', 'ready', 'ready', 'ready', 'ready', 'ready', 'ready'), 2, 'pick_silicon')</title>\n<path fill=\"none\" stroke=\"black\" d=\"M1039.66,-189.07C1174.76,-215.29 1435.59,-262.06 1660,-279.59 1682.04,-281.31 1704.45,-282.82 1727.09,-284.13\"/>\n<polygon fill=\"black\" stroke=\"black\" points=\"1726.89,-287.63 1737.08,-284.7 1727.29,-280.64 1726.89,-287.63\"/>\n<text text-anchor=\"middle\" x=\"1690.5\" y=\"-285.39\" font-family=\"Times New Roman,serif\" font-size=\"14.00\">0,-2.0,1.0</text>\n</g>\n<!-- ((&#39;ready&#39;, &#39;ready&#39;, &#39;ready&#39;, &#39;ready&#39;, &#39;ready&#39;, &#39;ready&#39;, &#39;ready&#39;, &#39;ready&#39;, &#39;ready&#39;, &#39;ready&#39;, &#39;ready&#39;, &#39;ready&#39;, &#39;ready&#39;, &#39;ready&#39;, &#39;ready&#39;, &#39;ready&#39;, &#39;ready&#39;, &#39;ready&#39;, &#39;ready&#39;, &#39;ready&#39;, &#39;ready&#39;, &#39;ready&#39;, &#39;ready&#39;, &#39;ready&#39;, &#39;ready&#39;, &#39;ready&#39;, &#39;ready&#39;, &#39;ready&#39;), 0, &#39;pick_buy_design&#39;)&#45;&gt;((&#39;ready&#39;, &#39;ready&#39;, &#39;ready&#39;, &#39;ready&#39;, &#39;ready&#39;, &#39;ready&#39;, &#39;ready&#39;, &#39;ready&#39;, &#39;ready&#39;, &#39;ready&#39;, &#39;ready&#39;, &#39;ready&#39;, &#39;ready&#39;, &#39;ready&#39;, &#39;ready&#39;, &#39;ready&#39;, &#39;ready&#39;, &#39;ready&#39;, &#39;ready&#39;, &#39;ready&#39;, &#39;ready&#39;, &#39;ready&#39;, &#39;ready&#39;, &#39;ready&#39;, &#39;ready&#39;, &#39;ready&#39;, &#39;ready&#39;, &#39;ready&#39;), 2, &#39;pick_silicon&#39;) -->\n<g id=\"edge4\" class=\"edge\">\n<title>(('ready', 'ready', 'ready', 'ready', 'ready', 'ready', 'ready', 'ready', 'ready', 'ready', 'ready', 'ready', 'ready', 'ready', 'ready', 'ready', 'ready', 'ready', 'ready', 'ready', 'ready', 'ready', 'ready', 'ready', 'ready', 'ready', 'ready', 'ready'), 0, 'pick_buy_design')-&gt;(('ready', 'ready', 'ready', 'ready', 'ready', 'ready', 'ready', 'ready', 'ready', 'ready', 'ready', 'ready', 'ready', 'ready', 'ready', 'ready', 'ready', 'ready', 'ready', 'ready', 'ready', 'ready', 'ready', 'ready', 'ready', 'ready', 'ready', 'ready'), 2, 'pick_silicon')</title>\n<path fill=\"none\" stroke=\"black\" d=\"M1111.83,-189.06C1256.03,-204.8 1471.73,-227.12 1660,-241.59 1770.76,-250.1 1890.74,-257.45 2001.9,-263.48\"/>\n<polygon fill=\"black\" stroke=\"black\" points=\"2001.63,-266.97 2011.81,-264.01 2002.01,-259.98 2001.63,-266.97\"/>\n<text text-anchor=\"middle\" x=\"1690.5\" y=\"-248.39\" font-family=\"Times New Roman,serif\" font-size=\"14.00\">1,-6.8,1.0</text>\n</g>\n<!-- ((&#39;ready&#39;, &#39;ready&#39;, &#39;ready&#39;, &#39;ready&#39;, &#39;ready&#39;, &#39;ready&#39;, &#39;ready&#39;, &#39;ready&#39;, &#39;ready&#39;, &#39;ready&#39;, &#39;ready&#39;, &#39;ready&#39;, &#39;ready&#39;, &#39;ready&#39;, &#39;ready&#39;, &#39;ready&#39;, &#39;ready&#39;, &#39;ready&#39;, &#39;ready&#39;, &#39;ready&#39;, &#39;ready&#39;, &#39;ready&#39;, &#39;ready&#39;, &#39;ready&#39;, &#39;ready&#39;, &#39;ready&#39;, &#39;ready&#39;, &#39;ready&#39;), 0, &#39;pick_buy_design&#39;)&#45;&gt;((&#39;ready&#39;, &#39;ready&#39;, &#39;ready&#39;, &#39;ready&#39;, &#39;ready&#39;, &#39;ready&#39;, &#39;ready&#39;, &#39;ready&#39;, &#39;ready&#39;, &#39;ready&#39;, &#39;ready&#39;, &#39;ready&#39;, &#39;ready&#39;, &#39;ready&#39;, &#39;ready&#39;, &#39;ready&#39;, &#39;ready&#39;, &#39;ready&#39;, &#39;ready&#39;, &#39;ready&#39;, &#39;ready&#39;, &#39;ready&#39;, &#39;ready&#39;, &#39;ready&#39;, &#39;ready&#39;, &#39;ready&#39;, &#39;ready&#39;, &#39;ready&#39;), 2, &#39;pick_silicon&#39;) -->\n<g id=\"edge5\" class=\"edge\">\n<title>(('ready', 'ready', 'ready', 'ready', 'ready', 'ready', 'ready', 'ready', 'ready', 'ready', 'ready', 'ready', 'ready', 'ready', 'ready', 'ready', 'ready', 'ready', 'ready', 'ready', 'ready', 'ready', 'ready', 'ready', 'ready', 'ready', 'ready', 'ready'), 0, 'pick_buy_design')-&gt;(('ready', 'ready', 'ready', 'ready', 'ready', 'ready', 'ready', 'ready', 'ready', 'ready', 'ready', 'ready', 'ready', 'ready', 'ready', 'ready', 'ready', 'ready', 'ready', 'ready', 'ready', 'ready', 'ready', 'ready', 'ready', 'ready', 'ready', 'ready'), 2, 'pick_silicon')</title>\n<path fill=\"none\" stroke=\"black\" d=\"M1242.2,-189.08C1386.53,-198.49 1562.92,-210.47 1721,-222.59 1883.09,-235.01 2066.21,-250.83 2204.13,-263.11\"/>\n<polygon fill=\"black\" stroke=\"black\" points=\"2203.46,-266.56 2213.73,-263.96 2204.08,-259.59 2203.46,-266.56\"/>\n<text text-anchor=\"middle\" x=\"1690.5\" y=\"-226.39\" font-family=\"Times New Roman,serif\" font-size=\"14.00\">2,-11.7,1.0</text>\n</g>\n<!-- ((&#39;ready&#39;, &#39;ready&#39;, &#39;ready&#39;, &#39;ready&#39;, &#39;ready&#39;, &#39;ready&#39;, &#39;ready&#39;, &#39;ready&#39;, &#39;ready&#39;, &#39;ready&#39;, &#39;ready&#39;, &#39;ready&#39;, &#39;ready&#39;, &#39;ready&#39;, &#39;ready&#39;, &#39;ready&#39;, &#39;ready&#39;, &#39;ready&#39;, &#39;ready&#39;, &#39;ready&#39;, &#39;ready&#39;, &#39;ready&#39;, &#39;ready&#39;, &#39;ready&#39;, &#39;ready&#39;, &#39;ready&#39;, &#39;ready&#39;, &#39;ready&#39;), 0, &#39;pick_buy_design&#39;)&#45;&gt;((&#39;ready&#39;, &#39;ready&#39;, &#39;ready&#39;, &#39;ready&#39;, &#39;ready&#39;, &#39;ready&#39;, &#39;ready&#39;, &#39;ready&#39;, &#39;ready&#39;, &#39;ready&#39;, &#39;ready&#39;, &#39;ready&#39;, &#39;ready&#39;, &#39;ready&#39;, &#39;ready&#39;, &#39;ready&#39;, &#39;ready&#39;, &#39;ready&#39;, &#39;ready&#39;, &#39;ready&#39;, &#39;ready&#39;, &#39;ready&#39;, &#39;ready&#39;, &#39;ready&#39;, &#39;ready&#39;, &#39;ready&#39;, &#39;ready&#39;, &#39;ready&#39;), 2, &#39;pick_silicon&#39;) -->\n<g id=\"edge6\" class=\"edge\">\n<title>(('ready', 'ready', 'ready', 'ready', 'ready', 'ready', 'ready', 'ready', 'ready', 'ready', 'ready', 'ready', 'ready', 'ready', 'ready', 'ready', 'ready', 'ready', 'ready', 'ready', 'ready', 'ready', 'ready', 'ready', 'ready', 'ready', 'ready', 'ready'), 0, 'pick_buy_design')-&gt;(('ready', 'ready', 'ready', 'ready', 'ready', 'ready', 'ready', 'ready', 'ready', 'ready', 'ready', 'ready', 'ready', 'ready', 'ready', 'ready', 'ready', 'ready', 'ready', 'ready', 'ready', 'ready', 'ready', 'ready', 'ready', 'ready', 'ready', 'ready'), 2, 'pick_silicon')</title>\n<path fill=\"none\" stroke=\"black\" d=\"M1561.92,-189.08C1615.75,-192.08 1669.37,-195.55 1721,-199.59 1914.98,-214.74 2138.11,-243.25 2278.69,-262.57\"/>\n<polygon fill=\"black\" stroke=\"black\" points=\"2278.05,-266.02 2288.43,-263.92 2279.01,-259.08 2278.05,-266.02\"/>\n<text text-anchor=\"middle\" x=\"1690.5\" y=\"-203.39\" font-family=\"Times New Roman,serif\" font-size=\"14.00\">3,-12.2,1.0</text>\n</g>\n<!-- ((&#39;ready&#39;, &#39;ready&#39;, &#39;ready&#39;, &#39;ready&#39;, &#39;ready&#39;, &#39;ready&#39;, &#39;ready&#39;, &#39;ready&#39;, &#39;ready&#39;, &#39;ready&#39;, &#39;ready&#39;, &#39;ready&#39;, &#39;ready&#39;, &#39;ready&#39;, &#39;ready&#39;, &#39;ready&#39;, &#39;ready&#39;, &#39;ready&#39;, &#39;ready&#39;, &#39;ready&#39;, &#39;ready&#39;, &#39;ready&#39;, &#39;ready&#39;, &#39;ready&#39;, &#39;ready&#39;, &#39;ready&#39;, &#39;ready&#39;, &#39;ready&#39;), 5, &#39;pick_phosphor&#39;)&#45;&gt;((&#39;ready&#39;, &#39;ready&#39;, &#39;ready&#39;, &#39;ready&#39;, &#39;ready&#39;, &#39;ready&#39;, &#39;ready&#39;, &#39;ready&#39;, &#39;ready&#39;, &#39;ready&#39;, &#39;ready&#39;, &#39;ready&#39;, &#39;ready&#39;, &#39;ready&#39;, &#39;ready&#39;, &#39;ready&#39;, &#39;ready&#39;, &#39;ready&#39;, &#39;ready&#39;, &#39;ready&#39;, &#39;ready&#39;, &#39;ready&#39;, &#39;ready&#39;, &#39;ready&#39;, &#39;ready&#39;, &#39;ready&#39;, &#39;ready&#39;, &#39;ready&#39;), 0, &#39;pick_buy_design&#39;) -->\n<g id=\"edge27\" class=\"edge\">\n<title>(('ready', 'ready', 'ready', 'ready', 'ready', 'ready', 'ready', 'ready', 'ready', 'ready', 'ready', 'ready', 'ready', 'ready', 'ready', 'ready', 'ready', 'ready', 'ready', 'ready', 'ready', 'ready', 'ready', 'ready', 'ready', 'ready', 'ready', 'ready'), 5, 'pick_phosphor')-&gt;(('ready', 'ready', 'ready', 'ready', 'ready', 'ready', 'ready', 'ready', 'ready', 'ready', 'ready', 'ready', 'ready', 'ready', 'ready', 'ready', 'ready', 'ready', 'ready', 'ready', 'ready', 'ready', 'ready', 'ready', 'ready', 'ready', 'ready', 'ready'), 0, 'pick_buy_design')</title>\n<path fill=\"none\" stroke=\"black\" d=\"M6675.81,-245.1C6408.92,-214 5835.46,-154.59 5349.5,-154.59 2418.5,-154.59 2418.5,-154.59 2418.5,-154.59 2169.1,-154.59 1895.92,-156.92 1653.42,-159.8\"/>\n<polygon fill=\"black\" stroke=\"black\" points=\"1653.73,-156.29 1643.77,-159.91 1653.81,-163.29 1653.73,-156.29\"/>\n<text text-anchor=\"middle\" x=\"3888\" y=\"-158.39\" font-family=\"Times New Roman,serif\" font-size=\"14.00\">24,0.0,1.0</text>\n</g>\n<!-- ((&#39;ready&#39;, &#39;ready&#39;, &#39;ready&#39;, &#39;ready&#39;, &#39;ready&#39;, &#39;ready&#39;, &#39;ready&#39;, &#39;ready&#39;, &#39;ready&#39;, &#39;ready&#39;, &#39;ready&#39;, &#39;ready&#39;, &#39;ready&#39;, &#39;ready&#39;, &#39;ready&#39;, &#39;ready&#39;, &#39;ready&#39;, &#39;ready&#39;, &#39;ready&#39;, &#39;ready&#39;, &#39;ready&#39;, &#39;ready&#39;, &#39;ready&#39;, &#39;ready&#39;, &#39;ready&#39;, &#39;ready&#39;, &#39;ready&#39;, &#39;ready&#39;), 5, &#39;pick_phosphor&#39;)&#45;&gt;((&#39;ready&#39;, &#39;ready&#39;, &#39;ready&#39;, &#39;ready&#39;, &#39;ready&#39;, &#39;ready&#39;, &#39;ready&#39;, &#39;ready&#39;, &#39;ready&#39;, &#39;ready&#39;, &#39;ready&#39;, &#39;ready&#39;, &#39;ready&#39;, &#39;ready&#39;, &#39;ready&#39;, &#39;ready&#39;, &#39;ready&#39;, &#39;ready&#39;, &#39;ready&#39;, &#39;ready&#39;, &#39;ready&#39;, &#39;ready&#39;, &#39;ready&#39;, &#39;ready&#39;, &#39;ready&#39;, &#39;ready&#39;, &#39;ready&#39;, &#39;ready&#39;), 0, &#39;pick_buy_design&#39;) -->\n<g id=\"edge28\" class=\"edge\">\n<title>(('ready', 'ready', 'ready', 'ready', 'ready', 'ready', 'ready', 'ready', 'ready', 'ready', 'ready', 'ready', 'ready', 'ready', 'ready', 'ready', 'ready', 'ready', 'ready', 'ready', 'ready', 'ready', 'ready', 'ready', 'ready', 'ready', 'ready', 'ready'), 5, 'pick_phosphor')-&gt;(('ready', 'ready', 'ready', 'ready', 'ready', 'ready', 'ready', 'ready', 'ready', 'ready', 'ready', 'ready', 'ready', 'ready', 'ready', 'ready', 'ready', 'ready', 'ready', 'ready', 'ready', 'ready', 'ready', 'ready', 'ready', 'ready', 'ready', 'ready'), 0, 'pick_buy_design')</title>\n<path fill=\"none\" stroke=\"black\" d=\"M6727.32,-245.09C6576.75,-217.75 6281.21,-166.93 6028,-140.59 5727.62,-109.34 5651.5,-103.59 5349.5,-103.59 2418.5,-103.59 2418.5,-103.59 2418.5,-103.59 1995.87,-103.59 1505.63,-131.55 1211.49,-151.34\"/>\n<polygon fill=\"black\" stroke=\"black\" points=\"1211.49,-147.83 1201.75,-152 1211.96,-154.82 1211.49,-147.83\"/>\n<text text-anchor=\"middle\" x=\"3888\" y=\"-107.39\" font-family=\"Times New Roman,serif\" font-size=\"14.00\">25,-10.7,1.0</text>\n</g>\n<!-- ((&#39;ready&#39;, &#39;ready&#39;, &#39;ready&#39;, &#39;ready&#39;, &#39;ready&#39;, &#39;ready&#39;, &#39;ready&#39;, &#39;ready&#39;, &#39;ready&#39;, &#39;ready&#39;, &#39;ready&#39;, &#39;ready&#39;, &#39;ready&#39;, &#39;ready&#39;, &#39;ready&#39;, &#39;ready&#39;, &#39;ready&#39;, &#39;ready&#39;, &#39;ready&#39;, &#39;ready&#39;, &#39;ready&#39;, &#39;ready&#39;, &#39;ready&#39;, &#39;ready&#39;, &#39;ready&#39;, &#39;ready&#39;, &#39;ready&#39;, &#39;ready&#39;), 5, &#39;pick_phosphor&#39;)&#45;&gt;((&#39;ready&#39;, &#39;ready&#39;, &#39;ready&#39;, &#39;ready&#39;, &#39;ready&#39;, &#39;ready&#39;, &#39;ready&#39;, &#39;ready&#39;, &#39;ready&#39;, &#39;ready&#39;, &#39;ready&#39;, &#39;ready&#39;, &#39;ready&#39;, &#39;ready&#39;, &#39;ready&#39;, &#39;ready&#39;, &#39;ready&#39;, &#39;ready&#39;, &#39;ready&#39;, &#39;ready&#39;, &#39;ready&#39;, &#39;ready&#39;, &#39;ready&#39;, &#39;ready&#39;, &#39;ready&#39;, &#39;ready&#39;, &#39;ready&#39;, &#39;ready&#39;), 0, &#39;pick_buy_design&#39;) -->\n<g id=\"edge29\" class=\"edge\">\n<title>(('ready', 'ready', 'ready', 'ready', 'ready', 'ready', 'ready', 'ready', 'ready', 'ready', 'ready', 'ready', 'ready', 'ready', 'ready', 'ready', 'ready', 'ready', 'ready', 'ready', 'ready', 'ready', 'ready', 'ready', 'ready', 'ready', 'ready', 'ready'), 5, 'pick_phosphor')-&gt;(('ready', 'ready', 'ready', 'ready', 'ready', 'ready', 'ready', 'ready', 'ready', 'ready', 'ready', 'ready', 'ready', 'ready', 'ready', 'ready', 'ready', 'ready', 'ready', 'ready', 'ready', 'ready', 'ready', 'ready', 'ready', 'ready', 'ready', 'ready'), 0, 'pick_buy_design')</title>\n<path fill=\"none\" stroke=\"black\" d=\"M6759.32,-245.12C6622.78,-208.44 6302.52,-126.74 6028,-89.59 5728.72,-49.08 5651.5,-52.59 5349.5,-52.59 2418.5,-52.59 2418.5,-52.59 2418.5,-52.59 1933.88,-52.59 1362.29,-117.05 1097.06,-150.69\"/>\n<polygon fill=\"black\" stroke=\"black\" points=\"1096.8,-147.19 1087.32,-151.93 1097.68,-154.14 1096.8,-147.19\"/>\n<text text-anchor=\"middle\" x=\"3888\" y=\"-56.39\" font-family=\"Times New Roman,serif\" font-size=\"14.00\">26,-6.9,1.0</text>\n</g>\n<!-- ((&#39;ready&#39;, &#39;ready&#39;, &#39;ready&#39;, &#39;ready&#39;, &#39;ready&#39;, &#39;ready&#39;, &#39;ready&#39;, &#39;ready&#39;, &#39;ready&#39;, &#39;ready&#39;, &#39;ready&#39;, &#39;ready&#39;, &#39;ready&#39;, &#39;ready&#39;, &#39;ready&#39;, &#39;ready&#39;, &#39;ready&#39;, &#39;ready&#39;, &#39;ready&#39;, &#39;ready&#39;, &#39;ready&#39;, &#39;ready&#39;, &#39;ready&#39;, &#39;ready&#39;, &#39;ready&#39;, &#39;ready&#39;, &#39;ready&#39;, &#39;ready&#39;), 5, &#39;pick_phosphor&#39;)&#45;&gt;((&#39;ready&#39;, &#39;ready&#39;, &#39;ready&#39;, &#39;ready&#39;, &#39;ready&#39;, &#39;ready&#39;, &#39;ready&#39;, &#39;ready&#39;, &#39;ready&#39;, &#39;ready&#39;, &#39;ready&#39;, &#39;ready&#39;, &#39;ready&#39;, &#39;ready&#39;, &#39;ready&#39;, &#39;ready&#39;, &#39;ready&#39;, &#39;ready&#39;, &#39;ready&#39;, &#39;ready&#39;, &#39;ready&#39;, &#39;ready&#39;, &#39;ready&#39;, &#39;ready&#39;, &#39;ready&#39;, &#39;ready&#39;, &#39;ready&#39;, &#39;ready&#39;), 0, &#39;pick_buy_design&#39;) -->\n<g id=\"edge30\" class=\"edge\">\n<title>(('ready', 'ready', 'ready', 'ready', 'ready', 'ready', 'ready', 'ready', 'ready', 'ready', 'ready', 'ready', 'ready', 'ready', 'ready', 'ready', 'ready', 'ready', 'ready', 'ready', 'ready', 'ready', 'ready', 'ready', 'ready', 'ready', 'ready', 'ready'), 5, 'pick_phosphor')-&gt;(('ready', 'ready', 'ready', 'ready', 'ready', 'ready', 'ready', 'ready', 'ready', 'ready', 'ready', 'ready', 'ready', 'ready', 'ready', 'ready', 'ready', 'ready', 'ready', 'ready', 'ready', 'ready', 'ready', 'ready', 'ready', 'ready', 'ready', 'ready'), 0, 'pick_buy_design')</title>\n<path fill=\"none\" stroke=\"black\" d=\"M6776.01,-245.14C6651.16,-200.46 6317.13,-86.6 6028,-38.59 5730.08,10.89 5651.5,-1.59 5349.5,-1.59 2418.5,-1.59 2418.5,-1.59 2418.5,-1.59 1904.04,-1.59 1294.92,-104.94 1053.82,-150\"/>\n<polygon fill=\"black\" stroke=\"black\" points=\"1053.29,-146.54 1044.1,-151.82 1054.58,-153.42 1053.29,-146.54\"/>\n<text text-anchor=\"middle\" x=\"3888\" y=\"-5.39\" font-family=\"Times New Roman,serif\" font-size=\"14.00\">27,-1.0,1.0</text>\n</g>\n<!-- ((&#39;ready&#39;, &#39;ready&#39;, &#39;ready&#39;, &#39;ready&#39;, &#39;ready&#39;, &#39;ready&#39;, &#39;ready&#39;, &#39;ready&#39;, &#39;ready&#39;, &#39;ready&#39;, &#39;ready&#39;, &#39;ready&#39;, &#39;ready&#39;, &#39;ready&#39;, &#39;ready&#39;, &#39;ready&#39;, &#39;ready&#39;, &#39;ready&#39;, &#39;ready&#39;, &#39;ready&#39;, &#39;ready&#39;, &#39;ready&#39;, &#39;ready&#39;, &#39;ready&#39;, &#39;ready&#39;, &#39;ready&#39;, &#39;ready&#39;, &#39;ready&#39;), 3, &#39;pick_wafer&#39;) -->\n<g id=\"node6\" class=\"node\">\n<title>(('ready', 'ready', 'ready', 'ready', 'ready', 'ready', 'ready', 'ready', 'ready', 'ready', 'ready', 'ready', 'ready', 'ready', 'ready', 'ready', 'ready', 'ready', 'ready', 'ready', 'ready', 'ready', 'ready', 'ready', 'ready', 'ready', 'ready', 'ready'), 3, 'pick_wafer')</title>\n<polygon fill=\"none\" stroke=\"black\" points=\"4566,-357.59 3210,-357.59 3210,-321.59 4566,-321.59 4566,-357.59\"/>\n<text text-anchor=\"middle\" x=\"3888\" y=\"-335.89\" font-family=\"Times New Roman,serif\" font-size=\"14.00\">(('ready', 'ready', 'ready', 'ready', 'ready', 'ready', 'ready', 'ready', 'ready', 'ready', 'ready', 'ready', 'ready', 'ready', 'ready', 'ready', 'ready', 'ready', 'ready', 'ready', 'ready', 'ready', 'ready', 'ready', 'ready', 'ready', 'ready', 'ready'), 3, 'pick_wafer')</text>\n</g>\n<!-- ((&#39;ready&#39;, &#39;ready&#39;, &#39;ready&#39;, &#39;ready&#39;, &#39;ready&#39;, &#39;ready&#39;, &#39;ready&#39;, &#39;ready&#39;, &#39;ready&#39;, &#39;ready&#39;, &#39;ready&#39;, &#39;ready&#39;, &#39;ready&#39;, &#39;ready&#39;, &#39;ready&#39;, &#39;ready&#39;, &#39;ready&#39;, &#39;ready&#39;, &#39;ready&#39;, &#39;ready&#39;, &#39;ready&#39;, &#39;ready&#39;, &#39;ready&#39;, &#39;ready&#39;, &#39;ready&#39;, &#39;ready&#39;, &#39;ready&#39;, &#39;ready&#39;), 3, &#39;pick_wafer&#39;)&#45;&gt;((&#39;ready&#39;, &#39;ready&#39;, &#39;ready&#39;, &#39;ready&#39;, &#39;ready&#39;, &#39;ready&#39;, &#39;ready&#39;, &#39;ready&#39;, &#39;ready&#39;, &#39;ready&#39;, &#39;ready&#39;, &#39;ready&#39;, &#39;ready&#39;, &#39;ready&#39;, &#39;ready&#39;, &#39;ready&#39;, &#39;ready&#39;, &#39;ready&#39;, &#39;ready&#39;, &#39;ready&#39;, &#39;ready&#39;, &#39;ready&#39;, &#39;ready&#39;, &#39;ready&#39;, &#39;ready&#39;, &#39;ready&#39;, &#39;ready&#39;, &#39;ready&#39;), 4, &#39;pick_boron&#39;) -->\n<g id=\"edge15\" class=\"edge\">\n<title>(('ready', 'ready', 'ready', 'ready', 'ready', 'ready', 'ready', 'ready', 'ready', 'ready', 'ready', 'ready', 'ready', 'ready', 'ready', 'ready', 'ready', 'ready', 'ready', 'ready', 'ready', 'ready', 'ready', 'ready', 'ready', 'ready', 'ready', 'ready'), 3, 'pick_wafer')-&gt;(('ready', 'ready', 'ready', 'ready', 'ready', 'ready', 'ready', 'ready', 'ready', 'ready', 'ready', 'ready', 'ready', 'ready', 'ready', 'ready', 'ready', 'ready', 'ready', 'ready', 'ready', 'ready', 'ready', 'ready', 'ready', 'ready', 'ready', 'ready'), 4, 'pick_boron')</title>\n<path fill=\"none\" stroke=\"black\" d=\"M4566.27,-355.37C4572.21,-355.45 4578.12,-355.52 4584,-355.59 4608.07,-355.86 4632.57,-356.02 4657.31,-356.07\"/>\n<polygon fill=\"black\" stroke=\"black\" points=\"4657.18,-359.57 4667.18,-356.09 4657.19,-352.57 4657.18,-359.57\"/>\n<text text-anchor=\"middle\" x=\"4617.5\" y=\"-359.39\" font-family=\"Times New Roman,serif\" font-size=\"14.00\">12,-1.0,1.0</text>\n</g>\n<!-- ((&#39;ready&#39;, &#39;ready&#39;, &#39;ready&#39;, &#39;ready&#39;, &#39;ready&#39;, &#39;ready&#39;, &#39;ready&#39;, &#39;ready&#39;, &#39;ready&#39;, &#39;ready&#39;, &#39;ready&#39;, &#39;ready&#39;, &#39;ready&#39;, &#39;ready&#39;, &#39;ready&#39;, &#39;ready&#39;, &#39;ready&#39;, &#39;ready&#39;, &#39;ready&#39;, &#39;ready&#39;, &#39;ready&#39;, &#39;ready&#39;, &#39;ready&#39;, &#39;ready&#39;, &#39;ready&#39;, &#39;ready&#39;, &#39;ready&#39;, &#39;ready&#39;), 3, &#39;pick_wafer&#39;)&#45;&gt;((&#39;ready&#39;, &#39;ready&#39;, &#39;ready&#39;, &#39;ready&#39;, &#39;ready&#39;, &#39;ready&#39;, &#39;ready&#39;, &#39;ready&#39;, &#39;ready&#39;, &#39;ready&#39;, &#39;ready&#39;, &#39;ready&#39;, &#39;ready&#39;, &#39;ready&#39;, &#39;ready&#39;, &#39;ready&#39;, &#39;ready&#39;, &#39;ready&#39;, &#39;ready&#39;, &#39;ready&#39;, &#39;ready&#39;, &#39;ready&#39;, &#39;ready&#39;, &#39;ready&#39;, &#39;ready&#39;, &#39;ready&#39;, &#39;ready&#39;, &#39;ready&#39;), 4, &#39;pick_boron&#39;) -->\n<g id=\"edge16\" class=\"edge\">\n<title>(('ready', 'ready', 'ready', 'ready', 'ready', 'ready', 'ready', 'ready', 'ready', 'ready', 'ready', 'ready', 'ready', 'ready', 'ready', 'ready', 'ready', 'ready', 'ready', 'ready', 'ready', 'ready', 'ready', 'ready', 'ready', 'ready', 'ready', 'ready'), 3, 'pick_wafer')-&gt;(('ready', 'ready', 'ready', 'ready', 'ready', 'ready', 'ready', 'ready', 'ready', 'ready', 'ready', 'ready', 'ready', 'ready', 'ready', 'ready', 'ready', 'ready', 'ready', 'ready', 'ready', 'ready', 'ready', 'ready', 'ready', 'ready', 'ready', 'ready'), 4, 'pick_boron')</title>\n<path fill=\"none\" stroke=\"black\" d=\"M4566.27,-336.63C4572.21,-336.61 4578.12,-336.6 4584,-336.59 4608.07,-336.53 4632.56,-336.5 4657.3,-336.49\"/>\n<polygon fill=\"black\" stroke=\"black\" points=\"4657.17,-339.99 4667.17,-336.49 4657.17,-332.99 4657.17,-339.99\"/>\n<text text-anchor=\"middle\" x=\"4617.5\" y=\"-340.39\" font-family=\"Times New Roman,serif\" font-size=\"14.00\">13,-10.1,1.0</text>\n</g>\n<!-- ((&#39;ready&#39;, &#39;ready&#39;, &#39;ready&#39;, &#39;ready&#39;, &#39;ready&#39;, &#39;ready&#39;, &#39;ready&#39;, &#39;ready&#39;, &#39;ready&#39;, &#39;ready&#39;, &#39;ready&#39;, &#39;ready&#39;, &#39;ready&#39;, &#39;ready&#39;, &#39;ready&#39;, &#39;ready&#39;, &#39;ready&#39;, &#39;ready&#39;, &#39;ready&#39;, &#39;ready&#39;, &#39;ready&#39;, &#39;ready&#39;, &#39;ready&#39;, &#39;ready&#39;, &#39;ready&#39;, &#39;ready&#39;, &#39;ready&#39;, &#39;ready&#39;), 3, &#39;pick_wafer&#39;)&#45;&gt;((&#39;ready&#39;, &#39;ready&#39;, &#39;ready&#39;, &#39;ready&#39;, &#39;ready&#39;, &#39;ready&#39;, &#39;ready&#39;, &#39;ready&#39;, &#39;ready&#39;, &#39;ready&#39;, &#39;ready&#39;, &#39;ready&#39;, &#39;ready&#39;, &#39;ready&#39;, &#39;ready&#39;, &#39;ready&#39;, &#39;ready&#39;, &#39;ready&#39;, &#39;ready&#39;, &#39;ready&#39;, &#39;ready&#39;, &#39;ready&#39;, &#39;ready&#39;, &#39;ready&#39;, &#39;ready&#39;, &#39;ready&#39;, &#39;ready&#39;, &#39;ready&#39;), 4, &#39;pick_boron&#39;) -->\n<g id=\"edge17\" class=\"edge\">\n<title>(('ready', 'ready', 'ready', 'ready', 'ready', 'ready', 'ready', 'ready', 'ready', 'ready', 'ready', 'ready', 'ready', 'ready', 'ready', 'ready', 'ready', 'ready', 'ready', 'ready', 'ready', 'ready', 'ready', 'ready', 'ready', 'ready', 'ready', 'ready'), 3, 'pick_wafer')-&gt;(('ready', 'ready', 'ready', 'ready', 'ready', 'ready', 'ready', 'ready', 'ready', 'ready', 'ready', 'ready', 'ready', 'ready', 'ready', 'ready', 'ready', 'ready', 'ready', 'ready', 'ready', 'ready', 'ready', 'ready', 'ready', 'ready', 'ready', 'ready'), 4, 'pick_boron')</title>\n<path fill=\"none\" stroke=\"black\" d=\"M4387.69,-321.09C4453.7,-319.23 4520.48,-317.64 4584,-316.59 4704.26,-314.6 4835.15,-316.9 4954.03,-320.71\"/>\n<polygon fill=\"black\" stroke=\"black\" points=\"4953.87,-324.21 4963.98,-321.04 4954.1,-317.21 4953.87,-324.21\"/>\n<text text-anchor=\"middle\" x=\"4617.5\" y=\"-320.39\" font-family=\"Times New Roman,serif\" font-size=\"14.00\">14,-10.7,1.0</text>\n</g>\n<!-- ((&#39;ready&#39;, &#39;ready&#39;, &#39;ready&#39;, &#39;ready&#39;, &#39;ready&#39;, &#39;ready&#39;, &#39;ready&#39;, &#39;ready&#39;, &#39;ready&#39;, &#39;ready&#39;, &#39;ready&#39;, &#39;ready&#39;, &#39;ready&#39;, &#39;ready&#39;, &#39;ready&#39;, &#39;ready&#39;, &#39;ready&#39;, &#39;ready&#39;, &#39;ready&#39;, &#39;ready&#39;, &#39;ready&#39;, &#39;ready&#39;, &#39;ready&#39;, &#39;ready&#39;, &#39;ready&#39;, &#39;ready&#39;, &#39;ready&#39;, &#39;ready&#39;), 2, &#39;pick_silicon&#39;)&#45;&gt;((&#39;ready&#39;, &#39;ready&#39;, &#39;ready&#39;, &#39;ready&#39;, &#39;ready&#39;, &#39;ready&#39;, &#39;ready&#39;, &#39;ready&#39;, &#39;ready&#39;, &#39;ready&#39;, &#39;ready&#39;, &#39;ready&#39;, &#39;ready&#39;, &#39;ready&#39;, &#39;ready&#39;, &#39;ready&#39;, &#39;ready&#39;, &#39;ready&#39;, &#39;ready&#39;, &#39;ready&#39;, &#39;ready&#39;, &#39;ready&#39;, &#39;ready&#39;, &#39;ready&#39;, &#39;ready&#39;, &#39;ready&#39;, &#39;ready&#39;, &#39;ready&#39;), 3, &#39;pick_wafer&#39;) -->\n<g id=\"edge7\" class=\"edge\">\n<title>(('ready', 'ready', 'ready', 'ready', 'ready', 'ready', 'ready', 'ready', 'ready', 'ready', 'ready', 'ready', 'ready', 'ready', 'ready', 'ready', 'ready', 'ready', 'ready', 'ready', 'ready', 'ready', 'ready', 'ready', 'ready', 'ready', 'ready', 'ready'), 2, 'pick_silicon')-&gt;(('ready', 'ready', 'ready', 'ready', 'ready', 'ready', 'ready', 'ready', 'ready', 'ready', 'ready', 'ready', 'ready', 'ready', 'ready', 'ready', 'ready', 'ready', 'ready', 'ready', 'ready', 'ready', 'ready', 'ready', 'ready', 'ready', 'ready', 'ready'), 3, 'pick_wafer')</title>\n<path fill=\"none\" stroke=\"black\" d=\"M2484.68,-301.05C2606.73,-335.1 2881.26,-406.58 3118,-431.59 3370.4,-458.24 3668.69,-395.57 3807.96,-360.81\"/>\n<polygon fill=\"black\" stroke=\"black\" points=\"3808.61,-364.25 3817.45,-358.42 3806.9,-357.47 3808.61,-364.25\"/>\n<text text-anchor=\"middle\" x=\"3155\" y=\"-439.39\" font-family=\"Times New Roman,serif\" font-size=\"14.00\">4,-1.0,1.0</text>\n</g>\n<!-- ((&#39;ready&#39;, &#39;ready&#39;, &#39;ready&#39;, &#39;ready&#39;, &#39;ready&#39;, &#39;ready&#39;, &#39;ready&#39;, &#39;ready&#39;, &#39;ready&#39;, &#39;ready&#39;, &#39;ready&#39;, &#39;ready&#39;, &#39;ready&#39;, &#39;ready&#39;, &#39;ready&#39;, &#39;ready&#39;, &#39;ready&#39;, &#39;ready&#39;, &#39;ready&#39;, &#39;ready&#39;, &#39;ready&#39;, &#39;ready&#39;, &#39;ready&#39;, &#39;ready&#39;, &#39;ready&#39;, &#39;ready&#39;, &#39;ready&#39;, &#39;ready&#39;), 2, &#39;pick_silicon&#39;)&#45;&gt;((&#39;ready&#39;, &#39;ready&#39;, &#39;ready&#39;, &#39;ready&#39;, &#39;ready&#39;, &#39;ready&#39;, &#39;ready&#39;, &#39;ready&#39;, &#39;ready&#39;, &#39;ready&#39;, &#39;ready&#39;, &#39;ready&#39;, &#39;ready&#39;, &#39;ready&#39;, &#39;ready&#39;, &#39;ready&#39;, &#39;ready&#39;, &#39;ready&#39;, &#39;ready&#39;, &#39;ready&#39;, &#39;ready&#39;, &#39;ready&#39;, &#39;ready&#39;, &#39;ready&#39;, &#39;ready&#39;, &#39;ready&#39;, &#39;ready&#39;, &#39;ready&#39;), 3, &#39;pick_wafer&#39;) -->\n<g id=\"edge8\" class=\"edge\">\n<title>(('ready', 'ready', 'ready', 'ready', 'ready', 'ready', 'ready', 'ready', 'ready', 'ready', 'ready', 'ready', 'ready', 'ready', 'ready', 'ready', 'ready', 'ready', 'ready', 'ready', 'ready', 'ready', 'ready', 'ready', 'ready', 'ready', 'ready', 'ready'), 2, 'pick_silicon')-&gt;(('ready', 'ready', 'ready', 'ready', 'ready', 'ready', 'ready', 'ready', 'ready', 'ready', 'ready', 'ready', 'ready', 'ready', 'ready', 'ready', 'ready', 'ready', 'ready', 'ready', 'ready', 'ready', 'ready', 'ready', 'ready', 'ready', 'ready', 'ready'), 3, 'pick_wafer')</title>\n<path fill=\"none\" stroke=\"black\" d=\"M2508.05,-301.08C2639.69,-327.85 2896.75,-376.09 3118,-393.59 3345.3,-411.56 3610.63,-381.7 3762.71,-359.71\"/>\n<polygon fill=\"black\" stroke=\"black\" points=\"3763.03,-363.2 3772.42,-358.29 3762.02,-356.27 3763.03,-363.2\"/>\n<text text-anchor=\"middle\" x=\"3155\" y=\"-400.39\" font-family=\"Times New Roman,serif\" font-size=\"14.00\">5,-11.7,1.0</text>\n</g>\n<!-- ((&#39;ready&#39;, &#39;ready&#39;, &#39;ready&#39;, &#39;ready&#39;, &#39;ready&#39;, &#39;ready&#39;, &#39;ready&#39;, &#39;ready&#39;, &#39;ready&#39;, &#39;ready&#39;, &#39;ready&#39;, &#39;ready&#39;, &#39;ready&#39;, &#39;ready&#39;, &#39;ready&#39;, &#39;ready&#39;, &#39;ready&#39;, &#39;ready&#39;, &#39;ready&#39;, &#39;ready&#39;, &#39;ready&#39;, &#39;ready&#39;, &#39;ready&#39;, &#39;ready&#39;, &#39;ready&#39;, &#39;ready&#39;, &#39;ready&#39;, &#39;ready&#39;), 2, &#39;pick_silicon&#39;)&#45;&gt;((&#39;ready&#39;, &#39;ready&#39;, &#39;ready&#39;, &#39;ready&#39;, &#39;ready&#39;, &#39;ready&#39;, &#39;ready&#39;, &#39;ready&#39;, &#39;ready&#39;, &#39;ready&#39;, &#39;ready&#39;, &#39;ready&#39;, &#39;ready&#39;, &#39;ready&#39;, &#39;ready&#39;, &#39;ready&#39;, &#39;ready&#39;, &#39;ready&#39;, &#39;ready&#39;, &#39;ready&#39;, &#39;ready&#39;, &#39;ready&#39;, &#39;ready&#39;, &#39;ready&#39;, &#39;ready&#39;, &#39;ready&#39;, &#39;ready&#39;, &#39;ready&#39;), 3, &#39;pick_wafer&#39;) -->\n<g id=\"edge9\" class=\"edge\">\n<title>(('ready', 'ready', 'ready', 'ready', 'ready', 'ready', 'ready', 'ready', 'ready', 'ready', 'ready', 'ready', 'ready', 'ready', 'ready', 'ready', 'ready', 'ready', 'ready', 'ready', 'ready', 'ready', 'ready', 'ready', 'ready', 'ready', 'ready', 'ready'), 2, 'pick_silicon')-&gt;(('ready', 'ready', 'ready', 'ready', 'ready', 'ready', 'ready', 'ready', 'ready', 'ready', 'ready', 'ready', 'ready', 'ready', 'ready', 'ready', 'ready', 'ready', 'ready', 'ready', 'ready', 'ready', 'ready', 'ready', 'ready', 'ready', 'ready', 'ready'), 3, 'pick_wafer')</title>\n<path fill=\"none\" stroke=\"black\" d=\"M2556.5,-301.06C2696.83,-319.13 2922.24,-345.37 3118,-355.59 3245.67,-362.25 3385.39,-361.69 3510.31,-358.38\"/>\n<polygon fill=\"black\" stroke=\"black\" points=\"3510.16,-361.89 3520.06,-358.11 3509.97,-354.89 3510.16,-361.89\"/>\n<text text-anchor=\"middle\" x=\"3155\" y=\"-361.39\" font-family=\"Times New Roman,serif\" font-size=\"14.00\">6,-12.12,1.0</text>\n</g>\n<!-- ((&#39;ready&#39;, &#39;ready&#39;, &#39;ready&#39;, &#39;ready&#39;, &#39;ready&#39;, &#39;ready&#39;, &#39;ready&#39;, &#39;ready&#39;, &#39;ready&#39;, &#39;ready&#39;, &#39;ready&#39;, &#39;ready&#39;, &#39;ready&#39;, &#39;ready&#39;, &#39;ready&#39;, &#39;ready&#39;, &#39;ready&#39;, &#39;ready&#39;, &#39;ready&#39;, &#39;ready&#39;, &#39;ready&#39;, &#39;ready&#39;, &#39;ready&#39;, &#39;ready&#39;, &#39;ready&#39;, &#39;ready&#39;, &#39;ready&#39;, &#39;ready&#39;), 2, &#39;pick_silicon&#39;)&#45;&gt;((&#39;ready&#39;, &#39;ready&#39;, &#39;ready&#39;, &#39;ready&#39;, &#39;ready&#39;, &#39;ready&#39;, &#39;ready&#39;, &#39;ready&#39;, &#39;ready&#39;, &#39;ready&#39;, &#39;ready&#39;, &#39;ready&#39;, &#39;ready&#39;, &#39;ready&#39;, &#39;ready&#39;, &#39;ready&#39;, &#39;ready&#39;, &#39;ready&#39;, &#39;ready&#39;, &#39;ready&#39;, &#39;ready&#39;, &#39;ready&#39;, &#39;ready&#39;, &#39;ready&#39;, &#39;ready&#39;, &#39;ready&#39;, &#39;ready&#39;, &#39;ready&#39;), 3, &#39;pick_wafer&#39;) -->\n<g id=\"edge10\" class=\"edge\">\n<title>(('ready', 'ready', 'ready', 'ready', 'ready', 'ready', 'ready', 'ready', 'ready', 'ready', 'ready', 'ready', 'ready', 'ready', 'ready', 'ready', 'ready', 'ready', 'ready', 'ready', 'ready', 'ready', 'ready', 'ready', 'ready', 'ready', 'ready', 'ready'), 2, 'pick_silicon')-&gt;(('ready', 'ready', 'ready', 'ready', 'ready', 'ready', 'ready', 'ready', 'ready', 'ready', 'ready', 'ready', 'ready', 'ready', 'ready', 'ready', 'ready', 'ready', 'ready', 'ready', 'ready', 'ready', 'ready', 'ready', 'ready', 'ready', 'ready', 'ready'), 3, 'pick_wafer')</title>\n<path fill=\"none\" stroke=\"black\" d=\"M2759.68,-301.08C2873.54,-306.89 3001.24,-312.99 3118,-317.59 3144.98,-318.65 3172.49,-319.68 3200.29,-320.68\"/>\n<polygon fill=\"black\" stroke=\"black\" points=\"3200.16,-324.18 3210.28,-321.04 3200.41,-317.18 3200.16,-324.18\"/>\n<text text-anchor=\"middle\" x=\"3155\" y=\"-323.39\" font-family=\"Times New Roman,serif\" font-size=\"14.00\">7,-7.16,1.0</text>\n</g>\n<!-- ((&#39;ready&#39;, &#39;ready&#39;, &#39;ready&#39;, &#39;ready&#39;, &#39;ready&#39;, &#39;ready&#39;, &#39;ready&#39;, &#39;ready&#39;, &#39;ready&#39;, &#39;ready&#39;, &#39;ready&#39;, &#39;ready&#39;, &#39;ready&#39;, &#39;ready&#39;, &#39;ready&#39;, &#39;ready&#39;, &#39;ready&#39;, &#39;ready&#39;, &#39;ready&#39;, &#39;ready&#39;, &#39;ready&#39;, &#39;ready&#39;, &#39;ready&#39;, &#39;ready&#39;, &#39;ready&#39;, &#39;ready&#39;, &#39;ready&#39;, &#39;ready&#39;), 2, &#39;pick_silicon&#39;)&#45;&gt;((&#39;ready&#39;, &#39;ready&#39;, &#39;ready&#39;, &#39;ready&#39;, &#39;ready&#39;, &#39;ready&#39;, &#39;ready&#39;, &#39;ready&#39;, &#39;ready&#39;, &#39;ready&#39;, &#39;ready&#39;, &#39;ready&#39;, &#39;ready&#39;, &#39;ready&#39;, &#39;ready&#39;, &#39;ready&#39;, &#39;ready&#39;, &#39;ready&#39;, &#39;ready&#39;, &#39;ready&#39;, &#39;ready&#39;, &#39;ready&#39;, &#39;ready&#39;, &#39;ready&#39;, &#39;ready&#39;, &#39;ready&#39;, &#39;ready&#39;, &#39;ready&#39;), 3, &#39;pick_wafer&#39;) -->\n<g id=\"edge11\" class=\"edge\">\n<title>(('ready', 'ready', 'ready', 'ready', 'ready', 'ready', 'ready', 'ready', 'ready', 'ready', 'ready', 'ready', 'ready', 'ready', 'ready', 'ready', 'ready', 'ready', 'ready', 'ready', 'ready', 'ready', 'ready', 'ready', 'ready', 'ready', 'ready', 'ready'), 2, 'pick_silicon')-&gt;(('ready', 'ready', 'ready', 'ready', 'ready', 'ready', 'ready', 'ready', 'ready', 'ready', 'ready', 'ready', 'ready', 'ready', 'ready', 'ready', 'ready', 'ready', 'ready', 'ready', 'ready', 'ready', 'ready', 'ready', 'ready', 'ready', 'ready', 'ready'), 3, 'pick_wafer')</title>\n<path fill=\"none\" stroke=\"black\" d=\"M3100.26,-295.25C3131.27,-296.28 3161.96,-297.39 3192,-298.59 3327.26,-303.98 3477.19,-312.5 3603.06,-320.38\"/>\n<polygon fill=\"black\" stroke=\"black\" points=\"3602.68,-323.86 3612.88,-321 3603.12,-316.87 3602.68,-323.86\"/>\n<text text-anchor=\"middle\" x=\"3155\" y=\"-302.39\" font-family=\"Times New Roman,serif\" font-size=\"14.00\">8,-2.0,1.0</text>\n</g>\n<!-- ((&#39;ready&#39;, &#39;ready&#39;, &#39;ready&#39;, &#39;ready&#39;, &#39;ready&#39;, &#39;ready&#39;, &#39;ready&#39;, &#39;ready&#39;, &#39;ready&#39;, &#39;ready&#39;, &#39;ready&#39;, &#39;ready&#39;, &#39;ready&#39;, &#39;ready&#39;, &#39;ready&#39;, &#39;ready&#39;, &#39;ready&#39;, &#39;ready&#39;, &#39;ready&#39;, &#39;ready&#39;, &#39;ready&#39;, &#39;ready&#39;, &#39;ready&#39;, &#39;ready&#39;, &#39;ready&#39;, &#39;ready&#39;, &#39;ready&#39;, &#39;ready&#39;), 2, &#39;pick_silicon&#39;)&#45;&gt;((&#39;ready&#39;, &#39;ready&#39;, &#39;ready&#39;, &#39;ready&#39;, &#39;ready&#39;, &#39;ready&#39;, &#39;ready&#39;, &#39;ready&#39;, &#39;ready&#39;, &#39;ready&#39;, &#39;ready&#39;, &#39;ready&#39;, &#39;ready&#39;, &#39;ready&#39;, &#39;ready&#39;, &#39;ready&#39;, &#39;ready&#39;, &#39;ready&#39;, &#39;ready&#39;, &#39;ready&#39;, &#39;ready&#39;, &#39;ready&#39;, &#39;ready&#39;, &#39;ready&#39;, &#39;ready&#39;, &#39;ready&#39;, &#39;ready&#39;, &#39;ready&#39;), 3, &#39;pick_wafer&#39;) -->\n<g id=\"edge12\" class=\"edge\">\n<title>(('ready', 'ready', 'ready', 'ready', 'ready', 'ready', 'ready', 'ready', 'ready', 'ready', 'ready', 'ready', 'ready', 'ready', 'ready', 'ready', 'ready', 'ready', 'ready', 'ready', 'ready', 'ready', 'ready', 'ready', 'ready', 'ready', 'ready', 'ready'), 2, 'pick_silicon')-&gt;(('ready', 'ready', 'ready', 'ready', 'ready', 'ready', 'ready', 'ready', 'ready', 'ready', 'ready', 'ready', 'ready', 'ready', 'ready', 'ready', 'ready', 'ready', 'ready', 'ready', 'ready', 'ready', 'ready', 'ready', 'ready', 'ready', 'ready', 'ready'), 3, 'pick_wafer')</title>\n<path fill=\"none\" stroke=\"black\" d=\"M3100.29,-273.33C3131.29,-274.15 3161.98,-275.23 3192,-276.59 3371.71,-284.71 3576.75,-304.61 3717.29,-319.88\"/>\n<polygon fill=\"black\" stroke=\"black\" points=\"3716.73,-323.34 3727.06,-320.95 3717.49,-316.38 3716.73,-323.34\"/>\n<text text-anchor=\"middle\" x=\"3155\" y=\"-280.39\" font-family=\"Times New Roman,serif\" font-size=\"14.00\">9,-6.7,1.0</text>\n</g>\n<!-- ((&#39;ready&#39;, &#39;ready&#39;, &#39;ready&#39;, &#39;ready&#39;, &#39;ready&#39;, &#39;ready&#39;, &#39;ready&#39;, &#39;ready&#39;, &#39;ready&#39;, &#39;ready&#39;, &#39;ready&#39;, &#39;ready&#39;, &#39;ready&#39;, &#39;ready&#39;, &#39;ready&#39;, &#39;ready&#39;, &#39;ready&#39;, &#39;ready&#39;, &#39;ready&#39;, &#39;ready&#39;, &#39;ready&#39;, &#39;ready&#39;, &#39;ready&#39;, &#39;ready&#39;, &#39;ready&#39;, &#39;ready&#39;, &#39;ready&#39;, &#39;ready&#39;), 2, &#39;pick_silicon&#39;)&#45;&gt;((&#39;ready&#39;, &#39;ready&#39;, &#39;ready&#39;, &#39;ready&#39;, &#39;ready&#39;, &#39;ready&#39;, &#39;ready&#39;, &#39;ready&#39;, &#39;ready&#39;, &#39;ready&#39;, &#39;ready&#39;, &#39;ready&#39;, &#39;ready&#39;, &#39;ready&#39;, &#39;ready&#39;, &#39;ready&#39;, &#39;ready&#39;, &#39;ready&#39;, &#39;ready&#39;, &#39;ready&#39;, &#39;ready&#39;, &#39;ready&#39;, &#39;ready&#39;, &#39;ready&#39;, &#39;ready&#39;, &#39;ready&#39;, &#39;ready&#39;, &#39;ready&#39;), 3, &#39;pick_wafer&#39;) -->\n<g id=\"edge13\" class=\"edge\">\n<title>(('ready', 'ready', 'ready', 'ready', 'ready', 'ready', 'ready', 'ready', 'ready', 'ready', 'ready', 'ready', 'ready', 'ready', 'ready', 'ready', 'ready', 'ready', 'ready', 'ready', 'ready', 'ready', 'ready', 'ready', 'ready', 'ready', 'ready', 'ready'), 2, 'pick_silicon')-&gt;(('ready', 'ready', 'ready', 'ready', 'ready', 'ready', 'ready', 'ready', 'ready', 'ready', 'ready', 'ready', 'ready', 'ready', 'ready', 'ready', 'ready', 'ready', 'ready', 'ready', 'ready', 'ready', 'ready', 'ready', 'ready', 'ready', 'ready', 'ready'), 3, 'pick_wafer')</title>\n<path fill=\"none\" stroke=\"black\" d=\"M2628.56,-264.11C2783.91,-252.96 3001.36,-242.97 3192,-254.59 3391.5,-266.74 3621.43,-298.35 3760.41,-319.4\"/>\n<polygon fill=\"black\" stroke=\"black\" points=\"3759.59,-322.82 3770,-320.86 3760.64,-315.9 3759.59,-322.82\"/>\n<text text-anchor=\"middle\" x=\"3155\" y=\"-258.39\" font-family=\"Times New Roman,serif\" font-size=\"14.00\">10,-7.6,1.0</text>\n</g>\n<!-- ((&#39;ready&#39;, &#39;ready&#39;, &#39;ready&#39;, &#39;ready&#39;, &#39;ready&#39;, &#39;ready&#39;, &#39;ready&#39;, &#39;ready&#39;, &#39;ready&#39;, &#39;ready&#39;, &#39;ready&#39;, &#39;ready&#39;, &#39;ready&#39;, &#39;ready&#39;, &#39;ready&#39;, &#39;ready&#39;, &#39;ready&#39;, &#39;ready&#39;, &#39;ready&#39;, &#39;ready&#39;, &#39;ready&#39;, &#39;ready&#39;, &#39;ready&#39;, &#39;ready&#39;, &#39;ready&#39;, &#39;ready&#39;, &#39;ready&#39;, &#39;ready&#39;), 2, &#39;pick_silicon&#39;)&#45;&gt;((&#39;ready&#39;, &#39;ready&#39;, &#39;ready&#39;, &#39;ready&#39;, &#39;ready&#39;, &#39;ready&#39;, &#39;ready&#39;, &#39;ready&#39;, &#39;ready&#39;, &#39;ready&#39;, &#39;ready&#39;, &#39;ready&#39;, &#39;ready&#39;, &#39;ready&#39;, &#39;ready&#39;, &#39;ready&#39;, &#39;ready&#39;, &#39;ready&#39;, &#39;ready&#39;, &#39;ready&#39;, &#39;ready&#39;, &#39;ready&#39;, &#39;ready&#39;, &#39;ready&#39;, &#39;ready&#39;, &#39;ready&#39;, &#39;ready&#39;, &#39;ready&#39;), 3, &#39;pick_wafer&#39;) -->\n<g id=\"edge14\" class=\"edge\">\n<title>(('ready', 'ready', 'ready', 'ready', 'ready', 'ready', 'ready', 'ready', 'ready', 'ready', 'ready', 'ready', 'ready', 'ready', 'ready', 'ready', 'ready', 'ready', 'ready', 'ready', 'ready', 'ready', 'ready', 'ready', 'ready', 'ready', 'ready', 'ready'), 2, 'pick_silicon')-&gt;(('ready', 'ready', 'ready', 'ready', 'ready', 'ready', 'ready', 'ready', 'ready', 'ready', 'ready', 'ready', 'ready', 'ready', 'ready', 'ready', 'ready', 'ready', 'ready', 'ready', 'ready', 'ready', 'ready', 'ready', 'ready', 'ready', 'ready', 'ready'), 3, 'pick_wafer')</title>\n<path fill=\"none\" stroke=\"black\" d=\"M2539.84,-264.11C2691.49,-243.07 2961.3,-213.77 3192,-231.59 3405,-248.04 3651.47,-292.45 3786.18,-318.91\"/>\n<polygon fill=\"black\" stroke=\"black\" points=\"3785.3,-322.31 3795.79,-320.81 3786.66,-315.44 3785.3,-322.31\"/>\n<text text-anchor=\"middle\" x=\"3155\" y=\"-235.39\" font-family=\"Times New Roman,serif\" font-size=\"14.00\">11,-14.73,1.0</text>\n</g>\n</g>\n</svg>"
     },
     "metadata": {},
     "output_type": "display_data"
    }
   ],
   "source": [
    "all_services = [\n",
    "    # 0\n",
    "    design_service(DESIGN_SERVICE_NAME_USA, USA_REWARD),\n",
    "    # 1\n",
    "    design_service(DESIGN_SERVICE_NAME_UK, UK_REWARD),\n",
    "    # 2\n",
    "    design_service(DESIGN_SERVICE_NAME_CHINA, CHINA_REWARD),\n",
    "    # 3\n",
    "    design_service(DESIGN_SERVICE_NAME_TAIWAN, TAIWAN_REWARD),\n",
    "    # 4\n",
    "    silicon_warehouse_service(SILICON_WAREHOUSE_SERVICE_NAME, DEFAULT_USA_REWARD),\n",
    "    # 5\n",
    "    silicon_service(SILICON_SERVICE_NAME_CHINA, CHINA_REWARD),\n",
    "    # 6\n",
    "    silicon_service(SILICON_SERVICE_NAME_RUSSIA, RUSSIA_REWARD + WAR_REWARD),\n",
    "    # 7\n",
    "    silicon_service(SILICON_SERVICE_NAME_NORWAY, NORWAY_REWARD),\n",
    "    # 8\n",
    "    silicon_service(SILICON_SERVICE_NAME_USA, USA_REWARD),\n",
    "    # 9\n",
    "    silicon_service(SILICON_SERVICE_NAME_BRAZIL, BRAZIL_REWARD),\n",
    "    # 10\n",
    "    silicon_service(SILICON_SERVICE_NAME_FRANCE, FRANCE_REWARD),\n",
    "    # 11\n",
    "    silicon_service(SILICON_SERVICE_NAME_MALAYSIA, MALAYSIA_REWARD),\n",
    "    # 12\n",
    "    wafer_warehouse_service(WAFER_WAREHOUSE_SERVICE_NAME, DEFAULT_USA_REWARD),\n",
    "    # 13\n",
    "    wafer_service(WAFER_SERVICE_NAME_JAPAN, JAPAN_REWARD),\n",
    "    # 14\n",
    "    wafer_service(WAFER_SERVICE_NAME_SOUTH_KOREA, SOUTH_KOREA),\n",
    "    # 15\n",
    "    boron_warehouse_service(BORON_WAREHOUSE_SERVICE_NAME, DEFAULT_USA_REWARD),\n",
    "    # 16\n",
    "    boron_service(BORON_SERVICE_NAME_CHINA, CHINA_REWARD),\n",
    "    # 17\n",
    "    boron_service(BORON_SERVICE_NAME_USA, USA_REWARD),\n",
    "    # 18\n",
    "    boron_service(BORON_SERVICE_NAME_CHILE, CHILE_REWARD),\n",
    "    # 19\n",
    "    boron_service(BORON_SERVICE_NAME_KAZAKHSTAN, KAZAKHSTAN_REWARD),\n",
    "    # 20\n",
    "    boron_service(BORON_SERVICE_NAME_RUSSIA, RUSSIA_REWARD + WAR_REWARD),\n",
    "    # 21\n",
    "    boron_service(BORON_SERVICE_NAME_ARGENTINA, ARGENTINA_REWARD),\n",
    "    # 22\n",
    "    boron_service(BORON_SERVICE_NAME_BOLIVIA, BOLIVIA_REWARD),\n",
    "    # 23\n",
    "    boron_service(BORON_SERVICE_NAME_TURKEY, TURKEY_REWARD),\n",
    "    # 24\n",
    "    phosphor_warehouse_service(PHOSPHOR_WAREHOUSE_SERVICE_NAME, DEFAULT_USA_REWARD),\n",
    "    # 25\n",
    "    phosphor_service(PHOSPHOR_SERVICE_NAME_CHINA, CHINA_REWARD),\n",
    "    # 26\n",
    "    phosphor_service(PHOSPHOR_SERVICE_NAME_MOROCCO, MOROCCO_REWARD),\n",
    "    # 27\n",
    "    phosphor_service(PHOSPHOR_SERVICE_NAME_USA, USA_REWARD)\n",
    "]\n",
    "trimmed_declare_automaton = declare_automaton.trim()\n",
    "stochastic_target = target_from_dfa(trimmed_declare_automaton)\n",
    "#mdp = comp_mdp(declare_automaton, all_services, gamma=0.9)\n",
    "mdp = composition_mdp(stochastic_target, *all_services, gamma=0.9)\n",
    "render_composition_mdp(mdp)"
   ]
  },
  {
   "cell_type": "markdown",
   "metadata": {},
   "source": [
    "# Optimal policy\n",
    "Calculation of optimal policy:"
   ]
  },
  {
   "cell_type": "code",
   "execution_count": 41,
   "metadata": {},
   "outputs": [],
   "source": [
    "opn = DPAnalytic(mdp, 1e-4)\n",
    "opt_policy = opn.get_optimal_policy_vi()\n",
    "value_function = opn.get_value_func_dict(opt_policy)\n",
    "q_value_function = opn.get_act_value_func_dict(opt_policy)\n"
   ]
  },
  {
   "cell_type": "code",
   "execution_count": 43,
   "metadata": {},
   "outputs": [
    {
     "name": "stdout",
     "output_type": "stream",
     "text": [
      "Policy:\n",
      "State=0,\tAction=initial\n",
      "State=(('ready', 'ready', 'ready', 'ready', 'ready', 'ready', 'ready', 'ready', 'ready', 'ready', 'ready', 'ready', 'ready', 'ready', 'ready', 'ready', 'ready', 'ready', 'ready', 'ready', 'ready', 'ready', 'ready', 'ready', 'ready', 'ready', 'ready', 'ready'), 0, 'pick_buy_design'),\tAction=0\n",
      "State=(('ready', 'ready', 'ready', 'ready', 'ready', 'ready', 'ready', 'ready', 'ready', 'ready', 'ready', 'ready', 'ready', 'ready', 'ready', 'ready', 'ready', 'ready', 'ready', 'ready', 'ready', 'ready', 'ready', 'ready', 'ready', 'ready', 'ready', 'ready'), 2, 'pick_silicon'),\tAction=4\n",
      "State=(('ready', 'ready', 'ready', 'ready', 'ready', 'ready', 'ready', 'ready', 'ready', 'ready', 'ready', 'ready', 'ready', 'ready', 'ready', 'ready', 'ready', 'ready', 'ready', 'ready', 'ready', 'ready', 'ready', 'ready', 'ready', 'ready', 'ready', 'ready'), 3, 'pick_wafer'),\tAction=12\n",
      "State=(('ready', 'ready', 'ready', 'ready', 'ready', 'ready', 'ready', 'ready', 'ready', 'ready', 'ready', 'ready', 'ready', 'ready', 'ready', 'ready', 'ready', 'ready', 'ready', 'ready', 'ready', 'ready', 'ready', 'ready', 'ready', 'ready', 'ready', 'ready'), 4, 'pick_boron'),\tAction=15\n",
      "State=(('ready', 'ready', 'ready', 'ready', 'ready', 'ready', 'ready', 'ready', 'ready', 'ready', 'ready', 'ready', 'ready', 'ready', 'ready', 'ready', 'ready', 'ready', 'ready', 'ready', 'ready', 'ready', 'ready', 'ready', 'ready', 'ready', 'ready', 'ready'), 5, 'pick_phosphor'),\tAction=24\n"
     ]
    }
   ],
   "source": [
    "print_policy_data(opt_policy)"
   ]
  },
  {
   "cell_type": "markdown",
   "metadata": {},
   "source": [
    "# Value Function\n",
    "Calculation of Value Function:"
   ]
  },
  {
   "cell_type": "code",
   "execution_count": 44,
   "metadata": {},
   "outputs": [
    {
     "name": "stdout",
     "output_type": "stream",
     "text": [
      "Value function:\n",
      "State=0,\tvalue=-9.755805719030064\n",
      "State=(('ready', 'ready', 'ready', 'ready', 'ready', 'ready', 'ready', 'ready', 'ready', 'ready', 'ready', 'ready', 'ready', 'ready', 'ready', 'ready', 'ready', 'ready', 'ready', 'ready', 'ready', 'ready', 'ready', 'ready', 'ready', 'ready', 'ready', 'ready'), 4, 'pick_boron'),\tvalue=-9.780225147127059\n",
      "State=(('ready', 'ready', 'ready', 'ready', 'ready', 'ready', 'ready', 'ready', 'ready', 'ready', 'ready', 'ready', 'ready', 'ready', 'ready', 'ready', 'ready', 'ready', 'ready', 'ready', 'ready', 'ready', 'ready', 'ready', 'ready', 'ready', 'ready', 'ready'), 0, 'pick_buy_design'),\tvalue=-10.839784132255627\n",
      "State=(('ready', 'ready', 'ready', 'ready', 'ready', 'ready', 'ready', 'ready', 'ready', 'ready', 'ready', 'ready', 'ready', 'ready', 'ready', 'ready', 'ready', 'ready', 'ready', 'ready', 'ready', 'ready', 'ready', 'ready', 'ready', 'ready', 'ready', 'ready'), 5, 'pick_phosphor'),\tvalue=-9.755805719030064\n",
      "State=(('ready', 'ready', 'ready', 'ready', 'ready', 'ready', 'ready', 'ready', 'ready', 'ready', 'ready', 'ready', 'ready', 'ready', 'ready', 'ready', 'ready', 'ready', 'ready', 'ready', 'ready', 'ready', 'ready', 'ready', 'ready', 'ready', 'ready', 'ready'), 3, 'pick_wafer'),\tvalue=-9.802202632414353\n",
      "State=(('ready', 'ready', 'ready', 'ready', 'ready', 'ready', 'ready', 'ready', 'ready', 'ready', 'ready', 'ready', 'ready', 'ready', 'ready', 'ready', 'ready', 'ready', 'ready', 'ready', 'ready', 'ready', 'ready', 'ready', 'ready', 'ready', 'ready', 'ready'), 2, 'pick_silicon'),\tvalue=-9.821982369172918\n"
     ]
    }
   ],
   "source": [
    "print_value_function(value_function)"
   ]
  },
  {
   "cell_type": "code",
   "execution_count": 45,
   "metadata": {},
   "outputs": [
    {
     "name": "stdout",
     "output_type": "stream",
     "text": [
      "Q-value function:\n",
      "State=0:\n",
      "\tAction=initial,\tValue=-9.755805719030064\n",
      "\n",
      "State=(('ready', 'ready', 'ready', 'ready', 'ready', 'ready', 'ready', 'ready', 'ready', 'ready', 'ready', 'ready', 'ready', 'ready', 'ready', 'ready', 'ready', 'ready', 'ready', 'ready', 'ready', 'ready', 'ready', 'ready', 'ready', 'ready', 'ready', 'ready'), 0, 'pick_buy_design'):\n",
      "\tAction=0,\tValue=-10.839784132255627\n",
      "\tAction=1,\tValue=-15.639784132255627\n",
      "\tAction=2,\tValue=-20.539784132255626\n",
      "\tAction=3,\tValue=-21.039784132255626\n",
      "\n",
      "State=(('ready', 'ready', 'ready', 'ready', 'ready', 'ready', 'ready', 'ready', 'ready', 'ready', 'ready', 'ready', 'ready', 'ready', 'ready', 'ready', 'ready', 'ready', 'ready', 'ready', 'ready', 'ready', 'ready', 'ready', 'ready', 'ready', 'ready', 'ready'), 2, 'pick_silicon'):\n",
      "\tAction=4,\tValue=-9.821982369172918\n",
      "\tAction=5,\tValue=-20.521982369172918\n",
      "\tAction=6,\tValue=-20.94198236917292\n",
      "\tAction=7,\tValue=-15.981982369172918\n",
      "\tAction=8,\tValue=-10.821982369172918\n",
      "\tAction=9,\tValue=-15.521982369172918\n",
      "\tAction=10,\tValue=-16.421982369172916\n",
      "\tAction=11,\tValue=-23.55198236917292\n",
      "\n",
      "State=(('ready', 'ready', 'ready', 'ready', 'ready', 'ready', 'ready', 'ready', 'ready', 'ready', 'ready', 'ready', 'ready', 'ready', 'ready', 'ready', 'ready', 'ready', 'ready', 'ready', 'ready', 'ready', 'ready', 'ready', 'ready', 'ready', 'ready', 'ready'), 3, 'pick_wafer'):\n",
      "\tAction=12,\tValue=-9.802202632414353\n",
      "\tAction=13,\tValue=-18.90220263241435\n",
      "\tAction=14,\tValue=-19.502202632414352\n",
      "\n",
      "State=(('ready', 'ready', 'ready', 'ready', 'ready', 'ready', 'ready', 'ready', 'ready', 'ready', 'ready', 'ready', 'ready', 'ready', 'ready', 'ready', 'ready', 'ready', 'ready', 'ready', 'ready', 'ready', 'ready', 'ready', 'ready', 'ready', 'ready', 'ready'), 4, 'pick_boron'):\n",
      "\tAction=15,\tValue=-9.780225147127059\n",
      "\tAction=16,\tValue=-20.480225147127058\n",
      "\tAction=17,\tValue=-10.780225147127059\n",
      "\tAction=18,\tValue=-16.58022514712706\n",
      "\tAction=19,\tValue=-19.18022514712706\n",
      "\tAction=20,\tValue=-20.90022514712706\n",
      "\tAction=21,\tValue=-17.33022514712706\n",
      "\tAction=22,\tValue=-15.58022514712706\n",
      "\tAction=23,\tValue=-18.94022514712706\n",
      "\n",
      "State=(('ready', 'ready', 'ready', 'ready', 'ready', 'ready', 'ready', 'ready', 'ready', 'ready', 'ready', 'ready', 'ready', 'ready', 'ready', 'ready', 'ready', 'ready', 'ready', 'ready', 'ready', 'ready', 'ready', 'ready', 'ready', 'ready', 'ready', 'ready'), 5, 'pick_phosphor'):\n",
      "\tAction=24,\tValue=-9.755805719030064\n",
      "\tAction=25,\tValue=-20.455805719030064\n",
      "\tAction=26,\tValue=-16.655805719030063\n",
      "\tAction=27,\tValue=-10.755805719030064\n",
      "\n"
     ]
    }
   ],
   "source": [
    "print_q_value_function(q_value_function)"
   ]
  },
  {
   "cell_type": "markdown",
   "metadata": {},
   "source": [
    "# Second phase - Manufacturing Process\n",
    "## Target Specification\n",
    "The target specification of the second phase is structured as follows:\n"
   ]
  },
  {
   "cell_type": "code",
   "execution_count": 48,
   "metadata": {},
   "outputs": [
    {
     "data": {
      "text/plain": "<IPython.core.display.SVG object>",
      "image/svg+xml": "<svg xmlns=\"http://www.w3.org/2000/svg\" xmlns:xlink=\"http://www.w3.org/1999/xlink\" width=\"2357pt\" height=\"74pt\" viewBox=\"0.00 0.00 2357.00 74.00\">\n<g id=\"graph0\" class=\"graph\" transform=\"scale(1 1) rotate(0) translate(4 70)\">\n<polygon fill=\"white\" stroke=\"none\" points=\"-4,4 -4,-70 2353,-70 2353,4 -4,4\"/>\n<!-- fake -->\n<g id=\"node1\" class=\"node\">\n<title>fake</title>\n</g>\n<!-- 0 -->\n<g id=\"node2\" class=\"node\">\n<title>0</title>\n<polygon fill=\"none\" stroke=\"black\" points=\"145,-36 91,-36 91,0 145,0 145,-36\"/>\n<text text-anchor=\"middle\" x=\"118\" y=\"-14.3\" font-family=\"Times New Roman,serif\" font-size=\"14.00\">0</text>\n</g>\n<!-- fake&#45;&gt;0 -->\n<g id=\"edge1\" class=\"edge\">\n<title>fake-&gt;0</title>\n<path fill=\"none\" stroke=\"black\" stroke-width=\"2\" d=\"M54.22,-18C62.12,-18 70.94,-18 79.43,-18\"/>\n<polygon fill=\"black\" stroke=\"black\" stroke-width=\"2\" points=\"77.63,-21.5 87.63,-18 77.63,-14.5 77.63,-21.5\"/>\n</g>\n<!-- 2 -->\n<g id=\"node3\" class=\"node\">\n<title>2</title>\n<polygon fill=\"none\" stroke=\"black\" points=\"323,-66 269,-66 269,-30 323,-30 323,-66\"/>\n<text text-anchor=\"middle\" x=\"296\" y=\"-44.3\" font-family=\"Times New Roman,serif\" font-size=\"14.00\">2</text>\n</g>\n<!-- 0&#45;&gt;2 -->\n<g id=\"edge2\" class=\"edge\">\n<title>0-&gt;2</title>\n<path fill=\"none\" stroke=\"black\" d=\"M145.35,-22.49C175.11,-27.57 223.79,-35.86 257.51,-41.61\"/>\n<polygon fill=\"black\" stroke=\"black\" points=\"256.82,-45.04 267.27,-43.27 258,-38.14 256.82,-45.04\"/>\n<text text-anchor=\"middle\" x=\"207\" y=\"-42.8\" font-family=\"Times New Roman,serif\" font-size=\"14.00\">cleaning,0.0,1.0</text>\n</g>\n<!-- 3 -->\n<g id=\"node4\" class=\"node\">\n<title>3</title>\n<polygon fill=\"none\" stroke=\"black\" points=\"543,-66 489,-66 489,-30 543,-30 543,-66\"/>\n<text text-anchor=\"middle\" x=\"516\" y=\"-44.3\" font-family=\"Times New Roman,serif\" font-size=\"14.00\">3</text>\n</g>\n<!-- 2&#45;&gt;3 -->\n<g id=\"edge3\" class=\"edge\">\n<title>2-&gt;3</title>\n<path fill=\"none\" stroke=\"black\" d=\"M323.3,-48C361.68,-48 433.25,-48 477.25,-48\"/>\n<polygon fill=\"black\" stroke=\"black\" points=\"477.1,-51.5 487.1,-48 477.1,-44.5 477.1,-51.5\"/>\n<text text-anchor=\"middle\" x=\"406\" y=\"-51.8\" font-family=\"Times New Roman,serif\" font-size=\"14.00\">film_deposition,0.0,1.0</text>\n</g>\n<!-- 4 -->\n<g id=\"node5\" class=\"node\">\n<title>4</title>\n<polygon fill=\"none\" stroke=\"black\" points=\"753,-66 699,-66 699,-30 753,-30 753,-66\"/>\n<text text-anchor=\"middle\" x=\"726\" y=\"-44.3\" font-family=\"Times New Roman,serif\" font-size=\"14.00\">4</text>\n</g>\n<!-- 3&#45;&gt;4 -->\n<g id=\"edge4\" class=\"edge\">\n<title>3-&gt;4</title>\n<path fill=\"none\" stroke=\"black\" d=\"M543.34,-48C579.74,-48 645.61,-48 687.23,-48\"/>\n<polygon fill=\"black\" stroke=\"black\" points=\"687.03,-51.5 697.03,-48 687.03,-44.5 687.03,-51.5\"/>\n<text text-anchor=\"middle\" x=\"621\" y=\"-51.8\" font-family=\"Times New Roman,serif\" font-size=\"14.00\">resist_coating,0.0,1.0</text>\n</g>\n<!-- 5 -->\n<g id=\"node6\" class=\"node\">\n<title>5</title>\n<polygon fill=\"none\" stroke=\"black\" points=\"937,-66 883,-66 883,-30 937,-30 937,-66\"/>\n<text text-anchor=\"middle\" x=\"910\" y=\"-44.3\" font-family=\"Times New Roman,serif\" font-size=\"14.00\">5</text>\n</g>\n<!-- 4&#45;&gt;5 -->\n<g id=\"edge5\" class=\"edge\">\n<title>4-&gt;5</title>\n<path fill=\"none\" stroke=\"black\" d=\"M753.46,-48C784.47,-48 836.06,-48 871.25,-48\"/>\n<polygon fill=\"black\" stroke=\"black\" points=\"870.99,-51.5 880.99,-48 870.99,-44.5 870.99,-51.5\"/>\n<text text-anchor=\"middle\" x=\"818\" y=\"-51.8\" font-family=\"Times New Roman,serif\" font-size=\"14.00\">exposure,0.0,1.0</text>\n</g>\n<!-- 6 -->\n<g id=\"node7\" class=\"node\">\n<title>6</title>\n<polygon fill=\"none\" stroke=\"black\" points=\"1141,-66 1087,-66 1087,-30 1141,-30 1141,-66\"/>\n<text text-anchor=\"middle\" x=\"1114\" y=\"-44.3\" font-family=\"Times New Roman,serif\" font-size=\"14.00\">6</text>\n</g>\n<!-- 5&#45;&gt;6 -->\n<g id=\"edge6\" class=\"edge\">\n<title>5-&gt;6</title>\n<path fill=\"none\" stroke=\"black\" d=\"M937.41,-48C972.57,-48 1034.97,-48 1075.14,-48\"/>\n<polygon fill=\"black\" stroke=\"black\" points=\"1075.07,-51.5 1085.07,-48 1075.07,-44.5 1075.07,-51.5\"/>\n<text text-anchor=\"middle\" x=\"1012\" y=\"-51.8\" font-family=\"Times New Roman,serif\" font-size=\"14.00\">development,0.0,1.0</text>\n</g>\n<!-- 7 -->\n<g id=\"node8\" class=\"node\">\n<title>7</title>\n<polygon fill=\"none\" stroke=\"black\" points=\"1330,-66 1276,-66 1276,-30 1330,-30 1330,-66\"/>\n<text text-anchor=\"middle\" x=\"1303\" y=\"-44.3\" font-family=\"Times New Roman,serif\" font-size=\"14.00\">7</text>\n</g>\n<!-- 6&#45;&gt;7 -->\n<g id=\"edge7\" class=\"edge\">\n<title>6-&gt;7</title>\n<path fill=\"none\" stroke=\"black\" d=\"M1141.4,-48C1173.56,-48 1228.1,-48 1264.58,-48\"/>\n<polygon fill=\"black\" stroke=\"black\" points=\"1264.22,-51.5 1274.22,-48 1264.22,-44.5 1264.22,-51.5\"/>\n<text text-anchor=\"middle\" x=\"1208.5\" y=\"-51.8\" font-family=\"Times New Roman,serif\" font-size=\"14.00\">etching,0.0,1.0</text>\n</g>\n<!-- 8 -->\n<g id=\"node9\" class=\"node\">\n<title>8</title>\n<polygon fill=\"none\" stroke=\"black\" points=\"1592,-66 1538,-66 1538,-30 1592,-30 1592,-66\"/>\n<text text-anchor=\"middle\" x=\"1565\" y=\"-44.3\" font-family=\"Times New Roman,serif\" font-size=\"14.00\">8</text>\n</g>\n<!-- 7&#45;&gt;8 -->\n<g id=\"edge8\" class=\"edge\">\n<title>7-&gt;8</title>\n<path fill=\"none\" stroke=\"black\" d=\"M1330.36,-48C1376.69,-48 1472.85,-48 1526.23,-48\"/>\n<polygon fill=\"black\" stroke=\"black\" points=\"1526.06,-51.5 1536.06,-48 1526.06,-44.5 1526.06,-51.5\"/>\n<text text-anchor=\"middle\" x=\"1434\" y=\"-51.8\" font-family=\"Times New Roman,serif\" font-size=\"14.00\">impurities_implantation,0.0,1.0</text>\n</g>\n<!-- 9 -->\n<g id=\"node10\" class=\"node\">\n<title>9</title>\n<polygon fill=\"none\" stroke=\"black\" points=\"1778,-66 1724,-66 1724,-30 1778,-30 1778,-66\"/>\n<text text-anchor=\"middle\" x=\"1751\" y=\"-44.3\" font-family=\"Times New Roman,serif\" font-size=\"14.00\">9</text>\n</g>\n<!-- 8&#45;&gt;9 -->\n<g id=\"edge9\" class=\"edge\">\n<title>8-&gt;9</title>\n<path fill=\"none\" stroke=\"black\" d=\"M1592.36,-48C1623.79,-48 1676.53,-48 1712.27,-48\"/>\n<polygon fill=\"black\" stroke=\"black\" points=\"1712.17,-51.5 1722.17,-48 1712.17,-44.5 1712.17,-51.5\"/>\n<text text-anchor=\"middle\" x=\"1658\" y=\"-51.8\" font-family=\"Times New Roman,serif\" font-size=\"14.00\">activation,0.0,1.0</text>\n</g>\n<!-- 10 -->\n<g id=\"node11\" class=\"node\">\n<title>10</title>\n<polygon fill=\"none\" stroke=\"black\" points=\"1996,-66 1942,-66 1942,-30 1996,-30 1996,-66\"/>\n<text text-anchor=\"middle\" x=\"1969\" y=\"-44.3\" font-family=\"Times New Roman,serif\" font-size=\"14.00\">10</text>\n</g>\n<!-- 9&#45;&gt;10 -->\n<g id=\"edge10\" class=\"edge\">\n<title>9-&gt;10</title>\n<path fill=\"none\" stroke=\"black\" d=\"M1778.49,-48C1816.48,-48 1886.66,-48 1930.13,-48\"/>\n<polygon fill=\"black\" stroke=\"black\" points=\"1930.12,-51.5 1940.12,-48 1930.12,-44.5 1930.12,-51.5\"/>\n<text text-anchor=\"middle\" x=\"1860\" y=\"-51.8\" font-family=\"Times New Roman,serif\" font-size=\"14.00\">resist_stripping,0.0,1.0</text>\n</g>\n<!-- 11 -->\n<g id=\"node12\" class=\"node\">\n<title>11</title>\n<polygon fill=\"none\" stroke=\"black\" points=\"2180,-66 2126,-66 2126,-30 2180,-30 2180,-66\"/>\n<text text-anchor=\"middle\" x=\"2153\" y=\"-44.3\" font-family=\"Times New Roman,serif\" font-size=\"14.00\">11</text>\n</g>\n<!-- 10&#45;&gt;11 -->\n<g id=\"edge11\" class=\"edge\">\n<title>10-&gt;11</title>\n<path fill=\"none\" stroke=\"black\" d=\"M1996.46,-48C2027.47,-48 2079.06,-48 2114.25,-48\"/>\n<polygon fill=\"black\" stroke=\"black\" points=\"2113.99,-51.5 2123.99,-48 2113.99,-44.5 2113.99,-51.5\"/>\n<text text-anchor=\"middle\" x=\"2061\" y=\"-51.8\" font-family=\"Times New Roman,serif\" font-size=\"14.00\">assembly,0.0,1.0</text>\n</g>\n<!-- 12 -->\n<g id=\"node13\" class=\"node\">\n<title>12</title>\n<polygon fill=\"none\" stroke=\"black\" points=\"2349,-36 2295,-36 2295,0 2349,0 2349,-36\"/>\n<text text-anchor=\"middle\" x=\"2322\" y=\"-14.3\" font-family=\"Times New Roman,serif\" font-size=\"14.00\">12</text>\n</g>\n<!-- 11&#45;&gt;12 -->\n<g id=\"edge12\" class=\"edge\">\n<title>11-&gt;12</title>\n<path fill=\"none\" stroke=\"black\" d=\"M2180.46,-43.25C2208.31,-38.24 2252.38,-30.33 2283.74,-24.69\"/>\n<polygon fill=\"black\" stroke=\"black\" points=\"2283.95,-28.21 2293.17,-23 2282.71,-21.32 2283.95,-28.21\"/>\n<text text-anchor=\"middle\" x=\"2237.5\" y=\"-42.8\" font-family=\"Times New Roman,serif\" font-size=\"14.00\">testing,0.0,1.0</text>\n</g>\n<!-- 12&#45;&gt;0 -->\n<g id=\"edge13\" class=\"edge\">\n<title>12-&gt;0</title>\n<path fill=\"none\" stroke=\"black\" d=\"M2294.75,-13.92C2261.92,-9.18 2203.95,-2 2154,-2 295,-2 295,-2 295,-2 247.17,-2 192.34,-7.93 156.76,-12.57\"/>\n<polygon fill=\"black\" stroke=\"black\" points=\"156.42,-9.09 146.97,-13.88 157.35,-16.02 156.42,-9.09\"/>\n<text text-anchor=\"middle\" x=\"1208.5\" y=\"-5.8\" font-family=\"Times New Roman,serif\" font-size=\"14.00\">packaging,1.0,1.0</text>\n</g>\n</g>\n</svg>"
     },
     "metadata": {},
     "output_type": "display_data"
    }
   ],
   "source": [
    "formula_str = \"<\"\n",
    "regex_seq = \"\"\n",
    "for symbol_index, symbol in enumerate(SYMBOLS_PHASE_2):\n",
    "    all_but_symbol = set(SYMBOLS_PHASE_1).difference({symbol})\n",
    "    item = symbol + \"&\" + \" & \".join(map(lambda x: \"!\" + x, all_but_symbol))\n",
    "    regex_seq = regex_seq + (\";\" if symbol_index != 0 else \"\") + item\n",
    "formula_str = f\"<({regex_seq})*>end\"\n",
    "formula = pylogics.parsers.ldl.parse_ldl(formula_str)\n",
    "automaton = logaut.core.ldl2dfa(formula, backend=\"lydia\")\n",
    "declare_automaton = from_symbolic_automaton_to_declare_automaton(automaton, set(SYMBOLS_PHASE_2))\n",
    "render_mdp_dfa(mdp_from_dfa(declare_automaton), no_sink=True)"
   ]
  },
  {
   "cell_type": "code",
   "execution_count": null,
   "metadata": {},
   "outputs": [],
   "source": [
    "all_services = [\n",
    "    # 0\n",
    "    cleaning_service(CLEANING_SERVICE_NAME, DEFAULT_BROKEN_PROB, DEFAULT_BROKEN_REWARD, DEFAULT_USA_REWARD),\n",
    "    # 1\n",
    "    cleaning_human_service(CLEANING_HUMAN_SERVICE_NAME, USA_REWARD),\n",
    "    # 2\n",
    "    film_deposition_service(FILM_DEPOSITION1_SERVICE_NAME, DEFAULT_BROKEN_PROB, DEFAULT_UNEMPLOYABLE_PROB, DEFAULT_BROKEN_REWARD, DEFAULT_USA_REWARD),\n",
    "    # 3\n",
    "    film_deposition_service(FILM_DEPOSITION2_SERVICE_NAME, BROKEN_PROB, HIGH_UNEMPLOYABLE_PROB, DEFAULT_BROKEN_REWARD, USA_REWARD),\n",
    "    # 4\n",
    "    resist_coating_service(RESIST_COATING1_SERVICE_NAME, DEFAULT_BROKEN_PROB, DEFAULT_UNEMPLOYABLE_PROB, DEFAULT_BROKEN_REWARD, DEFAULT_USA_REWARD),\n",
    "    # 5\n",
    "    resist_coating_service(RESIST_COATING2_SERVICE_NAME, DEFAULT_BROKEN_PROB, DEFAULT_UNEMPLOYABLE_PROB, DEFAULT_BROKEN_REWARD, USA_REWARD),\n",
    "    # 6\n",
    "    exposure_service(EXPOSURE_SERVICE_NAME, DEFAULT_BROKEN_PROB, DEFAULT_BROKEN_REWARD, DEFAULT_USA_REWARD),\n",
    "    # 7\n",
    "    exposure_human_service(EXPOSURE_HUMAN_SERVICE_NAME, USA_REWARD),\n",
    "    # 8\n",
    "    development_service(DEVELOPMENT1_SERVICE_NAME, DEFAULT_BROKEN_PROB, DEFAULT_UNEMPLOYABLE_PROB, DEFAULT_BROKEN_REWARD, DEFAULT_USA_REWARD),\n",
    "    # 9\n",
    "    development_service(DEVELOPMENT2_SERVICE_NAME, BROKEN_PROB, DEFAULT_UNEMPLOYABLE_PROB, DEFAULT_BROKEN_REWARD, HIGH_USA_REWARD),\n",
    "    # 10\n",
    "    etching_service(ETCHING1_SERVICE_NAME, DEFAULT_BROKEN_PROB, DEFAULT_BROKEN_REWARD, DEFAULT_USA_REWARD),\n",
    "    # 11\n",
    "    etching_service(ETCHING2_SERVICE_NAME, BROKEN_PROB, DEFAULT_BROKEN_REWARD, HIGH_USA_REWARD),\n",
    "    # 12\n",
    "    impurities_implantation_service(IMPURITIES_IMPLANTATION1_SERVICE_NAME, DEFAULT_BROKEN_PROB, DEFAULT_UNEMPLOYABLE_PROB,DEFAULT_BROKEN_REWARD, DEFAULT_USA_REWARD),\n",
    "    # 13\n",
    "    impurities_implantation_service(IMPURITIES_IMPLANTATION2_SERVICE_NAME, DEFAULT_BROKEN_PROB, DEFAULT_UNEMPLOYABLE_PROB, DEFAULT_BROKEN_REWARD, HIGH_USA_REWARD),\n",
    "    # 14\n",
    "    activation_human_service(ASSEMBLY_HUMAN_SERVICE_NAME, USA_REWARD),\n",
    "    # 15\n",
    "    activation_service(ASSEMBLY_SERVICE_NAME, DEFAULT_BROKEN_PROB, DEFAULT_BROKEN_REWARD, DEFAULT_USA_REWARD),\n",
    "    # 16\n",
    "    resist_stripping_service(RESIST_STRIPPING1_SERVICE_NAME, DEFAULT_BROKEN_PROB, DEFAULT_BROKEN_REWARD, DEFAULT_USA_REWARD),\n",
    "    # 17\n",
    "    resist_stripping_service(RESIST_STRIPPING2_SERVICE_NAME, BROKEN_PROB, DEFAULT_BROKEN_REWARD, DEFAULT_USA_REWARD),\n",
    "    # 18\n",
    "    assembly_human_service(ASSEMBLY_HUMAN_SERVICE_NAME, USA_REWARD),\n",
    "    # 19\n",
    "    assembly_service(ASSEMBLY_SERVICE_NAME, DEFAULT_BROKEN_PROB, DEFAULT_BROKEN_REWARD, DEFAULT_USA_REWARD),\n",
    "    # 20\n",
    "    testing_human_service(ASSEMBLY_HUMAN_SERVICE_NAME, USA_REWARD),\n",
    "    # 21\n",
    "    testing_service(ASSEMBLY_SERVICE_NAME, DEFAULT_BROKEN_PROB, DEFAULT_BROKEN_REWARD, DEFAULT_USA_REWARD),\n",
    "    # 22\n",
    "    packaging_human_service(ASSEMBLY_HUMAN_SERVICE_NAME, USA_REWARD),\n",
    "    # 23\n",
    "    packaging_service(ASSEMBLY_SERVICE_NAME, DEFAULT_BROKEN_PROB, DEFAULT_BROKEN_REWARD, DEFAULT_USA_REWARD)\n",
    "]\n",
    "trimmed_declare_automaton = declare_automaton.trim()\n",
    "stochastic_target = target_from_dfa(trimmed_declare_automaton)\n",
    "#mdp = comp_mdp(declare_automaton, all_services, gamma=0.9)\n",
    "mdp = composition_mdp(stochastic_target, *all_services, gamma=0.9)\n",
    "render_composition_mdp(mdp)"
   ]
  },
  {
   "cell_type": "markdown",
   "source": [
    "# Optimal policy\n",
    "Calculation of optimal policy:"
   ],
   "metadata": {
    "collapsed": false
   }
  },
  {
   "cell_type": "code",
   "execution_count": null,
   "metadata": {},
   "outputs": [],
   "source": [
    "opn = DPAnalytic(mdp, 1e-4)\n",
    "opt_policy = opn.get_optimal_policy_vi()\n",
    "value_function = opn.get_value_func_dict(opt_policy)\n",
    "q_value_function = opn.get_act_value_func_dict(opt_policy)"
   ]
  },
  {
   "cell_type": "code",
   "execution_count": null,
   "metadata": {},
   "outputs": [],
   "source": [
    "print_policy_data(opt_policy)"
   ]
  },
  {
   "cell_type": "markdown",
   "source": [
    "# Value Function\n",
    "Calculation of Value Function:"
   ],
   "metadata": {
    "collapsed": false
   }
  },
  {
   "cell_type": "code",
   "execution_count": null,
   "metadata": {},
   "outputs": [],
   "source": [
    "print_value_function(value_function)"
   ]
  },
  {
   "cell_type": "code",
   "execution_count": null,
   "metadata": {},
   "outputs": [],
   "source": [
    "print_q_value_function(q_value_function)"
   ]
  }
 ],
 "metadata": {
  "kernelspec": {
   "display_name": "Python 3 (ipykernel)",
   "language": "python",
   "name": "python3"
  },
  "language_info": {
   "codemirror_mode": {
    "name": "ipython",
    "version": 3
   },
   "file_extension": ".py",
   "mimetype": "text/x-python",
   "name": "python",
   "nbconvert_exporter": "python",
   "pygments_lexer": "ipython3",
   "version": "3.10.9"
  }
 },
 "nbformat": 4,
 "nbformat_minor": 1
}
