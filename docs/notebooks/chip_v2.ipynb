{
 "cells": [
  {
   "cell_type": "code",
   "execution_count": 2,
   "id": "a61650b0",
   "metadata": {
    "scrolled": true
   },
   "outputs": [],
   "source": [
    "%load_ext autoreload\n",
    "%autoreload 2\n",
    "\n",
    "import time, json\n",
    "from datetime import datetime\n",
    "import os\n",
    "\n",
    "from stochastic_service_composition.services import build_service_from_transitions, Service\n",
    "from stochastic_service_composition.target import build_target_from_transitions\n",
    "from stochastic_service_composition.dfa_target import mdp_from_dfa\n",
    "from stochastic_service_composition.declare_utils import *\n",
    "from stochastic_service_composition.composition_mdp import composition_mdp\n",
    "from stochastic_service_composition.composition_mdp import comp_mdp\n",
    "from stochastic_service_composition.dfa_target import from_symbolic_automaton_to_declare_automaton\n",
    "\n",
    "from docs.notebooks.utils import render_mdp_dfa\n",
    "import logaut\n",
    "import pylogics.parsers.ldl\n",
    "from mdp_dp_rl.algorithms.dp.dp_analytic import DPAnalytic\n",
    "\n",
    "def target_service_ltlf(constraints, symbols):\n",
    "    constraints.append(build_declare_assumption(symbols))\n",
    "    formula_str = \" & \".join(map(lambda s: f\"({s})\", constraints))\n",
    "    formula = pylogics.parsers.parse_ltl(formula_str)\n",
    "    automaton = logaut.core.ltl2dfa(formula, backend=\"lydia\")\n",
    "    declare_automaton = from_symbolic_automaton_to_declare_automaton(automaton, symbols)\n",
    "    return declare_automaton"
   ]
  },
  {
   "cell_type": "markdown",
   "id": "39c0af84",
   "metadata": {},
   "source": [
    "### Actions definition"
   ]
  },
  {
   "cell_type": "code",
   "execution_count": 4,
   "id": "4f695630",
   "metadata": {},
   "outputs": [],
   "source": [
    "PICK_DESIGN = \"p_d\"\n",
    "PICK_SILICON = \"p_s\"\n",
    "PICK_IMPURITIES = \"p_i\"\n",
    "PICK_RESIST = \"p_r\"\n",
    "PICK_CHEMICALS = \"p_c\"\n",
    "MASK_CREATION = \"cr_m\"\n",
    "PHOTOLITOGRAPHY = \"ph_l\"\n",
    "ETCHING = \"et\"\n",
    "DEPOSITION = \"dep\"\n",
    "ION_IMPLANTATION = \"ion_i\"\n",
    "PROCESSING = \"proc\"\n",
    "TESTING = \"tes\"\n",
    "TESTING_GRAPHICS = \"tes_gr\"\n",
    "QUALITY = \"qual\"\n",
    "QUALITY_GRAPHICS = \"qual_gr\"\n",
    "DICING = \"dic\"\n",
    "CLASSIC_PACKAGING = \"pac\"  \n",
    "THERMAL_PACKAGING = \"pac_t\""
   ]
  },
  {
   "cell_type": "markdown",
   "id": "0ee8cb21",
   "metadata": {},
   "source": [
    "#### Symbols"
   ]
  },
  {
   "cell_type": "code",
   "execution_count": 7,
   "id": "2e9c0153",
   "metadata": {},
   "outputs": [],
   "source": [
    "ALL_SYMBOLS = [\n",
    "    PICK_DESIGN,\n",
    "    PICK_SILICON,\n",
    "    PICK_IMPURITIES,\n",
    "    PICK_RESIST,\n",
    "    PICK_CHEMICALS,\n",
    "    MASK_CREATION,\n",
    "    PHOTOLITOGRAPHY,\n",
    "    ETCHING,\n",
    "    ION_IMPLANTATION,\n",
    "    TESTING,\n",
    "    TESTING_GRAPHICS,\n",
    "    DICING,\n",
    "    CLASSIC_PACKAGING,\n",
    "    THERMAL_PACKAGING\n",
    "]\n",
    "\n",
    "ALL_SYMBOLS_SET = set(ALL_SYMBOLS)"
   ]
  },
  {
   "cell_type": "code",
   "execution_count": 8,
   "id": "b80f9f0b",
   "metadata": {},
   "outputs": [],
   "source": [
    "# declare process specification\n",
    "declare_constraints = [\n",
    "    exactly_once(PICK_DESIGN),\n",
    "    exactly_once(PICK_SILICON),\n",
    "    exactly_once(PICK_IMPURITIES),\n",
    "    exactly_once(PICK_RESIST),\n",
    "    exactly_once(PICK_CHEMICALS),\n",
    "    exactly_once(MASK_CREATION),\n",
    "    exactly_once(PHOTOLITOGRAPHY),\n",
    "    exactly_once(ETCHING),\n",
    "    exactly_once(ION_IMPLANTATION),\n",
    "    exactly_once(DICING),\n",
    "    \n",
    "    absence_2(TESTING),\n",
    "    absence_2(TESTING_GRAPHICS),\n",
    "    absence_2(THERMAL_PACKAGING),\n",
    "    absence_2(CLASSIC_PACKAGING),\n",
    "    \n",
    "    alt_succession(PICK_DESIGN, MASK_CREATION),\n",
    "    alt_succession(PICK_SILICON, MASK_CREATION),\n",
    "    alt_succession(PICK_IMPURITIES, MASK_CREATION),\n",
    "    alt_succession(PICK_RESIST, MASK_CREATION),\n",
    "    alt_succession(PICK_CHEMICALS, MASK_CREATION),\n",
    "    \n",
    "    alt_succession(MASK_CREATION, PHOTOLITOGRAPHY),\n",
    "    alt_succession(PHOTOLITOGRAPHY, ETCHING),\n",
    "    alt_succession(ETCHING, ION_IMPLANTATION),\n",
    "    \n",
    "    alt_precedence(ION_IMPLANTATION, TESTING),\n",
    "    alt_precedence(ION_IMPLANTATION, TESTING_GRAPHICS),\n",
    "    \n",
    "    alt_response(TESTING, DICING),\n",
    "    alt_response(TESTING_GRAPHICS, DICING),\n",
    "    precedence_or(TESTING, TESTING_GRAPHICS, DICING),\n",
    "    \n",
    "    alt_precedence(DICING, CLASSIC_PACKAGING),\n",
    "    alt_precedence(DICING, THERMAL_PACKAGING),\n",
    "    \n",
    "    not_coexistence(TESTING, TESTING_GRAPHICS),\n",
    "    not_coexistence(QUALITY, QUALITY_GRAPHICS),\n",
    "    not_coexistence(CLASSIC_PACKAGING, THERMAL_PACKAGING),\n",
    "    \n",
    "    build_declare_assumption(ALL_SYMBOLS_SET)\n",
    "]"
   ]
  },
  {
   "cell_type": "code",
   "execution_count": null,
   "id": "4da6c16d",
   "metadata": {
    "scrolled": false
   },
   "outputs": [],
   "source": [
    "declare_automaton = target_service_ltlf(declare_constraints, ALL_SYMBOLS_SET)\n",
    "render_mdp_dfa(mdp_from_dfa(declare_automaton), no_sink=True)"
   ]
  }
 ],
 "metadata": {
  "kernelspec": {
   "display_name": "Python 3 (ipykernel)",
   "language": "python",
   "name": "python3"
  },
  "language_info": {
   "codemirror_mode": {
    "name": "ipython",
    "version": 3
   },
   "file_extension": ".py",
   "mimetype": "text/x-python",
   "name": "python",
   "nbconvert_exporter": "python",
   "pygments_lexer": "ipython3",
   "version": "3.10.12"
  }
 },
 "nbformat": 4,
 "nbformat_minor": 5
}
